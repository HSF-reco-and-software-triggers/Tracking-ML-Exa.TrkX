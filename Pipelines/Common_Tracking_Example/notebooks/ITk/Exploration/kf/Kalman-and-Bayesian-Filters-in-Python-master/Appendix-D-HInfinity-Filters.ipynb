{
 "cells": [
  {
   "cell_type": "markdown",
   "metadata": {},
   "source": [
    "[Table of Contents](./table_of_contents.ipynb)"
   ]
  },
  {
   "cell_type": "markdown",
   "metadata": {},
   "source": [
    "# H Infinity filter"
   ]
  },
  {
   "cell_type": "code",
   "execution_count": 1,
   "metadata": {},
   "outputs": [],
   "source": [
    "%matplotlib inline"
   ]
  },
  {
   "cell_type": "code",
   "execution_count": 2,
   "metadata": {},
   "outputs": [
    {
     "data": {
      "text/html": [
       "\n",
       "        <style>\n",
       "        .output_wrapper, .output {\n",
       "            height:auto !important;\n",
       "            max-height:100000px; \n",
       "        }\n",
       "        .output_scroll {\n",
       "            box-shadow:none !important;\n",
       "            webkit-box-shadow:none !important;\n",
       "        }\n",
       "        </style>\n",
       "    "
      ],
      "text/plain": [
       "<IPython.core.display.HTML object>"
      ]
     },
     "execution_count": 2,
     "metadata": {},
     "output_type": "execute_result"
    }
   ],
   "source": [
    "#format the book\n",
    "import book_format\n",
    "book_format.set_style()"
   ]
  },
  {
   "cell_type": "markdown",
   "metadata": {},
   "source": [
    "I am still mulling over how to write this chapter. In the meantime, Professor Dan Simon at Cleveland State University has an accessible introduction here:\n",
    "\n",
    "http://academic.csuohio.edu/simond/courses/eec641/hinfinity.pdf\n",
    "\n",
    "In one sentence the $H_\\infty$ (H infinity) filter is like a Kalman filter, but it is robust in the face of non-Gaussian, non-predictable inputs.\n",
    "\n",
    "\n",
    "My FilterPy library contains an H-Infinity filter. I've pasted some test code below which implements the filter designed by Simon in the article above. Hope it helps."
   ]
  },
  {
   "cell_type": "code",
   "execution_count": 1,
   "metadata": {},
   "outputs": [
    {
     "data": {
      "image/png": "[encoded data removed]",
      "text/plain": [
       "<Figure size 432x288 with 2 Axes>"
      ]
     },
     "metadata": {
      "needs_background": "light"
     },
     "output_type": "display_data"
    }
   ],
   "source": [
    "import numpy as np\n",
    "import matplotlib.pyplot as plt\n",
    "\n",
    "from filterpy.hinfinity import HInfinityFilter\n",
    "\n",
    "dt = 0.1\n",
    "f = HInfinityFilter(2, 1, dim_u=1, gamma=.01)\n",
    "\n",
    "f.F = np.array([[1., dt],\n",
    "                [0., 1.]])\n",
    "\n",
    "f.H = np.array([[0., 1.]])\n",
    "f.G = np.array([[dt**2 / 2, dt]]).T\n",
    "\n",
    "f.P = 0.01\n",
    "f.W = np.array([[0.0003, 0.005],\n",
    "                [0.0050, 0.100]])/ 1000  #process noise\n",
    "\n",
    "f.V = 0.01\n",
    "f.Q = 0.01\n",
    "u = 1. #acceleration of 1 f/sec**2\n",
    "\n",
    "xs = []\n",
    "vs = []\n",
    "\n",
    "for i in range(1,40):\n",
    "    f.update (5)\n",
    "    #print(f.x.T)\n",
    "    xs.append(f.x[0,0])\n",
    "    vs.append(f.x[1,0])\n",
    "    f.predict(u=u)\n",
    "\n",
    "plt.subplot(211)\n",
    "plt.plot(xs)\n",
    "plt.title('position')\n",
    "plt.subplot(212)\n",
    "plt.plot(vs) \n",
    "plt.title('velocity');"
   ]
  }
 ],
 "metadata": {
  "anaconda-cloud": {},
  "kernelspec": {
   "display_name": "Python 3",
   "language": "python",
   "name": "python3"
  },
  "language_info": {
   "codemirror_mode": {
    "name": "ipython",
    "version": 3
   },
   "file_extension": ".py",
   "mimetype": "text/x-python",
   "name": "python",
   "nbconvert_exporter": "python",
   "pygments_lexer": "ipython3",
   "version": "3.7.4"
  }
 },
 "nbformat": 4,
 "nbformat_minor": 4
}
