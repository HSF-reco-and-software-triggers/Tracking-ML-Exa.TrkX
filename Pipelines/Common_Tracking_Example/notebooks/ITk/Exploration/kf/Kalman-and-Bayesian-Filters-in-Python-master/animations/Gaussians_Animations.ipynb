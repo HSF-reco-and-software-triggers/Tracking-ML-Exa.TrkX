{
 "cells": [
  {
   "cell_type": "code",
   "execution_count": 1,
   "metadata": {},
   "outputs": [
    {
     "data": {
      "text/html": [
       "\n",
       "        <style>\n",
       "        .output_wrapper, .output {\n",
       "            height:auto !important;\n",
       "            max-height:100000px;\n",
       "        }\n",
       "        .output_scroll {\n",
       "            box-shadow:none !important;\n",
       "            webkit-box-shadow:none !important;\n",
       "        }\n",
       "        </style>\n",
       "    "
      ],
      "text/plain": [
       "<IPython.core.display.HTML object>"
      ]
     },
     "execution_count": 1,
     "metadata": {},
     "output_type": "execute_result"
    }
   ],
   "source": [
    "%matplotlib inline\n",
    "import sys\n",
    "sys.path.insert(0,'..') # allow us to format the book\n",
    "\n",
    "# use same formatting as rest of book so that the plots are\n",
    "# consistant with that look and feel.\n",
    "import book_format\n",
    "book_format.set_style()"
   ]
  },
  {
   "cell_type": "code",
   "execution_count": 3,
   "metadata": {
    "scrolled": true
   },
   "outputs": [
    {
     "data": {
      "image/png": "[encoded data removed]",
      "text/plain": [
       "<Figure size 600x400 with 1 Axes>"
      ]
     },
     "metadata": {},
     "output_type": "display_data"
    }
   ],
   "source": [
    "import numpy as np\n",
    "import matplotlib.pyplot as plt\n",
    "from kf_book.gif_animate import animate\n",
    "from stats import gaussian\n",
    "import matplotlib.pylab as pylab\n",
    "from matplotlib import animation\n",
    "import matplotlib\n",
    "\n",
    "def plt_g (mu, variance):\n",
    "    xs = np.arange(2,8,0.05)\n",
    "    ys = [gaussian (x, mu, variance) for x in xs]\n",
    "    plt.plot (xs, ys)\n",
    "    plt.ylim((0,1))\n",
    "\n",
    "\n",
    "mu = 2\n",
    "sigma = 0.6\n",
    "def ganimate(frame):\n",
    "    global mu, sigma\n",
    "    if frame < 25:\n",
    "        mu += .2\n",
    "    elif frame == 25:\n",
    "        mu = 5\n",
    "    elif frame < 37:\n",
    "        sigma -= 0.05\n",
    "    else:\n",
    "        sigma += 0.05\n",
    "\n",
    "    plt.cla()\n",
    "    plt_g(mu,sigma)\n",
    "\n",
    "animate('04_gaussian_animate.gif', ganimate, \n",
    "        frames=80, interval=50, figsize=(6,4))"
   ]
  },
  {
   "cell_type": "markdown",
   "metadata": {},
   "source": [
    "<img src='04_gaussian_animate.gif'>"
   ]
  }
 ],
 "metadata": {
  "kernelspec": {
   "display_name": "Python 3",
   "language": "python",
   "name": "python3"
  },
  "language_info": {
   "codemirror_mode": {
    "name": "ipython",
    "version": 3
   },
   "file_extension": ".py",
   "mimetype": "text/x-python",
   "name": "python",
   "nbconvert_exporter": "python",
   "pygments_lexer": "ipython3",
   "version": "3.7.4"
  }
 },
 "nbformat": 4,
 "nbformat_minor": 1
}
