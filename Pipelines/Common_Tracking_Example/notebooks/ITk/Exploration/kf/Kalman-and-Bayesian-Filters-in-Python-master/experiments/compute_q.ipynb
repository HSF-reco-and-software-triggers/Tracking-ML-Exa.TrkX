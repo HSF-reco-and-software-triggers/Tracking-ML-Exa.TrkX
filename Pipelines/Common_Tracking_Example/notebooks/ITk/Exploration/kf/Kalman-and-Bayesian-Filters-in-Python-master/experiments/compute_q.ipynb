{
 "metadata": {
  "name": "",
  "signature": "sha256:72ca7769e63a40b2f7f89ae8f816dcd0df3658bb19519d8c95b2f6a5e99413ec"
 },
 "nbformat": 3,
 "nbformat_minor": 0,
 "worksheets": [
  {
   "cells": [
    {
     "cell_type": "code",
     "collapsed": false,
     "input": [
      "from sympy import Symbol, Matrix\n",
      "from sympy.interactive import printing\n",
      "printing.init_printing()\n",
      "\n",
      "dt = Symbol('\\Delta t')\n",
      "\n",
      "Q = Matrix([[.5*dt**2], [.5*dt**2], [dt], [dt]])\n",
      "Q*Q.T\n",
      "\n",
      "\n",
      "Q = Matrix([[.5*dt**2], [dt]])\n",
      "Q*Q.T"
     ],
     "language": "python",
     "metadata": {},
     "outputs": [
      {
       "latex": [
        "$$\\left[\\begin{matrix}0.25 \\Delta t^{4} & 0.5 \\Delta t^{3}\\\\0.5 \\Delta t^{3} & \\Delta t^{2}\\end{matrix}\\right]$$"
       ],
       "metadata": {},
       "output_type": "pyout",
       "png": "[encoded data removed]",
       "prompt_number": 8,
       "text": [
        "\u23a1             4              3\u23a4\n",
        "\u23a20.25\u22c5\\Delta t   0.5\u22c5\\Delta t \u23a5\n",
        "\u23a2                             \u23a5\n",
        "\u23a2            3             2  \u23a5\n",
        "\u23a30.5\u22c5\\Delta t      \\Delta t   \u23a6"
       ]
      }
     ],
     "prompt_number": 8
    }
   ],
   "metadata": {}
  }
 ]
}