{
 "metadata": {
  "name": "",
  "signature": "sha256:cfd803b3edb531968a1e9983b9d281824050b61d08da023ead5045daf7c8c4e7"
 },
 "nbformat": 3,
 "nbformat_minor": 0,
 "worksheets": [
  {
   "cells": [
    {
     "cell_type": "code",
     "collapsed": false,
     "input": [
      "import sympy\n",
      "from sympy import Symbol\n",
      "\n",
      "from sympy.abc import x, g, b\n",
      "\n",
      "xdd = (0.0034*g*sympy.exp(-x/22000)*sympy.diff(x)**2) / (2*b) - g\n",
      "y=sympy.symbols('y',cls=sympy.Function)\n",
      "\n",
      "xdd = sympy.diff(y(x), x, x) - (0.0034*g*sympy.exp(-x/22000)*sympy.diff(x)**2)  + g\n",
      "\n",
      "\n",
      "sympy.pprint(xdd)\n"
     ],
     "language": "python",
     "metadata": {},
     "outputs": [
      {
       "output_type": "stream",
       "stream": "stdout",
       "text": [
        "               -x              \n",
        "              \u2500\u2500\u2500\u2500\u2500     2      \n",
        "              22000    d       \n",
        "g - 0.0034\u22c5g\u22c5\u212f      + \u2500\u2500\u2500(y(x))\n",
        "                        2      \n",
        "                      dx       \n"
       ]
      }
     ],
     "prompt_number": 10
    }
   ],
   "metadata": {}
  }
 ]
}