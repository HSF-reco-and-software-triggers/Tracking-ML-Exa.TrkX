{
 "cells": [
  {
   "cell_type": "code",
   "execution_count": 1,
   "id": "e09f8713-2559-4404-a577-0b178f891bfa",
   "metadata": {},
   "outputs": [],
   "source": [
    "import math\n",
    "import numpy as np\n",
    "from numpy.random import randn\n",
    "\n",
    "def compute_dog_data(z_var, process_var, count=1, dt=1.):\n",
    "    \"returns track, measurements 1D ndarrays\"\n",
    "    x, vel = 0., 1.\n",
    "    z_std = math.sqrt(z_var) \n",
    "    p_std = math.sqrt(process_var)\n",
    "    xs, zs = [], []\n",
    "    for _ in range(count):\n",
    "        v = vel + (randn() * p_std)\n",
    "        x += v*dt        \n",
    "        xs.append(x)\n",
    "        zs.append(x + randn() * z_std)        \n",
    "    return np.array(xs), np.array(zs)"
   ]
  },
  {
   "cell_type": "code",
   "execution_count": 2,
   "id": "433d6da3-1658-474f-9d61-6414797f8e5d",
   "metadata": {},
   "outputs": [
    {
     "data": {
      "text/plain": [
       "array([[10. ],\n",
       "       [ 4.5]])"
      ]
     },
     "execution_count": 2,
     "metadata": {},
     "output_type": "execute_result"
    }
   ],
   "source": [
    "x = np.array([[10.0],\n",
    "              [4.5]])\n",
    "x"
   ]
  },
  {
   "cell_type": "code",
   "execution_count": 3,
   "id": "b051d441-de52-41d8-8faf-1df8b4b41450",
   "metadata": {},
   "outputs": [
    {
     "data": {
      "text/plain": [
       "array([10. ,  4.5])"
      ]
     },
     "execution_count": 3,
     "metadata": {},
     "output_type": "execute_result"
    }
   ],
   "source": [
    "x = np.array([10.0, 4.5])\n",
    "x"
   ]
  },
  {
   "cell_type": "code",
   "execution_count": 4,
   "id": "c7f272a4-8355-49cc-8190-37941de48e03",
   "metadata": {},
   "outputs": [
    {
     "data": {
      "text/plain": [
       "array([[500.,   0.],\n",
       "       [  0.,  49.]])"
      ]
     },
     "execution_count": 4,
     "metadata": {},
     "output_type": "execute_result"
    }
   ],
   "source": [
    "P = np.diag([500., 49.])\n",
    "P"
   ]
  },
  {
   "cell_type": "code",
   "execution_count": 5,
   "id": "ec901f97-127d-464f-8b41-a68fef5d1366",
   "metadata": {},
   "outputs": [
    {
     "data": {
      "text/plain": [
       "array([[1. , 0.1],\n",
       "       [0. , 1. ]])"
      ]
     },
     "execution_count": 5,
     "metadata": {},
     "output_type": "execute_result"
    }
   ],
   "source": [
    "\n",
    "\n",
    "dt = 0.1\n",
    "F = np.array([[1, dt],\n",
    "              [0, 1]])\n",
    "F\n",
    "\n"
   ]
  },
  {
   "cell_type": "code",
   "execution_count": 6,
   "id": "c50db783-1730-484e-aff6-208fa6613c05",
   "metadata": {},
   "outputs": [
    {
     "name": "stdout",
     "output_type": "stream",
     "text": [
      "x = [10.45  4.5 ]\n"
     ]
    }
   ],
   "source": [
    "from filterpy.kalman import predict\n",
    "\n",
    "x = np.array([10.0, 4.5])\n",
    "P = np.diag([500, 49])\n",
    "F = np.array([[1, dt], [0, 1]])\n",
    "\n",
    "# Q is the process noise\n",
    "x, P = predict(x=x, P=P, F=F, Q=0)\n",
    "print('x =', x)"
   ]
  },
  {
   "cell_type": "code",
   "execution_count": 7,
   "id": "9e8cfc10-eb8d-41eb-b669-bf4a8bbd2204",
   "metadata": {},
   "outputs": [
    {
     "name": "stdout",
     "output_type": "stream",
     "text": [
      "x = [10.9  4.5]\n",
      "x = [11.35  4.5 ]\n",
      "x = [11.8  4.5]\n",
      "x = [12.25  4.5 ]\n"
     ]
    }
   ],
   "source": [
    "for _ in range(4):\n",
    "    x, P = predict(x=x, P=P, F=F, Q=0)\n",
    "    print('x =', x)"
   ]
  },
  {
   "cell_type": "code",
   "execution_count": 8,
   "id": "cbb480d3-e23f-4f1c-bd55-e61346fc5ae9",
   "metadata": {},
   "outputs": [
    {
     "data": {
      "text/plain": [
       "array([[512.25,  24.5 ],\n",
       "       [ 24.5 ,  49.  ]])"
      ]
     },
     "execution_count": 8,
     "metadata": {},
     "output_type": "execute_result"
    }
   ],
   "source": [
    "P\n"
   ]
  },
  {
   "cell_type": "code",
   "execution_count": 9,
   "id": "5cb789cf-a1f2-4426-91f7-2ad969c22502",
   "metadata": {},
   "outputs": [
    {
     "data": {
      "image/png": "[encoded data removed]",
      "text/plain": [
       "<Figure size 432x288 with 1 Axes>"
      ]
     },
     "metadata": {
      "needs_background": "light"
     },
     "output_type": "display_data"
    }
   ],
   "source": [
    "from filterpy.stats import plot_covariance_ellipse\n",
    "\n",
    "dt = 0.3\n",
    "F = np.array([[1, dt], [0, 1]])\n",
    "x = np.array([10.0, 4.5])\n",
    "P = np.diag([500, 500])\n",
    "plot_covariance_ellipse(x, P, edgecolor='r')\n",
    "x, P = predict(x, P, F, Q=0)\n",
    "plot_covariance_ellipse(x, P, edgecolor='k', ls='dashed')"
   ]
  },
  {
   "cell_type": "code",
   "execution_count": 10,
   "id": "bc8d36e5-8c98-4791-be1f-0b8634961117",
   "metadata": {},
   "outputs": [
    {
     "name": "stdout",
     "output_type": "stream",
     "text": [
      "[[0.5875 1.175 ]\n",
      " [1.175  2.35  ]]\n"
     ]
    }
   ],
   "source": [
    "\n",
    "\n",
    "from filterpy.common import Q_discrete_white_noise\n",
    "Q = Q_discrete_white_noise(dim=2, dt=1., var=2.35)\n",
    "print(Q)\n",
    "\n"
   ]
  },
  {
   "cell_type": "code",
   "execution_count": 11,
   "id": "7dc07c54-a36d-4ae7-bc72-a571c74a3f9f",
   "metadata": {},
   "outputs": [
    {
     "name": "stdout",
     "output_type": "stream",
     "text": [
      "[[ 3.0875  6.175 ]\n",
      " [ 6.175  12.35  ]]\n"
     ]
    }
   ],
   "source": [
    "\n",
    "\n",
    "from filterpy.common import Q_discrete_white_noise\n",
    "Q = Q_discrete_white_noise(dim=2, dt=1., var=12.35)\n",
    "print(Q)\n",
    "\n"
   ]
  },
  {
   "cell_type": "code",
   "execution_count": 12,
   "id": "62a45cd5-4d84-406b-b5b6-60562ddb36fa",
   "metadata": {},
   "outputs": [
    {
     "name": "stdout",
     "output_type": "stream",
     "text": [
      "[[1.175 2.35 ]\n",
      " [2.35  4.7  ]]\n"
     ]
    }
   ],
   "source": [
    "\n",
    "\n",
    "from filterpy.common import Q_discrete_white_noise\n",
    "Q = Q_discrete_white_noise(dim=2, dt=1., var=2.35*2)\n",
    "print(Q)\n",
    "\n"
   ]
  },
  {
   "cell_type": "code",
   "execution_count": 13,
   "id": "5df9c92a-d362-4ac1-8dd2-f1a6d55d3a8b",
   "metadata": {},
   "outputs": [],
   "source": [
    "#Q for us could be the multiple scattering error. Needs to be updated as a function of position"
   ]
  },
  {
   "cell_type": "code",
   "execution_count": 14,
   "id": "6ceb0c64-1f47-41bf-8695-3864603d07ed",
   "metadata": {},
   "outputs": [],
   "source": [
    "#Delta Phi could be B u (control input model * control input). In which case u would be p_t?\n",
    "# or simply ignore Bu and add the B field kick in the F matrix of predict"
   ]
  },
  {
   "cell_type": "code",
   "execution_count": 15,
   "id": "7c143afa-ca16-4bce-8bc8-ca34bdbf09f0",
   "metadata": {},
   "outputs": [],
   "source": [
    "H = np.array([[1., 0.]]) #measurement function yields residual = z-x"
   ]
  },
  {
   "cell_type": "code",
   "execution_count": 16,
   "id": "92282baf-a4bb-4942-9ef1-7d214d4d38b3",
   "metadata": {},
   "outputs": [],
   "source": [
    "R = np.array([[5.]]) #measurement error. This would be different for different modules (pixel vs strips!). How to handle?"
   ]
  },
  {
   "cell_type": "code",
   "execution_count": 17,
   "id": "b1dffec8-2ece-4180-917b-71885b3b0a03",
   "metadata": {},
   "outputs": [
    {
     "name": "stdout",
     "output_type": "stream",
     "text": [
      "x = [1.09409091 1.67727273]\n"
     ]
    }
   ],
   "source": [
    "from filterpy.kalman import update\n",
    "z = 1.\n",
    "x, P = update(x, P, z, R, H)\n",
    "print('x =', x)"
   ]
  },
  {
   "cell_type": "code",
   "execution_count": 18,
   "id": "9ada8ed6-a0fd-412d-b64f-8ec4c16515d3",
   "metadata": {},
   "outputs": [
    {
     "data": {
      "text/plain": [
       "array([[  4.95454545,   1.36363636],\n",
       "       [  1.36363636, 459.09090909]])"
      ]
     },
     "execution_count": 18,
     "metadata": {},
     "output_type": "execute_result"
    }
   ],
   "source": [
    "P"
   ]
  },
  {
   "cell_type": "code",
   "execution_count": 19,
   "id": "bf614080-28ad-48b8-9fd5-0d61dfd5cec0",
   "metadata": {},
   "outputs": [
    {
     "data": {
      "text/plain": [
       "array([[5.]])"
      ]
     },
     "execution_count": 19,
     "metadata": {},
     "output_type": "execute_result"
    }
   ],
   "source": [
    "R"
   ]
  },
  {
   "cell_type": "code",
   "execution_count": 20,
   "id": "40282eb8-c74e-4a2f-bd2b-0431a20b7848",
   "metadata": {},
   "outputs": [],
   "source": [
    "from filterpy.kalman import KalmanFilter\n",
    "from filterpy.common import Q_discrete_white_noise\n",
    "\n",
    "def pos_vel_filter(x, P, R, Q=0., dt=1.0):\n",
    "    \"\"\" Returns a KalmanFilter which implements a\n",
    "    constant velocity model for a state [x dx].T\n",
    "    \"\"\"\n",
    "    \n",
    "    kf = KalmanFilter(dim_x=2, dim_z=1)\n",
    "    kf.x = np.array([x[0], x[1]]) # location and velocity\n",
    "    kf.F = np.array([[1., dt],\n",
    "                     [0.,  1.]])  # state transition matrix\n",
    "    kf.H = np.array([[1., 0]])    # Measurement function\n",
    "    kf.R *= R                     # measurement uncertainty\n",
    "    if np.isscalar(P):\n",
    "        kf.P *= P                 # covariance matrix \n",
    "    else:\n",
    "        kf.P[:] = P               # [:] makes deep copy\n",
    "    if np.isscalar(Q):\n",
    "        kf.Q = Q_discrete_white_noise(dim=2, dt=dt, var=Q)\n",
    "    else:\n",
    "        kf.Q[:] = Q\n",
    "    return kf"
   ]
  },
  {
   "cell_type": "code",
   "execution_count": 21,
   "id": "24e8dd79-9512-493b-861b-e29c20a20b0a",
   "metadata": {},
   "outputs": [],
   "source": [
    "\n",
    "\n",
    "dt = .1\n",
    "x = np.array([0., 0.]) \n",
    "kf = pos_vel_filter(x, P=500, R=5, Q=0.1, dt=dt)\n",
    "\n"
   ]
  },
  {
   "cell_type": "code",
   "execution_count": 22,
   "id": "47a1dcf7-784b-41be-838a-ec46feece5c3",
   "metadata": {},
   "outputs": [
    {
     "data": {
      "text/plain": [
       "array([[500.,   0.],\n",
       "       [  0., 500.]])"
      ]
     },
     "execution_count": 22,
     "metadata": {},
     "output_type": "execute_result"
    }
   ],
   "source": [
    "kf.P"
   ]
  },
  {
   "cell_type": "code",
   "execution_count": 23,
   "id": "5afe4ef1-76d2-4aae-8934-ec37f01701c7",
   "metadata": {},
   "outputs": [
    {
     "data": {
      "text/plain": [
       "KalmanFilter object\n",
       "dim_x = 2\n",
       "dim_z = 1\n",
       "dim_u = 0\n",
       "x = [0. 0.]\n",
       "P = [[500.   0.]\n",
       "     [  0. 500.]]\n",
       "x_prior = [[0. 0.]].T\n",
       "P_prior = [[1. 0.]\n",
       "           [0. 1.]]\n",
       "x_post = [[0. 0.]].T\n",
       "P_post = [[1. 0.]\n",
       "          [0. 1.]]\n",
       "F = [[1.  0.1]\n",
       "     [0.  1. ]]\n",
       "Q = [[2.5e-06 5.0e-05]\n",
       "     [5.0e-05 1.0e-03]]\n",
       "R = [[5.]]\n",
       "H = [[1. 0.]]\n",
       "K = [[0. 0.]].T\n",
       "y = [[0.]]\n",
       "S = [[0.]]\n",
       "SI = [[0.]]\n",
       "M = [[0.]]\n",
       "B = None\n",
       "z = [[None]]\n",
       "log-likelihood = -708.3964185322641\n",
       "likelihood = 2.2250738585072014e-308\n",
       "mahalanobis = 0.0\n",
       "alpha = 1.0\n",
       "inv = <function inv at 0x7f000403a5f0>"
      ]
     },
     "execution_count": 23,
     "metadata": {},
     "output_type": "execute_result"
    }
   ],
   "source": [
    "kf"
   ]
  },
  {
   "cell_type": "code",
   "execution_count": 24,
   "id": "70729f3b-701b-4b01-9b0f-d9a919d4308a",
   "metadata": {},
   "outputs": [
    {
     "ename": "ModuleNotFoundError",
     "evalue": "No module named 'kf_book'",
     "output_type": "error",
     "traceback": [
      "\u001b[0;31m---------------------------------------------------------------------------\u001b[0m",
      "\u001b[0;31mModuleNotFoundError\u001b[0m                       Traceback (most recent call last)",
      "\u001b[0;32m/tmp/ipykernel_30030/175270120.py\u001b[0m in \u001b[0;36m<module>\u001b[0;34m\u001b[0m\n\u001b[0;32m----> 1\u001b[0;31m \u001b[0;32mfrom\u001b[0m \u001b[0mkf_book\u001b[0m\u001b[0;34m.\u001b[0m\u001b[0mmkf_internal\u001b[0m \u001b[0;32mimport\u001b[0m \u001b[0mplot_track\u001b[0m\u001b[0;34m\u001b[0m\u001b[0;34m\u001b[0m\u001b[0m\n\u001b[0m\u001b[1;32m      2\u001b[0m \u001b[0;34m\u001b[0m\u001b[0m\n\u001b[1;32m      3\u001b[0m def run(x0=(0.,0.), P=500, R=0, Q=0, dt=1.0, \n\u001b[1;32m      4\u001b[0m         \u001b[0mtrack\u001b[0m\u001b[0;34m=\u001b[0m\u001b[0;32mNone\u001b[0m\u001b[0;34m,\u001b[0m \u001b[0mzs\u001b[0m\u001b[0;34m=\u001b[0m\u001b[0;32mNone\u001b[0m\u001b[0;34m,\u001b[0m\u001b[0;34m\u001b[0m\u001b[0;34m\u001b[0m\u001b[0m\n\u001b[1;32m      5\u001b[0m         count=0, do_plot=True, **kwargs):\n",
      "\u001b[0;31mModuleNotFoundError\u001b[0m: No module named 'kf_book'"
     ]
    }
   ],
   "source": [
    "from kf_book.mkf_internal import plot_track\n",
    "\n",
    "def run(x0=(0.,0.), P=500, R=0, Q=0, dt=1.0, \n",
    "        track=None, zs=None,\n",
    "        count=0, do_plot=True, **kwargs):\n",
    "    \"\"\"\n",
    "    track is the actual position of the dog, zs are the \n",
    "    corresponding measurements. \n",
    "    \"\"\"\n",
    "\n",
    "    # Simulate dog if no data provided. \n",
    "    if zs is None:\n",
    "        track, zs = compute_dog_data(R, Q, count)\n",
    "\n",
    "    # create the Kalman filter\n",
    "    kf = pos_vel_filter(x0, R=R, P=P, Q=Q, dt=dt)  \n",
    "\n",
    "    # run the kalman filter and store the results\n",
    "    xs, cov = [], []\n",
    "    i=1\n",
    "    for z in zs:\n",
    "        kf.Q = Q_discrete_white_noise(dim=2, dt=dt, var=Q*i)\n",
    "        #i=i+100\n",
    "        kf.predict()\n",
    "        kf.update(z)\n",
    "        xs.append(kf.x)\n",
    "        cov.append(kf.P)\n",
    "\n",
    "    xs, cov = np.array(xs), np.array(cov)\n",
    "    if do_plot:\n",
    "        plot_track(xs[:, 0], track, zs, cov, **kwargs)\n",
    "    return xs, cov"
   ]
  },
  {
   "cell_type": "code",
   "execution_count": null,
   "id": "ef0764df-d363-40c9-ae6e-7388603cdcdb",
   "metadata": {},
   "outputs": [],
   "source": [
    "P = np.diag([500., 49.])\n",
    "Ms, Ps = run(count=5, R=10, Q=0.1, P=P)"
   ]
  },
  {
   "cell_type": "code",
   "execution_count": null,
   "id": "6674cf00-947c-4af2-94f4-01136aa6403e",
   "metadata": {},
   "outputs": [],
   "source": [
    "from filterpy.stats import plot_covariance\n",
    "plot_covariance(Ms[49], Ps[49], edgecolor='r')\n",
    "plot_covariance(Ms[0], Ps[0], edgecolor='b')"
   ]
  },
  {
   "cell_type": "code",
   "execution_count": null,
   "id": "ec12aef9-af05-45cb-9c41-07fddb0df3fd",
   "metadata": {},
   "outputs": [],
   "source": [
    "from kf_book.book_plots import set_figsize, figsize\n",
    "from kf_book.nonlinear_plots import plot_gaussians\n",
    "\n",
    "P = np.diag([3., 1.])\n",
    "np.random.seed(3)\n",
    "Ms, Ps = run(count=25, R=10, Q=0.01, P=P, do_plot=False)\n",
    "with figsize(x=9, y=5):\n",
    "    plot_gaussians(Ms[::7], Ps[::7], (-5,25), (-5, 5), 75)"
   ]
  },
  {
   "cell_type": "code",
   "execution_count": null,
   "id": "a40732e1-0423-4ef1-ba52-e0a3ad8ef3ab",
   "metadata": {},
   "outputs": [],
   "source": [
    "Ms[::7]"
   ]
  },
  {
   "cell_type": "code",
   "execution_count": null,
   "id": "007b2612-b9e5-4996-812a-701e74cb3185",
   "metadata": {},
   "outputs": [],
   "source": [
    "\n",
    "\n",
    "from filterpy.common import Saver\n",
    "kf = pos_vel_filter([0, .1], R=R, P=P, Q=Q, dt=1.) \n",
    "s = Saver(kf)\n",
    "for i in range(1, 6):\n",
    "    kf.predict()\n",
    "    kf.update([i])\n",
    "    s.save()  # save the current state\n",
    "\n"
   ]
  },
  {
   "cell_type": "code",
   "execution_count": null,
   "id": "a0f8f619-c17d-401f-9530-0e4d7b59a9dd",
   "metadata": {},
   "outputs": [],
   "source": [
    "s.z"
   ]
  },
  {
   "cell_type": "code",
   "execution_count": null,
   "id": "cc2b5b8e-cb10-4617-9ab9-14aed045d80d",
   "metadata": {},
   "outputs": [],
   "source": [
    "s.z"
   ]
  },
  {
   "cell_type": "code",
   "execution_count": null,
   "id": "fea027e2-7703-4831-929f-fa4f31f47b4e",
   "metadata": {},
   "outputs": [],
   "source": [
    "s.x"
   ]
  },
  {
   "cell_type": "code",
   "execution_count": null,
   "id": "addcd5b8-6703-4d65-af9e-e8820884a1c3",
   "metadata": {},
   "outputs": [],
   "source": [
    "import matplotlib.pyplot as plt\n",
    "\n",
    "s.to_array()\n",
    "book_plots.plot_measurements(s.z);\n",
    "plt.plot(s.x[:, 0]);"
   ]
  },
  {
   "cell_type": "code",
   "execution_count": null,
   "id": "66439d27-a114-4368-9d2b-92b6e6666a58",
   "metadata": {},
   "outputs": [],
   "source": [
    "s.x[:,0]"
   ]
  },
  {
   "cell_type": "code",
   "execution_count": null,
   "id": "63cabc6f-2243-4073-8cef-c4efa0d8840f",
   "metadata": {},
   "outputs": [],
   "source": [
    "s.z"
   ]
  },
  {
   "cell_type": "code",
   "execution_count": null,
   "id": "4cea534b-5994-4503-a914-682c7ba2ad0c",
   "metadata": {},
   "outputs": [],
   "source": [
    "dt = 0.6\n",
    "x = np.array([0., 5.])\n",
    "F = np.array([[1., dt], [0, 1.]])\n",
    "P = np.array([[1.5, 0], [0, 3.]])\n",
    "plot_covariance_ellipse(x, P, edgecolor='r')\n",
    "\n",
    "for _ in range(5):\n",
    "    x = F @ x\n",
    "    P = F @ P @ F.T\n",
    "    plot_covariance_ellipse(x, P, edgecolor='k', ls='dashed')\n",
    "book_plots.set_labels(x='position', y='velocity')"
   ]
  },
  {
   "cell_type": "code",
   "execution_count": null,
   "id": "8359c6a0-2e1b-40a9-a271-a38fe3ca51c1",
   "metadata": {},
   "outputs": [],
   "source": [
    "import kf_book.mkf_internal as mkf_internal\n",
    "\n",
    "\n",
    "from numpy.random import seed\n",
    "seed(2)\n",
    "trk, zs = compute_dog_data(z_var=225, process_var=.02, count=50)\n",
    "var = 27.5\n",
    "data = mkf_internal.zs_var_275()\n",
    "run(track=data[:,0], zs=data[:,1], R=var, Q=.02, P=500., plot_P=True, \n",
    "    title='$P=500\\, m^2$');"
   ]
  },
  {
   "cell_type": "code",
   "execution_count": null,
   "id": "cbe033c6-98fa-4aa2-80b3-cd6f8058f3d3",
   "metadata": {},
   "outputs": [],
   "source": [
    "kf"
   ]
  },
  {
   "cell_type": "code",
   "execution_count": null,
   "id": "ddd4750e-de0b-4f0e-adb0-bc16d9827735",
   "metadata": {},
   "outputs": [],
   "source": []
  }
 ],
 "metadata": {
  "kernelspec": {
   "display_name": "Python 3 (ipykernel)",
   "language": "python",
   "name": "python3"
  },
  "language_info": {
   "codemirror_mode": {
    "name": "ipython",
    "version": 3
   },
   "file_extension": ".py",
   "mimetype": "text/x-python",
   "name": "python",
   "nbconvert_exporter": "python",
   "pygments_lexer": "ipython3",
   "version": "3.7.6"
  }
 },
 "nbformat": 4,
 "nbformat_minor": 5
}
