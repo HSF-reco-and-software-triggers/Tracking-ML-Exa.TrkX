{
 "cells": [
  {
   "cell_type": "markdown",
   "metadata": {},
   "source": [
    "# Example of Track Reconstruction from Graph Output"
   ]
  },
  {
   "cell_type": "code",
   "execution_count": 1,
   "metadata": {},
   "outputs": [],
   "source": [
    "%load_ext autoreload\n",
    "%autoreload 2\n",
    "\n",
    "# System imports\n",
    "import os\n",
    "import sys\n",
    "import yaml\n",
    "import logging\n",
    "\n",
    "# External imports\n",
    "import matplotlib.pyplot as plt\n",
    "import scipy as sp\n",
    "from sklearn.decomposition import PCA\n",
    "from sklearn.metrics import auc\n",
    "import numpy as np\n",
    "import pandas as pd\n",
    "import seaborn as sns\n",
    "from tqdm import tqdm\n",
    "import torch_geometric\n",
    "from scipy import sparse as sps\n",
    "\n",
    "# import seaborn as sns\n",
    "import torch\n",
    "from pytorch_lightning import Trainer\n",
    "from pytorch_lightning.loggers import TensorBoardLogger, WandbLogger\n",
    "import wandb\n",
    "\n",
    "import warnings\n",
    "\n",
    "warnings.filterwarnings(\"ignore\")\n",
    "sys.path.append(\"../../..\")\n",
    "\n",
    "from notebooks.ITk.utils import *\n",
    "from TrackingData import TrackingData\n",
    "device = \"cuda\" if torch.cuda.is_available() else \"cpu\"\n",
    "logging.basicConfig(level=logging.INFO)"
   ]
  },
  {
   "cell_type": "markdown",
   "metadata": {},
   "source": [
    "## Roadmap"
   ]
  },
  {
   "cell_type": "markdown",
   "metadata": {},
   "source": [
    "1. Read in scored graphs\n",
    "2. Convert it to the more flexible `TrackingData` dataset\n",
    "    - `TrackingData` needs to be able to `add_scored_graphs`\n",
    "    - Needs to check type; if PyG `Data` type, then convert to numpy under the hood\n",
    "    - Needs to read event files; if `event_attribute` is not None, then read on conversion and assign to `Event` object\n",
    "3. Add `track_candidates` in `Graph`\n",
    "    - Start with a single `Candidates` per `Event`\n",
    "    - Across `TrackingData` build all `track_candidates`\n",
    "    - Within `Graph` apply score cut\n",
    "    - Apply candidate building method\n",
    "    - Apply any post-processing (e.g. cleaning)\n",
    "4. Add `evaluate` method to `Candidates`\n",
    "    - Produces an `Evaluation` object - start with a single object per candidate\n",
    "    - Can be used to produce plots\n",
    "    - Can be called directly to get metrics\n",
    "    - Requires method input\n",
    "5. Add `evaluate` method to `TrackingData`\n",
    "6. Add `plot` method to `TrackingData`\n",
    "7. May need to have a plug-and-play object for `Readers`, especially to process e.g. pT depending on the event style\n",
    "8. May need to have a plug-and-play object for `TrackBuilders`\n",
    "9. OR just inherit from `TrackingData`? No, that's going to be messy since you need to then override all subsequent objects. Maybe a better way to do all this...\n",
    "\n",
    "    "
   ]
  },
  {
   "cell_type": "markdown",
   "metadata": {},
   "source": [
    "## Implementation"
   ]
  },
  {
   "cell_type": "code",
   "execution_count": 2,
   "metadata": {},
   "outputs": [],
   "source": [
    "# Read yaml config \n",
    "with open(\"tracking_config.yaml\", \"r\") as f:\n",
    "    config = yaml.safe_load(f)"
   ]
  },
  {
   "cell_type": "code",
   "execution_count": 7,
   "metadata": {},
   "outputs": [],
   "source": [
    "# Load in files\n",
    "files = list_files(os.path.join(config[\"graph_input_dir\"], \"train\"))[:100]"
   ]
  },
  {
   "cell_type": "code",
   "execution_count": 4,
   "metadata": {},
   "outputs": [],
   "source": [
    "sample = torch.load(files[0], map_location=\"cpu\")"
   ]
  },
  {
   "cell_type": "code",
   "execution_count": 26,
   "metadata": {},
   "outputs": [
    {
     "name": "stderr",
     "output_type": "stream",
     "text": [
      "INFO:root:Loading files\n"
     ]
    },
    {
     "data": {
      "application/vnd.jupyter.widget-view+json": {
       "model_id": "a0da3678522b4038b1cc5fe11db67e71",
       "version_major": 2,
       "version_minor": 0
      },
      "text/plain": [
       "  0%|          | 0/100 [00:00<?, ?it/s]"
      ]
     },
     "metadata": {},
     "output_type": "display_data"
    },
    {
     "name": "stderr",
     "output_type": "stream",
     "text": [
      "INFO:root:Building events\n"
     ]
    },
    {
     "data": {
      "application/vnd.jupyter.widget-view+json": {
       "model_id": "19846dca595042f38e2227397fd3e89b",
       "version_major": 2,
       "version_minor": 0
      },
      "text/plain": [
       "  0%|          | 0/100 [00:00<?, ?it/s]"
      ]
     },
     "metadata": {},
     "output_type": "display_data"
    }
   ],
   "source": [
    "# Build TrackingData object\n",
    "tracking_data = TrackingData(files)"
   ]
  },
  {
   "cell_type": "markdown",
   "metadata": {},
   "source": [
    "## Example usage"
   ]
  },
  {
   "cell_type": "markdown",
   "metadata": {},
   "source": [
    "Sanity check the graph:"
   ]
  },
  {
   "cell_type": "code",
   "execution_count": 27,
   "metadata": {},
   "outputs": [
    {
     "name": "stderr",
     "output_type": "stream",
     "text": [
      "INFO:root:Building candidates with sanity check: True\n",
      "100%|██████████| 100/100 [00:03<00:00, 26.09it/s]\n"
     ]
    }
   ],
   "source": [
    "tracking_data.build_candidates(building_method=\"CC\", sanity_check=True)"
   ]
  },
  {
   "cell_type": "code",
   "execution_count": 32,
   "metadata": {},
   "outputs": [
    {
     "name": "stderr",
     "output_type": "stream",
     "text": [
      "INFO:root:Evaluating candidates\n"
     ]
    },
    {
     "data": {
      "application/vnd.jupyter.widget-view+json": {
       "model_id": "38db295f988547bd98026eae81e42e9e",
       "version_major": 2,
       "version_minor": 0
      },
      "text/plain": [
       "  0%|          | 0/100 [00:00<?, ?it/s]"
      ]
     },
     "metadata": {},
     "output_type": "display_data"
    },
    {
     "name": "stdout",
     "output_type": "stream",
     "text": [
      "{'building_method': 'CC', 'evaluation_method': 'matching', 'eff': 0.9814706420340223, 'single_eff': 0.9814706420340223, 'fr': 0.0, 'dup': 0.13355832579770055}\n",
      "n_true_tracks: 109340, n_reco_tracks: 123856, n_matched_particles: 107314, n_matched_tracks: 123856, n_duplicated_tracks: 16542\n"
     ]
    }
   ],
   "source": [
    "tracking_data.evaluate_candidates(evaluation_method=\"matching\")"
   ]
  },
  {
   "cell_type": "markdown",
   "metadata": {},
   "source": [
    "Now run real pipeline:"
   ]
  },
  {
   "cell_type": "code",
   "execution_count": 33,
   "metadata": {},
   "outputs": [
    {
     "name": "stderr",
     "output_type": "stream",
     "text": [
      "INFO:root:Building candidates with sanity check: False\n",
      "100%|██████████| 100/100 [00:02<00:00, 42.25it/s]\n"
     ]
    }
   ],
   "source": [
    "tracking_data.build_candidates(building_method=\"CC\", score_cut = 0.85)"
   ]
  },
  {
   "cell_type": "code",
   "execution_count": 34,
   "metadata": {},
   "outputs": [],
   "source": [
    "matching_config = {\n",
    "    \"min_hits_truth\": 9,\n",
    "    \"min_hits_reco\": 5,\n",
    "    \"frac_reco_matched\": 0.5,\n",
    "    \"frac_truth_matched\": 0.5,\n",
    "}"
   ]
  },
  {
   "cell_type": "code",
   "execution_count": 35,
   "metadata": {},
   "outputs": [
    {
     "name": "stderr",
     "output_type": "stream",
     "text": [
      "INFO:root:Evaluating candidates\n",
      "100%|██████████| 100/100 [00:29<00:00,  3.35it/s]"
     ]
    },
    {
     "name": "stdout",
     "output_type": "stream",
     "text": [
      "{'building_method': 'CC', 'evaluation_method': 'matching', 'eff': 0.8919151271263948, 'single_eff': 0.9038778123285166, 'fr': 0.01839848488072693, 'dup': 0.06879322452280127}\n",
      "n_true_tracks: 109340, n_reco_tracks: 234965, n_matched_particles: 97522, n_matched_tracks: 230642, n_duplicated_tracks: 16164\n"
     ]
    },
    {
     "name": "stderr",
     "output_type": "stream",
     "text": [
      "\n"
     ]
    }
   ],
   "source": [
    "tracking_data.evaluate_candidates(evaluation_method=\"matching\", **matching_config)"
   ]
  },
  {
   "cell_type": "code",
   "execution_count": 36,
   "metadata": {},
   "outputs": [
    {
     "data": {
      "image/png": "[encoded data removed]",
      "text/plain": [
       "<Figure size 432x432 with 2 Axes>"
      ]
     },
     "metadata": {
      "needs_background": "light"
     },
     "output_type": "display_data"
    },
    {
     "data": {
      "image/png": "[encoded data removed]",
      "text/plain": [
       "<Figure size 432x432 with 2 Axes>"
      ]
     },
     "metadata": {
      "needs_background": "light"
     },
     "output_type": "display_data"
    },
    {
     "data": {
      "image/png": "[encoded data removed]",
      "text/plain": [
       "<Figure size 432x432 with 2 Axes>"
      ]
     },
     "metadata": {
      "needs_background": "light"
     },
     "output_type": "display_data"
    },
    {
     "data": {
      "image/png": "[encoded data removed]",
      "text/plain": [
       "<Figure size 432x432 with 2 Axes>"
      ]
     },
     "metadata": {
      "needs_background": "light"
     },
     "output_type": "display_data"
    }
   ],
   "source": [
    "tracking_data.plot_evaluation()"
   ]
  }
 ],
 "metadata": {
  "@webio": {
   "lastCommId": null,
   "lastKernelId": null
  },
  "interpreter": {
   "hash": "160bbf3460607ce6882228c7f3472b9123241d62d3bf3b05bb085d37e9832afe"
  },
  "kernelspec": {
   "display_name": "ExatrkxGPU",
   "language": "python",
   "name": "exatrkxgpu"
  },
  "language_info": {
   "codemirror_mode": {
    "name": "ipython",
    "version": 3
   },
   "file_extension": ".py",
   "mimetype": "text/x-python",
   "name": "python",
   "nbconvert_exporter": "python",
   "pygments_lexer": "ipython3",
   "version": "3.8.12"
  }
 },
 "nbformat": 4,
 "nbformat_minor": 4
}
