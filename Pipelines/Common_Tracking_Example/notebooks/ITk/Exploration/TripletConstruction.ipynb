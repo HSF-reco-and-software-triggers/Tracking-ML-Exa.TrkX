{
 "cells": [
  {
   "cell_type": "markdown",
   "id": "92f9b939-5ee4-43db-9145-b6bf69a36b83",
   "metadata": {},
   "source": [
    "# Testing Construction of Triplets from GNN output"
   ]
  },
  {
   "cell_type": "code",
   "execution_count": 1,
   "id": "724a03c4",
   "metadata": {},
   "outputs": [],
   "source": [
    "%load_ext autoreload\n",
    "%autoreload 2\n",
    "\n",
    "# System imports\n",
    "import os\n",
    "import sys\n",
    "import yaml\n",
    "\n",
    "# External imports\n",
    "import matplotlib.pyplot as plt\n",
    "import scipy as sp\n",
    "from sklearn.decomposition import PCA\n",
    "from sklearn.metrics import auc\n",
    "import numpy as np\n",
    "import pandas as pd\n",
    "import seaborn as sns\n",
    "import torch\n",
    "from pytorch_lightning import Trainer\n",
    "from pytorch_lightning.loggers import TensorBoardLogger, WandbLogger\n",
    "import scipy.sparse.csgraph as scigraph\n",
    "import scipy.sparse as sp\n",
    "import cupy as cp\n",
    "\n",
    "import wandb\n",
    "\n",
    "import warnings\n",
    "warnings.filterwarnings('ignore')\n",
    "sys.path.append('../../../')\n",
    "device = \"cuda\" if torch.cuda.is_available() else \"cpu\""
   ]
  },
  {
   "cell_type": "markdown",
   "id": "b8c12209",
   "metadata": {},
   "source": [
    "## Roadmap\n",
    "\n",
    "1. Load in a good 0.5GeV model\n",
    "2. Run some initial statistics (eff, pur)\n",
    "3. Segment builder\n",
    "4. Get some segment statistics (tracking eff, pur)"
   ]
  },
  {
   "cell_type": "markdown",
   "id": "573d89b0",
   "metadata": {},
   "source": [
    "## Infrastructure"
   ]
  },
  {
   "cell_type": "markdown",
   "id": "1afc7363",
   "metadata": {},
   "source": [
    "- GraphScore(Model, graph) --> graph (with scores)\n",
    "- SegmentBuild(graph) --> labelled graph\n"
   ]
  },
  {
   "cell_type": "markdown",
   "id": "73e20707",
   "metadata": {},
   "source": [
    "## Load in Model"
   ]
  },
  {
   "cell_type": "code",
   "execution_count": 2,
   "id": "2b7318ec",
   "metadata": {},
   "outputs": [],
   "source": [
    "from LightningModules.GNN.Models.interaction_gnn import InteractionGNN\n",
    "from LightningModules.GNN.Models.checkpoint_pyramid import CheckpointedPyramid"
   ]
  },
  {
   "cell_type": "code",
   "execution_count": 3,
   "id": "55693061",
   "metadata": {
    "scrolled": true
   },
   "outputs": [],
   "source": [
    "checkpoint_path = \"/global/cfs/cdirs/m3443/data/lightning_models/lightning_checkpoints/ITk_1GeVSignal_Barrel_GNN/11eo3iqk/checkpoints/epoch=21-step=10449.ckpt\"\n",
    "checkpoint = torch.load(checkpoint_path)\n",
    "\n",
    "model = InteractionGNN.load_from_checkpoint(checkpoint_path).to(device)"
   ]
  },
  {
   "cell_type": "markdown",
   "id": "db78b1c8",
   "metadata": {},
   "source": [
    "### Load in Data"
   ]
  },
  {
   "cell_type": "code",
   "execution_count": 4,
   "id": "f40cf950",
   "metadata": {},
   "outputs": [],
   "source": [
    "model._hparams[\"datatype_split\"]=[50, 50, 10]"
   ]
  },
  {
   "cell_type": "code",
   "execution_count": 5,
   "id": "ac11e865",
   "metadata": {},
   "outputs": [
    {
     "name": "stdout",
     "output_type": "stream",
     "text": [
      "Setting up dataset\n",
      "Loading events\n",
      "Events loaded!\n",
      "Events processed!\n",
      "Loading events\n",
      "Events loaded!\n",
      "Events processed!\n",
      "Loading events\n",
      "Events loaded!\n",
      "Events processed!\n"
     ]
    }
   ],
   "source": [
    "model.setup(stage=\"fit\")"
   ]
  },
  {
   "cell_type": "code",
   "execution_count": null,
   "id": "ff00e584",
   "metadata": {
    "tags": []
   },
   "outputs": [],
   "source": [
    "model.valset"
   ]
  },
  {
   "cell_type": "markdown",
   "id": "a70e57dc",
   "metadata": {},
   "source": [
    "## Load/Score Graphs"
   ]
  },
  {
   "cell_type": "markdown",
   "id": "8411bd09",
   "metadata": {
    "jp-MarkdownHeadingCollapsed": true,
    "tags": []
   },
   "source": [
    "### Load Pre-scored"
   ]
  },
  {
   "cell_type": "code",
   "execution_count": 17,
   "id": "e63f89b0",
   "metadata": {},
   "outputs": [],
   "source": [
    "graph_dir = \"/global/cfs/cdirs/m3443/data/ITk-upgrade/processed/gnn_processed/0.5GeV_barrel_y\"\n",
    "all_files = [os.path.join(segment_dir, file) for file in os.listdir(graph_dir)] "
   ]
  },
  {
   "cell_type": "code",
   "execution_count": 33,
   "id": "971f50ce",
   "metadata": {
    "collapsed": true,
    "jupyter": {
     "outputs_hidden": true
    },
    "tags": []
   },
   "outputs": [
    {
     "data": {
      "text/plain": [
       "['/global/cfs/cdirs/m3443/data/ITk-upgrade/processed/gnn_processed/0.5GeV_barrel_y/0200.npz',\n",
       " '/global/cfs/cdirs/m3443/data/ITk-upgrade/processed/gnn_processed/0.5GeV_barrel_y/0178.npz',\n",
       " '/global/cfs/cdirs/m3443/data/ITk-upgrade/processed/gnn_processed/0.5GeV_barrel_y/0069.npz',\n",
       " '/global/cfs/cdirs/m3443/data/ITk-upgrade/processed/gnn_processed/0.5GeV_barrel_y/0101.npz',\n",
       " '/global/cfs/cdirs/m3443/data/ITk-upgrade/processed/gnn_processed/0.5GeV_barrel_y/0188.npz',\n",
       " '/global/cfs/cdirs/m3443/data/ITk-upgrade/processed/gnn_processed/0.5GeV_barrel_y/0079.npz',\n",
       " '/global/cfs/cdirs/m3443/data/ITk-upgrade/processed/gnn_processed/0.5GeV_barrel_y/0111.npz',\n",
       " '/global/cfs/cdirs/m3443/data/ITk-upgrade/processed/gnn_processed/0.5GeV_barrel_y/0002.npz',\n",
       " '/global/cfs/cdirs/m3443/data/ITk-upgrade/processed/gnn_processed/0.5GeV_barrel_y/0089.npz',\n",
       " '/global/cfs/cdirs/m3443/data/ITk-upgrade/processed/gnn_processed/0.5GeV_barrel_y/0121.npz',\n",
       " '/global/cfs/cdirs/m3443/data/ITk-upgrade/processed/gnn_processed/0.5GeV_barrel_y/0199.npz',\n",
       " '/global/cfs/cdirs/m3443/data/ITk-upgrade/processed/gnn_processed/0.5GeV_barrel_y/0012.npz',\n",
       " '/global/cfs/cdirs/m3443/data/ITk-upgrade/processed/gnn_processed/0.5GeV_barrel_y/0022.npz',\n",
       " '/global/cfs/cdirs/m3443/data/ITk-upgrade/processed/gnn_processed/0.5GeV_barrel_y/0132.npz',\n",
       " '/global/cfs/cdirs/m3443/data/ITk-upgrade/processed/gnn_processed/0.5GeV_barrel_y/0142.npz',\n",
       " '/global/cfs/cdirs/m3443/data/ITk-upgrade/processed/gnn_processed/0.5GeV_barrel_y/0033.npz',\n",
       " '/global/cfs/cdirs/m3443/data/ITk-upgrade/processed/gnn_processed/0.5GeV_barrel_y/0152.npz',\n",
       " '/global/cfs/cdirs/m3443/data/ITk-upgrade/processed/gnn_processed/0.5GeV_barrel_y/0043.npz',\n",
       " '/global/cfs/cdirs/m3443/data/ITk-upgrade/processed/gnn_processed/0.5GeV_barrel_y/0053.npz',\n",
       " '/global/cfs/cdirs/m3443/data/ITk-upgrade/processed/gnn_processed/0.5GeV_barrel_y/0163.npz',\n",
       " '/global/cfs/cdirs/m3443/data/ITk-upgrade/processed/gnn_processed/0.5GeV_barrel_y/0173.npz',\n",
       " '/global/cfs/cdirs/m3443/data/ITk-upgrade/processed/gnn_processed/0.5GeV_barrel_y/0064.npz',\n",
       " '/global/cfs/cdirs/m3443/data/ITk-upgrade/processed/gnn_processed/0.5GeV_barrel_y/0183.npz',\n",
       " '/global/cfs/cdirs/m3443/data/ITk-upgrade/processed/gnn_processed/0.5GeV_barrel_y/0074.npz',\n",
       " '/global/cfs/cdirs/m3443/data/ITk-upgrade/processed/gnn_processed/0.5GeV_barrel_y/0084.npz',\n",
       " '/global/cfs/cdirs/m3443/data/ITk-upgrade/processed/gnn_processed/0.5GeV_barrel_y/0194.npz',\n",
       " '/global/cfs/cdirs/m3443/data/ITk-upgrade/processed/gnn_processed/0.5GeV_barrel_y/0095.npz',\n",
       " '/global/cfs/cdirs/m3443/data/ITk-upgrade/processed/gnn_processed/0.5GeV_barrel_y/0109.npz',\n",
       " '/global/cfs/cdirs/m3443/data/ITk-upgrade/processed/gnn_processed/0.5GeV_barrel_y/0119.npz',\n",
       " '/global/cfs/cdirs/m3443/data/ITk-upgrade/processed/gnn_processed/0.5GeV_barrel_y/0129.npz',\n",
       " '/global/cfs/cdirs/m3443/data/ITk-upgrade/processed/gnn_processed/0.5GeV_barrel_y/0090.npz',\n",
       " '/global/cfs/cdirs/m3443/data/ITk-upgrade/processed/gnn_processed/0.5GeV_barrel_y/0104.npz',\n",
       " '/global/cfs/cdirs/m3443/data/ITk-upgrade/processed/gnn_processed/0.5GeV_barrel_y/0114.npz',\n",
       " '/global/cfs/cdirs/m3443/data/ITk-upgrade/processed/gnn_processed/0.5GeV_barrel_y/0005.npz',\n",
       " '/global/cfs/cdirs/m3443/data/ITk-upgrade/processed/gnn_processed/0.5GeV_barrel_y/0124.npz',\n",
       " '/global/cfs/cdirs/m3443/data/ITk-upgrade/processed/gnn_processed/0.5GeV_barrel_y/0015.npz',\n",
       " '/global/cfs/cdirs/m3443/data/ITk-upgrade/processed/gnn_processed/0.5GeV_barrel_y/0025.npz',\n",
       " '/global/cfs/cdirs/m3443/data/ITk-upgrade/processed/gnn_processed/0.5GeV_barrel_y/0135.npz',\n",
       " '/global/cfs/cdirs/m3443/data/ITk-upgrade/processed/gnn_processed/0.5GeV_barrel_y/0145.npz',\n",
       " '/global/cfs/cdirs/m3443/data/ITk-upgrade/processed/gnn_processed/0.5GeV_barrel_y/0036.npz',\n",
       " '/global/cfs/cdirs/m3443/data/ITk-upgrade/processed/gnn_processed/0.5GeV_barrel_y/0155.npz',\n",
       " '/global/cfs/cdirs/m3443/data/ITk-upgrade/processed/gnn_processed/0.5GeV_barrel_y/0046.npz',\n",
       " '/global/cfs/cdirs/m3443/data/ITk-upgrade/processed/gnn_processed/0.5GeV_barrel_y/0056.npz',\n",
       " '/global/cfs/cdirs/m3443/data/ITk-upgrade/processed/gnn_processed/0.5GeV_barrel_y/0166.npz',\n",
       " '/global/cfs/cdirs/m3443/data/ITk-upgrade/processed/gnn_processed/0.5GeV_barrel_y/0176.npz',\n",
       " '/global/cfs/cdirs/m3443/data/ITk-upgrade/processed/gnn_processed/0.5GeV_barrel_y/0067.npz',\n",
       " '/global/cfs/cdirs/m3443/data/ITk-upgrade/processed/gnn_processed/0.5GeV_barrel_y/0186.npz',\n",
       " '/global/cfs/cdirs/m3443/data/ITk-upgrade/processed/gnn_processed/0.5GeV_barrel_y/0077.npz',\n",
       " '/global/cfs/cdirs/m3443/data/ITk-upgrade/processed/gnn_processed/0.5GeV_barrel_y/0087.npz',\n",
       " '/global/cfs/cdirs/m3443/data/ITk-upgrade/processed/gnn_processed/0.5GeV_barrel_y/0197.npz',\n",
       " '/global/cfs/cdirs/m3443/data/ITk-upgrade/processed/gnn_processed/0.5GeV_barrel_y/0010.npz',\n",
       " '/global/cfs/cdirs/m3443/data/ITk-upgrade/processed/gnn_processed/0.5GeV_barrel_y/0020.npz',\n",
       " '/global/cfs/cdirs/m3443/data/ITk-upgrade/processed/gnn_processed/0.5GeV_barrel_y/0098.npz',\n",
       " '/global/cfs/cdirs/m3443/data/ITk-upgrade/processed/gnn_processed/0.5GeV_barrel_y/0130.npz',\n",
       " '/global/cfs/cdirs/m3443/data/ITk-upgrade/processed/gnn_processed/0.5GeV_barrel_y/0140.npz',\n",
       " '/global/cfs/cdirs/m3443/data/ITk-upgrade/processed/gnn_processed/0.5GeV_barrel_y/0031.npz',\n",
       " '/global/cfs/cdirs/m3443/data/ITk-upgrade/processed/gnn_processed/0.5GeV_barrel_y/0150.npz',\n",
       " '/global/cfs/cdirs/m3443/data/ITk-upgrade/processed/gnn_processed/0.5GeV_barrel_y/0041.npz',\n",
       " '/global/cfs/cdirs/m3443/data/ITk-upgrade/processed/gnn_processed/0.5GeV_barrel_y/0051.npz',\n",
       " '/global/cfs/cdirs/m3443/data/ITk-upgrade/processed/gnn_processed/0.5GeV_barrel_y/0161.npz',\n",
       " '/global/cfs/cdirs/m3443/data/ITk-upgrade/processed/gnn_processed/0.5GeV_barrel_y/0171.npz',\n",
       " '/global/cfs/cdirs/m3443/data/ITk-upgrade/processed/gnn_processed/0.5GeV_barrel_y/0062.npz',\n",
       " '/global/cfs/cdirs/m3443/data/ITk-upgrade/processed/gnn_processed/0.5GeV_barrel_y/0181.npz',\n",
       " '/global/cfs/cdirs/m3443/data/ITk-upgrade/processed/gnn_processed/0.5GeV_barrel_y/0072.npz',\n",
       " '/global/cfs/cdirs/m3443/data/ITk-upgrade/processed/gnn_processed/0.5GeV_barrel_y/0082.npz',\n",
       " '/global/cfs/cdirs/m3443/data/ITk-upgrade/processed/gnn_processed/0.5GeV_barrel_y/0192.npz',\n",
       " '/global/cfs/cdirs/m3443/data/ITk-upgrade/processed/gnn_processed/0.5GeV_barrel_y/0093.npz',\n",
       " '/global/cfs/cdirs/m3443/data/ITk-upgrade/processed/gnn_processed/0.5GeV_barrel_y/0107.npz',\n",
       " '/global/cfs/cdirs/m3443/data/ITk-upgrade/processed/gnn_processed/0.5GeV_barrel_y/0117.npz',\n",
       " '/global/cfs/cdirs/m3443/data/ITk-upgrade/processed/gnn_processed/0.5GeV_barrel_y/0008.npz',\n",
       " '/global/cfs/cdirs/m3443/data/ITk-upgrade/processed/gnn_processed/0.5GeV_barrel_y/0127.npz',\n",
       " '/global/cfs/cdirs/m3443/data/ITk-upgrade/processed/gnn_processed/0.5GeV_barrel_y/0018.npz',\n",
       " '/global/cfs/cdirs/m3443/data/ITk-upgrade/processed/gnn_processed/0.5GeV_barrel_y/0028.npz',\n",
       " '/global/cfs/cdirs/m3443/data/ITk-upgrade/processed/gnn_processed/0.5GeV_barrel_y/0138.npz',\n",
       " '/global/cfs/cdirs/m3443/data/ITk-upgrade/processed/gnn_processed/0.5GeV_barrel_y/0148.npz',\n",
       " '/global/cfs/cdirs/m3443/data/ITk-upgrade/processed/gnn_processed/0.5GeV_barrel_y/0039.npz',\n",
       " '/global/cfs/cdirs/m3443/data/ITk-upgrade/processed/gnn_processed/0.5GeV_barrel_y/0158.npz',\n",
       " '/global/cfs/cdirs/m3443/data/ITk-upgrade/processed/gnn_processed/0.5GeV_barrel_y/0049.npz',\n",
       " '/global/cfs/cdirs/m3443/data/ITk-upgrade/processed/gnn_processed/0.5GeV_barrel_y/0059.npz',\n",
       " '/global/cfs/cdirs/m3443/data/ITk-upgrade/processed/gnn_processed/0.5GeV_barrel_y/0169.npz',\n",
       " '/global/cfs/cdirs/m3443/data/ITk-upgrade/processed/gnn_processed/0.5GeV_barrel_y/0179.npz',\n",
       " '/global/cfs/cdirs/m3443/data/ITk-upgrade/processed/gnn_processed/0.5GeV_barrel_y/0102.npz',\n",
       " '/global/cfs/cdirs/m3443/data/ITk-upgrade/processed/gnn_processed/0.5GeV_barrel_y/0189.npz',\n",
       " '/global/cfs/cdirs/m3443/data/ITk-upgrade/processed/gnn_processed/0.5GeV_barrel_y/0112.npz',\n",
       " '/global/cfs/cdirs/m3443/data/ITk-upgrade/processed/gnn_processed/0.5GeV_barrel_y/0003.npz',\n",
       " '/global/cfs/cdirs/m3443/data/ITk-upgrade/processed/gnn_processed/0.5GeV_barrel_y/0122.npz',\n",
       " '/global/cfs/cdirs/m3443/data/ITk-upgrade/processed/gnn_processed/0.5GeV_barrel_y/0013.npz',\n",
       " '/global/cfs/cdirs/m3443/data/ITk-upgrade/processed/gnn_processed/0.5GeV_barrel_y/0023.npz',\n",
       " '/global/cfs/cdirs/m3443/data/ITk-upgrade/processed/gnn_processed/0.5GeV_barrel_y/0133.npz',\n",
       " '/global/cfs/cdirs/m3443/data/ITk-upgrade/processed/gnn_processed/0.5GeV_barrel_y/0143.npz',\n",
       " '/global/cfs/cdirs/m3443/data/ITk-upgrade/processed/gnn_processed/0.5GeV_barrel_y/0034.npz',\n",
       " '/global/cfs/cdirs/m3443/data/ITk-upgrade/processed/gnn_processed/0.5GeV_barrel_y/0153.npz',\n",
       " '/global/cfs/cdirs/m3443/data/ITk-upgrade/processed/gnn_processed/0.5GeV_barrel_y/0044.npz',\n",
       " '/global/cfs/cdirs/m3443/data/ITk-upgrade/processed/gnn_processed/0.5GeV_barrel_y/0054.npz',\n",
       " '/global/cfs/cdirs/m3443/data/ITk-upgrade/processed/gnn_processed/0.5GeV_barrel_y/0164.npz',\n",
       " '/global/cfs/cdirs/m3443/data/ITk-upgrade/processed/gnn_processed/0.5GeV_barrel_y/0174.npz',\n",
       " '/global/cfs/cdirs/m3443/data/ITk-upgrade/processed/gnn_processed/0.5GeV_barrel_y/0065.npz',\n",
       " '/global/cfs/cdirs/m3443/data/ITk-upgrade/processed/gnn_processed/0.5GeV_barrel_y/0184.npz',\n",
       " '/global/cfs/cdirs/m3443/data/ITk-upgrade/processed/gnn_processed/0.5GeV_barrel_y/0075.npz',\n",
       " '/global/cfs/cdirs/m3443/data/ITk-upgrade/processed/gnn_processed/0.5GeV_barrel_y/0085.npz',\n",
       " '/global/cfs/cdirs/m3443/data/ITk-upgrade/processed/gnn_processed/0.5GeV_barrel_y/0195.npz',\n",
       " '/global/cfs/cdirs/m3443/data/ITk-upgrade/processed/gnn_processed/0.5GeV_barrel_y/0096.npz',\n",
       " '/global/cfs/cdirs/m3443/data/ITk-upgrade/processed/gnn_processed/0.5GeV_barrel_y/0060.npz',\n",
       " '/global/cfs/cdirs/m3443/data/ITk-upgrade/processed/gnn_processed/0.5GeV_barrel_y/0070.npz',\n",
       " '/global/cfs/cdirs/m3443/data/ITk-upgrade/processed/gnn_processed/0.5GeV_barrel_y/0080.npz',\n",
       " '/global/cfs/cdirs/m3443/data/ITk-upgrade/processed/gnn_processed/0.5GeV_barrel_y/0190.npz',\n",
       " '/global/cfs/cdirs/m3443/data/ITk-upgrade/processed/gnn_processed/0.5GeV_barrel_y/0091.npz',\n",
       " '/global/cfs/cdirs/m3443/data/ITk-upgrade/processed/gnn_processed/0.5GeV_barrel_y/0105.npz',\n",
       " '/global/cfs/cdirs/m3443/data/ITk-upgrade/processed/gnn_processed/0.5GeV_barrel_y/0115.npz',\n",
       " '/global/cfs/cdirs/m3443/data/ITk-upgrade/processed/gnn_processed/0.5GeV_barrel_y/0006.npz',\n",
       " '/global/cfs/cdirs/m3443/data/ITk-upgrade/processed/gnn_processed/0.5GeV_barrel_y/0125.npz',\n",
       " '/global/cfs/cdirs/m3443/data/ITk-upgrade/processed/gnn_processed/0.5GeV_barrel_y/0016.npz',\n",
       " '/global/cfs/cdirs/m3443/data/ITk-upgrade/processed/gnn_processed/0.5GeV_barrel_y/0026.npz',\n",
       " '/global/cfs/cdirs/m3443/data/ITk-upgrade/processed/gnn_processed/0.5GeV_barrel_y/0136.npz',\n",
       " '/global/cfs/cdirs/m3443/data/ITk-upgrade/processed/gnn_processed/0.5GeV_barrel_y/0146.npz',\n",
       " '/global/cfs/cdirs/m3443/data/ITk-upgrade/processed/gnn_processed/0.5GeV_barrel_y/0037.npz',\n",
       " '/global/cfs/cdirs/m3443/data/ITk-upgrade/processed/gnn_processed/0.5GeV_barrel_y/0156.npz',\n",
       " '/global/cfs/cdirs/m3443/data/ITk-upgrade/processed/gnn_processed/0.5GeV_barrel_y/0047.npz',\n",
       " '/global/cfs/cdirs/m3443/data/ITk-upgrade/processed/gnn_processed/0.5GeV_barrel_y/0057.npz',\n",
       " '/global/cfs/cdirs/m3443/data/ITk-upgrade/processed/gnn_processed/0.5GeV_barrel_y/0167.npz',\n",
       " '/global/cfs/cdirs/m3443/data/ITk-upgrade/processed/gnn_processed/0.5GeV_barrel_y/0177.npz',\n",
       " '/global/cfs/cdirs/m3443/data/ITk-upgrade/processed/gnn_processed/0.5GeV_barrel_y/0068.npz',\n",
       " '/global/cfs/cdirs/m3443/data/ITk-upgrade/processed/gnn_processed/0.5GeV_barrel_y/0100.npz',\n",
       " '/global/cfs/cdirs/m3443/data/ITk-upgrade/processed/gnn_processed/0.5GeV_barrel_y/0187.npz',\n",
       " '/global/cfs/cdirs/m3443/data/ITk-upgrade/processed/gnn_processed/0.5GeV_barrel_y/0078.npz',\n",
       " '/global/cfs/cdirs/m3443/data/ITk-upgrade/processed/gnn_processed/0.5GeV_barrel_y/0110.npz',\n",
       " '/global/cfs/cdirs/m3443/data/ITk-upgrade/processed/gnn_processed/0.5GeV_barrel_y/0001.npz',\n",
       " '/global/cfs/cdirs/m3443/data/ITk-upgrade/processed/gnn_processed/0.5GeV_barrel_y/0088.npz',\n",
       " '/global/cfs/cdirs/m3443/data/ITk-upgrade/processed/gnn_processed/0.5GeV_barrel_y/0120.npz',\n",
       " '/global/cfs/cdirs/m3443/data/ITk-upgrade/processed/gnn_processed/0.5GeV_barrel_y/0198.npz',\n",
       " '/global/cfs/cdirs/m3443/data/ITk-upgrade/processed/gnn_processed/0.5GeV_barrel_y/0011.npz',\n",
       " '/global/cfs/cdirs/m3443/data/ITk-upgrade/processed/gnn_processed/0.5GeV_barrel_y/0021.npz',\n",
       " '/global/cfs/cdirs/m3443/data/ITk-upgrade/processed/gnn_processed/0.5GeV_barrel_y/0099.npz',\n",
       " '/global/cfs/cdirs/m3443/data/ITk-upgrade/processed/gnn_processed/0.5GeV_barrel_y/0131.npz',\n",
       " '/global/cfs/cdirs/m3443/data/ITk-upgrade/processed/gnn_processed/0.5GeV_barrel_y/0141.npz',\n",
       " '/global/cfs/cdirs/m3443/data/ITk-upgrade/processed/gnn_processed/0.5GeV_barrel_y/0032.npz',\n",
       " '/global/cfs/cdirs/m3443/data/ITk-upgrade/processed/gnn_processed/0.5GeV_barrel_y/0151.npz',\n",
       " '/global/cfs/cdirs/m3443/data/ITk-upgrade/processed/gnn_processed/0.5GeV_barrel_y/0042.npz',\n",
       " '/global/cfs/cdirs/m3443/data/ITk-upgrade/processed/gnn_processed/0.5GeV_barrel_y/0052.npz',\n",
       " '/global/cfs/cdirs/m3443/data/ITk-upgrade/processed/gnn_processed/0.5GeV_barrel_y/0162.npz',\n",
       " '/global/cfs/cdirs/m3443/data/ITk-upgrade/processed/gnn_processed/0.5GeV_barrel_y/0172.npz',\n",
       " '/global/cfs/cdirs/m3443/data/ITk-upgrade/processed/gnn_processed/0.5GeV_barrel_y/0063.npz',\n",
       " '/global/cfs/cdirs/m3443/data/ITk-upgrade/processed/gnn_processed/0.5GeV_barrel_y/0182.npz',\n",
       " '/global/cfs/cdirs/m3443/data/ITk-upgrade/processed/gnn_processed/0.5GeV_barrel_y/0073.npz',\n",
       " '/global/cfs/cdirs/m3443/data/ITk-upgrade/processed/gnn_processed/0.5GeV_barrel_y/0083.npz',\n",
       " '/global/cfs/cdirs/m3443/data/ITk-upgrade/processed/gnn_processed/0.5GeV_barrel_y/0193.npz',\n",
       " '/global/cfs/cdirs/m3443/data/ITk-upgrade/processed/gnn_processed/0.5GeV_barrel_y/0094.npz',\n",
       " '/global/cfs/cdirs/m3443/data/ITk-upgrade/processed/gnn_processed/0.5GeV_barrel_y/0108.npz',\n",
       " '/global/cfs/cdirs/m3443/data/ITk-upgrade/processed/gnn_processed/0.5GeV_barrel_y/0118.npz',\n",
       " '/global/cfs/cdirs/m3443/data/ITk-upgrade/processed/gnn_processed/0.5GeV_barrel_y/0009.npz',\n",
       " '/global/cfs/cdirs/m3443/data/ITk-upgrade/processed/gnn_processed/0.5GeV_barrel_y/0128.npz',\n",
       " '/global/cfs/cdirs/m3443/data/ITk-upgrade/processed/gnn_processed/0.5GeV_barrel_y/0019.npz',\n",
       " '/global/cfs/cdirs/m3443/data/ITk-upgrade/processed/gnn_processed/0.5GeV_barrel_y/0029.npz',\n",
       " '/global/cfs/cdirs/m3443/data/ITk-upgrade/processed/gnn_processed/0.5GeV_barrel_y/0139.npz',\n",
       " '/global/cfs/cdirs/m3443/data/ITk-upgrade/processed/gnn_processed/0.5GeV_barrel_y/0149.npz',\n",
       " '/global/cfs/cdirs/m3443/data/ITk-upgrade/processed/gnn_processed/0.5GeV_barrel_y/0159.npz',\n",
       " '/global/cfs/cdirs/m3443/data/ITk-upgrade/processed/gnn_processed/0.5GeV_barrel_y/0103.npz',\n",
       " '/global/cfs/cdirs/m3443/data/ITk-upgrade/processed/gnn_processed/0.5GeV_barrel_y/0113.npz',\n",
       " '/global/cfs/cdirs/m3443/data/ITk-upgrade/processed/gnn_processed/0.5GeV_barrel_y/0004.npz',\n",
       " '/global/cfs/cdirs/m3443/data/ITk-upgrade/processed/gnn_processed/0.5GeV_barrel_y/0123.npz',\n",
       " '/global/cfs/cdirs/m3443/data/ITk-upgrade/processed/gnn_processed/0.5GeV_barrel_y/0014.npz',\n",
       " '/global/cfs/cdirs/m3443/data/ITk-upgrade/processed/gnn_processed/0.5GeV_barrel_y/0024.npz',\n",
       " '/global/cfs/cdirs/m3443/data/ITk-upgrade/processed/gnn_processed/0.5GeV_barrel_y/0134.npz',\n",
       " '/global/cfs/cdirs/m3443/data/ITk-upgrade/processed/gnn_processed/0.5GeV_barrel_y/0144.npz',\n",
       " '/global/cfs/cdirs/m3443/data/ITk-upgrade/processed/gnn_processed/0.5GeV_barrel_y/0035.npz',\n",
       " '/global/cfs/cdirs/m3443/data/ITk-upgrade/processed/gnn_processed/0.5GeV_barrel_y/0154.npz',\n",
       " '/global/cfs/cdirs/m3443/data/ITk-upgrade/processed/gnn_processed/0.5GeV_barrel_y/0045.npz',\n",
       " '/global/cfs/cdirs/m3443/data/ITk-upgrade/processed/gnn_processed/0.5GeV_barrel_y/0055.npz',\n",
       " '/global/cfs/cdirs/m3443/data/ITk-upgrade/processed/gnn_processed/0.5GeV_barrel_y/0165.npz',\n",
       " '/global/cfs/cdirs/m3443/data/ITk-upgrade/processed/gnn_processed/0.5GeV_barrel_y/0175.npz',\n",
       " '/global/cfs/cdirs/m3443/data/ITk-upgrade/processed/gnn_processed/0.5GeV_barrel_y/0066.npz',\n",
       " '/global/cfs/cdirs/m3443/data/ITk-upgrade/processed/gnn_processed/0.5GeV_barrel_y/0185.npz',\n",
       " '/global/cfs/cdirs/m3443/data/ITk-upgrade/processed/gnn_processed/0.5GeV_barrel_y/0076.npz',\n",
       " '/global/cfs/cdirs/m3443/data/ITk-upgrade/processed/gnn_processed/0.5GeV_barrel_y/0086.npz',\n",
       " '/global/cfs/cdirs/m3443/data/ITk-upgrade/processed/gnn_processed/0.5GeV_barrel_y/0196.npz',\n",
       " '/global/cfs/cdirs/m3443/data/ITk-upgrade/processed/gnn_processed/0.5GeV_barrel_y/0097.npz',\n",
       " '/global/cfs/cdirs/m3443/data/ITk-upgrade/processed/gnn_processed/0.5GeV_barrel_y/0030.npz',\n",
       " '/global/cfs/cdirs/m3443/data/ITk-upgrade/processed/gnn_processed/0.5GeV_barrel_y/0040.npz',\n",
       " '/global/cfs/cdirs/m3443/data/ITk-upgrade/processed/gnn_processed/0.5GeV_barrel_y/0050.npz',\n",
       " '/global/cfs/cdirs/m3443/data/ITk-upgrade/processed/gnn_processed/0.5GeV_barrel_y/0160.npz',\n",
       " '/global/cfs/cdirs/m3443/data/ITk-upgrade/processed/gnn_processed/0.5GeV_barrel_y/0170.npz',\n",
       " '/global/cfs/cdirs/m3443/data/ITk-upgrade/processed/gnn_processed/0.5GeV_barrel_y/0061.npz',\n",
       " '/global/cfs/cdirs/m3443/data/ITk-upgrade/processed/gnn_processed/0.5GeV_barrel_y/0180.npz',\n",
       " '/global/cfs/cdirs/m3443/data/ITk-upgrade/processed/gnn_processed/0.5GeV_barrel_y/0071.npz',\n",
       " '/global/cfs/cdirs/m3443/data/ITk-upgrade/processed/gnn_processed/0.5GeV_barrel_y/0081.npz',\n",
       " '/global/cfs/cdirs/m3443/data/ITk-upgrade/processed/gnn_processed/0.5GeV_barrel_y/0191.npz',\n",
       " '/global/cfs/cdirs/m3443/data/ITk-upgrade/processed/gnn_processed/0.5GeV_barrel_y/0092.npz',\n",
       " '/global/cfs/cdirs/m3443/data/ITk-upgrade/processed/gnn_processed/0.5GeV_barrel_y/0106.npz',\n",
       " '/global/cfs/cdirs/m3443/data/ITk-upgrade/processed/gnn_processed/0.5GeV_barrel_y/0116.npz',\n",
       " '/global/cfs/cdirs/m3443/data/ITk-upgrade/processed/gnn_processed/0.5GeV_barrel_y/0007.npz',\n",
       " '/global/cfs/cdirs/m3443/data/ITk-upgrade/processed/gnn_processed/0.5GeV_barrel_y/0126.npz',\n",
       " '/global/cfs/cdirs/m3443/data/ITk-upgrade/processed/gnn_processed/0.5GeV_barrel_y/0017.npz',\n",
       " '/global/cfs/cdirs/m3443/data/ITk-upgrade/processed/gnn_processed/0.5GeV_barrel_y/0027.npz',\n",
       " '/global/cfs/cdirs/m3443/data/ITk-upgrade/processed/gnn_processed/0.5GeV_barrel_y/0137.npz',\n",
       " '/global/cfs/cdirs/m3443/data/ITk-upgrade/processed/gnn_processed/0.5GeV_barrel_y/0147.npz',\n",
       " '/global/cfs/cdirs/m3443/data/ITk-upgrade/processed/gnn_processed/0.5GeV_barrel_y/0038.npz',\n",
       " '/global/cfs/cdirs/m3443/data/ITk-upgrade/processed/gnn_processed/0.5GeV_barrel_y/0157.npz',\n",
       " '/global/cfs/cdirs/m3443/data/ITk-upgrade/processed/gnn_processed/0.5GeV_barrel_y/0048.npz',\n",
       " '/global/cfs/cdirs/m3443/data/ITk-upgrade/processed/gnn_processed/0.5GeV_barrel_y/0058.npz',\n",
       " '/global/cfs/cdirs/m3443/data/ITk-upgrade/processed/gnn_processed/0.5GeV_barrel_y/0168.npz']"
      ]
     },
     "execution_count": 33,
     "metadata": {},
     "output_type": "execute_result"
    }
   ],
   "source": [
    "all_files"
   ]
  },
  {
   "cell_type": "code",
   "execution_count": 18,
   "id": "d2279d39",
   "metadata": {},
   "outputs": [],
   "source": [
    "graph = np.load(all_files[0])"
   ]
  },
  {
   "cell_type": "code",
   "execution_count": 23,
   "id": "bb74f0a7",
   "metadata": {},
   "outputs": [],
   "source": [
    "edge_list = np.stack([graph[\"senders\"], graph[\"receivers\"]])"
   ]
  },
  {
   "cell_type": "markdown",
   "id": "4de6af44",
   "metadata": {},
   "source": [
    "### Score"
   ]
  },
  {
   "cell_type": "code",
   "execution_count": 6,
   "id": "1c189e64",
   "metadata": {},
   "outputs": [],
   "source": [
    "def graphScore(model, events=None, output_dir=None):\n",
    "    if events is None:\n",
    "        events = model.valset\n",
    "    \n",
    "    # TODO: Run model over graphs and attach scores\n",
    "    # If output_dir, then save to output_dir, else return events\n",
    "    with torch.no_grad():\n",
    "        for event in model.valset:\n",
    "            batch = event.to(device)\n",
    "            \n",
    "            input_data = model.get_input_data(batch)\n",
    "            input_edges = torch.cat([batch.edge_index, batch.edge_index.flip(0)], dim=-1)\n",
    "            scores = torch.sigmoid(model(input_data, input_edges))[:event.edge_index.shape[1]]\n",
    "            \n",
    "            event.scores = scores"
   ]
  },
  {
   "cell_type": "code",
   "execution_count": 7,
   "id": "a05dbcec",
   "metadata": {},
   "outputs": [
    {
     "name": "stdout",
     "output_type": "stream",
     "text": [
      "CPU times: user 3.21 s, sys: 29.6 ms, total: 3.24 s\n",
      "Wall time: 3.31 s\n"
     ]
    }
   ],
   "source": [
    "%%time\n",
    "graphScore(model)"
   ]
  },
  {
   "cell_type": "markdown",
   "id": "60b9e82b",
   "metadata": {},
   "source": [
    "## Load/Build Triplet"
   ]
  },
  {
   "cell_type": "markdown",
   "id": "62ccf57b-3320-47e3-bb61-0279ef46b06e",
   "metadata": {},
   "source": [
    "First we cut the edge_index based on an edge_cut. Then convert the passing edges into a sparse representation. Then... "
   ]
  },
  {
   "cell_type": "markdown",
   "id": "0cad700c-5089-4bcc-a057-d185fa465bff",
   "metadata": {},
   "source": [
    "### Simple Test"
   ]
  },
  {
   "cell_type": "code",
   "execution_count": 8,
   "id": "a2ca8645-24b7-432f-959a-584be3efc52a",
   "metadata": {},
   "outputs": [],
   "source": [
    "passing_edges = torch.tensor([[0, 1, 1, 3], [1, 2, 3, 4]])\n",
    "passing_edges = torch.cat([passing_edges, passing_edges.flip(0)], dim=-1)"
   ]
  },
  {
   "cell_type": "code",
   "execution_count": 9,
   "id": "93812f57-d4e0-4634-a55b-f9abc3d2c4d4",
   "metadata": {},
   "outputs": [
    {
     "data": {
      "text/plain": [
       "tensor([[0, 1, 1, 3, 1, 2, 3, 4],\n",
       "        [1, 2, 3, 4, 0, 1, 1, 3]])"
      ]
     },
     "execution_count": 9,
     "metadata": {},
     "output_type": "execute_result"
    }
   ],
   "source": [
    "passing_edges"
   ]
  },
  {
   "cell_type": "code",
   "execution_count": 10,
   "id": "da3040f4-5d99-4943-af86-14f4ae57926c",
   "metadata": {},
   "outputs": [
    {
     "name": "stdout",
     "output_type": "stream",
     "text": [
      "CPU times: user 150 ms, sys: 27.1 ms, total: 177 ms\n",
      "Wall time: 619 ms\n"
     ]
    }
   ],
   "source": [
    "%%time\n",
    "passing_edges_cp = cp.asarray(passing_edges).astype('float32')\n",
    "num_edges = passing_edges.shape[1]"
   ]
  },
  {
   "cell_type": "code",
   "execution_count": 11,
   "id": "828ccf76-d1b0-4ccb-8ec0-2a1c63eb1527",
   "metadata": {},
   "outputs": [
    {
     "name": "stdout",
     "output_type": "stream",
     "text": [
      "CPU times: user 3.48 ms, sys: 0 ns, total: 3.48 ms\n",
      "Wall time: 8.01 ms\n"
     ]
    }
   ],
   "source": [
    "%%time\n",
    "e_ones = cp.array([1]*num_edges).astype('float32')\n",
    "e_arange = cp.arange(num_edges).astype('float32')\n",
    "e_max = passing_edges.max().item()"
   ]
  },
  {
   "cell_type": "code",
   "execution_count": 12,
   "id": "d57d1467-5302-4b62-a8f0-de48beb63612",
   "metadata": {},
   "outputs": [
    {
     "name": "stdout",
     "output_type": "stream",
     "text": [
      "CPU times: user 222 ms, sys: 96.4 ms, total: 318 ms\n",
      "Wall time: 1.04 s\n"
     ]
    }
   ],
   "source": [
    "%%time\n",
    "passing_edges_csr_in = cp.sparse.coo_matrix((e_ones, (passing_edges_cp[0], e_arange)), shape=(e_max+1, num_edges)).tocsr()\n",
    "passing_edges_csr_out = cp.sparse.coo_matrix((e_ones, (passing_edges_cp[1], e_arange)), shape=(e_max+1, num_edges)).tocsr()"
   ]
  },
  {
   "cell_type": "code",
   "execution_count": 13,
   "id": "050d3d9a-a030-45df-8915-23044e8fc108",
   "metadata": {},
   "outputs": [
    {
     "name": "stdout",
     "output_type": "stream",
     "text": [
      "CPU times: user 5.21 ms, sys: 560 µs, total: 5.77 ms\n",
      "Wall time: 7.45 ms\n"
     ]
    }
   ],
   "source": [
    "%%time\n",
    "triplet_edges = passing_edges_csr_out.T * passing_edges_csr_in"
   ]
  },
  {
   "cell_type": "code",
   "execution_count": 14,
   "id": "e05f6e8c-2ee3-4b2a-998e-ee49446a9f6f",
   "metadata": {},
   "outputs": [],
   "source": [
    "triplet_edges = triplet_edges.tocoo()"
   ]
  },
  {
   "cell_type": "code",
   "execution_count": 15,
   "id": "dd335e3b-0ab9-4c1d-aa29-c2afefc1ce96",
   "metadata": {},
   "outputs": [],
   "source": [
    "triplet_edges = torch.as_tensor(cp.stack([triplet_edges.row, triplet_edges.col]), device=device)"
   ]
  },
  {
   "cell_type": "code",
   "execution_count": 16,
   "id": "5edd9b59-e210-4326-bbd3-2d6d957dc750",
   "metadata": {},
   "outputs": [],
   "source": [
    "directed_map = torch.cat([torch.arange(num_edges/2), torch.arange(num_edges/2)]).int()"
   ]
  },
  {
   "cell_type": "code",
   "execution_count": 17,
   "id": "27ecaf1f-c9a2-48cb-90e5-df7444228a15",
   "metadata": {},
   "outputs": [
    {
     "data": {
      "text/plain": [
       "torch.Size([2, 16])"
      ]
     },
     "execution_count": 17,
     "metadata": {},
     "output_type": "execute_result"
    }
   ],
   "source": [
    "directed_map[triplet_edges.long()].shape"
   ]
  },
  {
   "cell_type": "code",
   "execution_count": 18,
   "id": "f7993f6e-fdd2-4f11-926c-51420e1072e6",
   "metadata": {},
   "outputs": [],
   "source": [
    "directed_triplet_edges = directed_map[triplet_edges.long()]"
   ]
  },
  {
   "cell_type": "code",
   "execution_count": 19,
   "id": "56cd9994-24f9-4eda-a293-758b66f5ad89",
   "metadata": {},
   "outputs": [],
   "source": [
    "trimmed_triplet_edges = directed_triplet_edges[:, directed_triplet_edges[0] != directed_triplet_edges[1]]"
   ]
  },
  {
   "cell_type": "code",
   "execution_count": 20,
   "id": "a5f5ea94-a21b-4d91-9aef-231c81648e27",
   "metadata": {},
   "outputs": [
    {
     "data": {
      "text/plain": [
       "tensor([[0, 0, 2, 1, 1, 2, 2, 3],\n",
       "        [1, 2, 3, 2, 0, 1, 0, 2]], dtype=torch.int32)"
      ]
     },
     "execution_count": 20,
     "metadata": {},
     "output_type": "execute_result"
    }
   ],
   "source": [
    "trimmed_triplet_edges"
   ]
  },
  {
   "cell_type": "code",
   "execution_count": 21,
   "id": "ed606cf1-4e1b-4360-9ad3-1939dbc7ac03",
   "metadata": {},
   "outputs": [
    {
     "data": {
      "text/plain": [
       "tensor([[0, 0, 2, 1],\n",
       "        [1, 2, 3, 2]], dtype=torch.int32)"
      ]
     },
     "execution_count": 21,
     "metadata": {},
     "output_type": "execute_result"
    }
   ],
   "source": [
    "trimmed_triplet_edges[:, trimmed_triplet_edges[0] < trimmed_triplet_edges[1]]"
   ]
  },
  {
   "cell_type": "markdown",
   "id": "797ad776-fd20-47a6-a3c0-59cae4c79962",
   "metadata": {},
   "source": [
    "### Build Method"
   ]
  },
  {
   "cell_type": "code",
   "execution_count": 23,
   "id": "b1913547",
   "metadata": {},
   "outputs": [],
   "source": [
    "def buildTriplets(graph, edge_cut=0.5, directed=True):\n",
    "    \n",
    "    undir_graph = torch.cat([graph.edge_index, graph.edge_index.flip(0)], dim=-1)\n",
    "    \n",
    "     # apply cut\n",
    "    passing_edges = undir_graph[:, graph.scores.repeat(2) > edge_cut]\n",
    "    passing_y_truth = graph.y[graph.scores > edge_cut]\n",
    "    passing_y_pid_truth = graph.y_pid[graph.scores > edge_cut]\n",
    "    \n",
    "    print(\"Eff:\", graph.y[graph.scores > edge_cut].sum() / graph.y.sum(), \"Pur:\", graph.y[graph.scores > edge_cut].sum() / (graph.scores > edge_cut).sum())\n",
    "    \n",
    "    # convert to cupy\n",
    "    passing_edges_cp = cp.asarray(passing_edges).astype('float32')\n",
    "    \n",
    "    # make some utility objects\n",
    "    num_edges = passing_edges.shape[1]\n",
    "    e_ones = cp.array([1]*num_edges).astype('float32')\n",
    "    e_arange = cp.arange(num_edges).astype('float32')\n",
    "    e_max = passing_edges.max().item()\n",
    "    \n",
    "    # build sparse edge array\n",
    "    passing_edges_csr_in = cp.sparse.coo_matrix((e_ones, (passing_edges_cp[0], e_arange)), shape=(e_max+1, num_edges)).tocsr()\n",
    "    passing_edges_csr_out = cp.sparse.coo_matrix((e_ones, (passing_edges_cp[1], e_arange)), shape=(e_max+1, num_edges)).tocsr()\n",
    "    \n",
    "    # convert to triplets\n",
    "    triplet_edges = passing_edges_csr_out.T * passing_edges_csr_in\n",
    "    triplet_edges = triplet_edges.tocoo()\n",
    "    \n",
    "    # convert back to pytorch\n",
    "    undirected_triplet_edges = torch.as_tensor(cp.stack([triplet_edges.row, triplet_edges.col]), device=device)\n",
    "    \n",
    "    # convert back to a single-direction edge list\n",
    "    if directed:\n",
    "        directed_map = torch.cat([torch.arange(num_edges/2), torch.arange(num_edges/2)]).int()\n",
    "        directed_triplet_edges = directed_map[undirected_triplet_edges.long()].long()\n",
    "        directed_triplet_edges = directed_triplet_edges[:, directed_triplet_edges[0] != directed_triplet_edges[1]] # Remove self-loops\n",
    "        directed_triplet_edges = directed_triplet_edges[:, directed_triplet_edges[0] < directed_triplet_edges[1]] # Remove duplicate edges\n",
    "        \n",
    "        return directed_triplet_edges, passing_y_truth[directed_triplet_edges].all(0), passing_y_pid_truth[directed_triplet_edges].all(0)\n",
    "    \n",
    "    else:\n",
    "        return undirected_triplet_edges, passing_y_truth[undirected_triplet_edges].all(0), passing_y_pid_truth[undirected_triplet_edges].all(0)"
   ]
  },
  {
   "cell_type": "code",
   "execution_count": 25,
   "id": "d7a16f28-2ee2-469f-b89e-892ae642e113",
   "metadata": {},
   "outputs": [],
   "source": [
    "graph = model.valset[0]"
   ]
  },
  {
   "cell_type": "code",
   "execution_count": 42,
   "id": "3a2b8a58-91b4-4dc9-a554-d954d3157003",
   "metadata": {},
   "outputs": [
    {
     "name": "stdout",
     "output_type": "stream",
     "text": [
      "Eff: tensor(0.9568, device='cuda:0') Pur: tensor(0.1516, device='cuda:0')\n",
      "CPU times: user 51.4 ms, sys: 924 µs, total: 52.4 ms\n",
      "Wall time: 38 ms\n"
     ]
    }
   ],
   "source": [
    "%%time\n",
    "triplet_edges, triplet_y_truth, triplet_y_pid_truth = buildTriplets(graph, edge_cut=0.2, directed=True)"
   ]
  },
  {
   "cell_type": "code",
   "execution_count": 43,
   "id": "55c676a0-15ef-4669-9980-9493c1dcade0",
   "metadata": {},
   "outputs": [
    {
     "data": {
      "text/plain": [
       "torch.Size([2, 107308])"
      ]
     },
     "execution_count": 43,
     "metadata": {},
     "output_type": "execute_result"
    }
   ],
   "source": [
    "triplet_edges.shape"
   ]
  },
  {
   "cell_type": "code",
   "execution_count": 44,
   "id": "825f18b7-0401-411f-aa6e-2366b061cf00",
   "metadata": {},
   "outputs": [
    {
     "data": {
      "text/plain": [
       "tensor([[ 0.0422,  0.0689, -0.2260],\n",
       "        [ 0.0398,  0.0228, -0.2445],\n",
       "        [ 0.0383, -0.0310, -0.2346],\n",
       "        ...,\n",
       "        [ 1.0001, -0.0086,  1.1771],\n",
       "        [ 0.9999, -0.0090,  1.2255],\n",
       "        [ 0.9995, -0.0095,  1.2255]], device='cuda:0')"
      ]
     },
     "execution_count": 44,
     "metadata": {},
     "output_type": "execute_result"
    }
   ],
   "source": [
    "graph.x"
   ]
  },
  {
   "cell_type": "code",
   "execution_count": 45,
   "id": "20935be1-7851-46be-a634-fb6d793c2de5",
   "metadata": {},
   "outputs": [
    {
     "data": {
      "text/plain": [
       "tensor([[    0,     0,     0,  ..., 35451, 35453, 35456],\n",
       "        [    1,     2, 17342,  ..., 35454, 35454, 35457]])"
      ]
     },
     "execution_count": 45,
     "metadata": {},
     "output_type": "execute_result"
    }
   ],
   "source": [
    "triplet_edges"
   ]
  },
  {
   "cell_type": "code",
   "execution_count": 56,
   "id": "ccc2f701-f0e1-4553-bc16-5f5c4a6f3b96",
   "metadata": {},
   "outputs": [],
   "source": [
    "x = graph.x\n",
    "c = graph.cell_data\n",
    "e = graph.edge_index"
   ]
  },
  {
   "cell_type": "code",
   "execution_count": 47,
   "id": "2bf22f2d-442c-4222-90c2-3ac4fe4fe342",
   "metadata": {},
   "outputs": [],
   "source": [
    "x_mean = (x[e[0]] + x[e[1]])/2"
   ]
  },
  {
   "cell_type": "code",
   "execution_count": 49,
   "id": "c6a0e77d-8aa7-4b42-822f-f68d1a1d4724",
   "metadata": {},
   "outputs": [],
   "source": [
    "x_diff = (x[e[0]] - x[e[1]]).abs()"
   ]
  },
  {
   "cell_type": "code",
   "execution_count": 50,
   "id": "d2656a15-68ea-4a1e-86c5-0f54074c17b2",
   "metadata": {},
   "outputs": [
    {
     "data": {
      "text/plain": [
       "tensor([[1.0668e-01, 1.0719e-02, 6.3056e-01],\n",
       "        [1.4100e-01, 5.1535e-03, 8.0265e-01],\n",
       "        [1.3625e-01, 9.0008e-03, 8.0471e-01],\n",
       "        ...,\n",
       "        [1.5900e-02, 1.1801e-03, 3.6003e-02],\n",
       "        [1.5670e-02, 1.3558e-03, 4.7430e-02],\n",
       "        [1.6271e-02, 7.1364e-04, 2.1740e-03]], device='cuda:0')"
      ]
     },
     "execution_count": 50,
     "metadata": {},
     "output_type": "execute_result"
    }
   ],
   "source": [
    "x_diff"
   ]
  },
  {
   "cell_type": "code",
   "execution_count": 51,
   "id": "4964172a-8e52-4724-9006-875de21ce229",
   "metadata": {},
   "outputs": [],
   "source": [
    "triplet_x = torch.cat([x_mean, x_diff], dim=-1)"
   ]
  },
  {
   "cell_type": "code",
   "execution_count": 53,
   "id": "308002d6-70ae-4253-a4bc-8bc19233a043",
   "metadata": {},
   "outputs": [
    {
     "data": {
      "text/plain": [
       "torch.Size([310705, 6])"
      ]
     },
     "execution_count": 53,
     "metadata": {},
     "output_type": "execute_result"
    }
   ],
   "source": [
    "triplet_x.shape"
   ]
  },
  {
   "cell_type": "code",
   "execution_count": null,
   "id": "fd67a50f-cb29-4882-b2c3-2a3eab1f6dff",
   "metadata": {},
   "outputs": [],
   "source": []
  }
 ],
 "metadata": {
  "@webio": {
   "lastCommId": null,
   "lastKernelId": null
  },
  "kernelspec": {
   "display_name": "ExaPerlmutter",
   "language": "python",
   "name": "exa"
  },
  "language_info": {
   "codemirror_mode": {
    "name": "ipython",
    "version": 3
   },
   "file_extension": ".py",
   "mimetype": "text/x-python",
   "name": "python",
   "nbconvert_exporter": "python",
   "pygments_lexer": "ipython3",
   "version": "3.8.12"
  }
 },
 "nbformat": 4,
 "nbformat_minor": 5
}
