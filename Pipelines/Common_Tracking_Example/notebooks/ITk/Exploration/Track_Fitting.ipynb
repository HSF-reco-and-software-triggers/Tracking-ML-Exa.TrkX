{
 "cells": [
  {
   "cell_type": "markdown",
   "metadata": {},
   "source": [
    "# Example of Track Reconstruction from Graph Output"
   ]
  },
  {
   "cell_type": "code",
   "execution_count": 1,
   "metadata": {},
   "outputs": [],
   "source": [
    "%load_ext autoreload\n",
    "%autoreload 2\n",
    "\n",
    "# System imports\n",
    "import os\n",
    "import sys\n",
    "import yaml\n",
    "import logging\n",
    "\n",
    "# External imports\n",
    "import matplotlib.pyplot as plt\n",
    "import numpy as np\n",
    "import pandas as pd\n",
    "from tqdm import tqdm\n",
    "\n",
    "# import seaborn as sns\n",
    "import torch\n",
    "\n",
    "import warnings\n",
    "\n",
    "warnings.filterwarnings(\"ignore\")\n",
    "sys.path.append(\"../../..\")\n",
    "\n",
    "from notebooks.ITk.utils import *\n",
    "from onetrack import TrackingData\n",
    "from onetrack.file_utils import list_files\n",
    "device = \"cuda\" if torch.cuda.is_available() else \"cpu\"\n",
    "logging.basicConfig(level=logging.INFO)"
   ]
  },
  {
   "cell_type": "markdown",
   "metadata": {},
   "source": [
    "## Implementation"
   ]
  },
  {
   "cell_type": "code",
   "execution_count": 2,
   "metadata": {},
   "outputs": [],
   "source": [
    "# Read yaml config \n",
    "with open(\"tracking_config.yaml\", \"r\") as f:\n",
    "    config = yaml.safe_load(f)"
   ]
  },
  {
   "cell_type": "code",
   "execution_count": 3,
   "metadata": {},
   "outputs": [],
   "source": [
    "# Load in files\n",
    "files = list_files(os.path.join(config[\"graph_input_dir\"], \"train\"))[:10]"
   ]
  },
  {
   "cell_type": "code",
   "execution_count": 4,
   "metadata": {},
   "outputs": [],
   "source": [
    "sample = torch.load(files[0], map_location=\"cpu\")"
   ]
  },
  {
   "cell_type": "code",
   "execution_count": 4,
   "metadata": {},
   "outputs": [
    {
     "name": "stderr",
     "output_type": "stream",
     "text": [
      "INFO:root:Loading files\n"
     ]
    },
    {
     "data": {
      "application/vnd.jupyter.widget-view+json": {
       "model_id": "d34d069bb103407faceda578dcc4b708",
       "version_major": 2,
       "version_minor": 0
      },
      "text/plain": [
       "  0%|          | 0/10 [00:00<?, ?it/s]"
      ]
     },
     "metadata": {},
     "output_type": "display_data"
    },
    {
     "name": "stderr",
     "output_type": "stream",
     "text": [
      "INFO:root:Building events\n"
     ]
    },
    {
     "data": {
      "application/vnd.jupyter.widget-view+json": {
       "model_id": "2a6b93ea527f419599a13674b28eaf51",
       "version_major": 2,
       "version_minor": 0
      },
      "text/plain": [
       "  0%|          | 0/10 [00:00<?, ?it/s]"
      ]
     },
     "metadata": {},
     "output_type": "display_data"
    }
   ],
   "source": [
    "# Build TrackingData object\n",
    "tracking_data = TrackingData(files)"
   ]
  },
  {
   "cell_type": "markdown",
   "metadata": {},
   "source": [
    "## Example usage"
   ]
  },
  {
   "cell_type": "markdown",
   "metadata": {},
   "source": [
    "Sanity check the graph:"
   ]
  },
  {
   "cell_type": "code",
   "execution_count": 9,
   "metadata": {},
   "outputs": [
    {
     "name": "stderr",
     "output_type": "stream",
     "text": [
      "INFO:root:Building candidates with sanity check: True\n"
     ]
    },
    {
     "data": {
      "application/vnd.jupyter.widget-view+json": {
       "model_id": "340d481341a441ef94c65a7448b706f5",
       "version_major": 2,
       "version_minor": 0
      },
      "text/plain": [
       "  0%|          | 0/10 [00:00<?, ?it/s]"
      ]
     },
     "metadata": {},
     "output_type": "display_data"
    }
   ],
   "source": [
    "tracking_data.build_candidates(building_method=\"CC\", sanity_check=True)"
   ]
  },
  {
   "cell_type": "code",
   "execution_count": 10,
   "metadata": {},
   "outputs": [
    {
     "name": "stderr",
     "output_type": "stream",
     "text": [
      "INFO:root:Evaluating candidates\n"
     ]
    },
    {
     "data": {
      "application/vnd.jupyter.widget-view+json": {
       "model_id": "8a65abde53dc46b09e5ccb0e1ea68eb9",
       "version_major": 2,
       "version_minor": 0
      },
      "text/plain": [
       "  0%|          | 0/10 [00:00<?, ?it/s]"
      ]
     },
     "metadata": {},
     "output_type": "display_data"
    },
    {
     "name": "stdout",
     "output_type": "stream",
     "text": [
      "{'building_method': 'CC', 'evaluation_method': 'matching', 'eff': 0.9780466386964581, 'single_eff': 0.978729632159235, 'fr': 8.520790729382721e-05, 'dup': 0.14579072937968643}\n",
      "n_true_tracks: 10249, n_reco_tracks: 11736, n_matched_particles: 10024, n_matched_tracks: 11735, n_duplicated_tracks: 1711\n"
     ]
    }
   ],
   "source": [
    "tracking_data.evaluate_candidates(evaluation_method=\"matching\")"
   ]
  },
  {
   "cell_type": "markdown",
   "metadata": {},
   "source": [
    "Now run real pipeline:"
   ]
  },
  {
   "cell_type": "code",
   "execution_count": 69,
   "metadata": {},
   "outputs": [
    {
     "name": "stderr",
     "output_type": "stream",
     "text": [
      "INFO:root:Building candidates with sanity check: False\n"
     ]
    },
    {
     "data": {
      "application/vnd.jupyter.widget-view+json": {
       "model_id": "dee9e68ddc98425393988f5921c05d97",
       "version_major": 2,
       "version_minor": 0
      },
      "text/plain": [
       "  0%|          | 0/10 [00:00<?, ?it/s]"
      ]
     },
     "metadata": {},
     "output_type": "display_data"
    }
   ],
   "source": [
    "tracking_data.build_candidates(building_method=\"CC\", score_cut = 0.85)"
   ]
  },
  {
   "cell_type": "code",
   "execution_count": 70,
   "metadata": {},
   "outputs": [],
   "source": [
    "matching_config = {\n",
    "    \"min_hits_truth\": 9,\n",
    "    \"min_hits_reco\": 5,\n",
    "    \"frac_reco_matched\": 0.5,\n",
    "    \"frac_truth_matched\": 0.5,\n",
    "}"
   ]
  },
  {
   "cell_type": "code",
   "execution_count": 71,
   "metadata": {},
   "outputs": [
    {
     "name": "stderr",
     "output_type": "stream",
     "text": [
      "INFO:root:Evaluating candidates\n"
     ]
    },
    {
     "data": {
      "application/vnd.jupyter.widget-view+json": {
       "model_id": "5e53b54dab064c52bc5c61a581e9f639",
       "version_major": 2,
       "version_minor": 0
      },
      "text/plain": [
       "  0%|          | 0/10 [00:00<?, ?it/s]"
      ]
     },
     "metadata": {},
     "output_type": "display_data"
    },
    {
     "name": "stdout",
     "output_type": "stream",
     "text": [
      "{'building_method': 'CC', 'evaluation_method': 'matching', 'eff': 0.9417504146746024, 'single_eff': 0.945262952483169, 'fr': 0.005251346499102305, 'dup': 0.07136445242369839}\n",
      "n_true_tracks: 10249, n_reco_tracks: 22280, n_matched_particles: 9652, n_matched_tracks: 22163, n_duplicated_tracks: 1590\n"
     ]
    }
   ],
   "source": [
    "tracking_data.evaluate_candidates(evaluation_method=\"matching\", **matching_config)"
   ]
  },
  {
   "cell_type": "markdown",
   "metadata": {},
   "source": [
    "## Resolution of Track Parameters"
   ]
  },
  {
   "cell_type": "code",
   "execution_count": 9,
   "metadata": {},
   "outputs": [],
   "source": [
    "def conformal_mapping(x, y, z):\n",
    "    \"\"\"\n",
    "    x, y, z: np.array([])\n",
    "    return: \n",
    "    \"\"\"\n",
    "    # ref. 10.1016/0168-9002(88)90722-X\n",
    "    r = x**2 + y**2\n",
    "    u = x/r\n",
    "    v = y/r\n",
    "    # assuming the imapact parameter is small\n",
    "    # the v = 1/(2b) - u x a/b - u^2 x epsilon x (R/b)^3\n",
    "    pp, res1, _, _, _ = np.polyfit(u, v, 2, full=True)\n",
    "    b = 0.5/pp[2]\n",
    "    a = -pp[1]*b\n",
    "    R = np.sqrt(a**2 + b**2)\n",
    "    e = -pp[0] / (R/b)**3 # approximately equals to d0\n",
    "    magnetic_field = 2.0\n",
    "    pT = 0.3*magnetic_field*R/1000 # in GeV\n",
    "    # print(a, b, R, e, pT)\n",
    "\n",
    "    p_rz, res2, _, _, _ = np.polyfit(np.sqrt(r), z, 2, full=True)\n",
    "    pp_rz = np.poly1d(p_rz)\n",
    "    z0 = pp_rz(abs(e))\n",
    "\n",
    "    r3 = np.sqrt(r + z**2)\n",
    "    p_zr, res3, _, _, _ = np.polyfit(r3, z, 2, full=True)\n",
    "    cos_val = p_zr[0]*z0 + p_zr[1]\n",
    "    theta = np.arccos(cos_val)\n",
    "    eta = -np.log(np.tan(theta/2.))\n",
    "    phi = np.arctan2(b, a)\n",
    "\n",
    "    return e, z0, eta, phi, pT, res1, res2, res3"
   ]
  },
  {
   "cell_type": "code",
   "execution_count": 13,
   "metadata": {},
   "outputs": [
    {
     "data": {
      "text/html": [
       "<div>\n",
       "<style scoped>\n",
       "    .dataframe tbody tr th:only-of-type {\n",
       "        vertical-align: middle;\n",
       "    }\n",
       "\n",
       "    .dataframe tbody tr th {\n",
       "        vertical-align: top;\n",
       "    }\n",
       "\n",
       "    .dataframe thead th {\n",
       "        text-align: right;\n",
       "    }\n",
       "</style>\n",
       "<table border=\"1\" class=\"dataframe\">\n",
       "  <thead>\n",
       "    <tr style=\"text-align: right;\">\n",
       "      <th></th>\n",
       "      <th>hit_id</th>\n",
       "      <th>track_id</th>\n",
       "      <th>x</th>\n",
       "      <th>y</th>\n",
       "      <th>z</th>\n",
       "      <th>cluster_index_1</th>\n",
       "      <th>cluster_index_2</th>\n",
       "      <th>particle_id</th>\n",
       "      <th>hardware</th>\n",
       "      <th>cluster_x_1</th>\n",
       "      <th>...</th>\n",
       "      <th>status</th>\n",
       "      <th>charge</th>\n",
       "      <th>pdgId</th>\n",
       "      <th>pass</th>\n",
       "      <th>vProdNIn</th>\n",
       "      <th>vProdNOut</th>\n",
       "      <th>vProdStatus</th>\n",
       "      <th>vProdBarcode</th>\n",
       "      <th>is_fiducial</th>\n",
       "      <th>is_matched</th>\n",
       "    </tr>\n",
       "  </thead>\n",
       "  <tbody>\n",
       "    <tr>\n",
       "      <th>0</th>\n",
       "      <td>0</td>\n",
       "      <td>0</td>\n",
       "      <td>-41.8120</td>\n",
       "      <td>-5.93617</td>\n",
       "      <td>-263.00</td>\n",
       "      <td>0.0</td>\n",
       "      <td>-1.0</td>\n",
       "      <td>6.752000e+10</td>\n",
       "      <td>PIXEL</td>\n",
       "      <td>-41.8120</td>\n",
       "      <td>...</td>\n",
       "      <td>1.0</td>\n",
       "      <td>-1.0</td>\n",
       "      <td>-211.0</td>\n",
       "      <td>NO</td>\n",
       "      <td>1.0</td>\n",
       "      <td>2.0</td>\n",
       "      <td>0.0</td>\n",
       "      <td>-1096.0</td>\n",
       "      <td>False</td>\n",
       "      <td>True</td>\n",
       "    </tr>\n",
       "    <tr>\n",
       "      <th>1</th>\n",
       "      <td>15</td>\n",
       "      <td>15</td>\n",
       "      <td>-35.9003</td>\n",
       "      <td>-7.22228</td>\n",
       "      <td>-263.00</td>\n",
       "      <td>15.0</td>\n",
       "      <td>-1.0</td>\n",
       "      <td>6.762000e+10</td>\n",
       "      <td>PIXEL</td>\n",
       "      <td>-35.9003</td>\n",
       "      <td>...</td>\n",
       "      <td>1.0</td>\n",
       "      <td>1.0</td>\n",
       "      <td>2212.0</td>\n",
       "      <td>YES</td>\n",
       "      <td>37.0</td>\n",
       "      <td>82.0</td>\n",
       "      <td>0.0</td>\n",
       "      <td>-338.0</td>\n",
       "      <td>True</td>\n",
       "      <td>True</td>\n",
       "    </tr>\n",
       "    <tr>\n",
       "      <th>2</th>\n",
       "      <td>21</td>\n",
       "      <td>21</td>\n",
       "      <td>-55.1714</td>\n",
       "      <td>-9.88259</td>\n",
       "      <td>-263.00</td>\n",
       "      <td>21.0</td>\n",
       "      <td>-1.0</td>\n",
       "      <td>6.769000e+10</td>\n",
       "      <td>PIXEL</td>\n",
       "      <td>-55.1714</td>\n",
       "      <td>...</td>\n",
       "      <td>1.0</td>\n",
       "      <td>1.0</td>\n",
       "      <td>211.0</td>\n",
       "      <td>NO</td>\n",
       "      <td>13.0</td>\n",
       "      <td>19.0</td>\n",
       "      <td>0.0</td>\n",
       "      <td>-306.0</td>\n",
       "      <td>False</td>\n",
       "      <td>True</td>\n",
       "    </tr>\n",
       "    <tr>\n",
       "      <th>3</th>\n",
       "      <td>22</td>\n",
       "      <td>22</td>\n",
       "      <td>-47.5729</td>\n",
       "      <td>-21.21410</td>\n",
       "      <td>-263.00</td>\n",
       "      <td>22.0</td>\n",
       "      <td>-1.0</td>\n",
       "      <td>6.060000e+02</td>\n",
       "      <td>PIXEL</td>\n",
       "      <td>-47.5729</td>\n",
       "      <td>...</td>\n",
       "      <td>1.0</td>\n",
       "      <td>1.0</td>\n",
       "      <td>211.0</td>\n",
       "      <td>YES</td>\n",
       "      <td>15.0</td>\n",
       "      <td>33.0</td>\n",
       "      <td>0.0</td>\n",
       "      <td>-431.0</td>\n",
       "      <td>True</td>\n",
       "      <td>True</td>\n",
       "    </tr>\n",
       "    <tr>\n",
       "      <th>4</th>\n",
       "      <td>28</td>\n",
       "      <td>28</td>\n",
       "      <td>-34.6797</td>\n",
       "      <td>-12.03040</td>\n",
       "      <td>-263.00</td>\n",
       "      <td>28.0</td>\n",
       "      <td>-1.0</td>\n",
       "      <td>6.901000e+10</td>\n",
       "      <td>PIXEL</td>\n",
       "      <td>-34.6797</td>\n",
       "      <td>...</td>\n",
       "      <td>1.0</td>\n",
       "      <td>-1.0</td>\n",
       "      <td>-211.0</td>\n",
       "      <td>NO</td>\n",
       "      <td>1.0</td>\n",
       "      <td>3.0</td>\n",
       "      <td>0.0</td>\n",
       "      <td>-474.0</td>\n",
       "      <td>False</td>\n",
       "      <td>True</td>\n",
       "    </tr>\n",
       "    <tr>\n",
       "      <th>...</th>\n",
       "      <td>...</td>\n",
       "      <td>...</td>\n",
       "      <td>...</td>\n",
       "      <td>...</td>\n",
       "      <td>...</td>\n",
       "      <td>...</td>\n",
       "      <td>...</td>\n",
       "      <td>...</td>\n",
       "      <td>...</td>\n",
       "      <td>...</td>\n",
       "      <td>...</td>\n",
       "      <td>...</td>\n",
       "      <td>...</td>\n",
       "      <td>...</td>\n",
       "      <td>...</td>\n",
       "      <td>...</td>\n",
       "      <td>...</td>\n",
       "      <td>...</td>\n",
       "      <td>...</td>\n",
       "      <td>...</td>\n",
       "      <td>...</td>\n",
       "    </tr>\n",
       "    <tr>\n",
       "      <th>27860</th>\n",
       "      <td>321232</td>\n",
       "      <td>113048</td>\n",
       "      <td>NaN</td>\n",
       "      <td>NaN</td>\n",
       "      <td>NaN</td>\n",
       "      <td>NaN</td>\n",
       "      <td>NaN</td>\n",
       "      <td>NaN</td>\n",
       "      <td>NaN</td>\n",
       "      <td>NaN</td>\n",
       "      <td>...</td>\n",
       "      <td>NaN</td>\n",
       "      <td>NaN</td>\n",
       "      <td>NaN</td>\n",
       "      <td>NaN</td>\n",
       "      <td>NaN</td>\n",
       "      <td>NaN</td>\n",
       "      <td>NaN</td>\n",
       "      <td>NaN</td>\n",
       "      <td>NaN</td>\n",
       "      <td>True</td>\n",
       "    </tr>\n",
       "    <tr>\n",
       "      <th>27861</th>\n",
       "      <td>321233</td>\n",
       "      <td>91293</td>\n",
       "      <td>519.5110</td>\n",
       "      <td>-447.18100</td>\n",
       "      <td>2839.25</td>\n",
       "      <td>449745.0</td>\n",
       "      <td>449769.0</td>\n",
       "      <td>6.788000e+10</td>\n",
       "      <td>STRIP</td>\n",
       "      <td>518.3820</td>\n",
       "      <td>...</td>\n",
       "      <td>1.0</td>\n",
       "      <td>1.0</td>\n",
       "      <td>2212.0</td>\n",
       "      <td>YES</td>\n",
       "      <td>19.0</td>\n",
       "      <td>36.0</td>\n",
       "      <td>0.0</td>\n",
       "      <td>-592.0</td>\n",
       "      <td>True</td>\n",
       "      <td>True</td>\n",
       "    </tr>\n",
       "    <tr>\n",
       "      <th>27862</th>\n",
       "      <td>321318</td>\n",
       "      <td>82388</td>\n",
       "      <td>822.4670</td>\n",
       "      <td>-378.89400</td>\n",
       "      <td>2839.25</td>\n",
       "      <td>450002.0</td>\n",
       "      <td>450015.0</td>\n",
       "      <td>6.863000e+10</td>\n",
       "      <td>STRIP</td>\n",
       "      <td>806.2730</td>\n",
       "      <td>...</td>\n",
       "      <td>1.0</td>\n",
       "      <td>1.0</td>\n",
       "      <td>211.0</td>\n",
       "      <td>YES</td>\n",
       "      <td>5.0</td>\n",
       "      <td>8.0</td>\n",
       "      <td>0.0</td>\n",
       "      <td>-138.0</td>\n",
       "      <td>True</td>\n",
       "      <td>True</td>\n",
       "    </tr>\n",
       "    <tr>\n",
       "      <th>27863</th>\n",
       "      <td>321363</td>\n",
       "      <td>91788</td>\n",
       "      <td>822.6300</td>\n",
       "      <td>-300.09600</td>\n",
       "      <td>2839.25</td>\n",
       "      <td>450094.0</td>\n",
       "      <td>450109.0</td>\n",
       "      <td>6.783000e+10</td>\n",
       "      <td>STRIP</td>\n",
       "      <td>833.7120</td>\n",
       "      <td>...</td>\n",
       "      <td>1.0</td>\n",
       "      <td>-1.0</td>\n",
       "      <td>-321.0</td>\n",
       "      <td>YES</td>\n",
       "      <td>1.0</td>\n",
       "      <td>2.0</td>\n",
       "      <td>0.0</td>\n",
       "      <td>-1052.0</td>\n",
       "      <td>True</td>\n",
       "      <td>True</td>\n",
       "    </tr>\n",
       "    <tr>\n",
       "      <th>27864</th>\n",
       "      <td>321367</td>\n",
       "      <td>282099</td>\n",
       "      <td>831.0320</td>\n",
       "      <td>-328.11900</td>\n",
       "      <td>2839.25</td>\n",
       "      <td>450097.0</td>\n",
       "      <td>450108.0</td>\n",
       "      <td>6.858000e+10</td>\n",
       "      <td>STRIP</td>\n",
       "      <td>825.5730</td>\n",
       "      <td>...</td>\n",
       "      <td>1.0</td>\n",
       "      <td>1.0</td>\n",
       "      <td>211.0</td>\n",
       "      <td>YES</td>\n",
       "      <td>1.0</td>\n",
       "      <td>2.0</td>\n",
       "      <td>0.0</td>\n",
       "      <td>-866.0</td>\n",
       "      <td>True</td>\n",
       "      <td>True</td>\n",
       "    </tr>\n",
       "  </tbody>\n",
       "</table>\n",
       "<p>27865 rows × 48 columns</p>\n",
       "</div>"
      ],
      "text/plain": [
       "       hit_id  track_id         x          y        z  cluster_index_1  \\\n",
       "0           0         0  -41.8120   -5.93617  -263.00              0.0   \n",
       "1          15        15  -35.9003   -7.22228  -263.00             15.0   \n",
       "2          21        21  -55.1714   -9.88259  -263.00             21.0   \n",
       "3          22        22  -47.5729  -21.21410  -263.00             22.0   \n",
       "4          28        28  -34.6797  -12.03040  -263.00             28.0   \n",
       "...       ...       ...       ...        ...      ...              ...   \n",
       "27860  321232    113048       NaN        NaN      NaN              NaN   \n",
       "27861  321233     91293  519.5110 -447.18100  2839.25         449745.0   \n",
       "27862  321318     82388  822.4670 -378.89400  2839.25         450002.0   \n",
       "27863  321363     91788  822.6300 -300.09600  2839.25         450094.0   \n",
       "27864  321367    282099  831.0320 -328.11900  2839.25         450097.0   \n",
       "\n",
       "       cluster_index_2   particle_id hardware  cluster_x_1  ...  status  \\\n",
       "0                 -1.0  6.752000e+10    PIXEL     -41.8120  ...     1.0   \n",
       "1                 -1.0  6.762000e+10    PIXEL     -35.9003  ...     1.0   \n",
       "2                 -1.0  6.769000e+10    PIXEL     -55.1714  ...     1.0   \n",
       "3                 -1.0  6.060000e+02    PIXEL     -47.5729  ...     1.0   \n",
       "4                 -1.0  6.901000e+10    PIXEL     -34.6797  ...     1.0   \n",
       "...                ...           ...      ...          ...  ...     ...   \n",
       "27860              NaN           NaN      NaN          NaN  ...     NaN   \n",
       "27861         449769.0  6.788000e+10    STRIP     518.3820  ...     1.0   \n",
       "27862         450015.0  6.863000e+10    STRIP     806.2730  ...     1.0   \n",
       "27863         450109.0  6.783000e+10    STRIP     833.7120  ...     1.0   \n",
       "27864         450108.0  6.858000e+10    STRIP     825.5730  ...     1.0   \n",
       "\n",
       "       charge   pdgId  pass  vProdNIn  vProdNOut  vProdStatus  vProdBarcode  \\\n",
       "0        -1.0  -211.0    NO       1.0        2.0          0.0       -1096.0   \n",
       "1         1.0  2212.0   YES      37.0       82.0          0.0        -338.0   \n",
       "2         1.0   211.0    NO      13.0       19.0          0.0        -306.0   \n",
       "3         1.0   211.0   YES      15.0       33.0          0.0        -431.0   \n",
       "4        -1.0  -211.0    NO       1.0        3.0          0.0        -474.0   \n",
       "...       ...     ...   ...       ...        ...          ...           ...   \n",
       "27860     NaN     NaN   NaN       NaN        NaN          NaN           NaN   \n",
       "27861     1.0  2212.0   YES      19.0       36.0          0.0        -592.0   \n",
       "27862     1.0   211.0   YES       5.0        8.0          0.0        -138.0   \n",
       "27863    -1.0  -321.0   YES       1.0        2.0          0.0       -1052.0   \n",
       "27864     1.0   211.0   YES       1.0        2.0          0.0        -866.0   \n",
       "\n",
       "       is_fiducial  is_matched  \n",
       "0            False        True  \n",
       "1             True        True  \n",
       "2            False        True  \n",
       "3             True        True  \n",
       "4            False        True  \n",
       "...            ...         ...  \n",
       "27860          NaN        True  \n",
       "27861         True        True  \n",
       "27862         True        True  \n",
       "27863         True        True  \n",
       "27864         True        True  \n",
       "\n",
       "[27865 rows x 48 columns]"
      ]
     },
     "execution_count": 13,
     "metadata": {},
     "output_type": "execute_result"
    }
   ],
   "source": [
    "tracking_data[0].candidates.evaluation[\"candidates\"]"
   ]
  },
  {
   "cell_type": "code",
   "execution_count": 71,
   "metadata": {},
   "outputs": [],
   "source": [
    "event = tracking_data[0]\n",
    "tracks = event.candidates.evaluation[\"candidates\"]\n",
    "particles = event.event_truth.particles\n",
    "tracks = tracks[tracks.is_matched]"
   ]
  },
  {
   "cell_type": "code",
   "execution_count": 72,
   "metadata": {},
   "outputs": [],
   "source": [
    "# Append count number of track_ids to each track row\n",
    "tracks = tracks.merge(tracks.groupby(\"track_id\").count().hit_id, on=\"track_id\")\n",
    "tracks.rename(columns={\"hit_id_y\": \"n_hits\"}, inplace=True)\n",
    "tracks = tracks[tracks.n_hits >= 5]"
   ]
  },
  {
   "cell_type": "code",
   "execution_count": 202,
   "metadata": {},
   "outputs": [
    {
     "name": "stderr",
     "output_type": "stream",
     "text": [
      "100%|██████████| 2415/2415 [00:02<00:00, 923.97it/s] \n"
     ]
    },
    {
     "name": "stdout",
     "output_type": "stream",
     "text": [
      "Mapped 2132 tracks\n",
      "eta error: 0.0001554933339970343 +/- 0.08786549861323548\n",
      "pt error: 1.304236370979597 +/- 1.0346854062947457\n",
      "Residual: 57.993764872873804 +/- 195.8772799789682\n"
     ]
    }
   ],
   "source": [
    "eta_error, pt_error = [], []\n",
    "track_eta_list, track_pt_list = [], []\n",
    "truth_eta_list, truth_pt_list = [], []\n",
    "res_list = []\n",
    "\n",
    "for track_id in tqdm(tracks.track_id.unique()):\n",
    "    try:\n",
    "        track = tracks[tracks.track_id == track_id]\n",
    "        x, y, z = track.x.values, track.y.values, track.z.values\n",
    "        e, z0, eta, phi, pT, res1, res2, res3 = conformal_mapping(x, y, z)\n",
    "        \n",
    "        if pT > 10:\n",
    "            continue\n",
    "\n",
    "        eta_error.append(eta - track.eta.mean())\n",
    "        pt_error.append(pT / (track.pt.mean()/1000))\n",
    "        track_eta_list.append(eta)\n",
    "        track_pt_list.append(pT)\n",
    "        truth_eta_list.append(track.eta.mean())\n",
    "        truth_pt_list.append(track.pt.mean()/1000)\n",
    "        res_list.append(res1 + res2 + res3)\n",
    "\n",
    "    except:\n",
    "        pass\n",
    "\n",
    "eta_error, pt_error = np.array(eta_error), np.array(pt_error)\n",
    "eta_error, pt_error = eta_error[~np.isnan(eta_error)], pt_error[~np.isnan(pt_error)]\n",
    "track_eta_list, track_pt_list = np.array(track_eta_list), np.array(track_pt_list)\n",
    "track_eta_list, track_pt_list = track_eta_list[~np.isnan(track_eta_list)], track_pt_list[~np.isnan(track_pt_list)]\n",
    "truth_eta_list, truth_pt_list = np.array(truth_eta_list), np.array(truth_pt_list)\n",
    "truth_eta_list, truth_pt_list = truth_eta_list[~np.isnan(truth_eta_list)], truth_pt_list[~np.isnan(truth_pt_list)]\n",
    "res_list = np.array(res_list)\n",
    "res_list = res_list[~np.isnan(res_list)]\n",
    "\n",
    "print(f\"Mapped {len(eta_error)} tracks\")\n",
    "print(f\"eta error: {np.mean(eta_error)} +/- {np.std(eta_error)}\")\n",
    "print(f\"pt error: {np.mean(pt_error)} +/- {np.std(pt_error)}\")\n",
    "print(f\"Residual: {np.mean(res_list)} +/- {np.std(res_list)}\")\n"
   ]
  },
  {
   "cell_type": "code",
   "execution_count": 191,
   "metadata": {},
   "outputs": [
    {
     "data": {
      "text/plain": [
       "Text(0.95, 0.95, '$\\\\eta$ error\\n(truth eta - track eta)\\n0.00 +/- 0.09')"
      ]
     },
     "execution_count": 191,
     "metadata": {},
     "output_type": "execute_result"
    },
    {
     "data": {
      "image/png": "[encoded data removed]",
      "text/plain": [
       "<Figure size 360x360 with 1 Axes>"
      ]
     },
     "metadata": {
      "needs_background": "light"
     },
     "output_type": "display_data"
    }
   ],
   "source": [
    "# Plot eta error histogram\n",
    "fig, ax = plt.subplots(1, 1, figsize=(5, 5))\n",
    "ax.hist(eta_error, bins=100, density=True, range=(-0.1, 0.1))\n",
    "ax.set_xlabel(\"$\\eta$ error\")\n",
    "ax.set_ylabel(\"Density\")\n",
    "ax.set_title(\"Eta error histogram\")\n",
    "\n",
    "# Add mean and std to plot in a box in the top right corner\n",
    "ax.text(0.95, 0.95, f\"$\\eta$ error\\n(truth eta - track eta)\\n{np.mean(eta_error):.2f} +/- {np.std(eta_error):.2f}\",\n",
    "        horizontalalignment='right',\n",
    "        verticalalignment='top',\n",
    "        transform=ax.transAxes)"
   ]
  },
  {
   "cell_type": "code",
   "execution_count": 189,
   "metadata": {},
   "outputs": [
    {
     "data": {
      "text/plain": [
       "Text(0.05, 0.95, '$p_T$ error\\n(track pT/truth pT):\\n1.30 +/- 1.03 GeV')"
      ]
     },
     "execution_count": 189,
     "metadata": {},
     "output_type": "execute_result"
    },
    {
     "data": {
      "image/png": "[encoded data removed]",
      "text/plain": [
       "<Figure size 360x360 with 1 Axes>"
      ]
     },
     "metadata": {
      "needs_background": "light"
     },
     "output_type": "display_data"
    }
   ],
   "source": [
    "# Plot pt error histogram\n",
    "fig, ax = plt.subplots(1, 1, figsize=(5, 5))\n",
    "ax.hist(pt_error, bins=100, density=True, range=(0, 2))\n",
    "ax.set_xlabel(\"$p_T$ error [GeV]\")\n",
    "ax.set_ylabel(\"Density\")\n",
    "ax.set_title(\"pT error histogram\")\n",
    "\n",
    "# Add mean and std to plot in a box in the top right corner\n",
    "ax.text(0.05, 0.95, f\"$p_T$ error\\n(track pT/truth pT):\\n{np.mean(pt_error):.2f} +/- {np.std(pt_error):.2f} GeV\",\n",
    "        horizontalalignment='left',\n",
    "        verticalalignment='top',\n",
    "        transform=ax.transAxes)"
   ]
  },
  {
   "cell_type": "code",
   "execution_count": 162,
   "metadata": {},
   "outputs": [
    {
     "data": {
      "text/plain": [
       "Text(0.5, 1.0, 'Eta histogram')"
      ]
     },
     "execution_count": 162,
     "metadata": {},
     "output_type": "execute_result"
    },
    {
     "data": {
      "image/png": "[encoded data removed]",
      "text/plain": [
       "<Figure size 360x360 with 1 Axes>"
      ]
     },
     "metadata": {
      "needs_background": "light"
     },
     "output_type": "display_data"
    }
   ],
   "source": [
    "# Plot histogram comparing truth and track eta lists\n",
    "fig, ax = plt.subplots(1, 1, figsize=(5, 5))\n",
    "ax.hist(track_eta_list, bins=100, density=True, label=\"Track eta\", alpha=0.5)\n",
    "ax.hist(truth_eta_list, bins=100, density=True, label=\"Truth eta\", alpha=0.5)\n",
    "ax.legend()\n",
    "ax.set_xlabel(\"$\\eta$\")\n",
    "ax.set_ylabel(\"Density\")\n",
    "ax.set_title(\"Eta histogram\")"
   ]
  },
  {
   "cell_type": "code",
   "execution_count": 163,
   "metadata": {},
   "outputs": [
    {
     "data": {
      "text/plain": [
       "Text(0.5, 1.0, 'pT histogram')"
      ]
     },
     "execution_count": 163,
     "metadata": {},
     "output_type": "execute_result"
    },
    {
     "data": {
      "image/png": "[encoded data removed]",
      "text/plain": [
       "<Figure size 360x360 with 1 Axes>"
      ]
     },
     "metadata": {
      "needs_background": "light"
     },
     "output_type": "display_data"
    }
   ],
   "source": [
    "# Plot histogram comparing truth and track pt  lists\n",
    "fig, ax = plt.subplots(1, 1, figsize=(5, 5))\n",
    "ax.hist(track_pt_list, bins=100, density=True, label=\"Track pt\", alpha=0.5, range=(0, 6))\n",
    "ax.hist(truth_pt_list, bins=100, density=True, label=\"Truth pt\", alpha=0.5, range=(0, 6))\n",
    "ax.legend()\n",
    "ax.set_xlabel(\"$p_T$ [GeV]\")\n",
    "ax.set_ylabel(\"Density\")\n",
    "ax.set_title(\"pT histogram\")"
   ]
  },
  {
   "cell_type": "code",
   "execution_count": 203,
   "metadata": {},
   "outputs": [
    {
     "data": {
      "text/plain": [
       "Text(0.5, 1.0, 'Residual histogram')"
      ]
     },
     "execution_count": 203,
     "metadata": {},
     "output_type": "execute_result"
    },
    {
     "data": {
      "image/png": "[encoded data removed]",
      "text/plain": [
       "<Figure size 360x360 with 1 Axes>"
      ]
     },
     "metadata": {
      "needs_background": "light"
     },
     "output_type": "display_data"
    }
   ],
   "source": [
    "# Plot residual histogram\n",
    "fig, ax = plt.subplots(1, 1, figsize=(5, 5))\n",
    "ax.hist(res_list, bins=100, density=True, range=(0, 0.5))\n",
    "ax.set_xlabel(\"Residual\")\n",
    "ax.set_ylabel(\"Density\")\n",
    "ax.set_title(\"Residual histogram\")"
   ]
  },
  {
   "cell_type": "markdown",
   "metadata": {},
   "source": [
    "## Cutting Fakes with pT"
   ]
  },
  {
   "cell_type": "code",
   "execution_count": 72,
   "metadata": {},
   "outputs": [
    {
     "name": "stderr",
     "output_type": "stream",
     "text": [
      "100%|██████████| 10/10 [00:13<00:00,  1.36s/it]\n"
     ]
    }
   ],
   "source": [
    "tracking_data.fit_candidates()"
   ]
  },
  {
   "cell_type": "code",
   "execution_count": null,
   "metadata": {},
   "outputs": [
    {
     "data": {
      "text/plain": [
       "Text(0.5, 1.0, 'Residual histogram')"
      ]
     },
     "metadata": {},
     "output_type": "display_data"
    },
    {
     "data": {
      "image/png": "[encoded data removed]",
      "text/plain": [
       "<Figure size 360x360 with 1 Axes>"
      ]
     },
     "metadata": {},
     "output_type": "display_data"
    }
   ],
   "source": [
    "# Plot hist of sum res1, res2, res3\n",
    "fig, ax = plt.subplots(1, 1, figsize=(5, 5))\n",
    "total_res = event.candidates.fit_parameters.res1 + event.candidates.fit_parameters.res2 + event.candidates.fit_parameters.res3\n",
    "total_res = total_res[~np.isnan(total_res)]\n",
    "res_bins = np.logspace(np.log10(total_res.min()), np.log10(total_res.max()), 100)\n",
    "res_hist, res_bins = np.histogram(total_res, bins=res_bins)\n",
    "ax.bar(res_bins[:-1], res_hist, width=res_bins[1:]-res_bins[:-1])\n",
    "# Set to logspace\n",
    "ax.set_xscale(\"log\")\n",
    "ax.set_xlabel(\"Residual\")\n",
    "ax.set_ylabel(\"Density\")\n",
    "ax.set_title(\"Residual histogram\")\n"
   ]
  },
  {
   "cell_type": "code",
   "execution_count": 50,
   "metadata": {},
   "outputs": [],
   "source": [
    "total_res = event.candidates.fit_parameters.res1 + event.candidates.fit_parameters.res2 + event.candidates.fit_parameters.res3\n",
    "low_residual_candidates = event.candidates.fit_parameters[total_res < 100]"
   ]
  },
  {
   "cell_type": "code",
   "execution_count": 51,
   "metadata": {},
   "outputs": [
    {
     "data": {
      "text/html": [
       "<div>\n",
       "<style scoped>\n",
       "    .dataframe tbody tr th:only-of-type {\n",
       "        vertical-align: middle;\n",
       "    }\n",
       "\n",
       "    .dataframe tbody tr th {\n",
       "        vertical-align: top;\n",
       "    }\n",
       "\n",
       "    .dataframe thead th {\n",
       "        text-align: right;\n",
       "    }\n",
       "</style>\n",
       "<table border=\"1\" class=\"dataframe\">\n",
       "  <thead>\n",
       "    <tr style=\"text-align: right;\">\n",
       "      <th></th>\n",
       "      <th>track_id</th>\n",
       "      <th>e</th>\n",
       "      <th>z0</th>\n",
       "      <th>eta</th>\n",
       "      <th>phi</th>\n",
       "      <th>pT</th>\n",
       "      <th>res1</th>\n",
       "      <th>res2</th>\n",
       "      <th>res3</th>\n",
       "    </tr>\n",
       "  </thead>\n",
       "  <tbody>\n",
       "    <tr>\n",
       "      <th>0</th>\n",
       "      <td>12</td>\n",
       "      <td>0.227696</td>\n",
       "      <td>-22.309254</td>\n",
       "      <td>-2.294701</td>\n",
       "      <td>1.990126</td>\n",
       "      <td>1.278550</td>\n",
       "      <td>1.342026e-09</td>\n",
       "      <td>32.638852</td>\n",
       "      <td>0.047556</td>\n",
       "    </tr>\n",
       "    <tr>\n",
       "      <th>1</th>\n",
       "      <td>13</td>\n",
       "      <td>-0.120298</td>\n",
       "      <td>85.819527</td>\n",
       "      <td>-2.705192</td>\n",
       "      <td>1.917487</td>\n",
       "      <td>1.498651</td>\n",
       "      <td>1.558753e-10</td>\n",
       "      <td>0.865798</td>\n",
       "      <td>0.007856</td>\n",
       "    </tr>\n",
       "    <tr>\n",
       "      <th>2</th>\n",
       "      <td>14</td>\n",
       "      <td>-0.069164</td>\n",
       "      <td>-50.118190</td>\n",
       "      <td>-2.240572</td>\n",
       "      <td>-1.368664</td>\n",
       "      <td>2.359360</td>\n",
       "      <td>1.379620e-11</td>\n",
       "      <td>0.036129</td>\n",
       "      <td>0.001407</td>\n",
       "    </tr>\n",
       "    <tr>\n",
       "      <th>3</th>\n",
       "      <td>25</td>\n",
       "      <td>-0.315134</td>\n",
       "      <td>-20.331477</td>\n",
       "      <td>-2.506457</td>\n",
       "      <td>-1.299043</td>\n",
       "      <td>0.590660</td>\n",
       "      <td>3.810552e-11</td>\n",
       "      <td>0.085258</td>\n",
       "      <td>0.000044</td>\n",
       "    </tr>\n",
       "    <tr>\n",
       "      <th>4</th>\n",
       "      <td>27</td>\n",
       "      <td>-0.212814</td>\n",
       "      <td>-50.934883</td>\n",
       "      <td>-2.132350</td>\n",
       "      <td>1.764345</td>\n",
       "      <td>0.977785</td>\n",
       "      <td>1.370508e-10</td>\n",
       "      <td>0.148253</td>\n",
       "      <td>0.001041</td>\n",
       "    </tr>\n",
       "    <tr>\n",
       "      <th>...</th>\n",
       "      <td>...</td>\n",
       "      <td>...</td>\n",
       "      <td>...</td>\n",
       "      <td>...</td>\n",
       "      <td>...</td>\n",
       "      <td>...</td>\n",
       "      <td>...</td>\n",
       "      <td>...</td>\n",
       "      <td>...</td>\n",
       "    </tr>\n",
       "    <tr>\n",
       "      <th>2288</th>\n",
       "      <td>262319</td>\n",
       "      <td>-171.670980</td>\n",
       "      <td>573.952719</td>\n",
       "      <td>1.868385</td>\n",
       "      <td>-2.887860</td>\n",
       "      <td>1.228986</td>\n",
       "      <td>1.094554e-11</td>\n",
       "      <td>38.483229</td>\n",
       "      <td>0.297487</td>\n",
       "    </tr>\n",
       "    <tr>\n",
       "      <th>2289</th>\n",
       "      <td>262372</td>\n",
       "      <td>12.469112</td>\n",
       "      <td>110.524130</td>\n",
       "      <td>1.631697</td>\n",
       "      <td>-3.019174</td>\n",
       "      <td>2.547177</td>\n",
       "      <td>5.914507e-11</td>\n",
       "      <td>11.098627</td>\n",
       "      <td>0.168778</td>\n",
       "    </tr>\n",
       "    <tr>\n",
       "      <th>2290</th>\n",
       "      <td>263854</td>\n",
       "      <td>-15.871272</td>\n",
       "      <td>245.387690</td>\n",
       "      <td>1.795843</td>\n",
       "      <td>1.242414</td>\n",
       "      <td>2.433137</td>\n",
       "      <td>7.602895e-12</td>\n",
       "      <td>10.929319</td>\n",
       "      <td>0.090255</td>\n",
       "    </tr>\n",
       "    <tr>\n",
       "      <th>2291</th>\n",
       "      <td>263887</td>\n",
       "      <td>31.090906</td>\n",
       "      <td>21.172250</td>\n",
       "      <td>2.281659</td>\n",
       "      <td>-1.724974</td>\n",
       "      <td>7.790283</td>\n",
       "      <td>1.371247e-12</td>\n",
       "      <td>43.153668</td>\n",
       "      <td>0.159644</td>\n",
       "    </tr>\n",
       "    <tr>\n",
       "      <th>2292</th>\n",
       "      <td>264457</td>\n",
       "      <td>10.955368</td>\n",
       "      <td>73.459664</td>\n",
       "      <td>1.976019</td>\n",
       "      <td>-2.771275</td>\n",
       "      <td>7.862990</td>\n",
       "      <td>1.542166e-12</td>\n",
       "      <td>29.660693</td>\n",
       "      <td>0.130113</td>\n",
       "    </tr>\n",
       "  </tbody>\n",
       "</table>\n",
       "<p>1911 rows × 9 columns</p>\n",
       "</div>"
      ],
      "text/plain": [
       "      track_id           e          z0       eta       phi        pT  \\\n",
       "0           12    0.227696  -22.309254 -2.294701  1.990126  1.278550   \n",
       "1           13   -0.120298   85.819527 -2.705192  1.917487  1.498651   \n",
       "2           14   -0.069164  -50.118190 -2.240572 -1.368664  2.359360   \n",
       "3           25   -0.315134  -20.331477 -2.506457 -1.299043  0.590660   \n",
       "4           27   -0.212814  -50.934883 -2.132350  1.764345  0.977785   \n",
       "...        ...         ...         ...       ...       ...       ...   \n",
       "2288    262319 -171.670980  573.952719  1.868385 -2.887860  1.228986   \n",
       "2289    262372   12.469112  110.524130  1.631697 -3.019174  2.547177   \n",
       "2290    263854  -15.871272  245.387690  1.795843  1.242414  2.433137   \n",
       "2291    263887   31.090906   21.172250  2.281659 -1.724974  7.790283   \n",
       "2292    264457   10.955368   73.459664  1.976019 -2.771275  7.862990   \n",
       "\n",
       "              res1       res2      res3  \n",
       "0     1.342026e-09  32.638852  0.047556  \n",
       "1     1.558753e-10   0.865798  0.007856  \n",
       "2     1.379620e-11   0.036129  0.001407  \n",
       "3     3.810552e-11   0.085258  0.000044  \n",
       "4     1.370508e-10   0.148253  0.001041  \n",
       "...            ...        ...       ...  \n",
       "2288  1.094554e-11  38.483229  0.297487  \n",
       "2289  5.914507e-11  11.098627  0.168778  \n",
       "2290  7.602895e-12  10.929319  0.090255  \n",
       "2291  1.371247e-12  43.153668  0.159644  \n",
       "2292  1.542166e-12  29.660693  0.130113  \n",
       "\n",
       "[1911 rows x 9 columns]"
      ]
     },
     "execution_count": 51,
     "metadata": {},
     "output_type": "execute_result"
    }
   ],
   "source": [
    "low_residual_candidates"
   ]
  },
  {
   "cell_type": "code",
   "execution_count": 57,
   "metadata": {},
   "outputs": [
    {
     "data": {
      "text/html": [
       "<div>\n",
       "<style scoped>\n",
       "    .dataframe tbody tr th:only-of-type {\n",
       "        vertical-align: middle;\n",
       "    }\n",
       "\n",
       "    .dataframe tbody tr th {\n",
       "        vertical-align: top;\n",
       "    }\n",
       "\n",
       "    .dataframe thead th {\n",
       "        text-align: right;\n",
       "    }\n",
       "</style>\n",
       "<table border=\"1\" class=\"dataframe\">\n",
       "  <thead>\n",
       "    <tr style=\"text-align: right;\">\n",
       "      <th></th>\n",
       "      <th>hit_id</th>\n",
       "      <th>track_id</th>\n",
       "    </tr>\n",
       "  </thead>\n",
       "  <tbody>\n",
       "    <tr>\n",
       "      <th>0</th>\n",
       "      <td>0</td>\n",
       "      <td>0</td>\n",
       "    </tr>\n",
       "    <tr>\n",
       "      <th>1</th>\n",
       "      <td>1</td>\n",
       "      <td>1</td>\n",
       "    </tr>\n",
       "    <tr>\n",
       "      <th>2</th>\n",
       "      <td>2</td>\n",
       "      <td>2</td>\n",
       "    </tr>\n",
       "    <tr>\n",
       "      <th>3</th>\n",
       "      <td>3</td>\n",
       "      <td>3</td>\n",
       "    </tr>\n",
       "    <tr>\n",
       "      <th>4</th>\n",
       "      <td>4</td>\n",
       "      <td>4</td>\n",
       "    </tr>\n",
       "    <tr>\n",
       "      <th>...</th>\n",
       "      <td>...</td>\n",
       "      <td>...</td>\n",
       "    </tr>\n",
       "    <tr>\n",
       "      <th>301044</th>\n",
       "      <td>301044</td>\n",
       "      <td>277731</td>\n",
       "    </tr>\n",
       "    <tr>\n",
       "      <th>301045</th>\n",
       "      <td>301045</td>\n",
       "      <td>277732</td>\n",
       "    </tr>\n",
       "    <tr>\n",
       "      <th>301046</th>\n",
       "      <td>301046</td>\n",
       "      <td>277733</td>\n",
       "    </tr>\n",
       "    <tr>\n",
       "      <th>301047</th>\n",
       "      <td>301047</td>\n",
       "      <td>277734</td>\n",
       "    </tr>\n",
       "    <tr>\n",
       "      <th>301048</th>\n",
       "      <td>301048</td>\n",
       "      <td>277735</td>\n",
       "    </tr>\n",
       "  </tbody>\n",
       "</table>\n",
       "<p>301049 rows × 2 columns</p>\n",
       "</div>"
      ],
      "text/plain": [
       "        hit_id  track_id\n",
       "0            0         0\n",
       "1            1         1\n",
       "2            2         2\n",
       "3            3         3\n",
       "4            4         4\n",
       "...        ...       ...\n",
       "301044  301044    277731\n",
       "301045  301045    277732\n",
       "301046  301046    277733\n",
       "301047  301047    277734\n",
       "301048  301048    277735\n",
       "\n",
       "[301049 rows x 2 columns]"
      ]
     },
     "execution_count": 57,
     "metadata": {},
     "output_type": "execute_result"
    }
   ],
   "source": [
    "event.candidates.get_df()"
   ]
  },
  {
   "cell_type": "code",
   "execution_count": 63,
   "metadata": {},
   "outputs": [],
   "source": [
    "low_residual_hits = event.candidates.get_df().merge(low_residual_candidates, on=\"track_id\", how=\"inner\")"
   ]
  },
  {
   "cell_type": "code",
   "execution_count": 64,
   "metadata": {},
   "outputs": [
    {
     "data": {
      "text/plain": [
       "array([    12,     63,  20313, ..., 292310, 296476, 300750])"
      ]
     },
     "execution_count": 64,
     "metadata": {},
     "output_type": "execute_result"
    }
   ],
   "source": [
    "low_residual_hits.hit_id.values"
   ]
  },
  {
   "cell_type": "code",
   "execution_count": 73,
   "metadata": {},
   "outputs": [
    {
     "name": "stderr",
     "output_type": "stream",
     "text": [
      "INFO:root:Evaluating candidates\n"
     ]
    },
    {
     "data": {
      "application/vnd.jupyter.widget-view+json": {
       "model_id": "0e9fac4ac3644a57b1217664bf05117b",
       "version_major": 2,
       "version_minor": 0
      },
      "text/plain": [
       "  0%|          | 0/10 [00:00<?, ?it/s]"
      ]
     },
     "metadata": {},
     "output_type": "display_data"
    },
    {
     "name": "stdout",
     "output_type": "stream",
     "text": [
      "{'building_method': 'CC', 'evaluation_method': 'matching', 'eff': 0.9417504146746024, 'single_eff': 0.945262952483169, 'fr': 0.005251346499102305, 'dup': 0.07136445242369839}\n",
      "n_true_tracks: 10249, n_reco_tracks: 22280, n_matched_particles: 9652, n_matched_tracks: 22163, n_duplicated_tracks: 1590\n"
     ]
    }
   ],
   "source": [
    "tracking_data.evaluate_candidates(evaluation_method=\"matching\", **matching_config)"
   ]
  },
  {
   "cell_type": "code",
   "execution_count": 67,
   "metadata": {},
   "outputs": [],
   "source": [
    "max_res = 100\n",
    "\n",
    "for event in tracking_data:\n",
    "    total_res = event.candidates.fit_parameters.res1 + event.candidates.fit_parameters.res2 + event.candidates.fit_parameters.res3\n",
    "    low_residual_candidates = event.candidates.fit_parameters[total_res < max_res]\n",
    "    low_residual_hits = event.candidates.get_df().merge(low_residual_candidates, on=\"track_id\", how=\"inner\")\n",
    "    event.candidates.hit_ids = low_residual_hits.hit_id.values\n",
    "    event.candidates.track_ids = low_residual_hits.track_id.values"
   ]
  },
  {
   "cell_type": "code",
   "execution_count": 88,
   "metadata": {},
   "outputs": [],
   "source": [
    "min_pt = 1.5\n",
    "\n",
    "for event in tracking_data:\n",
    "    high_pt_candidates = event.candidates.fit_parameters[event.candidates.fit_parameters.pT > min_pt]\n",
    "    high_pt_hits = event.candidates.get_df().merge(high_pt_candidates, on=\"track_id\", how=\"inner\")\n",
    "    event.candidates.hit_ids = high_pt_hits.hit_id.values\n",
    "    event.candidates.track_ids = high_pt_hits.track_id.values"
   ]
  }
 ],
 "metadata": {
  "@webio": {
   "lastCommId": null,
   "lastKernelId": null
  },
  "interpreter": {
   "hash": "160bbf3460607ce6882228c7f3472b9123241d62d3bf3b05bb085d37e9832afe"
  },
  "kernelspec": {
   "display_name": "ExatrkxGPU",
   "language": "python",
   "name": "exatrkxgpu"
  },
  "language_info": {
   "codemirror_mode": {
    "name": "ipython",
    "version": 3
   },
   "file_extension": ".py",
   "mimetype": "text/x-python",
   "name": "python",
   "nbconvert_exporter": "python",
   "pygments_lexer": "ipython3",
   "version": "3.8.12"
  }
 },
 "nbformat": 4,
 "nbformat_minor": 4
}
