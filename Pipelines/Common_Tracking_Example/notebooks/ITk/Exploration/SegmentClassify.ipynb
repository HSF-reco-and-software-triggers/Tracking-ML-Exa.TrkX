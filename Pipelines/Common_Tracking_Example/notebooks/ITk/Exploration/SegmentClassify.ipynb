{
 "cells": [
  {
   "cell_type": "markdown",
   "id": "92f9b939-5ee4-43db-9145-b6bf69a36b83",
   "metadata": {},
   "source": [
    "# Segment Stitching"
   ]
  },
  {
   "cell_type": "code",
   "execution_count": 1,
   "id": "724a03c4",
   "metadata": {},
   "outputs": [],
   "source": [
    "%load_ext autoreload\n",
    "%autoreload 2\n",
    "\n",
    "# System imports\n",
    "import os\n",
    "import sys\n",
    "import yaml\n",
    "\n",
    "# External imports\n",
    "import matplotlib.pyplot as plt\n",
    "import scipy as sp\n",
    "from sklearn.decomposition import PCA\n",
    "from sklearn.metrics import auc\n",
    "import numpy as np\n",
    "import pandas as pd\n",
    "import seaborn as sns\n",
    "import torch\n",
    "from pytorch_lightning import Trainer\n",
    "from pytorch_lightning.loggers import TensorBoardLogger, WandbLogger\n",
    "import scipy.sparse.csgraph as scigraph\n",
    "import scipy.sparse as sp\n",
    "from torch_scatter import scatter\n",
    "\n",
    "sys.path.append(\"../../../\")\n",
    "\n",
    "import wandb\n",
    "from LightningModules.Segmenting.utils.segmentation_utils import (\n",
    "    labelSegments,\n",
    "    sparse_score_segments,\n",
    ")\n",
    "\n",
    "import warnings\n",
    "\n",
    "warnings.filterwarnings(\"ignore\")\n",
    "\n",
    "device = \"cuda\" if torch.cuda.is_available() else \"cpu\""
   ]
  },
  {
   "cell_type": "markdown",
   "id": "b8c12209",
   "metadata": {},
   "source": [
    "## Roadmap\n",
    "\n",
    "1. Load in a good 0.5GeV model\n",
    "2. Run some initial statistics (eff, pur)\n",
    "3. Segment builder\n",
    "4. Get some segment statistics (tracking eff, pur)"
   ]
  },
  {
   "cell_type": "markdown",
   "id": "573d89b0",
   "metadata": {},
   "source": [
    "## Infrastructure"
   ]
  },
  {
   "cell_type": "markdown",
   "id": "1afc7363",
   "metadata": {},
   "source": [
    "- GraphScore(Model, graph) --> graph (with scores)\n",
    "- SegmentBuild(graph) --> labelled graph\n"
   ]
  },
  {
   "cell_type": "markdown",
   "id": "73e20707",
   "metadata": {},
   "source": [
    "## Load in Model"
   ]
  },
  {
   "cell_type": "code",
   "execution_count": 2,
   "id": "2b7318ec",
   "metadata": {},
   "outputs": [],
   "source": [
    "from LightningModules.Segmenting.Models.checkpoint_pyramid import CheckpointedPyramid\n",
    "from LightningModules.Segmenting.Models.interaction_gnn import InteractionGNN"
   ]
  },
  {
   "cell_type": "code",
   "execution_count": 3,
   "id": "cb242ac4",
   "metadata": {},
   "outputs": [],
   "source": [
    "with open(\"../configs/default_Segment.yaml\") as f:\n",
    "    hparams = yaml.load(f, Loader=yaml.FullLoader)"
   ]
  },
  {
   "cell_type": "code",
   "execution_count": 4,
   "id": "55693061",
   "metadata": {
    "scrolled": true
   },
   "outputs": [],
   "source": [
    "model = CheckpointedPyramid(hparams)"
   ]
  },
  {
   "cell_type": "markdown",
   "id": "d726af78-4857-4d7f-9bfd-fffd5a7eed31",
   "metadata": {},
   "source": [
    "### Load"
   ]
  },
  {
   "cell_type": "code",
   "execution_count": 3,
   "id": "1e043165-fd6e-46ef-972e-5d6a9d5cc53b",
   "metadata": {},
   "outputs": [],
   "source": [
    "checkpoint_dir = \"/global/cfs/cdirs/m3443/data/lightning_models/lightning_checkpoints/ITk_Stitcher_Testing/qzhsnlc5/checkpoints/epoch=38-step=19499.ckpt\""
   ]
  },
  {
   "cell_type": "code",
   "execution_count": 4,
   "id": "0bf30ca9-a6c4-47ef-88cc-9b46be160165",
   "metadata": {},
   "outputs": [],
   "source": [
    "model = CheckpointedPyramid.load_from_checkpoint(checkpoint_dir)"
   ]
  },
  {
   "cell_type": "markdown",
   "id": "db78b1c8",
   "metadata": {
    "heading_collapsed": true
   },
   "source": [
    "### Load in Data"
   ]
  },
  {
   "cell_type": "code",
   "execution_count": 7,
   "id": "f40cf950",
   "metadata": {
    "hidden": true
   },
   "outputs": [],
   "source": [
    "model._hparams[\"datatype_split\"] = [50, 50, 10]"
   ]
  },
  {
   "cell_type": "code",
   "execution_count": 8,
   "id": "ac11e865",
   "metadata": {
    "hidden": true
   },
   "outputs": [
    {
     "name": "stdout",
     "output_type": "stream",
     "text": [
      "Setting up dataset\n",
      "Loading events\n",
      "Events loaded!\n",
      "Events processed!\n",
      "Loading events\n",
      "Events loaded!\n",
      "Events processed!\n",
      "Loading events\n",
      "Events loaded!\n",
      "Events processed!\n"
     ]
    }
   ],
   "source": [
    "model.setup(stage=\"fit\")"
   ]
  },
  {
   "cell_type": "code",
   "execution_count": 8,
   "id": "851c3027",
   "metadata": {
    "hidden": true
   },
   "outputs": [],
   "source": [
    "graph = model.trainset[0]"
   ]
  },
  {
   "cell_type": "code",
   "execution_count": 15,
   "id": "5900b613",
   "metadata": {
    "hidden": true
   },
   "outputs": [
    {
     "data": {
      "text/plain": [
       "tensor(0.0002)"
      ]
     },
     "execution_count": 15,
     "metadata": {},
     "output_type": "execute_result"
    }
   ],
   "source": [
    "(graph.pid_pairs[0] == graph.pid_pairs[1]).sum() / graph.pid_pairs.shape[1]"
   ]
  },
  {
   "cell_type": "markdown",
   "id": "60b9e82b",
   "metadata": {
    "heading_collapsed": true
   },
   "source": [
    "## Load/Build Segments"
   ]
  },
  {
   "cell_type": "code",
   "execution_count": 137,
   "id": "fb8e274f",
   "metadata": {
    "hidden": true
   },
   "outputs": [],
   "source": [
    "graph = model.valset[0]"
   ]
  },
  {
   "cell_type": "code",
   "execution_count": 138,
   "id": "344d670b",
   "metadata": {
    "hidden": true
   },
   "outputs": [
    {
     "ename": "AttributeError",
     "evalue": "'Data' object has no attribute 'scores'",
     "output_type": "error",
     "traceback": [
      "\u001b[0;31m---------------------------------------------------------------------------\u001b[0m",
      "\u001b[0;31mAttributeError\u001b[0m                            Traceback (most recent call last)",
      "\u001b[0;32m/tmp/ipykernel_244111/184389694.py\u001b[0m in \u001b[0;36m<module>\u001b[0;34m\u001b[0m\n\u001b[1;32m      1\u001b[0m \u001b[0mcut\u001b[0m \u001b[0;34m=\u001b[0m \u001b[0;36m0.8\u001b[0m\u001b[0;34m\u001b[0m\u001b[0;34m\u001b[0m\u001b[0m\n\u001b[1;32m      2\u001b[0m \u001b[0;34m\u001b[0m\u001b[0m\n\u001b[0;32m----> 3\u001b[0;31m \u001b[0mpositive\u001b[0m \u001b[0;34m=\u001b[0m \u001b[0mgraph\u001b[0m\u001b[0;34m.\u001b[0m\u001b[0mscores\u001b[0m \u001b[0;34m>\u001b[0m \u001b[0mcut\u001b[0m\u001b[0;34m\u001b[0m\u001b[0;34m\u001b[0m\u001b[0m\n\u001b[0m\u001b[1;32m      4\u001b[0m \u001b[0mtp\u001b[0m \u001b[0;34m=\u001b[0m \u001b[0mpositive\u001b[0m \u001b[0;34m&\u001b[0m \u001b[0mgraph\u001b[0m\u001b[0;34m.\u001b[0m\u001b[0my\u001b[0m\u001b[0;34m.\u001b[0m\u001b[0mbool\u001b[0m\u001b[0;34m(\u001b[0m\u001b[0;34m)\u001b[0m\u001b[0;34m\u001b[0m\u001b[0;34m\u001b[0m\u001b[0m\n\u001b[1;32m      5\u001b[0m \u001b[0mlabelGraph\u001b[0m\u001b[0;34m(\u001b[0m\u001b[0mgraph\u001b[0m\u001b[0;34m,\u001b[0m \u001b[0medge_cut\u001b[0m\u001b[0;34m=\u001b[0m\u001b[0mcut\u001b[0m\u001b[0;34m)\u001b[0m\u001b[0;34m\u001b[0m\u001b[0;34m\u001b[0m\u001b[0m\n",
      "\u001b[0;31mAttributeError\u001b[0m: 'Data' object has no attribute 'scores'"
     ]
    }
   ],
   "source": [
    "cut = 0.8\n",
    "\n",
    "positive = graph.scores > cut\n",
    "tp = positive & graph.y.bool()\n",
    "labelGraph(graph, edge_cut=cut)\n",
    "print(\"Pur:\", tp.sum() / positive.sum(), \"Eff:\", tp.sum() / graph.y.sum())"
   ]
  },
  {
   "cell_type": "markdown",
   "id": "cd380972",
   "metadata": {
    "heading_collapsed": true
   },
   "source": [
    "## Input Graph"
   ]
  },
  {
   "cell_type": "markdown",
   "id": "bfa1dec3",
   "metadata": {
    "hidden": true
   },
   "source": [
    "Examine the truth graph first:"
   ]
  },
  {
   "cell_type": "markdown",
   "id": "8d39beaf",
   "metadata": {
    "hidden": true
   },
   "source": [
    "Let's see what score the input graph could get from ground truth"
   ]
  },
  {
   "cell_type": "code",
   "execution_count": 22,
   "id": "e2193f51",
   "metadata": {
    "hidden": true
   },
   "outputs": [],
   "source": [
    "labels = labelSegments(graph.edge_index[:, graph.y.bool()], graph)"
   ]
  },
  {
   "cell_type": "code",
   "execution_count": 51,
   "id": "1b888cbf",
   "metadata": {
    "hidden": true
   },
   "outputs": [],
   "source": [
    "def sparse_score_segments(labels, pids, signal_pids):\n",
    "\n",
    "    unique_pids, new_pids = pids.unique(return_inverse=True)\n",
    "    signal_segments_pids, unique_signal_segments_pids = get_unique_signal_segments(\n",
    "        labels, new_pids, signal_pids\n",
    "    )\n",
    "\n",
    "    iou, segment_count, pid_count = get_jaccard_matrix(\n",
    "        labels, new_pids, signal_segments_pids, unique_signal_segments_pids\n",
    "    )\n",
    "\n",
    "    sparse_segment_count = sp.coo_matrix(\n",
    "        (\n",
    "            segment_count[unique_signal_segments_pids[0]].cpu(),\n",
    "            unique_signal_segments_pids.cpu().numpy(),\n",
    "        )\n",
    "    ).tocsr()\n",
    "    sparse_pid_count = sp.coo_matrix(\n",
    "        (\n",
    "            pid_count[unique_signal_segments_pids[1]].cpu(),\n",
    "            unique_signal_segments_pids.cpu().numpy(),\n",
    "        )\n",
    "    ).tocsr()\n",
    "\n",
    "    segment_pur = (\n",
    "        iou.multiply(sparse_segment_count).sum()\n",
    "        / segment_count[unique_signal_segments_pids[0]].sum()\n",
    "    )\n",
    "    segment_eff = (\n",
    "        iou.multiply(sparse_pid_count).sum()\n",
    "        / pid_count[unique_signal_segments_pids[1]].sum()\n",
    "    )\n",
    "\n",
    "    segment_f1 = 2 * segment_pur * segment_eff / (segment_pur + segment_eff)\n",
    "\n",
    "    return segment_pur, segment_eff, segment_f1\n",
    "\n",
    "\n",
    "def get_jaccard_matrix(labels, pids, signal_segments_pids, unique_signal_segments_pids):\n",
    "\n",
    "    sparse_intersection = sp.coo_matrix(\n",
    "        (np.ones(signal_segments_pids.shape[1]), signal_segments_pids.cpu().numpy())\n",
    "    ).tocsr()\n",
    "\n",
    "    segment_count = labels.unique(return_counts=True)[1]\n",
    "    pid_count = pids.unique(return_counts=True)[1]\n",
    "\n",
    "    union_counts = (\n",
    "        segment_count[unique_signal_segments_pids[0]]\n",
    "        + pid_count[unique_signal_segments_pids[1]]\n",
    "    )\n",
    "    sparse_sum = sp.coo_matrix(\n",
    "        (union_counts.cpu(), unique_signal_segments_pids.cpu().numpy())\n",
    "    ).tocsr()\n",
    "    sparse_union = sparse_sum - sparse_intersection\n",
    "    sparse_union.data = 1 / sparse_union.data\n",
    "    iou = sparse_intersection.multiply(sparse_union)\n",
    "\n",
    "    return iou, segment_count, pid_count\n",
    "\n",
    "\n",
    "def get_unique_signal_segments(labels, pids, signal_pids):\n",
    "\n",
    "    labels_unique, labels_inverse, labels_counts = labels.unique(\n",
    "        return_counts=True, return_inverse=True\n",
    "    )\n",
    "\n",
    "    segments_pids = torch.stack([labels, pids])\n",
    "    is_signal = torch.isin(pids, pids[signal_pids]) & (\n",
    "        labels_counts[labels_inverse] >= 3\n",
    "    )\n",
    "\n",
    "    signal_segments_pids = segments_pids[:, is_signal]\n",
    "    unique_signal_segments_pids = signal_segments_pids.unique(dim=1)\n",
    "\n",
    "    return signal_segments_pids, unique_signal_segments_pids"
   ]
  },
  {
   "cell_type": "code",
   "execution_count": 35,
   "id": "275e02c0",
   "metadata": {
    "hidden": true
   },
   "outputs": [
    {
     "data": {
      "text/plain": [
       "(tensor(0.5578, device='cuda:0'),\n",
       " tensor(0.5798, device='cuda:0'),\n",
       " tensor(0.5686, device='cuda:0'))"
      ]
     },
     "execution_count": 35,
     "metadata": {},
     "output_type": "execute_result"
    }
   ],
   "source": [
    "sparse_score_segments(graph.labels, graph.pid, graph.signal_true_edges)"
   ]
  },
  {
   "cell_type": "markdown",
   "id": "681edf19",
   "metadata": {},
   "source": [
    "## Label All Events"
   ]
  },
  {
   "cell_type": "code",
   "execution_count": 9,
   "id": "3e43d3f2",
   "metadata": {},
   "outputs": [
    {
     "name": "stdout",
     "output_type": "stream",
     "text": [
      "CPU times: user 676 ms, sys: 11.1 ms, total: 688 ms\n",
      "Wall time: 343 ms\n"
     ]
    }
   ],
   "source": [
    "%%time\n",
    "\n",
    "for event in model.valset:\n",
    "    event.labels = labelSegments(event.edge_index[:, event.y.bool()], len(event.x))\n",
    "\n",
    "for event in model.trainset:\n",
    "    event.labels = labelSegments(event.edge_index[:, event.y.bool()], len(event.x))"
   ]
  },
  {
   "cell_type": "code",
   "execution_count": 10,
   "id": "7f15d6d6",
   "metadata": {},
   "outputs": [],
   "source": [
    "graph = model.trainset[0]"
   ]
  },
  {
   "cell_type": "code",
   "execution_count": 11,
   "id": "42c3bba2",
   "metadata": {},
   "outputs": [
    {
     "data": {
      "text/plain": [
       "(tensor(0.9382), tensor(0.8978), tensor(0.9176))"
      ]
     },
     "execution_count": 11,
     "metadata": {},
     "output_type": "execute_result"
    }
   ],
   "source": [
    "sparse_score_segments(graph.labels, graph.pid, graph.signal_true_edges)"
   ]
  },
  {
   "cell_type": "markdown",
   "id": "53502af7",
   "metadata": {
    "heading_collapsed": true
   },
   "source": [
    "## GNN Testing"
   ]
  },
  {
   "cell_type": "code",
   "execution_count": 7,
   "id": "02041564",
   "metadata": {
    "hidden": true
   },
   "outputs": [
    {
     "data": {
      "text/plain": [
       "Data(cell_data=[96465, 11], edge_index=[2, 261315], event_file=\"/global/cfs/cdirs/m3443/data/ITk-upgrade/processed/full_events_v4/event000010001\", hid=[96465], label_pairs=[2, 276396], labels=[96465], long_mask=[96465], modulewise_true_edges=[2, 37882], nhits=[96465], pid=[96465], pid_pairs=[2, 276396], primary=[96465], pt=[96465], signal_true_edges=[2, 5305], x=[96465, 3], y=[261315], y_pid=[261315])"
      ]
     },
     "execution_count": 7,
     "metadata": {},
     "output_type": "execute_result"
    }
   ],
   "source": [
    "graph = model.trainset[0].to(device)\n",
    "graph"
   ]
  },
  {
   "cell_type": "code",
   "execution_count": 10,
   "id": "588b7877",
   "metadata": {
    "hidden": true
   },
   "outputs": [],
   "source": [
    "with torch.no_grad():\n",
    "    input_data = model.get_input_data(graph)\n",
    "output = model.to(device)(input_data, graph.edge_index, graph.labels, graph.label_pairs)"
   ]
  },
  {
   "cell_type": "code",
   "execution_count": 13,
   "id": "b4669ee5",
   "metadata": {
    "hidden": true
   },
   "outputs": [
    {
     "data": {
      "text/plain": [
       "tensor([[15350000114, 15350000114, 15350000114,  ..., 15430000390,\n",
       "         15430000390,        1147],\n",
       "        [15350000113, 15460000079, 16300000922,  ...,        1147,\n",
       "                1358,        1358]], device='cuda:0')"
      ]
     },
     "execution_count": 13,
     "metadata": {},
     "output_type": "execute_result"
    }
   ],
   "source": [
    "graph.pid_pairs"
   ]
  },
  {
   "cell_type": "code",
   "execution_count": 11,
   "id": "50bfae40",
   "metadata": {
    "hidden": true
   },
   "outputs": [
    {
     "data": {
      "text/plain": [
       "tensor([[-0.4305],\n",
       "        [-0.4687],\n",
       "        [-0.4315],\n",
       "        ...,\n",
       "        [-0.2801],\n",
       "        [-0.2987],\n",
       "        [-0.2221]], device='cuda:0', grad_fn=<CheckpointFunctionBackward>)"
      ]
     },
     "execution_count": 11,
     "metadata": {},
     "output_type": "execute_result"
    }
   ],
   "source": [
    "output"
   ]
  },
  {
   "cell_type": "markdown",
   "id": "a8375e75",
   "metadata": {
    "heading_collapsed": true
   },
   "source": [
    "# Training"
   ]
  },
  {
   "cell_type": "code",
   "execution_count": 5,
   "id": "cf1cdc72",
   "metadata": {
    "hidden": true,
    "jupyter": {
     "outputs_hidden": true
    },
    "scrolled": true,
    "tags": []
   },
   "outputs": [
    {
     "name": "stderr",
     "output_type": "stream",
     "text": [
      "GPU available: True, used: True\n",
      "TPU available: False, using: 0 TPU cores\n",
      "IPU available: False, using: 0 IPUs\n"
     ]
    },
    {
     "name": "stdout",
     "output_type": "stream",
     "text": [
      "Setting up dataset\n",
      "Loading events\n",
      "Events loaded!\n",
      "Events processed!\n",
      "Loading events\n",
      "Events loaded!\n",
      "Events processed!\n",
      "Loading events\n",
      "Events loaded!\n"
     ]
    },
    {
     "name": "stderr",
     "output_type": "stream",
     "text": [
      "Failed to detect the name of this notebook, you can set it manually with the WANDB_NOTEBOOK_NAME environment variable to enable code saving.\n"
     ]
    },
    {
     "name": "stdout",
     "output_type": "stream",
     "text": [
      "Events processed!\n"
     ]
    },
    {
     "name": "stderr",
     "output_type": "stream",
     "text": [
      "\u001b[34m\u001b[1mwandb\u001b[0m: Currently logged in as: \u001b[33mmurnanedaniel\u001b[0m (use `wandb login --relogin` to force relogin)\n",
      "\u001b[34m\u001b[1mwandb\u001b[0m: wandb version 0.12.10 is available!  To upgrade, please run:\n",
      "\u001b[34m\u001b[1mwandb\u001b[0m:  $ pip install wandb --upgrade\n"
     ]
    },
    {
     "data": {
      "text/html": [
       "\n",
       "                    Syncing run <strong><a href=\"https://wandb.ai/murnanedaniel/ITk_Stitcher_Testing/runs/cnrgto9m\" target=\"_blank\">auspicious-rat-6</a></strong> to <a href=\"https://wandb.ai/murnanedaniel/ITk_Stitcher_Testing\" target=\"_blank\">Weights & Biases</a> (<a href=\"https://docs.wandb.com/integrations/jupyter.html\" target=\"_blank\">docs</a>).<br/>\n",
       "\n",
       "                "
      ],
      "text/plain": [
       "<IPython.core.display.HTML object>"
      ]
     },
     "metadata": {},
     "output_type": "display_data"
    },
    {
     "name": "stderr",
     "output_type": "stream",
     "text": [
      "LOCAL_RANK: 0 - CUDA_VISIBLE_DEVICES: [0]\n",
      "\n",
      "  | Name            | Type       | Params\n",
      "-----------------------------------------------\n",
      "0 | node_encoder    | Sequential | 135 K \n",
      "1 | edge_network    | Sequential | 173 K \n",
      "2 | node_network    | Sequential | 329 K \n",
      "3 | segment_network | Sequential | 198 K \n",
      "4 | output_network  | Sequential | 264 K \n",
      "-----------------------------------------------\n",
      "1.1 M     Trainable params\n",
      "0         Non-trainable params\n",
      "1.1 M     Total params\n",
      "4.407     Total estimated model params size (MB)\n"
     ]
    },
    {
     "name": "stdout",
     "output_type": "stream",
     "text": [
      "Epoch 0:  91%|█████████ | 500/550 [07:37<00:45,  1.09it/s, loss=0.0346, v_num=to9m]\n",
      "Validating: 0it [00:00, ?it/s]\u001b[A\n",
      "Validating:   0%|          | 0/50 [00:00<?, ?it/s]\u001b[A\n",
      "Epoch 0:  91%|█████████▏| 502/550 [07:37<00:43,  1.10it/s, loss=0.0346, v_num=to9m]\n",
      "Validating:   4%|▍         | 2/50 [00:00<00:13,  3.57it/s]\u001b[A\n",
      "Epoch 0:  92%|█████████▏| 504/550 [07:38<00:41,  1.10it/s, loss=0.0346, v_num=to9m]\n",
      "Validating:   8%|▊         | 4/50 [00:01<00:12,  3.61it/s]\u001b[A\n",
      "Epoch 0:  92%|█████████▏| 506/550 [07:38<00:39,  1.10it/s, loss=0.0346, v_num=to9m]\n",
      "Validating:  12%|█▏        | 6/50 [00:01<00:11,  3.93it/s]\u001b[A\n",
      "Epoch 0:  92%|█████████▏| 508/550 [07:39<00:37,  1.11it/s, loss=0.0346, v_num=to9m]\n",
      "Validating:  16%|█▌        | 8/50 [00:02<00:10,  3.96it/s]\u001b[A\n",
      "Epoch 0:  93%|█████████▎| 510/550 [07:39<00:36,  1.11it/s, loss=0.0346, v_num=to9m]\n",
      "Validating:  20%|██        | 10/50 [00:02<00:10,  3.83it/s]\u001b[A\n",
      "Epoch 0:  93%|█████████▎| 512/550 [07:40<00:34,  1.11it/s, loss=0.0346, v_num=to9m]\n",
      "Validating:  24%|██▍       | 12/50 [00:03<00:10,  3.67it/s]\u001b[A\n",
      "Epoch 0:  93%|█████████▎| 514/550 [07:40<00:32,  1.12it/s, loss=0.0346, v_num=to9m]\n",
      "Validating:  28%|██▊       | 14/50 [00:03<00:10,  3.59it/s]\u001b[A\n",
      "Epoch 0:  94%|█████████▍| 516/550 [07:41<00:30,  1.12it/s, loss=0.0346, v_num=to9m]\n",
      "Validating:  32%|███▏      | 16/50 [00:04<00:09,  3.46it/s]\u001b[A\n",
      "Epoch 0:  94%|█████████▍| 518/550 [07:42<00:28,  1.12it/s, loss=0.0346, v_num=to9m]\n",
      "Validating:  36%|███▌      | 18/50 [00:05<00:10,  3.02it/s]\u001b[A\n",
      "Epoch 0:  95%|█████████▍| 520/550 [07:42<00:26,  1.12it/s, loss=0.0346, v_num=to9m]\n",
      "Validating:  40%|████      | 20/50 [00:05<00:10,  2.96it/s]\u001b[A\n",
      "Epoch 0:  95%|█████████▍| 522/550 [07:43<00:24,  1.13it/s, loss=0.0346, v_num=to9m]\n",
      "Validating:  44%|████▍     | 22/50 [00:06<00:08,  3.13it/s]\u001b[A\n",
      "Epoch 0:  95%|█████████▌| 524/550 [07:43<00:23,  1.13it/s, loss=0.0346, v_num=to9m]\n",
      "Validating:  48%|████▊     | 24/50 [00:06<00:07,  3.43it/s]\u001b[A\n",
      "Epoch 0:  96%|█████████▌| 526/550 [07:44<00:21,  1.13it/s, loss=0.0346, v_num=to9m]\n",
      "Validating:  52%|█████▏    | 26/50 [00:07<00:06,  3.56it/s]\u001b[A\n",
      "Epoch 0:  96%|█████████▌| 528/550 [07:45<00:19,  1.14it/s, loss=0.0346, v_num=to9m]\n",
      "Validating:  56%|█████▌    | 28/50 [00:08<00:06,  3.19it/s]\u001b[A\n",
      "Epoch 0:  96%|█████████▋| 530/550 [07:45<00:17,  1.14it/s, loss=0.0346, v_num=to9m]\n",
      "Validating:  60%|██████    | 30/50 [00:08<00:05,  3.40it/s]\u001b[A\n",
      "Epoch 0:  97%|█████████▋| 532/550 [07:46<00:15,  1.14it/s, loss=0.0346, v_num=to9m]\n",
      "Validating:  64%|██████▍   | 32/50 [00:09<00:05,  3.45it/s]\u001b[A\n",
      "Epoch 0:  97%|█████████▋| 534/550 [07:46<00:13,  1.14it/s, loss=0.0346, v_num=to9m]\n",
      "Validating:  68%|██████▊   | 34/50 [00:09<00:04,  3.39it/s]\u001b[A\n",
      "Epoch 0:  97%|█████████▋| 536/550 [07:47<00:12,  1.15it/s, loss=0.0346, v_num=to9m]\n",
      "Validating:  72%|███████▏  | 36/50 [00:10<00:03,  3.69it/s]\u001b[A\n",
      "Epoch 0:  98%|█████████▊| 538/550 [07:48<00:10,  1.15it/s, loss=0.0346, v_num=to9m]\n",
      "Validating:  76%|███████▌  | 38/50 [00:11<00:03,  3.51it/s]\u001b[A\n",
      "Epoch 0:  98%|█████████▊| 540/550 [07:48<00:08,  1.15it/s, loss=0.0346, v_num=to9m]\n",
      "Validating:  80%|████████  | 40/50 [00:11<00:02,  3.36it/s]\u001b[A\n",
      "Epoch 0:  99%|█████████▊| 542/550 [07:49<00:06,  1.15it/s, loss=0.0346, v_num=to9m]\n",
      "Validating:  84%|████████▍ | 42/50 [00:12<00:02,  3.24it/s]\u001b[A\n",
      "Epoch 0:  99%|█████████▉| 544/550 [07:49<00:05,  1.16it/s, loss=0.0346, v_num=to9m]\n",
      "Validating:  88%|████████▊ | 44/50 [00:12<00:01,  3.54it/s]\u001b[A\n",
      "Epoch 0:  99%|█████████▉| 546/550 [07:50<00:03,  1.16it/s, loss=0.0346, v_num=to9m]\n",
      "Validating:  92%|█████████▏| 46/50 [00:13<00:01,  3.67it/s]\u001b[A\n",
      "Epoch 0: 100%|█████████▉| 548/550 [07:51<00:01,  1.16it/s, loss=0.0346, v_num=to9m]\n",
      "Validating:  96%|█████████▌| 48/50 [00:13<00:00,  3.83it/s]\u001b[A\n",
      "Epoch 0: 100%|██████████| 550/550 [07:51<00:00,  1.17it/s, loss=0.0346, v_num=to9m]\n",
      "Epoch 0: 100%|██████████| 550/550 [07:51<00:00,  1.17it/s, loss=0.0346, v_num=to9m]\n",
      "Epoch 1:  91%|█████████ | 500/550 [07:37<00:45,  1.09it/s, loss=0.0199, v_num=to9m]\n",
      "Validating: 0it [00:00, ?it/s]\u001b[A\n",
      "Validating:   0%|          | 0/50 [00:00<?, ?it/s]\u001b[A\n",
      "Epoch 1:  91%|█████████▏| 502/550 [07:37<00:43,  1.10it/s, loss=0.0199, v_num=to9m]\n",
      "Validating:   4%|▍         | 2/50 [00:00<00:13,  3.52it/s]\u001b[A\n",
      "Epoch 1:  92%|█████████▏| 504/550 [07:37<00:41,  1.10it/s, loss=0.0199, v_num=to9m]\n",
      "Validating:   8%|▊         | 4/50 [00:01<00:12,  3.57it/s]\u001b[A\n",
      "Epoch 1:  92%|█████████▏| 506/550 [07:38<00:39,  1.10it/s, loss=0.0199, v_num=to9m]\n",
      "Validating:  12%|█▏        | 6/50 [00:01<00:11,  3.87it/s]\u001b[A\n",
      "Epoch 1:  92%|█████████▏| 508/550 [07:39<00:37,  1.11it/s, loss=0.0199, v_num=to9m]\n",
      "Validating:  16%|█▌        | 8/50 [00:02<00:10,  3.95it/s]\u001b[A\n",
      "Epoch 1:  93%|█████████▎| 510/550 [07:39<00:36,  1.11it/s, loss=0.0199, v_num=to9m]\n",
      "Validating:  20%|██        | 10/50 [00:02<00:10,  3.82it/s]\u001b[A\n",
      "Epoch 1:  93%|█████████▎| 512/550 [07:40<00:34,  1.11it/s, loss=0.0199, v_num=to9m]\n",
      "Validating:  24%|██▍       | 12/50 [00:03<00:10,  3.66it/s]\u001b[A\n",
      "Epoch 1:  93%|█████████▎| 514/550 [07:40<00:32,  1.12it/s, loss=0.0199, v_num=to9m]\n",
      "Validating:  28%|██▊       | 14/50 [00:03<00:10,  3.59it/s]\u001b[A\n",
      "Epoch 1:  94%|█████████▍| 516/550 [07:41<00:30,  1.12it/s, loss=0.0199, v_num=to9m]\n",
      "Validating:  32%|███▏      | 16/50 [00:04<00:09,  3.44it/s]\u001b[A\n",
      "Epoch 1:  94%|█████████▍| 518/550 [07:41<00:28,  1.12it/s, loss=0.0199, v_num=to9m]\n",
      "Validating:  36%|███▌      | 18/50 [00:05<00:10,  3.01it/s]\u001b[A\n",
      "Epoch 1:  95%|█████████▍| 520/550 [07:42<00:26,  1.12it/s, loss=0.0199, v_num=to9m]\n",
      "Validating:  40%|████      | 20/50 [00:05<00:10,  2.94it/s]\u001b[A\n",
      "Epoch 1:  95%|█████████▍| 522/550 [07:43<00:24,  1.13it/s, loss=0.0199, v_num=to9m]\n",
      "Validating:  44%|████▍     | 22/50 [00:06<00:09,  3.09it/s]\u001b[A\n",
      "Epoch 1:  95%|█████████▌| 524/550 [07:43<00:23,  1.13it/s, loss=0.0199, v_num=to9m]\n",
      "Validating:  48%|████▊     | 24/50 [00:06<00:07,  3.38it/s]\u001b[A\n",
      "Epoch 1:  96%|█████████▌| 526/550 [07:44<00:21,  1.13it/s, loss=0.0199, v_num=to9m]\n",
      "Validating:  52%|█████▏    | 26/50 [00:07<00:06,  3.52it/s]\u001b[A\n",
      "Epoch 1:  96%|█████████▌| 528/550 [07:45<00:19,  1.14it/s, loss=0.0199, v_num=to9m]\n",
      "Validating:  56%|█████▌    | 28/50 [00:08<00:07,  3.13it/s]\u001b[A\n",
      "Epoch 1:  96%|█████████▋| 530/550 [07:45<00:17,  1.14it/s, loss=0.0199, v_num=to9m]\n",
      "Validating:  60%|██████    | 30/50 [00:08<00:05,  3.37it/s]\u001b[A\n",
      "Epoch 1:  97%|█████████▋| 532/550 [07:46<00:15,  1.14it/s, loss=0.0199, v_num=to9m]\n",
      "Validating:  64%|██████▍   | 32/50 [00:09<00:05,  3.41it/s]\u001b[A\n",
      "Epoch 1:  97%|█████████▋| 534/550 [07:46<00:13,  1.14it/s, loss=0.0199, v_num=to9m]\n",
      "Validating:  68%|██████▊   | 34/50 [00:09<00:04,  3.33it/s]\u001b[A\n",
      "Epoch 1:  97%|█████████▋| 536/550 [07:47<00:12,  1.15it/s, loss=0.0199, v_num=to9m]\n",
      "Validating:  72%|███████▏  | 36/50 [00:10<00:03,  3.64it/s]\u001b[A\n",
      "Epoch 1:  98%|█████████▊| 538/550 [07:48<00:10,  1.15it/s, loss=0.0199, v_num=to9m]\n",
      "Validating:  76%|███████▌  | 38/50 [00:11<00:03,  3.45it/s]\u001b[A\n",
      "Epoch 1:  98%|█████████▊| 540/550 [07:48<00:08,  1.15it/s, loss=0.0199, v_num=to9m]\n",
      "Validating:  80%|████████  | 40/50 [00:11<00:03,  3.30it/s]\u001b[A\n",
      "Epoch 1:  99%|█████████▊| 542/550 [07:49<00:06,  1.16it/s, loss=0.0199, v_num=to9m]\n",
      "Validating:  84%|████████▍ | 42/50 [00:12<00:02,  3.20it/s]\u001b[A\n",
      "Epoch 1:  99%|█████████▉| 544/550 [07:49<00:05,  1.16it/s, loss=0.0199, v_num=to9m]\n",
      "Validating:  88%|████████▊ | 44/50 [00:12<00:01,  3.52it/s]\u001b[A\n",
      "Epoch 1:  99%|█████████▉| 546/550 [07:50<00:03,  1.16it/s, loss=0.0199, v_num=to9m]\n",
      "Validating:  92%|█████████▏| 46/50 [00:13<00:01,  3.62it/s]\u001b[A\n",
      "Epoch 1: 100%|█████████▉| 548/550 [07:50<00:01,  1.16it/s, loss=0.0199, v_num=to9m]\n",
      "Validating:  96%|█████████▌| 48/50 [00:14<00:00,  3.78it/s]\u001b[A\n",
      "Epoch 1: 100%|██████████| 550/550 [07:51<00:00,  1.17it/s, loss=0.0199, v_num=to9m]\n",
      "Epoch 1: 100%|██████████| 550/550 [07:51<00:00,  1.17it/s, loss=0.0199, v_num=to9m]\n",
      "Epoch 2:  91%|█████████ | 500/550 [07:36<00:45,  1.09it/s, loss=0.0102, v_num=to9m]\n",
      "Validating: 0it [00:00, ?it/s]\u001b[A\n",
      "Validating:   0%|          | 0/50 [00:00<?, ?it/s]\u001b[A\n",
      "Epoch 2:  91%|█████████▏| 502/550 [07:37<00:43,  1.10it/s, loss=0.0102, v_num=to9m]\n",
      "Validating:   4%|▍         | 2/50 [00:00<00:13,  3.54it/s]\u001b[A\n",
      "Epoch 2:  92%|█████████▏| 504/550 [07:37<00:41,  1.10it/s, loss=0.0102, v_num=to9m]\n",
      "Validating:   8%|▊         | 4/50 [00:01<00:12,  3.57it/s]\u001b[A\n",
      "Epoch 2:  92%|█████████▏| 506/550 [07:38<00:39,  1.10it/s, loss=0.0102, v_num=to9m]\n",
      "Validating:  12%|█▏        | 6/50 [00:01<00:11,  3.87it/s]\u001b[A\n",
      "Epoch 2:  92%|█████████▏| 508/550 [07:38<00:37,  1.11it/s, loss=0.0102, v_num=to9m]\n",
      "Validating:  16%|█▌        | 8/50 [00:02<00:10,  3.95it/s]\u001b[A\n",
      "Epoch 2:  93%|█████████▎| 510/550 [07:39<00:36,  1.11it/s, loss=0.0102, v_num=to9m]\n",
      "Validating:  20%|██        | 10/50 [00:02<00:10,  3.81it/s]\u001b[A\n",
      "Epoch 2:  93%|█████████▎| 512/550 [07:39<00:34,  1.11it/s, loss=0.0102, v_num=to9m]\n",
      "Validating:  24%|██▍       | 12/50 [00:03<00:10,  3.67it/s]\u001b[A\n",
      "Epoch 2:  93%|█████████▎| 514/550 [07:40<00:32,  1.12it/s, loss=0.0102, v_num=to9m]\n",
      "Validating:  28%|██▊       | 14/50 [00:03<00:10,  3.56it/s]\u001b[A\n",
      "Epoch 2:  94%|█████████▍| 516/550 [07:40<00:30,  1.12it/s, loss=0.0102, v_num=to9m]\n",
      "Validating:  32%|███▏      | 16/50 [00:04<00:10,  3.39it/s]\u001b[A\n",
      "Epoch 2:  94%|█████████▍| 518/550 [07:41<00:28,  1.12it/s, loss=0.0102, v_num=to9m]\n",
      "Validating:  36%|███▌      | 18/50 [00:05<00:10,  2.95it/s]\u001b[A\n",
      "Epoch 2:  95%|█████████▍| 520/550 [07:42<00:26,  1.12it/s, loss=0.0102, v_num=to9m]\n",
      "Validating:  40%|████      | 20/50 [00:05<00:10,  2.90it/s]\u001b[A\n",
      "Epoch 2:  95%|█████████▍| 522/550 [07:42<00:24,  1.13it/s, loss=0.0102, v_num=to9m]\n",
      "Validating:  44%|████▍     | 22/50 [00:06<00:09,  3.08it/s]\u001b[A\n",
      "Epoch 2:  95%|█████████▌| 524/550 [07:43<00:23,  1.13it/s, loss=0.0102, v_num=to9m]\n",
      "Validating:  48%|████▊     | 24/50 [00:07<00:07,  3.35it/s]\u001b[A\n",
      "Epoch 2:  96%|█████████▌| 526/550 [07:44<00:21,  1.13it/s, loss=0.0102, v_num=to9m]\n",
      "Validating:  52%|█████▏    | 26/50 [00:07<00:06,  3.52it/s]\u001b[A\n",
      "Epoch 2:  96%|█████████▌| 528/550 [07:44<00:19,  1.14it/s, loss=0.0102, v_num=to9m]\n",
      "Validating:  56%|█████▌    | 28/50 [00:08<00:07,  3.13it/s]\u001b[A\n",
      "Epoch 2:  96%|█████████▋| 530/550 [07:45<00:17,  1.14it/s, loss=0.0102, v_num=to9m]\n",
      "Validating:  60%|██████    | 30/50 [00:08<00:05,  3.34it/s]\u001b[A\n",
      "Epoch 2:  97%|█████████▋| 532/550 [07:45<00:15,  1.14it/s, loss=0.0102, v_num=to9m]\n",
      "Validating:  64%|██████▍   | 32/50 [00:09<00:05,  3.41it/s]\u001b[A\n",
      "Epoch 2:  97%|█████████▋| 534/550 [07:46<00:13,  1.14it/s, loss=0.0102, v_num=to9m]\n",
      "Validating:  68%|██████▊   | 34/50 [00:10<00:04,  3.33it/s]\u001b[A\n",
      "Epoch 2:  97%|█████████▋| 536/550 [07:47<00:12,  1.15it/s, loss=0.0102, v_num=to9m]\n",
      "Validating:  72%|███████▏  | 36/50 [00:10<00:03,  3.64it/s]\u001b[A\n",
      "Epoch 2:  98%|█████████▊| 538/550 [07:47<00:10,  1.15it/s, loss=0.0102, v_num=to9m]\n",
      "Validating:  76%|███████▌  | 38/50 [00:11<00:03,  3.49it/s]\u001b[A\n",
      "Epoch 2:  98%|█████████▊| 540/550 [07:48<00:08,  1.15it/s, loss=0.0102, v_num=to9m]\n",
      "Validating:  80%|████████  | 40/50 [00:11<00:03,  3.32it/s]\u001b[A\n",
      "Epoch 2:  99%|█████████▊| 542/550 [07:48<00:06,  1.16it/s, loss=0.0102, v_num=to9m]\n",
      "Validating:  84%|████████▍ | 42/50 [00:12<00:02,  3.22it/s]\u001b[A\n",
      "Epoch 2:  99%|█████████▉| 544/550 [07:49<00:05,  1.16it/s, loss=0.0102, v_num=to9m]\n",
      "Validating:  88%|████████▊ | 44/50 [00:12<00:01,  3.52it/s]\u001b[A\n",
      "Epoch 2:  99%|█████████▉| 546/550 [07:50<00:03,  1.16it/s, loss=0.0102, v_num=to9m]\n",
      "Validating:  92%|█████████▏| 46/50 [00:13<00:01,  3.62it/s]\u001b[A\n",
      "Epoch 2: 100%|█████████▉| 548/550 [07:50<00:01,  1.16it/s, loss=0.0102, v_num=to9m]\n",
      "Validating:  96%|█████████▌| 48/50 [00:14<00:00,  3.77it/s]\u001b[A\n",
      "Epoch 2: 100%|██████████| 550/550 [07:51<00:00,  1.17it/s, loss=0.0102, v_num=to9m]\n",
      "Epoch 2: 100%|██████████| 550/550 [07:51<00:00,  1.17it/s, loss=0.0102, v_num=to9m]\n",
      "Epoch 3:  91%|█████████ | 500/550 [07:36<00:45,  1.09it/s, loss=0.00868, v_num=to9m]\n",
      "Validating: 0it [00:00, ?it/s]\u001b[A\n",
      "Validating:   0%|          | 0/50 [00:00<?, ?it/s]\u001b[A\n",
      "Epoch 3:  91%|█████████▏| 502/550 [07:37<00:43,  1.10it/s, loss=0.00868, v_num=to9m]\n",
      "Validating:   4%|▍         | 2/50 [00:00<00:13,  3.48it/s]\u001b[A\n",
      "Epoch 3:  92%|█████████▏| 504/550 [07:37<00:41,  1.10it/s, loss=0.00868, v_num=to9m]\n",
      "Validating:   8%|▊         | 4/50 [00:01<00:12,  3.56it/s]\u001b[A\n",
      "Epoch 3:  92%|█████████▏| 506/550 [07:38<00:39,  1.10it/s, loss=0.00868, v_num=to9m]\n",
      "Validating:  12%|█▏        | 6/50 [00:01<00:11,  3.87it/s]\u001b[A\n",
      "Epoch 3:  92%|█████████▏| 508/550 [07:38<00:37,  1.11it/s, loss=0.00868, v_num=to9m]\n",
      "Validating:  16%|█▌        | 8/50 [00:02<00:10,  3.91it/s]\u001b[A\n",
      "Epoch 3:  93%|█████████▎| 510/550 [07:39<00:36,  1.11it/s, loss=0.00868, v_num=to9m]\n",
      "Validating:  20%|██        | 10/50 [00:02<00:10,  3.74it/s]\u001b[A\n",
      "Epoch 3:  93%|█████████▎| 512/550 [07:39<00:34,  1.11it/s, loss=0.00868, v_num=to9m]\n",
      "Validating:  24%|██▍       | 12/50 [00:03<00:10,  3.63it/s]\u001b[A\n",
      "Epoch 3:  93%|█████████▎| 514/550 [07:40<00:32,  1.12it/s, loss=0.00868, v_num=to9m]\n",
      "Validating:  28%|██▊       | 14/50 [00:03<00:10,  3.56it/s]\u001b[A\n",
      "Epoch 3:  94%|█████████▍| 516/550 [07:40<00:30,  1.12it/s, loss=0.00868, v_num=to9m]\n",
      "Validating:  32%|███▏      | 16/50 [00:04<00:09,  3.43it/s]\u001b[A\n",
      "Epoch 3:  94%|█████████▍| 518/550 [07:41<00:28,  1.12it/s, loss=0.00868, v_num=to9m]\n",
      "Validating:  36%|███▌      | 18/50 [00:05<00:10,  2.98it/s]\u001b[A\n",
      "Epoch 3:  95%|█████████▍| 520/550 [07:42<00:26,  1.12it/s, loss=0.00868, v_num=to9m]\n",
      "Validating:  40%|████      | 20/50 [00:05<00:10,  2.90it/s]\u001b[A\n",
      "Epoch 3:  95%|█████████▍| 522/550 [07:43<00:24,  1.13it/s, loss=0.00868, v_num=to9m]\n",
      "Validating:  44%|████▍     | 22/50 [00:06<00:09,  3.06it/s]\u001b[A\n",
      "Epoch 3:  95%|█████████▌| 524/550 [07:43<00:23,  1.13it/s, loss=0.00868, v_num=to9m]\n",
      "Validating:  48%|████▊     | 24/50 [00:07<00:07,  3.37it/s]\u001b[A\n",
      "Epoch 3:  96%|█████████▌| 526/550 [07:44<00:21,  1.13it/s, loss=0.00868, v_num=to9m]\n",
      "Validating:  52%|█████▏    | 26/50 [00:07<00:06,  3.51it/s]\u001b[A\n",
      "Epoch 3:  96%|█████████▌| 528/550 [07:44<00:19,  1.14it/s, loss=0.00868, v_num=to9m]\n",
      "Validating:  56%|█████▌    | 28/50 [00:08<00:07,  3.13it/s]\u001b[A\n",
      "Epoch 3:  96%|█████████▋| 530/550 [07:45<00:17,  1.14it/s, loss=0.00868, v_num=to9m]\n",
      "Validating:  60%|██████    | 30/50 [00:08<00:06,  3.15it/s]\u001b[A\n",
      "Epoch 3:  97%|█████████▋| 532/550 [07:46<00:15,  1.14it/s, loss=0.00868, v_num=to9m]\n",
      "Validating:  64%|██████▍   | 32/50 [00:09<00:06,  2.97it/s]\u001b[A\n",
      "Epoch 3:  97%|█████████▋| 534/550 [07:46<00:13,  1.14it/s, loss=0.00868, v_num=to9m]\n",
      "Validating:  68%|██████▊   | 34/50 [00:10<00:05,  2.82it/s]\u001b[A\n",
      "Epoch 3:  97%|█████████▋| 536/550 [07:47<00:12,  1.15it/s, loss=0.00868, v_num=to9m]\n",
      "Validating:  72%|███████▏  | 36/50 [00:10<00:04,  3.17it/s]\u001b[A\n",
      "Epoch 3:  98%|█████████▊| 538/550 [07:48<00:10,  1.15it/s, loss=0.00868, v_num=to9m]\n",
      "Validating:  76%|███████▌  | 38/50 [00:11<00:03,  3.24it/s]\u001b[A\n",
      "Epoch 3:  98%|█████████▊| 540/550 [07:48<00:08,  1.15it/s, loss=0.00868, v_num=to9m]\n",
      "Validating:  80%|████████  | 40/50 [00:12<00:03,  3.18it/s]\u001b[A\n",
      "Epoch 3:  99%|█████████▊| 542/550 [07:49<00:06,  1.15it/s, loss=0.00868, v_num=to9m]\n",
      "Validating:  84%|████████▍ | 42/50 [00:12<00:02,  3.12it/s]\u001b[A\n",
      "Epoch 3:  99%|█████████▉| 544/550 [07:50<00:05,  1.16it/s, loss=0.00868, v_num=to9m]\n",
      "Validating:  88%|████████▊ | 44/50 [00:13<00:01,  3.42it/s]\u001b[A\n",
      "Epoch 3:  99%|█████████▉| 546/550 [07:50<00:03,  1.16it/s, loss=0.00868, v_num=to9m]\n",
      "Validating:  92%|█████████▏| 46/50 [00:13<00:01,  3.53it/s]\u001b[A\n",
      "Epoch 3: 100%|█████████▉| 548/550 [07:51<00:01,  1.16it/s, loss=0.00868, v_num=to9m]\n",
      "Validating:  96%|█████████▌| 48/50 [00:14<00:00,  3.72it/s]\u001b[A\n",
      "Epoch 3: 100%|██████████| 550/550 [07:51<00:00,  1.17it/s, loss=0.00868, v_num=to9m]\n",
      "Epoch 3: 100%|██████████| 550/550 [07:51<00:00,  1.17it/s, loss=0.00868, v_num=to9m]\n",
      "Epoch 4:  91%|█████████ | 500/550 [07:37<00:45,  1.09it/s, loss=0.00563, v_num=to9m]\n",
      "Validating: 0it [00:00, ?it/s]\u001b[A\n",
      "Validating:   0%|          | 0/50 [00:00<?, ?it/s]\u001b[A\n",
      "Epoch 4:  91%|█████████▏| 502/550 [07:37<00:43,  1.10it/s, loss=0.00563, v_num=to9m]\n",
      "Validating:   4%|▍         | 2/50 [00:00<00:13,  3.48it/s]\u001b[A\n",
      "Epoch 4:  92%|█████████▏| 504/550 [07:37<00:41,  1.10it/s, loss=0.00563, v_num=to9m]\n",
      "Validating:   8%|▊         | 4/50 [00:01<00:12,  3.56it/s]\u001b[A\n",
      "Epoch 4:  92%|█████████▏| 506/550 [07:38<00:39,  1.10it/s, loss=0.00563, v_num=to9m]\n",
      "Validating:  12%|█▏        | 6/50 [00:01<00:11,  3.87it/s]\u001b[A\n",
      "Epoch 4:  92%|█████████▏| 508/550 [07:39<00:37,  1.11it/s, loss=0.00563, v_num=to9m]\n",
      "Validating:  16%|█▌        | 8/50 [00:02<00:10,  3.96it/s]\u001b[A\n",
      "Epoch 4:  93%|█████████▎| 510/550 [07:39<00:36,  1.11it/s, loss=0.00563, v_num=to9m]\n",
      "Validating:  20%|██        | 10/50 [00:02<00:10,  3.81it/s]\u001b[A\n",
      "Epoch 4:  93%|█████████▎| 512/550 [07:40<00:34,  1.11it/s, loss=0.00563, v_num=to9m]\n",
      "Validating:  24%|██▍       | 12/50 [00:03<00:10,  3.68it/s]\u001b[A\n",
      "Epoch 4:  93%|█████████▎| 514/550 [07:40<00:32,  1.12it/s, loss=0.00563, v_num=to9m]\n",
      "Validating:  28%|██▊       | 14/50 [00:03<00:10,  3.58it/s]\u001b[A\n",
      "Epoch 4:  94%|█████████▍| 516/550 [07:41<00:30,  1.12it/s, loss=0.00563, v_num=to9m]\n",
      "Validating:  32%|███▏      | 16/50 [00:04<00:09,  3.42it/s]\u001b[A\n",
      "Epoch 4:  94%|█████████▍| 518/550 [07:41<00:28,  1.12it/s, loss=0.00563, v_num=to9m]\n",
      "Validating:  36%|███▌      | 18/50 [00:05<00:10,  2.99it/s]\u001b[A\n",
      "Epoch 4:  95%|█████████▍| 520/550 [07:42<00:26,  1.12it/s, loss=0.00563, v_num=to9m]\n",
      "Validating:  40%|████      | 20/50 [00:05<00:10,  2.92it/s]\u001b[A\n",
      "Epoch 4:  95%|█████████▍| 522/550 [07:43<00:24,  1.13it/s, loss=0.00563, v_num=to9m]\n",
      "Validating:  44%|████▍     | 22/50 [00:06<00:09,  3.09it/s]\u001b[A\n",
      "Epoch 4:  95%|█████████▌| 524/550 [07:43<00:23,  1.13it/s, loss=0.00563, v_num=to9m]\n",
      "Validating:  48%|████▊     | 24/50 [00:06<00:07,  3.40it/s]\u001b[A\n",
      "Epoch 4:  96%|█████████▌| 526/550 [07:44<00:21,  1.13it/s, loss=0.00563, v_num=to9m]\n",
      "Validating:  52%|█████▏    | 26/50 [00:07<00:06,  3.57it/s]\u001b[A\n",
      "Epoch 4:  96%|█████████▌| 528/550 [07:44<00:19,  1.14it/s, loss=0.00563, v_num=to9m]\n",
      "Validating:  56%|█████▌    | 28/50 [00:08<00:06,  3.16it/s]\u001b[A\n",
      "Epoch 4:  96%|█████████▋| 530/550 [07:45<00:17,  1.14it/s, loss=0.00563, v_num=to9m]\n",
      "Validating:  60%|██████    | 30/50 [00:08<00:05,  3.37it/s]\u001b[A\n",
      "Epoch 4:  97%|█████████▋| 532/550 [07:46<00:15,  1.14it/s, loss=0.00563, v_num=to9m]\n",
      "Validating:  64%|██████▍   | 32/50 [00:09<00:05,  3.42it/s]\u001b[A\n",
      "Epoch 4:  97%|█████████▋| 534/550 [07:46<00:13,  1.14it/s, loss=0.00563, v_num=to9m]\n",
      "Validating:  68%|██████▊   | 34/50 [00:09<00:04,  3.35it/s]\u001b[A\n",
      "Epoch 4:  97%|█████████▋| 536/550 [07:47<00:12,  1.15it/s, loss=0.00563, v_num=to9m]\n",
      "Validating:  72%|███████▏  | 36/50 [00:10<00:03,  3.66it/s]\u001b[A\n",
      "Epoch 4:  98%|█████████▊| 538/550 [07:47<00:10,  1.15it/s, loss=0.00563, v_num=to9m]\n",
      "Validating:  76%|███████▌  | 38/50 [00:11<00:03,  3.50it/s]\u001b[A\n",
      "Epoch 4:  98%|█████████▊| 540/550 [07:48<00:08,  1.15it/s, loss=0.00563, v_num=to9m]\n",
      "Validating:  80%|████████  | 40/50 [00:11<00:03,  3.33it/s]\u001b[A\n",
      "Epoch 4:  99%|█████████▊| 542/550 [07:49<00:06,  1.16it/s, loss=0.00563, v_num=to9m]\n",
      "Validating:  84%|████████▍ | 42/50 [00:12<00:02,  3.21it/s]\u001b[A\n",
      "Epoch 4:  99%|█████████▉| 544/550 [07:49<00:05,  1.16it/s, loss=0.00563, v_num=to9m]\n",
      "Validating:  88%|████████▊ | 44/50 [00:12<00:01,  3.51it/s]\u001b[A\n",
      "Epoch 4:  99%|█████████▉| 546/550 [07:50<00:03,  1.16it/s, loss=0.00563, v_num=to9m]\n",
      "Validating:  92%|█████████▏| 46/50 [00:13<00:01,  3.61it/s]\u001b[A\n",
      "Epoch 4: 100%|█████████▉| 548/550 [07:50<00:01,  1.16it/s, loss=0.00563, v_num=to9m]\n",
      "Validating:  96%|█████████▌| 48/50 [00:13<00:00,  3.76it/s]\u001b[A\n",
      "Epoch 4: 100%|██████████| 550/550 [07:51<00:00,  1.17it/s, loss=0.00563, v_num=to9m]\n",
      "Epoch 4: 100%|██████████| 550/550 [07:51<00:00,  1.17it/s, loss=0.00563, v_num=to9m]\n",
      "Epoch 5:  91%|█████████ | 500/550 [07:37<00:45,  1.09it/s, loss=0.00512, v_num=to9m]\n",
      "Validating: 0it [00:00, ?it/s]\u001b[A\n",
      "Validating:   0%|          | 0/50 [00:00<?, ?it/s]\u001b[A\n",
      "Epoch 5:  91%|█████████▏| 502/550 [07:37<00:43,  1.10it/s, loss=0.00512, v_num=to9m]\n",
      "Validating:   4%|▍         | 2/50 [00:00<00:13,  3.46it/s]\u001b[A\n",
      "Epoch 5:  92%|█████████▏| 504/550 [07:37<00:41,  1.10it/s, loss=0.00512, v_num=to9m]\n",
      "Validating:   8%|▊         | 4/50 [00:01<00:12,  3.56it/s]\u001b[A\n",
      "Epoch 5:  92%|█████████▏| 506/550 [07:38<00:39,  1.10it/s, loss=0.00512, v_num=to9m]\n",
      "Validating:  12%|█▏        | 6/50 [00:01<00:11,  3.89it/s]\u001b[A\n",
      "Epoch 5:  92%|█████████▏| 508/550 [07:38<00:37,  1.11it/s, loss=0.00512, v_num=to9m]\n",
      "Validating:  16%|█▌        | 8/50 [00:02<00:10,  3.99it/s]\u001b[A\n",
      "Epoch 5:  93%|█████████▎| 510/550 [07:39<00:36,  1.11it/s, loss=0.00512, v_num=to9m]\n",
      "Validating:  20%|██        | 10/50 [00:02<00:10,  3.84it/s]\u001b[A\n",
      "Epoch 5:  93%|█████████▎| 512/550 [07:39<00:34,  1.11it/s, loss=0.00512, v_num=to9m]\n",
      "Validating:  24%|██▍       | 12/50 [00:03<00:10,  3.70it/s]\u001b[A\n",
      "Epoch 5:  93%|█████████▎| 514/550 [07:40<00:32,  1.12it/s, loss=0.00512, v_num=to9m]\n",
      "Validating:  28%|██▊       | 14/50 [00:03<00:09,  3.62it/s]\u001b[A\n",
      "Epoch 5:  94%|█████████▍| 516/550 [07:41<00:30,  1.12it/s, loss=0.00512, v_num=to9m]\n",
      "Validating:  32%|███▏      | 16/50 [00:04<00:09,  3.48it/s]\u001b[A\n",
      "Epoch 5:  94%|█████████▍| 518/550 [07:41<00:28,  1.12it/s, loss=0.00512, v_num=to9m]\n",
      "Validating:  36%|███▌      | 18/50 [00:05<00:10,  3.01it/s]\u001b[A\n",
      "Epoch 5:  95%|█████████▍| 520/550 [07:42<00:26,  1.12it/s, loss=0.00512, v_num=to9m]\n",
      "Validating:  40%|████      | 20/50 [00:05<00:10,  2.94it/s]\u001b[A\n",
      "Epoch 5:  95%|█████████▍| 522/550 [07:43<00:24,  1.13it/s, loss=0.00512, v_num=to9m]\n",
      "Validating:  44%|████▍     | 22/50 [00:06<00:09,  3.11it/s]\u001b[A\n",
      "Epoch 5:  95%|█████████▌| 524/550 [07:43<00:23,  1.13it/s, loss=0.00512, v_num=to9m]\n",
      "Validating:  48%|████▊     | 24/50 [00:06<00:07,  3.42it/s]\u001b[A\n",
      "Epoch 5:  96%|█████████▌| 526/550 [07:44<00:21,  1.13it/s, loss=0.00512, v_num=to9m]\n",
      "Validating:  52%|█████▏    | 26/50 [00:07<00:06,  3.57it/s]\u001b[A\n",
      "Epoch 5:  96%|█████████▌| 528/550 [07:44<00:19,  1.14it/s, loss=0.00512, v_num=to9m]\n",
      "Validating:  56%|█████▌    | 28/50 [00:08<00:06,  3.17it/s]\u001b[A\n",
      "Epoch 5:  96%|█████████▋| 530/550 [07:45<00:17,  1.14it/s, loss=0.00512, v_num=to9m]\n",
      "Validating:  60%|██████    | 30/50 [00:08<00:05,  3.40it/s]\u001b[A\n",
      "Epoch 5:  97%|█████████▋| 532/550 [07:46<00:15,  1.14it/s, loss=0.00512, v_num=to9m]\n",
      "Validating:  64%|██████▍   | 32/50 [00:09<00:05,  3.46it/s]\u001b[A\n",
      "Epoch 5:  97%|█████████▋| 534/550 [07:46<00:13,  1.14it/s, loss=0.00512, v_num=to9m]\n",
      "Validating:  68%|██████▊   | 34/50 [00:09<00:04,  3.38it/s]\u001b[A\n",
      "Epoch 5:  97%|█████████▋| 536/550 [07:47<00:12,  1.15it/s, loss=0.00512, v_num=to9m]\n",
      "Validating:  72%|███████▏  | 36/50 [00:10<00:03,  3.68it/s]\u001b[A\n",
      "Epoch 5:  98%|█████████▊| 538/550 [07:47<00:10,  1.15it/s, loss=0.00512, v_num=to9m]\n",
      "Validating:  76%|███████▌  | 38/50 [00:11<00:03,  3.49it/s]\u001b[A\n",
      "Epoch 5:  98%|█████████▊| 540/550 [07:48<00:08,  1.15it/s, loss=0.00512, v_num=to9m]\n",
      "Validating:  80%|████████  | 40/50 [00:11<00:02,  3.34it/s]\u001b[A\n",
      "Epoch 5:  99%|█████████▊| 542/550 [07:48<00:06,  1.16it/s, loss=0.00512, v_num=to9m]\n",
      "Validating:  84%|████████▍ | 42/50 [00:12<00:02,  3.25it/s]\u001b[A\n",
      "Epoch 5:  99%|█████████▉| 544/550 [07:49<00:05,  1.16it/s, loss=0.00512, v_num=to9m]\n",
      "Validating:  88%|████████▊ | 44/50 [00:12<00:01,  3.55it/s]\u001b[A\n",
      "Epoch 5:  99%|█████████▉| 546/550 [07:50<00:03,  1.16it/s, loss=0.00512, v_num=to9m]\n",
      "Validating:  92%|█████████▏| 46/50 [00:13<00:01,  3.67it/s]\u001b[A\n",
      "Epoch 5: 100%|█████████▉| 548/550 [07:50<00:01,  1.16it/s, loss=0.00512, v_num=to9m]\n",
      "Validating:  96%|█████████▌| 48/50 [00:13<00:00,  3.82it/s]\u001b[A\n",
      "Epoch 5: 100%|██████████| 550/550 [07:51<00:00,  1.17it/s, loss=0.00512, v_num=to9m]\n",
      "Epoch 5: 100%|██████████| 550/550 [07:51<00:00,  1.17it/s, loss=0.00512, v_num=to9m]\n",
      "Epoch 6:  91%|█████████ | 500/550 [07:36<00:45,  1.09it/s, loss=0.00391, v_num=to9m]\n",
      "Validating: 0it [00:00, ?it/s]\u001b[A\n",
      "Validating:   0%|          | 0/50 [00:00<?, ?it/s]\u001b[A\n",
      "Epoch 6:  91%|█████████▏| 502/550 [07:37<00:43,  1.10it/s, loss=0.00391, v_num=to9m]\n",
      "Validating:   4%|▍         | 2/50 [00:00<00:13,  3.52it/s]\u001b[A\n",
      "Epoch 6:  92%|█████████▏| 504/550 [07:37<00:41,  1.10it/s, loss=0.00391, v_num=to9m]\n",
      "Validating:   8%|▊         | 4/50 [00:01<00:12,  3.60it/s]\u001b[A\n",
      "Epoch 6:  92%|█████████▏| 506/550 [07:38<00:39,  1.10it/s, loss=0.00391, v_num=to9m]\n",
      "Validating:  12%|█▏        | 6/50 [00:01<00:11,  3.92it/s]\u001b[A\n",
      "Epoch 6:  92%|█████████▏| 508/550 [07:38<00:37,  1.11it/s, loss=0.00391, v_num=to9m]\n",
      "Validating:  16%|█▌        | 8/50 [00:02<00:10,  3.99it/s]\u001b[A\n",
      "Epoch 6:  93%|█████████▎| 510/550 [07:39<00:36,  1.11it/s, loss=0.00391, v_num=to9m]\n",
      "Validating:  20%|██        | 10/50 [00:02<00:10,  3.84it/s]\u001b[A\n",
      "Epoch 6:  93%|█████████▎| 512/550 [07:39<00:34,  1.11it/s, loss=0.00391, v_num=to9m]\n",
      "Validating:  24%|██▍       | 12/50 [00:03<00:10,  3.71it/s]\u001b[A\n",
      "Epoch 6:  93%|█████████▎| 514/550 [07:40<00:32,  1.12it/s, loss=0.00391, v_num=to9m]\n",
      "Validating:  28%|██▊       | 14/50 [00:03<00:09,  3.61it/s]\u001b[A\n",
      "Epoch 6:  94%|█████████▍| 516/550 [07:40<00:30,  1.12it/s, loss=0.00391, v_num=to9m]\n",
      "Validating:  32%|███▏      | 16/50 [00:04<00:09,  3.48it/s]\u001b[A\n",
      "Epoch 6:  94%|█████████▍| 518/550 [07:41<00:28,  1.12it/s, loss=0.00391, v_num=to9m]\n",
      "Validating:  36%|███▌      | 18/50 [00:05<00:10,  3.02it/s]\u001b[A\n",
      "Epoch 6:  95%|█████████▍| 520/550 [07:42<00:26,  1.12it/s, loss=0.00391, v_num=to9m]\n",
      "Validating:  40%|████      | 20/50 [00:05<00:10,  2.95it/s]\u001b[A\n",
      "Epoch 6:  95%|█████████▍| 522/550 [07:42<00:24,  1.13it/s, loss=0.00391, v_num=to9m]\n",
      "Validating:  44%|████▍     | 22/50 [00:06<00:08,  3.13it/s]\u001b[A\n",
      "Epoch 6:  95%|█████████▌| 524/550 [07:43<00:22,  1.13it/s, loss=0.00391, v_num=to9m]\n",
      "Validating:  48%|████▊     | 24/50 [00:06<00:07,  3.42it/s]\u001b[A\n",
      "Epoch 6:  96%|█████████▌| 526/550 [07:44<00:21,  1.13it/s, loss=0.00391, v_num=to9m]\n",
      "Validating:  52%|█████▏    | 26/50 [00:07<00:06,  3.57it/s]\u001b[A\n",
      "Epoch 6:  96%|█████████▌| 528/550 [07:44<00:19,  1.14it/s, loss=0.00391, v_num=to9m]\n",
      "Validating:  56%|█████▌    | 28/50 [00:08<00:06,  3.17it/s]\u001b[A\n",
      "Epoch 6:  96%|█████████▋| 530/550 [07:45<00:17,  1.14it/s, loss=0.00391, v_num=to9m]\n",
      "Validating:  60%|██████    | 30/50 [00:08<00:05,  3.39it/s]\u001b[A\n",
      "Epoch 6:  97%|█████████▋| 532/550 [07:45<00:15,  1.14it/s, loss=0.00391, v_num=to9m]\n",
      "Validating:  64%|██████▍   | 32/50 [00:09<00:05,  3.46it/s]\u001b[A\n",
      "Epoch 6:  97%|█████████▋| 534/550 [07:46<00:13,  1.14it/s, loss=0.00391, v_num=to9m]\n",
      "Validating:  68%|██████▊   | 34/50 [00:09<00:04,  3.38it/s]\u001b[A\n",
      "Epoch 6:  97%|█████████▋| 536/550 [07:47<00:12,  1.15it/s, loss=0.00391, v_num=to9m]\n",
      "Validating:  72%|███████▏  | 36/50 [00:10<00:03,  3.68it/s]\u001b[A\n",
      "Epoch 6:  98%|█████████▊| 538/550 [07:47<00:10,  1.15it/s, loss=0.00391, v_num=to9m]\n",
      "Validating:  76%|███████▌  | 38/50 [00:11<00:03,  3.51it/s]\u001b[A\n",
      "Epoch 6:  98%|█████████▊| 540/550 [07:48<00:08,  1.15it/s, loss=0.00391, v_num=to9m]\n",
      "Validating:  80%|████████  | 40/50 [00:11<00:02,  3.35it/s]\u001b[A\n",
      "Epoch 6:  99%|█████████▊| 542/550 [07:48<00:06,  1.16it/s, loss=0.00391, v_num=to9m]\n",
      "Validating:  84%|████████▍ | 42/50 [00:12<00:02,  3.26it/s]\u001b[A\n",
      "Epoch 6:  99%|█████████▉| 544/550 [07:49<00:05,  1.16it/s, loss=0.00391, v_num=to9m]\n",
      "Validating:  88%|████████▊ | 44/50 [00:12<00:01,  3.56it/s]\u001b[A\n",
      "Epoch 6:  99%|█████████▉| 546/550 [07:49<00:03,  1.16it/s, loss=0.00391, v_num=to9m]\n",
      "Validating:  92%|█████████▏| 46/50 [00:13<00:01,  3.68it/s]\u001b[A\n",
      "Epoch 6: 100%|█████████▉| 548/550 [07:50<00:01,  1.16it/s, loss=0.00391, v_num=to9m]\n",
      "Validating:  96%|█████████▌| 48/50 [00:13<00:00,  3.83it/s]\u001b[A\n",
      "Epoch 6: 100%|██████████| 550/550 [07:50<00:00,  1.17it/s, loss=0.00391, v_num=to9m]\n",
      "Epoch 6: 100%|██████████| 550/550 [07:51<00:00,  1.17it/s, loss=0.00391, v_num=to9m]\n",
      "Epoch 7:  91%|█████████ | 500/550 [07:36<00:45,  1.09it/s, loss=0.00387, v_num=to9m]\n",
      "Validating: 0it [00:00, ?it/s]\u001b[A\n",
      "Validating:   0%|          | 0/50 [00:00<?, ?it/s]\u001b[A\n",
      "Epoch 7:  91%|█████████▏| 502/550 [07:37<00:43,  1.10it/s, loss=0.00387, v_num=to9m]\n",
      "Validating:   4%|▍         | 2/50 [00:00<00:13,  3.56it/s]\u001b[A\n",
      "Epoch 7:  92%|█████████▏| 504/550 [07:37<00:41,  1.10it/s, loss=0.00387, v_num=to9m]\n",
      "Validating:   8%|▊         | 4/50 [00:01<00:14,  3.26it/s]\u001b[A\n",
      "Epoch 7:  92%|█████████▏| 506/550 [07:38<00:39,  1.10it/s, loss=0.00387, v_num=to9m]\n",
      "Validating:  12%|█▏        | 6/50 [00:01<00:13,  3.38it/s]\u001b[A\n",
      "Epoch 7:  92%|█████████▏| 508/550 [07:38<00:37,  1.11it/s, loss=0.00387, v_num=to9m]\n",
      "Validating:  16%|█▌        | 8/50 [00:02<00:12,  3.31it/s]\u001b[A\n",
      "Epoch 7:  93%|█████████▎| 510/550 [07:39<00:36,  1.11it/s, loss=0.00387, v_num=to9m]\n",
      "Validating:  20%|██        | 10/50 [00:03<00:12,  3.22it/s]\u001b[A\n",
      "Epoch 7:  93%|█████████▎| 512/550 [07:40<00:34,  1.11it/s, loss=0.00387, v_num=to9m]\n",
      "Validating:  24%|██▍       | 12/50 [00:03<00:11,  3.34it/s]\u001b[A\n",
      "Epoch 7:  93%|█████████▎| 514/550 [07:40<00:32,  1.12it/s, loss=0.00387, v_num=to9m]\n",
      "Validating:  28%|██▊       | 14/50 [00:04<00:10,  3.39it/s]\u001b[A\n",
      "Epoch 7:  94%|█████████▍| 516/550 [07:41<00:30,  1.12it/s, loss=0.00387, v_num=to9m]\n",
      "Validating:  32%|███▏      | 16/50 [00:04<00:10,  3.35it/s]\u001b[A\n",
      "Epoch 7:  94%|█████████▍| 518/550 [07:42<00:28,  1.12it/s, loss=0.00387, v_num=to9m]\n",
      "Validating:  36%|███▌      | 18/50 [00:05<00:10,  2.96it/s]\u001b[A\n",
      "Epoch 7:  95%|█████████▍| 520/550 [07:42<00:26,  1.12it/s, loss=0.00387, v_num=to9m]\n",
      "Validating:  40%|████      | 20/50 [00:06<00:10,  2.91it/s]\u001b[A\n",
      "Epoch 7:  95%|█████████▍| 522/550 [07:43<00:24,  1.13it/s, loss=0.00387, v_num=to9m]\n",
      "Validating:  44%|████▍     | 22/50 [00:06<00:09,  3.08it/s]\u001b[A\n",
      "Epoch 7:  95%|█████████▌| 524/550 [07:43<00:23,  1.13it/s, loss=0.00387, v_num=to9m]\n",
      "Validating:  48%|████▊     | 24/50 [00:07<00:07,  3.40it/s]\u001b[A\n",
      "Epoch 7:  96%|█████████▌| 526/550 [07:44<00:21,  1.13it/s, loss=0.00387, v_num=to9m]\n",
      "Validating:  52%|█████▏    | 26/50 [00:07<00:06,  3.53it/s]\u001b[A\n",
      "Epoch 7:  96%|█████████▌| 528/550 [07:45<00:19,  1.14it/s, loss=0.00387, v_num=to9m]\n",
      "Validating:  56%|█████▌    | 28/50 [00:08<00:07,  3.14it/s]\u001b[A\n",
      "Epoch 7:  96%|█████████▋| 530/550 [07:45<00:17,  1.14it/s, loss=0.00387, v_num=to9m]\n",
      "Validating:  60%|██████    | 30/50 [00:09<00:05,  3.36it/s]\u001b[A\n",
      "Epoch 7:  97%|█████████▋| 532/550 [07:46<00:15,  1.14it/s, loss=0.00387, v_num=to9m]\n",
      "Validating:  64%|██████▍   | 32/50 [00:09<00:05,  3.42it/s]\u001b[A\n",
      "Epoch 7:  97%|█████████▋| 534/550 [07:46<00:13,  1.14it/s, loss=0.00387, v_num=to9m]\n",
      "Validating:  68%|██████▊   | 34/50 [00:10<00:04,  3.35it/s]\u001b[A\n",
      "Epoch 7:  97%|█████████▋| 536/550 [07:47<00:12,  1.15it/s, loss=0.00387, v_num=to9m]\n",
      "Validating:  72%|███████▏  | 36/50 [00:10<00:03,  3.65it/s]\u001b[A\n",
      "Epoch 7:  98%|█████████▊| 538/550 [07:48<00:10,  1.15it/s, loss=0.00387, v_num=to9m]\n",
      "Validating:  76%|███████▌  | 38/50 [00:11<00:03,  3.47it/s]\u001b[A\n",
      "Epoch 7:  98%|█████████▊| 540/550 [07:48<00:08,  1.15it/s, loss=0.00387, v_num=to9m]\n",
      "Validating:  80%|████████  | 40/50 [00:12<00:03,  3.32it/s]\u001b[A\n",
      "Epoch 7:  99%|█████████▊| 542/550 [07:49<00:06,  1.15it/s, loss=0.00387, v_num=to9m]\n",
      "Validating:  84%|████████▍ | 42/50 [00:12<00:02,  3.21it/s]\u001b[A\n",
      "Epoch 7:  99%|█████████▉| 544/550 [07:49<00:05,  1.16it/s, loss=0.00387, v_num=to9m]\n",
      "Validating:  88%|████████▊ | 44/50 [00:13<00:01,  3.52it/s]\u001b[A\n",
      "Epoch 7:  99%|█████████▉| 546/550 [07:50<00:03,  1.16it/s, loss=0.00387, v_num=to9m]\n",
      "Validating:  92%|█████████▏| 46/50 [00:13<00:01,  3.62it/s]\u001b[A\n",
      "Epoch 7: 100%|█████████▉| 548/550 [07:51<00:01,  1.16it/s, loss=0.00387, v_num=to9m]\n",
      "Validating:  96%|█████████▌| 48/50 [00:14<00:00,  3.78it/s]\u001b[A\n",
      "Epoch 7: 100%|██████████| 550/550 [07:51<00:00,  1.17it/s, loss=0.00387, v_num=to9m]\n",
      "Epoch 7: 100%|██████████| 550/550 [07:51<00:00,  1.17it/s, loss=0.00387, v_num=to9m]\n",
      "Epoch 8:  91%|█████████ | 500/550 [07:36<00:45,  1.09it/s, loss=0.00488, v_num=to9m]\n",
      "Validating: 0it [00:00, ?it/s]\u001b[A\n",
      "Validating:   0%|          | 0/50 [00:00<?, ?it/s]\u001b[A\n",
      "Epoch 8:  91%|█████████▏| 502/550 [07:37<00:43,  1.10it/s, loss=0.00488, v_num=to9m]\n",
      "Validating:   4%|▍         | 2/50 [00:00<00:13,  3.49it/s]\u001b[A\n",
      "Epoch 8:  92%|█████████▏| 504/550 [07:37<00:41,  1.10it/s, loss=0.00488, v_num=to9m]\n",
      "Validating:   8%|▊         | 4/50 [00:01<00:13,  3.53it/s]\u001b[A\n",
      "Epoch 8:  92%|█████████▏| 506/550 [07:38<00:39,  1.10it/s, loss=0.00488, v_num=to9m]\n",
      "Validating:  12%|█▏        | 6/50 [00:01<00:11,  3.89it/s]\u001b[A\n",
      "Epoch 8:  92%|█████████▏| 508/550 [07:38<00:37,  1.11it/s, loss=0.00488, v_num=to9m]\n",
      "Validating:  16%|█▌        | 8/50 [00:02<00:10,  3.93it/s]\u001b[A\n",
      "Epoch 8:  93%|█████████▎| 510/550 [07:39<00:36,  1.11it/s, loss=0.00488, v_num=to9m]\n",
      "Validating:  20%|██        | 10/50 [00:02<00:10,  3.77it/s]\u001b[A\n",
      "Epoch 8:  93%|█████████▎| 512/550 [07:39<00:34,  1.11it/s, loss=0.00488, v_num=to9m]\n",
      "Validating:  24%|██▍       | 12/50 [00:03<00:10,  3.62it/s]\u001b[A\n",
      "Epoch 8:  93%|█████████▎| 514/550 [07:40<00:32,  1.12it/s, loss=0.00488, v_num=to9m]\n",
      "Validating:  28%|██▊       | 14/50 [00:03<00:10,  3.55it/s]\u001b[A\n",
      "Epoch 8:  94%|█████████▍| 516/550 [07:40<00:30,  1.12it/s, loss=0.00488, v_num=to9m]\n",
      "Validating:  32%|███▏      | 16/50 [00:04<00:09,  3.42it/s]\u001b[A\n",
      "Epoch 8:  94%|█████████▍| 518/550 [07:41<00:28,  1.12it/s, loss=0.00488, v_num=to9m]\n",
      "Validating:  36%|███▌      | 18/50 [00:05<00:10,  2.98it/s]\u001b[A\n",
      "Epoch 8:  95%|█████████▍| 520/550 [07:42<00:26,  1.12it/s, loss=0.00488, v_num=to9m]\n",
      "Validating:  40%|████      | 20/50 [00:05<00:10,  2.91it/s]\u001b[A\n",
      "Epoch 8:  95%|█████████▍| 522/550 [07:42<00:24,  1.13it/s, loss=0.00488, v_num=to9m]\n",
      "Validating:  44%|████▍     | 22/50 [00:06<00:09,  3.07it/s]\u001b[A\n",
      "Epoch 8:  95%|█████████▌| 524/550 [07:43<00:22,  1.13it/s, loss=0.00488, v_num=to9m]\n",
      "Validating:  48%|████▊     | 24/50 [00:07<00:07,  3.38it/s]\u001b[A\n",
      "Epoch 8:  96%|█████████▌| 526/550 [07:44<00:21,  1.13it/s, loss=0.00488, v_num=to9m]\n",
      "Validating:  52%|█████▏    | 26/50 [00:07<00:06,  3.50it/s]\u001b[A\n",
      "Epoch 8:  96%|█████████▌| 528/550 [07:44<00:19,  1.14it/s, loss=0.00488, v_num=to9m]\n",
      "Validating:  56%|█████▌    | 28/50 [00:08<00:07,  3.13it/s]\u001b[A\n",
      "Epoch 8:  96%|█████████▋| 530/550 [07:45<00:17,  1.14it/s, loss=0.00488, v_num=to9m]\n",
      "Validating:  60%|██████    | 30/50 [00:08<00:05,  3.34it/s]\u001b[A\n",
      "Epoch 8:  97%|█████████▋| 532/550 [07:45<00:15,  1.14it/s, loss=0.00488, v_num=to9m]\n",
      "Validating:  64%|██████▍   | 32/50 [00:09<00:05,  3.40it/s]\u001b[A\n",
      "Epoch 8:  97%|█████████▋| 534/550 [07:46<00:13,  1.14it/s, loss=0.00488, v_num=to9m]\n",
      "Validating:  68%|██████▊   | 34/50 [00:10<00:04,  3.33it/s]\u001b[A\n",
      "Epoch 8:  97%|█████████▋| 536/550 [07:47<00:12,  1.15it/s, loss=0.00488, v_num=to9m]\n",
      "Validating:  72%|███████▏  | 36/50 [00:10<00:03,  3.63it/s]\u001b[A\n",
      "Epoch 8:  98%|█████████▊| 538/550 [07:47<00:10,  1.15it/s, loss=0.00488, v_num=to9m]\n",
      "Validating:  76%|███████▌  | 38/50 [00:11<00:03,  3.45it/s]\u001b[A\n",
      "Epoch 8:  98%|█████████▊| 540/550 [07:48<00:08,  1.15it/s, loss=0.00488, v_num=to9m]\n",
      "Validating:  80%|████████  | 40/50 [00:11<00:03,  3.28it/s]\u001b[A\n",
      "Epoch 8:  99%|█████████▊| 542/550 [07:48<00:06,  1.16it/s, loss=0.00488, v_num=to9m]\n",
      "Validating:  84%|████████▍ | 42/50 [00:12<00:02,  2.94it/s]\u001b[A\n",
      "Epoch 8:  99%|█████████▉| 544/550 [07:49<00:05,  1.16it/s, loss=0.00488, v_num=to9m]\n",
      "Validating:  88%|████████▊ | 44/50 [00:13<00:01,  3.05it/s]\u001b[A\n",
      "Epoch 8:  99%|█████████▉| 546/550 [07:50<00:03,  1.16it/s, loss=0.00488, v_num=to9m]\n",
      "Validating:  92%|█████████▏| 46/50 [00:13<00:01,  3.02it/s]\u001b[A\n",
      "Epoch 8: 100%|█████████▉| 548/550 [07:50<00:01,  1.16it/s, loss=0.00488, v_num=to9m]\n",
      "Validating:  96%|█████████▌| 48/50 [00:14<00:00,  3.29it/s]\u001b[A\n",
      "Epoch 8: 100%|██████████| 550/550 [07:51<00:00,  1.17it/s, loss=0.00488, v_num=to9m]\n",
      "Epoch 8: 100%|██████████| 550/550 [07:51<00:00,  1.17it/s, loss=0.00488, v_num=to9m]\n",
      "Epoch 9:  91%|█████████ | 500/550 [07:37<00:45,  1.09it/s, loss=0.0034, v_num=to9m] \n",
      "Validating: 0it [00:00, ?it/s]\u001b[A\n",
      "Validating:   0%|          | 0/50 [00:00<?, ?it/s]\u001b[A\n",
      "Epoch 9:  91%|█████████▏| 502/550 [07:37<00:43,  1.10it/s, loss=0.0034, v_num=to9m]\n",
      "Validating:   4%|▍         | 2/50 [00:00<00:13,  3.52it/s]\u001b[A\n",
      "Epoch 9:  92%|█████████▏| 504/550 [07:37<00:41,  1.10it/s, loss=0.0034, v_num=to9m]\n",
      "Validating:   8%|▊         | 4/50 [00:01<00:12,  3.58it/s]\u001b[A\n",
      "Epoch 9:  92%|█████████▏| 506/550 [07:38<00:39,  1.10it/s, loss=0.0034, v_num=to9m]\n",
      "Validating:  12%|█▏        | 6/50 [00:01<00:11,  3.91it/s]\u001b[A\n",
      "Epoch 9:  92%|█████████▏| 508/550 [07:39<00:37,  1.11it/s, loss=0.0034, v_num=to9m]\n",
      "Validating:  16%|█▌        | 8/50 [00:02<00:10,  3.97it/s]\u001b[A\n",
      "Epoch 9:  93%|█████████▎| 510/550 [07:39<00:36,  1.11it/s, loss=0.0034, v_num=to9m]\n",
      "Validating:  20%|██        | 10/50 [00:02<00:10,  3.83it/s]\u001b[A\n",
      "Epoch 9:  93%|█████████▎| 512/550 [07:40<00:34,  1.11it/s, loss=0.0034, v_num=to9m]\n",
      "Validating:  24%|██▍       | 12/50 [00:03<00:10,  3.68it/s]\u001b[A\n",
      "Epoch 9:  93%|█████████▎| 514/550 [07:40<00:32,  1.12it/s, loss=0.0034, v_num=to9m]\n",
      "Validating:  28%|██▊       | 14/50 [00:03<00:10,  3.59it/s]\u001b[A\n",
      "Epoch 9:  94%|█████████▍| 516/550 [07:41<00:30,  1.12it/s, loss=0.0034, v_num=to9m]\n",
      "Validating:  32%|███▏      | 16/50 [00:04<00:09,  3.45it/s]\u001b[A\n",
      "Epoch 9:  94%|█████████▍| 518/550 [07:41<00:28,  1.12it/s, loss=0.0034, v_num=to9m]\n",
      "Validating:  36%|███▌      | 18/50 [00:05<00:10,  2.99it/s]\u001b[A\n",
      "Epoch 9:  95%|█████████▍| 520/550 [07:42<00:26,  1.12it/s, loss=0.0034, v_num=to9m]\n",
      "Validating:  40%|████      | 20/50 [00:05<00:10,  2.90it/s]\u001b[A\n",
      "Epoch 9:  95%|█████████▍| 522/550 [07:43<00:24,  1.13it/s, loss=0.0034, v_num=to9m]\n",
      "Validating:  44%|████▍     | 22/50 [00:06<00:09,  3.06it/s]\u001b[A\n",
      "Epoch 9:  95%|█████████▌| 524/550 [07:43<00:23,  1.13it/s, loss=0.0034, v_num=to9m]\n",
      "Validating:  48%|████▊     | 24/50 [00:06<00:07,  3.37it/s]\u001b[A\n",
      "Epoch 9:  96%|█████████▌| 526/550 [07:44<00:21,  1.13it/s, loss=0.0034, v_num=to9m]\n",
      "Validating:  52%|█████▏    | 26/50 [00:07<00:06,  3.52it/s]\u001b[A\n",
      "Epoch 9:  96%|█████████▌| 528/550 [07:45<00:19,  1.14it/s, loss=0.0034, v_num=to9m]\n",
      "Validating:  56%|█████▌    | 28/50 [00:08<00:06,  3.14it/s]\u001b[A\n",
      "Epoch 9:  96%|█████████▋| 530/550 [07:45<00:17,  1.14it/s, loss=0.0034, v_num=to9m]\n",
      "Validating:  60%|██████    | 30/50 [00:08<00:05,  3.36it/s]\u001b[A\n",
      "Epoch 9:  97%|█████████▋| 532/550 [07:46<00:15,  1.14it/s, loss=0.0034, v_num=to9m]\n",
      "Validating:  64%|██████▍   | 32/50 [00:09<00:05,  3.42it/s]\u001b[A\n",
      "Epoch 9:  97%|█████████▋| 534/550 [07:46<00:13,  1.14it/s, loss=0.0034, v_num=to9m]\n",
      "Validating:  68%|██████▊   | 34/50 [00:09<00:04,  3.36it/s]\u001b[A\n",
      "Epoch 9:  97%|█████████▋| 536/550 [07:47<00:12,  1.15it/s, loss=0.0034, v_num=to9m]\n",
      "Validating:  72%|███████▏  | 36/50 [00:10<00:03,  3.66it/s]\u001b[A\n",
      "Epoch 9:  98%|█████████▊| 538/550 [07:48<00:10,  1.15it/s, loss=0.0034, v_num=to9m]\n",
      "Validating:  76%|███████▌  | 38/50 [00:11<00:03,  3.48it/s]\u001b[A\n",
      "Epoch 9:  98%|█████████▊| 540/550 [07:48<00:08,  1.15it/s, loss=0.0034, v_num=to9m]\n",
      "Validating:  80%|████████  | 40/50 [00:11<00:03,  3.33it/s]\u001b[A\n",
      "Epoch 9:  99%|█████████▊| 542/550 [07:49<00:06,  1.16it/s, loss=0.0034, v_num=to9m]\n",
      "Validating:  84%|████████▍ | 42/50 [00:12<00:02,  3.21it/s]\u001b[A\n",
      "Epoch 9:  99%|█████████▉| 544/550 [07:49<00:05,  1.16it/s, loss=0.0034, v_num=to9m]\n",
      "Validating:  88%|████████▊ | 44/50 [00:12<00:01,  3.51it/s]\u001b[A\n",
      "Epoch 9:  99%|█████████▉| 546/550 [07:50<00:03,  1.16it/s, loss=0.0034, v_num=to9m]\n",
      "Validating:  92%|█████████▏| 46/50 [00:13<00:01,  3.62it/s]\u001b[A\n",
      "Epoch 9: 100%|█████████▉| 548/550 [07:50<00:01,  1.16it/s, loss=0.0034, v_num=to9m]\n",
      "Validating:  96%|█████████▌| 48/50 [00:13<00:00,  3.77it/s]\u001b[A\n",
      "Epoch 9: 100%|██████████| 550/550 [07:51<00:00,  1.17it/s, loss=0.0034, v_num=to9m]\n",
      "Epoch 9: 100%|██████████| 550/550 [07:51<00:00,  1.17it/s, loss=0.0034, v_num=to9m]\n",
      "Epoch 10:  91%|█████████ | 500/550 [07:36<00:45,  1.10it/s, loss=0.00368, v_num=to9m]\n",
      "Validating: 0it [00:00, ?it/s]\u001b[A\n",
      "Validating:   0%|          | 0/50 [00:00<?, ?it/s]\u001b[A\n",
      "Epoch 10:  91%|█████████▏| 502/550 [07:36<00:43,  1.10it/s, loss=0.00368, v_num=to9m]\n",
      "Validating:   4%|▍         | 2/50 [00:00<00:13,  3.47it/s]\u001b[A\n",
      "Epoch 10:  92%|█████████▏| 504/550 [07:37<00:41,  1.10it/s, loss=0.00368, v_num=to9m]\n",
      "Validating:   8%|▊         | 4/50 [00:01<00:12,  3.54it/s]\u001b[A\n",
      "Epoch 10:  92%|█████████▏| 506/550 [07:37<00:39,  1.11it/s, loss=0.00368, v_num=to9m]\n",
      "Validating:  12%|█▏        | 6/50 [00:01<00:11,  3.87it/s]\u001b[A\n",
      "Epoch 10:  92%|█████████▏| 508/550 [07:38<00:37,  1.11it/s, loss=0.00368, v_num=to9m]\n",
      "Validating:  16%|█▌        | 8/50 [00:02<00:10,  3.92it/s]\u001b[A\n",
      "Epoch 10:  93%|█████████▎| 510/550 [07:38<00:35,  1.11it/s, loss=0.00368, v_num=to9m]\n",
      "Validating:  20%|██        | 10/50 [00:02<00:10,  3.76it/s]\u001b[A\n",
      "Epoch 10:  93%|█████████▎| 512/550 [07:39<00:34,  1.11it/s, loss=0.00368, v_num=to9m]\n",
      "Validating:  24%|██▍       | 12/50 [00:03<00:10,  3.63it/s]\u001b[A\n",
      "Epoch 10:  93%|█████████▎| 514/550 [07:40<00:32,  1.12it/s, loss=0.00368, v_num=to9m]\n",
      "Validating:  28%|██▊       | 14/50 [00:03<00:10,  3.54it/s]\u001b[A\n",
      "Epoch 10:  94%|█████████▍| 516/550 [07:40<00:30,  1.12it/s, loss=0.00368, v_num=to9m]\n",
      "Validating:  32%|███▏      | 16/50 [00:04<00:09,  3.41it/s]\u001b[A\n",
      "Epoch 10:  94%|█████████▍| 518/550 [07:41<00:28,  1.12it/s, loss=0.00368, v_num=to9m]\n",
      "Validating:  36%|███▌      | 18/50 [00:05<00:10,  2.97it/s]\u001b[A\n",
      "Epoch 10:  95%|█████████▍| 520/550 [07:42<00:26,  1.13it/s, loss=0.00368, v_num=to9m]\n",
      "Validating:  40%|████      | 20/50 [00:05<00:10,  2.90it/s]\u001b[A\n",
      "Epoch 10:  95%|█████████▍| 522/550 [07:42<00:24,  1.13it/s, loss=0.00368, v_num=to9m]\n",
      "Validating:  44%|████▍     | 22/50 [00:06<00:09,  3.06it/s]\u001b[A\n",
      "Epoch 10:  95%|█████████▌| 524/550 [07:43<00:22,  1.13it/s, loss=0.00368, v_num=to9m]\n",
      "Validating:  48%|████▊     | 24/50 [00:07<00:07,  3.38it/s]\u001b[A\n",
      "Epoch 10:  96%|█████████▌| 526/550 [07:43<00:21,  1.13it/s, loss=0.00368, v_num=to9m]\n",
      "Validating:  52%|█████▏    | 26/50 [00:07<00:06,  3.51it/s]\u001b[A\n",
      "Epoch 10:  96%|█████████▌| 528/550 [07:44<00:19,  1.14it/s, loss=0.00368, v_num=to9m]\n",
      "Validating:  56%|█████▌    | 28/50 [00:08<00:07,  3.12it/s]\u001b[A\n",
      "Epoch 10:  96%|█████████▋| 530/550 [07:45<00:17,  1.14it/s, loss=0.00368, v_num=to9m]\n",
      "Validating:  60%|██████    | 30/50 [00:08<00:06,  3.33it/s]\u001b[A\n",
      "Epoch 10:  97%|█████████▋| 532/550 [07:45<00:15,  1.14it/s, loss=0.00368, v_num=to9m]\n",
      "Validating:  64%|██████▍   | 32/50 [00:09<00:05,  3.40it/s]\u001b[A\n",
      "Epoch 10:  97%|█████████▋| 534/550 [07:46<00:13,  1.15it/s, loss=0.00368, v_num=to9m]\n",
      "Validating:  68%|██████▊   | 34/50 [00:10<00:04,  3.33it/s]\u001b[A\n",
      "Epoch 10:  97%|█████████▋| 536/550 [07:46<00:12,  1.15it/s, loss=0.00368, v_num=to9m]\n",
      "Validating:  72%|███████▏  | 36/50 [00:10<00:03,  3.62it/s]\u001b[A\n",
      "Epoch 10:  98%|█████████▊| 538/550 [07:47<00:10,  1.15it/s, loss=0.00368, v_num=to9m]\n",
      "Validating:  76%|███████▌  | 38/50 [00:11<00:03,  3.46it/s]\u001b[A\n",
      "Epoch 10:  98%|█████████▊| 540/550 [07:48<00:08,  1.15it/s, loss=0.00368, v_num=to9m]\n",
      "Validating:  80%|████████  | 40/50 [00:11<00:03,  3.28it/s]\u001b[A\n",
      "Epoch 10:  99%|█████████▊| 542/550 [07:48<00:06,  1.16it/s, loss=0.00368, v_num=to9m]\n",
      "Validating:  84%|████████▍ | 42/50 [00:12<00:02,  3.18it/s]\u001b[A\n",
      "Epoch 10:  99%|█████████▉| 544/550 [07:49<00:05,  1.16it/s, loss=0.00368, v_num=to9m]\n",
      "Validating:  88%|████████▊ | 44/50 [00:13<00:01,  3.48it/s]\u001b[A\n",
      "Epoch 10:  99%|█████████▉| 546/550 [07:49<00:03,  1.16it/s, loss=0.00368, v_num=to9m]\n",
      "Validating:  92%|█████████▏| 46/50 [00:13<00:01,  3.59it/s]\u001b[A\n",
      "Epoch 10: 100%|█████████▉| 548/550 [07:50<00:01,  1.16it/s, loss=0.00368, v_num=to9m]\n",
      "Validating:  96%|█████████▌| 48/50 [00:14<00:00,  3.75it/s]\u001b[A\n",
      "Epoch 10: 100%|██████████| 550/550 [07:50<00:00,  1.17it/s, loss=0.00368, v_num=to9m]\n",
      "Epoch 10: 100%|██████████| 550/550 [07:51<00:00,  1.17it/s, loss=0.00368, v_num=to9m]\n",
      "Epoch 11:  91%|█████████ | 500/550 [07:36<00:45,  1.09it/s, loss=0.00325, v_num=to9m]\n",
      "Validating: 0it [00:00, ?it/s]\u001b[A\n",
      "Validating:   0%|          | 0/50 [00:00<?, ?it/s]\u001b[A\n",
      "Epoch 11:  91%|█████████▏| 502/550 [07:37<00:43,  1.10it/s, loss=0.00325, v_num=to9m]\n",
      "Validating:   4%|▍         | 2/50 [00:00<00:13,  3.52it/s]\u001b[A\n",
      "Epoch 11:  92%|█████████▏| 504/550 [07:37<00:41,  1.10it/s, loss=0.00325, v_num=to9m]\n",
      "Validating:   8%|▊         | 4/50 [00:01<00:12,  3.59it/s]\u001b[A\n",
      "Epoch 11:  92%|█████████▏| 506/550 [07:38<00:39,  1.10it/s, loss=0.00325, v_num=to9m]\n",
      "Validating:  12%|█▏        | 6/50 [00:01<00:11,  3.91it/s]\u001b[A\n",
      "Epoch 11:  92%|█████████▏| 508/550 [07:38<00:37,  1.11it/s, loss=0.00325, v_num=to9m]\n",
      "Validating:  16%|█▌        | 8/50 [00:02<00:10,  3.98it/s]\u001b[A\n",
      "Epoch 11:  93%|█████████▎| 510/550 [07:39<00:36,  1.11it/s, loss=0.00325, v_num=to9m]\n",
      "Validating:  20%|██        | 10/50 [00:02<00:10,  3.84it/s]\u001b[A\n",
      "Epoch 11:  93%|█████████▎| 512/550 [07:39<00:34,  1.11it/s, loss=0.00325, v_num=to9m]\n",
      "Validating:  24%|██▍       | 12/50 [00:03<00:10,  3.70it/s]\u001b[A\n",
      "Epoch 11:  93%|█████████▎| 514/550 [07:40<00:32,  1.12it/s, loss=0.00325, v_num=to9m]\n",
      "Validating:  28%|██▊       | 14/50 [00:03<00:09,  3.61it/s]\u001b[A\n",
      "Epoch 11:  94%|█████████▍| 516/550 [07:40<00:30,  1.12it/s, loss=0.00325, v_num=to9m]\n",
      "Validating:  32%|███▏      | 16/50 [00:04<00:09,  3.48it/s]\u001b[A\n",
      "Epoch 11:  94%|█████████▍| 518/550 [07:41<00:28,  1.12it/s, loss=0.00325, v_num=to9m]\n",
      "Validating:  36%|███▌      | 18/50 [00:05<00:10,  3.03it/s]\u001b[A\n",
      "Epoch 11:  95%|█████████▍| 520/550 [07:42<00:26,  1.12it/s, loss=0.00325, v_num=to9m]\n",
      "Validating:  40%|████      | 20/50 [00:05<00:10,  2.96it/s]\u001b[A\n",
      "Epoch 11:  95%|█████████▍| 522/550 [07:43<00:24,  1.13it/s, loss=0.00325, v_num=to9m]\n",
      "Validating:  44%|████▍     | 22/50 [00:06<00:08,  3.13it/s]\u001b[A\n",
      "Epoch 11:  95%|█████████▌| 524/550 [07:43<00:23,  1.13it/s, loss=0.00325, v_num=to9m]\n",
      "Validating:  48%|████▊     | 24/50 [00:06<00:07,  3.43it/s]\u001b[A\n",
      "Epoch 11:  96%|█████████▌| 526/550 [07:44<00:21,  1.13it/s, loss=0.00325, v_num=to9m]\n",
      "Validating:  52%|█████▏    | 26/50 [00:07<00:06,  3.56it/s]\u001b[A\n",
      "Epoch 11:  96%|█████████▌| 528/550 [07:44<00:19,  1.14it/s, loss=0.00325, v_num=to9m]\n",
      "Validating:  56%|█████▌    | 28/50 [00:08<00:07,  3.14it/s]\u001b[A\n",
      "Epoch 11:  96%|█████████▋| 530/550 [07:45<00:17,  1.14it/s, loss=0.00325, v_num=to9m]\n",
      "Validating:  60%|██████    | 30/50 [00:08<00:05,  3.34it/s]\u001b[A\n",
      "Epoch 11:  97%|█████████▋| 532/550 [07:46<00:15,  1.14it/s, loss=0.00325, v_num=to9m]\n",
      "Validating:  64%|██████▍   | 32/50 [00:09<00:05,  3.42it/s]\u001b[A\n",
      "Epoch 11:  97%|█████████▋| 534/550 [07:46<00:13,  1.14it/s, loss=0.00325, v_num=to9m]\n",
      "Validating:  68%|██████▊   | 34/50 [00:09<00:04,  3.36it/s]\u001b[A\n",
      "Epoch 11:  97%|█████████▋| 536/550 [07:47<00:12,  1.15it/s, loss=0.00325, v_num=to9m]\n",
      "Validating:  72%|███████▏  | 36/50 [00:10<00:03,  3.66it/s]\u001b[A\n",
      "Epoch 11:  98%|█████████▊| 538/550 [07:47<00:10,  1.15it/s, loss=0.00325, v_num=to9m]\n",
      "Validating:  76%|███████▌  | 38/50 [00:11<00:03,  3.49it/s]\u001b[A\n",
      "Epoch 11:  98%|█████████▊| 540/550 [07:48<00:08,  1.15it/s, loss=0.00325, v_num=to9m]\n",
      "Validating:  80%|████████  | 40/50 [00:11<00:03,  3.33it/s]\u001b[A\n",
      "Epoch 11:  99%|█████████▊| 542/550 [07:48<00:06,  1.16it/s, loss=0.00325, v_num=to9m]\n",
      "Validating:  84%|████████▍ | 42/50 [00:12<00:02,  3.23it/s]\u001b[A\n",
      "Epoch 11:  99%|█████████▉| 544/550 [07:49<00:05,  1.16it/s, loss=0.00325, v_num=to9m]\n",
      "Validating:  88%|████████▊ | 44/50 [00:12<00:01,  3.54it/s]\u001b[A\n",
      "Epoch 11:  99%|█████████▉| 546/550 [07:50<00:03,  1.16it/s, loss=0.00325, v_num=to9m]\n",
      "Validating:  92%|█████████▏| 46/50 [00:13<00:01,  3.65it/s]\u001b[A\n",
      "Epoch 11: 100%|█████████▉| 548/550 [07:50<00:01,  1.16it/s, loss=0.00325, v_num=to9m]\n",
      "Validating:  96%|█████████▌| 48/50 [00:13<00:00,  3.82it/s]\u001b[A\n",
      "Epoch 11: 100%|██████████| 550/550 [07:51<00:00,  1.17it/s, loss=0.00325, v_num=to9m]\n",
      "Epoch 11: 100%|██████████| 550/550 [07:51<00:00,  1.17it/s, loss=0.00325, v_num=to9m]\n",
      "Epoch 12:  91%|█████████ | 500/550 [07:37<00:45,  1.09it/s, loss=0.00222, v_num=to9m]\n",
      "Validating: 0it [00:00, ?it/s]\u001b[A\n",
      "Validating:   0%|          | 0/50 [00:00<?, ?it/s]\u001b[A\n",
      "Epoch 12:  91%|█████████▏| 502/550 [07:37<00:43,  1.10it/s, loss=0.00222, v_num=to9m]\n",
      "Validating:   4%|▍         | 2/50 [00:00<00:14,  3.32it/s]\u001b[A\n",
      "Epoch 12:  92%|█████████▏| 504/550 [07:37<00:41,  1.10it/s, loss=0.00222, v_num=to9m]\n",
      "Validating:   8%|▊         | 4/50 [00:01<00:13,  3.48it/s]\u001b[A\n",
      "Epoch 12:  92%|█████████▏| 506/550 [07:38<00:39,  1.10it/s, loss=0.00222, v_num=to9m]\n",
      "Validating:  12%|█▏        | 6/50 [00:01<00:11,  3.82it/s]\u001b[A\n",
      "Epoch 12:  92%|█████████▏| 508/550 [07:38<00:37,  1.11it/s, loss=0.00222, v_num=to9m]\n",
      "Validating:  16%|█▌        | 8/50 [00:02<00:10,  3.88it/s]\u001b[A\n",
      "Epoch 12:  93%|█████████▎| 510/550 [07:39<00:36,  1.11it/s, loss=0.00222, v_num=to9m]\n",
      "Validating:  20%|██        | 10/50 [00:02<00:10,  3.77it/s]\u001b[A\n",
      "Epoch 12:  93%|█████████▎| 512/550 [07:40<00:34,  1.11it/s, loss=0.00222, v_num=to9m]\n",
      "Validating:  24%|██▍       | 12/50 [00:03<00:10,  3.64it/s]\u001b[A\n",
      "Epoch 12:  93%|█████████▎| 514/550 [07:40<00:32,  1.12it/s, loss=0.00222, v_num=to9m]\n",
      "Validating:  28%|██▊       | 14/50 [00:03<00:10,  3.58it/s]\u001b[A\n",
      "Epoch 12:  94%|█████████▍| 516/550 [07:41<00:30,  1.12it/s, loss=0.00222, v_num=to9m]\n",
      "Validating:  32%|███▏      | 16/50 [00:04<00:09,  3.45it/s]\u001b[A\n",
      "Epoch 12:  94%|█████████▍| 518/550 [07:41<00:28,  1.12it/s, loss=0.00222, v_num=to9m]\n",
      "Validating:  36%|███▌      | 18/50 [00:05<00:10,  3.00it/s]\u001b[A\n",
      "Epoch 12:  95%|█████████▍| 520/550 [07:42<00:26,  1.12it/s, loss=0.00222, v_num=to9m]\n",
      "Validating:  40%|████      | 20/50 [00:05<00:10,  2.92it/s]\u001b[A\n",
      "Epoch 12:  95%|█████████▍| 522/550 [07:43<00:24,  1.13it/s, loss=0.00222, v_num=to9m]\n",
      "Validating:  44%|████▍     | 22/50 [00:06<00:09,  3.09it/s]\u001b[A\n",
      "Epoch 12:  95%|█████████▌| 524/550 [07:43<00:23,  1.13it/s, loss=0.00222, v_num=to9m]\n",
      "Validating:  48%|████▊     | 24/50 [00:07<00:07,  3.39it/s]\u001b[A\n",
      "Epoch 12:  96%|█████████▌| 526/550 [07:44<00:21,  1.13it/s, loss=0.00222, v_num=to9m]\n",
      "Validating:  52%|█████▏    | 26/50 [00:07<00:06,  3.52it/s]\u001b[A\n",
      "Epoch 12:  96%|█████████▌| 528/550 [07:44<00:19,  1.14it/s, loss=0.00222, v_num=to9m]\n",
      "Validating:  56%|█████▌    | 28/50 [00:08<00:07,  3.14it/s]\u001b[A\n",
      "Epoch 12:  96%|█████████▋| 530/550 [07:45<00:17,  1.14it/s, loss=0.00222, v_num=to9m]\n",
      "Validating:  60%|██████    | 30/50 [00:08<00:05,  3.36it/s]\u001b[A\n",
      "Epoch 12:  97%|█████████▋| 532/550 [07:46<00:15,  1.14it/s, loss=0.00222, v_num=to9m]\n",
      "Validating:  64%|██████▍   | 32/50 [00:09<00:05,  3.44it/s]\u001b[A\n",
      "Epoch 12:  97%|█████████▋| 534/550 [07:46<00:13,  1.14it/s, loss=0.00222, v_num=to9m]\n",
      "Validating:  68%|██████▊   | 34/50 [00:10<00:04,  3.35it/s]\u001b[A\n",
      "Epoch 12:  97%|█████████▋| 536/550 [07:47<00:12,  1.15it/s, loss=0.00222, v_num=to9m]\n",
      "Validating:  72%|███████▏  | 36/50 [00:10<00:03,  3.65it/s]\u001b[A\n",
      "Epoch 12:  98%|█████████▊| 538/550 [07:47<00:10,  1.15it/s, loss=0.00222, v_num=to9m]\n",
      "Validating:  76%|███████▌  | 38/50 [00:11<00:03,  3.48it/s]\u001b[A\n",
      "Epoch 12:  98%|█████████▊| 540/550 [07:48<00:08,  1.15it/s, loss=0.00222, v_num=to9m]\n",
      "Validating:  80%|████████  | 40/50 [00:11<00:03,  3.32it/s]\u001b[A\n",
      "Epoch 12:  99%|█████████▊| 542/550 [07:49<00:06,  1.16it/s, loss=0.00222, v_num=to9m]\n",
      "Validating:  84%|████████▍ | 42/50 [00:12<00:02,  3.22it/s]\u001b[A\n",
      "Epoch 12:  99%|█████████▉| 544/550 [07:49<00:05,  1.16it/s, loss=0.00222, v_num=to9m]\n",
      "Validating:  88%|████████▊ | 44/50 [00:12<00:01,  3.52it/s]\u001b[A\n",
      "Epoch 12:  99%|█████████▉| 546/550 [07:50<00:03,  1.16it/s, loss=0.00222, v_num=to9m]\n",
      "Validating:  92%|█████████▏| 46/50 [00:13<00:01,  3.62it/s]\u001b[A\n",
      "Epoch 12: 100%|█████████▉| 548/550 [07:50<00:01,  1.16it/s, loss=0.00222, v_num=to9m]\n",
      "Validating:  96%|█████████▌| 48/50 [00:14<00:00,  3.76it/s]\u001b[A\n",
      "Epoch 12: 100%|██████████| 550/550 [07:51<00:00,  1.17it/s, loss=0.00222, v_num=to9m]\n",
      "Epoch 12: 100%|██████████| 550/550 [07:51<00:00,  1.17it/s, loss=0.00222, v_num=to9m]\n",
      "Epoch 13:  91%|█████████ | 500/550 [07:37<00:45,  1.09it/s, loss=0.00223, v_num=to9m]\n",
      "Validating: 0it [00:00, ?it/s]\u001b[A\n",
      "Validating:   0%|          | 0/50 [00:00<?, ?it/s]\u001b[A\n",
      "Epoch 13:  91%|█████████▏| 502/550 [07:37<00:43,  1.10it/s, loss=0.00223, v_num=to9m]\n",
      "Validating:   4%|▍         | 2/50 [00:00<00:13,  3.50it/s]\u001b[A\n",
      "Epoch 13:  92%|█████████▏| 504/550 [07:38<00:41,  1.10it/s, loss=0.00223, v_num=to9m]\n",
      "Validating:   8%|▊         | 4/50 [00:01<00:12,  3.54it/s]\u001b[A\n",
      "Epoch 13:  92%|█████████▏| 506/550 [07:38<00:39,  1.10it/s, loss=0.00223, v_num=to9m]\n",
      "Validating:  12%|█▏        | 6/50 [00:01<00:11,  3.85it/s]\u001b[A\n",
      "Epoch 13:  92%|█████████▏| 508/550 [07:39<00:37,  1.11it/s, loss=0.00223, v_num=to9m]\n",
      "Validating:  16%|█▌        | 8/50 [00:02<00:10,  3.92it/s]\u001b[A\n",
      "Epoch 13:  93%|█████████▎| 510/550 [07:39<00:36,  1.11it/s, loss=0.00223, v_num=to9m]\n",
      "Validating:  20%|██        | 10/50 [00:02<00:10,  3.78it/s]\u001b[A\n",
      "Epoch 13:  93%|█████████▎| 512/550 [07:40<00:34,  1.11it/s, loss=0.00223, v_num=to9m]\n",
      "Validating:  24%|██▍       | 12/50 [00:03<00:10,  3.64it/s]\u001b[A\n",
      "Epoch 13:  93%|█████████▎| 514/550 [07:40<00:32,  1.12it/s, loss=0.00223, v_num=to9m]\n",
      "Validating:  28%|██▊       | 14/50 [00:03<00:10,  3.56it/s]\u001b[A\n",
      "Epoch 13:  94%|█████████▍| 516/550 [07:41<00:30,  1.12it/s, loss=0.00223, v_num=to9m]\n",
      "Validating:  32%|███▏      | 16/50 [00:04<00:09,  3.42it/s]\u001b[A\n",
      "Epoch 13:  94%|█████████▍| 518/550 [07:42<00:28,  1.12it/s, loss=0.00223, v_num=to9m]\n",
      "Validating:  36%|███▌      | 18/50 [00:05<00:10,  2.97it/s]\u001b[A\n",
      "Epoch 13:  95%|█████████▍| 520/550 [07:42<00:26,  1.12it/s, loss=0.00223, v_num=to9m]\n",
      "Validating:  40%|████      | 20/50 [00:05<00:10,  2.90it/s]\u001b[A\n",
      "Epoch 13:  95%|█████████▍| 522/550 [07:43<00:24,  1.13it/s, loss=0.00223, v_num=to9m]\n",
      "Validating:  44%|████▍     | 22/50 [00:06<00:09,  3.06it/s]\u001b[A\n",
      "Epoch 13:  95%|█████████▌| 524/550 [07:44<00:23,  1.13it/s, loss=0.00223, v_num=to9m]\n",
      "Validating:  48%|████▊     | 24/50 [00:07<00:07,  3.36it/s]\u001b[A\n",
      "Epoch 13:  96%|█████████▌| 526/550 [07:44<00:21,  1.13it/s, loss=0.00223, v_num=to9m]\n",
      "Validating:  52%|█████▏    | 26/50 [00:07<00:06,  3.51it/s]\u001b[A\n",
      "Epoch 13:  96%|█████████▌| 528/550 [07:45<00:19,  1.13it/s, loss=0.00223, v_num=to9m]\n",
      "Validating:  56%|█████▌    | 28/50 [00:08<00:06,  3.15it/s]\u001b[A\n",
      "Epoch 13:  96%|█████████▋| 530/550 [07:46<00:17,  1.14it/s, loss=0.00223, v_num=to9m]\n",
      "Validating:  60%|██████    | 30/50 [00:08<00:05,  3.35it/s]\u001b[A\n",
      "Epoch 13:  97%|█████████▋| 532/550 [07:46<00:15,  1.14it/s, loss=0.00223, v_num=to9m]\n",
      "Validating:  64%|██████▍   | 32/50 [00:09<00:05,  3.40it/s]\u001b[A\n",
      "Epoch 13:  97%|█████████▋| 534/550 [07:47<00:13,  1.14it/s, loss=0.00223, v_num=to9m]\n",
      "Validating:  68%|██████▊   | 34/50 [00:10<00:04,  3.31it/s]\u001b[A\n",
      "Epoch 13:  97%|█████████▋| 536/550 [07:47<00:12,  1.15it/s, loss=0.00223, v_num=to9m]\n",
      "Validating:  72%|███████▏  | 36/50 [00:10<00:03,  3.60it/s]\u001b[A\n",
      "Epoch 13:  98%|█████████▊| 538/550 [07:48<00:10,  1.15it/s, loss=0.00223, v_num=to9m]\n",
      "Validating:  76%|███████▌  | 38/50 [00:11<00:03,  3.42it/s]\u001b[A\n",
      "Epoch 13:  98%|█████████▊| 540/550 [07:48<00:08,  1.15it/s, loss=0.00223, v_num=to9m]\n",
      "Validating:  80%|████████  | 40/50 [00:11<00:03,  3.27it/s]\u001b[A\n",
      "Epoch 13:  99%|█████████▊| 542/550 [07:49<00:06,  1.15it/s, loss=0.00223, v_num=to9m]\n",
      "Validating:  84%|████████▍ | 42/50 [00:12<00:02,  3.19it/s]\u001b[A\n",
      "Epoch 13:  99%|█████████▉| 544/550 [07:50<00:05,  1.16it/s, loss=0.00223, v_num=to9m]\n",
      "Validating:  88%|████████▊ | 44/50 [00:13<00:01,  3.48it/s]\u001b[A\n",
      "Epoch 13:  99%|█████████▉| 546/550 [07:50<00:03,  1.16it/s, loss=0.00223, v_num=to9m]\n",
      "Validating:  92%|█████████▏| 46/50 [00:13<00:01,  3.59it/s]\u001b[A\n",
      "Epoch 13: 100%|█████████▉| 548/550 [07:51<00:01,  1.16it/s, loss=0.00223, v_num=to9m]\n",
      "Validating:  96%|█████████▌| 48/50 [00:14<00:00,  3.75it/s]\u001b[A\n",
      "Epoch 13: 100%|██████████| 550/550 [07:51<00:00,  1.17it/s, loss=0.00223, v_num=to9m]\n",
      "Epoch 13: 100%|██████████| 550/550 [07:51<00:00,  1.17it/s, loss=0.00223, v_num=to9m]\n",
      "Epoch 14:  91%|█████████ | 500/550 [07:36<00:45,  1.09it/s, loss=0.00165, v_num=to9m]\n",
      "Validating: 0it [00:00, ?it/s]\u001b[A\n",
      "Validating:   0%|          | 0/50 [00:00<?, ?it/s]\u001b[A\n",
      "Epoch 14:  91%|█████████▏| 502/550 [07:37<00:43,  1.10it/s, loss=0.00165, v_num=to9m]\n",
      "Validating:   4%|▍         | 2/50 [00:00<00:13,  3.46it/s]\u001b[A\n",
      "Epoch 14:  92%|█████████▏| 504/550 [07:37<00:41,  1.10it/s, loss=0.00165, v_num=to9m]\n",
      "Validating:   8%|▊         | 4/50 [00:01<00:12,  3.55it/s]\u001b[A\n",
      "Epoch 14:  92%|█████████▏| 506/550 [07:38<00:39,  1.10it/s, loss=0.00165, v_num=to9m]\n",
      "Validating:  12%|█▏        | 6/50 [00:01<00:11,  3.87it/s]\u001b[A\n",
      "Epoch 14:  92%|█████████▏| 508/550 [07:38<00:37,  1.11it/s, loss=0.00165, v_num=to9m]\n",
      "Validating:  16%|█▌        | 8/50 [00:02<00:10,  3.93it/s]\u001b[A\n",
      "Epoch 14:  93%|█████████▎| 510/550 [07:39<00:36,  1.11it/s, loss=0.00165, v_num=to9m]\n",
      "Validating:  20%|██        | 10/50 [00:02<00:10,  3.79it/s]\u001b[A\n",
      "Epoch 14:  93%|█████████▎| 512/550 [07:39<00:34,  1.11it/s, loss=0.00165, v_num=to9m]\n",
      "Validating:  24%|██▍       | 12/50 [00:03<00:10,  3.67it/s]\u001b[A\n",
      "Epoch 14:  93%|█████████▎| 514/550 [07:40<00:32,  1.12it/s, loss=0.00165, v_num=to9m]\n",
      "Validating:  28%|██▊       | 14/50 [00:03<00:10,  3.58it/s]\u001b[A\n",
      "Epoch 14:  94%|█████████▍| 516/550 [07:40<00:30,  1.12it/s, loss=0.00165, v_num=to9m]\n",
      "Validating:  32%|███▏      | 16/50 [00:04<00:09,  3.42it/s]\u001b[A\n",
      "Epoch 14:  94%|█████████▍| 518/550 [07:41<00:28,  1.12it/s, loss=0.00165, v_num=to9m]\n",
      "Validating:  36%|███▌      | 18/50 [00:05<00:11,  2.90it/s]\u001b[A\n",
      "Epoch 14:  95%|█████████▍| 520/550 [07:42<00:26,  1.12it/s, loss=0.00165, v_num=to9m]\n",
      "Validating:  40%|████      | 20/50 [00:06<00:11,  2.53it/s]\u001b[A\n",
      "Epoch 14:  95%|█████████▍| 522/550 [07:43<00:24,  1.13it/s, loss=0.00165, v_num=to9m]\n",
      "Validating:  44%|████▍     | 22/50 [00:06<00:10,  2.58it/s]\u001b[A\n",
      "Epoch 14:  95%|█████████▌| 524/550 [07:43<00:23,  1.13it/s, loss=0.00165, v_num=to9m]\n",
      "Validating:  48%|████▊     | 24/50 [00:07<00:08,  2.95it/s]\u001b[A\n",
      "Epoch 14:  96%|█████████▌| 526/550 [07:44<00:21,  1.13it/s, loss=0.00165, v_num=to9m]\n",
      "Validating:  52%|█████▏    | 26/50 [00:07<00:07,  3.27it/s]\u001b[A\n",
      "Epoch 14:  96%|█████████▌| 528/550 [07:45<00:19,  1.13it/s, loss=0.00165, v_num=to9m]\n",
      "Validating:  56%|█████▌    | 28/50 [00:08<00:07,  3.02it/s]\u001b[A\n",
      "Epoch 14:  96%|█████████▋| 530/550 [07:45<00:17,  1.14it/s, loss=0.00165, v_num=to9m]\n",
      "Validating:  60%|██████    | 30/50 [00:09<00:06,  3.28it/s]\u001b[A\n",
      "Epoch 14:  97%|█████████▋| 532/550 [07:46<00:15,  1.14it/s, loss=0.00165, v_num=to9m]\n",
      "Validating:  64%|██████▍   | 32/50 [00:09<00:05,  3.38it/s]\u001b[A\n",
      "Epoch 14:  97%|█████████▋| 534/550 [07:47<00:13,  1.14it/s, loss=0.00165, v_num=to9m]\n",
      "Validating:  68%|██████▊   | 34/50 [00:10<00:04,  3.33it/s]\u001b[A\n",
      "Epoch 14:  97%|█████████▋| 536/550 [07:47<00:12,  1.15it/s, loss=0.00165, v_num=to9m]\n",
      "Validating:  72%|███████▏  | 36/50 [00:10<00:03,  3.63it/s]\u001b[A\n",
      "Epoch 14:  98%|█████████▊| 538/550 [07:48<00:10,  1.15it/s, loss=0.00165, v_num=to9m]\n",
      "Validating:  76%|███████▌  | 38/50 [00:11<00:03,  3.47it/s]\u001b[A\n",
      "Epoch 14:  98%|█████████▊| 540/550 [07:48<00:08,  1.15it/s, loss=0.00165, v_num=to9m]\n",
      "Validating:  80%|████████  | 40/50 [00:12<00:03,  3.31it/s]\u001b[A\n",
      "Epoch 14:  99%|█████████▊| 542/550 [07:49<00:06,  1.15it/s, loss=0.00165, v_num=to9m]\n",
      "Validating:  84%|████████▍ | 42/50 [00:12<00:02,  3.19it/s]\u001b[A\n",
      "Epoch 14:  99%|█████████▉| 544/550 [07:50<00:05,  1.16it/s, loss=0.00165, v_num=to9m]\n",
      "Validating:  88%|████████▊ | 44/50 [00:13<00:01,  3.49it/s]\u001b[A\n",
      "Epoch 14:  99%|█████████▉| 546/550 [07:50<00:03,  1.16it/s, loss=0.00165, v_num=to9m]\n",
      "Validating:  92%|█████████▏| 46/50 [00:13<00:01,  3.62it/s]\u001b[A\n",
      "Epoch 14: 100%|█████████▉| 548/550 [07:51<00:01,  1.16it/s, loss=0.00165, v_num=to9m]\n",
      "Validating:  96%|█████████▌| 48/50 [00:14<00:00,  3.76it/s]\u001b[A\n",
      "Epoch 14: 100%|██████████| 550/550 [07:51<00:00,  1.17it/s, loss=0.00165, v_num=to9m]\n",
      "Epoch 14: 100%|██████████| 550/550 [07:51<00:00,  1.17it/s, loss=0.00165, v_num=to9m]\n",
      "Epoch 15:  91%|█████████ | 500/550 [07:36<00:45,  1.09it/s, loss=0.00156, v_num=to9m]\n",
      "Validating: 0it [00:00, ?it/s]\u001b[A\n",
      "Validating:   0%|          | 0/50 [00:00<?, ?it/s]\u001b[A\n",
      "Epoch 15:  91%|█████████▏| 502/550 [07:37<00:43,  1.10it/s, loss=0.00156, v_num=to9m]\n",
      "Validating:   4%|▍         | 2/50 [00:00<00:13,  3.51it/s]\u001b[A\n",
      "Epoch 15:  92%|█████████▏| 504/550 [07:37<00:41,  1.10it/s, loss=0.00156, v_num=to9m]\n",
      "Validating:   8%|▊         | 4/50 [00:01<00:12,  3.61it/s]\u001b[A\n",
      "Epoch 15:  92%|█████████▏| 506/550 [07:38<00:39,  1.10it/s, loss=0.00156, v_num=to9m]\n",
      "Validating:  12%|█▏        | 6/50 [00:01<00:11,  3.92it/s]\u001b[A\n",
      "Epoch 15:  92%|█████████▏| 508/550 [07:38<00:37,  1.11it/s, loss=0.00156, v_num=to9m]\n",
      "Validating:  16%|█▌        | 8/50 [00:02<00:10,  3.98it/s]\u001b[A\n",
      "Epoch 15:  93%|█████████▎| 510/550 [07:39<00:36,  1.11it/s, loss=0.00156, v_num=to9m]\n",
      "Validating:  20%|██        | 10/50 [00:02<00:10,  3.84it/s]\u001b[A\n",
      "Epoch 15:  93%|█████████▎| 512/550 [07:39<00:34,  1.11it/s, loss=0.00156, v_num=to9m]\n",
      "Validating:  24%|██▍       | 12/50 [00:03<00:10,  3.70it/s]\u001b[A\n",
      "Epoch 15:  93%|█████████▎| 514/550 [07:40<00:32,  1.12it/s, loss=0.00156, v_num=to9m]\n",
      "Validating:  28%|██▊       | 14/50 [00:03<00:09,  3.62it/s]\u001b[A\n",
      "Epoch 15:  94%|█████████▍| 516/550 [07:40<00:30,  1.12it/s, loss=0.00156, v_num=to9m]\n",
      "Validating:  32%|███▏      | 16/50 [00:04<00:09,  3.47it/s]\u001b[A\n",
      "Epoch 15:  94%|█████████▍| 518/550 [07:41<00:28,  1.12it/s, loss=0.00156, v_num=to9m]\n",
      "Validating:  36%|███▌      | 18/50 [00:05<00:10,  3.02it/s]\u001b[A\n",
      "Epoch 15:  95%|█████████▍| 520/550 [07:42<00:26,  1.12it/s, loss=0.00156, v_num=to9m]\n",
      "Validating:  40%|████      | 20/50 [00:05<00:10,  2.95it/s]\u001b[A\n",
      "Epoch 15:  95%|█████████▍| 522/550 [07:42<00:24,  1.13it/s, loss=0.00156, v_num=to9m]\n",
      "Validating:  44%|████▍     | 22/50 [00:06<00:08,  3.12it/s]\u001b[A\n",
      "Epoch 15:  95%|█████████▌| 524/550 [07:43<00:22,  1.13it/s, loss=0.00156, v_num=to9m]\n",
      "Validating:  48%|████▊     | 24/50 [00:06<00:07,  3.42it/s]\u001b[A\n",
      "Epoch 15:  96%|█████████▌| 526/550 [07:44<00:21,  1.13it/s, loss=0.00156, v_num=to9m]\n",
      "Validating:  52%|█████▏    | 26/50 [00:07<00:06,  3.57it/s]\u001b[A\n",
      "Epoch 15:  96%|█████████▌| 528/550 [07:44<00:19,  1.14it/s, loss=0.00156, v_num=to9m]\n",
      "Validating:  56%|█████▌    | 28/50 [00:08<00:06,  3.17it/s]\u001b[A\n",
      "Epoch 15:  96%|█████████▋| 530/550 [07:45<00:17,  1.14it/s, loss=0.00156, v_num=to9m]\n",
      "Validating:  60%|██████    | 30/50 [00:08<00:05,  3.37it/s]\u001b[A\n",
      "Epoch 15:  97%|█████████▋| 532/550 [07:45<00:15,  1.14it/s, loss=0.00156, v_num=to9m]\n",
      "Validating:  64%|██████▍   | 32/50 [00:09<00:05,  3.44it/s]\u001b[A\n",
      "Epoch 15:  97%|█████████▋| 534/550 [07:46<00:13,  1.14it/s, loss=0.00156, v_num=to9m]\n",
      "Validating:  68%|██████▊   | 34/50 [00:09<00:04,  3.37it/s]\u001b[A\n",
      "Epoch 15:  97%|█████████▋| 536/550 [07:47<00:12,  1.15it/s, loss=0.00156, v_num=to9m]\n",
      "Validating:  72%|███████▏  | 36/50 [00:10<00:03,  3.66it/s]\u001b[A\n",
      "Epoch 15:  98%|█████████▊| 538/550 [07:47<00:10,  1.15it/s, loss=0.00156, v_num=to9m]\n",
      "Validating:  76%|███████▌  | 38/50 [00:11<00:03,  3.49it/s]\u001b[A\n",
      "Epoch 15:  98%|█████████▊| 540/550 [07:48<00:08,  1.15it/s, loss=0.00156, v_num=to9m]\n",
      "Validating:  80%|████████  | 40/50 [00:11<00:03,  3.31it/s]\u001b[A\n",
      "Epoch 15:  99%|█████████▊| 542/550 [07:48<00:06,  1.16it/s, loss=0.00156, v_num=to9m]\n",
      "Validating:  84%|████████▍ | 42/50 [00:12<00:02,  3.22it/s]\u001b[A\n",
      "Epoch 15:  99%|█████████▉| 544/550 [07:49<00:05,  1.16it/s, loss=0.00156, v_num=to9m]\n",
      "Validating:  88%|████████▊ | 44/50 [00:12<00:01,  3.52it/s]\u001b[A\n",
      "Epoch 15:  99%|█████████▉| 546/550 [07:50<00:03,  1.16it/s, loss=0.00156, v_num=to9m]\n",
      "Validating:  92%|█████████▏| 46/50 [00:13<00:01,  3.61it/s]\u001b[A\n",
      "Epoch 15: 100%|█████████▉| 548/550 [07:50<00:01,  1.16it/s, loss=0.00156, v_num=to9m]\n",
      "Validating:  96%|█████████▌| 48/50 [00:13<00:00,  3.79it/s]\u001b[A\n",
      "Epoch 15: 100%|██████████| 550/550 [07:51<00:00,  1.17it/s, loss=0.00156, v_num=to9m]\n",
      "Epoch 15: 100%|██████████| 550/550 [07:51<00:00,  1.17it/s, loss=0.00156, v_num=to9m]\n",
      "Epoch 16:  91%|█████████ | 500/550 [07:36<00:45,  1.09it/s, loss=0.00158, v_num=to9m]\n",
      "Validating: 0it [00:00, ?it/s]\u001b[A\n",
      "Validating:   0%|          | 0/50 [00:00<?, ?it/s]\u001b[A\n",
      "Epoch 16:  91%|█████████▏| 502/550 [07:37<00:43,  1.10it/s, loss=0.00158, v_num=to9m]\n",
      "Validating:   4%|▍         | 2/50 [00:00<00:13,  3.48it/s]\u001b[A\n",
      "Epoch 16:  92%|█████████▏| 504/550 [07:37<00:41,  1.10it/s, loss=0.00158, v_num=to9m]\n",
      "Validating:   8%|▊         | 4/50 [00:01<00:12,  3.56it/s]\u001b[A\n",
      "Epoch 16:  92%|█████████▏| 506/550 [07:38<00:39,  1.10it/s, loss=0.00158, v_num=to9m]\n",
      "Validating:  12%|█▏        | 6/50 [00:01<00:11,  3.85it/s]\u001b[A\n",
      "Epoch 16:  92%|█████████▏| 508/550 [07:38<00:37,  1.11it/s, loss=0.00158, v_num=to9m]\n",
      "Validating:  16%|█▌        | 8/50 [00:02<00:10,  3.92it/s]\u001b[A\n",
      "Epoch 16:  93%|█████████▎| 510/550 [07:39<00:36,  1.11it/s, loss=0.00158, v_num=to9m]\n",
      "Validating:  20%|██        | 10/50 [00:02<00:10,  3.80it/s]\u001b[A\n",
      "Epoch 16:  93%|█████████▎| 512/550 [07:39<00:34,  1.11it/s, loss=0.00158, v_num=to9m]\n",
      "Validating:  24%|██▍       | 12/50 [00:03<00:10,  3.68it/s]\u001b[A\n",
      "Epoch 16:  93%|█████████▎| 514/550 [07:40<00:32,  1.12it/s, loss=0.00158, v_num=to9m]\n",
      "Validating:  28%|██▊       | 14/50 [00:03<00:10,  3.59it/s]\u001b[A\n",
      "Epoch 16:  94%|█████████▍| 516/550 [07:40<00:30,  1.12it/s, loss=0.00158, v_num=to9m]\n",
      "Validating:  32%|███▏      | 16/50 [00:04<00:09,  3.46it/s]\u001b[A\n",
      "Epoch 16:  94%|█████████▍| 518/550 [07:41<00:28,  1.12it/s, loss=0.00158, v_num=to9m]\n",
      "Validating:  36%|███▌      | 18/50 [00:05<00:10,  3.01it/s]\u001b[A\n",
      "Epoch 16:  95%|█████████▍| 520/550 [07:42<00:26,  1.13it/s, loss=0.00158, v_num=to9m]\n",
      "Validating:  40%|████      | 20/50 [00:05<00:10,  2.93it/s]\u001b[A\n",
      "Epoch 16:  95%|█████████▍| 522/550 [07:42<00:24,  1.13it/s, loss=0.00158, v_num=to9m]\n",
      "Validating:  44%|████▍     | 22/50 [00:06<00:09,  3.09it/s]\u001b[A\n",
      "Epoch 16:  95%|█████████▌| 524/550 [07:43<00:22,  1.13it/s, loss=0.00158, v_num=to9m]\n",
      "Validating:  48%|████▊     | 24/50 [00:06<00:07,  3.38it/s]\u001b[A\n",
      "Epoch 16:  96%|█████████▌| 526/550 [07:44<00:21,  1.13it/s, loss=0.00158, v_num=to9m]\n",
      "Validating:  52%|█████▏    | 26/50 [00:07<00:06,  3.51it/s]\u001b[A\n",
      "Epoch 16:  96%|█████████▌| 528/550 [07:44<00:19,  1.14it/s, loss=0.00158, v_num=to9m]\n",
      "Validating:  56%|█████▌    | 28/50 [00:08<00:07,  3.05it/s]\u001b[A\n",
      "Epoch 16:  96%|█████████▋| 530/550 [07:45<00:17,  1.14it/s, loss=0.00158, v_num=to9m]\n",
      "Validating:  60%|██████    | 30/50 [00:08<00:06,  3.30it/s]\u001b[A\n",
      "Epoch 16:  97%|█████████▋| 532/550 [07:45<00:15,  1.14it/s, loss=0.00158, v_num=to9m]\n",
      "Validating:  64%|██████▍   | 32/50 [00:09<00:05,  3.39it/s]\u001b[A\n",
      "Epoch 16:  97%|█████████▋| 534/550 [07:46<00:13,  1.14it/s, loss=0.00158, v_num=to9m]\n",
      "Validating:  68%|██████▊   | 34/50 [00:10<00:04,  3.34it/s]\u001b[A\n",
      "Epoch 16:  97%|█████████▋| 536/550 [07:47<00:12,  1.15it/s, loss=0.00158, v_num=to9m]\n",
      "Validating:  72%|███████▏  | 36/50 [00:10<00:03,  3.63it/s]\u001b[A\n",
      "Epoch 16:  98%|█████████▊| 538/550 [07:47<00:10,  1.15it/s, loss=0.00158, v_num=to9m]\n",
      "Validating:  76%|███████▌  | 38/50 [00:11<00:03,  3.45it/s]\u001b[A\n",
      "Epoch 16:  98%|█████████▊| 540/550 [07:48<00:08,  1.15it/s, loss=0.00158, v_num=to9m]\n",
      "Validating:  80%|████████  | 40/50 [00:11<00:03,  3.27it/s]\u001b[A\n",
      "Epoch 16:  99%|█████████▊| 542/550 [07:48<00:06,  1.16it/s, loss=0.00158, v_num=to9m]\n",
      "Validating:  84%|████████▍ | 42/50 [00:12<00:02,  3.13it/s]\u001b[A\n",
      "Epoch 16:  99%|█████████▉| 544/550 [07:49<00:05,  1.16it/s, loss=0.00158, v_num=to9m]\n",
      "Validating:  88%|████████▊ | 44/50 [00:13<00:01,  3.40it/s]\u001b[A\n",
      "Epoch 16:  99%|█████████▉| 546/550 [07:50<00:03,  1.16it/s, loss=0.00158, v_num=to9m]\n",
      "Validating:  92%|█████████▏| 46/50 [00:13<00:01,  3.51it/s]\u001b[A\n",
      "Epoch 16: 100%|█████████▉| 548/550 [07:50<00:01,  1.16it/s, loss=0.00158, v_num=to9m]\n",
      "Validating:  96%|█████████▌| 48/50 [00:14<00:00,  3.67it/s]\u001b[A\n",
      "Epoch 16: 100%|██████████| 550/550 [07:51<00:00,  1.17it/s, loss=0.00158, v_num=to9m]\n",
      "Epoch 16: 100%|██████████| 550/550 [07:51<00:00,  1.17it/s, loss=0.00158, v_num=to9m]\n",
      "Epoch 17:  91%|█████████ | 500/550 [07:37<00:45,  1.09it/s, loss=0.00147, v_num=to9m]\n",
      "Validating: 0it [00:00, ?it/s]\u001b[A\n",
      "Validating:   0%|          | 0/50 [00:00<?, ?it/s]\u001b[A\n",
      "Epoch 17:  91%|█████████▏| 502/550 [07:37<00:43,  1.10it/s, loss=0.00147, v_num=to9m]\n",
      "Validating:   4%|▍         | 2/50 [00:00<00:14,  3.39it/s]\u001b[A\n",
      "Epoch 17:  92%|█████████▏| 504/550 [07:37<00:41,  1.10it/s, loss=0.00147, v_num=to9m]\n",
      "Validating:   8%|▊         | 4/50 [00:01<00:13,  3.49it/s]\u001b[A\n",
      "Epoch 17:  92%|█████████▏| 506/550 [07:38<00:39,  1.10it/s, loss=0.00147, v_num=to9m]\n",
      "Validating:  12%|█▏        | 6/50 [00:01<00:11,  3.84it/s]\u001b[A\n",
      "Epoch 17:  92%|█████████▏| 508/550 [07:38<00:37,  1.11it/s, loss=0.00147, v_num=to9m]\n",
      "Validating:  16%|█▌        | 8/50 [00:02<00:10,  3.92it/s]\u001b[A\n",
      "Epoch 17:  93%|█████████▎| 510/550 [07:39<00:36,  1.11it/s, loss=0.00147, v_num=to9m]\n",
      "Validating:  20%|██        | 10/50 [00:02<00:10,  3.77it/s]\u001b[A\n",
      "Epoch 17:  93%|█████████▎| 512/550 [07:40<00:34,  1.11it/s, loss=0.00147, v_num=to9m]\n",
      "Validating:  24%|██▍       | 12/50 [00:03<00:10,  3.64it/s]\u001b[A\n",
      "Epoch 17:  93%|█████████▎| 514/550 [07:40<00:32,  1.12it/s, loss=0.00147, v_num=to9m]\n",
      "Validating:  28%|██▊       | 14/50 [00:03<00:10,  3.56it/s]\u001b[A\n",
      "Epoch 17:  94%|█████████▍| 516/550 [07:41<00:30,  1.12it/s, loss=0.00147, v_num=to9m]\n",
      "Validating:  32%|███▏      | 16/50 [00:04<00:09,  3.42it/s]\u001b[A\n",
      "Epoch 17:  94%|█████████▍| 518/550 [07:41<00:28,  1.12it/s, loss=0.00147, v_num=to9m]\n",
      "Validating:  36%|███▌      | 18/50 [00:05<00:10,  2.98it/s]\u001b[A\n",
      "Epoch 17:  95%|█████████▍| 520/550 [07:42<00:26,  1.12it/s, loss=0.00147, v_num=to9m]\n",
      "Validating:  40%|████      | 20/50 [00:05<00:10,  2.91it/s]\u001b[A\n",
      "Epoch 17:  95%|█████████▍| 522/550 [07:43<00:24,  1.13it/s, loss=0.00147, v_num=to9m]\n",
      "Validating:  44%|████▍     | 22/50 [00:06<00:09,  3.07it/s]\u001b[A\n",
      "Epoch 17:  95%|█████████▌| 524/550 [07:43<00:23,  1.13it/s, loss=0.00147, v_num=to9m]\n",
      "Validating:  48%|████▊     | 24/50 [00:07<00:07,  3.37it/s]\u001b[A\n",
      "Epoch 17:  96%|█████████▌| 526/550 [07:44<00:21,  1.13it/s, loss=0.00147, v_num=to9m]\n",
      "Validating:  52%|█████▏    | 26/50 [00:07<00:06,  3.50it/s]\u001b[A\n",
      "Epoch 17:  96%|█████████▌| 528/550 [07:44<00:19,  1.14it/s, loss=0.00147, v_num=to9m]\n",
      "Validating:  56%|█████▌    | 28/50 [00:08<00:07,  3.12it/s]\u001b[A\n",
      "Epoch 17:  96%|█████████▋| 530/550 [07:45<00:17,  1.14it/s, loss=0.00147, v_num=to9m]\n",
      "Validating:  60%|██████    | 30/50 [00:08<00:06,  3.33it/s]\u001b[A\n",
      "Epoch 17:  97%|█████████▋| 532/550 [07:46<00:15,  1.14it/s, loss=0.00147, v_num=to9m]\n",
      "Validating:  64%|██████▍   | 32/50 [00:09<00:05,  3.40it/s]\u001b[A\n",
      "Epoch 17:  97%|█████████▋| 534/550 [07:46<00:13,  1.14it/s, loss=0.00147, v_num=to9m]\n",
      "Validating:  68%|██████▊   | 34/50 [00:10<00:04,  3.33it/s]\u001b[A\n",
      "Epoch 17:  97%|█████████▋| 536/550 [07:47<00:12,  1.15it/s, loss=0.00147, v_num=to9m]\n",
      "Validating:  72%|███████▏  | 36/50 [00:10<00:03,  3.60it/s]\u001b[A\n",
      "Epoch 17:  98%|█████████▊| 538/550 [07:48<00:10,  1.15it/s, loss=0.00147, v_num=to9m]\n",
      "Validating:  76%|███████▌  | 38/50 [00:11<00:03,  3.44it/s]\u001b[A\n",
      "Epoch 17:  98%|█████████▊| 540/550 [07:48<00:08,  1.15it/s, loss=0.00147, v_num=to9m]\n",
      "Validating:  80%|████████  | 40/50 [00:11<00:03,  3.29it/s]\u001b[A\n",
      "Epoch 17:  99%|█████████▊| 542/550 [07:49<00:06,  1.16it/s, loss=0.00147, v_num=to9m]\n",
      "Validating:  84%|████████▍ | 42/50 [00:12<00:02,  3.19it/s]\u001b[A\n",
      "Epoch 17:  99%|█████████▉| 544/550 [07:49<00:05,  1.16it/s, loss=0.00147, v_num=to9m]\n",
      "Validating:  88%|████████▊ | 44/50 [00:13<00:01,  3.49it/s]\u001b[A\n",
      "Epoch 17:  99%|█████████▉| 546/550 [07:50<00:03,  1.16it/s, loss=0.00147, v_num=to9m]\n",
      "Validating:  92%|█████████▏| 46/50 [00:13<00:01,  3.61it/s]\u001b[A\n",
      "Epoch 17: 100%|█████████▉| 548/550 [07:50<00:01,  1.16it/s, loss=0.00147, v_num=to9m]\n",
      "Validating:  96%|█████████▌| 48/50 [00:14<00:00,  3.76it/s]\u001b[A\n",
      "Epoch 17: 100%|██████████| 550/550 [07:51<00:00,  1.17it/s, loss=0.00147, v_num=to9m]\n",
      "Epoch 17: 100%|██████████| 550/550 [07:51<00:00,  1.17it/s, loss=0.00147, v_num=to9m]\n",
      "Epoch 18:  91%|█████████ | 500/550 [07:36<00:45,  1.09it/s, loss=0.00133, v_num=to9m] \n",
      "Validating: 0it [00:00, ?it/s]\u001b[A\n",
      "Validating:   0%|          | 0/50 [00:00<?, ?it/s]\u001b[A\n",
      "Epoch 18:  91%|█████████▏| 502/550 [07:37<00:43,  1.10it/s, loss=0.00133, v_num=to9m]\n",
      "Validating:   4%|▍         | 2/50 [00:00<00:13,  3.47it/s]\u001b[A\n",
      "Epoch 18:  92%|█████████▏| 504/550 [07:37<00:41,  1.10it/s, loss=0.00133, v_num=to9m]\n",
      "Validating:   8%|▊         | 4/50 [00:01<00:13,  3.53it/s]\u001b[A\n",
      "Epoch 18:  92%|█████████▏| 506/550 [07:38<00:39,  1.10it/s, loss=0.00133, v_num=to9m]\n",
      "Validating:  12%|█▏        | 6/50 [00:01<00:11,  3.85it/s]\u001b[A\n",
      "Epoch 18:  92%|█████████▏| 508/550 [07:38<00:37,  1.11it/s, loss=0.00133, v_num=to9m]\n",
      "Validating:  16%|█▌        | 8/50 [00:02<00:10,  3.90it/s]\u001b[A\n",
      "Epoch 18:  93%|█████████▎| 510/550 [07:39<00:36,  1.11it/s, loss=0.00133, v_num=to9m]\n",
      "Validating:  20%|██        | 10/50 [00:02<00:10,  3.76it/s]\u001b[A\n",
      "Epoch 18:  93%|█████████▎| 512/550 [07:39<00:34,  1.11it/s, loss=0.00133, v_num=to9m]\n",
      "Validating:  24%|██▍       | 12/50 [00:03<00:10,  3.64it/s]\u001b[A\n",
      "Epoch 18:  93%|█████████▎| 514/550 [07:40<00:32,  1.12it/s, loss=0.00133, v_num=to9m]\n",
      "Validating:  28%|██▊       | 14/50 [00:03<00:10,  3.56it/s]\u001b[A\n",
      "Epoch 18:  94%|█████████▍| 516/550 [07:41<00:30,  1.12it/s, loss=0.00133, v_num=to9m]\n",
      "Validating:  32%|███▏      | 16/50 [00:04<00:09,  3.42it/s]\u001b[A\n",
      "Epoch 18:  94%|█████████▍| 518/550 [07:41<00:28,  1.12it/s, loss=0.00133, v_num=to9m]\n",
      "Validating:  36%|███▌      | 18/50 [00:05<00:10,  2.99it/s]\u001b[A\n",
      "Epoch 18:  95%|█████████▍| 520/550 [07:42<00:26,  1.12it/s, loss=0.00133, v_num=to9m]\n",
      "Validating:  40%|████      | 20/50 [00:05<00:10,  2.90it/s]\u001b[A\n",
      "Epoch 18:  95%|█████████▍| 522/550 [07:43<00:24,  1.13it/s, loss=0.00133, v_num=to9m]\n",
      "Validating:  44%|████▍     | 22/50 [00:06<00:09,  3.05it/s]\u001b[A\n",
      "Epoch 18:  95%|█████████▌| 524/550 [07:43<00:23,  1.13it/s, loss=0.00133, v_num=to9m]\n",
      "Validating:  48%|████▊     | 24/50 [00:07<00:07,  3.37it/s]\u001b[A\n",
      "Epoch 18:  96%|█████████▌| 526/550 [07:44<00:21,  1.13it/s, loss=0.00133, v_num=to9m]\n",
      "Validating:  52%|█████▏    | 26/50 [00:07<00:06,  3.49it/s]\u001b[A\n",
      "Epoch 18:  96%|█████████▌| 528/550 [07:44<00:19,  1.14it/s, loss=0.00133, v_num=to9m]\n",
      "Validating:  56%|█████▌    | 28/50 [00:08<00:07,  2.95it/s]\u001b[A\n",
      "Epoch 18:  96%|█████████▋| 530/550 [07:45<00:17,  1.14it/s, loss=0.00133, v_num=to9m]\n",
      "Validating:  60%|██████    | 30/50 [00:09<00:06,  3.05it/s]\u001b[A\n",
      "Epoch 18:  97%|█████████▋| 532/550 [07:46<00:15,  1.14it/s, loss=0.00133, v_num=to9m]\n",
      "Validating:  64%|██████▍   | 32/50 [00:09<00:05,  3.07it/s]\u001b[A\n",
      "Epoch 18:  97%|█████████▋| 534/550 [07:47<00:13,  1.14it/s, loss=0.00133, v_num=to9m]\n",
      "Validating:  68%|██████▊   | 34/50 [00:10<00:05,  3.06it/s]\u001b[A\n",
      "Epoch 18:  97%|█████████▋| 536/550 [07:47<00:12,  1.15it/s, loss=0.00133, v_num=to9m]\n",
      "Validating:  72%|███████▏  | 36/50 [00:10<00:04,  3.33it/s]\u001b[A\n",
      "Epoch 18:  98%|█████████▊| 538/550 [07:48<00:10,  1.15it/s, loss=0.00133, v_num=to9m]\n",
      "Validating:  76%|███████▌  | 38/50 [00:11<00:04,  2.94it/s]\u001b[A\n",
      "Epoch 18:  98%|█████████▊| 540/550 [07:49<00:08,  1.15it/s, loss=0.00133, v_num=to9m]\n",
      "Validating:  80%|████████  | 40/50 [00:12<00:03,  2.75it/s]\u001b[A\n",
      "Epoch 18:  99%|█████████▊| 542/550 [07:49<00:06,  1.15it/s, loss=0.00133, v_num=to9m]\n",
      "Validating:  84%|████████▍ | 42/50 [00:13<00:02,  2.82it/s]\u001b[A\n",
      "Epoch 18:  99%|█████████▉| 544/550 [07:50<00:05,  1.16it/s, loss=0.00133, v_num=to9m]\n",
      "Validating:  88%|████████▊ | 44/50 [00:13<00:01,  3.25it/s]\u001b[A\n",
      "Epoch 18:  99%|█████████▉| 546/550 [07:50<00:03,  1.16it/s, loss=0.00133, v_num=to9m]\n",
      "Validating:  92%|█████████▏| 46/50 [00:14<00:01,  3.47it/s]\u001b[A\n",
      "Epoch 18: 100%|█████████▉| 548/550 [07:51<00:01,  1.16it/s, loss=0.00133, v_num=to9m]\n",
      "Validating:  96%|█████████▌| 48/50 [00:14<00:00,  3.69it/s]\u001b[A\n",
      "Epoch 18: 100%|██████████| 550/550 [07:52<00:00,  1.17it/s, loss=0.00133, v_num=to9m]\n",
      "Epoch 18: 100%|██████████| 550/550 [07:52<00:00,  1.16it/s, loss=0.00133, v_num=to9m]\n",
      "Epoch 19:  13%|█▎        | 70/550 [00:58<06:41,  1.19it/s, loss=0.00162, v_num=to9m] "
     ]
    }
   ],
   "source": [
    "logger = WandbLogger(\n",
    "    project=hparams[\"project\"], group=\"InitialTest\", save_dir=hparams[\"artifacts\"]\n",
    ")\n",
    "trainer = Trainer(\n",
    "    gpus=1, max_epochs=hparams[\"max_epochs\"], logger=logger\n",
    ")  # , precision=16)\n",
    "trainer.fit(model)"
   ]
  },
  {
   "cell_type": "markdown",
   "id": "e0194855",
   "metadata": {},
   "source": [
    "# Testing"
   ]
  },
  {
   "cell_type": "code",
   "execution_count": 169,
   "id": "07e9eefb",
   "metadata": {},
   "outputs": [],
   "source": [
    "graph = model.valset[0].to(device)"
   ]
  },
  {
   "cell_type": "code",
   "execution_count": 170,
   "id": "ebb311cb",
   "metadata": {
    "scrolled": true
   },
   "outputs": [
    {
     "ename": "RuntimeError",
     "evalue": "you can only change requires_grad flags of leaf variables.",
     "output_type": "error",
     "traceback": [
      "\u001b[0;31m---------------------------------------------------------------------------\u001b[0m",
      "\u001b[0;31mRuntimeError\u001b[0m                              Traceback (most recent call last)",
      "\u001b[0;32m/tmp/ipykernel_7356/3341533542.py\u001b[0m in \u001b[0;36m<module>\u001b[0;34m\u001b[0m\n\u001b[1;32m      2\u001b[0m     \u001b[0minput_data\u001b[0m \u001b[0;34m=\u001b[0m \u001b[0mmodel\u001b[0m\u001b[0;34m.\u001b[0m\u001b[0mget_input_data\u001b[0m\u001b[0;34m(\u001b[0m\u001b[0mgraph\u001b[0m\u001b[0;34m)\u001b[0m\u001b[0;34m\u001b[0m\u001b[0;34m\u001b[0m\u001b[0m\n\u001b[1;32m      3\u001b[0m     \u001b[0minput_graph\u001b[0m \u001b[0;34m=\u001b[0m \u001b[0mtorch\u001b[0m\u001b[0;34m.\u001b[0m\u001b[0mcat\u001b[0m\u001b[0;34m(\u001b[0m\u001b[0;34m[\u001b[0m\u001b[0mgraph\u001b[0m\u001b[0;34m.\u001b[0m\u001b[0medge_index\u001b[0m\u001b[0;34m,\u001b[0m \u001b[0mgraph\u001b[0m\u001b[0;34m.\u001b[0m\u001b[0medge_index\u001b[0m\u001b[0;34m.\u001b[0m\u001b[0mflip\u001b[0m\u001b[0;34m(\u001b[0m\u001b[0;36m0\u001b[0m\u001b[0;34m)\u001b[0m\u001b[0;34m]\u001b[0m\u001b[0;34m,\u001b[0m \u001b[0mdim\u001b[0m\u001b[0;34m=\u001b[0m\u001b[0;34m-\u001b[0m\u001b[0;36m1\u001b[0m\u001b[0;34m)\u001b[0m\u001b[0;34m\u001b[0m\u001b[0;34m\u001b[0m\u001b[0m\n\u001b[0;32m----> 4\u001b[0;31m     \u001b[0moutput\u001b[0m \u001b[0;34m=\u001b[0m \u001b[0mtorch\u001b[0m\u001b[0;34m.\u001b[0m\u001b[0msigmoid\u001b[0m\u001b[0;34m(\u001b[0m\u001b[0mmodel\u001b[0m\u001b[0;34m.\u001b[0m\u001b[0mto\u001b[0m\u001b[0;34m(\u001b[0m\u001b[0mdevice\u001b[0m\u001b[0;34m)\u001b[0m\u001b[0;34m(\u001b[0m\u001b[0minput_data\u001b[0m\u001b[0;34m,\u001b[0m \u001b[0minput_graph\u001b[0m\u001b[0;34m,\u001b[0m \u001b[0mgraph\u001b[0m\u001b[0;34m.\u001b[0m\u001b[0mlabels\u001b[0m\u001b[0;34m,\u001b[0m \u001b[0mgraph\u001b[0m\u001b[0;34m.\u001b[0m\u001b[0mlabel_pairs\u001b[0m\u001b[0;34m)\u001b[0m\u001b[0;34m)\u001b[0m\u001b[0;34m\u001b[0m\u001b[0;34m\u001b[0m\u001b[0m\n\u001b[0m",
      "\u001b[0;32m~/.conda/envs/exa/lib/python3.8/site-packages/torch/nn/modules/module.py\u001b[0m in \u001b[0;36m_call_impl\u001b[0;34m(self, *input, **kwargs)\u001b[0m\n\u001b[1;32m   1100\u001b[0m         if not (self._backward_hooks or self._forward_hooks or self._forward_pre_hooks or _global_backward_hooks\n\u001b[1;32m   1101\u001b[0m                 or _global_forward_hooks or _global_forward_pre_hooks):\n\u001b[0;32m-> 1102\u001b[0;31m             \u001b[0;32mreturn\u001b[0m \u001b[0mforward_call\u001b[0m\u001b[0;34m(\u001b[0m\u001b[0;34m*\u001b[0m\u001b[0minput\u001b[0m\u001b[0;34m,\u001b[0m \u001b[0;34m**\u001b[0m\u001b[0mkwargs\u001b[0m\u001b[0;34m)\u001b[0m\u001b[0;34m\u001b[0m\u001b[0;34m\u001b[0m\u001b[0m\n\u001b[0m\u001b[1;32m   1103\u001b[0m         \u001b[0;31m# Do not call functions when jit is used\u001b[0m\u001b[0;34m\u001b[0m\u001b[0;34m\u001b[0m\u001b[0;34m\u001b[0m\u001b[0m\n\u001b[1;32m   1104\u001b[0m         \u001b[0mfull_backward_hooks\u001b[0m\u001b[0;34m,\u001b[0m \u001b[0mnon_full_backward_hooks\u001b[0m \u001b[0;34m=\u001b[0m \u001b[0;34m[\u001b[0m\u001b[0;34m]\u001b[0m\u001b[0;34m,\u001b[0m \u001b[0;34m[\u001b[0m\u001b[0;34m]\u001b[0m\u001b[0;34m\u001b[0m\u001b[0;34m\u001b[0m\u001b[0m\n",
      "\u001b[0;32m/global/u2/d/danieltm/ExaTrkX/Tracking-ML-Exa.TrkX/Pipelines/Common_Tracking_Example/notebooks/ITk/Exploration/../../../LightningModules/Segmenting/Models/checkpoint_pyramid.py\u001b[0m in \u001b[0;36mforward\u001b[0;34m(self, x, edge_index, labels, label_pairs)\u001b[0m\n\u001b[1;32m    105\u001b[0m \u001b[0;34m\u001b[0m\u001b[0m\n\u001b[1;32m    106\u001b[0m         \u001b[0;31m# Encode the graph features into the hidden space\u001b[0m\u001b[0;34m\u001b[0m\u001b[0;34m\u001b[0m\u001b[0;34m\u001b[0m\u001b[0m\n\u001b[0;32m--> 107\u001b[0;31m         \u001b[0mx\u001b[0m\u001b[0;34m.\u001b[0m\u001b[0mrequires_grad\u001b[0m \u001b[0;34m=\u001b[0m \u001b[0;32mTrue\u001b[0m\u001b[0;34m\u001b[0m\u001b[0;34m\u001b[0m\u001b[0m\n\u001b[0m\u001b[1;32m    108\u001b[0m         \u001b[0mx\u001b[0m \u001b[0;34m=\u001b[0m \u001b[0mcheckpoint\u001b[0m\u001b[0;34m(\u001b[0m\u001b[0mself\u001b[0m\u001b[0;34m.\u001b[0m\u001b[0mnode_encoder\u001b[0m\u001b[0;34m,\u001b[0m \u001b[0mx\u001b[0m\u001b[0;34m)\u001b[0m\u001b[0;34m\u001b[0m\u001b[0;34m\u001b[0m\u001b[0m\n\u001b[1;32m    109\u001b[0m \u001b[0;34m\u001b[0m\u001b[0m\n",
      "\u001b[0;31mRuntimeError\u001b[0m: you can only change requires_grad flags of leaf variables."
     ]
    }
   ],
   "source": [
    "with torch.no_grad():\n",
    "    input_data = model.get_input_data(graph)\n",
    "    input_graph = torch.cat([graph.edge_index, graph.edge_index.flip(0)], dim=-1)\n",
    "    output = torch.sigmoid(\n",
    "        model.to(device)(input_data, input_graph, graph.labels, graph.label_pairs)\n",
    "    )"
   ]
  },
  {
   "cell_type": "code",
   "execution_count": 171,
   "id": "a7da1cf8",
   "metadata": {},
   "outputs": [
    {
     "data": {
      "text/plain": [
       "Data(cell_data=[104365, 11], edge_index=[2, 310705], event_file=\"/global/cfs/cdirs/m3443/data/ITk-upgrade/processed/full_events_v4/event000010005\", hid=[104365], label_pairs=[2, 389403], labels=[104365], long_mask=[104365], modulewise_true_edges=[2, 41921], nhits=[104365], pid=[104365], pid_pairs=[2, 389403], primary=[104365], pt=[104365], signal_true_edges=[2, 5955], x=[104365, 3], y=[310705], y_pid=[310705])"
      ]
     },
     "execution_count": 171,
     "metadata": {},
     "output_type": "execute_result"
    }
   ],
   "source": [
    "graph"
   ]
  },
  {
   "cell_type": "code",
   "execution_count": 175,
   "id": "5cdea792",
   "metadata": {},
   "outputs": [],
   "source": [
    "labels = labelSegments(graph.edge_index[:, graph.y.bool()], len(graph.x))"
   ]
  },
  {
   "cell_type": "code",
   "execution_count": 187,
   "id": "ef9276d2",
   "metadata": {},
   "outputs": [],
   "source": [
    "preds = output.squeeze() > 0.9\n",
    "truth = graph.pid_pairs[0] == graph.pid_pairs[1]"
   ]
  },
  {
   "cell_type": "code",
   "execution_count": 188,
   "id": "9ce57a36",
   "metadata": {},
   "outputs": [
    {
     "name": "stdout",
     "output_type": "stream",
     "text": [
      "tensor(0.9259, device='cuda:0') tensor(0.7576, device='cuda:0')\n"
     ]
    }
   ],
   "source": [
    "# Signal true & signal tp\n",
    "true = truth.sum().float()\n",
    "positive = preds.sum().float()\n",
    "true_positive = (truth.bool() & preds).sum().float()\n",
    "\n",
    "# Eff, pur, auc\n",
    "eff = true_positive / true\n",
    "pur = true_positive / positive\n",
    "\n",
    "print(eff, pur)"
   ]
  },
  {
   "cell_type": "code",
   "execution_count": 189,
   "id": "104d2a3a",
   "metadata": {},
   "outputs": [
    {
     "data": {
      "text/plain": [
       "(tensor(0.9663, device='cuda:0'),\n",
       " tensor(0.9330, device='cuda:0'),\n",
       " tensor(0.9493, device='cuda:0'))"
      ]
     },
     "execution_count": 189,
     "metadata": {},
     "output_type": "execute_result"
    }
   ],
   "source": [
    "sparse_score_segments(graph.labels, graph.pid, graph.signal_true_edges)"
   ]
  },
  {
   "cell_type": "code",
   "execution_count": 190,
   "id": "3443a6e7",
   "metadata": {},
   "outputs": [],
   "source": [
    "connected_segments = labelSegments(graph.label_pairs[:, preds], len(labels))"
   ]
  },
  {
   "cell_type": "code",
   "execution_count": 191,
   "id": "38668bea",
   "metadata": {},
   "outputs": [
    {
     "data": {
      "text/plain": [
       "(tensor(0.9578, device='cuda:0'),\n",
       " tensor(0.9809, device='cuda:0'),\n",
       " tensor(0.9692, device='cuda:0'))"
      ]
     },
     "execution_count": 191,
     "metadata": {},
     "output_type": "execute_result"
    }
   ],
   "source": [
    "relabelled = connected_segments[labels]\n",
    "sparse_score_segments(relabelled, graph.pid, graph.signal_true_edges)"
   ]
  },
  {
   "cell_type": "code",
   "execution_count": 176,
   "id": "6d46fe4e",
   "metadata": {},
   "outputs": [],
   "source": [
    "connected_segments = labelSegments(graph.label_pairs[:, truth], len(labels))"
   ]
  },
  {
   "cell_type": "code",
   "execution_count": 177,
   "id": "42e1f06b",
   "metadata": {},
   "outputs": [
    {
     "data": {
      "text/plain": [
       "(tensor(1., device='cuda:0'),\n",
       " tensor(1., device='cuda:0'),\n",
       " tensor(1., device='cuda:0'))"
      ]
     },
     "execution_count": 177,
     "metadata": {},
     "output_type": "execute_result"
    }
   ],
   "source": [
    "relabelled = connected_segments[labels]\n",
    "sparse_score_segments(relabelled, graph.pid, graph.signal_true_edges)"
   ]
  },
  {
   "cell_type": "markdown",
   "id": "c957fad1",
   "metadata": {},
   "source": [
    "## Debug Truth Segmenting"
   ]
  },
  {
   "cell_type": "markdown",
   "id": "92f371c3",
   "metadata": {},
   "source": [
    "First, look at which hits in connected_segments were not correctly relabelled"
   ]
  },
  {
   "cell_type": "code",
   "execution_count": 64,
   "id": "51a1dd1b",
   "metadata": {},
   "outputs": [],
   "source": [
    "label_unique, label_counts = relabelled[\n",
    "    torch.isin(graph.pid, graph.pid[graph.signal_true_edges])\n",
    "].unique(return_counts=True)"
   ]
  },
  {
   "cell_type": "code",
   "execution_count": 95,
   "id": "6c7df17d",
   "metadata": {},
   "outputs": [
    {
     "data": {
      "text/plain": [
       "tensor([   61,    91,   491,   668,  1287,  1347,  1351,  1390,  1392,  2101,\n",
       "         2322,  2485,  2626,  2635,  2661,  2739,  2754,  2765,  3184,  3244,\n",
       "         3266,  3287,  3878,  3885,  4422,  4438,  4491,  5177,  5223,  5589,\n",
       "         5658,  5828,  6206,  6435,  6457,  6516,  6583,  7111,  7156,  7193,\n",
       "         7218,  7521,  7759,  7789,  7825,  7863,  7965,  8128,  8379,  8380,\n",
       "         8509,  9037,  9657,  9686,  9729, 10224, 17443, 17488, 17921, 22551,\n",
       "        22690, 22728, 27034, 27761, 29895, 32397], device='cuda:0')"
      ]
     },
     "execution_count": 95,
     "metadata": {},
     "output_type": "execute_result"
    }
   ],
   "source": [
    "label_unique[label_counts == 3]"
   ]
  },
  {
   "cell_type": "markdown",
   "id": "2775762d",
   "metadata": {},
   "source": [
    "**Okay: This is the issue. A large(ish) number of signal hits are in single-hit or double-hit segments. To best evaluate the stitching performance, weight particles by only the number of hits in signal segments (i.e. size >= 3)**"
   ]
  },
  {
   "cell_type": "code",
   "execution_count": 48,
   "id": "b8ab9e71",
   "metadata": {},
   "outputs": [
    {
     "data": {
      "text/plain": [
       "<AxesSubplot:ylabel='Count'>"
      ]
     },
     "execution_count": 48,
     "metadata": {},
     "output_type": "execute_result"
    },
    {
     "data": {
      "image/png": "[encoded data removed]",
      "text/plain": [
       "<Figure size 432x288 with 1 Axes>"
      ]
     },
     "metadata": {
      "needs_background": "light"
     },
     "output_type": "display_data"
    }
   ],
   "source": [
    "sns.histplot(label_counts.cpu())"
   ]
  },
  {
   "cell_type": "code",
   "execution_count": 87,
   "id": "c4dc0e03",
   "metadata": {},
   "outputs": [
    {
     "data": {
      "text/plain": [
       "tensor([61140000150, 61140000150], device='cuda:0')"
      ]
     },
     "execution_count": 87,
     "metadata": {},
     "output_type": "execute_result"
    }
   ],
   "source": [
    "graph.pid[relabelled == 79506]"
   ]
  },
  {
   "cell_type": "code",
   "execution_count": 88,
   "id": "2b780b3a",
   "metadata": {},
   "outputs": [
    {
     "data": {
      "text/plain": [
       "tensor([ 5558,  5558,  5558,  5558,  5558,  5558,  5558, 79506, 79506],\n",
       "       device='cuda:0')"
      ]
     },
     "execution_count": 88,
     "metadata": {},
     "output_type": "execute_result"
    }
   ],
   "source": [
    "relabelled[graph.pid == 61140000150]"
   ]
  },
  {
   "cell_type": "code",
   "execution_count": 93,
   "id": "264f1674",
   "metadata": {},
   "outputs": [],
   "source": [
    "relabelled[graph.pid == 61140000150] = 5558"
   ]
  },
  {
   "cell_type": "code",
   "execution_count": 94,
   "id": "88308b02",
   "metadata": {},
   "outputs": [
    {
     "data": {
      "text/plain": [
       "(tensor(0.9684, device='cuda:0'),\n",
       " tensor(0.9585, device='cuda:0'),\n",
       " tensor(0.9634, device='cuda:0'))"
      ]
     },
     "execution_count": 94,
     "metadata": {},
     "output_type": "execute_result"
    }
   ],
   "source": [
    "sparse_score_segments(relabelled, graph.pid, graph.signal_true_edges)"
   ]
  },
  {
   "cell_type": "markdown",
   "id": "d501eaff",
   "metadata": {},
   "source": [
    "## Scan over events"
   ]
  },
  {
   "cell_type": "code",
   "execution_count": 147,
   "id": "cd8391e5-f4c2-4bd9-804c-8c30da3d3d6c",
   "metadata": {},
   "outputs": [],
   "source": [
    "model = model.to(device)"
   ]
  },
  {
   "cell_type": "code",
   "execution_count": 148,
   "id": "520fc322-b882-4711-9ec8-e235298d15de",
   "metadata": {
    "scrolled": true,
    "tags": []
   },
   "outputs": [
    {
     "name": "stdout",
     "output_type": "stream",
     "text": [
      "tensor(0.7963) tensor(0.8776)\n",
      "tensor(0.8558) tensor(0.9271)\n",
      "tensor(0.8693) tensor(0.9110)\n",
      "tensor(0.8488) tensor(0.8969)\n",
      "tensor(0.8250) tensor(0.9041)\n",
      "tensor(0.8222) tensor(0.9024)\n",
      "tensor(0.8275) tensor(0.8900)\n",
      "tensor(0.8159) tensor(0.8972)\n",
      "tensor(0.8138) tensor(0.8986)\n",
      "tensor(0.8143) tensor(0.8835)\n",
      "tensor(0.8129) tensor(0.8767)\n",
      "tensor(0.8154) tensor(0.8797)\n",
      "tensor(0.8148) tensor(0.8767)\n",
      "tensor(0.8174) tensor(0.8664)\n",
      "tensor(0.8207) tensor(0.8640)\n",
      "tensor(0.8127) tensor(0.8625)\n",
      "tensor(0.8169) tensor(0.8652)\n",
      "tensor(0.8103) tensor(0.8654)\n",
      "tensor(0.8046) tensor(0.8646)\n",
      "tensor(0.8080) tensor(0.8663)\n",
      "tensor(0.8056) tensor(0.8642)\n",
      "tensor(0.8058) tensor(0.8673)\n",
      "tensor(0.8118) tensor(0.8644)\n",
      "tensor(0.8088) tensor(0.8672)\n",
      "tensor(0.8067) tensor(0.8664)\n",
      "tensor(0.8056) tensor(0.8686)\n",
      "tensor(0.8030) tensor(0.8655)\n",
      "tensor(0.8003) tensor(0.8698)\n",
      "tensor(0.8004) tensor(0.8662)\n",
      "tensor(0.7994) tensor(0.8636)\n",
      "tensor(0.7989) tensor(0.8638)\n",
      "tensor(0.7992) tensor(0.8651)\n",
      "tensor(0.7972) tensor(0.8653)\n",
      "tensor(0.7952) tensor(0.8642)\n",
      "tensor(0.7953) tensor(0.8632)\n",
      "tensor(0.7950) tensor(0.8649)\n",
      "tensor(0.7981) tensor(0.8639)\n",
      "tensor(0.7942) tensor(0.8637)\n",
      "tensor(0.7957) tensor(0.8642)\n",
      "tensor(0.7952) tensor(0.8642)\n",
      "tensor(0.7942) tensor(0.8641)\n",
      "tensor(0.7925) tensor(0.8645)\n",
      "tensor(0.7947) tensor(0.8662)\n",
      "tensor(0.7939) tensor(0.8646)\n",
      "tensor(0.7944) tensor(0.8631)\n",
      "tensor(0.7956) tensor(0.8635)\n",
      "tensor(0.7954) tensor(0.8640)\n",
      "tensor(0.7948) tensor(0.8625)\n",
      "tensor(0.7973) tensor(0.8625)\n",
      "tensor(0.7968) tensor(0.8629)\n"
     ]
    }
   ],
   "source": [
    "true_positive, true, positive = 0, 0, 0\n",
    "unstitched_scores = []\n",
    "stitched_scores = []\n",
    "\n",
    "with torch.no_grad():\n",
    "    for graph in model.valset:\n",
    "        input_data = model.get_input_data(graph).to(device)\n",
    "        input_graph = torch.cat(\n",
    "            [graph.edge_index, graph.edge_index.flip(0)], dim=-1\n",
    "        ).to(device)\n",
    "        output = torch.sigmoid(\n",
    "            model(\n",
    "                input_data,\n",
    "                input_graph,\n",
    "                graph.labels.to(device),\n",
    "                graph.label_pairs.to(device),\n",
    "            )\n",
    "        )\n",
    "\n",
    "        preds = output.squeeze() > 0.98\n",
    "        truth = graph.pid_pairs[0] == graph.pid_pairs[1]\n",
    "\n",
    "        true += truth.sum().float().cpu()\n",
    "        positive += preds.sum().float().cpu()\n",
    "        true_positive += (truth.bool().cpu() & preds.cpu()).sum().float()\n",
    "\n",
    "        # Eff, pur, auc\n",
    "        eff = true_positive / true\n",
    "        pur = true_positive / positive\n",
    "\n",
    "        print(eff, pur)\n",
    "\n",
    "        labels = labelSegments(graph.edge_index[:, graph.y.bool()], len(graph.x))\n",
    "        unstitched_scores.append(\n",
    "            sparse_score_segments(labels, graph.pid, graph.signal_true_edges)[2].cpu()\n",
    "        )\n",
    "\n",
    "        connected_segments = labelSegments(graph.label_pairs[:, preds], len(labels))\n",
    "        relabelled = connected_segments[labels]\n",
    "        stitched_scores.append(\n",
    "            sparse_score_segments(relabelled, graph.pid, graph.signal_true_edges)[\n",
    "                2\n",
    "            ].cpu()\n",
    "        )"
   ]
  },
  {
   "cell_type": "code",
   "execution_count": 149,
   "id": "099d96fb-a294-43ab-ac47-6d6863e685ff",
   "metadata": {},
   "outputs": [
    {
     "data": {
      "text/plain": [
       "(tensor(0.9230), tensor(0.0083))"
      ]
     },
     "execution_count": 149,
     "metadata": {},
     "output_type": "execute_result"
    }
   ],
   "source": [
    "torch.mean(torch.stack(unstitched_scores)), torch.std(torch.stack(unstitched_scores))"
   ]
  },
  {
   "cell_type": "code",
   "execution_count": 150,
   "id": "ef70979e-12fc-477f-a1b0-d1f91b2465d8",
   "metadata": {},
   "outputs": [
    {
     "data": {
      "text/plain": [
       "(tensor(0.9504), tensor(0.0078))"
      ]
     },
     "execution_count": 150,
     "metadata": {},
     "output_type": "execute_result"
    }
   ],
   "source": [
    "torch.mean(torch.stack(stitched_scores)), torch.std(torch.stack(stitched_scores))"
   ]
  },
  {
   "cell_type": "markdown",
   "id": "9233ba83",
   "metadata": {},
   "source": [
    "### Test impurities"
   ]
  },
  {
   "cell_type": "markdown",
   "id": "09bd505e",
   "metadata": {},
   "source": [
    "First, check I can recover 100% performance somehow..."
   ]
  },
  {
   "cell_type": "code",
   "execution_count": 156,
   "id": "cbe7bcdf",
   "metadata": {},
   "outputs": [],
   "source": [
    "labels = labelSegments(graph.signal_true_edges, len(graph.x))"
   ]
  },
  {
   "cell_type": "code",
   "execution_count": 157,
   "id": "60ca2233",
   "metadata": {},
   "outputs": [
    {
     "data": {
      "text/plain": [
       "(tensor(0.9993, device='cuda:0'),\n",
       " tensor(0.9987, device='cuda:0'),\n",
       " tensor(0.9990, device='cuda:0'))"
      ]
     },
     "execution_count": 157,
     "metadata": {},
     "output_type": "execute_result"
    }
   ],
   "source": [
    "sparse_score_segments(labels, graph.pid, graph.signal_true_edges)"
   ]
  },
  {
   "cell_type": "code",
   "execution_count": 136,
   "id": "4e76a797",
   "metadata": {},
   "outputs": [
    {
     "data": {
      "text/plain": [
       "(tensor(1., device='cuda:0'),\n",
       " tensor(1., device='cuda:0'),\n",
       " tensor(1., device='cuda:0'))"
      ]
     },
     "execution_count": 136,
     "metadata": {},
     "output_type": "execute_result"
    }
   ],
   "source": [
    "sparse_score_segments(graph.pid, graph.pid, graph.signal_true_edges)"
   ]
  },
  {
   "cell_type": "markdown",
   "id": "d80571bb",
   "metadata": {},
   "source": [
    "Consider losing 1% purity of these edges (i.e. consider merging long tracks...)"
   ]
  },
  {
   "cell_type": "code",
   "execution_count": 158,
   "id": "54aef6bf",
   "metadata": {},
   "outputs": [],
   "source": [
    "unique_labels, label_counts = labels.unique(return_counts=True)"
   ]
  },
  {
   "cell_type": "code",
   "execution_count": 159,
   "id": "a716f15a",
   "metadata": {},
   "outputs": [],
   "source": [
    "long_tracks = unique_labels[label_counts > 6]"
   ]
  },
  {
   "cell_type": "code",
   "execution_count": 160,
   "id": "cfc49f4b",
   "metadata": {},
   "outputs": [],
   "source": [
    "impurity = 0.01\n",
    "tracks_to_merge = long_tracks[torch.randperm(len(long_tracks))][\n",
    "    : int(2 * impurity * len(long_tracks))\n",
    "]\n",
    "tracks_to_merge_to = tracks_to_merge[: int(impurity * len(long_tracks))]\n",
    "tracks_to_merge_from = tracks_to_merge[int(impurity * len(long_tracks)) :]"
   ]
  },
  {
   "cell_type": "code",
   "execution_count": 161,
   "id": "957f9ab5",
   "metadata": {
    "scrolled": true
   },
   "outputs": [
    {
     "name": "stdout",
     "output_type": "stream",
     "text": [
      "tensor(5492, device='cuda:0') tensor(5007, device='cuda:0')\n",
      "tensor(2525, device='cuda:0') tensor(345, device='cuda:0')\n",
      "tensor(6209, device='cuda:0') tensor(8106, device='cuda:0')\n",
      "tensor(1019, device='cuda:0') tensor(7565, device='cuda:0')\n",
      "tensor(587, device='cuda:0') tensor(302, device='cuda:0')\n",
      "tensor(6874, device='cuda:0') tensor(8715, device='cuda:0')\n"
     ]
    }
   ],
   "source": [
    "for track_to, track_from in zip(tracks_to_merge_to, tracks_to_merge_from):\n",
    "    print(track_to, track_from)\n",
    "    labels[labels == track_from] = track_to"
   ]
  },
  {
   "cell_type": "code",
   "execution_count": 162,
   "id": "9a0a7aa3",
   "metadata": {
    "scrolled": true
   },
   "outputs": [
    {
     "data": {
      "text/plain": [
       "(tensor(0.9831, device='cuda:0'),\n",
       " tensor(0.9905, device='cuda:0'),\n",
       " tensor(0.9868, device='cuda:0'))"
      ]
     },
     "execution_count": 162,
     "metadata": {},
     "output_type": "execute_result"
    }
   ],
   "source": [
    "sparse_score_segments(labels, graph.pid, graph.signal_true_edges)"
   ]
  },
  {
   "cell_type": "code",
   "execution_count": 163,
   "id": "d2247e0e",
   "metadata": {},
   "outputs": [],
   "source": [
    "labels = labelSegments(graph.edge_index[:, graph.y.bool()], len(graph.x))"
   ]
  },
  {
   "cell_type": "code",
   "execution_count": 164,
   "id": "b512493c",
   "metadata": {},
   "outputs": [
    {
     "data": {
      "text/plain": [
       "(tensor(0.9663, device='cuda:0'),\n",
       " tensor(0.9330, device='cuda:0'),\n",
       " tensor(0.9493, device='cuda:0'))"
      ]
     },
     "execution_count": 164,
     "metadata": {},
     "output_type": "execute_result"
    }
   ],
   "source": [
    "sparse_score_segments(labels, graph.pid, graph.signal_true_edges)"
   ]
  },
  {
   "cell_type": "code",
   "execution_count": 165,
   "id": "dfc90f17",
   "metadata": {},
   "outputs": [
    {
     "data": {
      "text/plain": [
       "tensor([    0,     1,     2,  ..., 98775, 98776, 98777], device='cuda:0')"
      ]
     },
     "execution_count": 165,
     "metadata": {},
     "output_type": "execute_result"
    }
   ],
   "source": [
    "labels"
   ]
  },
  {
   "cell_type": "markdown",
   "id": "e68f00ed",
   "metadata": {},
   "source": [
    "### Debug scoring function"
   ]
  },
  {
   "cell_type": "code",
   "execution_count": 133,
   "id": "87fcbfbd",
   "metadata": {},
   "outputs": [],
   "source": [
    "def sparse_score_segments(labels, pids, signal_pids):\n",
    "\n",
    "    unique_pids, new_pids = pids.unique(return_inverse=True)\n",
    "    _, new_labels = labels.unique(return_inverse=True)\n",
    "    (\n",
    "        signal_segments_pids,\n",
    "        unique_signal_segments_pids,\n",
    "        pid_count,\n",
    "    ) = get_unique_signal_segments(new_labels, new_pids, signal_pids)\n",
    "\n",
    "    iou, segment_count = get_jaccard_matrix(\n",
    "        new_labels,\n",
    "        new_pids,\n",
    "        pid_count,\n",
    "        signal_segments_pids,\n",
    "        unique_signal_segments_pids,\n",
    "    )\n",
    "\n",
    "    sparse_segment_count = sp.coo_matrix(\n",
    "        (\n",
    "            segment_count[unique_signal_segments_pids[0]].cpu(),\n",
    "            unique_signal_segments_pids.cpu().numpy(),\n",
    "        )\n",
    "    ).tocsr()\n",
    "    sparse_pid_count = sp.coo_matrix(\n",
    "        (\n",
    "            pid_count[unique_signal_segments_pids[1]].cpu(),\n",
    "            unique_signal_segments_pids.cpu().numpy(),\n",
    "        )\n",
    "    ).tocsr()\n",
    "\n",
    "    segment_pur = (\n",
    "        iou.multiply(sparse_segment_count).sum()\n",
    "        / segment_count[unique_signal_segments_pids[0]].sum()\n",
    "    )\n",
    "    segment_eff = (\n",
    "        iou.multiply(sparse_pid_count).sum()\n",
    "        / pid_count[unique_signal_segments_pids[1]].sum()\n",
    "    )\n",
    "\n",
    "    segment_f1 = 2 * segment_pur * segment_eff / (segment_pur + segment_eff)\n",
    "\n",
    "    return segment_pur, segment_eff, segment_f1\n",
    "\n",
    "\n",
    "def get_jaccard_matrix(\n",
    "    labels, pids, pid_count, signal_segments_pids, unique_signal_segments_pids\n",
    "):\n",
    "\n",
    "    sparse_intersection = sp.coo_matrix(\n",
    "        (np.ones(signal_segments_pids.shape[1]), signal_segments_pids.cpu().numpy())\n",
    "    ).tocsr()\n",
    "\n",
    "    segment_count = labels.unique(return_counts=True)[1]\n",
    "\n",
    "    union_counts = (\n",
    "        segment_count[unique_signal_segments_pids[0]]\n",
    "        + pid_count[unique_signal_segments_pids[1]]\n",
    "    )\n",
    "    sparse_sum = sp.coo_matrix(\n",
    "        (union_counts.cpu(), unique_signal_segments_pids.cpu().numpy())\n",
    "    ).tocsr()\n",
    "    sparse_union = sparse_sum - sparse_intersection\n",
    "    sparse_union.data = 1 / sparse_union.data\n",
    "    iou = sparse_intersection.multiply(sparse_union)\n",
    "\n",
    "    return iou, segment_count\n",
    "\n",
    "\n",
    "def get_unique_signal_segments(labels, pids, signal_pids):\n",
    "\n",
    "    labels_unique, labels_inverse, labels_counts = labels.unique(\n",
    "        return_counts=True, return_inverse=True\n",
    "    )\n",
    "\n",
    "    segments_pids = torch.stack([labels, pids])\n",
    "    is_signal = torch.isin(pids, pids[signal_pids]) & (\n",
    "        labels_counts[labels_inverse] >= 3\n",
    "    )\n",
    "\n",
    "    signal_unique, signal_count = pids[is_signal].unique(return_counts=True)  #\n",
    "    new_counts = torch.zeros(len(pids)).long().cuda()  #\n",
    "    new_counts[\n",
    "        signal_unique\n",
    "    ] = signal_count  # These three lines define whether to sum the FULL size of a track, or just those hits in signal segments\n",
    "\n",
    "    signal_segments_pids = segments_pids[:, is_signal]\n",
    "    unique_signal_segments_pids = signal_segments_pids.unique(dim=1)\n",
    "\n",
    "    return signal_segments_pids, unique_signal_segments_pids, new_counts"
   ]
  },
  {
   "cell_type": "code",
   "execution_count": 106,
   "id": "80d5449b",
   "metadata": {},
   "outputs": [],
   "source": [
    "labels, pids, signal_pids = labels, graph.pid, graph.signal_true_edges"
   ]
  },
  {
   "cell_type": "code",
   "execution_count": 107,
   "id": "f49a723d",
   "metadata": {},
   "outputs": [],
   "source": [
    "unique_pids, new_pids = pids.unique(return_inverse=True)\n",
    "_, new_labels = labels.unique(return_inverse=True)"
   ]
  },
  {
   "cell_type": "code",
   "execution_count": 108,
   "id": "b64f8240",
   "metadata": {},
   "outputs": [],
   "source": [
    "labels_unique, labels_inverse, labels_counts = new_labels.unique(\n",
    "    return_counts=True, return_inverse=True\n",
    ")\n",
    "\n",
    "segments_pids = torch.stack([new_labels, new_pids])\n",
    "is_signal = torch.isin(new_pids, new_pids[signal_pids]) & (\n",
    "    labels_counts[labels_inverse] >= 3\n",
    ")"
   ]
  },
  {
   "cell_type": "code",
   "execution_count": 117,
   "id": "5ea01cdb",
   "metadata": {},
   "outputs": [],
   "source": [
    "signal_unique, signal_count = new_pids[is_signal].unique(return_counts=True)"
   ]
  },
  {
   "cell_type": "code",
   "execution_count": 118,
   "id": "eda68692",
   "metadata": {},
   "outputs": [
    {
     "data": {
      "text/plain": [
       "tensor([ 100, 6973, 1807,  ..., 2459,    0, 1155], device='cuda:0')"
      ]
     },
     "execution_count": 118,
     "metadata": {},
     "output_type": "execute_result"
    }
   ],
   "source": [
    "new_pids"
   ]
  },
  {
   "cell_type": "code",
   "execution_count": 119,
   "id": "af3d9de1",
   "metadata": {
    "scrolled": true
   },
   "outputs": [
    {
     "data": {
      "text/plain": [
       "tensor([   1,    4,    7,   12,   16,   18,   19,   20,   22,   24,   26,   27,\n",
       "          29,   32,   33,   36,   41,   45,   53,   54,   55,   58,   68,   75,\n",
       "          81,   82,   84,   86,   87,   89,   92,   96,  103,  107,  109,  112,\n",
       "         123,  128,  132,  141,  143,  156,  157,  159,  167,  171,  173,  183,\n",
       "         191,  192,  194,  200,  203,  206,  207,  208,  209,  345,  347,  354,\n",
       "         355,  357,  358,  365,  371,  375,  384,  398,  465,  477,  507,  510,\n",
       "         532,  536,  539,  545,  548,  551,  558,  566,  569,  571,  579,  580,\n",
       "         583,  643,  662,  667,  674,  679,  704,  705,  706,  708,  709,  711,\n",
       "         712,  726,  736,  737,  811,  812,  818,  821,  829,  832,  834,  838,\n",
       "         842,  849,  853,  854,  857,  858,  867,  874,  876,  887,  888,  897,\n",
       "         898,  906,  954,  958,  966,  973,  976,  978, 1006, 1008, 1056, 1083,\n",
       "        1105, 1106, 1107, 1110, 1129, 1169, 1181, 1206, 1207, 1208, 1212, 1214,\n",
       "        1225, 1243, 1244, 1249, 1250, 1274, 1290, 1293, 1296, 1298, 1300, 1301,\n",
       "        1302, 1307, 1308, 1309, 1313, 1314, 1316, 1332, 1339, 1340, 1343, 1360,\n",
       "        1397, 1468, 1476, 1483, 1522, 1523, 1525, 1527, 1530, 1533, 1537, 1539,\n",
       "        1540, 1541, 1542, 1543, 1546, 1549, 1550, 1551, 1552, 1553, 1554, 1556,\n",
       "        1557, 1572, 1576, 1587, 1590, 1598, 1605, 1606, 1610, 1611, 1613, 1616,\n",
       "        1619, 1620, 1640, 1641, 1648, 1650, 1663, 1664, 1678, 1814, 1815, 1818,\n",
       "        1859, 1860, 1867, 1871, 1879, 1880, 1889, 1892, 1919, 1920, 1921, 1927,\n",
       "        1931, 1933, 1935, 1942, 1943, 1946, 1947, 1956, 1959, 1960, 2022, 2023,\n",
       "        2025, 2035, 2043, 2055, 2056, 2120, 2130, 2183, 2188, 2189, 2225, 2230,\n",
       "        2231, 2234, 2235, 2239, 2240, 2269, 2289, 2294, 2298, 2302, 2303, 2305,\n",
       "        2326, 2327, 2329, 2330, 2335, 2337, 2340, 2349, 2363, 2372, 2461, 2462,\n",
       "        2463, 2492, 2493, 2498, 2500, 2504, 2525, 2576, 2588, 2590, 2596, 2602,\n",
       "        2603, 2605, 2606, 2613, 2628, 2695, 2696, 2698, 2704, 2705, 2708, 2726,\n",
       "        2738, 2759, 2792, 2795, 2800, 2817, 2912, 2917, 2927, 2929, 2943, 2947,\n",
       "        2959, 2960, 2995, 2996, 2997, 2998, 3027, 3028, 3029, 3102, 3131, 3133,\n",
       "        3160, 3181, 3187, 3192, 3198, 3210, 3215, 3218, 3224, 3236, 3237, 3257,\n",
       "        3263, 3264, 3268, 3271, 3273, 3362, 3385, 3411, 3416, 3419, 3429, 3454,\n",
       "        3473, 3475, 3477, 3483, 3497, 3548, 3549, 3550, 3552, 3553, 3558, 3562,\n",
       "        3645, 3647, 3649, 3654, 3656, 3658, 3745, 3747, 3748, 3791, 3796, 3799,\n",
       "        3800, 3807, 3821, 3822, 3828, 3830, 3832, 3852, 3919, 3969, 3974, 4025,\n",
       "        4031, 4033, 4038, 4040, 4057, 4063, 4066, 4098, 4104, 4112, 4138, 4146,\n",
       "        4151, 4157, 4158, 4163, 4164, 4171, 4185, 4186, 4188, 4189, 4191, 4195,\n",
       "        4197, 4198, 4200, 4201, 4208, 4215, 4268, 4269, 4270, 4271, 4272, 4288,\n",
       "        4347, 4348, 4385, 4392, 4396, 4397, 4404, 4406, 4434, 4492, 4550, 4552,\n",
       "        4588, 4593, 4604, 4611, 4624, 4643, 4673, 4680, 4689, 4691, 4750, 4751,\n",
       "        4753, 4755, 4818, 4822, 4823, 4824, 4829, 4833, 4835, 4838, 4849, 4858,\n",
       "        4862, 4877, 4914, 4916, 4917, 4919, 4924, 4926, 4931, 4934, 4940, 4944,\n",
       "        4952, 4955, 4959, 4960, 4962, 4963, 4966, 4973, 4974, 4981, 4982, 4983,\n",
       "        5008, 5022, 5024, 5081, 5095, 5098, 5106, 5112, 5116, 5133, 5134, 5137,\n",
       "        5139, 5140, 5142, 5143, 5144, 5178, 5220, 5232, 5275, 5369, 5370, 5373,\n",
       "        5382, 5397, 5399, 5404, 5405, 5461, 5503, 5504, 5515, 5516, 5521, 5557,\n",
       "        5564, 5567, 5578, 5580, 5581, 5587, 5588, 5590, 5592, 5593, 5594, 5625,\n",
       "        5690, 5697, 5705, 5713, 5723, 5755, 5763, 5831, 5838, 5840, 5841, 5856,\n",
       "        5860, 5861, 5862, 5878, 5933, 5941, 5944, 5969, 5971, 5972, 5982, 5987,\n",
       "        5990, 6037, 6041, 6045, 6046, 6048, 6050, 6082, 6141, 6144, 6150, 6152,\n",
       "        6156, 6157, 6159, 6160, 6164, 6172, 6174, 6178, 6180, 6194, 6202, 6204,\n",
       "        6205, 6206, 6208, 6209, 6210, 6220, 6224, 6225, 6226, 6227, 6263, 6321,\n",
       "        6323, 6326, 6327, 6328, 6335, 6336, 6342, 6343, 6437, 6473, 6536, 6571,\n",
       "        6573, 6614, 6616, 6626, 6627, 6634, 6637, 6644, 6657, 6659, 6713, 6716,\n",
       "        6719, 6720, 6724, 6730, 6731, 6732, 6735, 6736, 6740, 6747, 6748, 6749,\n",
       "        6752, 6755, 6760, 6762, 6763, 6771, 6773, 6791, 6792, 6795, 6801, 6804,\n",
       "        6808, 6813, 6820, 6827, 6829, 6850, 6856, 6913, 6920, 6921, 6931, 6946,\n",
       "        6963, 7019, 7021, 7033, 7091, 7096, 7119, 7120, 7121, 7123, 7126, 7127,\n",
       "        7144, 7146, 7151, 7159, 7162, 7172, 7208, 7215, 7234, 7235, 7236, 7289,\n",
       "        7295, 7300, 7301, 7303, 7311, 7369, 7370, 7371, 7376, 7378, 7385, 7399,\n",
       "        7402, 7403, 7409, 7410, 7412, 7415, 7416, 7422, 7423, 7424, 7426, 7441,\n",
       "        7443, 7445, 7453, 7458, 7460, 7469, 7472, 7473, 7480, 7492, 7498, 7499,\n",
       "        7507, 7515, 7521, 7523, 7524, 7553, 7554, 7618, 7627, 7628, 7637, 7687,\n",
       "        7688, 7695, 7708, 7711, 7714, 7721, 7723, 7727, 7739, 7750, 7776, 7824,\n",
       "        7826, 7838, 7847, 7852, 7854, 7857, 7858, 7860, 7865, 7868, 7882, 7923,\n",
       "        7952, 7953, 7980, 7986, 7989, 7993, 8012, 8071, 8076, 8077, 8088, 8091,\n",
       "        8092, 8093, 8100, 8165, 8184, 8188, 8189, 8190, 8193, 8219, 8227, 8228,\n",
       "        8268, 8309, 8311, 8312, 8315, 8317, 8323, 8324, 8329, 8330, 8341, 8350,\n",
       "        8353, 8425, 8426, 8427, 8449, 8450, 8515, 8516, 8521, 8522, 8529, 8536,\n",
       "        8541, 8553, 8558, 8616, 8638, 8639, 8641, 8642, 8646, 8660, 8670, 8779,\n",
       "        8781, 8782, 8783, 8784, 8785, 8788, 8795, 8796, 8800, 8801, 8802, 8804,\n",
       "        8806, 8810, 8812, 8818, 8820, 8823, 8825, 8839, 8840, 8842, 8864, 8865,\n",
       "        8866], device='cuda:0')"
      ]
     },
     "execution_count": 119,
     "metadata": {},
     "output_type": "execute_result"
    }
   ],
   "source": [
    "signal_unique"
   ]
  },
  {
   "cell_type": "code",
   "execution_count": 124,
   "id": "3f2e47c1",
   "metadata": {},
   "outputs": [],
   "source": [
    "new_counts = torch.zeros(len(new_pids)).long().cuda()"
   ]
  },
  {
   "cell_type": "code",
   "execution_count": 125,
   "id": "23d1cc79",
   "metadata": {},
   "outputs": [],
   "source": [
    "new_counts[signal_unique] = signal_count"
   ]
  },
  {
   "cell_type": "code",
   "execution_count": 126,
   "id": "e4ca1538",
   "metadata": {},
   "outputs": [
    {
     "data": {
      "text/plain": [
       "tensor([0, 7, 0,  ..., 0, 0, 0], device='cuda:0')"
      ]
     },
     "execution_count": 126,
     "metadata": {},
     "output_type": "execute_result"
    }
   ],
   "source": [
    "new_counts"
   ]
  },
  {
   "cell_type": "code",
   "execution_count": null,
   "id": "c4fa01f1",
   "metadata": {},
   "outputs": [],
   "source": []
  }
 ],
 "metadata": {
  "@webio": {
   "lastCommId": null,
   "lastKernelId": null
  },
  "kernelspec": {
   "display_name": "ExaPerlmutter",
   "language": "python",
   "name": "exa"
  },
  "language_info": {
   "codemirror_mode": {
    "name": "ipython",
    "version": 3
   },
   "file_extension": ".py",
   "mimetype": "text/x-python",
   "name": "python",
   "nbconvert_exporter": "python",
   "pygments_lexer": "ipython3",
   "version": "3.8.12"
  }
 },
 "nbformat": 4,
 "nbformat_minor": 5
}
