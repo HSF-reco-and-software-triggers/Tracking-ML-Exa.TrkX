{
 "cells": [
  {
   "cell_type": "markdown",
   "id": "92f9b939-5ee4-43db-9145-b6bf69a36b83",
   "metadata": {},
   "source": [
    "# Segment Stitching"
   ]
  },
  {
   "cell_type": "code",
   "execution_count": 1,
   "id": "724a03c4",
   "metadata": {},
   "outputs": [],
   "source": [
    "%load_ext autoreload\n",
    "%autoreload 2\n",
    "\n",
    "# System imports\n",
    "import os\n",
    "import sys\n",
    "import yaml\n",
    "\n",
    "# External imports\n",
    "import matplotlib.pyplot as plt\n",
    "import scipy as sp\n",
    "from sklearn.decomposition import PCA\n",
    "from sklearn.metrics import auc\n",
    "import numpy as np\n",
    "import pandas as pd\n",
    "import seaborn as sns\n",
    "import torch\n",
    "from pytorch_lightning import Trainer\n",
    "from pytorch_lightning.loggers import TensorBoardLogger, WandbLogger\n",
    "import scipy.sparse.csgraph as scigraph\n",
    "import scipy.sparse as sp\n",
    "from torch_scatter import scatter\n",
    "sys.path.append('../../../')\n",
    "\n",
    "import wandb\n",
    "from LightningModules.Segmenting.utils.segmentation_utils import labelSegments, sparse_score_segments\n",
    "\n",
    "import warnings\n",
    "warnings.filterwarnings('ignore')\n",
    "\n",
    "device = \"cuda\" if torch.cuda.is_available() else \"cpu\""
   ]
  },
  {
   "cell_type": "markdown",
   "id": "b8c12209",
   "metadata": {},
   "source": [
    "## Roadmap\n",
    "\n",
    "1. Load in a good 0.5GeV model\n",
    "2. Run some initial statistics (eff, pur)\n",
    "3. Segment builder\n",
    "4. Get some segment statistics (tracking eff, pur)"
   ]
  },
  {
   "cell_type": "markdown",
   "id": "573d89b0",
   "metadata": {},
   "source": [
    "## Infrastructure"
   ]
  },
  {
   "cell_type": "markdown",
   "id": "1afc7363",
   "metadata": {},
   "source": [
    "- GraphScore(Model, graph) --> graph (with scores)\n",
    "- SegmentBuild(graph) --> labelled graph\n"
   ]
  },
  {
   "cell_type": "markdown",
   "id": "73e20707",
   "metadata": {},
   "source": [
    "## Load in Model"
   ]
  },
  {
   "cell_type": "code",
   "execution_count": 2,
   "id": "2b7318ec",
   "metadata": {},
   "outputs": [],
   "source": [
    "from LightningModules.Segmenting.Models.checkpoint_pyramid import CheckpointedPyramid\n",
    "from LightningModules.Segmenting.Models.interaction_gnn import InteractionGNN"
   ]
  },
  {
   "cell_type": "code",
   "execution_count": 3,
   "id": "cb242ac4",
   "metadata": {},
   "outputs": [],
   "source": [
    "with open(\"../configs/default_Segment.yaml\") as f:\n",
    "        hparams = yaml.load(f, Loader=yaml.FullLoader)"
   ]
  },
  {
   "cell_type": "code",
   "execution_count": 4,
   "id": "55693061",
   "metadata": {
    "scrolled": true
   },
   "outputs": [],
   "source": [
    "model = CheckpointedPyramid(hparams)"
   ]
  },
  {
   "cell_type": "markdown",
   "id": "d726af78-4857-4d7f-9bfd-fffd5a7eed31",
   "metadata": {},
   "source": [
    "### Load"
   ]
  },
  {
   "cell_type": "code",
   "execution_count": 3,
   "id": "1e043165-fd6e-46ef-972e-5d6a9d5cc53b",
   "metadata": {},
   "outputs": [],
   "source": [
    "checkpoint_dir = \"/global/cfs/cdirs/m3443/data/lightning_models/lightning_checkpoints/ITk_Stitcher_Testing/qzhsnlc5/checkpoints/epoch=38-step=19499.ckpt\""
   ]
  },
  {
   "cell_type": "code",
   "execution_count": 4,
   "id": "0bf30ca9-a6c4-47ef-88cc-9b46be160165",
   "metadata": {},
   "outputs": [],
   "source": [
    "model = CheckpointedPyramid.load_from_checkpoint(checkpoint_dir)"
   ]
  },
  {
   "cell_type": "markdown",
   "id": "db78b1c8",
   "metadata": {
    "heading_collapsed": true
   },
   "source": [
    "### Load in Data"
   ]
  },
  {
   "cell_type": "code",
   "execution_count": 5,
   "id": "f40cf950",
   "metadata": {
    "hidden": true
   },
   "outputs": [],
   "source": [
    "model._hparams[\"datatype_split\"]=[50, 50, 10]"
   ]
  },
  {
   "cell_type": "code",
   "execution_count": 6,
   "id": "ac11e865",
   "metadata": {
    "hidden": true
   },
   "outputs": [
    {
     "name": "stdout",
     "output_type": "stream",
     "text": [
      "Setting up dataset\n",
      "Loading events\n",
      "Events loaded!\n",
      "Events processed!\n",
      "Loading events\n",
      "Events loaded!\n",
      "Events processed!\n",
      "Loading events\n",
      "Events loaded!\n",
      "Events processed!\n"
     ]
    }
   ],
   "source": [
    "model.setup(stage=\"fit\")"
   ]
  },
  {
   "cell_type": "code",
   "execution_count": 8,
   "id": "851c3027",
   "metadata": {
    "hidden": true
   },
   "outputs": [],
   "source": [
    "graph = model.trainset[0]"
   ]
  },
  {
   "cell_type": "code",
   "execution_count": 15,
   "id": "5900b613",
   "metadata": {
    "hidden": true
   },
   "outputs": [
    {
     "data": {
      "text/plain": [
       "tensor(0.0002)"
      ]
     },
     "execution_count": 15,
     "metadata": {},
     "output_type": "execute_result"
    }
   ],
   "source": [
    "(graph.pid_pairs[0] == graph.pid_pairs[1]).sum() / graph.pid_pairs.shape[1]"
   ]
  },
  {
   "cell_type": "markdown",
   "id": "60b9e82b",
   "metadata": {
    "heading_collapsed": true
   },
   "source": [
    "## Load/Build Segments"
   ]
  },
  {
   "cell_type": "code",
   "execution_count": 137,
   "id": "fb8e274f",
   "metadata": {
    "hidden": true
   },
   "outputs": [],
   "source": [
    "graph = model.valset[0]"
   ]
  },
  {
   "cell_type": "code",
   "execution_count": 138,
   "id": "344d670b",
   "metadata": {
    "hidden": true
   },
   "outputs": [
    {
     "ename": "AttributeError",
     "evalue": "'Data' object has no attribute 'scores'",
     "output_type": "error",
     "traceback": [
      "\u001b[0;31m---------------------------------------------------------------------------\u001b[0m",
      "\u001b[0;31mAttributeError\u001b[0m                            Traceback (most recent call last)",
      "\u001b[0;32m/tmp/ipykernel_244111/184389694.py\u001b[0m in \u001b[0;36m<module>\u001b[0;34m\u001b[0m\n\u001b[1;32m      1\u001b[0m \u001b[0mcut\u001b[0m \u001b[0;34m=\u001b[0m \u001b[0;36m0.8\u001b[0m\u001b[0;34m\u001b[0m\u001b[0;34m\u001b[0m\u001b[0m\n\u001b[1;32m      2\u001b[0m \u001b[0;34m\u001b[0m\u001b[0m\n\u001b[0;32m----> 3\u001b[0;31m \u001b[0mpositive\u001b[0m \u001b[0;34m=\u001b[0m \u001b[0mgraph\u001b[0m\u001b[0;34m.\u001b[0m\u001b[0mscores\u001b[0m \u001b[0;34m>\u001b[0m \u001b[0mcut\u001b[0m\u001b[0;34m\u001b[0m\u001b[0;34m\u001b[0m\u001b[0m\n\u001b[0m\u001b[1;32m      4\u001b[0m \u001b[0mtp\u001b[0m \u001b[0;34m=\u001b[0m \u001b[0mpositive\u001b[0m \u001b[0;34m&\u001b[0m \u001b[0mgraph\u001b[0m\u001b[0;34m.\u001b[0m\u001b[0my\u001b[0m\u001b[0;34m.\u001b[0m\u001b[0mbool\u001b[0m\u001b[0;34m(\u001b[0m\u001b[0;34m)\u001b[0m\u001b[0;34m\u001b[0m\u001b[0;34m\u001b[0m\u001b[0m\n\u001b[1;32m      5\u001b[0m \u001b[0mlabelGraph\u001b[0m\u001b[0;34m(\u001b[0m\u001b[0mgraph\u001b[0m\u001b[0;34m,\u001b[0m \u001b[0medge_cut\u001b[0m\u001b[0;34m=\u001b[0m\u001b[0mcut\u001b[0m\u001b[0;34m)\u001b[0m\u001b[0;34m\u001b[0m\u001b[0;34m\u001b[0m\u001b[0m\n",
      "\u001b[0;31mAttributeError\u001b[0m: 'Data' object has no attribute 'scores'"
     ]
    }
   ],
   "source": [
    "cut = 0.8\n",
    "\n",
    "positive = graph.scores > cut\n",
    "tp = positive & graph.y.bool()\n",
    "labelGraph(graph, edge_cut=cut)\n",
    "print(\"Pur:\", tp.sum() / positive.sum(), \"Eff:\", tp.sum() / graph.y.sum())"
   ]
  },
  {
   "cell_type": "markdown",
   "id": "cd380972",
   "metadata": {
    "heading_collapsed": true
   },
   "source": [
    "## Input Graph"
   ]
  },
  {
   "cell_type": "markdown",
   "id": "bfa1dec3",
   "metadata": {
    "hidden": true
   },
   "source": [
    "Examine the truth graph first:"
   ]
  },
  {
   "cell_type": "markdown",
   "id": "8d39beaf",
   "metadata": {
    "hidden": true
   },
   "source": [
    "Let's see what score the input graph could get from ground truth"
   ]
  },
  {
   "cell_type": "code",
   "execution_count": 22,
   "id": "e2193f51",
   "metadata": {
    "hidden": true
   },
   "outputs": [],
   "source": [
    "labels = labelSegments(graph.edge_index[:, graph.y.bool()], graph)"
   ]
  },
  {
   "cell_type": "code",
   "execution_count": 51,
   "id": "1b888cbf",
   "metadata": {
    "hidden": true
   },
   "outputs": [],
   "source": [
    "def sparse_score_segments(labels, pids, signal_pids):\n",
    "    \n",
    "    unique_pids, new_pids = pids.unique(return_inverse=True)\n",
    "    signal_segments_pids, unique_signal_segments_pids = get_unique_signal_segments(labels, new_pids, signal_pids)\n",
    "    \n",
    "    \n",
    "    iou, segment_count, pid_count = get_jaccard_matrix(labels, new_pids, signal_segments_pids, unique_signal_segments_pids)\n",
    "    \n",
    "    sparse_segment_count = sp.coo_matrix((segment_count[unique_signal_segments_pids[0]].cpu(), unique_signal_segments_pids.cpu().numpy())).tocsr()\n",
    "    sparse_pid_count = sp.coo_matrix((pid_count[unique_signal_segments_pids[1]].cpu(), unique_signal_segments_pids.cpu().numpy())).tocsr()\n",
    "    \n",
    "    segment_pur = iou.multiply(sparse_segment_count).sum() / segment_count[unique_signal_segments_pids[0]].sum()\n",
    "    segment_eff = iou.multiply(sparse_pid_count).sum() / pid_count[unique_signal_segments_pids[1]].sum()\n",
    "    \n",
    "    segment_f1 = 2 * segment_pur * segment_eff / (segment_pur + segment_eff)\n",
    "    \n",
    "    return segment_pur, segment_eff, segment_f1\n",
    "\n",
    "def get_jaccard_matrix(labels, pids, signal_segments_pids, unique_signal_segments_pids):\n",
    "    \n",
    "    sparse_intersection = sp.coo_matrix((np.ones(signal_segments_pids.shape[1]), signal_segments_pids.cpu().numpy())).tocsr()\n",
    "    \n",
    "    segment_count = labels.unique(return_counts=True)[1]\n",
    "    pid_count = pids.unique(return_counts=True)[1]\n",
    "    \n",
    "    union_counts = segment_count[unique_signal_segments_pids[0]] + pid_count[unique_signal_segments_pids[1]]\n",
    "    sparse_sum = sp.coo_matrix((union_counts.cpu(), unique_signal_segments_pids.cpu().numpy())).tocsr()\n",
    "    sparse_union = sparse_sum - sparse_intersection\n",
    "    sparse_union.data = 1 / sparse_union.data\n",
    "    iou = sparse_intersection.multiply(sparse_union)\n",
    "    \n",
    "    return iou, segment_count, pid_count\n",
    "\n",
    "def get_unique_signal_segments(labels, pids, signal_pids):\n",
    "    \n",
    "    labels_unique, labels_inverse, labels_counts = labels.unique(return_counts=True, return_inverse=True)\n",
    "    \n",
    "    segments_pids = torch.stack([labels, pids])\n",
    "    is_signal = torch.isin(pids, pids[signal_pids]) & (labels_counts[labels_inverse] >= 3)\n",
    "    \n",
    "    signal_segments_pids = segments_pids[:, is_signal]\n",
    "    unique_signal_segments_pids = signal_segments_pids.unique(dim=1)\n",
    "    \n",
    "    return signal_segments_pids, unique_signal_segments_pids"
   ]
  },
  {
   "cell_type": "code",
   "execution_count": 35,
   "id": "275e02c0",
   "metadata": {
    "hidden": true
   },
   "outputs": [
    {
     "data": {
      "text/plain": [
       "(tensor(0.5578, device='cuda:0'),\n",
       " tensor(0.5798, device='cuda:0'),\n",
       " tensor(0.5686, device='cuda:0'))"
      ]
     },
     "execution_count": 35,
     "metadata": {},
     "output_type": "execute_result"
    }
   ],
   "source": [
    "sparse_score_segments(graph.labels, graph.pid, graph.signal_true_edges)"
   ]
  },
  {
   "cell_type": "markdown",
   "id": "681edf19",
   "metadata": {},
   "source": [
    "## Label All Events"
   ]
  },
  {
   "cell_type": "code",
   "execution_count": 26,
   "id": "3e43d3f2",
   "metadata": {},
   "outputs": [
    {
     "name": "stdout",
     "output_type": "stream",
     "text": [
      "CPU times: user 763 ms, sys: 28.3 ms, total: 791 ms\n",
      "Wall time: 396 ms\n"
     ]
    }
   ],
   "source": [
    "%%time\n",
    "\n",
    "for event in model.valset:\n",
    "    event.labels = labelSegments(event.edge_index[:, event.y.bool()], event)  \n",
    "\n",
    "for event in model.trainset:\n",
    "    event.labels = labelSegments(event.edge_index[:, event.y.bool()], event)  "
   ]
  },
  {
   "cell_type": "code",
   "execution_count": 37,
   "id": "7f15d6d6",
   "metadata": {},
   "outputs": [],
   "source": [
    "graph = model.trainset[0]"
   ]
  },
  {
   "cell_type": "code",
   "execution_count": 30,
   "id": "42c3bba2",
   "metadata": {},
   "outputs": [
    {
     "data": {
      "text/plain": [
       "(tensor(0.9382), tensor(0.8978), tensor(0.9176))"
      ]
     },
     "execution_count": 30,
     "metadata": {},
     "output_type": "execute_result"
    }
   ],
   "source": [
    "sparse_score_segments(graph.labels, graph.pid, graph.signal_true_edges)"
   ]
  },
  {
   "cell_type": "markdown",
   "id": "53502af7",
   "metadata": {
    "heading_collapsed": true
   },
   "source": [
    "## GNN Testing"
   ]
  },
  {
   "cell_type": "code",
   "execution_count": 7,
   "id": "02041564",
   "metadata": {
    "hidden": true
   },
   "outputs": [
    {
     "data": {
      "text/plain": [
       "Data(cell_data=[96465, 11], edge_index=[2, 261315], event_file=\"/global/cfs/cdirs/m3443/data/ITk-upgrade/processed/full_events_v4/event000010001\", hid=[96465], label_pairs=[2, 276396], labels=[96465], long_mask=[96465], modulewise_true_edges=[2, 37882], nhits=[96465], pid=[96465], pid_pairs=[2, 276396], primary=[96465], pt=[96465], signal_true_edges=[2, 5305], x=[96465, 3], y=[261315], y_pid=[261315])"
      ]
     },
     "execution_count": 7,
     "metadata": {},
     "output_type": "execute_result"
    }
   ],
   "source": [
    "graph = model.trainset[0].to(device)\n",
    "graph"
   ]
  },
  {
   "cell_type": "code",
   "execution_count": 10,
   "id": "588b7877",
   "metadata": {
    "hidden": true
   },
   "outputs": [],
   "source": [
    "with torch.no_grad():\n",
    "    input_data = model.get_input_data(graph)\n",
    "output = model.to(device)(input_data, graph.edge_index, graph.labels, graph.label_pairs)"
   ]
  },
  {
   "cell_type": "code",
   "execution_count": 13,
   "id": "b4669ee5",
   "metadata": {
    "hidden": true
   },
   "outputs": [
    {
     "data": {
      "text/plain": [
       "tensor([[15350000114, 15350000114, 15350000114,  ..., 15430000390,\n",
       "         15430000390,        1147],\n",
       "        [15350000113, 15460000079, 16300000922,  ...,        1147,\n",
       "                1358,        1358]], device='cuda:0')"
      ]
     },
     "execution_count": 13,
     "metadata": {},
     "output_type": "execute_result"
    }
   ],
   "source": [
    "graph.pid_pairs"
   ]
  },
  {
   "cell_type": "code",
   "execution_count": 11,
   "id": "50bfae40",
   "metadata": {
    "hidden": true
   },
   "outputs": [
    {
     "data": {
      "text/plain": [
       "tensor([[-0.4305],\n",
       "        [-0.4687],\n",
       "        [-0.4315],\n",
       "        ...,\n",
       "        [-0.2801],\n",
       "        [-0.2987],\n",
       "        [-0.2221]], device='cuda:0', grad_fn=<CheckpointFunctionBackward>)"
      ]
     },
     "execution_count": 11,
     "metadata": {},
     "output_type": "execute_result"
    }
   ],
   "source": [
    "output"
   ]
  },
  {
   "cell_type": "markdown",
   "id": "a8375e75",
   "metadata": {},
   "source": [
    "# Training"
   ]
  },
  {
   "cell_type": "code",
   "execution_count": 5,
   "id": "cf1cdc72",
   "metadata": {
    "collapsed": true,
    "jupyter": {
     "outputs_hidden": true
    },
    "tags": []
   },
   "outputs": [
    {
     "name": "stderr",
     "output_type": "stream",
     "text": [
      "GPU available: True, used: True\n",
      "TPU available: False, using: 0 TPU cores\n",
      "IPU available: False, using: 0 IPUs\n"
     ]
    },
    {
     "name": "stdout",
     "output_type": "stream",
     "text": [
      "Setting up dataset\n",
      "Loading events\n",
      "Events loaded!\n",
      "Events processed!\n",
      "Loading events\n",
      "Events loaded!\n",
      "Events processed!\n",
      "Loading events\n",
      "Events loaded!\n"
     ]
    },
    {
     "name": "stderr",
     "output_type": "stream",
     "text": [
      "Failed to detect the name of this notebook, you can set it manually with the WANDB_NOTEBOOK_NAME environment variable to enable code saving.\n"
     ]
    },
    {
     "name": "stdout",
     "output_type": "stream",
     "text": [
      "Events processed!\n"
     ]
    },
    {
     "name": "stderr",
     "output_type": "stream",
     "text": [
      "\u001b[34m\u001b[1mwandb\u001b[0m: Currently logged in as: \u001b[33mmurnanedaniel\u001b[0m (use `wandb login --relogin` to force relogin)\n",
      "\u001b[34m\u001b[1mwandb\u001b[0m: wandb version 0.12.10 is available!  To upgrade, please run:\n",
      "\u001b[34m\u001b[1mwandb\u001b[0m:  $ pip install wandb --upgrade\n"
     ]
    },
    {
     "data": {
      "text/html": [
       "\n",
       "                    Syncing run <strong><a href=\"https://wandb.ai/murnanedaniel/ITk_Stitcher_Testing/runs/cnrgto9m\" target=\"_blank\">auspicious-rat-6</a></strong> to <a href=\"https://wandb.ai/murnanedaniel/ITk_Stitcher_Testing\" target=\"_blank\">Weights & Biases</a> (<a href=\"https://docs.wandb.com/integrations/jupyter.html\" target=\"_blank\">docs</a>).<br/>\n",
       "\n",
       "                "
      ],
      "text/plain": [
       "<IPython.core.display.HTML object>"
      ]
     },
     "metadata": {},
     "output_type": "display_data"
    },
    {
     "name": "stderr",
     "output_type": "stream",
     "text": [
      "LOCAL_RANK: 0 - CUDA_VISIBLE_DEVICES: [0]\n",
      "\n",
      "  | Name            | Type       | Params\n",
      "-----------------------------------------------\n",
      "0 | node_encoder    | Sequential | 135 K \n",
      "1 | edge_network    | Sequential | 173 K \n",
      "2 | node_network    | Sequential | 329 K \n",
      "3 | segment_network | Sequential | 198 K \n",
      "4 | output_network  | Sequential | 264 K \n",
      "-----------------------------------------------\n",
      "1.1 M     Trainable params\n",
      "0         Non-trainable params\n",
      "1.1 M     Total params\n",
      "4.407     Total estimated model params size (MB)\n"
     ]
    },
    {
     "name": "stdout",
     "output_type": "stream",
     "text": [
      "Epoch 0:  91%|█████████ | 500/550 [07:37<00:45,  1.09it/s, loss=0.0346, v_num=to9m]\n",
      "Validating: 0it [00:00, ?it/s]\u001b[A\n",
      "Validating:   0%|          | 0/50 [00:00<?, ?it/s]\u001b[A\n",
      "Epoch 0:  91%|█████████▏| 502/550 [07:37<00:43,  1.10it/s, loss=0.0346, v_num=to9m]\n",
      "Validating:   4%|▍         | 2/50 [00:00<00:13,  3.57it/s]\u001b[A\n",
      "Epoch 0:  92%|█████████▏| 504/550 [07:38<00:41,  1.10it/s, loss=0.0346, v_num=to9m]\n",
      "Validating:   8%|▊         | 4/50 [00:01<00:12,  3.61it/s]\u001b[A\n",
      "Epoch 0:  92%|█████████▏| 506/550 [07:38<00:39,  1.10it/s, loss=0.0346, v_num=to9m]\n",
      "Validating:  12%|█▏        | 6/50 [00:01<00:11,  3.93it/s]\u001b[A\n",
      "Epoch 0:  92%|█████████▏| 508/550 [07:39<00:37,  1.11it/s, loss=0.0346, v_num=to9m]\n",
      "Validating:  16%|█▌        | 8/50 [00:02<00:10,  3.96it/s]\u001b[A\n",
      "Epoch 0:  93%|█████████▎| 510/550 [07:39<00:36,  1.11it/s, loss=0.0346, v_num=to9m]\n",
      "Validating:  20%|██        | 10/50 [00:02<00:10,  3.83it/s]\u001b[A\n",
      "Epoch 0:  93%|█████████▎| 512/550 [07:40<00:34,  1.11it/s, loss=0.0346, v_num=to9m]\n",
      "Validating:  24%|██▍       | 12/50 [00:03<00:10,  3.67it/s]\u001b[A\n",
      "Epoch 0:  93%|█████████▎| 514/550 [07:40<00:32,  1.12it/s, loss=0.0346, v_num=to9m]\n",
      "Validating:  28%|██▊       | 14/50 [00:03<00:10,  3.59it/s]\u001b[A\n",
      "Epoch 0:  94%|█████████▍| 516/550 [07:41<00:30,  1.12it/s, loss=0.0346, v_num=to9m]\n",
      "Validating:  32%|███▏      | 16/50 [00:04<00:09,  3.46it/s]\u001b[A\n",
      "Epoch 0:  94%|█████████▍| 518/550 [07:42<00:28,  1.12it/s, loss=0.0346, v_num=to9m]\n",
      "Validating:  36%|███▌      | 18/50 [00:05<00:10,  3.02it/s]\u001b[A\n",
      "Epoch 0:  95%|█████████▍| 520/550 [07:42<00:26,  1.12it/s, loss=0.0346, v_num=to9m]\n",
      "Validating:  40%|████      | 20/50 [00:05<00:10,  2.96it/s]\u001b[A\n",
      "Epoch 0:  95%|█████████▍| 522/550 [07:43<00:24,  1.13it/s, loss=0.0346, v_num=to9m]\n",
      "Validating:  44%|████▍     | 22/50 [00:06<00:08,  3.13it/s]\u001b[A\n",
      "Epoch 0:  95%|█████████▌| 524/550 [07:43<00:23,  1.13it/s, loss=0.0346, v_num=to9m]\n",
      "Validating:  48%|████▊     | 24/50 [00:06<00:07,  3.43it/s]\u001b[A\n",
      "Epoch 0:  96%|█████████▌| 526/550 [07:44<00:21,  1.13it/s, loss=0.0346, v_num=to9m]\n",
      "Validating:  52%|█████▏    | 26/50 [00:07<00:06,  3.56it/s]\u001b[A\n",
      "Epoch 0:  96%|█████████▌| 528/550 [07:45<00:19,  1.14it/s, loss=0.0346, v_num=to9m]\n",
      "Validating:  56%|█████▌    | 28/50 [00:08<00:06,  3.19it/s]\u001b[A\n",
      "Epoch 0:  96%|█████████▋| 530/550 [07:45<00:17,  1.14it/s, loss=0.0346, v_num=to9m]\n",
      "Validating:  60%|██████    | 30/50 [00:08<00:05,  3.40it/s]\u001b[A\n",
      "Epoch 0:  97%|█████████▋| 532/550 [07:46<00:15,  1.14it/s, loss=0.0346, v_num=to9m]\n",
      "Validating:  64%|██████▍   | 32/50 [00:09<00:05,  3.45it/s]\u001b[A\n",
      "Epoch 0:  97%|█████████▋| 534/550 [07:46<00:13,  1.14it/s, loss=0.0346, v_num=to9m]\n",
      "Validating:  68%|██████▊   | 34/50 [00:09<00:04,  3.39it/s]\u001b[A\n",
      "Epoch 0:  97%|█████████▋| 536/550 [07:47<00:12,  1.15it/s, loss=0.0346, v_num=to9m]\n",
      "Validating:  72%|███████▏  | 36/50 [00:10<00:03,  3.69it/s]\u001b[A\n",
      "Epoch 0:  98%|█████████▊| 538/550 [07:48<00:10,  1.15it/s, loss=0.0346, v_num=to9m]\n",
      "Validating:  76%|███████▌  | 38/50 [00:11<00:03,  3.51it/s]\u001b[A\n",
      "Epoch 0:  98%|█████████▊| 540/550 [07:48<00:08,  1.15it/s, loss=0.0346, v_num=to9m]\n",
      "Validating:  80%|████████  | 40/50 [00:11<00:02,  3.36it/s]\u001b[A\n",
      "Epoch 0:  99%|█████████▊| 542/550 [07:49<00:06,  1.15it/s, loss=0.0346, v_num=to9m]\n",
      "Validating:  84%|████████▍ | 42/50 [00:12<00:02,  3.24it/s]\u001b[A\n",
      "Epoch 0:  99%|█████████▉| 544/550 [07:49<00:05,  1.16it/s, loss=0.0346, v_num=to9m]\n",
      "Validating:  88%|████████▊ | 44/50 [00:12<00:01,  3.54it/s]\u001b[A\n",
      "Epoch 0:  99%|█████████▉| 546/550 [07:50<00:03,  1.16it/s, loss=0.0346, v_num=to9m]\n",
      "Validating:  92%|█████████▏| 46/50 [00:13<00:01,  3.67it/s]\u001b[A\n",
      "Epoch 0: 100%|█████████▉| 548/550 [07:51<00:01,  1.16it/s, loss=0.0346, v_num=to9m]\n",
      "Validating:  96%|█████████▌| 48/50 [00:13<00:00,  3.83it/s]\u001b[A\n",
      "Epoch 0: 100%|██████████| 550/550 [07:51<00:00,  1.17it/s, loss=0.0346, v_num=to9m]\n",
      "Epoch 0: 100%|██████████| 550/550 [07:51<00:00,  1.17it/s, loss=0.0346, v_num=to9m]\n",
      "Epoch 1:  91%|█████████ | 500/550 [07:37<00:45,  1.09it/s, loss=0.0199, v_num=to9m]\n",
      "Validating: 0it [00:00, ?it/s]\u001b[A\n",
      "Validating:   0%|          | 0/50 [00:00<?, ?it/s]\u001b[A\n",
      "Epoch 1:  91%|█████████▏| 502/550 [07:37<00:43,  1.10it/s, loss=0.0199, v_num=to9m]\n",
      "Validating:   4%|▍         | 2/50 [00:00<00:13,  3.52it/s]\u001b[A\n",
      "Epoch 1:  92%|█████████▏| 504/550 [07:37<00:41,  1.10it/s, loss=0.0199, v_num=to9m]\n",
      "Validating:   8%|▊         | 4/50 [00:01<00:12,  3.57it/s]\u001b[A\n",
      "Epoch 1:  92%|█████████▏| 506/550 [07:38<00:39,  1.10it/s, loss=0.0199, v_num=to9m]\n",
      "Validating:  12%|█▏        | 6/50 [00:01<00:11,  3.87it/s]\u001b[A\n",
      "Epoch 1:  92%|█████████▏| 508/550 [07:39<00:37,  1.11it/s, loss=0.0199, v_num=to9m]\n",
      "Validating:  16%|█▌        | 8/50 [00:02<00:10,  3.95it/s]\u001b[A\n",
      "Epoch 1:  93%|█████████▎| 510/550 [07:39<00:36,  1.11it/s, loss=0.0199, v_num=to9m]\n",
      "Validating:  20%|██        | 10/50 [00:02<00:10,  3.82it/s]\u001b[A\n",
      "Epoch 1:  93%|█████████▎| 512/550 [07:40<00:34,  1.11it/s, loss=0.0199, v_num=to9m]\n",
      "Validating:  24%|██▍       | 12/50 [00:03<00:10,  3.66it/s]\u001b[A\n",
      "Epoch 1:  93%|█████████▎| 514/550 [07:40<00:32,  1.12it/s, loss=0.0199, v_num=to9m]\n",
      "Validating:  28%|██▊       | 14/50 [00:03<00:10,  3.59it/s]\u001b[A\n",
      "Epoch 1:  94%|█████████▍| 516/550 [07:41<00:30,  1.12it/s, loss=0.0199, v_num=to9m]\n",
      "Validating:  32%|███▏      | 16/50 [00:04<00:09,  3.44it/s]\u001b[A\n",
      "Epoch 1:  94%|█████████▍| 518/550 [07:41<00:28,  1.12it/s, loss=0.0199, v_num=to9m]\n",
      "Validating:  36%|███▌      | 18/50 [00:05<00:10,  3.01it/s]\u001b[A\n",
      "Epoch 1:  95%|█████████▍| 520/550 [07:42<00:26,  1.12it/s, loss=0.0199, v_num=to9m]\n",
      "Validating:  40%|████      | 20/50 [00:05<00:10,  2.94it/s]\u001b[A\n",
      "Epoch 1:  95%|█████████▍| 522/550 [07:43<00:24,  1.13it/s, loss=0.0199, v_num=to9m]\n",
      "Validating:  44%|████▍     | 22/50 [00:06<00:09,  3.09it/s]\u001b[A\n",
      "Epoch 1:  95%|█████████▌| 524/550 [07:43<00:23,  1.13it/s, loss=0.0199, v_num=to9m]\n",
      "Validating:  48%|████▊     | 24/50 [00:06<00:07,  3.38it/s]\u001b[A\n",
      "Epoch 1:  96%|█████████▌| 526/550 [07:44<00:21,  1.13it/s, loss=0.0199, v_num=to9m]\n",
      "Validating:  52%|█████▏    | 26/50 [00:07<00:06,  3.52it/s]\u001b[A\n",
      "Epoch 1:  96%|█████████▌| 528/550 [07:45<00:19,  1.14it/s, loss=0.0199, v_num=to9m]\n",
      "Validating:  56%|█████▌    | 28/50 [00:08<00:07,  3.13it/s]\u001b[A\n",
      "Epoch 1:  96%|█████████▋| 530/550 [07:45<00:17,  1.14it/s, loss=0.0199, v_num=to9m]\n",
      "Validating:  60%|██████    | 30/50 [00:08<00:05,  3.37it/s]\u001b[A\n",
      "Epoch 1:  97%|█████████▋| 532/550 [07:46<00:15,  1.14it/s, loss=0.0199, v_num=to9m]\n",
      "Validating:  64%|██████▍   | 32/50 [00:09<00:05,  3.41it/s]\u001b[A\n",
      "Epoch 1:  97%|█████████▋| 534/550 [07:46<00:13,  1.14it/s, loss=0.0199, v_num=to9m]\n",
      "Validating:  68%|██████▊   | 34/50 [00:09<00:04,  3.33it/s]\u001b[A\n",
      "Epoch 1:  97%|█████████▋| 536/550 [07:47<00:12,  1.15it/s, loss=0.0199, v_num=to9m]\n",
      "Validating:  72%|███████▏  | 36/50 [00:10<00:03,  3.64it/s]\u001b[A\n",
      "Epoch 1:  98%|█████████▊| 538/550 [07:48<00:10,  1.15it/s, loss=0.0199, v_num=to9m]\n",
      "Validating:  76%|███████▌  | 38/50 [00:11<00:03,  3.45it/s]\u001b[A\n",
      "Epoch 1:  98%|█████████▊| 540/550 [07:48<00:08,  1.15it/s, loss=0.0199, v_num=to9m]\n",
      "Validating:  80%|████████  | 40/50 [00:11<00:03,  3.30it/s]\u001b[A\n",
      "Epoch 1:  99%|█████████▊| 542/550 [07:49<00:06,  1.16it/s, loss=0.0199, v_num=to9m]\n",
      "Validating:  84%|████████▍ | 42/50 [00:12<00:02,  3.20it/s]\u001b[A\n",
      "Epoch 1:  99%|█████████▉| 544/550 [07:49<00:05,  1.16it/s, loss=0.0199, v_num=to9m]\n",
      "Validating:  88%|████████▊ | 44/50 [00:12<00:01,  3.52it/s]\u001b[A\n",
      "Epoch 1:  99%|█████████▉| 546/550 [07:50<00:03,  1.16it/s, loss=0.0199, v_num=to9m]\n",
      "Validating:  92%|█████████▏| 46/50 [00:13<00:01,  3.62it/s]\u001b[A\n",
      "Epoch 1: 100%|█████████▉| 548/550 [07:50<00:01,  1.16it/s, loss=0.0199, v_num=to9m]\n",
      "Validating:  96%|█████████▌| 48/50 [00:14<00:00,  3.78it/s]\u001b[A\n",
      "Epoch 1: 100%|██████████| 550/550 [07:51<00:00,  1.17it/s, loss=0.0199, v_num=to9m]\n",
      "Epoch 1: 100%|██████████| 550/550 [07:51<00:00,  1.17it/s, loss=0.0199, v_num=to9m]\n",
      "Epoch 2:  91%|█████████ | 500/550 [07:36<00:45,  1.09it/s, loss=0.0102, v_num=to9m]\n",
      "Validating: 0it [00:00, ?it/s]\u001b[A\n",
      "Validating:   0%|          | 0/50 [00:00<?, ?it/s]\u001b[A\n",
      "Epoch 2:  91%|█████████▏| 502/550 [07:37<00:43,  1.10it/s, loss=0.0102, v_num=to9m]\n",
      "Validating:   4%|▍         | 2/50 [00:00<00:13,  3.54it/s]\u001b[A\n",
      "Epoch 2:  92%|█████████▏| 504/550 [07:37<00:41,  1.10it/s, loss=0.0102, v_num=to9m]\n",
      "Validating:   8%|▊         | 4/50 [00:01<00:12,  3.57it/s]\u001b[A\n",
      "Epoch 2:  92%|█████████▏| 506/550 [07:38<00:39,  1.10it/s, loss=0.0102, v_num=to9m]\n",
      "Validating:  12%|█▏        | 6/50 [00:01<00:11,  3.87it/s]\u001b[A\n",
      "Epoch 2:  92%|█████████▏| 508/550 [07:38<00:37,  1.11it/s, loss=0.0102, v_num=to9m]\n",
      "Validating:  16%|█▌        | 8/50 [00:02<00:10,  3.95it/s]\u001b[A\n",
      "Epoch 2:  93%|█████████▎| 510/550 [07:39<00:36,  1.11it/s, loss=0.0102, v_num=to9m]\n",
      "Validating:  20%|██        | 10/50 [00:02<00:10,  3.81it/s]\u001b[A\n",
      "Epoch 2:  93%|█████████▎| 512/550 [07:39<00:34,  1.11it/s, loss=0.0102, v_num=to9m]\n",
      "Validating:  24%|██▍       | 12/50 [00:03<00:10,  3.67it/s]\u001b[A\n",
      "Epoch 2:  93%|█████████▎| 514/550 [07:40<00:32,  1.12it/s, loss=0.0102, v_num=to9m]\n",
      "Validating:  28%|██▊       | 14/50 [00:03<00:10,  3.56it/s]\u001b[A\n",
      "Epoch 2:  94%|█████████▍| 516/550 [07:40<00:30,  1.12it/s, loss=0.0102, v_num=to9m]\n",
      "Validating:  32%|███▏      | 16/50 [00:04<00:10,  3.39it/s]\u001b[A\n",
      "Epoch 2:  94%|█████████▍| 518/550 [07:41<00:28,  1.12it/s, loss=0.0102, v_num=to9m]\n",
      "Validating:  36%|███▌      | 18/50 [00:05<00:10,  2.95it/s]\u001b[A\n",
      "Epoch 2:  95%|█████████▍| 520/550 [07:42<00:26,  1.12it/s, loss=0.0102, v_num=to9m]\n",
      "Validating:  40%|████      | 20/50 [00:05<00:10,  2.90it/s]\u001b[A\n",
      "Epoch 2:  95%|█████████▍| 522/550 [07:42<00:24,  1.13it/s, loss=0.0102, v_num=to9m]\n",
      "Validating:  44%|████▍     | 22/50 [00:06<00:09,  3.08it/s]\u001b[A\n",
      "Epoch 2:  95%|█████████▌| 524/550 [07:43<00:23,  1.13it/s, loss=0.0102, v_num=to9m]\n",
      "Validating:  48%|████▊     | 24/50 [00:07<00:07,  3.35it/s]\u001b[A\n",
      "Epoch 2:  96%|█████████▌| 526/550 [07:44<00:21,  1.13it/s, loss=0.0102, v_num=to9m]\n",
      "Validating:  52%|█████▏    | 26/50 [00:07<00:06,  3.52it/s]\u001b[A\n",
      "Epoch 2:  96%|█████████▌| 528/550 [07:44<00:19,  1.14it/s, loss=0.0102, v_num=to9m]\n",
      "Validating:  56%|█████▌    | 28/50 [00:08<00:07,  3.13it/s]\u001b[A\n",
      "Epoch 2:  96%|█████████▋| 530/550 [07:45<00:17,  1.14it/s, loss=0.0102, v_num=to9m]\n",
      "Validating:  60%|██████    | 30/50 [00:08<00:05,  3.34it/s]\u001b[A\n",
      "Epoch 2:  97%|█████████▋| 532/550 [07:45<00:15,  1.14it/s, loss=0.0102, v_num=to9m]\n",
      "Validating:  64%|██████▍   | 32/50 [00:09<00:05,  3.41it/s]\u001b[A\n",
      "Epoch 2:  97%|█████████▋| 534/550 [07:46<00:13,  1.14it/s, loss=0.0102, v_num=to9m]\n",
      "Validating:  68%|██████▊   | 34/50 [00:10<00:04,  3.33it/s]\u001b[A\n",
      "Epoch 2:  97%|█████████▋| 536/550 [07:47<00:12,  1.15it/s, loss=0.0102, v_num=to9m]\n",
      "Validating:  72%|███████▏  | 36/50 [00:10<00:03,  3.64it/s]\u001b[A\n",
      "Epoch 2:  98%|█████████▊| 538/550 [07:47<00:10,  1.15it/s, loss=0.0102, v_num=to9m]\n",
      "Validating:  76%|███████▌  | 38/50 [00:11<00:03,  3.49it/s]\u001b[A\n",
      "Epoch 2:  98%|█████████▊| 540/550 [07:48<00:08,  1.15it/s, loss=0.0102, v_num=to9m]\n",
      "Validating:  80%|████████  | 40/50 [00:11<00:03,  3.32it/s]\u001b[A\n",
      "Epoch 2:  99%|█████████▊| 542/550 [07:48<00:06,  1.16it/s, loss=0.0102, v_num=to9m]\n",
      "Validating:  84%|████████▍ | 42/50 [00:12<00:02,  3.22it/s]\u001b[A\n",
      "Epoch 2:  99%|█████████▉| 544/550 [07:49<00:05,  1.16it/s, loss=0.0102, v_num=to9m]\n",
      "Validating:  88%|████████▊ | 44/50 [00:12<00:01,  3.52it/s]\u001b[A\n",
      "Epoch 2:  99%|█████████▉| 546/550 [07:50<00:03,  1.16it/s, loss=0.0102, v_num=to9m]\n",
      "Validating:  92%|█████████▏| 46/50 [00:13<00:01,  3.62it/s]\u001b[A\n",
      "Epoch 2: 100%|█████████▉| 548/550 [07:50<00:01,  1.16it/s, loss=0.0102, v_num=to9m]\n",
      "Validating:  96%|█████████▌| 48/50 [00:14<00:00,  3.77it/s]\u001b[A\n",
      "Epoch 2: 100%|██████████| 550/550 [07:51<00:00,  1.17it/s, loss=0.0102, v_num=to9m]\n",
      "Epoch 2: 100%|██████████| 550/550 [07:51<00:00,  1.17it/s, loss=0.0102, v_num=to9m]\n",
      "Epoch 3:  91%|█████████ | 500/550 [07:36<00:45,  1.09it/s, loss=0.00868, v_num=to9m]\n",
      "Validating: 0it [00:00, ?it/s]\u001b[A\n",
      "Validating:   0%|          | 0/50 [00:00<?, ?it/s]\u001b[A\n",
      "Epoch 3:  91%|█████████▏| 502/550 [07:37<00:43,  1.10it/s, loss=0.00868, v_num=to9m]\n",
      "Validating:   4%|▍         | 2/50 [00:00<00:13,  3.48it/s]\u001b[A\n",
      "Epoch 3:  92%|█████████▏| 504/550 [07:37<00:41,  1.10it/s, loss=0.00868, v_num=to9m]\n",
      "Validating:   8%|▊         | 4/50 [00:01<00:12,  3.56it/s]\u001b[A\n",
      "Epoch 3:  92%|█████████▏| 506/550 [07:38<00:39,  1.10it/s, loss=0.00868, v_num=to9m]\n",
      "Validating:  12%|█▏        | 6/50 [00:01<00:11,  3.87it/s]\u001b[A\n",
      "Epoch 3:  92%|█████████▏| 508/550 [07:38<00:37,  1.11it/s, loss=0.00868, v_num=to9m]\n",
      "Validating:  16%|█▌        | 8/50 [00:02<00:10,  3.91it/s]\u001b[A\n",
      "Epoch 3:  93%|█████████▎| 510/550 [07:39<00:36,  1.11it/s, loss=0.00868, v_num=to9m]\n",
      "Validating:  20%|██        | 10/50 [00:02<00:10,  3.74it/s]\u001b[A\n",
      "Epoch 3:  93%|█████████▎| 512/550 [07:39<00:34,  1.11it/s, loss=0.00868, v_num=to9m]\n",
      "Validating:  24%|██▍       | 12/50 [00:03<00:10,  3.63it/s]\u001b[A\n",
      "Epoch 3:  93%|█████████▎| 514/550 [07:40<00:32,  1.12it/s, loss=0.00868, v_num=to9m]\n",
      "Validating:  28%|██▊       | 14/50 [00:03<00:10,  3.56it/s]\u001b[A\n",
      "Epoch 3:  94%|█████████▍| 516/550 [07:40<00:30,  1.12it/s, loss=0.00868, v_num=to9m]\n",
      "Validating:  32%|███▏      | 16/50 [00:04<00:09,  3.43it/s]\u001b[A\n",
      "Epoch 3:  94%|█████████▍| 518/550 [07:41<00:28,  1.12it/s, loss=0.00868, v_num=to9m]\n",
      "Validating:  36%|███▌      | 18/50 [00:05<00:10,  2.98it/s]\u001b[A\n",
      "Epoch 3:  95%|█████████▍| 520/550 [07:42<00:26,  1.12it/s, loss=0.00868, v_num=to9m]\n",
      "Validating:  40%|████      | 20/50 [00:05<00:10,  2.90it/s]\u001b[A\n",
      "Epoch 3:  95%|█████████▍| 522/550 [07:43<00:24,  1.13it/s, loss=0.00868, v_num=to9m]\n",
      "Validating:  44%|████▍     | 22/50 [00:06<00:09,  3.06it/s]\u001b[A\n",
      "Epoch 3:  95%|█████████▌| 524/550 [07:43<00:23,  1.13it/s, loss=0.00868, v_num=to9m]\n",
      "Validating:  48%|████▊     | 24/50 [00:07<00:07,  3.37it/s]\u001b[A\n",
      "Epoch 3:  96%|█████████▌| 526/550 [07:44<00:21,  1.13it/s, loss=0.00868, v_num=to9m]\n",
      "Validating:  52%|█████▏    | 26/50 [00:07<00:06,  3.51it/s]\u001b[A\n",
      "Epoch 3:  96%|█████████▌| 528/550 [07:44<00:19,  1.14it/s, loss=0.00868, v_num=to9m]\n",
      "Validating:  56%|█████▌    | 28/50 [00:08<00:07,  3.13it/s]\u001b[A\n",
      "Epoch 3:  96%|█████████▋| 530/550 [07:45<00:17,  1.14it/s, loss=0.00868, v_num=to9m]\n",
      "Validating:  60%|██████    | 30/50 [00:08<00:06,  3.15it/s]\u001b[A\n",
      "Epoch 3:  97%|█████████▋| 532/550 [07:46<00:15,  1.14it/s, loss=0.00868, v_num=to9m]\n",
      "Validating:  64%|██████▍   | 32/50 [00:09<00:06,  2.97it/s]\u001b[A\n",
      "Epoch 3:  97%|█████████▋| 534/550 [07:46<00:13,  1.14it/s, loss=0.00868, v_num=to9m]\n",
      "Validating:  68%|██████▊   | 34/50 [00:10<00:05,  2.82it/s]\u001b[A\n",
      "Epoch 3:  97%|█████████▋| 536/550 [07:47<00:12,  1.15it/s, loss=0.00868, v_num=to9m]\n",
      "Validating:  72%|███████▏  | 36/50 [00:10<00:04,  3.17it/s]\u001b[A\n",
      "Epoch 3:  98%|█████████▊| 538/550 [07:48<00:10,  1.15it/s, loss=0.00868, v_num=to9m]\n",
      "Validating:  76%|███████▌  | 38/50 [00:11<00:03,  3.24it/s]\u001b[A\n",
      "Epoch 3:  98%|█████████▊| 540/550 [07:48<00:08,  1.15it/s, loss=0.00868, v_num=to9m]\n",
      "Validating:  80%|████████  | 40/50 [00:12<00:03,  3.18it/s]\u001b[A\n",
      "Epoch 3:  99%|█████████▊| 542/550 [07:49<00:06,  1.15it/s, loss=0.00868, v_num=to9m]\n",
      "Validating:  84%|████████▍ | 42/50 [00:12<00:02,  3.12it/s]\u001b[A\n",
      "Epoch 3:  99%|█████████▉| 544/550 [07:50<00:05,  1.16it/s, loss=0.00868, v_num=to9m]\n",
      "Validating:  88%|████████▊ | 44/50 [00:13<00:01,  3.42it/s]\u001b[A\n",
      "Epoch 3:  99%|█████████▉| 546/550 [07:50<00:03,  1.16it/s, loss=0.00868, v_num=to9m]\n",
      "Validating:  92%|█████████▏| 46/50 [00:13<00:01,  3.53it/s]\u001b[A\n",
      "Epoch 3: 100%|█████████▉| 548/550 [07:51<00:01,  1.16it/s, loss=0.00868, v_num=to9m]\n",
      "Validating:  96%|█████████▌| 48/50 [00:14<00:00,  3.72it/s]\u001b[A\n",
      "Epoch 3: 100%|██████████| 550/550 [07:51<00:00,  1.17it/s, loss=0.00868, v_num=to9m]\n",
      "Epoch 3: 100%|██████████| 550/550 [07:51<00:00,  1.17it/s, loss=0.00868, v_num=to9m]\n",
      "Epoch 4:  91%|█████████ | 500/550 [07:37<00:45,  1.09it/s, loss=0.00563, v_num=to9m]\n",
      "Validating: 0it [00:00, ?it/s]\u001b[A\n",
      "Validating:   0%|          | 0/50 [00:00<?, ?it/s]\u001b[A\n",
      "Epoch 4:  91%|█████████▏| 502/550 [07:37<00:43,  1.10it/s, loss=0.00563, v_num=to9m]\n",
      "Validating:   4%|▍         | 2/50 [00:00<00:13,  3.48it/s]\u001b[A\n",
      "Epoch 4:  92%|█████████▏| 504/550 [07:37<00:41,  1.10it/s, loss=0.00563, v_num=to9m]\n",
      "Validating:   8%|▊         | 4/50 [00:01<00:12,  3.56it/s]\u001b[A\n",
      "Epoch 4:  92%|█████████▏| 506/550 [07:38<00:39,  1.10it/s, loss=0.00563, v_num=to9m]\n",
      "Validating:  12%|█▏        | 6/50 [00:01<00:11,  3.87it/s]\u001b[A\n",
      "Epoch 4:  92%|█████████▏| 508/550 [07:39<00:37,  1.11it/s, loss=0.00563, v_num=to9m]\n",
      "Validating:  16%|█▌        | 8/50 [00:02<00:10,  3.96it/s]\u001b[A\n",
      "Epoch 4:  93%|█████████▎| 510/550 [07:39<00:36,  1.11it/s, loss=0.00563, v_num=to9m]\n",
      "Validating:  20%|██        | 10/50 [00:02<00:10,  3.81it/s]\u001b[A\n",
      "Epoch 4:  93%|█████████▎| 512/550 [07:40<00:34,  1.11it/s, loss=0.00563, v_num=to9m]\n",
      "Validating:  24%|██▍       | 12/50 [00:03<00:10,  3.68it/s]\u001b[A\n",
      "Epoch 4:  93%|█████████▎| 514/550 [07:40<00:32,  1.12it/s, loss=0.00563, v_num=to9m]\n",
      "Validating:  28%|██▊       | 14/50 [00:03<00:10,  3.58it/s]\u001b[A\n",
      "Epoch 4:  94%|█████████▍| 516/550 [07:41<00:30,  1.12it/s, loss=0.00563, v_num=to9m]\n",
      "Validating:  32%|███▏      | 16/50 [00:04<00:09,  3.42it/s]\u001b[A\n",
      "Epoch 4:  94%|█████████▍| 518/550 [07:41<00:28,  1.12it/s, loss=0.00563, v_num=to9m]\n",
      "Validating:  36%|███▌      | 18/50 [00:05<00:10,  2.99it/s]\u001b[A\n",
      "Epoch 4:  95%|█████████▍| 520/550 [07:42<00:26,  1.12it/s, loss=0.00563, v_num=to9m]\n",
      "Validating:  40%|████      | 20/50 [00:05<00:10,  2.92it/s]\u001b[A\n",
      "Epoch 4:  95%|█████████▍| 522/550 [07:43<00:24,  1.13it/s, loss=0.00563, v_num=to9m]\n",
      "Validating:  44%|████▍     | 22/50 [00:06<00:09,  3.09it/s]\u001b[A\n",
      "Epoch 4:  95%|█████████▌| 524/550 [07:43<00:23,  1.13it/s, loss=0.00563, v_num=to9m]\n",
      "Validating:  48%|████▊     | 24/50 [00:06<00:07,  3.40it/s]\u001b[A\n",
      "Epoch 4:  96%|█████████▌| 526/550 [07:44<00:21,  1.13it/s, loss=0.00563, v_num=to9m]\n",
      "Validating:  52%|█████▏    | 26/50 [00:07<00:06,  3.57it/s]\u001b[A\n",
      "Epoch 4:  96%|█████████▌| 528/550 [07:44<00:19,  1.14it/s, loss=0.00563, v_num=to9m]\n",
      "Validating:  56%|█████▌    | 28/50 [00:08<00:06,  3.16it/s]\u001b[A\n",
      "Epoch 4:  96%|█████████▋| 530/550 [07:45<00:17,  1.14it/s, loss=0.00563, v_num=to9m]\n",
      "Validating:  60%|██████    | 30/50 [00:08<00:05,  3.37it/s]\u001b[A\n",
      "Epoch 4:  97%|█████████▋| 532/550 [07:46<00:15,  1.14it/s, loss=0.00563, v_num=to9m]\n",
      "Validating:  64%|██████▍   | 32/50 [00:09<00:05,  3.42it/s]\u001b[A\n",
      "Epoch 4:  97%|█████████▋| 534/550 [07:46<00:13,  1.14it/s, loss=0.00563, v_num=to9m]\n",
      "Validating:  68%|██████▊   | 34/50 [00:09<00:04,  3.35it/s]\u001b[A\n",
      "Epoch 4:  97%|█████████▋| 536/550 [07:47<00:12,  1.15it/s, loss=0.00563, v_num=to9m]\n",
      "Validating:  72%|███████▏  | 36/50 [00:10<00:03,  3.66it/s]\u001b[A\n",
      "Epoch 4:  98%|█████████▊| 538/550 [07:47<00:10,  1.15it/s, loss=0.00563, v_num=to9m]\n",
      "Validating:  76%|███████▌  | 38/50 [00:11<00:03,  3.50it/s]\u001b[A\n",
      "Epoch 4:  98%|█████████▊| 540/550 [07:48<00:08,  1.15it/s, loss=0.00563, v_num=to9m]\n",
      "Validating:  80%|████████  | 40/50 [00:11<00:03,  3.33it/s]\u001b[A\n",
      "Epoch 4:  99%|█████████▊| 542/550 [07:49<00:06,  1.16it/s, loss=0.00563, v_num=to9m]\n",
      "Validating:  84%|████████▍ | 42/50 [00:12<00:02,  3.21it/s]\u001b[A\n",
      "Epoch 4:  99%|█████████▉| 544/550 [07:49<00:05,  1.16it/s, loss=0.00563, v_num=to9m]\n",
      "Validating:  88%|████████▊ | 44/50 [00:12<00:01,  3.51it/s]\u001b[A\n",
      "Epoch 4:  99%|█████████▉| 546/550 [07:50<00:03,  1.16it/s, loss=0.00563, v_num=to9m]\n",
      "Validating:  92%|█████████▏| 46/50 [00:13<00:01,  3.61it/s]\u001b[A\n",
      "Epoch 4: 100%|█████████▉| 548/550 [07:50<00:01,  1.16it/s, loss=0.00563, v_num=to9m]\n",
      "Validating:  96%|█████████▌| 48/50 [00:13<00:00,  3.76it/s]\u001b[A\n",
      "Epoch 4: 100%|██████████| 550/550 [07:51<00:00,  1.17it/s, loss=0.00563, v_num=to9m]\n",
      "Epoch 4: 100%|██████████| 550/550 [07:51<00:00,  1.17it/s, loss=0.00563, v_num=to9m]\n",
      "Epoch 5:  91%|█████████ | 500/550 [07:37<00:45,  1.09it/s, loss=0.00512, v_num=to9m]\n",
      "Validating: 0it [00:00, ?it/s]\u001b[A\n",
      "Validating:   0%|          | 0/50 [00:00<?, ?it/s]\u001b[A\n",
      "Epoch 5:  91%|█████████▏| 502/550 [07:37<00:43,  1.10it/s, loss=0.00512, v_num=to9m]\n",
      "Validating:   4%|▍         | 2/50 [00:00<00:13,  3.46it/s]\u001b[A\n",
      "Epoch 5:  92%|█████████▏| 504/550 [07:37<00:41,  1.10it/s, loss=0.00512, v_num=to9m]\n",
      "Validating:   8%|▊         | 4/50 [00:01<00:12,  3.56it/s]\u001b[A\n",
      "Epoch 5:  92%|█████████▏| 506/550 [07:38<00:39,  1.10it/s, loss=0.00512, v_num=to9m]\n",
      "Validating:  12%|█▏        | 6/50 [00:01<00:11,  3.89it/s]\u001b[A\n",
      "Epoch 5:  92%|█████████▏| 508/550 [07:38<00:37,  1.11it/s, loss=0.00512, v_num=to9m]\n",
      "Validating:  16%|█▌        | 8/50 [00:02<00:10,  3.99it/s]\u001b[A\n",
      "Epoch 5:  93%|█████████▎| 510/550 [07:39<00:36,  1.11it/s, loss=0.00512, v_num=to9m]\n",
      "Validating:  20%|██        | 10/50 [00:02<00:10,  3.84it/s]\u001b[A\n",
      "Epoch 5:  93%|█████████▎| 512/550 [07:39<00:34,  1.11it/s, loss=0.00512, v_num=to9m]\n",
      "Validating:  24%|██▍       | 12/50 [00:03<00:10,  3.70it/s]\u001b[A\n",
      "Epoch 5:  93%|█████████▎| 514/550 [07:40<00:32,  1.12it/s, loss=0.00512, v_num=to9m]\n",
      "Validating:  28%|██▊       | 14/50 [00:03<00:09,  3.62it/s]\u001b[A\n",
      "Epoch 5:  94%|█████████▍| 516/550 [07:41<00:30,  1.12it/s, loss=0.00512, v_num=to9m]\n",
      "Validating:  32%|███▏      | 16/50 [00:04<00:09,  3.48it/s]\u001b[A\n",
      "Epoch 5:  94%|█████████▍| 518/550 [07:41<00:28,  1.12it/s, loss=0.00512, v_num=to9m]\n",
      "Validating:  36%|███▌      | 18/50 [00:05<00:10,  3.01it/s]\u001b[A\n",
      "Epoch 5:  95%|█████████▍| 520/550 [07:42<00:26,  1.12it/s, loss=0.00512, v_num=to9m]\n",
      "Validating:  40%|████      | 20/50 [00:05<00:10,  2.94it/s]\u001b[A\n",
      "Epoch 5:  95%|█████████▍| 522/550 [07:43<00:24,  1.13it/s, loss=0.00512, v_num=to9m]\n",
      "Validating:  44%|████▍     | 22/50 [00:06<00:09,  3.11it/s]\u001b[A\n",
      "Epoch 5:  95%|█████████▌| 524/550 [07:43<00:23,  1.13it/s, loss=0.00512, v_num=to9m]\n",
      "Validating:  48%|████▊     | 24/50 [00:06<00:07,  3.42it/s]\u001b[A\n",
      "Epoch 5:  96%|█████████▌| 526/550 [07:44<00:21,  1.13it/s, loss=0.00512, v_num=to9m]\n",
      "Validating:  52%|█████▏    | 26/50 [00:07<00:06,  3.57it/s]\u001b[A\n",
      "Epoch 5:  96%|█████████▌| 528/550 [07:44<00:19,  1.14it/s, loss=0.00512, v_num=to9m]\n",
      "Validating:  56%|█████▌    | 28/50 [00:08<00:06,  3.17it/s]\u001b[A\n",
      "Epoch 5:  96%|█████████▋| 530/550 [07:45<00:17,  1.14it/s, loss=0.00512, v_num=to9m]\n",
      "Validating:  60%|██████    | 30/50 [00:08<00:05,  3.40it/s]\u001b[A\n",
      "Epoch 5:  97%|█████████▋| 532/550 [07:46<00:15,  1.14it/s, loss=0.00512, v_num=to9m]\n",
      "Validating:  64%|██████▍   | 32/50 [00:09<00:05,  3.46it/s]\u001b[A\n",
      "Epoch 5:  97%|█████████▋| 534/550 [07:46<00:13,  1.14it/s, loss=0.00512, v_num=to9m]\n",
      "Validating:  68%|██████▊   | 34/50 [00:09<00:04,  3.38it/s]\u001b[A\n",
      "Epoch 5:  97%|█████████▋| 536/550 [07:47<00:12,  1.15it/s, loss=0.00512, v_num=to9m]\n",
      "Validating:  72%|███████▏  | 36/50 [00:10<00:03,  3.68it/s]\u001b[A\n",
      "Epoch 5:  98%|█████████▊| 538/550 [07:47<00:10,  1.15it/s, loss=0.00512, v_num=to9m]\n",
      "Validating:  76%|███████▌  | 38/50 [00:11<00:03,  3.49it/s]\u001b[A\n",
      "Epoch 5:  98%|█████████▊| 540/550 [07:48<00:08,  1.15it/s, loss=0.00512, v_num=to9m]\n",
      "Validating:  80%|████████  | 40/50 [00:11<00:02,  3.34it/s]\u001b[A\n",
      "Epoch 5:  99%|█████████▊| 542/550 [07:48<00:06,  1.16it/s, loss=0.00512, v_num=to9m]\n",
      "Validating:  84%|████████▍ | 42/50 [00:12<00:02,  3.25it/s]\u001b[A\n",
      "Epoch 5:  99%|█████████▉| 544/550 [07:49<00:05,  1.16it/s, loss=0.00512, v_num=to9m]\n",
      "Validating:  88%|████████▊ | 44/50 [00:12<00:01,  3.55it/s]\u001b[A\n",
      "Epoch 5:  99%|█████████▉| 546/550 [07:50<00:03,  1.16it/s, loss=0.00512, v_num=to9m]\n",
      "Validating:  92%|█████████▏| 46/50 [00:13<00:01,  3.67it/s]\u001b[A\n",
      "Epoch 5: 100%|█████████▉| 548/550 [07:50<00:01,  1.16it/s, loss=0.00512, v_num=to9m]\n",
      "Validating:  96%|█████████▌| 48/50 [00:13<00:00,  3.82it/s]\u001b[A\n",
      "Epoch 5: 100%|██████████| 550/550 [07:51<00:00,  1.17it/s, loss=0.00512, v_num=to9m]\n",
      "Epoch 5: 100%|██████████| 550/550 [07:51<00:00,  1.17it/s, loss=0.00512, v_num=to9m]\n",
      "Epoch 6:  91%|█████████ | 500/550 [07:36<00:45,  1.09it/s, loss=0.00391, v_num=to9m]\n",
      "Validating: 0it [00:00, ?it/s]\u001b[A\n",
      "Validating:   0%|          | 0/50 [00:00<?, ?it/s]\u001b[A\n",
      "Epoch 6:  91%|█████████▏| 502/550 [07:37<00:43,  1.10it/s, loss=0.00391, v_num=to9m]\n",
      "Validating:   4%|▍         | 2/50 [00:00<00:13,  3.52it/s]\u001b[A\n",
      "Epoch 6:  92%|█████████▏| 504/550 [07:37<00:41,  1.10it/s, loss=0.00391, v_num=to9m]\n",
      "Validating:   8%|▊         | 4/50 [00:01<00:12,  3.60it/s]\u001b[A\n",
      "Epoch 6:  92%|█████████▏| 506/550 [07:38<00:39,  1.10it/s, loss=0.00391, v_num=to9m]\n",
      "Validating:  12%|█▏        | 6/50 [00:01<00:11,  3.92it/s]\u001b[A\n",
      "Epoch 6:  92%|█████████▏| 508/550 [07:38<00:37,  1.11it/s, loss=0.00391, v_num=to9m]\n",
      "Validating:  16%|█▌        | 8/50 [00:02<00:10,  3.99it/s]\u001b[A\n",
      "Epoch 6:  93%|█████████▎| 510/550 [07:39<00:36,  1.11it/s, loss=0.00391, v_num=to9m]\n",
      "Validating:  20%|██        | 10/50 [00:02<00:10,  3.84it/s]\u001b[A\n",
      "Epoch 6:  93%|█████████▎| 512/550 [07:39<00:34,  1.11it/s, loss=0.00391, v_num=to9m]\n",
      "Validating:  24%|██▍       | 12/50 [00:03<00:10,  3.71it/s]\u001b[A\n",
      "Epoch 6:  93%|█████████▎| 514/550 [07:40<00:32,  1.12it/s, loss=0.00391, v_num=to9m]\n",
      "Validating:  28%|██▊       | 14/50 [00:03<00:09,  3.61it/s]\u001b[A\n",
      "Epoch 6:  94%|█████████▍| 516/550 [07:40<00:30,  1.12it/s, loss=0.00391, v_num=to9m]\n",
      "Validating:  32%|███▏      | 16/50 [00:04<00:09,  3.48it/s]\u001b[A\n",
      "Epoch 6:  94%|█████████▍| 518/550 [07:41<00:28,  1.12it/s, loss=0.00391, v_num=to9m]\n",
      "Validating:  36%|███▌      | 18/50 [00:05<00:10,  3.02it/s]\u001b[A\n",
      "Epoch 6:  95%|█████████▍| 520/550 [07:42<00:26,  1.12it/s, loss=0.00391, v_num=to9m]\n",
      "Validating:  40%|████      | 20/50 [00:05<00:10,  2.95it/s]\u001b[A\n",
      "Epoch 6:  95%|█████████▍| 522/550 [07:42<00:24,  1.13it/s, loss=0.00391, v_num=to9m]\n",
      "Validating:  44%|████▍     | 22/50 [00:06<00:08,  3.13it/s]\u001b[A\n",
      "Epoch 6:  95%|█████████▌| 524/550 [07:43<00:22,  1.13it/s, loss=0.00391, v_num=to9m]\n",
      "Validating:  48%|████▊     | 24/50 [00:06<00:07,  3.42it/s]\u001b[A\n",
      "Epoch 6:  96%|█████████▌| 526/550 [07:44<00:21,  1.13it/s, loss=0.00391, v_num=to9m]\n",
      "Validating:  52%|█████▏    | 26/50 [00:07<00:06,  3.57it/s]\u001b[A\n",
      "Epoch 6:  96%|█████████▌| 528/550 [07:44<00:19,  1.14it/s, loss=0.00391, v_num=to9m]\n",
      "Validating:  56%|█████▌    | 28/50 [00:08<00:06,  3.17it/s]\u001b[A\n",
      "Epoch 6:  96%|█████████▋| 530/550 [07:45<00:17,  1.14it/s, loss=0.00391, v_num=to9m]\n",
      "Validating:  60%|██████    | 30/50 [00:08<00:05,  3.39it/s]\u001b[A\n",
      "Epoch 6:  97%|█████████▋| 532/550 [07:45<00:15,  1.14it/s, loss=0.00391, v_num=to9m]\n",
      "Validating:  64%|██████▍   | 32/50 [00:09<00:05,  3.46it/s]\u001b[A\n",
      "Epoch 6:  97%|█████████▋| 534/550 [07:46<00:13,  1.14it/s, loss=0.00391, v_num=to9m]\n",
      "Validating:  68%|██████▊   | 34/50 [00:09<00:04,  3.38it/s]\u001b[A\n",
      "Epoch 6:  97%|█████████▋| 536/550 [07:47<00:12,  1.15it/s, loss=0.00391, v_num=to9m]\n",
      "Validating:  72%|███████▏  | 36/50 [00:10<00:03,  3.68it/s]\u001b[A\n",
      "Epoch 6:  98%|█████████▊| 538/550 [07:47<00:10,  1.15it/s, loss=0.00391, v_num=to9m]\n",
      "Validating:  76%|███████▌  | 38/50 [00:11<00:03,  3.51it/s]\u001b[A\n",
      "Epoch 6:  98%|█████████▊| 540/550 [07:48<00:08,  1.15it/s, loss=0.00391, v_num=to9m]\n",
      "Validating:  80%|████████  | 40/50 [00:11<00:02,  3.35it/s]\u001b[A\n",
      "Epoch 6:  99%|█████████▊| 542/550 [07:48<00:06,  1.16it/s, loss=0.00391, v_num=to9m]\n",
      "Validating:  84%|████████▍ | 42/50 [00:12<00:02,  3.26it/s]\u001b[A\n",
      "Epoch 6:  99%|█████████▉| 544/550 [07:49<00:05,  1.16it/s, loss=0.00391, v_num=to9m]\n",
      "Validating:  88%|████████▊ | 44/50 [00:12<00:01,  3.56it/s]\u001b[A\n",
      "Epoch 6:  99%|█████████▉| 546/550 [07:49<00:03,  1.16it/s, loss=0.00391, v_num=to9m]\n",
      "Validating:  92%|█████████▏| 46/50 [00:13<00:01,  3.68it/s]\u001b[A\n",
      "Epoch 6: 100%|█████████▉| 548/550 [07:50<00:01,  1.16it/s, loss=0.00391, v_num=to9m]\n",
      "Validating:  96%|█████████▌| 48/50 [00:13<00:00,  3.83it/s]\u001b[A\n",
      "Epoch 6: 100%|██████████| 550/550 [07:50<00:00,  1.17it/s, loss=0.00391, v_num=to9m]\n",
      "Epoch 6: 100%|██████████| 550/550 [07:51<00:00,  1.17it/s, loss=0.00391, v_num=to9m]\n",
      "Epoch 7:  91%|█████████ | 500/550 [07:36<00:45,  1.09it/s, loss=0.00387, v_num=to9m]\n",
      "Validating: 0it [00:00, ?it/s]\u001b[A\n",
      "Validating:   0%|          | 0/50 [00:00<?, ?it/s]\u001b[A\n",
      "Epoch 7:  91%|█████████▏| 502/550 [07:37<00:43,  1.10it/s, loss=0.00387, v_num=to9m]\n",
      "Validating:   4%|▍         | 2/50 [00:00<00:13,  3.56it/s]\u001b[A\n",
      "Epoch 7:  92%|█████████▏| 504/550 [07:37<00:41,  1.10it/s, loss=0.00387, v_num=to9m]\n",
      "Validating:   8%|▊         | 4/50 [00:01<00:14,  3.26it/s]\u001b[A\n",
      "Epoch 7:  92%|█████████▏| 506/550 [07:38<00:39,  1.10it/s, loss=0.00387, v_num=to9m]\n",
      "Validating:  12%|█▏        | 6/50 [00:01<00:13,  3.38it/s]\u001b[A\n",
      "Epoch 7:  92%|█████████▏| 508/550 [07:38<00:37,  1.11it/s, loss=0.00387, v_num=to9m]\n",
      "Validating:  16%|█▌        | 8/50 [00:02<00:12,  3.31it/s]\u001b[A\n",
      "Epoch 7:  93%|█████████▎| 510/550 [07:39<00:36,  1.11it/s, loss=0.00387, v_num=to9m]\n",
      "Validating:  20%|██        | 10/50 [00:03<00:12,  3.22it/s]\u001b[A\n",
      "Epoch 7:  93%|█████████▎| 512/550 [07:40<00:34,  1.11it/s, loss=0.00387, v_num=to9m]\n",
      "Validating:  24%|██▍       | 12/50 [00:03<00:11,  3.34it/s]\u001b[A\n",
      "Epoch 7:  93%|█████████▎| 514/550 [07:40<00:32,  1.12it/s, loss=0.00387, v_num=to9m]\n",
      "Validating:  28%|██▊       | 14/50 [00:04<00:10,  3.39it/s]\u001b[A\n",
      "Epoch 7:  94%|█████████▍| 516/550 [07:41<00:30,  1.12it/s, loss=0.00387, v_num=to9m]\n",
      "Validating:  32%|███▏      | 16/50 [00:04<00:10,  3.35it/s]\u001b[A\n",
      "Epoch 7:  94%|█████████▍| 518/550 [07:42<00:28,  1.12it/s, loss=0.00387, v_num=to9m]\n",
      "Validating:  36%|███▌      | 18/50 [00:05<00:10,  2.96it/s]\u001b[A\n",
      "Epoch 7:  95%|█████████▍| 520/550 [07:42<00:26,  1.12it/s, loss=0.00387, v_num=to9m]\n",
      "Validating:  40%|████      | 20/50 [00:06<00:10,  2.91it/s]\u001b[A\n",
      "Epoch 7:  95%|█████████▍| 522/550 [07:43<00:24,  1.13it/s, loss=0.00387, v_num=to9m]\n",
      "Validating:  44%|████▍     | 22/50 [00:06<00:09,  3.08it/s]\u001b[A\n",
      "Epoch 7:  95%|█████████▌| 524/550 [07:43<00:23,  1.13it/s, loss=0.00387, v_num=to9m]\n",
      "Validating:  48%|████▊     | 24/50 [00:07<00:07,  3.40it/s]\u001b[A\n",
      "Epoch 7:  96%|█████████▌| 526/550 [07:44<00:21,  1.13it/s, loss=0.00387, v_num=to9m]\n",
      "Validating:  52%|█████▏    | 26/50 [00:07<00:06,  3.53it/s]\u001b[A\n",
      "Epoch 7:  96%|█████████▌| 528/550 [07:45<00:19,  1.14it/s, loss=0.00387, v_num=to9m]\n",
      "Validating:  56%|█████▌    | 28/50 [00:08<00:07,  3.14it/s]\u001b[A\n",
      "Epoch 7:  96%|█████████▋| 530/550 [07:45<00:17,  1.14it/s, loss=0.00387, v_num=to9m]\n",
      "Validating:  60%|██████    | 30/50 [00:09<00:05,  3.36it/s]\u001b[A\n",
      "Epoch 7:  97%|█████████▋| 532/550 [07:46<00:15,  1.14it/s, loss=0.00387, v_num=to9m]\n",
      "Validating:  64%|██████▍   | 32/50 [00:09<00:05,  3.42it/s]\u001b[A\n",
      "Epoch 7:  97%|█████████▋| 534/550 [07:46<00:13,  1.14it/s, loss=0.00387, v_num=to9m]\n",
      "Validating:  68%|██████▊   | 34/50 [00:10<00:04,  3.35it/s]\u001b[A\n",
      "Epoch 7:  97%|█████████▋| 536/550 [07:47<00:12,  1.15it/s, loss=0.00387, v_num=to9m]\n",
      "Validating:  72%|███████▏  | 36/50 [00:10<00:03,  3.65it/s]\u001b[A\n",
      "Epoch 7:  98%|█████████▊| 538/550 [07:48<00:10,  1.15it/s, loss=0.00387, v_num=to9m]\n",
      "Validating:  76%|███████▌  | 38/50 [00:11<00:03,  3.47it/s]\u001b[A\n",
      "Epoch 7:  98%|█████████▊| 540/550 [07:48<00:08,  1.15it/s, loss=0.00387, v_num=to9m]\n",
      "Validating:  80%|████████  | 40/50 [00:12<00:03,  3.32it/s]\u001b[A\n",
      "Epoch 7:  99%|█████████▊| 542/550 [07:49<00:06,  1.15it/s, loss=0.00387, v_num=to9m]\n",
      "Validating:  84%|████████▍ | 42/50 [00:12<00:02,  3.21it/s]\u001b[A\n",
      "Epoch 7:  99%|█████████▉| 544/550 [07:49<00:05,  1.16it/s, loss=0.00387, v_num=to9m]\n",
      "Validating:  88%|████████▊ | 44/50 [00:13<00:01,  3.52it/s]\u001b[A\n",
      "Epoch 7:  99%|█████████▉| 546/550 [07:50<00:03,  1.16it/s, loss=0.00387, v_num=to9m]\n",
      "Validating:  92%|█████████▏| 46/50 [00:13<00:01,  3.62it/s]\u001b[A\n",
      "Epoch 7: 100%|█████████▉| 548/550 [07:51<00:01,  1.16it/s, loss=0.00387, v_num=to9m]\n",
      "Validating:  96%|█████████▌| 48/50 [00:14<00:00,  3.78it/s]\u001b[A\n",
      "Epoch 7: 100%|██████████| 550/550 [07:51<00:00,  1.17it/s, loss=0.00387, v_num=to9m]\n",
      "Epoch 7: 100%|██████████| 550/550 [07:51<00:00,  1.17it/s, loss=0.00387, v_num=to9m]\n",
      "Epoch 8:  91%|█████████ | 500/550 [07:36<00:45,  1.09it/s, loss=0.00488, v_num=to9m]\n",
      "Validating: 0it [00:00, ?it/s]\u001b[A\n",
      "Validating:   0%|          | 0/50 [00:00<?, ?it/s]\u001b[A\n",
      "Epoch 8:  91%|█████████▏| 502/550 [07:37<00:43,  1.10it/s, loss=0.00488, v_num=to9m]\n",
      "Validating:   4%|▍         | 2/50 [00:00<00:13,  3.49it/s]\u001b[A\n",
      "Epoch 8:  92%|█████████▏| 504/550 [07:37<00:41,  1.10it/s, loss=0.00488, v_num=to9m]\n",
      "Validating:   8%|▊         | 4/50 [00:01<00:13,  3.53it/s]\u001b[A\n",
      "Epoch 8:  92%|█████████▏| 506/550 [07:38<00:39,  1.10it/s, loss=0.00488, v_num=to9m]\n",
      "Validating:  12%|█▏        | 6/50 [00:01<00:11,  3.89it/s]\u001b[A\n",
      "Epoch 8:  92%|█████████▏| 508/550 [07:38<00:37,  1.11it/s, loss=0.00488, v_num=to9m]\n",
      "Validating:  16%|█▌        | 8/50 [00:02<00:10,  3.93it/s]\u001b[A\n",
      "Epoch 8:  93%|█████████▎| 510/550 [07:39<00:36,  1.11it/s, loss=0.00488, v_num=to9m]\n",
      "Validating:  20%|██        | 10/50 [00:02<00:10,  3.77it/s]\u001b[A\n",
      "Epoch 8:  93%|█████████▎| 512/550 [07:39<00:34,  1.11it/s, loss=0.00488, v_num=to9m]\n",
      "Validating:  24%|██▍       | 12/50 [00:03<00:10,  3.62it/s]\u001b[A\n",
      "Epoch 8:  93%|█████████▎| 514/550 [07:40<00:32,  1.12it/s, loss=0.00488, v_num=to9m]\n",
      "Validating:  28%|██▊       | 14/50 [00:03<00:10,  3.55it/s]\u001b[A\n",
      "Epoch 8:  94%|█████████▍| 516/550 [07:40<00:30,  1.12it/s, loss=0.00488, v_num=to9m]\n",
      "Validating:  32%|███▏      | 16/50 [00:04<00:09,  3.42it/s]\u001b[A\n",
      "Epoch 8:  94%|█████████▍| 518/550 [07:41<00:28,  1.12it/s, loss=0.00488, v_num=to9m]\n",
      "Validating:  36%|███▌      | 18/50 [00:05<00:10,  2.98it/s]\u001b[A\n",
      "Epoch 8:  95%|█████████▍| 520/550 [07:42<00:26,  1.12it/s, loss=0.00488, v_num=to9m]\n",
      "Validating:  40%|████      | 20/50 [00:05<00:10,  2.91it/s]\u001b[A\n",
      "Epoch 8:  95%|█████████▍| 522/550 [07:42<00:24,  1.13it/s, loss=0.00488, v_num=to9m]\n",
      "Validating:  44%|████▍     | 22/50 [00:06<00:09,  3.07it/s]\u001b[A\n",
      "Epoch 8:  95%|█████████▌| 524/550 [07:43<00:22,  1.13it/s, loss=0.00488, v_num=to9m]\n",
      "Validating:  48%|████▊     | 24/50 [00:07<00:07,  3.38it/s]\u001b[A\n",
      "Epoch 8:  96%|█████████▌| 526/550 [07:44<00:21,  1.13it/s, loss=0.00488, v_num=to9m]\n",
      "Validating:  52%|█████▏    | 26/50 [00:07<00:06,  3.50it/s]\u001b[A\n",
      "Epoch 8:  96%|█████████▌| 528/550 [07:44<00:19,  1.14it/s, loss=0.00488, v_num=to9m]\n",
      "Validating:  56%|█████▌    | 28/50 [00:08<00:07,  3.13it/s]\u001b[A\n",
      "Epoch 8:  96%|█████████▋| 530/550 [07:45<00:17,  1.14it/s, loss=0.00488, v_num=to9m]\n",
      "Validating:  60%|██████    | 30/50 [00:08<00:05,  3.34it/s]\u001b[A\n",
      "Epoch 8:  97%|█████████▋| 532/550 [07:45<00:15,  1.14it/s, loss=0.00488, v_num=to9m]\n",
      "Validating:  64%|██████▍   | 32/50 [00:09<00:05,  3.40it/s]\u001b[A\n",
      "Epoch 8:  97%|█████████▋| 534/550 [07:46<00:13,  1.14it/s, loss=0.00488, v_num=to9m]\n",
      "Validating:  68%|██████▊   | 34/50 [00:10<00:04,  3.33it/s]\u001b[A\n",
      "Epoch 8:  97%|█████████▋| 536/550 [07:47<00:12,  1.15it/s, loss=0.00488, v_num=to9m]\n",
      "Validating:  72%|███████▏  | 36/50 [00:10<00:03,  3.63it/s]\u001b[A\n",
      "Epoch 8:  98%|█████████▊| 538/550 [07:47<00:10,  1.15it/s, loss=0.00488, v_num=to9m]\n",
      "Validating:  76%|███████▌  | 38/50 [00:11<00:03,  3.45it/s]\u001b[A\n",
      "Epoch 8:  98%|█████████▊| 540/550 [07:48<00:08,  1.15it/s, loss=0.00488, v_num=to9m]\n",
      "Validating:  80%|████████  | 40/50 [00:11<00:03,  3.28it/s]\u001b[A\n",
      "Epoch 8:  99%|█████████▊| 542/550 [07:48<00:06,  1.16it/s, loss=0.00488, v_num=to9m]\n",
      "Validating:  84%|████████▍ | 42/50 [00:12<00:02,  2.94it/s]\u001b[A\n",
      "Epoch 8:  99%|█████████▉| 544/550 [07:49<00:05,  1.16it/s, loss=0.00488, v_num=to9m]\n",
      "Validating:  88%|████████▊ | 44/50 [00:13<00:01,  3.05it/s]\u001b[A\n",
      "Epoch 8:  99%|█████████▉| 546/550 [07:50<00:03,  1.16it/s, loss=0.00488, v_num=to9m]\n",
      "Validating:  92%|█████████▏| 46/50 [00:13<00:01,  3.02it/s]\u001b[A\n",
      "Epoch 8: 100%|█████████▉| 548/550 [07:50<00:01,  1.16it/s, loss=0.00488, v_num=to9m]\n",
      "Validating:  96%|█████████▌| 48/50 [00:14<00:00,  3.29it/s]\u001b[A\n",
      "Epoch 8: 100%|██████████| 550/550 [07:51<00:00,  1.17it/s, loss=0.00488, v_num=to9m]\n",
      "Epoch 8: 100%|██████████| 550/550 [07:51<00:00,  1.17it/s, loss=0.00488, v_num=to9m]\n",
      "Epoch 9:  91%|█████████ | 500/550 [07:37<00:45,  1.09it/s, loss=0.0034, v_num=to9m] \n",
      "Validating: 0it [00:00, ?it/s]\u001b[A\n",
      "Validating:   0%|          | 0/50 [00:00<?, ?it/s]\u001b[A\n",
      "Epoch 9:  91%|█████████▏| 502/550 [07:37<00:43,  1.10it/s, loss=0.0034, v_num=to9m]\n",
      "Validating:   4%|▍         | 2/50 [00:00<00:13,  3.52it/s]\u001b[A\n",
      "Epoch 9:  92%|█████████▏| 504/550 [07:37<00:41,  1.10it/s, loss=0.0034, v_num=to9m]\n",
      "Validating:   8%|▊         | 4/50 [00:01<00:12,  3.58it/s]\u001b[A\n",
      "Epoch 9:  92%|█████████▏| 506/550 [07:38<00:39,  1.10it/s, loss=0.0034, v_num=to9m]\n",
      "Validating:  12%|█▏        | 6/50 [00:01<00:11,  3.91it/s]\u001b[A\n",
      "Epoch 9:  92%|█████████▏| 508/550 [07:39<00:37,  1.11it/s, loss=0.0034, v_num=to9m]\n",
      "Validating:  16%|█▌        | 8/50 [00:02<00:10,  3.97it/s]\u001b[A\n",
      "Epoch 9:  93%|█████████▎| 510/550 [07:39<00:36,  1.11it/s, loss=0.0034, v_num=to9m]\n",
      "Validating:  20%|██        | 10/50 [00:02<00:10,  3.83it/s]\u001b[A\n",
      "Epoch 9:  93%|█████████▎| 512/550 [07:40<00:34,  1.11it/s, loss=0.0034, v_num=to9m]\n",
      "Validating:  24%|██▍       | 12/50 [00:03<00:10,  3.68it/s]\u001b[A\n",
      "Epoch 9:  93%|█████████▎| 514/550 [07:40<00:32,  1.12it/s, loss=0.0034, v_num=to9m]\n",
      "Validating:  28%|██▊       | 14/50 [00:03<00:10,  3.59it/s]\u001b[A\n",
      "Epoch 9:  94%|█████████▍| 516/550 [07:41<00:30,  1.12it/s, loss=0.0034, v_num=to9m]\n",
      "Validating:  32%|███▏      | 16/50 [00:04<00:09,  3.45it/s]\u001b[A\n",
      "Epoch 9:  94%|█████████▍| 518/550 [07:41<00:28,  1.12it/s, loss=0.0034, v_num=to9m]\n",
      "Validating:  36%|███▌      | 18/50 [00:05<00:10,  2.99it/s]\u001b[A\n",
      "Epoch 9:  95%|█████████▍| 520/550 [07:42<00:26,  1.12it/s, loss=0.0034, v_num=to9m]\n",
      "Validating:  40%|████      | 20/50 [00:05<00:10,  2.90it/s]\u001b[A\n",
      "Epoch 9:  95%|█████████▍| 522/550 [07:43<00:24,  1.13it/s, loss=0.0034, v_num=to9m]\n",
      "Validating:  44%|████▍     | 22/50 [00:06<00:09,  3.06it/s]\u001b[A\n",
      "Epoch 9:  95%|█████████▌| 524/550 [07:43<00:23,  1.13it/s, loss=0.0034, v_num=to9m]\n",
      "Validating:  48%|████▊     | 24/50 [00:06<00:07,  3.37it/s]\u001b[A\n",
      "Epoch 9:  96%|█████████▌| 526/550 [07:44<00:21,  1.13it/s, loss=0.0034, v_num=to9m]\n",
      "Validating:  52%|█████▏    | 26/50 [00:07<00:06,  3.52it/s]\u001b[A\n",
      "Epoch 9:  96%|█████████▌| 528/550 [07:45<00:19,  1.14it/s, loss=0.0034, v_num=to9m]\n",
      "Validating:  56%|█████▌    | 28/50 [00:08<00:06,  3.14it/s]\u001b[A\n",
      "Epoch 9:  96%|█████████▋| 530/550 [07:45<00:17,  1.14it/s, loss=0.0034, v_num=to9m]\n",
      "Validating:  60%|██████    | 30/50 [00:08<00:05,  3.36it/s]\u001b[A\n",
      "Epoch 9:  97%|█████████▋| 532/550 [07:46<00:15,  1.14it/s, loss=0.0034, v_num=to9m]\n",
      "Validating:  64%|██████▍   | 32/50 [00:09<00:05,  3.42it/s]\u001b[A\n",
      "Epoch 9:  97%|█████████▋| 534/550 [07:46<00:13,  1.14it/s, loss=0.0034, v_num=to9m]\n",
      "Validating:  68%|██████▊   | 34/50 [00:09<00:04,  3.36it/s]\u001b[A\n",
      "Epoch 9:  97%|█████████▋| 536/550 [07:47<00:12,  1.15it/s, loss=0.0034, v_num=to9m]\n",
      "Validating:  72%|███████▏  | 36/50 [00:10<00:03,  3.66it/s]\u001b[A\n",
      "Epoch 9:  98%|█████████▊| 538/550 [07:48<00:10,  1.15it/s, loss=0.0034, v_num=to9m]\n",
      "Validating:  76%|███████▌  | 38/50 [00:11<00:03,  3.48it/s]\u001b[A\n",
      "Epoch 9:  98%|█████████▊| 540/550 [07:48<00:08,  1.15it/s, loss=0.0034, v_num=to9m]\n",
      "Validating:  80%|████████  | 40/50 [00:11<00:03,  3.33it/s]\u001b[A\n",
      "Epoch 9:  99%|█████████▊| 542/550 [07:49<00:06,  1.16it/s, loss=0.0034, v_num=to9m]\n",
      "Validating:  84%|████████▍ | 42/50 [00:12<00:02,  3.21it/s]\u001b[A\n",
      "Epoch 9:  99%|█████████▉| 544/550 [07:49<00:05,  1.16it/s, loss=0.0034, v_num=to9m]\n",
      "Validating:  88%|████████▊ | 44/50 [00:12<00:01,  3.51it/s]\u001b[A\n",
      "Epoch 9:  99%|█████████▉| 546/550 [07:50<00:03,  1.16it/s, loss=0.0034, v_num=to9m]\n",
      "Validating:  92%|█████████▏| 46/50 [00:13<00:01,  3.62it/s]\u001b[A\n",
      "Epoch 9: 100%|█████████▉| 548/550 [07:50<00:01,  1.16it/s, loss=0.0034, v_num=to9m]\n",
      "Validating:  96%|█████████▌| 48/50 [00:13<00:00,  3.77it/s]\u001b[A\n",
      "Epoch 9: 100%|██████████| 550/550 [07:51<00:00,  1.17it/s, loss=0.0034, v_num=to9m]\n",
      "Epoch 9: 100%|██████████| 550/550 [07:51<00:00,  1.17it/s, loss=0.0034, v_num=to9m]\n",
      "Epoch 10:  91%|█████████ | 500/550 [07:36<00:45,  1.10it/s, loss=0.00368, v_num=to9m]\n",
      "Validating: 0it [00:00, ?it/s]\u001b[A\n",
      "Validating:   0%|          | 0/50 [00:00<?, ?it/s]\u001b[A\n",
      "Epoch 10:  91%|█████████▏| 502/550 [07:36<00:43,  1.10it/s, loss=0.00368, v_num=to9m]\n",
      "Validating:   4%|▍         | 2/50 [00:00<00:13,  3.47it/s]\u001b[A\n",
      "Epoch 10:  92%|█████████▏| 504/550 [07:37<00:41,  1.10it/s, loss=0.00368, v_num=to9m]\n",
      "Validating:   8%|▊         | 4/50 [00:01<00:12,  3.54it/s]\u001b[A\n",
      "Epoch 10:  92%|█████████▏| 506/550 [07:37<00:39,  1.11it/s, loss=0.00368, v_num=to9m]\n",
      "Validating:  12%|█▏        | 6/50 [00:01<00:11,  3.87it/s]\u001b[A\n",
      "Epoch 10:  92%|█████████▏| 508/550 [07:38<00:37,  1.11it/s, loss=0.00368, v_num=to9m]\n",
      "Validating:  16%|█▌        | 8/50 [00:02<00:10,  3.92it/s]\u001b[A\n",
      "Epoch 10:  93%|█████████▎| 510/550 [07:38<00:35,  1.11it/s, loss=0.00368, v_num=to9m]\n",
      "Validating:  20%|██        | 10/50 [00:02<00:10,  3.76it/s]\u001b[A\n",
      "Epoch 10:  93%|█████████▎| 512/550 [07:39<00:34,  1.11it/s, loss=0.00368, v_num=to9m]\n",
      "Validating:  24%|██▍       | 12/50 [00:03<00:10,  3.63it/s]\u001b[A\n",
      "Epoch 10:  93%|█████████▎| 514/550 [07:40<00:32,  1.12it/s, loss=0.00368, v_num=to9m]\n",
      "Validating:  28%|██▊       | 14/50 [00:03<00:10,  3.54it/s]\u001b[A\n",
      "Epoch 10:  94%|█████████▍| 516/550 [07:40<00:30,  1.12it/s, loss=0.00368, v_num=to9m]\n",
      "Validating:  32%|███▏      | 16/50 [00:04<00:09,  3.41it/s]\u001b[A\n",
      "Epoch 10:  94%|█████████▍| 518/550 [07:41<00:28,  1.12it/s, loss=0.00368, v_num=to9m]\n",
      "Validating:  36%|███▌      | 18/50 [00:05<00:10,  2.97it/s]\u001b[A\n",
      "Epoch 10:  95%|█████████▍| 520/550 [07:42<00:26,  1.13it/s, loss=0.00368, v_num=to9m]\n",
      "Validating:  40%|████      | 20/50 [00:05<00:10,  2.90it/s]\u001b[A\n",
      "Epoch 10:  95%|█████████▍| 522/550 [07:42<00:24,  1.13it/s, loss=0.00368, v_num=to9m]\n",
      "Validating:  44%|████▍     | 22/50 [00:06<00:09,  3.06it/s]\u001b[A\n",
      "Epoch 10:  95%|█████████▌| 524/550 [07:43<00:22,  1.13it/s, loss=0.00368, v_num=to9m]\n",
      "Validating:  48%|████▊     | 24/50 [00:07<00:07,  3.38it/s]\u001b[A\n",
      "Epoch 10:  96%|█████████▌| 526/550 [07:43<00:21,  1.13it/s, loss=0.00368, v_num=to9m]\n",
      "Validating:  52%|█████▏    | 26/50 [00:07<00:06,  3.51it/s]\u001b[A\n",
      "Epoch 10:  96%|█████████▌| 528/550 [07:44<00:19,  1.14it/s, loss=0.00368, v_num=to9m]\n",
      "Validating:  56%|█████▌    | 28/50 [00:08<00:07,  3.12it/s]\u001b[A\n",
      "Epoch 10:  96%|█████████▋| 530/550 [07:45<00:17,  1.14it/s, loss=0.00368, v_num=to9m]\n",
      "Validating:  60%|██████    | 30/50 [00:08<00:06,  3.33it/s]\u001b[A\n",
      "Epoch 10:  97%|█████████▋| 532/550 [07:45<00:15,  1.14it/s, loss=0.00368, v_num=to9m]\n",
      "Validating:  64%|██████▍   | 32/50 [00:09<00:05,  3.40it/s]\u001b[A\n",
      "Epoch 10:  97%|█████████▋| 534/550 [07:46<00:13,  1.15it/s, loss=0.00368, v_num=to9m]\n",
      "Validating:  68%|██████▊   | 34/50 [00:10<00:04,  3.33it/s]\u001b[A\n",
      "Epoch 10:  97%|█████████▋| 536/550 [07:46<00:12,  1.15it/s, loss=0.00368, v_num=to9m]\n",
      "Validating:  72%|███████▏  | 36/50 [00:10<00:03,  3.62it/s]\u001b[A\n",
      "Epoch 10:  98%|█████████▊| 538/550 [07:47<00:10,  1.15it/s, loss=0.00368, v_num=to9m]\n",
      "Validating:  76%|███████▌  | 38/50 [00:11<00:03,  3.46it/s]\u001b[A\n",
      "Epoch 10:  98%|█████████▊| 540/550 [07:48<00:08,  1.15it/s, loss=0.00368, v_num=to9m]\n",
      "Validating:  80%|████████  | 40/50 [00:11<00:03,  3.28it/s]\u001b[A\n",
      "Epoch 10:  99%|█████████▊| 542/550 [07:48<00:06,  1.16it/s, loss=0.00368, v_num=to9m]\n",
      "Validating:  84%|████████▍ | 42/50 [00:12<00:02,  3.18it/s]\u001b[A\n",
      "Epoch 10:  99%|█████████▉| 544/550 [07:49<00:05,  1.16it/s, loss=0.00368, v_num=to9m]\n",
      "Validating:  88%|████████▊ | 44/50 [00:13<00:01,  3.48it/s]\u001b[A\n",
      "Epoch 10:  99%|█████████▉| 546/550 [07:49<00:03,  1.16it/s, loss=0.00368, v_num=to9m]\n",
      "Validating:  92%|█████████▏| 46/50 [00:13<00:01,  3.59it/s]\u001b[A\n",
      "Epoch 10: 100%|█████████▉| 548/550 [07:50<00:01,  1.16it/s, loss=0.00368, v_num=to9m]\n",
      "Validating:  96%|█████████▌| 48/50 [00:14<00:00,  3.75it/s]\u001b[A\n",
      "Epoch 10: 100%|██████████| 550/550 [07:50<00:00,  1.17it/s, loss=0.00368, v_num=to9m]\n",
      "Epoch 10: 100%|██████████| 550/550 [07:51<00:00,  1.17it/s, loss=0.00368, v_num=to9m]\n",
      "Epoch 11:  91%|█████████ | 500/550 [07:36<00:45,  1.09it/s, loss=0.00325, v_num=to9m]\n",
      "Validating: 0it [00:00, ?it/s]\u001b[A\n",
      "Validating:   0%|          | 0/50 [00:00<?, ?it/s]\u001b[A\n",
      "Epoch 11:  91%|█████████▏| 502/550 [07:37<00:43,  1.10it/s, loss=0.00325, v_num=to9m]\n",
      "Validating:   4%|▍         | 2/50 [00:00<00:13,  3.52it/s]\u001b[A\n",
      "Epoch 11:  92%|█████████▏| 504/550 [07:37<00:41,  1.10it/s, loss=0.00325, v_num=to9m]\n",
      "Validating:   8%|▊         | 4/50 [00:01<00:12,  3.59it/s]\u001b[A\n",
      "Epoch 11:  92%|█████████▏| 506/550 [07:38<00:39,  1.10it/s, loss=0.00325, v_num=to9m]\n",
      "Validating:  12%|█▏        | 6/50 [00:01<00:11,  3.91it/s]\u001b[A\n",
      "Epoch 11:  92%|█████████▏| 508/550 [07:38<00:37,  1.11it/s, loss=0.00325, v_num=to9m]\n",
      "Validating:  16%|█▌        | 8/50 [00:02<00:10,  3.98it/s]\u001b[A\n",
      "Epoch 11:  93%|█████████▎| 510/550 [07:39<00:36,  1.11it/s, loss=0.00325, v_num=to9m]\n",
      "Validating:  20%|██        | 10/50 [00:02<00:10,  3.84it/s]\u001b[A\n",
      "Epoch 11:  93%|█████████▎| 512/550 [07:39<00:34,  1.11it/s, loss=0.00325, v_num=to9m]\n",
      "Validating:  24%|██▍       | 12/50 [00:03<00:10,  3.70it/s]\u001b[A\n",
      "Epoch 11:  93%|█████████▎| 514/550 [07:40<00:32,  1.12it/s, loss=0.00325, v_num=to9m]\n",
      "Validating:  28%|██▊       | 14/50 [00:03<00:09,  3.61it/s]\u001b[A\n",
      "Epoch 11:  94%|█████████▍| 516/550 [07:40<00:30,  1.12it/s, loss=0.00325, v_num=to9m]\n",
      "Validating:  32%|███▏      | 16/50 [00:04<00:09,  3.48it/s]\u001b[A\n",
      "Epoch 11:  94%|█████████▍| 518/550 [07:41<00:28,  1.12it/s, loss=0.00325, v_num=to9m]\n",
      "Validating:  36%|███▌      | 18/50 [00:05<00:10,  3.03it/s]\u001b[A\n",
      "Epoch 11:  95%|█████████▍| 520/550 [07:42<00:26,  1.12it/s, loss=0.00325, v_num=to9m]\n",
      "Validating:  40%|████      | 20/50 [00:05<00:10,  2.96it/s]\u001b[A\n",
      "Epoch 11:  95%|█████████▍| 522/550 [07:43<00:24,  1.13it/s, loss=0.00325, v_num=to9m]\n",
      "Validating:  44%|████▍     | 22/50 [00:06<00:08,  3.13it/s]\u001b[A\n",
      "Epoch 11:  95%|█████████▌| 524/550 [07:43<00:23,  1.13it/s, loss=0.00325, v_num=to9m]\n",
      "Validating:  48%|████▊     | 24/50 [00:06<00:07,  3.43it/s]\u001b[A\n",
      "Epoch 11:  96%|█████████▌| 526/550 [07:44<00:21,  1.13it/s, loss=0.00325, v_num=to9m]\n",
      "Validating:  52%|█████▏    | 26/50 [00:07<00:06,  3.56it/s]\u001b[A\n",
      "Epoch 11:  96%|█████████▌| 528/550 [07:44<00:19,  1.14it/s, loss=0.00325, v_num=to9m]\n",
      "Validating:  56%|█████▌    | 28/50 [00:08<00:07,  3.14it/s]\u001b[A\n",
      "Epoch 11:  96%|█████████▋| 530/550 [07:45<00:17,  1.14it/s, loss=0.00325, v_num=to9m]\n",
      "Validating:  60%|██████    | 30/50 [00:08<00:05,  3.34it/s]\u001b[A\n",
      "Epoch 11:  97%|█████████▋| 532/550 [07:46<00:15,  1.14it/s, loss=0.00325, v_num=to9m]\n",
      "Validating:  64%|██████▍   | 32/50 [00:09<00:05,  3.42it/s]\u001b[A\n",
      "Epoch 11:  97%|█████████▋| 534/550 [07:46<00:13,  1.14it/s, loss=0.00325, v_num=to9m]\n",
      "Validating:  68%|██████▊   | 34/50 [00:09<00:04,  3.36it/s]\u001b[A\n",
      "Epoch 11:  97%|█████████▋| 536/550 [07:47<00:12,  1.15it/s, loss=0.00325, v_num=to9m]\n",
      "Validating:  72%|███████▏  | 36/50 [00:10<00:03,  3.66it/s]\u001b[A\n",
      "Epoch 11:  98%|█████████▊| 538/550 [07:47<00:10,  1.15it/s, loss=0.00325, v_num=to9m]\n",
      "Validating:  76%|███████▌  | 38/50 [00:11<00:03,  3.49it/s]\u001b[A\n",
      "Epoch 11:  98%|█████████▊| 540/550 [07:48<00:08,  1.15it/s, loss=0.00325, v_num=to9m]\n",
      "Validating:  80%|████████  | 40/50 [00:11<00:03,  3.33it/s]\u001b[A\n",
      "Epoch 11:  99%|█████████▊| 542/550 [07:48<00:06,  1.16it/s, loss=0.00325, v_num=to9m]\n",
      "Validating:  84%|████████▍ | 42/50 [00:12<00:02,  3.23it/s]\u001b[A\n",
      "Epoch 11:  99%|█████████▉| 544/550 [07:49<00:05,  1.16it/s, loss=0.00325, v_num=to9m]\n",
      "Validating:  88%|████████▊ | 44/50 [00:12<00:01,  3.54it/s]\u001b[A\n",
      "Epoch 11:  99%|█████████▉| 546/550 [07:50<00:03,  1.16it/s, loss=0.00325, v_num=to9m]\n",
      "Validating:  92%|█████████▏| 46/50 [00:13<00:01,  3.65it/s]\u001b[A\n",
      "Epoch 11: 100%|█████████▉| 548/550 [07:50<00:01,  1.16it/s, loss=0.00325, v_num=to9m]\n",
      "Validating:  96%|█████████▌| 48/50 [00:13<00:00,  3.82it/s]\u001b[A\n",
      "Epoch 11: 100%|██████████| 550/550 [07:51<00:00,  1.17it/s, loss=0.00325, v_num=to9m]\n",
      "Epoch 11: 100%|██████████| 550/550 [07:51<00:00,  1.17it/s, loss=0.00325, v_num=to9m]\n",
      "Epoch 12:  91%|█████████ | 500/550 [07:37<00:45,  1.09it/s, loss=0.00222, v_num=to9m]\n",
      "Validating: 0it [00:00, ?it/s]\u001b[A\n",
      "Validating:   0%|          | 0/50 [00:00<?, ?it/s]\u001b[A\n",
      "Epoch 12:  91%|█████████▏| 502/550 [07:37<00:43,  1.10it/s, loss=0.00222, v_num=to9m]\n",
      "Validating:   4%|▍         | 2/50 [00:00<00:14,  3.32it/s]\u001b[A\n",
      "Epoch 12:  92%|█████████▏| 504/550 [07:37<00:41,  1.10it/s, loss=0.00222, v_num=to9m]\n",
      "Validating:   8%|▊         | 4/50 [00:01<00:13,  3.48it/s]\u001b[A\n",
      "Epoch 12:  92%|█████████▏| 506/550 [07:38<00:39,  1.10it/s, loss=0.00222, v_num=to9m]\n",
      "Validating:  12%|█▏        | 6/50 [00:01<00:11,  3.82it/s]\u001b[A\n",
      "Epoch 12:  92%|█████████▏| 508/550 [07:38<00:37,  1.11it/s, loss=0.00222, v_num=to9m]\n",
      "Validating:  16%|█▌        | 8/50 [00:02<00:10,  3.88it/s]\u001b[A\n",
      "Epoch 12:  93%|█████████▎| 510/550 [07:39<00:36,  1.11it/s, loss=0.00222, v_num=to9m]\n",
      "Validating:  20%|██        | 10/50 [00:02<00:10,  3.77it/s]\u001b[A\n",
      "Epoch 12:  93%|█████████▎| 512/550 [07:40<00:34,  1.11it/s, loss=0.00222, v_num=to9m]\n",
      "Validating:  24%|██▍       | 12/50 [00:03<00:10,  3.64it/s]\u001b[A\n",
      "Epoch 12:  93%|█████████▎| 514/550 [07:40<00:32,  1.12it/s, loss=0.00222, v_num=to9m]\n",
      "Validating:  28%|██▊       | 14/50 [00:03<00:10,  3.58it/s]\u001b[A\n",
      "Epoch 12:  94%|█████████▍| 516/550 [07:41<00:30,  1.12it/s, loss=0.00222, v_num=to9m]\n",
      "Validating:  32%|███▏      | 16/50 [00:04<00:09,  3.45it/s]\u001b[A\n",
      "Epoch 12:  94%|█████████▍| 518/550 [07:41<00:28,  1.12it/s, loss=0.00222, v_num=to9m]\n",
      "Validating:  36%|███▌      | 18/50 [00:05<00:10,  3.00it/s]\u001b[A\n",
      "Epoch 12:  95%|█████████▍| 520/550 [07:42<00:26,  1.12it/s, loss=0.00222, v_num=to9m]\n",
      "Validating:  40%|████      | 20/50 [00:05<00:10,  2.92it/s]\u001b[A\n",
      "Epoch 12:  95%|█████████▍| 522/550 [07:43<00:24,  1.13it/s, loss=0.00222, v_num=to9m]\n",
      "Validating:  44%|████▍     | 22/50 [00:06<00:09,  3.09it/s]\u001b[A\n",
      "Epoch 12:  95%|█████████▌| 524/550 [07:43<00:23,  1.13it/s, loss=0.00222, v_num=to9m]\n",
      "Validating:  48%|████▊     | 24/50 [00:07<00:07,  3.39it/s]\u001b[A\n",
      "Epoch 12:  96%|█████████▌| 526/550 [07:44<00:21,  1.13it/s, loss=0.00222, v_num=to9m]\n",
      "Validating:  52%|█████▏    | 26/50 [00:07<00:06,  3.52it/s]\u001b[A\n",
      "Epoch 12:  96%|█████████▌| 528/550 [07:44<00:19,  1.14it/s, loss=0.00222, v_num=to9m]\n",
      "Validating:  56%|█████▌    | 28/50 [00:08<00:07,  3.14it/s]\u001b[A\n",
      "Epoch 12:  96%|█████████▋| 530/550 [07:45<00:17,  1.14it/s, loss=0.00222, v_num=to9m]\n",
      "Validating:  60%|██████    | 30/50 [00:08<00:05,  3.36it/s]\u001b[A\n",
      "Epoch 12:  97%|█████████▋| 532/550 [07:46<00:15,  1.14it/s, loss=0.00222, v_num=to9m]\n",
      "Validating:  64%|██████▍   | 32/50 [00:09<00:05,  3.44it/s]\u001b[A\n",
      "Epoch 12:  97%|█████████▋| 534/550 [07:46<00:13,  1.14it/s, loss=0.00222, v_num=to9m]\n",
      "Validating:  68%|██████▊   | 34/50 [00:10<00:04,  3.35it/s]\u001b[A\n",
      "Epoch 12:  97%|█████████▋| 536/550 [07:47<00:12,  1.15it/s, loss=0.00222, v_num=to9m]\n",
      "Validating:  72%|███████▏  | 36/50 [00:10<00:03,  3.65it/s]\u001b[A\n",
      "Epoch 12:  98%|█████████▊| 538/550 [07:47<00:10,  1.15it/s, loss=0.00222, v_num=to9m]\n",
      "Validating:  76%|███████▌  | 38/50 [00:11<00:03,  3.48it/s]\u001b[A\n",
      "Epoch 12:  98%|█████████▊| 540/550 [07:48<00:08,  1.15it/s, loss=0.00222, v_num=to9m]\n",
      "Validating:  80%|████████  | 40/50 [00:11<00:03,  3.32it/s]\u001b[A\n",
      "Epoch 12:  99%|█████████▊| 542/550 [07:49<00:06,  1.16it/s, loss=0.00222, v_num=to9m]\n",
      "Validating:  84%|████████▍ | 42/50 [00:12<00:02,  3.22it/s]\u001b[A\n",
      "Epoch 12:  99%|█████████▉| 544/550 [07:49<00:05,  1.16it/s, loss=0.00222, v_num=to9m]\n",
      "Validating:  88%|████████▊ | 44/50 [00:12<00:01,  3.52it/s]\u001b[A\n",
      "Epoch 12:  99%|█████████▉| 546/550 [07:50<00:03,  1.16it/s, loss=0.00222, v_num=to9m]\n",
      "Validating:  92%|█████████▏| 46/50 [00:13<00:01,  3.62it/s]\u001b[A\n",
      "Epoch 12: 100%|█████████▉| 548/550 [07:50<00:01,  1.16it/s, loss=0.00222, v_num=to9m]\n",
      "Validating:  96%|█████████▌| 48/50 [00:14<00:00,  3.76it/s]\u001b[A\n",
      "Epoch 12: 100%|██████████| 550/550 [07:51<00:00,  1.17it/s, loss=0.00222, v_num=to9m]\n",
      "Epoch 12: 100%|██████████| 550/550 [07:51<00:00,  1.17it/s, loss=0.00222, v_num=to9m]\n",
      "Epoch 13:  91%|█████████ | 500/550 [07:37<00:45,  1.09it/s, loss=0.00223, v_num=to9m]\n",
      "Validating: 0it [00:00, ?it/s]\u001b[A\n",
      "Validating:   0%|          | 0/50 [00:00<?, ?it/s]\u001b[A\n",
      "Epoch 13:  91%|█████████▏| 502/550 [07:37<00:43,  1.10it/s, loss=0.00223, v_num=to9m]\n",
      "Validating:   4%|▍         | 2/50 [00:00<00:13,  3.50it/s]\u001b[A\n",
      "Epoch 13:  92%|█████████▏| 504/550 [07:38<00:41,  1.10it/s, loss=0.00223, v_num=to9m]\n",
      "Validating:   8%|▊         | 4/50 [00:01<00:12,  3.54it/s]\u001b[A\n",
      "Epoch 13:  92%|█████████▏| 506/550 [07:38<00:39,  1.10it/s, loss=0.00223, v_num=to9m]\n",
      "Validating:  12%|█▏        | 6/50 [00:01<00:11,  3.85it/s]\u001b[A\n",
      "Epoch 13:  92%|█████████▏| 508/550 [07:39<00:37,  1.11it/s, loss=0.00223, v_num=to9m]\n",
      "Validating:  16%|█▌        | 8/50 [00:02<00:10,  3.92it/s]\u001b[A\n",
      "Epoch 13:  93%|█████████▎| 510/550 [07:39<00:36,  1.11it/s, loss=0.00223, v_num=to9m]\n",
      "Validating:  20%|██        | 10/50 [00:02<00:10,  3.78it/s]\u001b[A\n",
      "Epoch 13:  93%|█████████▎| 512/550 [07:40<00:34,  1.11it/s, loss=0.00223, v_num=to9m]\n",
      "Validating:  24%|██▍       | 12/50 [00:03<00:10,  3.64it/s]\u001b[A\n",
      "Epoch 13:  93%|█████████▎| 514/550 [07:40<00:32,  1.12it/s, loss=0.00223, v_num=to9m]\n",
      "Validating:  28%|██▊       | 14/50 [00:03<00:10,  3.56it/s]\u001b[A\n",
      "Epoch 13:  94%|█████████▍| 516/550 [07:41<00:30,  1.12it/s, loss=0.00223, v_num=to9m]\n",
      "Validating:  32%|███▏      | 16/50 [00:04<00:09,  3.42it/s]\u001b[A\n",
      "Epoch 13:  94%|█████████▍| 518/550 [07:42<00:28,  1.12it/s, loss=0.00223, v_num=to9m]\n",
      "Validating:  36%|███▌      | 18/50 [00:05<00:10,  2.97it/s]\u001b[A\n",
      "Epoch 13:  95%|█████████▍| 520/550 [07:42<00:26,  1.12it/s, loss=0.00223, v_num=to9m]\n",
      "Validating:  40%|████      | 20/50 [00:05<00:10,  2.90it/s]\u001b[A\n",
      "Epoch 13:  95%|█████████▍| 522/550 [07:43<00:24,  1.13it/s, loss=0.00223, v_num=to9m]\n",
      "Validating:  44%|████▍     | 22/50 [00:06<00:09,  3.06it/s]\u001b[A\n",
      "Epoch 13:  95%|█████████▌| 524/550 [07:44<00:23,  1.13it/s, loss=0.00223, v_num=to9m]\n",
      "Validating:  48%|████▊     | 24/50 [00:07<00:07,  3.36it/s]\u001b[A\n",
      "Epoch 13:  96%|█████████▌| 526/550 [07:44<00:21,  1.13it/s, loss=0.00223, v_num=to9m]\n",
      "Validating:  52%|█████▏    | 26/50 [00:07<00:06,  3.51it/s]\u001b[A\n",
      "Epoch 13:  96%|█████████▌| 528/550 [07:45<00:19,  1.13it/s, loss=0.00223, v_num=to9m]\n",
      "Validating:  56%|█████▌    | 28/50 [00:08<00:06,  3.15it/s]\u001b[A\n",
      "Epoch 13:  96%|█████████▋| 530/550 [07:46<00:17,  1.14it/s, loss=0.00223, v_num=to9m]\n",
      "Validating:  60%|██████    | 30/50 [00:08<00:05,  3.35it/s]\u001b[A\n",
      "Epoch 13:  97%|█████████▋| 532/550 [07:46<00:15,  1.14it/s, loss=0.00223, v_num=to9m]\n",
      "Validating:  64%|██████▍   | 32/50 [00:09<00:05,  3.40it/s]\u001b[A\n",
      "Epoch 13:  97%|█████████▋| 534/550 [07:47<00:13,  1.14it/s, loss=0.00223, v_num=to9m]\n",
      "Validating:  68%|██████▊   | 34/50 [00:10<00:04,  3.31it/s]\u001b[A\n",
      "Epoch 13:  97%|█████████▋| 536/550 [07:47<00:12,  1.15it/s, loss=0.00223, v_num=to9m]\n",
      "Validating:  72%|███████▏  | 36/50 [00:10<00:03,  3.60it/s]\u001b[A\n",
      "Epoch 13:  98%|█████████▊| 538/550 [07:48<00:10,  1.15it/s, loss=0.00223, v_num=to9m]\n",
      "Validating:  76%|███████▌  | 38/50 [00:11<00:03,  3.42it/s]\u001b[A\n",
      "Epoch 13:  98%|█████████▊| 540/550 [07:48<00:08,  1.15it/s, loss=0.00223, v_num=to9m]\n",
      "Validating:  80%|████████  | 40/50 [00:11<00:03,  3.27it/s]\u001b[A\n",
      "Epoch 13:  99%|█████████▊| 542/550 [07:49<00:06,  1.15it/s, loss=0.00223, v_num=to9m]\n",
      "Validating:  84%|████████▍ | 42/50 [00:12<00:02,  3.19it/s]\u001b[A\n",
      "Epoch 13:  99%|█████████▉| 544/550 [07:50<00:05,  1.16it/s, loss=0.00223, v_num=to9m]\n",
      "Validating:  88%|████████▊ | 44/50 [00:13<00:01,  3.48it/s]\u001b[A\n",
      "Epoch 13:  99%|█████████▉| 546/550 [07:50<00:03,  1.16it/s, loss=0.00223, v_num=to9m]\n",
      "Validating:  92%|█████████▏| 46/50 [00:13<00:01,  3.59it/s]\u001b[A\n",
      "Epoch 13: 100%|█████████▉| 548/550 [07:51<00:01,  1.16it/s, loss=0.00223, v_num=to9m]\n",
      "Validating:  96%|█████████▌| 48/50 [00:14<00:00,  3.75it/s]\u001b[A\n",
      "Epoch 13: 100%|██████████| 550/550 [07:51<00:00,  1.17it/s, loss=0.00223, v_num=to9m]\n",
      "Epoch 13: 100%|██████████| 550/550 [07:51<00:00,  1.17it/s, loss=0.00223, v_num=to9m]\n",
      "Epoch 14:  91%|█████████ | 500/550 [07:36<00:45,  1.09it/s, loss=0.00165, v_num=to9m]\n",
      "Validating: 0it [00:00, ?it/s]\u001b[A\n",
      "Validating:   0%|          | 0/50 [00:00<?, ?it/s]\u001b[A\n",
      "Epoch 14:  91%|█████████▏| 502/550 [07:37<00:43,  1.10it/s, loss=0.00165, v_num=to9m]\n",
      "Validating:   4%|▍         | 2/50 [00:00<00:13,  3.46it/s]\u001b[A\n",
      "Epoch 14:  92%|█████████▏| 504/550 [07:37<00:41,  1.10it/s, loss=0.00165, v_num=to9m]\n",
      "Validating:   8%|▊         | 4/50 [00:01<00:12,  3.55it/s]\u001b[A\n",
      "Epoch 14:  92%|█████████▏| 506/550 [07:38<00:39,  1.10it/s, loss=0.00165, v_num=to9m]\n",
      "Validating:  12%|█▏        | 6/50 [00:01<00:11,  3.87it/s]\u001b[A\n",
      "Epoch 14:  92%|█████████▏| 508/550 [07:38<00:37,  1.11it/s, loss=0.00165, v_num=to9m]\n",
      "Validating:  16%|█▌        | 8/50 [00:02<00:10,  3.93it/s]\u001b[A\n",
      "Epoch 14:  93%|█████████▎| 510/550 [07:39<00:36,  1.11it/s, loss=0.00165, v_num=to9m]\n",
      "Validating:  20%|██        | 10/50 [00:02<00:10,  3.79it/s]\u001b[A\n",
      "Epoch 14:  93%|█████████▎| 512/550 [07:39<00:34,  1.11it/s, loss=0.00165, v_num=to9m]\n",
      "Validating:  24%|██▍       | 12/50 [00:03<00:10,  3.67it/s]\u001b[A\n",
      "Epoch 14:  93%|█████████▎| 514/550 [07:40<00:32,  1.12it/s, loss=0.00165, v_num=to9m]\n",
      "Validating:  28%|██▊       | 14/50 [00:03<00:10,  3.58it/s]\u001b[A\n",
      "Epoch 14:  94%|█████████▍| 516/550 [07:40<00:30,  1.12it/s, loss=0.00165, v_num=to9m]\n",
      "Validating:  32%|███▏      | 16/50 [00:04<00:09,  3.42it/s]\u001b[A\n",
      "Epoch 14:  94%|█████████▍| 518/550 [07:41<00:28,  1.12it/s, loss=0.00165, v_num=to9m]\n",
      "Validating:  36%|███▌      | 18/50 [00:05<00:11,  2.90it/s]\u001b[A\n",
      "Epoch 14:  95%|█████████▍| 520/550 [07:42<00:26,  1.12it/s, loss=0.00165, v_num=to9m]\n",
      "Validating:  40%|████      | 20/50 [00:06<00:11,  2.53it/s]\u001b[A\n",
      "Epoch 14:  95%|█████████▍| 522/550 [07:43<00:24,  1.13it/s, loss=0.00165, v_num=to9m]\n",
      "Validating:  44%|████▍     | 22/50 [00:06<00:10,  2.58it/s]\u001b[A\n",
      "Epoch 14:  95%|█████████▌| 524/550 [07:43<00:23,  1.13it/s, loss=0.00165, v_num=to9m]\n",
      "Validating:  48%|████▊     | 24/50 [00:07<00:08,  2.95it/s]\u001b[A\n",
      "Epoch 14:  96%|█████████▌| 526/550 [07:44<00:21,  1.13it/s, loss=0.00165, v_num=to9m]\n",
      "Validating:  52%|█████▏    | 26/50 [00:07<00:07,  3.27it/s]\u001b[A\n",
      "Epoch 14:  96%|█████████▌| 528/550 [07:45<00:19,  1.13it/s, loss=0.00165, v_num=to9m]\n",
      "Validating:  56%|█████▌    | 28/50 [00:08<00:07,  3.02it/s]\u001b[A\n",
      "Epoch 14:  96%|█████████▋| 530/550 [07:45<00:17,  1.14it/s, loss=0.00165, v_num=to9m]\n",
      "Validating:  60%|██████    | 30/50 [00:09<00:06,  3.28it/s]\u001b[A\n",
      "Epoch 14:  97%|█████████▋| 532/550 [07:46<00:15,  1.14it/s, loss=0.00165, v_num=to9m]\n",
      "Validating:  64%|██████▍   | 32/50 [00:09<00:05,  3.38it/s]\u001b[A\n",
      "Epoch 14:  97%|█████████▋| 534/550 [07:47<00:13,  1.14it/s, loss=0.00165, v_num=to9m]\n",
      "Validating:  68%|██████▊   | 34/50 [00:10<00:04,  3.33it/s]\u001b[A\n",
      "Epoch 14:  97%|█████████▋| 536/550 [07:47<00:12,  1.15it/s, loss=0.00165, v_num=to9m]\n",
      "Validating:  72%|███████▏  | 36/50 [00:10<00:03,  3.63it/s]\u001b[A\n",
      "Epoch 14:  98%|█████████▊| 538/550 [07:48<00:10,  1.15it/s, loss=0.00165, v_num=to9m]\n",
      "Validating:  76%|███████▌  | 38/50 [00:11<00:03,  3.47it/s]\u001b[A\n",
      "Epoch 14:  98%|█████████▊| 540/550 [07:48<00:08,  1.15it/s, loss=0.00165, v_num=to9m]\n",
      "Validating:  80%|████████  | 40/50 [00:12<00:03,  3.31it/s]\u001b[A\n",
      "Epoch 14:  99%|█████████▊| 542/550 [07:49<00:06,  1.15it/s, loss=0.00165, v_num=to9m]\n",
      "Validating:  84%|████████▍ | 42/50 [00:12<00:02,  3.19it/s]\u001b[A\n",
      "Epoch 14:  99%|█████████▉| 544/550 [07:50<00:05,  1.16it/s, loss=0.00165, v_num=to9m]\n",
      "Validating:  88%|████████▊ | 44/50 [00:13<00:01,  3.49it/s]\u001b[A\n",
      "Epoch 14:  99%|█████████▉| 546/550 [07:50<00:03,  1.16it/s, loss=0.00165, v_num=to9m]\n",
      "Validating:  92%|█████████▏| 46/50 [00:13<00:01,  3.62it/s]\u001b[A\n",
      "Epoch 14: 100%|█████████▉| 548/550 [07:51<00:01,  1.16it/s, loss=0.00165, v_num=to9m]\n",
      "Validating:  96%|█████████▌| 48/50 [00:14<00:00,  3.76it/s]\u001b[A\n",
      "Epoch 14: 100%|██████████| 550/550 [07:51<00:00,  1.17it/s, loss=0.00165, v_num=to9m]\n",
      "Epoch 14: 100%|██████████| 550/550 [07:51<00:00,  1.17it/s, loss=0.00165, v_num=to9m]\n",
      "Epoch 15:  91%|█████████ | 500/550 [07:36<00:45,  1.09it/s, loss=0.00156, v_num=to9m]\n",
      "Validating: 0it [00:00, ?it/s]\u001b[A\n",
      "Validating:   0%|          | 0/50 [00:00<?, ?it/s]\u001b[A\n",
      "Epoch 15:  91%|█████████▏| 502/550 [07:37<00:43,  1.10it/s, loss=0.00156, v_num=to9m]\n",
      "Validating:   4%|▍         | 2/50 [00:00<00:13,  3.51it/s]\u001b[A\n",
      "Epoch 15:  92%|█████████▏| 504/550 [07:37<00:41,  1.10it/s, loss=0.00156, v_num=to9m]\n",
      "Validating:   8%|▊         | 4/50 [00:01<00:12,  3.61it/s]\u001b[A\n",
      "Epoch 15:  92%|█████████▏| 506/550 [07:38<00:39,  1.10it/s, loss=0.00156, v_num=to9m]\n",
      "Validating:  12%|█▏        | 6/50 [00:01<00:11,  3.92it/s]\u001b[A\n",
      "Epoch 15:  92%|█████████▏| 508/550 [07:38<00:37,  1.11it/s, loss=0.00156, v_num=to9m]\n",
      "Validating:  16%|█▌        | 8/50 [00:02<00:10,  3.98it/s]\u001b[A\n",
      "Epoch 15:  93%|█████████▎| 510/550 [07:39<00:36,  1.11it/s, loss=0.00156, v_num=to9m]\n",
      "Validating:  20%|██        | 10/50 [00:02<00:10,  3.84it/s]\u001b[A\n",
      "Epoch 15:  93%|█████████▎| 512/550 [07:39<00:34,  1.11it/s, loss=0.00156, v_num=to9m]\n",
      "Validating:  24%|██▍       | 12/50 [00:03<00:10,  3.70it/s]\u001b[A\n",
      "Epoch 15:  93%|█████████▎| 514/550 [07:40<00:32,  1.12it/s, loss=0.00156, v_num=to9m]\n",
      "Validating:  28%|██▊       | 14/50 [00:03<00:09,  3.62it/s]\u001b[A\n",
      "Epoch 15:  94%|█████████▍| 516/550 [07:40<00:30,  1.12it/s, loss=0.00156, v_num=to9m]\n",
      "Validating:  32%|███▏      | 16/50 [00:04<00:09,  3.47it/s]\u001b[A\n",
      "Epoch 15:  94%|█████████▍| 518/550 [07:41<00:28,  1.12it/s, loss=0.00156, v_num=to9m]\n",
      "Validating:  36%|███▌      | 18/50 [00:05<00:10,  3.02it/s]\u001b[A\n",
      "Epoch 15:  95%|█████████▍| 520/550 [07:42<00:26,  1.12it/s, loss=0.00156, v_num=to9m]\n",
      "Validating:  40%|████      | 20/50 [00:05<00:10,  2.95it/s]\u001b[A\n",
      "Epoch 15:  95%|█████████▍| 522/550 [07:42<00:24,  1.13it/s, loss=0.00156, v_num=to9m]\n",
      "Validating:  44%|████▍     | 22/50 [00:06<00:08,  3.12it/s]\u001b[A\n",
      "Epoch 15:  95%|█████████▌| 524/550 [07:43<00:22,  1.13it/s, loss=0.00156, v_num=to9m]\n",
      "Validating:  48%|████▊     | 24/50 [00:06<00:07,  3.42it/s]\u001b[A\n",
      "Epoch 15:  96%|█████████▌| 526/550 [07:44<00:21,  1.13it/s, loss=0.00156, v_num=to9m]\n",
      "Validating:  52%|█████▏    | 26/50 [00:07<00:06,  3.57it/s]\u001b[A\n",
      "Epoch 15:  96%|█████████▌| 528/550 [07:44<00:19,  1.14it/s, loss=0.00156, v_num=to9m]\n",
      "Validating:  56%|█████▌    | 28/50 [00:08<00:06,  3.17it/s]\u001b[A\n",
      "Epoch 15:  96%|█████████▋| 530/550 [07:45<00:17,  1.14it/s, loss=0.00156, v_num=to9m]\n",
      "Validating:  60%|██████    | 30/50 [00:08<00:05,  3.37it/s]\u001b[A\n",
      "Epoch 15:  97%|█████████▋| 532/550 [07:45<00:15,  1.14it/s, loss=0.00156, v_num=to9m]\n",
      "Validating:  64%|██████▍   | 32/50 [00:09<00:05,  3.44it/s]\u001b[A\n",
      "Epoch 15:  97%|█████████▋| 534/550 [07:46<00:13,  1.14it/s, loss=0.00156, v_num=to9m]\n",
      "Validating:  68%|██████▊   | 34/50 [00:09<00:04,  3.37it/s]\u001b[A\n",
      "Epoch 15:  97%|█████████▋| 536/550 [07:47<00:12,  1.15it/s, loss=0.00156, v_num=to9m]\n",
      "Validating:  72%|███████▏  | 36/50 [00:10<00:03,  3.66it/s]\u001b[A\n",
      "Epoch 15:  98%|█████████▊| 538/550 [07:47<00:10,  1.15it/s, loss=0.00156, v_num=to9m]\n",
      "Validating:  76%|███████▌  | 38/50 [00:11<00:03,  3.49it/s]\u001b[A\n",
      "Epoch 15:  98%|█████████▊| 540/550 [07:48<00:08,  1.15it/s, loss=0.00156, v_num=to9m]\n",
      "Validating:  80%|████████  | 40/50 [00:11<00:03,  3.31it/s]\u001b[A\n",
      "Epoch 15:  99%|█████████▊| 542/550 [07:48<00:06,  1.16it/s, loss=0.00156, v_num=to9m]\n",
      "Validating:  84%|████████▍ | 42/50 [00:12<00:02,  3.22it/s]\u001b[A\n",
      "Epoch 15:  99%|█████████▉| 544/550 [07:49<00:05,  1.16it/s, loss=0.00156, v_num=to9m]\n",
      "Validating:  88%|████████▊ | 44/50 [00:12<00:01,  3.52it/s]\u001b[A\n",
      "Epoch 15:  99%|█████████▉| 546/550 [07:50<00:03,  1.16it/s, loss=0.00156, v_num=to9m]\n",
      "Validating:  92%|█████████▏| 46/50 [00:13<00:01,  3.61it/s]\u001b[A\n",
      "Epoch 15: 100%|█████████▉| 548/550 [07:50<00:01,  1.16it/s, loss=0.00156, v_num=to9m]\n",
      "Validating:  96%|█████████▌| 48/50 [00:13<00:00,  3.79it/s]\u001b[A\n",
      "Epoch 15: 100%|██████████| 550/550 [07:51<00:00,  1.17it/s, loss=0.00156, v_num=to9m]\n",
      "Epoch 15: 100%|██████████| 550/550 [07:51<00:00,  1.17it/s, loss=0.00156, v_num=to9m]\n",
      "Epoch 16:  91%|█████████ | 500/550 [07:36<00:45,  1.09it/s, loss=0.00158, v_num=to9m]\n",
      "Validating: 0it [00:00, ?it/s]\u001b[A\n",
      "Validating:   0%|          | 0/50 [00:00<?, ?it/s]\u001b[A\n",
      "Epoch 16:  91%|█████████▏| 502/550 [07:37<00:43,  1.10it/s, loss=0.00158, v_num=to9m]\n",
      "Validating:   4%|▍         | 2/50 [00:00<00:13,  3.48it/s]\u001b[A\n",
      "Epoch 16:  92%|█████████▏| 504/550 [07:37<00:41,  1.10it/s, loss=0.00158, v_num=to9m]\n",
      "Validating:   8%|▊         | 4/50 [00:01<00:12,  3.56it/s]\u001b[A\n",
      "Epoch 16:  92%|█████████▏| 506/550 [07:38<00:39,  1.10it/s, loss=0.00158, v_num=to9m]\n",
      "Validating:  12%|█▏        | 6/50 [00:01<00:11,  3.85it/s]\u001b[A\n",
      "Epoch 16:  92%|█████████▏| 508/550 [07:38<00:37,  1.11it/s, loss=0.00158, v_num=to9m]\n",
      "Validating:  16%|█▌        | 8/50 [00:02<00:10,  3.92it/s]\u001b[A\n",
      "Epoch 16:  93%|█████████▎| 510/550 [07:39<00:36,  1.11it/s, loss=0.00158, v_num=to9m]\n",
      "Validating:  20%|██        | 10/50 [00:02<00:10,  3.80it/s]\u001b[A\n",
      "Epoch 16:  93%|█████████▎| 512/550 [07:39<00:34,  1.11it/s, loss=0.00158, v_num=to9m]\n",
      "Validating:  24%|██▍       | 12/50 [00:03<00:10,  3.68it/s]\u001b[A\n",
      "Epoch 16:  93%|█████████▎| 514/550 [07:40<00:32,  1.12it/s, loss=0.00158, v_num=to9m]\n",
      "Validating:  28%|██▊       | 14/50 [00:03<00:10,  3.59it/s]\u001b[A\n",
      "Epoch 16:  94%|█████████▍| 516/550 [07:40<00:30,  1.12it/s, loss=0.00158, v_num=to9m]\n",
      "Validating:  32%|███▏      | 16/50 [00:04<00:09,  3.46it/s]\u001b[A\n",
      "Epoch 16:  94%|█████████▍| 518/550 [07:41<00:28,  1.12it/s, loss=0.00158, v_num=to9m]\n",
      "Validating:  36%|███▌      | 18/50 [00:05<00:10,  3.01it/s]\u001b[A\n",
      "Epoch 16:  95%|█████████▍| 520/550 [07:42<00:26,  1.13it/s, loss=0.00158, v_num=to9m]\n",
      "Validating:  40%|████      | 20/50 [00:05<00:10,  2.93it/s]\u001b[A\n",
      "Epoch 16:  95%|█████████▍| 522/550 [07:42<00:24,  1.13it/s, loss=0.00158, v_num=to9m]\n",
      "Validating:  44%|████▍     | 22/50 [00:06<00:09,  3.09it/s]\u001b[A\n",
      "Epoch 16:  95%|█████████▌| 524/550 [07:43<00:22,  1.13it/s, loss=0.00158, v_num=to9m]\n",
      "Validating:  48%|████▊     | 24/50 [00:06<00:07,  3.38it/s]\u001b[A\n",
      "Epoch 16:  96%|█████████▌| 526/550 [07:44<00:21,  1.13it/s, loss=0.00158, v_num=to9m]\n",
      "Validating:  52%|█████▏    | 26/50 [00:07<00:06,  3.51it/s]\u001b[A\n",
      "Epoch 16:  96%|█████████▌| 528/550 [07:44<00:19,  1.14it/s, loss=0.00158, v_num=to9m]\n",
      "Validating:  56%|█████▌    | 28/50 [00:08<00:07,  3.05it/s]\u001b[A\n",
      "Epoch 16:  96%|█████████▋| 530/550 [07:45<00:17,  1.14it/s, loss=0.00158, v_num=to9m]\n",
      "Validating:  60%|██████    | 30/50 [00:08<00:06,  3.30it/s]\u001b[A\n",
      "Epoch 16:  97%|█████████▋| 532/550 [07:45<00:15,  1.14it/s, loss=0.00158, v_num=to9m]\n",
      "Validating:  64%|██████▍   | 32/50 [00:09<00:05,  3.39it/s]\u001b[A\n",
      "Epoch 16:  97%|█████████▋| 534/550 [07:46<00:13,  1.14it/s, loss=0.00158, v_num=to9m]\n",
      "Validating:  68%|██████▊   | 34/50 [00:10<00:04,  3.34it/s]\u001b[A\n",
      "Epoch 16:  97%|█████████▋| 536/550 [07:47<00:12,  1.15it/s, loss=0.00158, v_num=to9m]\n",
      "Validating:  72%|███████▏  | 36/50 [00:10<00:03,  3.63it/s]\u001b[A\n",
      "Epoch 16:  98%|█████████▊| 538/550 [07:47<00:10,  1.15it/s, loss=0.00158, v_num=to9m]\n",
      "Validating:  76%|███████▌  | 38/50 [00:11<00:03,  3.45it/s]\u001b[A\n",
      "Epoch 16:  98%|█████████▊| 540/550 [07:48<00:08,  1.15it/s, loss=0.00158, v_num=to9m]\n",
      "Validating:  80%|████████  | 40/50 [00:11<00:03,  3.27it/s]\u001b[A\n",
      "Epoch 16:  99%|█████████▊| 542/550 [07:48<00:06,  1.16it/s, loss=0.00158, v_num=to9m]\n",
      "Validating:  84%|████████▍ | 42/50 [00:12<00:02,  3.13it/s]\u001b[A\n",
      "Epoch 16:  99%|█████████▉| 544/550 [07:49<00:05,  1.16it/s, loss=0.00158, v_num=to9m]\n",
      "Validating:  88%|████████▊ | 44/50 [00:13<00:01,  3.40it/s]\u001b[A\n",
      "Epoch 16:  99%|█████████▉| 546/550 [07:50<00:03,  1.16it/s, loss=0.00158, v_num=to9m]\n",
      "Validating:  92%|█████████▏| 46/50 [00:13<00:01,  3.51it/s]\u001b[A\n",
      "Epoch 16: 100%|█████████▉| 548/550 [07:50<00:01,  1.16it/s, loss=0.00158, v_num=to9m]\n",
      "Validating:  96%|█████████▌| 48/50 [00:14<00:00,  3.67it/s]\u001b[A\n",
      "Epoch 16: 100%|██████████| 550/550 [07:51<00:00,  1.17it/s, loss=0.00158, v_num=to9m]\n",
      "Epoch 16: 100%|██████████| 550/550 [07:51<00:00,  1.17it/s, loss=0.00158, v_num=to9m]\n",
      "Epoch 17:  91%|█████████ | 500/550 [07:37<00:45,  1.09it/s, loss=0.00147, v_num=to9m]\n",
      "Validating: 0it [00:00, ?it/s]\u001b[A\n",
      "Validating:   0%|          | 0/50 [00:00<?, ?it/s]\u001b[A\n",
      "Epoch 17:  91%|█████████▏| 502/550 [07:37<00:43,  1.10it/s, loss=0.00147, v_num=to9m]\n",
      "Validating:   4%|▍         | 2/50 [00:00<00:14,  3.39it/s]\u001b[A\n",
      "Epoch 17:  92%|█████████▏| 504/550 [07:37<00:41,  1.10it/s, loss=0.00147, v_num=to9m]\n",
      "Validating:   8%|▊         | 4/50 [00:01<00:13,  3.49it/s]\u001b[A\n",
      "Epoch 17:  92%|█████████▏| 506/550 [07:38<00:39,  1.10it/s, loss=0.00147, v_num=to9m]\n",
      "Validating:  12%|█▏        | 6/50 [00:01<00:11,  3.84it/s]\u001b[A\n",
      "Epoch 17:  92%|█████████▏| 508/550 [07:38<00:37,  1.11it/s, loss=0.00147, v_num=to9m]\n",
      "Validating:  16%|█▌        | 8/50 [00:02<00:10,  3.92it/s]\u001b[A\n",
      "Epoch 17:  93%|█████████▎| 510/550 [07:39<00:36,  1.11it/s, loss=0.00147, v_num=to9m]\n",
      "Validating:  20%|██        | 10/50 [00:02<00:10,  3.77it/s]\u001b[A\n",
      "Epoch 17:  93%|█████████▎| 512/550 [07:40<00:34,  1.11it/s, loss=0.00147, v_num=to9m]\n",
      "Validating:  24%|██▍       | 12/50 [00:03<00:10,  3.64it/s]\u001b[A\n",
      "Epoch 17:  93%|█████████▎| 514/550 [07:40<00:32,  1.12it/s, loss=0.00147, v_num=to9m]\n",
      "Validating:  28%|██▊       | 14/50 [00:03<00:10,  3.56it/s]\u001b[A\n",
      "Epoch 17:  94%|█████████▍| 516/550 [07:41<00:30,  1.12it/s, loss=0.00147, v_num=to9m]\n",
      "Validating:  32%|███▏      | 16/50 [00:04<00:09,  3.42it/s]\u001b[A\n",
      "Epoch 17:  94%|█████████▍| 518/550 [07:41<00:28,  1.12it/s, loss=0.00147, v_num=to9m]\n",
      "Validating:  36%|███▌      | 18/50 [00:05<00:10,  2.98it/s]\u001b[A\n",
      "Epoch 17:  95%|█████████▍| 520/550 [07:42<00:26,  1.12it/s, loss=0.00147, v_num=to9m]\n",
      "Validating:  40%|████      | 20/50 [00:05<00:10,  2.91it/s]\u001b[A\n",
      "Epoch 17:  95%|█████████▍| 522/550 [07:43<00:24,  1.13it/s, loss=0.00147, v_num=to9m]\n",
      "Validating:  44%|████▍     | 22/50 [00:06<00:09,  3.07it/s]\u001b[A\n",
      "Epoch 17:  95%|█████████▌| 524/550 [07:43<00:23,  1.13it/s, loss=0.00147, v_num=to9m]\n",
      "Validating:  48%|████▊     | 24/50 [00:07<00:07,  3.37it/s]\u001b[A\n",
      "Epoch 17:  96%|█████████▌| 526/550 [07:44<00:21,  1.13it/s, loss=0.00147, v_num=to9m]\n",
      "Validating:  52%|█████▏    | 26/50 [00:07<00:06,  3.50it/s]\u001b[A\n",
      "Epoch 17:  96%|█████████▌| 528/550 [07:44<00:19,  1.14it/s, loss=0.00147, v_num=to9m]\n",
      "Validating:  56%|█████▌    | 28/50 [00:08<00:07,  3.12it/s]\u001b[A\n",
      "Epoch 17:  96%|█████████▋| 530/550 [07:45<00:17,  1.14it/s, loss=0.00147, v_num=to9m]\n",
      "Validating:  60%|██████    | 30/50 [00:08<00:06,  3.33it/s]\u001b[A\n",
      "Epoch 17:  97%|█████████▋| 532/550 [07:46<00:15,  1.14it/s, loss=0.00147, v_num=to9m]\n",
      "Validating:  64%|██████▍   | 32/50 [00:09<00:05,  3.40it/s]\u001b[A\n",
      "Epoch 17:  97%|█████████▋| 534/550 [07:46<00:13,  1.14it/s, loss=0.00147, v_num=to9m]\n",
      "Validating:  68%|██████▊   | 34/50 [00:10<00:04,  3.33it/s]\u001b[A\n",
      "Epoch 17:  97%|█████████▋| 536/550 [07:47<00:12,  1.15it/s, loss=0.00147, v_num=to9m]\n",
      "Validating:  72%|███████▏  | 36/50 [00:10<00:03,  3.60it/s]\u001b[A\n",
      "Epoch 17:  98%|█████████▊| 538/550 [07:48<00:10,  1.15it/s, loss=0.00147, v_num=to9m]\n",
      "Validating:  76%|███████▌  | 38/50 [00:11<00:03,  3.44it/s]\u001b[A\n",
      "Epoch 17:  98%|█████████▊| 540/550 [07:48<00:08,  1.15it/s, loss=0.00147, v_num=to9m]\n",
      "Validating:  80%|████████  | 40/50 [00:11<00:03,  3.29it/s]\u001b[A\n",
      "Epoch 17:  99%|█████████▊| 542/550 [07:49<00:06,  1.16it/s, loss=0.00147, v_num=to9m]\n",
      "Validating:  84%|████████▍ | 42/50 [00:12<00:02,  3.19it/s]\u001b[A\n",
      "Epoch 17:  99%|█████████▉| 544/550 [07:49<00:05,  1.16it/s, loss=0.00147, v_num=to9m]\n",
      "Validating:  88%|████████▊ | 44/50 [00:13<00:01,  3.49it/s]\u001b[A\n",
      "Epoch 17:  99%|█████████▉| 546/550 [07:50<00:03,  1.16it/s, loss=0.00147, v_num=to9m]\n",
      "Validating:  92%|█████████▏| 46/50 [00:13<00:01,  3.61it/s]\u001b[A\n",
      "Epoch 17: 100%|█████████▉| 548/550 [07:50<00:01,  1.16it/s, loss=0.00147, v_num=to9m]\n",
      "Validating:  96%|█████████▌| 48/50 [00:14<00:00,  3.76it/s]\u001b[A\n",
      "Epoch 17: 100%|██████████| 550/550 [07:51<00:00,  1.17it/s, loss=0.00147, v_num=to9m]\n",
      "Epoch 17: 100%|██████████| 550/550 [07:51<00:00,  1.17it/s, loss=0.00147, v_num=to9m]\n",
      "Epoch 18:  91%|█████████ | 500/550 [07:36<00:45,  1.09it/s, loss=0.00133, v_num=to9m] \n",
      "Validating: 0it [00:00, ?it/s]\u001b[A\n",
      "Validating:   0%|          | 0/50 [00:00<?, ?it/s]\u001b[A\n",
      "Epoch 18:  91%|█████████▏| 502/550 [07:37<00:43,  1.10it/s, loss=0.00133, v_num=to9m]\n",
      "Validating:   4%|▍         | 2/50 [00:00<00:13,  3.47it/s]\u001b[A\n",
      "Epoch 18:  92%|█████████▏| 504/550 [07:37<00:41,  1.10it/s, loss=0.00133, v_num=to9m]\n",
      "Validating:   8%|▊         | 4/50 [00:01<00:13,  3.53it/s]\u001b[A\n",
      "Epoch 18:  92%|█████████▏| 506/550 [07:38<00:39,  1.10it/s, loss=0.00133, v_num=to9m]\n",
      "Validating:  12%|█▏        | 6/50 [00:01<00:11,  3.85it/s]\u001b[A\n",
      "Epoch 18:  92%|█████████▏| 508/550 [07:38<00:37,  1.11it/s, loss=0.00133, v_num=to9m]\n",
      "Validating:  16%|█▌        | 8/50 [00:02<00:10,  3.90it/s]\u001b[A\n",
      "Epoch 18:  93%|█████████▎| 510/550 [07:39<00:36,  1.11it/s, loss=0.00133, v_num=to9m]\n",
      "Validating:  20%|██        | 10/50 [00:02<00:10,  3.76it/s]\u001b[A\n",
      "Epoch 18:  93%|█████████▎| 512/550 [07:39<00:34,  1.11it/s, loss=0.00133, v_num=to9m]\n",
      "Validating:  24%|██▍       | 12/50 [00:03<00:10,  3.64it/s]\u001b[A\n",
      "Epoch 18:  93%|█████████▎| 514/550 [07:40<00:32,  1.12it/s, loss=0.00133, v_num=to9m]\n",
      "Validating:  28%|██▊       | 14/50 [00:03<00:10,  3.56it/s]\u001b[A\n",
      "Epoch 18:  94%|█████████▍| 516/550 [07:41<00:30,  1.12it/s, loss=0.00133, v_num=to9m]\n",
      "Validating:  32%|███▏      | 16/50 [00:04<00:09,  3.42it/s]\u001b[A\n",
      "Epoch 18:  94%|█████████▍| 518/550 [07:41<00:28,  1.12it/s, loss=0.00133, v_num=to9m]\n",
      "Validating:  36%|███▌      | 18/50 [00:05<00:10,  2.99it/s]\u001b[A\n",
      "Epoch 18:  95%|█████████▍| 520/550 [07:42<00:26,  1.12it/s, loss=0.00133, v_num=to9m]\n",
      "Validating:  40%|████      | 20/50 [00:05<00:10,  2.90it/s]\u001b[A\n",
      "Epoch 18:  95%|█████████▍| 522/550 [07:43<00:24,  1.13it/s, loss=0.00133, v_num=to9m]\n",
      "Validating:  44%|████▍     | 22/50 [00:06<00:09,  3.05it/s]\u001b[A\n",
      "Epoch 18:  95%|█████████▌| 524/550 [07:43<00:23,  1.13it/s, loss=0.00133, v_num=to9m]\n",
      "Validating:  48%|████▊     | 24/50 [00:07<00:07,  3.37it/s]\u001b[A\n",
      "Epoch 18:  96%|█████████▌| 526/550 [07:44<00:21,  1.13it/s, loss=0.00133, v_num=to9m]\n",
      "Validating:  52%|█████▏    | 26/50 [00:07<00:06,  3.49it/s]\u001b[A\n",
      "Epoch 18:  96%|█████████▌| 528/550 [07:44<00:19,  1.14it/s, loss=0.00133, v_num=to9m]\n",
      "Validating:  56%|█████▌    | 28/50 [00:08<00:07,  2.95it/s]\u001b[A\n",
      "Epoch 18:  96%|█████████▋| 530/550 [07:45<00:17,  1.14it/s, loss=0.00133, v_num=to9m]\n",
      "Validating:  60%|██████    | 30/50 [00:09<00:06,  3.05it/s]\u001b[A\n",
      "Epoch 18:  97%|█████████▋| 532/550 [07:46<00:15,  1.14it/s, loss=0.00133, v_num=to9m]\n",
      "Validating:  64%|██████▍   | 32/50 [00:09<00:05,  3.07it/s]\u001b[A\n",
      "Epoch 18:  97%|█████████▋| 534/550 [07:47<00:13,  1.14it/s, loss=0.00133, v_num=to9m]\n",
      "Validating:  68%|██████▊   | 34/50 [00:10<00:05,  3.06it/s]\u001b[A\n",
      "Epoch 18:  97%|█████████▋| 536/550 [07:47<00:12,  1.15it/s, loss=0.00133, v_num=to9m]\n",
      "Validating:  72%|███████▏  | 36/50 [00:10<00:04,  3.33it/s]\u001b[A\n",
      "Epoch 18:  98%|█████████▊| 538/550 [07:48<00:10,  1.15it/s, loss=0.00133, v_num=to9m]\n",
      "Validating:  76%|███████▌  | 38/50 [00:11<00:04,  2.94it/s]\u001b[A\n",
      "Epoch 18:  98%|█████████▊| 540/550 [07:49<00:08,  1.15it/s, loss=0.00133, v_num=to9m]\n",
      "Validating:  80%|████████  | 40/50 [00:12<00:03,  2.75it/s]\u001b[A\n",
      "Epoch 18:  99%|█████████▊| 542/550 [07:49<00:06,  1.15it/s, loss=0.00133, v_num=to9m]\n",
      "Validating:  84%|████████▍ | 42/50 [00:13<00:02,  2.82it/s]\u001b[A\n",
      "Epoch 18:  99%|█████████▉| 544/550 [07:50<00:05,  1.16it/s, loss=0.00133, v_num=to9m]\n",
      "Validating:  88%|████████▊ | 44/50 [00:13<00:01,  3.25it/s]\u001b[A\n",
      "Epoch 18:  99%|█████████▉| 546/550 [07:50<00:03,  1.16it/s, loss=0.00133, v_num=to9m]\n",
      "Validating:  92%|█████████▏| 46/50 [00:14<00:01,  3.47it/s]\u001b[A\n",
      "Epoch 18: 100%|█████████▉| 548/550 [07:51<00:01,  1.16it/s, loss=0.00133, v_num=to9m]\n",
      "Validating:  96%|█████████▌| 48/50 [00:14<00:00,  3.69it/s]\u001b[A\n",
      "Epoch 18: 100%|██████████| 550/550 [07:52<00:00,  1.17it/s, loss=0.00133, v_num=to9m]\n",
      "Epoch 18: 100%|██████████| 550/550 [07:52<00:00,  1.16it/s, loss=0.00133, v_num=to9m]\n",
      "Epoch 19:  13%|█▎        | 70/550 [00:58<06:41,  1.19it/s, loss=0.00162, v_num=to9m] "
     ]
    }
   ],
   "source": [
    "logger = WandbLogger(project=hparams[\"project\"], group=\"InitialTest\", save_dir=hparams[\"artifacts\"])\n",
    "trainer = Trainer(gpus=1, max_epochs=hparams[\"max_epochs\"], logger=logger)#, precision=16)\n",
    "trainer.fit(model)"
   ]
  },
  {
   "cell_type": "code",
   "execution_count": 61,
   "id": "07e9eefb",
   "metadata": {},
   "outputs": [],
   "source": [
    "graph = model.valset[1].to(device)"
   ]
  },
  {
   "cell_type": "code",
   "execution_count": 62,
   "id": "ebb311cb",
   "metadata": {},
   "outputs": [],
   "source": [
    "with torch.no_grad():\n",
    "    input_data = model.get_input_data(graph)\n",
    "    input_graph = torch.cat([graph.edge_index, graph.edge_index.flip(0)], dim=-1)\n",
    "    output = torch.sigmoid(model.to(device)(input_data, input_graph, graph.labels, graph.label_pairs))"
   ]
  },
  {
   "cell_type": "code",
   "execution_count": 63,
   "id": "a7da1cf8",
   "metadata": {},
   "outputs": [
    {
     "data": {
      "text/plain": [
       "Data(cell_data=[95751, 11], edge_index=[2, 255367], event_file=\"/global/cfs/cdirs/m3443/data/ITk-upgrade/processed/full_events_v4/event000010010\", hid=[95751], label_pairs=[2, 314028], labels=[95751], long_mask=[95751], modulewise_true_edges=[2, 38013], nhits=[95751], pid=[95751], pid_pairs=[2, 314028], primary=[95751], pt=[95751], signal_true_edges=[2, 5413], x=[95751, 3], y=[255367], y_pid=[255367])"
      ]
     },
     "execution_count": 63,
     "metadata": {},
     "output_type": "execute_result"
    }
   ],
   "source": [
    "graph"
   ]
  },
  {
   "cell_type": "code",
   "execution_count": 78,
   "id": "ef9276d2",
   "metadata": {},
   "outputs": [],
   "source": [
    "preds = output.squeeze() > 0.95\n",
    "truth = graph.pid_pairs[0] == graph.pid_pairs[1]"
   ]
  },
  {
   "cell_type": "code",
   "execution_count": 79,
   "id": "9ce57a36",
   "metadata": {},
   "outputs": [
    {
     "name": "stdout",
     "output_type": "stream",
     "text": [
      "tensor(0.9600, device='cuda:0') tensor(0.9600, device='cuda:0')\n"
     ]
    }
   ],
   "source": [
    "# Signal true & signal tp\n",
    "true = truth.sum().float()\n",
    "positive = preds.sum().float()\n",
    "true_positive = (truth.bool() & preds).sum().float()   \n",
    "\n",
    "# Eff, pur, auc\n",
    "eff = true_positive / true\n",
    "pur = true_positive / positive\n",
    "\n",
    "print(eff, pur)"
   ]
  },
  {
   "cell_type": "code",
   "execution_count": 89,
   "id": "cd8391e5-f4c2-4bd9-804c-8c30da3d3d6c",
   "metadata": {},
   "outputs": [],
   "source": [
    "model = model.to(device)"
   ]
  },
  {
   "cell_type": "code",
   "execution_count": 129,
   "id": "520fc322-b882-4711-9ec8-e235298d15de",
   "metadata": {
    "tags": []
   },
   "outputs": [
    {
     "name": "stdout",
     "output_type": "stream",
     "text": [
      "tensor(0.7963) tensor(0.8776)\n",
      "tensor(0.8462) tensor(0.9362)\n",
      "tensor(0.8497) tensor(0.9091)\n",
      "tensor(0.8390) tensor(0.8912)\n",
      "tensor(0.8167) tensor(0.8991)\n",
      "tensor(0.8111) tensor(0.8975)\n",
      "tensor(0.8211) tensor(0.8862)\n",
      "tensor(0.8045) tensor(0.8931)\n",
      "tensor(0.8036) tensor(0.8949)\n",
      "tensor(0.8076) tensor(0.8783)\n",
      "tensor(0.8087) tensor(0.8742)\n",
      "tensor(0.8058) tensor(0.8784)\n",
      "tensor(0.8078) tensor(0.8774)\n",
      "tensor(0.8110) tensor(0.8655)\n",
      "tensor(0.8131) tensor(0.8629)\n",
      "tensor(0.8042) tensor(0.8586)\n",
      "tensor(0.8078) tensor(0.8591)\n",
      "tensor(0.8029) tensor(0.8586)\n",
      "tensor(0.7988) tensor(0.8584)\n",
      "tensor(0.8026) tensor(0.8605)\n",
      "tensor(0.8025) tensor(0.8600)\n",
      "tensor(0.8029) tensor(0.8624)\n",
      "tensor(0.8090) tensor(0.8598)\n",
      "tensor(0.8071) tensor(0.8628)\n",
      "tensor(0.8084) tensor(0.8620)\n",
      "tensor(0.8081) tensor(0.8643)\n",
      "tensor(0.8053) tensor(0.8607)\n",
      "tensor(0.8018) tensor(0.8650)\n",
      "tensor(0.8026) tensor(0.8611)\n",
      "tensor(0.8015) tensor(0.8588)\n",
      "tensor(0.8003) tensor(0.8596)\n",
      "tensor(0.8005) tensor(0.8610)\n",
      "tensor(0.7985) tensor(0.8613)\n",
      "tensor(0.7958) tensor(0.8602)\n",
      "tensor(0.7941) tensor(0.8591)\n",
      "tensor(0.7932) tensor(0.8608)\n",
      "tensor(0.7952) tensor(0.8593)\n",
      "tensor(0.7909) tensor(0.8590)\n",
      "tensor(0.7924) tensor(0.8597)\n",
      "tensor(0.7920) tensor(0.8597)\n",
      "tensor(0.7911) tensor(0.8597)\n",
      "tensor(0.7890) tensor(0.8602)\n",
      "tensor(0.7903) tensor(0.8609)\n",
      "tensor(0.7895) tensor(0.8594)\n",
      "tensor(0.7896) tensor(0.8584)\n",
      "tensor(0.7900) tensor(0.8587)\n",
      "tensor(0.7904) tensor(0.8594)\n",
      "tensor(0.7898) tensor(0.8588)\n",
      "tensor(0.7920) tensor(0.8588)\n",
      "tensor(0.7916) tensor(0.8588)\n"
     ]
    }
   ],
   "source": [
    "true_positive, true, positive = 0, 0, 0\n",
    "unstitched_scores = []\n",
    "stitched_scores = []\n",
    "\n",
    "with torch.no_grad():\n",
    "    for graph in model.valset:\n",
    "        input_data = model.get_input_data(graph).to(device)\n",
    "        input_graph = torch.cat([graph.edge_index, graph.edge_index.flip(0)], dim=-1).to(device)\n",
    "        output = torch.sigmoid(model(input_data, input_graph, graph.labels.to(device), graph.label_pairs.to(device)))\n",
    "        \n",
    "        preds = output.squeeze() > 0.98\n",
    "        truth = graph.pid_pairs[0] == graph.pid_pairs[1]\n",
    "        \n",
    "        true += truth.sum().float().cpu()\n",
    "        positive += preds.sum().float().cpu()\n",
    "        true_positive += (truth.bool().cpu() & preds.cpu()).sum().float()\n",
    "        \n",
    "        # Eff, pur, auc\n",
    "        eff = true_positive / true\n",
    "        pur = true_positive / positive\n",
    "\n",
    "        print(eff, pur)\n",
    "        \n",
    "        labels = labelSegments(graph.edge_index[:, graph.y.bool()], len(graph.x))\n",
    "        unstitched_scores.append(sparse_score_segments(labels, graph.pid, graph.signal_true_edges)[2].cpu())\n",
    "        \n",
    "        connected_segments = labelSegments(graph.label_pairs[:, preds], len(labels))\n",
    "        relabelled = connected_segments[labels]\n",
    "        stitched_scores.append(sparse_score_segments(relabelled, graph.pid, graph.signal_true_edges)[2].cpu())"
   ]
  },
  {
   "cell_type": "code",
   "execution_count": 119,
   "id": "099d96fb-a294-43ab-ac47-6d6863e685ff",
   "metadata": {},
   "outputs": [
    {
     "data": {
      "text/plain": [
       "(tensor(0.9230), tensor(0.0083))"
      ]
     },
     "execution_count": 119,
     "metadata": {},
     "output_type": "execute_result"
    }
   ],
   "source": [
    "torch.mean(torch.stack(unstitched_scores)), torch.std(torch.stack(unstitched_scores))"
   ]
  },
  {
   "cell_type": "code",
   "execution_count": 120,
   "id": "ef70979e-12fc-477f-a1b0-d1f91b2465d8",
   "metadata": {},
   "outputs": [
    {
     "data": {
      "text/plain": [
       "(tensor(0.9464), tensor(0.0074))"
      ]
     },
     "execution_count": 120,
     "metadata": {},
     "output_type": "execute_result"
    }
   ],
   "source": [
    "torch.mean(torch.stack(stitched_scores)), torch.std(torch.stack(stitched_scores))"
   ]
  },
  {
   "cell_type": "code",
   "execution_count": 117,
   "id": "109c9cc6-9868-4b99-a3d1-ba37c1c5fe59",
   "metadata": {},
   "outputs": [
    {
     "data": {
      "text/plain": [
       "(tensor(0.9498), tensor(0.0073))"
      ]
     },
     "execution_count": 117,
     "metadata": {},
     "output_type": "execute_result"
    }
   ],
   "source": [
    "torch.mean(torch.stack(stitched_scores)), torch.std(torch.stack(stitched_scores))"
   ]
  },
  {
   "cell_type": "markdown",
   "id": "9233ba83",
   "metadata": {},
   "source": [
    "### Test score improvement"
   ]
  },
  {
   "cell_type": "code",
   "execution_count": 123,
   "id": "da8292ab",
   "metadata": {},
   "outputs": [],
   "source": [
    "labels = labelSegments(graph.edge_index[:, graph.y.bool()], len(graph.x))"
   ]
  },
  {
   "cell_type": "code",
   "execution_count": 124,
   "id": "3966a8f3",
   "metadata": {},
   "outputs": [
    {
     "data": {
      "text/plain": [
       "(tensor(0.9495), tensor(0.9190), tensor(0.9340))"
      ]
     },
     "execution_count": 124,
     "metadata": {},
     "output_type": "execute_result"
    }
   ],
   "source": [
    "sparse_score_segments(labels, graph.pid, graph.signal_true_edges)"
   ]
  },
  {
   "cell_type": "code",
   "execution_count": 125,
   "id": "f3760552-48a0-429f-b3dd-e0d331362218",
   "metadata": {},
   "outputs": [],
   "source": [
    "connected_segments = labelSegments(graph.label_pairs[:, preds], len(labels))\n",
    "relabelled = connected_segments[labels]"
   ]
  },
  {
   "cell_type": "code",
   "execution_count": 126,
   "id": "68218d97",
   "metadata": {},
   "outputs": [
    {
     "data": {
      "text/plain": [
       "(tensor(0.9652), tensor(0.9483), tensor(0.9567))"
      ]
     },
     "execution_count": 126,
     "metadata": {},
     "output_type": "execute_result"
    }
   ],
   "source": [
    "sparse_score_segments(relabelled, graph.pid, graph.signal_true_edges)"
   ]
  },
  {
   "cell_type": "code",
   "execution_count": 121,
   "id": "c38f8f68-72bb-4863-87fe-363a5cd1b2e0",
   "metadata": {},
   "outputs": [],
   "source": [
    "labels = labelSegments(graph.signal_true_edges, len(graph.x))"
   ]
  },
  {
   "cell_type": "code",
   "execution_count": 122,
   "id": "8280231e-4f52-4665-bd7d-5a10a910e74c",
   "metadata": {},
   "outputs": [
    {
     "data": {
      "text/plain": [
       "(tensor(1.), tensor(1.), tensor(1.))"
      ]
     },
     "execution_count": 122,
     "metadata": {},
     "output_type": "execute_result"
    }
   ],
   "source": [
    "sparse_score_segments(labels, graph.pid, graph.signal_true_edges)"
   ]
  },
  {
   "cell_type": "code",
   "execution_count": 11,
   "id": "de0fea01-87c0-4dce-9331-6f81d3653509",
   "metadata": {},
   "outputs": [
    {
     "data": {
      "text/plain": [
       "tensor(89228, device='cuda:0')"
      ]
     },
     "execution_count": 11,
     "metadata": {},
     "output_type": "execute_result"
    }
   ],
   "source": [
    "graph.label_pairs.max()"
   ]
  },
  {
   "cell_type": "code",
   "execution_count": 64,
   "id": "a8bda5ee",
   "metadata": {
    "collapsed": true,
    "jupyter": {
     "outputs_hidden": true
    },
    "tags": []
   },
   "outputs": [
    {
     "data": {
      "text/plain": [
       "tensor([[84855,   218],\n",
       "        [33524,   245],\n",
       "        [47413,   245],\n",
       "        [  245, 47443],\n",
       "        [  259, 33524],\n",
       "        [47413,   259],\n",
       "        [33673,   313],\n",
       "        [  319, 33673],\n",
       "        [33571,   324],\n",
       "        [17454,   569],\n",
       "        [17488,   569],\n",
       "        [  569, 33350],\n",
       "        [85390,   771],\n",
       "        [  806, 84855],\n",
       "        [85390,   806],\n",
       "        [85390,   893],\n",
       "        [84855,  1038],\n",
       "        [85390,  1038],\n",
       "        [62597,  1128],\n",
       "        [48952,  1152],\n",
       "        [ 1152, 49707],\n",
       "        [35142,  1205],\n",
       "        [49707,  1205],\n",
       "        [35142,  1347],\n",
       "        [62597,  1514],\n",
       "        [75919,  1514],\n",
       "        [ 1517, 62597],\n",
       "        [ 1534, 49815],\n",
       "        [ 1726, 76438],\n",
       "        [ 1750, 86008],\n",
       "        [49707,  1872],\n",
       "        [64103,  2283],\n",
       "        [ 2322, 35973],\n",
       "        [ 2336, 86008],\n",
       "        [ 2352, 64041],\n",
       "        [ 2485, 20824],\n",
       "        [64639,  2485],\n",
       "        [ 2561, 64103],\n",
       "        [ 2561, 64639],\n",
       "        [ 2821, 64940],\n",
       "        [77398,  2873],\n",
       "        [ 3069, 64639],\n",
       "        [37740,  3127],\n",
       "        [64986,  3127],\n",
       "        [64999,  3127],\n",
       "        [ 3508, 38041],\n",
       "        [64940,  3508],\n",
       "        [65336,  3517],\n",
       "        [77398,  3517],\n",
       "        [65072,  3548],\n",
       "        [ 3566, 65336],\n",
       "        [ 3578, 37740],\n",
       "        [64986,  3578],\n",
       "        [64999,  3578],\n",
       "        [ 3578, 65428],\n",
       "        [52722,  3711],\n",
       "        [ 3785, 12868],\n",
       "        [ 3785, 38803],\n",
       "        [ 3785, 52956],\n",
       "        [ 3785, 65990],\n",
       "        [52722,  4132],\n",
       "        [ 4137, 39166],\n",
       "        [87792,  4212],\n",
       "        [52956,  4282],\n",
       "        [ 4282, 65990],\n",
       "        [ 4282, 87792],\n",
       "        [52956,  4302],\n",
       "        [65990,  4302],\n",
       "        [52956,  4327],\n",
       "        [66877,  4327],\n",
       "        [ 4327, 66879],\n",
       "        [ 4352, 65990],\n",
       "        [87792,  4352],\n",
       "        [87792,  4408],\n",
       "        [66877,  4674],\n",
       "        [ 4674, 67396],\n",
       "        [ 5361, 41655],\n",
       "        [89228,  5525],\n",
       "        [ 5539, 68553],\n",
       "        [ 5581, 89228],\n",
       "        [ 5595, 54853],\n",
       "        [ 5658, 54853],\n",
       "        [ 6025, 41621],\n",
       "        [80337,  6102],\n",
       "        [ 6126, 54853],\n",
       "        [ 6252, 56142],\n",
       "        [ 6301, 80337],\n",
       "        [ 6381, 56142],\n",
       "        [81460,  7259],\n",
       "        [81460,  7369],\n",
       "        [70547,  7521],\n",
       "        [ 7965, 15653],\n",
       "        [ 8147, 82028],\n",
       "        [82028,  8148],\n",
       "        [71396,  8297],\n",
       "        [ 8509, 58903],\n",
       "        [73427,  9230],\n",
       "        [ 9329, 83146],\n",
       "        [83122,  9333],\n",
       "        [47443,  9887],\n",
       "        [10039, 83811],\n",
       "        [83815, 10039],\n",
       "        [10170, 83854],\n",
       "        [84855, 10749],\n",
       "        [10749, 85390],\n",
       "        [48952, 10894],\n",
       "        [11488, 76438],\n",
       "        [11488, 86008],\n",
       "        [11630, 64103],\n",
       "        [66877, 13133],\n",
       "        [66879, 13133],\n",
       "        [68553, 13849],\n",
       "        [80337, 14576],\n",
       "        [80752, 14576],\n",
       "        [14828, 70547],\n",
       "        [14828, 70548],\n",
       "        [83146, 16193],\n",
       "        [83811, 16470],\n",
       "        [83815, 16470],\n",
       "        [33350, 17454]], device='cuda:0')"
      ]
     },
     "execution_count": 64,
     "metadata": {},
     "output_type": "execute_result"
    }
   ],
   "source": [
    "graph.label_pairs[:, preds].T"
   ]
  },
  {
   "cell_type": "code",
   "execution_count": 59,
   "id": "84c56f63",
   "metadata": {},
   "outputs": [
    {
     "data": {
      "text/plain": [
       "torch.Size([104365])"
      ]
     },
     "execution_count": 59,
     "metadata": {},
     "output_type": "execute_result"
    }
   ],
   "source": [
    "labels.shape"
   ]
  },
  {
   "cell_type": "code",
   "execution_count": 142,
   "id": "b367d790",
   "metadata": {
    "scrolled": true
   },
   "outputs": [
    {
     "name": "stdout",
     "output_type": "stream",
     "text": [
      "tensor([47413,   245], device='cuda:0')\n",
      "tensor(4, device='cuda:0')\n",
      "tensor([33524,   259], device='cuda:0')\n",
      "tensor(3, device='cuda:0')\n",
      "tensor([  313, 33673], device='cuda:0')\n",
      "tensor(5, device='cuda:0')\n",
      "tensor([  319, 33673], device='cuda:0')\n",
      "tensor(0, device='cuda:0')\n",
      "tensor([33571,   324], device='cuda:0')\n",
      "tensor(3, device='cuda:0')\n",
      "tensor([33350,   569], device='cuda:0')\n",
      "tensor(3, device='cuda:0')\n",
      "tensor([84855,   806], device='cuda:0')\n",
      "tensor(8, device='cuda:0')\n",
      "tensor([ 1152, 49707], device='cuda:0')\n",
      "tensor(5, device='cuda:0')\n",
      "tensor([35142,  1205], device='cuda:0')\n",
      "tensor(3, device='cuda:0')\n",
      "tensor([62597,  1514], device='cuda:0')\n",
      "tensor(6, device='cuda:0')\n",
      "tensor([75919,  1514], device='cuda:0')\n",
      "tensor(0, device='cuda:0')\n",
      "tensor([ 1534, 49815], device='cuda:0')\n",
      "tensor(4, device='cuda:0')\n",
      "tensor([86008,  1750], device='cuda:0')\n",
      "tensor(7, device='cuda:0')\n",
      "tensor([49707,  1872], device='cuda:0')\n",
      "tensor(5, device='cuda:0')\n",
      "tensor([64041,  2352], device='cuda:0')\n",
      "tensor(5, device='cuda:0')\n",
      "tensor([ 2485, 20824], device='cuda:0')\n",
      "tensor(7, device='cuda:0')\n",
      "tensor([64103,  2561], device='cuda:0')\n",
      "tensor(8, device='cuda:0')\n",
      "tensor([64940,  2821], device='cuda:0')\n",
      "tensor(4, device='cuda:0')\n",
      "tensor([77398,  2873], device='cuda:0')\n",
      "tensor(7, device='cuda:0')\n",
      "tensor([64639,  3069], device='cuda:0')\n",
      "tensor(4, device='cuda:0')\n",
      "tensor([64999,  3127], device='cuda:0')\n",
      "tensor(4, device='cuda:0')\n",
      "tensor([38041,  3508], device='cuda:0')\n",
      "tensor(3, device='cuda:0')\n",
      "tensor([ 3517, 65336], device='cuda:0')\n",
      "tensor(4, device='cuda:0')\n",
      "tensor([52722,  3711], device='cuda:0')\n",
      "tensor(4, device='cuda:0')\n",
      "tensor([38803,  3785], device='cuda:0')\n",
      "tensor(3, device='cuda:0')\n",
      "tensor([52722,  4132], device='cuda:0')\n",
      "tensor(3, device='cuda:0')\n",
      "tensor([ 4282, 52956], device='cuda:0')\n",
      "tensor(5, device='cuda:0')\n",
      "tensor([65990,  4302], device='cuda:0')\n",
      "tensor(6, device='cuda:0')\n",
      "tensor([87792,  4408], device='cuda:0')\n",
      "tensor(7, device='cuda:0')\n",
      "tensor([67396,  4674], device='cuda:0')\n",
      "tensor(7, device='cuda:0')\n",
      "tensor([41655,  5361], device='cuda:0')\n",
      "tensor(3, device='cuda:0')\n",
      "tensor([ 5595, 54853], device='cuda:0')\n",
      "tensor(5, device='cuda:0')\n",
      "tensor([ 5658, 54853], device='cuda:0')\n",
      "tensor(0, device='cuda:0')\n",
      "tensor([ 6381, 56142], device='cuda:0')\n",
      "tensor(3, device='cuda:0')\n",
      "tensor([82028,  8148], device='cuda:0')\n",
      "tensor(6, device='cuda:0')\n",
      "tensor([ 8297, 71396], device='cuda:0')\n",
      "tensor(4, device='cuda:0')\n",
      "tensor([ 8509, 58903], device='cuda:0')\n",
      "tensor(4, device='cuda:0')\n",
      "tensor([ 9329, 83146], device='cuda:0')\n",
      "tensor(3, device='cuda:0')\n",
      "tensor([ 9333, 83122], device='cuda:0')\n",
      "tensor(3, device='cuda:0')\n",
      "tensor([ 9887, 47443], device='cuda:0')\n",
      "tensor(3, device='cuda:0')\n",
      "tensor([10170, 83854], device='cuda:0')\n",
      "tensor(3, device='cuda:0')\n",
      "tensor([76438, 11488], device='cuda:0')\n",
      "tensor(4, device='cuda:0')\n",
      "tensor([14828, 70548], device='cuda:0')\n",
      "tensor(4, device='cuda:0')\n"
     ]
    }
   ],
   "source": [
    "for new_label_pair in graph.label_pairs[:, preds].T:\n",
    "    print(new_label_pair)\n",
    "    print((labels == new_label_pair[1]).sum())\n",
    "    \n",
    "    labels[labels == new_label_pair[1]] = new_label_pair[0]"
   ]
  },
  {
   "cell_type": "code",
   "execution_count": 116,
   "id": "ab6d1b5f",
   "metadata": {},
   "outputs": [
    {
     "data": {
      "text/plain": [
       "torch.Size([98778])"
      ]
     },
     "execution_count": 116,
     "metadata": {},
     "output_type": "execute_result"
    }
   ],
   "source": [
    "labels.unique().shape"
   ]
  },
  {
   "cell_type": "code",
   "execution_count": 63,
   "id": "46bb522c",
   "metadata": {},
   "outputs": [
    {
     "data": {
      "text/plain": [
       "tensor(4, device='cuda:0')"
      ]
     },
     "execution_count": 63,
     "metadata": {},
     "output_type": "execute_result"
    }
   ],
   "source": [
    "(labels == 245).sum()"
   ]
  },
  {
   "cell_type": "code",
   "execution_count": null,
   "id": "489e578f-2b3c-4ad4-9ae4-f066fc7bbb60",
   "metadata": {},
   "outputs": [],
   "source": []
  }
 ],
 "metadata": {
  "@webio": {
   "lastCommId": null,
   "lastKernelId": null
  },
  "kernelspec": {
   "display_name": "ExaPerlmutter",
   "language": "python",
   "name": "exa"
  },
  "language_info": {
   "codemirror_mode": {
    "name": "ipython",
    "version": 3
   },
   "file_extension": ".py",
   "mimetype": "text/x-python",
   "name": "python",
   "nbconvert_exporter": "python",
   "pygments_lexer": "ipython3",
   "version": "3.8.12"
  }
 },
 "nbformat": 4,
 "nbformat_minor": 5
}
