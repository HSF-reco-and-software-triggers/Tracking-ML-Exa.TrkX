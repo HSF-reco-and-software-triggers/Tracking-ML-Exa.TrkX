{
 "cells": [
  {
   "cell_type": "markdown",
   "metadata": {},
   "source": [
    "# Test refactor of Graph Intersection"
   ]
  },
  {
   "cell_type": "code",
   "execution_count": 1,
   "metadata": {},
   "outputs": [],
   "source": [
    "%load_ext autoreload\n",
    "%autoreload 2\n",
    "\n",
    "# System imports\n",
    "import os\n",
    "import sys\n",
    "import yaml\n",
    "\n",
    "import torch\n",
    "import numpy as np\n",
    "import scipy as sp\n",
    "\n",
    "device = torch.device(\"cuda\" if torch.cuda.is_available() else \"cpu\")"
   ]
  },
  {
   "cell_type": "markdown",
   "metadata": {},
   "source": [
    "##  Definition"
   ]
  },
  {
   "cell_type": "code",
   "execution_count": 4,
   "metadata": {
    "hidden": true
   },
   "outputs": [],
   "source": [
    "def graph_intersection_v1(\n",
    "    pred_graph, truth_graph, using_weights=False, weights_bidir=None\n",
    "):\n",
    "\n",
    "    array_size = max(pred_graph.max().item(), truth_graph.max().item()) + 1\n",
    "\n",
    "    l1 = pred_graph.cpu().numpy() if torch.is_tensor(pred_graph) else pred_graph\n",
    "    l2 = truth_graph.cpu().numpy() if torch.is_tensor(truth_graph) else truth_graph\n",
    "    e_1 = sp.sparse.coo_matrix(\n",
    "        (np.ones(l1.shape[1]), l1), shape=(array_size, array_size)\n",
    "    ).tocsr()\n",
    "    e_2 = sp.sparse.coo_matrix(\n",
    "        (np.ones(l2.shape[1]), l2), shape=(array_size, array_size)\n",
    "    ).tocsr()\n",
    "    del l1\n",
    "\n",
    "    e_intersection = e_1.multiply(e_2) - ((e_1 - e_2) > 0)\n",
    "    del e_1\n",
    "    del e_2\n",
    "\n",
    "    if using_weights:\n",
    "        weights_list = weights_bidir.cpu().numpy()\n",
    "        weights_sparse = sp.sparse.coo_matrix(\n",
    "            (weights_list, l2), shape=(array_size, array_size)\n",
    "        ).tocsr()\n",
    "        del weights_list\n",
    "        del l2\n",
    "        new_weights = weights_sparse[e_intersection.astype(\"bool\")]\n",
    "        del weights_sparse\n",
    "        new_weights = torch.from_numpy(np.array(new_weights)[0])\n",
    "\n",
    "    e_intersection = e_intersection.tocoo()\n",
    "    new_pred_graph = torch.from_numpy(\n",
    "        np.vstack([e_intersection.row, e_intersection.col])\n",
    "    ).long().to(pred_graph.device)\n",
    "    y = torch.from_numpy(e_intersection.data > 0).to(pred_graph.device)\n",
    "    del e_intersection\n",
    "\n",
    "    if using_weights:\n",
    "        return new_pred_graph, y, new_weights\n",
    "    else:\n",
    "        return new_pred_graph, y"
   ]
  },
  {
   "cell_type": "code",
   "execution_count": 5,
   "metadata": {
    "hidden": true
   },
   "outputs": [],
   "source": [
    "from torch_geometric.utils import to_scipy_sparse_matrix\n",
    "\n",
    "def graph_intersection_v2(\n",
    "    pred_graph, truth_graph, using_weights=False, weights_bidir=None\n",
    "):\n",
    "\n",
    "    array_size = max(pred_graph.max().item(), truth_graph.max().item()) + 1\n",
    "\n",
    "    e_1 = to_scipy_sparse_matrix(pred_graph).tocsr()\n",
    "    e_2 = to_scipy_sparse_matrix(truth_graph).tocsr()\n",
    "\n",
    "    e_intersection = e_1.multiply(e_2) - ((e_1 - e_2) > 0)\n",
    "\n",
    "    e_intersection = e_intersection.tocoo()\n",
    "    new_pred_graph = torch.from_numpy(\n",
    "        np.vstack([e_intersection.row, e_intersection.col])\n",
    "    ).long().to(pred_graph.device)\n",
    "    y = torch.from_numpy(e_intersection.data > 0).to(pred_graph.device)\n",
    "\n",
    "    return new_pred_graph, y"
   ]
  },
  {
   "cell_type": "code",
   "execution_count": 102,
   "metadata": {
    "hidden": true
   },
   "outputs": [],
   "source": [
    "def graph_intersection_v3(pred_graph, truth_graph, is_unique=True):\n",
    "    if not is_unique:\n",
    "        raise NotImplementedError(\"Not implemented for non-unique graphs\")\n",
    "        pred_graph, truth_graph = torch.unique(pred_graph, dim=1), torch.unique(truth_graph, dim=1)\n",
    "\n",
    "    unique_edges, inverse, counts = torch.unique(torch.cat([pred_graph, truth_graph], dim=1), dim=1, sorted=False, return_inverse=True, return_counts=True)\n",
    "\n",
    "    pred_counts = counts[inverse[:pred_graph.shape[1]]]\n",
    "\n",
    "    y = pred_counts > 1\n",
    "\n",
    "    return pred_graph, y"
   ]
  },
  {
   "cell_type": "code",
   "execution_count": 38,
   "metadata": {},
   "outputs": [],
   "source": [
    "pred = torch.randint(0, 100000, (2, 1000000)).to(device)\n",
    "truth = torch.randint(0, 100000, (2, 100000)).to(device)"
   ]
  },
  {
   "cell_type": "code",
   "execution_count": 39,
   "metadata": {},
   "outputs": [],
   "source": [
    "pred_out_1, y_1 = graph_intersection_v1(pred, truth)"
   ]
  },
  {
   "cell_type": "code",
   "execution_count": 40,
   "metadata": {},
   "outputs": [],
   "source": [
    "pred_out_2, y_2 = graph_intersection_v2(pred, truth)"
   ]
  },
  {
   "cell_type": "code",
   "execution_count": 43,
   "metadata": {},
   "outputs": [],
   "source": [
    "y_3 = graph_intersection_v3(pred, truth)"
   ]
  },
  {
   "cell_type": "code",
   "execution_count": 44,
   "metadata": {},
   "outputs": [
    {
     "data": {
      "text/plain": [
       "(tensor(4), tensor(4), tensor(100000))"
      ]
     },
     "execution_count": 44,
     "metadata": {},
     "output_type": "execute_result"
    }
   ],
   "source": [
    "y_1.sum(), y_2.sum(), y_3.sum()"
   ]
  },
  {
   "cell_type": "code",
   "execution_count": 107,
   "metadata": {},
   "outputs": [
    {
     "name": "stdout",
     "output_type": "stream",
     "text": [
      "tensor(True) tensor(True)\n"
     ]
    },
    {
     "ename": "RuntimeError",
     "evalue": "The size of tensor a (999959) must match the size of tensor b (1000000) at non-singleton dimension 1",
     "output_type": "error",
     "traceback": [
      "\u001b[0;31m---------------------------------------------------------------------------\u001b[0m",
      "\u001b[0;31mRuntimeError\u001b[0m                              Traceback (most recent call last)",
      "\u001b[0;32m<ipython-input-107-5521613355bc>\u001b[0m in \u001b[0;36m<module>\u001b[0;34m\u001b[0m\n\u001b[1;32m      1\u001b[0m \u001b[0;31m# Check that pred_out_2 is the same as pred_out_1 and y_2 is the same as y_1\u001b[0m\u001b[0;34m\u001b[0m\u001b[0;34m\u001b[0m\u001b[0;34m\u001b[0m\u001b[0m\n\u001b[1;32m      2\u001b[0m \u001b[0mprint\u001b[0m\u001b[0;34m(\u001b[0m\u001b[0;34m(\u001b[0m\u001b[0mpred_out_1\u001b[0m \u001b[0;34m==\u001b[0m \u001b[0mpred_out_2\u001b[0m\u001b[0;34m)\u001b[0m\u001b[0;34m.\u001b[0m\u001b[0mall\u001b[0m\u001b[0;34m(\u001b[0m\u001b[0;34m)\u001b[0m\u001b[0;34m,\u001b[0m \u001b[0;34m(\u001b[0m\u001b[0my_1\u001b[0m \u001b[0;34m==\u001b[0m \u001b[0my_2\u001b[0m\u001b[0;34m)\u001b[0m\u001b[0;34m.\u001b[0m\u001b[0mall\u001b[0m\u001b[0;34m(\u001b[0m\u001b[0;34m)\u001b[0m\u001b[0;34m)\u001b[0m\u001b[0;34m\u001b[0m\u001b[0;34m\u001b[0m\u001b[0m\n\u001b[0;32m----> 3\u001b[0;31m \u001b[0mprint\u001b[0m\u001b[0;34m(\u001b[0m\u001b[0;34m(\u001b[0m\u001b[0mpred_out_1\u001b[0m \u001b[0;34m==\u001b[0m \u001b[0mpred_out_3\u001b[0m\u001b[0;34m)\u001b[0m\u001b[0;34m.\u001b[0m\u001b[0mall\u001b[0m\u001b[0;34m(\u001b[0m\u001b[0;34m)\u001b[0m\u001b[0;34m,\u001b[0m \u001b[0;34m(\u001b[0m\u001b[0my_1\u001b[0m \u001b[0;34m==\u001b[0m \u001b[0my_3\u001b[0m\u001b[0;34m)\u001b[0m\u001b[0;34m.\u001b[0m\u001b[0mall\u001b[0m\u001b[0;34m(\u001b[0m\u001b[0;34m)\u001b[0m\u001b[0;34m)\u001b[0m\u001b[0;34m\u001b[0m\u001b[0;34m\u001b[0m\u001b[0m\n\u001b[0m",
      "\u001b[0;31mRuntimeError\u001b[0m: The size of tensor a (999959) must match the size of tensor b (1000000) at non-singleton dimension 1"
     ]
    }
   ],
   "source": [
    "# Check that pred_out_2 is the same as pred_out_1 and y_2 is the same as y_1\n",
    "print((pred_out_1 == pred_out_2).all(), (y_1 == y_2).all())\n",
    "print((pred_out_1 == pred_out_3).all(), (y_1 == y_3).all())"
   ]
  },
  {
   "cell_type": "markdown",
   "metadata": {},
   "source": [
    "## Torch Sparse Tensor approach"
   ]
  },
  {
   "cell_type": "markdown",
   "metadata": {},
   "source": []
  },
  {
   "cell_type": "code",
   "execution_count": 61,
   "metadata": {},
   "outputs": [],
   "source": [
    "from torch.utils.benchmark import Timer"
   ]
  },
  {
   "cell_type": "code",
   "execution_count": 157,
   "metadata": {},
   "outputs": [
    {
     "data": {
      "text/plain": [
       "<torch.utils.benchmark.utils.common.Measurement object at 0x150f2506fe50>\n",
       "v1\n",
       "  Median: 116.65 ms\n",
       "  IQR:    11.93 ms (105.32 to 117.26)\n",
       "  9 measurements, 1 runs per measurement, 1 thread\n",
       "  WARNING: Interquartile range is 10.2% of the median measurement.\n",
       "           This could indicate system fluctuation."
      ]
     },
     "execution_count": 157,
     "metadata": {},
     "output_type": "execute_result"
    }
   ],
   "source": [
    "# time the two functions\n",
    "timer = Timer(\n",
    "    stmt=\"graph_intersection_v1(pred, truth)\",\n",
    "    globals=globals(),\n",
    "    label=\"v1\",\n",
    "    sub_label=\"\",\n",
    ")\n",
    "timer.blocked_autorange(min_run_time=1)"
   ]
  },
  {
   "cell_type": "code",
   "execution_count": 158,
   "metadata": {},
   "outputs": [
    {
     "data": {
      "text/plain": [
       "<torch.utils.benchmark.utils.common.Measurement object at 0x150f24f86e20>\n",
       "v2\n",
       "  Median: 109.46 ms\n",
       "  IQR:    5.62 ms (105.66 to 111.28)\n",
       "  10 measurements, 1 runs per measurement, 1 thread"
      ]
     },
     "execution_count": 158,
     "metadata": {},
     "output_type": "execute_result"
    }
   ],
   "source": [
    "timer = Timer(\n",
    "    stmt=\"graph_intersection_v2(pred, truth)\",\n",
    "    globals=globals(),\n",
    "    label=\"v2\",\n",
    "    sub_label=\"\",\n",
    ")\n",
    "\n",
    "timer.blocked_autorange(min_run_time=1)"
   ]
  },
  {
   "cell_type": "code",
   "execution_count": 159,
   "metadata": {},
   "outputs": [
    {
     "data": {
      "text/plain": [
       "<torch.utils.benchmark.utils.common.Measurement object at 0x150f25080580>\n",
       "v3\n",
       "  Median: 4.51 ms\n",
       "  IQR:    0.02 ms (4.50 to 4.52)\n",
       "  21 measurements, 10 runs per measurement, 1 thread"
      ]
     },
     "execution_count": 159,
     "metadata": {},
     "output_type": "execute_result"
    }
   ],
   "source": [
    "timer = Timer(\n",
    "    stmt=\"graph_intersection_v3(pred, truth, is_unique=False)\",\n",
    "    globals=globals(),\n",
    "    label=\"v3\",\n",
    "    sub_label=\"\",\n",
    ")\n",
    "\n",
    "timer.blocked_autorange(min_run_time=1)"
   ]
  },
  {
   "cell_type": "code",
   "execution_count": 66,
   "metadata": {},
   "outputs": [],
   "source": [
    "pred = torch.Tensor([[0, 1, 2, 3, 4, 5, 6], [1, 2, 3, 4, 5, 6, 7]])\n",
    "truth = torch.Tensor([[0, 1, 2, 3], [2, 1, 3, 4]])"
   ]
  },
  {
   "cell_type": "code",
   "execution_count": 67,
   "metadata": {},
   "outputs": [],
   "source": [
    "y, truth_to_pred = graph_intersection_v3(pred, truth, return_truth_to_pred=True)"
   ]
  },
  {
   "cell_type": "code",
   "execution_count": 68,
   "metadata": {},
   "outputs": [
    {
     "data": {
      "text/plain": [
       "tensor([False, False,  True,  True, False, False, False])"
      ]
     },
     "execution_count": 68,
     "metadata": {},
     "output_type": "execute_result"
    }
   ],
   "source": [
    "y"
   ]
  },
  {
   "cell_type": "code",
   "execution_count": 69,
   "metadata": {},
   "outputs": [
    {
     "data": {
      "text/plain": [
       "tensor([-1, -1,  2,  3])"
      ]
     },
     "execution_count": 69,
     "metadata": {},
     "output_type": "execute_result"
    }
   ],
   "source": [
    "truth_to_pred"
   ]
  },
  {
   "cell_type": "code",
   "execution_count": 21,
   "metadata": {},
   "outputs": [
    {
     "data": {
      "text/plain": [
       "tensor([[0., 1., 2., 3.],\n",
       "        [2., 1., 3., 4.]])"
      ]
     },
     "execution_count": 21,
     "metadata": {},
     "output_type": "execute_result"
    }
   ],
   "source": [
    "truth"
   ]
  },
  {
   "cell_type": "code",
   "execution_count": 22,
   "metadata": {},
   "outputs": [
    {
     "data": {
      "text/plain": [
       "tensor([[0., 1., 2., 3.],\n",
       "        [1., 2., 3., 4.]])"
      ]
     },
     "execution_count": 22,
     "metadata": {},
     "output_type": "execute_result"
    }
   ],
   "source": [
    "pred"
   ]
  },
  {
   "cell_type": "code",
   "execution_count": 8,
   "metadata": {},
   "outputs": [
    {
     "data": {
      "text/plain": [
       "tensor([False, False,  True,  True])"
      ]
     },
     "execution_count": 8,
     "metadata": {},
     "output_type": "execute_result"
    }
   ],
   "source": [
    "y"
   ]
  },
  {
   "cell_type": "code",
   "execution_count": 92,
   "metadata": {},
   "outputs": [
    {
     "name": "stdout",
     "output_type": "stream",
     "text": [
      "torch.Size([1999816])\n",
      "torch.Size([1000000])\n",
      "torch.Size([1999816])\n",
      "torch.Size([1000000])\n"
     ]
    }
   ],
   "source": [
    "y_3 = graph_intersection_v3(pred, truth)"
   ]
  },
  {
   "cell_type": "code",
   "execution_count": 93,
   "metadata": {},
   "outputs": [
    {
     "data": {
      "text/plain": [
       "tensor([False, False, False,  ..., False, False, False])"
      ]
     },
     "execution_count": 93,
     "metadata": {},
     "output_type": "execute_result"
    }
   ],
   "source": [
    "y_3"
   ]
  },
  {
   "cell_type": "code",
   "execution_count": 54,
   "metadata": {},
   "outputs": [],
   "source": [
    "unique_edges, inverse, _ = torch.unique(torch.cat([pred, truth], dim=1), dim=1, sorted=False, return_inverse=True, return_counts=True)\n",
    "# pred_counts = counts[inverse[:pred.shape[1]]]\n",
    "# truth_counts = counts[inverse[pred.shape[1]:]]\n",
    "# y_pred = pred_counts > 1\n",
    "# y_truth = truth_counts > 1"
   ]
  },
  {
   "cell_type": "code",
   "execution_count": 29,
   "metadata": {},
   "outputs": [],
   "source": [
    "all_edges = torch.cat([pred, truth], dim=1)"
   ]
  },
  {
   "cell_type": "markdown",
   "metadata": {},
   "source": [
    "#### So, we have several concepts\n",
    "- All edges: This is the concat of [pred, truth] edges\n",
    "- Unique edges: This is the unique edges of [pred, truth] edges\n",
    "- Inverse: This is the map from all_edges to unique_edges\n",
    "- Inverse to pred: This is the map from unique_edges to pred_edges\n",
    "- Inverse to truth: This is the map from unique_edges to truth_edges\n",
    "\n",
    "To get the truth to pred map, we map from the truth part of inverse (i.e. inverse[num_pred:]) then use the inverse-to-pred map"
   ]
  },
  {
   "cell_type": "code",
   "execution_count": 55,
   "metadata": {},
   "outputs": [],
   "source": [
    "inverse_pred_map = torch.ones(unique_edges.shape[1], dtype=torch.long) * -1\n",
    "inverse_pred_map[inverse[:pred.shape[1]]] = torch.arange(pred.shape[1])\n",
    "\n",
    "inverse_truth_map = torch.ones(unique_edges.shape[1], dtype=torch.long) * -1\n",
    "inverse_truth_map[inverse[pred.shape[1]:]] = torch.arange(truth.shape[1])"
   ]
  },
  {
   "cell_type": "code",
   "execution_count": 65,
   "metadata": {
    "hidden": true
   },
   "outputs": [],
   "source": [
    "def graph_intersection_v3(input_pred_graph, input_truth_graph,return_y_pred=True, return_y_truth=False, return_pred_to_truth=False, return_truth_to_pred=False):\n",
    "\n",
    "    unique_edges, inverse = torch.unique(torch.cat([input_pred_graph, input_truth_graph], dim=1), dim=1, sorted=False, return_inverse=True, return_counts=False)\n",
    "\n",
    "    inverse_pred_map = torch.ones(unique_edges.shape[1], dtype=torch.long) * -1\n",
    "    inverse_pred_map[inverse[:input_pred_graph.shape[1]]] = torch.arange(input_pred_graph.shape[1])\n",
    "    \n",
    "    inverse_truth_map = torch.ones(unique_edges.shape[1], dtype=torch.long) * -1\n",
    "    inverse_truth_map[inverse[input_pred_graph.shape[1]:]] = torch.arange(input_truth_graph.shape[1])\n",
    "\n",
    "    pred_to_truth = inverse_truth_map[inverse][:input_pred_graph.shape[1]]\n",
    "    truth_to_pred = inverse_pred_map[inverse][input_pred_graph.shape[1]:]\n",
    "\n",
    "    return_tensors = []\n",
    "\n",
    "    if return_y_pred:\n",
    "        y_pred = pred_to_truth >= 0\n",
    "        return_tensors.append(y_pred)\n",
    "\n",
    "    if return_y_truth:\n",
    "        y_truth = truth_to_pred >= 0\n",
    "        return_tensors.append(y_truth)\n",
    "\n",
    "    if return_pred_to_truth:        \n",
    "        return_tensors.append(pred_to_truth)\n",
    "\n",
    "    if return_truth_to_pred:\n",
    "        return_tensors.append(truth_to_pred)\n",
    "\n",
    "    return return_tensors if len(return_tensors) > 1 else return_tensors[0]"
   ]
  },
  {
   "cell_type": "code",
   "execution_count": 56,
   "metadata": {},
   "outputs": [
    {
     "data": {
      "text/plain": [
       "tensor([ 0, -1, -1,  1,  2,  3,  4,  5,  6])"
      ]
     },
     "execution_count": 56,
     "metadata": {},
     "output_type": "execute_result"
    }
   ],
   "source": [
    "inverse_pred_map"
   ]
  },
  {
   "cell_type": "code",
   "execution_count": 57,
   "metadata": {},
   "outputs": [
    {
     "data": {
      "text/plain": [
       "tensor([-1,  0,  1, -1,  2,  3, -1, -1, -1])"
      ]
     },
     "execution_count": 57,
     "metadata": {},
     "output_type": "execute_result"
    }
   ],
   "source": [
    "inverse_truth_map"
   ]
  },
  {
   "cell_type": "code",
   "execution_count": 63,
   "metadata": {},
   "outputs": [
    {
     "data": {
      "text/plain": [
       "tensor([0, 3, 4, 5, 6, 7, 8, 1, 2, 4, 5])"
      ]
     },
     "execution_count": 63,
     "metadata": {},
     "output_type": "execute_result"
    }
   ],
   "source": [
    "inverse"
   ]
  },
  {
   "cell_type": "code",
   "execution_count": 61,
   "metadata": {},
   "outputs": [
    {
     "data": {
      "text/plain": [
       "tensor([[0., 1., 2., 3.],\n",
       "        [2., 1., 3., 4.]])"
      ]
     },
     "execution_count": 61,
     "metadata": {},
     "output_type": "execute_result"
    }
   ],
   "source": [
    "truth"
   ]
  },
  {
   "cell_type": "code",
   "execution_count": 62,
   "metadata": {},
   "outputs": [
    {
     "data": {
      "text/plain": [
       "tensor([[0., 1., 2., 3., 4., 5., 6.],\n",
       "        [1., 2., 3., 4., 5., 6., 7.]])"
      ]
     },
     "execution_count": 62,
     "metadata": {},
     "output_type": "execute_result"
    }
   ],
   "source": [
    "pred"
   ]
  },
  {
   "cell_type": "code",
   "execution_count": 58,
   "metadata": {},
   "outputs": [],
   "source": [
    "truth_to_pred = inverse_pred_map[inverse][pred.shape[1]:]\n",
    "pred_to_truth = inverse_truth_map[inverse][:pred.shape[1]]"
   ]
  },
  {
   "cell_type": "code",
   "execution_count": 59,
   "metadata": {},
   "outputs": [
    {
     "data": {
      "text/plain": [
       "tensor([-1, -1,  2,  3])"
      ]
     },
     "execution_count": 59,
     "metadata": {},
     "output_type": "execute_result"
    }
   ],
   "source": [
    "truth_to_pred"
   ]
  },
  {
   "cell_type": "code",
   "execution_count": 60,
   "metadata": {},
   "outputs": [
    {
     "data": {
      "text/plain": [
       "tensor([False, False,  True,  True, False, False, False])"
      ]
     },
     "execution_count": 60,
     "metadata": {},
     "output_type": "execute_result"
    }
   ],
   "source": [
    "pred_to_truth >= 0"
   ]
  },
  {
   "cell_type": "code",
   "execution_count": null,
   "metadata": {},
   "outputs": [],
   "source": []
  }
 ],
 "metadata": {
  "kernelspec": {
   "display_name": "Python 3.8.12 ('exatrkx-gpu': conda)",
   "language": "python",
   "name": "python3"
  },
  "language_info": {
   "codemirror_mode": {
    "name": "ipython",
    "version": 3
   },
   "file_extension": ".py",
   "mimetype": "text/x-python",
   "name": "python",
   "nbconvert_exporter": "python",
   "pygments_lexer": "ipython3",
   "version": "3.8.12"
  },
  "vscode": {
   "interpreter": {
    "hash": "160bbf3460607ce6882228c7f3472b9123241d62d3bf3b05bb085d37e9832afe"
   }
  }
 },
 "nbformat": 4,
 "nbformat_minor": 4
}
