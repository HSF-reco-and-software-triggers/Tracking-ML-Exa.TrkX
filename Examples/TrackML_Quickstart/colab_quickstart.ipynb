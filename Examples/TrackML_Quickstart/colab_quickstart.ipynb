{
 "cells": [
  {
   "cell_type": "markdown",
   "metadata": {},
   "source": [
    "[![Open In Colab](https://colab.research.google.com/assets/colab-badge.svg)](https://colab.research.google.com/github/HSF-reco-and-software-triggers/Tracking-ML-Exa.TrkX/blob/master/Examples/TrackML_Quickstart/colab_quickstart.ipynb)"
   ]
  },
  {
   "cell_type": "markdown",
   "metadata": {},
   "source": [
    "# TrackML Quickstart"
   ]
  },
  {
   "cell_type": "markdown",
   "metadata": {},
   "source": [
    "## Install Libraries"
   ]
  },
  {
   "cell_type": "code",
   "execution_count": null,
   "metadata": {},
   "outputs": [],
   "source": [
    "!git clone https://github.com/HSF-reco-and-software-triggers/Tracking-ML-Exa.TrkX.git\n",
    "!pip install -e ./Tracking-ML-Exa.TrkX"
   ]
  },
  {
   "cell_type": "code",
   "execution_count": null,
   "metadata": {},
   "outputs": [],
   "source": [
    "!pip install -q condacolab\n",
    "import condacolab\n",
    "condacolab.install()"
   ]
  },
  {
   "cell_type": "code",
   "execution_count": null,
   "metadata": {},
   "outputs": [],
   "source": [
    "!conda install pandas scipy matplotlib cupy cudatoolkit=11.3 pytorch=1.10.2 pytorch-lightning pyg faiss-gpu cudf=21.12 cugraph=21.12 -c rapidsai -c nvidia -c pytorch -c pyg -c condaforge\n",
    "!pip install seaborn bokeh "
   ]
  },
  {
   "cell_type": "code",
   "execution_count": null,
   "metadata": {},
   "outputs": [],
   "source": []
  },
  {
   "cell_type": "markdown",
   "metadata": {},
   "source": [
    "# Import libraries"
   ]
  },
  {
   "cell_type": "code",
   "execution_count": 10,
   "metadata": {},
   "outputs": [
    {
     "data": {
      "text/html": [
       "\n",
       "    <div class=\"bk-root\">\n",
       "        <a href=\"https://bokeh.org\" target=\"_blank\" class=\"bk-logo bk-logo-small bk-logo-notebook\"></a>\n",
       "        <span id=\"1002\">Loading BokehJS ...</span>\n",
       "    </div>"
      ]
     },
     "metadata": {},
     "output_type": "display_data"
    },
    {
     "data": {
      "application/javascript": "\n(function(root) {\n  function now() {\n    return new Date();\n  }\n\n  const force = true;\n\n  if (typeof root._bokeh_onload_callbacks === \"undefined\" || force === true) {\n    root._bokeh_onload_callbacks = [];\n    root._bokeh_is_loading = undefined;\n  }\n\n  const JS_MIME_TYPE = 'application/javascript';\n  const HTML_MIME_TYPE = 'text/html';\n  const EXEC_MIME_TYPE = 'application/vnd.bokehjs_exec.v0+json';\n  const CLASS_NAME = 'output_bokeh rendered_html';\n\n  /**\n   * Render data to the DOM node\n   */\n  function render(props, node) {\n    const script = document.createElement(\"script\");\n    node.appendChild(script);\n  }\n\n  /**\n   * Handle when an output is cleared or removed\n   */\n  function handleClearOutput(event, handle) {\n    const cell = handle.cell;\n\n    const id = cell.output_area._bokeh_element_id;\n    const server_id = cell.output_area._bokeh_server_id;\n    // Clean up Bokeh references\n    if (id != null && id in Bokeh.index) {\n      Bokeh.index[id].model.document.clear();\n      delete Bokeh.index[id];\n    }\n\n    if (server_id !== undefined) {\n      // Clean up Bokeh references\n      const cmd_clean = \"from bokeh.io.state import curstate; print(curstate().uuid_to_server['\" + server_id + \"'].get_sessions()[0].document.roots[0]._id)\";\n      cell.notebook.kernel.execute(cmd_clean, {\n        iopub: {\n          output: function(msg) {\n            const id = msg.content.text.trim();\n            if (id in Bokeh.index) {\n              Bokeh.index[id].model.document.clear();\n              delete Bokeh.index[id];\n            }\n          }\n        }\n      });\n      // Destroy server and session\n      const cmd_destroy = \"import bokeh.io.notebook as ion; ion.destroy_server('\" + server_id + \"')\";\n      cell.notebook.kernel.execute(cmd_destroy);\n    }\n  }\n\n  /**\n   * Handle when a new output is added\n   */\n  function handleAddOutput(event, handle) {\n    const output_area = handle.output_area;\n    const output = handle.output;\n\n    // limit handleAddOutput to display_data with EXEC_MIME_TYPE content only\n    if ((output.output_type != \"display_data\") || (!Object.prototype.hasOwnProperty.call(output.data, EXEC_MIME_TYPE))) {\n      return\n    }\n\n    const toinsert = output_area.element.find(\".\" + CLASS_NAME.split(' ')[0]);\n\n    if (output.metadata[EXEC_MIME_TYPE][\"id\"] !== undefined) {\n      toinsert[toinsert.length - 1].firstChild.textContent = output.data[JS_MIME_TYPE];\n      // store reference to embed id on output_area\n      output_area._bokeh_element_id = output.metadata[EXEC_MIME_TYPE][\"id\"];\n    }\n    if (output.metadata[EXEC_MIME_TYPE][\"server_id\"] !== undefined) {\n      const bk_div = document.createElement(\"div\");\n      bk_div.innerHTML = output.data[HTML_MIME_TYPE];\n      const script_attrs = bk_div.children[0].attributes;\n      for (let i = 0; i < script_attrs.length; i++) {\n        toinsert[toinsert.length - 1].firstChild.setAttribute(script_attrs[i].name, script_attrs[i].value);\n        toinsert[toinsert.length - 1].firstChild.textContent = bk_div.children[0].textContent\n      }\n      // store reference to server id on output_area\n      output_area._bokeh_server_id = output.metadata[EXEC_MIME_TYPE][\"server_id\"];\n    }\n  }\n\n  function register_renderer(events, OutputArea) {\n\n    function append_mime(data, metadata, element) {\n      // create a DOM node to render to\n      const toinsert = this.create_output_subarea(\n        metadata,\n        CLASS_NAME,\n        EXEC_MIME_TYPE\n      );\n      this.keyboard_manager.register_events(toinsert);\n      // Render to node\n      const props = {data: data, metadata: metadata[EXEC_MIME_TYPE]};\n      render(props, toinsert[toinsert.length - 1]);\n      element.append(toinsert);\n      return toinsert\n    }\n\n    /* Handle when an output is cleared or removed */\n    events.on('clear_output.CodeCell', handleClearOutput);\n    events.on('delete.Cell', handleClearOutput);\n\n    /* Handle when a new output is added */\n    events.on('output_added.OutputArea', handleAddOutput);\n\n    /**\n     * Register the mime type and append_mime function with output_area\n     */\n    OutputArea.prototype.register_mime_type(EXEC_MIME_TYPE, append_mime, {\n      /* Is output safe? */\n      safe: true,\n      /* Index of renderer in `output_area.display_order` */\n      index: 0\n    });\n  }\n\n  // register the mime type if in Jupyter Notebook environment and previously unregistered\n  if (root.Jupyter !== undefined) {\n    const events = require('base/js/events');\n    const OutputArea = require('notebook/js/outputarea').OutputArea;\n\n    if (OutputArea.prototype.mime_types().indexOf(EXEC_MIME_TYPE) == -1) {\n      register_renderer(events, OutputArea);\n    }\n  }\n\n  \n  if (typeof (root._bokeh_timeout) === \"undefined\" || force === true) {\n    root._bokeh_timeout = Date.now() + 5000;\n    root._bokeh_failed_load = false;\n  }\n\n  const NB_LOAD_WARNING = {'data': {'text/html':\n     \"<div style='background-color: #fdd'>\\n\"+\n     \"<p>\\n\"+\n     \"BokehJS does not appear to have successfully loaded. If loading BokehJS from CDN, this \\n\"+\n     \"may be due to a slow or bad network connection. Possible fixes:\\n\"+\n     \"</p>\\n\"+\n     \"<ul>\\n\"+\n     \"<li>re-rerun `output_notebook()` to attempt to load from CDN again, or</li>\\n\"+\n     \"<li>use INLINE resources instead, as so:</li>\\n\"+\n     \"</ul>\\n\"+\n     \"<code>\\n\"+\n     \"from bokeh.resources import INLINE\\n\"+\n     \"output_notebook(resources=INLINE)\\n\"+\n     \"</code>\\n\"+\n     \"</div>\"}};\n\n  function display_loaded() {\n    const el = document.getElementById(\"1002\");\n    if (el != null) {\n      el.textContent = \"BokehJS is loading...\";\n    }\n    if (root.Bokeh !== undefined) {\n      if (el != null) {\n        el.textContent = \"BokehJS \" + root.Bokeh.version + \" successfully loaded.\";\n      }\n    } else if (Date.now() < root._bokeh_timeout) {\n      setTimeout(display_loaded, 100)\n    }\n  }\n\n\n  function run_callbacks() {\n    try {\n      root._bokeh_onload_callbacks.forEach(function(callback) {\n        if (callback != null)\n          callback();\n      });\n    } finally {\n      delete root._bokeh_onload_callbacks\n    }\n    console.debug(\"Bokeh: all callbacks have finished\");\n  }\n\n  function load_libs(css_urls, js_urls, callback) {\n    if (css_urls == null) css_urls = [];\n    if (js_urls == null) js_urls = [];\n\n    root._bokeh_onload_callbacks.push(callback);\n    if (root._bokeh_is_loading > 0) {\n      console.debug(\"Bokeh: BokehJS is being loaded, scheduling callback at\", now());\n      return null;\n    }\n    if (js_urls == null || js_urls.length === 0) {\n      run_callbacks();\n      return null;\n    }\n    console.debug(\"Bokeh: BokehJS not loaded, scheduling load and callback at\", now());\n    root._bokeh_is_loading = css_urls.length + js_urls.length;\n\n    function on_load() {\n      root._bokeh_is_loading--;\n      if (root._bokeh_is_loading === 0) {\n        console.debug(\"Bokeh: all BokehJS libraries/stylesheets loaded\");\n        run_callbacks()\n      }\n    }\n\n    function on_error(url) {\n      console.error(\"failed to load \" + url);\n    }\n\n    for (let i = 0; i < css_urls.length; i++) {\n      const url = css_urls[i];\n      const element = document.createElement(\"link\");\n      element.onload = on_load;\n      element.onerror = on_error.bind(null, url);\n      element.rel = \"stylesheet\";\n      element.type = \"text/css\";\n      element.href = url;\n      console.debug(\"Bokeh: injecting link tag for BokehJS stylesheet: \", url);\n      document.body.appendChild(element);\n    }\n\n    for (let i = 0; i < js_urls.length; i++) {\n      const url = js_urls[i];\n      const element = document.createElement('script');\n      element.onload = on_load;\n      element.onerror = on_error.bind(null, url);\n      element.async = false;\n      element.src = url;\n      console.debug(\"Bokeh: injecting script tag for BokehJS library: \", url);\n      document.head.appendChild(element);\n    }\n  };\n\n  function inject_raw_css(css) {\n    const element = document.createElement(\"style\");\n    element.appendChild(document.createTextNode(css));\n    document.body.appendChild(element);\n  }\n\n  \n  const js_urls = [\"https://cdn.bokeh.org/bokeh/release/bokeh-2.4.2.min.js\", \"https://cdn.bokeh.org/bokeh/release/bokeh-gl-2.4.2.min.js\", \"https://cdn.bokeh.org/bokeh/release/bokeh-widgets-2.4.2.min.js\", \"https://cdn.bokeh.org/bokeh/release/bokeh-tables-2.4.2.min.js\", \"https://cdn.bokeh.org/bokeh/release/bokeh-mathjax-2.4.2.min.js\"];\n  const css_urls = [];\n  \n\n  const inline_js = [\n    function(Bokeh) {\n      Bokeh.set_log_level(\"info\");\n    },\n    function(Bokeh) {\n    \n    \n    }\n  ];\n\n  function run_inline_js() {\n    \n    if (root.Bokeh !== undefined || force === true) {\n      \n    for (let i = 0; i < inline_js.length; i++) {\n      inline_js[i].call(root, root.Bokeh);\n    }\n    if (force === true) {\n        display_loaded();\n      }} else if (Date.now() < root._bokeh_timeout) {\n      setTimeout(run_inline_js, 100);\n    } else if (!root._bokeh_failed_load) {\n      console.log(\"Bokeh: BokehJS failed to load within specified timeout.\");\n      root._bokeh_failed_load = true;\n    } else if (force !== true) {\n      const cell = $(document.getElementById(\"1002\")).parents('.cell').data().cell;\n      cell.output_area.append_execute_result(NB_LOAD_WARNING)\n    }\n\n  }\n\n  if (root._bokeh_is_loading === 0) {\n    console.debug(\"Bokeh: BokehJS loaded, going straight to plotting\");\n    run_inline_js();\n  } else {\n    load_libs(css_urls, js_urls, function() {\n      console.debug(\"Bokeh: BokehJS plotting callback run at\", now());\n      run_inline_js();\n    });\n  }\n}(window));",
      "application/vnd.bokehjs_load.v0+json": ""
     },
     "metadata": {},
     "output_type": "display_data"
    }
   ],
   "source": [
    "from trackml.dataset import load_event\n",
    "from trackml.utils import add_momentum_quantities, add_position_quantities\n",
    "\n",
    "# visualization packages\n",
    "import matplotlib.pyplot as plt, seaborn as sns, bokeh\n",
    "import plotly.express as px\n",
    "from bokeh.io import output_notebook, show\n",
    "from bokeh.plotting import figure, row\n",
    "from bokeh.models import ColumnDataSource, HoverTool\n",
    "output_notebook()\n",
    "\n",
    "import numpy as np, pandas as pd\n",
    "import os\n",
    "from IPython.display import clear_output"
   ]
  },
  {
   "cell_type": "markdown",
   "metadata": {
    "vscode": {
     "languageId": "plaintext"
    }
   },
   "source": [
    "## Download Data"
   ]
  },
  {
   "cell_type": "code",
   "execution_count": null,
   "metadata": {},
   "outputs": [],
   "source": [
    "!wget https://portal.nersc.gov/cfs/m3443/dtmurnane/TrackML_Example/train_sample.zip -O datasets/train_sample.zip\n",
    "!unzip datasets/train_sample.zip -d datasets/\n",
    "\n",
    "clear_output()"
   ]
  },
  {
   "cell_type": "markdown",
   "metadata": {
    "tags": []
   },
   "source": [
    "## Visualize the Data\n",
    "\n",
    "The TrackML dataset contains simulated indepedent proton-proton collision events, each generating hundreds of particles, each of which hits cells and layers of the detector layers multiple times. The detector records the spatial coordinates and other auxillary information of these hits which, if properly connected, form tracks associated with the parent particle and the collision event from which it originates. The challenge and goal of this project is to associate each and every hit to one single track with optimal purity and efficiency, whose precise definition will be given later.\n",
    "\n",
    "Each event in the dataset is represented by 4 f"
   ]
  },
  {
   "cell_type": "code",
   "execution_count": 40,
   "metadata": {},
   "outputs": [],
   "source": [
    "DATA_DIR = '/global/cfs/cdirs/m3443/usr/pmtuan/ExaTrk-data/train_100_events'"
   ]
  },
  {
   "cell_type": "code",
   "execution_count": 41,
   "metadata": {},
   "outputs": [
    {
     "name": "stdout",
     "output_type": "stream",
     "text": [
      "Number of particles in this event: 12263\n",
      "Nunber of truth tracks: 10566\n",
      "Number of particles that exit the detector without a hit: 1697\n",
      "Number of particles that exit the detector without a hit: 1698\n"
     ]
    }
   ],
   "source": [
    "# load data\n",
    "\n",
    "hits, cells, particles, truth = load_event( os.path.join(DATA_DIR, 'event000001000') )\n",
    "\n",
    "print(f'Number of particles in this event: {particles.shape[0]}')\n",
    "print(f'Nunber of truth tracks: {truth[\"particle_id\"].unique().shape[0]}')\n",
    "print(f'Number of particles that exit the detector without a hit: {particles.shape[0] - truth[\"particle_id\"].unique().shape[0]}')\n",
    "print(f'Number of particles that exit the detector without a hit: {particles[ particles[\"nhits\"]==0].shape[0]}')"
   ]
  },
  {
   "cell_type": "markdown",
   "metadata": {},
   "source": [
    "Each entry in the particles data frame contains a unique identifier of the particle (particle_id), its charge (q), its initial position or vertex $(v_x, v_y, v_z)$, its initial momentum in GeV/c $(p_x, p_y, p_z)$ and its associated number of detector hits. \n",
    "\n",
    "Many particles do not leave behind any detector hits and obviously cannot be associated to any track. This is called \"detector inefficiency\". They are among \"uninterested particles\" and will be mostly filtered out by a simple momentum cut."
   ]
  },
  {
   "cell_type": "code",
   "execution_count": 4,
   "metadata": {},
   "outputs": [
    {
     "data": {
      "text/html": [
       "<div>\n",
       "<style scoped>\n",
       "    .dataframe tbody tr th:only-of-type {\n",
       "        vertical-align: middle;\n",
       "    }\n",
       "\n",
       "    .dataframe tbody tr th {\n",
       "        vertical-align: top;\n",
       "    }\n",
       "\n",
       "    .dataframe thead th {\n",
       "        text-align: right;\n",
       "    }\n",
       "</style>\n",
       "<table border=\"1\" class=\"dataframe\">\n",
       "  <thead>\n",
       "    <tr style=\"text-align: right;\">\n",
       "      <th></th>\n",
       "      <th>particle_id</th>\n",
       "      <th>vx</th>\n",
       "      <th>vy</th>\n",
       "      <th>vz</th>\n",
       "      <th>px</th>\n",
       "      <th>py</th>\n",
       "      <th>pz</th>\n",
       "      <th>q</th>\n",
       "      <th>nhits</th>\n",
       "      <th>pt</th>\n",
       "      <th>pphi</th>\n",
       "      <th>peta</th>\n",
       "      <th>p</th>\n",
       "    </tr>\n",
       "  </thead>\n",
       "  <tbody>\n",
       "    <tr>\n",
       "      <th>0</th>\n",
       "      <td>4503668346847232</td>\n",
       "      <td>-0.009288</td>\n",
       "      <td>0.009861</td>\n",
       "      <td>-0.077879</td>\n",
       "      <td>-0.055269</td>\n",
       "      <td>0.323272</td>\n",
       "      <td>-0.203492</td>\n",
       "      <td>-1</td>\n",
       "      <td>8</td>\n",
       "      <td>0.327963</td>\n",
       "      <td>1.740126</td>\n",
       "      <td>-0.586301</td>\n",
       "      <td>0.385964</td>\n",
       "    </tr>\n",
       "    <tr>\n",
       "      <th>1</th>\n",
       "      <td>4503737066323968</td>\n",
       "      <td>-0.009288</td>\n",
       "      <td>0.009861</td>\n",
       "      <td>-0.077879</td>\n",
       "      <td>-0.948125</td>\n",
       "      <td>0.470892</td>\n",
       "      <td>2.010060</td>\n",
       "      <td>1</td>\n",
       "      <td>11</td>\n",
       "      <td>1.058622</td>\n",
       "      <td>2.680624</td>\n",
       "      <td>1.397417</td>\n",
       "      <td>2.271788</td>\n",
       "    </tr>\n",
       "    <tr>\n",
       "      <th>2</th>\n",
       "      <td>4503805785800704</td>\n",
       "      <td>-0.009288</td>\n",
       "      <td>0.009861</td>\n",
       "      <td>-0.077879</td>\n",
       "      <td>-0.886484</td>\n",
       "      <td>0.105749</td>\n",
       "      <td>0.683881</td>\n",
       "      <td>-1</td>\n",
       "      <td>0</td>\n",
       "      <td>0.892769</td>\n",
       "      <td>3.022863</td>\n",
       "      <td>0.705916</td>\n",
       "      <td>1.124602</td>\n",
       "    </tr>\n",
       "    <tr>\n",
       "      <th>3</th>\n",
       "      <td>4503874505277440</td>\n",
       "      <td>-0.009288</td>\n",
       "      <td>0.009861</td>\n",
       "      <td>-0.077879</td>\n",
       "      <td>0.257539</td>\n",
       "      <td>-0.676718</td>\n",
       "      <td>0.991616</td>\n",
       "      <td>1</td>\n",
       "      <td>12</td>\n",
       "      <td>0.724067</td>\n",
       "      <td>-1.207151</td>\n",
       "      <td>1.120130</td>\n",
       "      <td>1.227834</td>\n",
       "    </tr>\n",
       "    <tr>\n",
       "      <th>4</th>\n",
       "      <td>4503943224754176</td>\n",
       "      <td>-0.009288</td>\n",
       "      <td>0.009861</td>\n",
       "      <td>-0.077879</td>\n",
       "      <td>16.439400</td>\n",
       "      <td>-15.548900</td>\n",
       "      <td>-39.824902</td>\n",
       "      <td>1</td>\n",
       "      <td>3</td>\n",
       "      <td>22.627907</td>\n",
       "      <td>-0.757567</td>\n",
       "      <td>-1.330844</td>\n",
       "      <td>45.804420</td>\n",
       "    </tr>\n",
       "  </tbody>\n",
       "</table>\n",
       "</div>"
      ],
      "text/plain": [
       "        particle_id        vx        vy        vz         px         py  \\\n",
       "0  4503668346847232 -0.009288  0.009861 -0.077879  -0.055269   0.323272   \n",
       "1  4503737066323968 -0.009288  0.009861 -0.077879  -0.948125   0.470892   \n",
       "2  4503805785800704 -0.009288  0.009861 -0.077879  -0.886484   0.105749   \n",
       "3  4503874505277440 -0.009288  0.009861 -0.077879   0.257539  -0.676718   \n",
       "4  4503943224754176 -0.009288  0.009861 -0.077879  16.439400 -15.548900   \n",
       "\n",
       "          pz  q  nhits         pt      pphi      peta          p  \n",
       "0  -0.203492 -1      8   0.327963  1.740126 -0.586301   0.385964  \n",
       "1   2.010060  1     11   1.058622  2.680624  1.397417   2.271788  \n",
       "2   0.683881 -1      0   0.892769  3.022863  0.705916   1.124602  \n",
       "3   0.991616  1     12   0.724067 -1.207151  1.120130   1.227834  \n",
       "4 -39.824902  1      3  22.627907 -0.757567 -1.330844  45.804420  "
      ]
     },
     "execution_count": 4,
     "metadata": {},
     "output_type": "execute_result"
    }
   ],
   "source": [
    "particles = add_momentum_quantities(particles)\n",
    "\n",
    "particles.head()"
   ]
  },
  {
   "cell_type": "markdown",
   "metadata": {},
   "source": [
    "### Visualize tracks"
   ]
  },
  {
   "cell_type": "code",
   "execution_count": null,
   "metadata": {},
   "outputs": [],
   "source": [
    "# inner join truth and huts on hit_id\n",
    "truth_hits = pd.merge(truth,hits, how='inner', on='hit_id')\n",
    "\n",
    "# get particles with relatively long tracks\n",
    "long_track_particles = particles[ particles['nhits'] > 15 ].sample(20)\n",
    "truth_hits = truth_hits[ truth_hits['particle_id'].isin(long_track_particles['particle_id']) ]\n",
    "\n",
    "size = 800\n",
    "# tools = 'box_select,lasso_select,box_zoom,reset,wheel_zoom'\n",
    "source = ColumnDataSource(hits)\n",
    "\n",
    "cmap = viridis(20)\n",
    "\n",
    "p1 = figure(plot_height = size, plot_width = size, \n",
    "           title = 'Sample Tracks in Longitudinal View',\n",
    "          x_axis_label = 'z', \n",
    "           y_axis_label = 'x', \n",
    "            # tools=tools\n",
    "        )\n",
    "\n",
    "p1.scatter('z', 'x', source=source, size=1, alpha=0.1, color='gray' )\n",
    "\n",
    "p2 = figure(plot_height = size, plot_width = size, \n",
    "           title = 'Sample Tracks in Down-beampipe View',\n",
    "          x_axis_label = 'z', \n",
    "           y_axis_label = 'x', \n",
    "            # tools=tools\n",
    "        )\n",
    "\n",
    "p2.scatter('x', 'y', source=source, size=1, alpha=0.1, color='gray' )\n",
    "\n",
    "for idx, pid in enumerate( truth_hits['particle_id'].unique()):\n",
    "    track = truth_hits[ truth_hits['particle_id'] == pid ].copy()\n",
    "    track['r2'] = track['tpx']**2 + track['tpy']**2 + track['tpz']**2\n",
    "    track['color']=idx\n",
    "    track.sort_values(axis=0, by='r2', inplace=True)\n",
    "    source = ColumnDataSource(track)\n",
    "    p2.scatter( 'x', 'y', source=source, color=cmap[idx], size=5, line_dash='solid')\n",
    "    p2.line( 'x', 'y', source=source, color=cmap[idx], line_width=2)\n",
    "    p1.scatter( 'z', 'x', source=source, color=cmap[idx], size=5, line_dash='solid')\n",
    "    p1.line( 'z', 'x', source=source, color=cmap[idx], line_width=2)\n",
    "\n",
    "    \n",
    "p2.add_tools(BoxSelectTool())\n",
    "p1.add_tools(BoxSelectTool())\n",
    "p2.add_tools(LassoSelectTool())\n",
    "p1.add_tools(LassoSelectTool())\n",
    "\n",
    "show(row([p1, p2]))\n"
   ]
  },
  {
   "cell_type": "markdown",
   "metadata": {
    "tags": []
   },
   "source": [
    "### Particle kinematic distribution"
   ]
  },
  {
   "cell_type": "code",
   "execution_count": null,
   "metadata": {
    "tags": []
   },
   "outputs": [],
   "source": [
    "size = 400\n",
    "p=[]\n",
    "titles = [\n",
    "    'Momentum',\n",
    "    'Transverse Momentum',\n",
    "    'Pseudo Rapidity',\n",
    "    'Azimuthal Angle', \n",
    "    'Hits'\n",
    "]\n",
    "variables = [\n",
    "    'p', 'pt', 'peta', 'pphi', 'nhits'\n",
    "]\n",
    "x_labels = [\n",
    "    r'$$p \\, (GeV/c)$$',\n",
    "    r'$$p_T \\, (GeV/c)$$',\n",
    "    r'$$\\eta$$',\n",
    "    r'$$\\phi $$',\n",
    "    r'$$n_{hit}$$'\n",
    "]\n",
    "y_label = 'Count'\n",
    "ranges = [ [0, 15], [0,4], [-4,4], [-np.pi, np.pi], [0, 20] ]\n",
    "dfs = []\n",
    "for title, variable, x_label, r in zip( titles, variables, x_labels, ranges ):\n",
    "    p.append(figure(plot_height = size, plot_width = size, \n",
    "           title = title,\n",
    "          x_axis_label = x_label, \n",
    "           y_axis_label = y_label)\n",
    "    )\n",
    "    hist, edges = np.histogram(particles[variable], bins=20 if variable=='nhits' else 50, range=r)\n",
    "    dfs.append( pd.DataFrame( { 'count': hist, 'left': edges[:-1], 'right': edges[1:] } ) )\n",
    "    source = ColumnDataSource(dfs[-1])\n",
    "    p[-1].quad(bottom=0., top='count', left='left', right='right', source=source)\n",
    "    p[-1].add_tools(\n",
    "        HoverTool(tooltips = [('Count', '@count'),\n",
    "                                 (f'Range', '(@left{2.2f}, @right{2.2f})')])\n",
    "    )\n",
    "\n",
    "show(row(p))"
   ]
  },
  {
   "cell_type": "markdown",
   "metadata": {},
   "source": [
    "### Momentum cut"
   ]
  },
  {
   "cell_type": "code",
   "execution_count": 55,
   "metadata": {
    "collapsed": true,
    "jupyter": {
     "outputs_hidden": true,
     "source_hidden": true
    },
    "tags": []
   },
   "outputs": [
    {
     "name": "stdout",
     "output_type": "stream",
     "text": [
      "Number of particles after momentum cut: 1383\n",
      "Number of particles that exit the detector without a hit: 36\n"
     ]
    }
   ],
   "source": [
    "particles = particles[ (particles['pt'] > 1. ) ]\n",
    "\n",
    "print(f'Number of particles after momentum cut: {particles.shape[0]}')\n",
    "print(f'Number of particles that exit the detector without a hit: {particles[ particles[\"nhits\"]==0].shape[0]}')"
   ]
  },
  {
   "cell_type": "code",
   "execution_count": 133,
   "metadata": {
    "tags": []
   },
   "outputs": [
    {
     "name": "stdout",
     "output_type": "stream",
     "text": [
      "Number of hits recorded: 120939\n",
      "Average number of hits per track:  11.45\n"
     ]
    }
   ],
   "source": [
    "print(f'Number of hits recorded: {hits.shape[0]}')\n",
    "print(f'Average number of hits per track: {hits.shape[0]/truth[\"particle_id\"].unique().shape[0]: .2f}')"
   ]
  },
  {
   "cell_type": "markdown",
   "metadata": {
    "vscode": {
     "languageId": "plaintext"
    }
   },
   "source": [
    "### Detector geometry"
   ]
  },
  {
   "cell_type": "code",
   "execution_count": 5,
   "metadata": {},
   "outputs": [],
   "source": [
    "hits = add_position_quantities(hits)\n",
    "hits['abs_z'] = hits['z'].abs()"
   ]
  },
  {
   "cell_type": "code",
   "execution_count": 54,
   "metadata": {},
   "outputs": [],
   "source": [
    "from bokeh.palettes import Plasma256, Spectral, brewer, d3, Plasma, inferno, viridis\n",
    "from bokeh.models import ColorMapper, ColorBar, LinearColorMapper, BoxSelectTool, LassoSelectTool\n",
    "from bokeh.transform import linear_cmap"
   ]
  },
  {
   "cell_type": "code",
   "execution_count": null,
   "metadata": {
    "tags": []
   },
   "outputs": [],
   "source": [
    "size = 800\n",
    "# tools = 'box_select,lasso_select,box_zoom,reset,wheel_zoom'\n",
    "source = ColumnDataSource(hits)\n",
    "cmap = LinearColorMapper(palette='Plasma256', low=0, high=hits['abs_z'].max()+300)\n",
    "# linear_cmap(field_name = \"abs_z\", palette='Spectral11', low=0, high=hits['z'].max())\n",
    "\n",
    "p1 = figure(plot_height = size, plot_width = size, \n",
    "           title = 'Longitudinal Spacepoint Distribution',\n",
    "          x_axis_label = 'z', \n",
    "           y_axis_label = 'x', \n",
    "            # tools=tools\n",
    "        )\n",
    "\n",
    "p1.scatter('z', 'x', source=source, size=1, color={'field': 'abs_z', 'transform': cmap} )\n",
    "p1.add_tools(BoxSelectTool())\n",
    "\n",
    "p2 = figure(plot_height = size, plot_width = size + 90, \n",
    "           title = 'Down-beampipe Spacepoint Distribution',\n",
    "          x_axis_label = 'x', \n",
    "           y_axis_label = 'y',\n",
    "            # tools=tools\n",
    "           )\n",
    "\n",
    "p2.scatter('x', 'y', source=source, size=1, color={'field': 'abs_z', 'transform': cmap})\n",
    "\n",
    "color_bar = ColorBar(color_mapper=cmap, title='|z|',\n",
    "                     location=(0,0))\n",
    "p2.add_layout(color_bar, 'right')\n",
    "p2.add_tools(BoxSelectTool())\n",
    "show(row([p1,p2]))"
   ]
  },
  {
   "cell_type": "code",
   "execution_count": null,
   "metadata": {},
   "outputs": [],
   "source": [
    "# 3D visualization of detector \n",
    "\n",
    "import plotly.express as px\n",
    "import plotly.graph_objects as go\n",
    "\n",
    "# inner join truth and huts on hit_id\n",
    "truth_hits = pd.merge(truth,hits, how='inner', on='hit_id')\n",
    "\n",
    "# get particles with relatively long tracks\n",
    "long_track_particles = particles[ particles['nhits'] > 15 ].sample(20)\n",
    "truth_hits = truth_hits[ truth_hits['particle_id'].isin(long_track_particles['particle_id']) ]\n",
    "\n",
    "fig = px.scatter_3d(hits, x='x', y='y', z='z', opacity=0.2,\n",
    "              # color='abs_z',\n",
    "                    width=1800, height=800\n",
    "    )\n",
    "fig.update_traces(marker_size=1)\n",
    "\n",
    "cmap = inferno(20)\n",
    "\n",
    "for idx, pid in enumerate( truth_hits['particle_id'].unique()):\n",
    "    track = truth_hits[ truth_hits['particle_id'] == pid ].copy()\n",
    "    track['r2'] = track['tpx']**2 + track['tpy']**2 + track['tpz']**2\n",
    "    track['color']=idx\n",
    "    track.sort_values(axis=0, by='r2', inplace=True)\n",
    "    fig.add_trace(\n",
    "        go.Scatter3d(\n",
    "            x=track['x'],\n",
    "            y=track['y'],\n",
    "            z=track['z'],\n",
    "            mode='markers',\n",
    "            marker=dict(\n",
    "                size=3,\n",
    "                color=cmap[idx]\n",
    "            ),\n",
    "            showlegend=False\n",
    "        )\n",
    "    )\n",
    "    fig.add_trace(\n",
    "        go.Scatter3d(\n",
    "            x=track['x'],\n",
    "            y=track['y'],\n",
    "            z=track['z'],\n",
    "            mode='lines',\n",
    "            line=dict(\n",
    "                dash='solid',\n",
    "                width=2,\n",
    "                color=cmap[idx]\n",
    "            ),\n",
    "            showlegend=False\n",
    "        )\n",
    "    )\n",
    "\n",
    "fig.show()"
   ]
  },
  {
   "cell_type": "code",
   "execution_count": null,
   "metadata": {},
   "outputs": [],
   "source": []
  }
 ],
 "metadata": {
  "kernelspec": {
   "display_name": "ExaTrk",
   "language": "python",
   "name": "exatrk"
  },
  "language_info": {
   "codemirror_mode": {
    "name": "ipython",
    "version": 3
   },
   "file_extension": ".py",
   "mimetype": "text/x-python",
   "name": "python",
   "nbconvert_exporter": "python",
   "pygments_lexer": "ipython3",
   "version": "3.8.13"
  }
 },
 "nbformat": 4,
 "nbformat_minor": 4
}
