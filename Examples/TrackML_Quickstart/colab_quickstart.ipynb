{
 "cells": [
  {
   "cell_type": "markdown",
   "metadata": {},
   "source": [
    "# TrackML Quickstart"
   ]
  },
  {
   "cell_type": "markdown",
   "metadata": {},
   "source": [
    "## Install Libraries"
   ]
  },
  {
   "cell_type": "code",
   "execution_count": null,
   "metadata": {},
   "outputs": [],
   "source": [
    "!git clone https://github.com/HSF-reco-and-software-triggers/Tracking-ML-Exa.TrkX.git"
   ]
  },
  {
   "cell_type": "code",
   "execution_count": null,
   "metadata": {},
   "outputs": [],
   "source": [
    "!pip install -q condacolab\n",
    "import condacolab\n",
    "condacolab.install()"
   ]
  },
  {
   "cell_type": "code",
   "execution_count": null,
   "metadata": {},
   "outputs": [],
   "source": [
    "!conda install pandas scipy matplotlib cupy cudatoolkit=11.3 pytorch=1.10.2 pytorch-lightning pyg faiss-gpu cudf=21.12 cugraph=21.12 -c rapidsai -c nvidia -c pytorch -c pyg -c condaforge"
   ]
  },
  {
   "cell_type": "markdown",
   "metadata": {
    "vscode": {
     "languageId": "plaintext"
    }
   },
   "source": [
    "## Download Data"
   ]
  },
  {
   "cell_type": "code",
   "execution_count": 4,
   "metadata": {},
   "outputs": [
    {
     "name": "stdout",
     "output_type": "stream",
     "text": [
      "--2022-05-25 14:45:51--  https://portal.nersc.gov/cfs/m3443/dtmurnane/TrackML_Example/trackml_quickstart_dataset.tar.gz\n",
      "Resolving portal.nersc.gov (portal.nersc.gov)... 128.55.206.106, 128.55.206.110, 128.55.206.112, ...\n",
      "Connecting to portal.nersc.gov (portal.nersc.gov)|128.55.206.106|:443... connected.\n",
      "HTTP request sent, awaiting response... 200 OK\n",
      "Length: 49146568 (47M) [application/x-gzip]\n",
      "Saving to: ‘datasets/trackml_quickstart_dataset.tar.gz’\n",
      "\n",
      "datasets/trackml_qu 100%[===================>]  46.87M  70.8MB/s    in 0.7s    \n",
      "\n",
      "2022-05-25 14:45:52 (70.8 MB/s) - ‘datasets/trackml_quickstart_dataset.tar.gz’ saved [49146568/49146568]\n",
      "\n"
     ]
    }
   ],
   "source": [
    "!mkdir datasets\n",
    "!wget https://portal.nersc.gov/cfs/m3443/dtmurnane/TrackML_Example/trackml_quickstart_dataset.tar.gz -O datasets/trackml_quickstart_dataset.tar.gz\n",
    "!tar -xvf datasets/trackml_quickstart_dataset.tar.gz -C datasets"
   ]
  },
  {
   "cell_type": "markdown",
   "metadata": {},
   "source": [
    "## Visualize the Data"
   ]
  },
  {
   "cell_type": "code",
   "execution_count": null,
   "metadata": {},
   "outputs": [],
   "source": []
  },
  {
   "cell_type": "code",
   "execution_count": null,
   "metadata": {},
   "outputs": [],
   "source": []
  }
 ],
 "metadata": {
  "interpreter": {
   "hash": "160bbf3460607ce6882228c7f3472b9123241d62d3bf3b05bb085d37e9832afe"
  },
  "kernelspec": {
   "display_name": "Python 3.8.12 ('exatrkx-gpu': conda)",
   "language": "python",
   "name": "python3"
  },
  "language_info": {
   "codemirror_mode": {
    "name": "ipython",
    "version": 3
   },
   "file_extension": ".py",
   "mimetype": "text/x-python",
   "name": "python",
   "nbconvert_exporter": "python",
   "pygments_lexer": "ipython3",
   "version": "3.8.12"
  },
  "orig_nbformat": 4
 },
 "nbformat": 4,
 "nbformat_minor": 2
}
