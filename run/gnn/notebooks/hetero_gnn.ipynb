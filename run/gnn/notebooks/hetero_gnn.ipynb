{
 "cells": [
  {
   "cell_type": "code",
   "execution_count": 3,
   "metadata": {},
   "outputs": [],
   "source": [
    "import torch\n",
    "import os"
   ]
  },
  {
   "cell_type": "code",
   "execution_count": 6,
   "metadata": {},
   "outputs": [],
   "source": [
    "INPUTDIR = '/global/cfs/cdirs/m3443/data/ITk-upgrade/processed/hetero_processed/0GeV_v3/train'\n",
    "data = torch.load(os.path.join(INPUTDIR, os.listdir(INPUTDIR)[0]))"
   ]
  },
  {
   "cell_type": "code",
   "execution_count": null,
   "metadata": {},
   "outputs": [],
   "source": []
  }
 ],
 "metadata": {
  "kernelspec": {
   "display_name": "Python 3.8.0 64-bit ('exatrkx_hsf')",
   "language": "python",
   "name": "python3"
  },
  "language_info": {
   "codemirror_mode": {
    "name": "ipython",
    "version": 3
   },
   "file_extension": ".py",
   "mimetype": "text/x-python",
   "name": "python",
   "nbconvert_exporter": "python",
   "pygments_lexer": "ipython3",
   "version": "3.8.0"
  },
  "orig_nbformat": 4,
  "vscode": {
   "interpreter": {
    "hash": "1a0238d3f123ced82ee156eb43283acbe42478d8ea70b364b579777bf454bf83"
   }
  }
 },
 "nbformat": 4,
 "nbformat_minor": 2
}
