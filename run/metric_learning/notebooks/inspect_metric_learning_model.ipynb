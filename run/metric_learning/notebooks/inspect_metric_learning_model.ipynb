{
 "cells": [
  {
   "cell_type": "code",
   "execution_count": 5,
   "metadata": {},
   "outputs": [],
   "source": [
    "from pytorch_lightning import Trainer\n",
    "from pytorch_lightning.loggers import CSVLogger, WandbLogger, TensorBoardLogger\n",
    "from pytorch_lightning.strategies.ddp import DDPStrategy\n",
    "import sys\n",
    "import os\n",
    "import argparse\n",
    "import logging\n",
    "import yaml\n",
    "logging.basicConfig(level=logging.INFO, format='%(levelname)s:%(message)s')\n",
    "import wandb\n",
    "import numpy as np\n",
    "import torch\n",
    "\n",
    "sys.path.append(\"/global/cfs/cdirs/m3443/usr/pmtuan/Tracking-ML-Exa.TrkX/\")\n",
    "from Pipelines.TrackML_Example_Dev.LightningModules.Embedding.Models.layerless_embedding import LayerlessEmbedding\n",
    "from utils import headline\n",
    "from datetime import datetime\n"
   ]
  },
  {
   "cell_type": "code",
   "execution_count": 19,
   "metadata": {},
   "outputs": [],
   "source": [
    "from pytorch_lightning import Callback\n",
    "class myLayerlessEmbedding(LayerlessEmbedding):\n",
    "\n",
    "    def training_step_end(self, step_output):\n",
    "        loss = step_output['loss']\n",
    "        positive_loss = step_output['positive_loss'] \n",
    "        negative_loss = step_output['negative_loss']\n",
    "        if self.trainer.current_epoch %2 == 0: \n",
    "            return negative_loss\n",
    "        else:\n",
    "            return positive_loss\n",
    "\n",
    "class WeightRampCallback(Callback):\n",
    "\n",
    "    def __init__(self):\n",
    "        super().__init__()\n",
    "        self.eff=[]\n",
    "        self.weights=[]\n",
    "    \n",
    "    def on_validation_end(self, trainer, pl_module):\n",
    "        self.eff.append(trainer.logged_metrics['eff'].cpu().numpy())\n",
    "        eff_threshold = pl_module.hparams.get('eff_threshold', 0.8)\n",
    "        patience = pl_module.hparams.get('patience', 10)\n",
    "        weight_factor = pl_module.hparams.get('weight_factor', 1.1)\n",
    "        if np.mean(self.eff[-10:]) < eff_threshold:\n",
    "            self.weights.append(pl_module.hparams['weight'])\n",
    "        elif np.mean(self.weights[ -patience : ]) == pl_module.hparams['weight']:\n",
    "            pl_module.hparams['weight'] *= weight_factor\n",
    "            self.weights.append(pl_module.hparams['weight'])\n",
    "        else:\n",
    "            self.weights.append(pl_module.hparams['weight'])\n"
   ]
  },
  {
   "cell_type": "code",
   "execution_count": 20,
   "metadata": {},
   "outputs": [
    {
     "name": "stderr",
     "output_type": "stream",
     "text": [
      "GPU available: True, used: True\n",
      "TPU available: False, using: 0 TPU cores\n",
      "IPU available: False, using: 0 IPUs\n",
      "HPU available: False, using: 0 HPUs\n",
      "INFO:Loaded event: /global/cfs/cdirs/m3443/data/ITk-upgrade/processed/feature_store/feature_store_modulewise_barrel_v3/10001\n",
      "INFO:Loaded event: /global/cfs/cdirs/m3443/data/ITk-upgrade/processed/feature_store/feature_store_modulewise_barrel_v3/10002\n",
      "INFO:Loaded event: /global/cfs/cdirs/m3443/data/ITk-upgrade/processed/feature_store/feature_store_modulewise_barrel_v3/10003\n",
      "INFO:Loaded event: /global/cfs/cdirs/m3443/data/ITk-upgrade/processed/feature_store/feature_store_modulewise_barrel_v3/10004\n",
      "INFO:Loaded event: /global/cfs/cdirs/m3443/data/ITk-upgrade/processed/feature_store/feature_store_modulewise_barrel_v3/10005\n",
      "INFO:Loaded event: /global/cfs/cdirs/m3443/data/ITk-upgrade/processed/feature_store/feature_store_modulewise_barrel_v3/10006\n",
      "INFO:Loaded event: /global/cfs/cdirs/m3443/data/ITk-upgrade/processed/feature_store/feature_store_modulewise_barrel_v3/10007\n",
      "INFO:Loaded event: /global/cfs/cdirs/m3443/data/ITk-upgrade/processed/feature_store/feature_store_modulewise_barrel_v3/10008\n",
      "INFO:Loaded event: /global/cfs/cdirs/m3443/data/ITk-upgrade/processed/feature_store/feature_store_modulewise_barrel_v3/10009\n",
      "INFO:Loaded event: /global/cfs/cdirs/m3443/data/ITk-upgrade/processed/feature_store/feature_store_modulewise_barrel_v3/10010\n",
      "LOCAL_RANK: 0 - CUDA_VISIBLE_DEVICES: [0]\n",
      "\n",
      "  | Name    | Type       | Params\n",
      "---------------------------------------\n",
      "0 | network | Sequential | 3.2 M \n",
      "---------------------------------------\n",
      "3.2 M     Trainable params\n",
      "0         Non-trainable params\n",
      "3.2 M     Total params\n",
      "12.739    Total estimated model params size (MB)\n"
     ]
    },
    {
     "name": "stdout",
     "output_type": "stream",
     "text": [
      "                                                                           "
     ]
    },
    {
     "name": "stderr",
     "output_type": "stream",
     "text": [
      "/global/cfs/cdirs/m3443/usr/pmtuan/conda/exatrkx_hsf/lib/python3.8/site-packages/pytorch_lightning/trainer/trainer.py:1933: PossibleUserWarning: The number of training batches (8) is smaller than the logging interval Trainer(log_every_n_steps=50). Set a lower value for log_every_n_steps if you want to see logs for the training epoch.\n",
      "  rank_zero_warn(\n"
     ]
    },
    {
     "name": "stdout",
     "output_type": "stream",
     "text": [
      "Epoch 2: 100%|██████████| 9/9 [00:05<00:00,  1.63it/s, loss=0.00935, v_num=22, val_loss=0.00999, eff=0.234, pur=0.00045, current_lr=0.001, train_loss=0.0102, positive_loss=0.00023, negative_loss=0.00999, n_edges=7.17e+5, n_true_positive=1.54e+4, true_positive_rate=0.0215] \n"
     ]
    }
   ],
   "source": [
    "config_file = 'metric_learning_config_ITk_1.yaml'\n",
    "with open(config_file) as file:\n",
    "    all_configs = yaml.load(file, Loader=yaml.FullLoader)\n",
    "\n",
    "common_configs = all_configs[\"common_configs\"]\n",
    "metric_learning_configs = all_configs[\"metric_learning_configs\"]\n",
    "metric_learning_configs['n_events'] = 10\n",
    "\n",
    "model = myLayerlessEmbedding(metric_learning_configs)\n",
    "\n",
    "trainer = Trainer(\n",
    "    accelerator='gpu',\n",
    "    devices=1,\n",
    "    max_epochs=3,\n",
    "    callbacks=[WeightRampCallback()]\n",
    ")\n",
    "\n",
    "trainer.fit(model)\n"
   ]
  },
  {
   "cell_type": "code",
   "execution_count": null,
   "metadata": {},
   "outputs": [],
   "source": []
  }
 ],
 "metadata": {
  "kernelspec": {
   "display_name": "Python 3.8.0 64-bit ('exatrkx_hsf')",
   "language": "python",
   "name": "python3"
  },
  "language_info": {
   "codemirror_mode": {
    "name": "ipython",
    "version": 3
   },
   "file_extension": ".py",
   "mimetype": "text/x-python",
   "name": "python",
   "nbconvert_exporter": "python",
   "pygments_lexer": "ipython3",
   "version": "3.8.0"
  },
  "orig_nbformat": 4,
  "vscode": {
   "interpreter": {
    "hash": "1a0238d3f123ced82ee156eb43283acbe42478d8ea70b364b579777bf454bf83"
   }
  }
 },
 "nbformat": 4,
 "nbformat_minor": 2
}
