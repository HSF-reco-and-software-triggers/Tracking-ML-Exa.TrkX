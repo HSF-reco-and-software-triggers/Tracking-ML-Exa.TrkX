{
 "cells": [
  {
   "cell_type": "code",
   "execution_count": 10,
   "metadata": {},
   "outputs": [],
   "source": [
    "import torch\n",
    "import numpy as np, seaborn as sns, pandas as pd, matplotlib.pyplot as plt\n",
    "import os, sys\n",
    "sys.path.append('../../../')\n",
    "sys.path.append('../../../Examples/TrackML_Quickstart')\n",
    "from Pipelines.TrackML_Example_Dev.LightningModules.Embedding.Models.layerless_embedding import LayerlessEmbedding\n",
    "\n",
    "from utils import plot_true_graph, get_training_metrics, plot_training_metrics, plot_neighbor_performance, plot_predicted_graph, plot_track_lengths, plot_edge_performance, plot_graph_sizes\n",
    "# DATASET_PATH = '/global/cfs/cdirs/m3443/data/ITk-upgrade/processed/feature_store/feature_store_modulewise_all_v3'\n",
    "DATASET_PATH = '/global/cfs/cdirs/m3443/data/ITk-upgrade/processed/feature_store/feature_store_modulewise_barrel_v3'\n",
    "# MODEL_PATH = '/global/cfs/cdirs/m3443/usr/pmtuan/Tracking-ML-Exa.TrkX/Examples/TrackML_Full/hpc_ckpt_5.ckpt'"
   ]
  },
  {
   "cell_type": "code",
   "execution_count": 11,
   "metadata": {},
   "outputs": [
    {
     "data": {
      "text/plain": [
       "Data(x=[114073, 3], cell_data=[114073, 11], pid=[114073], event_file='/global/cfs/cdirs/m3443/data/ITk-upgrade/processed/full_events_v4/event000015843', hid=[114073], pt=[114073], primary=[114073], nhits=[114073], modulewise_true_edges=[2, 46005])"
      ]
     },
     "execution_count": 11,
     "metadata": {},
     "output_type": "execute_result"
    }
   ],
   "source": [
    "file_list = os.listdir(DATASET_PATH)\n",
    "\n",
    "input_data = torch.load(os.path.join(DATASET_PATH, file_list[0]))\n",
    "\n",
    "input_data.pt/=1000\n",
    "\n",
    "data=input_data\n",
    "data"
   ]
  },
  {
   "cell_type": "markdown",
   "metadata": {},
   "source": [
    "number of hits that are not noise"
   ]
  },
  {
   "cell_type": "code",
   "execution_count": 12,
   "metadata": {},
   "outputs": [
    {
     "data": {
      "text/plain": [
       "tensor(55735)"
      ]
     },
     "execution_count": 12,
     "metadata": {},
     "output_type": "execute_result"
    }
   ],
   "source": [
    "(input_data.pid > 0).sum() "
   ]
  },
  {
   "cell_type": "code",
   "execution_count": 4,
   "metadata": {},
   "outputs": [],
   "source": [
    "nanpt_idx = input_data.pt.isnan()\n",
    "nanpt_pid = data.pid[ nanpt_idx ]\n",
    "\n",
    "# all noise hits have pid 0"
   ]
  },
  {
   "cell_type": "code",
   "execution_count": 13,
   "metadata": {},
   "outputs": [
    {
     "name": "stdout",
     "output_type": "stream",
     "text": [
      "Number of truth hits that have nan pt: 2\n"
     ]
    },
    {
     "data": {
      "image/png": "[encoded data removed]",
      "text/plain": [
       "<Figure size 432x288 with 1 Axes>"
      ]
     },
     "metadata": {
      "needs_background": "light"
     },
     "output_type": "display_data"
    }
   ],
   "source": [
    "# pt of truth hits\n",
    "\n",
    "truth_idx = input_data.modulewise_true_edges.unique()\n",
    "truth_pt = input_data.pt[truth_idx]\n",
    "print( f'Number of truth hits that have nan pt: {truth_pt.isnan().sum()}' )\n",
    "\n",
    "sns.histplot(x=truth_pt.numpy(), binrange=(0,3), stat='count', bins=50)\n",
    "\n",
    "plt.show()"
   ]
  },
  {
   "cell_type": "code",
   "execution_count": 14,
   "metadata": {},
   "outputs": [
    {
     "data": {
      "image/png": "[encoded data removed]",
      "text/plain": [
       "<Figure size 1440x720 with 2 Axes>"
      ]
     },
     "metadata": {
      "needs_background": "light"
     },
     "output_type": "display_data"
    }
   ],
   "source": [
    "# hits per particle\n",
    "\n",
    "nonzero_particle_id, nonzero_hit_count = input_data.pid[ input_data.pid > 0. ].unique(return_counts=True)\n",
    "nonnan_particle_id, nonnan_hit_counts = input_data.pid[ ~ input_data.pt.isnan() ].unique(return_counts=True)\n",
    "data = input_data\n",
    "signal_pt = data.pt[ data.pid > 0 ]\n",
    "\n",
    "signal_nhits = data.nhits[ data.pid>0 ]\n",
    "\n",
    "signal_pid = data.pid[data.pid>0]\n",
    "\n",
    "signal_pid_with_nan_pt = signal_pid[ signal_pt.isnan() ]\n",
    "\n",
    "track_with_nan_pt_hits, n_nan_pt_hits_in_track = signal_pid_with_nan_pt.unique(return_counts=True)\n",
    "\n",
    "particle_count = pd.concat([\n",
    "    pd.DataFrame( dict(length=nonnan_hit_counts, label=['nonnan_pt']* nonnan_hit_counts.shape[0])),\n",
    "    pd.DataFrame( dict(length=nonzero_hit_count, label=['nonzero_pid']*nonzero_hit_count.shape[0]) ) ,\n",
    "    \n",
    "    pd.DataFrame( dict(length=n_nan_pt_hits_in_track, label=['nan_pt']*n_nan_pt_hits_in_track.shape[0]) ) ,\n",
    "    # pd.DataFrame( dict(length=input_data.nhits, label=['nhits']* input_data.nhits.shape[0]))\n",
    "], \n",
    "    ignore_index=True\n",
    ")\n",
    "\n",
    "fig,axes = plt.subplots(1,2, figsize=(20,10))\n",
    "sns.histplot(data=particle_count, x='length', hue='label', bins=30, binrange=(0,30), ax=axes[0], alpha=0.3)\n",
    "sns.histplot(data=particle_count, x='length', hue='label' ,bins=30, binrange=(0,30), ax=axes[1], cumulative=True, alpha=0.3)\n",
    "for ax in axes: \n",
    "    ax.grid(True)\n",
    "plt.show()"
   ]
  },
  {
   "cell_type": "markdown",
   "metadata": {},
   "source": [
    "These plots show that there are hits with nan pt but are themselves part of a track, sometimes long tracks"
   ]
  },
  {
   "cell_type": "code",
   "execution_count": 32,
   "metadata": {},
   "outputs": [
    {
     "data": {
      "text/plain": [
       "tensor(184534)"
      ]
     },
     "execution_count": 32,
     "metadata": {},
     "output_type": "execute_result"
    }
   ],
   "source": [
    "((input_data.pt[input_data.pid == 0]).isnan()).sum()"
   ]
  },
  {
   "cell_type": "code",
   "execution_count": 33,
   "metadata": {},
   "outputs": [
    {
     "data": {
      "text/plain": [
       "tensor(191350)"
      ]
     },
     "execution_count": 33,
     "metadata": {},
     "output_type": "execute_result"
    }
   ],
   "source": [
    "input_data.pt.isnan().sum()"
   ]
  },
  {
   "cell_type": "code",
   "execution_count": 44,
   "metadata": {},
   "outputs": [
    {
     "name": "stdout",
     "output_type": "stream",
     "text": [
      "tensor(6816)\n",
      "1830\n"
     ]
    }
   ],
   "source": [
    "nan_pt_pid = input_data.pid[ input_data.pt.isnan() ]\n",
    "print((nan_pt_pid > 0 ).sum())\n",
    "print(nan_pid.unique().shape[0])\n",
    "\n",
    "# what are these particles with nan pt but nonzero pid? There are 1829 of them. On average, they form tracks of 3.7 hits"
   ]
  },
  {
   "cell_type": "code",
   "execution_count": 73,
   "metadata": {},
   "outputs": [
    {
     "data": {
      "text/plain": [
       "tensor([15,  7,  7,  ...,  6,  1,  1])"
      ]
     },
     "execution_count": 73,
     "metadata": {},
     "output_type": "execute_result"
    }
   ],
   "source": [
    "noise_nhits = input_data.nhits[ noise_idx ] \n",
    "\n",
    "noise_nhits[noise_nhits>-1]"
   ]
  },
  {
   "cell_type": "code",
   "execution_count": 101,
   "metadata": {},
   "outputs": [
    {
     "name": "stdout",
     "output_type": "stream",
     "text": [
      "tensor(184534) tensor(0)\n",
      "tensor(184534) tensor(0)\n",
      "tensor([15,  7,  7,  ...,  6,  1,  1])\n"
     ]
    },
    {
     "data": {
      "image/png": "[encoded data removed]",
      "text/plain": [
       "<Figure size 432x288 with 1 Axes>"
      ]
     },
     "metadata": {
      "needs_background": "light"
     },
     "output_type": "display_data"
    }
   ],
   "source": [
    "noise_pt = data.pt[ data.pid==0 ] \n",
    "\n",
    "print(noise_pt.isnan().sum(), (~noise_pt.isnan()).sum())\n",
    "\n",
    "noise_nhits = data.nhits[ data.pid==0 ]\n",
    "\n",
    "print( (noise_nhits==-1).sum(), (noise_nhits != -1).sum())\n",
    "\n",
    "signal_pt = data.pt[ data.pid > 0 ]\n",
    "\n",
    "signal_nhits = data.nhits[ data.pid>0 ]\n",
    "\n",
    "signal_pid = data.pid[data.pid>0]\n",
    "\n",
    "signal_pid_with_nan_pt = signal_pid[ signal_pt.isnan() ]\n",
    "\n",
    "track_with_nan_pt_hits, n_nan_pt_hits_in_track = signal_pid_with_nan_pt.unique(return_counts=True)\n",
    "\n",
    "print(signal_nhits[signal_pt.isnan()])\n",
    "\n",
    "sns.histplot(x=n_nan_pt_hits_in_track.numpy(), binrange=(0,21), bins=21)\n",
    "sns.histplot(x=n_nan_pt_hits_in_track.numpy(), binrange=(0,21), bins=21, cumulative=True, element='step', fill=False, lw=2)\n",
    "\n",
    "plt.show()"
   ]
  },
  {
   "cell_type": "markdown",
   "metadata": {},
   "source": [
    "<ul> Some conclusions\n",
    "    <li> Hits with pid = 0 are noise. They have NaN pt and nhits = -1\n",
    "    <li> There are hits with NaN pt that aren't noise, but part of a track, some times, even long tracks. The figure shows the histogram of number of nan pt per track in tracks that contain nan pt. There are quite a lot of them. \n",
    "    "
   ]
  },
  {
   "cell_type": "code",
   "execution_count": 140,
   "metadata": {},
   "outputs": [
    {
     "data": {
      "image/png": "[encoded data removed]",
      "text/plain": [
       "<Figure size 432x288 with 1 Axes>"
      ]
     },
     "metadata": {
      "needs_background": "light"
     },
     "output_type": "display_data"
    }
   ],
   "source": [
    "n_hits =[]\n",
    "for idx in track_with_nan_pt_hits:\n",
    "    n_hits.append( (data.pid==idx).sum().numpy())\n",
    "\n",
    "n_hits = np.array(n_hits)\n",
    "\n",
    "sns.histplot(x=n_hits, binrange=(0,21), bins=21)\n",
    "sns.histplot(x=n_hits, binrange=(0,21), bins=21, cumulative=True, element='step', fill=False, lw=2)\n",
    "\n",
    "\n",
    "plt.show()\n",
    "# torch.cat( [signal_pid_with_nan_pt.unsqueeze(1), nhits_with_nan_pt.unsqueeze(1)], dim=1 )"
   ]
  },
  {
   "cell_type": "markdown",
   "metadata": {},
   "source": [
    "This shows that all tracks that have a nan-pt hit are all nan-pt. So there is no track that has like 9 out of 10 hits with non-nan pt. "
   ]
  },
  {
   "cell_type": "code",
   "execution_count": null,
   "metadata": {},
   "outputs": [],
   "source": [
    "barrel = '/global/cfs/cdirs/m3443/data/ITk-upgrade/processed/feature_store/feature_store_modulewise_barrel_v3'"
   ]
  },
  {
   "cell_type": "code",
   "execution_count": 9,
   "metadata": {},
   "outputs": [
    {
     "name": "stdout",
     "output_type": "stream",
     "text": [
      "tensor(135612)\n",
      "tensor(18617)\n"
     ]
    }
   ],
   "source": [
    "# edge pt cut:\n",
    "\n",
    "edge_subset = torch.ones(data.modulewise_true_edges.shape[1]).bool()\n",
    "print(edge_subset.sum())\n",
    "\n",
    "edge_subset &= (data.pt[data['modulewise_true_edges']] > 1.0).all(0)\n",
    "print(edge_subset.sum())\n"
   ]
  },
  {
   "cell_type": "code",
   "execution_count": 8,
   "metadata": {},
   "outputs": [
    {
     "data": {
      "text/plain": [
       "tensor([0.4521, 0.1534,    nan,  ..., 0.3846, 0.3631,    nan],\n",
       "       dtype=torch.float64)"
      ]
     },
     "execution_count": 8,
     "metadata": {},
     "output_type": "execute_result"
    }
   ],
   "source": [
    "data.pt"
   ]
  },
  {
   "cell_type": "code",
   "execution_count": null,
   "metadata": {},
   "outputs": [],
   "source": []
  }
 ],
 "metadata": {
  "kernelspec": {
   "display_name": "Python 3.8.0 64-bit ('exatrkx_hsf')",
   "language": "python",
   "name": "python3"
  },
  "language_info": {
   "codemirror_mode": {
    "name": "ipython",
    "version": 3
   },
   "file_extension": ".py",
   "mimetype": "text/x-python",
   "name": "python",
   "nbconvert_exporter": "python",
   "pygments_lexer": "ipython3",
   "version": "3.8.0"
  },
  "orig_nbformat": 4,
  "vscode": {
   "interpreter": {
    "hash": "1a0238d3f123ced82ee156eb43283acbe42478d8ea70b364b579777bf454bf83"
   }
  }
 },
 "nbformat": 4,
 "nbformat_minor": 2
}
