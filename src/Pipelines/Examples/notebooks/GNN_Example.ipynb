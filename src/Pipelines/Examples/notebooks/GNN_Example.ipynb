{
 "cells": [
  {
   "cell_type": "markdown",
   "metadata": {},
   "source": [
    "# Example of Metric Learning in Embedded Space"
   ]
  },
  {
   "cell_type": "code",
   "execution_count": 6,
   "metadata": {},
   "outputs": [
    {
     "name": "stdout",
     "output_type": "stream",
     "text": [
      "The autoreload extension is already loaded. To reload it, use:\n",
      "  %reload_ext autoreload\n"
     ]
    }
   ],
   "source": [
    "%load_ext autoreload\n",
    "%autoreload 2"
   ]
  },
  {
   "cell_type": "code",
   "execution_count": 7,
   "metadata": {},
   "outputs": [],
   "source": [
    "# System imports\n",
    "import os\n",
    "import sys\n",
    "import yaml\n",
    "\n",
    "# External imports\n",
    "import matplotlib.pyplot as plt\n",
    "import scipy as sp\n",
    "from sklearn.decomposition import PCA\n",
    "from sklearn.metrics import auc\n",
    "import numpy as np\n",
    "import pandas as pd\n",
    "import seaborn as sns\n",
    "import torch\n",
    "from pytorch_lightning import Trainer\n",
    "\n",
    "sys.path.append(\"..\")\n",
    "device = \"cuda\" if torch.cuda.is_available() else \"cpu\""
   ]
  },
  {
   "cell_type": "markdown",
   "metadata": {},
   "source": [
    "Example notebook for running GNN on connected TrackML hits\n",
    "\n",
    "- [ ] Load PyLightning model\n",
    "- [ ] Explain connected dataset\n",
    "- [ ] Plot an event graph\n",
    "- [ ] Explain GNN concept\n",
    "- [ ] Start by training GCN, 3 steps, no residuals\n",
    "- [ ] Examine performance\n",
    "- [ ] Loop over 1, 5, 8 steps also\n",
    "- [ ] Plot different performance metrics\n",
    "- [ ] Explain attention mechanism\n",
    "- [ ] Train AGNN on 1, 3, 5, 8 steps\n",
    "- [ ] Explain residuals\n",
    "- [ ] Train ResAGNN on 8 steps\n",
    "- [ ] Explain Connected Components\n",
    "- [ ] Visualise performance, including TrackML score\n",
    "- [ ] Explain problem with mislabelled edges and how the impact score\n",
    "- [ ] Visualise performance vs. num mislabelled edges\n",
    "- [ ] Explain goal with metric learning"
   ]
  },
  {
   "cell_type": "markdown",
   "metadata": {},
   "source": [
    "## Pytorch Lightning Model"
   ]
  },
  {
   "cell_type": "markdown",
   "metadata": {},
   "source": [
    "As in the case of metric learning, we store all of the model logic in Pytorch Lightning modules. We import this class."
   ]
  },
  {
   "cell_type": "code",
   "execution_count": 8,
   "metadata": {},
   "outputs": [
    {
     "ename": "ModuleNotFoundError",
     "evalue": "No module named 'LightningModules.GNN.Models.gcn'",
     "output_type": "error",
     "traceback": [
      "\u001b[0;31m---------------------------------------------------------------------------\u001b[0m",
      "\u001b[0;31mModuleNotFoundError\u001b[0m                       Traceback (most recent call last)",
      "\u001b[0;32m<ipython-input-8-777032022888>\u001b[0m in \u001b[0;36m<module>\u001b[0;34m\u001b[0m\n\u001b[0;32m----> 1\u001b[0;31m \u001b[0;32mfrom\u001b[0m \u001b[0mLightningModules\u001b[0m\u001b[0;34m.\u001b[0m\u001b[0mGNN\u001b[0m\u001b[0;34m.\u001b[0m\u001b[0mModels\u001b[0m\u001b[0;34m.\u001b[0m\u001b[0mgcn\u001b[0m \u001b[0;32mimport\u001b[0m \u001b[0mVanillaGCN\u001b[0m\u001b[0;34m\u001b[0m\u001b[0;34m\u001b[0m\u001b[0m\n\u001b[0m",
      "\u001b[0;31mModuleNotFoundError\u001b[0m: No module named 'LightningModules.GNN.Models.gcn'"
     ]
    }
   ],
   "source": [
    "from LightningModules.GNN.Models.gcn import VanillaGCN"
   ]
  },
  {
   "cell_type": "markdown",
   "metadata": {},
   "source": [
    "### Construct PyLightning model"
   ]
  },
  {
   "cell_type": "markdown",
   "metadata": {},
   "source": [
    "An ML model typically has many knobs to turn, as well as locations of data, some training preferences, and so on. For convenience, let's put all of these parameters into a YAML file and load it."
   ]
  },
  {
   "cell_type": "code",
   "execution_count": null,
   "metadata": {},
   "outputs": [],
   "source": [
    "with open(\"example_gnn.yaml\") as f:\n",
    "    hparams = yaml.load(f, Loader=yaml.FullLoader)"
   ]
  },
  {
   "cell_type": "markdown",
   "metadata": {},
   "source": [
    "We plug these parameters into a constructor of the `LayerlessEmbedding` Lightning Module. This doesn't **do** anything yet - merely creates the object."
   ]
  },
  {
   "cell_type": "code",
   "execution_count": null,
   "metadata": {},
   "outputs": [],
   "source": [
    "model = VanillaGCN(hparams)"
   ]
  },
  {
   "cell_type": "markdown",
   "metadata": {},
   "source": [
    "## The Dataset"
   ]
  },
  {
   "cell_type": "markdown",
   "metadata": {},
   "source": [
    "NOTE: This may take a minute or two, since the data is being trimmed to particles above a certain momentum threshold."
   ]
  },
  {
   "cell_type": "code",
   "execution_count": null,
   "metadata": {},
   "outputs": [],
   "source": [
    "model.setup(stage=\"fit\")"
   ]
  },
  {
   "cell_type": "markdown",
   "metadata": {},
   "source": [
    "Let's visualise this data. It is generated from a trained embedding model. That is, it takes hits from (x,y,z)-space, runs them through an MLP, and returns some 8-dimensional co-ordinates. We hope that in this higher-dimensional space, hits from the same track can be found close together. To produce a graph from this embedded data, we simply find all neighbors of each hit within a certain radius `r`, and connect the center hit with each of those neighbors. This is the graph that accompanies each event in the dataset. Specifically, it is a \"COO\"-type graph, also called an edge list. It is a (2 x N) array, where each pair of indices points from one hit to another. It is a memory-efficient way to store a graph. "
   ]
  },
  {
   "cell_type": "markdown",
   "metadata": {
    "heading_collapsed": true
   },
   "source": [
    "### Visualise graph"
   ]
  },
  {
   "cell_type": "markdown",
   "metadata": {
    "hidden": true
   },
   "source": [
    "Let's visualise the graph that has been constructed"
   ]
  },
  {
   "cell_type": "code",
   "execution_count": null,
   "metadata": {
    "hidden": true
   },
   "outputs": [],
   "source": [
    "trainset = model.trainset"
   ]
  },
  {
   "cell_type": "code",
   "execution_count": null,
   "metadata": {
    "hidden": true
   },
   "outputs": [],
   "source": [
    "example_data = trainset[0]\n",
    "r, phi, z = example_data.x.T"
   ]
  },
  {
   "cell_type": "code",
   "execution_count": null,
   "metadata": {
    "hidden": true
   },
   "outputs": [],
   "source": [
    "x, y = r * np.cos(phi * np.pi), r * np.sin(phi * np.pi)"
   ]
  },
  {
   "cell_type": "code",
   "execution_count": null,
   "metadata": {
    "hidden": true
   },
   "outputs": [],
   "source": [
    "plt.figure(figsize=(8, 8))\n",
    "plt.scatter(x, y, s=2)\n",
    "plt.title(\"Azimuthal View of Detector\", fontsize=24), plt.xlabel(\n",
    "    \"x\", fontsize=18\n",
    "), plt.ylabel(\"y\", fontsize=18)"
   ]
  },
  {
   "cell_type": "markdown",
   "metadata": {
    "hidden": true
   },
   "source": [
    "This looks the same as before, which is good - we haven't lost any information in the pipeline. Let's draw an edge connected every hit that the embedding thought was close in the latent space. We'll start with all TRUE edges (i.e. edges that connect two hits from the same track, as defined by the particle ID `pid`) plotted in black. For FAKE edges, we'll plot it in red, and just plot around 20% of them, since there's so many."
   ]
  },
  {
   "cell_type": "code",
   "execution_count": null,
   "metadata": {
    "hidden": true
   },
   "outputs": [],
   "source": [
    "e = example_data.edge_index\n",
    "pid = example_data.pid\n",
    "true_edges = pid[e[0]] == pid[e[1]]"
   ]
  },
  {
   "cell_type": "code",
   "execution_count": null,
   "metadata": {
    "hidden": true
   },
   "outputs": [],
   "source": [
    "plt.figure(figsize=(16, 16))\n",
    "# plt.plot(x[e[:, ~true_edges]], y[e[:, ~true_edges]], c=\"r\")\n",
    "plt.plot(x[e[:, true_edges]], y[e[:, true_edges]], c=\"k\")\n",
    "plt.scatter(x, y, s=5)\n",
    "plt.title(\"Azimuthal View of Detector\", fontsize=24), plt.xlabel(\n",
    "    \"x\", fontsize=18\n",
    "), plt.ylabel(\"y\", fontsize=18)"
   ]
  },
  {
   "cell_type": "code",
   "execution_count": null,
   "metadata": {
    "hidden": true
   },
   "outputs": [],
   "source": [
    "plt.figure(figsize=(16, 16))\n",
    "plt.plot(x[e[:, (~true_edges)][:, 0:-1:5]], y[e[:, (~true_edges)][:, 0:-1:5]], c=\"r\")\n",
    "plt.scatter(x, y, s=5)\n",
    "plt.title(\"Azimuthal View of Detector\", fontsize=24), plt.xlabel(\n",
    "    \"x\", fontsize=18\n",
    "), plt.ylabel(\"y\", fontsize=18)"
   ]
  },
  {
   "cell_type": "markdown",
   "metadata": {
    "hidden": true
   },
   "source": [
    "These graphs are constructed from a 2xN list of hits:"
   ]
  },
  {
   "cell_type": "code",
   "execution_count": null,
   "metadata": {
    "hidden": true
   },
   "outputs": [],
   "source": [
    "e"
   ]
  },
  {
   "cell_type": "markdown",
   "metadata": {
    "hidden": true
   },
   "source": [
    "This is a *directed* graph, since each edge goes only in one direction. This is to simply save space! We will want it to be undirected when we train the graph, and we'll see that soon."
   ]
  },
  {
   "cell_type": "markdown",
   "metadata": {
    "heading_collapsed": true
   },
   "source": [
    "### Visualise distributions"
   ]
  },
  {
   "cell_type": "markdown",
   "metadata": {
    "hidden": true
   },
   "source": [
    "Let's look at how many edges there are per node. This will give an idea about how \"connected\" the graph is."
   ]
  },
  {
   "cell_type": "code",
   "execution_count": null,
   "metadata": {
    "hidden": true
   },
   "outputs": [],
   "source": [
    "_, node_counts = np.unique(e.numpy(), return_counts=True)"
   ]
  },
  {
   "cell_type": "code",
   "execution_count": null,
   "metadata": {
    "hidden": true
   },
   "outputs": [],
   "source": [
    "plt.figure(figsize=(12, 8))\n",
    "sns.histplot(node_counts, binwidth=1)\n",
    "plt.title(\"Distribution of Edges per Node\", fontsize=24), plt.xlabel(\n",
    "    \"Hits\", fontsize=18\n",
    "), plt.ylabel(\"Count\", fontsize=18)"
   ]
  },
  {
   "cell_type": "markdown",
   "metadata": {
    "hidden": true
   },
   "source": [
    "This gives an idea about how long each particle track is. We can see that most particle tracks leave > 10 hits, which will be useful for our graph neural networks down the track. In general, shorter tracks are harder to detect, and less useful for doing meaningful physics."
   ]
  },
  {
   "cell_type": "markdown",
   "metadata": {},
   "source": [
    "## Vanilla Graph Neural Network"
   ]
  },
  {
   "cell_type": "markdown",
   "metadata": {},
   "source": [
    "A GNN is *exactly* like a CNN, but we ease the restriction of only convolving over a gridlike structure. For example, a CNN applied to a picture of a cat will associate pixels in a grid around its eye to understand what an \"eye\" is. A GNN does this same \"averaging\" or \"smoothing\" behavior but across any edges connected to each node."
   ]
  },
  {
   "cell_type": "markdown",
   "metadata": {},
   "source": [
    "<img src=\"https://miro.medium.com/max/2324/1*oSQyFjtUkI7_u7lJXWU68Q.gif\" width=\"800\" height=\"400\">"
   ]
  },
  {
   "cell_type": "markdown",
   "metadata": {},
   "source": [
    "### Train GNN"
   ]
  },
  {
   "cell_type": "markdown",
   "metadata": {},
   "source": [
    "We train in exactly the same way as we trained the metric learning model. The only difference is that this trainer may take a little longer, since it is spreading information through a graph N times in each training step."
   ]
  },
  {
   "cell_type": "code",
   "execution_count": null,
   "metadata": {
    "scrolled": true
   },
   "outputs": [],
   "source": [
    "trainer = Trainer(gpus=1, max_epochs=50)\n",
    "trainer.fit(model)"
   ]
  },
  {
   "cell_type": "markdown",
   "metadata": {},
   "source": [
    "### Test GNN"
   ]
  },
  {
   "cell_type": "code",
   "execution_count": null,
   "metadata": {},
   "outputs": [],
   "source": [
    "test_results = trainer.test(ckpt_path=None)"
   ]
  },
  {
   "cell_type": "markdown",
   "metadata": {},
   "source": [
    "## Performance"
   ]
  },
  {
   "cell_type": "code",
   "execution_count": null,
   "metadata": {},
   "outputs": [],
   "source": [
    "from LightningModules.GNN.utils import get_metrics"
   ]
  },
  {
   "cell_type": "markdown",
   "metadata": {},
   "source": [
    "Let's see how well the model learned to classify edges. One thing to note about this performance: The GNN is doing a *harder job* than the embedding. The embedding was trying to learn the nearest neighbors in the graph of true tracks, but the GNN is learning to classify whether edges connect nodes in the same track. For many edges, these two things are the same thing, but some edges will connect hits at other points along the track. "
   ]
  },
  {
   "cell_type": "code",
   "execution_count": null,
   "metadata": {},
   "outputs": [],
   "source": [
    "model.eval();"
   ]
  },
  {
   "cell_type": "code",
   "execution_count": null,
   "metadata": {},
   "outputs": [],
   "source": [
    "get_metrics(test_results)"
   ]
  },
  {
   "cell_type": "markdown",
   "metadata": {},
   "source": [
    "### Test metrics"
   ]
  },
  {
   "cell_type": "code",
   "execution_count": null,
   "metadata": {},
   "outputs": [],
   "source": [
    "all_efficiencies, all_purities = [], []\n",
    "all_cuts = np.linspace(0.0, 1.0, 11)\n",
    "\n",
    "with torch.no_grad():\n",
    "    for cut in all_cuts:\n",
    "\n",
    "        model.hparams.edge_cut = cut\n",
    "        test_results = trainer.test(ckpt_path=None)\n",
    "        print(len(test_results))\n",
    "        mean_efficiency, mean_purity = get_metrics(test_results)\n",
    "\n",
    "        all_efficiencies.append(mean_efficiency)\n",
    "        all_purities.append(mean_purity)"
   ]
  },
  {
   "cell_type": "code",
   "execution_count": null,
   "metadata": {},
   "outputs": [],
   "source": [
    "model.testset"
   ]
  },
  {
   "cell_type": "markdown",
   "metadata": {},
   "source": [
    "We should always visualise two important metrics: the efficiency (the number of true positives divided by the total number of possible true edges) and the purity (the number of true positives divided by the number of predicted edges). Is it clear to you why the graphs below behave as they do, as we widen the sphere around each hit to generate neighboring edges?"
   ]
  },
  {
   "cell_type": "code",
   "execution_count": null,
   "metadata": {},
   "outputs": [],
   "source": [
    "plt.figure(figsize=(12, 8))\n",
    "plt.plot(all_cuts, all_efficiencies, label=\"Efficiency\")\n",
    "plt.plot(all_cuts, all_purities, label=\"Purity\")\n",
    "plt.legend()\n",
    "plt.title(\"Performance\", fontsize=24), plt.xlabel(\"Edge cut\", fontsize=18), plt.ylabel(\n",
    "    \"Eff and Purity of GNN\", fontsize=18\n",
    ");"
   ]
  },
  {
   "cell_type": "markdown",
   "metadata": {},
   "source": [
    "## Attention Mechanism"
   ]
  },
  {
   "cell_type": "markdown",
   "metadata": {},
   "source": [
    "Attention is a way of allowing each node to pay more **attention** to some neighbors than others. This idea came from language transformers, and in fact if you view a translation as a graph, the two are exactly the same:"
   ]
  },
  {
   "cell_type": "markdown",
   "metadata": {},
   "source": [
    "<img src=\"https://miro.medium.com/max/1682/1*xW7d7-y0MW5QjtGvyqZN4A.gif\" width=\"800\" height=\"400\">"
   ]
  },
  {
   "cell_type": "markdown",
   "metadata": {},
   "source": [
    "In practice, it means learning an **edge weight** for each edge, which we include in the sum over each node. In our case, since we want to then use the edges as a score, we make it do double-duty as an attention weight **and** the output score predicting whether the edge is true or not. Turns out, it works!"
   ]
  },
  {
   "cell_type": "markdown",
   "metadata": {},
   "source": [
    "<img src=\"https://miro.medium.com/max/2204/1*ABkaR2glZNP6oh08oY4l-Q.png\" width=\"800\" height=\"400\">"
   ]
  },
  {
   "cell_type": "markdown",
   "metadata": {},
   "source": [
    "### Train GNN"
   ]
  },
  {
   "cell_type": "code",
   "execution_count": null,
   "metadata": {},
   "outputs": [],
   "source": [
    "from LightningModules.GNN.Models.agnn import ResAGNN"
   ]
  },
  {
   "cell_type": "code",
   "execution_count": null,
   "metadata": {},
   "outputs": [],
   "source": [
    "with open(\"example_gnn.yaml\") as f:\n",
    "    hparams = yaml.load(f, Loader=yaml.FullLoader)"
   ]
  },
  {
   "cell_type": "code",
   "execution_count": null,
   "metadata": {
    "scrolled": true
   },
   "outputs": [],
   "source": [
    "model = ResAGNN(hparams)\n",
    "trainer = Trainer(gpus=1, max_epochs=20)\n",
    "trainer.fit(model)"
   ]
  },
  {
   "cell_type": "markdown",
   "metadata": {},
   "source": [
    "### Test GNN"
   ]
  },
  {
   "cell_type": "markdown",
   "metadata": {},
   "source": [
    "This took longer to train, right? This is because there are now **two** networks; a node network that runs an MLP over the node hidden features, and an edge network that runs the node features on either end of an edge through an MLP to get the edge weight (or score) at each step of message passing."
   ]
  },
  {
   "cell_type": "code",
   "execution_count": 4,
   "metadata": {},
   "outputs": [
    {
     "ename": "NameError",
     "evalue": "name 'trainer' is not defined",
     "output_type": "error",
     "traceback": [
      "\u001b[0;31m---------------------------------------------------------------------------\u001b[0m",
      "\u001b[0;31mNameError\u001b[0m                                 Traceback (most recent call last)",
      "\u001b[0;32m<ipython-input-4-fc0daab7624d>\u001b[0m in \u001b[0;36m<module>\u001b[0;34m\u001b[0m\n\u001b[0;32m----> 1\u001b[0;31m \u001b[0mtest_results\u001b[0m \u001b[0;34m=\u001b[0m \u001b[0mtrainer\u001b[0m\u001b[0;34m.\u001b[0m\u001b[0mtest\u001b[0m\u001b[0;34m(\u001b[0m\u001b[0mckpt_path\u001b[0m\u001b[0;34m=\u001b[0m\u001b[0;32mNone\u001b[0m\u001b[0;34m)\u001b[0m\u001b[0;34m\u001b[0m\u001b[0;34m\u001b[0m\u001b[0m\n\u001b[0m",
      "\u001b[0;31mNameError\u001b[0m: name 'trainer' is not defined"
     ]
    }
   ],
   "source": [
    "test_results = trainer.test(ckpt_path=None)"
   ]
  },
  {
   "cell_type": "markdown",
   "metadata": {},
   "source": [
    "## Performance"
   ]
  },
  {
   "cell_type": "code",
   "execution_count": 5,
   "metadata": {},
   "outputs": [
    {
     "ename": "ModuleNotFoundError",
     "evalue": "No module named 'LightningModules.GNN.utils'",
     "output_type": "error",
     "traceback": [
      "\u001b[0;31m---------------------------------------------------------------------------\u001b[0m",
      "\u001b[0;31mModuleNotFoundError\u001b[0m                       Traceback (most recent call last)",
      "\u001b[0;32m<ipython-input-5-1f1b20c7e9a1>\u001b[0m in \u001b[0;36m<module>\u001b[0;34m\u001b[0m\n\u001b[0;32m----> 1\u001b[0;31m \u001b[0;32mfrom\u001b[0m \u001b[0mLightningModules\u001b[0m\u001b[0;34m.\u001b[0m\u001b[0mGNN\u001b[0m\u001b[0;34m.\u001b[0m\u001b[0mutils\u001b[0m \u001b[0;32mimport\u001b[0m \u001b[0mget_metrics\u001b[0m\u001b[0;34m\u001b[0m\u001b[0;34m\u001b[0m\u001b[0m\n\u001b[0m",
      "\u001b[0;31mModuleNotFoundError\u001b[0m: No module named 'LightningModules.GNN.utils'"
     ]
    }
   ],
   "source": [
    "from LightningModules.GNN.utils import get_metrics"
   ]
  },
  {
   "cell_type": "markdown",
   "metadata": {},
   "source": [
    "Let's see how well the model learned to classify edges. One thing to note about this performance: The GNN is doing a *harder job* than the embedding. The embedding was trying to learn the nearest neighbors in the graph of true tracks, but the GNN is learning to classify whether edges connect nodes in the same track. For many edges, these two things are the same thing, but some edges will connect hits at other points along the track. "
   ]
  },
  {
   "cell_type": "code",
   "execution_count": 30,
   "metadata": {},
   "outputs": [],
   "source": [
    "model.eval();"
   ]
  },
  {
   "cell_type": "code",
   "execution_count": 34,
   "metadata": {},
   "outputs": [
    {
     "name": "stderr",
     "output_type": "stream",
     "text": [
      "/global/homes/j/jferguso/.conda/envs/exatrkx-tracking/lib/python3.8/site-packages/numpy/core/fromnumeric.py:3372: RuntimeWarning: Mean of empty slice.\n",
      "  return _methods._mean(a, axis=axis, dtype=dtype,\n",
      "/global/homes/j/jferguso/.conda/envs/exatrkx-tracking/lib/python3.8/site-packages/numpy/core/_methods.py:170: RuntimeWarning: invalid value encountered in double_scalars\n",
      "  ret = ret.dtype.type(ret / rcount)\n"
     ]
    },
    {
     "data": {
      "text/plain": [
       "(nan, nan)"
      ]
     },
     "execution_count": 34,
     "metadata": {},
     "output_type": "execute_result"
    }
   ],
   "source": [
    "get_metrics(test_results)"
   ]
  },
  {
   "cell_type": "markdown",
   "metadata": {},
   "source": [
    "### Test metrics"
   ]
  },
  {
   "cell_type": "code",
   "execution_count": 32,
   "metadata": {},
   "outputs": [
    {
     "name": "stderr",
     "output_type": "stream",
     "text": [
      "Set SLURM handle signals.\n"
     ]
    },
    {
     "name": "stdout",
     "output_type": "stream",
     "text": [
      "Testing: 100%|██████████| 20/20 [00:01<00:00, 18.33it/s]\n",
      "--------------------------------------------------------------------------------\n",
      "DATALOADER:0 TEST RESULTS\n",
      "{'current_lr': 8.999999408842996e-05,\n",
      " 'eff': 1.0,\n",
      " 'loss': 0.3125014007091522,\n",
      " 'preds': array([ True,  True,  True, ...,  True,  True,  True]),\n",
      " 'pur': 0.36627092957496643,\n",
      " 'truth': array([0., 1., 0., ..., 0., 1., 1.], dtype=float32),\n",
      " 'val_loss': 0.3161224126815796}\n",
      "--------------------------------------------------------------------------------\n"
     ]
    },
    {
     "name": "stderr",
     "output_type": "stream",
     "text": [
      "Set SLURM handle signals.\n"
     ]
    },
    {
     "name": "stdout",
     "output_type": "stream",
     "text": [
      "Testing: 100%|██████████| 20/20 [00:01<00:00, 18.34it/s]\n",
      "--------------------------------------------------------------------------------\n",
      "DATALOADER:0 TEST RESULTS\n",
      "{'current_lr': 8.999999408842996e-05,\n",
      " 'eff': 0.9895049929618835,\n",
      " 'loss': 0.3125014007091522,\n",
      " 'preds': array([False, False, False, ...,  True,  True,  True]),\n",
      " 'pur': 0.5996785163879395,\n",
      " 'truth': array([0., 1., 0., ..., 0., 1., 1.], dtype=float32),\n",
      " 'val_loss': 0.316122442483902}\n",
      "--------------------------------------------------------------------------------\n"
     ]
    },
    {
     "name": "stderr",
     "output_type": "stream",
     "text": [
      "Set SLURM handle signals.\n"
     ]
    },
    {
     "name": "stdout",
     "output_type": "stream",
     "text": [
      "Testing: 100%|██████████| 20/20 [00:01<00:00, 18.38it/s]\n",
      "--------------------------------------------------------------------------------\n",
      "DATALOADER:0 TEST RESULTS\n",
      "{'current_lr': 8.999999408842996e-05,\n",
      " 'eff': 0.9749113321304321,\n",
      " 'loss': 0.31250134110450745,\n",
      " 'preds': array([False, False, False, ...,  True,  True,  True]),\n",
      " 'pur': 0.6632611155509949,\n",
      " 'truth': array([0., 1., 0., ..., 0., 1., 1.], dtype=float32),\n",
      " 'val_loss': 0.3161224126815796}\n",
      "--------------------------------------------------------------------------------\n"
     ]
    },
    {
     "name": "stderr",
     "output_type": "stream",
     "text": [
      "Set SLURM handle signals.\n"
     ]
    },
    {
     "name": "stdout",
     "output_type": "stream",
     "text": [
      "Testing: 100%|██████████| 20/20 [00:01<00:00, 18.41it/s]\n",
      "--------------------------------------------------------------------------------\n",
      "DATALOADER:0 TEST RESULTS\n",
      "{'current_lr': 8.999999408842996e-05,\n",
      " 'eff': 0.955672025680542,\n",
      " 'loss': 0.31250134110450745,\n",
      " 'preds': array([False, False, False, ...,  True,  True,  True]),\n",
      " 'pur': 0.7192283868789673,\n",
      " 'truth': array([0., 1., 0., ..., 0., 1., 1.], dtype=float32),\n",
      " 'val_loss': 0.316122442483902}\n",
      "--------------------------------------------------------------------------------\n"
     ]
    },
    {
     "name": "stderr",
     "output_type": "stream",
     "text": [
      "Set SLURM handle signals.\n"
     ]
    },
    {
     "name": "stdout",
     "output_type": "stream",
     "text": [
      "Testing: 100%|██████████| 20/20 [00:01<00:00, 18.28it/s]\n",
      "--------------------------------------------------------------------------------\n",
      "DATALOADER:0 TEST RESULTS\n",
      "{'current_lr': 8.999999408842996e-05,\n",
      " 'eff': 0.9321851134300232,\n",
      " 'loss': 0.31250137090682983,\n",
      " 'preds': array([False, False, False, ...,  True,  True,  True]),\n",
      " 'pur': 0.7703326940536499,\n",
      " 'truth': array([0., 1., 0., ..., 0., 1., 1.], dtype=float32),\n",
      " 'val_loss': 0.316122442483902}\n",
      "--------------------------------------------------------------------------------\n"
     ]
    },
    {
     "name": "stderr",
     "output_type": "stream",
     "text": [
      "Set SLURM handle signals.\n"
     ]
    },
    {
     "name": "stdout",
     "output_type": "stream",
     "text": [
      "Testing: 100%|██████████| 20/20 [00:01<00:00, 18.04it/s]\n",
      "--------------------------------------------------------------------------------\n",
      "DATALOADER:0 TEST RESULTS\n",
      "{'current_lr': 8.999999408842996e-05,\n",
      " 'eff': 0.9053646326065063,\n",
      " 'loss': 0.3125014007091522,\n",
      " 'preds': array([False, False, False, ...,  True,  True,  True]),\n",
      " 'pur': 0.8162938952445984,\n",
      " 'truth': array([0., 1., 0., ..., 0., 1., 1.], dtype=float32),\n",
      " 'val_loss': 0.3161224126815796}\n",
      "--------------------------------------------------------------------------------\n"
     ]
    },
    {
     "name": "stderr",
     "output_type": "stream",
     "text": [
      "Set SLURM handle signals.\n"
     ]
    },
    {
     "name": "stdout",
     "output_type": "stream",
     "text": [
      "Testing: 100%|██████████| 20/20 [00:01<00:00, 18.23it/s]\n",
      "--------------------------------------------------------------------------------\n",
      "DATALOADER:0 TEST RESULTS\n",
      "{'current_lr': 8.999999408842996e-05,\n",
      " 'eff': 0.8736157417297363,\n",
      " 'loss': 0.31250134110450745,\n",
      " 'preds': array([False, False, False, ...,  True,  True,  True]),\n",
      " 'pur': 0.8562251329421997,\n",
      " 'truth': array([0., 1., 0., ..., 0., 1., 1.], dtype=float32),\n",
      " 'val_loss': 0.3161224126815796}\n",
      "--------------------------------------------------------------------------------\n"
     ]
    },
    {
     "name": "stderr",
     "output_type": "stream",
     "text": [
      "Set SLURM handle signals.\n"
     ]
    },
    {
     "name": "stdout",
     "output_type": "stream",
     "text": [
      "Testing: 100%|██████████| 20/20 [00:01<00:00, 18.35it/s]\n",
      "--------------------------------------------------------------------------------\n",
      "DATALOADER:0 TEST RESULTS\n",
      "{'current_lr': 8.999999408842996e-05,\n",
      " 'eff': 0.8354741930961609,\n",
      " 'loss': 0.31250134110450745,\n",
      " 'preds': array([False, False, False, ...,  True,  True,  True]),\n",
      " 'pur': 0.893399178981781,\n",
      " 'truth': array([0., 1., 0., ..., 0., 1., 1.], dtype=float32),\n",
      " 'val_loss': 0.316122442483902}\n",
      "--------------------------------------------------------------------------------\n"
     ]
    },
    {
     "name": "stderr",
     "output_type": "stream",
     "text": [
      "Set SLURM handle signals.\n"
     ]
    },
    {
     "name": "stdout",
     "output_type": "stream",
     "text": [
      "Testing: 100%|██████████| 20/20 [00:00<00:00, 20.54it/s]\n",
      "--------------------------------------------------------------------------------\n",
      "DATALOADER:0 TEST RESULTS\n",
      "{'current_lr': 8.999999408842996e-05,\n",
      " 'eff': 0.7850809693336487,\n",
      " 'loss': 0.31250131130218506,\n",
      " 'preds': array([False, False, False, ..., False,  True,  True]),\n",
      " 'pur': 0.9291943311691284,\n",
      " 'truth': array([0., 1., 0., ..., 0., 1., 1.], dtype=float32),\n",
      " 'val_loss': 0.3161224126815796}\n",
      "--------------------------------------------------------------------------------\n"
     ]
    },
    {
     "name": "stderr",
     "output_type": "stream",
     "text": [
      "Set SLURM handle signals.\n"
     ]
    },
    {
     "name": "stdout",
     "output_type": "stream",
     "text": [
      "Testing: 100%|██████████| 20/20 [00:01<00:00, 18.26it/s]\n",
      "--------------------------------------------------------------------------------\n",
      "DATALOADER:0 TEST RESULTS\n",
      "{'current_lr': 8.999999408842996e-05,\n",
      " 'eff': 0.7025582194328308,\n",
      " 'loss': 0.31250134110450745,\n",
      " 'preds': array([False, False, False, ..., False,  True,  True]),\n",
      " 'pur': 0.9629613757133484,\n",
      " 'truth': array([0., 1., 0., ..., 0., 1., 1.], dtype=float32),\n",
      " 'val_loss': 0.3161224126815796}\n",
      "--------------------------------------------------------------------------------\n"
     ]
    },
    {
     "name": "stderr",
     "output_type": "stream",
     "text": [
      "Set SLURM handle signals.\n"
     ]
    },
    {
     "name": "stdout",
     "output_type": "stream",
     "text": [
      "Testing: 100%|██████████| 20/20 [00:01<00:00, 18.25it/s]\n",
      "--------------------------------------------------------------------------------\n",
      "DATALOADER:0 TEST RESULTS\n",
      "{'current_lr': 8.999999408842996e-05,\n",
      " 'eff': 0.0,\n",
      " 'loss': 0.3125014007091522,\n",
      " 'preds': array([False, False, False, ..., False, False, False]),\n",
      " 'pur': nan,\n",
      " 'truth': array([0., 1., 0., ..., 0., 1., 1.], dtype=float32),\n",
      " 'val_loss': 0.316122442483902}\n",
      "--------------------------------------------------------------------------------\n"
     ]
    }
   ],
   "source": [
    "all_efficiencies, all_purities = [], []\n",
    "all_cuts = np.linspace(0.0, 1.0, 11)\n",
    "\n",
    "with torch.no_grad():\n",
    "    for cut in all_cuts:\n",
    "\n",
    "        model.hparams.edge_cut = cut\n",
    "        test_results = trainer.test(ckpt_path=None)\n",
    "\n",
    "        mean_efficiency, mean_purity = get_metrics(test_results)\n",
    "\n",
    "        all_efficiencies.append(mean_efficiency)\n",
    "        all_purities.append(mean_purity)"
   ]
  },
  {
   "cell_type": "markdown",
   "metadata": {},
   "source": [
    "Let's check that indeed the Attention mechanism improved performance:"
   ]
  },
  {
   "cell_type": "code",
   "execution_count": 33,
   "metadata": {},
   "outputs": [
    {
     "data": {
      "image/png": "[encoded data removed]",
      "text/plain": [
       "<Figure size 864x576 with 1 Axes>"
      ]
     },
     "metadata": {
      "needs_background": "light"
     },
     "output_type": "display_data"
    }
   ],
   "source": [
    "plt.figure(figsize=(12, 8))\n",
    "plt.plot(all_cuts, all_efficiencies, label=\"Efficiency\")\n",
    "plt.plot(all_cuts, all_purities, label=\"Purity\")\n",
    "plt.legend()\n",
    "plt.title(\"Performance\", fontsize=24), plt.xlabel(\"Edge cut\", fontsize=18), plt.ylabel(\n",
    "    \"Eff and Purity of GNN\", fontsize=18\n",
    ");"
   ]
  },
  {
   "cell_type": "markdown",
   "metadata": {},
   "source": [
    "## Further Investigation"
   ]
  },
  {
   "cell_type": "markdown",
   "metadata": {},
   "source": [
    "1. Train the Attention GNN for longer! This was just a very short example.\n",
    "1. Is there an effect on performance from the number of message passing steps (hopefully yes)?\n",
    "1. Is there any performance gain from increasing the number of hidden channels?\n",
    "2. What about *decreasing* the number of channels?\n",
    "3. What about increasing/decreasing the number of dimensions in the latent space?\n",
    "5. Play with the graph convolution! This can be found in the `forward` method of the `NodeNetwork` and `EdgeNetwork` classes. There are a million ways to combine edge features with node features, and there may be combinations that we haven't found yet!\n",
    "4. Is it possible to overtrain? That is, try increasing the number of epochs and seeing if the validation loss always decreases, plateaus, or starts to increase. **Hint**: to overtrain, try reducing the number of training examples to a small number\n"
   ]
  },
  {
   "cell_type": "code",
   "execution_count": null,
   "metadata": {},
   "outputs": [],
   "source": []
  }
 ],
 "metadata": {
  "kernelspec": {
   "display_name": "exatrkx-tracking",
   "language": "python",
   "name": "exatrkx-tracking"
  },
  "language_info": {
   "codemirror_mode": {
    "name": "ipython",
    "version": 3
   },
   "file_extension": ".py",
   "mimetype": "text/x-python",
   "name": "python",
   "nbconvert_exporter": "python",
   "pygments_lexer": "ipython3",
   "version": "3.8.5"
  }
 },
 "nbformat": 4,
 "nbformat_minor": 4
}
