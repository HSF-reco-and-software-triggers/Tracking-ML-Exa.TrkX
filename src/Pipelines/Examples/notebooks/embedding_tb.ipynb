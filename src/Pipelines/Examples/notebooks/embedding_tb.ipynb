{
 "cells": [
  {
   "cell_type": "code",
   "execution_count": 2,
   "metadata": {},
   "outputs": [],
   "source": [
    "%load_ext autoreload\n",
    "%load_ext tensorboard\n",
    "%autoreload 2"
   ]
  },
  {
   "cell_type": "code",
   "execution_count": 3,
   "metadata": {},
   "outputs": [],
   "source": [
    "# System imports\n",
    "import os\n",
    "import sys\n",
    "import yaml\n",
    "\n",
    "# External imports\n",
    "import matplotlib.pyplot as plt\n",
    "import scipy as sp\n",
    "from sklearn.decomposition import PCA\n",
    "from sklearn.metrics import auc\n",
    "import numpy as np\n",
    "import pandas as pd\n",
    "import seaborn as sns\n",
    "import torch\n",
    "from pytorch_lightning.loggers import TensorBoardLogger\n",
    "import nersc_tensorboard_helper\n",
    "\n",
    "sys.path.append('..')\n",
    "device = \"cuda\" if torch.cuda.is_available() else \"cpu\"\n"
   ]
  },
  {
   "cell_type": "code",
   "execution_count": 5,
   "metadata": {},
   "outputs": [],
   "source": [
    "from LightningModules.Embedding.Models.layerless_embedding import LayerlessEmbedding"
   ]
  },
  {
   "cell_type": "code",
   "execution_count": 17,
   "metadata": {},
   "outputs": [],
   "source": [
    "run_name = \"high_warmup\"\n",
    "with open(\"example_embedding.yaml\") as f:\n",
    "        hparams = yaml.load(f, Loader=yaml.FullLoader)\n",
    "model = LayerlessEmbedding(hparams)\n",
    "model.setup(stage=\"fit\")"
   ]
  },
  {
   "cell_type": "code",
   "execution_count": 18,
   "metadata": {},
   "outputs": [
    {
     "name": "stderr",
     "output_type": "stream",
     "text": [
      "GPU available: True, used: True\n",
      "TPU available: None, using: 0 TPU cores\n",
      "LOCAL_RANK: 0 - CUDA_VISIBLE_DEVICES: [0]\n",
      "Set SLURM handle signals.\n",
      "\n",
      "  | Name      | Type       | Params\n",
      "-----------------------------------------\n",
      "0 | layers    | ModuleList | 13.3 K\n",
      "1 | emb_layer | Linear     | 520   \n",
      "2 | norm      | LayerNorm  | 128   \n",
      "3 | act       | Tanh       | 0     \n",
      "-----------------------------------------\n",
      "14.0 K    Trainable params\n",
      "0         Non-trainable params\n",
      "14.0 K    Total params\n"
     ]
    },
    {
     "name": "stdout",
     "output_type": "stream",
     "text": [
      "Validation sanity check:   0%|          | 0/2 [00:00<?, ?it/s]"
     ]
    },
    {
     "name": "stderr",
     "output_type": "stream",
     "text": [
      "/global/homes/j/jferguso/.conda/envs/exatrkx-tracking/lib/python3.8/site-packages/pytorch_lightning/utilities/distributed.py:50: UserWarning: The dataloader, val dataloader 0, does not have many workers which may be a bottleneck. Consider increasing the value of the `num_workers` argument` (try 80 which is the number of cpus on this machine) in the `DataLoader` init to improve performance.\n",
      "  warnings.warn(*args, **kwargs)\n"
     ]
    },
    {
     "name": "stdout",
     "output_type": "stream",
     "text": [
      "Validation sanity check:  50%|█████     | 1/2 [00:00<00:00,  2.37it/s]"
     ]
    },
    {
     "name": "stderr",
     "output_type": "stream",
     "text": [
      "../LightningModules/Embedding/embedding_base.py:179: UserWarning: To copy construct from a tensor, it is recommended to use sourceTensor.clone().detach() or sourceTensor.clone().detach().requires_grad_(True), rather than torch.tensor(sourceTensor).\n",
      "  eff = torch.tensor(cluster_true_positive / cluster_true)\n",
      "../LightningModules/Embedding/embedding_base.py:180: UserWarning: To copy construct from a tensor, it is recommended to use sourceTensor.clone().detach() or sourceTensor.clone().detach().requires_grad_(True), rather than torch.tensor(sourceTensor).\n",
      "  pur = torch.tensor(cluster_true_positive / cluster_positive)\n"
     ]
    },
    {
     "name": "stdout",
     "output_type": "stream",
     "text": [
      "Epoch 0:   0%|          | 0/120 [00:00<?, ?it/s]                      "
     ]
    },
    {
     "name": "stderr",
     "output_type": "stream",
     "text": [
      "/global/homes/j/jferguso/.conda/envs/exatrkx-tracking/lib/python3.8/site-packages/pytorch_lightning/utilities/distributed.py:50: UserWarning: The dataloader, train dataloader, does not have many workers which may be a bottleneck. Consider increasing the value of the `num_workers` argument` (try 80 which is the number of cpus on this machine) in the `DataLoader` init to improve performance.\n",
      "  warnings.warn(*args, **kwargs)\n"
     ]
    },
    {
     "name": "stdout",
     "output_type": "stream",
     "text": [
      "Epoch 0:  83%|████████▎ | 100/120 [00:20<00:04,  4.83it/s, loss=0.889, v_num=1]\n",
      "Validating: 0it [00:00, ?it/s]\u001b[A\n",
      "Validating:   0%|          | 0/20 [00:00<?, ?it/s]\u001b[A\n",
      "Epoch 0:  85%|████████▌ | 102/120 [00:21<00:03,  4.83it/s, loss=0.889, v_num=1]\n",
      "Validating:  10%|█         | 2/20 [00:00<00:05,  3.08it/s]\u001b[A\n",
      "Epoch 0:  87%|████████▋ | 104/120 [00:21<00:03,  4.81it/s, loss=0.889, v_num=1]\n",
      "Validating:  20%|██        | 4/20 [00:01<00:04,  3.62it/s]\u001b[A\n",
      "Epoch 0:  88%|████████▊ | 106/120 [00:22<00:02,  4.79it/s, loss=0.889, v_num=1]\n",
      "Validating:  30%|███       | 6/20 [00:01<00:03,  3.88it/s]\u001b[A\n",
      "Epoch 0:  90%|█████████ | 108/120 [00:22<00:02,  4.77it/s, loss=0.889, v_num=1]\n",
      "Validating:  40%|████      | 8/20 [00:02<00:03,  3.73it/s]\u001b[A\n",
      "Epoch 0:  92%|█████████▏| 110/120 [00:23<00:02,  4.74it/s, loss=0.889, v_num=1]\n",
      "Validating:  50%|█████     | 10/20 [00:02<00:02,  3.82it/s]\u001b[A\n",
      "Epoch 0:  93%|█████████▎| 112/120 [00:23<00:01,  4.73it/s, loss=0.889, v_num=1]\n",
      "Validating:  60%|██████    | 12/20 [00:03<00:02,  3.99it/s]\u001b[A\n",
      "Epoch 0:  95%|█████████▌| 114/120 [00:24<00:01,  4.71it/s, loss=0.889, v_num=1]\n",
      "Validating:  70%|███████   | 14/20 [00:03<00:01,  4.07it/s]\u001b[A\n",
      "Epoch 0:  97%|█████████▋| 116/120 [00:24<00:00,  4.70it/s, loss=0.889, v_num=1]\n",
      "Validating:  80%|████████  | 16/20 [00:04<00:00,  4.01it/s]\u001b[A\n",
      "Epoch 0:  98%|█████████▊| 118/120 [00:25<00:00,  4.69it/s, loss=0.889, v_num=1]\n",
      "Validating:  90%|█████████ | 18/20 [00:04<00:00,  3.77it/s]\u001b[A\n",
      "Epoch 0: 100%|██████████| 120/120 [00:25<00:00,  4.66it/s, loss=0.889, v_num=1]\n",
      "Epoch 0: 100%|██████████| 120/120 [00:26<00:00,  4.59it/s, loss=0.889, v_num=1]\n",
      "Epoch 1:  83%|████████▎ | 100/120 [00:20<00:04,  4.85it/s, loss=0.827, v_num=1]\n",
      "Validating: 0it [00:00, ?it/s]\u001b[A\n",
      "Validating:   0%|          | 0/20 [00:00<?, ?it/s]\u001b[A\n",
      "Epoch 1:  85%|████████▌ | 102/120 [00:21<00:03,  4.85it/s, loss=0.827, v_num=1]\n",
      "Validating:  10%|█         | 2/20 [00:00<00:05,  3.08it/s]\u001b[A\n",
      "Epoch 1:  87%|████████▋ | 104/120 [00:21<00:03,  4.82it/s, loss=0.827, v_num=1]\n",
      "Validating:  20%|██        | 4/20 [00:01<00:04,  3.61it/s]\u001b[A\n",
      "Epoch 1:  88%|████████▊ | 106/120 [00:22<00:02,  4.80it/s, loss=0.827, v_num=1]\n",
      "Validating:  30%|███       | 6/20 [00:01<00:03,  3.87it/s]\u001b[A\n",
      "Epoch 1:  90%|█████████ | 108/120 [00:22<00:02,  4.78it/s, loss=0.827, v_num=1]\n",
      "Validating:  40%|████      | 8/20 [00:02<00:03,  3.74it/s]\u001b[A\n",
      "Epoch 1:  92%|█████████▏| 110/120 [00:23<00:02,  4.75it/s, loss=0.827, v_num=1]\n",
      "Validating:  50%|█████     | 10/20 [00:02<00:02,  3.85it/s]\u001b[A\n",
      "Epoch 1:  93%|█████████▎| 112/120 [00:23<00:01,  4.74it/s, loss=0.827, v_num=1]\n",
      "Validating:  60%|██████    | 12/20 [00:03<00:02,  4.00it/s]\u001b[A\n",
      "Epoch 1:  95%|█████████▌| 114/120 [00:24<00:01,  4.73it/s, loss=0.827, v_num=1]\n",
      "Validating:  70%|███████   | 14/20 [00:03<00:01,  4.03it/s]\u001b[A\n",
      "Epoch 1:  97%|█████████▋| 116/120 [00:24<00:00,  4.71it/s, loss=0.827, v_num=1]\n",
      "Validating:  80%|████████  | 16/20 [00:04<00:01,  3.97it/s]\u001b[A\n",
      "Epoch 1:  98%|█████████▊| 118/120 [00:25<00:00,  4.70it/s, loss=0.827, v_num=1]\n",
      "Validating:  90%|█████████ | 18/20 [00:04<00:00,  3.77it/s]\u001b[A\n",
      "Epoch 1: 100%|██████████| 120/120 [00:25<00:00,  4.68it/s, loss=0.827, v_num=1]\n",
      "Epoch 1: 100%|██████████| 120/120 [00:26<00:00,  4.60it/s, loss=0.827, v_num=1]\n",
      "Epoch 2:  83%|████████▎ | 100/120 [00:19<00:03,  5.07it/s, loss=0.678, v_num=1]\n",
      "Validating: 0it [00:00, ?it/s]\u001b[A\n",
      "Validating:   0%|          | 0/20 [00:00<?, ?it/s]\u001b[A\n",
      "Epoch 2:  85%|████████▌ | 102/120 [00:20<00:03,  5.09it/s, loss=0.678, v_num=1]\n",
      "Validating:  10%|█         | 2/20 [00:00<00:04,  3.99it/s]\u001b[A\n",
      "Epoch 2:  87%|████████▋ | 104/120 [00:20<00:03,  5.09it/s, loss=0.678, v_num=1]\n",
      "Validating:  20%|██        | 4/20 [00:00<00:03,  4.69it/s]\u001b[A\n",
      "Epoch 2:  88%|████████▊ | 106/120 [00:20<00:02,  5.09it/s, loss=0.678, v_num=1]\n",
      "Validating:  30%|███       | 6/20 [00:01<00:02,  5.17it/s]\u001b[A\n",
      "Epoch 2:  90%|█████████ | 108/120 [00:21<00:02,  5.10it/s, loss=0.678, v_num=1]\n",
      "Validating:  40%|████      | 8/20 [00:01<00:02,  5.10it/s]\u001b[A\n",
      "Epoch 2:  92%|█████████▏| 110/120 [00:21<00:01,  5.10it/s, loss=0.678, v_num=1]\n",
      "Validating:  50%|█████     | 10/20 [00:02<00:01,  5.31it/s]\u001b[A\n",
      "Epoch 2:  93%|█████████▎| 112/120 [00:21<00:01,  5.10it/s, loss=0.678, v_num=1]\n",
      "Validating:  60%|██████    | 12/20 [00:02<00:01,  5.48it/s]\u001b[A\n",
      "Epoch 2:  95%|█████████▌| 114/120 [00:22<00:01,  5.11it/s, loss=0.678, v_num=1]\n",
      "Validating:  70%|███████   | 14/20 [00:02<00:01,  5.44it/s]\u001b[A\n",
      "Epoch 2:  97%|█████████▋| 116/120 [00:22<00:00,  5.11it/s, loss=0.678, v_num=1]\n",
      "Validating:  80%|████████  | 16/20 [00:03<00:00,  5.30it/s]\u001b[A\n",
      "Epoch 2:  98%|█████████▊| 118/120 [00:23<00:00,  5.12it/s, loss=0.678, v_num=1]\n",
      "Validating:  90%|█████████ | 18/20 [00:03<00:00,  5.25it/s]\u001b[A\n",
      "Epoch 2: 100%|██████████| 120/120 [00:23<00:00,  5.12it/s, loss=0.678, v_num=1]\n",
      "Epoch 2: 100%|██████████| 120/120 [00:23<00:00,  5.05it/s, loss=0.678, v_num=1]\n",
      "Epoch 3:  83%|████████▎ | 100/120 [00:18<00:03,  5.28it/s, loss=0.634, v_num=1]\n",
      "Validating: 0it [00:00, ?it/s]\u001b[A\n",
      "Validating:   0%|          | 0/20 [00:00<?, ?it/s]\u001b[A\n",
      "Epoch 3:  85%|████████▌ | 102/120 [00:19<00:03,  5.30it/s, loss=0.634, v_num=1]\n",
      "Validating:  10%|█         | 2/20 [00:00<00:05,  3.49it/s]\u001b[A\n",
      "Epoch 3:  87%|████████▋ | 104/120 [00:19<00:03,  5.28it/s, loss=0.634, v_num=1]\n",
      "Validating:  20%|██        | 4/20 [00:00<00:03,  4.61it/s]\u001b[A\n",
      "Epoch 3:  88%|████████▊ | 106/120 [00:20<00:02,  5.28it/s, loss=0.634, v_num=1]\n",
      "Validating:  30%|███       | 6/20 [00:01<00:02,  5.23it/s]\u001b[A\n",
      "Epoch 3:  90%|█████████ | 108/120 [00:20<00:02,  5.29it/s, loss=0.634, v_num=1]\n",
      "Validating:  40%|████      | 8/20 [00:01<00:02,  5.25it/s]\u001b[A\n",
      "Epoch 3:  92%|█████████▏| 110/120 [00:20<00:01,  5.29it/s, loss=0.634, v_num=1]\n",
      "Validating:  50%|█████     | 10/20 [00:02<00:01,  5.53it/s]\u001b[A\n",
      "Epoch 3:  93%|█████████▎| 112/120 [00:21<00:01,  5.30it/s, loss=0.634, v_num=1]\n",
      "Validating:  60%|██████    | 12/20 [00:02<00:01,  5.70it/s]\u001b[A\n",
      "Epoch 3:  95%|█████████▌| 114/120 [00:21<00:01,  5.31it/s, loss=0.634, v_num=1]\n",
      "Validating:  70%|███████   | 14/20 [00:02<00:01,  5.73it/s]\u001b[A\n",
      "Epoch 3:  97%|█████████▋| 116/120 [00:21<00:00,  5.32it/s, loss=0.634, v_num=1]\n",
      "Validating:  80%|████████  | 16/20 [00:03<00:00,  5.65it/s]\u001b[A\n",
      "Epoch 3:  98%|█████████▊| 118/120 [00:22<00:00,  5.32it/s, loss=0.634, v_num=1]\n",
      "Validating:  90%|█████████ | 18/20 [00:03<00:00,  5.59it/s]\u001b[A\n",
      "Epoch 3: 100%|██████████| 120/120 [00:22<00:00,  5.32it/s, loss=0.634, v_num=1]\n",
      "Epoch 3: 100%|██████████| 120/120 [00:22<00:00,  5.25it/s, loss=0.634, v_num=1]\n",
      "Epoch 4:  83%|████████▎ | 100/120 [00:18<00:03,  5.48it/s, loss=0.574, v_num=1]\n",
      "Validating: 0it [00:00, ?it/s]\u001b[A\n",
      "Validating:   0%|          | 0/20 [00:00<?, ?it/s]\u001b[A\n",
      "Epoch 4:  85%|████████▌ | 102/120 [00:18<00:03,  5.49it/s, loss=0.574, v_num=1]\n",
      "Validating:  10%|█         | 2/20 [00:00<00:04,  4.25it/s]\u001b[A\n",
      "Epoch 4:  87%|████████▋ | 104/120 [00:18<00:02,  5.49it/s, loss=0.574, v_num=1]\n",
      "Validating:  20%|██        | 4/20 [00:00<00:03,  4.98it/s]\u001b[A\n",
      "Epoch 4:  88%|████████▊ | 106/120 [00:19<00:02,  5.49it/s, loss=0.574, v_num=1]\n",
      "Validating:  30%|███       | 6/20 [00:01<00:02,  5.36it/s]\u001b[A\n",
      "Epoch 4:  90%|█████████ | 108/120 [00:19<00:02,  5.49it/s, loss=0.574, v_num=1]\n",
      "Validating:  40%|████      | 8/20 [00:01<00:02,  5.32it/s]\u001b[A\n",
      "Epoch 4:  92%|█████████▏| 110/120 [00:20<00:01,  5.49it/s, loss=0.574, v_num=1]\n",
      "Validating:  50%|█████     | 10/20 [00:01<00:01,  5.47it/s]\u001b[A\n",
      "Epoch 4:  93%|█████████▎| 112/120 [00:20<00:01,  5.49it/s, loss=0.574, v_num=1]\n",
      "Validating:  60%|██████    | 12/20 [00:02<00:01,  5.63it/s]\u001b[A\n",
      "Epoch 4:  95%|█████████▌| 114/120 [00:20<00:01,  5.50it/s, loss=0.574, v_num=1]\n",
      "Validating:  70%|███████   | 14/20 [00:02<00:01,  5.65it/s]\u001b[A\n",
      "Epoch 4:  97%|█████████▋| 116/120 [00:21<00:00,  5.50it/s, loss=0.574, v_num=1]\n",
      "Validating:  80%|████████  | 16/20 [00:03<00:00,  5.55it/s]\u001b[A\n",
      "Epoch 4:  98%|█████████▊| 118/120 [00:21<00:00,  5.50it/s, loss=0.574, v_num=1]\n",
      "Validating:  90%|█████████ | 18/20 [00:03<00:00,  5.50it/s]\u001b[A\n",
      "Epoch 4: 100%|██████████| 120/120 [00:21<00:00,  5.50it/s, loss=0.574, v_num=1]\n",
      "Epoch 4: 100%|██████████| 120/120 [00:22<00:00,  5.42it/s, loss=0.574, v_num=1]\n",
      "Epoch 5:  83%|████████▎ | 100/120 [00:17<00:03,  5.57it/s, loss=0.534, v_num=1]\n",
      "Validating: 0it [00:00, ?it/s]\u001b[A\n",
      "Validating:   0%|          | 0/20 [00:00<?, ?it/s]\u001b[A\n",
      "Epoch 5:  85%|████████▌ | 102/120 [00:18<00:03,  5.58it/s, loss=0.534, v_num=1]\n",
      "Validating:  10%|█         | 2/20 [00:00<00:04,  4.25it/s]\u001b[A\n",
      "Epoch 5:  87%|████████▋ | 104/120 [00:18<00:02,  5.58it/s, loss=0.534, v_num=1]\n",
      "Validating:  20%|██        | 4/20 [00:00<00:03,  5.06it/s]\u001b[A\n",
      "Epoch 5:  88%|████████▊ | 106/120 [00:18<00:02,  5.58it/s, loss=0.534, v_num=1]\n",
      "Validating:  30%|███       | 6/20 [00:01<00:02,  5.47it/s]\u001b[A\n",
      "Epoch 5:  90%|█████████ | 108/120 [00:19<00:02,  5.58it/s, loss=0.534, v_num=1]\n",
      "Validating:  40%|████      | 8/20 [00:01<00:02,  5.45it/s]\u001b[A\n",
      "Epoch 5:  92%|█████████▏| 110/120 [00:19<00:01,  5.58it/s, loss=0.534, v_num=1]\n",
      "Validating:  50%|█████     | 10/20 [00:01<00:01,  5.60it/s]\u001b[A\n",
      "Epoch 5:  93%|█████████▎| 112/120 [00:20<00:01,  5.59it/s, loss=0.534, v_num=1]\n",
      "Validating:  60%|██████    | 12/20 [00:02<00:01,  5.79it/s]\u001b[A\n",
      "Epoch 5:  95%|█████████▌| 114/120 [00:20<00:01,  5.59it/s, loss=0.534, v_num=1]\n",
      "Validating:  70%|███████   | 14/20 [00:02<00:01,  5.86it/s]\u001b[A\n",
      "Epoch 5:  97%|█████████▋| 116/120 [00:20<00:00,  5.60it/s, loss=0.534, v_num=1]\n",
      "Validating:  80%|████████  | 16/20 [00:02<00:00,  5.85it/s]\u001b[A\n",
      "Epoch 5:  98%|█████████▊| 118/120 [00:21<00:00,  5.60it/s, loss=0.534, v_num=1]\n",
      "Validating:  90%|█████████ | 18/20 [00:03<00:00,  5.72it/s]\u001b[A\n",
      "Epoch 5: 100%|██████████| 120/120 [00:21<00:00,  5.60it/s, loss=0.534, v_num=1]\n",
      "Epoch 5: 100%|██████████| 120/120 [00:21<00:00,  5.53it/s, loss=0.534, v_num=1]\n",
      "Epoch 6:  83%|████████▎ | 100/120 [00:17<00:03,  5.66it/s, loss=0.493, v_num=1]\n",
      "Validating: 0it [00:00, ?it/s]\u001b[A\n",
      "Validating:   0%|          | 0/20 [00:00<?, ?it/s]\u001b[A\n",
      "Epoch 6:  85%|████████▌ | 102/120 [00:17<00:03,  5.67it/s, loss=0.493, v_num=1]\n",
      "Validating:  10%|█         | 2/20 [00:00<00:04,  4.29it/s]\u001b[A\n",
      "Epoch 6:  87%|████████▋ | 104/120 [00:18<00:02,  5.67it/s, loss=0.493, v_num=1]\n",
      "Validating:  20%|██        | 4/20 [00:00<00:03,  5.08it/s]\u001b[A\n",
      "Epoch 6:  88%|████████▊ | 106/120 [00:18<00:02,  5.67it/s, loss=0.493, v_num=1]\n",
      "Validating:  30%|███       | 6/20 [00:01<00:02,  5.57it/s]\u001b[A\n",
      "Epoch 6:  90%|█████████ | 108/120 [00:19<00:02,  5.67it/s, loss=0.493, v_num=1]\n",
      "Validating:  40%|████      | 8/20 [00:01<00:02,  5.61it/s]\u001b[A\n",
      "Epoch 6:  92%|█████████▏| 110/120 [00:19<00:01,  5.67it/s, loss=0.493, v_num=1]\n",
      "Validating:  50%|█████     | 10/20 [00:01<00:01,  5.78it/s]\u001b[A\n",
      "Epoch 6:  93%|█████████▎| 112/120 [00:19<00:01,  5.68it/s, loss=0.493, v_num=1]\n",
      "Validating:  60%|██████    | 12/20 [00:02<00:01,  5.95it/s]\u001b[A\n",
      "Epoch 6:  95%|█████████▌| 114/120 [00:20<00:01,  5.69it/s, loss=0.493, v_num=1]\n",
      "Validating:  70%|███████   | 14/20 [00:02<00:01,  5.97it/s]\u001b[A\n",
      "Epoch 6:  97%|█████████▋| 116/120 [00:20<00:00,  5.69it/s, loss=0.493, v_num=1]\n",
      "Validating:  80%|████████  | 16/20 [00:02<00:00,  5.91it/s]\u001b[A\n",
      "Epoch 6:  98%|█████████▊| 118/120 [00:20<00:00,  5.69it/s, loss=0.493, v_num=1]\n",
      "Validating:  90%|█████████ | 18/20 [00:03<00:00,  5.81it/s]\u001b[A\n",
      "Epoch 6: 100%|██████████| 120/120 [00:21<00:00,  5.69it/s, loss=0.493, v_num=1]\n",
      "Epoch 6: 100%|██████████| 120/120 [00:21<00:00,  5.61it/s, loss=0.493, v_num=1]\n",
      "Epoch 7:  83%|████████▎ | 100/120 [00:17<00:03,  5.67it/s, loss=0.421, v_num=1]\n",
      "Validating: 0it [00:00, ?it/s]\u001b[A\n",
      "Validating:   0%|          | 0/20 [00:00<?, ?it/s]\u001b[A\n",
      "Epoch 7:  85%|████████▌ | 102/120 [00:17<00:03,  5.69it/s, loss=0.421, v_num=1]\n",
      "Validating:  10%|█         | 2/20 [00:00<00:04,  4.36it/s]\u001b[A\n",
      "Epoch 7:  87%|████████▋ | 104/120 [00:18<00:02,  5.69it/s, loss=0.421, v_num=1]\n",
      "Validating:  20%|██        | 4/20 [00:00<00:03,  5.16it/s]\u001b[A\n",
      "Epoch 7:  88%|████████▊ | 106/120 [00:18<00:02,  5.69it/s, loss=0.421, v_num=1]\n",
      "Validating:  30%|███       | 6/20 [00:01<00:02,  5.55it/s]\u001b[A\n",
      "Epoch 7:  90%|█████████ | 108/120 [00:18<00:02,  5.68it/s, loss=0.421, v_num=1]\n",
      "Validating:  40%|████      | 8/20 [00:01<00:02,  5.40it/s]\u001b[A\n",
      "Epoch 7:  92%|█████████▏| 110/120 [00:19<00:01,  5.68it/s, loss=0.421, v_num=1]\n",
      "Validating:  50%|█████     | 10/20 [00:01<00:01,  5.47it/s]\u001b[A\n",
      "Epoch 7:  93%|█████████▎| 112/120 [00:19<00:01,  5.68it/s, loss=0.421, v_num=1]\n",
      "Validating:  60%|██████    | 12/20 [00:02<00:01,  5.61it/s]\u001b[A\n",
      "Epoch 7:  95%|█████████▌| 114/120 [00:20<00:01,  5.68it/s, loss=0.421, v_num=1]\n",
      "Validating:  70%|███████   | 14/20 [00:02<00:01,  5.81it/s]\u001b[A\n",
      "Epoch 7:  97%|█████████▋| 116/120 [00:20<00:00,  5.69it/s, loss=0.421, v_num=1]\n",
      "Validating:  80%|████████  | 16/20 [00:02<00:00,  5.80it/s]\u001b[A\n",
      "Epoch 7:  98%|█████████▊| 118/120 [00:20<00:00,  5.69it/s, loss=0.421, v_num=1]\n",
      "Validating:  90%|█████████ | 18/20 [00:03<00:00,  5.77it/s]\u001b[A\n",
      "Epoch 7: 100%|██████████| 120/120 [00:21<00:00,  5.69it/s, loss=0.421, v_num=1]\n",
      "Epoch 7: 100%|██████████| 120/120 [00:21<00:00,  5.59it/s, loss=0.421, v_num=1]\n",
      "Epoch 8:  83%|████████▎ | 100/120 [00:17<00:03,  5.76it/s, loss=0.399, v_num=1]\n",
      "Validating: 0it [00:00, ?it/s]\u001b[A\n",
      "Validating:   0%|          | 0/20 [00:00<?, ?it/s]\u001b[A\n",
      "Epoch 8:  85%|████████▌ | 102/120 [00:17<00:03,  5.77it/s, loss=0.399, v_num=1]\n",
      "Validating:  10%|█         | 2/20 [00:00<00:04,  4.37it/s]\u001b[A\n",
      "Epoch 8:  87%|████████▋ | 104/120 [00:18<00:02,  5.77it/s, loss=0.399, v_num=1]\n",
      "Validating:  20%|██        | 4/20 [00:00<00:03,  5.23it/s]\u001b[A\n",
      "Epoch 8:  88%|████████▊ | 106/120 [00:18<00:02,  5.77it/s, loss=0.399, v_num=1]\n",
      "Validating:  30%|███       | 6/20 [00:01<00:02,  5.64it/s]\u001b[A\n",
      "Epoch 8:  90%|█████████ | 108/120 [00:18<00:02,  5.77it/s, loss=0.399, v_num=1]\n",
      "Validating:  40%|████      | 8/20 [00:01<00:02,  5.65it/s]\u001b[A\n",
      "Epoch 8:  92%|█████████▏| 110/120 [00:19<00:01,  5.77it/s, loss=0.399, v_num=1]\n",
      "Validating:  50%|█████     | 10/20 [00:01<00:01,  5.80it/s]\u001b[A\n",
      "Epoch 8:  93%|█████████▎| 112/120 [00:19<00:01,  5.78it/s, loss=0.399, v_num=1]\n",
      "Validating:  60%|██████    | 12/20 [00:02<00:01,  5.92it/s]\u001b[A\n",
      "Epoch 8:  95%|█████████▌| 114/120 [00:19<00:01,  5.78it/s, loss=0.399, v_num=1]\n",
      "Validating:  70%|███████   | 14/20 [00:02<00:01,  5.97it/s]\u001b[A\n",
      "Epoch 8:  97%|█████████▋| 116/120 [00:20<00:00,  5.78it/s, loss=0.399, v_num=1]\n",
      "Validating:  80%|████████  | 16/20 [00:02<00:00,  5.92it/s]\u001b[A\n",
      "Epoch 8:  98%|█████████▊| 118/120 [00:20<00:00,  5.79it/s, loss=0.399, v_num=1]\n",
      "Validating:  90%|█████████ | 18/20 [00:03<00:00,  5.83it/s]\u001b[A\n",
      "Epoch 8: 100%|██████████| 120/120 [00:20<00:00,  5.78it/s, loss=0.399, v_num=1]\n",
      "Epoch 8: 100%|██████████| 120/120 [00:21<00:00,  5.70it/s, loss=0.399, v_num=1]\n",
      "Epoch 9:  83%|████████▎ | 100/120 [00:17<00:03,  5.71it/s, loss=0.388, v_num=1]\n",
      "Validating: 0it [00:00, ?it/s]\u001b[A\n",
      "Validating:   0%|          | 0/20 [00:00<?, ?it/s]\u001b[A\n",
      "Epoch 9:  85%|████████▌ | 102/120 [00:17<00:03,  5.72it/s, loss=0.388, v_num=1]\n",
      "Validating:  10%|█         | 2/20 [00:00<00:04,  4.39it/s]\u001b[A\n",
      "Epoch 9:  87%|████████▋ | 104/120 [00:18<00:02,  5.72it/s, loss=0.388, v_num=1]\n",
      "Validating:  20%|██        | 4/20 [00:00<00:03,  5.12it/s]\u001b[A\n",
      "Epoch 9:  88%|████████▊ | 106/120 [00:18<00:02,  5.72it/s, loss=0.388, v_num=1]\n",
      "Validating:  30%|███       | 6/20 [00:01<00:02,  5.60it/s]\u001b[A\n",
      "Epoch 9:  90%|█████████ | 108/120 [00:18<00:02,  5.72it/s, loss=0.388, v_num=1]\n",
      "Validating:  40%|████      | 8/20 [00:01<00:02,  5.65it/s]\u001b[A\n",
      "Epoch 9:  92%|█████████▏| 110/120 [00:19<00:01,  5.73it/s, loss=0.388, v_num=1]\n",
      "Validating:  50%|█████     | 10/20 [00:01<00:01,  5.81it/s]\u001b[A\n",
      "Epoch 9:  93%|█████████▎| 112/120 [00:19<00:01,  5.73it/s, loss=0.388, v_num=1]\n",
      "Validating:  60%|██████    | 12/20 [00:02<00:01,  5.94it/s]\u001b[A\n",
      "Epoch 9:  95%|█████████▌| 114/120 [00:19<00:01,  5.74it/s, loss=0.388, v_num=1]\n",
      "Validating:  70%|███████   | 14/20 [00:02<00:00,  6.01it/s]\u001b[A\n",
      "Epoch 9:  97%|█████████▋| 116/120 [00:20<00:00,  5.74it/s, loss=0.388, v_num=1]\n",
      "Validating:  80%|████████  | 16/20 [00:02<00:00,  5.89it/s]\u001b[A\n",
      "Epoch 9:  98%|█████████▊| 118/120 [00:20<00:00,  5.74it/s, loss=0.388, v_num=1]\n",
      "Validating:  90%|█████████ | 18/20 [00:03<00:00,  5.74it/s]\u001b[A\n",
      "Epoch 9: 100%|██████████| 120/120 [00:20<00:00,  5.74it/s, loss=0.388, v_num=1]\n",
      "Epoch 9: 100%|██████████| 120/120 [00:21<00:00,  5.66it/s, loss=0.388, v_num=1]\n",
      "Epoch 9: 100%|██████████| 120/120 [00:21<00:00,  5.66it/s, loss=0.388, v_num=1]\n"
     ]
    },
    {
     "data": {
      "text/plain": [
       "1"
      ]
     },
     "execution_count": 18,
     "metadata": {},
     "output_type": "execute_result"
    }
   ],
   "source": [
    "from pytorch_lightning import Trainer\n",
    "logger = TensorBoardLogger(\"tb_logs\",name = \"embedding_\"+run_name)\n",
    "trainer = Trainer(gpus=1, max_epochs=10,logger = logger)\n",
    "trainer.fit(model)"
   ]
  },
  {
   "cell_type": "code",
   "execution_count": 19,
   "metadata": {},
   "outputs": [
    {
     "name": "stderr",
     "output_type": "stream",
     "text": [
      "Set SLURM handle signals.\n"
     ]
    },
    {
     "name": "stdout",
     "output_type": "stream",
     "text": [
      "Testing:   0%|          | 0/20 [00:00<?, ?it/s]"
     ]
    },
    {
     "name": "stderr",
     "output_type": "stream",
     "text": [
      "/global/homes/j/jferguso/.conda/envs/exatrkx-tracking/lib/python3.8/site-packages/pytorch_lightning/utilities/distributed.py:50: UserWarning: The dataloader, test dataloader 0, does not have many workers which may be a bottleneck. Consider increasing the value of the `num_workers` argument` (try 80 which is the number of cpus on this machine) in the `DataLoader` init to improve performance.\n",
      "  warnings.warn(*args, **kwargs)\n"
     ]
    },
    {
     "name": "stdout",
     "output_type": "stream",
     "text": [
      "Testing: 100%|██████████| 20/20 [00:04<00:00,  4.99it/s]\n",
      "--------------------------------------------------------------------------------\n",
      "DATALOADER:0 TEST RESULTS\n",
      "{'loss': 0.9735673069953918,\n",
      " 'preds': array([[    0,     0,     0, ..., 12150, 12150, 12150],\n",
      "       [  686,  1012,  1087, ..., 11810, 11812, 11813]]),\n",
      " 'truth': array([False,  True,  True, ...,  True,  True,  True]),\n",
      " 'truth_graph': array([[  103,   103,   179, ..., 11070, 11463, 11463],\n",
      "       [  706,   760,   706, ...,  9935, 11067, 11070]])}\n",
      "--------------------------------------------------------------------------------\n"
     ]
    }
   ],
   "source": [
    "test_results = trainer.test(ckpt_path=None)\n",
    "from LightningModules.Embedding.utils import get_metrics\n",
    "model.eval();"
   ]
  },
  {
   "cell_type": "code",
   "execution_count": 20,
   "metadata": {},
   "outputs": [
    {
     "name": "stderr",
     "output_type": "stream",
     "text": [
      "Set SLURM handle signals.\n"
     ]
    },
    {
     "name": "stdout",
     "output_type": "stream",
     "text": [
      "Testing: 100%|██████████| 20/20 [00:03<00:00,  5.66it/s]"
     ]
    },
    {
     "name": "stderr",
     "output_type": "stream",
     "text": [
      "Set SLURM handle signals.\n"
     ]
    },
    {
     "name": "stdout",
     "output_type": "stream",
     "text": [
      "\n",
      "--------------------------------------------------------------------------------\n",
      "DATALOADER:0 TEST RESULTS\n",
      "{'loss': 0.7036618590354919,\n",
      " 'preds': array([[    0,     1,     1, ..., 12150, 12150, 12150],\n",
      "       [ 1012,     4,  1114, ..., 11810, 11812, 11813]]),\n",
      " 'truth': array([ True, False,  True, ...,  True,  True,  True]),\n",
      " 'truth_graph': array([[  103,   103,   179, ..., 11070, 11463, 11463],\n",
      "       [  706,   760,   706, ...,  9935, 11067, 11070]])}\n",
      "--------------------------------------------------------------------------------\n",
      "Testing: 100%|██████████| 20/20 [00:03<00:00,  5.66it/s]"
     ]
    },
    {
     "name": "stderr",
     "output_type": "stream",
     "text": [
      "Set SLURM handle signals.\n"
     ]
    },
    {
     "name": "stdout",
     "output_type": "stream",
     "text": [
      "\n",
      "--------------------------------------------------------------------------------\n",
      "DATALOADER:0 TEST RESULTS\n",
      "{'loss': 0.7376210689544678,\n",
      " 'preds': array([[    0,     0,     1, ..., 12150, 12150, 12150],\n",
      "       [ 1012,  1087,     4, ..., 11810, 11812, 11813]]),\n",
      " 'truth': array([ True,  True, False, ...,  True,  True,  True]),\n",
      " 'truth_graph': array([[  103,   103,   179, ..., 11070, 11463, 11463],\n",
      "       [  706,   760,   706, ...,  9935, 11067, 11070]])}\n",
      "--------------------------------------------------------------------------------\n",
      "Testing: 100%|██████████| 20/20 [00:03<00:00,  5.58it/s]"
     ]
    },
    {
     "name": "stderr",
     "output_type": "stream",
     "text": [
      "Set SLURM handle signals.\n"
     ]
    },
    {
     "name": "stdout",
     "output_type": "stream",
     "text": [
      "\n",
      "--------------------------------------------------------------------------------\n",
      "DATALOADER:0 TEST RESULTS\n",
      "{'loss': 0.7927619814872742,\n",
      " 'preds': array([[    0,     0,     1, ..., 12150, 12150, 12150],\n",
      "       [ 1012,  1087,     4, ..., 11810, 11812, 11813]]),\n",
      " 'truth': array([ True,  True, False, ...,  True,  True,  True]),\n",
      " 'truth_graph': array([[  103,   103,   179, ..., 11070, 11463, 11463],\n",
      "       [  706,   760,   706, ...,  9935, 11067, 11070]])}\n",
      "--------------------------------------------------------------------------------\n",
      "Testing: 100%|██████████| 20/20 [00:03<00:00,  5.39it/s]"
     ]
    },
    {
     "name": "stderr",
     "output_type": "stream",
     "text": [
      "Set SLURM handle signals.\n"
     ]
    },
    {
     "name": "stdout",
     "output_type": "stream",
     "text": [
      "\n",
      "--------------------------------------------------------------------------------\n",
      "DATALOADER:0 TEST RESULTS\n",
      "{'loss': 0.8437907099723816,\n",
      " 'preds': array([[    0,     0,     0, ..., 12150, 12150, 12150],\n",
      "       [ 1012,  1087,  2020, ..., 11810, 11812, 11813]]),\n",
      " 'truth': array([ True,  True, False, ...,  True,  True,  True]),\n",
      " 'truth_graph': array([[  103,   103,   179, ..., 11070, 11463, 11463],\n",
      "       [  706,   760,   706, ...,  9935, 11067, 11070]])}\n",
      "--------------------------------------------------------------------------------\n",
      "Testing: 100%|██████████| 20/20 [00:03<00:00,  5.50it/s]"
     ]
    },
    {
     "name": "stderr",
     "output_type": "stream",
     "text": [
      "Set SLURM handle signals.\n"
     ]
    },
    {
     "name": "stdout",
     "output_type": "stream",
     "text": [
      "\n",
      "--------------------------------------------------------------------------------\n",
      "DATALOADER:0 TEST RESULTS\n",
      "{'loss': 0.8856512904167175,\n",
      " 'preds': array([[    0,     0,     0, ..., 12150, 12150, 12150],\n",
      "       [ 1012,  1087,  2020, ..., 11810, 11812, 11813]]),\n",
      " 'truth': array([ True,  True, False, ...,  True,  True,  True]),\n",
      " 'truth_graph': array([[  103,   103,   179, ..., 11070, 11463, 11463],\n",
      "       [  706,   760,   706, ...,  9935, 11067, 11070]])}\n",
      "--------------------------------------------------------------------------------\n",
      "Testing: 100%|██████████| 20/20 [00:03<00:00,  5.41it/s]"
     ]
    },
    {
     "name": "stderr",
     "output_type": "stream",
     "text": [
      "Set SLURM handle signals.\n"
     ]
    },
    {
     "name": "stdout",
     "output_type": "stream",
     "text": [
      "\n",
      "--------------------------------------------------------------------------------\n",
      "DATALOADER:0 TEST RESULTS\n",
      "{'loss': 0.9169003963470459,\n",
      " 'preds': array([[    0,     0,     0, ..., 12150, 12150, 12150],\n",
      "       [ 1012,  1087,  2020, ..., 11810, 11812, 11813]]),\n",
      " 'truth': array([ True,  True, False, ...,  True,  True,  True]),\n",
      " 'truth_graph': array([[  103,   103,   179, ..., 11070, 11463, 11463],\n",
      "       [  706,   760,   706, ...,  9935, 11067, 11070]])}\n",
      "--------------------------------------------------------------------------------\n",
      "Testing: 100%|██████████| 20/20 [00:03<00:00,  5.40it/s]\n",
      "--------------------------------------------------------------------------------\n",
      "DATALOADER:0 TEST RESULTS\n",
      "{'loss': 0.9368391036987305,\n",
      " 'preds': array([[    0,     0,     0, ..., 12150, 12150, 12150],\n",
      "       [ 1012,  1087,  1341, ..., 11810, 11812, 11813]]),\n",
      " 'truth': array([ True,  True, False, ...,  True,  True,  True]),\n",
      " 'truth_graph': array([[  103,   103,   179, ..., 11070, 11463, 11463],\n",
      "       [  706,   760,   706, ...,  9935, 11067, 11070]])}\n",
      "--------------------------------------------------------------------------------\n"
     ]
    }
   ],
   "source": [
    "all_efficiencies, all_purities = [], []\n",
    "all_radius = np.arange(0.5, 1.2, 0.1)\n",
    "\n",
    "with torch.no_grad():\n",
    "    for r in all_radius:\n",
    "\n",
    "        model.hparams.r_test = r\n",
    "        test_results = trainer.test(ckpt_path=None)\n",
    "\n",
    "        mean_efficiency, mean_purity = get_metrics(test_results, model)\n",
    "\n",
    "        all_efficiencies.append(mean_efficiency)\n",
    "        all_purities.append(mean_purity)"
   ]
  },
  {
   "cell_type": "code",
   "execution_count": 21,
   "metadata": {},
   "outputs": [
    {
     "data": {
      "image/png": "[encoded data removed]",
      "text/plain": [
       "<Figure size 864x576 with 1 Axes>"
      ]
     },
     "metadata": {
      "needs_background": "light"
     },
     "output_type": "display_data"
    },
    {
     "data": {
      "image/png": "[encoded data removed]",
      "text/plain": [
       "<Figure size 864x576 with 1 Axes>"
      ]
     },
     "metadata": {
      "needs_background": "light"
     },
     "output_type": "display_data"
    }
   ],
   "source": [
    "\n",
    "plt.figure(figsize=(12,8))\n",
    "plt.plot(all_radius, all_efficiencies);\n",
    "plt.title(\"Embedding efficiency\", fontsize=24), plt.xlabel(\"Radius of neighborhood\", fontsize=18), plt.ylabel(\"Efficiency\", fontsize=18);\n",
    "plt.savefig(run_name + \"_eff.png\")\n",
    "plt.figure(figsize=(12,8))\n",
    "plt.plot(all_radius, all_purities);\n",
    "plt.title(\"Embedding purity\", fontsize=24), plt.xlabel(\"Radius of neighborhood\", fontsize=18), plt.ylabel(\"Purity\", fontsize=18);\n",
    "plt.savefig(run_name + \"_purity.png\")"
   ]
  },
  {
   "cell_type": "code",
   "execution_count": 22,
   "metadata": {},
   "outputs": [
    {
     "data": {
      "text/html": [
       "\n",
       "      <iframe id=\"tensorboard-frame-cd820abcb1364d91\" width=\"100%\" height=\"800\" frameborder=\"0\">\n",
       "      </iframe>\n",
       "      <script>\n",
       "        (function() {\n",
       "          const frame = document.getElementById(\"tensorboard-frame-cd820abcb1364d91\");\n",
       "          const url = new URL(\"/\", window.location);\n",
       "          const port = 36035;\n",
       "          if (port) {\n",
       "            url.port = port;\n",
       "          }\n",
       "          frame.src = url;\n",
       "        })();\n",
       "      </script>\n",
       "    "
      ],
      "text/plain": [
       "<IPython.core.display.HTML object>"
      ]
     },
     "metadata": {},
     "output_type": "display_data"
    },
    {
     "data": {
      "text/html": [
       "<a href=\"https://jupyter.nersc.gov/user/jferguso/cori-shared-node-gpu/proxy/36035/\">https://jupyter.nersc.gov/user/jferguso/cori-shared-node-gpu/proxy/36035/</a>"
      ],
      "text/plain": [
       "<IPython.core.display.HTML object>"
      ]
     },
     "metadata": {},
     "output_type": "display_data"
    }
   ],
   "source": [
    "os.environ['TENSORBOARD_BINARY'] = \"/global/homes/j/jferguso/.conda/envs/exatrkx-tracking/bin/tensorboard\"\n",
    "%tensorboard --logdir tb_logs/ --port 0\n",
    "nersc_tensorboard_helper.tb_address()"
   ]
  },
  {
   "cell_type": "code",
   "execution_count": null,
   "metadata": {},
   "outputs": [],
   "source": []
  }
 ],
 "metadata": {
  "kernelspec": {
   "display_name": "exatrkx-tracking",
   "language": "python",
   "name": "exatrkx-tracking"
  },
  "language_info": {
   "codemirror_mode": {
    "name": "ipython",
    "version": 3
   },
   "file_extension": ".py",
   "mimetype": "text/x-python",
   "name": "python",
   "nbconvert_exporter": "python",
   "pygments_lexer": "ipython3",
   "version": "3.8.5"
  }
 },
 "nbformat": 4,
 "nbformat_minor": 4
}
