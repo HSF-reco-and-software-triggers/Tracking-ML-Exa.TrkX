{
 "cells": [
  {
   "cell_type": "code",
   "execution_count": 1,
   "metadata": {},
   "outputs": [],
   "source": [
    "%load_ext autoreload\n",
    "%load_ext tensorboard\n",
    "%autoreload 2"
   ]
  },
  {
   "cell_type": "code",
   "execution_count": 2,
   "metadata": {},
   "outputs": [],
   "source": [
    "# System imports\n",
    "import os\n",
    "import sys\n",
    "import yaml\n",
    "\n",
    "# External imports\n",
    "import matplotlib.pyplot as plt\n",
    "import scipy as sp\n",
    "from sklearn.decomposition import PCA\n",
    "from sklearn.metrics import auc\n",
    "import numpy as np\n",
    "import pandas as pd\n",
    "import seaborn as sns\n",
    "import torch\n",
    "from pytorch_lightning.loggers import TensorBoardLogger\n",
    "import nersc_tensorboard_helper\n",
    "\n",
    "sys.path.append(\"..\")\n",
    "device = \"cuda\" if torch.cuda.is_available() else \"cpu\""
   ]
  },
  {
   "cell_type": "code",
   "execution_count": 3,
   "metadata": {},
   "outputs": [
    {
     "ename": "ModuleNotFoundError",
     "evalue": "No module named 'LightningModules.Embedding.Models.layerless_embedding'",
     "output_type": "error",
     "traceback": [
      "\u001b[0;31m---------------------------------------------------------------------------\u001b[0m",
      "\u001b[0;31mModuleNotFoundError\u001b[0m                       Traceback (most recent call last)",
      "\u001b[0;32m<ipython-input-3-2b09e3318ec9>\u001b[0m in \u001b[0;36m<module>\u001b[0;34m\u001b[0m\n\u001b[0;32m----> 1\u001b[0;31m \u001b[0;32mfrom\u001b[0m \u001b[0mLightningModules\u001b[0m\u001b[0;34m.\u001b[0m\u001b[0mEmbedding\u001b[0m\u001b[0;34m.\u001b[0m\u001b[0mModels\u001b[0m\u001b[0;34m.\u001b[0m\u001b[0mlayerless_embedding\u001b[0m \u001b[0;32mimport\u001b[0m \u001b[0mLayerlessEmbedding\u001b[0m\u001b[0;34m\u001b[0m\u001b[0;34m\u001b[0m\u001b[0m\n\u001b[0m",
      "\u001b[0;31mModuleNotFoundError\u001b[0m: No module named 'LightningModules.Embedding.Models.layerless_embedding'"
     ]
    }
   ],
   "source": [
    "from LightningModules.Embedding.Models.layerless_embedding import LayerlessEmbedding"
   ]
  },
  {
   "cell_type": "code",
   "execution_count": null,
   "metadata": {},
   "outputs": [],
   "source": [
    "run_name = \"high_warmup\"\n",
    "with open(\"example_embedding.yaml\") as f:\n",
    "    hparams = yaml.load(f, Loader=yaml.FullLoader)\n",
    "model = LayerlessEmbedding(hparams)\n",
    "model.setup(stage=\"fit\")"
   ]
  },
  {
   "cell_type": "code",
   "execution_count": null,
   "metadata": {},
   "outputs": [],
   "source": [
    "from pytorch_lightning import Trainer\n",
    "\n",
    "logger = TensorBoardLogger(\"tb_logs\", name=\"embedding_\" + run_name)\n",
    "trainer = Trainer(gpus=1, max_epochs=10, logger=logger)\n",
    "trainer.fit(model)"
   ]
  },
  {
   "cell_type": "code",
   "execution_count": null,
   "metadata": {},
   "outputs": [],
   "source": [
    "test_results = trainer.test(ckpt_path=None)\n",
    "from LightningModules.Embedding.utils import get_metrics\n",
    "\n",
    "model.eval();"
   ]
  },
  {
   "cell_type": "code",
   "execution_count": null,
   "metadata": {},
   "outputs": [],
   "source": [
    "all_efficiencies, all_purities = [], []\n",
    "all_radius = np.arange(0.5, 1.2, 0.1)\n",
    "\n",
    "with torch.no_grad():\n",
    "    for r in all_radius:\n",
    "\n",
    "        model.hparams.r_test = r\n",
    "        test_results = trainer.test(ckpt_path=None)\n",
    "\n",
    "        mean_efficiency, mean_purity = get_metrics(test_results, model)\n",
    "\n",
    "        all_efficiencies.append(mean_efficiency)\n",
    "        all_purities.append(mean_purity)"
   ]
  },
  {
   "cell_type": "code",
   "execution_count": null,
   "metadata": {},
   "outputs": [],
   "source": [
    "plt.figure(figsize=(12, 8))\n",
    "plt.plot(all_radius, all_efficiencies)\n",
    "plt.title(\"Embedding efficiency\", fontsize=24), plt.xlabel(\n",
    "    \"Radius of neighborhood\", fontsize=18\n",
    "), plt.ylabel(\"Efficiency\", fontsize=18)\n",
    "plt.savefig(run_name + \"_eff.png\")\n",
    "plt.figure(figsize=(12, 8))\n",
    "plt.plot(all_radius, all_purities)\n",
    "plt.title(\"Embedding purity\", fontsize=24), plt.xlabel(\n",
    "    \"Radius of neighborhood\", fontsize=18\n",
    "), plt.ylabel(\"Purity\", fontsize=18)\n",
    "plt.savefig(run_name + \"_purity.png\")"
   ]
  },
  {
   "cell_type": "code",
   "execution_count": null,
   "metadata": {},
   "outputs": [],
   "source": [
    "os.environ[\n",
    "    \"TENSORBOARD_BINARY\"\n",
    "] = \"/global/homes/j/jferguso/.conda/envs/exatrkx-tracking/bin/tensorboard\"\n",
    "%tensorboard --logdir tb_logs/ --port 0\n",
    "nersc_tensorboard_helper.tb_address()"
   ]
  },
  {
   "cell_type": "code",
   "execution_count": null,
   "metadata": {},
   "outputs": [],
   "source": []
  }
 ],
 "metadata": {
  "kernelspec": {
   "display_name": "exatrkx-tracking",
   "language": "python",
   "name": "exatrkx-tracking"
  },
  "language_info": {
   "codemirror_mode": {
    "name": "ipython",
    "version": 3
   },
   "file_extension": ".py",
   "mimetype": "text/x-python",
   "name": "python",
   "nbconvert_exporter": "python",
   "pygments_lexer": "ipython3",
   "version": "3.8.5"
  }
 },
 "nbformat": 4,
 "nbformat_minor": 4
}
