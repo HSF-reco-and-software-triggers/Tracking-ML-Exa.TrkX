{
 "cells": [
  {
   "cell_type": "markdown",
   "metadata": {},
   "source": [
    "# Pipeline Testing"
   ]
  },
  {
   "cell_type": "code",
   "execution_count": 1,
   "metadata": {},
   "outputs": [],
   "source": [
    "import torch\n",
    "import pytorch_lightning as pl\n",
    "import yaml\n",
    "import importlib\n",
    "from LightningModules.Embedding.LayerlessEmbedding import LayerlessEmbedding\n",
    "from LightningModules.Processing.Feature_Construction import Feature_Store"
   ]
  },
  {
   "cell_type": "markdown",
   "metadata": {},
   "source": [
    "## Data Loading"
   ]
  },
  {
   "cell_type": "code",
   "execution_count": 2,
   "metadata": {},
   "outputs": [],
   "source": [
    "with open(\"LightningModules/Processing/prepare_feature_store.yaml\") as f:\n",
    "    config = yaml.load(f, Loader=yaml.FullLoader)"
   ]
  },
  {
   "cell_type": "code",
   "execution_count": 3,
   "metadata": {},
   "outputs": [],
   "source": [
    "preprocess_dm = Feature_Store(config)"
   ]
  },
  {
   "cell_type": "code",
   "execution_count": null,
   "metadata": {
    "scrolled": true
   },
   "outputs": [],
   "source": [
    "preprocess_dm.prepare_data()"
   ]
  },
  {
   "cell_type": "markdown",
   "metadata": {},
   "source": [
    "## Model Loading"
   ]
  },
  {
   "cell_type": "code",
   "execution_count": 2,
   "metadata": {},
   "outputs": [],
   "source": [
    "with open(\"LightningModules/Embedding/train_embedding.yaml\") as f:\n",
    "    config = yaml.load(f, Loader=yaml.FullLoader)"
   ]
  },
  {
   "cell_type": "code",
   "execution_count": 3,
   "metadata": {},
   "outputs": [],
   "source": [
    "model = LayerlessEmbedding(config)"
   ]
  },
  {
   "cell_type": "code",
   "execution_count": 6,
   "metadata": {},
   "outputs": [
    {
     "name": "stderr",
     "output_type": "stream",
     "text": [
      "GPU available: False, used: False\n",
      "TPU available: False, using: 0 TPU cores\n"
     ]
    }
   ],
   "source": [
    "trainer = pl.Trainer(max_epochs = 2, limit_train_batches=10, limit_val_batches=5)"
   ]
  },
  {
   "cell_type": "code",
   "execution_count": 7,
   "metadata": {},
   "outputs": [
    {
     "name": "stderr",
     "output_type": "stream",
     "text": [
      "\n",
      "  | Name      | Type       | Params\n",
      "-----------------------------------------\n",
      "0 | layers    | ModuleList | 1 M   \n",
      "1 | emb_layer | Linear     | 4 K   \n",
      "2 | norm      | LayerNorm  | 1 K   \n",
      "3 | act       | Tanh       | 0     \n"
     ]
    },
    {
     "name": "stdout",
     "output_type": "stream",
     "text": [
      "Epoch 0:  67%|██████▋   | 10/15 [00:31<00:15,  3.18s/it, loss=0.718, v_num=16, train_loss=0.706]\n",
      "Validating: 0it [00:00, ?it/s]\u001b[A\n",
      "Epoch 0:  73%|███████▎  | 11/15 [00:37<00:13,  3.40s/it, loss=0.718, v_num=16, train_loss=0.706]\n",
      "Epoch 0:  80%|████████  | 12/15 [00:40<00:10,  3.41s/it, loss=0.718, v_num=16, train_loss=0.706]\n",
      "Epoch 0:  87%|████████▋ | 13/15 [00:46<00:07,  3.57s/it, loss=0.718, v_num=16, train_loss=0.706]\n",
      "Epoch 0:  93%|█████████▎| 14/15 [00:49<00:03,  3.53s/it, loss=0.718, v_num=16, train_loss=0.706]\n",
      "Epoch 0: 100%|██████████| 15/15 [00:53<00:00,  3.57s/it, loss=0.718, v_num=16, train_loss=0.706]\n",
      "Epoch 1:  67%|██████▋   | 10/15 [00:25<00:12,  2.60s/it, loss=0.694, v_num=16, train_loss=0.639]\n",
      "Validating: 0it [00:00, ?it/s]\u001b[A\n",
      "Epoch 1:  73%|███████▎  | 11/15 [00:30<00:11,  2.78s/it, loss=0.694, v_num=16, train_loss=0.639]\n",
      "Epoch 1:  80%|████████  | 12/15 [00:33<00:08,  2.77s/it, loss=0.694, v_num=16, train_loss=0.639]\n",
      "Epoch 1:  87%|████████▋ | 13/15 [00:37<00:05,  2.92s/it, loss=0.694, v_num=16, train_loss=0.639]\n",
      "Epoch 1:  93%|█████████▎| 14/15 [00:40<00:02,  2.87s/it, loss=0.694, v_num=16, train_loss=0.639]\n",
      "Epoch 1: 100%|██████████| 15/15 [00:43<00:00,  2.91s/it, loss=0.694, v_num=16, train_loss=0.639]\n",
      "                                                         \u001b[A"
     ]
    },
    {
     "name": "stderr",
     "output_type": "stream",
     "text": [
      "Saving latest checkpoint..\n"
     ]
    },
    {
     "name": "stdout",
     "output_type": "stream",
     "text": [
      "Epoch 1: 100%|██████████| 15/15 [00:44<00:00,  2.93s/it, loss=0.694, v_num=16, train_loss=0.639]\n"
     ]
    },
    {
     "data": {
      "text/plain": [
       "1"
      ]
     },
     "execution_count": 7,
     "metadata": {},
     "output_type": "execute_result"
    }
   ],
   "source": [
    "trainer.fit(model)"
   ]
  },
  {
   "cell_type": "code",
   "execution_count": null,
   "metadata": {},
   "outputs": [],
   "source": []
  }
 ],
 "metadata": {
  "kernelspec": {
   "display_name": "exatrkx",
   "language": "python",
   "name": "exatrkx"
  },
  "language_info": {
   "codemirror_mode": {
    "name": "ipython",
    "version": 3
   },
   "file_extension": ".py",
   "mimetype": "text/x-python",
   "name": "python",
   "nbconvert_exporter": "python",
   "pygments_lexer": "ipython3",
   "version": "3.8.2"
  }
 },
 "nbformat": 4,
 "nbformat_minor": 4
}
