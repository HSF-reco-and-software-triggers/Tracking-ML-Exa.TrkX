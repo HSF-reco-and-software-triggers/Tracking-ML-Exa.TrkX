{
 "cells": [
  {
   "cell_type": "markdown",
   "metadata": {},
   "source": [
    "# Pipeline Testing"
   ]
  },
  {
   "cell_type": "code",
   "execution_count": 1,
   "metadata": {},
   "outputs": [],
   "source": [
    "%load_ext autoreload\n",
    "%autoreload 2"
   ]
  },
  {
   "cell_type": "code",
   "execution_count": 2,
   "metadata": {},
   "outputs": [],
   "source": [
    "import os, sys\n",
    "import torch\n",
    "import numpy as np\n",
    "from torch import nn\n",
    "from torch.nn import Linear\n",
    "import pytorch_lightning as pl\n",
    "from pytorch_lightning import LightningModule\n",
    "from pytorch_lightning.callbacks import ModelCheckpoint\n",
    "import yaml\n",
    "import importlib\n",
    "sys.path.append('..')"
   ]
  },
  {
   "cell_type": "code",
   "execution_count": 3,
   "metadata": {},
   "outputs": [],
   "source": [
    "MODEL_LIBRARY = \"/global/homes/d/danieltm/ExaTrkX/Tracking-ML-Exa.TrkX/src/Pipelines/Examples/LightningModules\"\n",
    "ARTIFACT_LIBRARY = \"/global/cscratch1/sd/danieltm/ExaTrkX/lightning_checkpoints\"\n",
    "sys.path.append(MODEL_LIBRARY)"
   ]
  },
  {
   "cell_type": "markdown",
   "metadata": {},
   "source": [
    "# Preprocessing"
   ]
  },
  {
   "cell_type": "markdown",
   "metadata": {
    "heading_collapsed": true
   },
   "source": [
    "## Data Loading"
   ]
  },
  {
   "cell_type": "code",
   "execution_count": 6,
   "metadata": {
    "hidden": true
   },
   "outputs": [],
   "source": [
    "with open(\"LightningModules/Processing/prepare_feature_store.yaml\") as f:\n",
    "    config = yaml.load(f, Loader=yaml.FullLoader)"
   ]
  },
  {
   "cell_type": "code",
   "execution_count": 7,
   "metadata": {
    "hidden": true
   },
   "outputs": [],
   "source": [
    "preprocess_dm = FeatureStore(config)"
   ]
  },
  {
   "cell_type": "code",
   "execution_count": 8,
   "metadata": {
    "hidden": true,
    "scrolled": true
   },
   "outputs": [
    {
     "name": "stdout",
     "output_type": "stream",
     "text": [
      "Loading detector...\n",
      "Detector loaded.\n",
      "Writing outputs to /global/cscratch1/sd/danieltm/ExaTrkX/trackml/feature_store_endcaps\n",
      "/global/cscratch1/sd/danieltm/ExaTrkX/trackml/train_all/event000001000\n",
      "Preparing 1000\n",
      "Layerless truth graph built for /global/cscratch1/sd/danieltm/ExaTrkX/trackml/train_all/event000001000 with size (2, 123429)\n",
      "Cell features for 1000\n",
      "Loading event /global/cscratch1/sd/danieltm/ExaTrkX/trackml/train_all/event000001000 with a 0 pT cut\n",
      "/global/cscratch1/sd/danieltm/ExaTrkX/trackml/train_all/event000001001\n",
      "Preparing 1001\n",
      "Layerless truth graph built for /global/cscratch1/sd/danieltm/ExaTrkX/trackml/train_all/event000001001 with size (2, 91386)\n",
      "Cell features for 1001\n",
      "Loading event /global/cscratch1/sd/danieltm/ExaTrkX/trackml/train_all/event000001001 with a 0 pT cut\n",
      "/global/cscratch1/sd/danieltm/ExaTrkX/trackml/train_all/event000001002\n",
      "Preparing 1002\n",
      "Layerless truth graph built for /global/cscratch1/sd/danieltm/ExaTrkX/trackml/train_all/event000001002 with size (2, 128914)\n",
      "Cell features for 1002\n",
      "Loading event /global/cscratch1/sd/danieltm/ExaTrkX/trackml/train_all/event000001002 with a 0 pT cut\n",
      "/global/cscratch1/sd/danieltm/ExaTrkX/trackml/train_all/event000001003\n",
      "Preparing 1003\n",
      "Layerless truth graph built for /global/cscratch1/sd/danieltm/ExaTrkX/trackml/train_all/event000001003 with size (2, 103420)\n",
      "Cell features for 1003\n",
      "Loading event /global/cscratch1/sd/danieltm/ExaTrkX/trackml/train_all/event000001003 with a 0 pT cut\n",
      "/global/cscratch1/sd/danieltm/ExaTrkX/trackml/train_all/event000001004\n",
      "Preparing 1004\n",
      "Layerless truth graph built for /global/cscratch1/sd/danieltm/ExaTrkX/trackml/train_all/event000001004 with size (2, 144774)\n",
      "Cell features for 1004\n",
      "Loading event /global/cscratch1/sd/danieltm/ExaTrkX/trackml/train_all/event000001004 with a 0 pT cut\n",
      "Layerless truth graph built for /global/cscratch1/sd/danieltm/ExaTrkX/trackml/train_all/event000001007 with size (2, 112300)\n",
      "Cell features for 1007\n",
      "Loading event /global/cscratch1/sd/danieltm/ExaTrkX/trackml/train_all/event000001007 with a 0 pT cut\n",
      "/global/cscratch1/sd/danieltm/ExaTrkX/trackml/train_all/event000001008\n",
      "Preparing 1008\n"
     ]
    },
    {
     "ename": "KeyboardInterrupt",
     "evalue": "",
     "output_type": "error",
     "traceback": [
      "\u001b[0;31m---------------------------------------------------------------------------\u001b[0m",
      "\u001b[0;31mTypeError\u001b[0m                                 Traceback (most recent call last)",
      "\u001b[0;32m~/.local/lib/python3.7/site-packages/pandas/core/groupby/ops.py\u001b[0m in \u001b[0;36magg_series\u001b[0;34m(self, obj, func)\u001b[0m\n\u001b[1;32m    662\u001b[0m         \u001b[0;32mtry\u001b[0m\u001b[0;34m:\u001b[0m\u001b[0;34m\u001b[0m\u001b[0;34m\u001b[0m\u001b[0m\n\u001b[0;32m--> 663\u001b[0;31m             \u001b[0;32mreturn\u001b[0m \u001b[0mself\u001b[0m\u001b[0;34m.\u001b[0m\u001b[0m_aggregate_series_fast\u001b[0m\u001b[0;34m(\u001b[0m\u001b[0mobj\u001b[0m\u001b[0;34m,\u001b[0m \u001b[0mfunc\u001b[0m\u001b[0;34m)\u001b[0m\u001b[0;34m\u001b[0m\u001b[0;34m\u001b[0m\u001b[0m\n\u001b[0m\u001b[1;32m    664\u001b[0m         \u001b[0;32mexcept\u001b[0m \u001b[0mException\u001b[0m\u001b[0;34m:\u001b[0m\u001b[0;34m\u001b[0m\u001b[0;34m\u001b[0m\u001b[0m\n",
      "\u001b[0;32m~/.local/lib/python3.7/site-packages/pandas/core/groupby/ops.py\u001b[0m in \u001b[0;36m_aggregate_series_fast\u001b[0;34m(self, obj, func)\u001b[0m\n\u001b[1;32m    670\u001b[0m         \u001b[0;32mif\u001b[0m \u001b[0mobj\u001b[0m\u001b[0;34m.\u001b[0m\u001b[0mindex\u001b[0m\u001b[0;34m.\u001b[0m\u001b[0m_has_complex_internals\u001b[0m\u001b[0;34m:\u001b[0m\u001b[0;34m\u001b[0m\u001b[0;34m\u001b[0m\u001b[0m\n\u001b[0;32m--> 671\u001b[0;31m             \u001b[0;32mraise\u001b[0m \u001b[0mTypeError\u001b[0m\u001b[0;34m(\u001b[0m\u001b[0;34m\"Incompatible index for Cython grouper\"\u001b[0m\u001b[0;34m)\u001b[0m\u001b[0;34m\u001b[0m\u001b[0;34m\u001b[0m\u001b[0m\n\u001b[0m\u001b[1;32m    672\u001b[0m \u001b[0;34m\u001b[0m\u001b[0m\n",
      "\u001b[0;31mTypeError\u001b[0m: Incompatible index for Cython grouper",
      "\nDuring handling of the above exception, another exception occurred:\n",
      "\u001b[0;31mKeyboardInterrupt\u001b[0m                         Traceback (most recent call last)",
      "\u001b[0;32m<ipython-input-8-c0135c810ce7>\u001b[0m in \u001b[0;36m<module>\u001b[0;34m\u001b[0m\n\u001b[0;32m----> 1\u001b[0;31m \u001b[0mpreprocess_dm\u001b[0m\u001b[0;34m.\u001b[0m\u001b[0mprepare_data\u001b[0m\u001b[0;34m(\u001b[0m\u001b[0;34m)\u001b[0m\u001b[0;34m\u001b[0m\u001b[0;34m\u001b[0m\u001b[0m\n\u001b[0m",
      "\u001b[0;32m~/.conda/envs/exatrkx-test/lib/python3.7/site-packages/pytorch_lightning/core/datamodule.py\u001b[0m in \u001b[0;36mwrapped_fn\u001b[0;34m(*args, **kwargs)\u001b[0m\n\u001b[1;32m     83\u001b[0m             \u001b[0mobj\u001b[0m\u001b[0;34m.\u001b[0m\u001b[0m_has_prepared_data\u001b[0m \u001b[0;34m=\u001b[0m \u001b[0;32mTrue\u001b[0m\u001b[0;34m\u001b[0m\u001b[0;34m\u001b[0m\u001b[0m\n\u001b[1;32m     84\u001b[0m \u001b[0;34m\u001b[0m\u001b[0m\n\u001b[0;32m---> 85\u001b[0;31m         \u001b[0;32mreturn\u001b[0m \u001b[0mfn\u001b[0m\u001b[0;34m(\u001b[0m\u001b[0;34m*\u001b[0m\u001b[0margs\u001b[0m\u001b[0;34m,\u001b[0m \u001b[0;34m**\u001b[0m\u001b[0mkwargs\u001b[0m\u001b[0;34m)\u001b[0m\u001b[0;34m\u001b[0m\u001b[0;34m\u001b[0m\u001b[0m\n\u001b[0m\u001b[1;32m     86\u001b[0m \u001b[0;34m\u001b[0m\u001b[0m\n\u001b[1;32m     87\u001b[0m     \u001b[0;32mreturn\u001b[0m \u001b[0mwrapped_fn\u001b[0m\u001b[0;34m\u001b[0m\u001b[0;34m\u001b[0m\u001b[0m\n",
      "\u001b[0;32m~/.conda/envs/exatrkx-test/lib/python3.7/site-packages/pytorch_lightning/utilities/distributed.py\u001b[0m in \u001b[0;36mwrapped_fn\u001b[0;34m(*args, **kwargs)\u001b[0m\n\u001b[1;32m     25\u001b[0m     \u001b[0;32mdef\u001b[0m \u001b[0mwrapped_fn\u001b[0m\u001b[0;34m(\u001b[0m\u001b[0;34m*\u001b[0m\u001b[0margs\u001b[0m\u001b[0;34m,\u001b[0m \u001b[0;34m**\u001b[0m\u001b[0mkwargs\u001b[0m\u001b[0;34m)\u001b[0m\u001b[0;34m:\u001b[0m\u001b[0;34m\u001b[0m\u001b[0;34m\u001b[0m\u001b[0m\n\u001b[1;32m     26\u001b[0m         \u001b[0;32mif\u001b[0m \u001b[0mrank_zero_only\u001b[0m\u001b[0;34m.\u001b[0m\u001b[0mrank\u001b[0m \u001b[0;34m==\u001b[0m \u001b[0;36m0\u001b[0m\u001b[0;34m:\u001b[0m\u001b[0;34m\u001b[0m\u001b[0;34m\u001b[0m\u001b[0m\n\u001b[0;32m---> 27\u001b[0;31m             \u001b[0;32mreturn\u001b[0m \u001b[0mfn\u001b[0m\u001b[0;34m(\u001b[0m\u001b[0;34m*\u001b[0m\u001b[0margs\u001b[0m\u001b[0;34m,\u001b[0m \u001b[0;34m**\u001b[0m\u001b[0mkwargs\u001b[0m\u001b[0;34m)\u001b[0m\u001b[0;34m\u001b[0m\u001b[0;34m\u001b[0m\u001b[0m\n\u001b[0m\u001b[1;32m     28\u001b[0m \u001b[0;34m\u001b[0m\u001b[0m\n\u001b[1;32m     29\u001b[0m     \u001b[0;32mreturn\u001b[0m \u001b[0mwrapped_fn\u001b[0m\u001b[0;34m\u001b[0m\u001b[0;34m\u001b[0m\u001b[0m\n",
      "\u001b[0;32m/global/u2/d/danieltm/ExaTrkX/Tracking-ML-Exa.TrkX/src/Pipelines/Examples/LightningModules/Processing/feature_construction.py\u001b[0m in \u001b[0;36mprepare_data\u001b[0;34m(self)\u001b[0m\n\u001b[1;32m     58\u001b[0m         \u001b[0;32mfor\u001b[0m \u001b[0mevent\u001b[0m \u001b[0;32min\u001b[0m \u001b[0mall_events\u001b[0m\u001b[0;34m:\u001b[0m\u001b[0;34m\u001b[0m\u001b[0;34m\u001b[0m\u001b[0m\n\u001b[1;32m     59\u001b[0m             \u001b[0mprint\u001b[0m\u001b[0;34m(\u001b[0m\u001b[0mevent\u001b[0m\u001b[0;34m)\u001b[0m\u001b[0;34m\u001b[0m\u001b[0;34m\u001b[0m\u001b[0m\n\u001b[0;32m---> 60\u001b[0;31m             \u001b[0mprocess_func\u001b[0m\u001b[0;34m(\u001b[0m\u001b[0mevent\u001b[0m\u001b[0;34m)\u001b[0m\u001b[0;34m\u001b[0m\u001b[0;34m\u001b[0m\u001b[0m\n\u001b[0m",
      "\u001b[0;32m/global/u2/d/danieltm/ExaTrkX/Tracking-ML-Exa.TrkX/src/Pipelines/Examples/LightningModules/Processing/utils.py\u001b[0m in \u001b[0;36mprepare_event\u001b[0;34m(event_file, detector_orig, detector_proc, cell_features, output_dir, pt_min, adjacent, endcaps, layerless, layerwise, noise, cell_information, **kwargs)\u001b[0m\n\u001b[1;32m    123\u001b[0m     \u001b[0mfeature_scale\u001b[0m \u001b[0;34m=\u001b[0m \u001b[0;34m[\u001b[0m\u001b[0;36m1000\u001b[0m\u001b[0;34m,\u001b[0m \u001b[0mnp\u001b[0m\u001b[0;34m.\u001b[0m\u001b[0mpi\u001b[0m\u001b[0;34m,\u001b[0m \u001b[0;36m1000\u001b[0m\u001b[0;34m]\u001b[0m\u001b[0;34m\u001b[0m\u001b[0;34m\u001b[0m\u001b[0m\n\u001b[1;32m    124\u001b[0m \u001b[0;34m\u001b[0m\u001b[0m\n\u001b[0;32m--> 125\u001b[0;31m     \u001b[0mX\u001b[0m\u001b[0;34m,\u001b[0m \u001b[0mpid\u001b[0m\u001b[0;34m,\u001b[0m \u001b[0mlayers\u001b[0m\u001b[0;34m,\u001b[0m \u001b[0mlayerless_true_edges\u001b[0m\u001b[0;34m,\u001b[0m \u001b[0mlayerwise_true_edges\u001b[0m\u001b[0;34m,\u001b[0m \u001b[0mhid\u001b[0m \u001b[0;34m=\u001b[0m \u001b[0mbuild_event\u001b[0m\u001b[0;34m(\u001b[0m\u001b[0mevent_file\u001b[0m\u001b[0;34m,\u001b[0m \u001b[0mpt_min\u001b[0m\u001b[0;34m,\u001b[0m \u001b[0mfeature_scale\u001b[0m\u001b[0;34m,\u001b[0m \u001b[0madjacent\u001b[0m\u001b[0;34m=\u001b[0m\u001b[0madjacent\u001b[0m\u001b[0;34m,\u001b[0m \u001b[0mendcaps\u001b[0m\u001b[0;34m=\u001b[0m\u001b[0mendcaps\u001b[0m\u001b[0;34m,\u001b[0m \u001b[0mlayerless\u001b[0m\u001b[0;34m=\u001b[0m\u001b[0mlayerless\u001b[0m\u001b[0;34m,\u001b[0m \u001b[0mlayerwise\u001b[0m\u001b[0;34m=\u001b[0m\u001b[0mlayerwise\u001b[0m\u001b[0;34m,\u001b[0m \u001b[0mnoise\u001b[0m\u001b[0;34m=\u001b[0m\u001b[0mnoise\u001b[0m\u001b[0;34m)\u001b[0m\u001b[0;34m\u001b[0m\u001b[0;34m\u001b[0m\u001b[0m\n\u001b[0m\u001b[1;32m    126\u001b[0m \u001b[0;34m\u001b[0m\u001b[0m\n\u001b[1;32m    127\u001b[0m     \u001b[0mdata\u001b[0m \u001b[0;34m=\u001b[0m \u001b[0mData\u001b[0m\u001b[0;34m(\u001b[0m\u001b[0mx\u001b[0m \u001b[0;34m=\u001b[0m \u001b[0mtorch\u001b[0m\u001b[0;34m.\u001b[0m\u001b[0mfrom_numpy\u001b[0m\u001b[0;34m(\u001b[0m\u001b[0mX\u001b[0m\u001b[0;34m)\u001b[0m\u001b[0;34m.\u001b[0m\u001b[0mfloat\u001b[0m\u001b[0;34m(\u001b[0m\u001b[0;34m)\u001b[0m\u001b[0;34m,\u001b[0m \u001b[0mpid\u001b[0m \u001b[0;34m=\u001b[0m \u001b[0mtorch\u001b[0m\u001b[0;34m.\u001b[0m\u001b[0mfrom_numpy\u001b[0m\u001b[0;34m(\u001b[0m\u001b[0mpid\u001b[0m\u001b[0;34m)\u001b[0m\u001b[0;34m,\u001b[0m \u001b[0mlayers\u001b[0m\u001b[0;34m=\u001b[0m\u001b[0mtorch\u001b[0m\u001b[0;34m.\u001b[0m\u001b[0mfrom_numpy\u001b[0m\u001b[0;34m(\u001b[0m\u001b[0mlayers\u001b[0m\u001b[0;34m)\u001b[0m\u001b[0;34m,\u001b[0m \u001b[0mevent_file\u001b[0m\u001b[0;34m=\u001b[0m\u001b[0mevent_file\u001b[0m\u001b[0;34m,\u001b[0m \u001b[0mhid\u001b[0m \u001b[0;34m=\u001b[0m \u001b[0mtorch\u001b[0m\u001b[0;34m.\u001b[0m\u001b[0mfrom_numpy\u001b[0m\u001b[0;34m(\u001b[0m\u001b[0mhid\u001b[0m\u001b[0;34m)\u001b[0m\u001b[0;34m)\u001b[0m\u001b[0;34m\u001b[0m\u001b[0;34m\u001b[0m\u001b[0m\n",
      "\u001b[0;32m/global/u2/d/danieltm/ExaTrkX/Tracking-ML-Exa.TrkX/src/Pipelines/Examples/LightningModules/Processing/utils.py\u001b[0m in \u001b[0;36mbuild_event\u001b[0;34m(event_file, pt_min, feature_scale, adjacent, endcaps, layerless, layerwise, noise)\u001b[0m\n\u001b[1;32m     90\u001b[0m         \u001b[0mhits\u001b[0m \u001b[0;34m=\u001b[0m \u001b[0mhits\u001b[0m\u001b[0;34m.\u001b[0m\u001b[0massign\u001b[0m\u001b[0;34m(\u001b[0m\u001b[0mR\u001b[0m\u001b[0;34m=\u001b[0m\u001b[0mnp\u001b[0m\u001b[0;34m.\u001b[0m\u001b[0msqrt\u001b[0m\u001b[0;34m(\u001b[0m\u001b[0;34m(\u001b[0m\u001b[0mhits\u001b[0m\u001b[0;34m.\u001b[0m\u001b[0mx\u001b[0m \u001b[0;34m-\u001b[0m \u001b[0mhits\u001b[0m\u001b[0;34m.\u001b[0m\u001b[0mvx\u001b[0m\u001b[0;34m)\u001b[0m\u001b[0;34m**\u001b[0m\u001b[0;36m2\u001b[0m \u001b[0;34m+\u001b[0m \u001b[0;34m(\u001b[0m\u001b[0mhits\u001b[0m\u001b[0;34m.\u001b[0m\u001b[0my\u001b[0m \u001b[0;34m-\u001b[0m \u001b[0mhits\u001b[0m\u001b[0;34m.\u001b[0m\u001b[0mvy\u001b[0m\u001b[0;34m)\u001b[0m\u001b[0;34m**\u001b[0m\u001b[0;36m2\u001b[0m \u001b[0;34m+\u001b[0m \u001b[0;34m(\u001b[0m\u001b[0mhits\u001b[0m\u001b[0;34m.\u001b[0m\u001b[0mz\u001b[0m \u001b[0;34m-\u001b[0m \u001b[0mhits\u001b[0m\u001b[0;34m.\u001b[0m\u001b[0mvz\u001b[0m\u001b[0;34m)\u001b[0m\u001b[0;34m**\u001b[0m\u001b[0;36m2\u001b[0m\u001b[0;34m)\u001b[0m\u001b[0;34m)\u001b[0m\u001b[0;34m\u001b[0m\u001b[0;34m\u001b[0m\u001b[0m\n\u001b[1;32m     91\u001b[0m         \u001b[0mhits\u001b[0m \u001b[0;34m=\u001b[0m \u001b[0mhits\u001b[0m\u001b[0;34m.\u001b[0m\u001b[0msort_values\u001b[0m\u001b[0;34m(\u001b[0m\u001b[0;34m'R'\u001b[0m\u001b[0;34m)\u001b[0m\u001b[0;34m.\u001b[0m\u001b[0mreset_index\u001b[0m\u001b[0;34m(\u001b[0m\u001b[0mdrop\u001b[0m\u001b[0;34m=\u001b[0m\u001b[0;32mTrue\u001b[0m\u001b[0;34m)\u001b[0m\u001b[0;34m.\u001b[0m\u001b[0mreset_index\u001b[0m\u001b[0;34m(\u001b[0m\u001b[0mdrop\u001b[0m\u001b[0;34m=\u001b[0m\u001b[0;32mFalse\u001b[0m\u001b[0;34m)\u001b[0m\u001b[0;34m\u001b[0m\u001b[0;34m\u001b[0m\u001b[0m\n\u001b[0;32m---> 92\u001b[0;31m         \u001b[0mhit_list\u001b[0m \u001b[0;34m=\u001b[0m \u001b[0mhits\u001b[0m\u001b[0;34m.\u001b[0m\u001b[0mgroupby\u001b[0m\u001b[0;34m(\u001b[0m\u001b[0;34m[\u001b[0m\u001b[0;34m'particle_id'\u001b[0m\u001b[0;34m,\u001b[0m \u001b[0;34m'layer'\u001b[0m\u001b[0;34m]\u001b[0m\u001b[0;34m,\u001b[0m \u001b[0msort\u001b[0m\u001b[0;34m=\u001b[0m\u001b[0;32mFalse\u001b[0m\u001b[0;34m)\u001b[0m\u001b[0;34m[\u001b[0m\u001b[0;34m'index'\u001b[0m\u001b[0;34m]\u001b[0m\u001b[0;34m.\u001b[0m\u001b[0magg\u001b[0m\u001b[0;34m(\u001b[0m\u001b[0;32mlambda\u001b[0m \u001b[0mx\u001b[0m\u001b[0;34m:\u001b[0m \u001b[0mlist\u001b[0m\u001b[0;34m(\u001b[0m\u001b[0mx\u001b[0m\u001b[0;34m)\u001b[0m\u001b[0;34m)\u001b[0m\u001b[0;34m.\u001b[0m\u001b[0mgroupby\u001b[0m\u001b[0;34m(\u001b[0m\u001b[0mlevel\u001b[0m\u001b[0;34m=\u001b[0m\u001b[0;36m0\u001b[0m\u001b[0;34m)\u001b[0m\u001b[0;34m.\u001b[0m\u001b[0magg\u001b[0m\u001b[0;34m(\u001b[0m\u001b[0;32mlambda\u001b[0m \u001b[0mx\u001b[0m\u001b[0;34m:\u001b[0m \u001b[0mlist\u001b[0m\u001b[0;34m(\u001b[0m\u001b[0mx\u001b[0m\u001b[0;34m)\u001b[0m\u001b[0;34m)\u001b[0m\u001b[0;34m\u001b[0m\u001b[0;34m\u001b[0m\u001b[0m\n\u001b[0m\u001b[1;32m     93\u001b[0m \u001b[0;34m\u001b[0m\u001b[0m\n\u001b[1;32m     94\u001b[0m         \u001b[0me\u001b[0m \u001b[0;34m=\u001b[0m \u001b[0;34m[\u001b[0m\u001b[0;34m]\u001b[0m\u001b[0;34m\u001b[0m\u001b[0;34m\u001b[0m\u001b[0m\n",
      "\u001b[0;32m~/.local/lib/python3.7/site-packages/pandas/core/groupby/generic.py\u001b[0m in \u001b[0;36maggregate\u001b[0;34m(self, func_or_funcs, *args, **kwargs)\u001b[0m\n\u001b[1;32m    861\u001b[0m \u001b[0;34m\u001b[0m\u001b[0m\n\u001b[1;32m    862\u001b[0m             \u001b[0;32mtry\u001b[0m\u001b[0;34m:\u001b[0m\u001b[0;34m\u001b[0m\u001b[0;34m\u001b[0m\u001b[0m\n\u001b[0;32m--> 863\u001b[0;31m                 \u001b[0;32mreturn\u001b[0m \u001b[0mself\u001b[0m\u001b[0;34m.\u001b[0m\u001b[0m_python_agg_general\u001b[0m\u001b[0;34m(\u001b[0m\u001b[0mfunc_or_funcs\u001b[0m\u001b[0;34m,\u001b[0m \u001b[0;34m*\u001b[0m\u001b[0margs\u001b[0m\u001b[0;34m,\u001b[0m \u001b[0;34m**\u001b[0m\u001b[0mkwargs\u001b[0m\u001b[0;34m)\u001b[0m\u001b[0;34m\u001b[0m\u001b[0;34m\u001b[0m\u001b[0m\n\u001b[0m\u001b[1;32m    864\u001b[0m             \u001b[0;32mexcept\u001b[0m \u001b[0mException\u001b[0m\u001b[0;34m:\u001b[0m\u001b[0;34m\u001b[0m\u001b[0;34m\u001b[0m\u001b[0m\n\u001b[1;32m    865\u001b[0m                 \u001b[0mresult\u001b[0m \u001b[0;34m=\u001b[0m \u001b[0mself\u001b[0m\u001b[0;34m.\u001b[0m\u001b[0m_aggregate_named\u001b[0m\u001b[0;34m(\u001b[0m\u001b[0mfunc_or_funcs\u001b[0m\u001b[0;34m,\u001b[0m \u001b[0;34m*\u001b[0m\u001b[0margs\u001b[0m\u001b[0;34m,\u001b[0m \u001b[0;34m**\u001b[0m\u001b[0mkwargs\u001b[0m\u001b[0;34m)\u001b[0m\u001b[0;34m\u001b[0m\u001b[0;34m\u001b[0m\u001b[0m\n",
      "\u001b[0;32m~/.local/lib/python3.7/site-packages/pandas/core/groupby/groupby.py\u001b[0m in \u001b[0;36m_python_agg_general\u001b[0;34m(self, func, *args, **kwargs)\u001b[0m\n\u001b[1;32m    898\u001b[0m         \u001b[0;32mfor\u001b[0m \u001b[0mname\u001b[0m\u001b[0;34m,\u001b[0m \u001b[0mobj\u001b[0m \u001b[0;32min\u001b[0m \u001b[0mself\u001b[0m\u001b[0;34m.\u001b[0m\u001b[0m_iterate_slices\u001b[0m\u001b[0;34m(\u001b[0m\u001b[0;34m)\u001b[0m\u001b[0;34m:\u001b[0m\u001b[0;34m\u001b[0m\u001b[0;34m\u001b[0m\u001b[0m\n\u001b[1;32m    899\u001b[0m             \u001b[0;32mtry\u001b[0m\u001b[0;34m:\u001b[0m\u001b[0;34m\u001b[0m\u001b[0;34m\u001b[0m\u001b[0m\n\u001b[0;32m--> 900\u001b[0;31m                 \u001b[0mresult\u001b[0m\u001b[0;34m,\u001b[0m \u001b[0mcounts\u001b[0m \u001b[0;34m=\u001b[0m \u001b[0mself\u001b[0m\u001b[0;34m.\u001b[0m\u001b[0mgrouper\u001b[0m\u001b[0;34m.\u001b[0m\u001b[0magg_series\u001b[0m\u001b[0;34m(\u001b[0m\u001b[0mobj\u001b[0m\u001b[0;34m,\u001b[0m \u001b[0mf\u001b[0m\u001b[0;34m)\u001b[0m\u001b[0;34m\u001b[0m\u001b[0;34m\u001b[0m\u001b[0m\n\u001b[0m\u001b[1;32m    901\u001b[0m                 \u001b[0moutput\u001b[0m\u001b[0;34m[\u001b[0m\u001b[0mname\u001b[0m\u001b[0;34m]\u001b[0m \u001b[0;34m=\u001b[0m \u001b[0mself\u001b[0m\u001b[0;34m.\u001b[0m\u001b[0m_try_cast\u001b[0m\u001b[0;34m(\u001b[0m\u001b[0mresult\u001b[0m\u001b[0;34m,\u001b[0m \u001b[0mobj\u001b[0m\u001b[0;34m,\u001b[0m \u001b[0mnumeric_only\u001b[0m\u001b[0;34m=\u001b[0m\u001b[0;32mTrue\u001b[0m\u001b[0;34m)\u001b[0m\u001b[0;34m\u001b[0m\u001b[0;34m\u001b[0m\u001b[0m\n\u001b[1;32m    902\u001b[0m             \u001b[0;32mexcept\u001b[0m \u001b[0mTypeError\u001b[0m\u001b[0;34m:\u001b[0m\u001b[0;34m\u001b[0m\u001b[0;34m\u001b[0m\u001b[0m\n",
      "\u001b[0;32m~/.local/lib/python3.7/site-packages/pandas/core/groupby/ops.py\u001b[0m in \u001b[0;36magg_series\u001b[0;34m(self, obj, func)\u001b[0m\n\u001b[1;32m    663\u001b[0m             \u001b[0;32mreturn\u001b[0m \u001b[0mself\u001b[0m\u001b[0;34m.\u001b[0m\u001b[0m_aggregate_series_fast\u001b[0m\u001b[0;34m(\u001b[0m\u001b[0mobj\u001b[0m\u001b[0;34m,\u001b[0m \u001b[0mfunc\u001b[0m\u001b[0;34m)\u001b[0m\u001b[0;34m\u001b[0m\u001b[0;34m\u001b[0m\u001b[0m\n\u001b[1;32m    664\u001b[0m         \u001b[0;32mexcept\u001b[0m \u001b[0mException\u001b[0m\u001b[0;34m:\u001b[0m\u001b[0;34m\u001b[0m\u001b[0;34m\u001b[0m\u001b[0m\n\u001b[0;32m--> 665\u001b[0;31m             \u001b[0;32mreturn\u001b[0m \u001b[0mself\u001b[0m\u001b[0;34m.\u001b[0m\u001b[0m_aggregate_series_pure_python\u001b[0m\u001b[0;34m(\u001b[0m\u001b[0mobj\u001b[0m\u001b[0;34m,\u001b[0m \u001b[0mfunc\u001b[0m\u001b[0;34m)\u001b[0m\u001b[0;34m\u001b[0m\u001b[0;34m\u001b[0m\u001b[0m\n\u001b[0m\u001b[1;32m    666\u001b[0m \u001b[0;34m\u001b[0m\u001b[0m\n\u001b[1;32m    667\u001b[0m     \u001b[0;32mdef\u001b[0m \u001b[0m_aggregate_series_fast\u001b[0m\u001b[0;34m(\u001b[0m\u001b[0mself\u001b[0m\u001b[0;34m,\u001b[0m \u001b[0mobj\u001b[0m\u001b[0;34m,\u001b[0m \u001b[0mfunc\u001b[0m\u001b[0;34m)\u001b[0m\u001b[0;34m:\u001b[0m\u001b[0;34m\u001b[0m\u001b[0;34m\u001b[0m\u001b[0m\n",
      "\u001b[0;32m~/.local/lib/python3.7/site-packages/pandas/core/groupby/ops.py\u001b[0m in \u001b[0;36m_aggregate_series_pure_python\u001b[0;34m(self, obj, func)\u001b[0m\n\u001b[1;32m    691\u001b[0m         \u001b[0msplitter\u001b[0m \u001b[0;34m=\u001b[0m \u001b[0mget_splitter\u001b[0m\u001b[0;34m(\u001b[0m\u001b[0mobj\u001b[0m\u001b[0;34m,\u001b[0m \u001b[0mgroup_index\u001b[0m\u001b[0;34m,\u001b[0m \u001b[0mngroups\u001b[0m\u001b[0;34m,\u001b[0m \u001b[0maxis\u001b[0m\u001b[0;34m=\u001b[0m\u001b[0mself\u001b[0m\u001b[0;34m.\u001b[0m\u001b[0maxis\u001b[0m\u001b[0;34m)\u001b[0m\u001b[0;34m\u001b[0m\u001b[0;34m\u001b[0m\u001b[0m\n\u001b[1;32m    692\u001b[0m \u001b[0;34m\u001b[0m\u001b[0m\n\u001b[0;32m--> 693\u001b[0;31m         \u001b[0;32mfor\u001b[0m \u001b[0mlabel\u001b[0m\u001b[0;34m,\u001b[0m \u001b[0mgroup\u001b[0m \u001b[0;32min\u001b[0m \u001b[0msplitter\u001b[0m\u001b[0;34m:\u001b[0m\u001b[0;34m\u001b[0m\u001b[0;34m\u001b[0m\u001b[0m\n\u001b[0m\u001b[1;32m    694\u001b[0m             \u001b[0mres\u001b[0m \u001b[0;34m=\u001b[0m \u001b[0mfunc\u001b[0m\u001b[0;34m(\u001b[0m\u001b[0mgroup\u001b[0m\u001b[0;34m)\u001b[0m\u001b[0;34m\u001b[0m\u001b[0;34m\u001b[0m\u001b[0m\n\u001b[1;32m    695\u001b[0m             \u001b[0;32mif\u001b[0m \u001b[0mresult\u001b[0m \u001b[0;32mis\u001b[0m \u001b[0;32mNone\u001b[0m\u001b[0;34m:\u001b[0m\u001b[0;34m\u001b[0m\u001b[0;34m\u001b[0m\u001b[0m\n",
      "\u001b[0;32m~/.local/lib/python3.7/site-packages/pandas/core/groupby/ops.py\u001b[0m in \u001b[0;36m__iter__\u001b[0;34m(self)\u001b[0m\n\u001b[1;32m    913\u001b[0m             \u001b[0;31m#     raise AssertionError('Start %s must be less than end %s'\u001b[0m\u001b[0;34m\u001b[0m\u001b[0;34m\u001b[0m\u001b[0;34m\u001b[0m\u001b[0m\n\u001b[1;32m    914\u001b[0m             \u001b[0;31m#                          % (str(start), str(end)))\u001b[0m\u001b[0;34m\u001b[0m\u001b[0;34m\u001b[0m\u001b[0;34m\u001b[0m\u001b[0m\n\u001b[0;32m--> 915\u001b[0;31m             \u001b[0;32myield\u001b[0m \u001b[0mi\u001b[0m\u001b[0;34m,\u001b[0m \u001b[0mself\u001b[0m\u001b[0;34m.\u001b[0m\u001b[0m_chop\u001b[0m\u001b[0;34m(\u001b[0m\u001b[0msdata\u001b[0m\u001b[0;34m,\u001b[0m \u001b[0mslice\u001b[0m\u001b[0;34m(\u001b[0m\u001b[0mstart\u001b[0m\u001b[0;34m,\u001b[0m \u001b[0mend\u001b[0m\u001b[0;34m)\u001b[0m\u001b[0;34m)\u001b[0m\u001b[0;34m\u001b[0m\u001b[0;34m\u001b[0m\u001b[0m\n\u001b[0m\u001b[1;32m    916\u001b[0m \u001b[0;34m\u001b[0m\u001b[0m\n\u001b[1;32m    917\u001b[0m     \u001b[0;32mdef\u001b[0m \u001b[0m_get_sorted_data\u001b[0m\u001b[0;34m(\u001b[0m\u001b[0mself\u001b[0m\u001b[0;34m)\u001b[0m\u001b[0;34m:\u001b[0m\u001b[0;34m\u001b[0m\u001b[0;34m\u001b[0m\u001b[0m\n",
      "\u001b[0;32m~/.local/lib/python3.7/site-packages/pandas/core/groupby/ops.py\u001b[0m in \u001b[0;36m_chop\u001b[0;34m(self, sdata, slice_obj)\u001b[0m\n\u001b[1;32m    927\u001b[0m \u001b[0;32mclass\u001b[0m \u001b[0mSeriesSplitter\u001b[0m\u001b[0;34m(\u001b[0m\u001b[0mDataSplitter\u001b[0m\u001b[0;34m)\u001b[0m\u001b[0;34m:\u001b[0m\u001b[0;34m\u001b[0m\u001b[0;34m\u001b[0m\u001b[0m\n\u001b[1;32m    928\u001b[0m     \u001b[0;32mdef\u001b[0m \u001b[0m_chop\u001b[0m\u001b[0;34m(\u001b[0m\u001b[0mself\u001b[0m\u001b[0;34m,\u001b[0m \u001b[0msdata\u001b[0m\u001b[0;34m,\u001b[0m \u001b[0mslice_obj\u001b[0m\u001b[0;34m)\u001b[0m\u001b[0;34m:\u001b[0m\u001b[0;34m\u001b[0m\u001b[0;34m\u001b[0m\u001b[0m\n\u001b[0;32m--> 929\u001b[0;31m         \u001b[0;32mreturn\u001b[0m \u001b[0msdata\u001b[0m\u001b[0;34m.\u001b[0m\u001b[0m_get_values\u001b[0m\u001b[0;34m(\u001b[0m\u001b[0mslice_obj\u001b[0m\u001b[0;34m)\u001b[0m\u001b[0;34m\u001b[0m\u001b[0;34m\u001b[0m\u001b[0m\n\u001b[0m\u001b[1;32m    930\u001b[0m \u001b[0;34m\u001b[0m\u001b[0m\n\u001b[1;32m    931\u001b[0m \u001b[0;34m\u001b[0m\u001b[0m\n",
      "\u001b[0;32m~/.local/lib/python3.7/site-packages/pandas/core/series.py\u001b[0m in \u001b[0;36m_get_values\u001b[0;34m(self, indexer)\u001b[0m\n\u001b[1;32m   1181\u001b[0m         \u001b[0;32mtry\u001b[0m\u001b[0;34m:\u001b[0m\u001b[0;34m\u001b[0m\u001b[0;34m\u001b[0m\u001b[0m\n\u001b[1;32m   1182\u001b[0m             return self._constructor(\n\u001b[0;32m-> 1183\u001b[0;31m                 \u001b[0mself\u001b[0m\u001b[0;34m.\u001b[0m\u001b[0m_data\u001b[0m\u001b[0;34m.\u001b[0m\u001b[0mget_slice\u001b[0m\u001b[0;34m(\u001b[0m\u001b[0mindexer\u001b[0m\u001b[0;34m)\u001b[0m\u001b[0;34m,\u001b[0m \u001b[0mfastpath\u001b[0m\u001b[0;34m=\u001b[0m\u001b[0;32mTrue\u001b[0m\u001b[0;34m\u001b[0m\u001b[0;34m\u001b[0m\u001b[0m\n\u001b[0m\u001b[1;32m   1184\u001b[0m             ).__finalize__(self)\n\u001b[1;32m   1185\u001b[0m         \u001b[0;32mexcept\u001b[0m \u001b[0mException\u001b[0m\u001b[0;34m:\u001b[0m\u001b[0;34m\u001b[0m\u001b[0;34m\u001b[0m\u001b[0m\n",
      "\u001b[0;32m~/.local/lib/python3.7/site-packages/pandas/core/internals/managers.py\u001b[0m in \u001b[0;36mget_slice\u001b[0;34m(self, slobj, axis)\u001b[0m\n\u001b[1;32m   1544\u001b[0m \u001b[0;34m\u001b[0m\u001b[0m\n\u001b[1;32m   1545\u001b[0m         return self.__class__(\n\u001b[0;32m-> 1546\u001b[0;31m             \u001b[0mself\u001b[0m\u001b[0;34m.\u001b[0m\u001b[0m_block\u001b[0m\u001b[0;34m.\u001b[0m\u001b[0m_slice\u001b[0m\u001b[0;34m(\u001b[0m\u001b[0mslobj\u001b[0m\u001b[0;34m)\u001b[0m\u001b[0;34m,\u001b[0m \u001b[0mself\u001b[0m\u001b[0;34m.\u001b[0m\u001b[0mindex\u001b[0m\u001b[0;34m[\u001b[0m\u001b[0mslobj\u001b[0m\u001b[0;34m]\u001b[0m\u001b[0;34m,\u001b[0m \u001b[0mfastpath\u001b[0m\u001b[0;34m=\u001b[0m\u001b[0;32mTrue\u001b[0m\u001b[0;34m\u001b[0m\u001b[0;34m\u001b[0m\u001b[0m\n\u001b[0m\u001b[1;32m   1547\u001b[0m         )\n\u001b[1;32m   1548\u001b[0m \u001b[0;34m\u001b[0m\u001b[0m\n",
      "\u001b[0;32m~/.local/lib/python3.7/site-packages/pandas/core/indexes/multi.py\u001b[0m in \u001b[0;36m__getitem__\u001b[0;34m(self, key)\u001b[0m\n\u001b[1;32m   2018\u001b[0m                 \u001b[0mnames\u001b[0m\u001b[0;34m=\u001b[0m\u001b[0mself\u001b[0m\u001b[0;34m.\u001b[0m\u001b[0mnames\u001b[0m\u001b[0;34m,\u001b[0m\u001b[0;34m\u001b[0m\u001b[0;34m\u001b[0m\u001b[0m\n\u001b[1;32m   2019\u001b[0m                 \u001b[0msortorder\u001b[0m\u001b[0;34m=\u001b[0m\u001b[0msortorder\u001b[0m\u001b[0;34m,\u001b[0m\u001b[0;34m\u001b[0m\u001b[0;34m\u001b[0m\u001b[0m\n\u001b[0;32m-> 2020\u001b[0;31m                 \u001b[0mverify_integrity\u001b[0m\u001b[0;34m=\u001b[0m\u001b[0;32mFalse\u001b[0m\u001b[0;34m,\u001b[0m\u001b[0;34m\u001b[0m\u001b[0;34m\u001b[0m\u001b[0m\n\u001b[0m\u001b[1;32m   2021\u001b[0m             )\n\u001b[1;32m   2022\u001b[0m \u001b[0;34m\u001b[0m\u001b[0m\n",
      "\u001b[0;32m~/.local/lib/python3.7/site-packages/pandas/util/_decorators.py\u001b[0m in \u001b[0;36mwrapper\u001b[0;34m(*args, **kwargs)\u001b[0m\n\u001b[1;32m    206\u001b[0m                 \u001b[0;32melse\u001b[0m\u001b[0;34m:\u001b[0m\u001b[0;34m\u001b[0m\u001b[0;34m\u001b[0m\u001b[0m\n\u001b[1;32m    207\u001b[0m                     \u001b[0mkwargs\u001b[0m\u001b[0;34m[\u001b[0m\u001b[0mnew_arg_name\u001b[0m\u001b[0;34m]\u001b[0m \u001b[0;34m=\u001b[0m \u001b[0mnew_arg_value\u001b[0m\u001b[0;34m\u001b[0m\u001b[0;34m\u001b[0m\u001b[0m\n\u001b[0;32m--> 208\u001b[0;31m             \u001b[0;32mreturn\u001b[0m \u001b[0mfunc\u001b[0m\u001b[0;34m(\u001b[0m\u001b[0;34m*\u001b[0m\u001b[0margs\u001b[0m\u001b[0;34m,\u001b[0m \u001b[0;34m**\u001b[0m\u001b[0mkwargs\u001b[0m\u001b[0;34m)\u001b[0m\u001b[0;34m\u001b[0m\u001b[0;34m\u001b[0m\u001b[0m\n\u001b[0m\u001b[1;32m    209\u001b[0m \u001b[0;34m\u001b[0m\u001b[0m\n\u001b[1;32m    210\u001b[0m         \u001b[0;32mreturn\u001b[0m \u001b[0mwrapper\u001b[0m\u001b[0;34m\u001b[0m\u001b[0;34m\u001b[0m\u001b[0m\n",
      "\u001b[0;32m~/.local/lib/python3.7/site-packages/pandas/core/indexes/multi.py\u001b[0m in \u001b[0;36m__new__\u001b[0;34m(cls, levels, codes, sortorder, names, dtype, copy, name, verify_integrity, _set_identity)\u001b[0m\n\u001b[1;32m    257\u001b[0m \u001b[0;34m\u001b[0m\u001b[0m\n\u001b[1;32m    258\u001b[0m         \u001b[0;31m# we've already validated levels and codes, so shortcut here\u001b[0m\u001b[0;34m\u001b[0m\u001b[0;34m\u001b[0m\u001b[0;34m\u001b[0m\u001b[0m\n\u001b[0;32m--> 259\u001b[0;31m         \u001b[0mresult\u001b[0m\u001b[0;34m.\u001b[0m\u001b[0m_set_levels\u001b[0m\u001b[0;34m(\u001b[0m\u001b[0mlevels\u001b[0m\u001b[0;34m,\u001b[0m \u001b[0mcopy\u001b[0m\u001b[0;34m=\u001b[0m\u001b[0mcopy\u001b[0m\u001b[0;34m,\u001b[0m \u001b[0mvalidate\u001b[0m\u001b[0;34m=\u001b[0m\u001b[0;32mFalse\u001b[0m\u001b[0;34m)\u001b[0m\u001b[0;34m\u001b[0m\u001b[0;34m\u001b[0m\u001b[0m\n\u001b[0m\u001b[1;32m    260\u001b[0m         \u001b[0mresult\u001b[0m\u001b[0;34m.\u001b[0m\u001b[0m_set_codes\u001b[0m\u001b[0;34m(\u001b[0m\u001b[0mcodes\u001b[0m\u001b[0;34m,\u001b[0m \u001b[0mcopy\u001b[0m\u001b[0;34m=\u001b[0m\u001b[0mcopy\u001b[0m\u001b[0;34m,\u001b[0m \u001b[0mvalidate\u001b[0m\u001b[0;34m=\u001b[0m\u001b[0;32mFalse\u001b[0m\u001b[0;34m)\u001b[0m\u001b[0;34m\u001b[0m\u001b[0;34m\u001b[0m\u001b[0m\n\u001b[1;32m    261\u001b[0m \u001b[0;34m\u001b[0m\u001b[0m\n",
      "\u001b[0;31mKeyboardInterrupt\u001b[0m: "
     ]
    }
   ],
   "source": [
    "preprocess_dm.prepare_data()"
   ]
  },
  {
   "cell_type": "code",
   "execution_count": 11,
   "metadata": {
    "hidden": true
   },
   "outputs": [],
   "source": [
    "data = torch.load(\"/global/cscratch1/sd/danieltm/ExaTrkX/trackml/feature_store_endcaps/1000\")"
   ]
  },
  {
   "cell_type": "code",
   "execution_count": 13,
   "metadata": {
    "hidden": true
   },
   "outputs": [
    {
     "data": {
      "text/plain": [
       "Data(cell_data=[103305, 9], event_file=/global/cscratch1/sd/danieltm/ExaTrkX/trackml/train_all/event000001000, hid=[103305], layerless_true_edges=[2, 123429], layers=[103305], pid=[103305], x=[103305, 3])"
      ]
     },
     "execution_count": 13,
     "metadata": {},
     "output_type": "execute_result"
    }
   ],
   "source": [
    "data"
   ]
  },
  {
   "cell_type": "markdown",
   "metadata": {
    "heading_collapsed": true
   },
   "source": [
    "# Embedding"
   ]
  },
  {
   "cell_type": "markdown",
   "metadata": {
    "heading_collapsed": true,
    "hidden": true
   },
   "source": [
    "## Model Loading"
   ]
  },
  {
   "cell_type": "code",
   "execution_count": 3,
   "metadata": {
    "hidden": true
   },
   "outputs": [],
   "source": [
    "with open(\"LightningModules/Embedding/train_embedding.yaml\") as f:\n",
    "    config = yaml.load(f, Loader=yaml.FullLoader)"
   ]
  },
  {
   "cell_type": "code",
   "execution_count": 4,
   "metadata": {
    "hidden": true
   },
   "outputs": [],
   "source": [
    "model = LayerlessEmbedding(config)"
   ]
  },
  {
   "cell_type": "markdown",
   "metadata": {
    "hidden": true
   },
   "source": [
    "Optionally load the Weights & Biases logger"
   ]
  },
  {
   "cell_type": "code",
   "execution_count": 3,
   "metadata": {
    "hidden": true
   },
   "outputs": [],
   "source": [
    "wandb_dir = \"/global/cscratch1/sd/danieltm/ExaTrkX/wandb_data\"\n",
    "wandb_logger = WandbLogger(project=\"EmbeddingStudy\", group=\"LayerlessEndcaps\", log_model=True, save_dir = wandb_dir)"
   ]
  },
  {
   "cell_type": "code",
   "execution_count": 6,
   "metadata": {
    "hidden": true
   },
   "outputs": [
    {
     "name": "stderr",
     "output_type": "stream",
     "text": [
      "GPU available: True, used: True\n",
      "TPU available: False, using: 0 TPU cores\n",
      "CUDA_VISIBLE_DEVICES: [0]\n"
     ]
    }
   ],
   "source": [
    "trainer = pl.Trainer(max_epochs = config['max_epochs'], gpus=1, logger=wandb_logger, callbacks=stringlist_to_classes(config[\"callbacks\"]))"
   ]
  },
  {
   "cell_type": "code",
   "execution_count": 7,
   "metadata": {
    "hidden": true,
    "scrolled": true
   },
   "outputs": [
    {
     "name": "stderr",
     "output_type": "stream",
     "text": [
      "Failed to query for notebook name, you can set it manually with the WANDB_NOTEBOOK_NAME environment variable\n",
      "\u001b[34m\u001b[1mwandb\u001b[0m: Currently logged in as: \u001b[33mmurnanedaniel\u001b[0m (use `wandb login --relogin` to force relogin)\n",
      "\u001b[34m\u001b[1mwandb\u001b[0m: wandb version 0.10.5 is available!  To upgrade, please run:\n",
      "\u001b[34m\u001b[1mwandb\u001b[0m:  $ pip install wandb --upgrade\n",
      "\u001b[34m\u001b[1mwandb\u001b[0m: Tracking run with wandb version 0.10.2\n",
      "\u001b[34m\u001b[1mwandb\u001b[0m: Run data is saved locally in /global/cscratch1/sd/danieltm/ExaTrkX/wandb_data/wandb/run-20201013_111443-hd6lqvip\n",
      "\u001b[34m\u001b[1mwandb\u001b[0m: Syncing run \u001b[33mworthy-frog-58\u001b[0m\n"
     ]
    },
    {
     "data": {
      "text/html": [
       "\n",
       "                Logging results to <a href=\"https://wandb.com\" target=\"_blank\">Weights & Biases</a> <a href=\"https://docs.wandb.com/integrations/jupyter.html\" target=\"_blank\">(Documentation)</a>.<br/>\n",
       "                Project page: <a href=\"https://wandb.ai/murnanedaniel/EmbeddingStudy\" target=\"_blank\">https://wandb.ai/murnanedaniel/EmbeddingStudy</a><br/>\n",
       "                Run page: <a href=\"https://wandb.ai/murnanedaniel/EmbeddingStudy/runs/hd6lqvip\" target=\"_blank\">https://wandb.ai/murnanedaniel/EmbeddingStudy/runs/hd6lqvip</a><br/>\n",
       "            "
      ],
      "text/plain": [
       "<IPython.core.display.HTML object>"
      ]
     },
     "metadata": {},
     "output_type": "display_data"
    },
    {
     "name": "stderr",
     "output_type": "stream",
     "text": [
      "Set SLURM handle signals.\n",
      "\n",
      "  | Name      | Type       | Params\n",
      "-----------------------------------------\n",
      "0 | layers    | ModuleList | 1 M   \n",
      "1 | emb_layer | Linear     | 4 K   \n",
      "2 | norm      | LayerNorm  | 1 K   \n",
      "3 | act       | Tanh       | 0     \n"
     ]
    },
    {
     "name": "stdout",
     "output_type": "stream",
     "text": [
      "\n"
     ]
    },
    {
     "data": {
      "application/vnd.jupyter.widget-view+json": {
       "model_id": "",
       "version_major": 2,
       "version_minor": 0
      },
      "text/plain": [
       "HBox(children=(FloatProgress(value=1.0, bar_style='info', description='Validation sanity check', layout=Layout…"
      ]
     },
     "metadata": {},
     "output_type": "display_data"
    },
    {
     "name": "stdout",
     "output_type": "stream",
     "text": [
      "\r"
     ]
    },
    {
     "data": {
      "application/vnd.jupyter.widget-view+json": {
       "model_id": "b4f3b0d361a448d481387e983c16d58e",
       "version_major": 2,
       "version_minor": 0
      },
      "text/plain": [
       "HBox(children=(FloatProgress(value=1.0, bar_style='info', description='Training', layout=Layout(flex='2'), max…"
      ]
     },
     "metadata": {},
     "output_type": "display_data"
    },
    {
     "data": {
      "application/vnd.jupyter.widget-view+json": {
       "model_id": "",
       "version_major": 2,
       "version_minor": 0
      },
      "text/plain": [
       "HBox(children=(FloatProgress(value=1.0, bar_style='info', description='Validating', layout=Layout(flex='2'), m…"
      ]
     },
     "metadata": {},
     "output_type": "display_data"
    },
    {
     "data": {
      "application/vnd.jupyter.widget-view+json": {
       "model_id": "",
       "version_major": 2,
       "version_minor": 0
      },
      "text/plain": [
       "HBox(children=(FloatProgress(value=1.0, bar_style='info', description='Validating', layout=Layout(flex='2'), m…"
      ]
     },
     "metadata": {},
     "output_type": "display_data"
    },
    {
     "data": {
      "application/vnd.jupyter.widget-view+json": {
       "model_id": "",
       "version_major": 2,
       "version_minor": 0
      },
      "text/plain": [
       "HBox(children=(FloatProgress(value=1.0, bar_style='info', description='Validating', layout=Layout(flex='2'), m…"
      ]
     },
     "metadata": {},
     "output_type": "display_data"
    },
    {
     "data": {
      "application/vnd.jupyter.widget-view+json": {
       "model_id": "",
       "version_major": 2,
       "version_minor": 0
      },
      "text/plain": [
       "HBox(children=(FloatProgress(value=1.0, bar_style='info', description='Validating', layout=Layout(flex='2'), m…"
      ]
     },
     "metadata": {},
     "output_type": "display_data"
    },
    {
     "data": {
      "application/vnd.jupyter.widget-view+json": {
       "model_id": "",
       "version_major": 2,
       "version_minor": 0
      },
      "text/plain": [
       "HBox(children=(FloatProgress(value=1.0, bar_style='info', description='Validating', layout=Layout(flex='2'), m…"
      ]
     },
     "metadata": {},
     "output_type": "display_data"
    },
    {
     "data": {
      "application/vnd.jupyter.widget-view+json": {
       "model_id": "",
       "version_major": 2,
       "version_minor": 0
      },
      "text/plain": [
       "HBox(children=(FloatProgress(value=1.0, bar_style='info', description='Validating', layout=Layout(flex='2'), m…"
      ]
     },
     "metadata": {},
     "output_type": "display_data"
    },
    {
     "data": {
      "application/vnd.jupyter.widget-view+json": {
       "model_id": "",
       "version_major": 2,
       "version_minor": 0
      },
      "text/plain": [
       "HBox(children=(FloatProgress(value=1.0, bar_style='info', description='Validating', layout=Layout(flex='2'), m…"
      ]
     },
     "metadata": {},
     "output_type": "display_data"
    },
    {
     "data": {
      "application/vnd.jupyter.widget-view+json": {
       "model_id": "",
       "version_major": 2,
       "version_minor": 0
      },
      "text/plain": [
       "HBox(children=(FloatProgress(value=1.0, bar_style='info', description='Validating', layout=Layout(flex='2'), m…"
      ]
     },
     "metadata": {},
     "output_type": "display_data"
    },
    {
     "data": {
      "application/vnd.jupyter.widget-view+json": {
       "model_id": "",
       "version_major": 2,
       "version_minor": 0
      },
      "text/plain": [
       "HBox(children=(FloatProgress(value=1.0, bar_style='info', description='Validating', layout=Layout(flex='2'), m…"
      ]
     },
     "metadata": {},
     "output_type": "display_data"
    },
    {
     "data": {
      "application/vnd.jupyter.widget-view+json": {
       "model_id": "",
       "version_major": 2,
       "version_minor": 0
      },
      "text/plain": [
       "HBox(children=(FloatProgress(value=1.0, bar_style='info', description='Validating', layout=Layout(flex='2'), m…"
      ]
     },
     "metadata": {},
     "output_type": "display_data"
    },
    {
     "data": {
      "application/vnd.jupyter.widget-view+json": {
       "model_id": "",
       "version_major": 2,
       "version_minor": 0
      },
      "text/plain": [
       "HBox(children=(FloatProgress(value=1.0, bar_style='info', description='Validating', layout=Layout(flex='2'), m…"
      ]
     },
     "metadata": {},
     "output_type": "display_data"
    },
    {
     "name": "stderr",
     "output_type": "stream",
     "text": [
      "Saving latest checkpoint..\n"
     ]
    },
    {
     "name": "stdout",
     "output_type": "stream",
     "text": [
      "\n"
     ]
    },
    {
     "ename": "KeyboardInterrupt",
     "evalue": "",
     "output_type": "error",
     "traceback": [
      "\u001b[0;31m---------------------------------------------------------------------------\u001b[0m",
      "\u001b[0;31mKeyboardInterrupt\u001b[0m                         Traceback (most recent call last)",
      "\u001b[0;32m~/.conda/envs/exatrkx-test/lib/python3.7/site-packages/pytorch_lightning/trainer/training_loop.py\u001b[0m in \u001b[0;36mtrain\u001b[0;34m(self)\u001b[0m\n\u001b[1;32m    393\u001b[0m                 \u001b[0;31m# -----------------\u001b[0m\u001b[0;34m\u001b[0m\u001b[0;34m\u001b[0m\u001b[0;34m\u001b[0m\u001b[0m\n\u001b[0;32m--> 394\u001b[0;31m                 \u001b[0mself\u001b[0m\u001b[0;34m.\u001b[0m\u001b[0mrun_training_epoch\u001b[0m\u001b[0;34m(\u001b[0m\u001b[0;34m)\u001b[0m\u001b[0;34m\u001b[0m\u001b[0;34m\u001b[0m\u001b[0m\n\u001b[0m\u001b[1;32m    395\u001b[0m \u001b[0;34m\u001b[0m\u001b[0m\n",
      "\u001b[0;32m~/.conda/envs/exatrkx-test/lib/python3.7/site-packages/pytorch_lightning/trainer/training_loop.py\u001b[0m in \u001b[0;36mrun_training_epoch\u001b[0;34m(self)\u001b[0m\n\u001b[1;32m    490\u001b[0m             \u001b[0;31m# ------------------------------------\u001b[0m\u001b[0;34m\u001b[0m\u001b[0;34m\u001b[0m\u001b[0;34m\u001b[0m\u001b[0m\n\u001b[0;32m--> 491\u001b[0;31m             \u001b[0mbatch_output\u001b[0m \u001b[0;34m=\u001b[0m \u001b[0mself\u001b[0m\u001b[0;34m.\u001b[0m\u001b[0mrun_training_batch\u001b[0m\u001b[0;34m(\u001b[0m\u001b[0mbatch\u001b[0m\u001b[0;34m,\u001b[0m \u001b[0mbatch_idx\u001b[0m\u001b[0;34m)\u001b[0m\u001b[0;34m\u001b[0m\u001b[0;34m\u001b[0m\u001b[0m\n\u001b[0m\u001b[1;32m    492\u001b[0m \u001b[0;34m\u001b[0m\u001b[0m\n",
      "\u001b[0;32m~/.conda/envs/exatrkx-test/lib/python3.7/site-packages/pytorch_lightning/trainer/training_loop.py\u001b[0m in \u001b[0;36mrun_training_batch\u001b[0;34m(self, batch, batch_idx)\u001b[0m\n\u001b[1;32m    843\u001b[0m                     \u001b[0moptimizer\u001b[0m\u001b[0;34m,\u001b[0m\u001b[0;34m\u001b[0m\u001b[0;34m\u001b[0m\u001b[0m\n\u001b[0;32m--> 844\u001b[0;31m                     \u001b[0mself\u001b[0m\u001b[0;34m.\u001b[0m\u001b[0mhiddens\u001b[0m\u001b[0;34m\u001b[0m\u001b[0;34m\u001b[0m\u001b[0m\n\u001b[0m\u001b[1;32m    845\u001b[0m                 )\n",
      "\u001b[0;32m~/.conda/envs/exatrkx-test/lib/python3.7/site-packages/pytorch_lightning/trainer/training_loop.py\u001b[0m in \u001b[0;36moptimizer_closure\u001b[0;34m(self, split_batch, batch_idx, opt_idx, optimizer, hiddens)\u001b[0m\n\u001b[1;32m   1014\u001b[0m                 training_step_output = self.training_forward(split_batch, batch_idx, opt_idx,\n\u001b[0;32m-> 1015\u001b[0;31m                                                              hiddens)\n\u001b[0m\u001b[1;32m   1016\u001b[0m \u001b[0;34m\u001b[0m\u001b[0m\n",
      "\u001b[0;32m~/.conda/envs/exatrkx-test/lib/python3.7/site-packages/pytorch_lightning/trainer/training_loop.py\u001b[0m in \u001b[0;36mtraining_forward\u001b[0;34m(self, batch, batch_idx, opt_idx, hiddens)\u001b[0m\n\u001b[1;32m   1215\u001b[0m             \u001b[0margs\u001b[0m\u001b[0;34m[\u001b[0m\u001b[0;36m0\u001b[0m\u001b[0;34m]\u001b[0m \u001b[0;34m=\u001b[0m \u001b[0mbatch\u001b[0m\u001b[0;34m\u001b[0m\u001b[0;34m\u001b[0m\u001b[0m\n\u001b[0;32m-> 1216\u001b[0;31m             \u001b[0moutput\u001b[0m \u001b[0;34m=\u001b[0m \u001b[0mself\u001b[0m\u001b[0;34m.\u001b[0m\u001b[0mmodel\u001b[0m\u001b[0;34m.\u001b[0m\u001b[0mtraining_step\u001b[0m\u001b[0;34m(\u001b[0m\u001b[0;34m*\u001b[0m\u001b[0margs\u001b[0m\u001b[0;34m)\u001b[0m\u001b[0;34m\u001b[0m\u001b[0;34m\u001b[0m\u001b[0m\n\u001b[0m\u001b[1;32m   1217\u001b[0m \u001b[0;34m\u001b[0m\u001b[0m\n",
      "\u001b[0;32m/global/u2/d/danieltm/ExaTrkX/Tracking-ML-Exa.TrkX/src/Pipelines/Examples/LightningModules/Embedding/embedding_base.py\u001b[0m in \u001b[0;36mtraining_step\u001b[0;34m(self, batch, batch_idx)\u001b[0m\n\u001b[1;32m     99\u001b[0m \u001b[0;34m\u001b[0m\u001b[0m\n\u001b[0;32m--> 100\u001b[0;31m         \u001b[0me_spatial\u001b[0m \u001b[0;34m=\u001b[0m \u001b[0mtorch\u001b[0m\u001b[0;34m.\u001b[0m\u001b[0mcat\u001b[0m\u001b[0;34m(\u001b[0m\u001b[0;34m[\u001b[0m\u001b[0me_spatial\u001b[0m\u001b[0;34m,\u001b[0m \u001b[0me_bidir\u001b[0m\u001b[0;34m.\u001b[0m\u001b[0mtranspose\u001b[0m\u001b[0;34m(\u001b[0m\u001b[0;36m0\u001b[0m\u001b[0;34m,\u001b[0m\u001b[0;36m1\u001b[0m\u001b[0;34m)\u001b[0m\u001b[0;34m.\u001b[0m\u001b[0mrepeat\u001b[0m\u001b[0;34m(\u001b[0m\u001b[0;36m1\u001b[0m\u001b[0;34m,\u001b[0m\u001b[0mself\u001b[0m\u001b[0;34m.\u001b[0m\u001b[0mhparams\u001b[0m\u001b[0;34m[\u001b[0m\u001b[0;34m\"weight\"\u001b[0m\u001b[0;34m]\u001b[0m\u001b[0;34m)\u001b[0m\u001b[0;34m.\u001b[0m\u001b[0mview\u001b[0m\u001b[0;34m(\u001b[0m\u001b[0;34m-\u001b[0m\u001b[0;36m1\u001b[0m\u001b[0;34m,\u001b[0m \u001b[0;36m2\u001b[0m\u001b[0;34m)\u001b[0m\u001b[0;34m.\u001b[0m\u001b[0mtranspose\u001b[0m\u001b[0;34m(\u001b[0m\u001b[0;36m0\u001b[0m\u001b[0;34m,\u001b[0m\u001b[0;36m1\u001b[0m\u001b[0;34m)\u001b[0m\u001b[0;34m]\u001b[0m\u001b[0;34m,\u001b[0m \u001b[0maxis\u001b[0m\u001b[0;34m=\u001b[0m\u001b[0;34m-\u001b[0m\u001b[0;36m1\u001b[0m\u001b[0;34m)\u001b[0m\u001b[0;34m\u001b[0m\u001b[0;34m\u001b[0m\u001b[0m\n\u001b[0m\u001b[1;32m    101\u001b[0m         \u001b[0my_cluster\u001b[0m \u001b[0;34m=\u001b[0m \u001b[0mnp\u001b[0m\u001b[0;34m.\u001b[0m\u001b[0mconcatenate\u001b[0m\u001b[0;34m(\u001b[0m\u001b[0;34m[\u001b[0m\u001b[0my_cluster\u001b[0m\u001b[0;34m.\u001b[0m\u001b[0mastype\u001b[0m\u001b[0;34m(\u001b[0m\u001b[0mint\u001b[0m\u001b[0;34m)\u001b[0m\u001b[0;34m,\u001b[0m \u001b[0mnp\u001b[0m\u001b[0;34m.\u001b[0m\u001b[0mones\u001b[0m\u001b[0;34m(\u001b[0m\u001b[0me_bidir\u001b[0m\u001b[0;34m.\u001b[0m\u001b[0mshape\u001b[0m\u001b[0;34m[\u001b[0m\u001b[0;36m1\u001b[0m\u001b[0;34m]\u001b[0m\u001b[0;34m*\u001b[0m\u001b[0mself\u001b[0m\u001b[0;34m.\u001b[0m\u001b[0mhparams\u001b[0m\u001b[0;34m[\u001b[0m\u001b[0;34m\"weight\"\u001b[0m\u001b[0;34m]\u001b[0m\u001b[0;34m)\u001b[0m\u001b[0;34m]\u001b[0m\u001b[0;34m)\u001b[0m\u001b[0;34m\u001b[0m\u001b[0;34m\u001b[0m\u001b[0m\n",
      "\u001b[0;31mKeyboardInterrupt\u001b[0m: ",
      "\nDuring handling of the above exception, another exception occurred:\n",
      "\u001b[0;31mKeyboardInterrupt\u001b[0m                         Traceback (most recent call last)",
      "\u001b[0;32m<ipython-input-7-45d4afebefac>\u001b[0m in \u001b[0;36m<module>\u001b[0;34m\u001b[0m\n\u001b[0;32m----> 1\u001b[0;31m \u001b[0mtrainer\u001b[0m\u001b[0;34m.\u001b[0m\u001b[0mfit\u001b[0m\u001b[0;34m(\u001b[0m\u001b[0mmodel\u001b[0m\u001b[0;34m)\u001b[0m\u001b[0;34m\u001b[0m\u001b[0;34m\u001b[0m\u001b[0m\n\u001b[0m",
      "\u001b[0;32m~/.conda/envs/exatrkx-test/lib/python3.7/site-packages/pytorch_lightning/trainer/states.py\u001b[0m in \u001b[0;36mwrapped_fn\u001b[0;34m(self, *args, **kwargs)\u001b[0m\n\u001b[1;32m     46\u001b[0m             \u001b[0;32mif\u001b[0m \u001b[0mentering\u001b[0m \u001b[0;32mis\u001b[0m \u001b[0;32mnot\u001b[0m \u001b[0;32mNone\u001b[0m\u001b[0;34m:\u001b[0m\u001b[0;34m\u001b[0m\u001b[0;34m\u001b[0m\u001b[0m\n\u001b[1;32m     47\u001b[0m                 \u001b[0mself\u001b[0m\u001b[0;34m.\u001b[0m\u001b[0mstate\u001b[0m \u001b[0;34m=\u001b[0m \u001b[0mentering\u001b[0m\u001b[0;34m\u001b[0m\u001b[0;34m\u001b[0m\u001b[0m\n\u001b[0;32m---> 48\u001b[0;31m             \u001b[0mresult\u001b[0m \u001b[0;34m=\u001b[0m \u001b[0mfn\u001b[0m\u001b[0;34m(\u001b[0m\u001b[0mself\u001b[0m\u001b[0;34m,\u001b[0m \u001b[0;34m*\u001b[0m\u001b[0margs\u001b[0m\u001b[0;34m,\u001b[0m \u001b[0;34m**\u001b[0m\u001b[0mkwargs\u001b[0m\u001b[0;34m)\u001b[0m\u001b[0;34m\u001b[0m\u001b[0;34m\u001b[0m\u001b[0m\n\u001b[0m\u001b[1;32m     49\u001b[0m \u001b[0;34m\u001b[0m\u001b[0m\n\u001b[1;32m     50\u001b[0m             \u001b[0;31m# The INTERRUPTED state can be set inside the run function. To indicate that run was interrupted\u001b[0m\u001b[0;34m\u001b[0m\u001b[0;34m\u001b[0m\u001b[0;34m\u001b[0m\u001b[0m\n",
      "\u001b[0;32m~/.conda/envs/exatrkx-test/lib/python3.7/site-packages/pytorch_lightning/trainer/trainer.py\u001b[0m in \u001b[0;36mfit\u001b[0;34m(self, model, train_dataloader, val_dataloaders, datamodule)\u001b[0m\n\u001b[1;32m   1071\u001b[0m             \u001b[0mself\u001b[0m\u001b[0;34m.\u001b[0m\u001b[0maccelerator_backend\u001b[0m \u001b[0;34m=\u001b[0m \u001b[0mGPUBackend\u001b[0m\u001b[0;34m(\u001b[0m\u001b[0mself\u001b[0m\u001b[0;34m)\u001b[0m\u001b[0;34m\u001b[0m\u001b[0;34m\u001b[0m\u001b[0m\n\u001b[1;32m   1072\u001b[0m             \u001b[0mmodel\u001b[0m \u001b[0;34m=\u001b[0m \u001b[0mself\u001b[0m\u001b[0;34m.\u001b[0m\u001b[0maccelerator_backend\u001b[0m\u001b[0;34m.\u001b[0m\u001b[0msetup\u001b[0m\u001b[0;34m(\u001b[0m\u001b[0mmodel\u001b[0m\u001b[0;34m)\u001b[0m\u001b[0;34m\u001b[0m\u001b[0;34m\u001b[0m\u001b[0m\n\u001b[0;32m-> 1073\u001b[0;31m             \u001b[0mresults\u001b[0m \u001b[0;34m=\u001b[0m \u001b[0mself\u001b[0m\u001b[0;34m.\u001b[0m\u001b[0maccelerator_backend\u001b[0m\u001b[0;34m.\u001b[0m\u001b[0mtrain\u001b[0m\u001b[0;34m(\u001b[0m\u001b[0mmodel\u001b[0m\u001b[0;34m)\u001b[0m\u001b[0;34m\u001b[0m\u001b[0;34m\u001b[0m\u001b[0m\n\u001b[0m\u001b[1;32m   1074\u001b[0m \u001b[0;34m\u001b[0m\u001b[0m\n\u001b[1;32m   1075\u001b[0m         \u001b[0;32melif\u001b[0m \u001b[0mself\u001b[0m\u001b[0;34m.\u001b[0m\u001b[0muse_tpu\u001b[0m\u001b[0;34m:\u001b[0m\u001b[0;34m\u001b[0m\u001b[0;34m\u001b[0m\u001b[0m\n",
      "\u001b[0;32m~/.conda/envs/exatrkx-test/lib/python3.7/site-packages/pytorch_lightning/accelerators/gpu_backend.py\u001b[0m in \u001b[0;36mtrain\u001b[0;34m(self, model)\u001b[0m\n\u001b[1;32m     49\u001b[0m \u001b[0;34m\u001b[0m\u001b[0m\n\u001b[1;32m     50\u001b[0m     \u001b[0;32mdef\u001b[0m \u001b[0mtrain\u001b[0m\u001b[0;34m(\u001b[0m\u001b[0mself\u001b[0m\u001b[0;34m,\u001b[0m \u001b[0mmodel\u001b[0m\u001b[0;34m)\u001b[0m\u001b[0;34m:\u001b[0m\u001b[0;34m\u001b[0m\u001b[0;34m\u001b[0m\u001b[0m\n\u001b[0;32m---> 51\u001b[0;31m         \u001b[0mresults\u001b[0m \u001b[0;34m=\u001b[0m \u001b[0mself\u001b[0m\u001b[0;34m.\u001b[0m\u001b[0mtrainer\u001b[0m\u001b[0;34m.\u001b[0m\u001b[0mrun_pretrain_routine\u001b[0m\u001b[0;34m(\u001b[0m\u001b[0mmodel\u001b[0m\u001b[0;34m)\u001b[0m\u001b[0;34m\u001b[0m\u001b[0;34m\u001b[0m\u001b[0m\n\u001b[0m\u001b[1;32m     52\u001b[0m         \u001b[0;32mreturn\u001b[0m \u001b[0mresults\u001b[0m\u001b[0;34m\u001b[0m\u001b[0;34m\u001b[0m\u001b[0m\n\u001b[1;32m     53\u001b[0m \u001b[0;34m\u001b[0m\u001b[0m\n",
      "\u001b[0;32m~/.conda/envs/exatrkx-test/lib/python3.7/site-packages/pytorch_lightning/trainer/trainer.py\u001b[0m in \u001b[0;36mrun_pretrain_routine\u001b[0;34m(self, model)\u001b[0m\n\u001b[1;32m   1237\u001b[0m \u001b[0;34m\u001b[0m\u001b[0m\n\u001b[1;32m   1238\u001b[0m         \u001b[0;31m# CORE TRAINING LOOP\u001b[0m\u001b[0;34m\u001b[0m\u001b[0;34m\u001b[0m\u001b[0;34m\u001b[0m\u001b[0m\n\u001b[0;32m-> 1239\u001b[0;31m         \u001b[0mself\u001b[0m\u001b[0;34m.\u001b[0m\u001b[0mtrain\u001b[0m\u001b[0;34m(\u001b[0m\u001b[0;34m)\u001b[0m\u001b[0;34m\u001b[0m\u001b[0;34m\u001b[0m\u001b[0m\n\u001b[0m\u001b[1;32m   1240\u001b[0m \u001b[0;34m\u001b[0m\u001b[0m\n\u001b[1;32m   1241\u001b[0m     \u001b[0;32mdef\u001b[0m \u001b[0m_run_sanity_check\u001b[0m\u001b[0;34m(\u001b[0m\u001b[0mself\u001b[0m\u001b[0;34m,\u001b[0m \u001b[0mref_model\u001b[0m\u001b[0;34m,\u001b[0m \u001b[0mmodel\u001b[0m\u001b[0;34m)\u001b[0m\u001b[0;34m:\u001b[0m\u001b[0;34m\u001b[0m\u001b[0;34m\u001b[0m\u001b[0m\n",
      "\u001b[0;32m~/.conda/envs/exatrkx-test/lib/python3.7/site-packages/pytorch_lightning/trainer/training_loop.py\u001b[0m in \u001b[0;36mtrain\u001b[0;34m(self)\u001b[0m\n\u001b[1;32m    425\u001b[0m                 \u001b[0mself\u001b[0m\u001b[0;34m.\u001b[0m\u001b[0mon_keyboard_interrupt\u001b[0m\u001b[0;34m(\u001b[0m\u001b[0;34m)\u001b[0m\u001b[0;34m\u001b[0m\u001b[0;34m\u001b[0m\u001b[0m\n\u001b[1;32m    426\u001b[0m \u001b[0;34m\u001b[0m\u001b[0m\n\u001b[0;32m--> 427\u001b[0;31m                 \u001b[0mself\u001b[0m\u001b[0;34m.\u001b[0m\u001b[0mrun_training_teardown\u001b[0m\u001b[0;34m(\u001b[0m\u001b[0;34m)\u001b[0m\u001b[0;34m\u001b[0m\u001b[0;34m\u001b[0m\u001b[0m\n\u001b[0m\u001b[1;32m    428\u001b[0m \u001b[0;34m\u001b[0m\u001b[0m\n\u001b[1;32m    429\u001b[0m     \u001b[0;32mdef\u001b[0m \u001b[0mprepare_train_loop_dataloader\u001b[0m\u001b[0;34m(\u001b[0m\u001b[0mself\u001b[0m\u001b[0;34m,\u001b[0m \u001b[0mtrain_dataloader\u001b[0m\u001b[0;34m)\u001b[0m\u001b[0;34m:\u001b[0m\u001b[0;34m\u001b[0m\u001b[0;34m\u001b[0m\u001b[0m\n",
      "\u001b[0;32m~/.conda/envs/exatrkx-test/lib/python3.7/site-packages/pytorch_lightning/trainer/training_loop.py\u001b[0m in \u001b[0;36mrun_training_teardown\u001b[0;34m(self)\u001b[0m\n\u001b[1;32m   1163\u001b[0m         \u001b[0;32mif\u001b[0m \u001b[0mself\u001b[0m\u001b[0;34m.\u001b[0m\u001b[0mon_gpu\u001b[0m\u001b[0;34m:\u001b[0m\u001b[0;34m\u001b[0m\u001b[0;34m\u001b[0m\u001b[0m\n\u001b[1;32m   1164\u001b[0m             \u001b[0mmodel\u001b[0m \u001b[0;34m=\u001b[0m \u001b[0mself\u001b[0m\u001b[0;34m.\u001b[0m\u001b[0mget_model\u001b[0m\u001b[0;34m(\u001b[0m\u001b[0;34m)\u001b[0m\u001b[0;34m\u001b[0m\u001b[0;34m\u001b[0m\u001b[0m\n\u001b[0;32m-> 1165\u001b[0;31m             \u001b[0mmodel\u001b[0m\u001b[0;34m.\u001b[0m\u001b[0mcpu\u001b[0m\u001b[0;34m(\u001b[0m\u001b[0;34m)\u001b[0m\u001b[0;34m\u001b[0m\u001b[0;34m\u001b[0m\u001b[0m\n\u001b[0m\u001b[1;32m   1166\u001b[0m             \u001b[0mtorch\u001b[0m\u001b[0;34m.\u001b[0m\u001b[0mcuda\u001b[0m\u001b[0;34m.\u001b[0m\u001b[0mempty_cache\u001b[0m\u001b[0;34m(\u001b[0m\u001b[0;34m)\u001b[0m\u001b[0;34m\u001b[0m\u001b[0;34m\u001b[0m\u001b[0m\n\u001b[1;32m   1167\u001b[0m \u001b[0;34m\u001b[0m\u001b[0m\n",
      "\u001b[0;32m~/.conda/envs/exatrkx-test/lib/python3.7/site-packages/pytorch_lightning/utilities/device_dtype_mixin.py\u001b[0m in \u001b[0;36mcpu\u001b[0;34m(self)\u001b[0m\n\u001b[1;32m    129\u001b[0m         \"\"\"\n\u001b[1;32m    130\u001b[0m         \u001b[0mself\u001b[0m\u001b[0;34m.\u001b[0m\u001b[0m__update_properties\u001b[0m\u001b[0;34m(\u001b[0m\u001b[0mdevice\u001b[0m\u001b[0;34m=\u001b[0m\u001b[0mtorch\u001b[0m\u001b[0;34m.\u001b[0m\u001b[0mdevice\u001b[0m\u001b[0;34m(\u001b[0m\u001b[0;34m'cpu'\u001b[0m\u001b[0;34m)\u001b[0m\u001b[0;34m)\u001b[0m\u001b[0;34m\u001b[0m\u001b[0;34m\u001b[0m\u001b[0m\n\u001b[0;32m--> 131\u001b[0;31m         \u001b[0;32mreturn\u001b[0m \u001b[0msuper\u001b[0m\u001b[0;34m(\u001b[0m\u001b[0;34m)\u001b[0m\u001b[0;34m.\u001b[0m\u001b[0mcpu\u001b[0m\u001b[0;34m(\u001b[0m\u001b[0;34m)\u001b[0m\u001b[0;34m\u001b[0m\u001b[0;34m\u001b[0m\u001b[0m\n\u001b[0m\u001b[1;32m    132\u001b[0m \u001b[0;34m\u001b[0m\u001b[0m\n\u001b[1;32m    133\u001b[0m     \u001b[0;32mdef\u001b[0m \u001b[0mtype\u001b[0m\u001b[0;34m(\u001b[0m\u001b[0mself\u001b[0m\u001b[0;34m,\u001b[0m \u001b[0mdst_type\u001b[0m\u001b[0;34m:\u001b[0m \u001b[0mUnion\u001b[0m\u001b[0;34m[\u001b[0m\u001b[0mstr\u001b[0m\u001b[0;34m,\u001b[0m \u001b[0mtorch\u001b[0m\u001b[0;34m.\u001b[0m\u001b[0mdtype\u001b[0m\u001b[0;34m]\u001b[0m\u001b[0;34m)\u001b[0m \u001b[0;34m->\u001b[0m \u001b[0mModule\u001b[0m\u001b[0;34m:\u001b[0m\u001b[0;34m\u001b[0m\u001b[0;34m\u001b[0m\u001b[0m\n",
      "\u001b[0;32m~/.local/lib/python3.7/site-packages/torch/nn/modules/module.py\u001b[0m in \u001b[0;36mcpu\u001b[0;34m(self)\u001b[0m\n\u001b[1;32m    313\u001b[0m             \u001b[0mModule\u001b[0m\u001b[0;34m:\u001b[0m \u001b[0mself\u001b[0m\u001b[0;34m\u001b[0m\u001b[0;34m\u001b[0m\u001b[0m\n\u001b[1;32m    314\u001b[0m         \"\"\"\n\u001b[0;32m--> 315\u001b[0;31m         \u001b[0;32mreturn\u001b[0m \u001b[0mself\u001b[0m\u001b[0;34m.\u001b[0m\u001b[0m_apply\u001b[0m\u001b[0;34m(\u001b[0m\u001b[0;32mlambda\u001b[0m \u001b[0mt\u001b[0m\u001b[0;34m:\u001b[0m \u001b[0mt\u001b[0m\u001b[0;34m.\u001b[0m\u001b[0mcpu\u001b[0m\u001b[0;34m(\u001b[0m\u001b[0;34m)\u001b[0m\u001b[0;34m)\u001b[0m\u001b[0;34m\u001b[0m\u001b[0;34m\u001b[0m\u001b[0m\n\u001b[0m\u001b[1;32m    316\u001b[0m \u001b[0;34m\u001b[0m\u001b[0m\n\u001b[1;32m    317\u001b[0m     \u001b[0;32mdef\u001b[0m \u001b[0mtype\u001b[0m\u001b[0;34m(\u001b[0m\u001b[0mself\u001b[0m\u001b[0;34m,\u001b[0m \u001b[0mdst_type\u001b[0m\u001b[0;34m)\u001b[0m\u001b[0;34m:\u001b[0m\u001b[0;34m\u001b[0m\u001b[0;34m\u001b[0m\u001b[0m\n",
      "\u001b[0;32m~/.local/lib/python3.7/site-packages/torch/nn/modules/module.py\u001b[0m in \u001b[0;36m_apply\u001b[0;34m(self, fn)\u001b[0m\n\u001b[1;32m    201\u001b[0m     \u001b[0;32mdef\u001b[0m \u001b[0m_apply\u001b[0m\u001b[0;34m(\u001b[0m\u001b[0mself\u001b[0m\u001b[0;34m,\u001b[0m \u001b[0mfn\u001b[0m\u001b[0;34m)\u001b[0m\u001b[0;34m:\u001b[0m\u001b[0;34m\u001b[0m\u001b[0;34m\u001b[0m\u001b[0m\n\u001b[1;32m    202\u001b[0m         \u001b[0;32mfor\u001b[0m \u001b[0mmodule\u001b[0m \u001b[0;32min\u001b[0m \u001b[0mself\u001b[0m\u001b[0;34m.\u001b[0m\u001b[0mchildren\u001b[0m\u001b[0;34m(\u001b[0m\u001b[0;34m)\u001b[0m\u001b[0;34m:\u001b[0m\u001b[0;34m\u001b[0m\u001b[0;34m\u001b[0m\u001b[0m\n\u001b[0;32m--> 203\u001b[0;31m             \u001b[0mmodule\u001b[0m\u001b[0;34m.\u001b[0m\u001b[0m_apply\u001b[0m\u001b[0;34m(\u001b[0m\u001b[0mfn\u001b[0m\u001b[0;34m)\u001b[0m\u001b[0;34m\u001b[0m\u001b[0;34m\u001b[0m\u001b[0m\n\u001b[0m\u001b[1;32m    204\u001b[0m \u001b[0;34m\u001b[0m\u001b[0m\n\u001b[1;32m    205\u001b[0m         \u001b[0;32mdef\u001b[0m \u001b[0mcompute_should_use_set_data\u001b[0m\u001b[0;34m(\u001b[0m\u001b[0mtensor\u001b[0m\u001b[0;34m,\u001b[0m \u001b[0mtensor_applied\u001b[0m\u001b[0;34m)\u001b[0m\u001b[0;34m:\u001b[0m\u001b[0;34m\u001b[0m\u001b[0;34m\u001b[0m\u001b[0m\n",
      "\u001b[0;32m~/.local/lib/python3.7/site-packages/torch/nn/modules/module.py\u001b[0m in \u001b[0;36m_apply\u001b[0;34m(self, fn)\u001b[0m\n\u001b[1;32m    201\u001b[0m     \u001b[0;32mdef\u001b[0m \u001b[0m_apply\u001b[0m\u001b[0;34m(\u001b[0m\u001b[0mself\u001b[0m\u001b[0;34m,\u001b[0m \u001b[0mfn\u001b[0m\u001b[0;34m)\u001b[0m\u001b[0;34m:\u001b[0m\u001b[0;34m\u001b[0m\u001b[0;34m\u001b[0m\u001b[0m\n\u001b[1;32m    202\u001b[0m         \u001b[0;32mfor\u001b[0m \u001b[0mmodule\u001b[0m \u001b[0;32min\u001b[0m \u001b[0mself\u001b[0m\u001b[0;34m.\u001b[0m\u001b[0mchildren\u001b[0m\u001b[0;34m(\u001b[0m\u001b[0;34m)\u001b[0m\u001b[0;34m:\u001b[0m\u001b[0;34m\u001b[0m\u001b[0;34m\u001b[0m\u001b[0m\n\u001b[0;32m--> 203\u001b[0;31m             \u001b[0mmodule\u001b[0m\u001b[0;34m.\u001b[0m\u001b[0m_apply\u001b[0m\u001b[0;34m(\u001b[0m\u001b[0mfn\u001b[0m\u001b[0;34m)\u001b[0m\u001b[0;34m\u001b[0m\u001b[0;34m\u001b[0m\u001b[0m\n\u001b[0m\u001b[1;32m    204\u001b[0m \u001b[0;34m\u001b[0m\u001b[0m\n\u001b[1;32m    205\u001b[0m         \u001b[0;32mdef\u001b[0m \u001b[0mcompute_should_use_set_data\u001b[0m\u001b[0;34m(\u001b[0m\u001b[0mtensor\u001b[0m\u001b[0;34m,\u001b[0m \u001b[0mtensor_applied\u001b[0m\u001b[0;34m)\u001b[0m\u001b[0;34m:\u001b[0m\u001b[0;34m\u001b[0m\u001b[0;34m\u001b[0m\u001b[0m\n",
      "\u001b[0;32m~/.local/lib/python3.7/site-packages/torch/nn/modules/module.py\u001b[0m in \u001b[0;36m_apply\u001b[0;34m(self, fn)\u001b[0m\n\u001b[1;32m    223\u001b[0m                 \u001b[0;31m# `with torch.no_grad():`\u001b[0m\u001b[0;34m\u001b[0m\u001b[0;34m\u001b[0m\u001b[0;34m\u001b[0m\u001b[0m\n\u001b[1;32m    224\u001b[0m                 \u001b[0;32mwith\u001b[0m \u001b[0mtorch\u001b[0m\u001b[0;34m.\u001b[0m\u001b[0mno_grad\u001b[0m\u001b[0;34m(\u001b[0m\u001b[0;34m)\u001b[0m\u001b[0;34m:\u001b[0m\u001b[0;34m\u001b[0m\u001b[0;34m\u001b[0m\u001b[0m\n\u001b[0;32m--> 225\u001b[0;31m                     \u001b[0mparam_applied\u001b[0m \u001b[0;34m=\u001b[0m \u001b[0mfn\u001b[0m\u001b[0;34m(\u001b[0m\u001b[0mparam\u001b[0m\u001b[0;34m)\u001b[0m\u001b[0;34m\u001b[0m\u001b[0;34m\u001b[0m\u001b[0m\n\u001b[0m\u001b[1;32m    226\u001b[0m                 \u001b[0mshould_use_set_data\u001b[0m \u001b[0;34m=\u001b[0m \u001b[0mcompute_should_use_set_data\u001b[0m\u001b[0;34m(\u001b[0m\u001b[0mparam\u001b[0m\u001b[0;34m,\u001b[0m \u001b[0mparam_applied\u001b[0m\u001b[0;34m)\u001b[0m\u001b[0;34m\u001b[0m\u001b[0;34m\u001b[0m\u001b[0m\n\u001b[1;32m    227\u001b[0m                 \u001b[0;32mif\u001b[0m \u001b[0mshould_use_set_data\u001b[0m\u001b[0;34m:\u001b[0m\u001b[0;34m\u001b[0m\u001b[0;34m\u001b[0m\u001b[0m\n",
      "\u001b[0;32m~/.local/lib/python3.7/site-packages/torch/nn/modules/module.py\u001b[0m in \u001b[0;36m<lambda>\u001b[0;34m(t)\u001b[0m\n\u001b[1;32m    313\u001b[0m             \u001b[0mModule\u001b[0m\u001b[0;34m:\u001b[0m \u001b[0mself\u001b[0m\u001b[0;34m\u001b[0m\u001b[0;34m\u001b[0m\u001b[0m\n\u001b[1;32m    314\u001b[0m         \"\"\"\n\u001b[0;32m--> 315\u001b[0;31m         \u001b[0;32mreturn\u001b[0m \u001b[0mself\u001b[0m\u001b[0;34m.\u001b[0m\u001b[0m_apply\u001b[0m\u001b[0;34m(\u001b[0m\u001b[0;32mlambda\u001b[0m \u001b[0mt\u001b[0m\u001b[0;34m:\u001b[0m \u001b[0mt\u001b[0m\u001b[0;34m.\u001b[0m\u001b[0mcpu\u001b[0m\u001b[0;34m(\u001b[0m\u001b[0;34m)\u001b[0m\u001b[0;34m)\u001b[0m\u001b[0;34m\u001b[0m\u001b[0;34m\u001b[0m\u001b[0m\n\u001b[0m\u001b[1;32m    316\u001b[0m \u001b[0;34m\u001b[0m\u001b[0m\n\u001b[1;32m    317\u001b[0m     \u001b[0;32mdef\u001b[0m \u001b[0mtype\u001b[0m\u001b[0;34m(\u001b[0m\u001b[0mself\u001b[0m\u001b[0;34m,\u001b[0m \u001b[0mdst_type\u001b[0m\u001b[0;34m)\u001b[0m\u001b[0;34m:\u001b[0m\u001b[0;34m\u001b[0m\u001b[0;34m\u001b[0m\u001b[0m\n",
      "\u001b[0;31mKeyboardInterrupt\u001b[0m: "
     ]
    }
   ],
   "source": [
    "trainer.fit(model)"
   ]
  },
  {
   "cell_type": "markdown",
   "metadata": {
    "hidden": true
   },
   "source": [
    "## Callback Testing"
   ]
  },
  {
   "cell_type": "markdown",
   "metadata": {
    "hidden": true
   },
   "source": [
    "Add to the callback list any data manipulation methods. For example, EmbeddingInferenceCallback automatically builds the training, validation and testing set for the next stage of the pipeline after training."
   ]
  },
  {
   "cell_type": "code",
   "execution_count": 29,
   "metadata": {
    "hidden": true
   },
   "outputs": [],
   "source": [
    "callback_list = [EmbeddingInferenceCallback()]"
   ]
  },
  {
   "cell_type": "code",
   "execution_count": 6,
   "metadata": {
    "hidden": true
   },
   "outputs": [
    {
     "name": "stderr",
     "output_type": "stream",
     "text": [
      "GPU available: True, used: True\n",
      "TPU available: False, using: 0 TPU cores\n",
      "CUDA_VISIBLE_DEVICES: [0]\n"
     ]
    }
   ],
   "source": [
    "trainer = pl.Trainer(max_epochs = config['max_epochs'], gpus=1, logger=wandb_logger, callbacks=callback_list)"
   ]
  },
  {
   "cell_type": "markdown",
   "metadata": {
    "hidden": true
   },
   "source": [
    "   ##  Model Load and Test"
   ]
  },
  {
   "cell_type": "code",
   "execution_count": 4,
   "metadata": {
    "code_folding": [
     0,
     110
    ],
    "hidden": true
   },
   "outputs": [],
   "source": [
    "class EmbeddingBase(LightningModule):\n",
    "\n",
    "    def __init__(self, hparams):\n",
    "        super().__init__()\n",
    "        '''\n",
    "        Initialise the Lightning Module that can scan over different embedding training regimes\n",
    "        '''\n",
    "        # Assign hyperparameters\n",
    "        self.hparams = hparams\n",
    "\n",
    "    def configure_optimizers(self):\n",
    "        optimizer = [torch.optim.AdamW(self.parameters(), lr=(self.hparams[\"lr\"]), betas=(0.9, 0.999), eps=1e-08, amsgrad=True)]\n",
    "        scheduler = [\n",
    "            {\n",
    "                'scheduler': torch.optim.lr_scheduler.ReduceLROnPlateau(optimizer[0], factor=self.hparams[\"factor\"], patience=self.hparams[\"patience\"]),\n",
    "                'monitor': 'checkpoint_on',\n",
    "                'interval': 'epoch',\n",
    "                'frequency': 1\n",
    "            }\n",
    "        ]\n",
    "#         scheduler = [torch.optim.lr_scheduler.StepLR(optimizer[0], step_size=1, gamma=0.3)]\n",
    "        return optimizer, scheduler\n",
    "\n",
    "    def training_step(self, batch, batch_idx):\n",
    "\n",
    "        if 'ci' in self.hparams[\"regime\"]:\n",
    "            spatial = self(torch.cat([batch.cell_data, batch.x], axis=-1))\n",
    "        else:\n",
    "            spatial = self(batch.x)\n",
    "\n",
    "        e_bidir = torch.cat([batch.layerless_true_edges,\n",
    "                               torch.stack([batch.layerless_true_edges[1], batch.layerless_true_edges[0]], axis=1).T], axis=-1)\n",
    "\n",
    "        e_spatial = torch.empty([2,0], dtype=torch.int64, device=self.device)\n",
    "\n",
    "        if 'rp' in self.hparams[\"regime\"]:\n",
    "        # Get random edge list\n",
    "            n_random = int(self.hparams[\"randomisation\"]*e_bidir.shape[1])\n",
    "            e_spatial = torch.cat([e_spatial, torch.randint(e_bidir.min(), e_bidir.max(), (2, n_random), device=self.device)], axis=-1)\n",
    "\n",
    "        if 'hnm' in self.hparams[\"regime\"]:\n",
    "            e_spatial = torch.cat([e_spatial, build_edges(spatial, self.hparams[\"r_train\"], self.hparams[\"knn\"], res)], axis=-1)\n",
    "            # e_spatial = torch.cat([e_spatial, radius_graph(spatial, r=self.hparams[\"r_train\"], max_num_neighbors=self.hparams[\"knn\"])], axis=-1)\n",
    "\n",
    "        e_spatial, y_cluster = graph_intersection(e_spatial, e_bidir)\n",
    "\n",
    "        e_spatial = torch.cat([e_spatial, e_bidir.transpose(0,1).repeat(1,self.hparams[\"weight\"]).view(-1, 2).transpose(0,1)], axis=-1)\n",
    "        y_cluster = np.concatenate([y_cluster.astype(int), np.ones(e_bidir.shape[1]*self.hparams[\"weight\"])])\n",
    "\n",
    "        hinge = torch.from_numpy(y_cluster).float().to(device)\n",
    "        hinge[hinge == 0] = -1\n",
    "\n",
    "        reference = spatial.index_select(0, e_spatial[1])\n",
    "        neighbors = spatial.index_select(0, e_spatial[0])\n",
    "        d = torch.sum((reference - neighbors)**2, dim=-1)\n",
    "\n",
    "        loss = torch.nn.functional.hinge_embedding_loss(d, hinge, margin=self.hparams[\"margin\"], reduction=\"mean\")\n",
    "\n",
    "        result = pl.TrainResult(minimize=loss)\n",
    "        result.log('train_loss', loss, prog_bar=True)\n",
    "\n",
    "        return result\n",
    "\n",
    "    def validation_step(self, batch, batch_idx):\n",
    "\n",
    "        if 'ci' in self.hparams[\"regime\"]:\n",
    "            spatial = self(torch.cat([batch.cell_data, batch.x], axis=-1))\n",
    "        else:\n",
    "            spatial = self(batch.x)\n",
    "\n",
    "        e_bidir = torch.cat([batch.layerless_true_edges,\n",
    "                               torch.stack([batch.layerless_true_edges[1], batch.layerless_true_edges[0]], axis=1).T], axis=-1)\n",
    "\n",
    "        # Get random edge list\n",
    "        e_spatial = build_edges(spatial, self.hparams[\"r_val\"], 100, res)\n",
    "        # e_spatial = radius_graph(spatial, r=self.hparams[\"r_val\"], max_num_neighbors=1000)\n",
    "\n",
    "        e_spatial, y_cluster = graph_intersection(e_spatial, e_bidir)\n",
    "\n",
    "        hinge = torch.from_numpy(y_cluster).float().to(device)\n",
    "        hinge[hinge == 0] = -1\n",
    "\n",
    "        reference = spatial.index_select(0, e_spatial[1])\n",
    "        neighbors = spatial.index_select(0, e_spatial[0])\n",
    "        d = torch.sum((reference - neighbors)**2, dim=-1)\n",
    "\n",
    "        val_loss = torch.nn.functional.hinge_embedding_loss(d, hinge, margin=self.hparams[\"margin\"], reduction=\"mean\")\n",
    "\n",
    "        result = pl.EvalResult(checkpoint_on=val_loss)\n",
    "        result.log('val_loss', val_loss, prog_bar=True)\n",
    "\n",
    "        cluster_true = 2*len(batch.layerless_true_edges[0])\n",
    "        cluster_true_positive = y_cluster.sum()\n",
    "        cluster_positive = len(e_spatial[0])\n",
    "\n",
    "        result.log_dict({'eff': torch.tensor(cluster_true_positive/cluster_true), 'pur': torch.tensor(cluster_true_positive/cluster_positive)}, prog_bar=True)\n",
    "\n",
    "        return result\n",
    "\n",
    "    def optimizer_step(self, current_epoch, batch_nb, optimizer, optimizer_idx, second_order_closure=None, on_tpu=False, using_native_amp=False, using_lbfgs=False):\n",
    "        # warm up lr\n",
    "        if (self.hparams[\"warmup\"] is not None) and (self.trainer.global_step < self.hparams[\"warmup\"]):\n",
    "            lr_scale = min(1., float(self.trainer.global_step + 1) / self.hparams[\"warmup\"])\n",
    "            for pg in optimizer.param_groups:\n",
    "                pg['lr'] = lr_scale * self.hparams[\"lr\"]\n",
    "\n",
    "        # update params\n",
    "        optimizer.step()\n",
    "        optimizer.zero_grad()\n",
    "\n",
    "class LayerlessEmbedding(EmbeddingBase):\n",
    "\n",
    "    def __init__(self, hparams):\n",
    "        super().__init__(hparams)\n",
    "        '''\n",
    "        Initialise the Lightning Module that can scan over different embedding training regimes\n",
    "        '''\n",
    "\n",
    "        # Construct the MLP architecture\n",
    "        layers = [Linear(hparams[\"in_channels\"], hparams[\"emb_hidden\"])]\n",
    "        ln = [Linear(hparams[\"emb_hidden\"], hparams[\"emb_hidden\"]) for _ in range(hparams[\"nb_layer\"]-1)]\n",
    "        layers.extend(ln)\n",
    "        self.layers = nn.ModuleList(layers)\n",
    "        self.emb_layer = nn.Linear(hparams[\"emb_hidden\"], hparams[\"emb_dim\"])\n",
    "        self.norm = nn.LayerNorm(hparams[\"emb_hidden\"])\n",
    "        self.act = nn.Tanh()\n",
    "\n",
    "    def forward(self, x):\n",
    "#         hits = self.normalize(hits)\n",
    "        for l in self.layers:\n",
    "            x = l(x)\n",
    "            x = self.act(x)\n",
    "#         x = self.norm(x) #Option of LayerNorm\n",
    "        x = self.emb_layer(x)\n",
    "        return x"
   ]
  },
  {
   "cell_type": "code",
   "execution_count": 5,
   "metadata": {
    "hidden": true
   },
   "outputs": [],
   "source": [
    "run_label = \"hd6lqvip\""
   ]
  },
  {
   "cell_type": "code",
   "execution_count": 6,
   "metadata": {
    "hidden": true
   },
   "outputs": [],
   "source": [
    "wandb_dir = \"/global/cscratch1/sd/danieltm/ExaTrkX/wandb_data\"\n",
    "best_run_path = get_best_run(run_label,wandb_dir)"
   ]
  },
  {
   "cell_type": "code",
   "execution_count": 7,
   "metadata": {
    "hidden": true
   },
   "outputs": [],
   "source": [
    "chkpnt = torch.load(best_run_path)\n",
    "model = LayerlessEmbedding(chkpnt[\"hyper_parameters\"])"
   ]
  },
  {
   "cell_type": "code",
   "execution_count": 8,
   "metadata": {
    "hidden": true
   },
   "outputs": [],
   "source": [
    "model = model.load_from_checkpoint(best_run_path)"
   ]
  },
  {
   "cell_type": "code",
   "execution_count": 9,
   "metadata": {
    "hidden": true
   },
   "outputs": [],
   "source": [
    "device = \"cuda\" if torch.cuda.is_available() else \"cpu\"\n",
    "model = model.to(device)"
   ]
  },
  {
   "cell_type": "code",
   "execution_count": 16,
   "metadata": {
    "hidden": true,
    "scrolled": true
   },
   "outputs": [
    {
     "name": "stdout",
     "output_type": "stream",
     "text": [
      "0 validated\n",
      "5 validated\n",
      "10 validated\n",
      "15 validated\n",
      "20 validated\n",
      "25 validated\n",
      "30 validated\n",
      "35 validated\n",
      "40 validated\n",
      "45 validated\n",
      "Eff: 0.9750146118157859 Pur: 0.013130086934014518\n"
     ]
    }
   ],
   "source": [
    "model.eval()\n",
    "with torch.no_grad():\n",
    "    cluster_total_positive, cluster_total_true, cluster_total_true_positive = 0, 0, 0\n",
    "    for i, batch in enumerate(model.val_dataloader()):\n",
    "            data = batch.to(device)\n",
    "            if 'ci' in model.hparams['regime']:\n",
    "                spatial = model(torch.cat([data.cell_data, data.x], axis=-1))\n",
    "            else:\n",
    "                spatial = model(data.x)\n",
    "            e_spatial = build_edges(spatial, 1.7, 500, res)  \n",
    "            e_bidir = torch.cat([batch.layerless_true_edges.to(device), \n",
    "                                   torch.stack([batch.layerless_true_edges[1], batch.layerless_true_edges[0]], axis=1).T.to(device)], axis=-1) \n",
    "            e_spatial, y_cluster = graph_intersection(e_spatial, e_bidir)\n",
    "            \n",
    "            #Cluster performance\n",
    "            cluster_true = 2*len(batch.layerless_true_edges[0])\n",
    "            cluster_true_positive = y_cluster.sum()\n",
    "            cluster_positive = len(e_spatial[0])\n",
    "            \n",
    "            cluster_total_true_positive += cluster_true_positive\n",
    "            cluster_total_positive += cluster_positive\n",
    "            cluster_total_true += cluster_true\n",
    "            if i % 5 == 0:\n",
    "                print(i, \"validated\")\n",
    "\n",
    "    cluster_eff = (cluster_total_true_positive / max(cluster_total_true, 1))\n",
    "    cluster_pur = (cluster_total_true_positive / max(cluster_total_positive, 1))\n",
    "print(\"Eff:\", cluster_eff, \"Pur:\", cluster_pur)"
   ]
  },
  {
   "cell_type": "markdown",
   "metadata": {
    "hidden": true
   },
   "source": [
    "## Debug Truth"
   ]
  },
  {
   "cell_type": "code",
   "execution_count": 10,
   "metadata": {
    "hidden": true
   },
   "outputs": [],
   "source": [
    "all_events = os.listdir(model.hparams[\"input_dir\"])\n",
    "all_events = sorted([os.path.join(model.hparams[\"input_dir\"], event) for event in all_events])"
   ]
  },
  {
   "cell_type": "code",
   "execution_count": 11,
   "metadata": {
    "hidden": true
   },
   "outputs": [],
   "source": [
    "sample = torch.load(all_events[0], map_location=\"cpu\")"
   ]
  },
  {
   "cell_type": "code",
   "execution_count": 12,
   "metadata": {
    "hidden": true
   },
   "outputs": [
    {
     "data": {
      "text/plain": [
       "Data(cell_data=[103305, 9], event_file=/global/cscratch1/sd/danieltm/ExaTrkX/trackml/train_all/event000001000, hid=[103305], layerless_true_edges=[2, 123429], layers=[103305], pid=[103305], x=[103305, 3])"
      ]
     },
     "execution_count": 12,
     "metadata": {},
     "output_type": "execute_result"
    }
   ],
   "source": [
    "sample"
   ]
  },
  {
   "cell_type": "code",
   "execution_count": 24,
   "metadata": {
    "hidden": true
   },
   "outputs": [],
   "source": [
    "data = sample.to(device)\n",
    "if 'ci' in model.hparams['regime']:\n",
    "    spatial = model(torch.cat([data.cell_data, data.x], axis=-1))\n",
    "else:\n",
    "    spatial = model(data.x)\n",
    "e_spatial = build_edges(spatial, 1.52, 500, res)  \n",
    "e_bidir = torch.cat([sample.layerless_true_edges.to(device), \n",
    "                       torch.stack([sample.layerless_true_edges[1], sample.layerless_true_edges[0]], axis=1).T.to(device)], axis=-1) \n",
    "e_spatial, y_cluster = graph_intersection(e_spatial, e_bidir)\n",
    "\n",
    "#Cluster performance\n",
    "cluster_true = 2*len(sample.layerless_true_edges[0])\n",
    "cluster_true_positive = y_cluster.sum()\n",
    "cluster_positive = len(e_spatial[0])"
   ]
  },
  {
   "cell_type": "code",
   "execution_count": 25,
   "metadata": {
    "hidden": true
   },
   "outputs": [
    {
     "data": {
      "text/plain": [
       "(0.9650892415882816, 0.020561669126978318)"
      ]
     },
     "execution_count": 25,
     "metadata": {},
     "output_type": "execute_result"
    }
   ],
   "source": [
    "cluster_true_positive / cluster_true, cluster_true_positive / cluster_positive"
   ]
  },
  {
   "cell_type": "code",
   "execution_count": 19,
   "metadata": {
    "hidden": true
   },
   "outputs": [
    {
     "data": {
      "text/plain": [
       "torch.Size([2, 123429])"
      ]
     },
     "execution_count": 19,
     "metadata": {},
     "output_type": "execute_result"
    }
   ],
   "source": [
    "sample.layerless_true_edges.shape"
   ]
  },
  {
   "cell_type": "code",
   "execution_count": 22,
   "metadata": {
    "hidden": true
   },
   "outputs": [
    {
     "data": {
      "text/plain": [
       "120241.5"
      ]
     },
     "execution_count": 22,
     "metadata": {},
     "output_type": "execute_result"
    }
   ],
   "source": [
    "y_cluster.sum()/2"
   ]
  },
  {
   "cell_type": "code",
   "execution_count": 16,
   "metadata": {
    "hidden": true,
    "scrolled": true
   },
   "outputs": [
    {
     "name": "stdout",
     "output_type": "stream",
     "text": [
      "0 validated\n",
      "5 validated\n",
      "10 validated\n",
      "15 validated\n",
      "20 validated\n",
      "25 validated\n",
      "30 validated\n",
      "35 validated\n",
      "40 validated\n",
      "45 validated\n",
      "Eff: 0.9750146118157859 Pur: 0.013130086934014518\n"
     ]
    }
   ],
   "source": [
    "model.eval()\n",
    "with torch.no_grad():\n",
    "    cluster_total_positive, cluster_total_true, cluster_total_true_positive = 0, 0, 0\n",
    "    for i, batch in enumerate(model.val_dataloader()):\n",
    "            data = batch.to(device)\n",
    "            if 'ci' in model.hparams['regime']:\n",
    "                spatial = model(torch.cat([data.cell_data, data.x], axis=-1))\n",
    "            else:\n",
    "                spatial = model(data.x)\n",
    "            e_spatial = build_edges(spatial, 1.7, 500, res)  \n",
    "            e_bidir = torch.cat([batch.layerless_true_edges.to(device), \n",
    "                                   torch.stack([batch.layerless_true_edges[1], batch.layerless_true_edges[0]], axis=1).T.to(device)], axis=-1) \n",
    "            e_spatial, y_cluster = graph_intersection(e_spatial, e_bidir)\n",
    "            \n",
    "            #Cluster performance\n",
    "            cluster_true = 2*len(batch.layerless_true_edges[0])\n",
    "            cluster_true_positive = y_cluster.sum()\n",
    "            cluster_positive = len(e_spatial[0])\n",
    "            \n",
    "            cluster_total_true_positive += cluster_true_positive\n",
    "            cluster_total_positive += cluster_positive\n",
    "            cluster_total_true += cluster_true\n",
    "            if i % 5 == 0:\n",
    "                print(i, \"validated\")\n",
    "\n",
    "    cluster_eff = (cluster_total_true_positive / max(cluster_total_true, 1))\n",
    "    cluster_pur = (cluster_total_true_positive / max(cluster_total_positive, 1))\n",
    "print(\"Eff:\", cluster_eff, \"Pur:\", cluster_pur)"
   ]
  },
  {
   "cell_type": "markdown",
   "metadata": {
    "hidden": true
   },
   "source": [
    "## Build Filter Set"
   ]
  },
  {
   "cell_type": "code",
   "execution_count": 21,
   "metadata": {
    "hidden": true
   },
   "outputs": [],
   "source": [
    "import numpy as np\n",
    "from numpy.random import shuffle, choice\n",
    "from time import time as tt\n",
    "import os\n",
    "from torch.utils.data import random_split"
   ]
  },
  {
   "cell_type": "code",
   "execution_count": 9,
   "metadata": {
    "code_folding": [
     5
    ],
    "hidden": true,
    "scrolled": true
   },
   "outputs": [
    {
     "name": "stdout",
     "output_type": "stream",
     "text": [
      "0 already built\n",
      "1 already built\n",
      "2 already built\n",
      "3 already built\n",
      "4 already built\n",
      "5 already built\n",
      "6 already built\n",
      "7 already built\n",
      "8 already built\n",
      "9 already built\n",
      "10 already built\n",
      "11 already built\n",
      "12 already built\n",
      "13 already built\n",
      "14 already built\n",
      "15 already built\n",
      "16 already built\n",
      "17 already built\n",
      "18 already built\n",
      "19 already built\n",
      "20 already built\n",
      "21 already built\n",
      "22 already built\n",
      "23 already built\n",
      "24 already built\n",
      "25 already built\n",
      "26 already built\n",
      "27 already built\n",
      "28 already built\n",
      "29 already built\n",
      "30 already built\n",
      "31 already built\n",
      "32 already built\n",
      "33 already built\n",
      "34 already built\n",
      "35 already built\n",
      "36 already built\n",
      "37 already built\n",
      "38 already built\n",
      "39 already built\n",
      "40 already built\n",
      "41 already built\n",
      "42 already built\n",
      "43 already built\n",
      "44 already built\n",
      "45 already built\n",
      "46 already built\n",
      "47 already built\n",
      "48 already built\n",
      "49 already built\n",
      "50 already built\n",
      "51 already built\n",
      "52 already built\n",
      "53 already built\n",
      "54 already built\n",
      "55 already built\n",
      "56 already built\n",
      "57 already built\n",
      "58 already built\n",
      "59 already built\n",
      "60 already built\n",
      "61 already built\n",
      "62 already built\n",
      "63 already built\n",
      "64 already built\n",
      "65 already built\n",
      "66 already built\n",
      "67 already built\n",
      "68 already built\n",
      "69 already built\n",
      "70 already built\n",
      "71 already built\n",
      "72 already built\n",
      "73 already built\n",
      "74 already built\n",
      "75 already built\n",
      "76 already built\n",
      "77 already built\n",
      "78 already built\n",
      "79 already built\n",
      "80 already built\n",
      "81 already built\n",
      "82 already built\n",
      "83 already built\n",
      "84 already built\n",
      "85 already built\n",
      "86 already built\n",
      "87 already built\n",
      "88 already built\n",
      "89 already built\n",
      "90 already built\n",
      "91 already built\n",
      "92 already built\n",
      "93 already built\n",
      "94 already built\n",
      "95 already built\n",
      "96 already built\n",
      "97 already built\n",
      "98 already built\n",
      "99 already built\n",
      "100 already built\n",
      "101 already built\n",
      "102 already built\n",
      "103 already built\n",
      "104 already built\n",
      "105 already built\n",
      "106 already built\n",
      "107 already built\n",
      "108 already built\n",
      "109 already built\n",
      "110 already built\n",
      "111 already built\n",
      "112 already built\n",
      "113 already built\n",
      "114 already built\n",
      "115 already built\n",
      "116 already built\n",
      "117 already built\n",
      "118 already built\n",
      "119 already built\n",
      "120 already built\n",
      "121 already built\n",
      "122 already built\n",
      "123 already built\n",
      "124 already built\n",
      "125 already built\n",
      "126 already built\n",
      "127 already built\n",
      "128 already built\n",
      "129 already built\n",
      "130 already built\n",
      "131 already built\n",
      "132 already built\n",
      "133 already built\n",
      "134 already built\n",
      "135 already built\n",
      "136 already built\n",
      "137 already built\n",
      "138 already built\n",
      "139 already built\n",
      "140 already built\n",
      "141 already built\n",
      "142 already built\n",
      "143 already built\n",
      "144 already built\n",
      "145 already built\n",
      "146 already built\n",
      "147 already built\n",
      "148 already built\n",
      "149 already built\n",
      "150 already built\n",
      "151 already built\n",
      "152 already built\n",
      "153 already built\n",
      "154 already built\n",
      "155 already built\n",
      "156 already built\n",
      "157 already built\n",
      "158 already built\n",
      "159 already built\n",
      "160 already built\n",
      "161 already built\n",
      "162 already built\n",
      "163 already built\n",
      "164 already built\n",
      "165 already built\n",
      "166 already built\n",
      "167 already built\n",
      "168 already built\n",
      "169 already built\n",
      "170 already built\n",
      "171 already built\n",
      "172 already built\n",
      "173 already built\n",
      "174 already built\n",
      "175 saved in time 19.609458923339844 with efficiency 0.9718126654624939 and purity 0.014860891737043858\n",
      "176 saved in time 8.079134464263916 with efficiency 0.9712509512901306 and purity 0.013983985409140587\n",
      "177 saved in time 4.590465545654297 with efficiency 0.9754307270050049 and purity 0.014424999244511127\n",
      "178 saved in time 6.988777160644531 with efficiency 0.9772685766220093 and purity 0.013498621992766857\n",
      "179 saved in time 6.2446606159210205 with efficiency 0.97397381067276 and purity 0.013039084151387215\n",
      "180 saved in time 3.4943747520446777 with efficiency 0.9743065237998962 and purity 0.013530666939914227\n",
      "183 saved in time 3.093226671218872 with efficiency 0.9742752313613892 and purity 0.013168469071388245\n",
      "184 saved in time 6.086920738220215 with efficiency 0.9771608114242554 and purity 0.01289978064596653\n",
      "185 saved in time 3.6462392807006836 with efficiency 0.9775840044021606 and purity 0.013561778701841831\n",
      "186 saved in time 4.026283025741577 with efficiency 0.9739923477172852 and purity 0.014467374421656132\n",
      "187 saved in time 7.274864912033081 with efficiency 0.9734030961990356 and purity 0.012878838926553726\n",
      "188 saved in time 14.698934316635132 with efficiency 0.9754016399383545 and purity 0.011276479810476303\n",
      "189 saved in time 2.7454264163970947 with efficiency 0.9772472381591797 and purity 0.013937817886471748\n",
      "190 saved in time 2.4512412548065186 with efficiency 0.9768065810203552 and purity 0.014377595856785774\n",
      "191 saved in time 13.65261697769165 with efficiency 0.975134015083313 and purity 0.01078153308480978\n",
      "192 saved in time 4.008490562438965 with efficiency 0.9742957949638367 and purity 0.012637672945857048\n",
      "193 saved in time 3.7308290004730225 with efficiency 0.9761843085289001 and purity 0.012393184937536716\n",
      "194 saved in time 6.618800163269043 with efficiency 0.9759333729743958 and purity 0.01264231838285923\n",
      "195 saved in time 2.9088900089263916 with efficiency 0.9713939428329468 and purity 0.013953254558146\n",
      "196 saved in time 9.906839609146118 with efficiency 0.9763903617858887 and purity 0.012960114516317844\n",
      "197 saved in time 5.465498208999634 with efficiency 0.9759247303009033 and purity 0.013225131668150425\n",
      "198 saved in time 9.90664553642273 with efficiency 0.9691707491874695 and purity 0.011725567281246185\n",
      "199 saved in time 8.378413677215576 with efficiency 0.9744914174079895 and purity 0.012270106002688408\n",
      "200 saved in time 3.9728786945343018 with efficiency 0.9762303233146667 and purity 0.013587933033704758\n",
      "201 saved in time 8.02078890800476 with efficiency 0.974402129650116 and purity 0.012027885764837265\n",
      "202 saved in time 2.7733452320098877 with efficiency 0.9752321839332581 and purity 0.014628603123128414\n",
      "203 saved in time 3.0460751056671143 with efficiency 0.9741442203521729 and purity 0.014027143828570843\n",
      "204 saved in time 5.714386940002441 with efficiency 0.9774306416511536 and purity 0.013543004170060158\n",
      "205 saved in time 6.168207883834839 with efficiency 0.9754588007926941 and purity 0.012659274972975254\n",
      "206 saved in time 8.602808952331543 with efficiency 0.9754568934440613 and purity 0.012979205697774887\n",
      "207 saved in time 13.061161994934082 with efficiency 0.9712737798690796 and purity 0.011456330306828022\n",
      "208 saved in time 3.518829107284546 with efficiency 0.9739155769348145 and purity 0.013114824891090393\n",
      "209 saved in time 3.050868272781372 with efficiency 0.9799420833587646 and purity 0.01853751391172409\n",
      "210 saved in time 4.403079271316528 with efficiency 0.9734674692153931 and purity 0.01203068345785141\n",
      "211 saved in time 2.994108200073242 with efficiency 0.974452555179596 and purity 0.012698420323431492\n",
      "212 saved in time 4.963488578796387 with efficiency 0.9758093953132629 and purity 0.012806130573153496\n",
      "213 saved in time 5.130938529968262 with efficiency 0.9762632846832275 and purity 0.012098247185349464\n",
      "214 saved in time 3.1279900074005127 with efficiency 0.9770476222038269 and purity 0.014127127826213837\n",
      "215 saved in time 3.630894422531128 with efficiency 0.9750105142593384 and purity 0.013565903529524803\n",
      "216 saved in time 5.34363865852356 with efficiency 0.9752146005630493 and purity 0.012086376547813416\n",
      "217 saved in time 5.4342896938323975 with efficiency 0.9778793454170227 and purity 0.015200101770460606\n",
      "218 saved in time 7.584556579589844 with efficiency 0.9705491662025452 and purity 0.013087956234812737\n",
      "219 saved in time 4.9711761474609375 with efficiency 0.9776950478553772 and purity 0.01346862968057394\n",
      "220 saved in time 5.978137254714966 with efficiency 0.9755710363388062 and purity 0.011891867034137249\n",
      "221 saved in time 3.711799383163452 with efficiency 0.9766538739204407 and purity 0.013967892155051231\n",
      "222 saved in time 8.6461021900177 with efficiency 0.9769293069839478 and purity 0.012923221103847027\n",
      "223 saved in time 8.039517402648926 with efficiency 0.9765451550483704 and purity 0.011764260940253735\n",
      "224 saved in time 3.5910651683807373 with efficiency 0.9759081602096558 and purity 0.015412235632538795\n",
      "225 saved in time 8.103836059570312 with efficiency 0.9700000286102295 and purity 0.01206660084426403\n",
      "226 saved in time 4.592527151107788 with efficiency 0.9778208136558533 and purity 0.013716185465455055\n",
      "227 saved in time 9.355055093765259 with efficiency 0.9737561345100403 and purity 0.012152289971709251\n"
     ]
    },
    {
     "name": "stdout",
     "output_type": "stream",
     "text": [
      "228 saved in time 7.577373743057251 with efficiency 0.9734491109848022 and purity 0.0114508755505085\n",
      "229 saved in time 4.85268497467041 with efficiency 0.9778352379798889 and purity 0.013209590688347816\n",
      "230 saved in time 3.0476913452148438 with efficiency 0.9769854545593262 and purity 0.016115104779601097\n",
      "231 saved in time 7.175201654434204 with efficiency 0.9754022359848022 and purity 0.011560174636542797\n",
      "232 saved in time 5.224979639053345 with efficiency 0.9771357178688049 and purity 0.013785049319267273\n",
      "233 saved in time 5.325516223907471 with efficiency 0.9754731059074402 and purity 0.012260735034942627\n",
      "234 saved in time 5.422729015350342 with efficiency 0.977002739906311 and purity 0.013290743343532085\n",
      "235 saved in time 4.603063344955444 with efficiency 0.9712920188903809 and purity 0.013574021868407726\n",
      "236 saved in time 6.792486667633057 with efficiency 0.973650336265564 and purity 0.012095351703464985\n",
      "237 saved in time 3.920006513595581 with efficiency 0.9767962098121643 and purity 0.014381453394889832\n",
      "238 saved in time 9.571607112884521 with efficiency 0.9745509028434753 and purity 0.0123749990016222\n",
      "239 saved in time 6.136793851852417 with efficiency 0.9764781594276428 and purity 0.014565568417310715\n",
      "240 saved in time 8.303566455841064 with efficiency 0.974225640296936 and purity 0.013040450401604176\n",
      "241 saved in time 3.3792030811309814 with efficiency 0.9763009548187256 and purity 0.015005228109657764\n",
      "242 saved in time 9.385803937911987 with efficiency 0.9759473204612732 and purity 0.011460140347480774\n",
      "243 saved in time 4.306371450424194 with efficiency 0.9722534418106079 and purity 0.01300114020705223\n",
      "244 saved in time 4.287419557571411 with efficiency 0.9764165878295898 and purity 0.013863199390470982\n",
      "245 saved in time 11.009872198104858 with efficiency 0.9766319394111633 and purity 0.012346419505774975\n",
      "246 saved in time 3.6702420711517334 with efficiency 0.9766594767570496 and purity 0.014354542829096317\n",
      "247 saved in time 4.244662284851074 with efficiency 0.9768414497375488 and purity 0.01350599154829979\n",
      "248 saved in time 2.902696371078491 with efficiency 0.9738666415214539 and purity 0.016168612986803055\n",
      "249 saved in time 8.229055643081665 with efficiency 0.9774022698402405 and purity 0.01350918784737587\n",
      "250 saved in time 7.462052345275879 with efficiency 0.9745242595672607 and purity 0.01310134306550026\n",
      "251 saved in time 6.762196779251099 with efficiency 0.9717981219291687 and purity 0.011972599662840366\n",
      "252 saved in time 4.976394891738892 with efficiency 0.9760082960128784 and purity 0.013469468802213669\n",
      "253 saved in time 4.622081279754639 with efficiency 0.9745945334434509 and purity 0.013370578177273273\n",
      "254 saved in time 9.899225950241089 with efficiency 0.9770691394805908 and purity 0.01251872070133686\n",
      "255 saved in time 6.10202169418335 with efficiency 0.9757600426673889 and purity 0.01237981766462326\n",
      "256 saved in time 3.3245856761932373 with efficiency 0.9773440361022949 and purity 0.015698792412877083\n",
      "257 saved in time 4.146505355834961 with efficiency 0.9748932123184204 and purity 0.01394956186413765\n",
      "258 saved in time 5.0491416454315186 with efficiency 0.9762094616889954 and purity 0.012761704623699188\n",
      "259 saved in time 4.553962230682373 with efficiency 0.9778303503990173 and purity 0.013215446844696999\n",
      "260 saved in time 7.63983416557312 with efficiency 0.974970281124115 and purity 0.01153266429901123\n",
      "261 saved in time 4.293880224227905 with efficiency 0.9744738340377808 and purity 0.013112588785588741\n",
      "262 saved in time 7.339541673660278 with efficiency 0.9779092073440552 and purity 0.013504991307854652\n",
      "263 saved in time 5.547752141952515 with efficiency 0.9763859510421753 and purity 0.01334308460354805\n",
      "264 saved in time 10.51665449142456 with efficiency 0.9733222126960754 and purity 0.011728617362678051\n",
      "265 saved in time 4.999251127243042 with efficiency 0.9758135080337524 and purity 0.012536385096609592\n",
      "266 saved in time 3.063899517059326 with efficiency 0.9763895273208618 and purity 0.01538267731666565\n",
      "267 saved in time 11.867679119110107 with efficiency 0.9772495627403259 and purity 0.01202557422220707\n",
      "268 saved in time 6.210842132568359 with efficiency 0.9760562181472778 and purity 0.012129957787692547\n",
      "269 saved in time 6.36398720741272 with efficiency 0.9777169823646545 and purity 0.01457776129245758\n",
      "270 saved in time 4.762684106826782 with efficiency 0.9760583639144897 and purity 0.013112843036651611\n",
      "271 saved in time 3.2299208641052246 with efficiency 0.9759092926979065 and purity 0.01602349616587162\n",
      "272 saved in time 7.358719825744629 with efficiency 0.9785035848617554 and purity 0.014111317694187164\n",
      "273 saved in time 4.163309335708618 with efficiency 0.9745628237724304 and purity 0.014936604537069798\n",
      "274 saved in time 6.444567918777466 with efficiency 0.977518618106842 and purity 0.014445848762989044\n",
      "275 saved in time 4.226610898971558 with efficiency 0.9763688445091248 and purity 0.014283678494393826\n",
      "276 saved in time 6.386447906494141 with efficiency 0.9770676493644714 and purity 0.014963583089411259\n",
      "277 saved in time 9.218969106674194 with efficiency 0.9735360145568848 and purity 0.01267384085804224\n",
      "278 saved in time 6.150020122528076 with efficiency 0.9710212349891663 and purity 0.012592829763889313\n",
      "279 saved in time 4.928046226501465 with efficiency 0.9745382070541382 and purity 0.01605517603456974\n",
      "280 saved in time 6.2150373458862305 with efficiency 0.9788278937339783 and purity 0.012228738516569138\n",
      "281 saved in time 4.631671667098999 with efficiency 0.9762282967567444 and purity 0.01343145314604044\n",
      "282 saved in time 2.9990367889404297 with efficiency 0.9767040014266968 and purity 0.01581914909183979\n",
      "283 saved in time 4.814415454864502 with efficiency 0.9733234643936157 and purity 0.01286285649985075\n",
      "284 saved in time 7.5510430335998535 with efficiency 0.9741630554199219 and purity 0.011216799728572369\n",
      "285 saved in time 9.213711500167847 with efficiency 0.9760059118270874 and purity 0.01214013434946537\n",
      "286 saved in time 4.950464248657227 with efficiency 0.9728181958198547 and purity 0.012919907458126545\n",
      "287 saved in time 6.451836347579956 with efficiency 0.9744024872779846 and purity 0.012382250279188156\n",
      "288 saved in time 6.408443212509155 with efficiency 0.9765095114707947 and purity 0.014627785421907902\n",
      "289 saved in time 3.1187736988067627 with efficiency 0.9769017696380615 and purity 0.015552105382084846\n",
      "290 saved in time 7.035552024841309 with efficiency 0.9768557548522949 and purity 0.01383229810744524\n",
      "291 saved in time 8.960043668746948 with efficiency 0.9742239117622375 and purity 0.01129657682031393\n",
      "292 saved in time 4.732547044754028 with efficiency 0.9744951725006104 and purity 0.012911851517856121\n",
      "293 saved in time 4.385699033737183 with efficiency 0.9747899174690247 and purity 0.01341007836163044\n",
      "294 saved in time 4.891589403152466 with efficiency 0.9759997725486755 and purity 0.012644867412745953\n",
      "295 saved in time 4.343390703201294 with efficiency 0.97684246301651 and purity 0.013301944360136986\n",
      "296 saved in time 7.82886815071106 with efficiency 0.975609540939331 and purity 0.012690833769738674\n",
      "297 saved in time 4.5526041984558105 with efficiency 0.9744731187820435 and purity 0.013024398125708103\n",
      "298 saved in time 3.86270809173584 with efficiency 0.9742236733436584 and purity 0.01371461246162653\n",
      "299 saved in time 3.182708501815796 with efficiency 0.9771990776062012 and purity 0.015929214656352997\n",
      "300 saved in time 6.237613201141357 with efficiency 0.9761332869529724 and purity 0.012340736575424671\n",
      "301 saved in time 3.8267388343811035 with efficiency 0.9744025468826294 and purity 0.013738584704697132\n",
      "302 saved in time 4.936654329299927 with efficiency 0.972194492816925 and purity 0.012966020964086056\n",
      "303 saved in time 6.065907716751099 with efficiency 0.975903332233429 and purity 0.011967348866164684\n",
      "304 saved in time 11.124496936798096 with efficiency 0.9753833413124084 and purity 0.011554401367902756\n",
      "305 saved in time 5.985975027084351 with efficiency 0.9756598472595215 and purity 0.01194284949451685\n",
      "306 saved in time 5.5373148918151855 with efficiency 0.9767193794250488 and purity 0.012919546104967594\n",
      "307 saved in time 6.094444751739502 with efficiency 0.9760379791259766 and purity 0.012157254852354527\n"
     ]
    },
    {
     "name": "stdout",
     "output_type": "stream",
     "text": [
      "308 saved in time 4.7257561683654785 with efficiency 0.9759190082550049 and purity 0.012709198519587517\n",
      "309 saved in time 7.496848821640015 with efficiency 0.9778451323509216 and purity 0.014505395665764809\n",
      "310 saved in time 4.935279846191406 with efficiency 0.9765825271606445 and purity 0.013296309858560562\n",
      "311 saved in time 5.466214418411255 with efficiency 0.9752486348152161 and purity 0.012857114896178246\n",
      "312 saved in time 6.127147674560547 with efficiency 0.9753738641738892 and purity 0.012836756184697151\n",
      "313 saved in time 8.701187372207642 with efficiency 0.9747382402420044 and purity 0.011258518323302269\n",
      "314 saved in time 3.5704307556152344 with efficiency 0.9754422903060913 and purity 0.014028764329850674\n",
      "315 saved in time 3.721390724182129 with efficiency 0.979171872138977 and purity 0.015528693795204163\n",
      "316 saved in time 5.823700904846191 with efficiency 0.9773044586181641 and purity 0.014840010553598404\n",
      "317 saved in time 5.697456121444702 with efficiency 0.9760504961013794 and purity 0.013044639490544796\n",
      "318 saved in time 5.489018678665161 with efficiency 0.9745874404907227 and purity 0.014213922433555126\n",
      "319 saved in time 9.597255945205688 with efficiency 0.9704416990280151 and purity 0.01061498373746872\n",
      "320 saved in time 8.084367036819458 with efficiency 0.975297749042511 and purity 0.012536736205220222\n",
      "321 saved in time 5.528783798217773 with efficiency 0.9738824367523193 and purity 0.012246075086295605\n",
      "322 saved in time 8.929492712020874 with efficiency 0.975919246673584 and purity 0.012938164174556732\n",
      "323 saved in time 9.665521621704102 with efficiency 0.9755722880363464 and purity 0.012966451235115528\n",
      "324 saved in time 5.042520999908447 with efficiency 0.9766635894775391 and purity 0.012377528473734856\n",
      "325 saved in time 5.26071310043335 with efficiency 0.974960446357727 and purity 0.012744171544909477\n",
      "326 saved in time 5.769520282745361 with efficiency 0.9780552387237549 and purity 0.013260944746434689\n",
      "327 saved in time 4.270146131515503 with efficiency 0.9734194874763489 and purity 0.013772770762443542\n",
      "328 saved in time 9.023428678512573 with efficiency 0.97525954246521 and purity 0.011632881127297878\n",
      "329 saved in time 4.698460340499878 with efficiency 0.9765150547027588 and purity 0.013274994678795338\n",
      "330 saved in time 9.280406713485718 with efficiency 0.9747774004936218 and purity 0.011986326426267624\n",
      "331 saved in time 3.582002878189087 with efficiency 0.9759140610694885 and purity 0.014638491906225681\n",
      "332 saved in time 3.940479040145874 with efficiency 0.9757956862449646 and purity 0.013769417069852352\n",
      "333 saved in time 9.074243307113647 with efficiency 0.9758145809173584 and purity 0.012307584285736084\n",
      "334 saved in time 6.274753570556641 with efficiency 0.9720350503921509 and purity 0.013278973288834095\n",
      "335 saved in time 9.161997556686401 with efficiency 0.9756028652191162 and purity 0.012837089598178864\n",
      "336 saved in time 9.176818370819092 with efficiency 0.9711405634880066 and purity 0.012295934371650219\n",
      "337 saved in time 6.930519104003906 with efficiency 0.9755189418792725 and purity 0.01166566088795662\n",
      "338 saved in time 4.5949742794036865 with efficiency 0.9765685796737671 and purity 0.017476633191108704\n",
      "339 saved in time 8.017973184585571 with efficiency 0.9743468165397644 and purity 0.011259310878813267\n",
      "340 saved in time 4.080148696899414 with efficiency 0.9704138040542603 and purity 0.013272206299006939\n",
      "341 saved in time 8.495969295501709 with efficiency 0.9708712697029114 and purity 0.012617362663149834\n",
      "342 saved in time 4.111109018325806 with efficiency 0.9749565124511719 and purity 0.013241274282336235\n",
      "343 saved in time 10.051950931549072 with efficiency 0.9740505218505859 and purity 0.011676177382469177\n",
      "344 saved in time 5.111772060394287 with efficiency 0.9786741137504578 and purity 0.015378233045339584\n",
      "345 saved in time 4.321636199951172 with efficiency 0.9772785305976868 and purity 0.014456159435212612\n",
      "346 saved in time 6.0054755210876465 with efficiency 0.9763357639312744 and purity 0.012605939991772175\n",
      "347 saved in time 11.36723256111145 with efficiency 0.9739763736724854 and purity 0.011701881885528564\n",
      "348 saved in time 8.117552518844604 with efficiency 0.9755752086639404 and purity 0.012946780771017075\n",
      "349 saved in time 3.3961517810821533 with efficiency 0.9784260392189026 and purity 0.01492795255035162\n",
      "350 saved in time 6.901332139968872 with efficiency 0.9760864973068237 and purity 0.012226858176290989\n",
      "351 saved in time 7.237975120544434 with efficiency 0.9766646027565002 and purity 0.013802673667669296\n",
      "352 saved in time 4.598120927810669 with efficiency 0.9738636612892151 and purity 0.013239660300314426\n",
      "353 saved in time 4.96341347694397 with efficiency 0.9772247672080994 and purity 0.013091781176626682\n",
      "354 saved in time 11.449039697647095 with efficiency 0.973888635635376 and purity 0.011671419255435467\n",
      "355 saved in time 7.20986270904541 with efficiency 0.9769740104675293 and purity 0.013280217535793781\n",
      "356 saved in time 7.175410270690918 with efficiency 0.9758083820343018 and purity 0.011547406204044819\n",
      "357 saved in time 6.037943124771118 with efficiency 0.9754040837287903 and purity 0.012642014771699905\n",
      "358 saved in time 8.288242816925049 with efficiency 0.9757446050643921 and purity 0.012794584967195988\n",
      "359 saved in time 7.837791681289673 with efficiency 0.9768581390380859 and purity 0.010835237801074982\n",
      "360 saved in time 4.056085586547852 with efficiency 0.9757457971572876 and purity 0.01409395132213831\n",
      "361 saved in time 5.78135871887207 with efficiency 0.9749912023544312 and purity 0.012062565423548222\n",
      "362 saved in time 4.126889944076538 with efficiency 0.9716461896896362 and purity 0.014990601688623428\n",
      "363 saved in time 4.662925481796265 with efficiency 0.977381706237793 and purity 0.013642353937029839\n",
      "364 saved in time 6.982621431350708 with efficiency 0.9759213328361511 and purity 0.012269541621208191\n",
      "365 saved in time 5.302367448806763 with efficiency 0.9730625748634338 and purity 0.01300801895558834\n",
      "366 saved in time 5.170118570327759 with efficiency 0.9718957543373108 and purity 0.012913478538393974\n",
      "367 saved in time 5.207021713256836 with efficiency 0.9756901264190674 and purity 0.012830987572669983\n",
      "368 saved in time 9.980628252029419 with efficiency 0.9755989909172058 and purity 0.012425198219716549\n",
      "369 saved in time 5.954238176345825 with efficiency 0.9758577942848206 and purity 0.011834288015961647\n",
      "370 saved in time 6.064918041229248 with efficiency 0.9729878902435303 and purity 0.014247809536755085\n",
      "371 saved in time 4.637192964553833 with efficiency 0.9767729043960571 and purity 0.013555910438299179\n",
      "372 saved in time 9.93564224243164 with efficiency 0.9743183851242065 and purity 0.011861143633723259\n",
      "373 saved in time 7.602748394012451 with efficiency 0.9747942090034485 and purity 0.011213555932044983\n",
      "374 saved in time 3.817922592163086 with efficiency 0.9734104871749878 and purity 0.014596429653465748\n",
      "375 saved in time 6.919731378555298 with efficiency 0.9739112854003906 and purity 0.011510458774864674\n",
      "376 saved in time 4.884042739868164 with efficiency 0.9741867184638977 and purity 0.01311235036700964\n",
      "377 saved in time 5.436627149581909 with efficiency 0.9772486686706543 and purity 0.01237886119633913\n",
      "378 saved in time 6.584499835968018 with efficiency 0.97784823179245 and purity 0.011732863262295723\n",
      "379 saved in time 5.1159827709198 with efficiency 0.9761455655097961 and purity 0.012643209658563137\n",
      "380 saved in time 5.702014446258545 with efficiency 0.9757351279258728 and purity 0.012669429183006287\n",
      "381 saved in time 6.3712992668151855 with efficiency 0.9744905233383179 and purity 0.012015233747661114\n",
      "382 saved in time 9.17407488822937 with efficiency 0.97395920753479 and purity 0.01240859366953373\n",
      "383 saved in time 6.000842094421387 with efficiency 0.9763557314872742 and purity 0.012873667292296886\n",
      "384 saved in time 7.581117153167725 with efficiency 0.9755249619483948 and purity 0.01158598531037569\n",
      "385 saved in time 4.254289388656616 with efficiency 0.9701867699623108 and purity 0.01352002564817667\n",
      "386 saved in time 5.961963891983032 with efficiency 0.9723527431488037 and purity 0.01291672233492136\n",
      "387 saved in time 4.313497304916382 with efficiency 0.9768297672271729 and purity 0.014250416308641434\n"
     ]
    },
    {
     "name": "stdout",
     "output_type": "stream",
     "text": [
      "388 saved in time 6.119096040725708 with efficiency 0.9711686968803406 and purity 0.011790670454502106\n",
      "389 saved in time 5.32355260848999 with efficiency 0.9706615805625916 and purity 0.012653309851884842\n",
      "390 saved in time 5.6304967403411865 with efficiency 0.9758285880088806 and purity 0.012323803268373013\n",
      "391 saved in time 4.5782551765441895 with efficiency 0.9773653745651245 and purity 0.013238915242254734\n",
      "392 saved in time 2.8875114917755127 with efficiency 0.9747465252876282 and purity 0.015873940661549568\n",
      "393 saved in time 5.168769359588623 with efficiency 0.9748778343200684 and purity 0.013479077257215977\n",
      "394 saved in time 3.623133659362793 with efficiency 0.9709728956222534 and purity 0.01493295282125473\n",
      "395 saved in time 7.162531852722168 with efficiency 0.976101815700531 and purity 0.012013661675155163\n",
      "396 saved in time 5.305725574493408 with efficiency 0.9766198396682739 and purity 0.013144426047801971\n",
      "397 saved in time 4.473874807357788 with efficiency 0.9755510687828064 and purity 0.014348044991493225\n",
      "398 saved in time 6.444389820098877 with efficiency 0.9762758016586304 and purity 0.01264746580272913\n",
      "399 saved in time 7.391890287399292 with efficiency 0.9738807082176208 and purity 0.011427436023950577\n",
      "400 saved in time 6.219035387039185 with efficiency 0.9745116233825684 and purity 0.011946451850235462\n",
      "401 saved in time 6.346921443939209 with efficiency 0.9749990701675415 and purity 0.011728930287063122\n",
      "402 saved in time 7.51200270652771 with efficiency 0.9752073287963867 and purity 0.011987203732132912\n",
      "403 saved in time 6.398585796356201 with efficiency 0.9756688475608826 and purity 0.013156368397176266\n",
      "404 saved in time 4.36505913734436 with efficiency 0.9745627641677856 and purity 0.013220197521150112\n",
      "405 saved in time 5.573299169540405 with efficiency 0.9761295318603516 and purity 0.012852703221142292\n",
      "406 saved in time 3.5648136138916016 with efficiency 0.9759590029716492 and purity 0.014557143673300743\n",
      "407 saved in time 3.56929349899292 with efficiency 0.9782214164733887 and purity 0.014824085868895054\n",
      "408 saved in time 11.538997650146484 with efficiency 0.974257230758667 and purity 0.011767413467168808\n",
      "409 saved in time 6.742166519165039 with efficiency 0.9770604372024536 and purity 0.014046411029994488\n",
      "410 saved in time 5.705920696258545 with efficiency 0.9763951897621155 and purity 0.01215161569416523\n",
      "411 saved in time 9.473235368728638 with efficiency 0.9752013683319092 and purity 0.012319938279688358\n",
      "412 saved in time 4.449492454528809 with efficiency 0.9759153723716736 and purity 0.01312214508652687\n",
      "413 saved in time 7.876263856887817 with efficiency 0.9703428149223328 and purity 0.011459673754870892\n",
      "414 saved in time 7.501157999038696 with efficiency 0.9752580523490906 and purity 0.013009462505578995\n",
      "415 saved in time 7.501568794250488 with efficiency 0.9747218489646912 and purity 0.012006459757685661\n",
      "416 saved in time 5.537230491638184 with efficiency 0.9767192602157593 and purity 0.014678538776934147\n",
      "417 saved in time 5.456069469451904 with efficiency 0.9762877821922302 and purity 0.014067232608795166\n",
      "418 saved in time 6.4284987449646 with efficiency 0.9768453240394592 and purity 0.011831381358206272\n",
      "419 saved in time 4.668551921844482 with efficiency 0.9768146872520447 and purity 0.013324689120054245\n",
      "420 saved in time 4.349578142166138 with efficiency 0.9766917824745178 and purity 0.014944992959499359\n",
      "421 saved in time 3.268275022506714 with efficiency 0.9746713638305664 and purity 0.015245404094457626\n",
      "422 saved in time 6.669066429138184 with efficiency 0.9767934679985046 and purity 0.014312179759144783\n",
      "423 saved in time 6.913502216339111 with efficiency 0.9750860333442688 and purity 0.012861599214375019\n",
      "424 saved in time 6.587032079696655 with efficiency 0.970558762550354 and purity 0.01348903775215149\n",
      "425 saved in time 4.8777031898498535 with efficiency 0.9702622294425964 and purity 0.013081757351756096\n",
      "426 saved in time 4.061240911483765 with efficiency 0.9742207527160645 and purity 0.014103226363658905\n",
      "427 saved in time 7.866512298583984 with efficiency 0.9711486101150513 and purity 0.012280605733394623\n",
      "428 saved in time 3.9909751415252686 with efficiency 0.9766143560409546 and purity 0.014171690680086613\n",
      "429 saved in time 6.047369003295898 with efficiency 0.9744744300842285 and purity 0.012176468968391418\n",
      "430 saved in time 5.3514509201049805 with efficiency 0.9776436686515808 and purity 0.014080829918384552\n",
      "431 saved in time 6.88896369934082 with efficiency 0.9753114581108093 and purity 0.012291560880839825\n",
      "432 saved in time 6.911730527877808 with efficiency 0.9751933813095093 and purity 0.011756181716918945\n",
      "433 saved in time 4.6767942905426025 with efficiency 0.9779500365257263 and purity 0.013679184019565582\n",
      "434 saved in time 6.407586336135864 with efficiency 0.9755968451499939 and purity 0.01299574039876461\n",
      "435 saved in time 8.554222822189331 with efficiency 0.9750723242759705 and purity 0.012086951173841953\n",
      "436 saved in time 6.4028589725494385 with efficiency 0.9720020294189453 and purity 0.01236298680305481\n",
      "437 saved in time 7.818140745162964 with efficiency 0.9766392707824707 and purity 0.013260358944535255\n",
      "438 saved in time 3.641880989074707 with efficiency 0.976621150970459 and purity 0.014389105141162872\n",
      "439 saved in time 4.083616018295288 with efficiency 0.9758949875831604 and purity 0.013639301061630249\n",
      "440 saved in time 6.376568555831909 with efficiency 0.976703405380249 and purity 0.012499937787652016\n",
      "441 saved in time 11.011157751083374 with efficiency 0.9765210151672363 and purity 0.01091039553284645\n",
      "442 saved in time 4.027151346206665 with efficiency 0.9776168465614319 and purity 0.014714713208377361\n",
      "443 saved in time 6.368301153182983 with efficiency 0.9729146957397461 and purity 0.011487005278468132\n",
      "444 saved in time 3.7100443840026855 with efficiency 0.9768930077552795 and purity 0.014051401056349277\n",
      "445 saved in time 6.099389553070068 with efficiency 0.9754348397254944 and purity 0.011895202100276947\n",
      "446 saved in time 4.7096474170684814 with efficiency 0.9768965840339661 and purity 0.013773790560662746\n",
      "447 saved in time 7.263225555419922 with efficiency 0.9766018986701965 and purity 0.011446459218859673\n",
      "448 saved in time 6.416604995727539 with efficiency 0.9740232825279236 and purity 0.011446257121860981\n",
      "449 saved in time 9.142405271530151 with efficiency 0.975262463092804 and purity 0.01220657303929329\n",
      "450 saved in time 5.437256813049316 with efficiency 0.9730556011199951 and purity 0.01208570972084999\n",
      "451 saved in time 3.8405349254608154 with efficiency 0.9727303981781006 and purity 0.014312788844108582\n",
      "452 saved in time 7.132256984710693 with efficiency 0.9706943035125732 and purity 0.011481063440442085\n",
      "453 saved in time 9.153606176376343 with efficiency 0.9763755202293396 and purity 0.012828292325139046\n",
      "454 saved in time 8.947494745254517 with efficiency 0.9757378101348877 and purity 0.012615316547453403\n",
      "455 saved in time 3.688046932220459 with efficiency 0.9765749573707581 and purity 0.014309222809970379\n",
      "456 saved in time 6.911602973937988 with efficiency 0.9739479422569275 and purity 0.012275373563170433\n",
      "457 saved in time 4.983999013900757 with efficiency 0.9757382273674011 and purity 0.012607102282345295\n",
      "458 saved in time 10.48497223854065 with efficiency 0.973193883895874 and purity 0.0118103651329875\n",
      "459 saved in time 5.316188812255859 with efficiency 0.9774428009986877 and purity 0.01557680033147335\n",
      "460 saved in time 4.473222255706787 with efficiency 0.9775707721710205 and purity 0.014066169038414955\n",
      "461 saved in time 3.0612947940826416 with efficiency 0.9750438332557678 and purity 0.01587744988501072\n",
      "462 saved in time 6.514824390411377 with efficiency 0.977328896522522 and purity 0.013663049787282944\n",
      "463 saved in time 9.201326370239258 with efficiency 0.9744606018066406 and purity 0.011554846540093422\n",
      "464 saved in time 3.896376132965088 with efficiency 0.9745055437088013 and purity 0.01476626843214035\n",
      "465 saved in time 6.8440821170806885 with efficiency 0.9773467183113098 and purity 0.011980975978076458\n",
      "466 saved in time 6.758357763290405 with efficiency 0.9728963375091553 and purity 0.011319674551486969\n",
      "467 saved in time 4.027181625366211 with efficiency 0.9766643047332764 and purity 0.015376033261418343\n"
     ]
    },
    {
     "name": "stdout",
     "output_type": "stream",
     "text": [
      "468 saved in time 3.299240827560425 with efficiency 0.9766583442687988 and purity 0.014890764839947224\n",
      "469 saved in time 4.869976043701172 with efficiency 0.9726958870887756 and purity 0.013000458478927612\n",
      "470 saved in time 3.923867702484131 with efficiency 0.9792667031288147 and purity 0.014230718836188316\n",
      "471 saved in time 3.4190239906311035 with efficiency 0.977222740650177 and purity 0.014683919958770275\n",
      "472 saved in time 3.8673324584960938 with efficiency 0.9769026041030884 and purity 0.01491751428693533\n",
      "473 saved in time 5.5350120067596436 with efficiency 0.9700981974601746 and purity 0.013714967295527458\n",
      "474 saved in time 4.583243370056152 with efficiency 0.9755825996398926 and purity 0.013895264826714993\n",
      "475 saved in time 3.416478157043457 with efficiency 0.9768549799919128 and purity 0.015326096676290035\n",
      "476 saved in time 9.589285850524902 with efficiency 0.9739679098129272 and purity 0.011956250295042992\n",
      "477 saved in time 6.104372024536133 with efficiency 0.9751519560813904 and purity 0.012780256569385529\n",
      "478 saved in time 3.721900224685669 with efficiency 0.9776400327682495 and purity 0.017035914584994316\n",
      "479 saved in time 9.531446933746338 with efficiency 0.9717011451721191 and purity 0.011875213123857975\n",
      "480 saved in time 3.6804263591766357 with efficiency 0.9776350259780884 and purity 0.01482379250228405\n",
      "481 saved in time 4.087952375411987 with efficiency 0.9769676923751831 and purity 0.013720237649977207\n",
      "482 saved in time 4.219421625137329 with efficiency 0.9764893651008606 and purity 0.013765622861683369\n",
      "483 saved in time 4.7954206466674805 with efficiency 0.9768968820571899 and purity 0.013550776056945324\n",
      "484 saved in time 4.750323057174683 with efficiency 0.9692617654800415 and purity 0.01300917100161314\n",
      "485 saved in time 3.4985673427581787 with efficiency 0.9772668480873108 and purity 0.014977802522480488\n",
      "486 saved in time 3.9938158988952637 with efficiency 0.9716590046882629 and purity 0.014176205731928349\n",
      "487 saved in time 7.2487053871154785 with efficiency 0.975597620010376 and purity 0.013235346414148808\n",
      "488 saved in time 7.193605184555054 with efficiency 0.9730010628700256 and purity 0.011792188510298729\n",
      "489 saved in time 3.8001279830932617 with efficiency 0.9765946865081787 and purity 0.014062497764825821\n",
      "490 saved in time 4.02628493309021 with efficiency 0.9698488712310791 and purity 0.014454513788223267\n",
      "491 saved in time 3.5097880363464355 with efficiency 0.9784210324287415 and purity 0.015383479185402393\n",
      "492 saved in time 3.4615588188171387 with efficiency 0.9755204916000366 and purity 0.016586685553193092\n",
      "493 saved in time 5.142000436782837 with efficiency 0.9714094400405884 and purity 0.012744859792292118\n",
      "494 saved in time 5.9163596630096436 with efficiency 0.972383439540863 and purity 0.01217852532863617\n",
      "495 saved in time 5.549962520599365 with efficiency 0.9713000059127808 and purity 0.012819969095289707\n",
      "496 saved in time 6.643062114715576 with efficiency 0.9749805927276611 and purity 0.01187907624989748\n",
      "497 saved in time 4.560565233230591 with efficiency 0.9751433730125427 and purity 0.01569696143269539\n",
      "498 saved in time 8.82121467590332 with efficiency 0.9753400087356567 and purity 0.011542042717337608\n",
      "499 saved in time 2.9682366847991943 with efficiency 0.9757391214370728 and purity 0.015661615878343582\n",
      "500 saved in time 8.789048910140991 with efficiency 0.9749688506126404 and purity 0.011226439848542213\n",
      "501 saved in time 4.511739492416382 with efficiency 0.971899688243866 and purity 0.01329243928194046\n",
      "502 saved in time 5.07771897315979 with efficiency 0.9713900685310364 and purity 0.012342841364443302\n",
      "503 saved in time 7.590803146362305 with efficiency 0.9758777618408203 and purity 0.013090531341731548\n",
      "504 saved in time 6.986037254333496 with efficiency 0.9760700464248657 and purity 0.01247041393071413\n",
      "505 saved in time 4.108130931854248 with efficiency 0.9767322540283203 and purity 0.014256334863603115\n",
      "506 saved in time 3.9508121013641357 with efficiency 0.9768661260604858 and purity 0.014404679648578167\n",
      "507 saved in time 7.38636589050293 with efficiency 0.9755403399467468 and purity 0.013205385766923428\n",
      "508 saved in time 4.609619855880737 with efficiency 0.9727399349212646 and purity 0.01316726952791214\n",
      "509 saved in time 7.475279092788696 with efficiency 0.9753237962722778 and purity 0.013788502663373947\n",
      "510 saved in time 6.350845813751221 with efficiency 0.9768086671829224 and purity 0.014666656032204628\n",
      "511 saved in time 6.983073949813843 with efficiency 0.9745678901672363 and purity 0.012302733957767487\n",
      "512 saved in time 3.1886730194091797 with efficiency 0.977936863899231 and purity 0.015665357932448387\n",
      "513 saved in time 5.1968772411346436 with efficiency 0.975841224193573 and purity 0.012977980077266693\n",
      "514 saved in time 5.9530816078186035 with efficiency 0.971653163433075 and purity 0.01194140687584877\n",
      "515 saved in time 5.441150903701782 with efficiency 0.9746062159538269 and purity 0.012307492084801197\n",
      "516 saved in time 3.9706063270568848 with efficiency 0.9765514135360718 and purity 0.014346595853567123\n",
      "517 saved in time 10.638801336288452 with efficiency 0.9720554947853088 and purity 0.01173770148307085\n",
      "518 saved in time 5.371217727661133 with efficiency 0.9776099324226379 and purity 0.01219372171908617\n",
      "519 saved in time 3.6380395889282227 with efficiency 0.9780079126358032 and purity 0.014450758695602417\n",
      "520 saved in time 7.498126029968262 with efficiency 0.9754692912101746 and purity 0.014044217765331268\n",
      "521 saved in time 5.1647789478302 with efficiency 0.9739407300949097 and purity 0.014093977399170399\n",
      "522 saved in time 6.666132211685181 with efficiency 0.9758148789405823 and purity 0.012845922261476517\n",
      "523 saved in time 4.181214809417725 with efficiency 0.9746357202529907 and purity 0.014237236231565475\n",
      "524 saved in time 3.594390392303467 with efficiency 0.9758289456367493 and purity 0.014287274330854416\n",
      "525 saved in time 3.4564261436462402 with efficiency 0.9770323634147644 and purity 0.014968281611800194\n",
      "526 saved in time 4.510090351104736 with efficiency 0.9787662625312805 and purity 0.013619973324239254\n",
      "527 saved in time 5.7196385860443115 with efficiency 0.9770534634590149 and purity 0.012767876498401165\n",
      "528 saved in time 3.6597421169281006 with efficiency 0.9755574464797974 and purity 0.015042316168546677\n",
      "529 saved in time 9.355096340179443 with efficiency 0.9726739525794983 and purity 0.012384421192109585\n",
      "530 saved in time 4.414212465286255 with efficiency 0.9764738082885742 and purity 0.01330606173723936\n",
      "531 saved in time 6.241084098815918 with efficiency 0.9767250418663025 and purity 0.012880460359156132\n",
      "532 saved in time 9.06083345413208 with efficiency 0.9744651317596436 and purity 0.012943089939653873\n",
      "533 saved in time 7.097124338150024 with efficiency 0.9765196442604065 and purity 0.01203326229006052\n",
      "534 saved in time 5.138985872268677 with efficiency 0.9755455851554871 and purity 0.012471414171159267\n",
      "535 saved in time 4.460273265838623 with efficiency 0.9726853370666504 and purity 0.01304733008146286\n",
      "536 saved in time 3.6441519260406494 with efficiency 0.9737392067909241 and purity 0.013883051462471485\n",
      "537 saved in time 7.6346776485443115 with efficiency 0.9755098223686218 and purity 0.011851242743432522\n",
      "538 saved in time 3.9371120929718018 with efficiency 0.9751209616661072 and purity 0.014544395729899406\n",
      "539 saved in time 3.3984971046447754 with efficiency 0.9738268852233887 and purity 0.014953536912798882\n",
      "540 saved in time 4.612834215164185 with efficiency 0.9746222496032715 and purity 0.01364166010171175\n",
      "541 saved in time 7.824034929275513 with efficiency 0.9748552441596985 and purity 0.013805883005261421\n",
      "542 saved in time 3.8702127933502197 with efficiency 0.9769128561019897 and purity 0.01403998862951994\n",
      "543 saved in time 11.769762754440308 with efficiency 0.9744255542755127 and purity 0.011578444391489029\n",
      "544 saved in time 4.058601379394531 with efficiency 0.9728262424468994 and purity 0.013638191856443882\n",
      "545 saved in time 3.2845444679260254 with efficiency 0.9782789349555969 and purity 0.01572464592754841\n",
      "546 saved in time 3.6340925693511963 with efficiency 0.9759668111801147 and purity 0.014680263586342335\n",
      "547 saved in time 8.317827701568604 with efficiency 0.9760549068450928 and purity 0.01272439956665039\n"
     ]
    },
    {
     "name": "stdout",
     "output_type": "stream",
     "text": [
      "548 saved in time 3.9462060928344727 with efficiency 0.9759878516197205 and purity 0.014099648222327232\n",
      "549 saved in time 7.66972541809082 with efficiency 0.970918595790863 and purity 0.011449471116065979\n",
      "550 saved in time 5.551919937133789 with efficiency 0.9709728956222534 and purity 0.012359976768493652\n",
      "551 saved in time 5.439236879348755 with efficiency 0.9761096239089966 and purity 0.01394704170525074\n",
      "552 saved in time 5.1783435344696045 with efficiency 0.9725041389465332 and purity 0.013024965301156044\n",
      "553 saved in time 6.696347236633301 with efficiency 0.9731869697570801 and purity 0.013756928965449333\n",
      "554 saved in time 5.386262893676758 with efficiency 0.9760524034500122 and purity 0.01312621682882309\n",
      "555 saved in time 6.1654298305511475 with efficiency 0.9769564270973206 and purity 0.012724032625555992\n",
      "556 saved in time 9.440470218658447 with efficiency 0.9765316843986511 and purity 0.012797151692211628\n",
      "557 saved in time 6.764110803604126 with efficiency 0.9785719513893127 and purity 0.014250176027417183\n",
      "558 saved in time 6.047463893890381 with efficiency 0.9753921627998352 and purity 0.014575558714568615\n",
      "559 saved in time 4.9137022495269775 with efficiency 0.9757798910140991 and purity 0.013376946561038494\n",
      "560 saved in time 4.39642333984375 with efficiency 0.979930579662323 and purity 0.015084924176335335\n",
      "561 saved in time 4.702513217926025 with efficiency 0.9787566661834717 and purity 0.013908430933952332\n",
      "562 saved in time 3.6240437030792236 with efficiency 0.9767522811889648 and purity 0.01490869466215372\n",
      "563 saved in time 9.029611587524414 with efficiency 0.9762236475944519 and purity 0.01122360210865736\n",
      "564 saved in time 4.916348218917847 with efficiency 0.974418580532074 and purity 0.012379979714751244\n",
      "565 saved in time 6.5042994022369385 with efficiency 0.9767827987670898 and purity 0.01309464406222105\n",
      "566 saved in time 4.147264003753662 with efficiency 0.9781731963157654 and purity 0.013990296982228756\n",
      "567 saved in time 6.661783695220947 with efficiency 0.9782940149307251 and purity 0.013529307208955288\n",
      "568 saved in time 6.4878740310668945 with efficiency 0.9767499566078186 and purity 0.013978984206914902\n",
      "569 saved in time 6.767876148223877 with efficiency 0.9775430560112 and purity 0.012379536405205727\n",
      "570 saved in time 6.572449684143066 with efficiency 0.9748921394348145 and purity 0.012069637887179852\n",
      "571 saved in time 5.023350477218628 with efficiency 0.977567732334137 and purity 0.012449068948626518\n",
      "572 saved in time 3.3693525791168213 with efficiency 0.9768590927124023 and purity 0.01568751037120819\n",
      "573 saved in time 8.460747241973877 with efficiency 0.9762494564056396 and purity 0.010691401548683643\n",
      "574 saved in time 4.49892520904541 with efficiency 0.9713262319564819 and purity 0.012580176815390587\n",
      "575 saved in time 7.01366400718689 with efficiency 0.9712727069854736 and purity 0.013219943270087242\n",
      "576 saved in time 5.750633955001831 with efficiency 0.9762466549873352 and purity 0.013171643950045109\n",
      "577 saved in time 4.732738256454468 with efficiency 0.9748193025588989 and purity 0.012709096074104309\n",
      "578 saved in time 3.7346858978271484 with efficiency 0.9785714149475098 and purity 0.013872679322957993\n",
      "579 saved in time 7.001590013504028 with efficiency 0.9768161773681641 and purity 0.013378322124481201\n",
      "580 saved in time 5.130164384841919 with efficiency 0.9754030108451843 and purity 0.013088759034872055\n",
      "581 saved in time 9.912429332733154 with efficiency 0.9752759337425232 and purity 0.012324941344559193\n",
      "582 saved in time 7.1974897384643555 with efficiency 0.9763379096984863 and purity 0.013433015905320644\n",
      "583 saved in time 2.936086893081665 with efficiency 0.9705967903137207 and purity 0.014943481422960758\n",
      "584 saved in time 5.914716005325317 with efficiency 0.9744387865066528 and purity 0.01229487732052803\n",
      "585 saved in time 3.373647689819336 with efficiency 0.974419116973877 and purity 0.015126177109777927\n",
      "586 saved in time 3.615971088409424 with efficiency 0.9772963523864746 and purity 0.01391743216663599\n",
      "587 saved in time 5.04718279838562 with efficiency 0.9755561947822571 and purity 0.013692020438611507\n",
      "588 saved in time 7.01409387588501 with efficiency 0.9774660468101501 and purity 0.011435153894126415\n",
      "589 saved in time 2.278088092803955 with efficiency 0.9714321494102478 and purity 0.018451979383826256\n",
      "590 saved in time 4.957729816436768 with efficiency 0.9702566266059875 and purity 0.012837528251111507\n",
      "591 saved in time 5.13988184928894 with efficiency 0.9783601760864258 and purity 0.012228847481310368\n",
      "592 saved in time 6.871951580047607 with efficiency 0.9747328758239746 and purity 0.013393722474575043\n",
      "593 saved in time 4.450275659561157 with efficiency 0.9760088324546814 and purity 0.01400480791926384\n",
      "594 saved in time 5.301996469497681 with efficiency 0.9788671135902405 and purity 0.012799035757780075\n",
      "595 saved in time 4.908246278762817 with efficiency 0.9742593765258789 and purity 0.012164024636149406\n",
      "596 saved in time 4.589020490646362 with efficiency 0.9758127927780151 and purity 0.012976305559277534\n",
      "597 saved in time 3.8642194271087646 with efficiency 0.9720051288604736 and purity 0.014708846807479858\n",
      "598 saved in time 4.01507830619812 with efficiency 0.9769011735916138 and purity 0.013757459819316864\n",
      "599 saved in time 7.527828931808472 with efficiency 0.9747515320777893 and purity 0.013647971674799919\n",
      "600 saved in time 8.579901933670044 with efficiency 0.9760069251060486 and purity 0.012254465371370316\n",
      "601 saved in time 3.943253993988037 with efficiency 0.9769789576530457 and purity 0.01361200213432312\n",
      "602 saved in time 5.146328926086426 with efficiency 0.9768252968788147 and purity 0.014648850075900555\n",
      "603 saved in time 7.6624064445495605 with efficiency 0.9748497605323792 and purity 0.012713173404335976\n",
      "604 saved in time 4.910681486129761 with efficiency 0.9769967794418335 and purity 0.012718388810753822\n",
      "605 saved in time 6.117830753326416 with efficiency 0.975191593170166 and purity 0.014187428168952465\n",
      "606 saved in time 3.5507001876831055 with efficiency 0.9773212671279907 and purity 0.014185532927513123\n",
      "607 saved in time 9.941342830657959 with efficiency 0.9734385013580322 and purity 0.012031810358166695\n",
      "608 saved in time 4.163989543914795 with efficiency 0.9746536016464233 and purity 0.012926723808050156\n",
      "609 saved in time 4.3829967975616455 with efficiency 0.9753285050392151 and purity 0.012960804626345634\n",
      "610 saved in time 4.49491286277771 with efficiency 0.9759784936904907 and purity 0.01296809408813715\n",
      "611 saved in time 4.996698379516602 with efficiency 0.9761966466903687 and purity 0.013047863729298115\n",
      "612 saved in time 5.4742443561553955 with efficiency 0.9776254296302795 and purity 0.01323600672185421\n",
      "613 saved in time 3.4480628967285156 with efficiency 0.9769935607910156 and purity 0.014615737833082676\n",
      "614 saved in time 4.047886848449707 with efficiency 0.9751291871070862 and purity 0.013705456629395485\n",
      "615 saved in time 5.388992071151733 with efficiency 0.9712344408035278 and purity 0.013683773577213287\n",
      "616 saved in time 4.879185914993286 with efficiency 0.9759458899497986 and purity 0.01324679609388113\n",
      "617 saved in time 6.710093259811401 with efficiency 0.9767957329750061 and purity 0.013930759392678738\n",
      "618 saved in time 4.535111904144287 with efficiency 0.9745422601699829 and purity 0.016018187627196312\n",
      "619 saved in time 4.319720268249512 with efficiency 0.9733595252037048 and purity 0.01398186944425106\n",
      "620 saved in time 4.060612440109253 with efficiency 0.9760650396347046 and purity 0.013070776127278805\n",
      "621 saved in time 4.927592754364014 with efficiency 0.9745984077453613 and purity 0.012522832490503788\n",
      "622 saved in time 3.3802030086517334 with efficiency 0.9775872826576233 and purity 0.01490706019103527\n",
      "623 saved in time 6.633272171020508 with efficiency 0.9737440943717957 and purity 0.01153890136629343\n",
      "624 saved in time 4.277264356613159 with efficiency 0.9759799242019653 and purity 0.013303577899932861\n",
      "625 saved in time 6.27484393119812 with efficiency 0.9745064973831177 and purity 0.01150541938841343\n",
      "626 saved in time 4.062486410140991 with efficiency 0.9745562076568604 and purity 0.013024810701608658\n",
      "627 saved in time 5.589580297470093 with efficiency 0.9715952277183533 and purity 0.012123443186283112\n"
     ]
    },
    {
     "name": "stdout",
     "output_type": "stream",
     "text": [
      "628 saved in time 4.134125709533691 with efficiency 0.9767816066741943 and purity 0.013175752013921738\n",
      "629 saved in time 3.2027738094329834 with efficiency 0.976128876209259 and purity 0.015981217846274376\n",
      "630 saved in time 2.638453245162964 with efficiency 0.9798627495765686 and purity 0.016364291310310364\n",
      "631 saved in time 3.62778639793396 with efficiency 0.9728982448577881 and purity 0.014694999903440475\n",
      "632 saved in time 5.723304748535156 with efficiency 0.9709454774856567 and purity 0.013236130587756634\n",
      "633 saved in time 4.583170175552368 with efficiency 0.9769526124000549 and purity 0.012989972718060017\n",
      "634 saved in time 3.743157148361206 with efficiency 0.9693625569343567 and purity 0.013614049181342125\n",
      "635 saved in time 6.693454027175903 with efficiency 0.9707096219062805 and purity 0.013377239927649498\n",
      "636 saved in time 4.117932319641113 with efficiency 0.9751002192497253 and purity 0.013564390130341053\n",
      "637 saved in time 7.7734034061431885 with efficiency 0.9698284864425659 and purity 0.012406671419739723\n",
      "638 saved in time 6.456763029098511 with efficiency 0.9770455956459045 and purity 0.013544373214244843\n",
      "639 saved in time 3.65153431892395 with efficiency 0.9720097780227661 and purity 0.013867758214473724\n",
      "640 saved in time 4.878754138946533 with efficiency 0.9779430031776428 and purity 0.013019334524869919\n",
      "641 saved in time 3.335153579711914 with efficiency 0.9770766496658325 and purity 0.014485686086118221\n",
      "642 saved in time 4.3477783203125 with efficiency 0.976397693157196 and purity 0.013674902729690075\n",
      "643 saved in time 8.690861225128174 with efficiency 0.9754282236099243 and purity 0.011303885839879513\n",
      "644 saved in time 7.666208505630493 with efficiency 0.9758580923080444 and purity 0.01240877341479063\n",
      "645 saved in time 3.497509717941284 with efficiency 0.9749500751495361 and purity 0.014261378906667233\n",
      "646 saved in time 8.405730962753296 with efficiency 0.9718960523605347 and purity 0.012856392189860344\n",
      "647 saved in time 4.206743240356445 with efficiency 0.971386194229126 and purity 0.012911333702504635\n",
      "648 saved in time 3.645948648452759 with efficiency 0.9747748374938965 and purity 0.013793300837278366\n",
      "649 saved in time 5.556864500045776 with efficiency 0.9756544232368469 and purity 0.012476817704737186\n",
      "650 saved in time 3.3383264541625977 with efficiency 0.9748703241348267 and purity 0.014552625827491283\n",
      "651 saved in time 4.04493522644043 with efficiency 0.9761422276496887 and purity 0.013860383071005344\n",
      "652 saved in time 4.743428707122803 with efficiency 0.9756923317909241 and purity 0.013150742277503014\n",
      "653 saved in time 4.7629783153533936 with efficiency 0.9756041765213013 and purity 0.013957041315734386\n",
      "654 saved in time 5.896132707595825 with efficiency 0.9722561836242676 and purity 0.012088226154446602\n",
      "655 saved in time 4.322072982788086 with efficiency 0.9780948162078857 and purity 0.013765392825007439\n",
      "656 saved in time 3.6133391857147217 with efficiency 0.9748700261116028 and purity 0.014457951299846172\n",
      "657 saved in time 8.7112877368927 with efficiency 0.9707884192466736 and purity 0.011463251896202564\n",
      "658 saved in time 4.657840013504028 with efficiency 0.975952684879303 and purity 0.012404656037688255\n",
      "659 saved in time 5.2697813510894775 with efficiency 0.9747840166091919 and purity 0.01362457126379013\n",
      "660 saved in time 6.6839118003845215 with efficiency 0.976130485534668 and purity 0.01141663733869791\n",
      "661 saved in time 4.367450714111328 with efficiency 0.9721807241439819 and purity 0.014152328483760357\n",
      "662 saved in time 5.7199554443359375 with efficiency 0.9724327921867371 and purity 0.011893472634255886\n",
      "663 saved in time 5.206358909606934 with efficiency 0.976925253868103 and purity 0.012969200499355793\n",
      "664 saved in time 2.9204089641571045 with efficiency 0.9763264060020447 and purity 0.015007632784545422\n",
      "665 saved in time 9.092892169952393 with efficiency 0.9741569757461548 and purity 0.011820736341178417\n",
      "666 saved in time 5.0955810546875 with efficiency 0.9768514633178711 and purity 0.01249148603528738\n",
      "667 saved in time 8.399108409881592 with efficiency 0.9724398255348206 and purity 0.010646337643265724\n",
      "668 saved in time 4.550092458724976 with efficiency 0.9765886664390564 and purity 0.01250366773456335\n",
      "669 saved in time 4.4456398487091064 with efficiency 0.9757832884788513 and purity 0.012895526364445686\n",
      "670 saved in time 8.062270164489746 with efficiency 0.9723730683326721 and purity 0.01232604868710041\n",
      "671 saved in time 4.280941486358643 with efficiency 0.9756348133087158 and purity 0.013422725722193718\n",
      "672 saved in time 5.72807502746582 with efficiency 0.9742794632911682 and purity 0.011439219117164612\n",
      "673 saved in time 8.34045696258545 with efficiency 0.9754502177238464 and purity 0.011264391243457794\n",
      "674 saved in time 4.640997648239136 with efficiency 0.9737409949302673 and purity 0.012547111138701439\n",
      "675 saved in time 10.409279823303223 with efficiency 0.9756835103034973 and purity 0.011755899526178837\n",
      "676 saved in time 3.1755781173706055 with efficiency 0.9750552177429199 and purity 0.014351530000567436\n",
      "677 saved in time 4.2510364055633545 with efficiency 0.973145067691803 and purity 0.012512030079960823\n",
      "678 saved in time 5.885484218597412 with efficiency 0.9755952954292297 and purity 0.011843637563288212\n",
      "679 saved in time 7.605145692825317 with efficiency 0.9739194512367249 and purity 0.012194466777145863\n",
      "680 saved in time 3.603945732116699 with efficiency 0.9753562808036804 and purity 0.013930656015872955\n",
      "681 saved in time 7.1439573764801025 with efficiency 0.9749161005020142 and purity 0.012688154354691505\n",
      "682 saved in time 8.34365439414978 with efficiency 0.9757662415504456 and purity 0.012412178330123425\n",
      "683 saved in time 4.128282070159912 with efficiency 0.975752592086792 and purity 0.013281947001814842\n",
      "684 saved in time 4.568242311477661 with efficiency 0.9759817719459534 and purity 0.013106425292789936\n",
      "685 saved in time 4.154247522354126 with efficiency 0.9766974449157715 and purity 0.013837961480021477\n",
      "686 saved in time 3.4263744354248047 with efficiency 0.9756774306297302 and purity 0.015438422560691833\n",
      "687 saved in time 9.648289203643799 with efficiency 0.9751036167144775 and purity 0.011397894471883774\n",
      "688 saved in time 5.5862038135528564 with efficiency 0.9772250056266785 and purity 0.012753456830978394\n",
      "689 saved in time 4.564206838607788 with efficiency 0.9758482575416565 and purity 0.012351496145129204\n",
      "690 saved in time 3.880876302719116 with efficiency 0.9766064286231995 and purity 0.01314996276050806\n",
      "691 saved in time 4.83244252204895 with efficiency 0.9731040596961975 and purity 0.015627143904566765\n",
      "692 saved in time 3.785529375076294 with efficiency 0.9781046509742737 and purity 0.0144691476598382\n",
      "693 saved in time 4.072545289993286 with efficiency 0.9786304831504822 and purity 0.016451556235551834\n",
      "694 saved in time 3.9419939517974854 with efficiency 0.975078821182251 and purity 0.014244494959712029\n",
      "695 saved in time 5.375958204269409 with efficiency 0.9717295169830322 and purity 0.012932466343045235\n",
      "696 saved in time 5.804481029510498 with efficiency 0.971030592918396 and purity 0.012016342021524906\n",
      "697 saved in time 4.3556623458862305 with efficiency 0.9767755270004272 and purity 0.013652811758220196\n",
      "698 saved in time 4.9063568115234375 with efficiency 0.9748502969741821 and purity 0.01251190435141325\n",
      "699 saved in time 3.3125617504119873 with efficiency 0.9770339131355286 and purity 0.014416251331567764\n",
      "700 saved in time 6.539473295211792 with efficiency 0.974711000919342 and purity 0.014133666642010212\n",
      "701 saved in time 5.967334747314453 with efficiency 0.971907377243042 and purity 0.012446044944226742\n",
      "702 saved in time 3.148298978805542 with efficiency 0.9759243130683899 and purity 0.015584263019263744\n",
      "703 saved in time 3.844139337539673 with efficiency 0.971851110458374 and purity 0.013221513479948044\n",
      "704 saved in time 6.163223028182983 with efficiency 0.9761431217193604 and purity 0.0136050870642066\n",
      "705 saved in time 3.979308605194092 with efficiency 0.9759366512298584 and purity 0.013965697959065437\n",
      "706 saved in time 3.705165147781372 with efficiency 0.9760453701019287 and purity 0.014146022498607635\n",
      "707 saved in time 5.247704744338989 with efficiency 0.9716581702232361 and purity 0.01258508488535881\n"
     ]
    },
    {
     "name": "stdout",
     "output_type": "stream",
     "text": [
      "708 saved in time 8.159034013748169 with efficiency 0.9752033352851868 and purity 0.012690642848610878\n",
      "709 saved in time 7.352030515670776 with efficiency 0.9707821011543274 and purity 0.011364519596099854\n",
      "710 saved in time 5.098478555679321 with efficiency 0.9781163930892944 and purity 0.01270937081426382\n",
      "711 saved in time 6.8767313957214355 with efficiency 0.974664032459259 and purity 0.011477028951048851\n",
      "712 saved in time 3.291045665740967 with efficiency 0.9730522632598877 and purity 0.014075011014938354\n",
      "713 saved in time 4.301570415496826 with efficiency 0.9763053059577942 and purity 0.013419702649116516\n",
      "714 saved in time 5.27614688873291 with efficiency 0.9752607941627502 and purity 0.012635168619453907\n",
      "715 saved in time 6.855776786804199 with efficiency 0.9765353202819824 and purity 0.012775050476193428\n",
      "716 saved in time 3.803161144256592 with efficiency 0.9769737720489502 and purity 0.014016248285770416\n",
      "717 saved in time 6.556797027587891 with efficiency 0.9721676111221313 and purity 0.01369596365839243\n",
      "718 saved in time 3.9744362831115723 with efficiency 0.9765681624412537 and purity 0.01408309955149889\n",
      "719 saved in time 6.3260557651519775 with efficiency 0.9748072028160095 and purity 0.01173580065369606\n",
      "720 saved in time 3.26023268699646 with efficiency 0.9755334258079529 and purity 0.014332068152725697\n",
      "721 saved in time 3.682048797607422 with efficiency 0.9765418767929077 and purity 0.014335951767861843\n",
      "722 saved in time 8.514943599700928 with efficiency 0.9767932891845703 and purity 0.012167075648903847\n",
      "723 saved in time 6.5915000438690186 with efficiency 0.9735612273216248 and purity 0.01166698057204485\n",
      "724 saved in time 6.076308727264404 with efficiency 0.9764392375946045 and purity 0.014213774353265762\n",
      "725 saved in time 2.6450798511505127 with efficiency 0.974415123462677 and purity 0.015490741468966007\n",
      "726 saved in time 8.53574252128601 with efficiency 0.9752653241157532 and purity 0.01119875069707632\n",
      "727 saved in time 4.130324840545654 with efficiency 0.9748777747154236 and purity 0.01354114431887865\n",
      "728 saved in time 4.415896654129028 with efficiency 0.9738259315490723 and purity 0.012926850467920303\n",
      "729 saved in time 5.110044002532959 with efficiency 0.9779813885688782 and purity 0.0129131143912673\n",
      "730 saved in time 6.171297073364258 with efficiency 0.9767356514930725 and purity 0.012143958359956741\n",
      "731 saved in time 8.421696662902832 with efficiency 0.9753406643867493 and purity 0.012557419948279858\n",
      "732 saved in time 5.240524053573608 with efficiency 0.9765975475311279 and purity 0.013002078980207443\n",
      "733 saved in time 3.503868341445923 with efficiency 0.9759190678596497 and purity 0.015231669880449772\n",
      "734 saved in time 5.953915596008301 with efficiency 0.9760444164276123 and purity 0.014780335128307343\n",
      "735 saved in time 4.642706871032715 with efficiency 0.97567218542099 and purity 0.013108094222843647\n",
      "736 saved in time 4.050185441970825 with efficiency 0.9760323762893677 and purity 0.013884778134524822\n",
      "737 saved in time 4.482780933380127 with efficiency 0.9745948910713196 and purity 0.013614065945148468\n",
      "738 saved in time 4.922430515289307 with efficiency 0.9771572947502136 and purity 0.013754356652498245\n",
      "739 saved in time 5.144458293914795 with efficiency 0.9773046970367432 and purity 0.013055961579084396\n",
      "740 saved in time 4.026814699172974 with efficiency 0.9733532071113586 and purity 0.014360354281961918\n",
      "741 saved in time 3.399435043334961 with efficiency 0.976051926612854 and purity 0.015843726694583893\n",
      "742 saved in time 5.942014932632446 with efficiency 0.9752612113952637 and purity 0.013545499183237553\n",
      "743 saved in time 7.5692760944366455 with efficiency 0.9771850109100342 and purity 0.012088081799447536\n",
      "744 saved in time 10.710277795791626 with efficiency 0.9758995771408081 and purity 0.012532690539956093\n",
      "745 saved in time 7.668519496917725 with efficiency 0.975477397441864 and purity 0.011941349133849144\n",
      "746 saved in time 4.799651622772217 with efficiency 0.9749414324760437 and purity 0.012427732348442078\n",
      "747 saved in time 3.3447868824005127 with efficiency 0.9772102236747742 and purity 0.014959236606955528\n",
      "748 saved in time 5.578559398651123 with efficiency 0.9771910905838013 and purity 0.01154980156570673\n",
      "749 saved in time 9.371431350708008 with efficiency 0.9749337434768677 and purity 0.01194695383310318\n",
      "750 saved in time 3.47243070602417 with efficiency 0.9766978621482849 and purity 0.013693783432245255\n",
      "751 saved in time 4.466423034667969 with efficiency 0.9744319319725037 and purity 0.012989060021936893\n",
      "752 saved in time 5.941025257110596 with efficiency 0.9753022789955139 and purity 0.012254282832145691\n",
      "753 saved in time 3.154102087020874 with efficiency 0.977384626865387 and purity 0.014714056625962257\n",
      "754 saved in time 3.844844341278076 with efficiency 0.9769517183303833 and purity 0.014318352565169334\n",
      "755 saved in time 7.1339499950408936 with efficiency 0.9767496585845947 and purity 0.012294258922338486\n",
      "756 saved in time 3.390744924545288 with efficiency 0.976449728012085 and purity 0.015032544732093811\n",
      "757 saved in time 3.5322725772857666 with efficiency 0.975293755531311 and purity 0.014840163290500641\n",
      "758 saved in time 4.212925672531128 with efficiency 0.9755789637565613 and purity 0.013237902894616127\n",
      "759 saved in time 6.282460689544678 with efficiency 0.9712851047515869 and purity 0.012077592313289642\n",
      "760 saved in time 5.847278833389282 with efficiency 0.9721972346305847 and purity 0.0132760563865304\n",
      "761 saved in time 7.9937989711761475 with efficiency 0.9762341380119324 and purity 0.012355487793684006\n",
      "762 saved in time 3.6794168949127197 with efficiency 0.9769001603126526 and purity 0.013824786990880966\n",
      "763 saved in time 5.382574558258057 with efficiency 0.9766880869865417 and purity 0.01278896164149046\n",
      "764 saved in time 6.76245379447937 with efficiency 0.9746766090393066 and purity 0.011778238229453564\n",
      "765 saved in time 5.119175434112549 with efficiency 0.9768899083137512 and purity 0.01251224149018526\n",
      "766 saved in time 3.0226104259490967 with efficiency 0.9773846864700317 and purity 0.015430373139679432\n",
      "767 saved in time 6.354370594024658 with efficiency 0.9765067100524902 and purity 0.012035124935209751\n",
      "768 saved in time 10.140720129013062 with efficiency 0.9710442423820496 and purity 0.011974452994763851\n",
      "769 saved in time 4.947036981582642 with efficiency 0.975982129573822 and purity 0.013466957025229931\n",
      "770 saved in time 4.115732192993164 with efficiency 0.9790922999382019 and purity 0.016946302726864815\n",
      "771 saved in time 2.9632468223571777 with efficiency 0.9730190634727478 and purity 0.014941801317036152\n",
      "772 saved in time 5.168937921524048 with efficiency 0.9754262566566467 and purity 0.012865522876381874\n",
      "773 saved in time 2.6695756912231445 with efficiency 0.9759155511856079 and purity 0.01599465310573578\n",
      "774 saved in time 4.37407374382019 with efficiency 0.9769630432128906 and purity 0.014233778230845928\n",
      "775 saved in time 9.989354372024536 with efficiency 0.9715650081634521 and purity 0.011162173002958298\n",
      "776 saved in time 3.1200828552246094 with efficiency 0.9781416654586792 and purity 0.015022086910903454\n",
      "777 saved in time 6.769373178482056 with efficiency 0.9742177128791809 and purity 0.01262099388986826\n",
      "778 saved in time 3.5921549797058105 with efficiency 0.9752721786499023 and purity 0.014087444171309471\n",
      "779 saved in time 6.149840831756592 with efficiency 0.9753983020782471 and purity 0.011758536100387573\n",
      "780 saved in time 3.070566177368164 with efficiency 0.9782105088233948 and purity 0.01494821161031723\n",
      "781 saved in time 5.790915012359619 with efficiency 0.9770364165306091 and purity 0.014269096776843071\n",
      "782 saved in time 5.473585844039917 with efficiency 0.9744857549667358 and purity 0.01214772928506136\n",
      "783 saved in time 7.5408241748809814 with efficiency 0.97393399477005 and purity 0.011206223629415035\n",
      "784 saved in time 10.312906980514526 with efficiency 0.9711642861366272 and purity 0.012145779095590115\n",
      "785 saved in time 5.147814035415649 with efficiency 0.9748778343200684 and purity 0.012190785259008408\n",
      "786 saved in time 4.098641872406006 with efficiency 0.9783188104629517 and purity 0.013533791527152061\n",
      "787 saved in time 9.358295917510986 with efficiency 0.9753698110580444 and purity 0.011952368542551994\n"
     ]
    },
    {
     "name": "stdout",
     "output_type": "stream",
     "text": [
      "788 saved in time 3.439405918121338 with efficiency 0.9755462408065796 and purity 0.014334630221128464\n",
      "789 saved in time 2.8287363052368164 with efficiency 0.9793485999107361 and purity 0.015896642580628395\n",
      "790 saved in time 6.409420490264893 with efficiency 0.9746114611625671 and purity 0.012623842805624008\n",
      "791 saved in time 3.9032399654388428 with efficiency 0.9761679768562317 and purity 0.013229691423475742\n",
      "792 saved in time 2.9365618228912354 with efficiency 0.9763109087944031 and purity 0.015924103558063507\n",
      "793 saved in time 7.4150965213775635 with efficiency 0.9743428230285645 and purity 0.013261855579912663\n",
      "794 saved in time 4.009437799453735 with efficiency 0.9759846925735474 and purity 0.014205804094672203\n",
      "795 saved in time 5.868675231933594 with efficiency 0.9755136370658875 and purity 0.01275657583028078\n",
      "796 saved in time 5.76665997505188 with efficiency 0.9749670624732971 and purity 0.012709160335361958\n",
      "797 saved in time 4.249470472335815 with efficiency 0.9739661812782288 and purity 0.013418174348771572\n",
      "798 saved in time 4.641306161880493 with efficiency 0.974747359752655 and purity 0.013297772966325283\n",
      "799 saved in time 5.460691452026367 with efficiency 0.9752185940742493 and purity 0.015204880386590958\n",
      "800 saved in time 6.552693843841553 with efficiency 0.9767128229141235 and purity 0.013103064149618149\n",
      "801 saved in time 7.0572240352630615 with efficiency 0.9757580161094666 and purity 0.012409144081175327\n",
      "802 saved in time 3.608067035675049 with efficiency 0.9745614528656006 and purity 0.013754528015851974\n",
      "803 saved in time 3.499743700027466 with efficiency 0.9750561714172363 and purity 0.014021248556673527\n",
      "804 saved in time 5.4165732860565186 with efficiency 0.9752868413925171 and purity 0.012448787689208984\n",
      "805 saved in time 2.801872968673706 with efficiency 0.9766024947166443 and purity 0.015286488458514214\n",
      "806 saved in time 3.792013168334961 with efficiency 0.9766649007797241 and purity 0.014614204876124859\n",
      "807 saved in time 8.615137577056885 with efficiency 0.97413569688797 and purity 0.012428626418113708\n",
      "808 saved in time 3.2154221534729004 with efficiency 0.9763273596763611 and purity 0.01414243783801794\n",
      "809 saved in time 5.042417526245117 with efficiency 0.9761887788772583 and purity 0.013213702477514744\n",
      "810 saved in time 3.7229206562042236 with efficiency 0.9764161705970764 and purity 0.013911627233028412\n",
      "811 saved in time 6.2211408615112305 with efficiency 0.9756984114646912 and purity 0.012274463661015034\n",
      "812 saved in time 2.911708116531372 with efficiency 0.977727472782135 and purity 0.015804989263415337\n",
      "813 saved in time 5.1482250690460205 with efficiency 0.9740409255027771 and purity 0.013118095695972443\n",
      "814 saved in time 4.9877870082855225 with efficiency 0.9749675989151001 and purity 0.01279615331441164\n",
      "815 saved in time 3.2711212635040283 with efficiency 0.9773630499839783 and purity 0.015213477425277233\n",
      "816 saved in time 7.083014249801636 with efficiency 0.9757533669471741 and purity 0.013173628598451614\n",
      "817 saved in time 4.2320451736450195 with efficiency 0.9772710800170898 and purity 0.01421122346073389\n",
      "818 saved in time 4.62097430229187 with efficiency 0.9747006893157959 and purity 0.013282918371260166\n",
      "819 saved in time 3.9448604583740234 with efficiency 0.9762632250785828 and purity 0.01379088219255209\n",
      "820 saved in time 2.6026203632354736 with efficiency 0.9729571342468262 and purity 0.016699843108654022\n",
      "821 saved in time 5.314173221588135 with efficiency 0.9765887260437012 and purity 0.013031577691435814\n",
      "822 saved in time 5.85151219367981 with efficiency 0.978123128414154 and purity 0.012448957189917564\n",
      "823 saved in time 3.300309419631958 with efficiency 0.9758279919624329 and purity 0.015162644907832146\n",
      "824 saved in time 2.7779171466827393 with efficiency 0.9780779480934143 and purity 0.016146281734108925\n",
      "825 saved in time 4.442471504211426 with efficiency 0.9774856567382812 and purity 0.014329817146062851\n",
      "826 saved in time 5.330577850341797 with efficiency 0.9751119613647461 and purity 0.01367033552378416\n",
      "827 saved in time 6.48511004447937 with efficiency 0.9782987833023071 and purity 0.012340167537331581\n",
      "828 saved in time 4.421992301940918 with efficiency 0.9758768081665039 and purity 0.012920401059091091\n",
      "829 saved in time 6.260857820510864 with efficiency 0.976051926612854 and purity 0.014803155325353146\n",
      "830 saved in time 5.969184398651123 with efficiency 0.9757713675498962 and purity 0.014446025714278221\n",
      "831 saved in time 11.293131589889526 with efficiency 0.9747660160064697 and purity 0.01133734080940485\n",
      "832 saved in time 7.100649833679199 with efficiency 0.9773586988449097 and purity 0.014046795666217804\n",
      "833 saved in time 3.868718147277832 with efficiency 0.9772030711174011 and purity 0.013776818290352821\n",
      "834 saved in time 6.789816617965698 with efficiency 0.9737763404846191 and purity 0.011892926879227161\n",
      "835 saved in time 4.350106716156006 with efficiency 0.9739111065864563 and purity 0.013170972466468811\n",
      "836 saved in time 3.4280149936676025 with efficiency 0.9758106470108032 and purity 0.014083761721849442\n",
      "837 saved in time 6.866065740585327 with efficiency 0.9760386943817139 and purity 0.013188544660806656\n",
      "838 saved in time 3.5073161125183105 with efficiency 0.9786760210990906 and purity 0.014647423289716244\n",
      "839 saved in time 3.8294451236724854 with efficiency 0.9773483276367188 and purity 0.014606619253754616\n",
      "840 saved in time 6.990006923675537 with efficiency 0.9763181209564209 and purity 0.012415959499776363\n",
      "841 saved in time 7.097968101501465 with efficiency 0.975006103515625 and purity 0.013873136602342129\n",
      "842 saved in time 6.914614200592041 with efficiency 0.9743983745574951 and purity 0.012361484579741955\n",
      "843 saved in time 6.892590045928955 with efficiency 0.9748911261558533 and purity 0.012516153044998646\n",
      "844 saved in time 9.172396659851074 with efficiency 0.9753739833831787 and purity 0.011950577609241009\n",
      "845 saved in time 3.694809675216675 with efficiency 0.9775111675262451 and purity 0.014104234054684639\n",
      "846 saved in time 3.9383108615875244 with efficiency 0.9785939455032349 and purity 0.014356538653373718\n",
      "847 saved in time 10.339189291000366 with efficiency 0.9755223393440247 and purity 0.01224669348448515\n",
      "848 saved in time 4.783328056335449 with efficiency 0.9761363863945007 and purity 0.013164100237190723\n",
      "849 saved in time 9.401992082595825 with efficiency 0.9774428009986877 and purity 0.011805885471403599\n",
      "850 saved in time 4.13479208946228 with efficiency 0.9756148457527161 and purity 0.013320710510015488\n",
      "851 saved in time 8.858456134796143 with efficiency 0.9757028818130493 and purity 0.010927528142929077\n",
      "852 saved in time 4.998854637145996 with efficiency 0.9715381860733032 and purity 0.012536046095192432\n",
      "853 saved in time 6.455898284912109 with efficiency 0.9734707474708557 and purity 0.011231029406189919\n",
      "854 saved in time 3.904278039932251 with efficiency 0.9740655422210693 and purity 0.013274680823087692\n",
      "855 saved in time 4.493170261383057 with efficiency 0.9729514718055725 and purity 0.013968158513307571\n",
      "856 saved in time 5.428317308425903 with efficiency 0.9732399582862854 and purity 0.013051129877567291\n",
      "857 saved in time 10.103637218475342 with efficiency 0.9730885028839111 and purity 0.012117291800677776\n",
      "858 saved in time 4.519263982772827 with efficiency 0.9776557087898254 and purity 0.012750495225191116\n",
      "859 saved in time 3.965994358062744 with efficiency 0.9764015674591064 and purity 0.01348197739571333\n",
      "860 saved in time 7.996135473251343 with efficiency 0.9739611148834229 and purity 0.012533803470432758\n",
      "861 saved in time 5.3341286182403564 with efficiency 0.9762969017028809 and purity 0.012712753377854824\n",
      "862 saved in time 5.653655767440796 with efficiency 0.9748315215110779 and purity 0.01251140609383583\n",
      "863 saved in time 6.911139726638794 with efficiency 0.9769281148910522 and purity 0.011489524506032467\n",
      "864 saved in time 4.852295398712158 with efficiency 0.9760967493057251 and purity 0.012743043713271618\n",
      "865 saved in time 5.238288879394531 with efficiency 0.979463517665863 and purity 0.013695668429136276\n",
      "866 saved in time 4.057431697845459 with efficiency 0.9764238595962524 and purity 0.014746559783816338\n",
      "867 saved in time 11.36263394355774 with efficiency 0.9746703505516052 and purity 0.010973097756505013\n"
     ]
    },
    {
     "name": "stdout",
     "output_type": "stream",
     "text": [
      "868 saved in time 4.069558143615723 with efficiency 0.9734039902687073 and purity 0.013819612562656403\n",
      "869 saved in time 3.550947904586792 with efficiency 0.9756342768669128 and purity 0.01365542970597744\n",
      "870 saved in time 4.937993764877319 with efficiency 0.9746291041374207 and purity 0.012551581487059593\n",
      "871 saved in time 6.558716535568237 with efficiency 0.9757558703422546 and purity 0.011769412085413933\n",
      "872 saved in time 4.496351003646851 with efficiency 0.9771519303321838 and purity 0.01251448504626751\n",
      "873 saved in time 4.098477363586426 with efficiency 0.9753175377845764 and purity 0.014163214713335037\n",
      "874 saved in time 4.273937225341797 with efficiency 0.976206362247467 and purity 0.01338314637541771\n",
      "875 saved in time 5.999286651611328 with efficiency 0.9772440791130066 and purity 0.013690563850104809\n",
      "876 saved in time 8.042337417602539 with efficiency 0.9748940467834473 and purity 0.012316535227000713\n",
      "877 saved in time 7.462734222412109 with efficiency 0.9766360521316528 and purity 0.013279341161251068\n",
      "878 saved in time 3.4052469730377197 with efficiency 0.9776394367218018 and purity 0.014349101111292839\n",
      "879 saved in time 5.678138732910156 with efficiency 0.9761912822723389 and purity 0.012403083965182304\n",
      "880 saved in time 5.3551435470581055 with efficiency 0.9760693311691284 and purity 0.012481317855417728\n",
      "881 saved in time 5.304821252822876 with efficiency 0.976998507976532 and purity 0.012441523373126984\n",
      "882 saved in time 6.945361614227295 with efficiency 0.975806474685669 and purity 0.013251762837171555\n",
      "883 saved in time 3.8189146518707275 with efficiency 0.9772337079048157 and purity 0.013880650512874126\n",
      "884 saved in time 10.81062936782837 with efficiency 0.976169764995575 and purity 0.012182706966996193\n",
      "885 saved in time 6.5340354442596436 with efficiency 0.9682477116584778 and purity 0.011401742696762085\n",
      "886 saved in time 3.587197780609131 with efficiency 0.9772065877914429 and purity 0.014712576754391193\n",
      "887 saved in time 4.14192008972168 with efficiency 0.9763981103897095 and purity 0.013581869192421436\n",
      "888 saved in time 4.38246488571167 with efficiency 0.973598837852478 and purity 0.013439326547086239\n",
      "889 saved in time 5.790694236755371 with efficiency 0.9760574102401733 and purity 0.011801485903561115\n",
      "890 saved in time 6.655125856399536 with efficiency 0.9764812588691711 and purity 0.013546141795814037\n",
      "891 saved in time 6.196957111358643 with efficiency 0.9761319160461426 and purity 0.012026894837617874\n",
      "892 saved in time 5.097127914428711 with efficiency 0.9777002930641174 and purity 0.012440428137779236\n",
      "893 saved in time 3.8210654258728027 with efficiency 0.9776925444602966 and purity 0.014356652274727821\n",
      "894 saved in time 6.568068265914917 with efficiency 0.9736858606338501 and purity 0.011598671786487103\n",
      "895 saved in time 5.339112758636475 with efficiency 0.9745318293571472 and purity 0.014362765476107597\n",
      "896 saved in time 3.8654825687408447 with efficiency 0.9768621325492859 and purity 0.013753887265920639\n",
      "897 saved in time 4.548974990844727 with efficiency 0.9732166528701782 and purity 0.015596231445670128\n",
      "898 saved in time 5.882061243057251 with efficiency 0.975534975528717 and purity 0.012938947416841984\n",
      "899 saved in time 6.252872705459595 with efficiency 0.9766167402267456 and purity 0.012372182682156563\n"
     ]
    }
   ],
   "source": [
    "save_dir = \"/global/cscratch1/sd/danieltm/ExaTrkX/trackml_processed/embedding_processed/0_pt_cut_endcaps/train\"\n",
    "train, ratio = False, 8\n",
    "\n",
    "model.eval()\n",
    "with torch.no_grad():\n",
    "    for i, batch in enumerate(model.train_dataloader().dataset):\n",
    "            tic = tt()\n",
    "            if not os.path.exists(os.path.join(save_dir, batch.event_file[-4:])):\n",
    "\n",
    "                data = batch.to(device)\n",
    "                if 'ci' in model.hparams['regime']:\n",
    "                    spatial = model(torch.cat([data.cell_data, data.x], axis=-1))\n",
    "                else:\n",
    "                    spatial = model(data.x)\n",
    "                e_spatial = build_edges(spatial, 1.7, 500, res)  \n",
    "                e_bidir = torch.cat([batch.layerless_true_edges.to(device), \n",
    "                                       torch.stack([batch.layerless_true_edges[1], batch.layerless_true_edges[0]], axis=1).T.to(device)], axis=-1) \n",
    "                e_spatial, y_cluster = graph_intersection(e_spatial, e_bidir)\n",
    "\n",
    "                # Remove duplicate edges by distance from vertex\n",
    "                R_dist = torch.sqrt(batch.x[:,0]**2 + batch.x[:,2]**2)\n",
    "                e_spatial = e_spatial[:, (R_dist[e_spatial[0]] < R_dist[e_spatial[1]])]\n",
    "\n",
    "                e_spatial, y = graph_intersection(e_spatial, e_bidir)  \n",
    "\n",
    "                # Re-introduce random direction, to avoid training bias\n",
    "                random_flip = torch.randint(2, (e_spatial.shape[1],)).bool()\n",
    "                e_spatial[0, random_flip], e_spatial[1, random_flip] = e_spatial[1, random_flip], e_spatial[0, random_flip]\n",
    "\n",
    "                batch.embedding = spatial.cpu().detach()\n",
    "\n",
    "                if train and (ratio != 0): # Sample only ratio:1 fake:true edges, to keep trainset manageable\n",
    "\n",
    "                    num_true = y.sum()\n",
    "                    fake_indices = choice(np.where(~y)[0], int(num_true*ratio), replace=True)\n",
    "                    true_indices = np.where(y)[0]\n",
    "                    combined_indices = np.concatenate([true_indices, fake_indices])\n",
    "                    shuffle(combined_indices)\n",
    "\n",
    "                    batch.e_radius = e_spatial[:,combined_indices].cpu()\n",
    "                    batch.y = torch.from_numpy(y[combined_indices]).float()\n",
    "\n",
    "                else:\n",
    "                    batch.e_radius = e_spatial.cpu()\n",
    "                    batch.y = torch.from_numpy(y).float()\n",
    "\n",
    "\n",
    "                with open(os.path.join(save_dir, batch.event_file[-4:]), 'wb') as pickle_file:\n",
    "                    torch.save(batch, pickle_file)\n",
    "\n",
    "                print(i, \"saved in time\", tt()-tic, \"with efficiency\", (batch.y.sum()/batch.layerless_true_edges.shape[1]).item(), \"and purity\", (batch.y.sum()/batch.e_radius.shape[1]).item())\n",
    "\n",
    "            else:\n",
    "                print(i, \"already built\")"
   ]
  },
  {
   "cell_type": "code",
   "execution_count": 9,
   "metadata": {
    "hidden": true
   },
   "outputs": [],
   "source": [
    "def post_process(pl_module, load_dir, save_dir, train_split):\n",
    "    print(\"Training finished, running inference to filter graphs...\")\n",
    "\n",
    "    # By default, the set of examples propagated through the pipeline will be train+val+test set\n",
    "    datatypes = [\"train\", \"val\", \"test\"]\n",
    "    [os.makedirs(os.path.join(save_dir, datatype), exist_ok=True) for datatype in datatypes]\n",
    "    \n",
    "    loadsets = load_datasets(load_dir, train_split)\n",
    "    \n",
    "    total_length = sum([len(dataset) for dataset in loadsets])\n",
    "    batch_incr = 0\n",
    "\n",
    "    pl_module.eval()\n",
    "    with torch.no_grad():\n",
    "        for set_idx, (datatype, dataset) in enumerate(zip(datatypes, loadsets)):\n",
    "            for batch_idx, event in enumerate(dataset):\n",
    "#                 print(event)\n",
    "                percent = (batch_incr / total_length) * 100\n",
    "                sys.stdout.flush()\n",
    "                sys.stdout.write(f'{percent:.01f}% inference complete \\r')\n",
    "                if (not os.path.exists(os.path.join(save_dir, datatype, event[-4:]))):\n",
    "                    batch = torch.load(event, map_location=torch.device('cpu'))\n",
    "                    data = batch.to(pl_module.device) #Is this step necessary??\n",
    "                    data = construct_downstream(data, pl_module)\n",
    "                    save_downstream(data, pl_module, datatype, save_dir)\n",
    "\n",
    "                batch_incr += 1\n",
    "\n",
    "def construct_downstream(batch, pl_module):\n",
    "   \n",
    "    if 'ci' in pl_module.hparams['regime']:\n",
    "        spatial = pl_module(torch.cat([batch.cell_data, batch.x], axis=-1))\n",
    "    else:\n",
    "        spatial = pl_module(batch.x)\n",
    "    e_spatial = build_edges(spatial, 1.7, 500, res)  \n",
    "    e_bidir = torch.cat([batch.layerless_true_edges.to(device), \n",
    "                           torch.stack([batch.layerless_true_edges[1], batch.layerless_true_edges[0]], axis=1).T.to(device)], axis=-1) \n",
    "    e_spatial, y_cluster = graph_intersection(e_spatial, e_bidir)\n",
    "\n",
    "    # Remove duplicate edges by distance from vertex\n",
    "    R_dist = torch.sqrt(batch.x[:,0]**2 + batch.x[:,2]**2)\n",
    "    e_spatial = e_spatial[:, (R_dist[e_spatial[0]] < R_dist[e_spatial[1]])]\n",
    "\n",
    "    e_spatial, y = graph_intersection(e_spatial, e_bidir)  \n",
    "\n",
    "    # Re-introduce random direction, to avoid training bias\n",
    "    random_flip = torch.randint(2, (e_spatial.shape[1],)).bool()\n",
    "    e_spatial[0, random_flip], e_spatial[1, random_flip] = e_spatial[1, random_flip], e_spatial[0, random_flip]\n",
    "\n",
    "    batch.embedding = spatial.cpu().detach()\n",
    "    \n",
    "    batch.e_radius = e_spatial.cpu()\n",
    "    batch.y = torch.from_numpy(y).float()\n",
    "    \n",
    "    return batch\n",
    "\n",
    "def save_downstream(batch, pl_module, datatype, save_dir):\n",
    "\n",
    "    with open(os.path.join(save_dir, datatype, batch.event_file[-4:]), 'wb') as pickle_file:\n",
    "        torch.save(batch, pickle_file)\n"
   ]
  },
  {
   "cell_type": "code",
   "execution_count": 19,
   "metadata": {
    "hidden": true
   },
   "outputs": [],
   "source": [
    "def load_datasets(input_dir, train_split, seed = 0):\n",
    "    '''\n",
    "    Prepare the random Train, Val, Test split, using a seed for reproducibility. Seed should be\n",
    "    changed across final varied runs, but can be left as default for experimentation.\n",
    "    '''\n",
    "    torch.manual_seed(seed)\n",
    "    all_events = os.listdir(input_dir)\n",
    "    all_events = sorted([os.path.join(input_dir, event) for event in all_events])\n",
    "    train_events, val_events, test_events = random_split(all_events, train_split)\n",
    "\n",
    "    return train_events, val_events, test_events"
   ]
  },
  {
   "cell_type": "code",
   "execution_count": 11,
   "metadata": {
    "hidden": true
   },
   "outputs": [],
   "source": [
    "load_dir = \"/global/cscratch1/sd/danieltm/ExaTrkX/trackml/feature_store_endcaps\"\n",
    "save_dir = \"/global/cscratch1/sd/danieltm/ExaTrkX/trackml_processed/embedding_processed/0_pt_cut_endcaps/\""
   ]
  },
  {
   "cell_type": "code",
   "execution_count": null,
   "metadata": {
    "hidden": true
   },
   "outputs": [
    {
     "name": "stdout",
     "output_type": "stream",
     "text": [
      "Training finished, running inference to filter graphs...\n",
      "46.7% inference complete \r"
     ]
    }
   ],
   "source": [
    "train_split = [8700, 50, 50]\n",
    "post_process(model, load_dir, save_dir, train_split)"
   ]
  },
  {
   "cell_type": "markdown",
   "metadata": {},
   "source": [
    "# Filter"
   ]
  },
  {
   "cell_type": "markdown",
   "metadata": {},
   "source": [
    "## Model Pipeline"
   ]
  },
  {
   "cell_type": "code",
   "execution_count": 6,
   "metadata": {},
   "outputs": [],
   "source": [
    "with open(\"../pipeline.yaml\") as f:\n",
    "    pipeline_config = yaml.load(f, Loader=yaml.FullLoader)"
   ]
  },
  {
   "cell_type": "code",
   "execution_count": 9,
   "metadata": {
    "scrolled": true
   },
   "outputs": [
    {
     "name": "stderr",
     "output_type": "stream",
     "text": [
      "\u001b[34m\u001b[1mwandb\u001b[0m: \u001b[33mWARNING\u001b[0m Calling wandb.login() after wandb.init() has no effect.\n"
     ]
    },
    {
     "data": {
      "text/html": [
       "<br/>Waiting for W&B process to finish, PID 16614<br/>Program ended successfully."
      ],
      "text/plain": [
       "<IPython.core.display.HTML object>"
      ]
     },
     "metadata": {},
     "output_type": "display_data"
    },
    {
     "data": {
      "application/vnd.jupyter.widget-view+json": {
       "model_id": "",
       "version_major": 2,
       "version_minor": 0
      },
      "text/plain": [
       "VBox(children=(Label(value=' 0.18MB of 0.18MB uploaded (0.00MB deduped)\\r'), FloatProgress(value=1.0, max=1.0)…"
      ]
     },
     "metadata": {},
     "output_type": "display_data"
    },
    {
     "data": {
      "text/html": [
       "Find user logs for this run at: <code>/global/cscratch1/sd/danieltm/ExaTrkX/wandb_data/wandb/run-20201027_122737-enm731r3/logs/debug.log</code>"
      ],
      "text/plain": [
       "<IPython.core.display.HTML object>"
      ]
     },
     "metadata": {},
     "output_type": "display_data"
    },
    {
     "data": {
      "text/html": [
       "Find internal logs for this run at: <code>/global/cscratch1/sd/danieltm/ExaTrkX/wandb_data/wandb/run-20201027_122737-enm731r3/logs/debug-internal.log</code>"
      ],
      "text/plain": [
       "<IPython.core.display.HTML object>"
      ]
     },
     "metadata": {},
     "output_type": "display_data"
    },
    {
     "data": {
      "text/html": [
       "<h3>Run summary:</h3><br/><style>\n",
       "    table.wandb td:nth-child(1) { padding: 0 10px; text-align: right }\n",
       "    </style><table class=\"wandb\">\n",
       "<tr><td>val_loss</td><td>6.70294</td></tr><tr><td>_timestamp</td><td>1603826867</td></tr><tr><td>global_step</td><td>99</td></tr><tr><td>eff</td><td>0.99386</td></tr><tr><td>pur</td><td>0.017</td></tr><tr><td>_runtime</td><td>556</td></tr><tr><td>_step</td><td>33</td></tr><tr><td>epoch</td><td>9</td></tr></table>"
      ],
      "text/plain": [
       "<IPython.core.display.HTML object>"
      ]
     },
     "metadata": {},
     "output_type": "display_data"
    },
    {
     "data": {
      "text/html": [
       "<h3>Run history:</h3><br/><style>\n",
       "    table.wandb td:nth-child(1) { padding: 0 10px; text-align: right }\n",
       "    </style><table class=\"wandb\">\n",
       "<tr><td>_step</td><td>▁</td></tr><tr><td>_runtime</td><td>▁</td></tr><tr><td>_timestamp</td><td>▁</td></tr></table><br/>"
      ],
      "text/plain": [
       "<IPython.core.display.HTML object>"
      ]
     },
     "metadata": {},
     "output_type": "display_data"
    },
    {
     "data": {
      "text/html": [
       "Synced 5 W&B file(s), 1 media file(s), 0 artifact file(s) and 0 other file(s)"
      ],
      "text/plain": [
       "<IPython.core.display.HTML object>"
      ]
     },
     "metadata": {},
     "output_type": "display_data"
    },
    {
     "data": {
      "text/html": [
       "\n",
       "                    <br/>Synced <strong style=\"color:#cdcd00\">grateful-mountain-71</strong>: <a href=\"https://wandb.ai/murnanedaniel/FilteringStudy/runs/enm731r3\" target=\"_blank\">https://wandb.ai/murnanedaniel/FilteringStudy/runs/enm731r3</a><br/>\n",
       "                "
      ],
      "text/plain": [
       "<IPython.core.display.HTML object>"
      ]
     },
     "metadata": {},
     "output_type": "display_data"
    },
    {
     "data": {
      "text/html": [
       "\n",
       "                Tracking run with wandb version 0.10.8<br/>\n",
       "                Resuming run <strong style=\"color:#cdcd00\">grateful-mountain-71</strong> to <a href=\"https://wandb.ai\" target=\"_blank\">Weights & Biases</a> <a href=\"https://docs.wandb.com/integrations/jupyter.html\" target=\"_blank\">(Documentation)</a>.<br/>\n",
       "                Project page: <a href=\"https://wandb.ai/murnanedaniel/FilteringStudy\" target=\"_blank\">https://wandb.ai/murnanedaniel/FilteringStudy</a><br/>\n",
       "                Run page: <a href=\"https://wandb.ai/murnanedaniel/FilteringStudy/runs/enm731r3\" target=\"_blank\">https://wandb.ai/murnanedaniel/FilteringStudy/runs/enm731r3</a><br/>\n",
       "                Run data is saved locally in <code>/global/cscratch1/sd/danieltm/ExaTrkX/wandb_data/wandb/run-20201027_123018-enm731r3</code><br/><br/>\n",
       "            "
      ],
      "text/plain": [
       "<IPython.core.display.HTML object>"
      ]
     },
     "metadata": {},
     "output_type": "display_data"
    },
    {
     "name": "stderr",
     "output_type": "stream",
     "text": [
      "GPU available: True, used: True\n",
      "INFO:lightning:GPU available: True, used: True\n",
      "TPU available: False, using: 0 TPU cores\n",
      "INFO:lightning:TPU available: False, using: 0 TPU cores\n",
      "CUDA_VISIBLE_DEVICES: [0]\n",
      "INFO:lightning:CUDA_VISIBLE_DEVICES: [0]\n",
      "Set SLURM handle signals.\n",
      "INFO:lightning:Set SLURM handle signals.\n",
      "\n",
      "  | Name         | Type        | Params\n",
      "---------------------------------------------\n",
      "0 | input_layer  | Linear      | 5 K   \n",
      "1 | layers       | ModuleList  | 1 M   \n",
      "2 | output_layer | Linear      | 769   \n",
      "3 | layernorm    | LayerNorm   | 1 K   \n",
      "4 | batchnorm    | BatchNorm1d | 1 K   \n",
      "5 | act          | Tanh        | 0     \n",
      "INFO:lightning:\n",
      "  | Name         | Type        | Params\n",
      "---------------------------------------------\n",
      "0 | input_layer  | Linear      | 5 K   \n",
      "1 | layers       | ModuleList  | 1 M   \n",
      "2 | output_layer | Linear      | 769   \n",
      "3 | layernorm    | LayerNorm   | 1 K   \n",
      "4 | batchnorm    | BatchNorm1d | 1 K   \n",
      "5 | act          | Tanh        | 0     \n"
     ]
    },
    {
     "data": {
      "application/vnd.jupyter.widget-view+json": {
       "model_id": "",
       "version_major": 2,
       "version_minor": 0
      },
      "text/plain": [
       "HBox(children=(FloatProgress(value=1.0, bar_style='info', description='Validation sanity check', layout=Layout…"
      ]
     },
     "metadata": {},
     "output_type": "display_data"
    },
    {
     "name": "stdout",
     "output_type": "stream",
     "text": [
      "tensor(30., device='cuda:0')\n"
     ]
    },
    {
     "name": "stderr",
     "output_type": "stream",
     "text": [
      "\u001b[34m\u001b[1mwandb\u001b[0m: \u001b[33mWARNING\u001b[0m wandb uses only the first 10000 datapoints to create the plots.\n",
      "\u001b[34m\u001b[1mwandb\u001b[0m: \u001b[33mWARNING\u001b[0m wandb uses only the first 10000 datapoints to create the plots.\n",
      "WARNING:root:Truncating wandb.Table object to 10000 rows.\n"
     ]
    },
    {
     "name": "stdout",
     "output_type": "stream",
     "text": [
      "\r"
     ]
    },
    {
     "data": {
      "application/vnd.jupyter.widget-view+json": {
       "model_id": "0db3af6d87a74ee1b81b0392d5cc607f",
       "version_major": 2,
       "version_minor": 0
      },
      "text/plain": [
       "HBox(children=(FloatProgress(value=1.0, bar_style='info', description='Training', layout=Layout(flex='2'), max…"
      ]
     },
     "metadata": {},
     "output_type": "display_data"
    },
    {
     "name": "stderr",
     "output_type": "stream",
     "text": [
      "Saving latest checkpoint..\n",
      "INFO:lightning:Saving latest checkpoint..\n"
     ]
    },
    {
     "name": "stdout",
     "output_type": "stream",
     "text": [
      "Training finished, running inference to filter graphs...\n",
      "92.9% inference complete \r"
     ]
    },
    {
     "name": "stderr",
     "output_type": "stream",
     "text": [
      "Set SLURM handle signals.\n",
      "INFO:lightning:Set SLURM handle signals.\n"
     ]
    },
    {
     "name": "stdout",
     "output_type": "stream",
     "text": [
      "\n"
     ]
    },
    {
     "data": {
      "application/vnd.jupyter.widget-view+json": {
       "model_id": "af1a9f0456534154a2b1c1c3c14ae04f",
       "version_major": 2,
       "version_minor": 0
      },
      "text/plain": [
       "HBox(children=(FloatProgress(value=1.0, bar_style='info', description='Testing', layout=Layout(flex='2'), max=…"
      ]
     },
     "metadata": {},
     "output_type": "display_data"
    },
    {
     "ename": "RuntimeError",
     "evalue": "Caught RuntimeError in DataLoader worker process 0.\nOriginal Traceback (most recent call last):\n  File \"/global/homes/d/danieltm/.local/lib/python3.7/site-packages/torch/utils/data/_utils/worker.py\", line 178, in _worker_loop\n    data = fetcher.fetch(index)\n  File \"/global/homes/d/danieltm/.local/lib/python3.7/site-packages/torch/utils/data/_utils/fetch.py\", line 47, in fetch\n    return self.collate_fn(data)\n  File \"/global/homes/d/danieltm/.conda/envs/exatrkx-test/lib/python3.7/site-packages/torch_geometric/data/dataloader.py\", line 34, in __call__\n    return self.collate(batch)\n  File \"/global/homes/d/danieltm/.conda/envs/exatrkx-test/lib/python3.7/site-packages/torch_geometric/data/dataloader.py\", line 15, in collate\n    return Batch.from_data_list(batch, self.follow_batch)\n  File \"/global/homes/d/danieltm/.conda/envs/exatrkx-test/lib/python3.7/site-packages/torch_geometric/data/batch.py\", line 48, in from_data_list\n    item = item + cumsum[key]\nRuntimeError: CUDA error: initialization error\n",
     "output_type": "error",
     "traceback": [
      "\u001b[0;31m---------------------------------------------------------------------------\u001b[0m",
      "\u001b[0;31mRuntimeError\u001b[0m                              Traceback (most recent call last)",
      "\u001b[0;32m<ipython-input-9-4083044b9eb0>\u001b[0m in \u001b[0;36m<module>\u001b[0;34m\u001b[0m\n\u001b[1;32m     18\u001b[0m \u001b[0;34m\u001b[0m\u001b[0m\n\u001b[1;32m     19\u001b[0m     \u001b[0mtrainer\u001b[0m\u001b[0;34m.\u001b[0m\u001b[0mfit\u001b[0m\u001b[0;34m(\u001b[0m\u001b[0mmodel\u001b[0m\u001b[0;34m)\u001b[0m\u001b[0;34m\u001b[0m\u001b[0;34m\u001b[0m\u001b[0m\n\u001b[0;32m---> 20\u001b[0;31m     \u001b[0mtrainer\u001b[0m\u001b[0;34m.\u001b[0m\u001b[0mtest\u001b[0m\u001b[0;34m(\u001b[0m\u001b[0;34m)\u001b[0m\u001b[0;34m\u001b[0m\u001b[0;34m\u001b[0m\u001b[0m\n\u001b[0m",
      "\u001b[0;32m~/.conda/envs/exatrkx-test/lib/python3.7/site-packages/pytorch_lightning/trainer/states.py\u001b[0m in \u001b[0;36mwrapped_fn\u001b[0;34m(self, *args, **kwargs)\u001b[0m\n\u001b[1;32m     46\u001b[0m             \u001b[0;32mif\u001b[0m \u001b[0mentering\u001b[0m \u001b[0;32mis\u001b[0m \u001b[0;32mnot\u001b[0m \u001b[0;32mNone\u001b[0m\u001b[0;34m:\u001b[0m\u001b[0;34m\u001b[0m\u001b[0;34m\u001b[0m\u001b[0m\n\u001b[1;32m     47\u001b[0m                 \u001b[0mself\u001b[0m\u001b[0;34m.\u001b[0m\u001b[0mstate\u001b[0m \u001b[0;34m=\u001b[0m \u001b[0mentering\u001b[0m\u001b[0;34m\u001b[0m\u001b[0;34m\u001b[0m\u001b[0m\n\u001b[0;32m---> 48\u001b[0;31m             \u001b[0mresult\u001b[0m \u001b[0;34m=\u001b[0m \u001b[0mfn\u001b[0m\u001b[0;34m(\u001b[0m\u001b[0mself\u001b[0m\u001b[0;34m,\u001b[0m \u001b[0;34m*\u001b[0m\u001b[0margs\u001b[0m\u001b[0;34m,\u001b[0m \u001b[0;34m**\u001b[0m\u001b[0mkwargs\u001b[0m\u001b[0;34m)\u001b[0m\u001b[0;34m\u001b[0m\u001b[0;34m\u001b[0m\u001b[0m\n\u001b[0m\u001b[1;32m     49\u001b[0m \u001b[0;34m\u001b[0m\u001b[0m\n\u001b[1;32m     50\u001b[0m             \u001b[0;31m# The INTERRUPTED state can be set inside the run function. To indicate that run was interrupted\u001b[0m\u001b[0;34m\u001b[0m\u001b[0;34m\u001b[0m\u001b[0;34m\u001b[0m\u001b[0m\n",
      "\u001b[0;32m~/.conda/envs/exatrkx-test/lib/python3.7/site-packages/pytorch_lightning/trainer/trainer.py\u001b[0m in \u001b[0;36mtest\u001b[0;34m(self, model, test_dataloaders, ckpt_path, verbose, datamodule)\u001b[0m\n\u001b[1;32m   1355\u001b[0m             \u001b[0mresults\u001b[0m \u001b[0;34m=\u001b[0m \u001b[0mself\u001b[0m\u001b[0;34m.\u001b[0m\u001b[0m__test_given_model\u001b[0m\u001b[0;34m(\u001b[0m\u001b[0mmodel\u001b[0m\u001b[0;34m,\u001b[0m \u001b[0mtest_dataloaders\u001b[0m\u001b[0;34m)\u001b[0m\u001b[0;34m\u001b[0m\u001b[0;34m\u001b[0m\u001b[0m\n\u001b[1;32m   1356\u001b[0m         \u001b[0;32melse\u001b[0m\u001b[0;34m:\u001b[0m\u001b[0;34m\u001b[0m\u001b[0;34m\u001b[0m\u001b[0m\n\u001b[0;32m-> 1357\u001b[0;31m             \u001b[0mresults\u001b[0m \u001b[0;34m=\u001b[0m \u001b[0mself\u001b[0m\u001b[0;34m.\u001b[0m\u001b[0m__test_using_best_weights\u001b[0m\u001b[0;34m(\u001b[0m\u001b[0mckpt_path\u001b[0m\u001b[0;34m,\u001b[0m \u001b[0mtest_dataloaders\u001b[0m\u001b[0;34m)\u001b[0m\u001b[0;34m\u001b[0m\u001b[0;34m\u001b[0m\u001b[0m\n\u001b[0m\u001b[1;32m   1358\u001b[0m \u001b[0;34m\u001b[0m\u001b[0m\n\u001b[1;32m   1359\u001b[0m         \u001b[0mself\u001b[0m\u001b[0;34m.\u001b[0m\u001b[0mteardown\u001b[0m\u001b[0;34m(\u001b[0m\u001b[0;34m'test'\u001b[0m\u001b[0;34m)\u001b[0m\u001b[0;34m\u001b[0m\u001b[0;34m\u001b[0m\u001b[0m\n",
      "\u001b[0;32m~/.conda/envs/exatrkx-test/lib/python3.7/site-packages/pytorch_lightning/trainer/trainer.py\u001b[0m in \u001b[0;36m__test_using_best_weights\u001b[0;34m(self, ckpt_path, test_dataloaders)\u001b[0m\n\u001b[1;32m   1395\u001b[0m         \u001b[0mos\u001b[0m\u001b[0;34m.\u001b[0m\u001b[0menviron\u001b[0m\u001b[0;34m[\u001b[0m\u001b[0;34m'PL_TESTING_MODE'\u001b[0m\u001b[0;34m]\u001b[0m \u001b[0;34m=\u001b[0m \u001b[0;34m'1'\u001b[0m\u001b[0;34m\u001b[0m\u001b[0;34m\u001b[0m\u001b[0m\n\u001b[1;32m   1396\u001b[0m         \u001b[0mself\u001b[0m\u001b[0;34m.\u001b[0m\u001b[0mmodel\u001b[0m \u001b[0;34m=\u001b[0m \u001b[0mmodel\u001b[0m\u001b[0;34m\u001b[0m\u001b[0;34m\u001b[0m\u001b[0m\n\u001b[0;32m-> 1397\u001b[0;31m         \u001b[0mresults\u001b[0m \u001b[0;34m=\u001b[0m \u001b[0mself\u001b[0m\u001b[0;34m.\u001b[0m\u001b[0mfit\u001b[0m\u001b[0;34m(\u001b[0m\u001b[0mmodel\u001b[0m\u001b[0;34m)\u001b[0m\u001b[0;34m\u001b[0m\u001b[0;34m\u001b[0m\u001b[0m\n\u001b[0m\u001b[1;32m   1398\u001b[0m         \u001b[0mself\u001b[0m\u001b[0;34m.\u001b[0m\u001b[0mtesting\u001b[0m \u001b[0;34m=\u001b[0m \u001b[0;32mFalse\u001b[0m\u001b[0;34m\u001b[0m\u001b[0;34m\u001b[0m\u001b[0m\n\u001b[1;32m   1399\u001b[0m         \u001b[0;32mdel\u001b[0m \u001b[0mos\u001b[0m\u001b[0;34m.\u001b[0m\u001b[0menviron\u001b[0m\u001b[0;34m[\u001b[0m\u001b[0;34m'PL_TESTING_MODE'\u001b[0m\u001b[0;34m]\u001b[0m\u001b[0;34m\u001b[0m\u001b[0;34m\u001b[0m\u001b[0m\n",
      "\u001b[0;32m~/.conda/envs/exatrkx-test/lib/python3.7/site-packages/pytorch_lightning/trainer/states.py\u001b[0m in \u001b[0;36mwrapped_fn\u001b[0;34m(self, *args, **kwargs)\u001b[0m\n\u001b[1;32m     46\u001b[0m             \u001b[0;32mif\u001b[0m \u001b[0mentering\u001b[0m \u001b[0;32mis\u001b[0m \u001b[0;32mnot\u001b[0m \u001b[0;32mNone\u001b[0m\u001b[0;34m:\u001b[0m\u001b[0;34m\u001b[0m\u001b[0;34m\u001b[0m\u001b[0m\n\u001b[1;32m     47\u001b[0m                 \u001b[0mself\u001b[0m\u001b[0;34m.\u001b[0m\u001b[0mstate\u001b[0m \u001b[0;34m=\u001b[0m \u001b[0mentering\u001b[0m\u001b[0;34m\u001b[0m\u001b[0;34m\u001b[0m\u001b[0m\n\u001b[0;32m---> 48\u001b[0;31m             \u001b[0mresult\u001b[0m \u001b[0;34m=\u001b[0m \u001b[0mfn\u001b[0m\u001b[0;34m(\u001b[0m\u001b[0mself\u001b[0m\u001b[0;34m,\u001b[0m \u001b[0;34m*\u001b[0m\u001b[0margs\u001b[0m\u001b[0;34m,\u001b[0m \u001b[0;34m**\u001b[0m\u001b[0mkwargs\u001b[0m\u001b[0;34m)\u001b[0m\u001b[0;34m\u001b[0m\u001b[0;34m\u001b[0m\u001b[0m\n\u001b[0m\u001b[1;32m     49\u001b[0m \u001b[0;34m\u001b[0m\u001b[0m\n\u001b[1;32m     50\u001b[0m             \u001b[0;31m# The INTERRUPTED state can be set inside the run function. To indicate that run was interrupted\u001b[0m\u001b[0;34m\u001b[0m\u001b[0;34m\u001b[0m\u001b[0;34m\u001b[0m\u001b[0m\n",
      "\u001b[0;32m~/.conda/envs/exatrkx-test/lib/python3.7/site-packages/pytorch_lightning/trainer/trainer.py\u001b[0m in \u001b[0;36mfit\u001b[0;34m(self, model, train_dataloader, val_dataloaders, datamodule)\u001b[0m\n\u001b[1;32m   1071\u001b[0m             \u001b[0mself\u001b[0m\u001b[0;34m.\u001b[0m\u001b[0maccelerator_backend\u001b[0m \u001b[0;34m=\u001b[0m \u001b[0mGPUBackend\u001b[0m\u001b[0;34m(\u001b[0m\u001b[0mself\u001b[0m\u001b[0;34m)\u001b[0m\u001b[0;34m\u001b[0m\u001b[0;34m\u001b[0m\u001b[0m\n\u001b[1;32m   1072\u001b[0m             \u001b[0mmodel\u001b[0m \u001b[0;34m=\u001b[0m \u001b[0mself\u001b[0m\u001b[0;34m.\u001b[0m\u001b[0maccelerator_backend\u001b[0m\u001b[0;34m.\u001b[0m\u001b[0msetup\u001b[0m\u001b[0;34m(\u001b[0m\u001b[0mmodel\u001b[0m\u001b[0;34m)\u001b[0m\u001b[0;34m\u001b[0m\u001b[0;34m\u001b[0m\u001b[0m\n\u001b[0;32m-> 1073\u001b[0;31m             \u001b[0mresults\u001b[0m \u001b[0;34m=\u001b[0m \u001b[0mself\u001b[0m\u001b[0;34m.\u001b[0m\u001b[0maccelerator_backend\u001b[0m\u001b[0;34m.\u001b[0m\u001b[0mtrain\u001b[0m\u001b[0;34m(\u001b[0m\u001b[0mmodel\u001b[0m\u001b[0;34m)\u001b[0m\u001b[0;34m\u001b[0m\u001b[0;34m\u001b[0m\u001b[0m\n\u001b[0m\u001b[1;32m   1074\u001b[0m \u001b[0;34m\u001b[0m\u001b[0m\n\u001b[1;32m   1075\u001b[0m         \u001b[0;32melif\u001b[0m \u001b[0mself\u001b[0m\u001b[0;34m.\u001b[0m\u001b[0muse_tpu\u001b[0m\u001b[0;34m:\u001b[0m\u001b[0;34m\u001b[0m\u001b[0;34m\u001b[0m\u001b[0m\n",
      "\u001b[0;32m~/.conda/envs/exatrkx-test/lib/python3.7/site-packages/pytorch_lightning/accelerators/gpu_backend.py\u001b[0m in \u001b[0;36mtrain\u001b[0;34m(self, model)\u001b[0m\n\u001b[1;32m     49\u001b[0m \u001b[0;34m\u001b[0m\u001b[0m\n\u001b[1;32m     50\u001b[0m     \u001b[0;32mdef\u001b[0m \u001b[0mtrain\u001b[0m\u001b[0;34m(\u001b[0m\u001b[0mself\u001b[0m\u001b[0;34m,\u001b[0m \u001b[0mmodel\u001b[0m\u001b[0;34m)\u001b[0m\u001b[0;34m:\u001b[0m\u001b[0;34m\u001b[0m\u001b[0;34m\u001b[0m\u001b[0m\n\u001b[0;32m---> 51\u001b[0;31m         \u001b[0mresults\u001b[0m \u001b[0;34m=\u001b[0m \u001b[0mself\u001b[0m\u001b[0;34m.\u001b[0m\u001b[0mtrainer\u001b[0m\u001b[0;34m.\u001b[0m\u001b[0mrun_pretrain_routine\u001b[0m\u001b[0;34m(\u001b[0m\u001b[0mmodel\u001b[0m\u001b[0;34m)\u001b[0m\u001b[0;34m\u001b[0m\u001b[0;34m\u001b[0m\u001b[0m\n\u001b[0m\u001b[1;32m     52\u001b[0m         \u001b[0;32mreturn\u001b[0m \u001b[0mresults\u001b[0m\u001b[0;34m\u001b[0m\u001b[0;34m\u001b[0m\u001b[0m\n\u001b[1;32m     53\u001b[0m \u001b[0;34m\u001b[0m\u001b[0m\n",
      "\u001b[0;32m~/.conda/envs/exatrkx-test/lib/python3.7/site-packages/pytorch_lightning/trainer/trainer.py\u001b[0m in \u001b[0;36mrun_pretrain_routine\u001b[0;34m(self, model)\u001b[0m\n\u001b[1;32m   1207\u001b[0m             \u001b[0;31m# only load test dataloader for testing\u001b[0m\u001b[0;34m\u001b[0m\u001b[0;34m\u001b[0m\u001b[0;34m\u001b[0m\u001b[0m\n\u001b[1;32m   1208\u001b[0m             \u001b[0;31m# self.reset_test_dataloader(ref_model)\u001b[0m\u001b[0;34m\u001b[0m\u001b[0;34m\u001b[0m\u001b[0;34m\u001b[0m\u001b[0m\n\u001b[0;32m-> 1209\u001b[0;31m             \u001b[0meval_loop_results\u001b[0m\u001b[0;34m,\u001b[0m \u001b[0m_\u001b[0m \u001b[0;34m=\u001b[0m \u001b[0mself\u001b[0m\u001b[0;34m.\u001b[0m\u001b[0mrun_evaluation\u001b[0m\u001b[0;34m(\u001b[0m\u001b[0mtest_mode\u001b[0m\u001b[0;34m=\u001b[0m\u001b[0;32mTrue\u001b[0m\u001b[0;34m)\u001b[0m\u001b[0;34m\u001b[0m\u001b[0;34m\u001b[0m\u001b[0m\n\u001b[0m\u001b[1;32m   1210\u001b[0m \u001b[0;34m\u001b[0m\u001b[0m\n\u001b[1;32m   1211\u001b[0m             \u001b[0;32mif\u001b[0m \u001b[0mlen\u001b[0m\u001b[0;34m(\u001b[0m\u001b[0meval_loop_results\u001b[0m\u001b[0;34m)\u001b[0m \u001b[0;34m==\u001b[0m \u001b[0;36m0\u001b[0m\u001b[0;34m:\u001b[0m\u001b[0;34m\u001b[0m\u001b[0;34m\u001b[0m\u001b[0m\n",
      "\u001b[0;32m~/.conda/envs/exatrkx-test/lib/python3.7/site-packages/pytorch_lightning/trainer/evaluation_loop.py\u001b[0m in \u001b[0;36mrun_evaluation\u001b[0;34m(self, test_mode)\u001b[0m\n\u001b[1;32m    580\u001b[0m \u001b[0;34m\u001b[0m\u001b[0m\n\u001b[1;32m    581\u001b[0m         \u001b[0;31m# run evaluation (val_step + val_step_end + val_epoch_end)\u001b[0m\u001b[0;34m\u001b[0m\u001b[0;34m\u001b[0m\u001b[0;34m\u001b[0m\u001b[0m\n\u001b[0;32m--> 582\u001b[0;31m         \u001b[0meval_results\u001b[0m \u001b[0;34m=\u001b[0m \u001b[0mself\u001b[0m\u001b[0;34m.\u001b[0m\u001b[0m_evaluate\u001b[0m\u001b[0;34m(\u001b[0m\u001b[0mself\u001b[0m\u001b[0;34m.\u001b[0m\u001b[0mmodel\u001b[0m\u001b[0;34m,\u001b[0m \u001b[0mdataloaders\u001b[0m\u001b[0;34m,\u001b[0m \u001b[0mmax_batches\u001b[0m\u001b[0;34m,\u001b[0m \u001b[0mtest_mode\u001b[0m\u001b[0;34m)\u001b[0m\u001b[0;34m\u001b[0m\u001b[0;34m\u001b[0m\u001b[0m\n\u001b[0m\u001b[1;32m    583\u001b[0m \u001b[0;34m\u001b[0m\u001b[0m\n\u001b[1;32m    584\u001b[0m         \u001b[0;31m# log the final eval loop metrics\u001b[0m\u001b[0;34m\u001b[0m\u001b[0;34m\u001b[0m\u001b[0;34m\u001b[0m\u001b[0m\n",
      "\u001b[0;32m~/.conda/envs/exatrkx-test/lib/python3.7/site-packages/pytorch_lightning/trainer/evaluation_loop.py\u001b[0m in \u001b[0;36m_evaluate\u001b[0;34m(self, model, dataloaders, max_batches, test_mode)\u001b[0m\n\u001b[1;32m    303\u001b[0m             \u001b[0mdl_max_batches\u001b[0m \u001b[0;34m=\u001b[0m \u001b[0mmax_batches\u001b[0m\u001b[0;34m[\u001b[0m\u001b[0mdataloader_idx\u001b[0m\u001b[0;34m]\u001b[0m\u001b[0;34m\u001b[0m\u001b[0;34m\u001b[0m\u001b[0m\n\u001b[1;32m    304\u001b[0m \u001b[0;34m\u001b[0m\u001b[0m\n\u001b[0;32m--> 305\u001b[0;31m             \u001b[0;32mfor\u001b[0m \u001b[0mbatch_idx\u001b[0m\u001b[0;34m,\u001b[0m \u001b[0mbatch\u001b[0m \u001b[0;32min\u001b[0m \u001b[0menumerate\u001b[0m\u001b[0;34m(\u001b[0m\u001b[0mdataloader\u001b[0m\u001b[0;34m)\u001b[0m\u001b[0;34m:\u001b[0m\u001b[0;34m\u001b[0m\u001b[0;34m\u001b[0m\u001b[0m\n\u001b[0m\u001b[1;32m    306\u001b[0m                 \u001b[0;32mif\u001b[0m \u001b[0mbatch\u001b[0m \u001b[0;32mis\u001b[0m \u001b[0;32mNone\u001b[0m\u001b[0;34m:\u001b[0m\u001b[0;34m\u001b[0m\u001b[0;34m\u001b[0m\u001b[0m\n\u001b[1;32m    307\u001b[0m                     \u001b[0;32mcontinue\u001b[0m\u001b[0;34m\u001b[0m\u001b[0;34m\u001b[0m\u001b[0m\n",
      "\u001b[0;32m~/.local/lib/python3.7/site-packages/torch/utils/data/dataloader.py\u001b[0m in \u001b[0;36m__next__\u001b[0;34m(self)\u001b[0m\n\u001b[1;32m    343\u001b[0m \u001b[0;34m\u001b[0m\u001b[0m\n\u001b[1;32m    344\u001b[0m     \u001b[0;32mdef\u001b[0m \u001b[0m__next__\u001b[0m\u001b[0;34m(\u001b[0m\u001b[0mself\u001b[0m\u001b[0;34m)\u001b[0m\u001b[0;34m:\u001b[0m\u001b[0;34m\u001b[0m\u001b[0;34m\u001b[0m\u001b[0m\n\u001b[0;32m--> 345\u001b[0;31m         \u001b[0mdata\u001b[0m \u001b[0;34m=\u001b[0m \u001b[0mself\u001b[0m\u001b[0;34m.\u001b[0m\u001b[0m_next_data\u001b[0m\u001b[0;34m(\u001b[0m\u001b[0;34m)\u001b[0m\u001b[0;34m\u001b[0m\u001b[0;34m\u001b[0m\u001b[0m\n\u001b[0m\u001b[1;32m    346\u001b[0m         \u001b[0mself\u001b[0m\u001b[0;34m.\u001b[0m\u001b[0m_num_yielded\u001b[0m \u001b[0;34m+=\u001b[0m \u001b[0;36m1\u001b[0m\u001b[0;34m\u001b[0m\u001b[0;34m\u001b[0m\u001b[0m\n\u001b[1;32m    347\u001b[0m         \u001b[0;32mif\u001b[0m \u001b[0mself\u001b[0m\u001b[0;34m.\u001b[0m\u001b[0m_dataset_kind\u001b[0m \u001b[0;34m==\u001b[0m \u001b[0m_DatasetKind\u001b[0m\u001b[0;34m.\u001b[0m\u001b[0mIterable\u001b[0m \u001b[0;32mand\u001b[0m\u001b[0;31m \u001b[0m\u001b[0;31m\\\u001b[0m\u001b[0;34m\u001b[0m\u001b[0;34m\u001b[0m\u001b[0m\n",
      "\u001b[0;32m~/.local/lib/python3.7/site-packages/torch/utils/data/dataloader.py\u001b[0m in \u001b[0;36m_next_data\u001b[0;34m(self)\u001b[0m\n\u001b[1;32m    854\u001b[0m             \u001b[0;32melse\u001b[0m\u001b[0;34m:\u001b[0m\u001b[0;34m\u001b[0m\u001b[0;34m\u001b[0m\u001b[0m\n\u001b[1;32m    855\u001b[0m                 \u001b[0;32mdel\u001b[0m \u001b[0mself\u001b[0m\u001b[0;34m.\u001b[0m\u001b[0m_task_info\u001b[0m\u001b[0;34m[\u001b[0m\u001b[0midx\u001b[0m\u001b[0;34m]\u001b[0m\u001b[0;34m\u001b[0m\u001b[0;34m\u001b[0m\u001b[0m\n\u001b[0;32m--> 856\u001b[0;31m                 \u001b[0;32mreturn\u001b[0m \u001b[0mself\u001b[0m\u001b[0;34m.\u001b[0m\u001b[0m_process_data\u001b[0m\u001b[0;34m(\u001b[0m\u001b[0mdata\u001b[0m\u001b[0;34m)\u001b[0m\u001b[0;34m\u001b[0m\u001b[0;34m\u001b[0m\u001b[0m\n\u001b[0m\u001b[1;32m    857\u001b[0m \u001b[0;34m\u001b[0m\u001b[0m\n\u001b[1;32m    858\u001b[0m     \u001b[0;32mdef\u001b[0m \u001b[0m_try_put_index\u001b[0m\u001b[0;34m(\u001b[0m\u001b[0mself\u001b[0m\u001b[0;34m)\u001b[0m\u001b[0;34m:\u001b[0m\u001b[0;34m\u001b[0m\u001b[0;34m\u001b[0m\u001b[0m\n",
      "\u001b[0;32m~/.local/lib/python3.7/site-packages/torch/utils/data/dataloader.py\u001b[0m in \u001b[0;36m_process_data\u001b[0;34m(self, data)\u001b[0m\n\u001b[1;32m    879\u001b[0m         \u001b[0mself\u001b[0m\u001b[0;34m.\u001b[0m\u001b[0m_try_put_index\u001b[0m\u001b[0;34m(\u001b[0m\u001b[0;34m)\u001b[0m\u001b[0;34m\u001b[0m\u001b[0;34m\u001b[0m\u001b[0m\n\u001b[1;32m    880\u001b[0m         \u001b[0;32mif\u001b[0m \u001b[0misinstance\u001b[0m\u001b[0;34m(\u001b[0m\u001b[0mdata\u001b[0m\u001b[0;34m,\u001b[0m \u001b[0mExceptionWrapper\u001b[0m\u001b[0;34m)\u001b[0m\u001b[0;34m:\u001b[0m\u001b[0;34m\u001b[0m\u001b[0;34m\u001b[0m\u001b[0m\n\u001b[0;32m--> 881\u001b[0;31m             \u001b[0mdata\u001b[0m\u001b[0;34m.\u001b[0m\u001b[0mreraise\u001b[0m\u001b[0;34m(\u001b[0m\u001b[0;34m)\u001b[0m\u001b[0;34m\u001b[0m\u001b[0;34m\u001b[0m\u001b[0m\n\u001b[0m\u001b[1;32m    882\u001b[0m         \u001b[0;32mreturn\u001b[0m \u001b[0mdata\u001b[0m\u001b[0;34m\u001b[0m\u001b[0;34m\u001b[0m\u001b[0m\n\u001b[1;32m    883\u001b[0m \u001b[0;34m\u001b[0m\u001b[0m\n",
      "\u001b[0;32m~/.local/lib/python3.7/site-packages/torch/_utils.py\u001b[0m in \u001b[0;36mreraise\u001b[0;34m(self)\u001b[0m\n\u001b[1;32m    393\u001b[0m             \u001b[0;31m# (https://bugs.python.org/issue2651), so we work around it.\u001b[0m\u001b[0;34m\u001b[0m\u001b[0;34m\u001b[0m\u001b[0;34m\u001b[0m\u001b[0m\n\u001b[1;32m    394\u001b[0m             \u001b[0mmsg\u001b[0m \u001b[0;34m=\u001b[0m \u001b[0mKeyErrorMessage\u001b[0m\u001b[0;34m(\u001b[0m\u001b[0mmsg\u001b[0m\u001b[0;34m)\u001b[0m\u001b[0;34m\u001b[0m\u001b[0;34m\u001b[0m\u001b[0m\n\u001b[0;32m--> 395\u001b[0;31m         \u001b[0;32mraise\u001b[0m \u001b[0mself\u001b[0m\u001b[0;34m.\u001b[0m\u001b[0mexc_type\u001b[0m\u001b[0;34m(\u001b[0m\u001b[0mmsg\u001b[0m\u001b[0;34m)\u001b[0m\u001b[0;34m\u001b[0m\u001b[0;34m\u001b[0m\u001b[0m\n\u001b[0m",
      "\u001b[0;31mRuntimeError\u001b[0m: Caught RuntimeError in DataLoader worker process 0.\nOriginal Traceback (most recent call last):\n  File \"/global/homes/d/danieltm/.local/lib/python3.7/site-packages/torch/utils/data/_utils/worker.py\", line 178, in _worker_loop\n    data = fetcher.fetch(index)\n  File \"/global/homes/d/danieltm/.local/lib/python3.7/site-packages/torch/utils/data/_utils/fetch.py\", line 47, in fetch\n    return self.collate_fn(data)\n  File \"/global/homes/d/danieltm/.conda/envs/exatrkx-test/lib/python3.7/site-packages/torch_geometric/data/dataloader.py\", line 34, in __call__\n    return self.collate(batch)\n  File \"/global/homes/d/danieltm/.conda/envs/exatrkx-test/lib/python3.7/site-packages/torch_geometric/data/dataloader.py\", line 15, in collate\n    return Batch.from_data_list(batch, self.follow_batch)\n  File \"/global/homes/d/danieltm/.conda/envs/exatrkx-test/lib/python3.7/site-packages/torch_geometric/data/batch.py\", line 48, in from_data_list\n    item = item + cumsum[key]\nRuntimeError: CUDA error: initialization error\n"
     ]
    }
   ],
   "source": [
    "for stage in pipeline_config[\"model_list\"]:\n",
    "    \n",
    "    # Set resume_id if it is given, else it is None and new model is built\n",
    "    resume_id = get_resume_id(stage)\n",
    "    \n",
    "    # Get config file, from given location OR from ckpnt\n",
    "    model_config = load_config(stage, resume_id)\n",
    "    \n",
    "    # Define a logger (default: Weights & Biases)\n",
    "    logger = get_logger(model_config, resume_id)\n",
    "    \n",
    "#     # Load the model and configuration file for this stage\n",
    "    model_class = build_model(stage)\n",
    "    model = model_class(model_config)\n",
    "    \n",
    "#     # Load the trainer, handling any resume conditions\n",
    "    trainer = build_trainer(model_config, logger, resume_id)\n",
    "        \n",
    "    trainer.fit(model)\n",
    "    trainer.test()"
   ]
  },
  {
   "cell_type": "markdown",
   "metadata": {
    "heading_collapsed": true
   },
   "source": [
    "## Model Load and Test"
   ]
  },
  {
   "cell_type": "code",
   "execution_count": 3,
   "metadata": {
    "code_folding": [
     0
    ],
    "hidden": true
   },
   "outputs": [],
   "source": [
    "class FilterBase(LightningModule):\n",
    "\n",
    "    def __init__(self, hparams):\n",
    "        super().__init__()\n",
    "        '''\n",
    "        Initialise the Lightning Module that can scan over different filter training regimes\n",
    "        '''\n",
    "        # Assign hyperparameters\n",
    "        self.hparams = hparams\n",
    "        datatypes = [\"train\", \"val\", \"test\"]\n",
    "        input_dirs = [os.path.join(self.hparams[\"input_dir\"], datatype) for datatype in datatypes]\n",
    "\n",
    "\n",
    "    def configure_optimizers(self):\n",
    "        optimizer = [torch.optim.AdamW(self.parameters(), lr=(self.hparams[\"lr\"]), betas=(0.9, 0.999), eps=1e-08, amsgrad=True)]\n",
    "        scheduler = [\n",
    "            {\n",
    "                'scheduler': torch.optim.lr_scheduler.ReduceLROnPlateau(optimizer[0], factor=self.hparams[\"factor\"], patience=self.hparams[\"patience\"]),\n",
    "                'monitor': 'checkpoint_on',\n",
    "                'interval': 'epoch',\n",
    "                'frequency': 1\n",
    "            }\n",
    "        ]\n",
    "#         scheduler = [torch.optim.lr_scheduler.StepLR(optimizer[0], step_size=1, gamma=0.3)]\n",
    "        return optimizer, scheduler\n",
    "\n",
    "    def training_step(self, batch, batch_idx):\n",
    "\n",
    "        emb = (None if (self.hparams[\"emb_channels\"] == 0)\n",
    "               else batch.embedding)  # Does this work??\n",
    "\n",
    "        if self.hparams['ratio'] != 0:\n",
    "            num_true, num_false = batch.y.bool().sum(), (~batch.y.bool()).sum()\n",
    "            fake_indices = torch.where(~batch.y.bool())[0][torch.randint(num_false, (num_true.item()*self.hparams['ratio'],))]\n",
    "            true_indices = torch.where(batch.y.bool())[0]\n",
    "            combined_indices = torch.cat([true_indices, fake_indices])\n",
    "            # Shuffle indices:\n",
    "            combined_indices[torch.randperm(len(combined_indices))]\n",
    "            weight = (torch.tensor(self.hparams[\"weight\"]) if (\"weight\" in self.hparams) \n",
    "                      else torch.tensor(self.hparams['ratio'])) \n",
    "\n",
    "        else:\n",
    "            combined_indices = torch.range(batch.e_radius.shape[1])\n",
    "            weight = (torch.tensor(self.hparams[\"weight\"]) if (\"weight\" in self.hparams) \n",
    "                      else torch.tensor((~batch.y.bool()).sum() / batch.y.sum())) \n",
    "\n",
    "        output = (self(torch.cat([batch.cell_data, batch.x], axis=-1), batch.e_radius[:,combined_indices], emb).squeeze()\n",
    "                  if ('ci' in self.hparams[\"regime\"])\n",
    "                  else self(batch.x, batch.e_radius[:,combined_indices], emb).squeeze())\n",
    "\n",
    "        if ('pid' in self.hparams[\"regime\"]):\n",
    "            y_pid = batch.pid[batch.e_radius[0,combined_indices]] == batch.pid[batch.e_radius[1,combined_indices]]\n",
    "            loss = F.binary_cross_entropy_with_logits(output, y_pid.float(), pos_weight = weight)\n",
    "        else:\n",
    "            loss = F.binary_cross_entropy_with_logits(output, batch.y[combined_indices], pos_weight = weight)\n",
    "\n",
    "        result = pl.TrainResult(minimize=loss)\n",
    "        result.log('train_loss', loss, prog_bar=True)\n",
    "\n",
    "        return result\n",
    "\n",
    "    def validation_step(self, batch, batch_idx):\n",
    "\n",
    "        emb = (None if (self.hparams[\"emb_channels\"] == 0)\n",
    "               else batch.embedding)  # Does this work??\n",
    "\n",
    "        subset_ind = torch.randint(batch.e_radius.shape[1], (int(batch.e_radius.shape[1]*self.hparams['val_subset']),))\n",
    "\n",
    "        output = self(torch.cat([batch.cell_data, batch.x], axis=-1), batch.e_radius[:, subset_ind], emb).squeeze() if ('ci' in self.hparams[\"regime\"]) else self(batch.x, batch.e_radius[:, subset_ind], emb).squeeze()\n",
    "\n",
    "        val_loss = F.binary_cross_entropy_with_logits(output, batch.y[subset_ind])\n",
    "\n",
    "        result = pl.EvalResult(checkpoint_on=val_loss)\n",
    "        result.log('val_loss', val_loss)\n",
    "\n",
    "        #Edge filter performance\n",
    "        preds = F.sigmoid(output) > 0.5 #Maybe send to CPU??\n",
    "        edge_positive = preds.sum().float()\n",
    "        if ('pid' in self.hparams[\"regime\"]):\n",
    "            y_pid = batch.pid[batch.e_radius[0,subset_ind]] == batch.pid[batch.e_radius[1,subset_ind]]\n",
    "            edge_true = y_pid.sum()\n",
    "            edge_true_positive = (y_pid & preds).sum().float()\n",
    "        else:\n",
    "            edge_true = batch.y[subset_ind].sum()\n",
    "            edge_true_positive = (batch.y[subset_ind].bool() & preds).sum().float()\n",
    "\n",
    "\n",
    "        result.log_dict({'eff': torch.tensor(edge_true_positive/edge_true), 'pur': torch.tensor(edge_true_positive/edge_positive)})\n",
    "        return result\n",
    "\n",
    "    def optimizer_step(self, current_epoch, batch_nb, optimizer, optimizer_idx, second_order_closure=None, on_tpu=False, using_native_amp=False, using_lbfgs=False):\n",
    "        # warm up lr\n",
    "        if (self.hparams[\"warmup\"] is not None) and (self.trainer.global_step < self.hparams[\"warmup\"]):\n",
    "            lr_scale = min(1., float(self.trainer.global_step + 1) / self.hparams[\"warmup\"])\n",
    "            for pg in optimizer.param_groups:\n",
    "                pg['lr'] = lr_scale * self.hparams[\"lr\"]\n",
    "\n",
    "        # update params\n",
    "        optimizer.step()\n",
    "        optimizer.zero_grad()\n",
    "\n",
    "class VanillaFilter(FilterBase):\n",
    "\n",
    "    def __init__(self, hparams):\n",
    "        super().__init__(hparams)\n",
    "        '''\n",
    "        Initialise the Lightning Module that can scan over different filter training regimes\n",
    "        '''\n",
    "\n",
    "        # Construct the MLP architecture\n",
    "        self.input_layer = Linear(hparams[\"in_channels\"]*2 + hparams[\"emb_channels\"]*2, hparams[\"hidden\"])\n",
    "        layers = [Linear(hparams[\"hidden\"], hparams[\"hidden\"]) for _ in range(hparams[\"nb_layer\"]-1)]\n",
    "        self.layers = nn.ModuleList(layers)\n",
    "        self.output_layer = nn.Linear(hparams[\"hidden\"], 1)\n",
    "        self.layernorm = nn.LayerNorm(hparams[\"hidden\"])\n",
    "        self.batchnorm = nn.BatchNorm1d(num_features=hparams[\"hidden\"], track_running_stats=False)\n",
    "        self.act = nn.Tanh()\n",
    "\n",
    "    def forward(self, x, e, emb=None):\n",
    "        if emb is not None:\n",
    "            x = self.input_layer(torch.cat([x[e[0]], emb[e[0]], x[e[1]], emb[e[1]]], dim=-1))\n",
    "        else:\n",
    "            x = self.input_layer(torch.cat([x[e[0]], x[e[1]]], dim=-1))\n",
    "        for l in self.layers:\n",
    "            x = l(x)\n",
    "            x = self.act(x)\n",
    "            if self.hparams[\"layernorm\"]: x = self.layernorm(x) #Option of LayerNorm\n",
    "            if self.hparams[\"batchnorm\"]: x = self.batchnorm(x) #Option of Batch\n",
    "        x = self.output_layer(x)\n",
    "        return x"
   ]
  },
  {
   "cell_type": "code",
   "execution_count": 4,
   "metadata": {
    "hidden": true
   },
   "outputs": [],
   "source": [
    "import torch.nn.functional as F"
   ]
  },
  {
   "cell_type": "code",
   "execution_count": 89,
   "metadata": {
    "hidden": true
   },
   "outputs": [],
   "source": [
    "# run_label = \"o12x2se4\"\n",
    "# run_label = \"4uovj4x7\"\n",
    "run_label = \"z0fb086x\""
   ]
  },
  {
   "cell_type": "code",
   "execution_count": 90,
   "metadata": {
    "hidden": true
   },
   "outputs": [],
   "source": [
    "wandb_dir = \"/global/cscratch1/sd/danieltm/ExaTrkX/wandb_data\"\n",
    "best_run_path = get_best_run(run_label,wandb_dir)"
   ]
  },
  {
   "cell_type": "code",
   "execution_count": 91,
   "metadata": {
    "hidden": true
   },
   "outputs": [],
   "source": [
    "chkpnt = torch.load(best_run_path)"
   ]
  },
  {
   "cell_type": "code",
   "execution_count": 92,
   "metadata": {
    "hidden": true
   },
   "outputs": [],
   "source": [
    "model = VanillaFilter(chkpnt[\"hyper_parameters\"])"
   ]
  },
  {
   "cell_type": "code",
   "execution_count": 93,
   "metadata": {
    "hidden": true
   },
   "outputs": [],
   "source": [
    "model = model.load_from_checkpoint(best_run_path)"
   ]
  },
  {
   "cell_type": "code",
   "execution_count": 94,
   "metadata": {
    "hidden": true
   },
   "outputs": [],
   "source": [
    "device = \"cuda\" if torch.cuda.is_available() else \"cpu\"\n",
    "model = model.to(device)"
   ]
  },
  {
   "cell_type": "code",
   "execution_count": 82,
   "metadata": {
    "hidden": true
   },
   "outputs": [
    {
     "ename": "TypeError",
     "evalue": "'NoneType' object is not iterable",
     "output_type": "error",
     "traceback": [
      "\u001b[0;31m---------------------------------------------------------------------------\u001b[0m",
      "\u001b[0;31mTypeError\u001b[0m                                 Traceback (most recent call last)",
      "\u001b[0;32m<ipython-input-82-bc8580e7faaa>\u001b[0m in \u001b[0;36m<module>\u001b[0;34m\u001b[0m\n\u001b[1;32m      2\u001b[0m \u001b[0;32mwith\u001b[0m \u001b[0mtorch\u001b[0m\u001b[0;34m.\u001b[0m\u001b[0mno_grad\u001b[0m\u001b[0;34m(\u001b[0m\u001b[0;34m)\u001b[0m\u001b[0;34m:\u001b[0m\u001b[0;34m\u001b[0m\u001b[0;34m\u001b[0m\u001b[0m\n\u001b[1;32m      3\u001b[0m     \u001b[0medge_total_positive\u001b[0m\u001b[0;34m,\u001b[0m \u001b[0medge_total_true\u001b[0m\u001b[0;34m,\u001b[0m \u001b[0medge_total_true_positive\u001b[0m \u001b[0;34m=\u001b[0m \u001b[0;36m0\u001b[0m\u001b[0;34m,\u001b[0m \u001b[0;36m0\u001b[0m\u001b[0;34m,\u001b[0m \u001b[0;36m0\u001b[0m\u001b[0;34m\u001b[0m\u001b[0;34m\u001b[0m\u001b[0m\n\u001b[0;32m----> 4\u001b[0;31m     \u001b[0;32mfor\u001b[0m \u001b[0mi\u001b[0m\u001b[0;34m,\u001b[0m \u001b[0mbatch\u001b[0m \u001b[0;32min\u001b[0m \u001b[0menumerate\u001b[0m\u001b[0;34m(\u001b[0m\u001b[0mmodel\u001b[0m\u001b[0;34m.\u001b[0m\u001b[0mval_dataloader\u001b[0m\u001b[0;34m(\u001b[0m\u001b[0;34m)\u001b[0m\u001b[0;34m)\u001b[0m\u001b[0;34m:\u001b[0m\u001b[0;34m\u001b[0m\u001b[0;34m\u001b[0m\u001b[0m\n\u001b[0m\u001b[1;32m      5\u001b[0m             \u001b[0mdata\u001b[0m \u001b[0;34m=\u001b[0m \u001b[0mbatch\u001b[0m\u001b[0;34m.\u001b[0m\u001b[0mto\u001b[0m\u001b[0;34m(\u001b[0m\u001b[0mdevice\u001b[0m\u001b[0;34m)\u001b[0m\u001b[0;34m\u001b[0m\u001b[0;34m\u001b[0m\u001b[0m\n\u001b[1;32m      6\u001b[0m \u001b[0;34m\u001b[0m\u001b[0m\n",
      "\u001b[0;31mTypeError\u001b[0m: 'NoneType' object is not iterable"
     ]
    }
   ],
   "source": [
    "model.eval()\n",
    "with torch.no_grad():\n",
    "    edge_total_positive, edge_total_true, edge_total_true_positive = 0, 0, 0\n",
    "    for i, batch in enumerate(model.val_dataloader()):\n",
    "            data = batch.to(device)\n",
    "                \n",
    "            emb = (None if (model.hparams[\"emb_channels\"] == 0) \n",
    "                   else data.embedding) \n",
    "        \n",
    "            subset_ind = torch.randint(data.e_radius.shape[1], (int(data.e_radius.shape[1]*0.1),))\n",
    "\n",
    "            output = model(torch.cat([data.cell_data, data.x], axis=-1), data.e_radius[:, subset_ind], emb).squeeze() if ('ci' in model.hparams[\"regime\"]) else model(data.x, data.e_radius[:, subset_ind], emb).squeeze()\n",
    "\n",
    "            val_loss = F.binary_cross_entropy_with_logits(output, data.y[subset_ind])\n",
    "\n",
    "            result = pl.EvalResult(checkpoint_on=val_loss)\n",
    "            result.log('val_loss', val_loss)\n",
    "\n",
    "            #Edge filter performance\n",
    "            preds = F.sigmoid(output) > 0.3 #Maybe send to CPU??\n",
    "            edge_positive = preds.sum().float()\n",
    "            if ('pid' in model.hparams[\"regime\"]):\n",
    "                y_pid = data.pid[data.e_radius[0,subset_ind]] == batch.pid[data.e_radius[1,subset_ind]]\n",
    "                edge_true = y_pid.sum()\n",
    "                edge_true_positive = (y_pid & preds).sum().float()\n",
    "            else:\n",
    "                edge_true = data.y[subset_ind].sum()\n",
    "                edge_true_positive = (data.y[subset_ind].bool() & preds).sum().float()\n",
    "            \n",
    "            edge_total_positive += edge_positive\n",
    "            edge_total_true += edge_true\n",
    "            edge_total_true_positive += edge_true_positive\n",
    "            \n",
    "            if i % 5 == 0:\n",
    "                print(i, \"validated\")\n",
    "\n",
    "    edge_eff = (edge_total_true_positive / max(edge_total_true, 1))\n",
    "    edge_pur = (edge_total_true_positive / max(edge_total_positive, 1))"
   ]
  },
  {
   "cell_type": "code",
   "execution_count": 39,
   "metadata": {
    "hidden": true
   },
   "outputs": [
    {
     "data": {
      "text/plain": [
       "(tensor(0.9926, device='cuda:0'), tensor(0.1092, device='cuda:0'))"
      ]
     },
     "execution_count": 39,
     "metadata": {},
     "output_type": "execute_result"
    }
   ],
   "source": [
    "edge_eff, edge_pur"
   ]
  },
  {
   "cell_type": "code",
   "execution_count": 11,
   "metadata": {
    "hidden": true
   },
   "outputs": [],
   "source": [
    "model.hparams[\"filter_cut\"] = 0.3"
   ]
  },
  {
   "cell_type": "markdown",
   "metadata": {
    "hidden": true
   },
   "source": [
    "\n",
    "## Debug Truth"
   ]
  },
  {
   "cell_type": "code",
   "execution_count": 62,
   "metadata": {
    "hidden": true
   },
   "outputs": [],
   "source": [
    "all_events = os.listdir(os.path.join(model.hparams[\"input_dir\"], \"train\"))\n",
    "all_events = sorted([os.path.join(os.path.join(model.hparams[\"input_dir\"], \"train\"), event) for event in all_events])"
   ]
  },
  {
   "cell_type": "code",
   "execution_count": 63,
   "metadata": {
    "hidden": true
   },
   "outputs": [],
   "source": [
    "sample = torch.load(all_events[0], map_location=\"cpu\")"
   ]
  },
  {
   "cell_type": "code",
   "execution_count": 33,
   "metadata": {
    "hidden": true
   },
   "outputs": [
    {
     "ename": "RuntimeError",
     "evalue": "size mismatch, m1: [2009721 x 24], m2: [6 x 768] at /pytorch/aten/src/THC/generic/THCTensorMathBlas.cu:283",
     "output_type": "error",
     "traceback": [
      "\u001b[0;31m---------------------------------------------------------------------------\u001b[0m",
      "\u001b[0;31mRuntimeError\u001b[0m                              Traceback (most recent call last)",
      "\u001b[0;32m<ipython-input-33-3ff8019c75e8>\u001b[0m in \u001b[0;36m<module>\u001b[0;34m\u001b[0m\n\u001b[1;32m     10\u001b[0m \u001b[0;31m#     subset_ind = torch.randint(data.e_radius.shape[1], (int(data.e_radius.shape[1]*0.2),))\u001b[0m\u001b[0;34m\u001b[0m\u001b[0;34m\u001b[0m\u001b[0;34m\u001b[0m\u001b[0m\n\u001b[1;32m     11\u001b[0m         \u001b[0msubset_ind\u001b[0m \u001b[0;34m=\u001b[0m \u001b[0mtorch\u001b[0m\u001b[0;34m.\u001b[0m\u001b[0marange\u001b[0m\u001b[0;34m(\u001b[0m\u001b[0mstart\u001b[0m\u001b[0;34m=\u001b[0m\u001b[0mint\u001b[0m\u001b[0;34m(\u001b[0m\u001b[0mdata\u001b[0m\u001b[0;34m.\u001b[0m\u001b[0me_radius\u001b[0m\u001b[0;34m.\u001b[0m\u001b[0mshape\u001b[0m\u001b[0;34m[\u001b[0m\u001b[0;36m1\u001b[0m\u001b[0;34m]\u001b[0m\u001b[0;34m*\u001b[0m\u001b[0mi\u001b[0m\u001b[0;34m)\u001b[0m\u001b[0;34m,\u001b[0m \u001b[0mend\u001b[0m\u001b[0;34m=\u001b[0m\u001b[0mint\u001b[0m\u001b[0;34m(\u001b[0m\u001b[0mdata\u001b[0m\u001b[0;34m.\u001b[0m\u001b[0me_radius\u001b[0m\u001b[0;34m.\u001b[0m\u001b[0mshape\u001b[0m\u001b[0;34m[\u001b[0m\u001b[0;36m1\u001b[0m\u001b[0;34m]\u001b[0m\u001b[0;34m*\u001b[0m\u001b[0;34m(\u001b[0m\u001b[0mi\u001b[0m\u001b[0;34m+\u001b[0m\u001b[0;36m0.2\u001b[0m\u001b[0;34m)\u001b[0m\u001b[0;34m)\u001b[0m\u001b[0;34m)\u001b[0m\u001b[0;34m\u001b[0m\u001b[0;34m\u001b[0m\u001b[0m\n\u001b[0;32m---> 12\u001b[0;31m         \u001b[0moutput\u001b[0m \u001b[0;34m=\u001b[0m \u001b[0mmodel\u001b[0m\u001b[0;34m(\u001b[0m\u001b[0mtorch\u001b[0m\u001b[0;34m.\u001b[0m\u001b[0mcat\u001b[0m\u001b[0;34m(\u001b[0m\u001b[0;34m[\u001b[0m\u001b[0mdata\u001b[0m\u001b[0;34m.\u001b[0m\u001b[0mcell_data\u001b[0m\u001b[0;34m,\u001b[0m \u001b[0mdata\u001b[0m\u001b[0;34m.\u001b[0m\u001b[0mx\u001b[0m\u001b[0;34m]\u001b[0m\u001b[0;34m,\u001b[0m \u001b[0maxis\u001b[0m\u001b[0;34m=\u001b[0m\u001b[0;34m-\u001b[0m\u001b[0;36m1\u001b[0m\u001b[0;34m)\u001b[0m\u001b[0;34m,\u001b[0m \u001b[0mdata\u001b[0m\u001b[0;34m.\u001b[0m\u001b[0me_radius\u001b[0m\u001b[0;34m[\u001b[0m\u001b[0;34m:\u001b[0m\u001b[0;34m,\u001b[0m \u001b[0msubset_ind\u001b[0m\u001b[0;34m]\u001b[0m\u001b[0;34m,\u001b[0m \u001b[0memb\u001b[0m\u001b[0;34m)\u001b[0m\u001b[0;34m.\u001b[0m\u001b[0msqueeze\u001b[0m\u001b[0;34m(\u001b[0m\u001b[0;34m)\u001b[0m\u001b[0;34m\u001b[0m\u001b[0;34m\u001b[0m\u001b[0m\n\u001b[0m\u001b[1;32m     13\u001b[0m         \u001b[0mval_loss\u001b[0m \u001b[0;34m=\u001b[0m \u001b[0mval_loss\u001b[0m \u001b[0;34m+\u001b[0m \u001b[0mF\u001b[0m\u001b[0;34m.\u001b[0m\u001b[0mbinary_cross_entropy_with_logits\u001b[0m\u001b[0;34m(\u001b[0m\u001b[0moutput\u001b[0m\u001b[0;34m,\u001b[0m \u001b[0mdata\u001b[0m\u001b[0;34m.\u001b[0m\u001b[0my\u001b[0m\u001b[0;34m[\u001b[0m\u001b[0msubset_ind\u001b[0m\u001b[0;34m]\u001b[0m\u001b[0;34m)\u001b[0m\u001b[0;34m\u001b[0m\u001b[0;34m\u001b[0m\u001b[0m\n\u001b[1;32m     14\u001b[0m \u001b[0;34m\u001b[0m\u001b[0m\n",
      "\u001b[0;32m~/.local/lib/python3.7/site-packages/torch/nn/modules/module.py\u001b[0m in \u001b[0;36m__call__\u001b[0;34m(self, *input, **kwargs)\u001b[0m\n\u001b[1;32m    548\u001b[0m             \u001b[0mresult\u001b[0m \u001b[0;34m=\u001b[0m \u001b[0mself\u001b[0m\u001b[0;34m.\u001b[0m\u001b[0m_slow_forward\u001b[0m\u001b[0;34m(\u001b[0m\u001b[0;34m*\u001b[0m\u001b[0minput\u001b[0m\u001b[0;34m,\u001b[0m \u001b[0;34m**\u001b[0m\u001b[0mkwargs\u001b[0m\u001b[0;34m)\u001b[0m\u001b[0;34m\u001b[0m\u001b[0;34m\u001b[0m\u001b[0m\n\u001b[1;32m    549\u001b[0m         \u001b[0;32melse\u001b[0m\u001b[0;34m:\u001b[0m\u001b[0;34m\u001b[0m\u001b[0;34m\u001b[0m\u001b[0m\n\u001b[0;32m--> 550\u001b[0;31m             \u001b[0mresult\u001b[0m \u001b[0;34m=\u001b[0m \u001b[0mself\u001b[0m\u001b[0;34m.\u001b[0m\u001b[0mforward\u001b[0m\u001b[0;34m(\u001b[0m\u001b[0;34m*\u001b[0m\u001b[0minput\u001b[0m\u001b[0;34m,\u001b[0m \u001b[0;34m**\u001b[0m\u001b[0mkwargs\u001b[0m\u001b[0;34m)\u001b[0m\u001b[0;34m\u001b[0m\u001b[0;34m\u001b[0m\u001b[0m\n\u001b[0m\u001b[1;32m    551\u001b[0m         \u001b[0;32mfor\u001b[0m \u001b[0mhook\u001b[0m \u001b[0;32min\u001b[0m \u001b[0mself\u001b[0m\u001b[0;34m.\u001b[0m\u001b[0m_forward_hooks\u001b[0m\u001b[0;34m.\u001b[0m\u001b[0mvalues\u001b[0m\u001b[0;34m(\u001b[0m\u001b[0;34m)\u001b[0m\u001b[0;34m:\u001b[0m\u001b[0;34m\u001b[0m\u001b[0;34m\u001b[0m\u001b[0m\n\u001b[1;32m    552\u001b[0m             \u001b[0mhook_result\u001b[0m \u001b[0;34m=\u001b[0m \u001b[0mhook\u001b[0m\u001b[0;34m(\u001b[0m\u001b[0mself\u001b[0m\u001b[0;34m,\u001b[0m \u001b[0minput\u001b[0m\u001b[0;34m,\u001b[0m \u001b[0mresult\u001b[0m\u001b[0;34m)\u001b[0m\u001b[0;34m\u001b[0m\u001b[0;34m\u001b[0m\u001b[0m\n",
      "\u001b[0;32m<ipython-input-3-7b966dc02d0c>\u001b[0m in \u001b[0;36mforward\u001b[0;34m(self, x, e, emb)\u001b[0m\n\u001b[1;32m    121\u001b[0m             \u001b[0mx\u001b[0m \u001b[0;34m=\u001b[0m \u001b[0mself\u001b[0m\u001b[0;34m.\u001b[0m\u001b[0minput_layer\u001b[0m\u001b[0;34m(\u001b[0m\u001b[0mtorch\u001b[0m\u001b[0;34m.\u001b[0m\u001b[0mcat\u001b[0m\u001b[0;34m(\u001b[0m\u001b[0;34m[\u001b[0m\u001b[0mx\u001b[0m\u001b[0;34m[\u001b[0m\u001b[0me\u001b[0m\u001b[0;34m[\u001b[0m\u001b[0;36m0\u001b[0m\u001b[0;34m]\u001b[0m\u001b[0;34m]\u001b[0m\u001b[0;34m,\u001b[0m \u001b[0memb\u001b[0m\u001b[0;34m[\u001b[0m\u001b[0me\u001b[0m\u001b[0;34m[\u001b[0m\u001b[0;36m0\u001b[0m\u001b[0;34m]\u001b[0m\u001b[0;34m]\u001b[0m\u001b[0;34m,\u001b[0m \u001b[0mx\u001b[0m\u001b[0;34m[\u001b[0m\u001b[0me\u001b[0m\u001b[0;34m[\u001b[0m\u001b[0;36m1\u001b[0m\u001b[0;34m]\u001b[0m\u001b[0;34m]\u001b[0m\u001b[0;34m,\u001b[0m \u001b[0memb\u001b[0m\u001b[0;34m[\u001b[0m\u001b[0me\u001b[0m\u001b[0;34m[\u001b[0m\u001b[0;36m1\u001b[0m\u001b[0;34m]\u001b[0m\u001b[0;34m]\u001b[0m\u001b[0;34m]\u001b[0m\u001b[0;34m,\u001b[0m \u001b[0mdim\u001b[0m\u001b[0;34m=\u001b[0m\u001b[0;34m-\u001b[0m\u001b[0;36m1\u001b[0m\u001b[0;34m)\u001b[0m\u001b[0;34m)\u001b[0m\u001b[0;34m\u001b[0m\u001b[0;34m\u001b[0m\u001b[0m\n\u001b[1;32m    122\u001b[0m         \u001b[0;32melse\u001b[0m\u001b[0;34m:\u001b[0m\u001b[0;34m\u001b[0m\u001b[0;34m\u001b[0m\u001b[0m\n\u001b[0;32m--> 123\u001b[0;31m             \u001b[0mx\u001b[0m \u001b[0;34m=\u001b[0m \u001b[0mself\u001b[0m\u001b[0;34m.\u001b[0m\u001b[0minput_layer\u001b[0m\u001b[0;34m(\u001b[0m\u001b[0mtorch\u001b[0m\u001b[0;34m.\u001b[0m\u001b[0mcat\u001b[0m\u001b[0;34m(\u001b[0m\u001b[0;34m[\u001b[0m\u001b[0mx\u001b[0m\u001b[0;34m[\u001b[0m\u001b[0me\u001b[0m\u001b[0;34m[\u001b[0m\u001b[0;36m0\u001b[0m\u001b[0;34m]\u001b[0m\u001b[0;34m]\u001b[0m\u001b[0;34m,\u001b[0m \u001b[0mx\u001b[0m\u001b[0;34m[\u001b[0m\u001b[0me\u001b[0m\u001b[0;34m[\u001b[0m\u001b[0;36m1\u001b[0m\u001b[0;34m]\u001b[0m\u001b[0;34m]\u001b[0m\u001b[0;34m]\u001b[0m\u001b[0;34m,\u001b[0m \u001b[0mdim\u001b[0m\u001b[0;34m=\u001b[0m\u001b[0;34m-\u001b[0m\u001b[0;36m1\u001b[0m\u001b[0;34m)\u001b[0m\u001b[0;34m)\u001b[0m\u001b[0;34m\u001b[0m\u001b[0;34m\u001b[0m\u001b[0m\n\u001b[0m\u001b[1;32m    124\u001b[0m         \u001b[0;32mfor\u001b[0m \u001b[0ml\u001b[0m \u001b[0;32min\u001b[0m \u001b[0mself\u001b[0m\u001b[0;34m.\u001b[0m\u001b[0mlayers\u001b[0m\u001b[0;34m:\u001b[0m\u001b[0;34m\u001b[0m\u001b[0;34m\u001b[0m\u001b[0m\n\u001b[1;32m    125\u001b[0m             \u001b[0mx\u001b[0m \u001b[0;34m=\u001b[0m \u001b[0ml\u001b[0m\u001b[0;34m(\u001b[0m\u001b[0mx\u001b[0m\u001b[0;34m)\u001b[0m\u001b[0;34m\u001b[0m\u001b[0;34m\u001b[0m\u001b[0m\n",
      "\u001b[0;32m~/.local/lib/python3.7/site-packages/torch/nn/modules/module.py\u001b[0m in \u001b[0;36m__call__\u001b[0;34m(self, *input, **kwargs)\u001b[0m\n\u001b[1;32m    548\u001b[0m             \u001b[0mresult\u001b[0m \u001b[0;34m=\u001b[0m \u001b[0mself\u001b[0m\u001b[0;34m.\u001b[0m\u001b[0m_slow_forward\u001b[0m\u001b[0;34m(\u001b[0m\u001b[0;34m*\u001b[0m\u001b[0minput\u001b[0m\u001b[0;34m,\u001b[0m \u001b[0;34m**\u001b[0m\u001b[0mkwargs\u001b[0m\u001b[0;34m)\u001b[0m\u001b[0;34m\u001b[0m\u001b[0;34m\u001b[0m\u001b[0m\n\u001b[1;32m    549\u001b[0m         \u001b[0;32melse\u001b[0m\u001b[0;34m:\u001b[0m\u001b[0;34m\u001b[0m\u001b[0;34m\u001b[0m\u001b[0m\n\u001b[0;32m--> 550\u001b[0;31m             \u001b[0mresult\u001b[0m \u001b[0;34m=\u001b[0m \u001b[0mself\u001b[0m\u001b[0;34m.\u001b[0m\u001b[0mforward\u001b[0m\u001b[0;34m(\u001b[0m\u001b[0;34m*\u001b[0m\u001b[0minput\u001b[0m\u001b[0;34m,\u001b[0m \u001b[0;34m**\u001b[0m\u001b[0mkwargs\u001b[0m\u001b[0;34m)\u001b[0m\u001b[0;34m\u001b[0m\u001b[0;34m\u001b[0m\u001b[0m\n\u001b[0m\u001b[1;32m    551\u001b[0m         \u001b[0;32mfor\u001b[0m \u001b[0mhook\u001b[0m \u001b[0;32min\u001b[0m \u001b[0mself\u001b[0m\u001b[0;34m.\u001b[0m\u001b[0m_forward_hooks\u001b[0m\u001b[0;34m.\u001b[0m\u001b[0mvalues\u001b[0m\u001b[0;34m(\u001b[0m\u001b[0;34m)\u001b[0m\u001b[0;34m:\u001b[0m\u001b[0;34m\u001b[0m\u001b[0;34m\u001b[0m\u001b[0m\n\u001b[1;32m    552\u001b[0m             \u001b[0mhook_result\u001b[0m \u001b[0;34m=\u001b[0m \u001b[0mhook\u001b[0m\u001b[0;34m(\u001b[0m\u001b[0mself\u001b[0m\u001b[0;34m,\u001b[0m \u001b[0minput\u001b[0m\u001b[0;34m,\u001b[0m \u001b[0mresult\u001b[0m\u001b[0;34m)\u001b[0m\u001b[0;34m\u001b[0m\u001b[0;34m\u001b[0m\u001b[0m\n",
      "\u001b[0;32m~/.local/lib/python3.7/site-packages/torch/nn/modules/linear.py\u001b[0m in \u001b[0;36mforward\u001b[0;34m(self, input)\u001b[0m\n\u001b[1;32m     85\u001b[0m \u001b[0;34m\u001b[0m\u001b[0m\n\u001b[1;32m     86\u001b[0m     \u001b[0;32mdef\u001b[0m \u001b[0mforward\u001b[0m\u001b[0;34m(\u001b[0m\u001b[0mself\u001b[0m\u001b[0;34m,\u001b[0m \u001b[0minput\u001b[0m\u001b[0;34m)\u001b[0m\u001b[0;34m:\u001b[0m\u001b[0;34m\u001b[0m\u001b[0;34m\u001b[0m\u001b[0m\n\u001b[0;32m---> 87\u001b[0;31m         \u001b[0;32mreturn\u001b[0m \u001b[0mF\u001b[0m\u001b[0;34m.\u001b[0m\u001b[0mlinear\u001b[0m\u001b[0;34m(\u001b[0m\u001b[0minput\u001b[0m\u001b[0;34m,\u001b[0m \u001b[0mself\u001b[0m\u001b[0;34m.\u001b[0m\u001b[0mweight\u001b[0m\u001b[0;34m,\u001b[0m \u001b[0mself\u001b[0m\u001b[0;34m.\u001b[0m\u001b[0mbias\u001b[0m\u001b[0;34m)\u001b[0m\u001b[0;34m\u001b[0m\u001b[0;34m\u001b[0m\u001b[0m\n\u001b[0m\u001b[1;32m     88\u001b[0m \u001b[0;34m\u001b[0m\u001b[0m\n\u001b[1;32m     89\u001b[0m     \u001b[0;32mdef\u001b[0m \u001b[0mextra_repr\u001b[0m\u001b[0;34m(\u001b[0m\u001b[0mself\u001b[0m\u001b[0;34m)\u001b[0m\u001b[0;34m:\u001b[0m\u001b[0;34m\u001b[0m\u001b[0;34m\u001b[0m\u001b[0m\n",
      "\u001b[0;32m~/.local/lib/python3.7/site-packages/torch/nn/functional.py\u001b[0m in \u001b[0;36mlinear\u001b[0;34m(input, weight, bias)\u001b[0m\n\u001b[1;32m   1608\u001b[0m     \u001b[0;32mif\u001b[0m \u001b[0minput\u001b[0m\u001b[0;34m.\u001b[0m\u001b[0mdim\u001b[0m\u001b[0;34m(\u001b[0m\u001b[0;34m)\u001b[0m \u001b[0;34m==\u001b[0m \u001b[0;36m2\u001b[0m \u001b[0;32mand\u001b[0m \u001b[0mbias\u001b[0m \u001b[0;32mis\u001b[0m \u001b[0;32mnot\u001b[0m \u001b[0;32mNone\u001b[0m\u001b[0;34m:\u001b[0m\u001b[0;34m\u001b[0m\u001b[0;34m\u001b[0m\u001b[0m\n\u001b[1;32m   1609\u001b[0m         \u001b[0;31m# fused op is marginally faster\u001b[0m\u001b[0;34m\u001b[0m\u001b[0;34m\u001b[0m\u001b[0;34m\u001b[0m\u001b[0m\n\u001b[0;32m-> 1610\u001b[0;31m         \u001b[0mret\u001b[0m \u001b[0;34m=\u001b[0m \u001b[0mtorch\u001b[0m\u001b[0;34m.\u001b[0m\u001b[0maddmm\u001b[0m\u001b[0;34m(\u001b[0m\u001b[0mbias\u001b[0m\u001b[0;34m,\u001b[0m \u001b[0minput\u001b[0m\u001b[0;34m,\u001b[0m \u001b[0mweight\u001b[0m\u001b[0;34m.\u001b[0m\u001b[0mt\u001b[0m\u001b[0;34m(\u001b[0m\u001b[0;34m)\u001b[0m\u001b[0;34m)\u001b[0m\u001b[0;34m\u001b[0m\u001b[0;34m\u001b[0m\u001b[0m\n\u001b[0m\u001b[1;32m   1611\u001b[0m     \u001b[0;32melse\u001b[0m\u001b[0;34m:\u001b[0m\u001b[0;34m\u001b[0m\u001b[0;34m\u001b[0m\u001b[0m\n\u001b[1;32m   1612\u001b[0m         \u001b[0moutput\u001b[0m \u001b[0;34m=\u001b[0m \u001b[0minput\u001b[0m\u001b[0;34m.\u001b[0m\u001b[0mmatmul\u001b[0m\u001b[0;34m(\u001b[0m\u001b[0mweight\u001b[0m\u001b[0;34m.\u001b[0m\u001b[0mt\u001b[0m\u001b[0;34m(\u001b[0m\u001b[0;34m)\u001b[0m\u001b[0;34m)\u001b[0m\u001b[0;34m\u001b[0m\u001b[0;34m\u001b[0m\u001b[0m\n",
      "\u001b[0;31mRuntimeError\u001b[0m: size mismatch, m1: [2009721 x 24], m2: [6 x 768] at /pytorch/aten/src/THC/generic/THCTensorMathBlas.cu:283"
     ]
    }
   ],
   "source": [
    "model.eval()\n",
    "edge_total_positive, edge_total_true, edge_total_true_positive = 0, 0, 0\n",
    "with torch.no_grad():\n",
    "    data = sample.to(device)\n",
    "\n",
    "    emb = (None if (model.hparams[\"emb_channels\"] == 0) \n",
    "           else data.embedding) \n",
    "    val_loss = torch.tensor(0)\n",
    "    for i in np.arange(0, 1., 0.2):\n",
    "#     subset_ind = torch.randint(data.e_radius.shape[1], (int(data.e_radius.shape[1]*0.2),))\n",
    "        subset_ind = torch.arange(start=int(data.e_radius.shape[1]*i), end=int(data.e_radius.shape[1]*(i+0.2)))\n",
    "        output = model(torch.cat([data.cell_data, data.x], axis=-1), data.e_radius[:, subset_ind], emb).squeeze()\n",
    "        val_loss = val_loss + F.binary_cross_entropy_with_logits(output, data.y[subset_ind])\n",
    "\n",
    "        #Edge filter performance\n",
    "        preds = F.sigmoid(output) > 0.18 #Maybe send to CPU??\n",
    "        edge_positive = preds.sum().float()\n",
    "        edge_true = data.y[subset_ind].sum()\n",
    "        edge_true_positive = (data.y[subset_ind].bool() & preds).sum().float()\n",
    "\n",
    "        edge_total_positive += edge_positive\n",
    "        edge_total_true += edge_true\n",
    "        edge_total_true_positive += edge_true_positive\n",
    "        "
   ]
  },
  {
   "cell_type": "code",
   "execution_count": 34,
   "metadata": {
    "hidden": true
   },
   "outputs": [
    {
     "ename": "ZeroDivisionError",
     "evalue": "division by zero",
     "output_type": "error",
     "traceback": [
      "\u001b[0;31m---------------------------------------------------------------------------\u001b[0m",
      "\u001b[0;31mZeroDivisionError\u001b[0m                         Traceback (most recent call last)",
      "\u001b[0;32m<ipython-input-34-8c7536b70a08>\u001b[0m in \u001b[0;36m<module>\u001b[0;34m\u001b[0m\n\u001b[0;32m----> 1\u001b[0;31m \u001b[0medge_total_true_positive\u001b[0m \u001b[0;34m/\u001b[0m \u001b[0medge_total_true\u001b[0m\u001b[0;34m,\u001b[0m \u001b[0medge_total_true_positive\u001b[0m \u001b[0;34m/\u001b[0m \u001b[0medge_total_positive\u001b[0m\u001b[0;34m\u001b[0m\u001b[0;34m\u001b[0m\u001b[0m\n\u001b[0m",
      "\u001b[0;31mZeroDivisionError\u001b[0m: division by zero"
     ]
    }
   ],
   "source": [
    "edge_total_true_positive / edge_total_true, edge_total_true_positive / edge_total_positive"
   ]
  },
  {
   "cell_type": "code",
   "execution_count": 229,
   "metadata": {
    "hidden": true
   },
   "outputs": [],
   "source": [
    "import seaborn as sns"
   ]
  },
  {
   "cell_type": "code",
   "execution_count": 230,
   "metadata": {
    "hidden": true
   },
   "outputs": [],
   "source": [
    "av_coords = (sample.x[sample.e_radius[0,subset_ind]] + sample.x[sample.e_radius[1,subset_ind]])/2"
   ]
  },
  {
   "cell_type": "code",
   "execution_count": 70,
   "metadata": {
    "hidden": true
   },
   "outputs": [
    {
     "data": {
      "text/plain": [
       "<matplotlib.axes._subplots.AxesSubplot at 0x2aab7fa1b8d0>"
      ]
     },
     "execution_count": 70,
     "metadata": {},
     "output_type": "execute_result"
    },
    {
     "data": {
      "image/png": "[encoded data removed]",
      "text/plain": [
       "<Figure size 432x288 with 1 Axes>"
      ]
     },
     "metadata": {
      "needs_background": "light"
     },
     "output_type": "display_data"
    }
   ],
   "source": [
    "sns.distplot(av_coords[:,2].cpu(), hist_kws={'weights': data.y[subset_ind].cpu()})"
   ]
  },
  {
   "cell_type": "code",
   "execution_count": 231,
   "metadata": {
    "hidden": true
   },
   "outputs": [
    {
     "data": {
      "text/plain": [
       "<matplotlib.axes._subplots.AxesSubplot at 0x2aab7eeff490>"
      ]
     },
     "execution_count": 231,
     "metadata": {},
     "output_type": "execute_result"
    },
    {
     "data": {
      "image/png": "[encoded data removed]",
      "text/plain": [
       "<Figure size 432x288 with 1 Axes>"
      ]
     },
     "metadata": {
      "needs_background": "light"
     },
     "output_type": "display_data"
    }
   ],
   "source": [
    "sns.distplot(av_coords[:,2].cpu())"
   ]
  },
  {
   "cell_type": "code",
   "execution_count": 69,
   "metadata": {
    "hidden": true
   },
   "outputs": [
    {
     "data": {
      "text/plain": [
       "<matplotlib.axes._subplots.AxesSubplot at 0x2aab7ef8e150>"
      ]
     },
     "execution_count": 69,
     "metadata": {},
     "output_type": "execute_result"
    },
    {
     "data": {
      "image/png": "[encoded data removed]",
      "text/plain": [
       "<Figure size 432x288 with 1 Axes>"
      ]
     },
     "metadata": {
      "needs_background": "light"
     },
     "output_type": "display_data"
    }
   ],
   "source": [
    "sns.distplot(av_coords[:,2].cpu(), hist_kws={'weights': preds.float().cpu()})"
   ]
  },
  {
   "cell_type": "code",
   "execution_count": 74,
   "metadata": {
    "hidden": true
   },
   "outputs": [
    {
     "data": {
      "text/plain": [
       "<matplotlib.axes._subplots.AxesSubplot at 0x2aab7fceea10>"
      ]
     },
     "execution_count": 74,
     "metadata": {},
     "output_type": "execute_result"
    },
    {
     "data": {
      "image/png": "[encoded data removed]",
      "text/plain": [
       "<Figure size 432x288 with 1 Axes>"
      ]
     },
     "metadata": {
      "needs_background": "light"
     },
     "output_type": "display_data"
    }
   ],
   "source": [
    "sns.distplot(av_coords[:,2].cpu(), hist_kws={'weights': (data.y[subset_ind].bool().cpu() & ~preds.cpu()).float()})"
   ]
  },
  {
   "cell_type": "code",
   "execution_count": 77,
   "metadata": {
    "hidden": true
   },
   "outputs": [
    {
     "data": {
      "text/plain": [
       "<matplotlib.axes._subplots.AxesSubplot at 0x2aab7ff73bd0>"
      ]
     },
     "execution_count": 77,
     "metadata": {},
     "output_type": "execute_result"
    },
    {
     "data": {
      "image/png": "[encoded data removed]",
      "text/plain": [
       "<Figure size 432x288 with 1 Axes>"
      ]
     },
     "metadata": {
      "needs_background": "light"
     },
     "output_type": "display_data"
    }
   ],
   "source": [
    "sns.distplot(subset_ind, hist_kws={'weights': preds.float().cpu()})"
   ]
  },
  {
   "cell_type": "code",
   "execution_count": 36,
   "metadata": {
    "hidden": true
   },
   "outputs": [
    {
     "data": {
      "text/plain": [
       "<matplotlib.axes._subplots.AxesSubplot at 0x2aab7c890a90>"
      ]
     },
     "execution_count": 36,
     "metadata": {},
     "output_type": "execute_result"
    },
    {
     "data": {
      "image/png": "[encoded data removed]",
      "text/plain": [
       "<Figure size 432x288 with 1 Axes>"
      ]
     },
     "metadata": {
      "needs_background": "light"
     },
     "output_type": "display_data"
    }
   ],
   "source": [
    "sns.distplot(subset_ind)"
   ]
  },
  {
   "cell_type": "code",
   "execution_count": 25,
   "metadata": {
    "hidden": true
   },
   "outputs": [
    {
     "data": {
      "text/plain": [
       "tensor(119409, device='cuda:0')"
      ]
     },
     "execution_count": 25,
     "metadata": {},
     "output_type": "execute_result"
    }
   ],
   "source": [
    "(F.sigmoid(output) > 0.3).sum()"
   ]
  },
  {
   "cell_type": "code",
   "execution_count": 41,
   "metadata": {
    "hidden": true
   },
   "outputs": [
    {
     "data": {
      "text/plain": [
       "tensor([[   109,    559,   5044,  ..., 103302, 103302, 100242],\n",
       "        [     0,      0,      0,  ...,  63199,  90855, 103302]],\n",
       "       device='cuda:0')"
      ]
     },
     "execution_count": 41,
     "metadata": {},
     "output_type": "execute_result"
    }
   ],
   "source": [
    "sample.edge_index"
   ]
  },
  {
   "cell_type": "code",
   "execution_count": 19,
   "metadata": {
    "hidden": true
   },
   "outputs": [
    {
     "data": {
      "text/plain": [
       "torch.Size([2, 123429])"
      ]
     },
     "execution_count": 19,
     "metadata": {},
     "output_type": "execute_result"
    }
   ],
   "source": [
    "sample.layerless_true_edges.shape"
   ]
  },
  {
   "cell_type": "code",
   "execution_count": 17,
   "metadata": {
    "hidden": true
   },
   "outputs": [
    {
     "data": {
      "text/plain": [
       "tensor(120268., device='cuda:0')"
      ]
     },
     "execution_count": 17,
     "metadata": {},
     "output_type": "execute_result"
    }
   ],
   "source": [
    "sample.y.sum()"
   ]
  },
  {
   "cell_type": "code",
   "execution_count": 95,
   "metadata": {
    "hidden": true
   },
   "outputs": [],
   "source": [
    "sample = torch.load(all_events[0], map_location=\"cpu\")"
   ]
  },
  {
   "cell_type": "code",
   "execution_count": 106,
   "metadata": {
    "hidden": true
   },
   "outputs": [],
   "source": [
    "def construct_downstream(batch, pl_module):\n",
    "\n",
    "    emb = (None if (pl_module.hparams[\"emb_channels\"] == 0)\n",
    "           else batch.embedding)  # Does this work??\n",
    "    \n",
    "    sections = 16\n",
    "    cut_list = []\n",
    "    for j in range(sections):\n",
    "#         print(j)\n",
    "        subset_ind = torch.chunk(torch.arange(batch.e_radius.shape[1]), sections)[j]\n",
    "        output = pl_module(torch.cat([batch.cell_data, batch.x], axis=-1), batch.e_radius[:, subset_ind], emb).squeeze() if ('ci' in pl_module.hparams[\"regime\"]) else pl_module(batch.x, batch.e_radius[:, subset_ind], emb).squeeze()\n",
    "        av_coords = (batch.x[batch.e_radius[0,subset_ind]] + batch.x[batch.e_radius[1,subset_ind]])/2\n",
    "#         dynamic_cut = torch.tensor([0.05]*len(subset_ind), device=device)\n",
    "#         dynamic_cut[((av_coords[:,2] < 0.5) & (av_coords[:,2] > -0.5))] = 0.01\n",
    "        dynamic_cut = 0.15\n",
    "#         dynamic_cut = 0.1 if (9 <= j < 14) else 0.1\n",
    "        cut = F.sigmoid(output) > dynamic_cut\n",
    "        cut_list.append(cut)\n",
    "#     print(\"Predicted!\")\n",
    "    y_pid = batch.pid[batch.e_radius[0]] == batch.pid[batch.e_radius[1]]\n",
    "    cut_list = torch.cat(cut_list)\n",
    "    batch.edge_index = batch.e_radius[:, cut_list]\n",
    "#     batch.e_radius = None\n",
    "    batch.embedding = None\n",
    "    batch.y_filter = batch.y[cut_list]\n",
    "    \n",
    "    return batch"
   ]
  },
  {
   "cell_type": "code",
   "execution_count": 107,
   "metadata": {
    "hidden": true
   },
   "outputs": [],
   "source": [
    "with torch.no_grad():\n",
    "    processed = construct_downstream(sample.to(device), model)"
   ]
  },
  {
   "cell_type": "code",
   "execution_count": 108,
   "metadata": {
    "hidden": true
   },
   "outputs": [
    {
     "data": {
      "text/plain": [
       "tensor(0.9613, device='cuda:0')"
      ]
     },
     "execution_count": 108,
     "metadata": {},
     "output_type": "execute_result"
    }
   ],
   "source": [
    "processed.y_filter.sum() / processed.y.sum()"
   ]
  },
  {
   "cell_type": "code",
   "execution_count": 109,
   "metadata": {
    "hidden": true
   },
   "outputs": [
    {
     "data": {
      "text/plain": [
       "tensor(0.9366, device='cuda:0')"
      ]
     },
     "execution_count": 109,
     "metadata": {},
     "output_type": "execute_result"
    }
   ],
   "source": [
    "processed.y_filter.sum() / processed.layerless_true_edges.shape[1]"
   ]
  },
  {
   "cell_type": "code",
   "execution_count": 110,
   "metadata": {
    "hidden": true
   },
   "outputs": [
    {
     "data": {
      "text/plain": [
       "tensor(0.0563, device='cuda:0')"
      ]
     },
     "execution_count": 110,
     "metadata": {},
     "output_type": "execute_result"
    }
   ],
   "source": [
    "processed.y_filter.sum() / len(processed.y_filter)"
   ]
  },
  {
   "cell_type": "code",
   "execution_count": 111,
   "metadata": {
    "hidden": true
   },
   "outputs": [
    {
     "data": {
      "text/plain": [
       "torch.Size([2053390])"
      ]
     },
     "execution_count": 111,
     "metadata": {},
     "output_type": "execute_result"
    }
   ],
   "source": [
    "processed.y_filter.shape"
   ]
  },
  {
   "cell_type": "code",
   "execution_count": 203,
   "metadata": {
    "hidden": true
   },
   "outputs": [
    {
     "data": {
      "text/plain": [
       "tensor(0.9879, device='cuda:0')"
      ]
     },
     "execution_count": 203,
     "metadata": {},
     "output_type": "execute_result"
    }
   ],
   "source": [
    "processed.y_filter.sum() / processed.y.sum()"
   ]
  },
  {
   "cell_type": "code",
   "execution_count": 204,
   "metadata": {
    "hidden": true
   },
   "outputs": [
    {
     "data": {
      "text/plain": [
       "tensor(0.9626, device='cuda:0')"
      ]
     },
     "execution_count": 204,
     "metadata": {},
     "output_type": "execute_result"
    }
   ],
   "source": [
    "processed.y_filter.sum() / processed.layerless_true_edges.shape[1]"
   ]
  },
  {
   "cell_type": "code",
   "execution_count": 205,
   "metadata": {
    "hidden": true
   },
   "outputs": [
    {
     "data": {
      "text/plain": [
       "tensor(0.0314, device='cuda:0')"
      ]
     },
     "execution_count": 205,
     "metadata": {},
     "output_type": "execute_result"
    }
   ],
   "source": [
    "processed.y_filter.sum() / len(processed.y_filter)"
   ]
  },
  {
   "cell_type": "code",
   "execution_count": 23,
   "metadata": {
    "hidden": true
   },
   "outputs": [],
   "source": [
    "with torch.no_grad():\n",
    "    batch = sample.to(device)\n",
    "\n",
    "    emb = (None if (model.hparams[\"emb_channels\"] == 0)\n",
    "           else batch.embedding)  # Does this work??\n",
    "\n",
    "    sections = 8\n",
    "    cut_list = []\n",
    "    for j in range(sections):\n",
    "    #         print(j)\n",
    "        subset_ind = torch.chunk(torch.arange(batch.e_radius.shape[1]), sections)[j]\n",
    "        output = model(torch.cat([batch.cell_data, batch.x], axis=-1), batch.e_radius[:, subset_ind], emb).squeeze() if ('ci' in model.hparams[\"regime\"]) else model(batch.x, batch.e_radius[:, subset_ind], emb).squeeze()\n",
    "        cut = F.sigmoid(output) > model.hparams[\"filter_cut\"]\n",
    "        cut_list.append(cut)\n",
    "    #     print(\"Predicted!\")\n",
    "    y_pid = batch.pid[batch.e_radius[0]] == batch.pid[batch.e_radius[1]]\n",
    "    cut_list = torch.cat(cut_list)\n",
    "    batch.edge_index = batch.e_radius[:, cut_list]\n",
    "    batch.e_radius = None\n",
    "    batch.embedding = None\n",
    "    if \"pid\" not in model.hparams[\"regime\"]:\n",
    "        batch.y = batch.y[cut_list]\n",
    "    else:\n",
    "        batch.y = None\n",
    "    batch.y_pid = y_pid[cut_list]"
   ]
  },
  {
   "cell_type": "code",
   "execution_count": 160,
   "metadata": {
    "hidden": true,
    "scrolled": true
   },
   "outputs": [
    {
     "name": "stdout",
     "output_type": "stream",
     "text": [
      "0\n",
      "tensor(5076., device='cuda:0')\n",
      "tensor(0.9354, device='cuda:0')\n",
      "tensor(0.0459, device='cuda:0')\n",
      "1\n",
      "tensor(6405., device='cuda:0')\n",
      "tensor(0.9026, device='cuda:0')\n",
      "tensor(0.0601, device='cuda:0')\n",
      "2\n",
      "tensor(6156., device='cuda:0')\n",
      "tensor(0.9581, device='cuda:0')\n",
      "tensor(0.0566, device='cuda:0')\n",
      "3\n",
      "tensor(5700., device='cuda:0')\n",
      "tensor(0.9484, device='cuda:0')\n",
      "tensor(0.0486, device='cuda:0')\n",
      "4\n",
      "tensor(5304., device='cuda:0')\n",
      "tensor(0.9327, device='cuda:0')\n",
      "tensor(0.0405, device='cuda:0')\n",
      "5\n",
      "tensor(5270., device='cuda:0')\n",
      "tensor(0.9230, device='cuda:0')\n",
      "tensor(0.0424, device='cuda:0')\n",
      "6\n",
      "tensor(4484., device='cuda:0')\n",
      "tensor(0.9349, device='cuda:0')\n",
      "tensor(0.0345, device='cuda:0')\n",
      "7\n",
      "tensor(4497., device='cuda:0')\n",
      "tensor(0.9128, device='cuda:0')\n",
      "tensor(0.0341, device='cuda:0')\n",
      "8\n",
      "tensor(5020., device='cuda:0')\n",
      "tensor(0.9709, device='cuda:0')\n",
      "tensor(0.0405, device='cuda:0')\n",
      "9\n",
      "tensor(10126., device='cuda:0')\n",
      "tensor(0.9958, device='cuda:0')\n",
      "tensor(0.0903, device='cuda:0')\n",
      "10\n",
      "tensor(11166., device='cuda:0')\n",
      "tensor(0.9937, device='cuda:0')\n",
      "tensor(0.1003, device='cuda:0')\n",
      "11\n",
      "tensor(8977., device='cuda:0')\n",
      "tensor(0.9962, device='cuda:0')\n",
      "tensor(0.0772, device='cuda:0')\n",
      "12\n",
      "tensor(8127., device='cuda:0')\n",
      "tensor(0.9932, device='cuda:0')\n",
      "tensor(0.0698, device='cuda:0')\n",
      "13\n",
      "tensor(12505., device='cuda:0')\n",
      "tensor(0.9898, device='cuda:0')\n",
      "tensor(0.1114, device='cuda:0')\n",
      "14\n",
      "tensor(10552., device='cuda:0')\n",
      "tensor(0.9144, device='cuda:0')\n",
      "tensor(0.0921, device='cuda:0')\n",
      "15\n",
      "tensor(10903., device='cuda:0')\n",
      "tensor(0.6994, device='cuda:0')\n",
      "tensor(0.0753, device='cuda:0')\n"
     ]
    }
   ],
   "source": [
    "with torch.no_grad():\n",
    "    batch = sample.to(device)\n",
    "\n",
    "    emb = (None if (model.hparams[\"emb_channels\"] == 0)\n",
    "           else batch.embedding)  # Does this work??\n",
    "\n",
    "    sections = 16\n",
    "    cut_list = []\n",
    "    for j in range(sections):\n",
    "        print(j)\n",
    "        subset_ind = torch.chunk(torch.arange(batch.e_radius.shape[1]), sections)[j]\n",
    "        output = model(torch.cat([batch.cell_data, batch.x], axis=-1), batch.e_radius[:, subset_ind], emb).squeeze() if ('ci' in model.hparams[\"regime\"]) else model(batch.x, batch.e_radius[:, subset_ind], emb).squeeze()\n",
    "        av_coords = (batch.x[batch.e_radius[0,subset_ind]] + batch.x[batch.e_radius[1,subset_ind]])/2\n",
    "#         dynamic_cut = torch.tensor([0.1]*len(subset_ind), device=device)\n",
    "#         dynamic_cut[((av_coords[:,2] < 1) & (av_coords[:,2] > -1))] = 0.05\n",
    "#         dynamic_cut = 0.5 if (9 <= j < 14) else 0.05\n",
    "        dynamic_cut = 0.1\n",
    "        cut = F.sigmoid(output) > dynamic_cut\n",
    "        cut_list.append(cut)\n",
    "#         print(cut.sum())\n",
    "        print(batch.y[subset_ind].sum())\n",
    "        print((batch.y[subset_ind].bool() & cut).sum() / batch.y[subset_ind].sum())\n",
    "        print((batch.y[subset_ind].bool() & cut).sum() / cut.float().sum())\n",
    "        "
   ]
  },
  {
   "cell_type": "code",
   "execution_count": 100,
   "metadata": {
    "hidden": true
   },
   "outputs": [
    {
     "data": {
      "text/plain": [
       "tensor([0.1000, 0.1000, 0.1000,  ..., 0.1000, 0.1000, 0.1000])"
      ]
     },
     "execution_count": 100,
     "metadata": {},
     "output_type": "execute_result"
    }
   ],
   "source": [
    "dynamic_cut[((av_coords[:,2] < 1) & (av_coords[:,2] > -1))]"
   ]
  },
  {
   "cell_type": "code",
   "execution_count": 96,
   "metadata": {
    "hidden": true
   },
   "outputs": [
    {
     "data": {
      "text/plain": [
       "tensor([True, True, True,  ..., True, True, True], device='cuda:0')"
      ]
     },
     "execution_count": 96,
     "metadata": {},
     "output_type": "execute_result"
    }
   ],
   "source": [
    "(av_coords[:,2]) < 1"
   ]
  },
  {
   "cell_type": "code",
   "execution_count": 15,
   "metadata": {
    "hidden": true
   },
   "outputs": [
    {
     "data": {
      "text/plain": [
       "torch.Size([10048605])"
      ]
     },
     "execution_count": 15,
     "metadata": {},
     "output_type": "execute_result"
    }
   ],
   "source": [
    "cut_list.shape"
   ]
  },
  {
   "cell_type": "code",
   "execution_count": 22,
   "metadata": {
    "hidden": true
   },
   "outputs": [
    {
     "data": {
      "text/plain": [
       "tensor(120268.)"
      ]
     },
     "execution_count": 22,
     "metadata": {},
     "output_type": "execute_result"
    }
   ],
   "source": [
    "sample.y.sum()"
   ]
  },
  {
   "cell_type": "code",
   "execution_count": 25,
   "metadata": {
    "hidden": true
   },
   "outputs": [
    {
     "data": {
      "text/plain": [
       "tensor(0.8509, device='cuda:0')"
      ]
     },
     "execution_count": 25,
     "metadata": {},
     "output_type": "execute_result"
    }
   ],
   "source": [
    "sample.y.sum() / sample.layerless_true_edges.shape[1]"
   ]
  },
  {
   "cell_type": "code",
   "execution_count": 32,
   "metadata": {
    "hidden": true
   },
   "outputs": [],
   "source": [
    "import matplotlib.pyplot as plt"
   ]
  },
  {
   "cell_type": "code",
   "execution_count": 33,
   "metadata": {
    "hidden": true
   },
   "outputs": [],
   "source": [
    "r = sample.x[sample.layerless_true_edges[:,:70],0].cpu()\n",
    "phi = sample.x[sample.layerless_true_edges[:,:70],1].cpu()\n",
    "z = sample.x[sample.layerless_true_edges[:,:70],2].cpu()\n",
    "x = r*np.cos(phi)\n",
    "y = r*np.sin(phi)"
   ]
  },
  {
   "cell_type": "code",
   "execution_count": 34,
   "metadata": {
    "hidden": true
   },
   "outputs": [
    {
     "data": {
      "image/png": "[encoded data removed]",
      "text/plain": [
       "<Figure size 432x288 with 1 Axes>"
      ]
     },
     "metadata": {
      "needs_background": "light"
     },
     "output_type": "display_data"
    }
   ],
   "source": [
    "plt.plot(x,y);"
   ]
  },
  {
   "cell_type": "markdown",
   "metadata": {
    "heading_collapsed": true
   },
   "source": [
    "## Build Graph Set"
   ]
  },
  {
   "cell_type": "code",
   "execution_count": 20,
   "metadata": {
    "hidden": true
   },
   "outputs": [],
   "source": [
    "def post_process(pl_module, load_dir, save_dir):\n",
    "    print(\"Training finished, running inference to filter graphs...\")\n",
    "\n",
    "    # By default, the set of examples propagated through the pipeline will be train+val+test set\n",
    "    datatypes = [\"train\", \"val\", \"test\"]\n",
    "    [os.makedirs(os.path.join(save_dir, datatype), exist_ok=True) for datatype in datatypes]\n",
    "    \n",
    "    input_dirs = [os.path.join(load_dir, datatype) for datatype in datatypes]\n",
    "    loadsets = [load_dataset(input_dir) for input_dir in input_dirs]\n",
    "    \n",
    "    total_length = sum([len(dataset) for dataset in loadsets])\n",
    "    batch_incr = 0\n",
    "\n",
    "    pl_module.eval()\n",
    "    with torch.no_grad():\n",
    "        for set_idx, (datatype, dataset) in enumerate(zip(datatypes, loadsets)):\n",
    "            for batch_idx, event in enumerate(dataset):\n",
    "#                 print(event)\n",
    "                percent = (batch_incr / total_length) * 100\n",
    "                sys.stdout.flush()\n",
    "                sys.stdout.write(f'{percent:.01f}% inference complete \\r')\n",
    "                if (not os.path.exists(os.path.join(save_dir, datatype, event[-4:]))):\n",
    "                    batch = torch.load(event, map_location=torch.device('cpu'))\n",
    "                    data = batch.to(pl_module.device) #Is this step necessary??\n",
    "                    data = construct_downstream(data, pl_module)\n",
    "                    save_downstream(data, pl_module, datatype, save_dir)\n",
    "\n",
    "                batch_incr += 1\n",
    "\n",
    "def construct_downstream(batch, pl_module):\n",
    "\n",
    "    emb = (None if (pl_module.hparams[\"emb_channels\"] == 0)\n",
    "           else batch.embedding)  # Does this work??\n",
    "    \n",
    "    sections = 8\n",
    "    cut_list = []\n",
    "    for j in range(sections):\n",
    "#         print(j)\n",
    "        subset_ind = torch.chunk(torch.arange(batch.e_radius.shape[1]), sections)[j]\n",
    "        output = pl_module(torch.cat([batch.cell_data, batch.x], axis=-1), batch.e_radius[:, subset_ind], emb).squeeze() if ('ci' in pl_module.hparams[\"regime\"]) else pl_module(batch.x, batch.e_radius[:, subset_ind], emb).squeeze()\n",
    "        cut = F.sigmoid(output) > pl_module.hparams[\"filter_cut\"]\n",
    "        cut_list.append(cut)\n",
    "#     print(\"Predicted!\")\n",
    "    y_pid = batch.pid[batch.e_radius[0]] == batch.pid[batch.e_radius[1]]\n",
    "    cut_list = torch.cat(cut_list)\n",
    "    batch.edge_index = batch.e_radius[:, cut_list]\n",
    "    batch.e_radius = None\n",
    "    batch.embedding = None\n",
    "    if \"pid\" not in pl_module.hparams[\"regime\"]:\n",
    "        batch.y = batch.y[cut_list]\n",
    "    else:\n",
    "        batch.y = None\n",
    "    batch.y_pid = y_pid[cut_list]\n",
    "    \n",
    "    return batch\n",
    "\n",
    "def save_downstream(batch, pl_module, datatype, save_dir):\n",
    "\n",
    "    with open(os.path.join(save_dir, datatype, batch.event_file[-4:]), 'wb') as pickle_file:\n",
    "        torch.save(batch, pickle_file)\n"
   ]
  },
  {
   "cell_type": "code",
   "execution_count": 42,
   "metadata": {
    "hidden": true
   },
   "outputs": [],
   "source": [
    "def load_dataset(input_dir):\n",
    "    all_events = os.listdir(input_dir)\n",
    "    all_events = sorted([os.path.join(input_dir, event) for event in all_events])\n",
    "\n",
    "    return all_events"
   ]
  },
  {
   "cell_type": "code",
   "execution_count": 43,
   "metadata": {
    "hidden": true
   },
   "outputs": [],
   "source": [
    "load_dir = \"/global/cscratch1/sd/danieltm/ExaTrkX/trackml_processed/embedding_processed/0_pt_cut_endcaps\"\n",
    "save_dir = \"/global/cscratch1/sd/danieltm/ExaTrkX/trackml_processed/filter_processed/0_pt_cut_endcaps_connected\""
   ]
  },
  {
   "cell_type": "code",
   "execution_count": 44,
   "metadata": {
    "hidden": true
   },
   "outputs": [
    {
     "name": "stdout",
     "output_type": "stream",
     "text": [
      "Training finished, running inference to filter graphs...\n",
      "99.9% inference complete \r"
     ]
    }
   ],
   "source": [
    "post_process(model, load_dir, save_dir)"
   ]
  },
  {
   "cell_type": "code",
   "execution_count": null,
   "metadata": {
    "hidden": true
   },
   "outputs": [],
   "source": [
    "model.eval()\n",
    "with torch.no_grad():\n",
    "    for \n",
    "        for i, batch in enumerate(train_dataset):\n",
    "            tic = tt()\n",
    "            if not os.path.exists(os.path.join(save_dir, batch.event_file[-4:])):\n",
    "                data = batch.to(device)\n",
    "                emb = (None if (hparams[\"emb_channels\"] == 0) \n",
    "                           else data.embedding) \n",
    "\n",
    "                cut_list = []\n",
    "                for j in range(sections):\n",
    "                    subset_ind = torch.chunk(torch.arange(data.e_radius.shape[1]), sections)[j]\n",
    "    #                 print(subset_ind)\n",
    "                    output = model(torch.cat([data.cell_data, data.x], axis=-1), data.e_radius[:, subset_ind], emb).squeeze() if ('ci' in hparams[\"regime\"]) else model(data.x, data.e_radius[:, subset_ind], emb).squeeze()\n",
    "                    cut = F.sigmoid(output) > 0.35\n",
    "                    cut_list.append(cut)\n",
    "\n",
    "                cut_list = torch.cat(cut_list)\n",
    "                batch.edge_index = batch.e_radius[:, cut_list]\n",
    "                batch.e_radius = None\n",
    "                batch.embedding = None\n",
    "        #         batch.x = batch.x.cpu()\n",
    "        #         batch.y = torch.from_numpy(y[combined_indices]).float()\n",
    "                batch.y = batch.y[cut_list]\n",
    "\n",
    "                with open(os.path.join(save_dir, batch.event_file[-4:]), 'wb') as pickle_file:\n",
    "                    torch.save(batch, pickle_file)\n",
    "\n",
    "            print(i, \"saved in time\", tt()-tic)\n",
    "    #         break"
   ]
  },
  {
   "cell_type": "code",
   "execution_count": 55,
   "metadata": {
    "hidden": true,
    "scrolled": true
   },
   "outputs": [
    {
     "name": "stdout",
     "output_type": "stream",
     "text": [
      "0 already built\n",
      "1 already built\n",
      "2 already built\n",
      "3 already built\n",
      "4 already built\n",
      "5 already built\n",
      "6 already built\n",
      "7 already built\n",
      "8 already built\n",
      "9 already built\n",
      "10 already built\n",
      "11 already built\n",
      "12 already built\n",
      "13 already built\n",
      "14 already built\n",
      "15 already built\n",
      "16 already built\n",
      "17 already built\n",
      "18 already built\n",
      "19 already built\n",
      "20 already built\n",
      "21 already built\n",
      "22 already built\n",
      "23 already built\n",
      "24 already built\n",
      "25 already built\n",
      "26 already built\n",
      "27 already built\n",
      "28 already built\n",
      "29 already built\n",
      "30 already built\n",
      "31 already built\n",
      "32 already built\n",
      "33 already built\n",
      "34 already built\n",
      "35 already built\n",
      "36 already built\n",
      "37 already built\n",
      "38 already built\n",
      "39 already built\n",
      "40 already built\n",
      "41 already built\n",
      "42 already built\n",
      "43 already built\n",
      "44 already built\n",
      "45 already built\n",
      "46 already built\n",
      "47 already built\n",
      "48 already built\n",
      "49 already built\n",
      "50 already built\n",
      "51 already built\n",
      "52 already built\n",
      "53 already built\n",
      "54 already built\n",
      "55 already built\n",
      "56 already built\n",
      "57 already built\n",
      "58 already built\n",
      "59 saved in time 5.765902280807495 with efficiency 0.9760021567344666 and purity 0.0130076315253973\n",
      "60 saved in time 7.05396580696106 with efficiency 0.9735508561134338 and purity 0.012030930258333683\n",
      "61 saved in time 3.9281487464904785 with efficiency 0.9739189147949219 and purity 0.015038900077342987\n",
      "62 saved in time 5.078753471374512 with efficiency 0.9772769212722778 and purity 0.012835629284381866\n",
      "63 saved in time 5.212491750717163 with efficiency 0.9737910628318787 and purity 0.013132509775459766\n",
      "64 saved in time 6.096397399902344 with efficiency 0.9758517146110535 and purity 0.01308666542172432\n",
      "65 saved in time 6.22529935836792 with efficiency 0.9748522043228149 and purity 0.012425638735294342\n",
      "66 saved in time 5.6675732135772705 with efficiency 0.976715087890625 and purity 0.012747363187372684\n",
      "67 saved in time 4.536586046218872 with efficiency 0.9772036075592041 and purity 0.014253919944167137\n",
      "68 saved in time 8.890730142593384 with efficiency 0.9751096367835999 and purity 0.011339920572936535\n",
      "69 saved in time 5.502119302749634 with efficiency 0.9762612581253052 and purity 0.012536182068288326\n",
      "70 saved in time 5.28673791885376 with efficiency 0.975019633769989 and purity 0.013181144371628761\n",
      "71 saved in time 6.606716156005859 with efficiency 0.9747148752212524 and purity 0.011822326108813286\n",
      "72 saved in time 8.026198863983154 with efficiency 0.9744740128517151 and purity 0.011253179982304573\n",
      "73 saved in time 4.840726375579834 with efficiency 0.9733009934425354 and purity 0.013272532261908054\n",
      "74 saved in time 4.619588375091553 with efficiency 0.9772128462791443 and purity 0.013453198596835136\n",
      "75 saved in time 3.6973087787628174 with efficiency 0.9780367016792297 and purity 0.014985509216785431\n",
      "76 saved in time 3.9706544876098633 with efficiency 0.9774010181427002 and purity 0.015218616463243961\n",
      "77 saved in time 4.108703136444092 with efficiency 0.9763035178184509 and purity 0.015290624462068081\n",
      "78 saved in time 5.445206165313721 with efficiency 0.9766365885734558 and purity 0.01347330305725336\n",
      "79 saved in time 6.929131031036377 with efficiency 0.9747827053070068 and purity 0.01195819117128849\n",
      "80 saved in time 5.2195494174957275 with efficiency 0.9749624133110046 and purity 0.012799283489584923\n",
      "81 saved in time 4.403406143188477 with efficiency 0.9760898947715759 and purity 0.01383861806243658\n",
      "82 saved in time 5.073794364929199 with efficiency 0.9754064083099365 and purity 0.011826936155557632\n",
      "83 saved in time 5.018097877502441 with efficiency 0.9744591116905212 and purity 0.012324618175625801\n",
      "84 saved in time 5.625274896621704 with efficiency 0.9708766341209412 and purity 0.012254597619175911\n",
      "85 saved in time 3.6197195053100586 with efficiency 0.9730446338653564 and purity 0.014156992547214031\n",
      "86 saved in time 4.0516626834869385 with efficiency 0.9713116884231567 and purity 0.013535013422369957\n",
      "87 saved in time 5.309300184249878 with efficiency 0.9748419523239136 and purity 0.012841029092669487\n",
      "88 saved in time 5.467803955078125 with efficiency 0.9745949506759644 and purity 0.012207359075546265\n",
      "89 saved in time 4.794459581375122 with efficiency 0.9768110513687134 and purity 0.013216808438301086\n",
      "90 saved in time 8.142253875732422 with efficiency 0.9735791087150574 and purity 0.011797239072620869\n",
      "91 saved in time 3.167573928833008 with efficiency 0.9770463109016418 and purity 0.014605697244405746\n",
      "92 saved in time 7.640714406967163 with efficiency 0.9699689149856567 and purity 0.011947679333388805\n",
      "93 saved in time 4.6275811195373535 with efficiency 0.9712573885917664 and purity 0.013120129704475403\n",
      "94 saved in time 5.066020250320435 with efficiency 0.9766305685043335 and purity 0.012305312789976597\n",
      "95 saved in time 4.5160980224609375 with efficiency 0.9747181534767151 and purity 0.012291522696614265\n",
      "96 saved in time 2.841407537460327 with efficiency 0.9717094302177429 and purity 0.014663095586001873\n",
      "97 saved in time 4.954846382141113 with efficiency 0.9757389426231384 and purity 0.012307796627283096\n",
      "98 saved in time 3.8567588329315186 with efficiency 0.9759711623191833 and purity 0.01318386197090149\n",
      "99 saved in time 3.3322372436523438 with efficiency 0.9755355715751648 and purity 0.014155028387904167\n",
      "100 saved in time 2.93830943107605 with efficiency 0.9775171279907227 and purity 0.015598046593368053\n",
      "101 saved in time 5.723185300827026 with efficiency 0.9767054915428162 and purity 0.012452573515474796\n",
      "102 saved in time 3.8046512603759766 with efficiency 0.9764668345451355 and purity 0.01320754736661911\n",
      "103 saved in time 5.846438884735107 with efficiency 0.9764142632484436 and purity 0.012028560973703861\n",
      "104 saved in time 3.3646700382232666 with efficiency 0.9775716662406921 and purity 0.013850215822458267\n",
      "105 saved in time 4.388471603393555 with efficiency 0.9714272618293762 and purity 0.013173537328839302\n"
     ]
    },
    {
     "name": "stderr",
     "output_type": "stream",
     "text": [
      "ERROR:root:Internal Python error in the inspect module.\n",
      "Below is the traceback from this internal error.\n",
      "\n"
     ]
    },
    {
     "name": "stdout",
     "output_type": "stream",
     "text": [
      "Traceback (most recent call last):\n",
      "  File \"/global/homes/d/danieltm/.local/lib/python3.7/site-packages/IPython/core/interactiveshell.py\", line 3331, in run_code\n",
      "    exec(code_obj, self.user_global_ns, self.user_ns)\n",
      "  File \"<ipython-input-55-89672923ace6>\", line 29, in <module>\n",
      "    e_spatial, y = graph_intersection(e_spatial, e_bidir)\n",
      "  File \"/global/u2/d/danieltm/ExaTrkX/Tracking-ML-Exa.TrkX/src/Pipelines/Examples/LightningModules/Embedding/utils.py\", line 14, in graph_intersection\n",
      "    l1 = pred_graph.cpu().numpy()\n",
      "KeyboardInterrupt\n",
      "\n",
      "During handling of the above exception, another exception occurred:\n",
      "\n",
      "Traceback (most recent call last):\n",
      "  File \"/global/homes/d/danieltm/.local/lib/python3.7/site-packages/IPython/core/interactiveshell.py\", line 2044, in showtraceback\n",
      "    stb = value._render_traceback_()\n",
      "AttributeError: 'KeyboardInterrupt' object has no attribute '_render_traceback_'\n",
      "\n",
      "During handling of the above exception, another exception occurred:\n",
      "\n",
      "Traceback (most recent call last):\n",
      "  File \"/global/homes/d/danieltm/.local/lib/python3.7/site-packages/IPython/core/ultratb.py\", line 1148, in get_records\n",
      "    return _fixed_getinnerframes(etb, number_of_lines_of_context, tb_offset)\n",
      "  File \"/global/homes/d/danieltm/.local/lib/python3.7/site-packages/IPython/core/ultratb.py\", line 316, in wrapped\n",
      "    return f(*args, **kwargs)\n",
      "  File \"/global/homes/d/danieltm/.local/lib/python3.7/site-packages/IPython/core/ultratb.py\", line 350, in _fixed_getinnerframes\n",
      "    records = fix_frame_records_filenames(inspect.getinnerframes(etb, context))\n",
      "  File \"/global/homes/d/danieltm/.conda/envs/exatrkx-test/lib/python3.7/inspect.py\", line 1502, in getinnerframes\n",
      "    frameinfo = (tb.tb_frame,) + getframeinfo(tb, context)\n",
      "  File \"/global/homes/d/danieltm/.conda/envs/exatrkx-test/lib/python3.7/inspect.py\", line 1460, in getframeinfo\n",
      "    filename = getsourcefile(frame) or getfile(frame)\n",
      "  File \"/global/homes/d/danieltm/.conda/envs/exatrkx-test/lib/python3.7/inspect.py\", line 696, in getsourcefile\n",
      "    if getattr(getmodule(object, filename), '__loader__', None) is not None:\n",
      "  File \"/global/homes/d/danieltm/.conda/envs/exatrkx-test/lib/python3.7/inspect.py\", line 733, in getmodule\n",
      "    if ismodule(module) and hasattr(module, '__file__'):\n",
      "KeyboardInterrupt\n"
     ]
    },
    {
     "ename": "KeyboardInterrupt",
     "evalue": "",
     "output_type": "error",
     "traceback": [
      "\u001b[0;31m---------------------------------------------------------------------------\u001b[0m"
     ]
    }
   ],
   "source": [
    "import numpy as np\n",
    "from numpy.random import shuffle, choice\n",
    "from time import time as tt\n",
    "import os\n",
    "\n",
    "save_dir = \"/global/cscratch1/sd/danieltm/ExaTrkX/trackml_processed/filter_processed/0_pt_cut_endcaps/train\"\n",
    "train, ratio = False, 8\n",
    "\n",
    "model.eval()\n",
    "with torch.no_grad():\n",
    "    for i, batch in enumerate(model.train_dataloader().dataset):\n",
    "            tic = tt()\n",
    "            if not os.path.exists(os.path.join(save_dir, batch.event_file[-4:])):\n",
    "\n",
    "                data = batch.to(device)\n",
    "                if 'ci' in model.hparams['regime']:\n",
    "                    spatial = model(torch.cat([data.cell_data, data.x], axis=-1))\n",
    "                else:\n",
    "                    spatial = model(data.x)\n",
    "                e_spatial = build_edges(spatial, 1.7, 500, res)  \n",
    "                e_bidir = torch.cat([batch.layerless_true_edges.to(device), \n",
    "                                       torch.stack([batch.layerless_true_edges[1], batch.layerless_true_edges[0]], axis=1).T.to(device)], axis=-1) \n",
    "                e_spatial, y_cluster = graph_intersection(e_spatial, e_bidir)\n",
    "\n",
    "                # Remove duplicate edges by distance from vertex\n",
    "                R_dist = torch.sqrt(batch.x[:,0]**2 + batch.x[:,2]**2)\n",
    "                e_spatial = e_spatial[:, (R_dist[e_spatial[0]] < R_dist[e_spatial[1]])]\n",
    "\n",
    "                e_spatial, y = graph_intersection(e_spatial, e_bidir)  \n",
    "\n",
    "                # Re-introduce random direction, to avoid training bias\n",
    "                random_flip = torch.randint(2, (e_spatial.shape[1],)).bool()\n",
    "                e_spatial[0, random_flip], e_spatial[1, random_flip] = e_spatial[1, random_flip], e_spatial[0, random_flip]\n",
    "\n",
    "                batch.embedding = spatial.cpu().detach()\n",
    "\n",
    "                if train and (ratio != 0): # Sample only ratio:1 fake:true edges, to keep trainset manageable\n",
    "\n",
    "                    num_true = y.sum()\n",
    "                    fake_indices = choice(np.where(~y)[0], int(num_true*ratio), replace=True)\n",
    "                    true_indices = np.where(y)[0]\n",
    "                    combined_indices = np.concatenate([true_indices, fake_indices])\n",
    "                    shuffle(combined_indices)\n",
    "\n",
    "                    batch.e_radius = e_spatial[:,combined_indices].cpu()\n",
    "                    batch.y = torch.from_numpy(y[combined_indices]).float()\n",
    "\n",
    "                else:\n",
    "                    batch.e_radius = e_spatial.cpu()\n",
    "                    batch.y = torch.from_numpy(y).float()\n",
    "\n",
    "\n",
    "                with open(os.path.join(save_dir, batch.event_file[-4:]), 'wb') as pickle_file:\n",
    "                    torch.save(batch, pickle_file)\n",
    "\n",
    "                print(i, \"saved in time\", tt()-tic, \"with efficiency\", (batch.y.sum()/batch.layerless_true_edges.shape[1]).item(), \"and purity\", (batch.y.sum()/batch.e_radius.shape[1]).item())\n",
    "\n",
    "            else:\n",
    "                print(i, \"already built\")"
   ]
  },
  {
   "cell_type": "markdown",
   "metadata": {},
   "source": [
    "# GNN"
   ]
  },
  {
   "cell_type": "code",
   "execution_count": 3,
   "metadata": {},
   "outputs": [],
   "source": [
    "with open(\"LightningModules/GNN/train_gnn.yaml\") as f:\n",
    "    config = yaml.load(f, Loader=yaml.FullLoader)"
   ]
  },
  {
   "cell_type": "code",
   "execution_count": 4,
   "metadata": {},
   "outputs": [],
   "source": [
    "model = ResAGNN(config)"
   ]
  },
  {
   "cell_type": "markdown",
   "metadata": {},
   "source": [
    "Optionally load the Weights & Biases logger"
   ]
  },
  {
   "cell_type": "code",
   "execution_count": 5,
   "metadata": {},
   "outputs": [],
   "source": [
    "wandb_logger = WandbLogger(project=config[\"project\"], group=\"LayerlessEndcaps\", log_model=True, save_dir = config[\"wandb_save_dir\"])"
   ]
  },
  {
   "cell_type": "markdown",
   "metadata": {},
   "source": [
    "## Callback Testing"
   ]
  },
  {
   "cell_type": "code",
   "execution_count": 6,
   "metadata": {},
   "outputs": [
    {
     "name": "stderr",
     "output_type": "stream",
     "text": [
      "GPU available: True, used: True\n",
      "TPU available: False, using: 0 TPU cores\n",
      "CUDA_VISIBLE_DEVICES: [0]\n"
     ]
    }
   ],
   "source": [
    "trainer = pl.Trainer(max_epochs = config['max_epochs'], gpus=1, logger=wandb_logger, callbacks=stringlist_to_classes(config[\"callbacks\"]))"
   ]
  },
  {
   "cell_type": "code",
   "execution_count": 7,
   "metadata": {
    "scrolled": true
   },
   "outputs": [
    {
     "name": "stderr",
     "output_type": "stream",
     "text": [
      "Failed to query for notebook name, you can set it manually with the WANDB_NOTEBOOK_NAME environment variable\n",
      "\u001b[34m\u001b[1mwandb\u001b[0m: Currently logged in as: \u001b[33mmurnanedaniel\u001b[0m (use `wandb login --relogin` to force relogin)\n",
      "\u001b[34m\u001b[1mwandb\u001b[0m: wandb version 0.10.5 is available!  To upgrade, please run:\n",
      "\u001b[34m\u001b[1mwandb\u001b[0m:  $ pip install wandb --upgrade\n",
      "\u001b[34m\u001b[1mwandb\u001b[0m: Tracking run with wandb version 0.10.2\n",
      "\u001b[34m\u001b[1mwandb\u001b[0m: Run data is saved locally in /global/cscratch1/sd/danieltm/ExaTrkX/wandb_data/wandb/run-20201015_102508-z9d4id5q\n",
      "\u001b[34m\u001b[1mwandb\u001b[0m: Syncing run \u001b[33mneat-serenity-10\u001b[0m\n"
     ]
    },
    {
     "data": {
      "text/html": [
       "\n",
       "                Logging results to <a href=\"https://wandb.com\" target=\"_blank\">Weights & Biases</a> <a href=\"https://docs.wandb.com/integrations/jupyter.html\" target=\"_blank\">(Documentation)</a>.<br/>\n",
       "                Project page: <a href=\"https://wandb.ai/murnanedaniel/GNNStudy\" target=\"_blank\">https://wandb.ai/murnanedaniel/GNNStudy</a><br/>\n",
       "                Run page: <a href=\"https://wandb.ai/murnanedaniel/GNNStudy/runs/z9d4id5q\" target=\"_blank\">https://wandb.ai/murnanedaniel/GNNStudy/runs/z9d4id5q</a><br/>\n",
       "            "
      ],
      "text/plain": [
       "<IPython.core.display.HTML object>"
      ]
     },
     "metadata": {},
     "output_type": "display_data"
    },
    {
     "name": "stderr",
     "output_type": "stream",
     "text": [
      "Set SLURM handle signals.\n",
      "\n",
      "  | Name          | Type        | Params\n",
      "----------------------------------------------\n",
      "0 | input_network | Sequential  | 192   \n",
      "1 | edge_network  | EdgeNetwork | 5 K   \n",
      "2 | node_network  | NodeNetwork | 5 K   \n"
     ]
    },
    {
     "name": "stdout",
     "output_type": "stream",
     "text": [
      "\n"
     ]
    },
    {
     "data": {
      "application/vnd.jupyter.widget-view+json": {
       "model_id": "",
       "version_major": 2,
       "version_minor": 0
      },
      "text/plain": [
       "HBox(children=(FloatProgress(value=1.0, bar_style='info', description='Validation sanity check', layout=Layout…"
      ]
     },
     "metadata": {},
     "output_type": "display_data"
    },
    {
     "name": "stdout",
     "output_type": "stream",
     "text": [
      "\r"
     ]
    },
    {
     "data": {
      "application/vnd.jupyter.widget-view+json": {
       "model_id": "d06162e7823e42d381bfb0ee9b0a651e",
       "version_major": 2,
       "version_minor": 0
      },
      "text/plain": [
       "HBox(children=(FloatProgress(value=1.0, bar_style='info', description='Training', layout=Layout(flex='2'), max…"
      ]
     },
     "metadata": {},
     "output_type": "display_data"
    },
    {
     "data": {
      "application/vnd.jupyter.widget-view+json": {
       "model_id": "",
       "version_major": 2,
       "version_minor": 0
      },
      "text/plain": [
       "HBox(children=(FloatProgress(value=1.0, bar_style='info', description='Validating', layout=Layout(flex='2'), m…"
      ]
     },
     "metadata": {},
     "output_type": "display_data"
    },
    {
     "name": "stderr",
     "output_type": "stream",
     "text": [
      "Saving latest checkpoint..\n"
     ]
    },
    {
     "name": "stdout",
     "output_type": "stream",
     "text": [
      "\n"
     ]
    },
    {
     "data": {
      "text/plain": [
       "1"
      ]
     },
     "execution_count": 7,
     "metadata": {},
     "output_type": "execute_result"
    }
   ],
   "source": [
    "trainer.fit(model)"
   ]
  },
  {
   "cell_type": "code",
   "execution_count": 8,
   "metadata": {},
   "outputs": [
    {
     "data": {
      "text/plain": [
       "10.211020469665527"
      ]
     },
     "execution_count": 8,
     "metadata": {},
     "output_type": "execute_result"
    }
   ],
   "source": [
    "torch.cuda.max_memory_allocated() / 1024**3"
   ]
  },
  {
   "cell_type": "markdown",
   "metadata": {},
   "source": [
    "## Model Load and Test"
   ]
  },
  {
   "cell_type": "code",
   "execution_count": 12,
   "metadata": {},
   "outputs": [],
   "source": [
    "import torch.nn.functional as F"
   ]
  },
  {
   "cell_type": "code",
   "execution_count": 13,
   "metadata": {},
   "outputs": [],
   "source": [
    "run_label = \"oew8m1sj\"\n",
    "wandb_dir = \"/global/cscratch1/sd/danieltm/ExaTrkX/wandb_data\""
   ]
  },
  {
   "cell_type": "code",
   "execution_count": 14,
   "metadata": {},
   "outputs": [],
   "source": [
    "best_run_path = get_best_run(run_label,wandb_dir)"
   ]
  },
  {
   "cell_type": "code",
   "execution_count": 15,
   "metadata": {},
   "outputs": [],
   "source": [
    "chkpnt = torch.load(best_run_path)"
   ]
  },
  {
   "cell_type": "code",
   "execution_count": 16,
   "metadata": {},
   "outputs": [],
   "source": [
    "model = SplitCheckpointedResAGNN(chkpnt[\"hyper_parameters\"])"
   ]
  },
  {
   "cell_type": "code",
   "execution_count": 17,
   "metadata": {},
   "outputs": [],
   "source": [
    "model = model.load_from_checkpoint(best_run_path)"
   ]
  },
  {
   "cell_type": "code",
   "execution_count": 20,
   "metadata": {},
   "outputs": [
    {
     "ename": "AttributeError",
     "evalue": "'SplitCheckpointedResAGNN' object has no attribute 'learning_rate'",
     "output_type": "error",
     "traceback": [
      "\u001b[0;31m---------------------------------------------------------------------------\u001b[0m",
      "\u001b[0;31mAttributeError\u001b[0m                            Traceback (most recent call last)",
      "\u001b[0;32m<ipython-input-20-62de0655cdbe>\u001b[0m in \u001b[0;36m<module>\u001b[0;34m\u001b[0m\n\u001b[0;32m----> 1\u001b[0;31m \u001b[0mmodel\u001b[0m\u001b[0;34m.\u001b[0m\u001b[0mlearning_rate\u001b[0m\u001b[0;34m\u001b[0m\u001b[0;34m\u001b[0m\u001b[0m\n\u001b[0m",
      "\u001b[0;32m~/.local/lib/python3.7/site-packages/torch/nn/modules/module.py\u001b[0m in \u001b[0;36m__getattr__\u001b[0;34m(self, name)\u001b[0m\n\u001b[1;32m    592\u001b[0m                 \u001b[0;32mreturn\u001b[0m \u001b[0mmodules\u001b[0m\u001b[0;34m[\u001b[0m\u001b[0mname\u001b[0m\u001b[0;34m]\u001b[0m\u001b[0;34m\u001b[0m\u001b[0;34m\u001b[0m\u001b[0m\n\u001b[1;32m    593\u001b[0m         raise AttributeError(\"'{}' object has no attribute '{}'\".format(\n\u001b[0;32m--> 594\u001b[0;31m             type(self).__name__, name))\n\u001b[0m\u001b[1;32m    595\u001b[0m \u001b[0;34m\u001b[0m\u001b[0m\n\u001b[1;32m    596\u001b[0m     \u001b[0;32mdef\u001b[0m \u001b[0m__setattr__\u001b[0m\u001b[0;34m(\u001b[0m\u001b[0mself\u001b[0m\u001b[0;34m,\u001b[0m \u001b[0mname\u001b[0m\u001b[0;34m,\u001b[0m \u001b[0mvalue\u001b[0m\u001b[0;34m)\u001b[0m\u001b[0;34m:\u001b[0m\u001b[0;34m\u001b[0m\u001b[0;34m\u001b[0m\u001b[0m\n",
      "\u001b[0;31mAttributeError\u001b[0m: 'SplitCheckpointedResAGNN' object has no attribute 'learning_rate'"
     ]
    }
   ],
   "source": [
    "model.learning_rate"
   ]
  },
  {
   "cell_type": "code",
   "execution_count": null,
   "metadata": {},
   "outputs": [],
   "source": [
    "device = \"cuda\" if torch.cuda.is_available() else \"cpu\"\n",
    "model = model.to(device)"
   ]
  },
  {
   "cell_type": "code",
   "execution_count": 38,
   "metadata": {},
   "outputs": [
    {
     "name": "stdout",
     "output_type": "stream",
     "text": [
      "0 validated\n",
      "5 validated\n"
     ]
    }
   ],
   "source": [
    "model.eval()\n",
    "with torch.no_grad():\n",
    "    edge_total_positive, edge_total_true, edge_total_true_positive = 0, 0, 0\n",
    "    for i, batch in enumerate(model.val_dataloader()):\n",
    "            data = batch.to(device)\n",
    "                \n",
    "            emb = (None if (model.hparams[\"emb_channels\"] == 0) \n",
    "                   else data.embedding) \n",
    "        \n",
    "            subset_ind = torch.randint(data.e_radius.shape[1], (int(data.e_radius.shape[1]*model.hparams['val_subset']),))\n",
    "\n",
    "            output = model(torch.cat([data.cell_data, data.x], axis=-1), data.e_radius[:, subset_ind], emb).squeeze() if ('ci' in model.hparams[\"regime\"]) else model(data.x, data.e_radius[:, subset_ind], emb).squeeze()\n",
    "\n",
    "            val_loss = F.binary_cross_entropy_with_logits(output, data.y[subset_ind])\n",
    "\n",
    "            result = pl.EvalResult(checkpoint_on=val_loss)\n",
    "            result.log('val_loss', val_loss)\n",
    "\n",
    "            #Edge filter performance\n",
    "            preds = F.sigmoid(output) > 0.3 #Maybe send to CPU??\n",
    "            edge_positive = preds.sum().float()\n",
    "            if ('pid' in model.hparams[\"regime\"]):\n",
    "                y_pid = data.pid[data.e_radius[0,subset_ind]] == batch.pid[data.e_radius[1,subset_ind]]\n",
    "                edge_true = y_pid.sum()\n",
    "                edge_true_positive = (y_pid & preds).sum().float()\n",
    "            else:\n",
    "                edge_true = data.y[subset_ind].sum()\n",
    "                edge_true_positive = (data.y[subset_ind].bool() & preds).sum().float()\n",
    "            \n",
    "            edge_total_positive += edge_positive\n",
    "            edge_total_true += edge_true\n",
    "            edge_total_true_positive += edge_true_positive\n",
    "            \n",
    "            if i % 5 == 0:\n",
    "                print(i, \"validated\")\n",
    "\n",
    "    edge_eff = (edge_total_true_positive / max(edge_total_true, 1))\n",
    "    edge_pur = (edge_total_true_positive / max(edge_total_positive, 1))"
   ]
  },
  {
   "cell_type": "code",
   "execution_count": 39,
   "metadata": {},
   "outputs": [
    {
     "data": {
      "text/plain": [
       "(tensor(0.9926, device='cuda:0'), tensor(0.1092, device='cuda:0'))"
      ]
     },
     "execution_count": 39,
     "metadata": {},
     "output_type": "execute_result"
    }
   ],
   "source": [
    "edge_eff, edge_pur"
   ]
  },
  {
   "cell_type": "markdown",
   "metadata": {},
   "source": [
    "## Load Training Checkpoint"
   ]
  },
  {
   "cell_type": "code",
   "execution_count": 3,
   "metadata": {},
   "outputs": [],
   "source": [
    "run_id = \"oew8m1sj\"\n",
    "wandb_dir = \"/global/cscratch1/sd/danieltm/ExaTrkX/wandb_data\""
   ]
  },
  {
   "cell_type": "code",
   "execution_count": 4,
   "metadata": {},
   "outputs": [],
   "source": [
    "best_run_path = get_best_run(run_id,wandb_dir)"
   ]
  },
  {
   "cell_type": "code",
   "execution_count": 5,
   "metadata": {},
   "outputs": [],
   "source": [
    "chkpnt = torch.load(best_run_path)"
   ]
  },
  {
   "cell_type": "code",
   "execution_count": 6,
   "metadata": {},
   "outputs": [],
   "source": [
    "model = SplitCheckpointedResAGNN(chkpnt[\"hyper_parameters\"])"
   ]
  },
  {
   "cell_type": "markdown",
   "metadata": {},
   "source": [
    "Optionally load the Weights & Biases logger"
   ]
  },
  {
   "cell_type": "code",
   "execution_count": 10,
   "metadata": {},
   "outputs": [],
   "source": [
    "model_filepath = os.path.join(\"/global/cscratch1/sd/danieltm/ExaTrkX/lightning_checkpoints\", chkpnt[\"hyper_parameters\"][\"project\"], run_id)\n",
    "checkpoint_callback = ModelCheckpoint(\n",
    "    monitor='val_loss',\n",
    "    filepath=model_filepath,\n",
    "    save_top_k=3,\n",
    "    save_last=True,\n",
    "    mode='min')"
   ]
  },
  {
   "cell_type": "code",
   "execution_count": 11,
   "metadata": {},
   "outputs": [],
   "source": [
    "wandb_logger = WandbLogger(project=chkpnt[\"hyper_parameters\"][\"project\"], group=\"LayerlessEndcaps\", save_dir = wandb_dir, id=run_id)"
   ]
  },
  {
   "cell_type": "code",
   "execution_count": 12,
   "metadata": {},
   "outputs": [
    {
     "name": "stderr",
     "output_type": "stream",
     "text": [
      "GPU available: True, used: True\n",
      "TPU available: False, using: 0 TPU cores\n",
      "CUDA_VISIBLE_DEVICES: [0]\n"
     ]
    }
   ],
   "source": [
    "trainer = pl.Trainer(resume_from_checkpoint=best_run_path, max_epochs = chkpnt[\"hyper_parameters\"]['max_epochs'], gpus=1, logger=wandb_logger, checkpoint_callback=checkpoint_callback)"
   ]
  },
  {
   "cell_type": "code",
   "execution_count": 13,
   "metadata": {
    "scrolled": true
   },
   "outputs": [
    {
     "name": "stderr",
     "output_type": "stream",
     "text": [
      "Failed to query for notebook name, you can set it manually with the WANDB_NOTEBOOK_NAME environment variable\n",
      "\u001b[34m\u001b[1mwandb\u001b[0m: Currently logged in as: \u001b[33mmurnanedaniel\u001b[0m (use `wandb login --relogin` to force relogin)\n",
      "\u001b[34m\u001b[1mwandb\u001b[0m: wandb version 0.10.8 is available!  To upgrade, please run:\n",
      "\u001b[34m\u001b[1mwandb\u001b[0m:  $ pip install wandb --upgrade\n",
      "\u001b[34m\u001b[1mwandb\u001b[0m: Tracking run with wandb version 0.10.2\n",
      "\u001b[34m\u001b[1mwandb\u001b[0m: Run data is saved locally in /global/cscratch1/sd/danieltm/ExaTrkX/wandb_data/wandb/run-20201022_162229-oew8m1sj\n",
      "\u001b[34m\u001b[1mwandb\u001b[0m: Resuming run \u001b[33musual-disco-51\u001b[0m\n"
     ]
    },
    {
     "data": {
      "text/html": [
       "\n",
       "                Logging results to <a href=\"https://wandb.com\" target=\"_blank\">Weights & Biases</a> <a href=\"https://docs.wandb.com/integrations/jupyter.html\" target=\"_blank\">(Documentation)</a>.<br/>\n",
       "                Project page: <a href=\"https://wandb.ai/murnanedaniel/GNNStudy\" target=\"_blank\">https://wandb.ai/murnanedaniel/GNNStudy</a><br/>\n",
       "                Run page: <a href=\"https://wandb.ai/murnanedaniel/GNNStudy/runs/oew8m1sj\" target=\"_blank\">https://wandb.ai/murnanedaniel/GNNStudy/runs/oew8m1sj</a><br/>\n",
       "            "
      ],
      "text/plain": [
       "<IPython.core.display.HTML object>"
      ]
     },
     "metadata": {},
     "output_type": "display_data"
    },
    {
     "name": "stderr",
     "output_type": "stream",
     "text": [
      "Set SLURM handle signals.\n",
      "\n",
      "  | Name         | Type       | Params\n",
      "--------------------------------------------\n",
      "0 | node_encoder | Sequential | 288   \n",
      "1 | edge_network | Sequential | 9 K   \n",
      "2 | node_network | Sequential | 9 K   \n"
     ]
    },
    {
     "name": "stdout",
     "output_type": "stream",
     "text": [
      "\n"
     ]
    },
    {
     "data": {
      "application/vnd.jupyter.widget-view+json": {
       "model_id": "",
       "version_major": 2,
       "version_minor": 0
      },
      "text/plain": [
       "HBox(children=(FloatProgress(value=1.0, bar_style='info', description='Validation sanity check', layout=Layout…"
      ]
     },
     "metadata": {},
     "output_type": "display_data"
    },
    {
     "name": "stdout",
     "output_type": "stream",
     "text": [
      "\r"
     ]
    },
    {
     "data": {
      "application/vnd.jupyter.widget-view+json": {
       "model_id": "6be5a61e246b4ad59ac2e28b8b6b244c",
       "version_major": 2,
       "version_minor": 0
      },
      "text/plain": [
       "HBox(children=(FloatProgress(value=1.0, bar_style='info', description='Training', layout=Layout(flex='2'), max…"
      ]
     },
     "metadata": {},
     "output_type": "display_data"
    },
    {
     "data": {
      "application/vnd.jupyter.widget-view+json": {
       "model_id": "",
       "version_major": 2,
       "version_minor": 0
      },
      "text/plain": [
       "HBox(children=(FloatProgress(value=1.0, bar_style='info', description='Validating', layout=Layout(flex='2'), m…"
      ]
     },
     "metadata": {},
     "output_type": "display_data"
    },
    {
     "data": {
      "application/vnd.jupyter.widget-view+json": {
       "model_id": "",
       "version_major": 2,
       "version_minor": 0
      },
      "text/plain": [
       "HBox(children=(FloatProgress(value=1.0, bar_style='info', description='Validating', layout=Layout(flex='2'), m…"
      ]
     },
     "metadata": {},
     "output_type": "display_data"
    },
    {
     "data": {
      "application/vnd.jupyter.widget-view+json": {
       "model_id": "",
       "version_major": 2,
       "version_minor": 0
      },
      "text/plain": [
       "HBox(children=(FloatProgress(value=1.0, bar_style='info', description='Validating', layout=Layout(flex='2'), m…"
      ]
     },
     "metadata": {},
     "output_type": "display_data"
    },
    {
     "data": {
      "application/vnd.jupyter.widget-view+json": {
       "model_id": "",
       "version_major": 2,
       "version_minor": 0
      },
      "text/plain": [
       "HBox(children=(FloatProgress(value=1.0, bar_style='info', description='Validating', layout=Layout(flex='2'), m…"
      ]
     },
     "metadata": {},
     "output_type": "display_data"
    },
    {
     "name": "stderr",
     "output_type": "stream",
     "text": [
      "Exception ignored in: <function _MultiProcessingDataLoaderIter.__del__ at 0x2aab18749cb0>\n",
      "Traceback (most recent call last):\n",
      "  File \"/global/homes/d/danieltm/.local/lib/python3.7/site-packages/torch/utils/data/dataloader.py\", line 962, in __del__\n",
      "    self._shutdown_workers()\n",
      "  File \"/global/homes/d/danieltm/.local/lib/python3.7/site-packages/torch/utils/data/dataloader.py\", line 942, in _shutdown_workers\n",
      "    w.join()\n",
      "  File \"/global/homes/d/danieltm/.conda/envs/exatrkx-test/lib/python3.7/multiprocessing/process.py\", line 140, in join\n",
      "    res = self._popen.wait(timeout)\n",
      "  File \"/global/homes/d/danieltm/.conda/envs/exatrkx-test/lib/python3.7/multiprocessing/popen_fork.py\", line 48, in wait\n",
      "    return self.poll(os.WNOHANG if timeout == 0.0 else 0)\n",
      "  File \"/global/homes/d/danieltm/.conda/envs/exatrkx-test/lib/python3.7/multiprocessing/popen_fork.py\", line 28, in poll\n",
      "    pid, sts = os.waitpid(self.pid, flag)\n",
      "KeyboardInterrupt: \n",
      "Saving latest checkpoint..\n"
     ]
    },
    {
     "name": "stdout",
     "output_type": "stream",
     "text": [
      "\n"
     ]
    },
    {
     "data": {
      "text/plain": [
       "1"
      ]
     },
     "execution_count": 13,
     "metadata": {},
     "output_type": "execute_result"
    }
   ],
   "source": [
    "trainer.fit(model)"
   ]
  },
  {
   "cell_type": "code",
   "execution_count": null,
   "metadata": {},
   "outputs": [],
   "source": []
  }
 ],
 "metadata": {
  "kernelspec": {
   "display_name": "ExatrkxTest",
   "language": "python",
   "name": "exatrkx-test"
  },
  "language_info": {
   "codemirror_mode": {
    "name": "ipython",
    "version": 3
   },
   "file_extension": ".py",
   "mimetype": "text/x-python",
   "name": "python",
   "nbconvert_exporter": "python",
   "pygments_lexer": "ipython3",
   "version": "3.7.7"
  }
 },
 "nbformat": 4,
 "nbformat_minor": 4
}
