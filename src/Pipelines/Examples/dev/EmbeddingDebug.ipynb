{
 "cells": [
  {
   "cell_type": "code",
   "execution_count": 1,
   "metadata": {},
   "outputs": [],
   "source": [
    "%load_ext autoreload\n",
    "%autoreload 2"
   ]
  },
  {
   "cell_type": "code",
   "execution_count": 2,
   "metadata": {},
   "outputs": [],
   "source": [
    "# System imports\n",
    "import os\n",
    "import sys\n",
    "from pprint import pprint as pp\n",
    "from time import time as tt\n",
    "import inspect\n",
    "import importlib\n",
    "\n",
    "# External imports\n",
    "import matplotlib.pyplot as plt\n",
    "import matplotlib.colors\n",
    "import scipy as sp\n",
    "from sklearn.decomposition import PCA\n",
    "from sklearn.metrics import auc\n",
    "import numpy as np\n",
    "import pandas as pd\n",
    "import seaborn as sns\n",
    "import torch\n",
    "from torch_geometric.data import DataLoader\n",
    "from mpl_toolkits.mplot3d import Axes3D\n",
    "\n",
    "from itertools import chain\n",
    "from random import shuffle, sample\n",
    "\n",
    "from torch.nn import Linear\n",
    "import torch.nn.functional as F\n",
    "from torch_scatter import scatter, segment_csr, scatter_add\n",
    "from torch_geometric.nn.conv import MessagePassing\n",
    "from torch_cluster import knn_graph, radius_graph\n",
    "import trackml.dataset\n",
    "import torch_geometric\n",
    "\n",
    "sys.path.append('..')\n",
    "device = \"cuda\" if torch.cuda.is_available() else \"cpu\""
   ]
  },
  {
   "cell_type": "markdown",
   "metadata": {},
   "source": [
    "# Initial Exploration"
   ]
  },
  {
   "cell_type": "code",
   "execution_count": 45,
   "metadata": {},
   "outputs": [],
   "source": [
    "bad1 = torch.load('/global/cscratch1/sd/danieltm/ExaTrkX/trackml/feature_store_endcaps_SMALLTEST/1423')\n",
    "bad2 = torch.load('/global/cscratch1/sd/danieltm/ExaTrkX/trackml/feature_store_endcaps_SMALLTEST/1346')\n",
    "good1 = torch.load('/global/cscratch1/sd/danieltm/ExaTrkX/trackml/feature_store_endcaps_SMALLTEST/1230')\n",
    "good2 = torch.load('/global/cscratch1/sd/danieltm/ExaTrkX/trackml/feature_store_endcaps_SMALLTEST/1375')"
   ]
  },
  {
   "cell_type": "markdown",
   "metadata": {
    "heading_collapsed": true
   },
   "source": [
    "## Good result"
   ]
  },
  {
   "cell_type": "markdown",
   "metadata": {
    "hidden": true
   },
   "source": [
    "### 1"
   ]
  },
  {
   "cell_type": "code",
   "execution_count": 104,
   "metadata": {
    "hidden": true
   },
   "outputs": [],
   "source": [
    "good = filter_hit_pt([good1], 1.0)[0]"
   ]
  },
  {
   "cell_type": "code",
   "execution_count": 105,
   "metadata": {
    "hidden": true
   },
   "outputs": [],
   "source": [
    "good_pt = fetch_pt(good)"
   ]
  },
  {
   "cell_type": "code",
   "execution_count": 106,
   "metadata": {
    "hidden": true
   },
   "outputs": [
    {
     "data": {
      "text/plain": [
       "array([1.2910028, 1.1413449, 1.3635843, ..., 1.35948  , 1.0586314,\n",
       "       1.0892017], dtype=float32)"
      ]
     },
     "execution_count": 106,
     "metadata": {},
     "output_type": "execute_result"
    }
   ],
   "source": [
    "good_pt"
   ]
  },
  {
   "cell_type": "code",
   "execution_count": 107,
   "metadata": {
    "hidden": true
   },
   "outputs": [
    {
     "data": {
      "text/plain": [
       "<seaborn.axisgrid.FacetGrid at 0x2aab85f59510>"
      ]
     },
     "execution_count": 107,
     "metadata": {},
     "output_type": "execute_result"
    },
    {
     "data": {
      "image/png": "[encoded data removed]",
      "text/plain": [
       "<Figure size 360x360 with 1 Axes>"
      ]
     },
     "metadata": {
      "needs_background": "light"
     },
     "output_type": "display_data"
    }
   ],
   "source": [
    "sns.displot(good_pt, binrange=(0.9, 10))"
   ]
  },
  {
   "cell_type": "code",
   "execution_count": 108,
   "metadata": {
    "hidden": true
   },
   "outputs": [],
   "source": [
    "good_e = good.layerless_true_edges"
   ]
  },
  {
   "cell_type": "code",
   "execution_count": 109,
   "metadata": {
    "hidden": true
   },
   "outputs": [],
   "source": [
    "good_pt_av = (good_pt[good_e[0]] + good_pt[good_e[1]])/2"
   ]
  },
  {
   "cell_type": "code",
   "execution_count": 110,
   "metadata": {
    "hidden": true
   },
   "outputs": [
    {
     "data": {
      "text/plain": [
       "<seaborn.axisgrid.FacetGrid at 0x2aab860fba50>"
      ]
     },
     "execution_count": 110,
     "metadata": {},
     "output_type": "execute_result"
    },
    {
     "data": {
      "image/png": "[encoded data removed]",
      "text/plain": [
       "<Figure size 360x360 with 1 Axes>"
      ]
     },
     "metadata": {
      "needs_background": "light"
     },
     "output_type": "display_data"
    }
   ],
   "source": [
    "sns.displot(good_pt_av, binrange=(0.9, 20), binwidth= 1)"
   ]
  },
  {
   "cell_type": "markdown",
   "metadata": {
    "hidden": true
   },
   "source": [
    "### 2"
   ]
  },
  {
   "cell_type": "code",
   "execution_count": 111,
   "metadata": {
    "hidden": true
   },
   "outputs": [],
   "source": [
    "good = filter_hit_pt([good2], 1.0)[0]"
   ]
  },
  {
   "cell_type": "code",
   "execution_count": 112,
   "metadata": {
    "hidden": true
   },
   "outputs": [],
   "source": [
    "good_pt = fetch_pt(good)"
   ]
  },
  {
   "cell_type": "code",
   "execution_count": 113,
   "metadata": {
    "hidden": true
   },
   "outputs": [
    {
     "data": {
      "text/plain": [
       "array([1.9339756, 1.0793401, 1.5815953, ..., 1.0380954, 3.9936383,\n",
       "       1.1697642], dtype=float32)"
      ]
     },
     "execution_count": 113,
     "metadata": {},
     "output_type": "execute_result"
    }
   ],
   "source": [
    "good_pt"
   ]
  },
  {
   "cell_type": "code",
   "execution_count": 114,
   "metadata": {
    "hidden": true
   },
   "outputs": [
    {
     "data": {
      "text/plain": [
       "<seaborn.axisgrid.FacetGrid at 0x2aab86209150>"
      ]
     },
     "execution_count": 114,
     "metadata": {},
     "output_type": "execute_result"
    },
    {
     "data": {
      "image/png": "[encoded data removed]",
      "text/plain": [
       "<Figure size 360x360 with 1 Axes>"
      ]
     },
     "metadata": {
      "needs_background": "light"
     },
     "output_type": "display_data"
    }
   ],
   "source": [
    "sns.displot(good_pt, binrange=(0.9, 10))"
   ]
  },
  {
   "cell_type": "code",
   "execution_count": 115,
   "metadata": {
    "hidden": true
   },
   "outputs": [],
   "source": [
    "good_e = good.layerless_true_edges"
   ]
  },
  {
   "cell_type": "code",
   "execution_count": 116,
   "metadata": {
    "hidden": true
   },
   "outputs": [],
   "source": [
    "good_pt_av = (good_pt[good_e[0]] + good_pt[good_e[1]])/2"
   ]
  },
  {
   "cell_type": "code",
   "execution_count": 117,
   "metadata": {
    "hidden": true
   },
   "outputs": [
    {
     "data": {
      "text/plain": [
       "<seaborn.axisgrid.FacetGrid at 0x2aab8632f550>"
      ]
     },
     "execution_count": 117,
     "metadata": {},
     "output_type": "execute_result"
    },
    {
     "data": {
      "image/png": "[encoded data removed]",
      "text/plain": [
       "<Figure size 360x360 with 1 Axes>"
      ]
     },
     "metadata": {
      "needs_background": "light"
     },
     "output_type": "display_data"
    }
   ],
   "source": [
    "sns.displot(good_pt_av, binrange=(0.9, 20), binwidth= 1)"
   ]
  },
  {
   "cell_type": "markdown",
   "metadata": {
    "heading_collapsed": true
   },
   "source": [
    "## Bad result"
   ]
  },
  {
   "cell_type": "markdown",
   "metadata": {
    "hidden": true
   },
   "source": [
    "### 1"
   ]
  },
  {
   "cell_type": "code",
   "execution_count": 118,
   "metadata": {
    "hidden": true
   },
   "outputs": [],
   "source": [
    "bad = filter_hit_pt([bad1], 1.0)[0]"
   ]
  },
  {
   "cell_type": "code",
   "execution_count": 119,
   "metadata": {
    "hidden": true
   },
   "outputs": [],
   "source": [
    "bad_pt = fetch_pt(bad)"
   ]
  },
  {
   "cell_type": "code",
   "execution_count": 120,
   "metadata": {
    "hidden": true
   },
   "outputs": [
    {
     "data": {
      "text/plain": [
       "<seaborn.axisgrid.FacetGrid at 0x2aab8634f590>"
      ]
     },
     "execution_count": 120,
     "metadata": {},
     "output_type": "execute_result"
    },
    {
     "data": {
      "image/png": "[encoded data removed]",
      "text/plain": [
       "<Figure size 360x360 with 1 Axes>"
      ]
     },
     "metadata": {
      "needs_background": "light"
     },
     "output_type": "display_data"
    }
   ],
   "source": [
    "sns.displot(bad_pt, binrange=(0.9, 10))"
   ]
  },
  {
   "cell_type": "code",
   "execution_count": 121,
   "metadata": {
    "hidden": true
   },
   "outputs": [],
   "source": [
    "bad_e = bad.layerless_true_edges"
   ]
  },
  {
   "cell_type": "code",
   "execution_count": 122,
   "metadata": {
    "hidden": true
   },
   "outputs": [],
   "source": [
    "bad_pt_av = (bad_pt[bad_e[0]] + bad_pt[bad_e[1]])/2"
   ]
  },
  {
   "cell_type": "code",
   "execution_count": 123,
   "metadata": {
    "hidden": true,
    "scrolled": false
   },
   "outputs": [
    {
     "data": {
      "text/plain": [
       "<seaborn.axisgrid.FacetGrid at 0x2aab86660210>"
      ]
     },
     "execution_count": 123,
     "metadata": {},
     "output_type": "execute_result"
    },
    {
     "data": {
      "image/png": "[encoded data removed]",
      "text/plain": [
       "<Figure size 360x360 with 1 Axes>"
      ]
     },
     "metadata": {
      "needs_background": "light"
     },
     "output_type": "display_data"
    }
   ],
   "source": [
    "sns.displot(bad_pt_av, binrange=(0.9, 20), binwidth= 1)"
   ]
  },
  {
   "cell_type": "markdown",
   "metadata": {
    "hidden": true
   },
   "source": [
    "### 2"
   ]
  },
  {
   "cell_type": "code",
   "execution_count": 124,
   "metadata": {
    "hidden": true
   },
   "outputs": [],
   "source": [
    "bad = filter_hit_pt([bad2], 1.0)[0]"
   ]
  },
  {
   "cell_type": "code",
   "execution_count": 125,
   "metadata": {
    "hidden": true
   },
   "outputs": [],
   "source": [
    "bad_pt = fetch_pt(bad)"
   ]
  },
  {
   "cell_type": "code",
   "execution_count": 126,
   "metadata": {
    "hidden": true
   },
   "outputs": [
    {
     "data": {
      "text/plain": [
       "<seaborn.axisgrid.FacetGrid at 0x2aab85c7ae10>"
      ]
     },
     "execution_count": 126,
     "metadata": {},
     "output_type": "execute_result"
    },
    {
     "data": {
      "image/png": "[encoded data removed]",
      "text/plain": [
       "<Figure size 360x360 with 1 Axes>"
      ]
     },
     "metadata": {
      "needs_background": "light"
     },
     "output_type": "display_data"
    }
   ],
   "source": [
    "sns.displot(bad_pt, binrange=(0.9, 10))"
   ]
  },
  {
   "cell_type": "code",
   "execution_count": 127,
   "metadata": {
    "hidden": true
   },
   "outputs": [],
   "source": [
    "bad_e = bad.layerless_true_edges"
   ]
  },
  {
   "cell_type": "code",
   "execution_count": 128,
   "metadata": {
    "hidden": true
   },
   "outputs": [],
   "source": [
    "bad_pt_av = (bad_pt[bad_e[0]] + bad_pt[bad_e[1]])/2"
   ]
  },
  {
   "cell_type": "code",
   "execution_count": 129,
   "metadata": {
    "hidden": true,
    "scrolled": false
   },
   "outputs": [
    {
     "data": {
      "text/plain": [
       "<seaborn.axisgrid.FacetGrid at 0x2aab868d1610>"
      ]
     },
     "execution_count": 129,
     "metadata": {},
     "output_type": "execute_result"
    },
    {
     "data": {
      "image/png": "[encoded data removed]",
      "text/plain": [
       "<Figure size 360x360 with 1 Axes>"
      ]
     },
     "metadata": {
      "needs_background": "light"
     },
     "output_type": "display_data"
    }
   ],
   "source": [
    "sns.displot(bad_pt_av, binrange=(0.9, 20), binwidth= 1)"
   ]
  },
  {
   "cell_type": "markdown",
   "metadata": {},
   "source": [
    "# Deeper Dive"
   ]
  },
  {
   "cell_type": "markdown",
   "metadata": {},
   "source": [
    "## Load Model"
   ]
  },
  {
   "cell_type": "code",
   "execution_count": 18,
   "metadata": {},
   "outputs": [],
   "source": [
    "from utils.stage_utils import get_resume_id, load_config, combo_config, dict_to_args, get_logger, build_model, build_trainer, autocast\n",
    "from LightningModules.Embedding.Models.layerless_embedding import LayerlessEmbedding\n",
    "from LightningModules.Embedding.utils import filter_hit_pt, fetch_pt, fetch_type, load_dataset, graph_intersection, build_edges, res"
   ]
  },
  {
   "cell_type": "code",
   "execution_count": 80,
   "metadata": {},
   "outputs": [],
   "source": [
    "stage = {\"set\": \"Embedding\", \"name\": \"LayerlessEmbedding\", \"config\": \"train_coda_small_embedding.yaml\", \"resume_id\": \"suvpgvg8\"}\n",
    "libraries = {\n",
    "    \"model_library\": \"/global/homes/d/danieltm/ExaTrkX/Tracking-ML-Exa.TrkX/src/Pipelines/Examples/LightningModules\",\n",
    "    \"artifact_library\": \"/global/cscratch1/sd/danieltm/ExaTrkX/lightning_checkpoints\"\n",
    "}"
   ]
  },
  {
   "cell_type": "code",
   "execution_count": 81,
   "metadata": {},
   "outputs": [],
   "source": [
    "resume_id = get_resume_id(stage)"
   ]
  },
  {
   "cell_type": "code",
   "execution_count": 82,
   "metadata": {},
   "outputs": [],
   "source": [
    "model_config = load_config(stage, resume_id, libraries)"
   ]
  },
  {
   "cell_type": "code",
   "execution_count": 83,
   "metadata": {},
   "outputs": [],
   "source": [
    "model_dir = os.path.join(libraries[\"artifact_library\"], model_config[\"project\"], resume_id)\n",
    "model_name = \"last.ckpt-v1.ckpt\""
   ]
  },
  {
   "cell_type": "markdown",
   "metadata": {},
   "source": [
    "### Simple Load"
   ]
  },
  {
   "cell_type": "code",
   "execution_count": 84,
   "metadata": {},
   "outputs": [],
   "source": [
    "model = LayerlessEmbedding.load_from_checkpoint(os.path.join(model_dir, model_name)).to(device)"
   ]
  },
  {
   "cell_type": "markdown",
   "metadata": {
    "heading_collapsed": true
   },
   "source": [
    "### Manual Load"
   ]
  },
  {
   "cell_type": "code",
   "execution_count": 7,
   "metadata": {
    "hidden": true
   },
   "outputs": [],
   "source": [
    "chkpnt = torch.load(os.path.join(model_dir, model_name))"
   ]
  },
  {
   "cell_type": "code",
   "execution_count": 32,
   "metadata": {
    "hidden": true,
    "scrolled": true
   },
   "outputs": [],
   "source": [
    "chkpnt[\"hparams_name\"] = \"hyper_parameters\""
   ]
  },
  {
   "cell_type": "code",
   "execution_count": 9,
   "metadata": {
    "hidden": true
   },
   "outputs": [
    {
     "data": {
      "text/plain": [
       "'kwargs'"
      ]
     },
     "execution_count": 9,
     "metadata": {},
     "output_type": "execute_result"
    }
   ],
   "source": [
    "chkpnt[\"hparams_name\"]"
   ]
  },
  {
   "cell_type": "code",
   "execution_count": 10,
   "metadata": {
    "hidden": true
   },
   "outputs": [
    {
     "data": {
      "text/plain": [
       "{'epoch': 26,\n",
       " 'global_step': 10400,\n",
       " 'pytorch-lightning_version': '1.0.5',\n",
       " 'callbacks': {pytorch_lightning.callbacks.model_checkpoint.ModelCheckpoint: {'best_model_score': tensor(0.8084, device='cuda:0'),\n",
       "   'best_model_path': '/global/cscratch1/sd/danieltm/ExaTrkX/lightning_checkpoints/CodaEmbeddingStudy/i6iagwzk/last.ckpt-v1.ckpt'}},\n",
       " 'optimizer_states': [{'state': {0: {'step': 10400,\n",
       "     'exp_avg': tensor([[ 6.3095e-04, -3.5554e-05,  2.1710e-04,  ..., -1.7610e-05,\n",
       "              -2.5872e-05, -3.4252e-06],\n",
       "             [ 4.9525e-03,  1.4033e-03,  5.9436e-05,  ...,  7.5639e-05,\n",
       "              -7.5676e-05,  1.4260e-04],\n",
       "             [-3.0100e-04,  5.8684e-05,  3.9522e-04,  ..., -2.6474e-05,\n",
       "              -1.9765e-04,  2.1989e-04],\n",
       "             ...,\n",
       "             [-6.9187e-04, -2.3776e-04, -1.2555e-04,  ..., -1.7638e-05,\n",
       "               1.0570e-04, -5.0850e-05],\n",
       "             [-1.5313e-03, -3.8356e-04, -1.0561e-04,  ..., -1.9670e-05,\n",
       "               5.0182e-05,  7.9132e-05],\n",
       "             [-1.4443e-04, -8.8748e-05,  1.0934e-04,  ..., -1.8302e-05,\n",
       "              -6.5454e-05,  1.2996e-05]], device='cuda:0'),\n",
       "     'exp_avg_sq': tensor([[2.0649e-04, 9.8369e-07, 1.8033e-05,  ..., 3.2230e-08, 4.0681e-07,\n",
       "              5.1671e-07],\n",
       "             [4.5679e-03, 2.5829e-05, 4.0063e-05,  ..., 3.6440e-07, 1.8099e-06,\n",
       "              3.0966e-06],\n",
       "             [9.0245e-06, 3.6295e-06, 1.6165e-05,  ..., 1.7980e-07, 1.2248e-06,\n",
       "              1.5094e-06],\n",
       "             ...,\n",
       "             [1.2150e-03, 4.4176e-06, 2.8053e-05,  ..., 2.1263e-08, 6.3551e-07,\n",
       "              1.0355e-06],\n",
       "             [6.9915e-04, 3.4347e-06, 6.8489e-06,  ..., 1.0354e-07, 2.3620e-07,\n",
       "              4.0542e-07],\n",
       "             [2.8888e-06, 9.5600e-07, 1.9669e-06,  ..., 2.7285e-08, 3.1674e-07,\n",
       "              2.1328e-07]], device='cuda:0'),\n",
       "     'max_exp_avg_sq': tensor([[2.1087e-04, 6.4231e-06, 1.6804e-04,  ..., 4.4913e-07, 2.6470e-06,\n",
       "              2.3281e-06],\n",
       "             [3.8617e-02, 1.0035e-04, 1.8933e-04,  ..., 2.9480e-06, 9.2916e-06,\n",
       "              2.9772e-05],\n",
       "             [8.4132e-05, 1.4751e-05, 2.9162e-04,  ..., 9.9592e-07, 3.9138e-06,\n",
       "              5.1660e-06],\n",
       "             ...,\n",
       "             [1.5458e-03, 4.6934e-06, 1.3716e-04,  ..., 3.1355e-07, 1.6339e-06,\n",
       "              4.9387e-06],\n",
       "             [3.2395e-03, 1.6736e-05, 4.0018e-05,  ..., 4.0817e-06, 1.5621e-06,\n",
       "              1.2495e-06],\n",
       "             [1.1089e-05, 6.1587e-06, 8.8911e-06,  ..., 7.9056e-07, 3.0896e-06,\n",
       "              7.7052e-07]], device='cuda:0')},\n",
       "    1: {'step': 10400,\n",
       "     'exp_avg': tensor([ 2.2779e-04,  3.6185e-04,  1.0186e-04, -2.7094e-05, -1.4256e-04,\n",
       "              6.9447e-04,  3.5798e-04,  1.6424e-04,  2.0213e-04,  3.7751e-04,\n",
       "             -1.9198e-04, -2.6823e-04, -7.8419e-04, -2.5404e-04,  1.1717e-04,\n",
       "              1.0505e-04,  6.1778e-04, -5.6224e-05, -2.9730e-05, -1.4352e-05,\n",
       "             -8.5751e-06, -2.9163e-05,  1.1357e-04,  1.4505e-04, -1.8029e-04,\n",
       "             -1.3421e-04,  7.5567e-04, -8.6258e-05, -3.5823e-04, -2.3199e-04,\n",
       "             -5.8290e-06, -1.2910e-04,  3.8332e-04,  3.7621e-05,  2.0408e-04,\n",
       "             -4.0127e-06,  7.8185e-05,  3.4905e-04, -1.5855e-04, -1.6269e-05,\n",
       "              2.3768e-04,  8.6091e-05,  3.0778e-04,  1.4494e-04,  1.2061e-04,\n",
       "              4.6560e-06,  3.8990e-04, -9.2359e-04, -5.3327e-04,  3.1808e-04,\n",
       "             -2.2404e-04, -8.0008e-05, -2.2866e-05,  3.0457e-04, -2.9455e-04,\n",
       "              5.9172e-04, -3.5868e-04, -4.2145e-05, -5.0293e-04,  4.6416e-04,\n",
       "              7.6046e-05, -1.2613e-04,  4.5087e-05, -2.8152e-05, -7.7262e-05,\n",
       "             -4.3435e-04,  5.2905e-04,  3.5531e-05,  1.6357e-04,  8.6775e-05,\n",
       "             -1.0069e-04, -8.1964e-05, -7.8049e-05,  3.0253e-04, -1.2512e-04,\n",
       "             -7.4228e-05,  3.4341e-04, -9.5552e-04, -2.0775e-04, -2.7135e-04,\n",
       "             -7.0147e-04, -2.2670e-04,  3.8690e-05, -3.6415e-04,  6.5128e-04,\n",
       "             -5.4393e-04, -7.8494e-05,  2.4324e-04,  4.2712e-06,  5.5411e-05,\n",
       "             -9.6477e-04,  2.3928e-04, -1.1302e-03, -3.2362e-04,  4.1682e-05,\n",
       "              6.5521e-06,  4.6920e-04, -3.3408e-05, -8.3851e-04,  3.6030e-04,\n",
       "              2.5854e-05,  1.0156e-05, -6.0277e-04, -1.6432e-03,  2.5551e-04,\n",
       "             -1.8707e-04,  4.4488e-05,  2.0883e-04, -1.2934e-03, -2.2631e-04,\n",
       "              1.2062e-04, -1.5113e-03, -2.8986e-05, -3.5078e-04, -4.0599e-04,\n",
       "             -6.7838e-04, -2.2839e-05, -1.5278e-04,  2.9747e-04, -1.6900e-03,\n",
       "             -2.4234e-04,  9.7574e-05, -1.7947e-04, -2.1253e-04,  3.6509e-04,\n",
       "             -3.7148e-04, -5.1946e-04, -3.5355e-05, -1.1636e-03, -1.7222e-04,\n",
       "             -3.2240e-04,  4.9956e-05,  3.1005e-05, -1.2574e-04, -3.7127e-04,\n",
       "              9.3115e-04,  5.1823e-04, -1.0151e-04, -1.3873e-05,  1.3910e-05,\n",
       "             -1.3297e-04, -2.8977e-04,  1.6035e-04,  8.7377e-05, -4.9800e-04,\n",
       "              2.4909e-03, -1.7838e-04, -2.4483e-04, -4.9700e-04, -8.2137e-05,\n",
       "              7.9248e-05, -1.9239e-05, -2.8600e-04, -1.8533e-04, -8.1104e-06,\n",
       "             -7.7139e-04,  3.3402e-05, -1.8110e-05,  4.7304e-04,  1.9231e-05,\n",
       "             -3.5623e-04,  8.3513e-05,  4.7291e-04,  2.1811e-04,  3.8353e-04,\n",
       "              7.8598e-05,  5.7087e-07, -1.3162e-04, -8.4327e-05,  4.4381e-04,\n",
       "              4.0325e-04, -1.1477e-04, -4.0714e-04,  5.2567e-04, -3.2341e-04,\n",
       "              2.7959e-04,  4.0740e-04, -2.1752e-04,  6.9551e-05,  3.0942e-05,\n",
       "              2.2900e-05,  1.4825e-05, -1.3365e-04, -2.8980e-04,  1.2769e-04,\n",
       "             -3.9140e-04,  9.0002e-05, -3.0105e-04,  4.8221e-05,  3.6292e-04,\n",
       "              5.8172e-04, -7.1948e-04,  6.4115e-04, -6.9631e-05,  2.8001e-05,\n",
       "              2.2023e-04,  7.0910e-06, -1.1057e-04, -4.1082e-04,  1.6722e-04,\n",
       "             -2.6419e-04,  2.5292e-04,  2.8582e-05,  1.4818e-04, -4.1637e-05,\n",
       "              7.6578e-05, -1.3604e-04, -8.2580e-05, -6.9452e-04, -1.7852e-04,\n",
       "             -5.7982e-04,  3.5542e-04,  1.6553e-04,  3.4154e-04, -9.4546e-05,\n",
       "             -5.6345e-04,  4.3732e-04,  1.1454e-03,  1.1190e-04, -1.0858e-04,\n",
       "             -4.8444e-05,  5.5661e-04,  3.8947e-04, -6.5507e-05,  2.0580e-04,\n",
       "              8.0050e-04, -6.1908e-05, -9.8261e-05, -2.1997e-04, -2.8024e-04,\n",
       "              1.5423e-04, -7.8343e-05,  2.2764e-04,  6.3468e-05, -7.8027e-04,\n",
       "              2.0506e-04, -2.2857e-05,  1.0391e-04,  2.0721e-04, -8.0093e-04,\n",
       "              1.0334e-03,  2.3686e-04,  1.4496e-04,  2.9752e-04,  2.2504e-04,\n",
       "             -1.4168e-04,  3.0643e-04,  5.3085e-05,  5.9109e-05,  6.1378e-05,\n",
       "             -4.6968e-04,  3.6872e-04, -2.2855e-04, -5.3208e-05,  1.2697e-04,\n",
       "             -3.3644e-04, -3.3540e-04, -8.7555e-05, -6.8214e-05,  1.2428e-03,\n",
       "             -2.9040e-04, -3.1152e-04, -1.9876e-06, -1.8548e-05,  3.4604e-04,\n",
       "              2.6187e-05, -6.8377e-06, -1.4996e-04,  9.0591e-05,  5.5388e-04,\n",
       "             -5.1766e-04,  1.0495e-04,  1.7927e-04,  3.7677e-04,  4.1478e-04,\n",
       "              5.6155e-06,  3.5253e-04,  6.7156e-05, -3.6881e-05,  3.1228e-05,\n",
       "              7.4868e-05, -1.4266e-04, -3.5698e-04,  7.9646e-05, -1.9871e-04,\n",
       "              1.7594e-04,  4.7261e-04,  2.8781e-04, -2.1416e-05,  2.9967e-04,\n",
       "             -3.7795e-04, -2.4928e-04,  2.2925e-04,  1.0858e-04, -1.8819e-04,\n",
       "             -1.0723e-04,  3.5156e-04,  3.4837e-05,  8.5927e-05, -1.3321e-03,\n",
       "             -1.6432e-04,  5.8474e-05, -2.8095e-05,  4.9944e-05, -5.7567e-04,\n",
       "              5.6361e-05,  6.1522e-05, -1.0140e-05,  1.8866e-04, -2.2659e-04,\n",
       "             -3.2538e-04, -1.0022e-04,  2.6901e-04,  7.5189e-05, -3.0821e-06,\n",
       "             -2.1499e-04,  1.4618e-04,  2.1010e-05, -4.1459e-04, -2.8568e-06,\n",
       "              8.2905e-04, -2.2490e-05, -2.5249e-04, -2.2623e-04, -3.7610e-04,\n",
       "             -4.4516e-04, -2.8339e-04,  4.6613e-04,  1.8877e-04,  8.5259e-04,\n",
       "             -1.9347e-03, -1.2253e-03, -4.5187e-05,  7.2930e-05,  1.0605e-03,\n",
       "             -2.2206e-05,  8.5305e-04, -4.5138e-05, -5.0696e-05,  2.3958e-04,\n",
       "             -2.6116e-04,  2.5756e-04, -8.2830e-06, -1.4258e-04,  2.0102e-04,\n",
       "             -5.3479e-04, -2.9062e-04, -1.4393e-04,  6.5632e-04, -1.1703e-04,\n",
       "             -1.1093e-04,  4.0295e-04, -1.9599e-04,  1.2745e-03, -3.1756e-04,\n",
       "              2.3183e-04, -7.2846e-05,  2.7496e-03,  3.6796e-04,  5.5768e-05,\n",
       "             -1.1393e-06, -2.1830e-05,  4.9784e-04,  1.7266e-04,  2.4623e-04,\n",
       "              2.0314e-04,  3.1459e-05,  1.0996e-03,  1.3513e-04,  1.0392e-04,\n",
       "             -6.9532e-05, -4.0844e-04, -2.5574e-04, -1.0818e-05,  7.4449e-04,\n",
       "             -4.1886e-04,  9.3255e-04, -1.8784e-05, -4.7221e-04,  1.1935e-04,\n",
       "              2.0469e-04,  1.3727e-04, -4.9544e-05,  7.4782e-05,  8.1604e-05,\n",
       "             -9.6181e-04, -1.7848e-03, -5.1888e-04, -5.2921e-05,  4.0677e-04,\n",
       "              8.2427e-05,  1.4961e-04,  2.4071e-04, -2.1569e-05,  6.3462e-06,\n",
       "             -7.2554e-05, -1.5033e-04,  2.3865e-04, -7.9174e-04, -2.1414e-04,\n",
       "             -2.6933e-04,  3.7362e-04,  9.9089e-04, -2.8142e-04, -9.9578e-06,\n",
       "              2.9897e-04,  2.7605e-04, -1.9463e-04, -1.3619e-04, -2.3147e-04,\n",
       "             -7.7492e-04, -8.6370e-05,  1.5715e-04, -5.6567e-04,  6.8232e-04,\n",
       "             -4.9111e-05,  3.9812e-05,  7.0857e-04, -1.2598e-04, -5.2795e-04,\n",
       "             -2.1657e-04,  5.8705e-04,  3.3949e-04, -2.7958e-04,  1.9782e-04,\n",
       "             -1.4192e-04,  1.5507e-05, -4.5873e-04,  1.8090e-04, -1.1748e-04,\n",
       "             -4.6261e-04, -2.4848e-04,  8.3751e-05, -5.7899e-04,  1.9415e-04,\n",
       "             -1.7404e-04,  8.7999e-04,  6.2993e-04, -1.6003e-04, -7.3402e-04,\n",
       "              1.3804e-04, -2.5433e-04, -2.9250e-04, -1.3044e-04,  3.2866e-04,\n",
       "             -1.1755e-03,  8.7537e-05, -9.6977e-04,  3.6544e-04, -3.1019e-04,\n",
       "             -2.1039e-05, -1.8907e-03,  3.4340e-04,  5.9935e-04,  9.7928e-05,\n",
       "             -3.7058e-04, -8.8440e-04,  2.9548e-04,  5.3409e-04,  2.0499e-04,\n",
       "             -2.4526e-03, -9.1466e-04, -3.1032e-04, -1.9090e-04,  1.9019e-04,\n",
       "             -5.2206e-04,  1.2780e-03, -4.1235e-05,  1.3943e-04, -7.4329e-04,\n",
       "              1.2782e-04, -2.3111e-06,  2.1321e-04,  6.0201e-04, -5.5035e-04,\n",
       "             -2.6794e-04,  2.8645e-04,  1.4163e-03, -8.1677e-05, -3.8436e-04,\n",
       "              3.8747e-04,  3.8940e-04, -3.7936e-04, -2.5693e-04,  5.0412e-04,\n",
       "              2.8879e-04, -1.1303e-04,  5.8455e-06,  6.2726e-05, -1.4135e-04,\n",
       "             -7.3125e-05,  1.6613e-04,  4.3403e-04,  4.7446e-04,  5.0224e-05,\n",
       "              8.2918e-05,  4.4463e-04,  1.6886e-05,  2.1333e-04,  2.9413e-05,\n",
       "             -3.8947e-05, -1.3065e-04,  5.5089e-04,  5.9804e-04,  3.1956e-04,\n",
       "             -1.9307e-04,  2.9184e-05, -4.9073e-05,  2.9435e-05,  4.1900e-05,\n",
       "             -1.1872e-04,  1.1473e-05], device='cuda:0'),\n",
       "     'exp_avg_sq': tensor([2.3077e-06, 8.7637e-06, 3.6699e-06, 1.5122e-06, 1.7573e-06, 9.2831e-06,\n",
       "             5.1660e-06, 4.2529e-06, 4.8454e-07, 5.3333e-06, 2.9411e-06, 3.7673e-06,\n",
       "             4.0964e-05, 2.3496e-06, 3.5562e-06, 1.7915e-06, 4.1397e-05, 5.3588e-06,\n",
       "             1.9269e-06, 1.8831e-06, 4.6979e-07, 3.9162e-07, 1.6197e-05, 1.3380e-06,\n",
       "             3.0610e-06, 3.4717e-06, 4.0177e-05, 4.5780e-06, 3.5109e-06, 1.8698e-06,\n",
       "             8.9598e-07, 4.0355e-06, 4.2704e-06, 2.8840e-07, 5.8242e-06, 9.4814e-08,\n",
       "             5.2781e-06, 3.6279e-06, 4.5066e-06, 2.9027e-05, 3.0404e-06, 3.5237e-06,\n",
       "             6.4425e-06, 1.3420e-06, 6.8570e-07, 3.2696e-06, 8.2863e-06, 1.2452e-05,\n",
       "             5.4361e-06, 3.8240e-06, 4.0371e-06, 2.0600e-06, 9.7607e-07, 3.3378e-06,\n",
       "             2.2971e-06, 8.3339e-06, 2.5643e-06, 8.5052e-07, 4.7384e-06, 7.8669e-06,\n",
       "             6.1619e-07, 1.0183e-05, 5.1637e-07, 1.5891e-06, 8.3304e-06, 3.7539e-06,\n",
       "             1.2442e-05, 3.2513e-06, 6.9245e-07, 5.9743e-06, 1.4376e-06, 7.8291e-07,\n",
       "             4.5743e-06, 8.1041e-06, 4.5742e-06, 3.2972e-07, 3.0293e-06, 2.1601e-05,\n",
       "             2.3400e-06, 2.2184e-06, 1.7833e-05, 3.5615e-06, 2.5760e-05, 6.5613e-06,\n",
       "             7.7114e-06, 8.9073e-06, 2.0147e-06, 5.9199e-06, 1.1638e-06, 1.4296e-06,\n",
       "             4.5504e-05, 9.3914e-06, 1.7634e-05, 2.8851e-06, 1.8918e-07, 8.9949e-07,\n",
       "             1.3538e-05, 5.4707e-08, 6.3373e-06, 3.3349e-06, 3.5857e-06, 7.1249e-06,\n",
       "             7.1990e-06, 5.1830e-05, 1.2016e-05, 8.6412e-07, 9.1319e-07, 6.8555e-06,\n",
       "             3.5538e-05, 6.8890e-06, 2.5301e-06, 4.1400e-05, 5.2592e-06, 1.0335e-05,\n",
       "             3.2997e-06, 5.0787e-06, 2.6985e-07, 9.6869e-06, 2.3270e-06, 6.2740e-05,\n",
       "             5.5445e-06, 1.2818e-06, 7.1630e-07, 3.5215e-06, 1.2732e-05, 7.6041e-06,\n",
       "             1.6987e-05, 1.8846e-06, 2.2784e-05, 8.3156e-06, 4.9598e-06, 1.3242e-06,\n",
       "             1.1865e-06, 2.3478e-06, 2.2139e-06, 1.6836e-05, 4.3511e-06, 6.7353e-07,\n",
       "             3.2151e-06, 2.1350e-06, 1.9303e-06, 1.4763e-05, 1.2615e-05, 1.1715e-06,\n",
       "             1.7279e-05, 1.1960e-04, 1.3795e-06, 1.5698e-06, 6.0585e-06, 5.6430e-07,\n",
       "             1.4658e-06, 3.2887e-06, 4.8633e-06, 7.9973e-07, 6.2563e-07, 8.8197e-06,\n",
       "             8.4793e-07, 1.4049e-07, 5.9155e-06, 1.7594e-07, 2.2429e-06, 1.1959e-06,\n",
       "             5.3639e-06, 1.3486e-06, 5.7781e-06, 3.9306e-06, 8.4163e-07, 2.9731e-06,\n",
       "             2.8283e-07, 3.3122e-05, 1.7949e-05, 2.5191e-07, 6.0540e-06, 4.7267e-06,\n",
       "             1.3120e-06, 2.8674e-06, 1.1120e-05, 4.1496e-06, 9.3391e-06, 1.6455e-06,\n",
       "             1.8033e-06, 2.1963e-07, 2.0803e-06, 2.8636e-06, 1.3565e-06, 3.4254e-06,\n",
       "             6.2176e-06, 1.4689e-06, 1.1930e-05, 4.2728e-06, 6.1536e-06, 1.0048e-05,\n",
       "             7.0518e-06, 2.3354e-06, 2.4822e-06, 2.2720e-06, 7.6771e-07, 8.9617e-07,\n",
       "             9.0993e-06, 3.7239e-06, 9.1026e-06, 4.3659e-06, 1.8727e-06, 1.4743e-06,\n",
       "             4.5005e-06, 1.0520e-06, 4.0997e-06, 4.1247e-07, 1.4619e-05, 2.6495e-06,\n",
       "             4.9078e-06, 3.6522e-06, 2.6751e-06, 6.4154e-06, 1.7711e-06, 4.8966e-06,\n",
       "             6.1693e-06, 1.5857e-05, 2.9903e-06, 1.5307e-06, 2.2950e-06, 6.5298e-06,\n",
       "             4.8550e-06, 5.2129e-06, 2.8251e-06, 6.2480e-06, 3.4159e-07, 6.3825e-06,\n",
       "             1.8175e-06, 1.3296e-05, 5.1509e-06, 8.1439e-07, 3.1713e-06, 3.6893e-07,\n",
       "             2.6387e-05, 1.4945e-06, 8.7772e-07, 1.7332e-06, 2.2742e-06, 5.4498e-06,\n",
       "             2.4978e-05, 3.4020e-06, 1.8883e-06, 4.3436e-06, 2.9973e-06, 2.2906e-06,\n",
       "             2.0088e-06, 7.4703e-07, 7.2662e-07, 1.3185e-06, 6.1118e-06, 7.1164e-06,\n",
       "             1.4257e-06, 3.2446e-07, 1.7884e-06, 6.4433e-06, 9.2714e-06, 2.2197e-06,\n",
       "             1.8397e-06, 2.4379e-05, 2.5492e-06, 1.9416e-06, 4.4395e-07, 2.6868e-06,\n",
       "             2.6789e-06, 1.0731e-07, 2.3171e-06, 5.0634e-07, 4.6540e-06, 3.3270e-05,\n",
       "             3.9522e-05, 3.5190e-06, 8.6010e-07, 1.0487e-05, 2.2594e-06, 4.6028e-06,\n",
       "             5.5342e-06, 4.1642e-07, 2.7078e-06, 7.2095e-07, 1.1857e-06, 2.5638e-06,\n",
       "             1.6093e-05, 1.1699e-06, 7.4755e-06, 1.1334e-06, 8.5839e-06, 2.3175e-06,\n",
       "             1.8015e-05, 8.7298e-06, 9.6628e-06, 2.7892e-06, 2.1307e-06, 5.0582e-06,\n",
       "             3.8742e-06, 1.1158e-06, 3.5689e-06, 3.9212e-06, 9.6706e-07, 1.9209e-05,\n",
       "             9.7613e-07, 3.5480e-06, 1.0738e-06, 3.0296e-07, 3.6787e-06, 3.3981e-06,\n",
       "             3.1037e-06, 1.2746e-06, 1.8260e-06, 1.7680e-06, 1.5046e-05, 6.3556e-07,\n",
       "             2.6402e-06, 8.2806e-07, 1.1666e-07, 5.2493e-06, 2.6203e-06, 2.2286e-06,\n",
       "             9.2169e-06, 5.1255e-07, 1.0468e-05, 2.3559e-06, 3.9321e-06, 2.6060e-06,\n",
       "             4.4091e-06, 4.5166e-06, 4.4802e-06, 4.0228e-06, 7.8854e-06, 1.8170e-05,\n",
       "             4.5044e-05, 1.3916e-05, 5.4715e-07, 2.0242e-06, 4.6644e-05, 1.2888e-06,\n",
       "             8.7081e-06, 1.9604e-06, 2.4658e-06, 7.6026e-06, 3.1865e-06, 1.2600e-06,\n",
       "             1.4925e-06, 6.7537e-07, 6.3674e-06, 7.9382e-06, 4.8540e-05, 2.6444e-05,\n",
       "             3.6558e-05, 6.9800e-06, 9.6740e-07, 7.0674e-06, 1.2382e-06, 3.0020e-05,\n",
       "             1.5127e-04, 9.8541e-06, 4.9863e-06, 1.2904e-04, 7.4370e-06, 1.1626e-06,\n",
       "             1.8230e-06, 1.7456e-06, 5.7957e-06, 2.8474e-06, 2.9552e-06, 5.0370e-06,\n",
       "             5.5513e-07, 2.2689e-05, 9.4903e-07, 9.1864e-06, 2.7272e-05, 4.7645e-06,\n",
       "             2.0923e-06, 1.5969e-06, 9.9011e-06, 2.3686e-06, 1.1072e-05, 4.0118e-07,\n",
       "             2.1435e-05, 1.1374e-06, 3.6225e-06, 1.3952e-05, 1.7064e-06, 4.7115e-06,\n",
       "             6.6162e-07, 2.2427e-05, 5.0596e-05, 2.2686e-05, 5.4808e-07, 4.5059e-06,\n",
       "             8.3922e-06, 8.3642e-07, 3.7411e-06, 2.0860e-06, 4.9357e-06, 1.6983e-06,\n",
       "             7.4129e-06, 1.5778e-06, 4.1951e-05, 8.4097e-06, 8.6703e-07, 9.3496e-06,\n",
       "             1.3564e-05, 3.5289e-06, 7.1240e-06, 7.0203e-06, 2.4713e-06, 4.8372e-06,\n",
       "             2.5355e-06, 2.9095e-06, 4.8560e-05, 1.6435e-06, 3.1543e-06, 4.4322e-06,\n",
       "             5.9722e-06, 2.8239e-06, 1.5998e-06, 8.5965e-06, 5.1514e-06, 5.6491e-06,\n",
       "             3.0851e-05, 9.4282e-06, 4.0282e-06, 7.6437e-06, 3.7407e-06, 2.0927e-06,\n",
       "             1.7644e-06, 1.9657e-05, 2.8099e-06, 1.5219e-06, 6.0039e-06, 2.1901e-06,\n",
       "             1.0784e-06, 3.5334e-06, 2.7436e-06, 3.6123e-07, 1.1698e-05, 6.6922e-06,\n",
       "             4.2401e-05, 1.1363e-05, 1.3693e-06, 6.6814e-05, 4.7549e-06, 1.4050e-06,\n",
       "             1.7343e-05, 2.7419e-05, 2.6728e-06, 1.7472e-05, 4.9162e-06, 2.9199e-06,\n",
       "             4.8813e-06, 1.3340e-04, 1.5113e-05, 7.3686e-06, 1.5098e-06, 2.9200e-06,\n",
       "             1.7757e-05, 9.3435e-06, 6.6691e-06, 1.5062e-06, 9.5026e-05, 1.1834e-05,\n",
       "             2.4510e-06, 1.7995e-05, 2.3597e-06, 1.1267e-05, 4.6889e-05, 3.9371e-08,\n",
       "             5.6656e-06, 9.9782e-06, 7.5121e-07, 2.8603e-07, 1.5561e-06, 7.3115e-06,\n",
       "             1.0770e-05, 1.2928e-06, 2.7711e-06, 5.0642e-05, 2.8484e-06, 9.7529e-06,\n",
       "             2.9686e-06, 1.2371e-05, 3.9292e-05, 2.3668e-06, 7.0519e-06, 6.0233e-06,\n",
       "             4.1362e-06, 5.7465e-07, 1.0004e-06, 8.3421e-07, 2.1471e-06, 3.3244e-06,\n",
       "             9.8673e-05, 6.1431e-06, 1.6515e-06, 6.5675e-07, 1.0465e-05, 3.8414e-07,\n",
       "             2.0283e-06, 5.9490e-06, 3.4157e-06, 5.8165e-07, 7.4194e-06, 5.3752e-06,\n",
       "             8.7698e-06, 2.6382e-06, 3.2234e-06, 7.6427e-07, 1.1356e-06, 4.4648e-06,\n",
       "             1.2764e-06, 5.6816e-07], device='cuda:0'),\n",
       "     'max_exp_avg_sq': tensor([2.2479e-05, 4.6141e-05, 4.8591e-05, 2.1978e-05, 1.3626e-05, 5.9601e-05,\n",
       "             3.2708e-05, 5.4570e-06, 2.9839e-06, 1.9814e-05, 2.2446e-05, 4.8591e-05,\n",
       "             1.5115e-04, 2.5384e-05, 3.6132e-05, 1.1113e-05, 5.1025e-05, 6.9007e-05,\n",
       "             2.7572e-05, 1.8335e-05, 1.3474e-05, 1.2320e-05, 5.8525e-05, 2.5786e-06,\n",
       "             3.9617e-05, 7.4937e-05, 1.0002e-04, 3.5956e-05, 6.1619e-05, 1.6043e-05,\n",
       "             1.9706e-06, 5.2859e-05, 5.7078e-05, 9.6312e-06, 2.2058e-05, 1.9906e-06,\n",
       "             1.6101e-05, 2.4596e-05, 5.7198e-05, 1.0380e-04, 4.4284e-05, 6.4782e-05,\n",
       "             6.2451e-05, 1.6324e-05, 1.0767e-05, 2.8860e-05, 1.3200e-04, 6.0462e-05,\n",
       "             4.5820e-05, 7.0238e-06, 3.4338e-05, 3.3973e-05, 2.9864e-06, 2.7554e-05,\n",
       "             2.7349e-05, 3.2779e-05, 2.1599e-05, 1.4202e-05, 3.6350e-05, 7.9433e-05,\n",
       "             4.8937e-06, 1.8801e-04, 3.5475e-06, 1.8871e-05, 8.4722e-05, 3.2360e-05,\n",
       "             7.6623e-05, 3.0845e-05, 1.4185e-06, 1.2363e-04, 1.7016e-05, 1.0048e-05,\n",
       "             7.2646e-05, 2.0300e-05, 1.3637e-04, 1.2110e-05, 3.4596e-05, 2.8303e-05,\n",
       "             9.6899e-06, 6.7930e-06, 7.7517e-05, 3.5040e-05, 6.9260e-05, 6.6192e-05,\n",
       "             5.2286e-05, 1.0718e-05, 2.5755e-05, 5.6108e-05, 1.3244e-05, 3.4305e-06,\n",
       "             8.6271e-05, 1.4651e-04, 1.0340e-04, 2.6180e-05, 5.1081e-06, 4.6513e-06,\n",
       "             2.5603e-04, 1.8951e-06, 2.8795e-05, 3.5058e-05, 3.9487e-05, 1.1542e-04,\n",
       "             5.6711e-05, 2.0084e-04, 2.3634e-05, 1.0853e-05, 1.1642e-05, 2.5061e-05,\n",
       "             6.7363e-05, 1.8805e-05, 1.3650e-05, 1.2776e-04, 5.3499e-05, 2.5908e-05,\n",
       "             3.6382e-05, 2.4083e-05, 1.5699e-06, 2.7176e-05, 3.9318e-05, 1.4400e-04,\n",
       "             1.0557e-05, 1.3701e-05, 7.5146e-06, 1.4876e-05, 1.6780e-05, 1.2951e-04,\n",
       "             1.2201e-04, 4.1762e-05, 3.6300e-05, 9.0252e-05, 4.5207e-05, 8.5967e-06,\n",
       "             1.3021e-05, 2.0452e-05, 1.7330e-05, 8.9725e-05, 2.1084e-05, 6.2734e-06,\n",
       "             1.8957e-05, 1.3102e-05, 1.9459e-05, 1.7857e-04, 4.6233e-05, 9.6657e-06,\n",
       "             1.1107e-04, 2.1050e-04, 1.0317e-05, 1.3837e-05, 5.6935e-05, 1.6342e-06,\n",
       "             3.2837e-05, 2.9758e-05, 6.4262e-05, 1.1696e-05, 4.6708e-06, 3.1875e-05,\n",
       "             2.0051e-06, 2.6009e-06, 2.9707e-05, 9.3209e-07, 1.3088e-05, 2.0076e-05,\n",
       "             5.1543e-05, 1.1782e-05, 4.8330e-05, 8.8495e-06, 3.6387e-06, 3.1404e-05,\n",
       "             2.9717e-06, 1.1278e-04, 9.1115e-05, 1.9195e-06, 3.6308e-05, 7.2376e-05,\n",
       "             1.0989e-05, 3.6187e-05, 4.9584e-05, 1.2231e-05, 7.7671e-05, 2.2130e-05,\n",
       "             3.7182e-06, 4.6823e-06, 1.2134e-05, 5.5548e-05, 6.3578e-06, 5.9381e-06,\n",
       "             3.0627e-05, 1.5115e-05, 5.9180e-05, 2.9089e-05, 4.8881e-05, 1.0510e-04,\n",
       "             1.5617e-05, 1.3921e-05, 2.1802e-05, 4.5485e-05, 1.3837e-05, 3.4391e-06,\n",
       "             4.5254e-05, 1.4222e-05, 1.7027e-05, 6.1611e-05, 2.9066e-06, 2.3624e-05,\n",
       "             5.7399e-05, 3.7106e-06, 6.0395e-05, 4.2046e-06, 2.8944e-05, 4.5208e-05,\n",
       "             2.0669e-05, 6.1762e-05, 2.5602e-05, 9.3709e-05, 2.9386e-05, 3.4325e-05,\n",
       "             2.7889e-05, 3.9584e-05, 2.9905e-05, 1.4696e-05, 1.9249e-05, 1.0647e-05,\n",
       "             7.9258e-05, 6.8036e-05, 1.0720e-05, 1.4224e-05, 1.0336e-05, 2.5608e-05,\n",
       "             2.1924e-05, 1.3631e-04, 1.1037e-04, 1.0230e-05, 1.8166e-05, 4.3805e-06,\n",
       "             4.5436e-05, 1.0689e-05, 1.0299e-05, 1.4341e-05, 1.2135e-05, 1.6165e-05,\n",
       "             1.0600e-04, 1.7211e-05, 9.3057e-06, 4.3943e-06, 3.3283e-05, 3.8302e-05,\n",
       "             6.2709e-06, 2.5556e-05, 5.3945e-06, 1.5777e-05, 5.1266e-05, 1.5343e-05,\n",
       "             2.1085e-06, 5.4703e-06, 1.7183e-05, 7.7960e-05, 2.3968e-05, 2.0159e-05,\n",
       "             2.4443e-05, 1.1295e-04, 4.8388e-05, 1.0402e-05, 2.6280e-06, 4.1892e-05,\n",
       "             9.9915e-06, 1.3616e-06, 2.1221e-05, 6.3705e-06, 3.1595e-05, 6.6383e-05,\n",
       "             1.1060e-04, 4.4047e-05, 3.8054e-06, 1.6349e-04, 8.4377e-06, 1.2873e-05,\n",
       "             8.8884e-06, 2.6400e-06, 4.8360e-05, 7.0084e-06, 2.3073e-05, 4.6189e-05,\n",
       "             1.2027e-04, 9.7509e-06, 7.1583e-05, 1.3961e-05, 5.2354e-05, 4.1095e-06,\n",
       "             6.7193e-05, 5.7602e-05, 2.0565e-04, 1.2111e-05, 2.1424e-05, 8.5206e-05,\n",
       "             8.5506e-06, 1.0425e-05, 1.1332e-05, 3.9437e-05, 1.4250e-05, 1.8802e-04,\n",
       "             5.7229e-06, 2.5419e-05, 6.2733e-06, 1.4335e-06, 2.6230e-05, 6.4592e-05,\n",
       "             2.6351e-05, 8.0696e-06, 1.7788e-05, 1.0415e-05, 2.0134e-04, 7.1746e-06,\n",
       "             3.1249e-05, 1.2339e-05, 5.9738e-06, 2.3366e-05, 1.1891e-05, 1.7909e-05,\n",
       "             3.6763e-05, 1.6069e-05, 3.9249e-05, 2.0015e-05, 3.1028e-05, 6.9343e-06,\n",
       "             7.8583e-05, 4.0992e-05, 4.5228e-05, 3.7288e-05, 8.7786e-05, 5.5409e-05,\n",
       "             1.4100e-04, 4.3405e-05, 4.1551e-06, 1.5172e-05, 6.0987e-05, 3.9780e-06,\n",
       "             3.7333e-05, 1.9522e-05, 1.3096e-05, 4.3288e-05, 1.1761e-05, 7.2169e-06,\n",
       "             1.3567e-05, 3.3893e-06, 2.3574e-05, 4.4239e-05, 1.2152e-04, 8.5986e-05,\n",
       "             1.5310e-04, 4.6691e-05, 1.5226e-05, 3.1976e-05, 2.2846e-05, 1.0089e-04,\n",
       "             3.3986e-04, 9.2220e-05, 9.4766e-05, 1.8327e-04, 1.6022e-05, 7.8429e-06,\n",
       "             1.5372e-05, 2.1429e-05, 1.6818e-05, 3.1084e-05, 1.5997e-05, 1.0195e-04,\n",
       "             1.0648e-05, 2.3329e-05, 1.8981e-05, 1.0251e-04, 1.3805e-04, 4.4828e-05,\n",
       "             3.1003e-05, 2.2619e-05, 1.4877e-05, 8.0267e-06, 5.5388e-05, 1.1962e-05,\n",
       "             1.3463e-04, 3.8173e-06, 1.2012e-05, 5.2912e-05, 2.4954e-05, 7.6623e-05,\n",
       "             1.2265e-05, 5.5465e-05, 5.3409e-05, 6.9885e-05, 1.3532e-06, 5.3473e-05,\n",
       "             1.8040e-04, 1.0487e-05, 6.1753e-05, 2.8362e-05, 6.1771e-05, 1.4544e-05,\n",
       "             1.6148e-05, 1.3310e-05, 1.2303e-04, 1.4178e-04, 1.4389e-06, 4.4082e-05,\n",
       "             9.3761e-05, 3.4280e-05, 2.3009e-05, 3.3579e-05, 3.9105e-05, 1.6177e-05,\n",
       "             3.5242e-05, 3.9951e-05, 7.1715e-05, 2.3619e-05, 4.2722e-05, 5.0377e-05,\n",
       "             5.4837e-05, 3.6980e-05, 2.0665e-05, 2.6144e-05, 5.1496e-05, 1.4972e-05,\n",
       "             5.9516e-05, 9.1668e-05, 9.3456e-06, 1.1731e-05, 1.5758e-05, 1.8420e-05,\n",
       "             2.4173e-05, 4.5239e-05, 3.0433e-05, 1.3884e-05, 1.3918e-05, 1.2019e-05,\n",
       "             1.0983e-05, 2.9570e-05, 2.4926e-05, 1.1258e-06, 1.5325e-05, 4.2659e-05,\n",
       "             1.6889e-04, 6.0713e-05, 7.2024e-06, 1.2280e-04, 5.0769e-05, 1.5590e-05,\n",
       "             1.0527e-04, 5.3025e-05, 1.2577e-05, 5.5730e-05, 8.0823e-06, 3.4437e-05,\n",
       "             9.2006e-06, 1.4413e-04, 3.6904e-05, 5.3705e-05, 3.7922e-06, 1.2348e-05,\n",
       "             3.3333e-05, 5.8195e-05, 2.1379e-05, 6.7474e-06, 1.2975e-04, 4.9195e-05,\n",
       "             5.0597e-06, 5.0163e-05, 4.0612e-06, 1.4675e-04, 2.2265e-04, 6.5092e-07,\n",
       "             1.8352e-05, 9.1585e-05, 2.8015e-06, 2.2061e-06, 4.9871e-06, 2.7454e-05,\n",
       "             4.7971e-05, 1.3881e-05, 1.8877e-05, 1.6402e-04, 2.7670e-05, 1.3763e-05,\n",
       "             2.3851e-05, 1.1783e-04, 1.7286e-04, 1.7230e-05, 1.8769e-05, 6.1454e-05,\n",
       "             6.4984e-05, 1.6345e-06, 1.4430e-05, 8.0769e-06, 3.3613e-06, 5.9782e-06,\n",
       "             4.1872e-04, 5.9142e-05, 1.2258e-05, 1.7704e-05, 3.2471e-05, 1.0456e-05,\n",
       "             4.9013e-06, 6.1753e-05, 1.4491e-05, 3.6324e-06, 2.7566e-05, 4.3674e-05,\n",
       "             5.6452e-05, 3.1014e-05, 3.2101e-05, 3.9428e-06, 2.2052e-05, 1.3394e-05,\n",
       "             1.3731e-05, 4.9339e-06], device='cuda:0')},\n",
       "    2: {'step': 10400,\n",
       "     'exp_avg': tensor([[-4.1034e-05, -1.8660e-05,  1.1954e-04,  ...,  2.9154e-05,\n",
       "               1.1066e-05, -9.3435e-05],\n",
       "             [ 5.2033e-06, -1.7998e-05,  1.5458e-05,  ...,  1.5330e-05,\n",
       "              -7.2343e-06,  4.2194e-06],\n",
       "             [-1.4949e-04, -8.7499e-05,  2.9982e-04,  ...,  1.1306e-04,\n",
       "              -4.7803e-05, -2.1976e-04],\n",
       "             ...,\n",
       "             [-4.2095e-05, -3.1965e-05,  8.5707e-05,  ...,  4.6165e-05,\n",
       "              -1.8134e-06, -6.3210e-05],\n",
       "             [-5.6064e-05,  3.2904e-05,  2.4209e-05,  ..., -1.4349e-06,\n",
       "               1.7477e-05, -9.5968e-05],\n",
       "             [-6.7248e-05, -1.5872e-05,  1.3769e-04,  ..., -5.3682e-06,\n",
       "               1.2138e-05, -9.3965e-05]], device='cuda:0'),\n",
       "     'exp_avg_sq': tensor([[2.0589e-07, 7.9475e-08, 5.7212e-07,  ..., 3.8716e-08, 4.6721e-08,\n",
       "              5.7257e-07],\n",
       "             [1.1014e-07, 3.8874e-08, 8.6975e-08,  ..., 3.5477e-08, 6.4063e-08,\n",
       "              1.5347e-07],\n",
       "             [5.4898e-07, 4.5222e-07, 1.3820e-06,  ..., 3.5227e-07, 1.1395e-07,\n",
       "              1.3234e-06],\n",
       "             ...,\n",
       "             [4.4870e-08, 1.2100e-08, 9.6455e-08,  ..., 1.3047e-08, 9.9916e-09,\n",
       "              1.1218e-07],\n",
       "             [2.8797e-07, 1.3385e-07, 3.0458e-07,  ..., 8.6653e-08, 1.4746e-07,\n",
       "              4.9902e-07],\n",
       "             [4.8707e-07, 2.8598e-07, 1.3442e-06,  ..., 1.2269e-07, 1.8730e-07,\n",
       "              1.3310e-06]], device='cuda:0'),\n",
       "     'max_exp_avg_sq': tensor([[3.6619e-06, 6.9787e-07, 3.6149e-06,  ..., 1.1293e-06, 1.3718e-06,\n",
       "              4.4294e-06],\n",
       "             [2.9919e-06, 5.7026e-07, 6.7958e-07,  ..., 7.1702e-07, 2.1317e-06,\n",
       "              3.6066e-06],\n",
       "             [2.9886e-05, 1.4870e-05, 3.3798e-05,  ..., 1.4931e-05, 2.2440e-05,\n",
       "              4.9637e-05],\n",
       "             ...,\n",
       "             [2.4710e-06, 6.1570e-07, 2.3267e-06,  ..., 1.0404e-06, 1.6085e-06,\n",
       "              3.5138e-06],\n",
       "             [2.0918e-05, 7.6113e-06, 9.4279e-06,  ..., 7.4786e-06, 1.3680e-05,\n",
       "              2.5253e-05],\n",
       "             [1.8253e-05, 5.5725e-06, 1.8944e-05,  ..., 6.1283e-06, 6.9312e-06,\n",
       "              2.4826e-05]], device='cuda:0')},\n",
       "    3: {'step': 10400,\n",
       "     'exp_avg': tensor([ 1.4338e-04, -2.3690e-08,  2.2477e-04, -9.8271e-06,  2.3181e-05,\n",
       "             -2.4462e-05, -6.2732e-05, -1.2898e-05, -2.3389e-05,  1.7871e-04,\n",
       "             -4.0396e-05, -8.4556e-05, -6.9459e-05,  1.6729e-05, -1.0705e-05,\n",
       "             -4.8191e-06,  1.1467e-04,  1.1535e-04,  4.5359e-05,  2.2920e-05,\n",
       "              2.7600e-05,  5.4545e-06,  1.3200e-05,  8.0904e-05,  1.8478e-05,\n",
       "             -6.2373e-05, -1.3509e-04,  1.6683e-05, -6.4178e-05, -1.2331e-04,\n",
       "             -6.3718e-06, -3.1758e-04, -4.7336e-05,  1.8655e-04,  1.5277e-06,\n",
       "             -3.9028e-06,  2.6711e-05, -7.1216e-06,  2.8235e-05,  1.8598e-05,\n",
       "             -1.0034e-04,  1.6015e-04, -1.1742e-04,  9.4027e-06, -7.5642e-05,\n",
       "              1.1156e-04,  1.1874e-04,  2.1465e-04, -9.3057e-06, -2.2848e-05,\n",
       "             -3.7424e-05,  3.1970e-05,  6.8531e-06, -8.9415e-05,  5.0889e-05,\n",
       "              1.1881e-04,  1.8641e-04,  4.2512e-06, -1.3298e-04,  3.3318e-05,\n",
       "             -9.5396e-06, -5.2946e-05, -1.1220e-04, -3.0940e-05, -5.5656e-05,\n",
       "             -1.1230e-05, -5.7543e-05,  2.6892e-05,  1.0200e-04,  4.9881e-05,\n",
       "              8.9367e-06, -1.2918e-04,  7.3622e-05,  5.8034e-05, -5.1736e-05,\n",
       "             -8.5536e-06,  4.9995e-05,  1.3594e-04, -9.0733e-05, -9.4126e-05,\n",
       "             -8.7593e-05, -8.1102e-05, -4.4416e-05,  6.0354e-05,  5.0780e-05,\n",
       "              2.2353e-05, -1.6802e-05, -1.1921e-04,  1.7433e-04, -8.0214e-05,\n",
       "             -4.0053e-05, -2.0407e-04,  6.6120e-05,  2.5563e-05,  1.3207e-04,\n",
       "              3.2346e-05,  1.8905e-04, -3.0339e-06, -1.3949e-05, -2.3831e-04,\n",
       "             -8.8648e-05,  9.4763e-06, -7.5939e-06,  1.4120e-04, -2.5597e-04,\n",
       "              2.6974e-05, -1.4168e-05,  2.5020e-05,  2.2041e-05,  2.2199e-04,\n",
       "             -1.1551e-04, -1.4083e-05,  1.1114e-05, -1.0907e-05, -1.2897e-05,\n",
       "              2.1736e-05, -1.7226e-05, -1.9141e-05,  7.2285e-05,  3.8094e-05,\n",
       "             -1.3064e-05, -1.6954e-04,  3.5945e-05, -2.8190e-05, -9.4396e-06,\n",
       "              5.2711e-05, -1.1139e-04, -7.6867e-05,  3.0171e-05,  1.9779e-05,\n",
       "             -1.4446e-04,  9.1714e-05, -1.3926e-05, -3.0553e-05,  3.1861e-05,\n",
       "             -2.4236e-05,  1.0453e-04, -1.9845e-04, -8.5344e-05, -2.3061e-06,\n",
       "             -6.6882e-05,  2.0407e-05, -9.0290e-05, -2.0768e-04, -4.6903e-05,\n",
       "              1.3624e-04, -6.6132e-05, -2.0857e-05, -2.2401e-04,  6.0133e-05,\n",
       "             -1.3936e-05, -4.9978e-05,  6.9437e-06,  1.0962e-04, -9.2512e-05,\n",
       "             -1.2942e-06, -4.5741e-06, -1.7087e-04, -3.5604e-04, -3.7895e-04,\n",
       "             -5.4436e-06,  3.1217e-05, -4.9694e-05,  3.3869e-05,  6.2679e-05,\n",
       "              2.7508e-06, -9.3388e-06, -3.5208e-05, -1.3883e-05, -2.2227e-05,\n",
       "             -3.3402e-05,  5.6120e-05,  1.4514e-05,  2.3616e-04,  5.1922e-05,\n",
       "             -7.4425e-05, -3.6578e-05, -1.1174e-04,  2.4772e-04, -1.6087e-05,\n",
       "             -2.1582e-05,  5.1945e-05,  9.2270e-05,  3.8575e-05, -2.0221e-05,\n",
       "             -2.3642e-05,  1.8388e-06, -2.6375e-05, -5.0755e-05, -9.3441e-05,\n",
       "             -5.8878e-05, -1.1817e-04,  4.4411e-05, -3.9089e-05, -8.2346e-06,\n",
       "              1.9101e-05, -4.4913e-05,  8.8298e-07,  6.7486e-05, -1.5341e-04,\n",
       "             -6.8398e-07,  3.5603e-05,  6.0543e-05, -8.8015e-05,  1.1398e-04,\n",
       "              1.0991e-05, -7.1071e-05,  2.0926e-04, -7.2885e-05, -1.3160e-04,\n",
       "             -3.3800e-05, -2.0847e-04, -2.0894e-04,  7.6457e-06, -5.4194e-05,\n",
       "             -1.4634e-04, -1.2535e-04,  2.0701e-05,  3.5189e-05,  1.6348e-05,\n",
       "              5.2500e-05,  2.2128e-05,  1.9562e-06,  3.0111e-04, -4.7867e-07,\n",
       "              3.0061e-05,  2.3147e-06,  1.5259e-05, -8.7042e-05, -1.1761e-04,\n",
       "             -2.1582e-04, -6.7023e-05,  3.9304e-05, -1.3174e-06,  8.4788e-07,\n",
       "              1.5932e-05, -2.7830e-04, -3.0496e-05, -2.0437e-05, -1.4958e-05,\n",
       "              2.9635e-05,  1.9335e-05,  7.2252e-05,  7.8730e-05,  2.3243e-05,\n",
       "              2.9884e-05,  4.8742e-05,  2.3015e-05, -5.6302e-05, -1.0365e-04,\n",
       "              2.3390e-05,  9.8546e-05,  1.0395e-05,  3.5970e-04, -8.8502e-05,\n",
       "              3.2368e-04, -1.2018e-05, -9.8491e-05, -1.9490e-05,  5.2925e-05,\n",
       "              5.4727e-05,  6.2789e-05,  1.9693e-04,  2.3354e-05,  1.2548e-04,\n",
       "             -7.8209e-06, -1.2654e-05, -7.3671e-05, -7.6041e-05,  8.5057e-05,\n",
       "             -1.1925e-04,  5.9962e-05, -6.4174e-05, -7.6199e-05,  1.1200e-06,\n",
       "             -1.9330e-04,  2.4813e-04,  5.5187e-05,  1.2743e-05,  5.7089e-05,\n",
       "              1.6808e-04,  1.0017e-04, -7.9677e-05,  9.2241e-05,  1.3283e-04,\n",
       "              8.0442e-05,  7.8526e-05,  2.6940e-05, -3.1510e-05,  1.6106e-05,\n",
       "              1.6296e-05,  8.8928e-06, -1.0647e-04, -1.5025e-04, -6.5312e-05,\n",
       "              1.6802e-04,  6.3024e-05,  2.2146e-04, -1.5278e-06, -2.3701e-05,\n",
       "              1.5978e-04, -3.2937e-05, -3.3227e-05, -1.2472e-04, -1.1546e-04,\n",
       "              4.2879e-05,  6.7356e-05,  1.2813e-04, -1.3083e-04,  6.0374e-05,\n",
       "             -1.3993e-04,  8.4276e-07, -1.7134e-07, -6.1769e-04, -1.5911e-05,\n",
       "             -3.3892e-05, -8.3192e-06,  4.9804e-05,  5.7274e-06,  2.2129e-05,\n",
       "             -1.3888e-04,  6.1245e-05,  1.0686e-05, -1.6844e-05,  2.9583e-05,\n",
       "              7.3132e-05, -1.1629e-04, -1.5141e-04, -3.9204e-04,  2.2921e-05,\n",
       "              2.6997e-05,  1.3101e-06,  8.2638e-05,  4.3173e-05,  1.4599e-05,\n",
       "              3.3109e-05, -2.7030e-05, -3.8452e-06,  4.6058e-05,  1.2675e-04,\n",
       "             -2.3789e-04,  4.6714e-05, -6.3017e-06,  7.9351e-05, -1.0067e-05,\n",
       "              1.1721e-04, -3.3342e-06,  2.8605e-05, -9.3880e-05, -4.9042e-04,\n",
       "              8.0865e-05, -5.0117e-05,  2.4263e-06,  6.0751e-06,  1.4896e-04,\n",
       "              1.9655e-04, -2.8135e-05,  1.6918e-05,  1.1659e-04, -2.8019e-05,\n",
       "             -1.7446e-04,  1.2763e-04, -6.9809e-05, -2.5414e-05,  5.8577e-05,\n",
       "              4.8342e-05, -4.4922e-05, -2.5304e-05, -3.3022e-05, -4.6934e-05,\n",
       "              1.6846e-04, -1.8362e-05,  6.0292e-04, -6.2696e-06,  7.9189e-05,\n",
       "              4.9651e-05, -1.5976e-04, -1.4453e-04,  1.1311e-06, -6.9626e-06,\n",
       "              1.2660e-04,  2.7802e-05,  3.8229e-05,  2.3119e-06, -7.5911e-06,\n",
       "              2.2849e-06,  1.4463e-04, -1.7980e-06,  1.3355e-05,  9.8208e-05,\n",
       "              5.8882e-05,  8.9003e-05, -3.1089e-05,  1.2140e-04, -1.5831e-05,\n",
       "             -5.6204e-06, -1.1620e-04,  1.4327e-05, -2.4791e-05,  4.1071e-05,\n",
       "             -9.2175e-05,  3.3648e-05,  9.3205e-05, -3.7568e-05, -8.5503e-05,\n",
       "             -1.1401e-04, -4.7741e-04, -5.5690e-05, -5.9039e-05,  2.7759e-05,\n",
       "              7.7430e-05, -1.3525e-05, -5.2283e-05, -2.3405e-05, -1.0164e-04,\n",
       "             -1.1421e-04,  5.0946e-05,  7.6219e-05,  5.4906e-05,  7.1892e-05,\n",
       "              4.5655e-05, -2.4718e-05, -1.2418e-05,  7.6100e-05, -6.0415e-05,\n",
       "             -2.9309e-05, -4.7862e-05, -4.4555e-05, -9.7651e-05,  7.8391e-07,\n",
       "              3.4453e-05,  2.0011e-04,  3.7119e-05, -9.3662e-06, -5.0380e-05,\n",
       "             -8.8750e-05, -9.8381e-06,  1.7579e-06,  3.7534e-05,  6.9823e-05,\n",
       "             -3.5334e-05, -1.5012e-05,  5.0457e-05,  2.2895e-05, -8.0718e-06,\n",
       "              3.6750e-05, -2.3686e-05,  3.7470e-05,  7.6936e-05,  1.7234e-05,\n",
       "             -7.2405e-05,  1.1061e-04,  1.4696e-05, -3.7569e-05,  1.1404e-04,\n",
       "             -4.7568e-05,  1.5517e-05, -7.1117e-06, -2.4663e-05, -2.5892e-05,\n",
       "              1.1352e-04, -4.8263e-05, -6.3313e-06, -1.6335e-04, -2.0474e-05,\n",
       "              5.1843e-05,  1.6002e-05,  3.5086e-05,  1.2673e-04,  1.2429e-05,\n",
       "             -3.8680e-05,  2.3452e-05, -3.0863e-05, -1.2492e-05,  1.4927e-04,\n",
       "              3.4724e-05,  3.2127e-05, -5.0663e-05, -2.6587e-06,  2.4282e-05,\n",
       "             -4.9816e-05, -2.5588e-05, -1.3806e-04,  6.2894e-05,  1.4872e-04,\n",
       "              1.8771e-05,  6.7957e-05,  5.3154e-05,  1.0084e-04,  5.8995e-05,\n",
       "              2.5644e-05,  6.1132e-06, -3.8850e-05,  3.6580e-05, -1.6497e-05,\n",
       "              8.1758e-05,  9.1259e-05, -9.0892e-05, -3.5745e-06,  2.2707e-05,\n",
       "              3.4945e-06,  7.0830e-05,  7.8488e-05,  2.2924e-05,  5.1525e-05,\n",
       "              1.4429e-04,  9.3128e-05,  9.1794e-05,  4.9180e-07,  7.0398e-05,\n",
       "             -9.6705e-06,  1.5807e-04], device='cuda:0'),\n",
       "     'exp_avg_sq': tensor([8.1200e-07, 3.1392e-08, 1.0337e-06, 2.5138e-07, 3.1698e-08, 2.5936e-08,\n",
       "             1.2930e-07, 2.7217e-08, 4.1803e-08, 1.1166e-06, 5.0273e-08, 1.4879e-07,\n",
       "             3.4525e-07, 1.5745e-07, 2.4181e-07, 9.7534e-08, 1.4902e-07, 2.6435e-07,\n",
       "             8.9112e-08, 6.0197e-08, 1.3594e-06, 1.4603e-08, 1.9525e-07, 2.5142e-07,\n",
       "             8.2506e-07, 1.8015e-07, 1.7101e-07, 1.1082e-08, 1.1088e-07, 4.9916e-07,\n",
       "             5.9730e-08, 9.3493e-07, 4.9914e-08, 9.9268e-07, 1.3140e-08, 1.8132e-07,\n",
       "             2.7171e-08, 1.1354e-08, 1.6429e-07, 1.0139e-07, 5.4394e-07, 3.7641e-07,\n",
       "             1.0052e-07, 5.9667e-07, 1.4004e-07, 7.3800e-07, 2.3102e-07, 8.2648e-07,\n",
       "             1.7050e-08, 4.4776e-08, 3.5674e-07, 5.8355e-08, 5.4043e-07, 1.1158e-07,\n",
       "             6.9138e-08, 3.1532e-07, 1.1704e-06, 1.9393e-06, 2.7916e-07, 6.9967e-08,\n",
       "             2.2651e-07, 2.3665e-07, 7.7776e-07, 5.2289e-07, 1.2905e-07, 9.2763e-08,\n",
       "             2.9043e-07, 1.0078e-07, 3.9809e-07, 8.7041e-08, 1.3195e-07, 4.6682e-07,\n",
       "             1.9306e-07, 4.4400e-08, 1.3719e-07, 4.3508e-08, 8.1993e-07, 4.3217e-07,\n",
       "             1.0403e-07, 9.5534e-08, 1.4919e-07, 2.6297e-07, 5.6554e-08, 2.6945e-07,\n",
       "             2.1635e-07, 1.2806e-07, 2.5539e-08, 4.9282e-07, 3.3472e-07, 2.2539e-07,\n",
       "             8.6341e-08, 8.4438e-07, 6.9514e-07, 3.6542e-08, 1.8986e-07, 3.3313e-08,\n",
       "             5.2219e-07, 8.2489e-08, 7.3691e-08, 2.9404e-06, 2.3724e-07, 4.3039e-07,\n",
       "             2.3100e-07, 2.4989e-07, 9.4180e-07, 3.2490e-08, 9.7629e-08, 3.1078e-07,\n",
       "             1.2799e-07, 8.3721e-07, 4.2885e-07, 7.2738e-08, 9.0727e-08, 2.1107e-07,\n",
       "             4.6672e-08, 5.7293e-08, 5.7600e-08, 4.4413e-08, 1.3517e-07, 3.2895e-07,\n",
       "             8.5553e-07, 1.7722e-06, 4.0763e-07, 4.6385e-08, 3.1098e-07, 4.0567e-07,\n",
       "             2.8872e-07, 8.2628e-08, 2.4664e-08, 8.1251e-08, 3.3090e-07, 9.5587e-08,\n",
       "             8.6443e-08, 1.8999e-08, 2.0928e-07, 1.5008e-07, 3.3927e-07, 1.0341e-06,\n",
       "             3.5654e-07, 5.6223e-08, 7.9636e-08, 1.0221e-08, 2.2035e-07, 5.6322e-07,\n",
       "             6.4157e-08, 3.4217e-07, 4.3749e-07, 3.1149e-07, 1.1371e-06, 3.3188e-07,\n",
       "             1.1277e-07, 1.5132e-07, 1.1949e-07, 1.6726e-07, 4.0212e-07, 7.1648e-09,\n",
       "             8.4096e-09, 6.1208e-07, 1.7649e-06, 4.8583e-06, 4.5521e-08, 4.6209e-08,\n",
       "             2.4493e-08, 4.6233e-08, 1.9688e-07, 1.2195e-07, 3.1244e-08, 4.1245e-07,\n",
       "             1.0457e-07, 4.7251e-08, 2.9318e-08, 1.9037e-07, 1.0749e-07, 4.1808e-07,\n",
       "             8.5816e-08, 2.6326e-07, 6.7269e-08, 3.7195e-07, 1.1629e-06, 2.6101e-07,\n",
       "             4.2713e-08, 3.8082e-07, 1.1065e-07, 1.1060e-07, 9.4729e-08, 1.0528e-07,\n",
       "             6.6840e-09, 3.2179e-08, 7.1000e-08, 6.3250e-07, 8.3052e-08, 2.0011e-07,\n",
       "             7.5495e-07, 6.1715e-07, 3.0972e-09, 8.4151e-07, 5.7354e-08, 4.6512e-09,\n",
       "             1.5753e-07, 4.7653e-07, 1.3093e-06, 9.3677e-08, 2.2470e-07, 6.2309e-08,\n",
       "             1.7023e-07, 4.7204e-08, 4.5790e-07, 4.8776e-07, 2.3903e-07, 3.7674e-07,\n",
       "             3.9155e-07, 5.9760e-07, 5.9863e-07, 1.8363e-07, 2.0369e-07, 3.7268e-07,\n",
       "             1.6058e-07, 6.2858e-08, 7.6429e-08, 3.0187e-07, 3.4616e-08, 5.8240e-08,\n",
       "             8.1695e-09, 1.2464e-06, 1.7077e-08, 3.8766e-08, 9.3608e-08, 6.6856e-07,\n",
       "             1.3895e-07, 1.0892e-07, 4.5672e-07, 1.5184e-07, 7.7709e-08, 2.7630e-07,\n",
       "             1.9602e-07, 1.8224e-07, 1.3546e-06, 3.9341e-08, 4.9193e-08, 3.0655e-08,\n",
       "             1.2680e-06, 1.7390e-08, 5.3132e-07, 3.1746e-07, 5.1282e-07, 9.0783e-08,\n",
       "             8.3070e-08, 2.4544e-08, 1.8024e-07, 2.1430e-07, 3.8124e-07, 5.3211e-07,\n",
       "             6.4041e-08, 2.0449e-06, 3.2235e-07, 1.5968e-06, 2.3243e-07, 1.6014e-07,\n",
       "             6.4979e-08, 3.6163e-08, 1.6345e-07, 4.6449e-08, 8.3084e-07, 4.1579e-07,\n",
       "             3.0661e-07, 4.6777e-09, 9.4485e-08, 1.2059e-07, 5.0863e-08, 1.0036e-07,\n",
       "             4.9263e-07, 5.9106e-08, 1.1397e-07, 9.6993e-08, 3.2224e-08, 3.8191e-07,\n",
       "             5.7125e-07, 3.7520e-07, 9.0786e-08, 4.6784e-08, 5.4561e-07, 1.3623e-07,\n",
       "             2.3268e-07, 9.4344e-08, 4.3151e-07, 2.0731e-07, 9.5921e-08, 3.1947e-08,\n",
       "             5.0380e-08, 7.2426e-08, 1.3150e-08, 1.5029e-07, 1.2115e-05, 2.1852e-07,\n",
       "             1.6747e-07, 7.0475e-07, 1.6150e-07, 8.2736e-07, 1.5080e-08, 4.8081e-07,\n",
       "             5.4174e-07, 3.4227e-07, 6.5713e-08, 4.0782e-07, 7.3275e-07, 4.1429e-07,\n",
       "             1.6331e-07, 1.7039e-07, 5.9142e-07, 2.8483e-07, 3.1930e-07, 5.7508e-09,\n",
       "             2.6180e-08, 5.8903e-06, 3.8354e-08, 2.1411e-08, 5.8131e-08, 5.3719e-08,\n",
       "             6.6985e-08, 2.3082e-08, 3.2954e-07, 1.1315e-07, 4.4351e-08, 1.6726e-08,\n",
       "             5.0975e-07, 2.1777e-07, 1.7158e-07, 3.0427e-07, 3.3118e-06, 1.0509e-07,\n",
       "             1.3640e-07, 3.7165e-07, 5.3888e-07, 1.1765e-07, 4.9936e-08, 9.3865e-08,\n",
       "             6.1682e-08, 2.1195e-07, 1.3227e-07, 2.7876e-07, 4.5796e-07, 4.3306e-07,\n",
       "             4.4864e-08, 4.3043e-07, 1.3328e-07, 3.7604e-07, 3.0647e-08, 5.2879e-07,\n",
       "             1.1313e-07, 4.0852e-06, 5.1308e-07, 2.4448e-08, 8.9655e-09, 4.0985e-08,\n",
       "             1.3100e-06, 8.3279e-07, 2.3816e-08, 1.6412e-07, 2.4170e-07, 3.1775e-07,\n",
       "             1.6299e-06, 2.0095e-07, 1.4451e-07, 2.4315e-08, 5.7602e-08, 3.6702e-07,\n",
       "             2.0911e-08, 6.8966e-08, 7.8810e-08, 7.6892e-08, 5.8138e-07, 1.6388e-08,\n",
       "             6.3833e-06, 8.7517e-09, 9.5124e-08, 1.4602e-07, 3.2879e-07, 6.9775e-07,\n",
       "             2.1333e-08, 5.7631e-08, 4.6212e-07, 1.0600e-07, 3.9252e-08, 5.2373e-08,\n",
       "             2.0135e-07, 2.0064e-08, 9.9330e-07, 1.4763e-08, 9.1094e-08, 6.6527e-08,\n",
       "             1.2615e-07, 4.0349e-07, 4.8796e-08, 2.9199e-07, 2.0915e-08, 5.6726e-08,\n",
       "             4.3804e-07, 5.7189e-07, 4.1395e-08, 3.6708e-07, 2.0446e-07, 4.0325e-08,\n",
       "             5.0426e-07, 6.4350e-07, 8.7964e-08, 3.6959e-07, 5.3297e-06, 1.4379e-07,\n",
       "             1.0055e-07, 1.2653e-07, 5.2058e-07, 1.9574e-07, 1.3766e-06, 1.4356e-07,\n",
       "             8.0776e-06, 1.4107e-07, 5.0294e-07, 1.3725e-07, 1.2303e-07, 4.3947e-08,\n",
       "             1.6924e-07, 5.2921e-07, 3.1779e-08, 4.0915e-07, 4.6737e-07, 6.5945e-07,\n",
       "             1.5425e-07, 3.0874e-07, 3.8124e-07, 1.2131e-08, 7.6960e-08, 6.9347e-07,\n",
       "             4.4475e-08, 1.9713e-08, 3.9886e-07, 1.8280e-07, 3.1874e-08, 2.0604e-07,\n",
       "             1.4920e-07, 6.8944e-08, 1.6078e-08, 4.2368e-08, 6.1279e-08, 7.7376e-08,\n",
       "             7.3884e-07, 1.2829e-08, 3.2006e-08, 7.4289e-08, 8.6880e-07, 7.6133e-08,\n",
       "             1.5358e-07, 1.6458e-06, 6.0500e-08, 5.6810e-08, 5.7653e-07, 3.1339e-07,\n",
       "             3.2154e-08, 2.5527e-07, 8.1793e-08, 2.0209e-07, 1.6976e-07, 7.0780e-07,\n",
       "             1.2901e-07, 1.0822e-06, 4.7178e-08, 4.1364e-08, 1.6725e-07, 5.3458e-08,\n",
       "             8.6408e-08, 3.4722e-07, 1.7833e-07, 3.8752e-08, 1.3168e-07, 3.5401e-08,\n",
       "             1.9592e-06, 1.5204e-07, 5.7733e-08, 3.5349e-08, 9.5342e-07, 1.5823e-08,\n",
       "             3.8441e-07, 9.2751e-08, 4.2712e-07, 1.2074e-07, 2.9822e-07, 2.0549e-07,\n",
       "             9.5466e-08, 4.9640e-08, 1.2148e-07, 3.1583e-08, 9.5132e-08, 1.2672e-07,\n",
       "             2.4232e-07, 1.0072e-07, 9.3749e-08, 3.1958e-07, 1.7658e-07, 2.2155e-07,\n",
       "             7.7890e-09, 9.6297e-08, 2.6393e-07, 7.8735e-08, 5.7797e-07, 5.1625e-07,\n",
       "             3.2258e-08, 1.3078e-06, 1.4762e-07, 1.4106e-07, 3.9967e-08, 1.0646e-07,\n",
       "             6.6189e-08, 2.0639e-06], device='cuda:0'),\n",
       "     'max_exp_avg_sq': tensor([2.6266e-06, 2.3990e-07, 6.6591e-06, 2.3347e-06, 1.4124e-06, 5.6288e-07,\n",
       "             3.1031e-06, 3.1285e-07, 2.7659e-07, 6.1303e-06, 4.5210e-07, 3.8298e-06,\n",
       "             2.1598e-06, 1.2547e-06, 2.6488e-06, 9.4696e-07, 3.4613e-06, 3.0531e-06,\n",
       "             2.3314e-06, 9.5952e-07, 6.4476e-06, 4.7585e-07, 3.7160e-06, 5.9983e-06,\n",
       "             5.8787e-06, 1.9284e-06, 5.6953e-06, 3.3425e-07, 2.5513e-06, 2.3887e-06,\n",
       "             7.3500e-07, 1.1999e-05, 1.0855e-06, 4.0678e-06, 3.5485e-07, 1.8841e-06,\n",
       "             5.4026e-07, 2.0903e-07, 1.7814e-06, 2.0694e-06, 5.9451e-06, 2.4563e-06,\n",
       "             2.2814e-06, 6.9449e-06, 2.1061e-06, 5.2365e-06, 1.3452e-06, 4.7781e-06,\n",
       "             4.3280e-07, 7.0916e-07, 5.7438e-06, 1.8141e-06, 4.4835e-06, 3.7522e-06,\n",
       "             1.9959e-06, 4.3087e-06, 1.0334e-05, 1.4901e-05, 3.8404e-06, 1.2762e-06,\n",
       "             1.8811e-06, 1.4365e-06, 3.3124e-06, 3.7781e-06, 2.0561e-06, 1.9041e-06,\n",
       "             1.7248e-06, 2.1930e-06, 1.9946e-06, 2.3465e-06, 1.1075e-06, 1.3217e-05,\n",
       "             8.6163e-07, 1.2003e-06, 1.3157e-06, 9.3315e-07, 1.3342e-06, 3.0232e-06,\n",
       "             1.5667e-06, 2.3959e-06, 3.1050e-06, 2.6687e-06, 1.6433e-06, 7.9617e-07,\n",
       "             4.0876e-06, 9.2458e-07, 4.9961e-07, 2.6031e-06, 9.1308e-06, 1.3097e-06,\n",
       "             2.3910e-06, 4.4405e-06, 2.1178e-06, 7.4481e-07, 1.0566e-06, 9.2889e-07,\n",
       "             5.2323e-06, 2.0129e-06, 9.7491e-07, 1.4434e-05, 2.3428e-06, 2.2401e-06,\n",
       "             7.9951e-07, 1.9059e-06, 1.3323e-05, 3.0584e-07, 1.9372e-06, 1.5725e-06,\n",
       "             1.9751e-06, 2.0924e-05, 4.7587e-06, 9.4189e-07, 2.2594e-06, 5.8343e-06,\n",
       "             7.6177e-07, 7.0695e-07, 1.0439e-06, 5.5586e-07, 3.0044e-06, 2.4319e-06,\n",
       "             1.7396e-05, 1.0484e-05, 2.9798e-06, 6.5312e-07, 1.0614e-06, 2.9740e-06,\n",
       "             1.8104e-06, 2.1622e-06, 3.9664e-07, 9.9425e-07, 2.6467e-06, 2.1782e-06,\n",
       "             9.2904e-07, 4.5019e-07, 4.9321e-06, 8.3396e-07, 1.5126e-06, 7.4457e-06,\n",
       "             1.7778e-06, 6.2376e-07, 1.3793e-06, 1.4928e-07, 9.4580e-07, 5.2006e-06,\n",
       "             1.5024e-07, 3.0211e-06, 3.8187e-06, 4.0292e-06, 5.7173e-06, 1.6698e-06,\n",
       "             2.6570e-06, 1.0836e-06, 1.2200e-06, 3.1335e-06, 4.4590e-06, 9.0648e-08,\n",
       "             1.6227e-07, 3.4298e-06, 9.5581e-06, 3.0118e-05, 9.6928e-07, 7.0280e-07,\n",
       "             7.8120e-07, 5.0201e-07, 1.3100e-06, 1.6827e-06, 5.9188e-07, 1.2438e-06,\n",
       "             3.3683e-06, 8.9057e-07, 1.4477e-06, 1.5324e-06, 8.5697e-07, 6.4189e-06,\n",
       "             2.6215e-06, 5.7108e-06, 2.1649e-06, 4.3098e-06, 1.2709e-05, 5.1442e-06,\n",
       "             7.6825e-07, 4.5104e-06, 1.2140e-06, 2.2698e-06, 1.7054e-06, 1.6241e-06,\n",
       "             1.2931e-07, 1.2158e-06, 5.4095e-07, 6.3618e-06, 1.4692e-06, 1.6965e-06,\n",
       "             5.9644e-06, 3.4818e-06, 2.0452e-07, 5.8933e-06, 1.8515e-06, 9.8981e-08,\n",
       "             4.0093e-06, 5.1544e-06, 9.7732e-06, 1.6977e-06, 4.6034e-06, 9.1821e-07,\n",
       "             2.1379e-06, 1.1162e-06, 3.2477e-06, 4.4201e-06, 1.0004e-06, 2.7842e-06,\n",
       "             6.4351e-06, 6.0582e-06, 9.9887e-06, 3.1578e-06, 2.6094e-06, 2.7790e-06,\n",
       "             3.8382e-06, 9.5950e-07, 7.5210e-07, 2.0104e-06, 4.3195e-07, 1.7605e-06,\n",
       "             1.0119e-06, 1.0947e-05, 3.8535e-07, 9.1729e-07, 1.1718e-06, 5.0407e-06,\n",
       "             7.9223e-07, 3.2842e-06, 4.8116e-06, 5.4493e-06, 1.9653e-06, 1.2379e-06,\n",
       "             8.7169e-07, 3.0136e-06, 6.2780e-06, 3.3955e-07, 1.0390e-06, 7.1025e-07,\n",
       "             1.1485e-05, 4.6095e-07, 3.0466e-06, 2.2967e-06, 4.8466e-06, 7.9672e-07,\n",
       "             9.3623e-07, 7.5696e-07, 7.8172e-07, 3.7430e-06, 5.9904e-06, 3.0823e-06,\n",
       "             3.0146e-07, 1.1092e-05, 3.2147e-06, 1.5809e-05, 2.5799e-06, 2.7611e-06,\n",
       "             1.1862e-06, 1.6159e-06, 3.2603e-06, 9.8484e-07, 5.0684e-06, 3.5492e-06,\n",
       "             2.2250e-06, 5.1020e-07, 7.5053e-07, 2.7907e-06, 7.1044e-07, 2.8096e-06,\n",
       "             1.7556e-06, 7.8205e-07, 1.7109e-06, 3.6845e-06, 7.6022e-07, 3.7172e-06,\n",
       "             6.3305e-06, 3.7912e-06, 2.1893e-06, 6.0901e-07, 4.8539e-06, 3.4697e-06,\n",
       "             1.5398e-06, 2.7387e-06, 3.1021e-06, 1.2942e-06, 1.7410e-06, 6.4310e-07,\n",
       "             6.1543e-07, 1.4810e-06, 3.2237e-07, 7.4683e-07, 3.3566e-05, 2.6124e-06,\n",
       "             9.5638e-07, 9.4118e-06, 8.7045e-07, 6.6660e-06, 1.0595e-06, 2.8787e-06,\n",
       "             4.6384e-06, 2.8982e-06, 2.2412e-06, 2.6200e-06, 3.4937e-06, 3.0043e-06,\n",
       "             1.8004e-06, 2.7080e-06, 2.1490e-06, 2.4976e-06, 2.0741e-06, 4.4633e-07,\n",
       "             1.5737e-07, 4.1086e-05, 1.3261e-06, 6.4563e-07, 8.0945e-07, 8.8994e-07,\n",
       "             2.7682e-06, 1.1732e-06, 2.3341e-06, 1.4836e-06, 5.1439e-07, 2.7662e-07,\n",
       "             2.7726e-06, 1.1980e-06, 1.5998e-06, 3.3715e-06, 1.6888e-05, 1.3023e-06,\n",
       "             3.7014e-06, 8.3758e-07, 2.8944e-06, 1.5064e-06, 1.1788e-06, 1.0197e-06,\n",
       "             1.1072e-06, 2.6982e-06, 1.6449e-06, 5.5817e-06, 5.8430e-06, 3.3210e-06,\n",
       "             5.8641e-07, 2.0635e-06, 1.5875e-06, 8.5641e-06, 4.5713e-07, 3.5768e-06,\n",
       "             1.1833e-06, 1.9987e-05, 3.4658e-06, 5.7713e-07, 2.3982e-07, 9.9954e-07,\n",
       "             1.0918e-05, 8.9892e-06, 1.5915e-07, 7.6425e-07, 4.6533e-06, 1.7411e-06,\n",
       "             1.3222e-05, 2.9848e-06, 1.4939e-06, 4.0684e-07, 2.1405e-06, 8.6791e-06,\n",
       "             1.0714e-06, 1.0088e-06, 5.6708e-07, 2.8488e-06, 4.5039e-06, 1.1221e-07,\n",
       "             4.1858e-05, 2.2430e-07, 2.1633e-06, 1.3273e-06, 7.7760e-06, 8.4518e-06,\n",
       "             3.4966e-07, 7.4431e-07, 2.8711e-06, 1.1856e-06, 6.2226e-07, 7.2939e-07,\n",
       "             4.8719e-06, 2.5242e-07, 1.2033e-05, 1.8988e-07, 1.4360e-06, 1.7339e-06,\n",
       "             1.3113e-06, 1.7691e-06, 8.5676e-07, 2.4908e-06, 4.1639e-07, 2.3790e-07,\n",
       "             4.0025e-06, 2.9412e-06, 5.0209e-07, 5.3640e-06, 7.7908e-07, 7.1655e-07,\n",
       "             3.1209e-06, 3.5100e-06, 1.9585e-06, 2.8514e-06, 3.9405e-05, 1.1427e-06,\n",
       "             9.3212e-07, 1.7542e-06, 2.7739e-06, 1.4407e-06, 5.6681e-06, 2.1612e-06,\n",
       "             2.4734e-05, 8.7004e-07, 9.5312e-06, 1.1454e-06, 1.8013e-06, 8.4179e-07,\n",
       "             1.1106e-06, 5.4766e-06, 7.1678e-07, 3.3187e-06, 4.9436e-06, 8.7482e-06,\n",
       "             2.7336e-06, 5.7611e-06, 2.6348e-06, 4.3150e-07, 7.9654e-07, 3.8445e-06,\n",
       "             9.0566e-07, 4.3307e-07, 3.0937e-06, 2.4081e-06, 8.2039e-07, 4.4074e-06,\n",
       "             1.3856e-06, 1.3985e-06, 3.4059e-07, 2.6424e-07, 1.1838e-06, 2.9079e-06,\n",
       "             6.8729e-06, 2.9288e-07, 1.6642e-07, 8.4734e-07, 1.0070e-05, 4.8731e-07,\n",
       "             1.3122e-06, 1.1877e-05, 9.7393e-07, 4.9075e-07, 5.4144e-06, 2.6454e-06,\n",
       "             6.5870e-07, 1.5144e-06, 9.1040e-07, 2.9987e-06, 1.2451e-06, 7.5932e-06,\n",
       "             1.0729e-06, 6.2952e-06, 5.9889e-07, 1.2159e-06, 2.2425e-06, 6.5639e-07,\n",
       "             2.7676e-06, 2.2809e-06, 1.6505e-06, 5.6163e-07, 7.1460e-06, 6.7320e-07,\n",
       "             1.5654e-05, 1.4875e-06, 1.3556e-06, 3.5574e-07, 6.0016e-06, 5.3865e-07,\n",
       "             2.6793e-06, 1.0631e-06, 1.5220e-06, 1.5129e-06, 7.5284e-06, 2.6446e-06,\n",
       "             2.6488e-06, 1.3875e-06, 1.0844e-06, 5.4204e-07, 1.1704e-06, 1.4532e-06,\n",
       "             2.9753e-06, 1.0462e-06, 1.7253e-06, 1.7833e-06, 5.2727e-07, 4.7606e-06,\n",
       "             1.2649e-07, 1.8410e-06, 1.9797e-06, 1.9979e-06, 3.4028e-06, 1.8973e-06,\n",
       "             7.5190e-07, 5.1450e-06, 2.9530e-06, 2.4442e-06, 1.5362e-07, 6.7235e-07,\n",
       "             2.4152e-06, 1.5701e-05], device='cuda:0')},\n",
       "    4: {'step': 10400,\n",
       "     'exp_avg': tensor([[ 1.3262e-05, -7.0098e-07,  6.8226e-07,  ...,  2.6178e-07,\n",
       "              -5.6206e-06,  2.9148e-06],\n",
       "             [-2.0448e-05, -1.1979e-06,  1.3122e-06,  ...,  9.0731e-06,\n",
       "              -5.5918e-06, -2.1208e-05],\n",
       "             [-1.6438e-06,  3.1333e-05, -4.5773e-06,  ..., -3.0201e-06,\n",
       "               1.7361e-05,  1.6710e-05],\n",
       "             ...,\n",
       "             [-2.6250e-06,  8.9585e-06,  5.1466e-06,  ...,  5.0898e-06,\n",
       "               9.9101e-06,  3.5905e-06],\n",
       "             [ 1.6365e-06,  7.7806e-06,  1.5731e-07,  ..., -8.0371e-06,\n",
       "               8.9411e-06, -4.1844e-06],\n",
       "             [-2.3918e-05, -1.2036e-05, -1.9184e-05,  ..., -1.3555e-05,\n",
       "               6.1175e-06, -2.4415e-05]], device='cuda:0'),\n",
       "     'exp_avg_sq': tensor([[3.0225e-08, 2.6564e-08, 1.2120e-08,  ..., 1.0469e-08, 1.1061e-08,\n",
       "              2.8669e-08],\n",
       "             [1.7102e-08, 5.7057e-09, 7.5611e-09,  ..., 6.3630e-09, 4.6387e-09,\n",
       "              1.2362e-08],\n",
       "             [1.6996e-08, 1.0906e-08, 8.1933e-09,  ..., 9.6360e-09, 3.9218e-09,\n",
       "              1.1885e-08],\n",
       "             ...,\n",
       "             [8.5210e-09, 1.3386e-08, 7.2172e-09,  ..., 5.7505e-09, 4.7660e-09,\n",
       "              7.3273e-09],\n",
       "             [1.3263e-08, 1.1021e-08, 1.0521e-08,  ..., 1.0968e-08, 4.8841e-09,\n",
       "              5.3209e-08],\n",
       "             [3.2063e-08, 7.2867e-09, 8.9160e-09,  ..., 8.5308e-09, 7.6791e-09,\n",
       "              2.0942e-08]], device='cuda:0'),\n",
       "     'max_exp_avg_sq': tensor([[2.7239e-07, 2.6424e-07, 1.3409e-07,  ..., 1.6415e-07, 6.1574e-08,\n",
       "              6.7628e-08],\n",
       "             [1.8528e-07, 4.5593e-07, 1.1993e-07,  ..., 1.6632e-07, 8.3762e-08,\n",
       "              5.3217e-08],\n",
       "             [1.2248e-07, 2.9641e-07, 1.7701e-07,  ..., 1.7385e-07, 1.0700e-07,\n",
       "              3.9239e-08],\n",
       "             ...,\n",
       "             [6.7937e-08, 1.1523e-07, 3.5141e-08,  ..., 5.1992e-08, 1.8072e-08,\n",
       "              1.2374e-08],\n",
       "             [4.1149e-07, 1.0475e-06, 4.8023e-07,  ..., 2.9834e-07, 4.5079e-07,\n",
       "              5.7996e-07],\n",
       "             [1.8166e-07, 2.0193e-07, 1.2745e-07,  ..., 1.2692e-07, 7.4439e-08,\n",
       "              1.6355e-07]], device='cuda:0')},\n",
       "    5: {'step': 10400,\n",
       "     'exp_avg': tensor([ 2.0523e-05, -1.6119e-06, -3.1488e-05, -3.7486e-05,  3.4219e-05,\n",
       "             -5.4620e-05, -1.9852e-05, -3.5084e-06, -1.0820e-05, -1.2446e-05,\n",
       "             -4.7909e-06,  1.4531e-05,  1.6640e-05, -1.5686e-07,  4.5453e-05,\n",
       "              8.7697e-06,  8.6094e-06, -9.6825e-06,  3.2155e-05,  1.1898e-04,\n",
       "             -6.8025e-06, -2.7333e-05, -2.9367e-05, -1.0180e-06,  9.8076e-06,\n",
       "              5.8736e-06,  5.5520e-06,  8.3687e-06, -7.0390e-07,  4.9668e-05,\n",
       "             -7.1726e-05,  3.7570e-05, -1.6545e-05, -1.9765e-05,  2.0553e-06,\n",
       "              2.8735e-05,  4.2914e-05,  1.5732e-05,  4.0154e-05, -4.3404e-05,\n",
       "              3.6413e-05,  4.3507e-06,  1.1874e-05, -4.1294e-05,  2.6151e-06,\n",
       "              1.0425e-05,  4.8028e-05,  1.1346e-05, -2.8788e-06,  3.3163e-05,\n",
       "             -4.6126e-07,  6.3579e-05, -2.3314e-05, -3.1652e-05, -4.7774e-05,\n",
       "             -3.8139e-06,  3.6349e-05, -1.1367e-05, -3.0945e-05,  4.4267e-06,\n",
       "             -4.6459e-06, -2.4376e-05,  1.0720e-06,  1.1991e-05,  1.4467e-05,\n",
       "             -6.4554e-06,  2.1953e-05, -5.2173e-06, -7.8444e-06,  3.5252e-07,\n",
       "             -1.0844e-05,  4.2267e-06, -2.9808e-05,  6.0165e-05,  5.2273e-05,\n",
       "             -1.1976e-05,  3.2353e-05, -1.8341e-05,  1.6298e-05,  5.4381e-06,\n",
       "             -1.6715e-05,  1.3803e-05,  7.6992e-06,  1.8985e-05, -3.7596e-06,\n",
       "             -1.0577e-05,  2.4513e-05,  1.7934e-05,  3.8783e-05, -1.0359e-05,\n",
       "              2.3887e-06,  1.7407e-05, -2.0130e-05,  7.7640e-06, -6.5247e-06,\n",
       "             -2.5773e-07, -5.5960e-05, -2.3774e-05, -5.5699e-05, -3.5477e-06,\n",
       "              1.2516e-05, -3.0360e-06, -2.6764e-05, -3.9032e-05, -1.1024e-05,\n",
       "             -5.8225e-05,  1.2091e-05,  1.9560e-05, -1.3989e-05, -6.3693e-05,\n",
       "              6.1291e-05, -5.5035e-05, -4.2632e-06,  2.6487e-06,  8.4825e-05,\n",
       "              2.6400e-05,  2.8647e-05, -3.4605e-06,  2.1881e-05, -6.6093e-06,\n",
       "              1.1811e-05,  1.7872e-05, -1.9260e-06,  3.4303e-05, -1.3113e-05,\n",
       "              1.3610e-05,  1.4851e-05,  2.6345e-05, -1.2365e-04, -9.4292e-06,\n",
       "             -3.1417e-05, -2.1760e-05,  3.3552e-05,  1.4820e-05, -2.6711e-05,\n",
       "              1.5228e-05, -3.5615e-05, -6.8496e-07,  2.3876e-05, -2.5273e-05,\n",
       "             -1.8267e-06, -2.3277e-05,  3.0947e-06,  1.6503e-06,  2.3929e-05,\n",
       "              1.2799e-05, -7.4422e-06, -1.9037e-05,  2.4400e-06,  1.7847e-05,\n",
       "             -3.0939e-05, -1.7257e-05, -1.5266e-05, -2.1704e-05, -6.5519e-05,\n",
       "             -2.4291e-06, -7.0766e-06, -7.4197e-05,  4.1998e-06, -3.9756e-06,\n",
       "             -1.1508e-05,  1.1899e-06,  4.8172e-05,  1.2059e-05,  1.3284e-05,\n",
       "             -5.4607e-05,  5.5516e-05,  4.5345e-06, -1.0360e-05,  5.2310e-06,\n",
       "             -5.9406e-05, -9.1426e-06, -2.6272e-05,  3.6601e-05, -2.7864e-05,\n",
       "             -4.2708e-06, -3.1831e-05, -1.9384e-06,  1.1705e-05, -7.7292e-06,\n",
       "             -1.2095e-05,  1.3867e-05,  3.3270e-05,  9.5518e-06,  2.7192e-05,\n",
       "             -8.6769e-06,  1.9878e-05,  9.9012e-05,  1.2513e-06, -5.0577e-06,\n",
       "              8.0283e-06, -2.9816e-05, -2.2099e-05, -3.9429e-07, -2.0825e-05,\n",
       "              1.7042e-05,  2.2171e-05,  5.1680e-05,  6.7872e-07,  3.2746e-05,\n",
       "              1.7285e-05,  3.3048e-06,  4.7186e-06, -2.4063e-06,  4.3995e-05,\n",
       "             -4.2850e-06,  1.4621e-05,  4.1644e-05,  3.7765e-06,  1.4715e-06,\n",
       "              3.2294e-05,  1.0449e-04,  2.1793e-05,  2.3999e-05, -2.7652e-06,\n",
       "             -5.1593e-05,  4.8701e-05, -3.1045e-05, -3.1078e-05,  7.0479e-06,\n",
       "             -3.4753e-05, -6.7409e-06, -1.4339e-05, -1.2341e-06, -5.5513e-06,\n",
       "              3.6716e-05,  1.5147e-05,  4.1931e-06, -2.1808e-05,  5.7899e-05,\n",
       "              8.5395e-06, -3.9721e-05,  2.0742e-06,  1.7440e-06, -1.8537e-05,\n",
       "             -7.7736e-06,  4.3591e-05, -8.3754e-06, -3.2132e-05, -5.8080e-05,\n",
       "              5.6723e-06, -4.1582e-05, -4.7130e-06,  3.1248e-05,  3.2028e-06,\n",
       "             -2.9625e-05,  2.2379e-05,  5.2183e-05, -6.2851e-06, -3.8301e-06,\n",
       "             -1.4967e-07, -3.7833e-06, -3.6971e-05, -7.5978e-06, -1.6141e-05,\n",
       "             -3.1948e-05,  9.4050e-05,  2.9620e-05, -5.6564e-06, -9.4543e-06,\n",
       "             -1.5562e-06, -7.1535e-06, -5.6728e-05,  1.0371e-05,  6.5320e-06,\n",
       "              6.4156e-05,  2.8284e-06,  9.1972e-07, -2.8881e-06,  5.0084e-05,\n",
       "              1.7980e-05,  1.1558e-05, -5.4442e-06, -6.3278e-05,  1.1430e-05,\n",
       "              2.5018e-07, -3.1364e-05,  1.5563e-05, -4.4716e-06, -1.7518e-05,\n",
       "             -5.7979e-06,  5.5975e-05, -6.6473e-05, -3.2501e-05,  8.5614e-05,\n",
       "              4.9223e-06, -2.0128e-06, -2.8061e-06,  3.2874e-05,  5.0026e-06,\n",
       "              7.1327e-06,  1.0713e-05, -2.2070e-05, -2.4427e-05,  6.3477e-06,\n",
       "              1.1202e-05,  1.5441e-05,  1.3039e-05, -7.3064e-06, -5.7949e-05,\n",
       "              2.0731e-07,  5.1498e-05,  1.6755e-05,  2.3787e-06, -1.3702e-05,\n",
       "             -3.5029e-05,  2.1073e-05,  6.9398e-06,  3.7056e-05,  9.0349e-07,\n",
       "              1.3498e-06,  1.8786e-05,  4.9922e-05, -2.9630e-05, -2.2099e-06,\n",
       "             -1.2353e-05, -4.5733e-05,  1.7412e-05, -8.9429e-05, -4.3212e-06,\n",
       "              2.2900e-05, -8.7291e-07, -7.2938e-05, -2.2960e-05, -5.8550e-06,\n",
       "             -5.6661e-05,  9.8038e-06,  6.3592e-06,  2.4245e-05, -3.7911e-05,\n",
       "             -1.2167e-07,  1.9211e-05, -4.9332e-05,  2.6043e-05,  8.4828e-06,\n",
       "             -3.9219e-06, -2.6167e-07,  3.9914e-05,  2.4407e-05,  6.7513e-05,\n",
       "              9.8211e-05,  1.4881e-06,  1.3340e-05,  2.8998e-05, -1.2695e-05,\n",
       "              8.8150e-07,  2.0260e-07,  4.9924e-05,  6.9607e-07,  2.9816e-06,\n",
       "             -5.7748e-05, -1.1547e-05, -8.1476e-07, -4.6405e-05,  9.9625e-06,\n",
       "              2.6712e-05,  4.4111e-06, -4.3712e-05, -1.4336e-05, -3.0928e-06,\n",
       "             -2.2596e-05, -3.2418e-06,  2.5986e-05,  1.0001e-05,  4.6519e-05,\n",
       "             -9.1617e-06, -4.3427e-05,  8.0266e-06,  1.3007e-05, -4.0936e-05,\n",
       "              8.2583e-06,  2.5257e-05, -4.7743e-06, -2.1823e-05, -1.0160e-06,\n",
       "              3.8284e-05,  7.5186e-06, -7.2659e-05,  7.0910e-06, -3.0899e-06,\n",
       "             -2.9866e-05, -4.8023e-07, -9.8604e-07,  4.9805e-06, -3.5436e-07,\n",
       "              1.8178e-05, -3.8489e-05,  9.1894e-06, -1.9770e-05,  3.7928e-05,\n",
       "              6.4106e-05,  3.5949e-05, -1.8468e-05, -9.7044e-06,  3.0063e-05,\n",
       "              3.3968e-05, -1.0396e-05, -2.6150e-05,  6.1817e-05, -2.2694e-05,\n",
       "              1.1532e-05, -4.7140e-05, -7.9835e-05, -7.4353e-06, -2.4294e-06,\n",
       "             -1.7803e-06,  3.4282e-05,  4.9442e-05,  9.6308e-05, -2.3436e-06,\n",
       "              4.9310e-05, -2.6598e-05, -4.1704e-05,  5.2415e-06,  2.4604e-05,\n",
       "             -3.0287e-05, -1.7743e-05, -7.7397e-05,  5.2176e-06, -4.5210e-05,\n",
       "              5.5149e-05,  2.6774e-05,  3.1582e-05,  3.9527e-05,  3.5643e-06,\n",
       "             -2.6361e-05,  1.1032e-05, -1.3498e-05,  6.1206e-06,  4.6795e-06,\n",
       "              3.7423e-05, -1.9584e-05,  2.2354e-05,  2.3898e-05, -1.9856e-05,\n",
       "             -6.4130e-06, -1.8051e-05, -2.8238e-05, -9.2900e-06, -4.9284e-05,\n",
       "             -7.9978e-06,  2.0223e-07, -1.7090e-05, -3.2378e-05, -1.3806e-05,\n",
       "             -3.3511e-05, -2.0267e-05, -7.0428e-06, -2.1232e-05,  2.7013e-05,\n",
       "              1.0475e-05, -1.2716e-06, -9.4293e-06, -1.6395e-06, -1.4607e-05,\n",
       "             -9.0177e-05, -3.4739e-06,  9.8133e-06, -9.2823e-06, -2.9283e-05,\n",
       "              2.0375e-05, -1.9052e-05,  4.2757e-05, -3.5950e-07, -4.9143e-06,\n",
       "             -2.6381e-05, -2.2603e-05, -9.7046e-06,  2.7204e-05, -3.0637e-06,\n",
       "             -4.4819e-07,  2.3083e-05,  2.3901e-06, -9.3534e-06, -2.1106e-05,\n",
       "             -7.1825e-06, -3.6966e-05,  4.1417e-06,  3.6840e-05,  3.5982e-05,\n",
       "             -8.6131e-05, -8.1960e-06,  6.6923e-06,  2.5094e-05, -2.3814e-05,\n",
       "              1.6606e-05, -1.3936e-05,  2.4441e-06, -1.1624e-05,  5.8558e-05,\n",
       "              9.8165e-07, -1.1617e-05,  4.9591e-05, -1.1632e-05,  2.8916e-09,\n",
       "             -4.8848e-06,  1.0755e-05,  4.7583e-06,  1.6802e-05, -6.1345e-07,\n",
       "             -1.3869e-04, -1.0573e-05,  1.4623e-05,  5.8094e-05, -3.4829e-05,\n",
       "             -1.2357e-05, -6.8004e-05, -2.3231e-05,  3.2005e-05, -6.1443e-06,\n",
       "             -2.0759e-05, -6.2456e-06], device='cuda:0'),\n",
       "     'exp_avg_sq': tensor([3.6390e-08, 9.0147e-09, 1.1774e-08, 6.3658e-08, 7.8132e-08, 2.0020e-08,\n",
       "             1.4827e-08, 2.2808e-08, 3.5585e-08, 1.3006e-08, 2.8531e-09, 1.0723e-08,\n",
       "             8.0381e-09, 4.3842e-11, 3.5232e-08, 1.8984e-08, 4.2467e-09, 8.7532e-09,\n",
       "             1.1902e-08, 8.5112e-08, 4.0536e-08, 4.3487e-08, 1.6208e-08, 8.1414e-09,\n",
       "             2.3641e-08, 7.5594e-09, 3.3655e-09, 4.1750e-09, 3.2455e-09, 2.1745e-08,\n",
       "             2.0958e-07, 3.3446e-08, 2.1781e-08, 1.6488e-08, 9.1684e-09, 2.0802e-08,\n",
       "             3.5202e-08, 2.4479e-08, 1.2447e-08, 5.5710e-08, 1.3440e-08, 1.1409e-09,\n",
       "             1.6226e-08, 2.3446e-07, 5.7265e-09, 1.8669e-08, 3.8718e-08, 2.9527e-08,\n",
       "             7.7282e-09, 2.9250e-08, 8.0228e-09, 2.7293e-08, 9.4686e-09, 2.4289e-08,\n",
       "             2.0236e-08, 5.0798e-08, 3.6684e-07, 3.0375e-08, 3.7468e-08, 1.1538e-08,\n",
       "             9.4165e-09, 2.4221e-08, 1.7957e-07, 3.7384e-09, 1.1506e-08, 2.4317e-08,\n",
       "             4.6114e-08, 4.5227e-09, 1.0758e-08, 7.9329e-08, 2.8069e-09, 7.1961e-09,\n",
       "             1.3795e-08, 2.2082e-08, 3.9285e-08, 5.4512e-08, 1.5273e-08, 2.2108e-08,\n",
       "             1.8678e-08, 1.9772e-08, 4.3097e-08, 8.6735e-09, 2.7014e-08, 4.5717e-08,\n",
       "             1.4686e-08, 1.0211e-08, 2.7316e-08, 1.2684e-08, 2.3640e-08, 1.7590e-08,\n",
       "             1.3218e-08, 1.7245e-08, 6.8376e-08, 2.5489e-09, 1.6940e-09, 4.1002e-10,\n",
       "             1.6923e-08, 1.9461e-08, 4.7375e-08, 4.7822e-09, 2.5712e-08, 4.1642e-08,\n",
       "             2.6321e-08, 1.3307e-08, 6.1896e-09, 4.8056e-08, 1.9403e-08, 7.8520e-09,\n",
       "             2.0403e-08, 6.2016e-08, 3.3284e-08, 1.7898e-08, 2.7381e-09, 1.1858e-08,\n",
       "             9.8197e-08, 4.2385e-08, 1.8464e-08, 4.7731e-09, 1.1264e-08, 1.7068e-08,\n",
       "             9.0528e-09, 1.7753e-08, 7.7078e-09, 1.7771e-08, 2.4350e-08, 3.4737e-08,\n",
       "             1.8463e-08, 1.3785e-08, 4.4958e-08, 8.9560e-09, 2.4127e-08, 4.1504e-08,\n",
       "             2.1612e-08, 4.6344e-08, 2.1087e-08, 1.2557e-08, 2.8437e-08, 3.7970e-09,\n",
       "             1.0199e-08, 1.1708e-08, 1.0401e-08, 7.9293e-09, 1.8794e-08, 2.7346e-08,\n",
       "             1.9281e-08, 2.3547e-08, 5.9164e-09, 3.1001e-08, 2.7848e-09, 4.3425e-08,\n",
       "             5.4165e-08, 1.3908e-08, 7.3388e-09, 1.2964e-08, 2.6812e-08, 5.2742e-08,\n",
       "             4.1116e-09, 2.2142e-08, 1.2507e-08, 5.4394e-08, 6.8552e-09, 3.3381e-09,\n",
       "             5.1327e-08, 4.5795e-08, 1.5274e-08, 2.5808e-08, 2.4613e-08, 5.7969e-09,\n",
       "             5.8369e-08, 6.3256e-09, 1.5359e-07, 2.7682e-08, 7.9950e-09, 1.3296e-07,\n",
       "             5.5674e-08, 1.2776e-08, 2.2301e-08, 2.8009e-10, 1.4168e-08, 6.4974e-08,\n",
       "             2.3340e-08, 2.4315e-08, 2.4363e-08, 4.7302e-09, 1.9570e-08, 4.7102e-09,\n",
       "             4.2242e-09, 9.2128e-08, 5.0905e-11, 1.4223e-07, 2.7581e-08, 2.3519e-08,\n",
       "             4.7707e-08, 1.1499e-10, 9.1321e-09, 5.5318e-09, 3.9768e-08, 2.5220e-08,\n",
       "             2.0939e-08, 6.1215e-08, 4.5700e-08, 7.1966e-09, 3.9130e-09, 1.0749e-08,\n",
       "             3.3347e-08, 2.4087e-08, 1.2976e-08, 9.6128e-09, 8.1959e-09, 2.2084e-09,\n",
       "             2.5664e-08, 4.9237e-08, 1.4861e-08, 2.8518e-07, 1.3909e-08, 2.4000e-08,\n",
       "             1.3939e-08, 1.0611e-08, 6.4941e-08, 1.2419e-08, 1.1306e-07, 2.1826e-08,\n",
       "             4.3325e-08, 5.4375e-09, 1.7905e-08, 3.2851e-08, 6.2085e-08, 2.9112e-09,\n",
       "             1.3121e-08, 7.5998e-08, 8.7091e-09, 4.3045e-08, 1.2505e-08, 1.4494e-08,\n",
       "             3.6755e-08, 1.0235e-08, 5.9938e-07, 3.5110e-08, 1.0821e-08, 2.7810e-08,\n",
       "             7.7524e-09, 1.2522e-07, 1.9062e-08, 3.3211e-08, 2.1500e-08, 1.7072e-08,\n",
       "             2.4526e-08, 4.1706e-08, 3.2414e-09, 1.2459e-08, 1.3998e-10, 8.0249e-09,\n",
       "             1.2365e-08, 6.5513e-09, 2.8637e-08, 4.5549e-08, 1.5745e-07, 7.7753e-08,\n",
       "             8.4755e-09, 3.3676e-09, 1.4480e-08, 1.0736e-08, 2.5759e-08, 1.1507e-08,\n",
       "             5.7265e-09, 8.0921e-08, 1.0188e-08, 2.4188e-08, 2.2870e-09, 2.8392e-08,\n",
       "             3.6833e-08, 3.0954e-08, 7.5763e-09, 6.1427e-08, 1.1903e-08, 1.8644e-08,\n",
       "             3.6488e-08, 3.5449e-09, 5.5180e-09, 1.7240e-08, 3.4039e-08, 1.5137e-07,\n",
       "             3.0930e-08, 5.9375e-08, 2.1498e-07, 3.2470e-09, 2.1368e-08, 5.5711e-08,\n",
       "             4.7601e-08, 8.5276e-09, 2.5233e-08, 1.7520e-08, 1.1701e-08, 4.4282e-08,\n",
       "             1.8886e-08, 2.5339e-08, 2.1112e-08, 3.4460e-09, 6.1398e-09, 1.8931e-08,\n",
       "             6.5683e-09, 2.3196e-08, 7.3520e-08, 1.8929e-09, 2.9179e-08, 3.1095e-08,\n",
       "             1.4310e-08, 2.1723e-08, 3.9172e-08, 1.4991e-08, 2.1563e-10, 3.3224e-08,\n",
       "             1.9199e-08, 1.2071e-08, 2.5570e-09, 1.8744e-08, 3.5977e-07, 4.9355e-08,\n",
       "             9.9578e-08, 1.8303e-08, 1.0851e-07, 9.5031e-08, 5.6226e-08, 6.3181e-09,\n",
       "             2.7728e-08, 2.4029e-08, 1.7629e-08, 9.8646e-09, 3.1430e-08, 9.2891e-08,\n",
       "             6.9571e-09, 1.0460e-08, 4.5608e-08, 2.0860e-08, 2.0667e-08, 1.4992e-08,\n",
       "             3.8564e-11, 2.2659e-08, 8.8855e-09, 8.3637e-08, 1.3038e-07, 1.9579e-08,\n",
       "             2.2859e-08, 2.6004e-08, 2.2595e-08, 2.2589e-08, 3.0981e-11, 1.1897e-08,\n",
       "             1.4879e-08, 8.8460e-09, 2.3199e-08, 3.4822e-08, 7.8943e-09, 4.5227e-08,\n",
       "             3.8182e-08, 1.6908e-08, 1.2388e-08, 3.7962e-07, 2.7722e-08, 1.0375e-09,\n",
       "             1.8738e-08, 4.4747e-09, 2.2230e-08, 1.0136e-08, 1.8087e-08, 2.8351e-08,\n",
       "             3.9845e-08, 2.4883e-08, 3.2590e-08, 2.2991e-08, 2.5547e-08, 1.8996e-08,\n",
       "             1.9819e-08, 2.1942e-08, 4.6842e-09, 3.5435e-08, 1.5848e-08, 2.6913e-08,\n",
       "             1.4113e-08, 9.4577e-09, 2.3334e-08, 3.6042e-08, 4.8923e-09, 7.5351e-09,\n",
       "             5.3607e-09, 2.2969e-08, 3.0091e-08, 4.2096e-09, 2.8782e-08, 4.8665e-08,\n",
       "             3.8354e-08, 1.4038e-08, 4.1462e-08, 2.0451e-08, 5.8591e-08, 1.7489e-08,\n",
       "             5.8533e-08, 3.2259e-08, 1.4945e-08, 7.1889e-08, 7.4919e-09, 1.8479e-08,\n",
       "             1.1717e-07, 3.5357e-09, 5.0319e-09, 2.7686e-08, 2.1887e-08, 3.5720e-08,\n",
       "             8.3468e-08, 5.7834e-09, 5.9338e-08, 4.8416e-09, 3.8962e-08, 2.6866e-08,\n",
       "             1.6264e-08, 1.9056e-08, 8.9226e-09, 2.3485e-07, 2.7156e-08, 4.8945e-08,\n",
       "             2.8407e-08, 2.7145e-08, 1.6124e-08, 1.7444e-08, 9.8973e-09, 4.7296e-08,\n",
       "             1.7860e-08, 1.9967e-08, 7.8952e-09, 2.1592e-08, 1.1148e-08, 2.1069e-08,\n",
       "             3.1651e-08, 2.0151e-08, 1.3532e-08, 5.4488e-08, 6.6667e-09, 5.0628e-08,\n",
       "             1.6128e-08, 2.2224e-08, 8.8834e-09, 6.3414e-11, 3.0514e-08, 3.1670e-08,\n",
       "             1.1581e-08, 6.4659e-08, 1.7254e-08, 1.1446e-08, 2.5949e-08, 1.4594e-08,\n",
       "             1.1950e-08, 4.4497e-09, 9.1120e-09, 1.8410e-08, 4.3513e-08, 2.7116e-08,\n",
       "             1.4433e-08, 4.8803e-08, 9.9900e-09, 2.3153e-08, 1.9282e-08, 2.4041e-08,\n",
       "             3.1507e-08, 3.4493e-11, 5.3115e-08, 2.8485e-08, 1.3975e-08, 2.8898e-08,\n",
       "             2.2259e-08, 7.0033e-09, 3.0259e-08, 1.6967e-08, 5.5933e-10, 6.2358e-09,\n",
       "             1.6371e-08, 1.5702e-09, 1.4477e-07, 7.7202e-09, 1.6368e-08, 6.5990e-09,\n",
       "             3.0226e-08, 5.4536e-09, 1.0535e-08, 2.5093e-08, 1.6138e-08, 1.8262e-08,\n",
       "             4.6576e-08, 8.5685e-09, 6.5818e-09, 5.2368e-08, 5.6913e-08, 1.5295e-08,\n",
       "             2.1819e-08, 3.2492e-09, 2.7187e-11, 9.3313e-09, 3.6815e-08, 5.7294e-09,\n",
       "             1.3691e-08, 2.2813e-08, 3.1016e-07, 8.2867e-09, 1.1522e-08, 7.6028e-08,\n",
       "             1.8497e-08, 1.7403e-08, 8.1012e-08, 7.7577e-09, 1.5352e-08, 2.2321e-08,\n",
       "             1.5530e-08, 9.6465e-09], device='cuda:0'),\n",
       "     'max_exp_avg_sq': tensor([2.3216e-07, 1.7137e-07, 3.8984e-08, 5.4621e-07, 7.5736e-07, 2.1703e-07,\n",
       "             1.7349e-07, 8.3193e-08, 4.4557e-07, 5.4084e-08, 9.9452e-08, 1.3587e-07,\n",
       "             1.7269e-07, 1.2566e-07, 1.5106e-06, 7.4026e-08, 2.2823e-07, 8.4325e-08,\n",
       "             2.2961e-07, 8.0763e-07, 1.8268e-07, 2.6662e-07, 3.3770e-08, 9.8081e-08,\n",
       "             1.4445e-07, 2.4944e-08, 7.1464e-08, 8.2152e-08, 1.1611e-07, 1.8765e-07,\n",
       "             9.2719e-07, 3.4981e-07, 1.5393e-07, 1.0262e-07, 4.9305e-08, 4.2836e-07,\n",
       "             1.5830e-07, 1.5322e-07, 6.0259e-08, 1.3448e-06, 1.0437e-07, 1.1766e-07,\n",
       "             2.8625e-07, 8.3208e-07, 4.7988e-08, 6.3460e-08, 1.0154e-06, 2.3806e-07,\n",
       "             1.2661e-07, 2.1790e-07, 1.3627e-07, 6.3108e-07, 7.5666e-08, 2.7348e-07,\n",
       "             1.1640e-07, 1.6394e-07, 7.9474e-07, 1.9335e-07, 4.2554e-07, 2.6724e-07,\n",
       "             2.2069e-07, 6.9680e-07, 3.3149e-07, 4.7495e-08, 6.0109e-08, 1.2590e-07,\n",
       "             1.6143e-07, 9.0200e-08, 1.7188e-07, 4.0408e-07, 3.7292e-08, 9.3090e-08,\n",
       "             8.9646e-08, 9.9210e-08, 7.9808e-07, 3.7820e-06, 4.5097e-08, 1.0946e-07,\n",
       "             7.2512e-08, 1.1321e-07, 3.0113e-07, 6.7677e-08, 4.2499e-07, 1.0959e-06,\n",
       "             1.0147e-07, 1.3731e-07, 1.1815e-06, 2.1611e-07, 1.1158e-07, 2.2137e-07,\n",
       "             6.6536e-08, 1.0346e-07, 1.8415e-07, 6.2604e-08, 5.5941e-08, 6.8804e-08,\n",
       "             1.8819e-07, 1.6093e-07, 1.2511e-06, 9.9781e-08, 8.9667e-08, 2.2915e-07,\n",
       "             2.1984e-07, 9.0183e-08, 8.5935e-08, 7.6122e-07, 5.0018e-07, 1.2789e-07,\n",
       "             2.3732e-07, 3.1139e-07, 3.7690e-07, 1.0515e-07, 4.9710e-08, 4.2830e-08,\n",
       "             2.8639e-06, 7.3840e-07, 8.7356e-08, 6.8938e-08, 7.3258e-08, 7.4470e-08,\n",
       "             1.5867e-07, 1.4186e-07, 1.0396e-07, 1.2358e-07, 8.4948e-08, 2.9757e-07,\n",
       "             3.8159e-07, 6.2597e-08, 4.1641e-07, 1.5002e-07, 2.4302e-07, 3.9652e-07,\n",
       "             1.3581e-07, 2.0586e-07, 1.4617e-07, 9.9098e-08, 7.7634e-07, 2.4037e-07,\n",
       "             6.4356e-08, 7.4660e-08, 2.7145e-07, 1.1687e-07, 1.9396e-07, 6.3708e-08,\n",
       "             4.0296e-07, 1.5801e-07, 6.2227e-08, 1.7339e-06, 6.3280e-08, 2.0106e-06,\n",
       "             8.3101e-07, 9.3675e-08, 2.3717e-07, 5.2529e-08, 1.3592e-07, 7.6038e-07,\n",
       "             8.8305e-08, 1.5843e-07, 6.6035e-08, 2.7908e-07, 2.2703e-07, 4.7391e-08,\n",
       "             2.4453e-07, 5.5091e-07, 2.3136e-07, 1.2228e-07, 2.2758e-07, 2.4146e-07,\n",
       "             2.1264e-07, 6.3702e-08, 2.2471e-06, 8.4378e-08, 4.6609e-07, 1.0860e-06,\n",
       "             3.9329e-07, 8.8903e-08, 1.9367e-07, 3.6126e-07, 1.4616e-07, 2.1737e-07,\n",
       "             4.9533e-07, 7.8202e-08, 4.8929e-07, 7.6173e-08, 1.5414e-07, 1.0656e-07,\n",
       "             1.2563e-07, 1.8717e-06, 6.0756e-08, 6.7543e-07, 1.5652e-07, 1.0567e-07,\n",
       "             4.0036e-07, 1.3663e-07, 1.7179e-07, 7.3468e-08, 2.3983e-07, 3.0001e-07,\n",
       "             2.2859e-07, 1.5811e-06, 2.3727e-07, 1.6097e-07, 1.2543e-07, 1.8019e-07,\n",
       "             6.9289e-07, 5.7275e-07, 7.5647e-08, 6.1584e-08, 7.2847e-08, 7.3807e-08,\n",
       "             1.2808e-06, 3.7405e-07, 3.0441e-07, 5.4682e-07, 1.9970e-07, 1.8162e-07,\n",
       "             6.2291e-08, 1.1375e-07, 5.1961e-07, 6.8272e-08, 1.0058e-06, 1.1128e-07,\n",
       "             4.2672e-07, 5.6566e-08, 7.0645e-07, 1.7154e-07, 9.3174e-08, 9.5602e-08,\n",
       "             1.6978e-07, 9.1598e-07, 9.3953e-08, 2.0761e-06, 1.8205e-07, 3.0967e-07,\n",
       "             6.2830e-08, 2.3703e-07, 1.1862e-06, 1.8207e-07, 1.1489e-07, 1.2564e-07,\n",
       "             1.0795e-07, 1.5221e-06, 8.2107e-08, 3.0485e-07, 2.8307e-07, 8.1730e-08,\n",
       "             1.4156e-07, 3.6529e-07, 8.0907e-08, 5.8506e-08, 5.4834e-07, 1.1397e-07,\n",
       "             6.7298e-08, 2.6904e-07, 6.7672e-07, 6.3667e-07, 4.9990e-07, 6.1996e-07,\n",
       "             6.9199e-07, 1.2664e-07, 1.6835e-07, 9.3078e-08, 3.0793e-07, 1.0804e-07,\n",
       "             1.3160e-07, 1.6841e-06, 6.3253e-08, 1.8106e-07, 6.6854e-08, 2.3630e-07,\n",
       "             1.0951e-06, 6.0205e-07, 1.0810e-07, 9.0244e-07, 9.8575e-08, 5.0146e-07,\n",
       "             1.1158e-06, 7.9234e-08, 1.5429e-07, 1.1680e-07, 3.4401e-07, 5.9650e-07,\n",
       "             2.4554e-07, 2.5665e-07, 9.6888e-07, 4.7828e-08, 6.9354e-08, 7.4956e-07,\n",
       "             4.0705e-07, 9.0521e-08, 1.8480e-07, 2.2194e-07, 6.4193e-08, 1.1127e-06,\n",
       "             2.7306e-07, 3.3890e-07, 3.6749e-07, 3.4164e-08, 4.4538e-08, 1.9335e-07,\n",
       "             1.0140e-07, 6.7561e-07, 1.7445e-06, 8.6542e-08, 2.7721e-07, 2.0237e-07,\n",
       "             5.4535e-08, 1.9436e-07, 5.7257e-07, 9.3187e-08, 4.2763e-08, 4.1981e-07,\n",
       "             1.6671e-07, 5.6397e-08, 7.9038e-08, 2.1068e-07, 1.6274e-06, 4.7838e-07,\n",
       "             1.7697e-06, 7.1617e-08, 4.8509e-07, 7.0279e-06, 5.0438e-06, 9.1931e-08,\n",
       "             1.6004e-07, 1.4531e-07, 1.6017e-07, 1.1683e-07, 1.8020e-07, 2.3979e-07,\n",
       "             9.5854e-08, 2.1269e-07, 4.1533e-07, 1.4576e-07, 2.8899e-07, 1.0476e-07,\n",
       "             1.4835e-07, 1.2622e-07, 5.1966e-08, 1.4016e-06, 2.1381e-06, 2.7252e-07,\n",
       "             1.5367e-07, 4.6345e-07, 1.5133e-07, 3.1184e-07, 1.3251e-07, 3.0601e-08,\n",
       "             1.2536e-07, 7.1007e-08, 4.2785e-07, 3.3247e-07, 6.2246e-08, 2.9588e-07,\n",
       "             2.0893e-07, 2.8734e-07, 2.0351e-07, 9.1441e-07, 2.0384e-07, 4.3485e-08,\n",
       "             1.3331e-07, 1.4248e-07, 3.0090e-07, 9.3264e-08, 1.0747e-07, 1.7327e-07,\n",
       "             1.5691e-07, 1.0357e-07, 2.6240e-07, 6.7358e-07, 2.5822e-06, 1.1442e-07,\n",
       "             5.1916e-08, 2.3524e-07, 1.5787e-07, 4.1082e-07, 7.9319e-08, 2.8182e-07,\n",
       "             6.3507e-08, 5.6671e-08, 1.0541e-07, 1.4161e-07, 1.5978e-07, 5.1322e-08,\n",
       "             7.8434e-08, 1.7223e-07, 3.4490e-07, 1.5644e-07, 6.4766e-08, 1.2264e-07,\n",
       "             5.5433e-07, 1.8138e-07, 3.9356e-07, 8.0508e-08, 7.9662e-07, 1.0837e-07,\n",
       "             1.2703e-07, 2.7194e-07, 5.6329e-08, 7.7381e-07, 1.9368e-07, 8.0998e-08,\n",
       "             3.4207e-06, 1.8234e-07, 5.3211e-08, 6.1966e-07, 1.6182e-07, 6.3805e-07,\n",
       "             1.2711e-06, 8.4939e-08, 1.4759e-06, 4.1485e-07, 4.2309e-07, 2.5726e-07,\n",
       "             2.4399e-07, 2.3563e-07, 1.1629e-07, 7.9754e-07, 2.1701e-07, 2.4022e-07,\n",
       "             1.9978e-07, 2.6397e-07, 1.3450e-07, 4.0706e-07, 2.7004e-07, 3.0352e-06,\n",
       "             2.8293e-07, 9.7620e-08, 1.3510e-07, 9.8711e-08, 1.5621e-07, 1.6907e-07,\n",
       "             2.3702e-07, 8.5733e-08, 1.4106e-07, 2.8635e-07, 2.0804e-07, 4.0968e-07,\n",
       "             8.1897e-08, 1.5941e-07, 1.5926e-07, 1.1752e-07, 1.1391e-06, 2.6321e-07,\n",
       "             8.6252e-08, 5.9354e-07, 2.5254e-07, 9.8954e-08, 1.0123e-06, 1.6209e-07,\n",
       "             1.9220e-07, 6.7161e-08, 1.7417e-07, 1.1660e-07, 1.6251e-07, 4.3133e-07,\n",
       "             1.2721e-07, 2.1386e-07, 9.7384e-08, 2.5764e-07, 8.4358e-07, 8.1669e-07,\n",
       "             2.1060e-07, 7.7183e-08, 3.4629e-07, 2.3623e-07, 8.2355e-08, 2.5579e-07,\n",
       "             1.1216e-06, 6.3674e-08, 5.6631e-07, 7.8512e-08, 7.4028e-08, 1.9781e-07,\n",
       "             2.0685e-07, 3.5966e-08, 3.5093e-07, 9.9102e-08, 8.6159e-08, 2.7828e-07,\n",
       "             3.1206e-07, 3.2816e-08, 7.1134e-08, 1.7848e-07, 1.6118e-07, 8.8052e-08,\n",
       "             9.1101e-08, 2.6379e-07, 6.4291e-08, 8.0683e-07, 3.1685e-07, 1.2514e-07,\n",
       "             2.6537e-07, 7.3571e-08, 7.8814e-08, 1.2282e-07, 1.8032e-07, 1.2093e-07,\n",
       "             4.2754e-07, 5.3047e-07, 9.1342e-06, 1.1015e-07, 1.4436e-07, 1.1336e-06,\n",
       "             1.0071e-07, 5.7434e-08, 3.4527e-07, 1.7128e-07, 1.2278e-07, 1.0676e-07,\n",
       "             7.9654e-07, 1.5637e-07], device='cuda:0')},\n",
       "    6: {'step': 10400,\n",
       "     'exp_avg': tensor([[ 1.4082e-05,  3.9602e-06,  2.1429e-05,  ...,  1.4511e-05,\n",
       "               1.8653e-05,  6.3711e-06],\n",
       "             [-7.2516e-06,  3.6975e-06,  2.8837e-06,  ..., -1.0185e-05,\n",
       "               9.8539e-06, -4.2469e-07],\n",
       "             [ 1.4084e-05,  6.1222e-06,  4.5412e-05,  ...,  1.5745e-06,\n",
       "              -1.2101e-05,  2.2261e-06],\n",
       "             ...,\n",
       "             [ 1.1242e-05, -7.4297e-07,  8.7881e-06,  ...,  1.1021e-05,\n",
       "              -3.1141e-06, -3.4329e-06],\n",
       "             [ 1.7161e-07,  8.7964e-09,  1.9106e-07,  ...,  1.7326e-07,\n",
       "               9.5106e-08, -7.1903e-08],\n",
       "             [ 8.8712e-06, -1.9671e-05, -5.2413e-05,  ..., -6.4756e-05,\n",
       "               4.4130e-05,  8.3681e-06]], device='cuda:0'),\n",
       "     'exp_avg_sq': tensor([[4.7540e-09, 3.6067e-10, 5.1330e-09,  ..., 4.9849e-09, 2.8847e-09,\n",
       "              4.5948e-10],\n",
       "             [2.7791e-09, 9.1627e-10, 2.9731e-09,  ..., 2.8311e-09, 2.4114e-09,\n",
       "              5.7224e-10],\n",
       "             [1.4905e-08, 1.2530e-09, 2.4088e-08,  ..., 2.0219e-08, 4.5206e-08,\n",
       "              3.8387e-09],\n",
       "             ...,\n",
       "             [1.0921e-08, 1.8876e-09, 8.4103e-09,  ..., 1.1939e-08, 8.7086e-09,\n",
       "              1.8068e-09],\n",
       "             [3.5210e-11, 1.0521e-11, 3.5445e-11,  ..., 3.8332e-11, 1.6282e-11,\n",
       "              1.2357e-11],\n",
       "             [3.3869e-08, 6.7220e-09, 6.7242e-08,  ..., 4.7663e-08, 6.1076e-08,\n",
       "              6.9358e-09]], device='cuda:0'),\n",
       "     'max_exp_avg_sq': tensor([[8.8434e-08, 2.1839e-08, 2.6841e-08,  ..., 1.7630e-07, 2.4170e-08,\n",
       "              6.2594e-08],\n",
       "             [1.5623e-08, 1.5504e-08, 1.9032e-08,  ..., 1.3844e-08, 1.8237e-08,\n",
       "              1.3114e-08],\n",
       "             [3.2297e-08, 3.6249e-08, 4.1040e-08,  ..., 2.8345e-08, 5.3096e-08,\n",
       "              3.2693e-08],\n",
       "             ...,\n",
       "             [1.7106e-08, 1.3589e-08, 1.2673e-08,  ..., 2.2117e-08, 1.8131e-08,\n",
       "              1.3981e-08],\n",
       "             [1.9929e-08, 3.6161e-08, 3.1618e-08,  ..., 4.2137e-08, 1.1969e-08,\n",
       "              2.1724e-08],\n",
       "             [4.9809e-08, 1.0221e-07, 1.4337e-07,  ..., 5.0902e-08, 1.2750e-07,\n",
       "              6.7876e-08]], device='cuda:0')},\n",
       "    7: {'step': 10400,\n",
       "     'exp_avg': tensor([-2.1546e-05, -1.0405e-05,  1.3234e-05,  1.7816e-05,  1.9180e-05,\n",
       "              3.5248e-06,  1.1146e-06, -8.9527e-07,  1.6601e-07,  1.5359e-05,\n",
       "              7.9490e-06, -1.0529e-05,  6.3974e-06,  3.6533e-05, -2.0628e-05,\n",
       "              2.9912e-06, -3.1604e-08, -1.7115e-05,  5.8128e-07, -1.5093e-05,\n",
       "             -1.8466e-07,  8.5960e-06, -3.4016e-05,  7.5462e-08, -6.8886e-05,\n",
       "              5.8079e-07, -3.6705e-05, -9.7113e-06,  2.5755e-08, -1.3436e-05,\n",
       "             -1.5417e-06, -1.5637e-05,  7.3144e-06,  1.6418e-07,  8.9500e-06,\n",
       "              5.2729e-05, -9.4826e-06,  1.1826e-05,  1.7733e-07, -8.9162e-06,\n",
       "              3.9594e-06, -2.5193e-05,  1.0047e-05,  3.1668e-07,  2.4302e-05,\n",
       "              1.5735e-07,  1.5941e-09, -5.3913e-06,  6.9027e-06, -3.5897e-06,\n",
       "             -2.0404e-07,  1.1342e-07,  1.0490e-06,  1.3727e-05, -2.1742e-05,\n",
       "             -5.0410e-05, -9.3873e-05,  1.9289e-07,  6.8582e-08,  9.7872e-07,\n",
       "             -3.3881e-07,  5.6272e-05, -3.2508e-05, -1.0716e-05,  3.0227e-05,\n",
       "             -2.1884e-05,  6.8533e-06, -2.4346e-05, -3.8552e-05, -2.7747e-05,\n",
       "             -2.3728e-05,  1.2416e-04,  2.8914e-05, -8.4440e-06, -2.0631e-05,\n",
       "             -1.0339e-05, -1.0739e-05,  3.6239e-05,  1.3224e-05, -1.5365e-05,\n",
       "              4.8767e-06, -3.5513e-05,  3.6240e-06,  9.5159e-08, -2.3913e-06,\n",
       "             -1.0287e-06,  3.2473e-05, -3.9746e-06, -4.8502e-06,  4.0798e-05,\n",
       "              8.7600e-06, -6.5013e-05,  8.2290e-06, -2.4924e-05, -3.5031e-05,\n",
       "             -2.2022e-05,  2.4170e-06, -8.5971e-05, -2.2377e-05, -2.1966e-07,\n",
       "             -4.0053e-07,  3.4979e-06,  4.0779e-06,  1.8201e-05,  1.1618e-05,\n",
       "             -1.4759e-05, -4.0868e-08, -2.5572e-05,  5.4617e-06, -5.7674e-06,\n",
       "             -3.7536e-06,  6.6689e-06,  3.2511e-06, -1.2727e-05, -5.5791e-07,\n",
       "              1.3270e-05,  1.1736e-05,  1.3040e-05, -6.9726e-06, -3.5356e-05,\n",
       "              3.6877e-08, -1.2163e-05,  1.9693e-06,  1.4689e-05,  1.2401e-05,\n",
       "             -1.2947e-07,  3.5691e-05,  2.4946e-05, -3.5263e-05, -3.2078e-05,\n",
       "             -9.1524e-05, -2.7195e-06,  4.8721e-08, -3.1761e-06, -8.0233e-08,\n",
       "              1.2814e-05, -3.9274e-05,  4.2423e-05, -7.3792e-07,  1.4230e-05,\n",
       "             -7.6218e-06, -1.3538e-05, -6.4788e-08,  1.7022e-07, -1.0766e-05,\n",
       "              7.0186e-06, -9.2424e-06,  7.5284e-09,  4.1034e-05,  4.0532e-05,\n",
       "             -2.9391e-05, -1.1153e-05,  1.1617e-07,  3.0868e-05,  1.1258e-05,\n",
       "             -8.6106e-08,  7.8609e-06, -5.9588e-06,  2.5345e-05, -3.0841e-05,\n",
       "              1.1936e-05, -2.2128e-05, -2.8345e-05, -2.4538e-05,  1.6032e-06,\n",
       "              7.5500e-06, -9.9891e-06, -1.4783e-07,  7.5193e-06, -3.1226e-05,\n",
       "              1.6297e-05, -3.8187e-05, -3.8500e-05,  3.0911e-05,  6.3702e-06,\n",
       "             -2.9944e-06, -1.2290e-05, -3.4935e-08, -2.4077e-07, -3.6555e-05,\n",
       "             -4.2640e-06,  1.6514e-05, -5.0577e-06,  2.0296e-06,  5.7560e-06,\n",
       "              1.7260e-05,  1.7696e-06,  5.2055e-06,  1.1540e-05,  6.0353e-05,\n",
       "              1.8517e-05, -3.5384e-05, -1.1971e-05,  8.6767e-06,  5.6680e-08,\n",
       "              9.1469e-06, -6.8821e-07, -7.9083e-06,  2.2165e-07, -4.2947e-05,\n",
       "              1.2536e-05, -5.2736e-07, -1.1924e-06,  1.1460e-08, -2.7783e-07,\n",
       "             -5.5876e-06,  1.3751e-05,  3.7823e-06, -2.0817e-05, -2.0324e-06,\n",
       "             -1.1320e-06,  1.2504e-06, -2.0262e-05,  2.5244e-05,  6.0561e-08,\n",
       "             -5.7149e-05,  3.6486e-05, -2.0015e-06, -1.2201e-05, -7.0617e-07,\n",
       "              1.4629e-05, -2.6663e-06,  1.2675e-05,  6.7253e-06,  2.3197e-05,\n",
       "              1.1147e-05, -1.0571e-05,  3.4237e-05,  2.9085e-07,  9.5843e-06,\n",
       "             -2.3895e-05, -8.6508e-06,  7.6465e-06, -3.0728e-05, -8.7719e-06,\n",
       "             -1.1244e-07,  8.3915e-06, -1.5556e-08,  1.3668e-05,  1.1352e-05,\n",
       "             -5.8160e-05,  3.3895e-05, -5.0131e-05,  1.2357e-04,  7.0852e-06,\n",
       "              7.8071e-06, -2.1500e-05, -8.7518e-06,  9.7326e-08, -3.4188e-05,\n",
       "             -2.2013e-07, -4.1675e-05,  1.5495e-06,  3.5523e-06,  2.7901e-08,\n",
       "              1.6448e-05,  2.9369e-07, -3.6814e-06,  4.2171e-07, -7.2988e-08,\n",
       "             -1.6011e-05,  2.6346e-05,  1.0714e-04,  2.8768e-05, -7.8515e-06,\n",
       "             -2.7791e-05, -4.3468e-06,  1.7981e-07, -9.3987e-06, -4.2852e-06,\n",
       "             -1.0183e-05,  6.8113e-07,  1.5123e-05,  2.5228e-05,  7.3762e-08,\n",
       "             -7.5538e-07, -8.7508e-06, -2.0920e-06,  1.1323e-05,  1.4717e-06,\n",
       "             -1.1040e-07, -1.1160e-05,  1.9844e-05, -1.5023e-05,  8.7438e-06,\n",
       "              1.1014e-05, -5.8218e-07, -9.2710e-06,  2.0661e-05,  1.0728e-07,\n",
       "             -4.0214e-06,  1.2038e-05, -1.3374e-05, -4.7336e-06,  1.3776e-05,\n",
       "              5.7377e-06, -8.9516e-08,  1.0302e-05, -3.3299e-08, -2.2818e-05,\n",
       "              7.3280e-08, -1.7942e-05, -1.8245e-05, -3.5704e-05, -1.1429e-06,\n",
       "              3.3582e-05,  1.5113e-05,  3.1875e-05,  4.4240e-05, -4.7781e-05,\n",
       "              1.5204e-05, -1.6229e-07,  4.2216e-05, -2.8448e-08,  6.1333e-06,\n",
       "             -1.5104e-06, -6.5316e-07,  2.5285e-05,  1.5887e-05, -9.1435e-06,\n",
       "             -6.8513e-06, -1.2731e-07, -1.1310e-07,  5.9431e-05,  9.7486e-06,\n",
       "             -1.2358e-06, -2.3709e-05, -1.3163e-05,  1.4637e-05,  4.1086e-05,\n",
       "             -1.8880e-08, -2.5290e-06,  2.7795e-06, -3.9995e-07, -9.1794e-05,\n",
       "              7.0301e-05,  2.8268e-07, -2.8459e-05, -3.0158e-05,  3.5066e-08,\n",
       "              2.3423e-06, -2.1199e-05, -6.4730e-05, -1.3693e-05, -1.2870e-05,\n",
       "             -2.8461e-08,  1.1544e-05, -9.0332e-06,  6.7595e-07, -1.1109e-05,\n",
       "              3.7057e-06,  2.9258e-05, -4.7336e-08, -1.1031e-05, -1.1788e-05,\n",
       "             -1.2068e-05,  1.9063e-05,  2.6524e-05, -5.7468e-08,  1.9284e-06,\n",
       "             -1.3363e-05, -5.5061e-08,  9.6994e-06, -1.2891e-06,  1.3400e-05,\n",
       "              5.5325e-06, -1.2284e-07,  1.0304e-07,  2.7031e-05, -5.7110e-05,\n",
       "             -7.5545e-06, -1.3276e-06, -3.7078e-05,  9.6216e-08, -6.6088e-07,\n",
       "             -2.0918e-05, -4.6821e-05, -4.6664e-05, -1.4218e-06,  1.8935e-06,\n",
       "             -2.9297e-05,  1.0736e-06,  1.2403e-05,  9.0455e-05, -3.6964e-05,\n",
       "             -2.7738e-05,  1.0554e-05,  1.0758e-05, -1.2808e-05,  8.0185e-07,\n",
       "             -3.3345e-06,  7.2056e-05, -7.2949e-07, -1.1479e-06, -1.0268e-05,\n",
       "             -1.3314e-07, -1.1099e-04,  2.5240e-05,  9.2965e-06, -3.3345e-05,\n",
       "              2.5189e-05, -3.9428e-05, -4.4501e-08, -6.8579e-06,  2.1817e-09,\n",
       "              1.7725e-05, -1.7610e-05,  1.0615e-04, -6.9612e-05, -3.6827e-07,\n",
       "             -1.0535e-04,  7.8264e-05, -9.5272e-06, -1.6392e-05,  9.3217e-06,\n",
       "             -3.8787e-07, -3.4521e-06, -2.5951e-05,  1.5171e-05, -1.0949e-06,\n",
       "              5.1724e-05,  3.7652e-06, -3.4870e-08,  5.3943e-06,  1.6799e-05,\n",
       "             -4.3381e-06,  2.9598e-05,  1.2032e-07,  5.1504e-05, -1.1136e-05,\n",
       "              1.2922e-06, -2.5789e-06, -1.8057e-08, -8.8463e-06, -9.5145e-07,\n",
       "              2.9665e-05,  2.4279e-06, -9.5365e-06,  1.0190e-05, -3.3662e-05,\n",
       "             -1.9572e-05,  3.0491e-06, -8.9906e-06,  1.7895e-06,  7.5460e-06,\n",
       "             -2.3741e-05,  7.1310e-06, -3.6583e-06, -7.1457e-05, -7.8283e-05,\n",
       "             -2.8099e-05,  6.4183e-05,  3.8980e-05, -1.3684e-06, -5.5828e-06,\n",
       "              1.9091e-05, -4.4341e-05,  3.2285e-07, -1.0782e-06,  4.0037e-09,\n",
       "             -3.9031e-07, -7.8037e-08, -8.6398e-06, -2.3421e-06, -3.0034e-05,\n",
       "             -2.8908e-06,  2.7772e-05, -2.9995e-06, -2.1309e-05, -1.0863e-06,\n",
       "              1.7682e-07,  8.8799e-08, -1.4718e-05,  1.0197e-07,  3.0834e-05,\n",
       "             -6.7946e-07,  3.2750e-05, -1.0601e-05,  2.4063e-05, -1.0334e-05,\n",
       "              9.9845e-09,  3.7256e-06,  1.8212e-07,  1.2381e-07,  8.7388e-06,\n",
       "              6.1986e-05,  5.0629e-05,  3.1027e-05, -1.8495e-08, -9.8958e-09,\n",
       "             -1.6370e-07,  1.2003e-05,  1.1620e-06,  7.6077e-06, -2.1920e-05,\n",
       "              2.0969e-05, -6.6629e-06,  3.4357e-05, -1.1768e-08, -3.7853e-08,\n",
       "              2.6606e-05, -7.3465e-05,  3.1121e-05, -6.2190e-07, -3.6777e-05,\n",
       "              3.3057e-06, -1.6770e-05, -5.1254e-06,  3.3173e-05,  1.1042e-05,\n",
       "              1.1254e-07, -5.2415e-05], device='cuda:0'),\n",
       "     'exp_avg_sq': tensor([5.1469e-09, 2.8445e-09, 4.6605e-08, 1.4684e-08, 5.8842e-09, 6.3417e-09,\n",
       "             2.3881e-09, 2.4160e-07, 2.5853e-11, 7.2757e-09, 2.9265e-08, 8.1988e-09,\n",
       "             5.1866e-08, 1.9328e-08, 1.0917e-08, 1.1958e-08, 2.9419e-12, 1.2065e-08,\n",
       "             5.1242e-10, 4.4584e-08, 2.3029e-10, 8.3638e-09, 7.4264e-08, 1.9222e-11,\n",
       "             3.1819e-08, 1.9688e-10, 2.2215e-08, 1.1565e-08, 1.3253e-10, 1.7818e-08,\n",
       "             4.1854e-08, 2.2183e-08, 9.2586e-09, 6.0037e-11, 9.5535e-09, 2.6678e-08,\n",
       "             3.7367e-08, 8.4817e-09, 1.8720e-11, 4.3070e-08, 9.0409e-09, 1.5187e-07,\n",
       "             1.4125e-08, 2.5066e-11, 2.1407e-08, 2.3284e-10, 1.2625e-09, 5.7673e-09,\n",
       "             1.8802e-08, 1.1028e-08, 2.5819e-10, 1.1979e-11, 4.8841e-10, 1.6122e-08,\n",
       "             9.5634e-09, 2.8512e-08, 1.8521e-07, 1.8316e-09, 2.8666e-11, 9.2173e-10,\n",
       "             6.4498e-11, 2.9398e-08, 2.4296e-08, 6.6594e-08, 1.8568e-08, 1.1986e-08,\n",
       "             1.3299e-08, 2.2775e-08, 4.5239e-08, 1.5700e-08, 9.2096e-09, 1.5541e-07,\n",
       "             8.9659e-09, 9.0039e-09, 6.2693e-08, 1.0621e-08, 1.1975e-08, 1.0890e-08,\n",
       "             2.0564e-09, 5.6789e-09, 1.0303e-08, 3.7132e-08, 1.7089e-09, 9.7505e-09,\n",
       "             5.0640e-08, 5.1093e-08, 2.1937e-08, 1.4729e-09, 4.7908e-08, 2.1042e-07,\n",
       "             1.4516e-08, 2.2256e-07, 1.8642e-08, 1.3547e-08, 5.2266e-08, 2.0921e-08,\n",
       "             3.3753e-08, 4.2188e-07, 1.7707e-08, 8.3665e-09, 1.4542e-10, 6.0220e-09,\n",
       "             5.7743e-09, 2.8318e-08, 5.8319e-09, 2.3329e-08, 1.9957e-11, 8.1756e-09,\n",
       "             1.3324e-08, 1.2428e-08, 1.6750e-07, 1.3527e-08, 2.2275e-08, 1.5110e-08,\n",
       "             1.9757e-09, 2.4239e-08, 2.0992e-08, 4.5424e-08, 2.2545e-08, 2.9388e-08,\n",
       "             1.2094e-10, 1.0680e-08, 1.7668e-09, 6.4689e-09, 1.1340e-08, 5.9933e-11,\n",
       "             3.7312e-08, 3.5155e-08, 5.3023e-08, 3.0170e-08, 6.8017e-08, 1.2035e-08,\n",
       "             1.9274e-11, 1.4894e-09, 3.3091e-11, 4.4552e-08, 6.3286e-08, 1.2570e-08,\n",
       "             5.4162e-09, 1.5100e-08, 2.0341e-08, 2.9175e-08, 2.1017e-11, 1.0847e-11,\n",
       "             7.4680e-09, 1.5664e-08, 3.8693e-09, 1.5161e-10, 1.8673e-07, 9.6511e-09,\n",
       "             1.5015e-08, 1.6513e-08, 1.2070e-10, 1.5187e-08, 3.8110e-09, 1.0214e-10,\n",
       "             1.5478e-08, 1.1801e-08, 2.8720e-08, 2.6105e-08, 1.9179e-08, 7.7359e-09,\n",
       "             8.4913e-09, 1.3543e-08, 6.2745e-10, 1.0894e-08, 9.8708e-09, 3.0723e-10,\n",
       "             2.2285e-09, 3.0009e-08, 1.2731e-08, 2.3005e-08, 2.5662e-08, 1.2102e-08,\n",
       "             1.1221e-07, 7.2535e-10, 1.7338e-08, 1.6194e-11, 1.9873e-10, 3.6164e-08,\n",
       "             1.0656e-09, 1.5991e-08, 1.1053e-08, 1.4044e-08, 8.7756e-09, 7.6330e-09,\n",
       "             1.9205e-10, 1.3820e-08, 5.6696e-08, 1.4243e-08, 8.1293e-08, 2.1730e-08,\n",
       "             9.9591e-09, 3.2084e-09, 4.1887e-10, 1.5963e-09, 1.3642e-10, 1.7608e-08,\n",
       "             7.9807e-11, 8.4761e-09, 2.7107e-09, 2.0027e-08, 4.8414e-11, 1.5115e-11,\n",
       "             2.6738e-10, 9.2503e-09, 1.5355e-08, 1.5345e-08, 2.5203e-08, 8.4208e-08,\n",
       "             1.1622e-08, 1.0541e-08, 5.1957e-08, 1.0864e-08, 1.5868e-11, 4.2569e-08,\n",
       "             1.0938e-08, 1.7020e-10, 1.0485e-08, 2.2237e-08, 9.9255e-09, 8.4798e-10,\n",
       "             2.9846e-09, 8.0710e-09, 2.3645e-08, 7.8449e-09, 4.1188e-09, 9.6933e-09,\n",
       "             7.2651e-11, 2.6229e-08, 3.5403e-08, 2.2318e-09, 9.3000e-09, 1.1266e-08,\n",
       "             8.5153e-10, 1.3706e-09, 2.8948e-08, 3.6741e-11, 2.4191e-08, 8.8156e-09,\n",
       "             1.4778e-07, 8.4023e-09, 1.9778e-08, 2.4157e-07, 1.0930e-08, 1.6447e-09,\n",
       "             7.6549e-09, 1.2939e-09, 1.3544e-11, 1.7002e-08, 2.1678e-11, 1.4945e-07,\n",
       "             6.9293e-10, 4.9584e-09, 1.0073e-11, 1.0547e-08, 2.2430e-10, 5.4117e-09,\n",
       "             1.3178e-09, 1.1584e-11, 4.0958e-08, 1.9587e-08, 1.5687e-07, 3.0795e-08,\n",
       "             7.8034e-09, 7.4620e-09, 3.1191e-07, 2.8604e-11, 4.3859e-08, 1.4362e-08,\n",
       "             2.5310e-08, 1.0197e-10, 1.0511e-08, 1.9290e-08, 7.7185e-12, 3.9608e-11,\n",
       "             1.0092e-08, 5.4488e-09, 6.3594e-08, 6.9971e-08, 5.1549e-10, 5.5094e-08,\n",
       "             1.8214e-08, 1.2407e-08, 3.2340e-09, 8.3287e-09, 1.8569e-11, 9.8079e-08,\n",
       "             9.6709e-09, 1.2817e-11, 1.1567e-09, 6.7012e-09, 2.2202e-08, 3.4776e-09,\n",
       "             5.9694e-09, 2.1171e-08, 3.3100e-11, 9.4624e-09, 6.0589e-12, 1.0038e-08,\n",
       "             1.7445e-11, 7.4063e-09, 8.1735e-09, 7.8994e-08, 5.8981e-08, 2.4139e-08,\n",
       "             1.3275e-08, 7.4955e-08, 7.9226e-08, 5.6718e-08, 3.6595e-08, 6.2710e-11,\n",
       "             1.1706e-08, 2.8117e-11, 1.1791e-08, 6.0619e-09, 7.5343e-10, 2.6842e-08,\n",
       "             1.7529e-08, 1.0864e-08, 1.0522e-08, 3.6861e-09, 1.1281e-11, 9.7538e-08,\n",
       "             2.7276e-09, 5.5953e-10, 4.8566e-08, 7.5042e-09, 1.1390e-07, 1.4705e-08,\n",
       "             4.3143e-11, 4.1913e-10, 2.3445e-08, 5.6939e-11, 6.2868e-08, 7.1964e-08,\n",
       "             5.8084e-11, 9.3135e-09, 1.6430e-08, 7.5787e-11, 1.1196e-08, 1.2760e-08,\n",
       "             1.6317e-08, 3.6954e-09, 1.0246e-08, 1.2433e-11, 8.6406e-09, 1.1482e-08,\n",
       "             3.7017e-11, 7.6588e-08, 4.7469e-10, 8.1226e-09, 1.2079e-12, 1.5393e-08,\n",
       "             7.3661e-10, 2.2832e-08, 1.0362e-08, 1.9899e-08, 1.1483e-11, 9.1280e-09,\n",
       "             1.2323e-08, 2.3818e-11, 6.6046e-09, 3.1036e-08, 2.1885e-08, 7.3856e-09,\n",
       "             1.5998e-09, 2.3556e-11, 8.8345e-09, 9.0177e-08, 1.1401e-08, 2.2619e-09,\n",
       "             1.2481e-08, 2.5029e-08, 7.1689e-11, 1.5436e-08, 8.2360e-08, 3.2929e-08,\n",
       "             1.6031e-09, 1.8931e-10, 2.7671e-08, 7.9451e-09, 8.1459e-09, 1.2623e-06,\n",
       "             1.5529e-07, 2.6547e-08, 2.6344e-09, 4.0683e-08, 4.5917e-09, 8.6179e-09,\n",
       "             4.2800e-10, 2.4303e-07, 1.0532e-08, 2.8190e-11, 2.3135e-08, 1.1397e-10,\n",
       "             1.1964e-07, 1.9264e-08, 6.8959e-09, 4.1529e-08, 9.3952e-09, 9.7917e-09,\n",
       "             1.0834e-11, 9.7055e-09, 4.7794e-11, 1.0983e-08, 1.2022e-08, 2.1058e-07,\n",
       "             5.1438e-08, 1.6817e-11, 8.1819e-08, 5.3893e-08, 9.0113e-09, 1.0075e-08,\n",
       "             1.3705e-08, 5.0564e-11, 3.0967e-08, 1.9405e-08, 9.8101e-09, 1.3030e-09,\n",
       "             1.0692e-07, 1.3392e-08, 3.6833e-11, 4.3771e-09, 5.2705e-09, 1.1891e-08,\n",
       "             2.5104e-08, 5.4961e-11, 1.9306e-08, 1.0403e-07, 2.1330e-08, 3.2064e-09,\n",
       "             2.1425e-09, 1.8971e-08, 2.0296e-08, 1.3372e-08, 1.9659e-08, 3.5070e-08,\n",
       "             6.8173e-09, 1.9720e-07, 8.4286e-09, 1.3230e-08, 3.1928e-08, 9.2370e-11,\n",
       "             6.2119e-08, 2.4067e-08, 1.4688e-09, 3.8369e-09, 1.1411e-08, 4.0446e-07,\n",
       "             3.2872e-08, 2.7182e-08, 3.8770e-08, 2.1930e-10, 1.0278e-09, 9.5857e-09,\n",
       "             2.4382e-08, 1.5459e-11, 6.3896e-10, 9.4392e-11, 7.4368e-12, 1.3010e-09,\n",
       "             1.7150e-08, 6.9212e-08, 2.5380e-08, 6.0119e-09, 6.1589e-08, 2.2330e-08,\n",
       "             2.3581e-08, 1.6563e-08, 1.2069e-11, 4.8620e-11, 7.3406e-09, 1.6965e-11,\n",
       "             2.7475e-07, 3.2641e-09, 3.5428e-08, 9.0924e-09, 1.6642e-08, 1.9524e-08,\n",
       "             1.2641e-11, 1.4959e-08, 8.0464e-12, 1.1286e-11, 3.5180e-09, 4.4825e-09,\n",
       "             3.7788e-08, 4.3134e-08, 3.6282e-11, 4.6750e-11, 1.1872e-09, 1.1983e-08,\n",
       "             3.9362e-07, 3.2415e-09, 3.8531e-08, 1.0708e-08, 6.8464e-09, 2.3011e-08,\n",
       "             2.5095e-12, 3.5233e-12, 4.9052e-08, 1.9731e-07, 1.5860e-08, 8.6686e-08,\n",
       "             1.5512e-08, 7.3942e-09, 2.3215e-08, 1.4795e-09, 1.8220e-08, 1.1938e-08,\n",
       "             4.2389e-11, 6.7245e-08], device='cuda:0'),\n",
       "     'max_exp_avg_sq': tensor([1.6428e-07, 3.3825e-08, 1.6340e-07, 6.1633e-08, 2.2629e-08, 6.0262e-08,\n",
       "             1.5948e-08, 5.7235e-07, 3.0957e-08, 1.2213e-08, 2.5174e-07, 1.9852e-08,\n",
       "             2.4841e-07, 7.9853e-08, 2.2767e-08, 4.1239e-08, 1.5505e-08, 1.6175e-08,\n",
       "             8.8507e-09, 8.1725e-08, 1.4563e-08, 2.2532e-08, 2.8442e-07, 7.0200e-08,\n",
       "             5.5464e-08, 2.7182e-08, 2.4251e-08, 9.8884e-08, 1.2446e-07, 2.4094e-08,\n",
       "             1.3629e-07, 1.5990e-07, 4.2941e-08, 1.4361e-07, 2.1970e-08, 3.6904e-08,\n",
       "             8.3717e-08, 4.0570e-08, 9.3334e-08, 1.5305e-07, 1.6911e-08, 1.5259e-07,\n",
       "             3.0198e-08, 1.9940e-07, 2.4197e-08, 1.8456e-08, 4.4134e-08, 2.4613e-08,\n",
       "             3.5217e-08, 1.4768e-07, 2.1200e-08, 6.9151e-08, 1.0355e-08, 2.5980e-08,\n",
       "             3.6712e-08, 4.9004e-08, 1.8562e-07, 1.1267e-07, 1.8312e-07, 2.1121e-07,\n",
       "             3.2201e-07, 3.0546e-08, 2.1362e-07, 2.2803e-07, 4.1032e-08, 3.5642e-08,\n",
       "             2.1185e-08, 6.4364e-08, 1.9476e-07, 3.4507e-08, 1.3291e-08, 1.9414e-07,\n",
       "             1.9976e-08, 2.4095e-08, 2.0483e-07, 2.1394e-08, 2.4608e-08, 8.1253e-08,\n",
       "             2.1238e-08, 1.1066e-07, 2.5380e-08, 4.1566e-08, 1.0736e-08, 2.4352e-08,\n",
       "             1.3713e-07, 5.7151e-08, 4.6921e-08, 9.0549e-09, 6.2761e-08, 3.4089e-07,\n",
       "             1.9457e-08, 2.2334e-07, 4.2912e-08, 1.2004e-07, 2.1151e-07, 8.7251e-08,\n",
       "             3.5863e-08, 4.7391e-07, 8.9714e-08, 1.2150e-07, 8.3398e-09, 8.5683e-08,\n",
       "             1.8340e-08, 8.7867e-08, 4.7236e-08, 5.9226e-08, 1.9468e-08, 1.9146e-08,\n",
       "             2.9892e-08, 3.1979e-08, 2.3239e-07, 5.4021e-08, 6.8027e-08, 2.6597e-08,\n",
       "             5.0154e-08, 3.3767e-08, 3.6229e-08, 9.7969e-08, 5.0221e-08, 7.6538e-08,\n",
       "             9.3871e-09, 1.9101e-07, 1.7295e-08, 1.8720e-08, 6.8552e-08, 2.7265e-08,\n",
       "             4.1276e-08, 7.9518e-08, 1.8995e-07, 4.4034e-08, 1.0469e-07, 1.7062e-08,\n",
       "             8.2976e-08, 2.5191e-08, 9.0606e-09, 4.8934e-08, 1.2958e-07, 3.9579e-08,\n",
       "             7.4828e-09, 4.1602e-08, 4.0736e-08, 3.0673e-08, 8.0387e-08, 4.5994e-08,\n",
       "             2.5871e-08, 2.1144e-08, 3.2526e-08, 2.3307e-08, 2.0325e-07, 2.4160e-08,\n",
       "             4.7755e-08, 2.6942e-08, 4.3431e-09, 2.8626e-08, 2.0990e-08, 8.2979e-09,\n",
       "             2.8131e-08, 1.8504e-08, 6.0358e-08, 5.3047e-08, 7.6048e-08, 7.9864e-08,\n",
       "             3.2199e-08, 3.6765e-08, 1.4333e-08, 1.5219e-08, 4.9858e-08, 8.5996e-09,\n",
       "             8.9712e-08, 1.2872e-07, 2.6082e-08, 4.9607e-08, 8.8507e-08, 1.5947e-08,\n",
       "             2.7345e-07, 1.2912e-08, 4.3318e-08, 4.7857e-08, 5.5904e-07, 1.5941e-07,\n",
       "             7.2200e-09, 2.0855e-08, 1.9256e-08, 8.9834e-08, 2.1085e-08, 1.4833e-08,\n",
       "             6.5058e-09, 3.8267e-08, 1.6172e-07, 3.2667e-08, 2.1447e-07, 3.4787e-08,\n",
       "             1.1825e-08, 2.2118e-08, 3.5300e-08, 5.0960e-08, 4.1498e-08, 2.9219e-08,\n",
       "             1.6512e-08, 2.7570e-08, 1.8617e-08, 3.0324e-08, 2.8657e-07, 1.1104e-07,\n",
       "             2.0165e-08, 1.3407e-08, 4.2234e-08, 3.6783e-08, 1.0183e-07, 3.7808e-07,\n",
       "             2.4665e-08, 2.7132e-08, 1.8382e-07, 4.4729e-08, 3.8592e-08, 1.0305e-07,\n",
       "             3.8983e-08, 9.8298e-09, 2.6174e-08, 2.9662e-08, 7.3820e-08, 1.8877e-08,\n",
       "             1.4703e-08, 4.1854e-08, 3.0573e-08, 1.8354e-08, 1.6127e-08, 8.8798e-08,\n",
       "             6.0661e-08, 5.9796e-08, 3.7552e-08, 8.9220e-08, 6.5658e-08, 3.8002e-08,\n",
       "             1.5347e-08, 2.3140e-08, 5.7781e-08, 1.3723e-07, 1.4570e-07, 4.4542e-08,\n",
       "             1.5762e-07, 1.2264e-08, 9.6418e-08, 2.5469e-07, 6.8534e-08, 1.2712e-08,\n",
       "             2.3581e-08, 7.4804e-08, 4.3130e-08, 3.1185e-08, 1.5110e-07, 2.7759e-07,\n",
       "             3.6581e-08, 1.4259e-08, 4.8982e-08, 5.6729e-08, 1.7820e-08, 8.8192e-08,\n",
       "             1.6669e-08, 1.9954e-08, 2.3637e-07, 4.1653e-08, 1.8933e-07, 1.2001e-07,\n",
       "             1.3161e-08, 7.7236e-08, 3.2034e-07, 1.0166e-07, 6.1319e-08, 3.0853e-08,\n",
       "             6.6050e-08, 3.0976e-08, 3.5858e-08, 1.0371e-07, 3.1515e-08, 1.3715e-08,\n",
       "             1.5115e-07, 2.4569e-08, 6.6592e-08, 7.1240e-08, 2.7718e-08, 3.1159e-07,\n",
       "             3.1488e-08, 2.0531e-08, 1.4386e-08, 1.1157e-07, 4.8385e-08, 2.5309e-07,\n",
       "             2.1287e-08, 2.1407e-08, 2.9346e-08, 7.9293e-08, 7.2962e-08, 1.9469e-08,\n",
       "             3.9058e-08, 3.8532e-08, 4.8939e-08, 3.6082e-08, 1.7089e-08, 2.3276e-08,\n",
       "             9.7062e-08, 1.1352e-08, 7.9717e-08, 2.2277e-07, 1.8715e-07, 8.3240e-08,\n",
       "             1.0596e-07, 2.2029e-07, 1.3908e-07, 5.8394e-08, 9.1666e-08, 1.5421e-08,\n",
       "             2.5752e-08, 1.5865e-08, 3.5301e-08, 1.5117e-08, 9.1777e-09, 5.9667e-08,\n",
       "             5.9393e-08, 2.3769e-08, 9.5272e-08, 1.2520e-08, 4.1748e-08, 3.0940e-07,\n",
       "             2.4591e-08, 1.6340e-08, 1.2335e-07, 1.7734e-08, 1.1576e-07, 3.9211e-08,\n",
       "             7.3896e-08, 1.0735e-08, 4.4073e-08, 4.0010e-08, 2.0678e-07, 1.5623e-07,\n",
       "             1.5220e-07, 3.1344e-08, 5.8084e-08, 3.1827e-08, 7.8108e-08, 1.8074e-08,\n",
       "             2.0449e-08, 2.9142e-08, 1.0128e-07, 4.4110e-08, 7.9128e-08, 3.5241e-08,\n",
       "             3.4762e-08, 8.1436e-08, 7.3821e-08, 1.7773e-08, 4.9550e-09, 5.4095e-08,\n",
       "             1.1240e-08, 4.8891e-08, 5.2690e-08, 1.2182e-07, 4.2257e-08, 1.2821e-07,\n",
       "             5.5641e-08, 1.2723e-07, 1.5277e-08, 6.7783e-08, 2.9869e-08, 1.4381e-08,\n",
       "             6.9926e-08, 2.6486e-08, 2.4980e-08, 2.3531e-07, 1.8442e-08, 9.2266e-08,\n",
       "             2.1446e-08, 6.1144e-08, 3.6026e-07, 1.4402e-07, 1.2219e-07, 3.8128e-08,\n",
       "             7.4372e-08, 1.9869e-08, 3.7385e-08, 6.4155e-08, 1.6745e-08, 1.3263e-06,\n",
       "             1.6666e-07, 2.8043e-08, 2.0524e-08, 7.0365e-08, 2.8986e-08, 2.7931e-08,\n",
       "             2.5463e-08, 2.4303e-07, 4.9836e-07, 1.1119e-07, 3.7197e-08, 8.0660e-08,\n",
       "             1.2519e-07, 1.0146e-07, 1.1253e-07, 1.0280e-07, 5.1280e-08, 1.1105e-08,\n",
       "             3.7262e-08, 2.2523e-08, 9.3262e-08, 1.0868e-07, 3.8088e-08, 2.1388e-07,\n",
       "             1.5234e-07, 7.1925e-08, 8.1846e-08, 5.6763e-08, 2.0812e-08, 3.1102e-08,\n",
       "             3.1899e-08, 1.8910e-08, 4.5778e-08, 3.1079e-08, 4.5573e-08, 3.1660e-08,\n",
       "             4.0501e-07, 6.4459e-08, 3.5078e-08, 7.3614e-08, 7.7039e-08, 2.4155e-08,\n",
       "             4.4616e-08, 1.6051e-08, 3.7390e-08, 1.1447e-07, 1.3547e-07, 9.6704e-08,\n",
       "             1.2389e-08, 4.0630e-08, 2.2173e-08, 2.5250e-08, 1.2448e-07, 3.7394e-08,\n",
       "             4.5454e-08, 5.3502e-07, 3.0862e-08, 3.0117e-08, 5.6247e-08, 8.0413e-08,\n",
       "             2.1044e-07, 3.4696e-08, 2.1863e-08, 1.3158e-07, 2.3161e-08, 4.3416e-07,\n",
       "             2.4526e-07, 3.3194e-08, 1.4441e-07, 1.6811e-08, 2.3789e-08, 2.8880e-08,\n",
       "             2.7242e-08, 1.3320e-08, 1.6028e-08, 1.1151e-08, 4.2160e-08, 1.8372e-08,\n",
       "             5.8438e-08, 1.3741e-07, 3.8787e-07, 3.2580e-08, 1.9384e-07, 1.0949e-07,\n",
       "             8.5478e-08, 3.3620e-08, 4.7842e-08, 1.9645e-08, 1.6648e-08, 5.4832e-08,\n",
       "             2.9599e-07, 1.6100e-08, 4.4703e-08, 3.0457e-08, 9.9381e-08, 2.2734e-08,\n",
       "             5.2151e-08, 3.4805e-08, 1.9604e-08, 6.6366e-08, 1.7999e-08, 1.5335e-08,\n",
       "             1.4734e-07, 4.3746e-08, 7.2136e-09, 7.4411e-08, 2.0393e-08, 2.4854e-08,\n",
       "             4.1083e-07, 1.7687e-08, 3.3246e-07, 2.7863e-08, 1.0390e-07, 3.1597e-08,\n",
       "             2.1647e-09, 8.6924e-09, 1.0903e-07, 2.0192e-07, 2.8635e-08, 8.7611e-08,\n",
       "             1.7236e-08, 6.8140e-08, 3.8550e-08, 4.2198e-08, 4.3479e-08, 3.0167e-08,\n",
       "             8.0488e-08, 1.5519e-07], device='cuda:0')},\n",
       "    8: {'step': 10400,\n",
       "     'exp_avg': tensor([[ 6.0264e-08, -7.7734e-05,  2.6746e-04,  ..., -1.9453e-05,\n",
       "              -2.7940e-07,  2.9237e-04],\n",
       "             [-4.7741e-05,  5.6522e-05, -1.4450e-04,  ...,  4.5624e-05,\n",
       "               6.8683e-08,  2.2769e-04],\n",
       "             [ 7.6766e-05, -8.4420e-05, -1.3549e-05,  ..., -4.3304e-05,\n",
       "              -1.2033e-07, -1.0671e-04],\n",
       "             ...,\n",
       "             [-2.3162e-05,  2.1718e-05, -2.0253e-04,  ..., -1.0138e-04,\n",
       "               1.0800e-07, -1.4676e-04],\n",
       "             [ 3.8180e-05,  3.0475e-05,  3.7688e-05,  ..., -2.0195e-05,\n",
       "              -1.2256e-07, -1.9371e-04],\n",
       "             [ 7.7452e-07, -1.5238e-05,  2.9714e-04,  ...,  1.3001e-04,\n",
       "              -5.4951e-08,  1.6673e-04]], device='cuda:0'),\n",
       "     'exp_avg_sq': tensor([[6.4547e-08, 8.9729e-08, 1.0184e-06,  ..., 8.5979e-08, 1.0340e-09,\n",
       "              1.3908e-06],\n",
       "             [8.8849e-08, 1.1559e-07, 5.8655e-07,  ..., 3.3115e-07, 4.6405e-10,\n",
       "              1.4115e-06],\n",
       "             [1.3587e-07, 9.5041e-08, 4.0044e-07,  ..., 3.5220e-07, 5.4939e-10,\n",
       "              1.9836e-06],\n",
       "             ...,\n",
       "             [1.7131e-07, 9.9896e-08, 4.6300e-07,  ..., 2.0307e-07, 5.2889e-10,\n",
       "              1.3254e-06],\n",
       "             [9.7638e-08, 7.9577e-08, 3.5230e-07,  ..., 1.0756e-07, 6.0167e-10,\n",
       "              1.4902e-06],\n",
       "             [1.1122e-07, 8.8057e-08, 8.9599e-07,  ..., 1.8746e-07, 4.0990e-10,\n",
       "              1.1593e-06]], device='cuda:0'),\n",
       "     'max_exp_avg_sq': tensor([[2.4671e-06, 2.4684e-06, 1.3198e-06,  ..., 3.7333e-06, 6.6692e-07,\n",
       "              2.0273e-06],\n",
       "             [3.9262e-06, 4.0458e-06, 1.4857e-06,  ..., 8.4863e-06, 8.7413e-07,\n",
       "              2.6092e-06],\n",
       "             [4.1139e-06, 4.1158e-06, 7.8088e-07,  ..., 4.3027e-06, 1.0012e-06,\n",
       "              2.2651e-06],\n",
       "             ...,\n",
       "             [2.1459e-06, 2.3880e-06, 2.2014e-06,  ..., 3.3128e-06, 2.8610e-07,\n",
       "              1.9803e-06],\n",
       "             [2.6043e-06, 3.1817e-06, 2.7077e-06,  ..., 4.4166e-06, 7.1905e-07,\n",
       "              2.2015e-06],\n",
       "             [3.5195e-06, 2.1112e-06, 1.5410e-06,  ..., 2.9563e-06, 3.6805e-07,\n",
       "              2.0616e-06]], device='cuda:0')},\n",
       "    9: {'step': 10400,\n",
       "     'exp_avg': tensor([-4.5086e-11,  7.1688e-11,  2.1549e-10,  7.7712e-11, -1.3474e-11,\n",
       "             -1.0192e-10, -3.6203e-11,  2.2798e-10], device='cuda:0'),\n",
       "     'exp_avg_sq': tensor([1.5919e-19, 1.7282e-19, 1.6815e-19, 1.8312e-19, 1.5730e-19, 1.8452e-19,\n",
       "             1.4900e-19, 1.9164e-19], device='cuda:0'),\n",
       "     'max_exp_avg_sq': tensor([2.7990e-19, 2.0826e-19, 1.9401e-19, 2.3976e-19, 1.7528e-19, 2.2583e-19,\n",
       "             1.8521e-19, 2.0379e-19], device='cuda:0')}},\n",
       "   'param_groups': [{'lr': 0.002,\n",
       "     'betas': (0.9, 0.999),\n",
       "     'eps': 1e-08,\n",
       "     'weight_decay': 0.01,\n",
       "     'amsgrad': True,\n",
       "     'params': [0, 1, 2, 3, 4, 5, 6, 7, 8, 9, 10, 11]}]}],\n",
       " 'lr_schedulers': [{'factor': 0.3,\n",
       "   'min_lrs': [0],\n",
       "   'patience': 5,\n",
       "   'verbose': False,\n",
       "   'cooldown': 0,\n",
       "   'cooldown_counter': 0,\n",
       "   'mode': 'min',\n",
       "   'threshold': 0.0001,\n",
       "   'threshold_mode': 'rel',\n",
       "   'best': 0.808388888835907,\n",
       "   'num_bad_epochs': 0,\n",
       "   'mode_worse': inf,\n",
       "   'eps': 1e-08,\n",
       "   'last_epoch': 25,\n",
       "   '_last_lr': [0.002]}],\n",
       " 'state_dict': OrderedDict([('layers.0.weight',\n",
       "               tensor([[-0.0378, -0.1180, -0.0566,  ...,  0.6441, -0.0426, -0.0972],\n",
       "                       [-0.0029,  0.2142, -0.0760,  ..., -0.0480,  0.4028, -0.2556],\n",
       "                       [ 0.2153, -0.2341,  0.1147,  ..., -0.3643,  0.0723,  0.0996],\n",
       "                       ...,\n",
       "                       [ 0.0144, -0.0775,  0.1293,  ...,  0.8100,  0.1585,  0.3055],\n",
       "                       [ 0.0187,  0.0457, -0.0523,  ...,  0.0367, -0.4103,  0.1929],\n",
       "                       [-0.1382, -0.1340, -0.0784,  ...,  0.0635,  0.0307,  0.1856]],\n",
       "                      device='cuda:0')),\n",
       "              ('layers.0.bias',\n",
       "               tensor([ 0.1411, -0.1561,  0.2436, -0.2400,  0.1292,  0.0522,  0.2366,  0.1998,\n",
       "                       -0.0236,  0.1389,  0.2507,  0.2130, -0.0199,  0.0030,  0.0989, -0.2275,\n",
       "                        0.2725, -0.3146, -0.2943,  0.1070,  0.0864,  0.0640, -0.1829,  0.0499,\n",
       "                       -0.0317, -0.1052,  0.2532, -0.0672,  0.1745, -0.1925,  0.1894,  0.1824,\n",
       "                       -0.1291,  0.2420, -0.3050, -0.1426,  0.1514,  0.1066,  0.1846, -0.1644,\n",
       "                        0.1713,  0.1418,  0.1795, -0.0915, -0.0761,  0.3161,  0.1144, -0.3085,\n",
       "                        0.1597, -0.1484, -0.1508,  0.1480, -0.3020, -0.1824,  0.2085,  0.2110,\n",
       "                        0.1445,  0.1080, -0.0385, -0.2520,  0.3710,  0.2162, -0.2325,  0.1302,\n",
       "                        0.2243, -0.2205,  0.1184,  0.1259,  0.0319,  0.1780,  0.0535,  0.2176,\n",
       "                       -0.2090,  0.0873,  0.0736,  0.1161, -0.2446, -0.1449,  0.0682, -0.2890,\n",
       "                       -0.2166,  0.1601,  0.1535, -0.2616,  0.0360, -0.0096, -0.0743, -0.1544,\n",
       "                        0.0361, -0.2395,  0.2146,  0.0694,  0.0345, -0.1713, -0.0152,  0.4262,\n",
       "                        0.2415, -0.1449, -0.1286, -0.1775, -0.0787,  0.0314,  0.2605,  0.1054,\n",
       "                        0.1103,  0.1085,  0.2728, -0.1782, -0.0986, -0.3170, -0.0531, -0.2179,\n",
       "                       -0.0732,  0.0362,  0.2420, -0.1609,  0.1996, -0.3305,  0.1359,  0.0882,\n",
       "                       -0.0741,  0.0538, -0.1912,  0.2411, -0.1665, -0.0166, -0.0710,  0.0109,\n",
       "                        0.0675,  0.0907, -0.0599,  0.0835,  0.2479, -0.0134,  0.0821, -0.2369,\n",
       "                        0.0302, -0.0258,  0.1258, -0.1313, -0.1331,  0.2163,  0.1082,  0.1307,\n",
       "                       -0.1607,  0.0252,  0.3081, -0.0185,  0.1662, -0.1769, -0.2155, -0.3165,\n",
       "                       -0.1594,  0.1150,  0.3686,  0.2162, -0.3878,  0.0751,  0.1166, -0.1065,\n",
       "                        0.1947,  0.2011,  0.1019, -0.0179, -0.0732,  0.0968, -0.2335,  0.1531,\n",
       "                       -0.0700,  0.1640,  0.1584, -0.1347,  0.1127, -0.0859, -0.2753,  0.1077,\n",
       "                       -0.0315, -0.1319, -0.2401,  0.2764, -0.1035,  0.0867,  0.1372,  0.0574,\n",
       "                       -0.1418, -0.3056,  0.0589,  0.1692,  0.2258, -0.0583,  0.1619, -0.1040,\n",
       "                        0.2068,  0.1014,  0.2000,  0.0367, -0.2832,  0.1893,  0.2412, -0.1462,\n",
       "                        0.2553,  0.0686, -0.2102, -0.0900, -0.2801,  0.2648, -0.2561, -0.0287,\n",
       "                       -0.0651,  0.0358,  0.0685,  0.1370, -0.3476, -0.0642, -0.2584,  0.0597,\n",
       "                        0.2322,  0.2349, -0.3037,  0.0956,  0.0757, -0.1097,  0.0317,  0.0195,\n",
       "                        0.3532,  0.0918,  0.0445, -0.2931,  0.1106, -0.3252,  0.1556, -0.1435,\n",
       "                       -0.0211,  0.3843,  0.1435,  0.2131,  0.3067, -0.1092,  0.0753, -0.3093,\n",
       "                       -0.0845,  0.1138,  0.1649, -0.0104,  0.2196, -0.2334, -0.0253, -0.1277,\n",
       "                        0.0266,  0.0963, -0.1516,  0.3276,  0.2435,  0.1420,  0.0257,  0.1667,\n",
       "                       -0.0874,  0.1344,  0.2881, -0.1813, -0.1530,  0.1904, -0.3344, -0.0296,\n",
       "                        0.2162,  0.0078,  0.3245, -0.0390, -0.1525,  0.2614,  0.3276, -0.2177,\n",
       "                        0.0238,  0.0963,  0.0869,  0.2036,  0.0835, -0.1884, -0.2681,  0.2280,\n",
       "                        0.1813, -0.1989,  0.1941, -0.2183,  0.1482, -0.0774,  0.0567,  0.1463,\n",
       "                        0.1625, -0.0366,  0.2087, -0.1250,  0.1444, -0.2447,  0.0562, -0.3103,\n",
       "                       -0.0629, -0.1127,  0.2186, -0.0868, -0.3847,  0.1561,  0.3340, -0.0254,\n",
       "                        0.2671,  0.2856, -0.2209,  0.3915,  0.1466,  0.2046,  0.1564, -0.0798,\n",
       "                        0.0115, -0.1476,  0.0209, -0.2291,  0.2439, -0.1882,  0.0470,  0.0131,\n",
       "                       -0.2090, -0.0977,  0.1476,  0.2606, -0.0263,  0.1512, -0.0411,  0.0205,\n",
       "                        0.1662, -0.1331,  0.2148,  0.0070, -0.3713, -0.1150,  0.2186,  0.2561,\n",
       "                        0.0008,  0.2053, -0.2040,  0.1401, -0.0249,  0.1950, -0.0517, -0.1812,\n",
       "                        0.0409, -0.2580,  0.1000, -0.0204, -0.3064,  0.0475, -0.1991, -0.2372,\n",
       "                       -0.1506, -0.1802, -0.2890,  0.2170,  0.1931,  0.1870, -0.0425, -0.2506,\n",
       "                       -0.1358,  0.2084,  0.0294, -0.0423, -0.3228,  0.1419, -0.0889, -0.1053,\n",
       "                        0.2153,  0.2525,  0.0237,  0.1321, -0.1258,  0.0068, -0.0707,  0.2225,\n",
       "                        0.2605, -0.1214,  0.2507, -0.1670,  0.0047, -0.2138,  0.1112, -0.1576,\n",
       "                        0.2159, -0.0122, -0.3010, -0.1073, -0.2663, -0.1627,  0.0440, -0.2210,\n",
       "                       -0.2029,  0.0951, -0.0610,  0.0249,  0.1585, -0.2751, -0.0230,  0.1992,\n",
       "                       -0.3718, -0.1376,  0.2424, -0.0342, -0.2389,  0.2060, -0.2211,  0.2582,\n",
       "                       -0.1569, -0.0895,  0.2790, -0.1968,  0.2222,  0.0728, -0.0642,  0.1409,\n",
       "                        0.1221,  0.2783, -0.3204, -0.2823, -0.2667,  0.1622,  0.0592, -0.1069,\n",
       "                       -0.1445, -0.0526,  0.0516, -0.0188, -0.0989, -0.3297, -0.2185,  0.2369,\n",
       "                        0.0951, -0.0016, -0.1857,  0.1135, -0.2260, -0.0458,  0.1574, -0.1351,\n",
       "                       -0.1137, -0.0829,  0.2132, -0.0471, -0.1622, -0.1033, -0.3062, -0.1563,\n",
       "                       -0.0490, -0.1592,  0.4728, -0.1392, -0.2005, -0.0013, -0.4409,  0.2970,\n",
       "                        0.2757,  0.2395, -0.0294,  0.2650,  0.1925,  0.3019,  0.3936,  0.1489,\n",
       "                       -0.1991,  0.1493, -0.0866, -0.0716,  0.0164,  0.2362,  0.2923, -0.2015,\n",
       "                       -0.1381,  0.0865, -0.0941,  0.1112, -0.0624,  0.1628,  0.1891, -0.2493,\n",
       "                        0.3093,  0.2735, -0.2005, -0.0532,  0.3273,  0.0085, -0.1196, -0.1380,\n",
       "                       -0.2205, -0.1892, -0.3472, -0.2915,  0.2032,  0.0670,  0.1088,  0.1864,\n",
       "                       -0.1592,  0.1580, -0.2914,  0.1727, -0.1905, -0.1291,  0.2598, -0.1200,\n",
       "                        0.0752, -0.0735, -0.2533, -0.1407, -0.2296, -0.0857, -0.0186,  0.2538],\n",
       "                      device='cuda:0')),\n",
       "              ('layers.1.weight',\n",
       "               tensor([[ 0.0011,  0.0456,  0.0067,  ..., -0.0413, -0.0349, -0.0118],\n",
       "                       [-0.0429, -0.0240, -0.0109,  ...,  0.0020,  0.0154, -0.0287],\n",
       "                       [-0.0136, -0.0120, -0.0096,  ...,  0.0103,  0.0008, -0.0171],\n",
       "                       ...,\n",
       "                       [-0.0236,  0.0469, -0.0315,  ...,  0.0167, -0.0071, -0.0327],\n",
       "                       [-0.0125,  0.0345,  0.0310,  ..., -0.0280, -0.0076, -0.0043],\n",
       "                       [ 0.0039,  0.0411, -0.0533,  ...,  0.0102,  0.0127,  0.0140]],\n",
       "                      device='cuda:0')),\n",
       "              ('layers.1.bias',\n",
       "               tensor([ 0.0402, -0.1401,  0.0425, -0.0050, -0.0398, -0.0346, -0.0452,  0.0153,\n",
       "                        0.0727, -0.0159,  0.0998, -0.0401, -0.0323, -0.0829, -0.0640, -0.0769,\n",
       "                        0.0170, -0.0184, -0.0057, -0.0073, -0.1918, -0.0380, -0.0264,  0.0536,\n",
       "                       -0.1583, -0.1003,  0.0107, -0.0303,  0.0200,  0.0546, -0.0387,  0.0005,\n",
       "                        0.0266, -0.0228, -0.0417,  0.1192, -0.0093,  0.0465, -0.0663, -0.0429,\n",
       "                        0.0418,  0.0013, -0.0024, -0.1043,  0.0526, -0.0119,  0.0218, -0.0119,\n",
       "                       -0.0418,  0.0591,  0.0051,  0.0448,  0.1896, -0.0275, -0.0169, -0.0380,\n",
       "                        0.0300, -0.0063,  0.0179,  0.0884, -0.1662,  0.0288,  0.0117, -0.0547,\n",
       "                       -0.0126, -0.0054, -0.0375, -0.1150, -0.0203, -0.0232,  0.0602, -0.0468,\n",
       "                       -0.0134,  0.0213,  0.1354, -0.0279, -0.0029,  0.0435, -0.0699, -0.0073,\n",
       "                       -0.0380, -0.0317,  0.0327,  0.0485,  0.0896, -0.0237,  0.0676,  0.0149,\n",
       "                        0.0456,  0.0595,  0.0927, -0.0335,  0.0577,  0.0322,  0.0444, -0.0248,\n",
       "                        0.0034, -0.0534, -0.0249, -0.0215,  0.0280, -0.1184,  0.1370, -0.0284,\n",
       "                        0.0219, -0.0549, -0.0746,  0.1289,  0.0854,  0.0328,  0.0373, -0.0597,\n",
       "                        0.0783, -0.0379, -0.0327,  0.0533, -0.0468,  0.0668,  0.0818, -0.0263,\n",
       "                       -0.0563, -0.0300, -0.0228,  0.0911,  0.1517, -0.1596,  0.0010, -0.0595,\n",
       "                       -0.0283,  0.0738, -0.0527,  0.0020, -0.0082,  0.0879, -0.0474, -0.1010,\n",
       "                       -0.0058, -0.0341, -0.0085,  0.0439,  0.0692,  0.0581,  0.0336,  0.0374,\n",
       "                        0.0795, -0.0136, -0.0248, -0.0096,  0.0326,  0.0169,  0.0549, -0.0198,\n",
       "                       -0.0090, -0.0142,  0.0130, -0.0058, -0.0076,  0.0503, -0.0284, -0.0154,\n",
       "                        0.0852,  0.0868,  0.0575,  0.0151, -0.0590,  0.0900,  0.0068, -0.1538,\n",
       "                       -0.0241, -0.0060,  0.0124, -0.0080, -0.0167, -0.0260,  0.0850,  0.0991,\n",
       "                       -0.0836, -0.0371,  0.0287, -0.1187, -0.0142, -0.0234,  0.0813, -0.0668,\n",
       "                        0.0413, -0.0935, -0.0078,  0.0420, -0.1178,  0.0392,  0.0416, -0.0518,\n",
       "                       -0.1277,  0.1721,  0.0379, -0.0133,  0.0110,  0.0059, -0.0158, -0.0391,\n",
       "                       -0.0125, -0.0740,  0.0900,  0.0503,  0.0127,  0.0697, -0.0013, -0.0047,\n",
       "                       -0.0278,  0.0190,  0.0709, -0.0903,  0.0140, -0.0279,  0.0467,  0.0422,\n",
       "                       -0.0251,  0.0655, -0.0471, -0.1381, -0.1027, -0.0515, -0.0432,  0.0424,\n",
       "                        0.0720, -0.0027, -0.0529,  0.1746, -0.0156,  0.0265, -0.0434, -0.0841,\n",
       "                       -0.0351, -0.1570,  0.1690, -0.1099,  0.0199,  0.0299,  0.0247, -0.0564,\n",
       "                       -0.0224, -0.0563,  0.1020,  0.0145, -0.0032, -0.0889,  0.0370, -0.0283,\n",
       "                       -0.0210, -0.0741,  0.0707,  0.0198,  0.1566,  0.0475, -0.0153,  0.0271,\n",
       "                        0.0992, -0.0707, -0.0242,  0.0173,  0.0041,  0.0236,  0.0183, -0.0079,\n",
       "                        0.0034,  0.0007, -0.0909,  0.0341,  0.0203, -0.0326,  0.0064, -0.0228,\n",
       "                       -0.0376, -0.0372, -0.0410, -0.0017,  0.0055, -0.0510, -0.0625,  0.0696,\n",
       "                        0.0011,  0.0279,  0.0439,  0.0151, -0.0231, -0.0313,  0.0006,  0.0070,\n",
       "                        0.0220, -0.0699, -0.0191, -0.0464,  0.0094,  0.0564, -0.0330,  0.0486,\n",
       "                        0.0136,  0.0038, -0.0511,  0.0217,  0.0284,  0.1772,  0.0169,  0.0091,\n",
       "                       -0.0180,  0.0138,  0.0378,  0.0062,  0.0040, -0.0389, -0.0194,  0.0917,\n",
       "                       -0.0888, -0.0301,  0.0357, -0.0737,  0.1146, -0.0638,  0.0008,  0.0007,\n",
       "                       -0.0075, -0.1399,  0.0136,  0.0157, -0.0127,  0.0157, -0.0459,  0.0216,\n",
       "                       -0.0398, -0.0885, -0.0120,  0.1658,  0.0439,  0.0029,  0.0653, -0.0616,\n",
       "                       -0.0354,  0.0450,  0.0824, -0.0335,  0.0207, -0.0572, -0.0242,  0.0007,\n",
       "                       -0.0630, -0.0366,  0.0057, -0.1432,  0.0044, -0.0230,  0.0078, -0.0394,\n",
       "                        0.0720,  0.0171, -0.0178,  0.0182,  0.0146,  0.0213,  0.0574, -0.0506,\n",
       "                       -0.0400, -0.0123,  0.0160, -0.0252, -0.0626, -0.0573, -0.0350, -0.1173,\n",
       "                        0.0698,  0.0295, -0.0070,  0.0434,  0.0334,  0.1082,  0.0034,  0.0702,\n",
       "                       -0.0128, -0.0165,  0.0777, -0.0667,  0.0532, -0.0441, -0.0073,  0.0547,\n",
       "                        0.0811, -0.0482,  0.0452, -0.0300,  0.0455, -0.0077, -0.0309,  0.0031,\n",
       "                        0.0183,  0.0569,  0.0588,  0.1065,  0.0007,  0.1027, -0.0760,  0.1240,\n",
       "                        0.0066,  0.0763, -0.0320, -0.0165,  0.0284, -0.0291,  0.0139,  0.0950,\n",
       "                        0.0786,  0.0525,  0.0111, -0.1387, -0.1390, -0.1268, -0.0024,  0.0311,\n",
       "                       -0.0145, -0.0223,  0.0165,  0.0556,  0.0360,  0.0202,  0.0090, -0.1454,\n",
       "                        0.1370, -0.0225, -0.0134,  0.0468,  0.0787, -0.0289,  0.0133, -0.0500,\n",
       "                        0.0021,  0.0308,  0.0250,  0.0293,  0.0266, -0.0335, -0.1607,  0.0419,\n",
       "                        0.0505, -0.0761, -0.0308, -0.0130,  0.0216, -0.0436, -0.0602,  0.0496,\n",
       "                       -0.0492, -0.1213, -0.0233, -0.0400,  0.0689,  0.0670, -0.0337,  0.0675,\n",
       "                       -0.0729, -0.0145,  0.0564, -0.0852,  0.0414, -0.1155,  0.0853, -0.0438,\n",
       "                        0.0120,  0.0334, -0.1209, -0.0314, -0.0007,  0.1065, -0.0200, -0.0024,\n",
       "                        0.0652, -0.0349,  0.0633,  0.0851, -0.0908,  0.0577, -0.0292, -0.0115,\n",
       "                        0.0535,  0.1395,  0.0054,  0.0279, -0.0294,  0.0734,  0.0572, -0.0156,\n",
       "                        0.0241, -0.0050,  0.0010, -0.0980,  0.0610, -0.0037, -0.0598, -0.0016,\n",
       "                        0.0223, -0.0606,  0.0325, -0.0511, -0.0128, -0.0370, -0.0653,  0.1580,\n",
       "                        0.0062,  0.0043, -0.0303, -0.0279, -0.0005, -0.0274, -0.0587, -0.0422],\n",
       "                      device='cuda:0')),\n",
       "              ('layers.2.weight',\n",
       "               tensor([[ 0.0298,  0.0158,  0.0519,  ...,  0.0407,  0.0113,  0.0499],\n",
       "                       [ 0.0134, -0.0243, -0.0374,  ..., -0.0388, -0.0094, -0.1048],\n",
       "                       [-0.0465, -0.0435, -0.0293,  ...,  0.0043, -0.0076,  0.0444],\n",
       "                       ...,\n",
       "                       [ 0.1514, -0.0347,  0.0793,  ...,  0.0424,  0.0138,  0.2003],\n",
       "                       [-0.0023,  0.0262, -0.0523,  ..., -0.0149,  0.0140,  0.0043],\n",
       "                       [-0.0420,  0.0030, -0.0109,  ...,  0.0187, -0.0020,  0.0292]],\n",
       "                      device='cuda:0')),\n",
       "              ('layers.2.bias',\n",
       "               tensor([-6.0942e-02, -1.2335e-02,  1.2448e-02,  5.6447e-02, -5.2364e-02,\n",
       "                        6.0866e-02,  1.0700e-03, -5.6337e-03, -3.1851e-02, -1.0094e-02,\n",
       "                       -4.3191e-02, -3.3686e-02, -2.3651e-02,  8.9699e-02,  1.7861e-02,\n",
       "                       -6.5636e-02, -2.4713e-02,  8.8514e-02,  2.4034e-02,  2.7762e-02,\n",
       "                        5.3417e-02,  7.9507e-02,  4.6324e-02, -3.2586e-02, -3.7454e-02,\n",
       "                        8.8882e-02,  1.7927e-02,  3.0953e-02,  5.4762e-03, -7.6351e-02,\n",
       "                       -1.0857e-01,  4.3619e-02,  4.4259e-02,  1.1373e-02, -4.8180e-02,\n",
       "                       -2.0995e-02,  1.8872e-02,  3.5154e-02, -6.4076e-03,  4.0712e-02,\n",
       "                       -8.3712e-02,  1.9365e-02, -5.2149e-02, -1.3810e-01, -5.9439e-02,\n",
       "                       -5.9374e-02,  3.1431e-02,  1.0345e-01,  3.9504e-02,  9.5251e-02,\n",
       "                       -4.8299e-02, -3.2022e-02, -3.4035e-02, -1.7858e-02,  8.5442e-02,\n",
       "                       -2.0739e-02,  1.1406e-01,  7.1512e-02,  1.0946e-01,  7.6616e-02,\n",
       "                        1.0167e-02, -3.2264e-02, -3.1764e-03,  1.7761e-02, -5.9646e-02,\n",
       "                        7.0167e-02, -6.1139e-02, -1.6825e-03,  4.3282e-02,  5.2558e-03,\n",
       "                        5.4043e-02, -2.7819e-02,  1.1718e-01,  8.9088e-02,  3.4797e-02,\n",
       "                        6.3771e-02, -2.6677e-02,  3.0117e-02, -9.6091e-03,  2.4680e-02,\n",
       "                       -2.6651e-02,  2.0390e-02, -4.5204e-02, -9.2726e-03, -4.7735e-02,\n",
       "                        3.3439e-02, -3.9802e-03,  2.8449e-02, -1.2475e-01,  9.9362e-03,\n",
       "                       -5.8368e-03,  2.3129e-02,  4.8618e-03, -2.9418e-02, -2.0024e-04,\n",
       "                       -6.5910e-02,  7.4106e-02, -7.5736e-02, -2.6519e-02, -8.2624e-03,\n",
       "                       -6.7019e-02, -8.2636e-03,  1.3965e-01,  4.0760e-02,  1.0001e-02,\n",
       "                       -7.6826e-02, -1.4294e-02, -6.1221e-02, -1.3031e-02, -1.1879e-01,\n",
       "                        1.0970e-02, -1.8577e-02,  2.4359e-02,  3.7661e-02,  1.1422e-02,\n",
       "                       -3.9566e-02, -1.6602e-02, -1.7517e-02,  8.0354e-03,  6.7809e-02,\n",
       "                        4.2877e-02,  4.2996e-02, -3.6726e-02, -5.3264e-02,  5.7086e-02,\n",
       "                        4.9689e-02,  7.7553e-02,  4.8806e-02,  1.9975e-02, -7.0411e-02,\n",
       "                        1.1291e-01,  6.8394e-03,  9.8171e-02, -9.1274e-03, -9.8164e-02,\n",
       "                        4.9047e-02, -3.8014e-02, -3.6077e-02,  1.1878e-01, -4.8886e-02,\n",
       "                       -5.3678e-03,  2.3517e-02,  1.1077e-02, -1.1824e-01, -6.7527e-02,\n",
       "                       -2.3525e-02, -8.3816e-03, -2.3482e-02,  6.2635e-02,  1.3451e-02,\n",
       "                       -8.4422e-02, -8.4793e-02, -4.7148e-02,  7.0266e-02, -7.3258e-02,\n",
       "                       -2.5715e-02,  4.5806e-02,  7.2041e-02,  2.9286e-02, -3.9229e-02,\n",
       "                       -5.8583e-02,  2.9461e-02, -1.2746e-02,  1.4134e-02,  1.2132e-03,\n",
       "                       -2.4443e-02, -9.7425e-02, -3.4036e-02, -4.4005e-02,  5.6843e-02,\n",
       "                        3.6816e-02, -5.7647e-02,  3.0182e-02,  1.0733e-01,  4.1737e-02,\n",
       "                        2.4533e-02,  8.9613e-02, -3.2063e-02, -1.3115e-02, -5.6507e-02,\n",
       "                       -2.6959e-02, -1.6679e-02,  3.3777e-02, -3.2597e-02,  8.7138e-02,\n",
       "                       -1.9788e-02,  4.8268e-02, -1.2280e-02, -1.4042e-02, -5.9196e-04,\n",
       "                       -4.6852e-03,  1.0914e-01, -1.3509e-01,  4.5616e-02, -4.9122e-02,\n",
       "                        5.8899e-02,  4.4104e-02, -2.8117e-02, -3.3367e-02, -1.1673e-02,\n",
       "                        3.5162e-02, -1.3038e-02,  4.1100e-02, -9.4111e-03,  9.7160e-03,\n",
       "                        3.5220e-02, -9.2799e-02, -6.0885e-02, -7.4206e-02,  2.3370e-02,\n",
       "                       -1.0183e-03,  3.4943e-02, -6.0834e-02, -1.6592e-02, -8.2711e-02,\n",
       "                        4.0006e-02,  4.3686e-03, -6.3586e-02,  8.6240e-02,  1.0882e-01,\n",
       "                        5.0514e-02, -1.1579e-01,  5.3686e-02, -3.3493e-02,  4.8592e-02,\n",
       "                       -9.7649e-02, -1.3218e-01, -3.9330e-02,  1.0962e-01, -1.1071e-02,\n",
       "                        2.3881e-02, -1.9055e-02,  1.4813e-02,  1.0967e-02, -3.4991e-02,\n",
       "                       -3.3536e-02,  1.3492e-01, -1.4795e-02,  1.0558e-01,  9.8548e-02,\n",
       "                        2.0247e-02,  2.9701e-02,  4.8748e-02, -1.2281e-01,  7.1714e-02,\n",
       "                        6.8564e-02, -1.1355e-01,  3.7081e-02, -3.2699e-02,  8.4023e-02,\n",
       "                       -8.2128e-03,  9.2608e-03,  2.6726e-02,  6.5621e-03, -6.8095e-04,\n",
       "                       -5.2124e-03, -7.5580e-02, -5.8169e-02, -6.9369e-02, -8.5331e-03,\n",
       "                       -1.1910e-01, -2.2590e-02,  9.3850e-02,  4.8061e-02, -2.1083e-03,\n",
       "                        1.6871e-02, -2.7522e-02, -8.5892e-02,  1.0252e-02, -7.8732e-02,\n",
       "                       -7.6540e-02, -6.4708e-03, -2.7968e-02,  2.2852e-02, -6.0442e-02,\n",
       "                        8.5689e-03, -3.2001e-02,  7.0762e-02,  6.4326e-02, -7.9558e-03,\n",
       "                       -5.9521e-02,  2.2454e-02, -3.7087e-05, -2.4056e-02,  1.1057e-01,\n",
       "                        2.1152e-02,  9.7770e-02,  2.8774e-03, -3.2546e-02,  1.4083e-02,\n",
       "                        3.6438e-02,  6.3640e-02, -4.1153e-02, -4.6124e-02, -2.2506e-03,\n",
       "                        1.0425e-02, -5.6716e-02,  6.3971e-02,  5.9732e-02,  2.6076e-02,\n",
       "                       -1.6605e-02,  6.7877e-02, -2.4495e-02, -2.7246e-03, -3.6882e-02,\n",
       "                        1.1404e-01, -4.8043e-02,  3.3433e-03, -4.3053e-03,  9.4055e-04,\n",
       "                       -9.8176e-02, -4.7791e-02, -8.2587e-02,  3.1692e-02,  2.8188e-03,\n",
       "                        2.7675e-02, -1.0283e-01, -4.6591e-02,  1.2545e-02, -5.0383e-02,\n",
       "                        3.7551e-02, -3.4557e-02,  4.2895e-03, -5.0476e-02, -4.6284e-03,\n",
       "                       -1.1089e-01, -8.9746e-02,  1.6728e-02, -1.3182e-01,  6.8914e-02,\n",
       "                        4.4303e-03, -8.3840e-02,  7.9233e-02,  7.6125e-02,  5.3750e-02,\n",
       "                       -2.0944e-02, -3.3193e-02,  1.2696e-02, -5.6560e-02,  4.6281e-02,\n",
       "                        3.9245e-03, -1.5565e-02, -1.1961e-02, -2.1141e-02,  2.7478e-02,\n",
       "                        3.4485e-02, -1.9659e-02,  1.1453e-01, -3.2877e-03,  2.1601e-02,\n",
       "                        4.1144e-02, -1.2994e-02,  4.9816e-02,  2.3486e-02,  7.0898e-02,\n",
       "                       -2.8537e-02,  7.0316e-02, -1.7001e-01, -5.1817e-02, -4.8441e-02,\n",
       "                        1.8034e-02,  2.4057e-02, -2.5652e-02,  3.6926e-02, -1.1304e-01,\n",
       "                        1.2514e-01, -1.1729e-01,  6.7292e-02,  2.9281e-02,  2.1002e-02,\n",
       "                       -3.6931e-02,  3.5896e-03, -9.0331e-03, -5.1916e-02,  1.0208e-02,\n",
       "                        9.6615e-04, -1.3802e-01,  4.7290e-03,  4.8776e-03,  1.4722e-02,\n",
       "                       -6.7320e-02,  1.3767e-01, -4.5437e-02, -1.2109e-01, -4.5523e-03,\n",
       "                       -7.8980e-02,  1.6540e-02, -2.9774e-03,  8.3225e-02,  2.0874e-02,\n",
       "                       -4.1873e-02,  2.3194e-02,  1.1539e-02, -5.6357e-03, -3.8090e-02,\n",
       "                        7.7023e-02,  7.7084e-02,  2.0563e-02,  7.1516e-02, -2.8897e-03,\n",
       "                        2.2129e-02,  1.2018e-01,  2.1375e-03, -1.0327e-02,  2.1728e-02,\n",
       "                       -5.0135e-03,  9.7905e-02, -1.0147e-02, -1.8725e-02,  7.3272e-02,\n",
       "                        4.3839e-02, -4.6762e-02,  6.8156e-03,  2.1735e-03,  6.9986e-02,\n",
       "                        3.7715e-02,  2.8621e-02, -1.4390e-01,  9.0515e-02,  3.1052e-02,\n",
       "                       -7.1644e-02, -1.0758e-02, -9.1731e-02,  2.4013e-02,  1.6575e-02,\n",
       "                       -1.2189e-02, -3.1571e-02,  1.0977e-01, -6.4382e-03, -1.7499e-02,\n",
       "                       -5.5305e-02, -4.0112e-02, -2.2053e-02,  1.2355e-02,  1.3053e-02,\n",
       "                        1.7954e-02, -1.3768e-02, -2.6856e-02, -8.7295e-02, -9.3420e-02,\n",
       "                       -1.3333e-02, -5.9087e-02, -5.3457e-02,  1.3770e-01, -7.6066e-02,\n",
       "                       -6.2373e-02,  2.8544e-02, -6.0690e-02, -8.2229e-03, -1.0558e-01,\n",
       "                       -1.1940e-02,  1.0111e-03,  3.8651e-02,  1.6670e-02,  1.3210e-01,\n",
       "                       -9.7724e-03, -6.7116e-02, -1.4082e-01,  1.2027e-02, -1.0138e-03,\n",
       "                       -2.1155e-02,  2.0713e-02, -6.2263e-02, -5.7722e-02, -2.9516e-03,\n",
       "                        6.4257e-02, -7.1857e-02, -1.0444e-01,  6.5949e-03, -4.0217e-02,\n",
       "                        7.0713e-02, -3.0530e-02, -9.3498e-03, -2.5139e-02, -7.1323e-03,\n",
       "                       -7.3409e-02, -1.2261e-01, -3.8727e-02,  8.4047e-02, -2.5148e-02,\n",
       "                        1.1675e-01, -6.9390e-02, -1.1050e-01, -9.1984e-02,  9.7300e-02,\n",
       "                        2.5993e-02,  5.3872e-02, -5.6476e-02,  1.0219e-02,  3.0905e-04,\n",
       "                       -2.7478e-02,  7.1497e-03,  3.6824e-03, -1.8284e-02, -8.2501e-02,\n",
       "                        1.0384e-02, -8.2754e-02, -2.1063e-02,  4.6484e-02,  2.6258e-02,\n",
       "                        2.1689e-02,  1.2484e-02, -2.7473e-02, -4.2632e-02,  2.9482e-02,\n",
       "                        5.9813e-02, -6.0396e-02,  6.9959e-03,  1.0496e-02, -3.4714e-02,\n",
       "                        5.2691e-03, -1.9613e-02], device='cuda:0')),\n",
       "              ('layers.3.weight',\n",
       "               tensor([[ 0.0250,  0.0478, -0.0359,  ..., -0.0274,  0.1663,  0.0192],\n",
       "                       [-0.0395, -0.0445,  0.0421,  ..., -0.0341, -0.0956,  0.0254],\n",
       "                       [-0.0382,  0.0082, -0.0082,  ...,  0.0108, -0.0874, -0.0348],\n",
       "                       ...,\n",
       "                       [-0.1033,  0.0272, -0.0333,  ..., -0.0419, -0.1861,  0.0535],\n",
       "                       [-0.0238, -0.0222,  0.0178,  ..., -0.0233, -0.1262,  0.0527],\n",
       "                       [-0.0029,  0.0223, -0.0183,  ...,  0.0031,  0.0217, -0.0021]],\n",
       "                      device='cuda:0')),\n",
       "              ('layers.3.bias',\n",
       "               tensor([ 8.6552e-03, -1.7843e-02,  1.6261e-02, -5.3019e-02, -7.9538e-02,\n",
       "                       -5.8488e-06,  3.1754e-02, -1.2358e-01, -1.0662e-01,  1.5707e-02,\n",
       "                        3.5858e-02, -9.2006e-02,  4.5216e-02, -2.0205e-02, -4.0294e-02,\n",
       "                       -4.3931e-02,  1.2558e-01,  8.3549e-02, -1.1821e-01, -2.6568e-02,\n",
       "                        4.0958e-02,  1.3210e-02,  3.4221e-02,  4.2644e-02, -4.9641e-02,\n",
       "                        2.1094e-02, -6.4717e-02,  4.2834e-02, -6.6836e-03,  6.7320e-02,\n",
       "                       -4.3194e-02, -3.1720e-02,  2.8033e-02,  5.8993e-02,  4.4079e-02,\n",
       "                       -2.2425e-02, -5.1667e-02, -4.1000e-02,  6.6138e-02, -4.2171e-02,\n",
       "                       -3.1008e-02, -1.0786e-01,  4.6743e-02,  4.8370e-02, -7.9249e-02,\n",
       "                       -4.5000e-02, -4.1074e-02,  3.3927e-03,  6.2321e-02,  6.4016e-03,\n",
       "                        8.8416e-02,  7.4584e-02, -6.5366e-02, -6.6618e-02, -4.7139e-03,\n",
       "                       -3.7470e-02, -1.4816e-01, -1.2289e-01,  7.0189e-02,  5.1854e-02,\n",
       "                       -6.4557e-02, -9.8547e-02, -4.9663e-02,  4.2183e-02,  2.4535e-02,\n",
       "                       -4.6313e-02, -4.6985e-03,  1.5835e-02,  1.0147e-01,  2.9369e-02,\n",
       "                        2.1597e-01, -1.3926e-01,  4.9308e-03,  1.0243e-01,  9.8803e-02,\n",
       "                        3.3333e-02,  7.2346e-03, -4.6671e-02,  1.2236e-01, -4.8300e-02,\n",
       "                       -9.9565e-02, -1.9112e-02,  1.0491e-01,  4.9387e-03, -4.0595e-02,\n",
       "                       -1.2998e-01,  3.6004e-02, -8.0603e-02,  3.3464e-03, -1.1282e-01,\n",
       "                        2.9329e-02, -1.3053e-02,  8.7824e-03, -6.0045e-02,  1.5624e-01,\n",
       "                        1.4500e-02,  1.0785e-01, -1.0069e-01,  3.3462e-02, -1.6219e-02,\n",
       "                        6.4877e-02, -6.6350e-02,  3.1512e-02,  2.8154e-02, -1.9224e-02,\n",
       "                        1.6161e-02, -3.1230e-02,  2.2184e-02, -4.6035e-02,  5.1211e-02,\n",
       "                       -9.7571e-02,  5.2176e-02,  5.4711e-02,  5.9243e-02, -4.4759e-02,\n",
       "                        3.0141e-02,  1.0974e-01,  5.1398e-02, -4.3497e-02, -1.2435e-02,\n",
       "                       -1.6376e-01,  5.3290e-02,  1.2462e-01, -4.2326e-02, -6.9274e-02,\n",
       "                        8.4051e-02,  9.0948e-02,  2.7408e-02, -2.1360e-02,  8.7656e-02,\n",
       "                       -5.7784e-03,  7.4487e-02, -4.7285e-02,  9.1473e-02,  9.1299e-02,\n",
       "                        7.4395e-04,  4.5780e-02, -6.1439e-02, -2.8952e-02,  4.4048e-02,\n",
       "                       -8.9702e-03, -2.3208e-02, -6.6423e-02,  4.1769e-02, -7.4741e-02,\n",
       "                        4.2784e-02,  6.0838e-02,  2.9448e-02, -1.4114e-02, -9.9665e-03,\n",
       "                       -7.6793e-03, -6.5436e-02, -6.1149e-02,  2.1102e-01, -6.7619e-02,\n",
       "                        4.2027e-02, -1.0591e-01, -2.8652e-02,  9.3776e-02, -3.5934e-02,\n",
       "                        3.7538e-02,  2.9052e-02, -4.4313e-02, -8.3493e-02, -3.0244e-02,\n",
       "                        9.0273e-02,  1.1504e-02, -9.5121e-02,  8.3791e-02,  7.0654e-03,\n",
       "                       -1.7353e-02, -7.4485e-03, -1.3868e-01, -1.6527e-02, -4.5162e-02,\n",
       "                        8.6046e-02, -1.5225e-01, -6.1786e-02, -1.1113e-02, -3.2637e-02,\n",
       "                        4.6449e-02,  3.2315e-02,  8.2153e-02,  9.0529e-02,  2.0073e-02,\n",
       "                        4.0206e-02,  1.0162e-01, -2.0576e-02, -3.2854e-02,  2.2663e-02,\n",
       "                        9.5193e-02, -3.0983e-02,  3.7549e-02, -6.3563e-02, -1.5465e-01,\n",
       "                        2.0090e-04,  1.1619e-01, -2.5203e-02, -4.7956e-02, -3.7854e-02,\n",
       "                        1.1773e-01, -3.8610e-03, -4.7492e-02, -5.0770e-02,  1.2358e-01,\n",
       "                        3.2472e-02, -6.4773e-02, -5.9174e-03, -4.3310e-02,  2.9032e-02,\n",
       "                        6.5018e-03, -1.3024e-02,  3.5265e-02,  2.8363e-03,  3.0593e-02,\n",
       "                        4.5806e-02, -3.5624e-02,  4.8183e-02, -1.1325e-01,  7.3053e-03,\n",
       "                       -2.1963e-02,  8.3096e-02,  8.1119e-02,  3.4580e-02, -5.9790e-03,\n",
       "                        9.5504e-02, -1.9156e-02, -1.5422e-02, -3.4422e-02,  1.5183e-01,\n",
       "                        5.2384e-02, -3.2585e-02, -5.5333e-02,  9.9610e-02, -4.6243e-02,\n",
       "                        1.3406e-01,  2.2657e-02, -6.3212e-02,  1.8330e-02, -6.5233e-02,\n",
       "                       -1.1055e-01,  5.6780e-02,  9.7074e-02, -7.2317e-02,  2.7585e-02,\n",
       "                        1.1687e-01,  3.6102e-03,  9.4720e-03,  1.2222e-01, -3.2182e-02,\n",
       "                       -1.4341e-02,  4.5562e-02,  7.9400e-02,  1.7002e-01,  5.0968e-02,\n",
       "                       -4.0747e-02,  7.3941e-02,  7.6346e-02, -8.2727e-02,  7.5280e-02,\n",
       "                       -5.9577e-02, -2.0329e-02, -1.5704e-01, -7.1638e-02, -1.5571e-01,\n",
       "                        2.0786e-02,  7.7033e-02,  5.2703e-02, -4.5236e-02, -1.2721e-01,\n",
       "                       -3.2914e-02, -4.8897e-02, -1.0808e-01, -8.6955e-02,  7.9756e-02,\n",
       "                        8.6427e-02,  5.0093e-02,  3.4993e-02, -5.6223e-02,  3.0939e-02,\n",
       "                        6.2037e-02,  5.0703e-02,  4.0650e-02, -2.0733e-02,  4.7200e-02,\n",
       "                        2.1896e-02, -1.0527e-01, -2.9225e-02, -3.9280e-02,  6.4158e-02,\n",
       "                        3.7598e-02, -7.5524e-02, -3.3475e-02, -4.0622e-02,  5.1603e-02,\n",
       "                        5.9790e-02, -5.8173e-02, -1.3666e-02, -3.0201e-02, -5.3804e-02,\n",
       "                        2.9877e-02,  1.3134e-02, -4.0079e-02, -7.8142e-03,  1.9811e-03,\n",
       "                       -8.5097e-02,  7.8630e-02,  1.1886e-02,  5.7014e-02, -6.5778e-02,\n",
       "                        2.0871e-02,  5.8947e-02, -3.7690e-02, -7.4059e-02, -5.1441e-02,\n",
       "                       -1.5503e-02, -6.5832e-02, -4.9030e-02,  2.1405e-02,  4.7613e-02,\n",
       "                       -4.4989e-02,  1.4654e-02, -4.6815e-02, -1.5960e-02,  8.0921e-02,\n",
       "                        8.7929e-02, -2.6518e-03,  4.6131e-02, -6.5472e-02, -7.5966e-03,\n",
       "                        4.9504e-02, -8.6876e-02,  2.4009e-02, -1.9816e-02,  6.5886e-02,\n",
       "                       -4.5448e-02,  7.1534e-02, -6.1323e-02,  8.4540e-02,  4.2828e-02,\n",
       "                        7.7058e-02,  8.5254e-02, -4.3962e-02,  1.0765e-01,  7.9510e-03,\n",
       "                       -9.7378e-02,  4.1620e-02, -9.5305e-03, -3.4934e-02,  3.2360e-02,\n",
       "                        9.1073e-02, -4.6200e-02, -1.2788e-01,  3.5810e-03, -1.3181e-02,\n",
       "                        5.0811e-04, -1.6144e-03, -7.0590e-02, -9.0738e-02, -1.8697e-03,\n",
       "                        1.4988e-03, -5.4052e-02,  1.3470e-02,  6.5309e-02,  1.1029e-02,\n",
       "                        1.0791e-02, -4.3478e-02,  5.3601e-02, -5.4219e-02,  1.4650e-02,\n",
       "                        2.5775e-02, -4.8628e-02, -6.1517e-02, -8.1189e-02, -4.5311e-02,\n",
       "                       -9.6565e-02, -7.9729e-02, -2.2347e-02, -7.1206e-02, -1.3465e-02,\n",
       "                        1.0625e-01, -7.8836e-04, -2.9631e-02,  8.1630e-02,  1.1446e-01,\n",
       "                       -4.6535e-02, -5.6340e-02,  1.0366e-01, -6.2142e-02,  5.6166e-03,\n",
       "                        6.2537e-02,  6.0215e-03, -9.9895e-02, -9.0382e-02,  1.0117e-02,\n",
       "                        1.8663e-02, -4.9569e-03, -4.4318e-02, -1.1950e-02,  8.9887e-02,\n",
       "                        4.0309e-02,  3.7563e-03, -7.6665e-02,  6.3739e-02,  4.4557e-02,\n",
       "                       -3.1297e-02, -5.1804e-02,  9.2827e-02,  1.0604e-02, -6.3006e-02,\n",
       "                        9.0923e-02,  5.6979e-02, -8.3925e-02, -4.7149e-03, -6.4547e-02,\n",
       "                       -7.8907e-02, -1.5492e-02, -6.7639e-02,  3.7298e-02, -1.1114e-01,\n",
       "                       -4.5918e-02,  2.2837e-02,  6.4979e-02,  3.5125e-02,  1.8767e-02,\n",
       "                       -9.2624e-02, -2.7298e-02, -6.0775e-02, -2.3745e-02, -6.5211e-02,\n",
       "                        3.7551e-02, -1.3800e-02,  8.1090e-02, -2.6467e-02,  1.3088e-03,\n",
       "                        5.5820e-02,  3.3671e-02,  1.0095e-01, -1.2706e-02,  9.9411e-02,\n",
       "                        2.5550e-02,  6.2953e-03, -3.5063e-03,  6.9439e-02,  4.2449e-02,\n",
       "                       -2.6324e-02,  9.6936e-02,  5.9352e-02,  5.3132e-02, -8.2894e-02,\n",
       "                        3.2706e-02, -1.2666e-02,  3.7495e-02, -2.4478e-02, -6.3624e-02,\n",
       "                        5.1274e-02,  2.7895e-02, -1.0796e-01,  4.0029e-02, -6.7171e-02,\n",
       "                       -7.4084e-02, -4.0142e-02, -2.1139e-02,  1.0034e-01, -7.8713e-02,\n",
       "                        7.2556e-02,  1.3980e-01, -1.0664e-03,  9.7011e-02, -4.7065e-02,\n",
       "                        6.6632e-02,  2.2907e-02, -4.6889e-02,  4.3387e-02,  1.1662e-01,\n",
       "                       -6.0637e-02,  2.0180e-02,  3.1790e-02, -7.2384e-03,  3.1395e-02,\n",
       "                        4.1187e-02, -4.6766e-02,  3.8308e-02,  8.5371e-02,  8.6069e-02,\n",
       "                       -1.0355e-02, -8.5565e-02,  5.5007e-02,  4.3051e-02, -6.8340e-02,\n",
       "                        4.9023e-02,  6.4956e-02,  1.3358e-02, -5.9796e-02,  1.3915e-02,\n",
       "                        3.5451e-02, -6.6559e-02, -4.6557e-02, -9.1793e-02,  1.0996e-01,\n",
       "                        5.8325e-02,  7.8386e-03,  2.8882e-02,  4.5910e-02,  1.3111e-01,\n",
       "                       -4.4509e-02, -3.1785e-02, -1.0782e-01, -2.2859e-02,  8.7287e-02,\n",
       "                        4.9222e-02, -2.7103e-03], device='cuda:0')),\n",
       "              ('emb_layer.weight',\n",
       "               tensor([[-0.0940,  0.1529, -0.0408,  ...,  0.0539,  0.1223, -0.0151],\n",
       "                       [ 0.0508, -0.0010,  0.0701,  ..., -0.1329, -0.0134,  0.0403],\n",
       "                       [-0.0980,  0.0477,  0.1020,  ...,  0.0973,  0.1004,  0.2368],\n",
       "                       ...,\n",
       "                       [-0.0185, -0.0257,  0.0649,  ...,  0.0860,  0.0129, -0.2657],\n",
       "                       [-0.0496,  0.0268, -0.0284,  ..., -0.0037,  0.0511,  0.2080],\n",
       "                       [ 0.0631,  0.0800, -0.2593,  ..., -0.0404, -0.0292, -0.1135]],\n",
       "                      device='cuda:0')),\n",
       "              ('emb_layer.bias',\n",
       "               tensor([ 0.0263, -0.0329, -0.0197,  0.0026, -0.0043,  0.0123,  0.0253,  0.0164],\n",
       "                      device='cuda:0')),\n",
       "              ('norm.weight',\n",
       "               tensor([1., 1., 1., 1., 1., 1., 1., 1., 1., 1., 1., 1., 1., 1., 1., 1., 1., 1.,\n",
       "                       1., 1., 1., 1., 1., 1., 1., 1., 1., 1., 1., 1., 1., 1., 1., 1., 1., 1.,\n",
       "                       1., 1., 1., 1., 1., 1., 1., 1., 1., 1., 1., 1., 1., 1., 1., 1., 1., 1.,\n",
       "                       1., 1., 1., 1., 1., 1., 1., 1., 1., 1., 1., 1., 1., 1., 1., 1., 1., 1.,\n",
       "                       1., 1., 1., 1., 1., 1., 1., 1., 1., 1., 1., 1., 1., 1., 1., 1., 1., 1.,\n",
       "                       1., 1., 1., 1., 1., 1., 1., 1., 1., 1., 1., 1., 1., 1., 1., 1., 1., 1.,\n",
       "                       1., 1., 1., 1., 1., 1., 1., 1., 1., 1., 1., 1., 1., 1., 1., 1., 1., 1.,\n",
       "                       1., 1., 1., 1., 1., 1., 1., 1., 1., 1., 1., 1., 1., 1., 1., 1., 1., 1.,\n",
       "                       1., 1., 1., 1., 1., 1., 1., 1., 1., 1., 1., 1., 1., 1., 1., 1., 1., 1.,\n",
       "                       1., 1., 1., 1., 1., 1., 1., 1., 1., 1., 1., 1., 1., 1., 1., 1., 1., 1.,\n",
       "                       1., 1., 1., 1., 1., 1., 1., 1., 1., 1., 1., 1., 1., 1., 1., 1., 1., 1.,\n",
       "                       1., 1., 1., 1., 1., 1., 1., 1., 1., 1., 1., 1., 1., 1., 1., 1., 1., 1.,\n",
       "                       1., 1., 1., 1., 1., 1., 1., 1., 1., 1., 1., 1., 1., 1., 1., 1., 1., 1.,\n",
       "                       1., 1., 1., 1., 1., 1., 1., 1., 1., 1., 1., 1., 1., 1., 1., 1., 1., 1.,\n",
       "                       1., 1., 1., 1., 1., 1., 1., 1., 1., 1., 1., 1., 1., 1., 1., 1., 1., 1.,\n",
       "                       1., 1., 1., 1., 1., 1., 1., 1., 1., 1., 1., 1., 1., 1., 1., 1., 1., 1.,\n",
       "                       1., 1., 1., 1., 1., 1., 1., 1., 1., 1., 1., 1., 1., 1., 1., 1., 1., 1.,\n",
       "                       1., 1., 1., 1., 1., 1., 1., 1., 1., 1., 1., 1., 1., 1., 1., 1., 1., 1.,\n",
       "                       1., 1., 1., 1., 1., 1., 1., 1., 1., 1., 1., 1., 1., 1., 1., 1., 1., 1.,\n",
       "                       1., 1., 1., 1., 1., 1., 1., 1., 1., 1., 1., 1., 1., 1., 1., 1., 1., 1.,\n",
       "                       1., 1., 1., 1., 1., 1., 1., 1., 1., 1., 1., 1., 1., 1., 1., 1., 1., 1.,\n",
       "                       1., 1., 1., 1., 1., 1., 1., 1., 1., 1., 1., 1., 1., 1., 1., 1., 1., 1.,\n",
       "                       1., 1., 1., 1., 1., 1., 1., 1., 1., 1., 1., 1., 1., 1., 1., 1., 1., 1.,\n",
       "                       1., 1., 1., 1., 1., 1., 1., 1., 1., 1., 1., 1., 1., 1., 1., 1., 1., 1.,\n",
       "                       1., 1., 1., 1., 1., 1., 1., 1., 1., 1., 1., 1., 1., 1., 1., 1., 1., 1.,\n",
       "                       1., 1., 1., 1., 1., 1., 1., 1., 1., 1., 1., 1., 1., 1., 1., 1., 1., 1.,\n",
       "                       1., 1., 1., 1., 1., 1., 1., 1., 1., 1., 1., 1., 1., 1., 1., 1., 1., 1.,\n",
       "                       1., 1., 1., 1., 1., 1., 1., 1., 1., 1., 1., 1., 1., 1., 1., 1., 1., 1.,\n",
       "                       1., 1., 1., 1., 1., 1., 1., 1.], device='cuda:0')),\n",
       "              ('norm.bias',\n",
       "               tensor([0., 0., 0., 0., 0., 0., 0., 0., 0., 0., 0., 0., 0., 0., 0., 0., 0., 0., 0., 0., 0., 0., 0., 0.,\n",
       "                       0., 0., 0., 0., 0., 0., 0., 0., 0., 0., 0., 0., 0., 0., 0., 0., 0., 0., 0., 0., 0., 0., 0., 0.,\n",
       "                       0., 0., 0., 0., 0., 0., 0., 0., 0., 0., 0., 0., 0., 0., 0., 0., 0., 0., 0., 0., 0., 0., 0., 0.,\n",
       "                       0., 0., 0., 0., 0., 0., 0., 0., 0., 0., 0., 0., 0., 0., 0., 0., 0., 0., 0., 0., 0., 0., 0., 0.,\n",
       "                       0., 0., 0., 0., 0., 0., 0., 0., 0., 0., 0., 0., 0., 0., 0., 0., 0., 0., 0., 0., 0., 0., 0., 0.,\n",
       "                       0., 0., 0., 0., 0., 0., 0., 0., 0., 0., 0., 0., 0., 0., 0., 0., 0., 0., 0., 0., 0., 0., 0., 0.,\n",
       "                       0., 0., 0., 0., 0., 0., 0., 0., 0., 0., 0., 0., 0., 0., 0., 0., 0., 0., 0., 0., 0., 0., 0., 0.,\n",
       "                       0., 0., 0., 0., 0., 0., 0., 0., 0., 0., 0., 0., 0., 0., 0., 0., 0., 0., 0., 0., 0., 0., 0., 0.,\n",
       "                       0., 0., 0., 0., 0., 0., 0., 0., 0., 0., 0., 0., 0., 0., 0., 0., 0., 0., 0., 0., 0., 0., 0., 0.,\n",
       "                       0., 0., 0., 0., 0., 0., 0., 0., 0., 0., 0., 0., 0., 0., 0., 0., 0., 0., 0., 0., 0., 0., 0., 0.,\n",
       "                       0., 0., 0., 0., 0., 0., 0., 0., 0., 0., 0., 0., 0., 0., 0., 0., 0., 0., 0., 0., 0., 0., 0., 0.,\n",
       "                       0., 0., 0., 0., 0., 0., 0., 0., 0., 0., 0., 0., 0., 0., 0., 0., 0., 0., 0., 0., 0., 0., 0., 0.,\n",
       "                       0., 0., 0., 0., 0., 0., 0., 0., 0., 0., 0., 0., 0., 0., 0., 0., 0., 0., 0., 0., 0., 0., 0., 0.,\n",
       "                       0., 0., 0., 0., 0., 0., 0., 0., 0., 0., 0., 0., 0., 0., 0., 0., 0., 0., 0., 0., 0., 0., 0., 0.,\n",
       "                       0., 0., 0., 0., 0., 0., 0., 0., 0., 0., 0., 0., 0., 0., 0., 0., 0., 0., 0., 0., 0., 0., 0., 0.,\n",
       "                       0., 0., 0., 0., 0., 0., 0., 0., 0., 0., 0., 0., 0., 0., 0., 0., 0., 0., 0., 0., 0., 0., 0., 0.,\n",
       "                       0., 0., 0., 0., 0., 0., 0., 0., 0., 0., 0., 0., 0., 0., 0., 0., 0., 0., 0., 0., 0., 0., 0., 0.,\n",
       "                       0., 0., 0., 0., 0., 0., 0., 0., 0., 0., 0., 0., 0., 0., 0., 0., 0., 0., 0., 0., 0., 0., 0., 0.,\n",
       "                       0., 0., 0., 0., 0., 0., 0., 0., 0., 0., 0., 0., 0., 0., 0., 0., 0., 0., 0., 0., 0., 0., 0., 0.,\n",
       "                       0., 0., 0., 0., 0., 0., 0., 0., 0., 0., 0., 0., 0., 0., 0., 0., 0., 0., 0., 0., 0., 0., 0., 0.,\n",
       "                       0., 0., 0., 0., 0., 0., 0., 0., 0., 0., 0., 0., 0., 0., 0., 0., 0., 0., 0., 0., 0., 0., 0., 0.,\n",
       "                       0., 0., 0., 0., 0., 0., 0., 0.], device='cuda:0'))]),\n",
       " 'hparams_name': 'kwargs',\n",
       " 'hyper_parameters': {'hparams': {'input_dir': '/global/cscratch1/sd/danieltm/ExaTrkX/trackml-codalab/feature_store_endcaps_SMALLTEST',\n",
       "   'output_dir': '/global/cscratch1/sd/danieltm/ExaTrkX/trackml-codalab/embedding_processed/0_pt_cut_endcaps_SMALLTEST',\n",
       "   'project': 'CodaEmbeddingStudy',\n",
       "   'overwrite': True,\n",
       "   'pt_min': 1,\n",
       "   'train_split': [400, 50, 50],\n",
       "   'endcaps': True,\n",
       "   'layerwise': False,\n",
       "   'layerless': True,\n",
       "   'noise': False,\n",
       "   'adjacent': False,\n",
       "   'in_channels': 12,\n",
       "   'emb_hidden': 512,\n",
       "   'nb_layer': 4,\n",
       "   'emb_dim': 8,\n",
       "   'weight': 2,\n",
       "   'randomisation': 2,\n",
       "   'r_train': 1,\n",
       "   'r_val': 1,\n",
       "   'r_test': 1.5,\n",
       "   'knn': 20,\n",
       "   'warmup': 1600,\n",
       "   'margin': 1,\n",
       "   'lr': 0.002,\n",
       "   'factor': 0.3,\n",
       "   'patience': 5,\n",
       "   'regime': ['rp', 'hnm', 'ci'],\n",
       "   'max_epochs': 40,\n",
       "   'callbacks': 'EmbeddingTelemetry',\n",
       "   'wandb_save_dir': '/global/cscratch1/sd/danieltm/ExaTrkX/wandb_data',\n",
       "   'model_library': '/global/homes/d/danieltm/ExaTrkX/Tracking-ML-Exa.TrkX/src/Pipelines/Examples/LightningModules',\n",
       "   'artifact_library': '/global/cscratch1/sd/danieltm/ExaTrkX/lightning_checkpoints',\n",
       "   'set': 'Embedding',\n",
       "   'name': 'LayerlessEmbedding',\n",
       "   'config': 'train_coda_small_embedding.yaml',\n",
       "   'resume_id': None},\n",
       "  'input_dir': '/global/cscratch1/sd/danieltm/ExaTrkX/trackml-codalab/feature_store_endcaps_SMALLTEST',\n",
       "  'output_dir': '/global/cscratch1/sd/danieltm/ExaTrkX/trackml-codalab/embedding_processed/0_pt_cut_endcaps_SMALLTEST',\n",
       "  'project': 'CodaEmbeddingStudy',\n",
       "  'overwrite': True,\n",
       "  'pt_min': 1,\n",
       "  'train_split': [400, 50, 50],\n",
       "  'endcaps': True,\n",
       "  'layerwise': False,\n",
       "  'layerless': True,\n",
       "  'noise': False,\n",
       "  'adjacent': False,\n",
       "  'in_channels': 12,\n",
       "  'emb_hidden': 512,\n",
       "  'nb_layer': 4,\n",
       "  'emb_dim': 8,\n",
       "  'weight': 2,\n",
       "  'randomisation': 2,\n",
       "  'r_train': 1,\n",
       "  'r_val': 1,\n",
       "  'r_test': 1.5,\n",
       "  'knn': 20,\n",
       "  'warmup': 1600,\n",
       "  'margin': 1,\n",
       "  'lr': 0.002,\n",
       "  'factor': 0.3,\n",
       "  'patience': 5,\n",
       "  'regime': ['rp', 'hnm', 'ci'],\n",
       "  'max_epochs': 40,\n",
       "  'callbacks': 'EmbeddingTelemetry',\n",
       "  'wandb_save_dir': '/global/cscratch1/sd/danieltm/ExaTrkX/wandb_data',\n",
       "  'model_library': '/global/homes/d/danieltm/ExaTrkX/Tracking-ML-Exa.TrkX/src/Pipelines/Examples/LightningModules',\n",
       "  'artifact_library': '/global/cscratch1/sd/danieltm/ExaTrkX/lightning_checkpoints',\n",
       "  'set': 'Embedding',\n",
       "  'name': 'LayerlessEmbedding',\n",
       "  'config': 'train_coda_small_embedding.yaml',\n",
       "  'resume_id': None}}"
      ]
     },
     "execution_count": 10,
     "metadata": {},
     "output_type": "execute_result"
    }
   ],
   "source": [
    "chkpnt"
   ]
  },
  {
   "cell_type": "code",
   "execution_count": 43,
   "metadata": {
    "hidden": true
   },
   "outputs": [
    {
     "data": {
      "text/plain": [
       "<All keys matched successfully>"
      ]
     },
     "execution_count": 43,
     "metadata": {},
     "output_type": "execute_result"
    }
   ],
   "source": [
    "model = LayerlessEmbedding(chkpnt[\"hyper_parameters\"])\n",
    "model.load_state_dict(chkpnt[\"state_dict\"])"
   ]
  },
  {
   "cell_type": "code",
   "execution_count": 54,
   "metadata": {
    "hidden": true
   },
   "outputs": [],
   "source": [
    "model = model.to(device)"
   ]
  },
  {
   "cell_type": "markdown",
   "metadata": {
    "heading_collapsed": true
   },
   "source": [
    "## Apply to Test Set"
   ]
  },
  {
   "cell_type": "code",
   "execution_count": 11,
   "metadata": {
    "hidden": true
   },
   "outputs": [],
   "source": [
    "model.setup(\"fit\")"
   ]
  },
  {
   "cell_type": "code",
   "execution_count": 12,
   "metadata": {
    "hidden": true
   },
   "outputs": [],
   "source": [
    "test_set = model.test_dataloader()"
   ]
  },
  {
   "cell_type": "code",
   "execution_count": 85,
   "metadata": {
    "hidden": true,
    "scrolled": true
   },
   "outputs": [
    {
     "ename": "ModuleAttributeError",
     "evalue": "'LayerlessEmbedding' object has no attribute 'testset'",
     "output_type": "error",
     "traceback": [
      "\u001b[0;31m---------------------------------------------------------------------------\u001b[0m",
      "\u001b[0;31mModuleAttributeError\u001b[0m                      Traceback (most recent call last)",
      "\u001b[0;32m<ipython-input-85-810455e3020a>\u001b[0m in \u001b[0;36m<module>\u001b[0;34m\u001b[0m\n\u001b[0;32m----> 1\u001b[0;31m \u001b[0mtest_set\u001b[0m \u001b[0;34m=\u001b[0m \u001b[0mmodel\u001b[0m\u001b[0;34m.\u001b[0m\u001b[0mtestset\u001b[0m\u001b[0;34m\u001b[0m\u001b[0;34m\u001b[0m\u001b[0m\n\u001b[0m",
      "\u001b[0;32m~/.conda/envs/exatrkx-test/lib/python3.7/site-packages/torch/nn/modules/module.py\u001b[0m in \u001b[0;36m__getattr__\u001b[0;34m(self, name)\u001b[0m\n\u001b[1;32m    777\u001b[0m                 \u001b[0;32mreturn\u001b[0m \u001b[0mmodules\u001b[0m\u001b[0;34m[\u001b[0m\u001b[0mname\u001b[0m\u001b[0;34m]\u001b[0m\u001b[0;34m\u001b[0m\u001b[0;34m\u001b[0m\u001b[0m\n\u001b[1;32m    778\u001b[0m         raise ModuleAttributeError(\"'{}' object has no attribute '{}'\".format(\n\u001b[0;32m--> 779\u001b[0;31m             type(self).__name__, name))\n\u001b[0m\u001b[1;32m    780\u001b[0m \u001b[0;34m\u001b[0m\u001b[0m\n\u001b[1;32m    781\u001b[0m     \u001b[0;32mdef\u001b[0m \u001b[0m__setattr__\u001b[0m\u001b[0;34m(\u001b[0m\u001b[0mself\u001b[0m\u001b[0;34m,\u001b[0m \u001b[0mname\u001b[0m\u001b[0;34m:\u001b[0m \u001b[0mstr\u001b[0m\u001b[0;34m,\u001b[0m \u001b[0mvalue\u001b[0m\u001b[0;34m:\u001b[0m \u001b[0mUnion\u001b[0m\u001b[0;34m[\u001b[0m\u001b[0mTensor\u001b[0m\u001b[0;34m,\u001b[0m \u001b[0;34m'Module'\u001b[0m\u001b[0;34m]\u001b[0m\u001b[0;34m)\u001b[0m \u001b[0;34m->\u001b[0m \u001b[0;32mNone\u001b[0m\u001b[0;34m:\u001b[0m\u001b[0;34m\u001b[0m\u001b[0;34m\u001b[0m\u001b[0m\n",
      "\u001b[0;31mModuleAttributeError\u001b[0m: 'LayerlessEmbedding' object has no attribute 'testset'"
     ]
    }
   ],
   "source": [
    "test_set = model.testset"
   ]
  },
  {
   "cell_type": "code",
   "execution_count": 92,
   "metadata": {
    "cell_style": "center",
    "hidden": true,
    "scrolled": true
   },
   "outputs": [
    {
     "name": "stdout",
     "output_type": "stream",
     "text": [
      "HARD: tensor(0.9005) tensor(0.0637) 107725\n",
      "HARD: tensor(0.9009) tensor(0.0672) 103256\n",
      "HARD: tensor(0.9020) tensor(0.0694) 98733\n",
      "HARD: tensor(0.8937) tensor(0.0804) 82080\n",
      "HARD: tensor(0.8933) tensor(0.0703) 92650\n",
      "HARD: tensor(0.8883) tensor(0.0799) 82769\n",
      "HARD: tensor(0.8948) tensor(0.0697) 94976\n",
      "HARD: tensor(0.8907) tensor(0.0642) 104643\n",
      "HARD: tensor(0.8942) tensor(0.0664) 100745\n",
      "HARD: tensor(0.8951) tensor(0.0698) 100305\n",
      "HARD: tensor(0.9005) tensor(0.0705) 95318\n",
      "HARD: tensor(0.8990) tensor(0.0711) 97181\n",
      "HARD: tensor(0.8933) tensor(0.0711) 95585\n",
      "HARD: tensor(0.8982) tensor(0.0631) 108737\n",
      "HARD: tensor(0.8997) tensor(0.0832) 79983\n",
      "HARD: tensor(0.8929) tensor(0.0955) 62791\n",
      "HARD: tensor(0.8962) tensor(0.0699) 99610\n",
      "HARD: tensor(0.8951) tensor(0.0634) 109360\n",
      "HARD: tensor(0.8890) tensor(0.0788) 84199\n",
      "HARD: tensor(0.9019) tensor(0.0929) 70136\n",
      "HARD: tensor(0.8998) tensor(0.0820) 81168\n",
      "HARD: tensor(0.8931) tensor(0.0705) 96502\n",
      "HARD: tensor(0.8890) tensor(0.0772) 86852\n",
      "HARD: tensor(0.8946) tensor(0.0667) 102092\n",
      "HARD: tensor(0.8970) tensor(0.0739) 91089\n",
      "HARD: tensor(0.9000) tensor(0.0734) 88340\n",
      "HARD: tensor(0.8993) tensor(0.0781) 84781\n",
      "HARD: tensor(0.8987) tensor(0.0750) 90063\n",
      "HARD: tensor(0.9007) tensor(0.0717) 95272\n",
      "HARD: tensor(0.9006) tensor(0.0693) 97781\n",
      "HARD: tensor(0.9011) tensor(0.0744) 89629\n",
      "HARD: tensor(0.8910) tensor(0.0782) 86136\n",
      "HARD: tensor(0.8912) tensor(0.0769) 85714\n",
      "HARD: tensor(0.8960) tensor(0.0711) 92222\n",
      "HARD: tensor(0.8989) tensor(0.0793) 83670\n",
      "HARD: tensor(0.8876) tensor(0.0678) 98231\n",
      "HARD: tensor(0.8980) tensor(0.0775) 84786\n",
      "HARD: tensor(0.8892) tensor(0.0667) 102100\n",
      "HARD: tensor(0.8956) tensor(0.0590) 119449\n",
      "HARD: tensor(0.8933) tensor(0.0666) 100260\n",
      "HARD: tensor(0.8880) tensor(0.0693) 95419\n",
      "HARD: tensor(0.8973) tensor(0.0857) 74195\n",
      "HARD: tensor(0.8911) tensor(0.0601) 114684\n",
      "HARD: tensor(0.8845) tensor(0.0678) 99116\n",
      "HARD: tensor(0.9050) tensor(0.0850) 77219\n",
      "HARD: tensor(0.8955) tensor(0.0765) 85715\n",
      "HARD: tensor(0.8984) tensor(0.0803) 82288\n",
      "HARD: tensor(0.8943) tensor(0.0768) 88240\n",
      "HARD: tensor(0.8928) tensor(0.0754) 89444\n",
      "HARD: tensor(0.8912) tensor(0.0623) 108438\n",
      "HARD: tensor(0.8951) tensor(0.0651) 104731\n",
      "HARD: tensor(0.8953) tensor(0.0655) 104940\n",
      "HARD: tensor(0.8968) tensor(0.0723) 93888\n",
      "HARD: tensor(0.8898) tensor(0.0782) 85011\n",
      "HARD: tensor(0.8909) tensor(0.0720) 93175\n",
      "HARD: tensor(0.8957) tensor(0.0825) 81267\n",
      "HARD: tensor(0.8945) tensor(0.0669) 99700\n",
      "HARD: tensor(0.8977) tensor(0.0583) 116403\n",
      "HARD: tensor(0.8918) tensor(0.0752) 87917\n",
      "HARD: tensor(0.8927) tensor(0.0678) 101276\n",
      "HARD: tensor(0.9014) tensor(0.0722) 92623\n",
      "HARD: tensor(0.8923) tensor(0.0695) 97201\n",
      "HARD: tensor(0.8956) tensor(0.0715) 94894\n",
      "HARD: tensor(0.8874) tensor(0.0675) 99882\n",
      "HARD: tensor(0.8999) tensor(0.0828) 79286\n",
      "HARD: tensor(0.8937) tensor(0.0825) 76558\n",
      "HARD: tensor(0.8944) tensor(0.0758) 91314\n",
      "HARD: tensor(0.8881) tensor(0.0686) 98364\n",
      "HARD: tensor(0.8869) tensor(0.0840) 77666\n",
      "HARD: tensor(0.8962) tensor(0.0858) 77446\n",
      "HARD: tensor(0.8976) tensor(0.0973) 67774\n",
      "HARD: tensor(0.8944) tensor(0.0708) 95377\n",
      "HARD: tensor(0.8914) tensor(0.0682) 98249\n",
      "HARD: tensor(0.8964) tensor(0.0740) 89401\n",
      "HARD: tensor(0.8938) tensor(0.0708) 96152\n",
      "HARD: tensor(0.8964) tensor(0.0763) 85955\n",
      "HARD: tensor(0.8913) tensor(0.0719) 90750\n",
      "HARD: tensor(0.8855) tensor(0.0884) 76441\n",
      "HARD: tensor(0.8907) tensor(0.0730) 92000\n",
      "HARD: tensor(0.8990) tensor(0.0877) 75310\n",
      "HARD: tensor(0.8928) tensor(0.0581) 119857\n",
      "HARD: tensor(0.8978) tensor(0.0878) 75531\n",
      "HARD: tensor(0.8934) tensor(0.0886) 74906\n",
      "HARD: tensor(0.8900) tensor(0.0810) 80075\n",
      "HARD: tensor(0.8937) tensor(0.0715) 90923\n",
      "HARD: tensor(0.8979) tensor(0.0769) 85374\n",
      "HARD: tensor(0.8912) tensor(0.0701) 92826\n",
      "HARD: tensor(0.8912) tensor(0.0701) 95481\n",
      "HARD: tensor(0.8934) tensor(0.0692) 99705\n",
      "HARD: tensor(0.8943) tensor(0.0681) 99066\n",
      "HARD: tensor(0.8952) tensor(0.0674) 100861\n",
      "HARD: tensor(0.8927) tensor(0.0635) 105415\n",
      "HARD: tensor(0.8947) tensor(0.0855) 73518\n",
      "HARD: tensor(0.8960) tensor(0.0637) 107278\n",
      "HARD: tensor(0.8926) tensor(0.0697) 99432\n",
      "HARD: tensor(0.8959) tensor(0.0681) 99416\n",
      "HARD: tensor(0.8993) tensor(0.0735) 90185\n",
      "HARD: tensor(0.8915) tensor(0.0733) 93750\n",
      "HARD: tensor(0.8955) tensor(0.0902) 75032\n",
      "HARD: tensor(0.8954) tensor(0.0564) 121486\n",
      "CPU times: user 43.6 s, sys: 17.4 s, total: 1min\n",
      "Wall time: 52.4 s\n"
     ]
    }
   ],
   "source": [
    "%%time\n",
    "easy_events = []\n",
    "hard_events = []\n",
    "tp_list = []\n",
    "t_list = []\n",
    "p_list = []\n",
    "size_list = []\n",
    "\n",
    "with torch.no_grad():\n",
    "    for i, data in enumerate(test_set.dataset[:100]):\n",
    "        batch = data.to(device)\n",
    "\n",
    "        if 'ci' in model.hparams[\"regime\"]:\n",
    "            spatial = model(torch.cat([batch.cell_data, batch.x], axis=-1))\n",
    "        else:\n",
    "            spatial = model(batch.x)\n",
    "\n",
    "        e_bidir = torch.cat([batch.layerless_true_edges, batch.layerless_true_edges.flip(0)], axis=-1)\n",
    "\n",
    "        # Build whole KNN graph\n",
    "        e_spatial = build_edges(spatial, 1.5, 200, res)\n",
    "\n",
    "        e_spatial, y_cluster = graph_intersection(e_spatial, e_bidir)\n",
    "        \n",
    "        data.true_positives = e_spatial[:, y_cluster]\n",
    "        \n",
    "        cluster_true = e_bidir.shape[1]\n",
    "        cluster_true_positive = y_cluster.sum().item()\n",
    "        cluster_positive = len(e_spatial[0])\n",
    "        \n",
    "        tp_list.append(cluster_true_positive)\n",
    "        p_list.append(cluster_positive)\n",
    "        t_list.append(cluster_true)\n",
    "        size_list.append(len(batch.hid))\n",
    "        \n",
    "        eff = torch.tensor(cluster_true_positive / cluster_true)\n",
    "        pur = torch.tensor(cluster_true_positive / cluster_positive)\n",
    "        \n",
    "        if(eff < 0.95):\n",
    "            print(\"HARD:\", eff, pur, len(batch.hid))\n",
    "            hard_events.append(i)\n",
    "        else:\n",
    "            print(\"EASY:\", eff, pur, len(batch.hid))\n",
    "            easy_events.append(i)"
   ]
  },
  {
   "cell_type": "code",
   "execution_count": 93,
   "metadata": {
    "hidden": true
   },
   "outputs": [],
   "source": [
    "eff_list, pur_list = np.array(tp_list) / np.array(t_list), np.array(tp_list) / np.array(p_list)\n",
    "size_list = np.array(size_list)"
   ]
  },
  {
   "cell_type": "code",
   "execution_count": 28,
   "metadata": {
    "hidden": true
   },
   "outputs": [
    {
     "data": {
      "text/plain": [
       "(437, 63)"
      ]
     },
     "execution_count": 28,
     "metadata": {},
     "output_type": "execute_result"
    }
   ],
   "source": [
    "len(easy_events), len(hard_events)"
   ]
  },
  {
   "cell_type": "code",
   "execution_count": null,
   "metadata": {
    "hidden": true
   },
   "outputs": [],
   "source": []
  },
  {
   "cell_type": "markdown",
   "metadata": {
    "heading_collapsed": true
   },
   "source": [
    "## Eff, Pur Analysis"
   ]
  },
  {
   "cell_type": "code",
   "execution_count": 94,
   "metadata": {
    "hidden": true
   },
   "outputs": [
    {
     "name": "stdout",
     "output_type": "stream",
     "text": [
      "{'mean': 0.8946963514879711, 'st.dev': 0.004045087877398759}\n",
      "{'mean': 0.07350358721857095, 'st.dev': 0.008287965230315088}\n"
     ]
    }
   ],
   "source": [
    "print(stats(eff_list))\n",
    "print(stats(pur_list))"
   ]
  },
  {
   "cell_type": "code",
   "execution_count": 95,
   "metadata": {
    "hidden": true
   },
   "outputs": [
    {
     "data": {
      "text/plain": [
       "<matplotlib.axes._subplots.AxesSubplot at 0x2aab8973d0d0>"
      ]
     },
     "execution_count": 95,
     "metadata": {},
     "output_type": "execute_result"
    },
    {
     "data": {
      "image/png": "[encoded data removed]",
      "text/plain": [
       "<Figure size 432x288 with 1 Axes>"
      ]
     },
     "metadata": {
      "needs_background": "light"
     },
     "output_type": "display_data"
    }
   ],
   "source": [
    "sns.histplot(eff_list)"
   ]
  },
  {
   "cell_type": "code",
   "execution_count": 96,
   "metadata": {
    "hidden": true
   },
   "outputs": [
    {
     "data": {
      "text/plain": [
       "<matplotlib.axes._subplots.AxesSubplot at 0x2aab89790a50>"
      ]
     },
     "execution_count": 96,
     "metadata": {},
     "output_type": "execute_result"
    },
    {
     "data": {
      "image/png": "[encoded data removed]",
      "text/plain": [
       "<Figure size 432x288 with 1 Axes>"
      ]
     },
     "metadata": {
      "needs_background": "light"
     },
     "output_type": "display_data"
    }
   ],
   "source": [
    "sns.histplot(pur_list)"
   ]
  },
  {
   "cell_type": "code",
   "execution_count": 100,
   "metadata": {
    "hidden": true
   },
   "outputs": [
    {
     "data": {
      "text/plain": [
       "<seaborn.axisgrid.JointGrid at 0x2aab89f41850>"
      ]
     },
     "execution_count": 100,
     "metadata": {},
     "output_type": "execute_result"
    },
    {
     "data": {
      "image/png": "[encoded data removed]",
      "text/plain": [
       "<Figure size 432x432 with 3 Axes>"
      ]
     },
     "metadata": {
      "needs_background": "light"
     },
     "output_type": "display_data"
    }
   ],
   "source": [
    "sns.jointplot(x = size_list, y=pur_list)"
   ]
  },
  {
   "cell_type": "markdown",
   "metadata": {
    "heading_collapsed": true
   },
   "source": [
    "## pT Analysis"
   ]
  },
  {
   "cell_type": "markdown",
   "metadata": {
    "hidden": true
   },
   "source": [
    "### Examine Easy Events"
   ]
  },
  {
   "cell_type": "code",
   "execution_count": 61,
   "metadata": {
    "hidden": true
   },
   "outputs": [],
   "source": [
    "def stats(lst):\n",
    "    return {\"mean\": np.mean(lst), \"st.dev\": np.std(lst)}"
   ]
  },
  {
   "cell_type": "code",
   "execution_count": 114,
   "metadata": {
    "hidden": true
   },
   "outputs": [],
   "source": [
    "easy_pt = []\n",
    "easy_pt_av = []\n",
    "easy_mean_pt = []"
   ]
  },
  {
   "cell_type": "code",
   "execution_count": 117,
   "metadata": {
    "hidden": true
   },
   "outputs": [
    {
     "name": "stdout",
     "output_type": "stream",
     "text": [
      "Data(cell_data=[14101, 9], event_file=\"/global/cscratch1/sd/danieltm/ExaTrkX/trackml-codalab/train_all/event000021313\", hid=[14101], layerless_true_edges=[2, 17043], layers=[14101], pid=[14101], pt=[14101], true_positives=[2, 33856], weights=[17043], x=[14101, 3])\n"
     ]
    }
   ],
   "source": [
    "for i in easy_events:\n",
    "    easy = test_set.dataset[i].to(\"cpu\")\n",
    "    pt = easy.pt.numpy()\n",
    "    if (pt > 1000).any():\n",
    "        print(easy)\n",
    "    else:\n",
    "        easy_pt.append(pt)\n",
    "        easy_e = easy.layerless_true_edges\n",
    "        easy_pt_av.append((pt[easy_e[0]] + pt[easy_e[1]])/2)\n",
    "        easy_mean_pt.append(np.mean(pt))\n",
    "easy_pt = np.concatenate(easy_pt)\n",
    "easy_pt_av = np.concatenate(easy_pt_av)"
   ]
  },
  {
   "cell_type": "code",
   "execution_count": 118,
   "metadata": {
    "hidden": true
   },
   "outputs": [
    {
     "data": {
      "text/plain": [
       "<seaborn.axisgrid.FacetGrid at 0x2aacae0e5e90>"
      ]
     },
     "execution_count": 118,
     "metadata": {},
     "output_type": "execute_result"
    },
    {
     "data": {
      "image/png": "[encoded data removed]",
      "text/plain": [
       "<Figure size 360x360 with 1 Axes>"
      ]
     },
     "metadata": {
      "needs_background": "light"
     },
     "output_type": "display_data"
    }
   ],
   "source": [
    "sns.displot(easy_pt, binrange=(0.9, 4))"
   ]
  },
  {
   "cell_type": "code",
   "execution_count": 119,
   "metadata": {
    "hidden": true
   },
   "outputs": [
    {
     "name": "stdout",
     "output_type": "stream",
     "text": [
      "HITS: {'mean': 1.7880038, 'st.dev': 2.2337546}\n",
      "EDGES: {'mean': 1.7752995, 'st.dev': 2.2075207}\n"
     ]
    }
   ],
   "source": [
    "print(\"HITS:\", stats(easy_pt))\n",
    "print(\"EDGES:\", stats(easy_pt_av))"
   ]
  },
  {
   "cell_type": "markdown",
   "metadata": {
    "hidden": true
   },
   "source": [
    "### Examine Hard Events"
   ]
  },
  {
   "cell_type": "code",
   "execution_count": 122,
   "metadata": {
    "hidden": true
   },
   "outputs": [],
   "source": [
    "hard_pt = []\n",
    "hard_pt_av = []\n",
    "hard_mean_pt = []"
   ]
  },
  {
   "cell_type": "code",
   "execution_count": 124,
   "metadata": {
    "hidden": true
   },
   "outputs": [],
   "source": [
    "for i in hard_events:\n",
    "    hard = test_set.dataset[i].to(\"cpu\")\n",
    "    pt = hard.pt.numpy()\n",
    "    if (pt > 1000).any():\n",
    "        print(hard)\n",
    "    else:\n",
    "        hard_pt.append(pt)\n",
    "        hard_e = hard.layerless_true_edges\n",
    "        hard_pt_av.append((pt[hard_e[0]] + pt[hard_e[1]])/2)\n",
    "        hard_mean_pt.append(np.mean(pt))\n",
    "hard_pt = np.concatenate(hard_pt)\n",
    "hard_pt_av = np.concatenate(hard_pt_av)"
   ]
  },
  {
   "cell_type": "code",
   "execution_count": 125,
   "metadata": {
    "hidden": true
   },
   "outputs": [
    {
     "data": {
      "text/plain": [
       "<matplotlib.axes._subplots.AxesSubplot at 0x2aacae82e150>"
      ]
     },
     "execution_count": 125,
     "metadata": {},
     "output_type": "execute_result"
    },
    {
     "data": {
      "image/png": "[encoded data removed]",
      "text/plain": [
       "<Figure size 432x288 with 1 Axes>"
      ]
     },
     "metadata": {
      "needs_background": "light"
     },
     "output_type": "display_data"
    }
   ],
   "source": [
    "sns.histplot(hard_pt, binrange=(0.9, 4))"
   ]
  },
  {
   "cell_type": "code",
   "execution_count": 126,
   "metadata": {
    "hidden": true
   },
   "outputs": [
    {
     "name": "stdout",
     "output_type": "stream",
     "text": [
      "HITS: {'mean': 1.7901201, 'st.dev': 2.0250943}\n",
      "EDGES: {'mean': 1.7783368, 'st.dev': 1.9478983}\n"
     ]
    }
   ],
   "source": [
    "print(\"HITS:\", stats(hard_pt))\n",
    "print(\"EDGES:\", stats(hard_pt_av))"
   ]
  },
  {
   "cell_type": "markdown",
   "metadata": {
    "hidden": true
   },
   "source": [
    "### Compare Stats"
   ]
  },
  {
   "cell_type": "markdown",
   "metadata": {
    "heading_collapsed": true,
    "hidden": true
   },
   "source": [
    "#### Across pT"
   ]
  },
  {
   "cell_type": "code",
   "execution_count": 150,
   "metadata": {
    "hidden": true
   },
   "outputs": [
    {
     "data": {
      "text/plain": [
       "<seaborn.axisgrid.FacetGrid at 0x2aab8a29b990>"
      ]
     },
     "execution_count": 150,
     "metadata": {},
     "output_type": "execute_result"
    },
    {
     "data": {
      "image/png": "[encoded data removed]",
      "text/plain": [
       "<Figure size 360x360 with 1 Axes>"
      ]
     },
     "metadata": {
      "needs_background": "light"
     },
     "output_type": "display_data"
    },
    {
     "data": {
      "image/png": "[encoded data removed]",
      "text/plain": [
       "<Figure size 360x360 with 1 Axes>"
      ]
     },
     "metadata": {
      "needs_background": "light"
     },
     "output_type": "display_data"
    }
   ],
   "source": [
    "sns.displot(hard_pt, binrange=(0.9, 4))\n",
    "sns.displot(easy_pt, binrange=(0.9, 4))"
   ]
  },
  {
   "cell_type": "code",
   "execution_count": 196,
   "metadata": {
    "hidden": true
   },
   "outputs": [
    {
     "name": "stdout",
     "output_type": "stream",
     "text": [
      "HITS: {'mean': 1.7814902, 'st.dev': 2.0895734}\n",
      "EDGES: {'mean': 1.7685859, 'st.dev': 1.9981616}\n"
     ]
    }
   ],
   "source": [
    "print(\"HITS:\", stats(hard_pt))\n",
    "print(\"EDGES:\", stats(hard_pt_av))"
   ]
  },
  {
   "cell_type": "code",
   "execution_count": 197,
   "metadata": {
    "hidden": true
   },
   "outputs": [
    {
     "name": "stdout",
     "output_type": "stream",
     "text": [
      "HITS: {'mean': 1.9182626, 'st.dev': 2.496019}\n",
      "EDGES: {'mean': 1.7816447, 'st.dev': 2.1720493}\n"
     ]
    }
   ],
   "source": [
    "print(\"HITS:\", stats(easy_pt))\n",
    "print(\"EDGES:\", stats(easy_pt_av))"
   ]
  },
  {
   "cell_type": "markdown",
   "metadata": {
    "hidden": true
   },
   "source": [
    "#### Across Events"
   ]
  },
  {
   "cell_type": "code",
   "execution_count": 127,
   "metadata": {
    "hidden": true
   },
   "outputs": [
    {
     "name": "stdout",
     "output_type": "stream",
     "text": [
      "HITS: {'mean': 1.7924782, 'st.dev': 0.095649555}\n"
     ]
    }
   ],
   "source": [
    "print(\"HITS:\", stats(hard_mean_pt))"
   ]
  },
  {
   "cell_type": "code",
   "execution_count": 128,
   "metadata": {
    "hidden": true
   },
   "outputs": [
    {
     "name": "stdout",
     "output_type": "stream",
     "text": [
      "HITS: {'mean': 1.7907491, 'st.dev': 0.10838934}\n"
     ]
    }
   ],
   "source": [
    "print(\"HITS:\", stats(easy_mean_pt))"
   ]
  },
  {
   "cell_type": "code",
   "execution_count": 129,
   "metadata": {
    "hidden": true
   },
   "outputs": [
    {
     "data": {
      "text/plain": [
       "<matplotlib.legend.Legend at 0x2aacaeb681d0>"
      ]
     },
     "execution_count": 129,
     "metadata": {},
     "output_type": "execute_result"
    },
    {
     "data": {
      "image/png": "[encoded data removed]",
      "text/plain": [
       "<Figure size 432x288 with 1 Axes>"
      ]
     },
     "metadata": {
      "needs_background": "light"
     },
     "output_type": "display_data"
    }
   ],
   "source": [
    "x = np.array([\"Event pT mean\"])\n",
    "y = np.array([stats(easy_mean_pt)[\"mean\"]])\n",
    "e = np.array([stats(easy_mean_pt)[\"st.dev\"]])\n",
    "plt.errorbar(x, y, e, capsize = 10, capthick=5, marker=\".\", ms = 20, label=\"Easy events\")\n",
    "x = np.array([\"Event pT mean\"])\n",
    "y = np.array([stats(hard_mean_pt)[\"mean\"]])\n",
    "e = np.array([stats(hard_mean_pt)[\"st.dev\"]])\n",
    "plt.errorbar(x, y, e, capsize = 10, capthick=5, marker=\".\", ms = 20, label=\"Hard events\")\n",
    "plt.legend()"
   ]
  },
  {
   "cell_type": "markdown",
   "metadata": {},
   "source": [
    "## Eta Analysis"
   ]
  },
  {
   "cell_type": "markdown",
   "metadata": {},
   "source": [
    "### Examine Easy Events"
   ]
  },
  {
   "cell_type": "code",
   "execution_count": 10,
   "metadata": {},
   "outputs": [],
   "source": [
    "def stats(lst):\n",
    "    return {\"mean\": np.mean(lst), \"st.dev\": np.std(lst)}"
   ]
  },
  {
   "cell_type": "code",
   "execution_count": 9,
   "metadata": {},
   "outputs": [],
   "source": [
    "def calc_eta(X):\n",
    "    theta = np.arctan2(X[:,0], X[:,2])\n",
    "    return -1. * np.log(np.tan(theta / 2.))"
   ]
  },
  {
   "cell_type": "code",
   "execution_count": 132,
   "metadata": {},
   "outputs": [],
   "source": [
    "easy_eta = []\n",
    "easy_eta_av = []\n",
    "easy_mean_eta = []"
   ]
  },
  {
   "cell_type": "code",
   "execution_count": 133,
   "metadata": {},
   "outputs": [],
   "source": [
    "for i in easy_events:\n",
    "    easy = test_set.dataset[i].to(\"cpu\")\n",
    "    eta = calc_eta(easy.x)\n",
    "    easy_eta.append(eta)\n",
    "    easy_e = easy.layerless_true_edges\n",
    "    easy_eta_av.append((eta[easy_e[0]] + eta[easy_e[1]])/2)\n",
    "    easy_mean_eta.append(np.mean(eta.numpy()))\n",
    "easy_eta = np.concatenate(easy_eta)\n",
    "easy_eta_av = np.concatenate(easy_eta_av)"
   ]
  },
  {
   "cell_type": "code",
   "execution_count": 134,
   "metadata": {},
   "outputs": [
    {
     "name": "stdout",
     "output_type": "stream",
     "text": [
      "HITS: {'mean': -0.0031981939, 'st.dev': 2.180783}\n",
      "EDGES: {'mean': -0.0063784765, 'st.dev': 2.36429}\n"
     ]
    }
   ],
   "source": [
    "print(\"HITS:\", stats(easy_eta))\n",
    "print(\"EDGES:\", stats(easy_eta_av))"
   ]
  },
  {
   "cell_type": "markdown",
   "metadata": {},
   "source": [
    "### Examine Hard Events"
   ]
  },
  {
   "cell_type": "code",
   "execution_count": 135,
   "metadata": {},
   "outputs": [],
   "source": [
    "hard_eta = []\n",
    "hard_eta_av = []\n",
    "hard_mean_eta = []"
   ]
  },
  {
   "cell_type": "code",
   "execution_count": 136,
   "metadata": {},
   "outputs": [],
   "source": [
    "for i in hard_events:\n",
    "    hard = test_set.dataset[i].to(\"cpu\")\n",
    "    eta = calc_eta(hard.x)\n",
    "    hard_eta.append(eta)\n",
    "    hard_e = hard.layerless_true_edges\n",
    "    hard_eta_av.append((eta[hard_e[0]] + eta[hard_e[1]])/2)\n",
    "    hard_mean_eta.append(np.mean(eta.numpy()))\n",
    "hard_eta = np.concatenate(hard_eta)\n",
    "hard_eta_av = np.concatenate(hard_eta_av)"
   ]
  },
  {
   "cell_type": "code",
   "execution_count": 137,
   "metadata": {},
   "outputs": [
    {
     "name": "stdout",
     "output_type": "stream",
     "text": [
      "HITS: {'mean': -0.0033109067, 'st.dev': 2.1824088}\n",
      "EDGES: {'mean': -0.0059369192, 'st.dev': 2.3659937}\n"
     ]
    }
   ],
   "source": [
    "print(\"HITS:\", stats(hard_eta))\n",
    "print(\"EDGES:\", stats(hard_eta_av))"
   ]
  },
  {
   "cell_type": "markdown",
   "metadata": {},
   "source": [
    "### Compare Stats"
   ]
  },
  {
   "cell_type": "markdown",
   "metadata": {},
   "source": [
    "#### Across eta"
   ]
  },
  {
   "cell_type": "code",
   "execution_count": 138,
   "metadata": {},
   "outputs": [
    {
     "data": {
      "text/plain": [
       "<seaborn.axisgrid.FacetGrid at 0x2aacae7d7350>"
      ]
     },
     "execution_count": 138,
     "metadata": {},
     "output_type": "execute_result"
    },
    {
     "data": {
      "image/png": "[encoded data removed]",
      "text/plain": [
       "<Figure size 360x360 with 1 Axes>"
      ]
     },
     "metadata": {
      "needs_background": "light"
     },
     "output_type": "display_data"
    },
    {
     "data": {
      "image/png": "[encoded data removed]",
      "text/plain": [
       "<Figure size 360x360 with 1 Axes>"
      ]
     },
     "metadata": {
      "needs_background": "light"
     },
     "output_type": "display_data"
    }
   ],
   "source": [
    "sns.displot(hard_eta, binrange=(-4, 4), binwidth=0.2)\n",
    "sns.displot(easy_eta, binrange=(-4, 4), binwidth=0.2)"
   ]
  },
  {
   "cell_type": "code",
   "execution_count": 139,
   "metadata": {},
   "outputs": [
    {
     "name": "stdout",
     "output_type": "stream",
     "text": [
      "HITS: {'mean': -0.0033109067, 'st.dev': 2.1824088}\n",
      "EDGES: {'mean': -0.0059369192, 'st.dev': 2.3659937}\n"
     ]
    }
   ],
   "source": [
    "print(\"HITS:\", stats(hard_eta))\n",
    "print(\"EDGES:\", stats(hard_eta_av))"
   ]
  },
  {
   "cell_type": "code",
   "execution_count": 140,
   "metadata": {},
   "outputs": [
    {
     "name": "stdout",
     "output_type": "stream",
     "text": [
      "HITS: {'mean': -0.0031981939, 'st.dev': 2.180783}\n",
      "EDGES: {'mean': -0.0063784765, 'st.dev': 2.36429}\n"
     ]
    }
   ],
   "source": [
    "print(\"HITS:\", stats(easy_eta))\n",
    "print(\"EDGES:\", stats(easy_eta_av))"
   ]
  },
  {
   "cell_type": "code",
   "execution_count": 141,
   "metadata": {},
   "outputs": [
    {
     "data": {
      "text/plain": [
       "<matplotlib.legend.Legend at 0x2aacaed39e90>"
      ]
     },
     "execution_count": 141,
     "metadata": {},
     "output_type": "execute_result"
    },
    {
     "data": {
      "image/png": "[encoded data removed]",
      "text/plain": [
       "<Figure size 432x288 with 1 Axes>"
      ]
     },
     "metadata": {
      "needs_background": "light"
     },
     "output_type": "display_data"
    }
   ],
   "source": [
    "x = np.array([\"Hit eta mean\"])\n",
    "y = np.array([stats(easy_eta_av)[\"mean\"]])\n",
    "e = np.array([stats(easy_eta_av)[\"st.dev\"]])\n",
    "plt.errorbar(x, y, e, capsize = 10, capthick=5, marker=\".\", ms = 20, label=\"Easy events\")\n",
    "x = np.array([\"Hit eta mean\"])\n",
    "y = np.array([stats(hard_eta_av)[\"mean\"]])\n",
    "e = np.array([stats(hard_eta_av)[\"st.dev\"]])\n",
    "plt.errorbar(x, y, e, capsize = 10, capthick=5, marker=\".\", ms = 20, label=\"Hard events\")\n",
    "plt.legend()"
   ]
  },
  {
   "cell_type": "markdown",
   "metadata": {},
   "source": [
    "#### Across Events"
   ]
  },
  {
   "cell_type": "code",
   "execution_count": 142,
   "metadata": {},
   "outputs": [
    {
     "name": "stdout",
     "output_type": "stream",
     "text": [
      "HITS: {'mean': -0.0034919418, 'st.dev': 0.10115595}\n"
     ]
    }
   ],
   "source": [
    "print(\"HITS:\", stats(hard_mean_eta))"
   ]
  },
  {
   "cell_type": "code",
   "execution_count": 143,
   "metadata": {},
   "outputs": [
    {
     "name": "stdout",
     "output_type": "stream",
     "text": [
      "HITS: {'mean': -0.0013115018, 'st.dev': 0.10162141}\n"
     ]
    }
   ],
   "source": [
    "print(\"HITS:\", stats(easy_mean_eta))"
   ]
  },
  {
   "cell_type": "code",
   "execution_count": 144,
   "metadata": {},
   "outputs": [
    {
     "data": {
      "text/plain": [
       "<matplotlib.legend.Legend at 0x2aacaedafd10>"
      ]
     },
     "execution_count": 144,
     "metadata": {},
     "output_type": "execute_result"
    },
    {
     "data": {
      "image/png": "[encoded data removed]",
      "text/plain": [
       "<Figure size 432x288 with 1 Axes>"
      ]
     },
     "metadata": {
      "needs_background": "light"
     },
     "output_type": "display_data"
    }
   ],
   "source": [
    "x = np.array([\"Event eta mean\"])\n",
    "y = np.array([stats(easy_mean_eta)[\"mean\"]])\n",
    "e = np.array([stats(easy_mean_eta)[\"st.dev\"]])\n",
    "plt.errorbar(x, y, e, capsize = 10, capthick=5, marker=\".\", ms = 20, label=\"Easy events\")\n",
    "x = np.array([\"Event eta mean\"])\n",
    "y = np.array([stats(hard_mean_eta)[\"mean\"]])\n",
    "e = np.array([stats(hard_mean_eta)[\"st.dev\"]])\n",
    "plt.errorbar(x, y, e, capsize = 10, capthick=5, marker=\".\", ms = 20, label=\"Hard events\")\n",
    "plt.legend()"
   ]
  },
  {
   "cell_type": "markdown",
   "metadata": {
    "heading_collapsed": true
   },
   "source": [
    "## pT vs Efficiency Analysis"
   ]
  },
  {
   "cell_type": "markdown",
   "metadata": {
    "hidden": true
   },
   "source": [
    "### Easy Events"
   ]
  },
  {
   "cell_type": "code",
   "execution_count": 145,
   "metadata": {
    "hidden": true
   },
   "outputs": [],
   "source": [
    "easy_pt_tp = []\n",
    "easy_pt_t = []"
   ]
  },
  {
   "cell_type": "code",
   "execution_count": 146,
   "metadata": {
    "hidden": true
   },
   "outputs": [
    {
     "name": "stdout",
     "output_type": "stream",
     "text": [
      "CPU times: user 219 ms, sys: 27.8 ms, total: 247 ms\n",
      "Wall time: 132 ms\n"
     ]
    }
   ],
   "source": [
    "%%time\n",
    "for i in easy_events[:100]:\n",
    "    easy = test_set.dataset[i].to(\"cpu\")\n",
    "    pt = easy.pt.numpy()\n",
    "    if (pt>1000).any():\n",
    "        print(easy)\n",
    "    else:\n",
    "        true_positives = easy.true_positives\n",
    "        true = torch.cat([easy.layerless_true_edges, easy.layerless_true_edges.flip(0)], axis=-1)\n",
    "        easy_pt_tp.append(pt[true_positives])\n",
    "        easy_pt_t.append(pt[true])\n",
    "    # CAN SLICE ALONG ALL PTs OR EVENT-BY-EVENT\n",
    "#     easy_pt.append(pt)\n",
    "#     easy_e = easy.layerless_true_edges\n",
    "#     easy_pt_av.append((pt[easy_e[0]] + pt[easy_e[1]])/2)\n",
    "#     easy_mean_pt.append(np.mean(pt))\n",
    "easy_pt_tp = np.concatenate(easy_pt_tp, axis=1)\n",
    "easy_pt_t = np.concatenate(easy_pt_t, axis=1)"
   ]
  },
  {
   "cell_type": "code",
   "execution_count": 147,
   "metadata": {
    "hidden": true
   },
   "outputs": [],
   "source": [
    "easy_pt_tp_av = (easy_pt_tp[0] + easy_pt_tp[1])/2\n",
    "easy_pt_t_av = (easy_pt_t[0] + easy_pt_t[1])/2"
   ]
  },
  {
   "cell_type": "code",
   "execution_count": 148,
   "metadata": {
    "hidden": true
   },
   "outputs": [],
   "source": [
    "bins = np.logspace(0, 1.5, 10)\n",
    "centers = [(bins[i]+bins[i+1])/2 for i in range(len(bins)-1)]\n",
    "\n",
    "tp_hist = np.histogram(easy_pt_tp_av, bins=bins)[0]\n",
    "t_hist = np.histogram(easy_pt_t_av, bins=bins)[0]\n",
    "easy_ratio_hist = tp_hist / t_hist"
   ]
  },
  {
   "cell_type": "code",
   "execution_count": 149,
   "metadata": {
    "hidden": true
   },
   "outputs": [
    {
     "data": {
      "image/png": "[encoded data removed]",
      "text/plain": [
       "<Figure size 720x360 with 1 Axes>"
      ]
     },
     "metadata": {
      "needs_background": "light"
     },
     "output_type": "display_data"
    }
   ],
   "source": [
    "# Update this to dynamically adapt to number of metrics\n",
    "fig, axs = plt.subplots(nrows=1, ncols=1, figsize=(10,5))\n",
    "axs = axs.flatten() if type(axs) is list else [axs]\n",
    "\n",
    "axs[0].plot(centers, easy_ratio_hist)\n",
    "axs[0].plot([centers[0], centers[-1]], [1, 1], '--')\n",
    "axs[0].set_xlabel('pT (GeV)')\n",
    "axs[0].set_ylabel('Efficiency')\n",
    "axs[0].set_title('Metric Learning Efficiency')\n",
    "plt.tight_layout()"
   ]
  },
  {
   "cell_type": "markdown",
   "metadata": {
    "hidden": true
   },
   "source": [
    "### Hard Events"
   ]
  },
  {
   "cell_type": "code",
   "execution_count": 150,
   "metadata": {
    "hidden": true
   },
   "outputs": [],
   "source": [
    "hard_pt_tp = []\n",
    "hard_pt_t = []"
   ]
  },
  {
   "cell_type": "code",
   "execution_count": 151,
   "metadata": {
    "hidden": true
   },
   "outputs": [
    {
     "name": "stdout",
     "output_type": "stream",
     "text": [
      "CPU times: user 162 ms, sys: 16.2 ms, total: 178 ms\n",
      "Wall time: 102 ms\n"
     ]
    }
   ],
   "source": [
    "%%time\n",
    "for i in hard_events:\n",
    "    hard = test_set.dataset[i].to(\"cpu\")\n",
    "    pt = hard.pt.numpy()\n",
    "    if (pt > 1000).any():\n",
    "        print(hard)\n",
    "    else:\n",
    "        true_positives = hard.true_positives\n",
    "        true = torch.cat([hard.layerless_true_edges, hard.layerless_true_edges.flip(0)], axis=-1)\n",
    "        hard_pt_tp.append(pt[true_positives])\n",
    "        hard_pt_t.append(pt[true])\n",
    "    # CAN SLICE ALONG ALL PTs OR EVENT-BY-EVENT\n",
    "#     easy_pt.append(pt)\n",
    "#     easy_e = easy.layerless_true_edges\n",
    "#     easy_pt_av.append((pt[easy_e[0]] + pt[easy_e[1]])/2)\n",
    "#     easy_mean_pt.append(np.mean(pt))\n",
    "hard_pt_tp = np.concatenate(hard_pt_tp, axis=1)\n",
    "hard_pt_t = np.concatenate(hard_pt_t, axis=1)"
   ]
  },
  {
   "cell_type": "code",
   "execution_count": 152,
   "metadata": {
    "hidden": true
   },
   "outputs": [],
   "source": [
    "hard_pt_tp_av = (hard_pt_tp[0] + hard_pt_tp[1])/2\n",
    "hard_pt_t_av = (hard_pt_t[0] + hard_pt_t[1])/2"
   ]
  },
  {
   "cell_type": "code",
   "execution_count": 153,
   "metadata": {
    "hidden": true
   },
   "outputs": [],
   "source": [
    "bins = np.logspace(0, 1.5, 10)\n",
    "centers = [(bins[i]+bins[i+1])/2 for i in range(len(bins)-1)]\n",
    "\n",
    "tp_hist = np.histogram(hard_pt_tp_av, bins=bins)[0]\n",
    "t_hist = np.histogram(hard_pt_t_av, bins=bins)[0]\n",
    "hard_ratio_hist = tp_hist / t_hist"
   ]
  },
  {
   "cell_type": "code",
   "execution_count": 154,
   "metadata": {
    "hidden": true
   },
   "outputs": [
    {
     "data": {
      "image/png": "[encoded data removed]",
      "text/plain": [
       "<Figure size 720x360 with 1 Axes>"
      ]
     },
     "metadata": {
      "needs_background": "light"
     },
     "output_type": "display_data"
    }
   ],
   "source": [
    "# Update this to dynamically adapt to number of metrics\n",
    "fig, axs = plt.subplots(nrows=1, ncols=1, figsize=(10,5))\n",
    "axs = axs.flatten() if type(axs) is list else [axs]\n",
    "\n",
    "axs[0].plot(centers, hard_ratio_hist)\n",
    "axs[0].plot([centers[0], centers[-1]], [1, 1], '--')\n",
    "axs[0].set_xlabel('pT (GeV)')\n",
    "axs[0].set_ylabel('Efficiency')\n",
    "axs[0].set_title('Metric Learning Efficiency')\n",
    "plt.tight_layout()"
   ]
  },
  {
   "cell_type": "code",
   "execution_count": 155,
   "metadata": {
    "hidden": true
   },
   "outputs": [
    {
     "data": {
      "image/png": "[encoded data removed]",
      "text/plain": [
       "<Figure size 720x360 with 1 Axes>"
      ]
     },
     "metadata": {
      "needs_background": "light"
     },
     "output_type": "display_data"
    }
   ],
   "source": [
    "# Update this to dynamically adapt to number of metrics\n",
    "fig, axs = plt.subplots(nrows=1, ncols=1, figsize=(10,5))\n",
    "axs = axs.flatten() if type(axs) is list else [axs]\n",
    "\n",
    "axs[0].plot(centers, hard_ratio_hist)\n",
    "axs[0].plot(centers, easy_ratio_hist)\n",
    "axs[0].plot([centers[0], centers[-1]], [1, 1], '--')\n",
    "axs[0].set_xlabel('pT (GeV)')\n",
    "axs[0].set_ylabel('Efficiency')\n",
    "axs[0].set_title('Metric Learning Efficiency')\n",
    "plt.tight_layout()"
   ]
  },
  {
   "cell_type": "markdown",
   "metadata": {},
   "source": [
    "## Jet Analysis"
   ]
  },
  {
   "cell_type": "markdown",
   "metadata": {},
   "source": [
    "### Example..."
   ]
  },
  {
   "cell_type": "code",
   "execution_count": 134,
   "metadata": {},
   "outputs": [],
   "source": [
    "from pyjet import cluster\n",
    "from pyjet.testdata import get_event\n",
    "\n",
    "vectors = get_event()\n",
    "sequence = cluster(vectors, R=1.0, p=-1)\n",
    "jets = sequence.inclusive_jets()  # list of PseudoJets\n",
    "exclusivejets = sequence.exclusive_jets(3)  # Find the cluster history when there are 3 jets"
   ]
  },
  {
   "cell_type": "code",
   "execution_count": 135,
   "metadata": {},
   "outputs": [
    {
     "data": {
      "text/plain": [
       "PseudoJet(pt=983.387, eta=-0.868, phi=2.905, mass=39.991)"
      ]
     },
     "execution_count": 135,
     "metadata": {},
     "output_type": "execute_result"
    }
   ],
   "source": [
    "jets[0]"
   ]
  },
  {
   "cell_type": "code",
   "execution_count": 136,
   "metadata": {},
   "outputs": [
    {
     "name": "stdout",
     "output_type": "stream",
     "text": [
      "[(1.51535651e+00, -5.33650888, -2.19101187,  4.93600006e-01)\n",
      " (2.38211217e-01, -4.40409474,  1.59250675,  1.39570002e-01)\n",
      " (2.71899543e-01, -3.93089818,  1.43715817,  1.39569999e-01)\n",
      " (2.63393743e-01, -1.68243005, -2.56397904,  1.39570000e-01)\n",
      " (1.64420492e+00, -2.0335164 ,  0.68656051,  1.39570000e-01)\n",
      " (6.75280764e-01, -5.15556952, -2.57445178,  9.39570002e-01)\n",
      " (5.46421684e-01, -5.20350406, -1.02424553,  9.38269999e-01)\n",
      " (1.54134496e+00, -4.39936469,  1.13471278,  9.39570000e-01)\n",
      " (1.46827903e-01, -4.54880067, -0.21474025,  1.39570000e-01)\n",
      " (2.21829393e+00, -2.60237495,  1.34660981,  1.39569997e-01)\n",
      " (2.52247572e-01, -2.73435675, -0.31697376,  1.39570000e-01)\n",
      " (3.39499059e-01, -1.63170226,  0.15270001,  1.39570000e-01)\n",
      " (1.10764361e+00, -1.13065468, -2.3589616 ,  1.39570000e-01)\n",
      " (2.06824854e-01, -1.91178238, -1.01292686,  1.39570000e-01)\n",
      " (1.71301882e+00, -2.03656511, -2.46861524,  9.39570000e-01)\n",
      " (4.61349221e-01, -1.35600282, -3.1051276 ,  1.39570000e-01)\n",
      " (2.19975694e+00, -1.74672746, -1.97178728,  1.39570000e-01)\n",
      " (3.19102320e-01, -0.84725207, -1.07899533,  1.39570000e-01)\n",
      " (2.29542977e+00, -1.19544326,  0.5147113 ,  9.38270000e-01)\n",
      " (4.03770028e-01,  0.37583188, -0.62565325,  1.39570000e-01)\n",
      " (1.76084145e+00,  0.46691243,  0.96154865,  1.39570001e-01)\n",
      " (3.67977728e-01,  0.40432969, -1.46734511,  1.39570000e-01)\n",
      " (1.02806182e+01, -1.17614718, -0.22774414,  1.39569998e-01)\n",
      " (1.14265664e+01, -1.12969961, -0.10807555,  1.39569994e-01)\n",
      " (2.03152549e+00, -1.14564164, -0.60686946,  1.39569999e-01)\n",
      " (3.21668811e+00, -0.17058241, -0.09739693,  9.38270000e-01)\n",
      " (3.15438301e+01, -0.85387085,  2.9118683 ,  4.93600001e-01)\n",
      " (8.02741951e+00, -0.83767576,  2.81210539,  4.93600000e-01)\n",
      " (1.05346959e+00, -0.13435037, -2.63539829,  1.39570000e-01)\n",
      " (1.26881151e+00,  0.4076587 , -2.58823486,  1.39570000e-01)\n",
      " (9.63976353e-01,  1.68582892, -2.44537604,  1.39570001e-01)\n",
      " (3.47997029e-01,  1.77392591,  0.93224502,  1.39570000e-01)\n",
      " (7.90300996e-01,  1.89665444, -1.76680607,  4.93600000e-01)\n",
      " (1.46715405e+00,  5.76701107, -2.69232614,  1.39569911e-01)\n",
      " (1.06182081e+00,  6.77508618,  3.05170242,  1.39570027e-01)\n",
      " (6.70612980e-01,  5.35657916,  2.78166263,  1.39570021e-01)\n",
      " (4.84366646e-01,  1.38110549, -2.01511612,  1.39570001e-01)\n",
      " (9.20218595e-02,  1.77916976,  1.76744063,  1.39570000e-01)\n",
      " (1.49880909e-01,  3.1687377 ,  0.82211592,  1.39570000e-01)\n",
      " (3.17314447e+00,  0.32286956,  0.85983951,  9.39570000e-01)\n",
      " (9.60177062e-01,  4.78320412,  0.59098038,  1.39570010e-01)\n",
      " (2.11132201e-01, -5.41766329,  3.02433306,  4.97669999e-01)\n",
      " (3.37126264e-01, -7.53058618,  0.40199649,  4.97670003e-01)\n",
      " (2.91675081e-01, -7.50280357,  2.63541851,  1.39569997e-01)\n",
      " (1.80361665e-01, -8.49339324,  1.94973315,  1.39569944e-01)\n",
      " (1.34598798e-01, -4.92148792,  0.41670454, -1.27018043e-05)\n",
      " (9.38353301e-02, -5.63600235,  1.4110684 , -6.84805232e-06)\n",
      " (1.08886394e+00, -4.84665471,  2.30229525,  1.39570011e-01)\n",
      " (1.34495882e+00, -4.72343348, -0.02634933, -3.20298302e-05)\n",
      " (2.82368230e-01, -4.50986487, -2.81416237,  1.39569996e-01)\n",
      " (3.66531061e-01, -3.40821233,  0.32102493,  8.55300692e-06)\n",
      " (1.08449437e-01, -2.95178858, -0.18059385,  8.74229678e-07)\n",
      " (2.64685205e-02, -1.83523182, -0.61163407,  1.82600891e-06)\n",
      " (2.01286128e-01, -3.0624959 , -2.03933365,  4.16369482e-06)\n",
      " (1.95539287e-01, -3.96546617,  0.59523241,  1.39570001e-01)\n",
      " (4.63035729e-01, -3.85888837, -1.20440906,  4.93600000e-01)\n",
      " (2.31079244e-01, -3.82365966,  1.89617405,  1.39570001e-01)\n",
      " (6.03710779e-01, -2.36999121,  0.03915671,  4.93600000e-01)\n",
      " (1.89024459e-01, -1.90891395,  1.76117039,  3.26396662e-06)\n",
      " (7.21962563e-01, -2.08556927,  2.08226557,  6.47856152e-06)\n",
      " (4.92660845e-02, -3.18735439,  0.21637218,  5.52462938e-06)\n",
      " (2.09866447e-01, -1.98411559, -0.14765956,  8.30308961e-06)\n",
      " (1.57007843e+00, -1.64889106,  1.22619799,  9.39570000e-01)\n",
      " (1.54320115e-01, -0.57554528,  1.299247  ,  1.39570000e-01)\n",
      " (1.02099024e+00, -2.32432543,  1.48880522,  9.39570000e-01)\n",
      " (8.18046877e-01, -1.7684321 ,  1.13060169,  1.39570000e-01)\n",
      " (3.18858656e-01, -0.96944402,  0.47141359,  1.39570000e-01)\n",
      " (1.37255153e-01, -1.38436433,  1.10557948,  1.39570000e-01)\n",
      " (6.47278758e-01, -4.84456877, -0.813385  ,  1.39570012e-01)\n",
      " (4.01747522e-01, -4.31137781,  1.53976826,  1.39570001e-01)\n",
      " (1.46842261e-01, -6.30141401, -1.78784346,  4.93600004e-01)\n",
      " (3.57737649e-01, -4.34816732,  2.61208854,  2.64026375e-05)\n",
      " (3.50066355e-01, -4.05363896,  2.85373835, -2.78370921e-05)\n",
      " (3.78848028e-01, -5.39775193, -2.57766603,  9.38270004e-01)\n",
      " (3.32592521e-01, -4.46133797, -1.24583202,  1.39570006e-01)\n",
      " (9.41500226e-01, -4.82292725,  1.84260897,  1.39569991e-01)\n",
      " (1.82798214e-01, -5.89708101, -2.94318617,  1.39570000e-01)\n",
      " (1.03214563e+00, -4.52879848,  0.35563462,  9.38270000e-01)\n",
      " (1.15560685e-01, -4.75556122,  2.23700275,  1.39570002e-01)\n",
      " (1.40541256e+00, -4.8624681 ,  1.62619644,  9.38270008e-01)\n",
      " (6.00259321e-02, -6.79388726,  1.15128325,  1.39570013e-01)\n",
      " (1.67449700e-01, -5.40476728, -3.01135085,  1.39570009e-01)\n",
      " (2.30403373e-02, -3.32650417,  0.82080748, -3.23347473e-06)\n",
      " (3.68030440e-01, -2.62292155, -0.56537362,  5.89792403e-06)\n",
      " (1.15464059e-01, -3.90208218,  1.06920036, -9.92913917e-06)\n",
      " (6.76446360e-01, -3.53580522,  0.75549853,  2.56241747e-05)\n",
      " (3.50947751e-01, -2.14358273,  1.5005631 ,  1.39569999e-01)\n",
      " (1.35381100e-01, -2.33449644,  2.9876653 , -1.11269900e-05)\n",
      " (2.58762860e-01, -2.41912988,  0.98713819,  4.83799193e-06)\n",
      " (1.80714536e+00, -2.58499335,  0.88037098, -2.79061792e-05)\n",
      " (3.05115585e-01, -3.1361233 ,  2.74757234,  1.39569999e-01)\n",
      " (6.21587820e-01, -2.57580896,  2.06315787,  1.39570000e-01)\n",
      " (3.57976802e-01, -2.61849377,  0.86544559,  1.39569999e-01)\n",
      " (3.74776091e-01, -1.72357322,  1.88740507,  1.39570000e-01)\n",
      " (5.47699715e-01, -2.61304289,  0.66755104,  1.39569999e-01)\n",
      " (5.81336310e-01, -2.63397381,  1.16548933,  1.39570001e-01)\n",
      " (9.53019211e-01, -2.06215369,  3.10650226,  1.47634942e-05)\n",
      " (3.69841471e-01, -2.54470222, -2.37229726,  8.94094507e-06)\n",
      " (1.47781519e+00, -1.7378898 , -2.34304346,  9.39570000e-01)\n",
      " (1.15238811e-01, -2.11547902,  2.54038112,  1.39570000e-01)\n",
      " (2.37822602e-01, -2.76266798, -1.28743841,  1.39570001e-01)\n",
      " (8.93538645e-01, -1.52729244, -2.24973202,  1.39570000e-01)\n",
      " (2.39714074e-01, -0.78980834, -0.66124609, -4.95332227e-06)\n",
      " (8.31748973e-02, -1.00451439,  0.30761815, -3.82416200e-06)\n",
      " (1.76193132e-01, -1.48516773,  0.41589363,  1.39570000e-01)\n",
      " (1.77331719e-01, -0.92631724, -1.60169568,  1.39570000e-01)\n",
      " (1.39610629e+00, -1.14571051,  0.4464315 ,  9.38270000e-01)\n",
      " (2.61619333e-01,  0.05422426,  0.68286301,  1.39570000e-01)\n",
      " (1.34113715e+00,  0.19626181,  0.31560637,  1.39570000e-01)\n",
      " (1.12603318e+00,  0.47290562,  0.29851894,  1.39570001e-01)\n",
      " (2.01230223e-01,  0.36421052, -0.63751601,  1.39570000e-01)\n",
      " (2.51518337e-01,  0.58640368,  1.69995477,  1.39570000e-01)\n",
      " (4.78617526e-01,  0.15207794,  0.03246144,  5.87795092e-06)\n",
      " (8.92913142e-01,  0.3480783 ,  0.09645079, -8.92850049e-06)\n",
      " (4.71891585e-01,  1.45413132,  0.20470265,  1.39570000e-01)\n",
      " (5.73159541e-01,  0.65759538,  0.53537746,  1.39570000e-01)\n",
      " (8.75937131e-01,  0.14141194,  0.39336202,  1.39570000e-01)\n",
      " (2.28696968e-01,  0.47986228,  2.89647594,  1.39570000e-01)\n",
      " (1.25990183e+00, -0.65280946, -0.51782737,  1.39570000e-01)\n",
      " (1.43551905e+00, -1.00442682, -0.54002928,  1.39570000e-01)\n",
      " (1.00212229e+00, -0.97037564, -0.19889077,  1.39570000e-01)\n",
      " (4.74544413e-01, -1.38285544, -0.86650615,  1.39570000e-01)\n",
      " (3.63265714e+00, -1.28169427, -0.24210968,  1.39569998e-01)\n",
      " (1.13410650e-01, -1.06756864, -1.30097224,  1.39570000e-01)\n",
      " (8.41583762e+00, -1.26320327, -0.15144267,  1.39569995e-01)\n",
      " (1.92877995e+00, -1.19006397, -0.13542271,  1.39570000e-01)\n",
      " (5.85079973e-01, -1.43935554, -0.43667808,  1.39570000e-01)\n",
      " (1.76475656e+00, -1.24696415, -0.16065029,  1.59341845e-05)\n",
      " (7.22240413e+00, -1.25894067, -0.12478722, -3.84634273e-05)\n",
      " (4.09778905e+00, -1.19341925, -0.18502641,  9.39570000e-01)\n",
      " (2.37936910e+00, -1.27277179, -0.15165183,  1.39570002e-01)\n",
      " (8.94416584e-01,  0.03580078,  0.12533159,  1.39570000e-01)\n",
      " (1.51876639e-01,  0.31928966,  0.15429048,  1.39570000e-01)\n",
      " (4.62563665e+00, -0.03653038, -0.37964749,  1.39570001e-01)\n",
      " (1.89380297e+00,  0.20898008, -0.23199091, -3.91926035e-06)\n",
      " (1.83486031e+01,  0.22646651, -0.21720759, -4.06201172e-05)\n",
      " (3.91361366e+00,  0.32379561, -0.30060908,  1.39570001e-01)\n",
      " (4.13447519e+01,  0.22632026, -0.24293391,  1.39570007e-01)\n",
      " (4.84784556e+01,  0.23100021, -0.25323742,  1.39570018e-01)\n",
      " (5.17916418e+01,  0.22287376, -0.26761008,  1.39570002e-01)\n",
      " (5.71826213e+01,  0.22930622, -0.24584955,  3.59118850e-05)\n",
      " (8.46913270e+00,  0.23165481, -0.24018337, -2.58189269e-05)\n",
      " (5.70907428e+02,  0.22135153, -0.25386958,  1.39569839e-01)\n",
      " (6.01390684e+01, -0.8882955 ,  2.91224567,  1.39569965e-01)\n",
      " (2.12859616e+01, -0.88336948,  2.90753791,  1.39569996e-01)\n",
      " (6.49978435e+01, -0.86134712,  2.90188147,  4.97670012e-01)\n",
      " (1.89850683e+02, -0.86691932,  2.90833495,  4.93600050e-01)\n",
      " (1.35971084e+02, -0.87009963,  2.91008764,  1.39569957e-01)\n",
      " (2.56731005e+02, -0.86843153,  2.90578078,  1.39570086e-01)\n",
      " (8.70835188e+01, -0.86386556,  2.90687235,  1.39570001e-01)\n",
      " (1.58428419e+00, -0.68380758,  2.79412856,  1.39570000e-01)\n",
      " (1.62160623e+01, -0.8732751 ,  2.88643519,  4.93600000e-01)\n",
      " (6.67619216e+00, -0.91953216,  2.92219135,  1.39569997e-01)\n",
      " (1.79959448e+00, -0.85991585,  2.78883548,  1.39570000e-01)\n",
      " (3.03054673e+00, -0.66758733,  2.85460839,  1.39569999e-01)\n",
      " (4.34909067e+00, -0.8252604 ,  3.0292256 ,  1.39569998e-01)\n",
      " (2.15612066e-01,  1.12234644,  2.22571396, -5.95078483e-06)\n",
      " (1.39938283e-01,  0.84904458,  2.9698773 , -2.82712352e-06)\n",
      " (1.60889282e-01,  0.98604007,  0.701906  , -4.90725946e-06)\n",
      " (9.55325650e-02,  0.68133039, -0.39753906, -4.84295422e-06)\n",
      " (3.00376050e-01,  1.72837799, -0.04774718,  1.39570000e-01)\n",
      " (3.45768149e-01,  1.27373637, -1.24606648,  1.39570000e-01)\n",
      " (6.78300787e-02,  2.58281704, -1.19939577,  7.03570756e-06)\n",
      " (3.72400283e-01,  2.29736856, -0.37687448,  1.21904978e-05)\n",
      " (2.58065806e-01,  1.86213492,  1.14211023,  4.93600000e-01)\n",
      " (3.63478700e-01,  0.99961553, -1.9156198 ,  1.39570000e-01)\n",
      " (1.51674269e-01,  0.94581651, -1.93303377, -5.35296282e-06)\n",
      " (2.81057173e-01,  1.57679354, -2.32361489,  1.39570000e-01)\n",
      " (6.43016313e-01,  1.47114107, -1.4587011 ,  1.39570000e-01)\n",
      " (1.23246359e-01,  2.45533062, -0.89514965,  1.39570000e-01)\n",
      " (2.76715948e-01,  1.99721372,  1.95017074,  1.39570000e-01)\n",
      " (3.57211053e-01,  3.83591761,  3.10449494,  1.39569997e-01)\n",
      " (1.06191901e+00,  2.98231939, -0.53787701, -2.70276669e-05)\n",
      " (2.28442663e-01,  4.69092891,  0.36936894,  9.39569999e-01)\n",
      " (2.33063961e-01,  2.79256687, -1.22204489,  1.39570000e-01)\n",
      " (3.29960310e-02,  3.22292187, -0.673823  ,  2.84952323e-06)\n",
      " (1.03481753e+00,  3.6944986 , -1.23529973, -3.34950527e-05)\n",
      " (4.19904159e-01,  5.49745431, -1.68648103,  9.38269999e-01)\n",
      " (1.72899202e-01,  5.9625544 , -1.02518574,  1.39570009e-01)\n",
      " (3.89457695e-01,  4.36911181,  0.55540419,  1.39569996e-01)\n",
      " (1.15482500e+00,  5.84074316, -1.97233186,  1.39569902e-01)\n",
      " (5.81887208e-01,  7.50046511,  2.63790161,  9.38270020e-01)\n",
      " (1.01008529e-01,  7.12264854, -1.12095276,  1.39569999e-01)\n",
      " (5.41527011e-01,  6.87928382, -2.71122646,  9.38270002e-01)\n",
      " (6.96156179e-02,  7.45441148,  1.19307942,  1.39569989e-01)\n",
      " (3.97474720e-01,  4.00972387,  2.13619325,  1.39570002e-01)\n",
      " (3.34547051e-01,  4.09483202,  3.12573707,  1.39570000e-01)\n",
      " (2.32333422e-01,  4.85547079,  2.77490986,  1.39569999e-01)\n",
      " (2.60425421e-01,  2.48433262,  0.57127456,  1.39570000e-01)\n",
      " (1.51259078e-01,  1.36746107,  0.69938661,  1.39570000e-01)\n",
      " (3.79018361e-01,  3.00384031, -2.36372933,  5.58489478e-06)\n",
      " (7.11186491e-02,  3.80440897, -2.35745899, -1.12728048e-05)\n",
      " (3.81590821e-01,  0.88469192, -0.21471324,  1.39570000e-01)\n",
      " (5.89775972e-01,  1.60372502,  1.21660591,  1.39570000e-01)\n",
      " (1.28159785e+00,  0.46392501,  0.51959063,  9.38270000e-01)\n",
      " (3.36539230e-02, -0.72579715, -1.70719236,  1.39570000e-01)\n",
      " (2.25643889e-01, -0.33003159, -0.44700817,  1.39570000e-01)\n",
      " (6.34843695e-01,  0.97931649,  1.21710364,  1.39570000e-01)\n",
      " (2.11456868e+00,  0.68149508,  0.67471036,  1.39570000e-01)\n",
      " (3.62091670e-01,  2.54242343,  1.14802285,  9.39570000e-01)\n",
      " (2.26166548e-01,  2.41369834,  0.88353124,  1.39570000e-01)\n",
      " (5.80514095e-01,  2.45204643, -0.69299368,  9.39570000e-01)\n",
      " (3.30371487e-01,  1.69066822, -1.37424943,  1.39570000e-01)\n",
      " (7.30082338e-01,  3.17946326, -0.03160033,  1.39569999e-01)\n",
      " (1.06223987e+00,  2.43961426, -1.49364805,  2.20826964e-05)\n",
      " (5.23809194e-02,  3.5793146 ,  1.89230065, -7.78554657e-06)\n",
      " (3.23693128e-01,  3.08440612, -0.95987051,  1.39570000e-01)\n",
      " (2.47536893e-01,  4.34958603, -0.10279827,  1.39569994e-01)\n",
      " (4.81937640e-01,  5.0199892 ,  0.32683429,  4.97670001e-01)\n",
      " (5.33162678e-01,  3.50878112, -1.09966142,  1.39570003e-01)\n",
      " (6.43621412e-01,  5.7177339 ,  2.70645969,  1.39569953e-01)\n",
      " (3.35815499e-01,  7.04263054, -1.23747631,  1.39569981e-01)\n",
      " (9.49185031e-02,  6.68326541, -2.77078949,  1.39569989e-01)\n",
      " (1.65339912e+00,  8.26735601, -1.78284938,  9.38270027e-01)\n",
      " (4.58138534e-01, -4.21675362, -2.95608105,  1.39570004e-01)\n",
      " (7.62185130e-02, -5.74088123,  1.75044314,  1.39570000e-01)\n",
      " (3.46911232e-01, -7.89306043,  2.31742986,  1.39569929e-01)\n",
      " (3.36693116e-01, -7.5336388 ,  3.1412163 ,  4.97670051e-01)\n",
      " (6.50170707e-01, -5.25174843,  2.7109261 ,  4.97669996e-01)\n",
      " (1.36468160e-01, -4.55787848, -0.80049918, -1.52350218e-05)\n",
      " (1.67195984e-01, -4.51804169, -1.72587128, -1.47757017e-05)\n",
      " (3.11358491e-02, -4.33338112, -2.71727198, -5.23580241e-06)\n",
      " (2.47298155e-01, -2.93620164, -2.99229087,  2.02070954e-05)\n",
      " (1.11345541e+00, -2.69144466, -0.00762996, -8.90007327e-06)\n",
      " (7.43672362e-01, -2.55981917,  0.06059492, -2.82472568e-05)\n",
      " (6.48699613e-02, -2.35058713, -0.23001396,  7.91998820e-07)\n",
      " (9.55126105e-02, -2.16560157, -2.27109083,  4.89091319e-06)\n",
      " (9.74429247e-01, -1.02944959,  1.28771189,  8.06850752e-06)\n",
      " (6.44283200e-02, -2.04101658, -1.26238759,  2.43427982e-06)\n",
      " (1.28013720e-02, -6.69613129, -1.44742003,  2.49707184e-05)\n",
      " (3.34850344e-01, -5.90630815,  2.34308296, -8.69754114e-05)\n",
      " (1.24447610e+00, -4.47181707, -1.74129727,  1.39570002e-01)\n",
      " (6.92810558e-01, -4.90410238, -1.82230263,  1.39570009e-01)\n",
      " (1.19485146e-01, -3.30599066,  1.64077752,  9.26073301e-06)\n",
      " (2.96603088e-01, -3.14916951,  0.9260482 ,  2.29284279e-05)\n",
      " (2.33197968e-02, -4.26809602, -2.31031854, -7.18517243e-06)\n",
      " (3.06762360e-01, -3.4319214 , -0.83666861, -2.74283711e-05)\n",
      " (1.94860024e-01, -3.76988082,  0.74378494, -1.07041379e-05)\n",
      " (5.69066086e-01, -3.93739149,  1.11493801, -7.93077821e-06)\n",
      " (2.39108822e-01, -2.6145701 ,  1.18156907,  1.22650769e-05)\n",
      " (6.84224485e-01, -2.53087821,  1.50603152, -1.60750312e-05)\n",
      " (1.30477406e-01, -2.69209318,  1.79249304, -3.66268602e-06)\n",
      " (2.71043808e-02, -4.52437285,  0.90087159, -1.21803572e-05)\n",
      " (4.40382829e-02, -1.64305357,  1.12060661, -2.82322508e-06)\n",
      " (2.41708383e-01, -1.1640735 ,  2.4272493 , -3.12684810e-06)\n",
      " (4.81434400e-01, -0.98784304, -1.41711063,  7.34354411e-06)\n",
      " (1.29155862e-01, -0.66442387, -0.98064328,  1.28792046e-06)\n",
      " (4.55328112e-01, -1.50649087,  0.57420237, -1.23831788e-05)\n",
      " (1.75837328e-02, -1.97003156,  2.17344934, -1.09297083e-06)\n",
      " (8.94257958e-02, -2.25566315,  3.09114731,  4.34336579e-06)\n",
      " (9.95789107e-02, -1.56643473,  1.74633285,  4.41139575e-06)\n",
      " (1.16640380e-01, -0.18829565,  1.15542006, -3.67617925e-06)\n",
      " (2.67189250e-01, -0.69424661,  0.579036  ,  5.09143208e-06)\n",
      " (2.91608330e-01,  0.83760094, -0.65929649, -3.55169654e-06)\n",
      " (2.10644362e-02, -0.4552834 , -1.73419938,  1.33536966e-06)\n",
      " (3.93040787e-02,  1.52532282,  2.10054786,  1.51072407e-06)\n",
      " (1.79465032e-01,  0.85233232, -2.55545563, -3.35201509e-06)\n",
      " (1.52138961e-01,  1.01379884,  0.42091941, -2.52754427e-06)\n",
      " (4.68763028e-01,  0.5157269 ,  0.37373128,  4.72355646e-06)\n",
      " (3.92331200e-01, -1.03400587, -1.27709571, -4.89907260e-06)\n",
      " (1.34537177e-01, -1.57390938, -1.06096089,  4.57118622e-06)\n",
      " (7.41050128e-01, -1.33525356, -0.41073306,  1.09892604e-05)\n",
      " (2.11062498e-01, -1.30328425, -0.06927433, -5.37820458e-06)\n",
      " (9.34054621e-01, -1.1268825 , -0.31117302, -8.84084776e-06)\n",
      " (1.07607357e+00, -1.13485364, -0.44567455,  6.82346283e-06)\n",
      " (8.42761532e-01, -1.06798846, -0.10791756, -7.52939323e-06)\n",
      " (1.83994341e-01, -0.76095557, -0.25801075,  5.79061178e-06)\n",
      " (5.18104742e-01, -0.86062188, -0.43612083, -4.91640097e-06)\n",
      " (4.65326400e-01, -1.06062119, -0.24758863,  4.83703949e-06)\n",
      " (1.07268974e+00, -0.99952133, -0.04703207,  1.14168765e-05)\n",
      " (7.67867900e-02, -0.92375141, -0.51547214,  3.12278362e-06)\n",
      " (6.44343841e-01, -0.88344272, -0.19891089, -3.77611419e-06)\n",
      " (2.68536544e-01, -0.65470948,  0.03127068,  5.38781049e-06)\n",
      " (4.26541923e-01, -1.20916761, -0.42105219,  1.79408991e-06)\n",
      " (1.38719136e+00, -1.12948528, -0.26456096, -1.78074799e-05)\n",
      " (4.55999744e-02, -0.84827459, -1.47174306,  2.17657777e-06)\n",
      " (3.29191040e-01, -0.95732622, -0.31146132, -4.23501120e-06)\n",
      " (1.50024656e+00, -1.22876984, -0.25447103, -1.71100633e-05)\n",
      " (1.19682124e+00, -1.16095194, -0.17998109,  8.55399338e-06)\n",
      " (3.22386605e-01,  0.42216479, -0.75137309, -4.67084260e-06)\n",
      " (4.24869728e-01,  0.15895574, -0.49903616,  2.57199395e-06)\n",
      " (5.86933746e+00,  0.174679  , -0.23816837,  2.26270097e-05)\n",
      " (3.16399732e-01,  0.16020731, -0.14014149,  2.58897759e-06)\n",
      " (1.24419456e+01,  0.22165297, -0.25088752, -4.35216774e-05)\n",
      " (3.26232271e+01,  0.22738882, -0.24742526,  3.67443177e-05)\n",
      " (1.43155723e-01,  0.30885911, -0.43511525, -4.16747486e-06)\n",
      " (5.88084546e+00,  0.23470025, -0.30798796,  2.09864222e-05)\n",
      " (1.57570669e+01,  0.2217438 , -0.25093592,  5.44513795e-05)\n",
      " (1.30695980e+01,  0.21415518, -0.25649324, -3.45834347e-05)\n",
      " (7.02636495e+00, -0.88517835,  2.90344842, -3.21460841e-05)\n",
      " (2.94996651e+01, -0.88535859,  2.91282224,  1.03485748e-05)\n",
      " (2.36769403e+01, -0.88383354,  2.91667936,  1.39569976e-01)\n",
      " (9.87215307e+00, -0.86394275,  2.90054473,  1.39570000e-01)\n",
      " (2.60755631e+00, -0.80879506,  2.84560128,  1.03783994e-05)\n",
      " (1.34972497e+01, -0.82232583,  2.82730912, -4.52417708e-05)\n",
      " (2.22603503e-01, -0.66850034,  3.06172863, -5.20664463e-06)\n",
      " (3.90260006e-01, -0.96459905,  2.71150299, -5.02845199e-06)\n",
      " (1.58375780e+00, -0.78371877,  2.83057883, -1.68854025e-05)\n",
      " (1.08155257e+00, -0.8858453 ,  2.81651836, -6.47170314e-06)\n",
      " (6.99016890e-01, -0.8754228 ,  2.94172013, -6.76120382e-06)\n",
      " (1.34876600e-01, -0.47656481,  3.12095666, -5.14308201e-06)\n",
      " (1.76973179e+00, -0.79010273,  2.89740684, -2.00263180e-05)\n",
      " (1.18530754e-01, -0.92255796, -3.12179015, -1.48194581e-06)\n",
      " (2.94345465e-01, -0.4800854 ,  2.57404266, -6.55265221e-06)\n",
      " (1.05272694e+00, -0.4400196 ,  2.81376674,  1.48735685e-06)\n",
      " (5.75471313e-02,  2.55092876, -1.41669803,  6.91142458e-06)\n",
      " (9.35607673e-02,  2.12965154,  2.64980311, -5.57767900e-06)\n",
      " (1.36328539e-01,  1.53361682, -0.49502455, -4.12603272e-06)\n",
      " (5.33300346e-03, -1.74455796, -1.21392756,  1.50173070e-06)\n",
      " (1.56884088e-02,  0.26940868,  2.62043043,  1.57087034e-06)\n",
      " (1.50933954e-01,  2.00773403, -0.9355277 ,  5.70983351e-06)\n",
      " (3.19579819e-01,  3.39098475,  0.25336841,  1.90665001e-05)\n",
      " (1.63808289e-01,  3.92421776,  0.49246767, -2.14031308e-05)\n",
      " (2.94243529e-01,  5.70976004, -1.2953734 ,  3.82184313e-05)\n",
      " (1.40305112e-02,  4.70068958,  0.98672496, -5.50238366e-06)\n",
      " (1.27105775e-01,  5.09860149, -2.63983695, -7.72840361e-06)\n",
      " (2.28519832e-01,  5.2029127 ,  2.83655007, -3.92985858e-05)\n",
      " (1.53138087e-01,  5.16694691,  1.91529863,  3.87523713e-05)\n",
      " (4.27694634e-02,  5.25984837, -2.40018241,  9.13838540e-06)\n",
      " (1.92483841e-01,  5.02367322, -1.68037013, -3.32078654e-06)\n",
      " (1.07670707e+00,  4.93668383, -1.96477046,  9.04030939e-05)\n",
      " (1.74646503e-03,  4.891581  ,  0.17766434,  3.41588376e-06)\n",
      " (4.92265692e-01,  1.8272707 ,  1.61102506,  1.36674763e-05)\n",
      " (3.05119006e-01,  0.08585456,  1.05752909, -4.65408048e-06)\n",
      " (1.66106760e-01, -0.04446073,  0.46362083,  1.21839633e-06)\n",
      " (5.08892334e-03, -0.41908417,  3.09668063, -4.60132145e-07)\n",
      " (2.03727771e-01,  2.33286818,  0.36202505, -6.87554175e-06)\n",
      " (1.90959134e-01,  3.41620125,  0.35668124,  1.69443960e-05)\n",
      " (2.05934339e-01,  3.37707425, -0.33666508,  1.66833922e-05)\n",
      " (2.20962514e-02,  5.85112968,  0.82301781, -1.50224991e-05)\n",
      " (1.97459489e-01,  4.7089406 , -1.11769985,  2.06689795e-05)\n",
      " (1.36845085e-02,  6.81954684,  0.60312817,  2.83575323e-05)\n",
      " (2.19607387e-01,  5.40365168, -1.98343663, -4.33121982e-05)\n",
      " (6.13046470e-02,  7.28041169,  2.34495878,  3.39627245e-05)\n",
      " (6.66772078e-02,  7.94575028, -0.84122037,  7.35257540e-05)\n",
      " (4.02050143e-01, -7.27380609,  0.16837818,  1.94437331e-04)\n",
      " (5.70968885e-02, -8.12606625,  0.31781741, -6.12879525e-05)\n",
      " (4.31452553e-02, -5.49986962, -1.8866636 ,  1.11272469e-05)\n",
      " (3.06703795e-02, -8.25350829, -1.81487624,  8.62903999e-05)\n",
      " (9.01496491e-01, -8.00115422,  1.88791834,  9.39570026e-01)\n",
      " (3.67114212e-02, -4.35681679,  2.20521086, -1.00701426e-05)\n",
      " (1.49115572e-01, -4.03041013, -1.85064451,  1.42800091e-05)\n",
      " (1.97893267e-02, -7.54242519, -1.56998153, -3.27398282e-05)\n",
      " (1.64468203e-01, -5.5324173 , -1.59334412,  4.74111396e-05)\n",
      " (1.88156689e-01,  0.27089698,  0.13499929,  1.64580273e-06)\n",
      " (1.23418956e-01, -0.27219937, -0.5742554 ,  4.11916847e-06)\n",
      " (5.18017864e-01, -0.0966173 ,  0.44643816,  6.87325651e-06)\n",
      " (1.93565768e-01,  0.25863861,  0.21317648, -3.90872789e-06)\n",
      " (5.90425534e-02, -0.95966061,  1.11270916,  3.39467423e-06)\n",
      " (1.63617088e-01,  0.01447667,  0.14865253, -4.09017705e-06)\n",
      " (3.56745057e-01,  3.9642479 ,  0.03501244,  1.39569997e-01)\n",
      " (7.10001242e-01,  3.86016235, -0.78279863,  1.39570000e-01)\n",
      " (1.58999306e-01, -7.3104503 ,  2.64533771,  8.15042901e-05)\n",
      " (1.12632924e-02, -9.48923227, -1.40785254, -2.76401076e-05)]\n"
     ]
    },
    {
     "data": {
      "image/png": "[encoded data removed]",
      "text/plain": [
       "<Figure size 648x216 with 3 Axes>"
      ]
     },
     "metadata": {
      "needs_background": "light"
     },
     "output_type": "display_data"
    }
   ],
   "source": [
    "from pyjet import cluster, DTYPE_PTEPM\n",
    "from pyjet.testdata import get_event\n",
    "import matplotlib.pyplot as plt\n",
    "from matplotlib.pyplot import cm\n",
    "from matplotlib.colors import LinearSegmentedColormap\n",
    "\n",
    "# define eta and phi ranges and number of bins along each axis\n",
    "eta_min, eta_max = -4., 4.\n",
    "extent = eta_min, eta_max, -np.pi, np.pi\n",
    "bins = 200\n",
    "\n",
    "event = get_event()\n",
    "print(event)\n",
    "# create regular grid of ghosts\n",
    "eta_edges = np.linspace(eta_min, eta_max, bins + 1)\n",
    "phi_edges = np.linspace(-np.pi, np.pi, bins + 1)\n",
    "eta = np.linspace(eta_min, eta_max, bins + 1)[:-1] + (eta_max - eta_min) / (2 * bins)\n",
    "phi = np.linspace(-np.pi, np.pi, bins + 1)[:-1] + (np.pi / bins)\n",
    "X, Y = np.meshgrid(eta, phi)\n",
    "ghosts = np.zeros(eta.shape[0] * phi.shape[0], dtype=DTYPE_PTEPM)\n",
    "ghosts['pT'] = 1e-8\n",
    "ghosts['eta'] = X.ravel()\n",
    "ghosts['phi'] = Y.ravel()\n",
    "\n",
    "# add ghosts to the event\n",
    "event = np.concatenate([event, ghosts], axis=0)\n",
    "\n",
    "fig = plt.figure(figsize=(9, 3))\n",
    "\n",
    "ax = None\n",
    "for p, label in zip((-1, 0, 1), (r'anti-$k_t$', 'Cam/Aachen', '$k_t$')):\n",
    "    # cluster\n",
    "    sequence = cluster(event, R=1.0, p=p)\n",
    "    jets = sequence.inclusive_jets(ptmin=10)\n",
    "\n",
    "    # pick a different color for each jet\n",
    "    colors = cm.rainbow(np.linspace(0, 1, len(jets)))\n",
    "    cmap = LinearSegmentedColormap.from_list('cmap', colors, len(colors))\n",
    "    ax = fig.add_subplot(1, 3, p + 2, sharey=ax)\n",
    "    area = np.zeros((eta_edges.shape[0] - 1, phi_edges.shape[0] - 1),\n",
    "                    dtype=np.float64)\n",
    "    for ijet, jet in enumerate(jets):\n",
    "        constit = jet.constituents_array()\n",
    "        jetarea, _, _ = np.histogram2d(constit['eta'], constit['phi'],\n",
    "                                       bins=(eta_edges, phi_edges))\n",
    "        area += (jetarea > 0) * (ijet + 1)\n",
    "\n",
    "    # plot all areas\n",
    "    ax.imshow(np.ma.masked_where(area == 0, area).T, cmap=cmap,\n",
    "              extent=extent, aspect=(eta_max - eta_min) / (2*np.pi),\n",
    "              interpolation='none', origin='lower')\n",
    "\n",
    "    # overlay original event\n",
    "    particles = get_event()\n",
    "    ax.scatter(particles['eta'], particles['phi'],\n",
    "               s=30 * particles['pT'] / particles['pT'].max())\n",
    "    ax.set_xlim(extent[:2])\n",
    "    ax.set_ylim(extent[2:])\n",
    "    if p == -1:\n",
    "        ax.set_ylabel(r'$\\phi$')\n",
    "        ax.set_xlabel(r'$\\eta$')\n",
    "\n",
    "    ax.text(0.95, 0.05, label,\n",
    "        verticalalignment='bottom', horizontalalignment='right',\n",
    "        transform=ax.transAxes,\n",
    "        fontsize=12)\n",
    "\n",
    "fig.subplots_adjust(hspace=0)\n",
    "plt.setp([a.get_yticklabels() for a in fig.axes[1:]], visible=False)\n",
    "fig.tight_layout()"
   ]
  },
  {
   "cell_type": "markdown",
   "metadata": {},
   "source": [
    "### Single Event Exploration"
   ]
  },
  {
   "cell_type": "code",
   "execution_count": 128,
   "metadata": {},
   "outputs": [],
   "source": [
    "loaded_event = torch.load('/global/cscratch1/sd/danieltm/ExaTrkX/trackml-codalab/feature_store_endcaps_SMALLTEST/21547', map_location=\"cpu\")"
   ]
  },
  {
   "cell_type": "code",
   "execution_count": 137,
   "metadata": {},
   "outputs": [],
   "source": [
    "eta = calc_eta(loaded_event.x)\n",
    "phi = loaded_event.x[:, 1]\n",
    "pts = fetch_pt(loaded_event)\n",
    "types = fetch_type(loaded_event)"
   ]
  },
  {
   "cell_type": "code",
   "execution_count": 133,
   "metadata": {},
   "outputs": [
    {
     "data": {
      "text/plain": [
       "73769"
      ]
     },
     "execution_count": 133,
     "metadata": {},
     "output_type": "execute_result"
    }
   ],
   "source": [
    "(pts < 1).sum()"
   ]
  },
  {
   "cell_type": "markdown",
   "metadata": {},
   "source": [
    "Create dictionary of masses, given\n",
    "\n",
    "| Code | Particle | Mass (GeV) |\n",
    "| -- | -- | --- |\n",
    "| 11 | Electron | 5.10999e-4 |\n",
    "| 13 | Muon | 1.05658e-1 |\n",
    "| 211 | Pion | 1.3957018e-1 |\n",
    "| 321 | Kaon | 4.93677e-1 |\n",
    "| 2212 | Proton | 9.3827e-1 |"
   ]
  },
  {
   "cell_type": "code",
   "execution_count": 138,
   "metadata": {},
   "outputs": [],
   "source": [
    "mass_dict = {11: 5.10999e-4, \n",
    "             -11: 5.10999e-4, \n",
    "             13: 1.05658e-1, \n",
    "             -13: 1.05658e-1, \n",
    "             211: 1.3957018e-1, \n",
    "             -211: 1.3957018e-1, \n",
    "             321: 4.93677e-1, \n",
    "             -321: 4.93677e-1, \n",
    "             2212: 9.3827e-1, \n",
    "             -2212: 9.3827e-1}"
   ]
  },
  {
   "cell_type": "code",
   "execution_count": 139,
   "metadata": {},
   "outputs": [],
   "source": [
    "masses = np.array([mass_dict[type_i] for type_i in types])"
   ]
  },
  {
   "cell_type": "code",
   "execution_count": 110,
   "metadata": {},
   "outputs": [],
   "source": [
    "vectors = np.vstack([pts, eta, phi, masses])"
   ]
  },
  {
   "cell_type": "code",
   "execution_count": 111,
   "metadata": {},
   "outputs": [],
   "source": [
    "dtype = [('pT', 'f8'), ('eta', 'f8'), ('phi', 'f8'), ('mass', 'f8')]"
   ]
  },
  {
   "cell_type": "code",
   "execution_count": 92,
   "metadata": {},
   "outputs": [],
   "source": [
    "vectors = np.array(list(zip(*vectors)), dtype=dtype)"
   ]
  },
  {
   "cell_type": "code",
   "execution_count": 64,
   "metadata": {},
   "outputs": [],
   "source": [
    "sequence = cluster(vectors, R=1.0, p=-1)\n",
    "jets = sequence.inclusive_jets()  # list of PseudoJets\n",
    "exclusivejets = sequence.exclusive_jets(3)  # Find the cluster history when there are 3 jets"
   ]
  },
  {
   "cell_type": "code",
   "execution_count": 140,
   "metadata": {},
   "outputs": [],
   "source": [
    "from pyjet import cluster, DTYPE_PTEPM\n",
    "from pyjet.testdata import get_event\n",
    "import matplotlib.pyplot as plt\n",
    "from matplotlib.pyplot import cm\n",
    "from matplotlib.colors import LinearSegmentedColormap\n",
    "\n",
    "# define eta and phi ranges and number of bins along each axis\n",
    "eta_min, eta_max = -4., 4.\n",
    "extent = eta_min, eta_max, -np.pi, np.pi\n",
    "bins = 200\n",
    "\n",
    "vectors = np.vstack([pts, eta, phi, masses])\n",
    "dtype = [('pT', 'f8'), ('eta', 'f8'), ('phi', 'f8'), ('mass', 'f8')]\n",
    "event = np.array(list(zip(*vectors)), dtype=dtype)"
   ]
  },
  {
   "cell_type": "code",
   "execution_count": 141,
   "metadata": {},
   "outputs": [],
   "source": [
    "# create regular grid of ghosts\n",
    "eta_edges = np.linspace(eta_min, eta_max, bins + 1)\n",
    "phi_edges = np.linspace(-np.pi, np.pi, bins + 1)\n",
    "eta = np.linspace(eta_min, eta_max, bins + 1)[:-1] + (eta_max - eta_min) / (2 * bins)\n",
    "phi = np.linspace(-np.pi, np.pi, bins + 1)[:-1] + (np.pi / bins)\n",
    "X, Y = np.meshgrid(eta, phi)\n",
    "ghosts = np.zeros(eta.shape[0] * phi.shape[0], dtype=DTYPE_PTEPM)\n",
    "ghosts['pT'] = 1e-8\n",
    "ghosts['eta'] = X.ravel()\n",
    "ghosts['phi'] = Y.ravel()"
   ]
  },
  {
   "cell_type": "code",
   "execution_count": 142,
   "metadata": {},
   "outputs": [
    {
     "data": {
      "text/plain": [
       "array([(0.10988694,  1.98613894,  0.26886129, 0.93827   ),\n",
       "       (0.22541498,  3.23709583, -0.94964838, 0.13957018),\n",
       "       (0.22465253, -0.56972402, -0.08642769, 0.13957018), ...,\n",
       "       (0.24869327,  2.17174935,  0.24982309, 0.93827   ),\n",
       "       (0.24769624,  2.17809844,  0.24891607, 0.93827   ),\n",
       "       (0.29983246,  1.32959068, -0.52913904, 0.13957018)],\n",
       "      dtype=[('pT', '<f8'), ('eta', '<f8'), ('phi', '<f8'), ('mass', '<f8')])"
      ]
     },
     "execution_count": 142,
     "metadata": {},
     "output_type": "execute_result"
    }
   ],
   "source": [
    "event"
   ]
  },
  {
   "cell_type": "code",
   "execution_count": 143,
   "metadata": {},
   "outputs": [
    {
     "data": {
      "text/plain": [
       "array([(1.e-08, -3.98, -3.12588469, 0.), (1.e-08, -3.94, -3.12588469, 0.),\n",
       "       (1.e-08, -3.9 , -3.12588469, 0.), ...,\n",
       "       (1.e-08,  3.9 ,  3.12588469, 0.), (1.e-08,  3.94,  3.12588469, 0.),\n",
       "       (1.e-08,  3.98,  3.12588469, 0.)],\n",
       "      dtype=[('pT', '<f8'), ('eta', '<f8'), ('phi', '<f8'), ('mass', '<f8')])"
      ]
     },
     "execution_count": 143,
     "metadata": {},
     "output_type": "execute_result"
    }
   ],
   "source": [
    "ghosts"
   ]
  },
  {
   "cell_type": "code",
   "execution_count": 144,
   "metadata": {},
   "outputs": [],
   "source": [
    "# add ghosts to the event\n",
    "event = np.concatenate([event, ghosts], axis=0)\n",
    "\n"
   ]
  },
  {
   "cell_type": "code",
   "execution_count": 145,
   "metadata": {},
   "outputs": [
    {
     "data": {
      "image/png": "[encoded data removed]",
      "text/plain": [
       "<Figure size 648x216 with 3 Axes>"
      ]
     },
     "metadata": {
      "needs_background": "light"
     },
     "output_type": "display_data"
    }
   ],
   "source": [
    "fig = plt.figure(figsize=(9, 3))\n",
    "\n",
    "ax = None\n",
    "for p, label in zip((-1, 0, 1), (r'anti-$k_t$', 'Cam/Aachen', '$k_t$')):\n",
    "    # cluster\n",
    "    sequence = cluster(event, R=0.4, p=p)\n",
    "    jets = sequence.inclusive_jets(ptmin=10)\n",
    "\n",
    "    # pick a different color for each jet\n",
    "    colors = cm.rainbow(np.linspace(0, 1, len(jets)))\n",
    "    cmap = LinearSegmentedColormap.from_list('cmap', colors, len(colors))\n",
    "    ax = fig.add_subplot(1, 3, p + 2, sharey=ax)\n",
    "    area = np.zeros((eta_edges.shape[0] - 1, phi_edges.shape[0] - 1),\n",
    "                    dtype=np.float64)\n",
    "    for ijet, jet in enumerate(jets):\n",
    "        constit = jet.constituents_array()\n",
    "        jetarea, _, _ = np.histogram2d(constit['eta'], constit['phi'],\n",
    "                                       bins=(eta_edges, phi_edges))\n",
    "        area += (jetarea > 0) * (ijet + 1)\n",
    "\n",
    "    # plot all areas\n",
    "    ax.imshow(np.ma.masked_where(area == 0, area).T, cmap=cmap,\n",
    "              extent=extent, aspect=(eta_max - eta_min) / (2*np.pi),\n",
    "              interpolation='none', origin='lower')\n",
    "\n",
    "    # overlay original event\n",
    "    particles = get_event()\n",
    "    ax.scatter(particles['eta'], particles['phi'],\n",
    "               s=30 * particles['pT'] / particles['pT'].max())\n",
    "    ax.set_xlim(extent[:2])\n",
    "    ax.set_ylim(extent[2:])\n",
    "    if p == -1:\n",
    "        ax.set_ylabel(r'$\\phi$')\n",
    "        ax.set_xlabel(r'$\\eta$')\n",
    "\n",
    "    ax.text(0.95, 0.05, label,\n",
    "        verticalalignment='bottom', horizontalalignment='right',\n",
    "        transform=ax.transAxes,\n",
    "        fontsize=12)\n",
    "\n",
    "fig.subplots_adjust(hspace=0)\n",
    "plt.setp([a.get_yticklabels() for a in fig.axes[1:]], visible=False)\n",
    "fig.tight_layout()"
   ]
  },
  {
   "cell_type": "code",
   "execution_count": null,
   "metadata": {},
   "outputs": [],
   "source": []
  }
 ],
 "metadata": {
  "kernelspec": {
   "display_name": "ExatrkxTest",
   "language": "python",
   "name": "exatrkx-test"
  },
  "language_info": {
   "codemirror_mode": {
    "name": "ipython",
    "version": 3
   },
   "file_extension": ".py",
   "mimetype": "text/x-python",
   "name": "python",
   "nbconvert_exporter": "python",
   "pygments_lexer": "ipython3",
   "version": "3.7.7"
  }
 },
 "nbformat": 4,
 "nbformat_minor": 4
}
