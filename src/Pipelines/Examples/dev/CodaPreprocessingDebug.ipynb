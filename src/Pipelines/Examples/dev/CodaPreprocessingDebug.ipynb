{
 "cells": [
  {
   "cell_type": "code",
   "execution_count": 1,
   "metadata": {},
   "outputs": [],
   "source": [
    "%load_ext autoreload\n",
    "%autoreload 2"
   ]
  },
  {
   "cell_type": "code",
   "execution_count": 2,
   "metadata": {},
   "outputs": [],
   "source": [
    "# System imports\n",
    "import os\n",
    "import sys\n",
    "from pprint import pprint as pp\n",
    "from time import time as tt\n",
    "import inspect\n",
    "import importlib\n",
    "\n",
    "# External imports\n",
    "import matplotlib.pyplot as plt\n",
    "import matplotlib.colors\n",
    "import scipy as sp\n",
    "from sklearn.decomposition import PCA\n",
    "from sklearn.metrics import auc\n",
    "import numpy as np\n",
    "import pandas as pd\n",
    "import seaborn as sns\n",
    "import torch\n",
    "from torch_geometric.data import DataLoader, Data\n",
    "from mpl_toolkits.mplot3d import Axes3D\n",
    "\n",
    "from itertools import chain\n",
    "from random import shuffle, sample\n",
    "\n",
    "from torch.nn import Linear\n",
    "import torch.nn.functional as F\n",
    "from torch_scatter import scatter, segment_csr, scatter_add\n",
    "from torch_geometric.nn.conv import MessagePassing\n",
    "from torch_cluster import knn_graph, radius_graph\n",
    "import trackml.dataset\n",
    "import torch_geometric\n",
    "\n",
    "sys.path.append('..')\n",
    "device = \"cuda\" if torch.cuda.is_available() else \"cpu\""
   ]
  },
  {
   "cell_type": "markdown",
   "metadata": {
    "heading_collapsed": true
   },
   "source": [
    "# Initial Exploration"
   ]
  },
  {
   "cell_type": "code",
   "execution_count": 7,
   "metadata": {
    "hidden": true
   },
   "outputs": [],
   "source": [
    "from LightningModules.Processing.utils.detector_utils import load_detector, Detector_Thicknesses, Detector_Rotations, Detector_Pixel_Size"
   ]
  },
  {
   "cell_type": "code",
   "execution_count": 29,
   "metadata": {
    "hidden": true,
    "scrolled": true
   },
   "outputs": [],
   "source": [
    "detector_path = \"/global/cscratch1/sd/danieltm/ExaTrkX/trackml-codalab/detector.csv\""
   ]
  },
  {
   "cell_type": "code",
   "execution_count": 30,
   "metadata": {
    "hidden": true
   },
   "outputs": [],
   "source": [
    "detector = pd.read_csv(detector_path)"
   ]
  },
  {
   "cell_type": "code",
   "execution_count": 8,
   "metadata": {
    "hidden": true
   },
   "outputs": [
    {
     "name": "stdout",
     "output_type": "stream",
     "text": [
      "  Extracting thicknesses...\n",
      "  Done.\n",
      "  Extracting rotations...\n",
      "  Done.\n"
     ]
    }
   ],
   "source": [
    "thicknesses = Detector_Thicknesses(detector).get_thicknesses()\n",
    "rotations = Detector_Rotations(detector).get_rotations()"
   ]
  },
  {
   "cell_type": "code",
   "execution_count": 31,
   "metadata": {
    "hidden": true,
    "scrolled": true
   },
   "outputs": [],
   "source": [
    "detector_path = \"/global/cscratch1/sd/danieltm/ExaTrkX/trackml/detectors.csv\""
   ]
  },
  {
   "cell_type": "code",
   "execution_count": 32,
   "metadata": {
    "hidden": true
   },
   "outputs": [],
   "source": [
    "detectors = pd.read_csv(detector_path)"
   ]
  },
  {
   "cell_type": "code",
   "execution_count": 15,
   "metadata": {
    "hidden": true
   },
   "outputs": [
    {
     "name": "stdout",
     "output_type": "stream",
     "text": [
      "  Extracting thicknesses...\n",
      "  Done.\n",
      "  Extracting rotations...\n",
      "  Done.\n"
     ]
    }
   ],
   "source": [
    "thicknesses = Detector_Thicknesses(detector).get_thicknesses()\n",
    "rotations = Detector_Rotations(detector).get_rotations()"
   ]
  },
  {
   "cell_type": "code",
   "execution_count": 34,
   "metadata": {
    "hidden": true
   },
   "outputs": [],
   "source": [
    "detector = detector.rename(columns={\"module_minhx\": \"module_minhu\", \"module_maxhx\": \"module_maxhu\", \"module_hy\": \"module_hv\", \"pitchX\": \"pitch_u\", \"pitchY\": \"pitch_v\"})"
   ]
  },
  {
   "cell_type": "code",
   "execution_count": 35,
   "metadata": {
    "hidden": true
   },
   "outputs": [
    {
     "data": {
      "text/html": [
       "<div>\n",
       "<style scoped>\n",
       "    .dataframe tbody tr th:only-of-type {\n",
       "        vertical-align: middle;\n",
       "    }\n",
       "\n",
       "    .dataframe tbody tr th {\n",
       "        vertical-align: top;\n",
       "    }\n",
       "\n",
       "    .dataframe thead th {\n",
       "        text-align: right;\n",
       "    }\n",
       "</style>\n",
       "<table border=\"1\" class=\"dataframe\">\n",
       "  <thead>\n",
       "    <tr style=\"text-align: right;\">\n",
       "      <th></th>\n",
       "      <th>volume_id</th>\n",
       "      <th>layer_id</th>\n",
       "      <th>module_id</th>\n",
       "      <th>cx</th>\n",
       "      <th>cy</th>\n",
       "      <th>cz</th>\n",
       "      <th>rot_xu</th>\n",
       "      <th>rot_xv</th>\n",
       "      <th>rot_xw</th>\n",
       "      <th>rot_yu</th>\n",
       "      <th>...</th>\n",
       "      <th>rot_yw</th>\n",
       "      <th>rot_zu</th>\n",
       "      <th>rot_zv</th>\n",
       "      <th>rot_zw</th>\n",
       "      <th>module_t</th>\n",
       "      <th>module_minhu</th>\n",
       "      <th>module_maxhu</th>\n",
       "      <th>module_hv</th>\n",
       "      <th>pitch_u</th>\n",
       "      <th>pitch_v</th>\n",
       "    </tr>\n",
       "  </thead>\n",
       "  <tbody>\n",
       "    <tr>\n",
       "      <th>0</th>\n",
       "      <td>7</td>\n",
       "      <td>2</td>\n",
       "      <td>1</td>\n",
       "      <td>-65.7965</td>\n",
       "      <td>-5.17830</td>\n",
       "      <td>-1502.5</td>\n",
       "      <td>0.078459</td>\n",
       "      <td>-0.996917</td>\n",
       "      <td>0.0</td>\n",
       "      <td>-0.996917</td>\n",
       "      <td>...</td>\n",
       "      <td>0.0</td>\n",
       "      <td>0</td>\n",
       "      <td>0</td>\n",
       "      <td>-1</td>\n",
       "      <td>0.15</td>\n",
       "      <td>8.4</td>\n",
       "      <td>8.4</td>\n",
       "      <td>36</td>\n",
       "      <td>0.05</td>\n",
       "      <td>0.05625</td>\n",
       "    </tr>\n",
       "    <tr>\n",
       "      <th>1</th>\n",
       "      <td>7</td>\n",
       "      <td>2</td>\n",
       "      <td>2</td>\n",
       "      <td>-139.8510</td>\n",
       "      <td>-6.46568</td>\n",
       "      <td>-1502.0</td>\n",
       "      <td>0.046183</td>\n",
       "      <td>-0.998933</td>\n",
       "      <td>0.0</td>\n",
       "      <td>-0.998933</td>\n",
       "      <td>...</td>\n",
       "      <td>0.0</td>\n",
       "      <td>0</td>\n",
       "      <td>0</td>\n",
       "      <td>-1</td>\n",
       "      <td>0.15</td>\n",
       "      <td>8.4</td>\n",
       "      <td>8.4</td>\n",
       "      <td>36</td>\n",
       "      <td>0.05</td>\n",
       "      <td>0.05625</td>\n",
       "    </tr>\n",
       "    <tr>\n",
       "      <th>2</th>\n",
       "      <td>7</td>\n",
       "      <td>2</td>\n",
       "      <td>3</td>\n",
       "      <td>-138.6570</td>\n",
       "      <td>-19.34190</td>\n",
       "      <td>-1498.0</td>\n",
       "      <td>0.138156</td>\n",
       "      <td>-0.990410</td>\n",
       "      <td>0.0</td>\n",
       "      <td>-0.990410</td>\n",
       "      <td>...</td>\n",
       "      <td>0.0</td>\n",
       "      <td>0</td>\n",
       "      <td>0</td>\n",
       "      <td>-1</td>\n",
       "      <td>0.15</td>\n",
       "      <td>8.4</td>\n",
       "      <td>8.4</td>\n",
       "      <td>36</td>\n",
       "      <td>0.05</td>\n",
       "      <td>0.05625</td>\n",
       "    </tr>\n",
       "    <tr>\n",
       "      <th>3</th>\n",
       "      <td>7</td>\n",
       "      <td>2</td>\n",
       "      <td>4</td>\n",
       "      <td>-64.1764</td>\n",
       "      <td>-15.40740</td>\n",
       "      <td>-1498.0</td>\n",
       "      <td>0.233445</td>\n",
       "      <td>-0.972370</td>\n",
       "      <td>0.0</td>\n",
       "      <td>-0.972370</td>\n",
       "      <td>...</td>\n",
       "      <td>0.0</td>\n",
       "      <td>0</td>\n",
       "      <td>0</td>\n",
       "      <td>-1</td>\n",
       "      <td>0.15</td>\n",
       "      <td>8.4</td>\n",
       "      <td>8.4</td>\n",
       "      <td>36</td>\n",
       "      <td>0.05</td>\n",
       "      <td>0.05625</td>\n",
       "    </tr>\n",
       "    <tr>\n",
       "      <th>4</th>\n",
       "      <td>7</td>\n",
       "      <td>2</td>\n",
       "      <td>5</td>\n",
       "      <td>-136.2810</td>\n",
       "      <td>-32.05310</td>\n",
       "      <td>-1502.0</td>\n",
       "      <td>0.228951</td>\n",
       "      <td>-0.973438</td>\n",
       "      <td>0.0</td>\n",
       "      <td>-0.973438</td>\n",
       "      <td>...</td>\n",
       "      <td>0.0</td>\n",
       "      <td>0</td>\n",
       "      <td>0</td>\n",
       "      <td>-1</td>\n",
       "      <td>0.15</td>\n",
       "      <td>8.4</td>\n",
       "      <td>8.4</td>\n",
       "      <td>36</td>\n",
       "      <td>0.05</td>\n",
       "      <td>0.05625</td>\n",
       "    </tr>\n",
       "    <tr>\n",
       "      <th>...</th>\n",
       "      <td>...</td>\n",
       "      <td>...</td>\n",
       "      <td>...</td>\n",
       "      <td>...</td>\n",
       "      <td>...</td>\n",
       "      <td>...</td>\n",
       "      <td>...</td>\n",
       "      <td>...</td>\n",
       "      <td>...</td>\n",
       "      <td>...</td>\n",
       "      <td>...</td>\n",
       "      <td>...</td>\n",
       "      <td>...</td>\n",
       "      <td>...</td>\n",
       "      <td>...</td>\n",
       "      <td>...</td>\n",
       "      <td>...</td>\n",
       "      <td>...</td>\n",
       "      <td>...</td>\n",
       "      <td>...</td>\n",
       "      <td>...</td>\n",
       "    </tr>\n",
       "    <tr>\n",
       "      <th>18723</th>\n",
       "      <td>18</td>\n",
       "      <td>12</td>\n",
       "      <td>94</td>\n",
       "      <td>-895.8950</td>\n",
       "      <td>291.09400</td>\n",
       "      <td>2952.5</td>\n",
       "      <td>0.309017</td>\n",
       "      <td>-0.951057</td>\n",
       "      <td>0.0</td>\n",
       "      <td>0.951057</td>\n",
       "      <td>...</td>\n",
       "      <td>0.0</td>\n",
       "      <td>0</td>\n",
       "      <td>0</td>\n",
       "      <td>1</td>\n",
       "      <td>0.35</td>\n",
       "      <td>66.0</td>\n",
       "      <td>72.0</td>\n",
       "      <td>78</td>\n",
       "      <td>0.12</td>\n",
       "      <td>10.40000</td>\n",
       "    </tr>\n",
       "    <tr>\n",
       "      <th>18724</th>\n",
       "      <td>18</td>\n",
       "      <td>12</td>\n",
       "      <td>95</td>\n",
       "      <td>-812.0900</td>\n",
       "      <td>161.53500</td>\n",
       "      <td>2947.5</td>\n",
       "      <td>0.195090</td>\n",
       "      <td>-0.980785</td>\n",
       "      <td>0.0</td>\n",
       "      <td>0.980785</td>\n",
       "      <td>...</td>\n",
       "      <td>0.0</td>\n",
       "      <td>0</td>\n",
       "      <td>0</td>\n",
       "      <td>1</td>\n",
       "      <td>0.35</td>\n",
       "      <td>54.0</td>\n",
       "      <td>64.2</td>\n",
       "      <td>78</td>\n",
       "      <td>0.12</td>\n",
       "      <td>10.40000</td>\n",
       "    </tr>\n",
       "    <tr>\n",
       "      <th>18725</th>\n",
       "      <td>18</td>\n",
       "      <td>12</td>\n",
       "      <td>96</td>\n",
       "      <td>-925.3150</td>\n",
       "      <td>176.51300</td>\n",
       "      <td>2955.5</td>\n",
       "      <td>0.187381</td>\n",
       "      <td>-0.982287</td>\n",
       "      <td>0.0</td>\n",
       "      <td>0.982287</td>\n",
       "      <td>...</td>\n",
       "      <td>0.0</td>\n",
       "      <td>0</td>\n",
       "      <td>0</td>\n",
       "      <td>1</td>\n",
       "      <td>0.35</td>\n",
       "      <td>66.0</td>\n",
       "      <td>72.0</td>\n",
       "      <td>78</td>\n",
       "      <td>0.12</td>\n",
       "      <td>10.40000</td>\n",
       "    </tr>\n",
       "    <tr>\n",
       "      <th>18726</th>\n",
       "      <td>18</td>\n",
       "      <td>12</td>\n",
       "      <td>97</td>\n",
       "      <td>-826.2270</td>\n",
       "      <td>54.15380</td>\n",
       "      <td>2944.5</td>\n",
       "      <td>0.065403</td>\n",
       "      <td>-0.997859</td>\n",
       "      <td>0.0</td>\n",
       "      <td>0.997859</td>\n",
       "      <td>...</td>\n",
       "      <td>0.0</td>\n",
       "      <td>0</td>\n",
       "      <td>0</td>\n",
       "      <td>1</td>\n",
       "      <td>0.35</td>\n",
       "      <td>54.0</td>\n",
       "      <td>64.2</td>\n",
       "      <td>78</td>\n",
       "      <td>0.12</td>\n",
       "      <td>10.40000</td>\n",
       "    </tr>\n",
       "    <tr>\n",
       "      <th>18727</th>\n",
       "      <td>18</td>\n",
       "      <td>12</td>\n",
       "      <td>98</td>\n",
       "      <td>-940.1410</td>\n",
       "      <td>59.14870</td>\n",
       "      <td>2952.5</td>\n",
       "      <td>0.062790</td>\n",
       "      <td>-0.998027</td>\n",
       "      <td>0.0</td>\n",
       "      <td>0.998027</td>\n",
       "      <td>...</td>\n",
       "      <td>0.0</td>\n",
       "      <td>0</td>\n",
       "      <td>0</td>\n",
       "      <td>1</td>\n",
       "      <td>0.35</td>\n",
       "      <td>66.0</td>\n",
       "      <td>72.0</td>\n",
       "      <td>78</td>\n",
       "      <td>0.12</td>\n",
       "      <td>10.40000</td>\n",
       "    </tr>\n",
       "  </tbody>\n",
       "</table>\n",
       "<p>18728 rows × 21 columns</p>\n",
       "</div>"
      ],
      "text/plain": [
       "       volume_id  layer_id  module_id        cx         cy      cz    rot_xu  \\\n",
       "0              7         2          1  -65.7965   -5.17830 -1502.5  0.078459   \n",
       "1              7         2          2 -139.8510   -6.46568 -1502.0  0.046183   \n",
       "2              7         2          3 -138.6570  -19.34190 -1498.0  0.138156   \n",
       "3              7         2          4  -64.1764  -15.40740 -1498.0  0.233445   \n",
       "4              7         2          5 -136.2810  -32.05310 -1502.0  0.228951   \n",
       "...          ...       ...        ...       ...        ...     ...       ...   \n",
       "18723         18        12         94 -895.8950  291.09400  2952.5  0.309017   \n",
       "18724         18        12         95 -812.0900  161.53500  2947.5  0.195090   \n",
       "18725         18        12         96 -925.3150  176.51300  2955.5  0.187381   \n",
       "18726         18        12         97 -826.2270   54.15380  2944.5  0.065403   \n",
       "18727         18        12         98 -940.1410   59.14870  2952.5  0.062790   \n",
       "\n",
       "         rot_xv  rot_xw    rot_yu  ...  rot_yw  rot_zu  rot_zv  rot_zw  \\\n",
       "0     -0.996917     0.0 -0.996917  ...     0.0       0       0      -1   \n",
       "1     -0.998933     0.0 -0.998933  ...     0.0       0       0      -1   \n",
       "2     -0.990410     0.0 -0.990410  ...     0.0       0       0      -1   \n",
       "3     -0.972370     0.0 -0.972370  ...     0.0       0       0      -1   \n",
       "4     -0.973438     0.0 -0.973438  ...     0.0       0       0      -1   \n",
       "...         ...     ...       ...  ...     ...     ...     ...     ...   \n",
       "18723 -0.951057     0.0  0.951057  ...     0.0       0       0       1   \n",
       "18724 -0.980785     0.0  0.980785  ...     0.0       0       0       1   \n",
       "18725 -0.982287     0.0  0.982287  ...     0.0       0       0       1   \n",
       "18726 -0.997859     0.0  0.997859  ...     0.0       0       0       1   \n",
       "18727 -0.998027     0.0  0.998027  ...     0.0       0       0       1   \n",
       "\n",
       "       module_t  module_minhu  module_maxhu  module_hv  pitch_u   pitch_v  \n",
       "0          0.15           8.4           8.4         36     0.05   0.05625  \n",
       "1          0.15           8.4           8.4         36     0.05   0.05625  \n",
       "2          0.15           8.4           8.4         36     0.05   0.05625  \n",
       "3          0.15           8.4           8.4         36     0.05   0.05625  \n",
       "4          0.15           8.4           8.4         36     0.05   0.05625  \n",
       "...         ...           ...           ...        ...      ...       ...  \n",
       "18723      0.35          66.0          72.0         78     0.12  10.40000  \n",
       "18724      0.35          54.0          64.2         78     0.12  10.40000  \n",
       "18725      0.35          66.0          72.0         78     0.12  10.40000  \n",
       "18726      0.35          54.0          64.2         78     0.12  10.40000  \n",
       "18727      0.35          66.0          72.0         78     0.12  10.40000  \n",
       "\n",
       "[18728 rows x 21 columns]"
      ]
     },
     "execution_count": 35,
     "metadata": {},
     "output_type": "execute_result"
    }
   ],
   "source": [
    "detector"
   ]
  },
  {
   "cell_type": "code",
   "execution_count": 36,
   "metadata": {
    "hidden": true
   },
   "outputs": [
    {
     "data": {
      "text/html": [
       "<div>\n",
       "<style scoped>\n",
       "    .dataframe tbody tr th:only-of-type {\n",
       "        vertical-align: middle;\n",
       "    }\n",
       "\n",
       "    .dataframe tbody tr th {\n",
       "        vertical-align: top;\n",
       "    }\n",
       "\n",
       "    .dataframe thead th {\n",
       "        text-align: right;\n",
       "    }\n",
       "</style>\n",
       "<table border=\"1\" class=\"dataframe\">\n",
       "  <thead>\n",
       "    <tr style=\"text-align: right;\">\n",
       "      <th></th>\n",
       "      <th>volume_id</th>\n",
       "      <th>layer_id</th>\n",
       "      <th>module_id</th>\n",
       "      <th>cx</th>\n",
       "      <th>cy</th>\n",
       "      <th>cz</th>\n",
       "      <th>rot_xu</th>\n",
       "      <th>rot_xv</th>\n",
       "      <th>rot_xw</th>\n",
       "      <th>rot_yu</th>\n",
       "      <th>...</th>\n",
       "      <th>rot_yw</th>\n",
       "      <th>rot_zu</th>\n",
       "      <th>rot_zv</th>\n",
       "      <th>rot_zw</th>\n",
       "      <th>module_t</th>\n",
       "      <th>module_minhu</th>\n",
       "      <th>module_maxhu</th>\n",
       "      <th>module_hv</th>\n",
       "      <th>pitch_u</th>\n",
       "      <th>pitch_v</th>\n",
       "    </tr>\n",
       "  </thead>\n",
       "  <tbody>\n",
       "    <tr>\n",
       "      <th>0</th>\n",
       "      <td>7</td>\n",
       "      <td>2</td>\n",
       "      <td>1</td>\n",
       "      <td>-65.7965</td>\n",
       "      <td>-5.17830</td>\n",
       "      <td>-1502.5</td>\n",
       "      <td>0.078459</td>\n",
       "      <td>-0.996917</td>\n",
       "      <td>0.0</td>\n",
       "      <td>-0.996917</td>\n",
       "      <td>...</td>\n",
       "      <td>0.0</td>\n",
       "      <td>0</td>\n",
       "      <td>0</td>\n",
       "      <td>-1</td>\n",
       "      <td>0.15</td>\n",
       "      <td>8.4</td>\n",
       "      <td>8.4</td>\n",
       "      <td>36</td>\n",
       "      <td>0.05</td>\n",
       "      <td>0.05625</td>\n",
       "    </tr>\n",
       "    <tr>\n",
       "      <th>1</th>\n",
       "      <td>7</td>\n",
       "      <td>2</td>\n",
       "      <td>2</td>\n",
       "      <td>-139.8510</td>\n",
       "      <td>-6.46568</td>\n",
       "      <td>-1502.0</td>\n",
       "      <td>0.046183</td>\n",
       "      <td>-0.998933</td>\n",
       "      <td>0.0</td>\n",
       "      <td>-0.998933</td>\n",
       "      <td>...</td>\n",
       "      <td>0.0</td>\n",
       "      <td>0</td>\n",
       "      <td>0</td>\n",
       "      <td>-1</td>\n",
       "      <td>0.15</td>\n",
       "      <td>8.4</td>\n",
       "      <td>8.4</td>\n",
       "      <td>36</td>\n",
       "      <td>0.05</td>\n",
       "      <td>0.05625</td>\n",
       "    </tr>\n",
       "    <tr>\n",
       "      <th>2</th>\n",
       "      <td>7</td>\n",
       "      <td>2</td>\n",
       "      <td>3</td>\n",
       "      <td>-138.6570</td>\n",
       "      <td>-19.34190</td>\n",
       "      <td>-1498.0</td>\n",
       "      <td>0.138156</td>\n",
       "      <td>-0.990410</td>\n",
       "      <td>0.0</td>\n",
       "      <td>-0.990410</td>\n",
       "      <td>...</td>\n",
       "      <td>0.0</td>\n",
       "      <td>0</td>\n",
       "      <td>0</td>\n",
       "      <td>-1</td>\n",
       "      <td>0.15</td>\n",
       "      <td>8.4</td>\n",
       "      <td>8.4</td>\n",
       "      <td>36</td>\n",
       "      <td>0.05</td>\n",
       "      <td>0.05625</td>\n",
       "    </tr>\n",
       "    <tr>\n",
       "      <th>3</th>\n",
       "      <td>7</td>\n",
       "      <td>2</td>\n",
       "      <td>4</td>\n",
       "      <td>-64.1764</td>\n",
       "      <td>-15.40740</td>\n",
       "      <td>-1498.0</td>\n",
       "      <td>0.233445</td>\n",
       "      <td>-0.972370</td>\n",
       "      <td>0.0</td>\n",
       "      <td>-0.972370</td>\n",
       "      <td>...</td>\n",
       "      <td>0.0</td>\n",
       "      <td>0</td>\n",
       "      <td>0</td>\n",
       "      <td>-1</td>\n",
       "      <td>0.15</td>\n",
       "      <td>8.4</td>\n",
       "      <td>8.4</td>\n",
       "      <td>36</td>\n",
       "      <td>0.05</td>\n",
       "      <td>0.05625</td>\n",
       "    </tr>\n",
       "    <tr>\n",
       "      <th>4</th>\n",
       "      <td>7</td>\n",
       "      <td>2</td>\n",
       "      <td>5</td>\n",
       "      <td>-136.2810</td>\n",
       "      <td>-32.05310</td>\n",
       "      <td>-1502.0</td>\n",
       "      <td>0.228951</td>\n",
       "      <td>-0.973438</td>\n",
       "      <td>0.0</td>\n",
       "      <td>-0.973438</td>\n",
       "      <td>...</td>\n",
       "      <td>0.0</td>\n",
       "      <td>0</td>\n",
       "      <td>0</td>\n",
       "      <td>-1</td>\n",
       "      <td>0.15</td>\n",
       "      <td>8.4</td>\n",
       "      <td>8.4</td>\n",
       "      <td>36</td>\n",
       "      <td>0.05</td>\n",
       "      <td>0.05625</td>\n",
       "    </tr>\n",
       "    <tr>\n",
       "      <th>...</th>\n",
       "      <td>...</td>\n",
       "      <td>...</td>\n",
       "      <td>...</td>\n",
       "      <td>...</td>\n",
       "      <td>...</td>\n",
       "      <td>...</td>\n",
       "      <td>...</td>\n",
       "      <td>...</td>\n",
       "      <td>...</td>\n",
       "      <td>...</td>\n",
       "      <td>...</td>\n",
       "      <td>...</td>\n",
       "      <td>...</td>\n",
       "      <td>...</td>\n",
       "      <td>...</td>\n",
       "      <td>...</td>\n",
       "      <td>...</td>\n",
       "      <td>...</td>\n",
       "      <td>...</td>\n",
       "      <td>...</td>\n",
       "      <td>...</td>\n",
       "    </tr>\n",
       "    <tr>\n",
       "      <th>18723</th>\n",
       "      <td>18</td>\n",
       "      <td>12</td>\n",
       "      <td>94</td>\n",
       "      <td>-895.8950</td>\n",
       "      <td>291.09400</td>\n",
       "      <td>2952.5</td>\n",
       "      <td>0.309017</td>\n",
       "      <td>-0.951057</td>\n",
       "      <td>0.0</td>\n",
       "      <td>0.951057</td>\n",
       "      <td>...</td>\n",
       "      <td>0.0</td>\n",
       "      <td>0</td>\n",
       "      <td>0</td>\n",
       "      <td>1</td>\n",
       "      <td>0.35</td>\n",
       "      <td>66.0</td>\n",
       "      <td>72.0</td>\n",
       "      <td>78</td>\n",
       "      <td>0.12</td>\n",
       "      <td>10.40000</td>\n",
       "    </tr>\n",
       "    <tr>\n",
       "      <th>18724</th>\n",
       "      <td>18</td>\n",
       "      <td>12</td>\n",
       "      <td>95</td>\n",
       "      <td>-812.0900</td>\n",
       "      <td>161.53500</td>\n",
       "      <td>2947.5</td>\n",
       "      <td>0.195090</td>\n",
       "      <td>-0.980785</td>\n",
       "      <td>0.0</td>\n",
       "      <td>0.980785</td>\n",
       "      <td>...</td>\n",
       "      <td>0.0</td>\n",
       "      <td>0</td>\n",
       "      <td>0</td>\n",
       "      <td>1</td>\n",
       "      <td>0.35</td>\n",
       "      <td>54.0</td>\n",
       "      <td>64.2</td>\n",
       "      <td>78</td>\n",
       "      <td>0.12</td>\n",
       "      <td>10.40000</td>\n",
       "    </tr>\n",
       "    <tr>\n",
       "      <th>18725</th>\n",
       "      <td>18</td>\n",
       "      <td>12</td>\n",
       "      <td>96</td>\n",
       "      <td>-925.3150</td>\n",
       "      <td>176.51300</td>\n",
       "      <td>2955.5</td>\n",
       "      <td>0.187381</td>\n",
       "      <td>-0.982287</td>\n",
       "      <td>0.0</td>\n",
       "      <td>0.982287</td>\n",
       "      <td>...</td>\n",
       "      <td>0.0</td>\n",
       "      <td>0</td>\n",
       "      <td>0</td>\n",
       "      <td>1</td>\n",
       "      <td>0.35</td>\n",
       "      <td>66.0</td>\n",
       "      <td>72.0</td>\n",
       "      <td>78</td>\n",
       "      <td>0.12</td>\n",
       "      <td>10.40000</td>\n",
       "    </tr>\n",
       "    <tr>\n",
       "      <th>18726</th>\n",
       "      <td>18</td>\n",
       "      <td>12</td>\n",
       "      <td>97</td>\n",
       "      <td>-826.2270</td>\n",
       "      <td>54.15380</td>\n",
       "      <td>2944.5</td>\n",
       "      <td>0.065403</td>\n",
       "      <td>-0.997859</td>\n",
       "      <td>0.0</td>\n",
       "      <td>0.997859</td>\n",
       "      <td>...</td>\n",
       "      <td>0.0</td>\n",
       "      <td>0</td>\n",
       "      <td>0</td>\n",
       "      <td>1</td>\n",
       "      <td>0.35</td>\n",
       "      <td>54.0</td>\n",
       "      <td>64.2</td>\n",
       "      <td>78</td>\n",
       "      <td>0.12</td>\n",
       "      <td>10.40000</td>\n",
       "    </tr>\n",
       "    <tr>\n",
       "      <th>18727</th>\n",
       "      <td>18</td>\n",
       "      <td>12</td>\n",
       "      <td>98</td>\n",
       "      <td>-940.1410</td>\n",
       "      <td>59.14870</td>\n",
       "      <td>2952.5</td>\n",
       "      <td>0.062790</td>\n",
       "      <td>-0.998027</td>\n",
       "      <td>0.0</td>\n",
       "      <td>0.998027</td>\n",
       "      <td>...</td>\n",
       "      <td>0.0</td>\n",
       "      <td>0</td>\n",
       "      <td>0</td>\n",
       "      <td>1</td>\n",
       "      <td>0.35</td>\n",
       "      <td>66.0</td>\n",
       "      <td>72.0</td>\n",
       "      <td>78</td>\n",
       "      <td>0.12</td>\n",
       "      <td>10.40000</td>\n",
       "    </tr>\n",
       "  </tbody>\n",
       "</table>\n",
       "<p>18728 rows × 21 columns</p>\n",
       "</div>"
      ],
      "text/plain": [
       "       volume_id  layer_id  module_id        cx         cy      cz    rot_xu  \\\n",
       "0              7         2          1  -65.7965   -5.17830 -1502.5  0.078459   \n",
       "1              7         2          2 -139.8510   -6.46568 -1502.0  0.046183   \n",
       "2              7         2          3 -138.6570  -19.34190 -1498.0  0.138156   \n",
       "3              7         2          4  -64.1764  -15.40740 -1498.0  0.233445   \n",
       "4              7         2          5 -136.2810  -32.05310 -1502.0  0.228951   \n",
       "...          ...       ...        ...       ...        ...     ...       ...   \n",
       "18723         18        12         94 -895.8950  291.09400  2952.5  0.309017   \n",
       "18724         18        12         95 -812.0900  161.53500  2947.5  0.195090   \n",
       "18725         18        12         96 -925.3150  176.51300  2955.5  0.187381   \n",
       "18726         18        12         97 -826.2270   54.15380  2944.5  0.065403   \n",
       "18727         18        12         98 -940.1410   59.14870  2952.5  0.062790   \n",
       "\n",
       "         rot_xv  rot_xw    rot_yu  ...  rot_yw  rot_zu  rot_zv  rot_zw  \\\n",
       "0     -0.996917     0.0 -0.996917  ...     0.0       0       0      -1   \n",
       "1     -0.998933     0.0 -0.998933  ...     0.0       0       0      -1   \n",
       "2     -0.990410     0.0 -0.990410  ...     0.0       0       0      -1   \n",
       "3     -0.972370     0.0 -0.972370  ...     0.0       0       0      -1   \n",
       "4     -0.973438     0.0 -0.973438  ...     0.0       0       0      -1   \n",
       "...         ...     ...       ...  ...     ...     ...     ...     ...   \n",
       "18723 -0.951057     0.0  0.951057  ...     0.0       0       0       1   \n",
       "18724 -0.980785     0.0  0.980785  ...     0.0       0       0       1   \n",
       "18725 -0.982287     0.0  0.982287  ...     0.0       0       0       1   \n",
       "18726 -0.997859     0.0  0.997859  ...     0.0       0       0       1   \n",
       "18727 -0.998027     0.0  0.998027  ...     0.0       0       0       1   \n",
       "\n",
       "       module_t  module_minhu  module_maxhu  module_hv  pitch_u   pitch_v  \n",
       "0          0.15           8.4           8.4         36     0.05   0.05625  \n",
       "1          0.15           8.4           8.4         36     0.05   0.05625  \n",
       "2          0.15           8.4           8.4         36     0.05   0.05625  \n",
       "3          0.15           8.4           8.4         36     0.05   0.05625  \n",
       "4          0.15           8.4           8.4         36     0.05   0.05625  \n",
       "...         ...           ...           ...        ...      ...       ...  \n",
       "18723      0.35          66.0          72.0         78     0.12  10.40000  \n",
       "18724      0.35          54.0          64.2         78     0.12  10.40000  \n",
       "18725      0.35          66.0          72.0         78     0.12  10.40000  \n",
       "18726      0.35          54.0          64.2         78     0.12  10.40000  \n",
       "18727      0.35          66.0          72.0         78     0.12  10.40000  \n",
       "\n",
       "[18728 rows x 21 columns]"
      ]
     },
     "execution_count": 36,
     "metadata": {},
     "output_type": "execute_result"
    }
   ],
   "source": [
    "detectors"
   ]
  },
  {
   "cell_type": "code",
   "execution_count": 38,
   "metadata": {
    "hidden": true
   },
   "outputs": [
    {
     "data": {
      "text/plain": [
       "volume_id       True\n",
       "layer_id        True\n",
       "module_id       True\n",
       "cx              True\n",
       "cy              True\n",
       "cz              True\n",
       "rot_xu          True\n",
       "rot_xv          True\n",
       "rot_xw          True\n",
       "rot_yu          True\n",
       "rot_yv          True\n",
       "rot_yw          True\n",
       "rot_zu          True\n",
       "rot_zv          True\n",
       "rot_zw          True\n",
       "module_t        True\n",
       "module_minhu    True\n",
       "module_maxhu    True\n",
       "module_hv       True\n",
       "pitch_u         True\n",
       "pitch_v         True\n",
       "dtype: bool"
      ]
     },
     "execution_count": 38,
     "metadata": {},
     "output_type": "execute_result"
    }
   ],
   "source": [
    "(detectors == detector).all()"
   ]
  },
  {
   "cell_type": "markdown",
   "metadata": {
    "heading_collapsed": true
   },
   "source": [
    "# Breakdown"
   ]
  },
  {
   "cell_type": "markdown",
   "metadata": {
    "hidden": true
   },
   "source": [
    "## Top Level"
   ]
  },
  {
   "cell_type": "code",
   "execution_count": 3,
   "metadata": {
    "hidden": true
   },
   "outputs": [],
   "source": [
    "from LightningModules.Processing.utils.detector_utils import load_detector, Detector_Thicknesses, Detector_Rotations, Detector_Pixel_Size\n",
    "from LightningModules.Processing.utils.event_utils import build_event, get_cell_information"
   ]
  },
  {
   "cell_type": "code",
   "execution_count": 4,
   "metadata": {
    "hidden": true
   },
   "outputs": [],
   "source": [
    "input_dir = \"/global/cscratch1/sd/danieltm/ExaTrkX/trackml-codalab/train_all\"\n",
    "detector_path = \"/global/cscratch1/sd/danieltm/ExaTrkX/trackml/detectors.csv\""
   ]
  },
  {
   "cell_type": "code",
   "execution_count": 5,
   "metadata": {
    "hidden": true
   },
   "outputs": [
    {
     "name": "stdout",
     "output_type": "stream",
     "text": [
      "Loading detector...\n",
      "Detector loaded.\n",
      "CPU times: user 46.3 ms, sys: 83.3 ms, total: 130 ms\n",
      "Wall time: 130 ms\n"
     ]
    }
   ],
   "source": [
    "%%time\n",
    "cell_features = ['cell_count', 'cell_val', 'leta', 'lphi', 'lx', 'ly', 'lz', 'geta', 'gphi']\n",
    "detector_orig, detector_proc = load_detector(detector_path)"
   ]
  },
  {
   "cell_type": "code",
   "execution_count": 6,
   "metadata": {
    "hidden": true
   },
   "outputs": [],
   "source": [
    "all_files = os.listdir(input_dir)\n",
    "all_events = sorted(np.unique([os.path.join(input_dir, event[:14]) for event in all_files]))\n",
    "event_file = all_events[0]"
   ]
  },
  {
   "cell_type": "code",
   "execution_count": 7,
   "metadata": {
    "hidden": true
   },
   "outputs": [],
   "source": [
    "feature_scale = [1000, np.pi, 1000]\n",
    "pt_min = 0\n",
    "adjacent = False \n",
    "endcaps = True\n",
    "layerless = True\n",
    "layerwise = False\n",
    "noise = False\n",
    "cell_information = True"
   ]
  },
  {
   "cell_type": "code",
   "execution_count": 8,
   "metadata": {
    "hidden": true
   },
   "outputs": [],
   "source": [
    "def select_hits(hits, truth, particles, pt_min=0, endcaps=False, noise=False):\n",
    "    \n",
    "    # Barrel volume and layer ids\n",
    "    if endcaps:\n",
    "        vlids = [(7, 2), (7, 4), (7, 6), (7, 8), (7, 10), (7, 12), (7, 14), (8, 2), (8, 4), (8, 6), (8, 8), (9, 2), (9, 4), (9, 6), (9, 8), (9, 10), (9, 12), (9, 14), (12, 2), (12, 4), (12, 6), (12, 8), (12, 10), (12, 12), (13, 2), (13, 4), (13, 6), (13, 8), (14, 2), (14, 4), (14, 6), (14, 8), (14, 10), (14, 12), (16, 2), (16, 4), (16, 6), (16, 8), (16, 10), (16, 12), (17, 2), (17, 4), (18, 2), (18, 4), (18, 6), (18, 8), (18, 10), (18, 12)]\n",
    "    else:\n",
    "        vlids = [(8,2), (8,4), (8,6), (8,8), (13,2), (13,4), (13,6), (13,8), (17,2), (17,4)]\n",
    "    n_det_layers = len(vlids)\n",
    "    # Select barrel layers and assign convenient layer number [0-9]\n",
    "    vlid_groups = hits.groupby(['volume_id', 'layer_id'])\n",
    "    hits = pd.concat([vlid_groups.get_group(vlids[i]).assign(layer=i)\n",
    "                      for i in range(n_det_layers)])\n",
    "\n",
    "    if noise is False:\n",
    "        # Calculate particle transverse momentum\n",
    "        pt = np.sqrt(particles.px**2 + particles.py**2)\n",
    "        # Applies pt cut, removes noise hits\n",
    "        particles = particles[pt > pt_min]\n",
    "        truth = (truth[['hit_id', 'particle_id', 'tpx', 'tpy', 'weight']]\n",
    "                 .merge(particles[['particle_id', 'vx', 'vy', 'vz']], on='particle_id'))\n",
    "        truth = truth.assign(pt = np.sqrt(truth.tpx**2 + truth.tpy**2))\n",
    "    else:\n",
    "        # Calculate particle transverse momentum\n",
    "        pt = np.sqrt(truth.tpx**2 + truth.tpy**2)\n",
    "        # Applies pt cut\n",
    "        truth = truth[pt > pt_min]\n",
    "        truth.loc[truth['particle_id'] == 0,'particle_id'] = float('NaN')\n",
    "        truth = truth.assign(pt = pt)\n",
    "\n",
    "    # Calculate derived hits variables\n",
    "    r = np.sqrt(hits.x**2 + hits.y**2)\n",
    "    phi = np.arctan2(hits.y, hits.x)\n",
    "    # Select the data columns we need\n",
    "    hits = (hits[['hit_id', 'x', 'y', 'z', 'layer']]\n",
    "            .assign(r=r, phi=phi)\n",
    "            .merge(truth[['hit_id', 'particle_id', 'vx', 'vy', 'vz', 'pt', 'weight']], on='hit_id'))\n",
    "    \n",
    "    \n",
    "    return hits\n",
    "\n",
    "def build_event(event_file, pt_min, feature_scale, adjacent=True, endcaps=False, layerless=True, layerwise=True, noise=False):\n",
    "    # Get true edge list using the ordering by R' = distance from production vertex of each particle\n",
    "    \n",
    "    hits, particles, truth = trackml.dataset.load_event(\n",
    "        event_file, parts=['hits', 'particles', 'truth'])\n",
    "    \n",
    "    tic = tt()\n",
    "    hits = select_hits(hits, truth, particles, pt_min=pt_min, endcaps=endcaps, noise=noise).assign(evtid=int(event_file[-9:]))\n",
    "    layers = hits.layer.to_numpy()\n",
    "    print(tt() - tic)\n",
    "    return hits[['r', 'phi', 'z']].to_numpy() / feature_scale, hits.particle_id.to_numpy(), layers, hits['hit_id'].to_numpy(), hits.pt.to_numpy()"
   ]
  },
  {
   "cell_type": "code",
   "execution_count": 9,
   "metadata": {
    "hidden": true
   },
   "outputs": [
    {
     "name": "stdout",
     "output_type": "stream",
     "text": [
      "0.09757351875305176\n",
      "CPU times: user 405 ms, sys: 47.2 ms, total: 453 ms\n",
      "Wall time: 455 ms\n"
     ]
    }
   ],
   "source": [
    "%%time\n",
    "evtid = int(event_file[-9:])\n",
    "X, pid, layers, hid, pt = build_event(event_file, pt_min, feature_scale, adjacent=adjacent, endcaps=endcaps, layerless=layerless, layerwise=layerwise, noise=noise)"
   ]
  },
  {
   "cell_type": "code",
   "execution_count": 10,
   "metadata": {
    "hidden": true
   },
   "outputs": [
    {
     "name": "stdout",
     "output_type": "stream",
     "text": [
      "CPU times: user 974 µs, sys: 480 µs, total: 1.45 ms\n",
      "Wall time: 799 µs\n"
     ]
    }
   ],
   "source": [
    "%%time\n",
    "data = Data(\n",
    "    x = torch.from_numpy(X).float(), \n",
    "    pid = torch.from_numpy(pid), \n",
    "    layers=torch.from_numpy(layers), \n",
    "    event_file=event_file, \n",
    "    hid = torch.from_numpy(hid),\n",
    "    pt = torch.from_numpy(pt)\n",
    ")"
   ]
  },
  {
   "cell_type": "code",
   "execution_count": 18,
   "metadata": {
    "hidden": true
   },
   "outputs": [
    {
     "name": "stdout",
     "output_type": "stream",
     "text": [
      "CPU times: user 16.5 s, sys: 221 ms, total: 16.7 s\n",
      "Wall time: 16.6 s\n"
     ]
    }
   ],
   "source": [
    "%%time\n",
    "if cell_information:\n",
    "    data = get_cell_information(data, cell_features, detector_orig, detector_proc, endcaps, noise)"
   ]
  },
  {
   "cell_type": "markdown",
   "metadata": {
    "hidden": true
   },
   "source": [
    "## Cell Calculation"
   ]
  },
  {
   "cell_type": "code",
   "execution_count": 11,
   "metadata": {
    "hidden": true
   },
   "outputs": [],
   "source": [
    "from LightningModules.Processing.utils.cell_utils import get_one_event, augment_hit_features, get_cell_stats, extract_dir_new"
   ]
  },
  {
   "cell_type": "markdown",
   "metadata": {
    "hidden": true
   },
   "source": [
    "### Setup"
   ]
  },
  {
   "cell_type": "code",
   "execution_count": 12,
   "metadata": {
    "hidden": true
   },
   "outputs": [
    {
     "name": "stdout",
     "output_type": "stream",
     "text": [
      "CPU times: user 2 µs, sys: 1e+03 ns, total: 3 µs\n",
      "Wall time: 5.48 µs\n"
     ]
    }
   ],
   "source": [
    "%%time\n",
    "event_path = data.event_file\n",
    "evtid = event_file[-4:]"
   ]
  },
  {
   "cell_type": "code",
   "execution_count": 13,
   "metadata": {
    "hidden": true
   },
   "outputs": [
    {
     "name": "stdout",
     "output_type": "stream",
     "text": [
      "CPU times: user 248 ms, sys: 24.3 ms, total: 273 ms\n",
      "Wall time: 318 ms\n"
     ]
    }
   ],
   "source": [
    "%%time\n",
    "hits_angles, cells = trackml.dataset.load_event(event_path, parts=['hits', 'cells'])"
   ]
  },
  {
   "cell_type": "code",
   "execution_count": 14,
   "metadata": {
    "hidden": true
   },
   "outputs": [
    {
     "name": "stdout",
     "output_type": "stream",
     "text": [
      "CPU times: user 25.5 ms, sys: 804 µs, total: 26.3 ms\n",
      "Wall time: 25.5 ms\n"
     ]
    }
   ],
   "source": [
    "%%time\n",
    "cell_stats = get_cell_stats(cells)\n",
    "hits_angles['cell_count'] = cell_stats[:,0]\n",
    "hits_angles['cell_val']   = cell_stats[:,1]"
   ]
  },
  {
   "cell_type": "markdown",
   "metadata": {
    "hidden": true
   },
   "source": [
    "### Cell Direction"
   ]
  },
  {
   "cell_type": "code",
   "execution_count": 15,
   "metadata": {
    "hidden": true
   },
   "outputs": [],
   "source": [
    "from LightningModules.Processing.utils.cell_utils import get_all_local_angles, get_all_rotated, cartesion_to_spherical, theta_to_eta"
   ]
  },
  {
   "cell_type": "code",
   "execution_count": 16,
   "metadata": {
    "hidden": true
   },
   "outputs": [],
   "source": [
    "detector = detector_proc"
   ]
  },
  {
   "cell_type": "code",
   "execution_count": 17,
   "metadata": {
    "hidden": true
   },
   "outputs": [
    {
     "name": "stdout",
     "output_type": "stream",
     "text": [
      "CPU times: user 56.4 ms, sys: 220 µs, total: 56.6 ms\n",
      "Wall time: 55.8 ms\n"
     ]
    }
   ],
   "source": [
    "%%time\n",
    "l_u, l_v, l_w = get_all_local_angles(hits_angles, cells, detector)\n",
    "g_matrix_all = get_all_rotated(hits_angles, detector, l_u, l_v, l_w)\n",
    "hit_ids, cell_counts, cell_vals = hits_angles['hit_id'].to_numpy(), hits_angles['cell_count'].to_numpy(), hits_angles['cell_val'].to_numpy()"
   ]
  },
  {
   "cell_type": "code",
   "execution_count": 18,
   "metadata": {
    "hidden": true
   },
   "outputs": [],
   "source": [
    "l_u, l_v = l_u.to_numpy(), l_v.to_numpy()"
   ]
  },
  {
   "cell_type": "code",
   "execution_count": 19,
   "metadata": {
    "hidden": true
   },
   "outputs": [
    {
     "name": "stdout",
     "output_type": "stream",
     "text": [
      "CPU times: user 27.6 ms, sys: 0 ns, total: 27.6 ms\n",
      "Wall time: 26.8 ms\n"
     ]
    }
   ],
   "source": [
    "%%time\n",
    "_, g_theta, g_phi = np.vstack(cartesion_to_spherical(*list(g_matrix_all.T)))\n",
    "_, l_theta, l_phi = cartesion_to_spherical(l_u, l_v, l_w)\n",
    "l_eta = theta_to_eta(l_theta)\n",
    "g_eta = theta_to_eta(g_theta)\n",
    "angles = np.vstack([hit_ids, cell_counts, cell_vals, l_eta, l_phi, l_u, l_v, l_w, g_eta, g_phi]).T"
   ]
  },
  {
   "cell_type": "code",
   "execution_count": 20,
   "metadata": {
    "hidden": true
   },
   "outputs": [
    {
     "name": "stdout",
     "output_type": "stream",
     "text": [
      "CPU times: user 311 µs, sys: 0 ns, total: 311 µs\n",
      "Wall time: 315 µs\n"
     ]
    }
   ],
   "source": [
    "%%time\n",
    "df_angles = pd.DataFrame(angles, columns=['cell_count', 'cell_val', 'hit_id', 'leta', 'lphi', 'lx', 'ly', 'lz', 'geta', 'gphi'])"
   ]
  },
  {
   "cell_type": "markdown",
   "metadata": {
    "hidden": true
   },
   "source": [
    "## Post"
   ]
  },
  {
   "cell_type": "code",
   "execution_count": 21,
   "metadata": {
    "hidden": true
   },
   "outputs": [
    {
     "name": "stdout",
     "output_type": "stream",
     "text": [
      "CPU times: user 263 µs, sys: 153 µs, total: 416 µs\n",
      "Wall time: 420 µs\n"
     ]
    }
   ],
   "source": [
    "%%time\n",
    "hid = pd.DataFrame(data.hid.numpy(), columns = [\"hit_id\"])"
   ]
  },
  {
   "cell_type": "code",
   "execution_count": null,
   "metadata": {
    "hidden": true
   },
   "outputs": [],
   "source": [
    "%%time\n",
    "cell_data = hid.merge(df_angles, on=\"hit_id\")[cell_features]"
   ]
  },
  {
   "cell_type": "code",
   "execution_count": null,
   "metadata": {
    "hidden": true
   },
   "outputs": [],
   "source": [
    "cell_data = torch.from_numpy((hid.merge(df_angles, on=\"hit_id\")[cell_features]).to_numpy()).float()\n",
    "data.cell_data = cell_data"
   ]
  },
  {
   "cell_type": "markdown",
   "metadata": {},
   "source": [
    "# GPU Development"
   ]
  },
  {
   "cell_type": "code",
   "execution_count": 3,
   "metadata": {},
   "outputs": [],
   "source": [
    "import cupy as cp\n",
    "import cudf\n",
    "from torch.utils.dlpack import to_dlpack\n",
    "from torch.utils.dlpack import from_dlpack"
   ]
  },
  {
   "cell_type": "markdown",
   "metadata": {},
   "source": [
    "## Top Level"
   ]
  },
  {
   "cell_type": "code",
   "execution_count": 58,
   "metadata": {},
   "outputs": [],
   "source": [
    "from LightningModules.Processing.utils.detector_utils import load_detector, Detector_Thicknesses, Detector_Rotations, Detector_Pixel_Size\n",
    "from LightningModules.Processing.utils.event_utils import build_event, get_cell_information"
   ]
  },
  {
   "cell_type": "code",
   "execution_count": 59,
   "metadata": {},
   "outputs": [],
   "source": [
    "input_dir = \"/global/cscratch1/sd/danieltm/ExaTrkX/trackml-codalab/train_all\"\n",
    "detector_path = \"/global/cscratch1/sd/danieltm/ExaTrkX/trackml/detectors.csv\""
   ]
  },
  {
   "cell_type": "code",
   "execution_count": 60,
   "metadata": {},
   "outputs": [
    {
     "name": "stdout",
     "output_type": "stream",
     "text": [
      "Loading detector...\n",
      "Detector loaded.\n",
      "CPU times: user 51 ms, sys: 116 ms, total: 167 ms\n",
      "Wall time: 417 ms\n"
     ]
    }
   ],
   "source": [
    "%%time\n",
    "cell_features = ['cell_count', 'cell_val', 'leta', 'lphi', 'lx', 'ly', 'lz', 'geta', 'gphi']\n",
    "detector_orig, detector_proc = load_detector(detector_path)"
   ]
  },
  {
   "cell_type": "code",
   "execution_count": 12,
   "metadata": {},
   "outputs": [],
   "source": [
    "all_files = os.listdir(input_dir)\n",
    "all_events = sorted(np.unique([os.path.join(input_dir, event[:14]) for event in all_files]))\n",
    "event_file = all_events[0]"
   ]
  },
  {
   "cell_type": "code",
   "execution_count": 13,
   "metadata": {},
   "outputs": [],
   "source": [
    "feature_scale = [1000, np.pi, 1000]\n",
    "pt_min = 0\n",
    "adjacent = False \n",
    "endcaps = True\n",
    "layerless = True\n",
    "layerwise = False\n",
    "noise = False\n",
    "cell_information = True"
   ]
  },
  {
   "cell_type": "code",
   "execution_count": 300,
   "metadata": {
    "code_folding": []
   },
   "outputs": [],
   "source": [
    "def select_hits(hits, truth, particles, pt_min=0, endcaps=False, noise=False):\n",
    "    \n",
    "    # Barrel volume and layer ids\n",
    "    if endcaps:\n",
    "        vlids = [(7, 2), (7, 4), (7, 6), (7, 8), (7, 10), (7, 12), (7, 14), (8, 2), (8, 4), (8, 6), (8, 8), (9, 2), (9, 4), (9, 6), (9, 8), (9, 10), (9, 12), (9, 14), (12, 2), (12, 4), (12, 6), (12, 8), (12, 10), (12, 12), (13, 2), (13, 4), (13, 6), (13, 8), (14, 2), (14, 4), (14, 6), (14, 8), (14, 10), (14, 12), (16, 2), (16, 4), (16, 6), (16, 8), (16, 10), (16, 12), (17, 2), (17, 4), (18, 2), (18, 4), (18, 6), (18, 8), (18, 10), (18, 12)]\n",
    "    else:\n",
    "        vlids = [(8,2), (8,4), (8,6), (8,8), (13,2), (13,4), (13,6), (13,8), (17,2), (17,4)]\n",
    "    n_det_layers = len(vlids)\n",
    "    # Select barrel layers and assign convenient layer number [0-9]\n",
    "    vlid_groups = hits.groupby(['volume_id', 'layer_id'])\n",
    "    hits = pd.concat([vlid_groups.get_group(vlids[i]).assign(layer=i)\n",
    "                      for i in range(n_det_layers)])\n",
    "\n",
    "    if noise is False:\n",
    "        # Calculate particle transverse momentum\n",
    "        pt = np.sqrt(particles.px**2 + particles.py**2)\n",
    "        # Applies pt cut, removes noise hits\n",
    "        particles = particles[pt > pt_min]\n",
    "        truth = (truth[['hit_id', 'particle_id', 'tpx', 'tpy', 'weight']]\n",
    "                 .merge(particles[['particle_id', 'vx', 'vy', 'vz']], on='particle_id'))\n",
    "        truth = truth.assign(pt = np.sqrt(truth.tpx**2 + truth.tpy**2))\n",
    "    else:\n",
    "        # Calculate particle transverse momentum\n",
    "        pt = np.sqrt(truth.tpx**2 + truth.tpy**2)\n",
    "        # Applies pt cut\n",
    "        truth = truth[pt > pt_min]\n",
    "        truth.loc[truth['particle_id'] == 0,'particle_id'] = float('NaN')\n",
    "        truth = truth.assign(pt = pt)\n",
    "\n",
    "    # Calculate derived hits variables\n",
    "    r = np.sqrt(hits.x**2 + hits.y**2)\n",
    "    phi = np.arctan2(hits.y, hits.x)\n",
    "    # Select the data columns we need\n",
    "    hits = (hits[['hit_id', 'x', 'y', 'z', 'layer']]\n",
    "            .assign(r=r, phi=phi)\n",
    "            .merge(truth[['hit_id', 'particle_id', 'vx', 'vy', 'vz', 'pt', 'weight']], on='hit_id'))\n",
    "    \n",
    "    \n",
    "    return hits\n",
    "\n",
    "def build_event(event_file, pt_min, feature_scale, adjacent=True, endcaps=False, layerless=True, layerwise=True, noise=False):\n",
    "    # Get true edge list using the ordering by R' = distance from production vertex of each particle\n",
    "    \n",
    "    hits, particles, truth = trackml.dataset.load_event(\n",
    "        event_file, parts=['hits', 'particles', 'truth'])\n",
    "    \n",
    "    tic = tt()\n",
    "    hits = select_hits(hits, truth, particles, pt_min=pt_min, endcaps=endcaps, noise=noise).assign(evtid=int(event_file[-9:]))\n",
    "    layers = hits.layer.to_numpy()\n",
    "#     print(tt() - tic)\n",
    "    return hits[['r', 'phi', 'z']].to_numpy() / feature_scale, hits.particle_id.to_numpy(), layers, hits['hit_id'].to_numpy(), hits.pt.to_numpy()"
   ]
  },
  {
   "cell_type": "code",
   "execution_count": 41,
   "metadata": {
    "code_folding": []
   },
   "outputs": [],
   "source": [
    "def select_hits_gpu(hits, truth, particles, pt_min=0, endcaps=False, noise=False):\n",
    "    \n",
    "    if endcaps:\n",
    "        vlids = [(7, 2), (7, 4), (7, 6), (7, 8), (7, 10), (7, 12), (7, 14), (8, 2), (8, 4), (8, 6), (8, 8), (9, 2), (9, 4), (9, 6), (9, 8), (9, 10), (9, 12), (9, 14), (12, 2), (12, 4), (12, 6), (12, 8), (12, 10), (12, 12), (13, 2), (13, 4), (13, 6), (13, 8), (14, 2), (14, 4), (14, 6), (14, 8), (14, 10), (14, 12), (16, 2), (16, 4), (16, 6), (16, 8), (16, 10), (16, 12), (17, 2), (17, 4), (18, 2), (18, 4), (18, 6), (18, 8), (18, 10), (18, 12)]\n",
    "    else:\n",
    "        vlids = [(8,2), (8,4), (8,6), (8,8), (13,2), (13,4), (13,6), (13,8), (17,2), (17,4)]\n",
    "    layernum_lookup = np.empty((19, 15))\n",
    "    for i, entry in enumerate(vlids):\n",
    "        layernum_lookup[entry[0], entry[1]] = i\n",
    "\n",
    "    hits = hits.apply_rows(vol_to_layernum,\n",
    "                   incols=['volume_id', 'layer_id'],\n",
    "                    outcols=dict(layer=np.int64),\n",
    "                   kwargs = {})\n",
    "\n",
    "    if noise is False:\n",
    "        pt = cp.sqrt(particles.px**2 + particles.py**2)\n",
    "        particles =  particles[pt > pt_min]\n",
    "        truth = (truth[['hit_id', 'particle_id', 'tpx', 'tpy', 'weight']]).merge(particles[['particle_id', 'vx', 'vy', 'vz']], on='particle_id')\n",
    "        pt = cp.sqrt(truth.tpx**2 + truth.tpy**2)\n",
    "        truth = truth.assign(pt = pt)\n",
    "    else:\n",
    "        print(\"TO IMPLEMENT GPU NOISY\")\n",
    "\n",
    "    # Calculate derived hits variables\n",
    "    r = cp.sqrt(hits.x**2 + hits.y**2)\n",
    "    phi = cp.arctan2(hits.y, hits.x)\n",
    "    # Select the data columns we need\n",
    "    hits = (hits[['hit_id', 'x', 'y', 'z', 'layer']]\n",
    "            .assign(r=r, phi=phi)\n",
    "            .merge(truth[['hit_id', 'particle_id', 'vx', 'vy', 'vz', 'pt', 'weight']], on='hit_id'))\n",
    "    \n",
    "    return hits\n",
    "\n",
    "def build_event_gpu(event_file, pt_min, feature_scale, adjacent=True, endcaps=False, layerless=True, layerwise=True, noise=False):\n",
    "    # Get true edge list using the ordering by R' = distance from production vertex of each particle\n",
    "    \n",
    "    hits = cudf.io.read_csv(\"{}-hits.csv\".format(event_file))\n",
    "    particles = cudf.io.read_csv(\"{}-particles.csv\".format(event_file))\n",
    "    truth = cudf.io.read_csv(\"{}-truth.csv\".format(event_file))\n",
    "    cells = cudf.io.read_csv(\"{}-cells.csv\".format(event_file))\n",
    "    \n",
    "    tic = tt()\n",
    "    hits = select_hits_gpu(hits, truth, particles, pt_min=pt_min, endcaps=endcaps, noise=noise).assign(evtid=int(event_file[-9:]))\n",
    "    layers = hits.layer\n",
    "#     print(tt() - tic)\n",
    "#     return hits[['r', 'phi', 'z']].as_matrix() / feature_scale, hits.particle_id.values_host, layers, hits['hit_id'].values_host, hits.pt.values_host\n",
    "    return hits[['r', 'phi', 'z']] / feature_scale, hits.particle_id, layers, hits['hit_id'], hits.pt"
   ]
  },
  {
   "cell_type": "code",
   "execution_count": 42,
   "metadata": {},
   "outputs": [],
   "source": [
    "event_file = \"/global/cscratch1/sd/danieltm/ExaTrkX/trackml-codalab/event000021000\""
   ]
  },
  {
   "cell_type": "code",
   "execution_count": 227,
   "metadata": {},
   "outputs": [],
   "source": [
    "def vol_to_layernum(volume_id, layer_id, layer):\n",
    "    for i, (in1, in2) in enumerate(zip(volume_id, layer_id)):\n",
    "        layer[i] = layernum_lookup[in1, in2]"
   ]
  },
  {
   "cell_type": "code",
   "execution_count": 301,
   "metadata": {},
   "outputs": [
    {
     "name": "stdout",
     "output_type": "stream",
     "text": [
      "0.33290465354919435\n"
     ]
    }
   ],
   "source": [
    "n_iters = 100\n",
    "evtid = int(event_file[-9:])\n",
    "tic = tt()\n",
    "\n",
    "for i in range(n_iters):\n",
    "    X, pid, layers, hid, pt = build_event(event_file, pt_min, feature_scale, adjacent=adjacent, endcaps=endcaps, layerless=layerless, layerwise=layerwise, noise=noise)\n",
    "print((tt() - tic) / n_iters)"
   ]
  },
  {
   "cell_type": "code",
   "execution_count": 304,
   "metadata": {},
   "outputs": [
    {
     "name": "stdout",
     "output_type": "stream",
     "text": [
      "0.12087683200836181\n"
     ]
    }
   ],
   "source": [
    "n_iters = 100\n",
    "evtid = int(event_file[-9:])\n",
    "tic = tt()\n",
    "\n",
    "for i in range(n_iters):\n",
    "    X, pid, layers, hid, pt = build_event_gpu(event_file, pt_min, feature_scale, adjacent=adjacent, endcaps=endcaps, layerless=layerless, layerwise=layerwise, noise=noise)\n",
    "\n",
    "print((tt() - tic) / n_iters)"
   ]
  },
  {
   "cell_type": "code",
   "execution_count": 327,
   "metadata": {},
   "outputs": [
    {
     "name": "stdout",
     "output_type": "stream",
     "text": [
      "CPU times: user 0 ns, sys: 3.79 ms, total: 3.79 ms\n",
      "Wall time: 3.33 ms\n"
     ]
    }
   ],
   "source": [
    "%%time\n",
    "X_np = X.as_matrix()\n",
    "X_torch = torch.from_numpy(X_np).to(\"cuda\")"
   ]
  },
  {
   "cell_type": "code",
   "execution_count": 328,
   "metadata": {},
   "outputs": [
    {
     "name": "stdout",
     "output_type": "stream",
     "text": [
      "CPU times: user 776 µs, sys: 0 ns, total: 776 µs\n",
      "Wall time: 620 µs\n"
     ]
    }
   ],
   "source": [
    "%%time\n",
    "X_dlpack = X.to_dlpack()\n",
    "X_torch = from_dlpack(X_dlpack)"
   ]
  },
  {
   "cell_type": "markdown",
   "metadata": {},
   "source": [
    "X is not so time consuming: What if the matrix was MUCH larger..."
   ]
  },
  {
   "cell_type": "code",
   "execution_count": 35,
   "metadata": {},
   "outputs": [],
   "source": [
    "n_edges = 1000000\n",
    "edge_test = np.random.rand(2, n_edges)"
   ]
  },
  {
   "cell_type": "code",
   "execution_count": 36,
   "metadata": {},
   "outputs": [],
   "source": [
    "edges_cp = cp.array(edge_test)"
   ]
  },
  {
   "cell_type": "code",
   "execution_count": 38,
   "metadata": {},
   "outputs": [
    {
     "name": "stdout",
     "output_type": "stream",
     "text": [
      "CPU times: user 11 ms, sys: 7.12 ms, total: 18.1 ms\n",
      "Wall time: 17.1 ms\n"
     ]
    }
   ],
   "source": [
    "%%time\n",
    "edges_np = cp.asnumpy(edges_cp)\n",
    "edges_torch = torch.from_numpy(edges_np)\n",
    "edges_torch = edges_torch.to(\"cuda\")"
   ]
  },
  {
   "cell_type": "code",
   "execution_count": 39,
   "metadata": {},
   "outputs": [
    {
     "name": "stdout",
     "output_type": "stream",
     "text": [
      "CPU times: user 37 µs, sys: 30 µs, total: 67 µs\n",
      "Wall time: 69.4 µs\n"
     ]
    }
   ],
   "source": [
    "%%time\n",
    "edges_dlpack = edges_cp.toDlpack() # Careful, CuDF and CuPy capitalise this method differently!\n",
    "edges_torch = from_dlpack(edges_dlpack)"
   ]
  },
  {
   "cell_type": "code",
   "execution_count": 10,
   "metadata": {},
   "outputs": [
    {
     "name": "stdout",
     "output_type": "stream",
     "text": [
      "CPU times: user 974 µs, sys: 480 µs, total: 1.45 ms\n",
      "Wall time: 799 µs\n"
     ]
    }
   ],
   "source": [
    "%%time\n",
    "data = Data(\n",
    "    x = torch.from_numpy(X).float(), \n",
    "    pid = torch.from_numpy(pid), \n",
    "    layers=torch.from_numpy(layers), \n",
    "    event_file=event_file, \n",
    "    hid = torch.from_numpy(hid),\n",
    "    pt = torch.from_numpy(pt)\n",
    ")"
   ]
  },
  {
   "cell_type": "code",
   "execution_count": 18,
   "metadata": {},
   "outputs": [
    {
     "name": "stdout",
     "output_type": "stream",
     "text": [
      "CPU times: user 16.5 s, sys: 221 ms, total: 16.7 s\n",
      "Wall time: 16.6 s\n"
     ]
    }
   ],
   "source": [
    "%%time\n",
    "if cell_information:\n",
    "    data = get_cell_information(data, cell_features, detector_orig, detector_proc, endcaps, noise)"
   ]
  },
  {
   "cell_type": "markdown",
   "metadata": {},
   "source": [
    "## Cell Calculation"
   ]
  },
  {
   "cell_type": "code",
   "execution_count": 61,
   "metadata": {},
   "outputs": [],
   "source": [
    "from LightningModules.Processing.utils.cell_utils import get_one_event, augment_hit_features, get_cell_stats, extract_dir_new"
   ]
  },
  {
   "cell_type": "markdown",
   "metadata": {},
   "source": [
    "### Setup"
   ]
  },
  {
   "cell_type": "code",
   "execution_count": 62,
   "metadata": {},
   "outputs": [
    {
     "name": "stdout",
     "output_type": "stream",
     "text": [
      "CPU times: user 13.3 ms, sys: 9.16 ms, total: 22.4 ms\n",
      "Wall time: 23.3 ms\n"
     ]
    }
   ],
   "source": [
    "%%time\n",
    "hits = cudf.io.read_csv(\"{}-hits.csv\".format(event_file))\n",
    "cells = cudf.io.read_csv(\"{}-cells.csv\".format(event_file))"
   ]
  },
  {
   "cell_type": "code",
   "execution_count": 63,
   "metadata": {},
   "outputs": [
    {
     "name": "stdout",
     "output_type": "stream",
     "text": [
      "CPU times: user 17 ms, sys: 8.86 ms, total: 25.9 ms\n",
      "Wall time: 25.3 ms\n"
     ]
    }
   ],
   "source": [
    "%%time\n",
    "cell_stats = get_cell_stats(cells)\n",
    "hits['cell_count'] = cell_stats[:,0]\n",
    "hits['cell_val']   = cell_stats[:,1]"
   ]
  },
  {
   "cell_type": "markdown",
   "metadata": {},
   "source": [
    "### Cell Direction"
   ]
  },
  {
   "cell_type": "code",
   "execution_count": 64,
   "metadata": {},
   "outputs": [],
   "source": [
    "from LightningModules.Processing.utils.cell_utils import get_all_local_angles, get_all_rotated, cartesion_to_spherical, theta_to_eta"
   ]
  },
  {
   "cell_type": "code",
   "execution_count": 65,
   "metadata": {},
   "outputs": [],
   "source": [
    "detector = detector_proc"
   ]
  },
  {
   "cell_type": "code",
   "execution_count": 68,
   "metadata": {},
   "outputs": [
    {
     "ename": "ValueError",
     "evalue": "object __array__ method not producing an array",
     "output_type": "error",
     "traceback": [
      "\u001b[0;31m---------------------------------------------------------------------------\u001b[0m",
      "\u001b[0;31mValueError\u001b[0m                                Traceback (most recent call last)",
      "\u001b[0;32m<timed exec>\u001b[0m in \u001b[0;36m<module>\u001b[0;34m\u001b[0m\n",
      "\u001b[0;32m/global/u2/d/danieltm/ExaTrkX/Tracking-ML-Exa.TrkX/src/Pipelines/Examples/LightningModules/Processing/utils/cell_utils.py\u001b[0m in \u001b[0;36mget_all_local_angles\u001b[0;34m(hits, cells, detector)\u001b[0m\n\u001b[1;32m    109\u001b[0m     \u001b[0mthickness\u001b[0m \u001b[0;34m=\u001b[0m \u001b[0mdetector\u001b[0m\u001b[0;34m[\u001b[0m\u001b[0;34m'thicknesses'\u001b[0m\u001b[0;34m]\u001b[0m\u001b[0;34m\u001b[0m\u001b[0;34m\u001b[0m\u001b[0m\n\u001b[1;32m    110\u001b[0m \u001b[0;34m\u001b[0m\u001b[0m\n\u001b[0;32m--> 111\u001b[0;31m     \u001b[0mpitch_cells\u001b[0m \u001b[0;34m=\u001b[0m \u001b[0mpitch\u001b[0m\u001b[0;34m[\u001b[0m\u001b[0mvols\u001b[0m\u001b[0;34m,\u001b[0m \u001b[0mlayers\u001b[0m\u001b[0;34m,\u001b[0m \u001b[0mmodules\u001b[0m\u001b[0;34m]\u001b[0m\u001b[0;34m\u001b[0m\u001b[0;34m\u001b[0m\u001b[0m\n\u001b[0m\u001b[1;32m    112\u001b[0m     \u001b[0mthickness_cells\u001b[0m \u001b[0;34m=\u001b[0m \u001b[0mthickness\u001b[0m\u001b[0;34m[\u001b[0m\u001b[0mvols\u001b[0m\u001b[0;34m,\u001b[0m \u001b[0mlayers\u001b[0m\u001b[0;34m,\u001b[0m \u001b[0mmodules\u001b[0m\u001b[0;34m]\u001b[0m\u001b[0;34m\u001b[0m\u001b[0;34m\u001b[0m\u001b[0m\n\u001b[1;32m    113\u001b[0m \u001b[0;34m\u001b[0m\u001b[0m\n",
      "\u001b[0;31mValueError\u001b[0m: object __array__ method not producing an array"
     ]
    }
   ],
   "source": [
    "%%time\n",
    "l_u, l_v, l_w = get_all_local_angles(hits, cells, detector)\n",
    "g_matrix_all = get_all_rotated(hits, detector, l_u, l_v, l_w)\n",
    "# hit_ids, cell_counts, cell_vals = hits['hit_id'].to_numpy(), hits['cell_count'].to_numpy(), hits['cell_val'].to_numpy()"
   ]
  },
  {
   "cell_type": "code",
   "execution_count": 18,
   "metadata": {},
   "outputs": [],
   "source": [
    "l_u, l_v = l_u.to_numpy(), l_v.to_numpy()"
   ]
  },
  {
   "cell_type": "code",
   "execution_count": 19,
   "metadata": {},
   "outputs": [
    {
     "name": "stdout",
     "output_type": "stream",
     "text": [
      "CPU times: user 27.6 ms, sys: 0 ns, total: 27.6 ms\n",
      "Wall time: 26.8 ms\n"
     ]
    }
   ],
   "source": [
    "%%time\n",
    "_, g_theta, g_phi = np.vstack(cartesion_to_spherical(*list(g_matrix_all.T)))\n",
    "_, l_theta, l_phi = cartesion_to_spherical(l_u, l_v, l_w)\n",
    "l_eta = theta_to_eta(l_theta)\n",
    "g_eta = theta_to_eta(g_theta)\n",
    "angles = np.vstack([hit_ids, cell_counts, cell_vals, l_eta, l_phi, l_u, l_v, l_w, g_eta, g_phi]).T"
   ]
  },
  {
   "cell_type": "code",
   "execution_count": 20,
   "metadata": {},
   "outputs": [
    {
     "name": "stdout",
     "output_type": "stream",
     "text": [
      "CPU times: user 311 µs, sys: 0 ns, total: 311 µs\n",
      "Wall time: 315 µs\n"
     ]
    }
   ],
   "source": [
    "%%time\n",
    "df_angles = pd.DataFrame(angles, columns=['cell_count', 'cell_val', 'hit_id', 'leta', 'lphi', 'lx', 'ly', 'lz', 'geta', 'gphi'])"
   ]
  },
  {
   "cell_type": "markdown",
   "metadata": {},
   "source": [
    "## Post"
   ]
  },
  {
   "cell_type": "code",
   "execution_count": 21,
   "metadata": {},
   "outputs": [
    {
     "name": "stdout",
     "output_type": "stream",
     "text": [
      "CPU times: user 263 µs, sys: 153 µs, total: 416 µs\n",
      "Wall time: 420 µs\n"
     ]
    }
   ],
   "source": [
    "%%time\n",
    "hid = pd.DataFrame(data.hid.numpy(), columns = [\"hit_id\"])"
   ]
  },
  {
   "cell_type": "code",
   "execution_count": null,
   "metadata": {},
   "outputs": [],
   "source": [
    "%%time\n",
    "cell_data = hid.merge(df_angles, on=\"hit_id\")[cell_features]"
   ]
  },
  {
   "cell_type": "code",
   "execution_count": null,
   "metadata": {},
   "outputs": [],
   "source": [
    "cell_data = torch.from_numpy((hid.merge(df_angles, on=\"hit_id\")[cell_features]).to_numpy()).float()\n",
    "data.cell_data = cell_data"
   ]
  },
  {
   "cell_type": "code",
   "execution_count": null,
   "metadata": {},
   "outputs": [],
   "source": []
  }
 ],
 "metadata": {
  "kernelspec": {
   "display_name": "ExatrkxTest",
   "language": "python",
   "name": "exatrkx-test"
  },
  "language_info": {
   "codemirror_mode": {
    "name": "ipython",
    "version": 3
   },
   "file_extension": ".py",
   "mimetype": "text/x-python",
   "name": "python",
   "nbconvert_exporter": "python",
   "pygments_lexer": "ipython3",
   "version": "3.7.7"
  }
 },
 "nbformat": 4,
 "nbformat_minor": 4
}
