{
 "cells": [
  {
   "cell_type": "code",
   "execution_count": 1,
   "metadata": {},
   "outputs": [],
   "source": [
    "%load_ext autoreload\n",
    "%autoreload 2"
   ]
  },
  {
   "cell_type": "code",
   "execution_count": 2,
   "metadata": {},
   "outputs": [],
   "source": [
    "# System imports\n",
    "import os\n",
    "import sys\n",
    "from pprint import pprint as pp\n",
    "from time import time as tt\n",
    "import inspect\n",
    "import importlib\n",
    "\n",
    "# External imports\n",
    "import matplotlib.pyplot as plt\n",
    "import matplotlib.colors\n",
    "import scipy as sp\n",
    "from sklearn.decomposition import PCA\n",
    "from sklearn.metrics import auc\n",
    "import numpy as np\n",
    "import pandas as pd\n",
    "import seaborn as sns\n",
    "import torch\n",
    "from torch_geometric.data import DataLoader\n",
    "from mpl_toolkits.mplot3d import Axes3D\n",
    "import itertools\n",
    "\n",
    "from itertools import chain\n",
    "from random import shuffle, sample\n",
    "\n",
    "from torch.nn import Linear\n",
    "import torch.nn.functional as F\n",
    "from torch_scatter import scatter, segment_csr, scatter_add\n",
    "from torch_geometric.nn.conv import MessagePassing\n",
    "from torch_cluster import knn_graph, radius_graph\n",
    "import trackml.dataset\n",
    "import torch_geometric\n",
    "\n",
    "sys.path.append('..')\n",
    "device = \"cuda\" if torch.cuda.is_available() else \"cpu\""
   ]
  },
  {
   "cell_type": "markdown",
   "metadata": {
    "heading_collapsed": true
   },
   "source": [
    "# Construction"
   ]
  },
  {
   "cell_type": "code",
   "execution_count": 3,
   "metadata": {
    "hidden": true,
    "scrolled": true
   },
   "outputs": [],
   "source": [
    "event_path = \"/global/cscratch1/sd/danieltm/ExaTrkX/trackml-codalab/train_all/event000021313\"\n",
    "feature_scale = [1000, np.pi, 1000]"
   ]
  },
  {
   "cell_type": "code",
   "execution_count": 4,
   "metadata": {
    "hidden": true
   },
   "outputs": [],
   "source": [
    "hits, particles, truth = trackml.dataset.load_event(\n",
    "        event_path, parts=['hits', 'particles', 'truth'])"
   ]
  },
  {
   "cell_type": "code",
   "execution_count": 5,
   "metadata": {
    "hidden": true
   },
   "outputs": [],
   "source": [
    "def select_hits(hits, truth, particles, pt_min=0, endcaps=False, noise=False):\n",
    "    # Barrel volume and layer ids\n",
    "    if endcaps:\n",
    "        vlids = [(7, 2), (7, 4), (7, 6), (7, 8), (7, 10), (7, 12), (7, 14), (8, 2), (8, 4), (8, 6), (8, 8), (9, 2), (9, 4), (9, 6), (9, 8), (9, 10), (9, 12), (9, 14), (12, 2), (12, 4), (12, 6), (12, 8), (12, 10), (12, 12), (13, 2), (13, 4), (13, 6), (13, 8), (14, 2), (14, 4), (14, 6), (14, 8), (14, 10), (14, 12), (16, 2), (16, 4), (16, 6), (16, 8), (16, 10), (16, 12), (17, 2), (17, 4), (18, 2), (18, 4), (18, 6), (18, 8), (18, 10), (18, 12)]\n",
    "    else:\n",
    "        vlids = [(8,2), (8,4), (8,6), (8,8), (13,2), (13,4), (13,6), (13,8), (17,2), (17,4)]\n",
    "    n_det_layers = len(vlids)\n",
    "    # Select barrel layers and assign convenient layer number [0-9]\n",
    "    vlid_groups = hits.groupby(['volume_id', 'layer_id'])\n",
    "    hits = pd.concat([vlid_groups.get_group(vlids[i]).assign(layer=i)\n",
    "                      for i in range(n_det_layers)])\n",
    "    if noise is False:\n",
    "        # Calculate particle transverse momentum\n",
    "        pt = np.sqrt(particles.px**2 + particles.py**2)\n",
    "        # Applies pt cut, removes noise hits\n",
    "        particles = particles[pt > pt_min]\n",
    "        truth = (truth[['hit_id', 'particle_id', 'tpx', 'tpy', 'weight']]\n",
    "                 .merge(particles[['particle_id', 'vx', 'vy', 'vz']], on='particle_id'))\n",
    "        truth = truth.assign(pt = np.sqrt(truth.tpx**2 + truth.tpy**2))\n",
    "    else:\n",
    "        # Calculate particle transverse momentum\n",
    "        pt = np.sqrt(truth.tpx**2 + truth.tpy**2)\n",
    "        # Applies pt cut\n",
    "        truth = truth[pt > pt_min]\n",
    "        truth.loc[truth['particle_id'] == 0,'particle_id'] = float('NaN')\n",
    "        truth = truth.assign(pt = pt)\n",
    "    # Calculate derived hits variables\n",
    "    r = np.sqrt(hits.x**2 + hits.y**2)\n",
    "    phi = np.arctan2(hits.y, hits.x)\n",
    "    # Select the data columns we need\n",
    "    hits = (hits[['hit_id', 'x', 'y', 'z', 'layer']]\n",
    "            .assign(r=r, phi=phi)\n",
    "            .merge(truth[['hit_id', 'particle_id', 'vx', 'vy', 'vz', 'pt', 'weight']], on='hit_id'))\n",
    "    # (DON'T) Remove duplicate hits\n",
    "#     hits = hits.loc[\n",
    "#         hits.groupby(['particle_id', 'layer'], as_index=False).r.idxmin()\n",
    "#     ]\n",
    "    return hits"
   ]
  },
  {
   "cell_type": "code",
   "execution_count": 6,
   "metadata": {
    "hidden": true
   },
   "outputs": [],
   "source": [
    "def build_event(event_file, pt_min, feature_scale, adjacent=True, endcaps=False, layerless=True, layerwise=True, noise=False):\n",
    "    # Get true edge list using the ordering by R' = distance from production vertex of each particle\n",
    "    hits, particles, truth = trackml.dataset.load_event(\n",
    "        event_file, parts=['hits', 'particles', 'truth'])\n",
    "    hits = select_hits(hits, truth, particles, pt_min=pt_min, endcaps=endcaps, noise=noise).assign(evtid=int(event_file[-9:]))\n",
    "    layers = hits.layer.to_numpy()\n",
    "\n",
    "    # Handle which truth graph(s) are being produced\n",
    "    layerless_true_edges, layerwise_true_edges = None, None\n",
    "\n",
    "    if layerless:\n",
    "        hits = hits.assign(R=np.sqrt((hits.x - hits.vx)**2 + (hits.y - hits.vy)**2 + (hits.z - hits.vz)**2))\n",
    "        hits = hits.sort_values('R').reset_index(drop=True).reset_index(drop=False)\n",
    "        hit_list = hits.groupby(['particle_id', 'layer'], sort=False)['index'].agg(lambda x: list(x)).groupby(level=0).agg(lambda x: list(x))\n",
    "\n",
    "        e = []\n",
    "        for row in hit_list.values:\n",
    "            for i, j in zip(row[0:-1], row[1:]):\n",
    "                e.extend(list(itertools.product(i, j)))\n",
    "\n",
    "        layerless_true_edges = np.array(e).T\n",
    "#         logging.info(\"Layerless truth graph built for {} with size {}\".format(event_file, layerless_true_edges.shape))\n",
    "\n",
    "    if layerwise:\n",
    "        # Get true edge list using the ordering of layers\n",
    "        records_array = hits.particle_id.to_numpy()\n",
    "        idx_sort = np.argsort(records_array)\n",
    "        sorted_records_array = records_array[idx_sort]\n",
    "        _, idx_start, _ = np.unique(sorted_records_array, return_counts=True,\n",
    "                                return_index=True)\n",
    "        # sets of indices\n",
    "        res = np.split(idx_sort, idx_start[1:])\n",
    "        layerwise_true_edges = np.concatenate([list(permutations(i, r=2)) for i in res if len(list(permutations(i, r=2))) > 0]).T\n",
    "        if adjacent: layerwise_true_edges = layerwise_true_edges[:, (layers[layerwise_true_edges[1]] - layers[layerwise_true_edges[0]] == 1)]\n",
    "#         logging.info(\"Layerwise truth graph built for {} with size {}\".format(event_file, layerwise_true_edges.shape))\n",
    "\n",
    "    edge_weights = hits.weight.to_numpy()[layerless_true_edges] if layerless else hits.weight.to_numpy()[layerwise_true_edges]\n",
    "    edge_weight_average = (edge_weights[0] + edge_weights[1])/2\n",
    "    edge_weight_norm = edge_weight_average / edge_weight_average.mean()\n",
    "        \n",
    "    return hits[['r', 'phi', 'z']].to_numpy() / feature_scale, hits.particle_id.to_numpy(), layers, layerless_true_edges, layerwise_true_edges, hits['hit_id'].to_numpy(), hits.pt.to_numpy(), edge_weight_norm"
   ]
  },
  {
   "cell_type": "code",
   "execution_count": 32,
   "metadata": {
    "hidden": true
   },
   "outputs": [
    {
     "name": "stdout",
     "output_type": "stream",
     "text": [
      "CPU times: user 5.82 s, sys: 72.4 ms, total: 5.89 s\n",
      "Wall time: 5.9 s\n"
     ]
    }
   ],
   "source": [
    "%%time\n",
    "hits, pid, layers, truth, _, hid, pt, weight = build_event(event_path, 0, feature_scale, adjacent=False, endcaps=True, layerless=True, layerwise=False, noise=False)"
   ]
  },
  {
   "cell_type": "code",
   "execution_count": 49,
   "metadata": {
    "hidden": true
   },
   "outputs": [],
   "source": [
    "pt_min =0\n",
    "adjacent=False\n",
    "endcaps=True\n",
    "layerless=True\n",
    "layerwise=False\n",
    "noise=False"
   ]
  },
  {
   "cell_type": "code",
   "execution_count": 51,
   "metadata": {
    "hidden": true
   },
   "outputs": [],
   "source": [
    "# Get true edge list using the ordering by R' = distance from production vertex of each particle\n",
    "hits, particles, truth = trackml.dataset.load_event(\n",
    "    event_path, parts=['hits', 'particles', 'truth'])\n",
    "hits = select_hits(hits, truth, particles, pt_min=pt_min, endcaps=endcaps, noise=noise).assign(evtid=int(event_path[-9:]))\n",
    "layers = hits.layer.to_numpy()"
   ]
  },
  {
   "cell_type": "code",
   "execution_count": 52,
   "metadata": {
    "hidden": true
   },
   "outputs": [],
   "source": [
    "hits = hits.assign(R=np.sqrt((hits.x - hits.vx)**2 + (hits.y - hits.vy)**2 + (hits.z - hits.vz)**2))"
   ]
  },
  {
   "cell_type": "code",
   "execution_count": 54,
   "metadata": {
    "hidden": true
   },
   "outputs": [
    {
     "data": {
      "text/html": [
       "<div>\n",
       "<style scoped>\n",
       "    .dataframe tbody tr th:only-of-type {\n",
       "        vertical-align: middle;\n",
       "    }\n",
       "\n",
       "    .dataframe tbody tr th {\n",
       "        vertical-align: top;\n",
       "    }\n",
       "\n",
       "    .dataframe thead th {\n",
       "        text-align: right;\n",
       "    }\n",
       "</style>\n",
       "<table border=\"1\" class=\"dataframe\">\n",
       "  <thead>\n",
       "    <tr style=\"text-align: right;\">\n",
       "      <th></th>\n",
       "      <th>hit_id</th>\n",
       "      <th>x</th>\n",
       "      <th>y</th>\n",
       "      <th>z</th>\n",
       "      <th>layer</th>\n",
       "      <th>r</th>\n",
       "      <th>phi</th>\n",
       "      <th>particle_id</th>\n",
       "      <th>vx</th>\n",
       "      <th>vy</th>\n",
       "      <th>vz</th>\n",
       "      <th>pt</th>\n",
       "      <th>weight</th>\n",
       "      <th>evtid</th>\n",
       "      <th>R</th>\n",
       "    </tr>\n",
       "  </thead>\n",
       "  <tbody>\n",
       "    <tr>\n",
       "      <th>91066</th>\n",
       "      <td>103117</td>\n",
       "      <td>-526.742981</td>\n",
       "      <td>-632.497009</td>\n",
       "      <td>-449.799988</td>\n",
       "      <td>40</td>\n",
       "      <td>823.110352</td>\n",
       "      <td>-2.265219</td>\n",
       "      <td>162141749932720128</td>\n",
       "      <td>-0.016207</td>\n",
       "      <td>0.011982</td>\n",
       "      <td>24.3501</td>\n",
       "      <td>7.071068e+14</td>\n",
       "      <td>0.000011</td>\n",
       "      <td>21313</td>\n",
       "      <td>949.908936</td>\n",
       "    </tr>\n",
       "    <tr>\n",
       "      <th>93264</th>\n",
       "      <td>107587</td>\n",
       "      <td>-668.744019</td>\n",
       "      <td>-774.533997</td>\n",
       "      <td>-655.799988</td>\n",
       "      <td>41</td>\n",
       "      <td>1023.289551</td>\n",
       "      <td>-2.283027</td>\n",
       "      <td>162141749932720128</td>\n",
       "      <td>-0.016207</td>\n",
       "      <td>0.011982</td>\n",
       "      <td>24.3501</td>\n",
       "      <td>7.071068e+14</td>\n",
       "      <td>0.000013</td>\n",
       "      <td>21313</td>\n",
       "      <td>1228.707642</td>\n",
       "    </tr>\n",
       "  </tbody>\n",
       "</table>\n",
       "</div>"
      ],
      "text/plain": [
       "       hit_id           x           y           z  layer            r  \\\n",
       "91066  103117 -526.742981 -632.497009 -449.799988     40   823.110352   \n",
       "93264  107587 -668.744019 -774.533997 -655.799988     41  1023.289551   \n",
       "\n",
       "            phi         particle_id        vx        vy       vz  \\\n",
       "91066 -2.265219  162141749932720128 -0.016207  0.011982  24.3501   \n",
       "93264 -2.283027  162141749932720128 -0.016207  0.011982  24.3501   \n",
       "\n",
       "                 pt    weight  evtid            R  \n",
       "91066  7.071068e+14  0.000011  21313   949.908936  \n",
       "93264  7.071068e+14  0.000013  21313  1228.707642  "
      ]
     },
     "execution_count": 54,
     "metadata": {},
     "output_type": "execute_result"
    }
   ],
   "source": [
    "hits[hits.pt == hits.pt.max()]"
   ]
  },
  {
   "cell_type": "code",
   "execution_count": 55,
   "metadata": {
    "hidden": true
   },
   "outputs": [],
   "source": [
    "hits = hits.sort_values('R').reset_index(drop=True).reset_index(drop=False)\n",
    "hit_list = hits.groupby(['particle_id', 'layer'], sort=False)['index'].agg(lambda x: list(x)).groupby(level=0).agg(lambda x: list(x))\n",
    "\n",
    "e = []\n",
    "for row in hit_list.values:\n",
    "    for i, j in zip(row[0:-1], row[1:]):\n",
    "        e.extend(list(itertools.product(i, j)))\n",
    "\n",
    "layerless_true_edges = np.array(e).T"
   ]
  },
  {
   "cell_type": "code",
   "execution_count": 56,
   "metadata": {
    "hidden": true
   },
   "outputs": [
    {
     "data": {
      "text/plain": [
       "array([[ 3480,  3703,  9219, ..., 65782, 74083, 91052],\n",
       "       [ 9219,  9219, 15824, ..., 74083, 91052, 93726]])"
      ]
     },
     "execution_count": 56,
     "metadata": {},
     "output_type": "execute_result"
    }
   ],
   "source": [
    "layerless_true_edges"
   ]
  },
  {
   "cell_type": "code",
   "execution_count": 72,
   "metadata": {
    "hidden": true
   },
   "outputs": [
    {
     "data": {
      "text/plain": [
       "particle_id\n",
       "162141749932720128    [[1568, 2065], [6305], [11098], [16432], [2326...\n",
       "Name: index, dtype: object"
      ]
     },
     "execution_count": 72,
     "metadata": {},
     "output_type": "execute_result"
    }
   ],
   "source": [
    "hit_list[hit_list.index == 162141749932720128]"
   ]
  },
  {
   "cell_type": "code",
   "execution_count": 73,
   "metadata": {
    "hidden": true
   },
   "outputs": [
    {
     "data": {
      "text/html": [
       "<div>\n",
       "<style scoped>\n",
       "    .dataframe tbody tr th:only-of-type {\n",
       "        vertical-align: middle;\n",
       "    }\n",
       "\n",
       "    .dataframe tbody tr th {\n",
       "        vertical-align: top;\n",
       "    }\n",
       "\n",
       "    .dataframe thead th {\n",
       "        text-align: right;\n",
       "    }\n",
       "</style>\n",
       "<table border=\"1\" class=\"dataframe\">\n",
       "  <thead>\n",
       "    <tr style=\"text-align: right;\">\n",
       "      <th></th>\n",
       "      <th>index</th>\n",
       "      <th>hit_id</th>\n",
       "      <th>x</th>\n",
       "      <th>y</th>\n",
       "      <th>z</th>\n",
       "      <th>layer</th>\n",
       "      <th>r</th>\n",
       "      <th>phi</th>\n",
       "      <th>particle_id</th>\n",
       "      <th>vx</th>\n",
       "      <th>vy</th>\n",
       "      <th>vz</th>\n",
       "      <th>pt</th>\n",
       "      <th>weight</th>\n",
       "      <th>evtid</th>\n",
       "      <th>R</th>\n",
       "    </tr>\n",
       "  </thead>\n",
       "  <tbody>\n",
       "    <tr>\n",
       "      <th>1568</th>\n",
       "      <td>1568</td>\n",
       "      <td>21726</td>\n",
       "      <td>-13.053200</td>\n",
       "      <td>-28.609100</td>\n",
       "      <td>9.704030</td>\n",
       "      <td>7</td>\n",
       "      <td>31.446251</td>\n",
       "      <td>-1.998844</td>\n",
       "      <td>162141749932720128</td>\n",
       "      <td>-0.016207</td>\n",
       "      <td>0.011982</td>\n",
       "      <td>24.3501</td>\n",
       "      <td>7.932551e-01</td>\n",
       "      <td>0.000021</td>\n",
       "      <td>21313</td>\n",
       "      <td>34.693470</td>\n",
       "    </tr>\n",
       "    <tr>\n",
       "      <th>2065</th>\n",
       "      <td>2065</td>\n",
       "      <td>21813</td>\n",
       "      <td>-14.057600</td>\n",
       "      <td>-30.696400</td>\n",
       "      <td>8.624680</td>\n",
       "      <td>7</td>\n",
       "      <td>33.762184</td>\n",
       "      <td>-2.000247</td>\n",
       "      <td>162141749932720128</td>\n",
       "      <td>-0.016207</td>\n",
       "      <td>0.011982</td>\n",
       "      <td>24.3501</td>\n",
       "      <td>7.931395e-01</td>\n",
       "      <td>0.000018</td>\n",
       "      <td>21313</td>\n",
       "      <td>37.248547</td>\n",
       "    </tr>\n",
       "    <tr>\n",
       "      <th>6305</th>\n",
       "      <td>6305</td>\n",
       "      <td>28042</td>\n",
       "      <td>-30.731199</td>\n",
       "      <td>-64.936600</td>\n",
       "      <td>-9.132830</td>\n",
       "      <td>8</td>\n",
       "      <td>71.841278</td>\n",
       "      <td>-2.012815</td>\n",
       "      <td>162141749932720128</td>\n",
       "      <td>-0.016207</td>\n",
       "      <td>0.011982</td>\n",
       "      <td>24.3501</td>\n",
       "      <td>7.923592e-01</td>\n",
       "      <td>0.000015</td>\n",
       "      <td>21313</td>\n",
       "      <td>79.264343</td>\n",
       "    </tr>\n",
       "    <tr>\n",
       "      <th>11098</th>\n",
       "      <td>11098</td>\n",
       "      <td>34812</td>\n",
       "      <td>-51.786999</td>\n",
       "      <td>-104.822998</td>\n",
       "      <td>-30.162600</td>\n",
       "      <td>9</td>\n",
       "      <td>116.917725</td>\n",
       "      <td>-2.029666</td>\n",
       "      <td>162141749932720128</td>\n",
       "      <td>-0.016207</td>\n",
       "      <td>0.011982</td>\n",
       "      <td>24.3501</td>\n",
       "      <td>7.912185e-01</td>\n",
       "      <td>0.000012</td>\n",
       "      <td>21313</td>\n",
       "      <td>129.004745</td>\n",
       "    </tr>\n",
       "    <tr>\n",
       "      <th>16432</th>\n",
       "      <td>16432</td>\n",
       "      <td>40757</td>\n",
       "      <td>-79.686798</td>\n",
       "      <td>-152.649002</td>\n",
       "      <td>-55.868500</td>\n",
       "      <td>10</td>\n",
       "      <td>172.196701</td>\n",
       "      <td>-2.051909</td>\n",
       "      <td>162141749932720128</td>\n",
       "      <td>-0.016207</td>\n",
       "      <td>0.011982</td>\n",
       "      <td>24.3501</td>\n",
       "      <td>7.909335e-01</td>\n",
       "      <td>0.000011</td>\n",
       "      <td>21313</td>\n",
       "      <td>189.967896</td>\n",
       "    </tr>\n",
       "    <tr>\n",
       "      <th>23261</th>\n",
       "      <td>23261</td>\n",
       "      <td>70432</td>\n",
       "      <td>-128.388000</td>\n",
       "      <td>-226.029999</td>\n",
       "      <td>-96.400002</td>\n",
       "      <td>24</td>\n",
       "      <td>259.948151</td>\n",
       "      <td>-2.087364</td>\n",
       "      <td>162141749932720128</td>\n",
       "      <td>-0.016207</td>\n",
       "      <td>0.011982</td>\n",
       "      <td>24.3501</td>\n",
       "      <td>7.886919e-01</td>\n",
       "      <td>0.000008</td>\n",
       "      <td>21313</td>\n",
       "      <td>286.626740</td>\n",
       "    </tr>\n",
       "    <tr>\n",
       "      <th>29281</th>\n",
       "      <td>29281</td>\n",
       "      <td>77030</td>\n",
       "      <td>-187.554001</td>\n",
       "      <td>-302.907990</td>\n",
       "      <td>-142.000000</td>\n",
       "      <td>25</td>\n",
       "      <td>356.272003</td>\n",
       "      <td>-2.125198</td>\n",
       "      <td>162141749932720128</td>\n",
       "      <td>-0.016207</td>\n",
       "      <td>0.011982</td>\n",
       "      <td>24.3501</td>\n",
       "      <td>7.870119e-01</td>\n",
       "      <td>0.000006</td>\n",
       "      <td>21313</td>\n",
       "      <td>393.196259</td>\n",
       "    </tr>\n",
       "    <tr>\n",
       "      <th>29616</th>\n",
       "      <td>29616</td>\n",
       "      <td>77012</td>\n",
       "      <td>-191.550995</td>\n",
       "      <td>-307.709991</td>\n",
       "      <td>-144.399994</td>\n",
       "      <td>25</td>\n",
       "      <td>362.459961</td>\n",
       "      <td>-2.127599</td>\n",
       "      <td>162141749932720128</td>\n",
       "      <td>-0.016207</td>\n",
       "      <td>0.011982</td>\n",
       "      <td>24.3501</td>\n",
       "      <td>7.871668e-01</td>\n",
       "      <td>0.000006</td>\n",
       "      <td>21313</td>\n",
       "      <td>399.818695</td>\n",
       "    </tr>\n",
       "    <tr>\n",
       "      <th>36784</th>\n",
       "      <td>36784</td>\n",
       "      <td>82794</td>\n",
       "      <td>-285.653015</td>\n",
       "      <td>-408.600006</td>\n",
       "      <td>-209.000000</td>\n",
       "      <td>26</td>\n",
       "      <td>498.549530</td>\n",
       "      <td>-2.180919</td>\n",
       "      <td>162141749932720128</td>\n",
       "      <td>-0.016207</td>\n",
       "      <td>0.011982</td>\n",
       "      <td>24.3501</td>\n",
       "      <td>7.871054e-01</td>\n",
       "      <td>0.000006</td>\n",
       "      <td>21313</td>\n",
       "      <td>550.458374</td>\n",
       "    </tr>\n",
       "    <tr>\n",
       "      <th>37176</th>\n",
       "      <td>37176</td>\n",
       "      <td>82789</td>\n",
       "      <td>-289.802002</td>\n",
       "      <td>-412.600006</td>\n",
       "      <td>-212.600006</td>\n",
       "      <td>26</td>\n",
       "      <td>504.206268</td>\n",
       "      <td>-2.183118</td>\n",
       "      <td>162141749932720128</td>\n",
       "      <td>-0.016207</td>\n",
       "      <td>0.011982</td>\n",
       "      <td>24.3501</td>\n",
       "      <td>7.870768e-01</td>\n",
       "      <td>0.000009</td>\n",
       "      <td>21313</td>\n",
       "      <td>557.108459</td>\n",
       "    </tr>\n",
       "    <tr>\n",
       "      <th>63694</th>\n",
       "      <td>63694</td>\n",
       "      <td>103117</td>\n",
       "      <td>-526.742981</td>\n",
       "      <td>-632.497009</td>\n",
       "      <td>-449.799988</td>\n",
       "      <td>40</td>\n",
       "      <td>823.110352</td>\n",
       "      <td>-2.265219</td>\n",
       "      <td>162141749932720128</td>\n",
       "      <td>-0.016207</td>\n",
       "      <td>0.011982</td>\n",
       "      <td>24.3501</td>\n",
       "      <td>7.071068e+14</td>\n",
       "      <td>0.000011</td>\n",
       "      <td>21313</td>\n",
       "      <td>949.908936</td>\n",
       "    </tr>\n",
       "    <tr>\n",
       "      <th>75091</th>\n",
       "      <td>75091</td>\n",
       "      <td>107587</td>\n",
       "      <td>-668.744019</td>\n",
       "      <td>-774.533997</td>\n",
       "      <td>-655.799988</td>\n",
       "      <td>41</td>\n",
       "      <td>1023.289551</td>\n",
       "      <td>-2.283027</td>\n",
       "      <td>162141749932720128</td>\n",
       "      <td>-0.016207</td>\n",
       "      <td>0.011982</td>\n",
       "      <td>24.3501</td>\n",
       "      <td>7.071068e+14</td>\n",
       "      <td>0.000013</td>\n",
       "      <td>21313</td>\n",
       "      <td>1228.707642</td>\n",
       "    </tr>\n",
       "  </tbody>\n",
       "</table>\n",
       "</div>"
      ],
      "text/plain": [
       "       index  hit_id           x           y           z  layer            r  \\\n",
       "1568    1568   21726  -13.053200  -28.609100    9.704030      7    31.446251   \n",
       "2065    2065   21813  -14.057600  -30.696400    8.624680      7    33.762184   \n",
       "6305    6305   28042  -30.731199  -64.936600   -9.132830      8    71.841278   \n",
       "11098  11098   34812  -51.786999 -104.822998  -30.162600      9   116.917725   \n",
       "16432  16432   40757  -79.686798 -152.649002  -55.868500     10   172.196701   \n",
       "23261  23261   70432 -128.388000 -226.029999  -96.400002     24   259.948151   \n",
       "29281  29281   77030 -187.554001 -302.907990 -142.000000     25   356.272003   \n",
       "29616  29616   77012 -191.550995 -307.709991 -144.399994     25   362.459961   \n",
       "36784  36784   82794 -285.653015 -408.600006 -209.000000     26   498.549530   \n",
       "37176  37176   82789 -289.802002 -412.600006 -212.600006     26   504.206268   \n",
       "63694  63694  103117 -526.742981 -632.497009 -449.799988     40   823.110352   \n",
       "75091  75091  107587 -668.744019 -774.533997 -655.799988     41  1023.289551   \n",
       "\n",
       "            phi         particle_id        vx        vy       vz  \\\n",
       "1568  -1.998844  162141749932720128 -0.016207  0.011982  24.3501   \n",
       "2065  -2.000247  162141749932720128 -0.016207  0.011982  24.3501   \n",
       "6305  -2.012815  162141749932720128 -0.016207  0.011982  24.3501   \n",
       "11098 -2.029666  162141749932720128 -0.016207  0.011982  24.3501   \n",
       "16432 -2.051909  162141749932720128 -0.016207  0.011982  24.3501   \n",
       "23261 -2.087364  162141749932720128 -0.016207  0.011982  24.3501   \n",
       "29281 -2.125198  162141749932720128 -0.016207  0.011982  24.3501   \n",
       "29616 -2.127599  162141749932720128 -0.016207  0.011982  24.3501   \n",
       "36784 -2.180919  162141749932720128 -0.016207  0.011982  24.3501   \n",
       "37176 -2.183118  162141749932720128 -0.016207  0.011982  24.3501   \n",
       "63694 -2.265219  162141749932720128 -0.016207  0.011982  24.3501   \n",
       "75091 -2.283027  162141749932720128 -0.016207  0.011982  24.3501   \n",
       "\n",
       "                 pt    weight  evtid            R  \n",
       "1568   7.932551e-01  0.000021  21313    34.693470  \n",
       "2065   7.931395e-01  0.000018  21313    37.248547  \n",
       "6305   7.923592e-01  0.000015  21313    79.264343  \n",
       "11098  7.912185e-01  0.000012  21313   129.004745  \n",
       "16432  7.909335e-01  0.000011  21313   189.967896  \n",
       "23261  7.886919e-01  0.000008  21313   286.626740  \n",
       "29281  7.870119e-01  0.000006  21313   393.196259  \n",
       "29616  7.871668e-01  0.000006  21313   399.818695  \n",
       "36784  7.871054e-01  0.000006  21313   550.458374  \n",
       "37176  7.870768e-01  0.000009  21313   557.108459  \n",
       "63694  7.071068e+14  0.000011  21313   949.908936  \n",
       "75091  7.071068e+14  0.000013  21313  1228.707642  "
      ]
     },
     "execution_count": 73,
     "metadata": {},
     "output_type": "execute_result"
    }
   ],
   "source": [
    "hits[hits.particle_id == 162141749932720128]"
   ]
  },
  {
   "cell_type": "code",
   "execution_count": 64,
   "metadata": {
    "hidden": true
   },
   "outputs": [
    {
     "data": {
      "text/html": [
       "<div>\n",
       "<style scoped>\n",
       "    .dataframe tbody tr th:only-of-type {\n",
       "        vertical-align: middle;\n",
       "    }\n",
       "\n",
       "    .dataframe tbody tr th {\n",
       "        vertical-align: top;\n",
       "    }\n",
       "\n",
       "    .dataframe thead th {\n",
       "        text-align: right;\n",
       "    }\n",
       "</style>\n",
       "<table border=\"1\" class=\"dataframe\">\n",
       "  <thead>\n",
       "    <tr style=\"text-align: right;\">\n",
       "      <th></th>\n",
       "      <th>index</th>\n",
       "      <th>hit_id</th>\n",
       "      <th>x</th>\n",
       "      <th>y</th>\n",
       "      <th>z</th>\n",
       "      <th>layer</th>\n",
       "      <th>r</th>\n",
       "      <th>phi</th>\n",
       "      <th>particle_id</th>\n",
       "      <th>vx</th>\n",
       "      <th>vy</th>\n",
       "      <th>vz</th>\n",
       "      <th>pt</th>\n",
       "      <th>weight</th>\n",
       "      <th>evtid</th>\n",
       "      <th>R</th>\n",
       "    </tr>\n",
       "  </thead>\n",
       "  <tbody>\n",
       "    <tr>\n",
       "      <th>63694</th>\n",
       "      <td>63694</td>\n",
       "      <td>103117</td>\n",
       "      <td>-526.742981</td>\n",
       "      <td>-632.497009</td>\n",
       "      <td>-449.799988</td>\n",
       "      <td>40</td>\n",
       "      <td>823.110352</td>\n",
       "      <td>-2.265219</td>\n",
       "      <td>162141749932720128</td>\n",
       "      <td>-0.016207</td>\n",
       "      <td>0.011982</td>\n",
       "      <td>24.3501</td>\n",
       "      <td>7.071068e+14</td>\n",
       "      <td>0.000011</td>\n",
       "      <td>21313</td>\n",
       "      <td>949.908936</td>\n",
       "    </tr>\n",
       "    <tr>\n",
       "      <th>75091</th>\n",
       "      <td>75091</td>\n",
       "      <td>107587</td>\n",
       "      <td>-668.744019</td>\n",
       "      <td>-774.533997</td>\n",
       "      <td>-655.799988</td>\n",
       "      <td>41</td>\n",
       "      <td>1023.289551</td>\n",
       "      <td>-2.283027</td>\n",
       "      <td>162141749932720128</td>\n",
       "      <td>-0.016207</td>\n",
       "      <td>0.011982</td>\n",
       "      <td>24.3501</td>\n",
       "      <td>7.071068e+14</td>\n",
       "      <td>0.000013</td>\n",
       "      <td>21313</td>\n",
       "      <td>1228.707642</td>\n",
       "    </tr>\n",
       "  </tbody>\n",
       "</table>\n",
       "</div>"
      ],
      "text/plain": [
       "       index  hit_id           x           y           z  layer            r  \\\n",
       "63694  63694  103117 -526.742981 -632.497009 -449.799988     40   823.110352   \n",
       "75091  75091  107587 -668.744019 -774.533997 -655.799988     41  1023.289551   \n",
       "\n",
       "            phi         particle_id        vx        vy       vz  \\\n",
       "63694 -2.265219  162141749932720128 -0.016207  0.011982  24.3501   \n",
       "75091 -2.283027  162141749932720128 -0.016207  0.011982  24.3501   \n",
       "\n",
       "                 pt    weight  evtid            R  \n",
       "63694  7.071068e+14  0.000011  21313   949.908936  \n",
       "75091  7.071068e+14  0.000013  21313  1228.707642  "
      ]
     },
     "execution_count": 64,
     "metadata": {},
     "output_type": "execute_result"
    }
   ],
   "source": [
    "hits[hits.pt == hits.pt.max()]"
   ]
  },
  {
   "cell_type": "code",
   "execution_count": null,
   "metadata": {
    "hidden": true
   },
   "outputs": [],
   "source": []
  },
  {
   "cell_type": "code",
   "execution_count": 45,
   "metadata": {
    "hidden": true
   },
   "outputs": [
    {
     "data": {
      "text/plain": [
       "array([24, 26])"
      ]
     },
     "execution_count": 45,
     "metadata": {},
     "output_type": "execute_result"
    }
   ],
   "source": [
    "layers[np.where(pt == pt.max())[0]]"
   ]
  },
  {
   "cell_type": "markdown",
   "metadata": {
    "heading_collapsed": true
   },
   "source": [
    "# Truth Intersection"
   ]
  },
  {
   "cell_type": "markdown",
   "metadata": {
    "hidden": true
   },
   "source": [
    "### Load Data"
   ]
  },
  {
   "cell_type": "code",
   "execution_count": 197,
   "metadata": {
    "hidden": true
   },
   "outputs": [],
   "source": [
    "from utils.stage_utils import get_resume_id, load_config, combo_config, dict_to_args, get_logger, build_model, build_trainer, autocast\n",
    "from LightningModules.Embedding.Models.layerless_embedding import LayerlessEmbedding\n",
    "from LightningModules.Embedding.utils import filter_hit_pt, fetch_pt, load_dataset, graph_intersection, build_edges, res, reset_edge_id"
   ]
  },
  {
   "cell_type": "code",
   "execution_count": 201,
   "metadata": {
    "hidden": true
   },
   "outputs": [],
   "source": [
    "data = torch.load('/global/cscratch1/sd/danieltm/ExaTrkX/trackml-codalab/feature_store_endcaps_SMALLTEST/21000')"
   ]
  },
  {
   "cell_type": "code",
   "execution_count": 199,
   "metadata": {
    "hidden": true,
    "scrolled": true
   },
   "outputs": [],
   "source": [
    "data = filter_hit_pt(data.to('cpu'), pt_cut=1)[0]"
   ]
  },
  {
   "cell_type": "code",
   "execution_count": 202,
   "metadata": {
    "hidden": true
   },
   "outputs": [
    {
     "data": {
      "text/plain": [
       "Data(cell_data=[107725, 9], event_file=\"/global/cscratch1/sd/danieltm/ExaTrkX/trackml-codalab/train_all/event000021000\", hid=[107725], layerless_true_edges=[2, 129059], layers=[107725], pid=[107725], pt=[107725], weights=[129059], x=[107725, 3])"
      ]
     },
     "execution_count": 202,
     "metadata": {},
     "output_type": "execute_result"
    }
   ],
   "source": [
    "data"
   ]
  },
  {
   "cell_type": "code",
   "execution_count": 204,
   "metadata": {
    "hidden": true
   },
   "outputs": [],
   "source": [
    "stage = {\"set\": \"Embedding\", \"name\": \"LayerlessEmbedding\", \"config\": \"train_small_embedding.yaml\", \"resume_id\": \"19tpoihe\"}\n",
    "libraries = {\n",
    "    \"model_library\": \"/global/homes/d/danieltm/ExaTrkX/Tracking-ML-Exa.TrkX/src/Pipelines/Examples/LightningModules\",\n",
    "    \"artifact_library\": \"/global/cscratch1/sd/danieltm/ExaTrkX/lightning_checkpoints\"\n",
    "}"
   ]
  },
  {
   "cell_type": "code",
   "execution_count": 205,
   "metadata": {
    "hidden": true
   },
   "outputs": [],
   "source": [
    "resume_id = get_resume_id(stage)\n",
    "model_config = load_config(stage, resume_id, libraries)\n",
    "model_dir = os.path.join(libraries[\"artifact_library\"], model_config[\"project\"], resume_id)\n",
    "model_name = \"last.ckpt-v0.ckpt\"\n",
    "chkpnt = torch.load(os.path.join(model_dir, model_name))\n",
    "chkpnt[\"hparams_name\"] = \"hyper_parameters\"\n",
    "model = LayerlessEmbedding(chkpnt[\"hyper_parameters\"])\n",
    "model.load_state_dict(chkpnt[\"state_dict\"])\n",
    "model = model.to(device)"
   ]
  },
  {
   "cell_type": "markdown",
   "metadata": {
    "hidden": true
   },
   "source": [
    "## Test Inference"
   ]
  },
  {
   "cell_type": "code",
   "execution_count": 112,
   "metadata": {
    "hidden": true
   },
   "outputs": [],
   "source": [
    "def graph_intersection(pred_graph, truth_graph):\n",
    "    array_size = max(pred_graph.max().item(), truth_graph.max().item()) + 1\n",
    "\n",
    "    l1 = pred_graph.cpu().numpy()\n",
    "    l2 = truth_graph.cpu().numpy()\n",
    "    e_1 = sp.sparse.coo_matrix((np.ones(l1.shape[1]), l1), shape=(array_size, array_size)).tocsr()\n",
    "    e_2 = sp.sparse.coo_matrix((np.ones(l2.shape[1]), l2), shape=(array_size, array_size)).tocsr()\n",
    "    e_intersection = (e_1.multiply(e_2) - ((e_1 - e_2)>0)).tocoo()\n",
    "\n",
    "    new_pred_graph = torch.from_numpy(np.vstack([e_intersection.row, e_intersection.col])).long().to(device)\n",
    "    y = e_intersection.data > 0\n",
    "\n",
    "    return new_pred_graph, y"
   ]
  },
  {
   "cell_type": "code",
   "execution_count": 115,
   "metadata": {
    "hidden": true
   },
   "outputs": [],
   "source": [
    "with torch.no_grad():\n",
    "    batch = data.to(device)\n",
    "\n",
    "    if 'ci' in model.hparams[\"regime\"]:\n",
    "        spatial = model(torch.cat([batch.cell_data, batch.x], axis=-1))\n",
    "    else:\n",
    "        spatial = model(batch.x)\n",
    "\n",
    "    e_bidir = torch.cat([batch.layerless_true_edges, batch.layerless_true_edges.flip(0)], axis=-1)\n",
    "\n",
    "    # Build whole KNN graph\n",
    "    e_spatial = build_edges(spatial, 1.5, 500, res)\n",
    "\n",
    "    e_spatial, y_cluster = graph_intersection(e_spatial, e_bidir)\n",
    "\n",
    "    data.true_positives = e_spatial[:, y_cluster]\n",
    "\n",
    "    cluster_true = e_bidir.shape[1]\n",
    "    cluster_true_positive = y_cluster.sum()\n",
    "    cluster_positive = len(e_spatial[0])\n",
    "\n",
    "    eff = torch.tensor(cluster_true_positive / cluster_true)\n",
    "    pur = torch.tensor(cluster_true_positive / cluster_positive)"
   ]
  },
  {
   "cell_type": "code",
   "execution_count": 116,
   "metadata": {
    "hidden": true
   },
   "outputs": [
    {
     "name": "stdout",
     "output_type": "stream",
     "text": [
      "tensor(0.7530, dtype=torch.float64) tensor(0.0180, dtype=torch.float64)\n"
     ]
    }
   ],
   "source": [
    "print(eff, pur)"
   ]
  },
  {
   "cell_type": "markdown",
   "metadata": {
    "hidden": true
   },
   "source": [
    "## Develop Graph Intersection"
   ]
  },
  {
   "cell_type": "code",
   "execution_count": 234,
   "metadata": {
    "hidden": true
   },
   "outputs": [],
   "source": [
    "with torch.no_grad():\n",
    "    batch = data.to(device)\n",
    "\n",
    "    if 'ci' in model.hparams[\"regime\"]:\n",
    "        spatial = model(torch.cat([batch.cell_data, batch.x], axis=-1))\n",
    "    else:\n",
    "        spatial = model(batch.x)\n",
    "\n",
    "    e_bidir = torch.cat([batch.layerless_true_edges, batch.layerless_true_edges.flip(0)], axis=-1)\n",
    "    weights_bidir = torch.cat([batch.weights, batch.weights])\n",
    "\n",
    "    # Build whole KNN graph\n",
    "    e_spatial = build_edges(spatial, 1., 500, res)\n",
    "\n",
    "    pred_graph, truth_graph = e_spatial, e_bidir\n",
    "    \n",
    "    array_size = max(pred_graph.max().item(), truth_graph.max().item()) + 1\n",
    "\n",
    "    l1 = pred_graph.cpu().numpy()\n",
    "    l2 = truth_graph.cpu().numpy()\n",
    "    e_1 = sp.sparse.coo_matrix((np.ones(l1.shape[1]), l1), shape=(array_size, array_size)).tocsr()\n",
    "    e_2 = sp.sparse.coo_matrix((np.ones(l2.shape[1]), l2), shape=(array_size, array_size)).tocsr()\n",
    "    \n",
    "    e_intersection = (e_1.multiply(e_2) - ((e_1 - e_2)>0))\n",
    "    \n",
    "    weight_list = weights_bidir.cpu().numpy()\n",
    "    weight_sparse = sp.sparse.coo_matrix((weight_list, l2), shape=(array_size, array_size)).tocsr()\n",
    "    new_weights = weight_sparse[e_intersection.astype('bool')]\n",
    "    new_weights = torch.from_numpy(np.array(new_weights)[0])\n",
    "\n",
    "    e_intersection = e_intersection.tocoo()    \n",
    "    new_pred_graph = torch.from_numpy(np.vstack([e_intersection.row, e_intersection.col])).long().to(device)\n",
    "    y = e_intersection.data > 0\n",
    "\n",
    "    cluster_true = e_bidir.shape[1]\n",
    "    cluster_true_positive = y.sum()\n",
    "    cluster_positive = len(new_pred_graph[0])\n",
    "\n",
    "    eff = torch.tensor(cluster_true_positive / cluster_true)\n",
    "    pur = torch.tensor(cluster_true_positive / cluster_positive)"
   ]
  },
  {
   "cell_type": "code",
   "execution_count": 235,
   "metadata": {
    "hidden": true
   },
   "outputs": [],
   "source": [
    "e_spatial = torch.cat([e_spatial, e_bidir.transpose(0,1).repeat(1,2).view(-1, 2).transpose(0,1)], axis=-1)"
   ]
  },
  {
   "cell_type": "code",
   "execution_count": 236,
   "metadata": {
    "hidden": true
   },
   "outputs": [
    {
     "data": {
      "text/plain": [
       "torch.Size([2, 4495903])"
      ]
     },
     "execution_count": 236,
     "metadata": {},
     "output_type": "execute_result"
    }
   ],
   "source": [
    "e_spatial.shape"
   ]
  },
  {
   "cell_type": "code",
   "execution_count": 237,
   "metadata": {
    "hidden": true
   },
   "outputs": [],
   "source": [
    "new_weights = torch.cat([new_weights.to(device), weights_bidir.repeat(2)], axis=-1)"
   ]
  },
  {
   "cell_type": "code",
   "execution_count": 238,
   "metadata": {
    "hidden": true
   },
   "outputs": [
    {
     "data": {
      "text/plain": [
       "torch.Size([4495903])"
      ]
     },
     "execution_count": 238,
     "metadata": {},
     "output_type": "execute_result"
    }
   ],
   "source": [
    "new_weights.shape"
   ]
  },
  {
   "cell_type": "code",
   "execution_count": 142,
   "metadata": {
    "hidden": true
   },
   "outputs": [
    {
     "data": {
      "text/plain": [
       "torch.Size([2, 3979667])"
      ]
     },
     "execution_count": 142,
     "metadata": {},
     "output_type": "execute_result"
    }
   ],
   "source": [
    "pred_graph.shape"
   ]
  },
  {
   "cell_type": "code",
   "execution_count": 139,
   "metadata": {
    "hidden": true
   },
   "outputs": [
    {
     "data": {
      "text/plain": [
       "torch.Size([119413])"
      ]
     },
     "execution_count": 139,
     "metadata": {},
     "output_type": "execute_result"
    }
   ],
   "source": [
    "data.weights[data.weights > 0].shape"
   ]
  },
  {
   "cell_type": "code",
   "execution_count": 122,
   "metadata": {
    "hidden": true
   },
   "outputs": [
    {
     "name": "stdout",
     "output_type": "stream",
     "text": [
      "CPU times: user 86.4 ms, sys: 22 ms, total: 108 ms\n",
      "Wall time: 107 ms\n"
     ]
    }
   ],
   "source": [
    "%%time\n",
    "\n",
    "e_intersection = (e_1.multiply(e_2) - ((e_1 - e_2)>0))"
   ]
  },
  {
   "cell_type": "code",
   "execution_count": 127,
   "metadata": {
    "hidden": true
   },
   "outputs": [
    {
     "name": "stdout",
     "output_type": "stream",
     "text": [
      "CPU times: user 28.3 ms, sys: 44.4 ms, total: 72.7 ms\n",
      "Wall time: 72.7 ms\n"
     ]
    },
    {
     "data": {
      "text/plain": [
       "<107725x107725 sparse matrix of type '<class 'numpy.float64'>'\n",
       "\twith 3979667 stored elements in COOrdinate format>"
      ]
     },
     "execution_count": 127,
     "metadata": {},
     "output_type": "execute_result"
    }
   ],
   "source": [
    "%%time\n",
    "e_intersection.tocoo()"
   ]
  },
  {
   "cell_type": "code",
   "execution_count": 93,
   "metadata": {
    "hidden": true
   },
   "outputs": [
    {
     "data": {
      "text/plain": [
       "tensor([[    0,     0,     1,  ..., 15197, 15197, 15197],\n",
       "        [ 1850,  2748,   501,  ..., 15196, 15195, 14789]], device='cuda:0')"
      ]
     },
     "execution_count": 93,
     "metadata": {},
     "output_type": "execute_result"
    }
   ],
   "source": [
    "pred_graph"
   ]
  },
  {
   "cell_type": "code",
   "execution_count": 65,
   "metadata": {
    "hidden": true
   },
   "outputs": [
    {
     "data": {
      "text/plain": [
       "tensor([[    0,     0,     1,  ..., 15197, 15197, 15197],\n",
       "        [ 1850,  2748,   501,  ..., 14789, 15195, 15196]], device='cuda:0')"
      ]
     },
     "execution_count": 65,
     "metadata": {},
     "output_type": "execute_result"
    }
   ],
   "source": [
    "new_pred_graph"
   ]
  },
  {
   "cell_type": "code",
   "execution_count": 96,
   "metadata": {
    "hidden": true
   },
   "outputs": [
    {
     "data": {
      "text/plain": [
       "array([False, False,  True, ...,  True, False, False])"
      ]
     },
     "execution_count": 96,
     "metadata": {},
     "output_type": "execute_result"
    }
   ],
   "source": [
    "y"
   ]
  },
  {
   "cell_type": "code",
   "execution_count": 101,
   "metadata": {
    "hidden": true
   },
   "outputs": [
    {
     "data": {
      "text/plain": [
       "array([[    0,     1,     2, ..., 15195, 15196, 15197],\n",
       "       [  626,   501,   590, ..., 14789, 14789, 14789]], dtype=int32)"
      ]
     },
     "execution_count": 101,
     "metadata": {},
     "output_type": "execute_result"
    }
   ],
   "source": [
    "np.vstack([e_2.tocoo().row, e_2.tocoo().col])"
   ]
  },
  {
   "cell_type": "code",
   "execution_count": 106,
   "metadata": {
    "hidden": true
   },
   "outputs": [
    {
     "data": {
      "text/plain": [
       "tensor([0.0654], device='cuda:0')"
      ]
     },
     "execution_count": 106,
     "metadata": {},
     "output_type": "execute_result"
    }
   ],
   "source": [
    "weights_bidir[e_bidir[0] == 15197]"
   ]
  },
  {
   "cell_type": "code",
   "execution_count": 95,
   "metadata": {
    "hidden": true
   },
   "outputs": [
    {
     "data": {
      "text/plain": [
       "tensor([0.2169, 0.1792, 0.1462,  ..., 0.0957, 0.1115, 0.1311], device='cuda:0')"
      ]
     },
     "execution_count": 95,
     "metadata": {},
     "output_type": "execute_result"
    }
   ],
   "source": [
    "weights_bidir"
   ]
  },
  {
   "cell_type": "code",
   "execution_count": 129,
   "metadata": {
    "hidden": true
   },
   "outputs": [
    {
     "ename": "IndexError",
     "evalue": "index (107724) out of range",
     "output_type": "error",
     "traceback": [
      "\u001b[0;31m---------------------------------------------------------------------------\u001b[0m",
      "\u001b[0;31mIndexError\u001b[0m                                Traceback (most recent call last)",
      "\u001b[0;32m<ipython-input-129-6abcf9acd185>\u001b[0m in \u001b[0;36m<module>\u001b[0;34m\u001b[0m\n\u001b[0;32m----> 1\u001b[0;31m \u001b[0mweight_sparse\u001b[0m\u001b[0;34m[\u001b[0m\u001b[0me_intersection\u001b[0m\u001b[0;34m.\u001b[0m\u001b[0mastype\u001b[0m\u001b[0;34m(\u001b[0m\u001b[0;34m'bool'\u001b[0m\u001b[0;34m)\u001b[0m\u001b[0;34m]\u001b[0m\u001b[0;34m\u001b[0m\u001b[0;34m\u001b[0m\u001b[0m\n\u001b[0m",
      "\u001b[0;32m~/.local/lib/python3.7/site-packages/scipy/sparse/_index.py\u001b[0m in \u001b[0;36m__getitem__\u001b[0;34m(self, key)\u001b[0m\n\u001b[1;32m     33\u001b[0m     \"\"\"\n\u001b[1;32m     34\u001b[0m     \u001b[0;32mdef\u001b[0m \u001b[0m__getitem__\u001b[0m\u001b[0;34m(\u001b[0m\u001b[0mself\u001b[0m\u001b[0;34m,\u001b[0m \u001b[0mkey\u001b[0m\u001b[0;34m)\u001b[0m\u001b[0;34m:\u001b[0m\u001b[0;34m\u001b[0m\u001b[0;34m\u001b[0m\u001b[0m\n\u001b[0;32m---> 35\u001b[0;31m         \u001b[0mrow\u001b[0m\u001b[0;34m,\u001b[0m \u001b[0mcol\u001b[0m \u001b[0;34m=\u001b[0m \u001b[0mself\u001b[0m\u001b[0;34m.\u001b[0m\u001b[0m_validate_indices\u001b[0m\u001b[0;34m(\u001b[0m\u001b[0mkey\u001b[0m\u001b[0;34m)\u001b[0m\u001b[0;34m\u001b[0m\u001b[0;34m\u001b[0m\u001b[0m\n\u001b[0m\u001b[1;32m     36\u001b[0m         \u001b[0;31m# Dispatch to specialized methods.\u001b[0m\u001b[0;34m\u001b[0m\u001b[0;34m\u001b[0m\u001b[0;34m\u001b[0m\u001b[0m\n\u001b[1;32m     37\u001b[0m         \u001b[0;32mif\u001b[0m \u001b[0misinstance\u001b[0m\u001b[0;34m(\u001b[0m\u001b[0mrow\u001b[0m\u001b[0;34m,\u001b[0m \u001b[0mINT_TYPES\u001b[0m\u001b[0;34m)\u001b[0m\u001b[0;34m:\u001b[0m\u001b[0;34m\u001b[0m\u001b[0;34m\u001b[0m\u001b[0m\n",
      "\u001b[0;32m~/.local/lib/python3.7/site-packages/scipy/sparse/_index.py\u001b[0m in \u001b[0;36m_validate_indices\u001b[0;34m(self, key)\u001b[0m\n\u001b[1;32m    137\u001b[0m                 \u001b[0mrow\u001b[0m \u001b[0;34m+=\u001b[0m \u001b[0mM\u001b[0m\u001b[0;34m\u001b[0m\u001b[0;34m\u001b[0m\u001b[0m\n\u001b[1;32m    138\u001b[0m         \u001b[0;32melif\u001b[0m \u001b[0;32mnot\u001b[0m \u001b[0misinstance\u001b[0m\u001b[0;34m(\u001b[0m\u001b[0mrow\u001b[0m\u001b[0;34m,\u001b[0m \u001b[0mslice\u001b[0m\u001b[0;34m)\u001b[0m\u001b[0;34m:\u001b[0m\u001b[0;34m\u001b[0m\u001b[0;34m\u001b[0m\u001b[0m\n\u001b[0;32m--> 139\u001b[0;31m             \u001b[0mrow\u001b[0m \u001b[0;34m=\u001b[0m \u001b[0mself\u001b[0m\u001b[0;34m.\u001b[0m\u001b[0m_asindices\u001b[0m\u001b[0;34m(\u001b[0m\u001b[0mrow\u001b[0m\u001b[0;34m,\u001b[0m \u001b[0mM\u001b[0m\u001b[0;34m)\u001b[0m\u001b[0;34m\u001b[0m\u001b[0;34m\u001b[0m\u001b[0m\n\u001b[0m\u001b[1;32m    140\u001b[0m \u001b[0;34m\u001b[0m\u001b[0m\n\u001b[1;32m    141\u001b[0m         \u001b[0;32mif\u001b[0m \u001b[0misintlike\u001b[0m\u001b[0;34m(\u001b[0m\u001b[0mcol\u001b[0m\u001b[0;34m)\u001b[0m\u001b[0;34m:\u001b[0m\u001b[0;34m\u001b[0m\u001b[0;34m\u001b[0m\u001b[0m\n",
      "\u001b[0;32m~/.local/lib/python3.7/site-packages/scipy/sparse/_index.py\u001b[0m in \u001b[0;36m_asindices\u001b[0;34m(self, idx, length)\u001b[0m\n\u001b[1;32m    169\u001b[0m         \u001b[0mmax_indx\u001b[0m \u001b[0;34m=\u001b[0m \u001b[0mx\u001b[0m\u001b[0;34m.\u001b[0m\u001b[0mmax\u001b[0m\u001b[0;34m(\u001b[0m\u001b[0;34m)\u001b[0m\u001b[0;34m\u001b[0m\u001b[0;34m\u001b[0m\u001b[0m\n\u001b[1;32m    170\u001b[0m         \u001b[0;32mif\u001b[0m \u001b[0mmax_indx\u001b[0m \u001b[0;34m>=\u001b[0m \u001b[0mlength\u001b[0m\u001b[0;34m:\u001b[0m\u001b[0;34m\u001b[0m\u001b[0;34m\u001b[0m\u001b[0m\n\u001b[0;32m--> 171\u001b[0;31m             \u001b[0;32mraise\u001b[0m \u001b[0mIndexError\u001b[0m\u001b[0;34m(\u001b[0m\u001b[0;34m'index (%d) out of range'\u001b[0m \u001b[0;34m%\u001b[0m \u001b[0mmax_indx\u001b[0m\u001b[0;34m)\u001b[0m\u001b[0;34m\u001b[0m\u001b[0;34m\u001b[0m\u001b[0m\n\u001b[0m\u001b[1;32m    172\u001b[0m \u001b[0;34m\u001b[0m\u001b[0m\n\u001b[1;32m    173\u001b[0m         \u001b[0mmin_indx\u001b[0m \u001b[0;34m=\u001b[0m \u001b[0mx\u001b[0m\u001b[0;34m.\u001b[0m\u001b[0mmin\u001b[0m\u001b[0;34m(\u001b[0m\u001b[0;34m)\u001b[0m\u001b[0;34m\u001b[0m\u001b[0;34m\u001b[0m\u001b[0m\n",
      "\u001b[0;31mIndexError\u001b[0m: index (107724) out of range"
     ]
    }
   ],
   "source": [
    "weight_sparse[e_intersection.astype('bool')]"
   ]
  },
  {
   "cell_type": "code",
   "execution_count": 68,
   "metadata": {
    "hidden": true
   },
   "outputs": [
    {
     "data": {
      "text/plain": [
       "tensor([0.2169, 0.1792, 0.1462,  ..., 0.0957, 0.1115, 0.1311], device='cuda:0')"
      ]
     },
     "execution_count": 68,
     "metadata": {},
     "output_type": "execute_result"
    }
   ],
   "source": [
    "data.weights"
   ]
  },
  {
   "cell_type": "code",
   "execution_count": 77,
   "metadata": {
    "hidden": true
   },
   "outputs": [],
   "source": [
    "weights_bidir = torch.cat([data.weights, data.weights])"
   ]
  },
  {
   "cell_type": "code",
   "execution_count": 78,
   "metadata": {
    "hidden": true
   },
   "outputs": [],
   "source": [
    "weight_list = weights_bidir.cpu().numpy()"
   ]
  },
  {
   "cell_type": "code",
   "execution_count": 81,
   "metadata": {
    "hidden": true
   },
   "outputs": [],
   "source": [
    "weight_sparse = sp.sparse.coo_matrix((weight_list, l2), shape=(array_size, array_size)).tocsr()"
   ]
  },
  {
   "cell_type": "code",
   "execution_count": 89,
   "metadata": {
    "hidden": true
   },
   "outputs": [
    {
     "data": {
      "text/plain": [
       "<15198x15198 sparse matrix of type '<class 'numpy.float32'>'\n",
       "\twith 36220 stored elements in Compressed Sparse Row format>"
      ]
     },
     "execution_count": 89,
     "metadata": {},
     "output_type": "execute_result"
    }
   ],
   "source": [
    "weight_sparse"
   ]
  },
  {
   "cell_type": "code",
   "execution_count": 90,
   "metadata": {
    "hidden": true
   },
   "outputs": [
    {
     "data": {
      "text/plain": [
       "<15198x15198 sparse matrix of type '<class 'numpy.bool_'>'\n",
       "\twith 69872 stored elements in Compressed Sparse Row format>"
      ]
     },
     "execution_count": 90,
     "metadata": {},
     "output_type": "execute_result"
    }
   ],
   "source": [
    "e_intersection.astype('bool')"
   ]
  },
  {
   "cell_type": "markdown",
   "metadata": {
    "hidden": true
   },
   "source": [
    "## Test Train Weighting"
   ]
  },
  {
   "cell_type": "code",
   "execution_count": null,
   "metadata": {
    "hidden": true
   },
   "outputs": [],
   "source": [
    "if 'ci' in self.hparams[\"regime\"]:\n",
    "            spatial = self(torch.cat([batch.cell_data, batch.x], axis=-1))\n",
    "        else:\n",
    "            spatial = self(batch.x)\n",
    "\n",
    "        e_bidir = torch.cat([batch.layerless_true_edges, batch.layerless_true_edges.flip(0)], axis=-1)\n",
    "\n",
    "        e_spatial = torch.empty([2,0], dtype=torch.int64, device=self.device)\n",
    "\n",
    "        if 'rp' in self.hparams[\"regime\"]:\n",
    "        # Get random edge list\n",
    "            n_random = int(self.hparams[\"randomisation\"]*e_bidir.shape[1])\n",
    "            e_spatial = torch.cat([e_spatial, torch.randint(e_bidir.min(), e_bidir.max(), (2, n_random), device=self.device)], axis=-1)\n",
    "\n",
    "        if 'hnm' in self.hparams[\"regime\"]:\n",
    "            e_spatial = (torch.cat([e_spatial, build_edges(spatial, self.hparams[\"r_train\"], self.hparams[\"knn\"], res)], axis=-1)\n",
    "                        if torch.cuda.is_available()\n",
    "                        else torch.cat([e_spatial, radius_graph(spatial, r=self.hparams[\"r_train\"], max_num_neighbors=self.hparams[\"knn\"])], axis=-1))\n",
    "\n",
    "        if \"weighting\" in self.hparams[\"regime\"]:\n",
    "            weights_bidir = torch.cat([batch.weights, batch.weights])\n",
    "            e_spatial, y_cluster, new_weights = graph_intersection(e_spatial, e_bidir, using_weights=True, weights_bidir=weights_bidir)\n",
    "            new_weights = new_weights.to(self.device) * self.hparams[\"weight\"] # Weight positive examples\n",
    "        else:\n",
    "            e_spatial, y_cluster = graph_intersection(e_spatial, e_bidir)\n",
    "            new_weights = y_cluster * self.hparams[\"weight\"]\n",
    "        \n",
    "        new_weights[y_cluster == 0] = 1 # Give negative examples a weight of 1 (note that there may still be TRUE examples that are weightless)\n",
    "\n",
    "#         e_spatial = torch.cat([e_spatial, e_bidir.transpose(0,1).repeat(1,self.hparams[\"weight\"]).view(-1, 2).transpose(0,1)], axis=-1)\n",
    "#         y_cluster = np.concatenate([y_cluster.astype(int), np.ones(e_bidir.shape[1]*self.hparams[\"weight\"])])\n",
    "\n",
    "        hinge = y_cluster.float()\n",
    "        hinge[hinge == 0] = -1\n",
    "\n",
    "        reference = spatial.index_select(0, e_spatial[1])\n",
    "        neighbors = spatial.index_select(0, e_spatial[0])\n",
    "        d = torch.sum((reference - neighbors)**2, dim=-1)\n",
    "        d = d * new_weights\n",
    "\n",
    "        loss = torch.nn.functional.hinge_embedding_loss(d, hinge, margin=self.hparams[\"margin\"], reduction=\"mean\")\n",
    "\n",
    "        self.log('train_loss', loss)"
   ]
  },
  {
   "cell_type": "markdown",
   "metadata": {},
   "source": [
    "# Weighted Performance"
   ]
  },
  {
   "cell_type": "markdown",
   "metadata": {},
   "source": [
    "1. Define weighted performance\n",
    "2. Load unweighted model, show score\n",
    "3. Load weighted model, show score"
   ]
  },
  {
   "cell_type": "markdown",
   "metadata": {},
   "source": [
    "## Load Model"
   ]
  },
  {
   "cell_type": "code",
   "execution_count": 3,
   "metadata": {},
   "outputs": [],
   "source": [
    "def stats(lst):\n",
    "    return {\"mean\": np.mean(lst), \"st.dev\": np.std(lst)}"
   ]
  },
  {
   "cell_type": "code",
   "execution_count": 4,
   "metadata": {},
   "outputs": [],
   "source": [
    "from utils.stage_utils import get_resume_id, load_config, combo_config, dict_to_args, get_logger, build_model, build_trainer, autocast\n",
    "from LightningModules.Embedding.Models.layerless_embedding import LayerlessEmbedding\n",
    "from LightningModules.Embedding.utils import filter_hit_pt, fetch_pt, load_dataset, graph_intersection, build_edges, res"
   ]
  },
  {
   "cell_type": "code",
   "execution_count": 65,
   "metadata": {},
   "outputs": [],
   "source": [
    "stage = {\"set\": \"Embedding\", \"name\": \"LayerlessEmbedding\", \"config\": \"train_coda_small_embedding.yaml\", \"resume_id\": \"suvpgvg8\"}\n",
    "libraries = {\n",
    "    \"model_library\": \"/global/homes/d/danieltm/ExaTrkX/Tracking-ML-Exa.TrkX/src/Pipelines/Examples/LightningModules\",\n",
    "    \"artifact_library\": \"/global/cscratch1/sd/danieltm/ExaTrkX/lightning_checkpoints\"\n",
    "}"
   ]
  },
  {
   "cell_type": "code",
   "execution_count": 66,
   "metadata": {},
   "outputs": [],
   "source": [
    "resume_id = get_resume_id(stage)"
   ]
  },
  {
   "cell_type": "code",
   "execution_count": 67,
   "metadata": {},
   "outputs": [],
   "source": [
    "model_config = load_config(stage, resume_id, libraries)"
   ]
  },
  {
   "cell_type": "code",
   "execution_count": 68,
   "metadata": {},
   "outputs": [],
   "source": [
    "model_dir = os.path.join(libraries[\"artifact_library\"], model_config[\"project\"], resume_id)\n",
    "model_name = \"last.ckpt-v1.ckpt\""
   ]
  },
  {
   "cell_type": "code",
   "execution_count": 69,
   "metadata": {},
   "outputs": [],
   "source": [
    "model = LayerlessEmbedding.load_from_checkpoint(os.path.join(model_dir, model_name)).to(device)"
   ]
  },
  {
   "cell_type": "code",
   "execution_count": 10,
   "metadata": {},
   "outputs": [],
   "source": [
    "model.setup(\"fit\")"
   ]
  },
  {
   "cell_type": "code",
   "execution_count": 11,
   "metadata": {},
   "outputs": [],
   "source": [
    "test_set = model.testset"
   ]
  },
  {
   "cell_type": "markdown",
   "metadata": {},
   "source": [
    "## Weightless model"
   ]
  },
  {
   "cell_type": "code",
   "execution_count": 14,
   "metadata": {},
   "outputs": [
    {
     "data": {
      "text/plain": [
       "<matplotlib.axes._subplots.AxesSubplot at 0x2aab76d6cb50>"
      ]
     },
     "execution_count": 14,
     "metadata": {},
     "output_type": "execute_result"
    },
    {
     "data": {
      "image/png": "[encoded data removed]",
      "text/plain": [
       "<Figure size 432x288 with 1 Axes>"
      ]
     },
     "metadata": {
      "needs_background": "light"
     },
     "output_type": "display_data"
    }
   ],
   "source": [
    "sns.histplot(test_set[0].weights.cpu().numpy(), binrange=(0, 3))"
   ]
  },
  {
   "cell_type": "code",
   "execution_count": 58,
   "metadata": {},
   "outputs": [
    {
     "name": "stdout",
     "output_type": "stream",
     "text": [
      "CPU times: user 2min 47s, sys: 1min 41s, total: 4min 28s\n",
      "Wall time: 4min 12s\n"
     ]
    }
   ],
   "source": [
    "%%time\n",
    "weighted_tp = []\n",
    "weighted_t = []\n",
    "weighted_p = []\n",
    "tp_list = []\n",
    "t_list = []\n",
    "p_list = []\n",
    "\n",
    "with torch.no_grad():\n",
    "    for i, data in enumerate(test_set.dataset[:100]):\n",
    "        \n",
    "        batch = data.to(device)\n",
    "\n",
    "        if 'ci' in model.hparams[\"regime\"]:\n",
    "            spatial = model(torch.cat([batch.cell_data, batch.x], axis=-1))\n",
    "        else:\n",
    "            spatial = model(batch.x)\n",
    "\n",
    "        # Build whole KNN graph\n",
    "        e_spatial = build_edges(spatial, 1.85, 300, res)\n",
    "\n",
    "        e_bidir = torch.cat([batch.layerless_true_edges, batch.layerless_true_edges.flip(0)], axis=-1)\n",
    "        weights_bidir = torch.cat([batch.weights, batch.weights])\n",
    "\n",
    "        e_spatial, y_cluster, new_weights = graph_intersection(e_spatial, e_bidir, using_weights=True, weights_bidir=weights_bidir)\n",
    "        new_weights = new_weights.to(device)\n",
    "        \n",
    "        weighted_tp.append(new_weights.sum().item())\n",
    "        weighted_t.append(weights_bidir.sum().item())\n",
    "        weighted_p.append(new_weights.sum().item() + (~y_cluster).sum().item())\n",
    "        t_list.append(e_bidir.shape[1])\n",
    "        tp_list.append(y_cluster.sum().item())\n",
    "        p_list.append(len(e_spatial[0]))\n",
    "        "
   ]
  },
  {
   "cell_type": "code",
   "execution_count": 59,
   "metadata": {},
   "outputs": [],
   "source": [
    "eff_list, pur_list = np.array(tp_list) / np.array(t_list), np.array(tp_list) / np.array(p_list)\n",
    "weighted_eff, weighted_pur = np.array(weighted_tp) / np.array(weighted_t), np.array(weighted_tp) / np.array(weighted_p)"
   ]
  },
  {
   "cell_type": "code",
   "execution_count": 60,
   "metadata": {},
   "outputs": [
    {
     "name": "stdout",
     "output_type": "stream",
     "text": [
      "{'mean': 0.9708377159014665, 'st.dev': 0.0018259698523645604}\n",
      "{'mean': 0.016401625927863435, 'st.dev': 0.0015570255279057743}\n",
      "{'mean': 0.9902625186284297, 'st.dev': 0.001029258756145663}\n",
      "{'mean': 0.016722416843600332, 'st.dev': 0.0015662484882566182}\n",
      "{'mean': 219085.92859375, 'st.dev': 27369.3191101115}\n"
     ]
    }
   ],
   "source": [
    "print(stats(eff_list))\n",
    "print(stats(pur_list))\n",
    "print(stats(weighted_eff))\n",
    "print(stats(weighted_pur))\n",
    "print(stats(weighted_tp))"
   ]
  },
  {
   "cell_type": "code",
   "execution_count": 61,
   "metadata": {},
   "outputs": [
    {
     "data": {
      "text/plain": [
       "<matplotlib.axes._subplots.AxesSubplot at 0x2aab88e92710>"
      ]
     },
     "execution_count": 61,
     "metadata": {},
     "output_type": "execute_result"
    },
    {
     "data": {
      "image/png": "[encoded data removed]",
      "text/plain": [
       "<Figure size 432x288 with 1 Axes>"
      ]
     },
     "metadata": {
      "needs_background": "light"
     },
     "output_type": "display_data"
    }
   ],
   "source": [
    "sns.histplot(weighted_eff)"
   ]
  },
  {
   "cell_type": "code",
   "execution_count": 62,
   "metadata": {},
   "outputs": [
    {
     "data": {
      "text/plain": [
       "<matplotlib.axes._subplots.AxesSubplot at 0x2aab88e8bd10>"
      ]
     },
     "execution_count": 62,
     "metadata": {},
     "output_type": "execute_result"
    },
    {
     "data": {
      "image/png": "[encoded data removed]",
      "text/plain": [
       "<Figure size 432x288 with 1 Axes>"
      ]
     },
     "metadata": {
      "needs_background": "light"
     },
     "output_type": "display_data"
    }
   ],
   "source": [
    "sns.histplot(weighted_pur)"
   ]
  },
  {
   "cell_type": "code",
   "execution_count": 63,
   "metadata": {},
   "outputs": [
    {
     "data": {
      "text/plain": [
       "<matplotlib.axes._subplots.AxesSubplot at 0x2aab88fb8f50>"
      ]
     },
     "execution_count": 63,
     "metadata": {},
     "output_type": "execute_result"
    },
    {
     "data": {
      "image/png": "[encoded data removed]",
      "text/plain": [
       "<Figure size 432x288 with 1 Axes>"
      ]
     },
     "metadata": {
      "needs_background": "light"
     },
     "output_type": "display_data"
    }
   ],
   "source": [
    "sns.histplot(eff_list)"
   ]
  },
  {
   "cell_type": "code",
   "execution_count": 64,
   "metadata": {},
   "outputs": [
    {
     "data": {
      "text/plain": [
       "<matplotlib.axes._subplots.AxesSubplot at 0x2aab89006490>"
      ]
     },
     "execution_count": 64,
     "metadata": {},
     "output_type": "execute_result"
    },
    {
     "data": {
      "image/png": "[encoded data removed]",
      "text/plain": [
       "<Figure size 432x288 with 1 Axes>"
      ]
     },
     "metadata": {
      "needs_background": "light"
     },
     "output_type": "display_data"
    }
   ],
   "source": [
    "sns.histplot(pur_list)"
   ]
  },
  {
   "cell_type": "markdown",
   "metadata": {},
   "source": [
    "## Weighted model"
   ]
  },
  {
   "cell_type": "code",
   "execution_count": 171,
   "metadata": {},
   "outputs": [
    {
     "name": "stdout",
     "output_type": "stream",
     "text": [
      "CPU times: user 2min 27s, sys: 1min 32s, total: 3min 59s\n",
      "Wall time: 3min 40s\n"
     ]
    }
   ],
   "source": [
    "%%time\n",
    "weighted_tp2 = []\n",
    "weighted_t2 = []\n",
    "weighted_p2 = []\n",
    "tp_list2 = []\n",
    "t_list2 = []\n",
    "p_list2 = []\n",
    "\n",
    "with torch.no_grad():\n",
    "    for i, data in enumerate(test_set.dataset[:100]):\n",
    "        \n",
    "        batch = data.to(device)\n",
    "\n",
    "        if 'ci' in model.hparams[\"regime\"]:\n",
    "            spatial = model(torch.cat([batch.cell_data, batch.x], axis=-1))\n",
    "        else:\n",
    "            spatial = model(batch.x)\n",
    "\n",
    "        # Build whole KNN graph\n",
    "        e_spatial = build_edges(spatial, 1.95, 500, res)\n",
    "\n",
    "        e_bidir = torch.cat([batch.layerless_true_edges, batch.layerless_true_edges.flip(0)], axis=-1)\n",
    "        weights_bidir = torch.cat([batch.weights, batch.weights])\n",
    "\n",
    "        e_spatial, y_cluster, new_weights = graph_intersection(e_spatial, e_bidir, using_weights=True, weights_bidir=weights_bidir)\n",
    "        new_weights = new_weights.to(device)\n",
    "        \n",
    "        weighted_tp2.append(new_weights.sum().item())\n",
    "        weighted_t2.append(weights_bidir.sum().item())\n",
    "        weighted_p2.append(new_weights.sum().item() + (~y_cluster).sum().item())\n",
    "        t_list2.append(e_bidir.shape[1])\n",
    "        tp_list2.append(y_cluster.sum().item())\n",
    "        p_list2.append(len(e_spatial[0]))\n",
    "        "
   ]
  },
  {
   "cell_type": "code",
   "execution_count": 172,
   "metadata": {},
   "outputs": [],
   "source": [
    "eff_list2, pur_list2 = np.array(tp_list2) / np.array(t_list2), np.array(tp_list2) / np.array(p_list2)\n",
    "weighted_eff2, weighted_pur2 = np.array(weighted_tp2) / np.array(weighted_t2), np.array(weighted_tp2) / np.array(weighted_p2)"
   ]
  },
  {
   "cell_type": "code",
   "execution_count": 173,
   "metadata": {},
   "outputs": [
    {
     "name": "stdout",
     "output_type": "stream",
     "text": [
      "{'mean': 0.9389585187922951, 'st.dev': 0.0024056098423216967}\n",
      "{'mean': 0.019762753855241292, 'st.dev': 0.002509433987422748}\n",
      "{'mean': 0.9901436909587648, 'st.dev': 0.0012735681376005589}\n",
      "{'mean': 0.020816219600608647, 'st.dev': 0.002630377065783889}\n",
      "{'mean': 219068.59328125, 'st.dev': 27439.174381085653}\n"
     ]
    }
   ],
   "source": [
    "print(stats(eff_list2))\n",
    "print(stats(pur_list2))\n",
    "print(stats(weighted_eff2))\n",
    "print(stats(weighted_pur2))\n",
    "print(stats(weighted_tp2))"
   ]
  },
  {
   "cell_type": "code",
   "execution_count": 174,
   "metadata": {},
   "outputs": [
    {
     "data": {
      "text/plain": [
       "<matplotlib.axes._subplots.AxesSubplot at 0x2aabd67b4fd0>"
      ]
     },
     "execution_count": 174,
     "metadata": {},
     "output_type": "execute_result"
    },
    {
     "data": {
      "image/png": "[encoded data removed]",
      "text/plain": [
       "<Figure size 432x288 with 1 Axes>"
      ]
     },
     "metadata": {
      "needs_background": "light"
     },
     "output_type": "display_data"
    }
   ],
   "source": [
    "sns.histplot(weighted_eff2)"
   ]
  },
  {
   "cell_type": "code",
   "execution_count": 175,
   "metadata": {},
   "outputs": [
    {
     "data": {
      "text/plain": [
       "<matplotlib.axes._subplots.AxesSubplot at 0x2aabd684e250>"
      ]
     },
     "execution_count": 175,
     "metadata": {},
     "output_type": "execute_result"
    },
    {
     "data": {
      "image/png": "[encoded data removed]",
      "text/plain": [
       "<Figure size 432x288 with 1 Axes>"
      ]
     },
     "metadata": {
      "needs_background": "light"
     },
     "output_type": "display_data"
    }
   ],
   "source": [
    "sns.histplot(weighted_pur2)"
   ]
  },
  {
   "cell_type": "code",
   "execution_count": 176,
   "metadata": {},
   "outputs": [
    {
     "data": {
      "text/plain": [
       "<matplotlib.axes._subplots.AxesSubplot at 0x2aabd6885050>"
      ]
     },
     "execution_count": 176,
     "metadata": {},
     "output_type": "execute_result"
    },
    {
     "data": {
      "image/png": "[encoded data removed]",
      "text/plain": [
       "<Figure size 432x288 with 1 Axes>"
      ]
     },
     "metadata": {
      "needs_background": "light"
     },
     "output_type": "display_data"
    }
   ],
   "source": [
    "sns.histplot(eff_list2)"
   ]
  },
  {
   "cell_type": "code",
   "execution_count": 177,
   "metadata": {},
   "outputs": [
    {
     "data": {
      "text/plain": [
       "<matplotlib.axes._subplots.AxesSubplot at 0x2aabd69409d0>"
      ]
     },
     "execution_count": 177,
     "metadata": {},
     "output_type": "execute_result"
    },
    {
     "data": {
      "image/png": "[encoded data removed]",
      "text/plain": [
       "<Figure size 432x288 with 1 Axes>"
      ]
     },
     "metadata": {
      "needs_background": "light"
     },
     "output_type": "display_data"
    }
   ],
   "source": [
    "sns.histplot(pur_list2)"
   ]
  },
  {
   "cell_type": "markdown",
   "metadata": {},
   "source": [
    "### Compare"
   ]
  },
  {
   "cell_type": "code",
   "execution_count": 178,
   "metadata": {},
   "outputs": [
    {
     "data": {
      "text/plain": [
       "<matplotlib.legend.Legend at 0x2aabd69e5310>"
      ]
     },
     "execution_count": 178,
     "metadata": {},
     "output_type": "execute_result"
    },
    {
     "data": {
      "image/png": "[encoded data removed]",
      "text/plain": [
       "<Figure size 432x288 with 1 Axes>"
      ]
     },
     "metadata": {
      "needs_background": "light"
     },
     "output_type": "display_data"
    }
   ],
   "source": [
    "x = np.array([\"Event-level weighted eff.\"])\n",
    "y = np.array([stats(weighted_eff)[\"mean\"]])\n",
    "e = np.array([stats(weighted_eff)[\"st.dev\"]])\n",
    "plt.errorbar(x, y, e, capsize = 10, capthick=5, marker=\".\", ms = 20, label=\"Unweighted model\")\n",
    "x = np.array([\"Event-level weighted eff.\"])\n",
    "y = np.array([stats(weighted_eff2)[\"mean\"]])\n",
    "e = np.array([stats(weighted_eff2)[\"st.dev\"]])\n",
    "plt.errorbar(x, y, e, capsize = 10, capthick=5, marker=\".\", ms = 20, label=\"Weighted model\")\n",
    "plt.legend()"
   ]
  },
  {
   "cell_type": "code",
   "execution_count": 179,
   "metadata": {},
   "outputs": [
    {
     "data": {
      "text/plain": [
       "<matplotlib.legend.Legend at 0x2aabd6a5d410>"
      ]
     },
     "execution_count": 179,
     "metadata": {},
     "output_type": "execute_result"
    },
    {
     "data": {
      "image/png": "[encoded data removed]",
      "text/plain": [
       "<Figure size 432x288 with 1 Axes>"
      ]
     },
     "metadata": {
      "needs_background": "light"
     },
     "output_type": "display_data"
    }
   ],
   "source": [
    "x = np.array([\"Event-level weighted pur.\"])\n",
    "y = np.array([stats(weighted_pur)[\"mean\"]])\n",
    "e = np.array([stats(weighted_pur)[\"st.dev\"]])\n",
    "plt.errorbar(x, y, e, capsize = 10, capthick=5, marker=\".\", ms = 20, label=\"Unweighted model\")\n",
    "x = np.array([\"Event-level weighted pur.\"])\n",
    "y = np.array([stats(weighted_pur2)[\"mean\"]])\n",
    "e = np.array([stats(weighted_pur2)[\"st.dev\"]])\n",
    "plt.errorbar(x, y, e, capsize = 10, capthick=5, marker=\".\", ms = 20, label=\"Weighted model\")\n",
    "plt.legend()"
   ]
  },
  {
   "cell_type": "code",
   "execution_count": null,
   "metadata": {},
   "outputs": [],
   "source": []
  }
 ],
 "metadata": {
  "kernelspec": {
   "display_name": "ExatrkxTest",
   "language": "python",
   "name": "exatrkx-test"
  },
  "language_info": {
   "codemirror_mode": {
    "name": "ipython",
    "version": 3
   },
   "file_extension": ".py",
   "mimetype": "text/x-python",
   "name": "python",
   "nbconvert_exporter": "python",
   "pygments_lexer": "ipython3",
   "version": "3.7.7"
  }
 },
 "nbformat": 4,
 "nbformat_minor": 4
}
