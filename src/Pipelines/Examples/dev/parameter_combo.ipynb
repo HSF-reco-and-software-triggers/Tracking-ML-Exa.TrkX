{
 "cells": [
  {
   "cell_type": "code",
   "execution_count": 91,
   "metadata": {},
   "outputs": [],
   "source": [
    "from itertools import product\n",
    "import yaml\n",
    "\n",
    "with open('train_gnn.yaml', 'r') as stream:\n",
    "    try:\n",
    "        inputdict = yaml.safe_load(stream)\n",
    "    except yaml.YAMLError as exc:\n",
    "        print(exc)"
   ]
  },
  {
   "cell_type": "code",
   "execution_count": 92,
   "metadata": {},
   "outputs": [
    {
     "data": {
      "text/plain": [
       "{'pt_min': 0.0,\n",
       " 'datatype_names': [['train', 'val', 'test']],\n",
       " 'datatype_split': [[1000, 10, 10]],\n",
       " 'endcaps': True,\n",
       " 'in_channels': 3,\n",
       " 'hidden': [64, 96, 128],\n",
       " 'factor': 0.3,\n",
       " 'patience': 50,\n",
       " 'regime': [['non_ci', 'pid']],\n",
       " 'max_epochs': 200,\n",
       " 'slack_alert': False,\n",
       " 'callbacks': None}"
      ]
     },
     "execution_count": 92,
     "metadata": {},
     "output_type": "execute_result"
    }
   ],
   "source": [
    "inputdict"
   ]
  },
  {
   "cell_type": "code",
   "execution_count": 93,
   "metadata": {},
   "outputs": [],
   "source": [
    "total_list = {k: (v if type(v) == list else [v]) for (k,v) in inputdict.items()}"
   ]
  },
  {
   "cell_type": "code",
   "execution_count": 94,
   "metadata": {},
   "outputs": [
    {
     "data": {
      "text/plain": [
       "{'pt_min': [0.0],\n",
       " 'datatype_names': [['train', 'val', 'test']],\n",
       " 'datatype_split': [[1000, 10, 10]],\n",
       " 'endcaps': [True],\n",
       " 'in_channels': [3],\n",
       " 'hidden': [64, 96, 128],\n",
       " 'factor': [0.3],\n",
       " 'patience': [50],\n",
       " 'regime': [['non_ci', 'pid']],\n",
       " 'max_epochs': [200],\n",
       " 'slack_alert': [False],\n",
       " 'callbacks': [None]}"
      ]
     },
     "execution_count": 94,
     "metadata": {},
     "output_type": "execute_result"
    }
   ],
   "source": [
    "total_list"
   ]
  },
  {
   "cell_type": "code",
   "execution_count": 95,
   "metadata": {},
   "outputs": [],
   "source": [
    "keys, values = zip(*total_list.items())"
   ]
  },
  {
   "cell_type": "code",
   "execution_count": 96,
   "metadata": {},
   "outputs": [
    {
     "data": {
      "text/plain": [
       "(('pt_min',\n",
       "  'datatype_names',\n",
       "  'datatype_split',\n",
       "  'endcaps',\n",
       "  'in_channels',\n",
       "  'hidden',\n",
       "  'factor',\n",
       "  'patience',\n",
       "  'regime',\n",
       "  'max_epochs',\n",
       "  'slack_alert',\n",
       "  'callbacks'),\n",
       " ([0.0],\n",
       "  [['train', 'val', 'test']],\n",
       "  [[1000, 10, 10]],\n",
       "  [True],\n",
       "  [3],\n",
       "  [64, 96, 128],\n",
       "  [0.3],\n",
       "  [50],\n",
       "  [['non_ci', 'pid']],\n",
       "  [200],\n",
       "  [False],\n",
       "  [None]))"
      ]
     },
     "execution_count": 96,
     "metadata": {},
     "output_type": "execute_result"
    }
   ],
   "source": [
    "keys, values"
   ]
  },
  {
   "cell_type": "code",
   "execution_count": 97,
   "metadata": {},
   "outputs": [
    {
     "name": "stdout",
     "output_type": "stream",
     "text": [
      "(0.0, ['train', 'val', 'test'], [1000, 10, 10], True, 3, 64, 0.3, 50, ['non_ci', 'pid'], 200, False, None)\n",
      "(0.0, ['train', 'val', 'test'], [1000, 10, 10], True, 3, 96, 0.3, 50, ['non_ci', 'pid'], 200, False, None)\n",
      "(0.0, ['train', 'val', 'test'], [1000, 10, 10], True, 3, 128, 0.3, 50, ['non_ci', 'pid'], 200, False, None)\n"
     ]
    }
   ],
   "source": [
    "for bundle in product(*values):\n",
    "    print(bundle)"
   ]
  },
  {
   "cell_type": "code",
   "execution_count": 98,
   "metadata": {},
   "outputs": [],
   "source": [
    "configs = []\n",
    "[configs.append(dict(zip(keys, bundle))) for bundle in product(*values)];"
   ]
  },
  {
   "cell_type": "code",
   "execution_count": 99,
   "metadata": {},
   "outputs": [
    {
     "data": {
      "text/plain": [
       "[{'pt_min': 0.0,\n",
       "  'datatype_names': ['train', 'val', 'test'],\n",
       "  'datatype_split': [1000, 10, 10],\n",
       "  'endcaps': True,\n",
       "  'in_channels': 3,\n",
       "  'hidden': 64,\n",
       "  'factor': 0.3,\n",
       "  'patience': 50,\n",
       "  'regime': ['non_ci', 'pid'],\n",
       "  'max_epochs': 200,\n",
       "  'slack_alert': False,\n",
       "  'callbacks': None},\n",
       " {'pt_min': 0.0,\n",
       "  'datatype_names': ['train', 'val', 'test'],\n",
       "  'datatype_split': [1000, 10, 10],\n",
       "  'endcaps': True,\n",
       "  'in_channels': 3,\n",
       "  'hidden': 96,\n",
       "  'factor': 0.3,\n",
       "  'patience': 50,\n",
       "  'regime': ['non_ci', 'pid'],\n",
       "  'max_epochs': 200,\n",
       "  'slack_alert': False,\n",
       "  'callbacks': None},\n",
       " {'pt_min': 0.0,\n",
       "  'datatype_names': ['train', 'val', 'test'],\n",
       "  'datatype_split': [1000, 10, 10],\n",
       "  'endcaps': True,\n",
       "  'in_channels': 3,\n",
       "  'hidden': 128,\n",
       "  'factor': 0.3,\n",
       "  'patience': 50,\n",
       "  'regime': ['non_ci', 'pid'],\n",
       "  'max_epochs': 200,\n",
       "  'slack_alert': False,\n",
       "  'callbacks': None}]"
      ]
     },
     "execution_count": 99,
     "metadata": {},
     "output_type": "execute_result"
    }
   ],
   "source": [
    "configs"
   ]
  },
  {
   "cell_type": "code",
   "execution_count": null,
   "metadata": {},
   "outputs": [],
   "source": []
  }
 ],
 "metadata": {
  "kernelspec": {
   "display_name": "ExatrkxTest",
   "language": "python",
   "name": "exatrkx-test"
  },
  "language_info": {
   "codemirror_mode": {
    "name": "ipython",
    "version": 3
   },
   "file_extension": ".py",
   "mimetype": "text/x-python",
   "name": "python",
   "nbconvert_exporter": "python",
   "pygments_lexer": "ipython3",
   "version": "3.7.7"
  }
 },
 "nbformat": 4,
 "nbformat_minor": 4
}
