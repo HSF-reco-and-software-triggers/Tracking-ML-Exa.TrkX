{
 "cells": [
  {
   "cell_type": "code",
   "execution_count": 18,
   "metadata": {},
   "outputs": [],
   "source": [
    "from itertools import product, chain\n",
    "from more_itertools import collapse\n",
    "import yaml\n",
    "import numpy as np\n",
    "\n",
    "with open('train_gnn.yaml', 'r') as stream:\n",
    "    try:\n",
    "        inputdict = yaml.safe_load(stream)\n",
    "    except yaml.YAMLError as exc:\n",
    "        print(exc)"
   ]
  },
  {
   "cell_type": "markdown",
   "metadata": {},
   "source": [
    "# Param Combo"
   ]
  },
  {
   "cell_type": "code",
   "execution_count": 19,
   "metadata": {},
   "outputs": [
    {
     "data": {
      "text/plain": [
       "{'pt_min': 0.0,\n",
       " 'datatype_names': [['train', 'val', 'test']],\n",
       " 'datatype_split': [[1000, 10, 10]],\n",
       " 'endcaps': True,\n",
       " 'in_channels': 3,\n",
       " 'hidden': [64, 96, 128],\n",
       " 'factor': 0.3,\n",
       " 'patience': 50,\n",
       " 'regime': [['non_ci', 'pid']],\n",
       " 'max_epochs': 200,\n",
       " 'slack_alert': False,\n",
       " 'stage': {'resume_id': 123, 'set': 'GNN'},\n",
       " 'callbacks': None}"
      ]
     },
     "execution_count": 19,
     "metadata": {},
     "output_type": "execute_result"
    }
   ],
   "source": [
    "inputdict"
   ]
  },
  {
   "cell_type": "code",
   "execution_count": 20,
   "metadata": {},
   "outputs": [],
   "source": [
    "total_list = {k: (v if type(v) == list else [v]) for (k,v) in inputdict.items()}"
   ]
  },
  {
   "cell_type": "code",
   "execution_count": 21,
   "metadata": {},
   "outputs": [
    {
     "data": {
      "text/plain": [
       "{'pt_min': [0.0],\n",
       " 'datatype_names': [['train', 'val', 'test']],\n",
       " 'datatype_split': [[1000, 10, 10]],\n",
       " 'endcaps': [True],\n",
       " 'in_channels': [3],\n",
       " 'hidden': [64, 96, 128],\n",
       " 'factor': [0.3],\n",
       " 'patience': [50],\n",
       " 'regime': [['non_ci', 'pid']],\n",
       " 'max_epochs': [200],\n",
       " 'slack_alert': [False],\n",
       " 'stage': [{'resume_id': 123, 'set': 'GNN'}],\n",
       " 'callbacks': [None]}"
      ]
     },
     "execution_count": 21,
     "metadata": {},
     "output_type": "execute_result"
    }
   ],
   "source": [
    "total_list"
   ]
  },
  {
   "cell_type": "code",
   "execution_count": 22,
   "metadata": {},
   "outputs": [],
   "source": [
    "keys, values = zip(*total_list.items())"
   ]
  },
  {
   "cell_type": "code",
   "execution_count": 24,
   "metadata": {},
   "outputs": [
    {
     "name": "stdout",
     "output_type": "stream",
     "text": [
      "(0.0, ['train', 'val', 'test'], [1000, 10, 10], True, 3, 64, 0.3, 50, ['non_ci', 'pid'], 200, False, {'resume_id': 123, 'set': 'GNN'}, None)\n",
      "(0.0, ['train', 'val', 'test'], [1000, 10, 10], True, 3, 96, 0.3, 50, ['non_ci', 'pid'], 200, False, {'resume_id': 123, 'set': 'GNN'}, None)\n",
      "(0.0, ['train', 'val', 'test'], [1000, 10, 10], True, 3, 128, 0.3, 50, ['non_ci', 'pid'], 200, False, {'resume_id': 123, 'set': 'GNN'}, None)\n"
     ]
    }
   ],
   "source": [
    "for bundle in product(*values):\n",
    "    print(bundle)"
   ]
  },
  {
   "cell_type": "code",
   "execution_count": 25,
   "metadata": {},
   "outputs": [],
   "source": [
    "configs = []\n",
    "[configs.append(dict(zip(keys, bundle))) for bundle in product(*values)];"
   ]
  },
  {
   "cell_type": "code",
   "execution_count": 26,
   "metadata": {},
   "outputs": [
    {
     "data": {
      "text/plain": [
       "[{'pt_min': 0.0,\n",
       "  'datatype_names': ['train', 'val', 'test'],\n",
       "  'datatype_split': [1000, 10, 10],\n",
       "  'endcaps': True,\n",
       "  'in_channels': 3,\n",
       "  'hidden': 64,\n",
       "  'factor': 0.3,\n",
       "  'patience': 50,\n",
       "  'regime': ['non_ci', 'pid'],\n",
       "  'max_epochs': 200,\n",
       "  'slack_alert': False,\n",
       "  'stage': {'resume_id': 123, 'set': 'GNN'},\n",
       "  'callbacks': None},\n",
       " {'pt_min': 0.0,\n",
       "  'datatype_names': ['train', 'val', 'test'],\n",
       "  'datatype_split': [1000, 10, 10],\n",
       "  'endcaps': True,\n",
       "  'in_channels': 3,\n",
       "  'hidden': 96,\n",
       "  'factor': 0.3,\n",
       "  'patience': 50,\n",
       "  'regime': ['non_ci', 'pid'],\n",
       "  'max_epochs': 200,\n",
       "  'slack_alert': False,\n",
       "  'stage': {'resume_id': 123, 'set': 'GNN'},\n",
       "  'callbacks': None},\n",
       " {'pt_min': 0.0,\n",
       "  'datatype_names': ['train', 'val', 'test'],\n",
       "  'datatype_split': [1000, 10, 10],\n",
       "  'endcaps': True,\n",
       "  'in_channels': 3,\n",
       "  'hidden': 128,\n",
       "  'factor': 0.3,\n",
       "  'patience': 50,\n",
       "  'regime': ['non_ci', 'pid'],\n",
       "  'max_epochs': 200,\n",
       "  'slack_alert': False,\n",
       "  'stage': {'resume_id': 123, 'set': 'GNN'},\n",
       "  'callbacks': None}]"
      ]
     },
     "execution_count": 26,
     "metadata": {},
     "output_type": "execute_result"
    }
   ],
   "source": [
    "configs"
   ]
  },
  {
   "cell_type": "markdown",
   "metadata": {},
   "source": [
    "# Param Collapse"
   ]
  },
  {
   "cell_type": "code",
   "execution_count": 27,
   "metadata": {},
   "outputs": [],
   "source": [
    "test_list = list(collapse([[\"--\"+k,v] for k,v in configs[0].items()]))"
   ]
  },
  {
   "cell_type": "code",
   "execution_count": 28,
   "metadata": {},
   "outputs": [],
   "source": [
    "test_list = [str(entry) for entry in test_list]\n",
    "command_line_args = \" \".join(test_list)"
   ]
  },
  {
   "cell_type": "code",
   "execution_count": 29,
   "metadata": {},
   "outputs": [
    {
     "data": {
      "text/plain": [
       "['--pt_min',\n",
       " '0.0',\n",
       " '--datatype_names',\n",
       " 'train',\n",
       " 'val',\n",
       " 'test',\n",
       " '--datatype_split',\n",
       " '1000',\n",
       " '10',\n",
       " '10',\n",
       " '--endcaps',\n",
       " 'True',\n",
       " '--in_channels',\n",
       " '3',\n",
       " '--hidden',\n",
       " '64',\n",
       " '--factor',\n",
       " '0.3',\n",
       " '--patience',\n",
       " '50',\n",
       " '--regime',\n",
       " 'non_ci',\n",
       " 'pid',\n",
       " '--max_epochs',\n",
       " '200',\n",
       " '--slack_alert',\n",
       " 'False',\n",
       " '--stage',\n",
       " 'resume_id',\n",
       " 'set',\n",
       " '--callbacks',\n",
       " 'None']"
      ]
     },
     "execution_count": 29,
     "metadata": {},
     "output_type": "execute_result"
    }
   ],
   "source": [
    "test_list"
   ]
  },
  {
   "cell_type": "code",
   "execution_count": 30,
   "metadata": {},
   "outputs": [
    {
     "data": {
      "text/plain": [
       "'--pt_min 0.0 --datatype_names train val test --datatype_split 1000 10 10 --endcaps True --in_channels 3 --hidden 64 --factor 0.3 --patience 50 --regime non_ci pid --max_epochs 200 --slack_alert False --stage resume_id set --callbacks None'"
      ]
     },
     "execution_count": 30,
     "metadata": {},
     "output_type": "execute_result"
    }
   ],
   "source": [
    "command_line_args"
   ]
  },
  {
   "cell_type": "code",
   "execution_count": 31,
   "metadata": {},
   "outputs": [
    {
     "data": {
      "text/plain": [
       "['--pt_min',\n",
       " 0.0,\n",
       " '--datatype_names',\n",
       " ['train', 'val', 'test'],\n",
       " '--datatype_split',\n",
       " [1000, 10, 10],\n",
       " '--endcaps',\n",
       " True,\n",
       " '--in_channels',\n",
       " 3,\n",
       " '--hidden',\n",
       " 64,\n",
       " '--factor',\n",
       " 0.3,\n",
       " '--patience',\n",
       " 50,\n",
       " '--regime',\n",
       " ['non_ci', 'pid'],\n",
       " '--max_epochs',\n",
       " 200,\n",
       " '--slack_alert',\n",
       " False,\n",
       " '--stage',\n",
       " {'resume_id': 123, 'set': 'GNN'},\n",
       " '--callbacks',\n",
       " None]"
      ]
     },
     "execution_count": 31,
     "metadata": {},
     "output_type": "execute_result"
    }
   ],
   "source": [
    "list(chain.from_iterable([[\"--\"+k,v] for k,v in configs[0].items()]))"
   ]
  },
  {
   "cell_type": "code",
   "execution_count": 32,
   "metadata": {},
   "outputs": [
    {
     "name": "stderr",
     "output_type": "stream",
     "text": [
      "/global/homes/d/danieltm/.local/lib/python3.7/site-packages/ipykernel_launcher.py:1: DeprecationWarning: Using or importing the ABCs from 'collections' instead of from 'collections.abc' is deprecated since Python 3.3,and in 3.9 it will stop working\n",
      "  \"\"\"Entry point for launching an IPython kernel.\n"
     ]
    }
   ],
   "source": [
    "from collections import Iterable"
   ]
  },
  {
   "cell_type": "code",
   "execution_count": 33,
   "metadata": {},
   "outputs": [],
   "source": [
    "test_list = [[\"--\"+k,v] for k,v in configs[0].items()]"
   ]
  },
  {
   "cell_type": "code",
   "execution_count": 34,
   "metadata": {},
   "outputs": [
    {
     "data": {
      "text/plain": [
       "array([['--pt_min', 0.0],\n",
       "       ['--datatype_names', list(['train', 'val', 'test'])],\n",
       "       ['--datatype_split', list([1000, 10, 10])],\n",
       "       ['--endcaps', True],\n",
       "       ['--in_channels', 3],\n",
       "       ['--hidden', 64],\n",
       "       ['--factor', 0.3],\n",
       "       ['--patience', 50],\n",
       "       ['--regime', list(['non_ci', 'pid'])],\n",
       "       ['--max_epochs', 200],\n",
       "       ['--slack_alert', False],\n",
       "       ['--stage', {'resume_id': 123, 'set': 'GNN'}],\n",
       "       ['--callbacks', None]], dtype=object)"
      ]
     },
     "execution_count": 34,
     "metadata": {},
     "output_type": "execute_result"
    }
   ],
   "source": [
    "np.array(test_list)"
   ]
  },
  {
   "cell_type": "code",
   "execution_count": 35,
   "metadata": {},
   "outputs": [
    {
     "data": {
      "text/plain": [
       "['--pt_min',\n",
       " 0.0,\n",
       " '--datatype_names',\n",
       " ['train', 'val', 'test'],\n",
       " '--datatype_split',\n",
       " [1000, 10, 10],\n",
       " '--endcaps',\n",
       " True,\n",
       " '--in_channels',\n",
       " 3,\n",
       " '--hidden',\n",
       " 64,\n",
       " '--factor',\n",
       " 0.3,\n",
       " '--patience',\n",
       " 50,\n",
       " '--regime',\n",
       " ['non_ci', 'pid'],\n",
       " '--max_epochs',\n",
       " 200,\n",
       " '--slack_alert',\n",
       " False,\n",
       " '--stage',\n",
       " {'resume_id': 123, 'set': 'GNN'},\n",
       " '--callbacks',\n",
       " None]"
      ]
     },
     "execution_count": 35,
     "metadata": {},
     "output_type": "execute_result"
    }
   ],
   "source": [
    "sum(test_list, [])"
   ]
  },
  {
   "cell_type": "code",
   "execution_count": 36,
   "metadata": {},
   "outputs": [
    {
     "ename": "SyntaxError",
     "evalue": "invalid syntax (<ipython-input-36-f11342dfaf10>, line 1)",
     "output_type": "error",
     "traceback": [
      "\u001b[0;36m  File \u001b[0;32m\"<ipython-input-36-f11342dfaf10>\"\u001b[0;36m, line \u001b[0;32m1\u001b[0m\n\u001b[0;31m    collapse(test_list))\u001b[0m\n\u001b[0m                       ^\u001b[0m\n\u001b[0;31mSyntaxError\u001b[0m\u001b[0;31m:\u001b[0m invalid syntax\n"
     ]
    }
   ],
   "source": [
    "collapse(test_list))"
   ]
  },
  {
   "cell_type": "markdown",
   "metadata": {},
   "source": [
    "# Param Auto-typing"
   ]
  },
  {
   "cell_type": "code",
   "execution_count": 45,
   "metadata": {},
   "outputs": [],
   "source": [
    "def boolify(s):\n",
    "    if s == 'True' or s == 'true':\n",
    "            return True\n",
    "    if s == 'False' or s == 'false':\n",
    "            return False\n",
    "    raise ValueError('Not Boolean Value!')\n",
    "\n",
    "def estimateType(var):\n",
    "    '''guesses the str representation of the variables type'''\n",
    "    print(var)\n",
    "    if type(var) is list:\n",
    "        return [estimateType(varEntry) for varEntry in var]\n",
    "    else:\n",
    "        var = str(var) #important if the parameters aren't strings...\n",
    "        for caster in (boolify, int, float):\n",
    "                try:\n",
    "                        return caster(var)\n",
    "                except ValueError:\n",
    "                        pass\n",
    "    return var\n",
    "\n",
    "def autocast(dFxn):\n",
    "    def wrapped(*c, **d):\n",
    "            cp = [estimateType(x) for x in c]\n",
    "            dp = dict( (i, estimateType(j)) for (i,j) in d.items())\n",
    "            return dFxn(*cp, **dp)\n",
    "\n",
    "    return wrapped"
   ]
  },
  {
   "cell_type": "code",
   "execution_count": 4,
   "metadata": {},
   "outputs": [
    {
     "data": {
      "text/plain": [
       "True"
      ]
     },
     "execution_count": 4,
     "metadata": {},
     "output_type": "execute_result"
    }
   ],
   "source": [
    "estimateType(\"True\")"
   ]
  },
  {
   "cell_type": "code",
   "execution_count": null,
   "metadata": {},
   "outputs": [],
   "source": []
  },
  {
   "cell_type": "code",
   "execution_count": 46,
   "metadata": {},
   "outputs": [
    {
     "name": "stdout",
     "output_type": "stream",
     "text": [
      "0.0\n",
      "['train', 'val', 'test']\n",
      "train\n",
      "val\n",
      "test\n",
      "[1000, 10, 10]\n",
      "1000\n",
      "10\n",
      "10\n",
      "True\n",
      "3\n",
      "64\n",
      "0.3\n",
      "50\n",
      "['non_ci', 'pid']\n",
      "non_ci\n",
      "pid\n",
      "200\n",
      "False\n",
      "{'resume_id': 123, 'set': 'GNN'}\n",
      "None\n",
      "{'pt_min': 0.0, 'datatype_names': ['train', 'val', 'test'], 'datatype_split': [1000, 10, 10], 'endcaps': True, 'in_channels': 3, 'hidden': 64, 'factor': 0.3, 'patience': 50, 'regime': ['non_ci', 'pid'], 'max_epochs': 200, 'slack_alert': False, 'stage': \"{'resume_id': 123, 'set': 'GNN'}\", 'callbacks': 'None'}\n"
     ]
    }
   ],
   "source": [
    "@autocast\n",
    "def randomFunction(**args):\n",
    "    print(args)\n",
    "\n",
    "randomFunction(**configs[0])"
   ]
  },
  {
   "cell_type": "code",
   "execution_count": 38,
   "metadata": {},
   "outputs": [
    {
     "data": {
      "text/plain": [
       "{'pt_min': 0.0,\n",
       " 'datatype_names': ['train', 'val', 'test'],\n",
       " 'datatype_split': [1000, 10, 10],\n",
       " 'endcaps': True,\n",
       " 'in_channels': 3,\n",
       " 'hidden': 64,\n",
       " 'factor': 0.3,\n",
       " 'patience': 50,\n",
       " 'regime': ['non_ci', 'pid'],\n",
       " 'max_epochs': 200,\n",
       " 'slack_alert': False,\n",
       " 'stage': {'resume_id': 123, 'set': 'GNN'},\n",
       " 'callbacks': None}"
      ]
     },
     "execution_count": 38,
     "metadata": {},
     "output_type": "execute_result"
    }
   ],
   "source": [
    "configs[0]"
   ]
  },
  {
   "cell_type": "code",
   "execution_count": 17,
   "metadata": {},
   "outputs": [],
   "source": [
    "test = {\"a\": 1, \"b\": 2}"
   ]
  },
  {
   "cell_type": "code",
   "execution_count": 18,
   "metadata": {},
   "outputs": [],
   "source": [
    "over = {\"c\": 3, \"d\": 4}"
   ]
  },
  {
   "cell_type": "code",
   "execution_count": 19,
   "metadata": {},
   "outputs": [],
   "source": [
    "test.update({k:over[k] for k in [\"c\", \"d\"]})"
   ]
  },
  {
   "cell_type": "code",
   "execution_count": 20,
   "metadata": {},
   "outputs": [
    {
     "data": {
      "text/plain": [
       "{'a': 1, 'b': 2, 'c': 3, 'd': 4}"
      ]
     },
     "execution_count": 20,
     "metadata": {},
     "output_type": "execute_result"
    }
   ],
   "source": [
    "test"
   ]
  },
  {
   "cell_type": "code",
   "execution_count": null,
   "metadata": {},
   "outputs": [],
   "source": []
  }
 ],
 "metadata": {
  "kernelspec": {
   "display_name": "ExatrkxTest",
   "language": "python",
   "name": "exatrkx-test"
  },
  "language_info": {
   "codemirror_mode": {
    "name": "ipython",
    "version": 3
   },
   "file_extension": ".py",
   "mimetype": "text/x-python",
   "name": "python",
   "nbconvert_exporter": "python",
   "pygments_lexer": "ipython3",
   "version": "3.7.7"
  }
 },
 "nbformat": 4,
 "nbformat_minor": 4
}
