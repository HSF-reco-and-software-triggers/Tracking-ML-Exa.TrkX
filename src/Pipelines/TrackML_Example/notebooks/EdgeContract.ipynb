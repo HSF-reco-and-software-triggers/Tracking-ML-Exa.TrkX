{
 "cells": [
  {
   "cell_type": "code",
   "execution_count": 1,
   "metadata": {},
   "outputs": [],
   "source": [
    "%load_ext autoreload\n",
    "%load_ext tensorboard\n",
    "%autoreload 2"
   ]
  },
  {
   "cell_type": "code",
   "execution_count": 2,
   "metadata": {},
   "outputs": [],
   "source": [
    "# System imports\n",
    "import os\n",
    "import sys\n",
    "import yaml\n",
    "\n",
    "# External imports\n",
    "import matplotlib.pyplot as plt\n",
    "import scipy as sp\n",
    "from sklearn.decomposition import PCA\n",
    "from sklearn.metrics import auc\n",
    "import numpy as np\n",
    "import pandas as pd\n",
    "import seaborn as sns\n",
    "import torch\n",
    "from pytorch_lightning import Trainer\n",
    "from pytorch_lightning.loggers import TensorBoardLogger\n",
    "import nersc_tensorboard_helper\n",
    "\n",
    "sys.path.append('..')\n",
    "device = \"cuda\" if torch.cuda.is_available() else \"cpu\""
   ]
  },
  {
   "cell_type": "code",
   "execution_count": 3,
   "metadata": {},
   "outputs": [],
   "source": [
    "from LightningModules.GNN.Models.ecgnn import ECGNN"
   ]
  },
  {
   "cell_type": "code",
   "execution_count": 4,
   "metadata": {},
   "outputs": [],
   "source": [
    "with open(\"example_gnn.yaml\") as f:\n",
    "        hparams = yaml.load(f, Loader=yaml.FullLoader)"
   ]
  },
  {
   "cell_type": "code",
   "execution_count": null,
   "metadata": {},
   "outputs": [
    {
     "name": "stderr",
     "output_type": "stream",
     "text": [
      "GPU available: True, used: True\n",
      "TPU available: None, using: 0 TPU cores\n",
      "LOCAL_RANK: 0 - CUDA_VISIBLE_DEVICES: [0]\n",
      "Set SLURM handle signals.\n",
      "\n",
      "  | Name             | Type        | Params\n",
      "-------------------------------------------------\n",
      "0 | input_network    | Sequential  | 384   \n",
      "1 | node_network     | NodeNetwork | 17.2 K\n",
      "2 | edgepool_network | EdgePooling | 66.2 K\n",
      "-------------------------------------------------\n",
      "83.8 K    Trainable params\n",
      "0         Non-trainable params\n",
      "83.8 K    Total params\n"
     ]
    },
    {
     "name": "stdout",
     "output_type": "stream",
     "text": [
      "Validation sanity check:   0%|          | 0/2 [00:00<?, ?it/s]"
     ]
    },
    {
     "name": "stderr",
     "output_type": "stream",
     "text": [
      "/global/homes/j/jferguso/.conda/envs/exatrkx-tracking/lib/python3.8/site-packages/pytorch_lightning/utilities/distributed.py:50: UserWarning: The dataloader, val dataloader 0, does not have many workers which may be a bottleneck. Consider increasing the value of the `num_workers` argument` (try 80 which is the number of cpus on this machine) in the `DataLoader` init to improve performance.\n",
      "  warnings.warn(*args, **kwargs)\n"
     ]
    },
    {
     "name": "stdout",
     "output_type": "stream",
     "text": [
      "Epoch 0:   0%|          | 0/220 [00:00<?, ?it/s]                      "
     ]
    },
    {
     "name": "stderr",
     "output_type": "stream",
     "text": [
      "/global/homes/j/jferguso/.conda/envs/exatrkx-tracking/lib/python3.8/site-packages/pytorch_lightning/utilities/distributed.py:50: UserWarning: The dataloader, train dataloader, does not have many workers which may be a bottleneck. Consider increasing the value of the `num_workers` argument` (try 80 which is the number of cpus on this machine) in the `DataLoader` init to improve performance.\n",
      "  warnings.warn(*args, **kwargs)\n"
     ]
    },
    {
     "name": "stdout",
     "output_type": "stream",
     "text": [
      "Epoch 0:  91%|█████████ | 200/220 [07:20<00:44,  2.20s/it, loss=0.918, v_num=1859877]\n",
      "Validating: 0it [00:00, ?it/s]\u001b[A\n",
      "Validating:   0%|          | 0/20 [00:00<?, ?it/s]\u001b[A\n",
      "Epoch 0:  92%|█████████▏| 202/220 [07:22<00:39,  2.19s/it, loss=0.918, v_num=1859877]\n",
      "Validating:  10%|█         | 2/20 [00:03<00:32,  1.82s/it]\u001b[A\n",
      "Epoch 0:  93%|█████████▎| 204/220 [07:27<00:35,  2.19s/it, loss=0.918, v_num=1859877]\n",
      "Validating:  20%|██        | 4/20 [00:08<00:36,  2.29s/it]\u001b[A\n",
      "Epoch 0:  94%|█████████▎| 206/220 [07:31<00:30,  2.19s/it, loss=0.918, v_num=1859877]\n",
      "Validating:  30%|███       | 6/20 [00:12<00:30,  2.18s/it]\u001b[A\n",
      "Epoch 0:  95%|█████████▍| 208/220 [07:35<00:26,  2.19s/it, loss=0.918, v_num=1859877]\n",
      "Validating:  40%|████      | 8/20 [00:16<00:23,  1.95s/it]\u001b[A\n",
      "Epoch 0:  95%|█████████▌| 210/220 [07:39<00:21,  2.19s/it, loss=0.918, v_num=1859877]\n",
      "Validating:  50%|█████     | 10/20 [00:20<00:20,  2.02s/it]\u001b[A\n",
      "Epoch 0:  96%|█████████▋| 212/220 [07:43<00:17,  2.19s/it, loss=0.918, v_num=1859877]\n",
      "Validating:  60%|██████    | 12/20 [00:25<00:18,  2.26s/it]\u001b[A\n",
      "Epoch 0:  97%|█████████▋| 214/220 [07:49<00:13,  2.19s/it, loss=0.918, v_num=1859877]\n",
      "Validating:  70%|███████   | 14/20 [00:30<00:14,  2.35s/it]\u001b[A\n",
      "Epoch 0:  98%|█████████▊| 216/220 [07:53<00:08,  2.19s/it, loss=0.918, v_num=1859877]\n",
      "Validating:  80%|████████  | 16/20 [00:34<00:07,  1.98s/it]\u001b[A\n",
      "Epoch 0:  99%|█████████▉| 218/220 [07:56<00:04,  2.18s/it, loss=0.918, v_num=1859877]\n",
      "Validating:  90%|█████████ | 18/20 [00:38<00:04,  2.12s/it]\u001b[A\n",
      "Epoch 0: 100%|██████████| 220/220 [08:01<00:00,  2.19s/it, loss=0.918, v_num=1859877]\n",
      "Epoch 0: 100%|██████████| 220/220 [08:03<00:00,  2.20s/it, loss=0.918, v_num=1859877]\n",
      "Epoch 1:  60%|██████    | 133/220 [04:51<03:10,  2.19s/it, loss=0.916, v_num=1859877]"
     ]
    }
   ],
   "source": [
    "model = ECGNN(hparams)\n",
    "logger = TensorBoardLogger(\"tb_ecgnn_logs\",name = \"ecgnn\")\n",
    "trainer = Trainer(gpus=1, max_epochs=10)\n",
    "trainer.fit(model)"
   ]
  },
  {
   "cell_type": "code",
   "execution_count": null,
   "metadata": {},
   "outputs": [],
   "source": [
    "test_results = trainer.test(ckpt_path=None)\n",
    "print(test_results)"
   ]
  },
  {
   "cell_type": "code",
   "execution_count": 3,
   "metadata": {},
   "outputs": [
    {
     "data": {
      "text/html": [
       "\n",
       "      <iframe id=\"tensorboard-frame-7c0ac339086e1e41\" width=\"100%\" height=\"800\" frameborder=\"0\">\n",
       "      </iframe>\n",
       "      <script>\n",
       "        (function() {\n",
       "          const frame = document.getElementById(\"tensorboard-frame-7c0ac339086e1e41\");\n",
       "          const url = new URL(\"/\", window.location);\n",
       "          const port = 42045;\n",
       "          if (port) {\n",
       "            url.port = port;\n",
       "          }\n",
       "          frame.src = url;\n",
       "        })();\n",
       "      </script>\n",
       "    "
      ],
      "text/plain": [
       "<IPython.core.display.HTML object>"
      ]
     },
     "metadata": {},
     "output_type": "display_data"
    },
    {
     "data": {
      "text/html": [
       "<a href=\"https://jupyter.nersc.gov/user/jferguso/cori-shared-node-gpu/proxy/42045/\">https://jupyter.nersc.gov/user/jferguso/cori-shared-node-gpu/proxy/42045/</a>"
      ],
      "text/plain": [
       "<IPython.core.display.HTML object>"
      ]
     },
     "metadata": {},
     "output_type": "display_data"
    }
   ],
   "source": [
    "os.environ['TENSORBOARD_BINARY'] = \"/global/homes/j/jferguso/.conda/envs/exatrkx-tracking/bin/tensorboard\"\n",
    "%tensorboard --logdir tb_ecgnn_logs/ --port 0\n",
    "nersc_tensorboard_helper.tb_address()"
   ]
  },
  {
   "cell_type": "code",
   "execution_count": null,
   "metadata": {},
   "outputs": [],
   "source": []
  }
 ],
 "metadata": {
  "kernelspec": {
   "display_name": "exatrkx-tracking",
   "language": "python",
   "name": "exatrkx-tracking"
  },
  "language_info": {
   "codemirror_mode": {
    "name": "ipython",
    "version": 3
   },
   "file_extension": ".py",
   "mimetype": "text/x-python",
   "name": "python",
   "nbconvert_exporter": "python",
   "pygments_lexer": "ipython3",
   "version": "3.8.5"
  }
 },
 "nbformat": 4,
 "nbformat_minor": 4
}
