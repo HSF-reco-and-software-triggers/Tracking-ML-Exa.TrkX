{
 "cells": [
  {
   "cell_type": "code",
   "execution_count": 1,
   "metadata": {},
   "outputs": [],
   "source": [
    "%load_ext autoreload\n",
    "%load_ext tensorboard\n",
    "%autoreload 2"
   ]
  },
  {
   "cell_type": "code",
   "execution_count": 2,
   "metadata": {},
   "outputs": [],
   "source": [
    "# System imports\n",
    "import os\n",
    "import sys\n",
    "import yaml\n",
    "\n",
    "# External imports\n",
    "import matplotlib.pyplot as plt\n",
    "import scipy as sp\n",
    "from sklearn.decomposition import PCA\n",
    "from sklearn.metrics import auc\n",
    "import numpy as np\n",
    "import pandas as pd\n",
    "import seaborn as sns\n",
    "import torch\n",
    "from pytorch_lightning import Trainer\n",
    "from pytorch_lightning.loggers import TensorBoardLogger\n",
    "import nersc_tensorboard_helper\n",
    "\n",
    "sys.path.append('..')\n",
    "device = \"cuda\" if torch.cuda.is_available() else \"cpu\""
   ]
  },
  {
   "cell_type": "code",
   "execution_count": 3,
   "metadata": {},
   "outputs": [],
   "source": [
    "from LightningModules.GNN.Models.ecgnn import ECGNN"
   ]
  },
  {
   "cell_type": "code",
   "execution_count": 4,
   "metadata": {},
   "outputs": [],
   "source": [
    "with open(\"example_gnn.yaml\") as f:\n",
    "        hparams = yaml.load(f, Loader=yaml.FullLoader)"
   ]
  },
  {
   "cell_type": "code",
   "execution_count": 5,
   "metadata": {},
   "outputs": [
    {
     "name": "stderr",
     "output_type": "stream",
     "text": [
      "GPU available: True, used: True\n",
      "TPU available: None, using: 0 TPU cores\n",
      "LOCAL_RANK: 0 - CUDA_VISIBLE_DEVICES: [0]\n",
      "Set SLURM handle signals.\n",
      "\n",
      "  | Name             | Type        | Params\n",
      "-------------------------------------------------\n",
      "0 | input_network    | Sequential  | 384   \n",
      "1 | node_network     | NodeNetwork | 17.2 K\n",
      "2 | edgepool_network | EdgePooling | 66.2 K\n",
      "-------------------------------------------------\n",
      "83.8 K    Trainable params\n",
      "0         Non-trainable params\n",
      "83.8 K    Total params\n"
     ]
    },
    {
     "name": "stdout",
     "output_type": "stream",
     "text": [
      "Validation sanity check:   0%|          | 0/2 [00:00<?, ?it/s]"
     ]
    },
    {
     "name": "stderr",
     "output_type": "stream",
     "text": [
      "/global/homes/j/jferguso/.conda/envs/exatrkx-tracking/lib/python3.8/site-packages/pytorch_lightning/utilities/distributed.py:50: UserWarning: The dataloader, val dataloader 0, does not have many workers which may be a bottleneck. Consider increasing the value of the `num_workers` argument` (try 80 which is the number of cpus on this machine) in the `DataLoader` init to improve performance.\n",
      "  warnings.warn(*args, **kwargs)\n"
     ]
    },
    {
     "name": "stdout",
     "output_type": "stream",
     "text": [
      "Epoch 0:   0%|          | 0/220 [00:00<?, ?it/s]                      "
     ]
    },
    {
     "name": "stderr",
     "output_type": "stream",
     "text": [
      "/global/homes/j/jferguso/.conda/envs/exatrkx-tracking/lib/python3.8/site-packages/pytorch_lightning/utilities/distributed.py:50: UserWarning: The dataloader, train dataloader, does not have many workers which may be a bottleneck. Consider increasing the value of the `num_workers` argument` (try 80 which is the number of cpus on this machine) in the `DataLoader` init to improve performance.\n",
      "  warnings.warn(*args, **kwargs)\n"
     ]
    },
    {
     "name": "stdout",
     "output_type": "stream",
     "text": [
      "Epoch 0:  91%|█████████ | 200/220 [07:20<00:44,  2.20s/it, loss=0.918, v_num=1859877]\n",
      "Validating: 0it [00:00, ?it/s]\u001b[A\n",
      "Validating:   0%|          | 0/20 [00:00<?, ?it/s]\u001b[A\n",
      "Epoch 0:  92%|█████████▏| 202/220 [07:22<00:39,  2.19s/it, loss=0.918, v_num=1859877]\n",
      "Validating:  10%|█         | 2/20 [00:03<00:32,  1.82s/it]\u001b[A\n",
      "Epoch 0:  93%|█████████▎| 204/220 [07:27<00:35,  2.19s/it, loss=0.918, v_num=1859877]\n",
      "Validating:  20%|██        | 4/20 [00:08<00:36,  2.29s/it]\u001b[A\n",
      "Epoch 0:  94%|█████████▎| 206/220 [07:31<00:30,  2.19s/it, loss=0.918, v_num=1859877]\n",
      "Validating:  30%|███       | 6/20 [00:12<00:30,  2.18s/it]\u001b[A\n",
      "Epoch 0:  95%|█████████▍| 208/220 [07:35<00:26,  2.19s/it, loss=0.918, v_num=1859877]\n",
      "Validating:  40%|████      | 8/20 [00:16<00:23,  1.95s/it]\u001b[A\n",
      "Epoch 0:  95%|█████████▌| 210/220 [07:39<00:21,  2.19s/it, loss=0.918, v_num=1859877]\n",
      "Validating:  50%|█████     | 10/20 [00:20<00:20,  2.02s/it]\u001b[A\n",
      "Epoch 0:  96%|█████████▋| 212/220 [07:43<00:17,  2.19s/it, loss=0.918, v_num=1859877]\n",
      "Validating:  60%|██████    | 12/20 [00:25<00:18,  2.26s/it]\u001b[A\n",
      "Epoch 0:  97%|█████████▋| 214/220 [07:49<00:13,  2.19s/it, loss=0.918, v_num=1859877]\n",
      "Validating:  70%|███████   | 14/20 [00:30<00:14,  2.35s/it]\u001b[A\n",
      "Epoch 0:  98%|█████████▊| 216/220 [07:53<00:08,  2.19s/it, loss=0.918, v_num=1859877]\n",
      "Validating:  80%|████████  | 16/20 [00:34<00:07,  1.98s/it]\u001b[A\n",
      "Epoch 0:  99%|█████████▉| 218/220 [07:56<00:04,  2.18s/it, loss=0.918, v_num=1859877]\n",
      "Validating:  90%|█████████ | 18/20 [00:38<00:04,  2.12s/it]\u001b[A\n",
      "Epoch 0: 100%|██████████| 220/220 [08:01<00:00,  2.19s/it, loss=0.918, v_num=1859877]\n",
      "Epoch 0: 100%|██████████| 220/220 [08:03<00:00,  2.20s/it, loss=0.918, v_num=1859877]\n",
      "Epoch 1:  91%|█████████ | 200/220 [07:21<00:44,  2.21s/it, loss=0.918, v_num=1859877]\n",
      "Validating: 0it [00:00, ?it/s]\u001b[A\n",
      "Validating:   0%|          | 0/20 [00:00<?, ?it/s]\u001b[A\n",
      "Epoch 1:  92%|█████████▏| 202/220 [07:23<00:39,  2.19s/it, loss=0.918, v_num=1859877]\n",
      "Validating:  10%|█         | 2/20 [00:03<00:33,  1.86s/it]\u001b[A\n",
      "Epoch 1:  93%|█████████▎| 204/220 [07:27<00:35,  2.20s/it, loss=0.918, v_num=1859877]\n",
      "Validating:  20%|██        | 4/20 [00:08<00:36,  2.30s/it]\u001b[A\n",
      "Epoch 1:  94%|█████████▎| 206/220 [07:32<00:30,  2.20s/it, loss=0.918, v_num=1859877]\n",
      "Validating:  30%|███       | 6/20 [00:12<00:30,  2.17s/it]\u001b[A\n",
      "Epoch 1:  95%|█████████▍| 208/220 [07:36<00:26,  2.19s/it, loss=0.918, v_num=1859877]\n",
      "Validating:  40%|████      | 8/20 [00:16<00:23,  1.96s/it]\u001b[A\n",
      "Epoch 1:  95%|█████████▌| 210/220 [07:40<00:21,  2.19s/it, loss=0.918, v_num=1859877]\n",
      "Validating:  50%|█████     | 10/20 [00:20<00:20,  2.03s/it]\u001b[A\n",
      "Epoch 1:  96%|█████████▋| 212/220 [07:44<00:17,  2.19s/it, loss=0.918, v_num=1859877]\n",
      "Validating:  60%|██████    | 12/20 [00:25<00:18,  2.26s/it]\u001b[A\n",
      "Epoch 1:  97%|█████████▋| 214/220 [07:50<00:13,  2.20s/it, loss=0.918, v_num=1859877]\n",
      "Validating:  70%|███████   | 14/20 [00:30<00:13,  2.32s/it]\u001b[A\n",
      "Epoch 1:  98%|█████████▊| 216/220 [07:53<00:08,  2.19s/it, loss=0.918, v_num=1859877]\n",
      "Validating:  80%|████████  | 16/20 [00:34<00:07,  1.99s/it]\u001b[A\n",
      "Epoch 1:  99%|█████████▉| 218/220 [07:57<00:04,  2.19s/it, loss=0.918, v_num=1859877]\n",
      "Validating:  90%|█████████ | 18/20 [00:38<00:04,  2.25s/it]\u001b[A\n",
      "Epoch 1: 100%|██████████| 220/220 [08:03<00:00,  2.20s/it, loss=0.918, v_num=1859877]\n",
      "Epoch 1: 100%|██████████| 220/220 [08:05<00:00,  2.21s/it, loss=0.918, v_num=1859877]\n",
      "Epoch 2:  91%|█████████ | 200/220 [07:20<00:44,  2.20s/it, loss=0.918, v_num=1859877]\n",
      "Validating: 0it [00:00, ?it/s]\u001b[A\n",
      "Validating:   0%|          | 0/20 [00:00<?, ?it/s]\u001b[A\n",
      "Epoch 2:  92%|█████████▏| 202/220 [07:22<00:39,  2.19s/it, loss=0.918, v_num=1859877]\n",
      "Validating:  10%|█         | 2/20 [00:03<00:32,  1.82s/it]\u001b[A\n",
      "Epoch 2:  93%|█████████▎| 204/220 [07:27<00:35,  2.19s/it, loss=0.918, v_num=1859877]\n",
      "Validating:  20%|██        | 4/20 [00:08<00:37,  2.32s/it]\u001b[A\n",
      "Epoch 2:  94%|█████████▎| 206/220 [07:31<00:30,  2.19s/it, loss=0.918, v_num=1859877]\n",
      "Validating:  30%|███       | 6/20 [00:13<00:30,  2.20s/it]\u001b[A\n",
      "Epoch 2:  95%|█████████▍| 208/220 [07:35<00:26,  2.19s/it, loss=0.918, v_num=1859877]\n",
      "Validating:  40%|████      | 8/20 [00:16<00:23,  1.97s/it]\u001b[A\n",
      "Epoch 2:  95%|█████████▌| 210/220 [07:40<00:21,  2.19s/it, loss=0.918, v_num=1859877]\n",
      "Validating:  50%|█████     | 10/20 [00:21<00:20,  2.07s/it]\u001b[A\n",
      "Epoch 2:  96%|█████████▋| 212/220 [07:43<00:17,  2.19s/it, loss=0.918, v_num=1859877]\n",
      "Validating:  60%|██████    | 12/20 [00:25<00:18,  2.28s/it]\u001b[A\n",
      "Epoch 2:  97%|█████████▋| 214/220 [07:49<00:13,  2.19s/it, loss=0.918, v_num=1859877]\n",
      "Validating:  70%|███████   | 14/20 [00:30<00:13,  2.33s/it]\u001b[A\n",
      "Epoch 2:  98%|█████████▊| 216/220 [07:53<00:08,  2.19s/it, loss=0.918, v_num=1859877]\n",
      "Validating:  80%|████████  | 16/20 [00:34<00:07,  1.98s/it]\u001b[A\n",
      "Epoch 2:  99%|█████████▉| 218/220 [07:56<00:04,  2.19s/it, loss=0.918, v_num=1859877]\n",
      "Validating:  90%|█████████ | 18/20 [00:38<00:04,  2.14s/it]\u001b[A\n",
      "Epoch 2: 100%|██████████| 220/220 [08:02<00:00,  2.19s/it, loss=0.918, v_num=1859877]\n",
      "Epoch 2: 100%|██████████| 220/220 [08:03<00:00,  2.20s/it, loss=0.918, v_num=1859877]\n",
      "Epoch 3:  91%|█████████ | 200/220 [07:21<00:44,  2.21s/it, loss=0.918, v_num=1859877]\n",
      "Validating: 0it [00:00, ?it/s]\u001b[A\n",
      "Validating:   0%|          | 0/20 [00:00<?, ?it/s]\u001b[A\n",
      "Epoch 3:  92%|█████████▏| 202/220 [07:22<00:39,  2.19s/it, loss=0.918, v_num=1859877]\n",
      "Validating:  10%|█         | 2/20 [00:03<00:32,  1.83s/it]\u001b[A\n",
      "Epoch 3:  93%|█████████▎| 204/220 [07:27<00:35,  2.20s/it, loss=0.918, v_num=1859877]\n",
      "Validating:  20%|██        | 4/20 [00:08<00:36,  2.31s/it]\u001b[A\n",
      "Epoch 3:  94%|█████████▎| 206/220 [07:32<00:30,  2.19s/it, loss=0.918, v_num=1859877]\n",
      "Validating:  30%|███       | 6/20 [00:12<00:30,  2.17s/it]\u001b[A\n",
      "Epoch 3:  95%|█████████▍| 208/220 [07:35<00:26,  2.19s/it, loss=0.918, v_num=1859877]\n",
      "Validating:  40%|████      | 8/20 [00:16<00:23,  1.95s/it]\u001b[A\n",
      "Epoch 3:  95%|█████████▌| 210/220 [07:40<00:21,  2.19s/it, loss=0.918, v_num=1859877]\n",
      "Validating:  50%|█████     | 10/20 [00:20<00:20,  2.00s/it]\u001b[A\n",
      "Epoch 3:  96%|█████████▋| 212/220 [07:43<00:17,  2.19s/it, loss=0.918, v_num=1859877]\n",
      "Validating:  60%|██████    | 12/20 [00:25<00:17,  2.22s/it]\u001b[A\n",
      "Epoch 3:  97%|█████████▋| 214/220 [07:49<00:13,  2.19s/it, loss=0.918, v_num=1859877]\n",
      "Validating:  70%|███████   | 14/20 [00:30<00:13,  2.30s/it]\u001b[A\n",
      "Epoch 3:  98%|█████████▊| 216/220 [07:53<00:08,  2.19s/it, loss=0.918, v_num=1859877]\n",
      "Validating:  80%|████████  | 16/20 [00:33<00:07,  1.98s/it]\u001b[A\n",
      "Epoch 3:  99%|█████████▉| 218/220 [07:56<00:04,  2.19s/it, loss=0.918, v_num=1859877]\n",
      "Validating:  90%|█████████ | 18/20 [00:38<00:04,  2.14s/it]\u001b[A\n",
      "Epoch 3: 100%|██████████| 220/220 [08:02<00:00,  2.19s/it, loss=0.918, v_num=1859877]\n",
      "Epoch 3: 100%|██████████| 220/220 [08:03<00:00,  2.20s/it, loss=0.918, v_num=1859877]\n",
      "Epoch 4:  91%|█████████ | 200/220 [07:25<00:44,  2.23s/it, loss=0.918, v_num=1859877]\n",
      "Validating: 0it [00:00, ?it/s]\u001b[A\n",
      "Validating:   0%|          | 0/20 [00:00<?, ?it/s]\u001b[A\n",
      "Epoch 4:  92%|█████████▏| 202/220 [07:27<00:39,  2.21s/it, loss=0.918, v_num=1859877]\n",
      "Validating:  10%|█         | 2/20 [00:03<00:33,  1.85s/it]\u001b[A\n",
      "Epoch 4:  93%|█████████▎| 204/220 [07:32<00:35,  2.22s/it, loss=0.918, v_num=1859877]\n",
      "Validating:  20%|██        | 4/20 [00:08<00:37,  2.34s/it]\u001b[A\n",
      "Epoch 4:  94%|█████████▎| 206/220 [07:36<00:31,  2.22s/it, loss=0.918, v_num=1859877]\n",
      "Validating:  30%|███       | 6/20 [00:13<00:30,  2.21s/it]\u001b[A\n",
      "Epoch 4:  95%|█████████▍| 208/220 [07:40<00:26,  2.21s/it, loss=0.918, v_num=1859877]\n",
      "Validating:  40%|████      | 8/20 [00:16<00:23,  1.98s/it]\u001b[A\n",
      "Epoch 4:  95%|█████████▌| 210/220 [07:45<00:22,  2.22s/it, loss=0.918, v_num=1859877]\n",
      "Validating:  50%|█████     | 10/20 [00:21<00:20,  2.03s/it]\u001b[A\n",
      "Epoch 4:  96%|█████████▋| 212/220 [07:48<00:17,  2.21s/it, loss=0.918, v_num=1859877]\n",
      "Validating:  60%|██████    | 12/20 [00:25<00:18,  2.27s/it]\u001b[A\n",
      "Epoch 4:  97%|█████████▋| 214/220 [07:54<00:13,  2.22s/it, loss=0.918, v_num=1859877]\n",
      "Validating:  70%|███████   | 14/20 [00:31<00:14,  2.36s/it]\u001b[A\n",
      "Epoch 4:  98%|█████████▊| 216/220 [07:58<00:08,  2.22s/it, loss=0.918, v_num=1859877]\n",
      "Validating:  80%|████████  | 16/20 [00:34<00:08,  2.03s/it]\u001b[A\n",
      "Epoch 4:  99%|█████████▉| 218/220 [08:01<00:04,  2.21s/it, loss=0.918, v_num=1859877]\n",
      "Validating:  90%|█████████ | 18/20 [00:38<00:04,  2.17s/it]\u001b[A\n",
      "Epoch 4: 100%|██████████| 220/220 [08:07<00:00,  2.21s/it, loss=0.918, v_num=1859877]\n",
      "Epoch 4: 100%|██████████| 220/220 [08:09<00:00,  2.22s/it, loss=0.918, v_num=1859877]\n",
      "Epoch 5:  91%|█████████ | 200/220 [07:20<00:44,  2.20s/it, loss=0.918, v_num=1859877]\n",
      "Validating: 0it [00:00, ?it/s]\u001b[A\n",
      "Validating:   0%|          | 0/20 [00:00<?, ?it/s]\u001b[A\n",
      "Epoch 5:  92%|█████████▏| 202/220 [07:22<00:39,  2.19s/it, loss=0.918, v_num=1859877]\n",
      "Validating:  10%|█         | 2/20 [00:03<00:33,  1.85s/it]\u001b[A\n",
      "Epoch 5:  93%|█████████▎| 204/220 [07:27<00:35,  2.19s/it, loss=0.918, v_num=1859877]\n",
      "Validating:  20%|██        | 4/20 [00:08<00:35,  2.25s/it]\u001b[A\n",
      "Epoch 5:  94%|█████████▎| 206/220 [07:31<00:30,  2.19s/it, loss=0.918, v_num=1859877]\n",
      "Validating:  30%|███       | 6/20 [00:12<00:30,  2.15s/it]\u001b[A\n",
      "Epoch 5:  95%|█████████▍| 208/220 [07:35<00:26,  2.19s/it, loss=0.918, v_num=1859877]\n",
      "Validating:  40%|████      | 8/20 [00:16<00:23,  1.94s/it]\u001b[A\n",
      "Epoch 5:  95%|█████████▌| 210/220 [07:39<00:21,  2.19s/it, loss=0.918, v_num=1859877]\n",
      "Validating:  50%|█████     | 10/20 [00:20<00:19,  1.99s/it]\u001b[A\n",
      "Epoch 5:  96%|█████████▋| 212/220 [07:43<00:17,  2.19s/it, loss=0.918, v_num=1859877]\n",
      "Validating:  60%|██████    | 12/20 [00:25<00:17,  2.21s/it]\u001b[A\n",
      "Epoch 5:  97%|█████████▋| 214/220 [07:49<00:13,  2.19s/it, loss=0.918, v_num=1859877]\n",
      "Validating:  70%|███████   | 14/20 [00:30<00:13,  2.30s/it]\u001b[A\n",
      "Epoch 5:  98%|█████████▊| 216/220 [07:52<00:08,  2.19s/it, loss=0.918, v_num=1859877]\n",
      "Validating:  80%|████████  | 16/20 [00:33<00:07,  1.98s/it]\u001b[A\n",
      "Epoch 5:  99%|█████████▉| 218/220 [07:55<00:04,  2.18s/it, loss=0.918, v_num=1859877]\n",
      "Validating:  90%|█████████ | 18/20 [00:38<00:04,  2.13s/it]\u001b[A\n",
      "Epoch 5: 100%|██████████| 220/220 [08:01<00:00,  2.19s/it, loss=0.918, v_num=1859877]\n",
      "Epoch 5: 100%|██████████| 220/220 [08:03<00:00,  2.20s/it, loss=0.918, v_num=1859877]\n",
      "Epoch 6:  91%|█████████ | 200/220 [07:21<00:44,  2.21s/it, loss=0.918, v_num=1859877]\n",
      "Validating: 0it [00:00, ?it/s]\u001b[A\n",
      "Validating:   0%|          | 0/20 [00:00<?, ?it/s]\u001b[A\n",
      "Epoch 6:  92%|█████████▏| 202/220 [07:23<00:39,  2.20s/it, loss=0.918, v_num=1859877]\n",
      "Validating:  10%|█         | 2/20 [00:03<00:33,  1.87s/it]\u001b[A\n",
      "Epoch 6:  93%|█████████▎| 204/220 [07:28<00:35,  2.20s/it, loss=0.918, v_num=1859877]\n",
      "Validating:  20%|██        | 4/20 [00:08<00:37,  2.33s/it]\u001b[A\n",
      "Epoch 6:  94%|█████████▎| 206/220 [07:32<00:30,  2.20s/it, loss=0.918, v_num=1859877]\n",
      "Validating:  30%|███       | 6/20 [00:13<00:30,  2.20s/it]\u001b[A\n",
      "Epoch 6:  95%|█████████▍| 208/220 [07:36<00:26,  2.20s/it, loss=0.918, v_num=1859877]\n",
      "Validating:  40%|████      | 8/20 [00:16<00:23,  1.98s/it]\u001b[A\n",
      "Epoch 6:  95%|█████████▌| 210/220 [07:41<00:21,  2.20s/it, loss=0.918, v_num=1859877]\n",
      "Validating:  50%|█████     | 10/20 [00:21<00:20,  2.04s/it]\u001b[A\n",
      "Epoch 6:  96%|█████████▋| 212/220 [07:44<00:17,  2.19s/it, loss=0.918, v_num=1859877]\n",
      "Validating:  60%|██████    | 12/20 [00:25<00:17,  2.23s/it]\u001b[A\n",
      "Epoch 6:  97%|█████████▋| 214/220 [07:50<00:13,  2.20s/it, loss=0.918, v_num=1859877]\n",
      "Validating:  70%|███████   | 14/20 [00:30<00:13,  2.31s/it]\u001b[A\n",
      "Epoch 6:  98%|█████████▊| 216/220 [07:54<00:08,  2.20s/it, loss=0.918, v_num=1859877]\n",
      "Validating:  80%|████████  | 16/20 [00:34<00:07,  1.99s/it]\u001b[A\n",
      "Epoch 6:  99%|█████████▉| 218/220 [07:57<00:04,  2.19s/it, loss=0.918, v_num=1859877]\n",
      "Validating:  90%|█████████ | 18/20 [00:38<00:04,  2.17s/it]\u001b[A\n",
      "Epoch 6: 100%|██████████| 220/220 [08:03<00:00,  2.20s/it, loss=0.918, v_num=1859877]\n",
      "Epoch 6: 100%|██████████| 220/220 [08:05<00:00,  2.20s/it, loss=0.918, v_num=1859877]\n",
      "Epoch 7:  91%|█████████ | 200/220 [07:23<00:44,  2.22s/it, loss=0.918, v_num=1859877]\n",
      "Validating: 0it [00:00, ?it/s]\u001b[A\n",
      "Validating:   0%|          | 0/20 [00:00<?, ?it/s]\u001b[A\n",
      "Epoch 7:  92%|█████████▏| 202/220 [07:25<00:39,  2.20s/it, loss=0.918, v_num=1859877]\n",
      "Validating:  10%|█         | 2/20 [00:03<00:33,  1.85s/it]\u001b[A\n",
      "Epoch 7:  93%|█████████▎| 204/220 [07:30<00:35,  2.21s/it, loss=0.918, v_num=1859877]\n",
      "Validating:  20%|██        | 4/20 [00:08<00:36,  2.30s/it]\u001b[A\n",
      "Epoch 7:  94%|█████████▎| 206/220 [07:34<00:30,  2.21s/it, loss=0.918, v_num=1859877]\n",
      "Validating:  30%|███       | 6/20 [00:13<00:30,  2.19s/it]\u001b[A\n",
      "Epoch 7:  95%|█████████▍| 208/220 [07:38<00:26,  2.20s/it, loss=0.918, v_num=1859877]\n",
      "Validating:  40%|████      | 8/20 [00:16<00:23,  1.97s/it]\u001b[A\n",
      "Epoch 7:  95%|█████████▌| 210/220 [07:42<00:22,  2.20s/it, loss=0.918, v_num=1859877]\n",
      "Validating:  50%|█████     | 10/20 [00:21<00:20,  2.03s/it]\u001b[A\n",
      "Epoch 7:  96%|█████████▋| 212/220 [07:46<00:17,  2.20s/it, loss=0.918, v_num=1859877]\n",
      "Validating:  60%|██████    | 12/20 [00:25<00:18,  2.26s/it]\u001b[A\n",
      "Epoch 7:  97%|█████████▋| 214/220 [07:52<00:13,  2.21s/it, loss=0.918, v_num=1859877]\n",
      "Validating:  70%|███████   | 14/20 [00:30<00:14,  2.34s/it]\u001b[A\n",
      "Epoch 7:  98%|█████████▊| 216/220 [07:56<00:08,  2.20s/it, loss=0.918, v_num=1859877]\n",
      "Validating:  80%|████████  | 16/20 [00:34<00:07,  1.98s/it]\u001b[A\n",
      "Epoch 7:  99%|█████████▉| 218/220 [07:59<00:04,  2.20s/it, loss=0.918, v_num=1859877]\n",
      "Validating:  90%|█████████ | 18/20 [00:38<00:04,  2.12s/it]\u001b[A\n",
      "Epoch 7: 100%|██████████| 220/220 [08:04<00:00,  2.20s/it, loss=0.918, v_num=1859877]\n",
      "Epoch 7: 100%|██████████| 220/220 [08:06<00:00,  2.21s/it, loss=0.918, v_num=1859877]\n",
      "Epoch 8:  91%|█████████ | 200/220 [07:19<00:43,  2.20s/it, loss=0.918, v_num=1859877]\n",
      "Validating: 0it [00:00, ?it/s]\u001b[A\n",
      "Validating:   0%|          | 0/20 [00:00<?, ?it/s]\u001b[A\n",
      "Epoch 8:  92%|█████████▏| 202/220 [07:20<00:39,  2.18s/it, loss=0.918, v_num=1859877]\n",
      "Validating:  10%|█         | 2/20 [00:03<00:33,  1.85s/it]\u001b[A\n",
      "Epoch 8:  93%|█████████▎| 204/220 [07:25<00:34,  2.19s/it, loss=0.918, v_num=1859877]\n",
      "Validating:  20%|██        | 4/20 [00:08<00:37,  2.32s/it]\u001b[A\n",
      "Epoch 8:  94%|█████████▎| 206/220 [07:30<00:30,  2.18s/it, loss=0.918, v_num=1859877]\n",
      "Validating:  30%|███       | 6/20 [00:13<00:30,  2.18s/it]\u001b[A\n",
      "Epoch 8:  95%|█████████▍| 208/220 [07:33<00:26,  2.18s/it, loss=0.918, v_num=1859877]\n",
      "Validating:  40%|████      | 8/20 [00:16<00:23,  1.93s/it]\u001b[A\n",
      "Epoch 8:  95%|█████████▌| 210/220 [07:38<00:21,  2.18s/it, loss=0.918, v_num=1859877]\n",
      "Validating:  50%|█████     | 10/20 [00:20<00:19,  1.99s/it]\u001b[A\n",
      "Epoch 8:  96%|█████████▋| 212/220 [07:41<00:17,  2.18s/it, loss=0.918, v_num=1859877]\n",
      "Validating:  60%|██████    | 12/20 [00:25<00:17,  2.18s/it]\u001b[A\n",
      "Epoch 8:  97%|█████████▋| 214/220 [07:47<00:13,  2.18s/it, loss=0.918, v_num=1859877]\n",
      "Validating:  70%|███████   | 14/20 [00:30<00:13,  2.27s/it]\u001b[A\n",
      "Epoch 8:  98%|█████████▊| 216/220 [07:51<00:08,  2.18s/it, loss=0.918, v_num=1859877]\n",
      "Validating:  80%|████████  | 16/20 [00:33<00:07,  1.96s/it]\u001b[A\n",
      "Epoch 8:  99%|█████████▉| 218/220 [07:54<00:04,  2.18s/it, loss=0.918, v_num=1859877]\n",
      "Validating:  90%|█████████ | 18/20 [00:38<00:04,  2.14s/it]\u001b[A\n",
      "Epoch 8: 100%|██████████| 220/220 [07:59<00:00,  2.18s/it, loss=0.918, v_num=1859877]\n",
      "Epoch 8: 100%|██████████| 220/220 [08:01<00:00,  2.19s/it, loss=0.918, v_num=1859877]\n",
      "Epoch 9:  91%|█████████ | 200/220 [07:15<00:43,  2.18s/it, loss=0.918, v_num=1859877]\n",
      "Validating: 0it [00:00, ?it/s]\u001b[A\n",
      "Validating:   0%|          | 0/20 [00:00<?, ?it/s]\u001b[A\n",
      "Epoch 9:  92%|█████████▏| 202/220 [07:17<00:38,  2.17s/it, loss=0.918, v_num=1859877]\n",
      "Validating:  10%|█         | 2/20 [00:03<00:33,  1.84s/it]\u001b[A\n",
      "Epoch 9:  93%|█████████▎| 204/220 [07:22<00:34,  2.17s/it, loss=0.918, v_num=1859877]\n",
      "Validating:  20%|██        | 4/20 [00:08<00:36,  2.29s/it]\u001b[A\n",
      "Epoch 9:  94%|█████████▎| 206/220 [07:26<00:30,  2.17s/it, loss=0.918, v_num=1859877]\n",
      "Validating:  30%|███       | 6/20 [00:13<00:30,  2.20s/it]\u001b[A\n",
      "Epoch 9:  95%|█████████▍| 208/220 [07:30<00:26,  2.17s/it, loss=0.918, v_num=1859877]\n",
      "Validating:  40%|████      | 8/20 [00:16<00:23,  1.99s/it]\u001b[A\n",
      "Epoch 9:  95%|█████████▌| 210/220 [07:35<00:21,  2.17s/it, loss=0.918, v_num=1859877]\n",
      "Validating:  50%|█████     | 10/20 [00:21<00:20,  2.06s/it]\u001b[A\n",
      "Epoch 9:  96%|█████████▋| 212/220 [07:39<00:17,  2.17s/it, loss=0.918, v_num=1859877]\n",
      "Validating:  60%|██████    | 12/20 [00:25<00:17,  2.24s/it]\u001b[A\n",
      "Epoch 9:  97%|█████████▋| 214/220 [07:44<00:13,  2.17s/it, loss=0.918, v_num=1859877]\n",
      "Validating:  70%|███████   | 14/20 [00:30<00:14,  2.34s/it]\u001b[A\n",
      "Epoch 9:  98%|█████████▊| 216/220 [07:48<00:08,  2.17s/it, loss=0.918, v_num=1859877]\n",
      "Validating:  80%|████████  | 16/20 [00:34<00:08,  2.00s/it]\u001b[A\n",
      "Epoch 9:  99%|█████████▉| 218/220 [07:51<00:04,  2.16s/it, loss=0.918, v_num=1859877]\n",
      "Validating:  90%|█████████ | 18/20 [00:38<00:04,  2.15s/it]\u001b[A\n",
      "Epoch 9: 100%|██████████| 220/220 [07:57<00:00,  2.17s/it, loss=0.918, v_num=1859877]\n",
      "Epoch 9: 100%|██████████| 220/220 [07:59<00:00,  2.18s/it, loss=0.918, v_num=1859877]\n",
      "Epoch 9: 100%|██████████| 220/220 [07:59<00:00,  2.18s/it, loss=0.918, v_num=1859877]\n"
     ]
    },
    {
     "data": {
      "text/plain": [
       "1"
      ]
     },
     "execution_count": 5,
     "metadata": {},
     "output_type": "execute_result"
    }
   ],
   "source": [
    "model = ECGNN(hparams)\n",
    "logger = TensorBoardLogger(\"tb_ecgnn_logs\",name = \"ecgnn\")\n",
    "trainer = Trainer(gpus=1, max_epochs=10,logger = logger)\n",
    "trainer.fit(model)"
   ]
  },
  {
   "cell_type": "code",
   "execution_count": 6,
   "metadata": {},
   "outputs": [
    {
     "name": "stderr",
     "output_type": "stream",
     "text": [
      "Set SLURM handle signals.\n"
     ]
    },
    {
     "name": "stdout",
     "output_type": "stream",
     "text": [
      "Testing:   0%|          | 0/20 [00:00<?, ?it/s]"
     ]
    },
    {
     "name": "stderr",
     "output_type": "stream",
     "text": [
      "/global/homes/j/jferguso/.conda/envs/exatrkx-tracking/lib/python3.8/site-packages/pytorch_lightning/utilities/distributed.py:50: UserWarning: The dataloader, test dataloader 0, does not have many workers which may be a bottleneck. Consider increasing the value of the `num_workers` argument` (try 80 which is the number of cpus on this machine) in the `DataLoader` init to improve performance.\n",
      "  warnings.warn(*args, **kwargs)\n"
     ]
    },
    {
     "name": "stdout",
     "output_type": "stream",
     "text": [
      "Testing: 100%|██████████| 20/20 [00:47<00:00,  2.37s/it]\n",
      "--------------------------------------------------------------------------------\n",
      "DATALOADER:0 TEST RESULTS\n",
      "{'current_lr': 0.00029999998514540493,\n",
      " 'eff': 0.5479669631512071,\n",
      " 'loss': 0.9258258938789368,\n",
      " 'truth': array([0., 1., 0., ..., 0., 1., 1.], dtype=float32),\n",
      " 'val_loss': 0.9154987931251526}\n",
      "--------------------------------------------------------------------------------\n",
      "[{'loss': 0.9258258938789368, 'eff': 0.5479669631512071, 'truth': array([0., 1., 0., ..., 0., 1., 1.], dtype=float32), 'val_loss': 0.9154987931251526, 'current_lr': 0.00029999998514540493}]\n"
     ]
    }
   ],
   "source": [
    "test_results = trainer.test(ckpt_path=None)\n",
    "print(test_results)"
   ]
  },
  {
   "cell_type": "code",
   "execution_count": 4,
   "metadata": {},
   "outputs": [
    {
     "data": {
      "text/html": [
       "\n",
       "      <iframe id=\"tensorboard-frame-9c289643db2d30c0\" width=\"100%\" height=\"800\" frameborder=\"0\">\n",
       "      </iframe>\n",
       "      <script>\n",
       "        (function() {\n",
       "          const frame = document.getElementById(\"tensorboard-frame-9c289643db2d30c0\");\n",
       "          const url = new URL(\"/\", window.location);\n",
       "          const port = 37763;\n",
       "          if (port) {\n",
       "            url.port = port;\n",
       "          }\n",
       "          frame.src = url;\n",
       "        })();\n",
       "      </script>\n",
       "    "
      ],
      "text/plain": [
       "<IPython.core.display.HTML object>"
      ]
     },
     "metadata": {},
     "output_type": "display_data"
    },
    {
     "data": {
      "text/html": [
       "<a href=\"https://jupyter.nersc.gov/user/jferguso/cori-shared-node-gpu/proxy/37763/\">https://jupyter.nersc.gov/user/jferguso/cori-shared-node-gpu/proxy/37763/</a>"
      ],
      "text/plain": [
       "<IPython.core.display.HTML object>"
      ]
     },
     "metadata": {},
     "output_type": "display_data"
    }
   ],
   "source": [
    "os.environ['TENSORBOARD_BINARY'] = \"/global/homes/j/jferguso/.conda/envs/exatrkx-tracking/bin/tensorboard\"\n",
    "%tensorboard --logdir tb_ecgnn_logs/ --port 0\n",
    "nersc_tensorboard_helper.tb_address()\n"
   ]
  },
  {
   "cell_type": "code",
   "execution_count": 3,
   "metadata": {},
   "outputs": [
    {
     "name": "stdout",
     "output_type": "stream",
     "text": [
      "/bin/bash: line 0: kill: (67561) - No such process\n"
     ]
    }
   ],
   "source": []
  },
  {
   "cell_type": "code",
   "execution_count": null,
   "metadata": {},
   "outputs": [],
   "source": []
  }
 ],
 "metadata": {
  "kernelspec": {
   "display_name": "exatrkx-tracking",
   "language": "python",
   "name": "exatrkx-tracking"
  },
  "language_info": {
   "codemirror_mode": {
    "name": "ipython",
    "version": 3
   },
   "file_extension": ".py",
   "mimetype": "text/x-python",
   "name": "python",
   "nbconvert_exporter": "python",
   "pygments_lexer": "ipython3",
   "version": "3.8.5"
  }
 },
 "nbformat": 4,
 "nbformat_minor": 4
}
